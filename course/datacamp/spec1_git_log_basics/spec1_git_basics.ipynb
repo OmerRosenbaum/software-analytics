{
 "cells": [
  {
   "cell_type": "markdown",
   "metadata": {},
   "source": [
    "# 1. Project info"
   ]
  },
  {
   "cell_type": "markdown",
   "metadata": {},
   "source": [
    "**Project title**: Explore Linux's evolution with Pandas\n",
    "\n",
    "**Name:** Markus Harrer\n",
    "\n",
    "**E-mail:** datacamp@markusharrer.de\n",
    "\n",
    "**GitHub username**: feststelltaste\n",
    "\n",
    "**Short description**: Explore the Git repository history of the Linux kernel to find out about the development of the most famous open-source operating system.\n",
    "\n",
    "#### Long description ####\n",
    "\n",
    "Version control repositories like CVS, Subversion or Git store rich evolution information about a software project. In this project, you'll be challenged to read in, clean up and visualize a real world Git log dataset of the Linux kernel. With almost 700k commits and thousands of contributors (find out the exact number in this project ;-) ) there are many little data cleaning and wrangling challenges that you'll encounter. But you'll also gain insights about the contribution habits of the committers over the last 15 years.\n",
    "\n",
    "For this Project, you need to be familiar with Pandas `DataFrame`, especially the `read_csv` and `groupby` functions as well as working with time series data.\n",
    "\n",
    "#### Datasets used ####\n",
    "\n",
    "We'll be using a plain Git log file of the [Linux kernel mirror on GitHub](https://github.com/torvalds/linux/).\n",
    "\n",
    "#### Assumed student background ####\n",
    "\n",
    "* Students will exploit the `DataFrame.read_csv()` function a little bit in this mini tutorial by using parameters that are very useful for processing header-less and compressed CSV files.\n",
    "* Next, some basic data cleaning skills are necessary. There are wrong timestamps as well as missing values in the dataset. This requires a simple `fillna()` and a filtering based on `DateTimeIndex`es. There are also multiple author names for on person in the dataset. Students should spot and correct these data problems for the TOP 5 committers.\n",
    "* Last, we `groupby()` the `DataFrame` by months and visualize the result via a `matplotlib` `bar` chart.\n",
    "\n",
    "In general, this is an entry level analysis that includes also information about how to get a Git log from your repository."
   ]
  },
  {
   "cell_type": "markdown",
   "metadata": {},
   "source": [
    "# 2. Project narrative intro"
   ]
  },
  {
   "cell_type": "markdown",
   "metadata": {},
   "source": [
    "## 1. Read in a Git log file"
   ]
  },
  {
   "cell_type": "markdown",
   "metadata": {},
   "source": [
    "Version control repositories like CSV, Subversion or Git can be a real gold mine for software developers. They contain every change to the source code including the date (the \"when\"), the responsible developers (the \"who\") as well as a little message that describes the intention (the \"what\") of a change.\n",
    "\n",
    "In this DataCamp Project, we take the first steps to get some insights into the evolution of a very famous open-source project &ndash; the Linux kernel. Let's dive quickly into the life of a Linux kernel developer by reading the introduction of the developers's guide ([source](https://github.com/torvalds/linux/blob/master/Documentation/process/1.Intro.rst#what-this-document-is-about)):\n",
    "\n",
    "<img style=\"float: right;margin:5px 20px 5px 1px\" src=\"https://upload.wikimedia.org/wikipedia/commons/thumb/3/35/Tux.svg/204px-Tux.svg.png\">\n",
    "\n",
    "> The Linux kernel, at over 8 million lines of code and well over 1000 contributors to each release, is one of the largest and most active free software projects in existence. Since its humble beginning in 1991, this kernel has evolved into a best-of-breed operating system component which runs on pocket-sized digital music players, desktop PCs, the largest supercomputers in existence, and all types of systems in between. It is a robust, efficient, and scalable solution for almost any situation.\n",
    "\n",
    "Linus Torvalds, the (spoiler alert!) main contributor to the Linux kernel (and also the creator of Git), created a [mirror of the Linux repository on GitHub](https://github.com/torvalds/linux/). It contains the complete history of kernel development for the last 15 years . We'll use this Git repository to get some first insights into the work of the development efforts by \n",
    "\n",
    "* identifying the TOP 10 committers and\n",
    "* visualizing the commits over time.\n",
    "\n",
    "\n",
    "**The Dataset**\n",
    "\n",
    "I cloned the whole Git repository (~3.6 GB) from GitHub for you, exported the history of the relevant information into a text file with the command\n",
    "\n",
    "```bash\n",
    "git log --pretty=\"%at#%aN#%aE\" > git_log_basic.log\n",
    "```  \n",
    "\n",
    "and compressed it with `bzip2`. In the `./datasets` directory, you'll find the `bz2`-compressed version of this file named `git_log_basic.bz2`. It contains information about every single code contribution (a \"commit\") to the Linux kernel over the last 15 years.\n",
    "\n",
    "The entries of the (header-less) dataset look like this:\n",
    "\n",
    "```\n",
    "1501675595#Yoshihiro Shimoda#yoshihiro.shimoda.uh@renesas.com\n",
    "1500464230#Manu Gautam#mgautam@codeaurora.org\n",
    "1500945088#Shawn Lin#shawn.lin@rock-chips.com\n",
    "1501077766#Ludovic Desroches#ludovic.desroches@microchip.com\n",
    "1499173119#Andy Shevchenko#andriy.shevchenko@linux.intel.com\n",
    "```\n",
    "\n",
    "Each line consists of some basic information of a commit:\n",
    "* `timestamp`: the time of the commit as a UNIX timestamp in seconds (Git log placeholder \"`%at`\")\n",
    "* `author`: the name of the author that performed the commit (Git log placeholder \"`%aN`\")\n",
    "* `email`: the author's email address (Git log placeholder \"`%aE`\")\n",
    "\n",
    "The columns are separated by the number sign `#`.\n",
    "\n",
    "Let's read in the Git log file with Pandas and the hints from above!"
   ]
  },
  {
   "cell_type": "code",
   "execution_count": 1,
   "metadata": {},
   "outputs": [
    {
     "data": {
      "text/html": [
       "<div>\n",
       "<style>\n",
       "    .dataframe thead tr:only-child th {\n",
       "        text-align: right;\n",
       "    }\n",
       "\n",
       "    .dataframe thead th {\n",
       "        text-align: left;\n",
       "    }\n",
       "\n",
       "    .dataframe tbody tr th {\n",
       "        vertical-align: top;\n",
       "    }\n",
       "</style>\n",
       "<table border=\"1\" class=\"dataframe\">\n",
       "  <thead>\n",
       "    <tr style=\"text-align: right;\">\n",
       "      <th></th>\n",
       "      <th>timestamp</th>\n",
       "      <th>author</th>\n",
       "      <th>email</th>\n",
       "    </tr>\n",
       "  </thead>\n",
       "  <tbody>\n",
       "    <tr>\n",
       "      <th>0</th>\n",
       "      <td>1502826583</td>\n",
       "      <td>Linus Torvalds</td>\n",
       "      <td>torvalds@linux-foundation.org</td>\n",
       "    </tr>\n",
       "    <tr>\n",
       "      <th>1</th>\n",
       "      <td>1502741399</td>\n",
       "      <td>Linus Torvalds</td>\n",
       "      <td>torvalds@linux-foundation.org</td>\n",
       "    </tr>\n",
       "    <tr>\n",
       "      <th>2</th>\n",
       "      <td>1502735756</td>\n",
       "      <td>Linus Torvalds</td>\n",
       "      <td>torvalds@linux-foundation.org</td>\n",
       "    </tr>\n",
       "    <tr>\n",
       "      <th>3</th>\n",
       "      <td>1502665292</td>\n",
       "      <td>Linus Torvalds</td>\n",
       "      <td>torvalds@linux-foundation.org</td>\n",
       "    </tr>\n",
       "    <tr>\n",
       "      <th>4</th>\n",
       "      <td>1502663668</td>\n",
       "      <td>Linus Torvalds</td>\n",
       "      <td>torvalds@linux-foundation.org</td>\n",
       "    </tr>\n",
       "  </tbody>\n",
       "</table>\n",
       "</div>"
      ],
      "text/plain": [
       "    timestamp          author                          email\n",
       "0  1502826583  Linus Torvalds  torvalds@linux-foundation.org\n",
       "1  1502741399  Linus Torvalds  torvalds@linux-foundation.org\n",
       "2  1502735756  Linus Torvalds  torvalds@linux-foundation.org\n",
       "3  1502665292  Linus Torvalds  torvalds@linux-foundation.org\n",
       "4  1502663668  Linus Torvalds  torvalds@linux-foundation.org"
      ]
     },
     "execution_count": 1,
     "metadata": {},
     "output_type": "execute_result"
    }
   ],
   "source": [
    "import pandas as pd\n",
    "\n",
    "FILE_PATH = \"datasets/git_log_basic.bz2\"\n",
    "\n",
    "log_raw = pd.read_csv(\n",
    "    FILE_PATH,\n",
    "    sep=\"#\",\n",
    "    compression=\"bz2\", #optional\n",
    "    header=None,\n",
    "    names=['timestamp', 'author', 'email']\n",
    ")\n",
    "\n",
    "log_raw.head()"
   ]
  },
  {
   "cell_type": "markdown",
   "metadata": {},
   "source": [
    "## 2. Get familiar with the data"
   ]
  },
  {
   "cell_type": "markdown",
   "metadata": {},
   "source": [
    "Let's get familiar with the data we are talking about by going through some metrics."
   ]
  },
  {
   "cell_type": "code",
   "execution_count": 2,
   "metadata": {},
   "outputs": [
    {
     "name": "stdout",
     "output_type": "stream",
     "text": [
      "\n",
      "--- # commits ---\n",
      "692885\n",
      "\n",
      "--- TOP 10 committers ---\n",
      "Linus Torvalds           23361\n",
      "David S. Miller           8994\n",
      "Mark Brown                6796\n",
      "Takashi Iwai              6206\n",
      "Al Viro                   5993\n",
      "H Hartley Sweeten         5931\n",
      "Ingo Molnar               5324\n",
      "Mauro Carvalho Chehab     5172\n",
      "Arnd Bergmann             4818\n",
      "Greg Kroah-Hartman        4556\n",
      "Name: author, dtype: int64\n",
      "\n",
      "--- # contributors ---\n",
      "17258\n"
     ]
    }
   ],
   "source": [
    "# How many commits are we looking at?\n",
    "print(\"\\n--- # commits ---\")\n",
    "print(len(log_raw))\n",
    "\n",
    "\n",
    "# Which are the TOP 10 authors of the (still dirty) dataset?\n",
    "print(\"\\n--- TOP 10 committers ---\")\n",
    "print(log_raw['author'].value_counts().head(10))\n",
    "\n",
    "\n",
    "# How many authors contributed to the Linux kernel so far?\n",
    "print(\"\\n--- # contributors ---\")\n",
    "print(len(log_raw['author'].value_counts()))"
   ]
  },
  {
   "cell_type": "markdown",
   "metadata": {},
   "source": [
    "## 3. Wrangling the data"
   ]
  },
  {
   "cell_type": "markdown",
   "metadata": {},
   "source": [
    "We've got some impressive numbers, haven't we? You did realize how fast your computer processed the data? That's number crunching at it's best :-)\n",
    "\n",
    "\n",
    "OK, let's prepare our `DataFrame` for some time series analysis. Rearrange the existing `log_raw` `DataFrame` into a `log_timed` `DataFrame` that uses the `timestamp` data (which has \"seconds\" as unit) as `DatetimeIndex`. Take a look at the results of `index`'s `summary()`, too. Is there anything odd?"
   ]
  },
  {
   "cell_type": "code",
   "execution_count": 3,
   "metadata": {},
   "outputs": [
    {
     "data": {
      "text/plain": [
       "'DatetimeIndex: 692885 entries, 1970-01-01 00:00:01 to 2037-04-25 08:08:26'"
      ]
     },
     "execution_count": 3,
     "metadata": {},
     "output_type": "execute_result"
    }
   ],
   "source": [
    "log_raw['timestamp'] = pd.to_datetime(log_raw['timestamp'], unit=\"s\")\n",
    "log_timed = log_raw.set_index('timestamp').sort_index()\n",
    "log_timed.index.summary()"
   ]
  },
  {
   "cell_type": "markdown",
   "metadata": {},
   "source": [
    "*Stop here! Only the three first tasks :)*"
   ]
  }
 ],
 "metadata": {
  "kernelspec": {
   "display_name": "Python 3",
   "language": "python",
   "name": "python3"
  },
  "language_info": {
   "codemirror_mode": {
    "name": "ipython",
    "version": 3
   },
   "file_extension": ".py",
   "mimetype": "text/x-python",
   "name": "python",
   "nbconvert_exporter": "python",
   "pygments_lexer": "ipython3",
   "version": "3.6.1"
  }
 },
 "nbformat": 4,
 "nbformat_minor": 2
}
