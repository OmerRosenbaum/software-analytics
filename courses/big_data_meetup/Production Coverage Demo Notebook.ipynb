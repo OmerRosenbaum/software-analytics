{
 "cells": [
  {
   "cell_type": "markdown",
   "metadata": {},
   "source": [
    "# Context\n",
    "John Doe remarked in [#AP1432](http://www.example.com/justalink) that there may be too much code in our application that isn't used at all. Before migrating the application to the new platform, we have to analyze which parts of the system are still in use and which are not."
   ]
  },
  {
   "cell_type": "markdown",
   "metadata": {},
   "source": [
    "# Idea\n",
    "To understand how much code isn't used, we recorded the executed code in production with the coverage tool [JaCoCo](http://www.jacoco.org/). The measurement took place between 21st Oct 2017 and 27st Oct 2017. The results were exported into a CSV file using the JaCoCo command line tool with the following command:\n",
    "\n",
    "```bash\n",
    "java -jar jacococli.jar report \"C:\\Temp\\jacoco.exec\" --classfiles \\\n",
    "C:\\dev\\repos\\buschmais-spring-petclinic\\target\\classes --csv jacoco.csv\n",
    "```\n",
    "\n",
    "The CSV file contains all lines of code that were passed through during the measurement's time span. We just take the relevant data and add an additional `LINES` column to be able to calculate the ratio between covered and missed lines later on."
   ]
  },
  {
   "cell_type": "code",
   "execution_count": 1,
   "metadata": {},
   "outputs": [
    {
     "data": {
      "text/html": [
       "<div>\n",
       "<style scoped>\n",
       "    .dataframe tbody tr th:only-of-type {\n",
       "        vertical-align: middle;\n",
       "    }\n",
       "\n",
       "    .dataframe tbody tr th {\n",
       "        vertical-align: top;\n",
       "    }\n",
       "\n",
       "    .dataframe thead th {\n",
       "        text-align: right;\n",
       "    }\n",
       "</style>\n",
       "<table border=\"1\" class=\"dataframe\">\n",
       "  <thead>\n",
       "    <tr style=\"text-align: right;\">\n",
       "      <th></th>\n",
       "      <th>PACKAGE</th>\n",
       "      <th>CLASS</th>\n",
       "      <th>LINE_COVERED</th>\n",
       "      <th>LINE_MISSED</th>\n",
       "      <th>LINES</th>\n",
       "    </tr>\n",
       "  </thead>\n",
       "  <tbody>\n",
       "    <tr>\n",
       "      <th>0</th>\n",
       "      <td>org.springframework.samples.petclinic</td>\n",
       "      <td>PetclinicInitializer</td>\n",
       "      <td>24</td>\n",
       "      <td>0</td>\n",
       "      <td>24</td>\n",
       "    </tr>\n",
       "  </tbody>\n",
       "</table>\n",
       "</div>"
      ],
      "text/plain": [
       "                                 PACKAGE                 CLASS  LINE_COVERED  \\\n",
       "0  org.springframework.samples.petclinic  PetclinicInitializer            24   \n",
       "\n",
       "   LINE_MISSED  LINES  \n",
       "0            0     24  "
      ]
     },
     "execution_count": 1,
     "metadata": {},
     "output_type": "execute_result"
    }
   ],
   "source": [
    "import pandas as pd\n",
    "coverage = pd.read_csv(\"datasets/jacoco.csv\")\n",
    "coverage = coverage[['PACKAGE', 'CLASS', 'LINE_COVERED' ,'LINE_MISSED']]\n",
    "coverage['LINES'] = coverage.LINE_COVERED + coverage.LINE_MISSED\n",
    "coverage.head(1)"
   ]
  },
  {
   "cell_type": "markdown",
   "metadata": {},
   "source": [
    "# Analysis\n",
    "It was stated that whole packages wouldn't be needed anymore and that they could be safely removed. Therefore, we sum up the coverage data per class for each package and calculate the coverage ratio for each package."
   ]
  },
  {
   "cell_type": "code",
   "execution_count": 2,
   "metadata": {},
   "outputs": [
    {
     "data": {
      "text/html": [
       "<div>\n",
       "<style scoped>\n",
       "    .dataframe tbody tr th:only-of-type {\n",
       "        vertical-align: middle;\n",
       "    }\n",
       "\n",
       "    .dataframe tbody tr th {\n",
       "        vertical-align: top;\n",
       "    }\n",
       "\n",
       "    .dataframe thead th {\n",
       "        text-align: right;\n",
       "    }\n",
       "</style>\n",
       "<table border=\"1\" class=\"dataframe\">\n",
       "  <thead>\n",
       "    <tr style=\"text-align: right;\">\n",
       "      <th></th>\n",
       "      <th>LINE_COVERED</th>\n",
       "      <th>LINE_MISSED</th>\n",
       "      <th>LINES</th>\n",
       "      <th>RATIO</th>\n",
       "    </tr>\n",
       "    <tr>\n",
       "      <th>PACKAGE</th>\n",
       "      <th></th>\n",
       "      <th></th>\n",
       "      <th></th>\n",
       "      <th></th>\n",
       "    </tr>\n",
       "  </thead>\n",
       "  <tbody>\n",
       "    <tr>\n",
       "      <th>org.springframework.samples.petclinic.repository.jdbc</th>\n",
       "      <td>0</td>\n",
       "      <td>150</td>\n",
       "      <td>150</td>\n",
       "      <td>0.000000</td>\n",
       "    </tr>\n",
       "    <tr>\n",
       "      <th>org.springframework.samples.petclinic.util</th>\n",
       "      <td>13</td>\n",
       "      <td>17</td>\n",
       "      <td>30</td>\n",
       "      <td>0.433333</td>\n",
       "    </tr>\n",
       "    <tr>\n",
       "      <th>org.springframework.samples.petclinic.web</th>\n",
       "      <td>75</td>\n",
       "      <td>40</td>\n",
       "      <td>115</td>\n",
       "      <td>0.652174</td>\n",
       "    </tr>\n",
       "    <tr>\n",
       "      <th>org.springframework.samples.petclinic.model</th>\n",
       "      <td>75</td>\n",
       "      <td>33</td>\n",
       "      <td>108</td>\n",
       "      <td>0.694444</td>\n",
       "    </tr>\n",
       "    <tr>\n",
       "      <th>org.springframework.samples.petclinic.repository.jpa</th>\n",
       "      <td>21</td>\n",
       "      <td>7</td>\n",
       "      <td>28</td>\n",
       "      <td>0.750000</td>\n",
       "    </tr>\n",
       "    <tr>\n",
       "      <th>org.springframework.samples.petclinic.service</th>\n",
       "      <td>16</td>\n",
       "      <td>2</td>\n",
       "      <td>18</td>\n",
       "      <td>0.888889</td>\n",
       "    </tr>\n",
       "    <tr>\n",
       "      <th>org.springframework.samples.petclinic</th>\n",
       "      <td>24</td>\n",
       "      <td>0</td>\n",
       "      <td>24</td>\n",
       "      <td>1.000000</td>\n",
       "    </tr>\n",
       "  </tbody>\n",
       "</table>\n",
       "</div>"
      ],
      "text/plain": [
       "                                                    LINE_COVERED  LINE_MISSED  \\\n",
       "PACKAGE                                                                         \n",
       "org.springframework.samples.petclinic.repositor...             0          150   \n",
       "org.springframework.samples.petclinic.util                    13           17   \n",
       "org.springframework.samples.petclinic.web                     75           40   \n",
       "org.springframework.samples.petclinic.model                   75           33   \n",
       "org.springframework.samples.petclinic.repositor...            21            7   \n",
       "org.springframework.samples.petclinic.service                 16            2   \n",
       "org.springframework.samples.petclinic                         24            0   \n",
       "\n",
       "                                                    LINES     RATIO  \n",
       "PACKAGE                                                              \n",
       "org.springframework.samples.petclinic.repositor...    150  0.000000  \n",
       "org.springframework.samples.petclinic.util             30  0.433333  \n",
       "org.springframework.samples.petclinic.web             115  0.652174  \n",
       "org.springframework.samples.petclinic.model           108  0.694444  \n",
       "org.springframework.samples.petclinic.repositor...     28  0.750000  \n",
       "org.springframework.samples.petclinic.service          18  0.888889  \n",
       "org.springframework.samples.petclinic                  24  1.000000  "
      ]
     },
     "execution_count": 2,
     "metadata": {},
     "output_type": "execute_result"
    }
   ],
   "source": [
    "grouped_by_packages = coverage.groupby(\"PACKAGE\").sum()\n",
    "grouped_by_packages['RATIO'] = grouped_by_packages.LINE_COVERED / grouped_by_packages.LINES\n",
    "grouped_by_packages = grouped_by_packages.sort_values(by='RATIO')\n",
    "grouped_by_packages"
   ]
  },
  {
   "cell_type": "markdown",
   "metadata": {},
   "source": [
    "We plot the data for the coverage ratio to get a brief overview of the result."
   ]
  },
  {
   "cell_type": "code",
   "execution_count": 3,
   "metadata": {},
   "outputs": [
    {
     "data": {
      "text/plain": [
       "<matplotlib.axes._subplots.AxesSubplot at 0x23432088160>"
      ]
     },
     "execution_count": 3,
     "metadata": {},
     "output_type": "execute_result"
    },
    {
     "data": {
      "image/png": "[encoded data removed]",
      "text/plain": [
       "<matplotlib.figure.Figure at 0x2343207b5c0>"
      ]
     },
     "metadata": {},
     "output_type": "display_data"
    }
   ],
   "source": [
    "%matplotlib inline\n",
    "grouped_by_packages[['RATIO']].plot(kind=\"barh\", figsize=(8,2))"
   ]
  },
  {
   "cell_type": "markdown",
   "metadata": {},
   "source": [
    "# Conclusion \n",
    "The JDBC package `org.springframework.samples.petclinic.repository.jdbc` isn't used at all and can be left out safely when migrating to the new platform."
   ]
  }
 ],
 "metadata": {
  "hide_input": false,
  "kernelspec": {
   "display_name": "Python 3",
   "language": "python",
   "name": "python3"
  },
  "language_info": {
   "codemirror_mode": {
    "name": "ipython",
    "version": 3
   },
   "file_extension": ".py",
   "mimetype": "text/x-python",
   "name": "python",
   "nbconvert_exporter": "python",
   "pygments_lexer": "ipython3",
   "version": "3.6.4"
  },
  "toc": {
   "nav_menu": {},
   "number_sections": true,
   "sideBar": true,
   "skip_h1_title": false,
   "toc_cell": false,
   "toc_position": {},
   "toc_section_display": "block",
   "toc_window_display": false
  }
 },
 "nbformat": 4,
 "nbformat_minor": 2
}
