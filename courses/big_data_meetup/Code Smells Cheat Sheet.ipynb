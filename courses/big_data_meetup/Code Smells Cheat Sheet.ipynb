{
 "cells": [
  {
   "cell_type": "markdown",
   "metadata": {},
   "source": [
    "_Dies ist ein Spickzettel für diverse jQAssistant / Cypher Codeschnipsel_"
   ]
  },
  {
   "cell_type": "code",
   "execution_count": null,
   "metadata": {},
   "outputs": [],
   "source": []
  },
  {
   "cell_type": "markdown",
   "metadata": {},
   "source": [
    "# jQAssistant Demos\n",
    "* Neo4j-Server starten\n",
    "** `mvn jqassistant:server`\n",
    "* Browser öffnen\n",
    "** http://localhost:7474/browser/\n",
    "* Drawer öffnen\n",
    "* Labels durchklicken\n",
    "** `Commit`\n",
    "** `Class`\n",
    "** `:DECLARES`\n",
    "\n",
    "* Beispielqueries\n",
    "** jQAssistant Dokumentation: http://buschmais.github.io/jqassistant/doc/1.3.0/#_java_plugin\n",
    "\n",
    "**Infos über Verbindungen eines Knoten**\n",
    "```cypher\n",
    "MATCH\n",
    "  (c:Class {name:\"Pet\"})-[outgoing]->(out)\n",
    "RETURN c.name as Klasse,  labels(c) as KlassenLabels, \"-[:\" + type(outgoing) + \"]->\" as Verbindungstyp, count(outgoing) as Anzahl, labels(out) as KnotenLabels\n",
    "ORDER BY Anzahl DESC, Verbindungstyp\n",
    "UNION\n",
    "MATCH \n",
    "  (in)-[incoming]->(c:Class {name:\"Pet\"})\n",
    "RETURN c.name as Klasse, labels(c) as KlassenLabels,  \"<-[:\" + type(incoming) + \"]-\" as Verbindungstyp, count(incoming) as Anzahl, labels(in) as KnotenLabels\n",
    "ORDER BY Anzahl DESC, Verbindungstyp\n",
    "```\n",
    "\n",
    "\n",
    "**Klasse mit den meisten Methoden**\n",
    "```cypher\n",
    "MATCH \n",
    "  (c:Class)-[:DECLARES]->(m:Method)\n",
    "RETURN c.fqn as Klasse, COUNT(m.signature) as Methoden\n",
    "ORDER BY Methoden DESC\n",
    "```\n",
    "**Rekursive Aufrufe**\n",
    "```cypher\n",
    "MATCH\n",
    "  (c:Class)-[:DECLARES]->(m:Method)-[:INVOKES*1..5]->(m)\n",
    "RETURN c, m\n",
    "```\n",
    "\n",
    "**Rekursive Aufrufe zur Datenbank**\n",
    "```cypher\n",
    "MATCH \n",
    "  (m:Method)-[:INVOKES*]->(m)-[:INVOKES]->(dbMethod:Method),\n",
    "  (dbMethod)<-[:DECLARES]-(dbClass:Class)\n",
    "WHERE dbClass.name ENDS WITH \"Database\"\n",
    "RETURN m, dbMethod, dbClass\n",
    "```\n",
    "**Statische, geschriebene Variablen**\n",
    "```cypher\n",
    "MATCH (c:Class)-[:DECLARES]->(f:Field)<-[w:WRITES]-(m:Method)\n",
    "WHERE \n",
    "    EXISTS(f.static) AND NOT EXISTS(f.final)\n",
    "RETURN \n",
    "    c.name as InClass, \n",
    "    m.name as theMethod, \n",
    "    w.lineNumber as writesInLine, \n",
    "    f.name as toStaticField\n",
    "```\n",
    "* Analyse Notebook zeigen"
   ]
  },
  {
   "cell_type": "code",
   "execution_count": null,
   "metadata": {},
   "outputs": [],
   "source": []
  }
 ],
 "metadata": {
  "kernelspec": {
   "display_name": "Python 3",
   "language": "python",
   "name": "python3"
  },
  "language_info": {
   "codemirror_mode": {
    "name": "ipython",
    "version": 3
   },
   "file_extension": ".py",
   "mimetype": "text/x-python",
   "name": "python",
   "nbconvert_exporter": "python",
   "pygments_lexer": "ipython3",
   "version": "3.6.4"
  }
 },
 "nbformat": 4,
 "nbformat_minor": 2
}
