{
 "cells": [
  {
   "cell_type": "markdown",
   "metadata": {},
   "source": [
    "Zuallerst sehen wir uns Jupyter genauer an. Das hier ist Jupyter, die interaktive Notebook-Umgebung zum Programmieren. Wir sehen hier eine Zelle, in der wir Python-Code eingeben können. Geben wir einfach einmal einen String namens `\"Hello World\"` ein. Mit der Tastenkombination `Strg` + `Enter` können wir die Zelle ausführen."
   ]
  },
  {
   "cell_type": "code",
   "execution_count": 490,
   "metadata": {},
   "outputs": [
    {
     "data": {
      "text/plain": [
       "'Hello World'"
      ]
     },
     "execution_count": 490,
     "metadata": {},
     "output_type": "execute_result"
    }
   ],
   "source": [
    "\"Hello World\""
   ]
  },
  {
   "cell_type": "markdown",
   "metadata": {},
   "source": [
    "Das Ergebnis ist sofort unter der Zelle sichtbar. Legen wir nun eine weitere Zelle an. Dies funktioniert mit dem Drücken der Taste `ESC` und einem darauffolgendem Buchstaben `b`.\n",
    "\n",
    "Hier sehen wir gleich eine wichtige Eigenheit von Jupyter: Die Unterscheidung zwischen Befehlsmodus (erreichbar über Taste `Esc`) und dem Eingabemodus (erreichbar über die Taste `Enter`). Im Befehlsmodus ist die Umrahmung der aktuellen Zelle blau. Im Eingabemodus wird die Umrahmung grün. Gehen wir in den Befehlsmodus und drücken `m`. Dies ändert den Zelltyp. Die aktuelle Zelle ist nun eine Markdown-Zelle. Markdown ist eine einfache Markup-Sprache, mit der Text geschrieben und formatiert werden kann."
   ]
  },
  {
   "cell_type": "markdown",
   "metadata": {},
   "source": [
    "# Los geht's\n",
    "* wir spielen mit Python\n",
    "* danach nehmen wir uns Pandas vor"
   ]
  },
  {
   "cell_type": "code",
   "execution_count": 492,
   "metadata": {},
   "outputs": [
    {
     "data": {
      "text/plain": [
       "'H'"
      ]
     },
     "execution_count": 492,
     "metadata": {},
     "output_type": "execute_result"
    }
   ],
   "source": [
    "text = \"Hello World!\"\n",
    "text[0]"
   ]
  },
  {
   "cell_type": "code",
   "execution_count": 493,
   "metadata": {},
   "outputs": [
    {
     "data": {
      "text/plain": [
       "'!'"
      ]
     },
     "execution_count": 493,
     "metadata": {},
     "output_type": "execute_result"
    }
   ],
   "source": [
    "text[-1]"
   ]
  },
  {
   "cell_type": "code",
   "execution_count": 495,
   "metadata": {},
   "outputs": [
    {
     "data": {
      "text/plain": [
       "'llo'"
      ]
     },
     "execution_count": 495,
     "metadata": {},
     "output_type": "execute_result"
    }
   ],
   "source": [
    "text[2:5]"
   ]
  },
  {
   "cell_type": "code",
   "execution_count": 499,
   "metadata": {},
   "outputs": [
    {
     "data": {
      "text/plain": [
       "'HELLO WORLD!'"
      ]
     },
     "execution_count": 499,
     "metadata": {},
     "output_type": "execute_result"
    }
   ],
   "source": [
    "text.upper()"
   ]
  },
  {
   "cell_type": "code",
   "execution_count": 500,
   "metadata": {},
   "outputs": [
    {
     "data": {
      "text/plain": [
       "['Hello', 'World!']"
      ]
     },
     "execution_count": 500,
     "metadata": {},
     "output_type": "execute_result"
    }
   ],
   "source": [
    "text.split(maxsplit=2, sep=\" \")"
   ]
  },
  {
   "cell_type": "markdown",
   "metadata": {},
   "source": [
    "In diesem Notebook wollen wir uns die Entwicklungsgeschichte des Spring Framework Beispielprojekts \"Spring PetClinic\" anhand der Historie des dazugehörigen Git-Repositories ein wenig genauer ansehen.\n",
    "\n",
    "Das GitHub-Repository https://github.com/spring-projects/spring-petclinic wurde dafür über den Befehl  \n",
    "\n",
    "```\n",
    "https://github.com/spring-projects/spring-petclinic.git\n",
    "```\n",
    "\n",
    "auf die lokale Festplatte geklont.\n",
    "\n",
    "Die für diese Auswertung relevanten Teile der Historie wurde mittels\n",
    "\n",
    "```\n",
    "git log --pretty=\"%ad,%aN\" --no-merges > timestamp_author.csv\n",
    "```\n",
    "exportiert. Dieser Befehl liefert pro Commit des Git-Repositories den Zeitstempel des Commits (`%ad`) sowie den Namen des Autors (`%aN`). Die jeweiligen Werte sind kommasepariert. Wir geben zusätzlich mit an, dass wir reine Merge-Commits nicht erhalten wollen (über `--no-merges`). Das Ergebnis der Ausgabe speichern wir in die Datei `timestamp_author.csv`."
   ]
  },
  {
   "cell_type": "markdown",
   "metadata": {},
   "source": [
    "Nun können wir diese Daten mit Hilfe des Datenanalyse-Frameworks Pandas einlesen. Wir importieren dazu `pandas` mit der gängigen Abkürzung `pd` mittels der `import ... as ...` Syntax von Pyhton."
   ]
  },
  {
   "cell_type": "code",
   "execution_count": null,
   "metadata": {},
   "outputs": [],
   "source": [
    "import pandas as pd"
   ]
  },
  {
   "cell_type": "markdown",
   "metadata": {},
   "source": [
    "Ob das Importieren des Moduls auch wirklich funktioniert hat, können wir prüfen, in dem wir mit dem `pd`-Modul arbeiten. Dazu hängen wir an die `pd`-Variable den `?` Operator an und führen die Zelle aus. Es erscheint die Dokumentation des Moduls im unteren Bereich des Notebooks. Diesen Bereich können wir durchlesen und mit der Taste `ESC` auch wieder verschwinden lassen."
   ]
  },
  {
   "cell_type": "code",
   "execution_count": null,
   "metadata": {},
   "outputs": [],
   "source": [
    "pd?"
   ]
  },
  {
   "cell_type": "markdown",
   "metadata": {},
   "source": [
    "Danach lesen wir die oben beschriebene CSV-Datei `timestamp_author.csv` ein und speichern das Ergebnis in der Variable `git_log`. Neben dem Dateinamen müssen wir zusätzlich über das Argument `names` noch eine Liste an Namen für die Kopfzeile mitgeben, da unsere Git-Log-Datei keine entsprechende Kopfzeile besitzt."
   ]
  },
  {
   "cell_type": "code",
   "execution_count": 479,
   "metadata": {},
   "outputs": [
    {
     "data": {
      "text/html": [
       "<div>\n",
       "<style scoped>\n",
       "    .dataframe tbody tr th:only-of-type {\n",
       "        vertical-align: middle;\n",
       "    }\n",
       "\n",
       "    .dataframe tbody tr th {\n",
       "        vertical-align: top;\n",
       "    }\n",
       "\n",
       "    .dataframe thead th {\n",
       "        text-align: right;\n",
       "    }\n",
       "</style>\n",
       "<table border=\"1\" class=\"dataframe\">\n",
       "  <thead>\n",
       "    <tr style=\"text-align: right;\">\n",
       "      <th></th>\n",
       "      <th>timestamp</th>\n",
       "      <th>author</th>\n",
       "    </tr>\n",
       "  </thead>\n",
       "  <tbody>\n",
       "    <tr>\n",
       "      <th>0</th>\n",
       "      <td>Thu Feb 15 17:44:48 2018 +0100</td>\n",
       "      <td>Antoine Rey</td>\n",
       "    </tr>\n",
       "    <tr>\n",
       "      <th>1</th>\n",
       "      <td>Sat Nov 4 11:59:48 2017 +0100</td>\n",
       "      <td>Antoine Rey</td>\n",
       "    </tr>\n",
       "    <tr>\n",
       "      <th>2</th>\n",
       "      <td>Thu Feb 22 10:57:12 2018 +0100</td>\n",
       "      <td>Stephane Nicoll</td>\n",
       "    </tr>\n",
       "    <tr>\n",
       "      <th>3</th>\n",
       "      <td>Thu Feb 22 10:46:09 2018 +0100</td>\n",
       "      <td>Stephane Nicoll</td>\n",
       "    </tr>\n",
       "    <tr>\n",
       "      <th>4</th>\n",
       "      <td>Mon Feb 5 19:19:38 2018 +0100</td>\n",
       "      <td>Ray Tsang</td>\n",
       "    </tr>\n",
       "  </tbody>\n",
       "</table>\n",
       "</div>"
      ],
      "text/plain": [
       "                        timestamp           author\n",
       "0  Thu Feb 15 17:44:48 2018 +0100      Antoine Rey\n",
       "1   Sat Nov 4 11:59:48 2017 +0100      Antoine Rey\n",
       "2  Thu Feb 22 10:57:12 2018 +0100  Stephane Nicoll\n",
       "3  Thu Feb 22 10:46:09 2018 +0100  Stephane Nicoll\n",
       "4   Mon Feb 5 19:19:38 2018 +0100        Ray Tsang"
      ]
     },
     "execution_count": 479,
     "metadata": {},
     "output_type": "execute_result"
    }
   ],
   "source": [
    "git_log = pd.read_csv(\n",
    "    \"../../../spring-petclinic/timestamp_author.csv\",\n",
    "    names=['timestamp', 'author'])\n",
    "git_log.head()"
   ]
  },
  {
   "cell_type": "code",
   "execution_count": 450,
   "metadata": {},
   "outputs": [
    {
     "data": {
      "text/plain": [
       "Michael Isvy          258\n",
       "Antoine Rey           100\n",
       "Keith Donald           35\n",
       "Costin Leau            28\n",
       "Dave Syer              25\n",
       "Stephane Nicoll         8\n",
       "Dapeng                  6\n",
       "Cyrille Le Clerc        5\n",
       "Gordon Dickens          5\n",
       "Thibault Duchateau      5\n",
       "Name: author, dtype: int64"
      ]
     },
     "execution_count": 450,
     "metadata": {},
     "output_type": "execute_result"
    }
   ],
   "source": [
    "top10 = git_log.author.value_counts().head(10)\n",
    "top10"
   ]
  },
  {
   "cell_type": "markdown",
   "metadata": {},
   "source": [
    "Als nächstes wollen wir das Ergebnis visualisieren bzw. plotten. Um die das Plot-Ergebnis direkt im Notebook anzuzeigen, müssen wir Jupyter dies mit dem Magic-Kommando\n",
    "\n",
    "```\n",
    "%matplotlib inline\n",
    "```\n",
    "\n",
    "vor dem Aufruf der `plot()` Methode mitteilen. \n",
    "\n",
    "Standardmäßig wird beim Aufruf von `plot()` auf einen `DataFrame` oder einer `Series` ein Liniendiagramm erstellt."
   ]
  },
  {
   "cell_type": "code",
   "execution_count": 451,
   "metadata": {},
   "outputs": [
    {
     "data": {
      "text/plain": [
       "<matplotlib.axes._subplots.AxesSubplot at 0x207ac5e16a0>"
      ]
     },
     "execution_count": 451,
     "metadata": {},
     "output_type": "execute_result"
    },
    {
     "data": {
      "image/png": "[encoded data removed]",
      "text/plain": [
       "<matplotlib.figure.Figure at 0x207ade04c18>"
      ]
     },
     "metadata": {},
     "output_type": "display_data"
    }
   ],
   "source": [
    "%matplotlib inline\n",
    "top10.plot()"
   ]
  },
  {
   "cell_type": "markdown",
   "metadata": {},
   "source": [
    "Das macht hier wenig Sinn, weshalb wir mittels einer Untermethode von `plot` namens `bar()` ein Balkendiagramm erzeugen lassen. "
   ]
  },
  {
   "cell_type": "code",
   "execution_count": 452,
   "metadata": {},
   "outputs": [
    {
     "data": {
      "text/plain": [
       "<matplotlib.axes._subplots.AxesSubplot at 0x207b1d484a8>"
      ]
     },
     "execution_count": 452,
     "metadata": {},
     "output_type": "execute_result"
    },
    {
     "data": {
      "image/png": "[encoded data removed]",
      "text/plain": [
       "<matplotlib.figure.Figure at 0x207c09b3978>"
      ]
     },
     "metadata": {},
     "output_type": "display_data"
    }
   ],
   "source": [
    "top10.plot.bar()"
   ]
  },
  {
   "cell_type": "markdown",
   "metadata": {},
   "source": [
    "Für diese Daten bietet sich auch eine Visualisierung als Tortendiagramm an. Hierfür rufen wir statt `bar()` die Methode `pie()` auf."
   ]
  },
  {
   "cell_type": "code",
   "execution_count": 453,
   "metadata": {},
   "outputs": [
    {
     "data": {
      "text/plain": [
       "<matplotlib.axes._subplots.AxesSubplot at 0x207b1cc5518>"
      ]
     },
     "execution_count": 453,
     "metadata": {},
     "output_type": "execute_result"
    },
    {
     "data": {
      "image/png": "[encoded data removed]",
      "text/plain": [
       "<matplotlib.figure.Figure at 0x207b1c274e0>"
      ]
     },
     "metadata": {},
     "output_type": "display_data"
    }
   ],
   "source": [
    "top10.plot.pie()"
   ]
  },
  {
   "cell_type": "markdown",
   "metadata": {},
   "source": [
    "Das Diagramm sieht hier jedoch nicht sehr schön aus.\n",
    "\n",
    "Mit den optionalen Styling-Parametern können wir erreichen, dass wir eine schönere Grafig angezeigt bekommen. Wir verwenden dazu\n",
    "* `figsize=[7,7]` als Größenangabe\n",
    "* `title=\"Top 10 Autoren\"` als Titel\n",
    "* `labels=None` um die überflüssige Beschriftung nicht anzuzeigen."
   ]
  },
  {
   "cell_type": "code",
   "execution_count": 471,
   "metadata": {},
   "outputs": [
    {
     "data": {
      "text/plain": [
       "<matplotlib.axes._subplots.AxesSubplot at 0x207b107ada0>"
      ]
     },
     "execution_count": 471,
     "metadata": {},
     "output_type": "execute_result"
    },
    {
     "data": {
      "image/png": "[encoded data removed]",
      "text/plain": [
       "<matplotlib.figure.Figure at 0x207b0feea90>"
      ]
     },
     "metadata": {},
     "output_type": "display_data"
    }
   ],
   "source": [
    "top10.plot.pie(\n",
    "    figsize=[7,7],\n",
    "    title=\"Top 10 Autoren\",\n",
    "    label=\"\")"
   ]
  },
  {
   "cell_type": "markdown",
   "metadata": {},
   "source": [
    "## Arbeiten mit Datumsangaben\n",
    "Bevor wir in die Welt der Zeitreihenverarbeitung einsteigen können, müssen wir unsere Spalte mit den Datumsangabe zuerst in den passenden Datentyp umwandeln. Zurzeit ist unsere Spalte `timestamp` noch ein String, also von textueller Natur. Wir können dies sehen, in dem wir uns mittels der Helferfunktion `type(<object>)` den ersten Eintrag der `timestamp`-Spalte anzeigen lassen:"
   ]
  },
  {
   "cell_type": "code",
   "execution_count": 455,
   "metadata": {},
   "outputs": [
    {
     "data": {
      "text/plain": [
       "0    Thu Feb 15 17:44:48 2018 +0100\n",
       "1     Sat Nov 4 11:59:48 2017 +0100\n",
       "2    Thu Feb 22 10:57:12 2018 +0100\n",
       "3    Thu Feb 22 10:46:09 2018 +0100\n",
       "4     Mon Feb 5 19:19:38 2018 +0100\n",
       "Name: timestamp, dtype: object"
      ]
     },
     "execution_count": 455,
     "metadata": {},
     "output_type": "execute_result"
    }
   ],
   "source": [
    "git_log.timestamp.head()"
   ]
  },
  {
   "cell_type": "code",
   "execution_count": 456,
   "metadata": {},
   "outputs": [
    {
     "data": {
      "text/html": [
       "<div>\n",
       "<style scoped>\n",
       "    .dataframe tbody tr th:only-of-type {\n",
       "        vertical-align: middle;\n",
       "    }\n",
       "\n",
       "    .dataframe tbody tr th {\n",
       "        vertical-align: top;\n",
       "    }\n",
       "\n",
       "    .dataframe thead th {\n",
       "        text-align: right;\n",
       "    }\n",
       "</style>\n",
       "<table border=\"1\" class=\"dataframe\">\n",
       "  <thead>\n",
       "    <tr style=\"text-align: right;\">\n",
       "      <th></th>\n",
       "      <th>timestamp</th>\n",
       "      <th>author</th>\n",
       "      <th>timestamp_local</th>\n",
       "    </tr>\n",
       "  </thead>\n",
       "  <tbody>\n",
       "    <tr>\n",
       "      <th>0</th>\n",
       "      <td>Thu Feb 15 17:44:48 2018 +0100</td>\n",
       "      <td>Antoine Rey</td>\n",
       "      <td>2018-02-15 17:44:48</td>\n",
       "    </tr>\n",
       "    <tr>\n",
       "      <th>1</th>\n",
       "      <td>Sat Nov 4 11:59:48 2017 +0100</td>\n",
       "      <td>Antoine Rey</td>\n",
       "      <td>2017-11-04 11:59:48</td>\n",
       "    </tr>\n",
       "    <tr>\n",
       "      <th>2</th>\n",
       "      <td>Thu Feb 22 10:57:12 2018 +0100</td>\n",
       "      <td>Stephane Nicoll</td>\n",
       "      <td>2018-02-22 10:57:12</td>\n",
       "    </tr>\n",
       "    <tr>\n",
       "      <th>3</th>\n",
       "      <td>Thu Feb 22 10:46:09 2018 +0100</td>\n",
       "      <td>Stephane Nicoll</td>\n",
       "      <td>2018-02-22 10:46:09</td>\n",
       "    </tr>\n",
       "    <tr>\n",
       "      <th>4</th>\n",
       "      <td>Mon Feb 5 19:19:38 2018 +0100</td>\n",
       "      <td>Ray Tsang</td>\n",
       "      <td>2018-02-05 19:19:38</td>\n",
       "    </tr>\n",
       "  </tbody>\n",
       "</table>\n",
       "</div>"
      ],
      "text/plain": [
       "                        timestamp           author     timestamp_local\n",
       "0  Thu Feb 15 17:44:48 2018 +0100      Antoine Rey 2018-02-15 17:44:48\n",
       "1   Sat Nov 4 11:59:48 2017 +0100      Antoine Rey 2017-11-04 11:59:48\n",
       "2  Thu Feb 22 10:57:12 2018 +0100  Stephane Nicoll 2018-02-22 10:57:12\n",
       "3  Thu Feb 22 10:46:09 2018 +0100  Stephane Nicoll 2018-02-22 10:46:09\n",
       "4   Mon Feb 5 19:19:38 2018 +0100        Ray Tsang 2018-02-05 19:19:38"
      ]
     },
     "execution_count": 456,
     "metadata": {},
     "output_type": "execute_result"
    }
   ],
   "source": [
    "git_log['timestamp_local'] = pd.to_datetime(git_log.timestamp.str[:-6])\n",
    "git_log.head()"
   ]
  },
  {
   "cell_type": "code",
   "execution_count": 457,
   "metadata": {},
   "outputs": [
    {
     "data": {
      "text/plain": [
       "str"
      ]
     },
     "execution_count": 457,
     "metadata": {},
     "output_type": "execute_result"
    }
   ],
   "source": [
    "type(git_log.timestamp[0])"
   ]
  },
  {
   "cell_type": "markdown",
   "metadata": {},
   "source": [
    "Beim Umwandeln von Datantypen hilft uns Pandas natürlich. Die Funktion `pd.to_datetime` nimmt als ersten Parameter eine `Series` mit Datumsangaben entgegen und wandelt diese um. Als Rückgabewert erhalten wir entsprechend eine `Series` vom Datentype `Timestamp`. Die Umwandlung funktioniert für die meisten textuellen Datumsangaben auch meistens automagisch, da Pandas mit unterschiedlichesten Datumsformaten umgehen kann.\n",
    "\n",
    "Ob die Umwandlung erfolgreich war, können wir mit einem nochmaligen Aufruf von `type()` auf den ersten Wert der Spalte `timestamp` überprüfen."
   ]
  },
  {
   "cell_type": "code",
   "execution_count": 458,
   "metadata": {},
   "outputs": [
    {
     "data": {
      "text/plain": [
       "pandas._libs.tslib.Timestamp"
      ]
     },
     "execution_count": 458,
     "metadata": {},
     "output_type": "execute_result"
    }
   ],
   "source": [
    "git_log.timestamp = pd.to_datetime(git_log.timestamp)\n",
    "type(git_log.timestamp[0])"
   ]
  },
  {
   "cell_type": "code",
   "execution_count": 459,
   "metadata": {},
   "outputs": [
    {
     "name": "stdout",
     "output_type": "stream",
     "text": [
      "<class 'pandas.core.frame.DataFrame'>\n",
      "RangeIndex: 527 entries, 0 to 526\n",
      "Data columns (total 3 columns):\n",
      "timestamp          527 non-null datetime64[ns]\n",
      "author             527 non-null object\n",
      "timestamp_local    527 non-null datetime64[ns]\n",
      "dtypes: datetime64[ns](2), object(1)\n",
      "memory usage: 12.4+ KB\n"
     ]
    }
   ],
   "source": [
    "git_log.info()"
   ]
  },
  {
   "cell_type": "code",
   "execution_count": 460,
   "metadata": {},
   "outputs": [
    {
     "data": {
      "text/plain": [
       "0    17\n",
       "1    11\n",
       "2    10\n",
       "3    10\n",
       "4    19\n",
       "Name: timestamp_local, dtype: int64"
      ]
     },
     "execution_count": 460,
     "metadata": {},
     "output_type": "execute_result"
    }
   ],
   "source": [
    "git_log.timestamp_local.dt.hour.head()"
   ]
  },
  {
   "cell_type": "code",
   "execution_count": 461,
   "metadata": {},
   "outputs": [
    {
     "data": {
      "text/plain": [
       "0    2\n",
       "1    5\n",
       "2    2\n",
       "3    2\n",
       "5    1\n",
       "Name: timestamp_local, dtype: int64"
      ]
     },
     "execution_count": 461,
     "metadata": {},
     "output_type": "execute_result"
    }
   ],
   "source": [
    "commits_je_stunde = git_log.timestamp_local.dt.hour.value_counts(sort=False)\n",
    "commits_je_stunde.head()"
   ]
  },
  {
   "cell_type": "code",
   "execution_count": 462,
   "metadata": {},
   "outputs": [
    {
     "data": {
      "text/plain": [
       "<matplotlib.axes._subplots.AxesSubplot at 0x207b1891a58>"
      ]
     },
     "execution_count": 462,
     "metadata": {},
     "output_type": "execute_result"
    },
    {
     "data": {
      "image/png": "[encoded data removed]",
      "text/plain": [
       "<matplotlib.figure.Figure at 0x207b1b5ef28>"
      ]
     },
     "metadata": {},
     "output_type": "display_data"
    }
   ],
   "source": [
    "commits_je_stunde.plot.bar()"
   ]
  },
  {
   "cell_type": "markdown",
   "metadata": {},
   "source": [
    "Wir beschriften nun zusätzlich die Grafik. Dazu speichern wir uns das Rückgabeobjekt der `bar()`-Funktion in der Variable `ax`. Hierbei handelt es sich um ein `Axes`-Objekt, durch das wir zusätzliche Eigenschaften des Plots anpassen können. Wir setzen hier\n",
    "\n",
    "* den Titel über `set_title(<titelname>)`\n",
    "* die Beschriftung der X-Achse mit `set_xlabel(<x_achsenname>)` und\n",
    "* die Beschriftung der Y-Achse mit `set_ylabel<y_achsenname>)`\n",
    "\n",
    "Als Ergebnis erhalten wir nun ein besser beschriftetes Balkendiagramm."
   ]
  },
  {
   "cell_type": "code",
   "execution_count": 478,
   "metadata": {},
   "outputs": [
    {
     "data": {
      "image/png": "[encoded data removed]",
      "text/plain": [
       "<matplotlib.figure.Figure at 0x207b023f4e0>"
      ]
     },
     "metadata": {},
     "output_type": "display_data"
    }
   ],
   "source": [
    "ax = commits_je_stunde.plot.bar()\n",
    "ax.set_title(\"Commits pro Stunde\")\n",
    "ax.set_xlabel(\"Tagesstunde\")\n",
    "ax.set_ylabel(\"Commits\")\n",
    "ax?"
   ]
  },
  {
   "cell_type": "markdown",
   "metadata": {},
   "source": [
    "Wir können auch nach Wochentagen auswerten. Dazu verwenden wir das `weekday`-Attribut auf dem `DateTime`-Attribut `dt`. Wie üblich, lassen wir hier die Werte über `value_counts` zählen, lassen die Werte aber nicht der Größe nach sortieren."
   ]
  },
  {
   "cell_type": "code",
   "execution_count": 463,
   "metadata": {},
   "outputs": [
    {
     "data": {
      "text/plain": [
       "0     80\n",
       "1     75\n",
       "2    104\n",
       "3     92\n",
       "4     97\n",
       "5     51\n",
       "6     28\n",
       "Name: timestamp_local, dtype: int64"
      ]
     },
     "execution_count": 463,
     "metadata": {},
     "output_type": "execute_result"
    }
   ],
   "source": [
    "commits_je_wochentag = git_log.timestamp_local.dt.weekday.value_counts(sort=False)\n",
    "commits_je_wochentag"
   ]
  },
  {
   "cell_type": "markdown",
   "metadata": {},
   "source": [
    "Das Ergebnis in `commits_je_wochentag` lassen wir als ein Balkendiagramm mittels `plot.bar()` ausgeben."
   ]
  },
  {
   "cell_type": "code",
   "execution_count": 464,
   "metadata": {},
   "outputs": [
    {
     "data": {
      "text/plain": [
       "<matplotlib.axes._subplots.AxesSubplot at 0x207b17163c8>"
      ]
     },
     "execution_count": 464,
     "metadata": {},
     "output_type": "execute_result"
    },
    {
     "data": {
      "image/png": "[encoded data removed]",
      "text/plain": [
       "<matplotlib.figure.Figure at 0x207b16f9438>"
      ]
     },
     "metadata": {},
     "output_type": "display_data"
    }
   ],
   "source": [
    "commits_je_wochentag.plot.bar()"
   ]
  },
  {
   "cell_type": "markdown",
   "metadata": {},
   "source": [
    "Nachfolgend wollen wir den Verlauf aller Commits über die letzten Jahre aufzeichnen lassen. Dazu setzen wir die `timestamp` Spalte als Index mittels `set_index(<spaltenname>)`. Zudem selektieren wir von dem zurückgelieferten `DataFrame` lediglich die `author`-Spalte mittels `[[<spaltenname>]]`."
   ]
  },
  {
   "cell_type": "code",
   "execution_count": 465,
   "metadata": {},
   "outputs": [
    {
     "data": {
      "text/html": [
       "<div>\n",
       "<style scoped>\n",
       "    .dataframe tbody tr th:only-of-type {\n",
       "        vertical-align: middle;\n",
       "    }\n",
       "\n",
       "    .dataframe tbody tr th {\n",
       "        vertical-align: top;\n",
       "    }\n",
       "\n",
       "    .dataframe thead th {\n",
       "        text-align: right;\n",
       "    }\n",
       "</style>\n",
       "<table border=\"1\" class=\"dataframe\">\n",
       "  <thead>\n",
       "    <tr style=\"text-align: right;\">\n",
       "      <th></th>\n",
       "      <th>author</th>\n",
       "    </tr>\n",
       "    <tr>\n",
       "      <th>timestamp</th>\n",
       "      <th></th>\n",
       "    </tr>\n",
       "  </thead>\n",
       "  <tbody>\n",
       "    <tr>\n",
       "      <th>2018-02-15 16:44:48</th>\n",
       "      <td>Antoine Rey</td>\n",
       "    </tr>\n",
       "    <tr>\n",
       "      <th>2017-11-04 10:59:48</th>\n",
       "      <td>Antoine Rey</td>\n",
       "    </tr>\n",
       "    <tr>\n",
       "      <th>2018-02-22 09:57:12</th>\n",
       "      <td>Stephane Nicoll</td>\n",
       "    </tr>\n",
       "    <tr>\n",
       "      <th>2018-02-22 09:46:09</th>\n",
       "      <td>Stephane Nicoll</td>\n",
       "    </tr>\n",
       "    <tr>\n",
       "      <th>2018-02-05 18:19:38</th>\n",
       "      <td>Ray Tsang</td>\n",
       "    </tr>\n",
       "  </tbody>\n",
       "</table>\n",
       "</div>"
      ],
      "text/plain": [
       "                              author\n",
       "timestamp                           \n",
       "2018-02-15 16:44:48      Antoine Rey\n",
       "2017-11-04 10:59:48      Antoine Rey\n",
       "2018-02-22 09:57:12  Stephane Nicoll\n",
       "2018-02-22 09:46:09  Stephane Nicoll\n",
       "2018-02-05 18:19:38        Ray Tsang"
      ]
     },
     "execution_count": 465,
     "metadata": {},
     "output_type": "execute_result"
    }
   ],
   "source": [
    "git_timed = git_log.set_index('timestamp')[['author']]\n",
    "git_timed.head()"
   ]
  },
  {
   "cell_type": "markdown",
   "metadata": {},
   "source": [
    "Über die `resample(<zeiteinheit>)`-Funktion des `DataFrame`s können wir nun Werte nach bestimmten Zeiteinheiten gruppieren wie z. B. nach Tage (`D`), Monate (`M`), Quartale (`Q`) oder Jahre (`A`). Wir verwenden hier ein `resample(\"D\")` für tageweises zählen. Zudem geben wir noch an, wie die Einzelwerte pro Zeiteinheit zusammengeführt werden sollen. Hierzu wählen wir die `count()`-Funktion, um die Anzahl der Commits für jeden einzelnen Tag zu zählen."
   ]
  },
  {
   "cell_type": "code",
   "execution_count": 466,
   "metadata": {},
   "outputs": [
    {
     "data": {
      "text/html": [
       "<div>\n",
       "<style scoped>\n",
       "    .dataframe tbody tr th:only-of-type {\n",
       "        vertical-align: middle;\n",
       "    }\n",
       "\n",
       "    .dataframe tbody tr th {\n",
       "        vertical-align: top;\n",
       "    }\n",
       "\n",
       "    .dataframe thead th {\n",
       "        text-align: right;\n",
       "    }\n",
       "</style>\n",
       "<table border=\"1\" class=\"dataframe\">\n",
       "  <thead>\n",
       "    <tr style=\"text-align: right;\">\n",
       "      <th></th>\n",
       "      <th>author</th>\n",
       "    </tr>\n",
       "    <tr>\n",
       "      <th>timestamp</th>\n",
       "      <th></th>\n",
       "    </tr>\n",
       "  </thead>\n",
       "  <tbody>\n",
       "    <tr>\n",
       "      <th>2009-05-05</th>\n",
       "      <td>5</td>\n",
       "    </tr>\n",
       "    <tr>\n",
       "      <th>2009-05-06</th>\n",
       "      <td>10</td>\n",
       "    </tr>\n",
       "    <tr>\n",
       "      <th>2009-05-07</th>\n",
       "      <td>1</td>\n",
       "    </tr>\n",
       "    <tr>\n",
       "      <th>2009-05-08</th>\n",
       "      <td>0</td>\n",
       "    </tr>\n",
       "    <tr>\n",
       "      <th>2009-05-09</th>\n",
       "      <td>0</td>\n",
       "    </tr>\n",
       "  </tbody>\n",
       "</table>\n",
       "</div>"
      ],
      "text/plain": [
       "            author\n",
       "timestamp         \n",
       "2009-05-05       5\n",
       "2009-05-06      10\n",
       "2009-05-07       1\n",
       "2009-05-08       0\n",
       "2009-05-09       0"
      ]
     },
     "execution_count": 466,
     "metadata": {},
     "output_type": "execute_result"
    }
   ],
   "source": [
    "commits_per_day = git_timed.resample(\"D\").count()\n",
    "commits_per_day.head()"
   ]
  },
  {
   "cell_type": "markdown",
   "metadata": {},
   "source": [
    "Um den Commit-Verlauf über die Jahre hinweg aufzuzeigen, bilden wir die kumulative Summe über alle Tageseinträge mittels `cumsum()`. Damit werden alle Werte nacheinander aufsummiert."
   ]
  },
  {
   "cell_type": "code",
   "execution_count": 467,
   "metadata": {},
   "outputs": [
    {
     "data": {
      "text/html": [
       "<div>\n",
       "<style scoped>\n",
       "    .dataframe tbody tr th:only-of-type {\n",
       "        vertical-align: middle;\n",
       "    }\n",
       "\n",
       "    .dataframe tbody tr th {\n",
       "        vertical-align: top;\n",
       "    }\n",
       "\n",
       "    .dataframe thead th {\n",
       "        text-align: right;\n",
       "    }\n",
       "</style>\n",
       "<table border=\"1\" class=\"dataframe\">\n",
       "  <thead>\n",
       "    <tr style=\"text-align: right;\">\n",
       "      <th></th>\n",
       "      <th>author</th>\n",
       "    </tr>\n",
       "    <tr>\n",
       "      <th>timestamp</th>\n",
       "      <th></th>\n",
       "    </tr>\n",
       "  </thead>\n",
       "  <tbody>\n",
       "    <tr>\n",
       "      <th>2009-05-05</th>\n",
       "      <td>5</td>\n",
       "    </tr>\n",
       "    <tr>\n",
       "      <th>2009-05-06</th>\n",
       "      <td>15</td>\n",
       "    </tr>\n",
       "    <tr>\n",
       "      <th>2009-05-07</th>\n",
       "      <td>16</td>\n",
       "    </tr>\n",
       "    <tr>\n",
       "      <th>2009-05-08</th>\n",
       "      <td>16</td>\n",
       "    </tr>\n",
       "    <tr>\n",
       "      <th>2009-05-09</th>\n",
       "      <td>16</td>\n",
       "    </tr>\n",
       "  </tbody>\n",
       "</table>\n",
       "</div>"
      ],
      "text/plain": [
       "            author\n",
       "timestamp         \n",
       "2009-05-05       5\n",
       "2009-05-06      15\n",
       "2009-05-07      16\n",
       "2009-05-08      16\n",
       "2009-05-09      16"
      ]
     },
     "execution_count": 467,
     "metadata": {},
     "output_type": "execute_result"
    }
   ],
   "source": [
    "commits_pro_tag_kumulativ = commits_per_day.cumsum()\n",
    "commits_pro_tag_kumulativ.head()"
   ]
  },
  {
   "cell_type": "markdown",
   "metadata": {},
   "source": [
    "Das Ergebnis plotten wir nun als Liniendiagramm und erhalten somit die Anzahl der Commits über die Jahre hinweg aufgezeichnet."
   ]
  },
  {
   "cell_type": "code",
   "execution_count": 468,
   "metadata": {},
   "outputs": [
    {
     "data": {
      "text/plain": [
       "<matplotlib.axes._subplots.AxesSubplot at 0x207b15e15c0>"
      ]
     },
     "execution_count": 468,
     "metadata": {},
     "output_type": "execute_result"
    },
    {
     "data": {
      "image/png": "[encoded data removed]",
      "text/plain": [
       "<matplotlib.figure.Figure at 0x207b17ce240>"
      ]
     },
     "metadata": {},
     "output_type": "display_data"
    }
   ],
   "source": [
    "commits_pro_tag_kumulativ.plot()"
   ]
  }
 ],
 "metadata": {
  "kernelspec": {
   "display_name": "Python 3",
   "language": "python",
   "name": "python3"
  },
  "language_info": {
   "codemirror_mode": {
    "name": "ipython",
    "version": 3
   },
   "file_extension": ".py",
   "mimetype": "text/x-python",
   "name": "python",
   "nbconvert_exporter": "python",
   "pygments_lexer": "ipython3",
   "version": "3.6.4"
  }
 },
 "nbformat": 4,
 "nbformat_minor": 2
}
