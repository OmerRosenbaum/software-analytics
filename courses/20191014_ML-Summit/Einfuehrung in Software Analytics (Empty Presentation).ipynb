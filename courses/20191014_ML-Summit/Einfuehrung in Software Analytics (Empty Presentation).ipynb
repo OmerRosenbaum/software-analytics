{
    "cells": [
        {
            "cell_type": "markdown",
            "metadata": {
                "slideshow": {
                    "slide_type": "skip"
                }
            },
            "source": [
                "# Abstract\n",
                "\n",
                "## Titel: Einf\u00fchrung in Software Analytics\n",
                "\n",
                "\n",
                "## Beschreibung\n",
                "In Unternehmen werden Datenanalysen intensiv genutzt, um aus Gesch\u00e4ftsdaten wertvolle Einsichten\n",
                "zu gewinnen. Warum nutzen wir als Softwareentwickler Datenanalysen dann nicht auch f\u00fcr unsere eigenen Daten? \n",
                "\n",
                "In diesem Workshop stelle ich Vorgehen und Best Practices von Software Analytics vor. Wir sehen uns die dazugeh\u00f6rigen Open-Source-Werkzeuge an, mit denen sich Probleme in der Softwareentwicklung zielgerichtet analysieren und kommunizieren lassen. \n",
                "\n",
                "Im Praxisteil mit Jupyter, pandas, jQAssistant, Neo4j & Co. erarbeiten wir gemeinsam wertvolle Einsichten aus Datenquellen wie Git-Repositories, Performancedaten, Qualit\u00e4tsberichten oder auch direkt aus dem Programmcode. Wir suchen nach besonders fehleranf\u00e4lligem Code, erschlie\u00dfen No-Go-Areas in Altanwendungen und priorisieren Aufr\u00e4umarbeiten entlang wichtiger Programmteile. \n",
                "\n",
                "Gerne kann bei diesem interaktiven Workshop direkt mitgearbeitet werden. Ein Notebook mit Internetzugang reicht hierf\u00fcr v\u00f6llig aus."
            ]
        },
        {
            "cell_type": "code",
            "execution_count": 1,
            "metadata": {
                "slideshow": {
                    "slide_type": "skip"
                }
            },
            "outputs": [],
            "source": [
                "%matplotlib inline\n",
                "import pandas as pd"
            ]
        },
        {
            "cell_type": "markdown",
            "metadata": {
                "slideshow": {
                    "slide_type": "slide"
                }
            },
            "source": [
                "\n",
                "# Einf\u00fchrung in<br/> Software Analytics\n",
                "<b>Markus Harrer</b>, Software Development Analyst\n",
                "  \n",
                "`@feststelltaste`\n",
                "\n",
                "\n",
                "<small>ML Summit 2019, 14. Oktober 2019</small>\n",
                "\n",
                "<img src=\"../../demos/resources/innoq_logo.jpg\" width=20% height=\"20%\" align=\"right\"/>"
            ]
        },
        {
            "cell_type": "markdown",
            "metadata": {
                "slideshow": {
                    "slide_type": "slide"
                }
            },
            "source": [
                "## Workshop-Aufbau\n",
                "\n",
                "### 1. Teil: Theorie\n",
                "* Einf\u00fchrung in das Thema \"Software Analytics\"\n",
                "* Vorgehen f\u00fcr Datenanalysen in der Softwareentwicklung\n",
                "* Werkzeuge f\u00fcr leichtgewichtiges Software Analytics\n",
                "\n",
                "### 2. Teil: Praxis\n",
                "* Gemeinsame Durchf\u00fchrung erster Analysen\n",
                "* Bearbeitung einer Aufgabe in Kleingruppen\n",
                "* Offene Fragen"
            ]
        },
        {
            "cell_type": "markdown",
            "metadata": {
                "slideshow": {
                    "slide_type": "slide"
                }
            },
            "source": [
                "## \u00dcber mich\n",
                "\n",
                "<img src=\"../../demos/resources/ueber_mich.png\" style=\"width:85%;\" >"
            ]
        },
        {
            "cell_type": "markdown",
            "metadata": {
                "slideshow": {
                    "slide_type": "slide"
                }
            },
            "source": [
                "## Datenanalysen in der Softwareentwicklung?"
            ]
        },
        {
            "cell_type": "markdown",
            "metadata": {
                "slideshow": {
                    "slide_type": "slide"
                }
            },
            "source": [
                "#  ... ein typischer Projektverlauf"
            ]
        },
        {
            "cell_type": "markdown",
            "metadata": {
                "slideshow": {
                    "slide_type": "slide"
                }
            },
            "source": [
                "## ... ein typischer Projektverlauf\n",
                "<img src=\"../../demos/resources/schuld1.png\" style=\"width:95%;\" align=\"center\"/>"
            ]
        },
        {
            "cell_type": "markdown",
            "metadata": {
                "slideshow": {
                    "slide_type": "slide"
                }
            },
            "source": [
                "## ... ein typischer Projektverlauf\n",
                "<img src=\"../../demos/resources/schuld2.png\" style=\"width:95%;\" align=\"center\"/>"
            ]
        },
        {
            "cell_type": "markdown",
            "metadata": {
                "slideshow": {
                    "slide_type": "slide"
                }
            },
            "source": [
                "## ... ein typischer Projektverlauf\n",
                "<img src=\"../../demos/resources/schuld3.png\" style=\"width:95%;\" align=\"center\"/>"
            ]
        },
        {
            "cell_type": "markdown",
            "metadata": {
                "slideshow": {
                    "slide_type": "slide"
                }
            },
            "source": [
                "## ... ein typischer Projektverlauf\n",
                "<img src=\"../../demos/resources/schuld4.png\" style=\"width:95%;\" align=\"center\"/>"
            ]
        },
        {
            "cell_type": "markdown",
            "metadata": {
                "slideshow": {
                    "slide_type": "slide"
                }
            },
            "source": [
                "##  \n",
                "##   \"Die Definition von Wahnsinn ist, immer wieder das Gleiche zu tun und andere Ergebnisse zu erwarten.\"\n",
                "\n",
                "<br/>\n",
                "<div align=\"right\">&ndash; Albert Einstein</div>"
            ]
        },
        {
            "cell_type": "markdown",
            "metadata": {
                "slideshow": {
                    "slide_type": "slide"
                }
            },
            "source": [
                "## Das (Tr|D)auerthema\n",
                "<img src=\"../../demos/resources/kombar0.png\" style=\"width:95%;\" align=\"center\"/>"
            ]
        },
        {
            "cell_type": "markdown",
            "metadata": {
                "slideshow": {
                    "slide_type": "slide"
                }
            },
            "source": [
                "## Das (Tr|D)auerthema\n",
                "<img src=\"../../demos/resources/kombar4.png\" style=\"width:95%;\" align=\"center\"/>"
            ]
        },
        {
            "cell_type": "markdown",
            "metadata": {
                "slideshow": {
                    "slide_type": "slide"
                }
            },
            "source": [
                "## \"Software Analytics\" als Retter?"
            ]
        },
        {
            "cell_type": "markdown",
            "metadata": {
                "slideshow": {
                    "slide_type": "slide"
                }
            },
            "source": [
                "### Definition \"Software Analytics\"\n",
                "\"Software Analytics is analytics on <b>software data</b> for **managers** and <b class=\"green\">software engineers</b> with the aim of empowering software development individuals and teams to _gain and share insight from their data_ to <b>make better decisions</b>.\"\n",
                "<br/>\n",
                "<div align=\"right\"><small>Tim Menzies and Thomas Zimmermann</small></div>"
            ]
        },
        {
            "cell_type": "markdown",
            "metadata": {
                "slideshow": {
                    "slide_type": "slide"
                }
            },
            "source": [
                "### Welche Arten von Softwaredaten?\n",
                "\n",
                "Alles was aus der Entwicklung und dem Betrieb der Softwaresysteme so anf\u00e4llt: \n",
                "* Statische Daten\n",
                "* Laufzeitdaten\n",
                "* Chronologische Daten\n",
                "* Daten aus der Software-Community"
            ]
        },
        {
            "cell_type": "markdown",
            "metadata": {
                "slideshow": {
                    "slide_type": "slide"
                }
            },
            "source": [
                "### Welche Werkzeuge, Datenquellen und Daten?\n",
                "<img src=\"../../demos/resources/softwaredaten.png\" style=\"width:95%;\" align=\"center\"/>"
            ]
        },
        {
            "cell_type": "markdown",
            "metadata": {
                "slideshow": {
                    "slide_type": "slide"
                }
            },
            "source": [
                "# Sehr gro\u00dfe Auswahl == sehr \"gro\u00dfe\" M\u00f6glichkeiten?"
            ]
        },
        {
            "cell_type": "markdown",
            "metadata": {
                "slideshow": {
                    "slide_type": "slide"
                }
            },
            "source": [
                "## (M)ein Problem mit (klassischem) Software Analytics"
            ]
        },
        {
            "cell_type": "markdown",
            "metadata": {
                "slideshow": {
                    "slide_type": "slide"
                }
            },
            "source": [
                "### (M)ein Problem mit Software Analytics\n",
                "<img src=\"../../demos/resources/freq1_en.png\" style=\"width:80%;\" align=\"center\"/>"
            ]
        },
        {
            "cell_type": "markdown",
            "metadata": {},
            "source": [
                "### (M)ein Problem mit Software Analytics\n",
                "<img src=\"../../demos/resources/freq1_en.png\" style=\"width:80%;\" align=\"center\"/>"
            ]
        },
        {
            "cell_type": "markdown",
            "metadata": {
                "slideshow": {
                    "slide_type": "slide"
                }
            },
            "source": [
                "### (M)ein Problem mit Software Analytics\n",
                "<img src=\"../../demos/resources/freq2_en.png\" style=\"width:80%;\" align=\"center\"/>"
            ]
        },
        {
            "cell_type": "markdown",
            "metadata": {
                "slideshow": {
                    "slide_type": "slide"
                }
            },
            "source": [
                "### (M)ein Problem mit Software Analytics\n",
                "<img src=\"../../demos/resources/freq3_en.png\" style=\"width:80%;\" align=\"center\"/>"
            ]
        },
        {
            "cell_type": "markdown",
            "metadata": {
                "slideshow": {
                    "slide_type": "slide"
                }
            },
            "source": [
                "### (M)ein Problem mit Software Analytics\n",
                "<img src=\"../../demos/resources/freq4_en.png\" style=\"width:80%;\" align=\"center\"/>"
            ]
        },
        {
            "cell_type": "markdown",
            "metadata": {
                "slideshow": {
                    "slide_type": "slide"
                }
            },
            "source": [
                "### (M)ein Problem mit Software Analytics\n",
                "<img src=\"../../demos/resources/freq5_en.png\" style=\"width:80%;\" align=\"center\"/>"
            ]
        },
        {
            "cell_type": "markdown",
            "metadata": {
                "slideshow": {
                    "slide_type": "slide"
                }
            },
            "source": [
                "### Andere sehen dieses Problem auch!\n",
                "\n",
                "*Thomas Zimmermann in \"One size does not fit all\":*\n",
                "<br/><br/>\n",
                "<div style=\"font-size:70%;\" align=\"center\">\n",
                "\"The main lesson: There is no one size fits all model. Even if you find models that work for most, they will not work for everyone. There is much <strong>academic research</strong> into <strong>general models</strong>. In contrast, <b><span class=\"green\">industrial practitioners</span></b> are often fine with <b><span class=\"green\">models that just work for their data</span></b> if the model provides some insight or allows them to work more efficiently.\"<br/>\n",
                "</div>"
            ]
        },
        {
            "cell_type": "markdown",
            "metadata": {
                "slideshow": {
                    "slide_type": "fragment"
                }
            },
            "source": [
                "Aber: \"... the methods typically are applicable on different datasets.\"<br/>\n",
                "<b>=> Analyseideen sind wiederverwendbar!</b>"
            ]
        },
        {
            "cell_type": "markdown",
            "metadata": {
                "slideshow": {
                    "slide_type": "slide"
                }
            },
            "source": [
                "### \"Es kommt drauf an!\" aka Kontext\n",
                "\n",
                "<div style=\"margin-left:160px;margin-top:80px;\">\n",
                "<img src=\"../../demos/resources/context.png\" style=\"width:70%;\" /></div>"
            ]
        },
        {
            "cell_type": "markdown",
            "metadata": {
                "slideshow": {
                    "slide_type": "fragment"
                }
            },
            "source": [
                "<b>Individuelle Systeme == Individuelle Probleme => Individuelle Analysen => Individuelle Erkenntnisse!</b>"
            ]
        },
        {
            "cell_type": "markdown",
            "metadata": {
                "slideshow": {
                    "slide_type": "slide"
                }
            },
            "source": [
                "### Einige Beispiele aus der Praxis"
            ]
        },
        {
            "cell_type": "markdown",
            "metadata": {
                "slideshow": {
                    "slide_type": "-"
                }
            },
            "source": [
                "* Vorhandenen Modularisierungsschnitt analysieren\n",
                "* Performance-Probleme in verteilten Systemen identifizieren\n",
                "* Potenzielle Wissensverluste ermitteln\n",
                "* Eingesetzte Open-Source-Projekte bewerten\n",
                "* ..."
            ]
        },
        {
            "cell_type": "markdown",
            "metadata": {
                "slideshow": {
                    "slide_type": "slide"
                }
            },
            "source": [
                "### Was sind Ihre Analysen aus der Praxis?\n",
                "<img src=\"../../demos/resources/vorerfahrung.png\" style=\"width:95%;\" align=\"center\"/>"
            ]
        },
        {
            "cell_type": "markdown",
            "metadata": {
                "slideshow": {
                    "slide_type": "slide"
                }
            },
            "source": [
                "# Wie Software Analytics dann umsetzen?"
            ]
        },
        {
            "cell_type": "markdown",
            "metadata": {
                "slideshow": {
                    "slide_type": "slide"
                }
            },
            "source": [
                "<br/><br/>\n",
                "<div align=\"center\">\n",
                "    <h1><strong>Data Science</strong>\n",
                "    <br/><br/></h1>\n",
                "      <h2>  <i style=\"font-weight: normal;\">Eine leichtgewichtige Umsetzung von </i><b><span class=\"blue\">Software Analytics</span></b></h2>\n",
                "</div>"
            ]
        },
        {
            "cell_type": "markdown",
            "metadata": {
                "slideshow": {
                    "slide_type": "slide"
                }
            },
            "source": [
                "## Data Science"
            ]
        },
        {
            "cell_type": "markdown",
            "metadata": {
                "slideshow": {
                    "slide_type": "slide"
                }
            },
            "source": [
                "### Was is Data Science?"
            ]
        },
        {
            "cell_type": "markdown",
            "metadata": {
                "slideshow": {
                    "slide_type": "fragment"
                }
            },
            "source": [
                "\"**Statistics** on a <b><span class=\"green\">Mac</span></b>.\"\n",
                "<br/>\n",
                "<br/>\n",
                "<div align=\"right\"><small>https://twitter.com/cdixon/status/428914681911070720</small></div>"
            ]
        },
        {
            "cell_type": "markdown",
            "metadata": {
                "slideshow": {
                    "slide_type": "slide"
                }
            },
            "source": [
                "<b>Data Science Venn Diagram (Drew Conway)</b>\n",
                "\n",
                "<img src=\"../../demos/resources/venn_diagram.png\" style=\"width:50%;\" >"
            ]
        },
        {
            "cell_type": "markdown",
            "metadata": {
                "slideshow": {
                    "slide_type": "slide"
                }
            },
            "source": [
                "### Meine Definition"
            ]
        },
        {
            "cell_type": "markdown",
            "metadata": {
                "slideshow": {
                    "slide_type": "slide"
                }
            },
            "source": [
                "#### Was bedeutet \"**data**\"?\n",
                "\"Without **data** you\u2018re just another person with an opinion.\"\n",
                "<br/>\n",
                "<div align=\"right\"><small>W. Edwards Deming</small></div>"
            ]
        },
        {
            "cell_type": "markdown",
            "metadata": {
                "slideshow": {
                    "slide_type": "fragment"
                }
            },
            "source": [
                "<b>=> Belastbare Erkenntnisse mittels <span class=\"green\">Fakten</span> liefern</b>"
            ]
        },
        {
            "cell_type": "markdown",
            "metadata": {
                "slideshow": {
                    "slide_type": "slide"
                }
            },
            "source": [
                "#### Was bedeutet \"**science**\"?\n",
                "  \n",
                "  \n",
                "\"The aim of **science** is to seek the simplest explanations of complex facts.\"\n",
                "<br/>\n",
                "<div align=\"right\"><small>Albert Einstein</small></div>"
            ]
        },
        {
            "cell_type": "markdown",
            "metadata": {
                "slideshow": {
                    "slide_type": "fragment"
                }
            },
            "source": [
                "<b>=> Neue Erkenntnisse <span class=\"green\">verst\u00e4ndlich</span> herausarbeiten</b>"
            ]
        },
        {
            "cell_type": "markdown",
            "metadata": {
                "slideshow": {
                    "slide_type": "slide"
                }
            },
            "source": [
                "## Warum Data Science?"
            ]
        },
        {
            "cell_type": "markdown",
            "metadata": {
                "slideshow": {
                    "slide_type": "slide"
                }
            },
            "source": [
                "### Gro\u00dfe (Online-)Community\n",
                "* Kostenlose Online-Kurse, -Videos und Tutorials (z. B. DataCamp mit \u00fcber 4,6 Mio. Mitgliedern)\n",
                "* Direkte Hilfestellungen (z. B. Stack Overflow oder Blog-Artikel)\n",
                "* Lernen und lernen von anderen durch Online-Wettbewerbe (e. g. Kaggle, )"
            ]
        },
        {
            "cell_type": "markdown",
            "metadata": {
                "slideshow": {
                    "slide_type": "slide"
                }
            },
            "source": [
                "### Freie und einfach zu nutzende Werkzeuge!\n",
                "<br/>\n",
                "<br/>\n",
                "<img src=\"../../demos/resources/rvspy.png\" style=\"width:95%;\" >\n"
            ]
        },
        {
            "cell_type": "markdown",
            "metadata": {
                "slideshow": {
                    "slide_type": "slide"
                }
            },
            "source": [
                "### Data Science liegt immer noch im Trend!"
            ]
        },
        {
            "cell_type": "code",
            "execution_count": null,
            "metadata": {
                "slideshow": {
                    "slide_type": "fragment"
                },
                "tags": [
                    "delete"
                ]
            },
            "outputs": [],
            "source": []
        },
        {
            "cell_type": "markdown",
            "metadata": {
                "slideshow": {
                    "slide_type": "fragment"
                }
            },
            "source": [
                "\"100\" == max. Beliebtheit!"
            ]
        },
        {
            "cell_type": "markdown",
            "metadata": {
                "slideshow": {
                    "slide_type": "slide"
                }
            },
            "source": [
                "### Meine pers\u00f6nlichen Gr\u00fcnde: Not, Sinn & Gelassenheit"
            ]
        },
        {
            "cell_type": "markdown",
            "metadata": {
                "slideshow": {
                    "slide_type": "fragment"
                }
            },
            "source": [
                "* Masterand: Schnelle Ergebnisse notwendig"
            ]
        },
        {
            "cell_type": "markdown",
            "metadata": {
                "slideshow": {
                    "slide_type": "fragment"
                }
            },
            "source": [
                "* Enterprise Java-Entwickler: Abends noch was Richtiges zu Stande bekommen"
            ]
        },
        {
            "cell_type": "markdown",
            "metadata": {
                "slideshow": {
                    "slide_type": "fragment"
                }
            },
            "source": [
                "* Berater: Weitere Standbeine \"Data Science\" und \"Graphdatenbanken\""
            ]
        },
        {
            "cell_type": "markdown",
            "metadata": {
                "slideshow": {
                    "slide_type": "slide"
                }
            },
            "source": [
                "# Wie weit weg sind <span class=\"green\">SoftwareentwicklerInnen</span></b><br/> von <strong>Data Science</strong>?"
            ]
        },
        {
            "cell_type": "markdown",
            "metadata": {
                "slideshow": {
                    "slide_type": "slide"
                }
            },
            "source": [
                "### Was ist ein Data Scientist?\n",
                "\"A data scientist is someone who<br/>\n",
                "&nbsp;&nbsp;is better at **statistics**<br/>\n",
                "&nbsp;&nbsp;than any <b><span class=\"green\">software engineer</span></b><br/>\n",
                "&nbsp;&nbsp;and better at <b><span class=\"green\">software engineering</span></b><br/>\n",
                "&nbsp;&nbsp;than any **statistician**.\"\n",
                "<br/>\n",
                "<br/>\n",
                "<div align=\"right\"><small>From https://twitter.com/cdixon/status/428914681911070720</small></div>"
            ]
        },
        {
            "cell_type": "markdown",
            "metadata": {
                "slideshow": {
                    "slide_type": "fragment"
                }
            },
            "source": [
                "<b>Nicht so weit weg wie gedacht!</b>"
            ]
        },
        {
            "cell_type": "markdown",
            "metadata": {
                "slideshow": {
                    "slide_type": "slide"
                }
            },
            "source": [
                "# Wie <span class=\"blue\">Software Analytics</span> mit <strong>Data Science</strong>  beginnen?"
            ]
        },
        {
            "cell_type": "markdown",
            "metadata": {
                "slideshow": {
                    "slide_type": "slide"
                }
            },
            "source": [
                "### Bew\u00e4hrte Ans\u00e4tze nutzen\n",
                "<small>Roger Pengs \"Stages of Data Analysis\"</small>  \n",
                "I. Fragestellung  \n",
                "II. Explorative Datenanalyse  \n",
                "III. Formale Modellierung  \n",
                "IV. Interpretation  \n",
                "V. Kommunikation\n",
                "  \n",
                "\n"
            ]
        },
        {
            "cell_type": "markdown",
            "metadata": {
                "slideshow": {
                    "slide_type": "fragment"
                }
            },
            "source": [
                "<b>=> von der <strong>Frage</strong> \u00fcber die <span class=\"green\">Daten</span> zur <span class=\"blue\" style=\"background-color: #FFFF00\">Erkenntnis</span>!</b>"
            ]
        },
        {
            "cell_type": "markdown",
            "metadata": {
                "slideshow": {
                    "slide_type": "slide"
                }
            },
            "source": [
                "### Gedanken zur Analyse strukturieren\n",
                "<br/>\n",
                "<img src=\"../../demos/resources/canvas.png\" style=\"width:95%;\" >\n"
            ]
        },
        {
            "cell_type": "markdown",
            "metadata": {
                "slideshow": {
                    "slide_type": "slide"
                }
            },
            "source": [
                "### Immer dabei:  \"Seven principles...\n",
                "<small>...of inductive software engineering\" (Tim Menzies)</small>\n",
                "1. Human before algorithms\n",
                "1. Plan for Scale\n",
                "1. Get Early Feedback\n",
                "1. Be Open Minded\n",
                "1. Be Smart with Your Learning\n",
                "1. Live with the Data You Have\n",
                "1. Develop a Broad Skill Set That Uses a Big Toolkit"
            ]
        },
        {
            "cell_type": "markdown",
            "metadata": {
                "slideshow": {
                    "slide_type": "slide"
                }
            },
            "source": [
                "# Wie nachhaltig umsetzen?"
            ]
        },
        {
            "cell_type": "markdown",
            "metadata": {
                "slideshow": {
                    "slide_type": "slide"
                }
            },
            "source": [
                "### Verwende Literate Statistical Programming\n",
                "\n",
                "`(Intent + Code + Data + Results)`<br />\n",
                "`* Logical Step`<br />\n",
                "`+ Automation`<br />\n",
                "`= Literate Statistical Programming`"
            ]
        },
        {
            "cell_type": "markdown",
            "metadata": {
                "slideshow": {
                    "slide_type": "fragment"
                }
            },
            "source": [
                "Vehikel: **Computational notebooks**"
            ]
        },
        {
            "cell_type": "markdown",
            "metadata": {
                "slideshow": {
                    "slide_type": "slide"
                }
            },
            "source": [
                "#### Beispiel \"Computational Notebook\"\n",
                "<br/>\n",
                "  \n",
                "\n",
                "<div align=\"center\"><img src=\"../../demos/resources/notebook_approach.jpg\"></div>"
            ]
        },
        {
            "cell_type": "markdown",
            "metadata": {
                "slideshow": {
                    "slide_type": "slide"
                }
            },
            "source": [
                "### Nutze Data Science Standardwerkzeuge\n",
                "\n",
                "#### z. B. einen der popul\u00e4rsten Stacks\n",
                "\n",
                "* Jupyter Notebook\n",
                "* Python 3\n",
                "* pandas\n",
                "* matplotlib"
            ]
        },
        {
            "cell_type": "markdown",
            "metadata": {
                "slideshow": {
                    "slide_type": "slide"
                }
            },
            "source": [
                "### Jupyter Notebook\n",
                "\n",
                "**Interactive Notebook**\n",
                "* Dokumentenorientierte Analysen\n",
                "* Ausf\u00fchrbare Code-Bl\u00f6cke\n",
                "* Ergebnisse direkt ersichtlich\n",
                "* Alles an einem Platz\n",
                "* Jeder Analyseschritt sichtbar\n",
                "\n",
                "<b><span class=\"green\">=> Neue Erkenntnisse verst\u00e4ndlich herausarbeiten!</span></b>\n",
                "\n"
            ]
        },
        {
            "cell_type": "markdown",
            "metadata": {
                "slideshow": {
                    "slide_type": "slide"
                }
            },
            "source": [
                "### Python 3\n",
                "\n",
                "**Eine beliebte Programmiersprache im Data Science**\n",
                "* Einfach\n",
                "* Effektiv\n",
                "* Schnell\n",
                "* Spa\u00df\n",
                "* Automatisierung\n",
                "\n",
                "<b><span class=\"green\">=> Datenanalysen werden wiederholbar</span></b>"
            ]
        },
        {
            "cell_type": "markdown",
            "metadata": {
                "slideshow": {
                    "slide_type": "slide"
                }
            },
            "source": [
                "### pandas\n",
                "\n",
                "**Pragmatisches Datenanalysewerkzeug**\n",
                "* Tabellenartige Datenstrukturen (\"programmierbares Excel-Arbeitsblatt\")\n",
                "* Sehr schnelle Berechnungen\n",
                "* Flexibel \n",
                "* Ausdrucksstarke API\n",
                "\n",
                "<b><span class=\"green\">=> Guter Integrationspunkt f\u00fcr verschiedene Datenquellen!</span></b>"
            ]
        },
        {
            "cell_type": "markdown",
            "metadata": {
                "slideshow": {
                    "slide_type": "slide"
                }
            },
            "source": [
                "### matplotlib\n",
                "\n",
                "**Progammierbare Visualisierungsbibliothek**\n",
                "\n",
                "* Pragmatische Erstellung von Grafiken\n",
                "* Diagramme wie Linien-, Balken-, XY-Diagramme und viele andere\n",
                "* Gut integriert mit pandas\n",
                "\n",
                "<b><span class=\"green\">=> Direkte Visualisierung der Diagramme / Ergebnisse!</span></b>"
            ]
        },
        {
            "cell_type": "markdown",
            "metadata": {
                "slideshow": {
                    "slide_type": "slide"
                }
            },
            "source": [
                "### Das Python-\u00d6kosystem\n",
                "<br/>\n",
                "<div class=\"row\">\n",
                "  <div class=\"column\">\n",
                "    <b>Data Analysis</b>\n",
                "    <ul>\n",
                "      <li>NumPy</li>\n",
                "      <li>scikit-learn</li>\n",
                "      <li>TensorFlow</li>\n",
                "      <li>SciPy</li>\n",
                "      <li>PySpark</li>\n",
                "      <li>py2neo</li>\n",
                "    </ul>\n",
                "  </div>\n",
                "  <div class=\"column\">\n",
                "    <b>Visualisierung und mehr</b>\n",
                "    <ul>\n",
                "      <li>pygal</li>\n",
                "      <li>Bokeh</li>\n",
                "      <li>python-pptx</li>\n",
                "      <li>RISE</li>\n",
                "      <li>Requests, xmldataset, Selenium, Flask...</li>\n",
                "    </ul>\n",
                "  </div>\n",
                "</div> \n",
                "\n",
                "<b><span class=\"green\">=> Bietet in ganz individuellen Situationen die notwendige Flexibilit\u00e4t!</span></b> \n"
            ]
        },
        {
            "cell_type": "markdown",
            "metadata": {
                "slideshow": {
                    "slide_type": "slide"
                }
            },
            "source": [
                "### Andere Technologien\n",
                "**Jupyter Notebook** arbeitet auch mit anderen Technologieplattformen zusammen, z. B. mit\n",
                "* jQAssistant Scanner / Neo4j Graphdatenbank\n",
                "* JVM-Sprachen via beakerx / Tablesaw\n",
                "* bash\n",
                "\n",
                "<b><span class=\"green\">=> Spezielle Technologie? Wird (meist) unterst\u00fctzt!</span></b>\n"
            ]
        },
        {
            "cell_type": "markdown",
            "metadata": {
                "slideshow": {
                    "slide_type": "slide"
                }
            },
            "source": [
                "### Anaconda 3\n",
                "\n",
                "**Data Science Python Distribution**\n",
                "\n",
                "* Kostenloses All-Inclusive-Paket\n",
                "* Bringt alles mit, um loszulegen.\n",
                "* Optimiert f\u00fcr eine schnelle Ausf\u00fchrung auf dem jeweiligen Betriebssystem.\n",
                "\n",
                "<b><span class=\"green\">=> Downloaden, installieren, loslegen!</span></b>"
            ]
        },
        {
            "cell_type": "markdown",
            "metadata": {
                "slideshow": {
                    "slide_type": "slide"
                }
            },
            "source": [
                "### Meine Empfehlungen f\u00fcr einen einfachen Einstieg\n",
                "\n",
                "#### Meine TOP 5's*\n",
                "\n",
                "https://www.feststelltaste.de/category/top5/\n",
                "    \n",
                "Kurse, Videos, Blogs, B\u00fccher und mehr...\n",
                "\n",
                "\n",
                "<small>**einige Seiten befinden sich noch in der Entwicklung*</small>"
            ]
        },
        {
            "cell_type": "markdown",
            "metadata": {
                "slideshow": {
                    "slide_type": "slide"
                }
            },
            "source": [
                "### Meine Buchempfehlungen\n",
                "* Adam Tornhill: Software Design X-Ray \n",
                "* Wes McKinney: Python For Data Analysis\n",
                "* Jeff Leek: The Elements of Data Analytic Style\n",
                "* Tim Menzies, Laurie Williams, Thomas Zimmermann: Perspectives on Data Science for Software Engineering\n",
                "* Mini-Tutorial unter `https://github.com/feststelltaste/software-analytics-workshop`"
            ]
        },
        {
            "cell_type": "markdown",
            "metadata": {
                "slideshow": {
                    "slide_type": "slide"
                }
            },
            "source": [
                "# Hands-On"
            ]
        },
        {
            "cell_type": "markdown",
            "metadata": {
                "slideshow": {
                    "slide_type": "slide"
                }
            },
            "source": [
                "## Programmierbeispiel"
            ]
        },
        {
            "cell_type": "markdown",
            "metadata": {
                "slideshow": {
                    "slide_type": "slide"
                }
            },
            "source": [
                "### Fallbeispiel\n",
                "\n",
                "#### IntelliJ IDEA\n",
                "\n",
                "* IDE f\u00fcr Java-Entwickler\n",
                "* Fast komplett in Java geschrieben\n",
                "* Gro\u00dfes und lang aktives Projekt"
            ]
        },
        {
            "cell_type": "markdown",
            "metadata": {
                "slideshow": {
                    "slide_type": "slide"
                }
            },
            "source": [
                "### I. Fragestellung (1/3)\n",
                "\n",
                "* Schreibe die Frage explizit auf\n",
                "* Erkl\u00e4re die Anayseidee verst\u00e4ndlich\n"
            ]
        },
        {
            "cell_type": "markdown",
            "metadata": {
                "slideshow": {
                    "slide_type": "slide"
                }
            },
            "source": [
                "### I. Fragestellung (2/3)\n",
                "\n",
                "<b>Frage</b>\n",
                "* Welche Quellcodedateien sind besonders komplex und \u00e4nderten sich in letzter Zeit h\u00e4ufig?\n"
            ]
        },
        {
            "cell_type": "markdown",
            "metadata": {
                "slideshow": {
                    "slide_type": "slide"
                }
            },
            "source": [
                "### I. Fragestellung (3/3)\n",
                "#### Umsetzungsideen\n",
                "* Werkzeuge: Jupyter, Python, pandas, matplotlib\n",
                "* Heuristiken:\n",
                " * \"komplex\": viele Quellcodezeilen\n",
                " * \"\u00e4ndert ... h\u00e4ufig\": hohe Anzahl an Git-Commits\n",
                " * \"in letzter Zeit\": letzte 30 Tage\n"
            ]
        },
        {
            "cell_type": "markdown",
            "metadata": {
                "slideshow": {
                    "slide_type": "fragment"
                }
            },
            "source": [
                "**Meta-Ziel:** Grundfunktionen anhand eines einfachen Use-Cases sehen."
            ]
        },
        {
            "cell_type": "markdown",
            "metadata": {
                "slideshow": {
                    "slide_type": "slide"
                }
            },
            "source": [
                "### II. Explorative Datenanalyse\n",
                "* Finde und lade m\u00f6gliche Softwaredaten\n",
                "* Bereinige und filtere die Rohdaten"
            ]
        },
        {
            "cell_type": "markdown",
            "metadata": {
                "slideshow": {
                    "slide_type": "slide"
                }
            },
            "source": [
                "*Wir laden einen Datenexport aus einem Git-Repository.*"
            ]
        },
        {
            "cell_type": "code",
            "execution_count": null,
            "metadata": {
                "slideshow": {
                    "slide_type": "fragment"
                },
                "tags": [
                    "delete"
                ]
            },
            "outputs": [],
            "source": []
        },
        {
            "cell_type": "markdown",
            "metadata": {
                "slideshow": {
                    "slide_type": "slide"
                }
            },
            "source": [
                "*Wir sehen uns Basisinfos \u00fcber den Datensatz an.*"
            ]
        },
        {
            "cell_type": "code",
            "execution_count": null,
            "metadata": {
                "slideshow": {
                    "slide_type": "-"
                },
                "tags": [
                    "delete"
                ]
            },
            "outputs": [],
            "source": []
        },
        {
            "cell_type": "markdown",
            "metadata": {
                "slideshow": {
                    "slide_type": "fragment"
                }
            },
            "source": [
                "<b>1</b> **DataFrame** (~ programmierbares Excel-Arbeitsblatt), <b>6</b> **Series** (= Spalten), <b>1128819</b> **entries** (= Reihen)"
            ]
        },
        {
            "cell_type": "markdown",
            "metadata": {
                "slideshow": {
                    "slide_type": "slide"
                }
            },
            "source": [
                "*Wir wandeln die Zeitstempel von Texte in Objekte um.*"
            ]
        },
        {
            "cell_type": "code",
            "execution_count": null,
            "metadata": {
                "slideshow": {
                    "slide_type": "-"
                },
                "tags": [
                    "delete"
                ]
            },
            "outputs": [],
            "source": []
        },
        {
            "cell_type": "markdown",
            "metadata": {
                "slideshow": {
                    "slide_type": "slide"
                }
            },
            "source": [
                "*Wir sehen uns nur die j\u00fcngsten \u00c4nderungen an.*"
            ]
        },
        {
            "cell_type": "code",
            "execution_count": null,
            "metadata": {
                "scrolled": true,
                "slideshow": {
                    "slide_type": "-"
                },
                "tags": [
                    "delete"
                ]
            },
            "outputs": [],
            "source": []
        },
        {
            "cell_type": "markdown",
            "metadata": {
                "slideshow": {
                    "slide_type": "slide"
                }
            },
            "source": [
                "*Wir wollen nur Java-Code verwenden.*"
            ]
        },
        {
            "cell_type": "code",
            "execution_count": null,
            "metadata": {
                "slideshow": {
                    "slide_type": "-"
                },
                "tags": [
                    "delete"
                ]
            },
            "outputs": [],
            "source": []
        },
        {
            "cell_type": "markdown",
            "metadata": {
                "slideshow": {
                    "slide_type": "slide"
                }
            },
            "source": [
                "### III. Formale Modellierung\n",
                "\n",
                "* Schaffe neue Sichten\n",
                "* Verschneide weitere Daten"
            ]
        },
        {
            "cell_type": "markdown",
            "metadata": {
                "slideshow": {
                    "slide_type": "slide"
                }
            },
            "source": [
                "*We aggregate the rows by counting the number of changes per file.*"
            ]
        },
        {
            "cell_type": "code",
            "execution_count": null,
            "metadata": {
                "slideshow": {
                    "slide_type": "-"
                },
                "tags": [
                    "delete"
                ]
            },
            "outputs": [],
            "source": []
        },
        {
            "cell_type": "markdown",
            "metadata": {
                "slideshow": {
                    "slide_type": "slide"
                }
            },
            "source": [
                "*Wir holen Infos \u00fcber die Code-Zeilen hinzu...*"
            ]
        },
        {
            "cell_type": "code",
            "execution_count": null,
            "metadata": {
                "slideshow": {
                    "slide_type": "-"
                },
                "tags": [
                    "delete"
                ]
            },
            "outputs": [],
            "source": []
        },
        {
            "cell_type": "markdown",
            "metadata": {
                "slideshow": {
                    "slide_type": "slide"
                }
            },
            "source": [
                "*...und verschneiden diese mit den vorhandenen Daten.*"
            ]
        },
        {
            "cell_type": "code",
            "execution_count": null,
            "metadata": {
                "slideshow": {
                    "slide_type": "-"
                },
                "tags": [
                    "delete"
                ]
            },
            "outputs": [],
            "source": []
        },
        {
            "cell_type": "markdown",
            "metadata": {
                "slideshow": {
                    "slide_type": "slide"
                }
            },
            "source": [
                "### VI. Interpretation\n",
                "* Erarbeite das Kernergebnis der Analyse heraus\n",
                "* Mache die zentrale Botschaft / neuen Erkenntnisse deutlich"
            ]
        },
        {
            "cell_type": "markdown",
            "metadata": {
                "slideshow": {
                    "slide_type": "slide"
                }
            },
            "source": [
                "*Wir zeigen nur die TOP 10 Hotspots im Code an.*"
            ]
        },
        {
            "cell_type": "code",
            "execution_count": null,
            "metadata": {
                "slideshow": {
                    "slide_type": "-"
                },
                "tags": [
                    "delete"
                ]
            },
            "outputs": [],
            "source": []
        },
        {
            "cell_type": "markdown",
            "metadata": {
                "slideshow": {
                    "slide_type": "slide"
                }
            },
            "source": [
                "### V. Kommunikation\n",
                "* Transformiere die Erkenntnisse in eine verst\u00e4ndliche Visualisierung\n",
                "* Kommuniziere die n\u00e4chsten Schritte nach der Analyse"
            ]
        },
        {
            "cell_type": "markdown",
            "metadata": {
                "slideshow": {
                    "slide_type": "slide"
                }
            },
            "source": [
                "*We plot the TOP 10 list as XY diagram.*"
            ]
        },
        {
            "cell_type": "code",
            "execution_count": null,
            "metadata": {
                "slideshow": {
                    "slide_type": "-"
                },
                "tags": [
                    "delete"
                ]
            },
            "outputs": [],
            "source": []
        },
        {
            "cell_type": "markdown",
            "metadata": {
                "slideshow": {
                    "slide_type": "slide"
                }
            },
            "source": [
                "### Ende der Demo"
            ]
        },
        {
            "cell_type": "markdown",
            "metadata": {
                "slideshow": {
                    "slide_type": "slide"
                }
            },
            "source": [
                "## Weitere Analysebeispiele\n",
                "\n",
                "* Analyse der CPU-Auslastung mit Daten von `vmstat`\n",
                "* Abh\u00e4ngigkeitsanalyse mit Daten von `jdeps` und Visualisierung mit `D3`\n",
                "* Identifizierung von Modularisierungsoptionen basierend auf reinen Code\u00e4nderungen in `Git`\n",
                "* Analyse von Performance-Hotspots mit `jQAssistant` / `Neo4j`\n",
                "* Automatisierte Pr\u00fcfung der (Architektur-)Governance-Vorgaben mit `jQAssistant`"
            ]
        },
        {
            "cell_type": "markdown",
            "metadata": {
                "slideshow": {
                    "slide_type": "slide"
                }
            },
            "source": [
                "## Zusammenfassung\n",
                "**1.** <b>Softwareanalysen</b> mit Data-Science-Werkzeugen sind m\u00f6glich  \n",
                "**2.** Wer mehr will bekommt auch <b>mehr</b>!  \n",
                "**3.** Es gibt unglaublich <b>viele Quellen</b> f\u00fcr Daten in der Softwareentwicklung  "
            ]
        },
        {
            "cell_type": "markdown",
            "metadata": {
                "slideshow": {
                    "slide_type": "fragment"
                }
            },
            "source": [
                "<b>=> von der <strong>Frage</strong> \u00fcber die <span class=\"green\">Daten</span> zur <span class=\"blue\" style=\"background-color: #FFFF00\">Erkenntnis</span>!</b>"
            ]
        },
        {
            "cell_type": "markdown",
            "metadata": {
                "slideshow": {
                    "slide_type": "slide"
                }
            },
            "source": [
                "# Danke!\n",
                "\n",
                "<b>Markus Harrer</b><br/>\n",
                "innoQ Deutschland GmbH\n",
                "  \n",
                "markus.harrer@innoq.com\n",
                "\n",
                "`@feststelltaste`"
            ]
        }
    ],
    "metadata": {
        "celltoolbar": "Slideshow",
        "kernelspec": {
            "display_name": "Python 3",
            "language": "python",
            "name": "python3"
        },
        "language_info": {
            "codemirror_mode": {
                "name": "ipython",
                "version": 3
            },
            "file_extension": ".py",
            "mimetype": "text/x-python",
            "name": "python",
            "nbconvert_exporter": "python",
            "pygments_lexer": "ipython3",
            "version": "3.6.4"
        },
        "rise": {
            "controls": false,
            "showSlideNumber": "speaker",
            "slideNumber ": "false",
            "transition": "none"
        }
    },
    "nbformat": 4,
    "nbformat_minor": 2
}