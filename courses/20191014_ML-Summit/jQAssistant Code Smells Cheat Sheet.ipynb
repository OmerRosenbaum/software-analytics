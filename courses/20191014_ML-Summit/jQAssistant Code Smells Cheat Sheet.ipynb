{
 "cells": [
  {
   "cell_type": "markdown",
   "metadata": {},
   "source": [
    "# jQAssistant Demos\n",
    "* Neo4j-Server starten\n",
    " * `mvn jqassistant:server`\n",
    "* Browser öffnen\n",
    " * http://localhost:7474/browser/\n",
    "* Drawer öffnen\n",
    "* Labels durchklicken\n",
    " * `Commit`\n",
    " * `Class`\n",
    " * `:DECLARES`\n",
    " * jQAssistant Dokumentation: http://buschmais.github.io/jqassistant/doc/1.3.0/#_java_plugin\n",
    " "
   ]
  },
  {
   "cell_type": "markdown",
   "metadata": {},
   "source": [
    "## Beispiel-Queries"
   ]
  },
  {
   "cell_type": "markdown",
   "metadata": {},
   "source": [
    "### Setup\n",
    "Cypher Extension für Jupyter laden"
   ]
  },
  {
   "cell_type": "code",
   "execution_count": null,
   "metadata": {},
   "outputs": [],
   "source": [
    "%load_ext cypher"
   ]
  },
  {
   "cell_type": "markdown",
   "metadata": {},
   "source": [
    "### Klasse mit den meisten Methoden auflisten"
   ]
  },
  {
   "cell_type": "code",
   "execution_count": null,
   "metadata": {},
   "outputs": [],
   "source": [
    "%%cypher\n",
    "MATCH \n",
    "  (t:Type)-[:DECLARES]->(m:Method)\n",
    "RETURN t.fqn as Typ, COUNT(m) as Methoden\n",
    "ORDER BY Methoden DESC"
   ]
  },
  {
   "cell_type": "markdown",
   "metadata": {},
   "source": [
    "### Statische, geschriebene Variablen"
   ]
  },
  {
   "cell_type": "code",
   "execution_count": null,
   "metadata": {},
   "outputs": [],
   "source": [
    "%%cypher\n",
    "MATCH (c:Class)-[:DECLARES]->(f:Field)<-[w:WRITES]-(m:Method)\n",
    "WHERE \n",
    "    EXISTS(f.static) AND NOT EXISTS(f.final)\n",
    "RETURN \n",
    "    c.name as InClass, \n",
    "    m.name as theMethod, \n",
    "    w.lineNumber as writesInLine, \n",
    "    f.name as toStaticField"
   ]
  },
  {
   "cell_type": "markdown",
   "metadata": {},
   "source": [
    "### Aggregation von Messergebnissen über fachliche Bereiche"
   ]
  },
  {
   "cell_type": "code",
   "execution_count": null,
   "metadata": {},
   "outputs": [],
   "source": [
    "%%cypher\n",
    "MATCH \n",
    "  (t:Type)-[:BELONGS_TO]->(s:Subdomain),\n",
    "  (t)-[:HAS_CHANGE]->(ch:Change)\n",
    "RETURN \n",
    "  s.name as ASubdomain,\n",
    "  COUNT(DISTINCT t) as Types,\n",
    "  COUNT(DISTINCT ch) as Changes\n",
    "ORDER BY Types DESC"
   ]
  },
  {
   "cell_type": "markdown",
   "metadata": {},
   "source": [
    "### Umfassende Aggregation von Messergebnissen über fachliche Bereiche"
   ]
  },
  {
   "cell_type": "code",
   "execution_count": null,
   "metadata": {},
   "outputs": [],
   "source": [
    "%%cypher\n",
    "MATCH \n",
    "  (t:Type)-[:BELONGS_TO]->(s:Subdomain),\n",
    "  (t)-[:HAS_CHANGE]->(ch:Change),\n",
    "  (t)-[:HAS_MEASURE]->(co:Coverage)\n",
    "OPTIONAL MATCH\n",
    "  (t)-[:HAS_BUG]->(b:BugInstance)\n",
    "RETURN \n",
    "  s.name as ASubdomain,\n",
    "  COUNT(DISTINCT t) as Types,\n",
    "  COUNT(DISTINCT ch) as Changes,\n",
    "  AVG(co.ratio) as Coverage,\n",
    "  COUNT(DISTINCT b) as Bugs,\n",
    "  SUM(DISTINCT t.lastMethodLineNumber) as Lines\n",
    "ORDER BY Coverage ASC, Bugs DESC"
   ]
  }
 ],
 "metadata": {
  "kernelspec": {
   "display_name": "Python 3",
   "language": "python",
   "name": "python3"
  },
  "language_info": {
   "codemirror_mode": {
    "name": "ipython",
    "version": 3
   },
   "file_extension": ".py",
   "mimetype": "text/x-python",
   "name": "python",
   "nbconvert_exporter": "python",
   "pygments_lexer": "ipython3",
   "version": "3.6.4"
  }
 },
 "nbformat": 4,
 "nbformat_minor": 2
}
