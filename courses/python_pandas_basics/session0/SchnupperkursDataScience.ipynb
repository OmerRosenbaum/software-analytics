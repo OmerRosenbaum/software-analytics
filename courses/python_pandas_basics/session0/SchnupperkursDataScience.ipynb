{
 "cells": [
  {
   "cell_type": "code",
   "execution_count": 40,
   "metadata": {},
   "outputs": [],
   "source": [
    "pd.DataFrame.plot?"
   ]
  },
  {
   "cell_type": "code",
   "execution_count": 39,
   "metadata": {
    "collapsed": true
   },
   "outputs": [],
   "source": [
    "matplotlib?"
   ]
  },
  {
   "cell_type": "code",
   "execution_count": 20,
   "metadata": {
    "collapsed": true
   },
   "outputs": [],
   "source": [
    "import pandas as pd\n",
    "import matplotlib.pyplot as plt\n",
    "import matplotlib\n",
    "%matplotlib inline\n",
    "matplotlib.style.use('ggplot') # Look Pretty"
   ]
  },
  {
   "cell_type": "code",
   "execution_count": 36,
   "metadata": {},
   "outputs": [
    {
     "data": {
      "text/html": [
       "<div>\n",
       "<style>\n",
       "    .dataframe thead tr:only-child th {\n",
       "        text-align: right;\n",
       "    }\n",
       "\n",
       "    .dataframe thead th {\n",
       "        text-align: left;\n",
       "    }\n",
       "\n",
       "    .dataframe tbody tr th {\n",
       "        vertical-align: top;\n",
       "    }\n",
       "</style>\n",
       "<table border=\"1\" class=\"dataframe\">\n",
       "  <thead>\n",
       "    <tr style=\"text-align: right;\">\n",
       "      <th></th>\n",
       "      <th>In</th>\n",
       "      <th>Out</th>\n",
       "      <th>Direction</th>\n",
       "      <th>CallTimestamp</th>\n",
       "      <th>Duration</th>\n",
       "      <th>TowerID</th>\n",
       "    </tr>\n",
       "  </thead>\n",
       "  <tbody>\n",
       "    <tr>\n",
       "      <th>0</th>\n",
       "      <td>4638472273</td>\n",
       "      <td>2666307251</td>\n",
       "      <td>Incoming</td>\n",
       "      <td>2010-12-25 07:16:24.736813</td>\n",
       "      <td>0:02:41.741499</td>\n",
       "      <td>0db53dd3-eb9c-4344-abc5-c2d74ebc3eec</td>\n",
       "    </tr>\n",
       "    <tr>\n",
       "      <th>1</th>\n",
       "      <td>4638472273</td>\n",
       "      <td>1755442610</td>\n",
       "      <td>Incoming</td>\n",
       "      <td>2010-12-25 21:18:30.053710</td>\n",
       "      <td>0:02:47.108750</td>\n",
       "      <td>aeaf8b43-8034-44fe-833d-31854a75acbf</td>\n",
       "    </tr>\n",
       "    <tr>\n",
       "      <th>2</th>\n",
       "      <td>4638472273</td>\n",
       "      <td>5481755331</td>\n",
       "      <td>Incoming</td>\n",
       "      <td>2010-12-25 14:52:42.878016</td>\n",
       "      <td>0:04:35.356341</td>\n",
       "      <td>fadaa83f-6001-45fd-aa4a-17d6c6b7ec00</td>\n",
       "    </tr>\n",
       "    <tr>\n",
       "      <th>3</th>\n",
       "      <td>4638472273</td>\n",
       "      <td>1755442610</td>\n",
       "      <td>Incoming</td>\n",
       "      <td>2010-12-25 16:02:09.001913</td>\n",
       "      <td>0:02:23.498499</td>\n",
       "      <td>fadaa83f-6001-45fd-aa4a-17d6c6b7ec00</td>\n",
       "    </tr>\n",
       "    <tr>\n",
       "      <th>4</th>\n",
       "      <td>4638472273</td>\n",
       "      <td>2145623768</td>\n",
       "      <td>Incoming</td>\n",
       "      <td>2010-12-25 15:28:35.028554</td>\n",
       "      <td>0:03:54.692497</td>\n",
       "      <td>95d7920d-c3cd-4d20-a568-9a55800dc807</td>\n",
       "    </tr>\n",
       "  </tbody>\n",
       "</table>\n",
       "</div>"
      ],
      "text/plain": [
       "           In         Out Direction               CallTimestamp  \\\n",
       "0  4638472273  2666307251  Incoming  2010-12-25 07:16:24.736813   \n",
       "1  4638472273  1755442610  Incoming  2010-12-25 21:18:30.053710   \n",
       "2  4638472273  5481755331  Incoming  2010-12-25 14:52:42.878016   \n",
       "3  4638472273  1755442610  Incoming  2010-12-25 16:02:09.001913   \n",
       "4  4638472273  2145623768  Incoming  2010-12-25 15:28:35.028554   \n",
       "\n",
       "         Duration                               TowerID  \n",
       "0  0:02:41.741499  0db53dd3-eb9c-4344-abc5-c2d74ebc3eec  \n",
       "1  0:02:47.108750  aeaf8b43-8034-44fe-833d-31854a75acbf  \n",
       "2  0:04:35.356341  fadaa83f-6001-45fd-aa4a-17d6c6b7ec00  \n",
       "3  0:02:23.498499  fadaa83f-6001-45fd-aa4a-17d6c6b7ec00  \n",
       "4  0:03:54.692497  95d7920d-c3cd-4d20-a568-9a55800dc807  "
      ]
     },
     "execution_count": 36,
     "metadata": {},
     "output_type": "execute_result"
    }
   ],
   "source": [
    "# This dataset has call records for 10 users tracked over the course of 3 years. \n",
    "df = pd.read_csv('data/CDR_data.csv')\n",
    "df.head()"
   ]
  },
  {
   "cell_type": "code",
   "execution_count": 34,
   "metadata": {},
   "outputs": [
    {
     "name": "stdout",
     "output_type": "stream",
     "text": [
      "<class 'pandas.core.frame.DataFrame'>\n",
      "RangeIndex: 53188 entries, 0 to 53187\n",
      "Data columns (total 6 columns):\n",
      "In               53188 non-null int64\n",
      "Out              53188 non-null int64\n",
      "Direction        53188 non-null object\n",
      "CallTimestamp    53188 non-null object\n",
      "Duration         53188 non-null object\n",
      "TowerID          53188 non-null object\n",
      "dtypes: int64(2), object(4)\n",
      "memory usage: 2.4+ MB\n"
     ]
    }
   ],
   "source": [
    "df.info()"
   ]
  },
  {
   "cell_type": "code",
   "execution_count": 24,
   "metadata": {},
   "outputs": [
    {
     "name": "stdout",
     "output_type": "stream",
     "text": [
      "<class 'pandas.core.frame.DataFrame'>\n",
      "RangeIndex: 53188 entries, 0 to 53187\n",
      "Data columns (total 6 columns):\n",
      "In               53188 non-null int64\n",
      "Out              53188 non-null int64\n",
      "Direction        53188 non-null object\n",
      "CallTimestamp    53188 non-null datetime64[ns]\n",
      "Duration         53188 non-null timedelta64[ns]\n",
      "TowerID          53188 non-null object\n",
      "dtypes: datetime64[ns](1), int64(2), object(2), timedelta64[ns](1)\n",
      "memory usage: 2.4+ MB\n"
     ]
    }
   ],
   "source": [
    "df.CallTimestamp = pd.to_datetime(df.CallTimestamp)\n",
    "df.Duration = pd.to_timedelta(df.Duration)\n",
    "df.info()"
   ]
  },
  {
   "cell_type": "code",
   "execution_count": 30,
   "metadata": {},
   "outputs": [
    {
     "data": {
      "text/html": [
       "<div>\n",
       "<style>\n",
       "    .dataframe thead tr:only-child th {\n",
       "        text-align: right;\n",
       "    }\n",
       "\n",
       "    .dataframe thead th {\n",
       "        text-align: left;\n",
       "    }\n",
       "\n",
       "    .dataframe tbody tr th {\n",
       "        vertical-align: top;\n",
       "    }\n",
       "</style>\n",
       "<table border=\"1\" class=\"dataframe\">\n",
       "  <thead>\n",
       "    <tr style=\"text-align: right;\">\n",
       "      <th></th>\n",
       "      <th>name</th>\n",
       "      <th>number</th>\n",
       "    </tr>\n",
       "  </thead>\n",
       "  <tbody>\n",
       "    <tr>\n",
       "      <th>0</th>\n",
       "      <td>Philip Morales</td>\n",
       "      <td>03789882060</td>\n",
       "    </tr>\n",
       "    <tr>\n",
       "      <th>1</th>\n",
       "      <td>Julie Turner</td>\n",
       "      <td>08431579775</td>\n",
       "    </tr>\n",
       "    <tr>\n",
       "      <th>2</th>\n",
       "      <td>Andre Allen</td>\n",
       "      <td>09094831840</td>\n",
       "    </tr>\n",
       "    <tr>\n",
       "      <th>3</th>\n",
       "      <td>Nicole Duncan</td>\n",
       "      <td>00715852225</td>\n",
       "    </tr>\n",
       "    <tr>\n",
       "      <th>4</th>\n",
       "      <td>Matthew Nelson</td>\n",
       "      <td>00672745472</td>\n",
       "    </tr>\n",
       "  </tbody>\n",
       "</table>\n",
       "</div>"
      ],
      "text/plain": [
       "             name       number\n",
       "0  Philip Morales  03789882060\n",
       "1    Julie Turner  08431579775\n",
       "2     Andre Allen  09094831840\n",
       "3   Nicole Duncan  00715852225\n",
       "4  Matthew Nelson  00672745472"
      ]
     },
     "execution_count": 30,
     "metadata": {},
     "output_type": "execute_result"
    }
   ],
   "source": [
    "phoneowners = pd.read_csv(\"data/phoneowners.xlsx\", dtype={1:str})\n",
    "phoneowners.head()"
   ]
  },
  {
   "cell_type": "code",
   "execution_count": 28,
   "metadata": {},
   "outputs": [
    {
     "name": "stdout",
     "output_type": "stream",
     "text": [
      "<class 'pandas.core.frame.DataFrame'>\n",
      "RangeIndex: 999 entries, 0 to 998\n",
      "Data columns (total 2 columns):\n",
      "name      999 non-null object\n",
      "number    999 non-null int64\n",
      "dtypes: int64(1), object(1)\n",
      "memory usage: 15.7+ KB\n"
     ]
    }
   ],
   "source": [
    "phoneowners.info()"
   ]
  },
  {
   "cell_type": "code",
   "execution_count": 27,
   "metadata": {},
   "outputs": [
    {
     "data": {
      "text/html": [
       "<div>\n",
       "<style>\n",
       "    .dataframe thead tr:only-child th {\n",
       "        text-align: right;\n",
       "    }\n",
       "\n",
       "    .dataframe thead th {\n",
       "        text-align: left;\n",
       "    }\n",
       "\n",
       "    .dataframe tbody tr th {\n",
       "        vertical-align: top;\n",
       "    }\n",
       "</style>\n",
       "<table border=\"1\" class=\"dataframe\">\n",
       "  <thead>\n",
       "    <tr style=\"text-align: right;\">\n",
       "      <th></th>\n",
       "      <th>name</th>\n",
       "      <th>number</th>\n",
       "    </tr>\n",
       "  </thead>\n",
       "  <tbody>\n",
       "    <tr>\n",
       "      <th>498</th>\n",
       "      <td>John Doe</td>\n",
       "      <td>4638472273</td>\n",
       "    </tr>\n",
       "  </tbody>\n",
       "</table>\n",
       "</div>"
      ],
      "text/plain": [
       "         name      number\n",
       "498  John Doe  4638472273"
      ]
     },
     "execution_count": 27,
     "metadata": {},
     "output_type": "execute_result"
    }
   ],
   "source": [
    "phoneowners[phoneowners.name == \"John Doe\"]"
   ]
  },
  {
   "cell_type": "code",
   "execution_count": 7,
   "metadata": {
    "collapsed": true
   },
   "outputs": [],
   "source": [
    "suspect_data = df[df.In = ]\n",
    "\n"
   ]
  },
  {
   "cell_type": "code",
   "execution_count": 18,
   "metadata": {},
   "outputs": [
    {
     "data": {
      "text/plain": [
       "<matplotlib.axes._subplots.AxesSubplot at 0x1e78d262d68>"
      ]
     },
     "execution_count": 18,
     "metadata": {},
     "output_type": "execute_result"
    },
    {
     "data": {
      "image/png": "[encoded data removed]",
      "text/plain": [
       "<matplotlib.figure.Figure at 0x1e78bcdbd68>"
      ]
     },
     "metadata": {},
     "output_type": "display_data"
    }
   ],
   "source": [
    "# INFO: Plot all the call locations\n",
    "%matplotlib inline\n",
    "user1.plot.scatter(x='TowerLon', y='TowerLat', c='purple', alpha=0.12, title='Call Locations', s = 30)\n",
    "#showandtell()  # Comment this line out when you're ready to proceed"
   ]
  },
  {
   "cell_type": "code",
   "execution_count": 15,
   "metadata": {},
   "outputs": [
    {
     "data": {
      "text/html": [
       "<div>\n",
       "<style>\n",
       "    .dataframe thead tr:only-child th {\n",
       "        text-align: right;\n",
       "    }\n",
       "\n",
       "    .dataframe thead th {\n",
       "        text-align: left;\n",
       "    }\n",
       "\n",
       "    .dataframe tbody tr th {\n",
       "        vertical-align: top;\n",
       "    }\n",
       "</style>\n",
       "<table border=\"1\" class=\"dataframe\">\n",
       "  <thead>\n",
       "    <tr style=\"text-align: right;\">\n",
       "      <th></th>\n",
       "      <th>In</th>\n",
       "      <th>Out</th>\n",
       "      <th>Direction</th>\n",
       "      <th>CallDate</th>\n",
       "      <th>CallTime</th>\n",
       "      <th>DOW</th>\n",
       "      <th>Duration</th>\n",
       "      <th>TowerID</th>\n",
       "      <th>TowerLat</th>\n",
       "      <th>TowerLon</th>\n",
       "    </tr>\n",
       "  </thead>\n",
       "  <tbody>\n",
       "    <tr>\n",
       "      <th>940</th>\n",
       "      <td>4638472273</td>\n",
       "      <td>6150928001</td>\n",
       "      <td>Incoming</td>\n",
       "      <td>2011-01-08</td>\n",
       "      <td>22:22:33.693878</td>\n",
       "      <td>Sat</td>\n",
       "      <td>00:00:35.065912</td>\n",
       "      <td>26f7441e-e64b-4b9d-8c5a-0eb34f7e919f</td>\n",
       "      <td>32.731611</td>\n",
       "      <td>-96.709417</td>\n",
       "    </tr>\n",
       "    <tr>\n",
       "      <th>1875</th>\n",
       "      <td>4638472273</td>\n",
       "      <td>2145623768</td>\n",
       "      <td>Incoming</td>\n",
       "      <td>2011-01-22</td>\n",
       "      <td>22:21:27.466908</td>\n",
       "      <td>Sat</td>\n",
       "      <td>00:03:40.018320</td>\n",
       "      <td>2567c73b-3711-4a31-8683-9d12d56857d8</td>\n",
       "      <td>32.731611</td>\n",
       "      <td>-96.709417</td>\n",
       "    </tr>\n",
       "    <tr>\n",
       "      <th>6949</th>\n",
       "      <td>4638472273</td>\n",
       "      <td>5621270003</td>\n",
       "      <td>Missed</td>\n",
       "      <td>2011-04-09</td>\n",
       "      <td>22:59:23.206408</td>\n",
       "      <td>Sat</td>\n",
       "      <td>00:03:06.567364</td>\n",
       "      <td>2567c73b-3711-4a31-8683-9d12d56857d8</td>\n",
       "      <td>32.731611</td>\n",
       "      <td>-96.709417</td>\n",
       "    </tr>\n",
       "    <tr>\n",
       "      <th>7468</th>\n",
       "      <td>4638472273</td>\n",
       "      <td>7756914135</td>\n",
       "      <td>Incoming</td>\n",
       "      <td>2011-04-17</td>\n",
       "      <td>05:15:40.205917</td>\n",
       "      <td>Sun</td>\n",
       "      <td>00:02:09.984993</td>\n",
       "      <td>cd9f3b1a-2eb8-4cdb-86d1-5d4c2740b1dc</td>\n",
       "      <td>32.731722</td>\n",
       "      <td>-96.709500</td>\n",
       "    </tr>\n",
       "    <tr>\n",
       "      <th>9753</th>\n",
       "      <td>4638472273</td>\n",
       "      <td>7922223441</td>\n",
       "      <td>Incoming</td>\n",
       "      <td>2011-05-21</td>\n",
       "      <td>05:08:20.121145</td>\n",
       "      <td>Sat</td>\n",
       "      <td>00:01:30.059591</td>\n",
       "      <td>0db53dd3-eb9c-4344-abc5-c2d74ebc3eec</td>\n",
       "      <td>32.731611</td>\n",
       "      <td>-96.709417</td>\n",
       "    </tr>\n",
       "  </tbody>\n",
       "</table>\n",
       "</div>"
      ],
      "text/plain": [
       "              In         Out Direction   CallDate         CallTime  DOW  \\\n",
       "940   4638472273  6150928001  Incoming 2011-01-08  22:22:33.693878  Sat   \n",
       "1875  4638472273  2145623768  Incoming 2011-01-22  22:21:27.466908  Sat   \n",
       "6949  4638472273  5621270003    Missed 2011-04-09  22:59:23.206408  Sat   \n",
       "7468  4638472273  7756914135  Incoming 2011-04-17  05:15:40.205917  Sun   \n",
       "9753  4638472273  7922223441  Incoming 2011-05-21  05:08:20.121145  Sat   \n",
       "\n",
       "            Duration                               TowerID   TowerLat  \\\n",
       "940  00:00:35.065912  26f7441e-e64b-4b9d-8c5a-0eb34f7e919f  32.731611   \n",
       "1875 00:03:40.018320  2567c73b-3711-4a31-8683-9d12d56857d8  32.731611   \n",
       "6949 00:03:06.567364  2567c73b-3711-4a31-8683-9d12d56857d8  32.731611   \n",
       "7468 00:02:09.984993  cd9f3b1a-2eb8-4cdb-86d1-5d4c2740b1dc  32.731722   \n",
       "9753 00:01:30.059591  0db53dd3-eb9c-4344-abc5-c2d74ebc3eec  32.731611   \n",
       "\n",
       "       TowerLon  \n",
       "940  -96.709417  \n",
       "1875 -96.709417  \n",
       "6949 -96.709417  \n",
       "7468 -96.709500  \n",
       "9753 -96.709417  "
      ]
     },
     "execution_count": 15,
     "metadata": {},
     "output_type": "execute_result"
    }
   ],
   "source": [
    "#\n",
    "# INFO: The locations map above should be too \"busy\" to really wrap your head around. This is where domain expertise comes into play.\n",
    "# Your intuition tells you that people are likely to behave differently on weekends:\n",
    "#\n",
    "# On Weekends:\n",
    "#   1. People probably don't go into work\n",
    "#   2. They probably sleep in late on Saturday\n",
    "#   3. They probably run a bunch of random errands, since they couldn't during the week\n",
    "#   4. They should be home, at least during the very late hours, e.g. 1-4 AM\n",
    "#\n",
    "# On Weekdays:\n",
    "#   1. People probably are at work during normal working hours\n",
    "#   2. They probably are at home in the early morning and during the late night\n",
    "#   3. They probably spend time commuting between work and home everyday\n",
    "\n",
    "\n",
    "#\n",
    "# TODO: Add more filters to the user1 slice you created. Add bitwise logic so that you're only examining records that came in on\n",
    "# weekends (sat/sun).\n",
    "#\n",
    "# .. your code here ..\n",
    "user1 = user1[(user1.DOW == 'Sat') | (user1.DOW == 'Sun')]\n",
    "\n",
    "#\n",
    "# TODO: Further filter it down for calls that are came in either before 6AM OR after 10pm (22:00:00). You can use < and > to compare\n",
    "# the string times, just make sure you code them as military time strings, eg: \"06:00:00\", \"22:00:00\":\n",
    "# https://en.wikipedia.org/wiki/24-hour_clock\n",
    "#\n",
    "# You might also want to review the Data Manipulation section for this. Once you have your filtered slice, print out its length:\n",
    "#\n",
    "# .. your code here ..\n",
    "user1 = user1[(user1.CallTime < \"06:00:00\") | (user1.CallTime > \"22:00:00\")]\n",
    "user1.head()"
   ]
  },
  {
   "cell_type": "code",
   "execution_count": 19,
   "metadata": {},
   "outputs": [
    {
     "data": {
      "image/png": "[encoded data removed]",
      "text/plain": [
       "<matplotlib.figure.Figure at 0x1e78d578588>"
      ]
     },
     "metadata": {},
     "output_type": "display_data"
    }
   ],
   "source": [
    "#\n",
    "# INFO: Visualize the dataframe with a scatter plot as a sanity check. Since you're familiar with maps, you know well that your\n",
    "# X-Coordinate should be Longitude, and your Y coordinate should be the tower Latitude. Check the dataset headers for proper column\n",
    "# feature names.\n",
    "# https://en.wikipedia.org/wiki/Geographic_coordinate_system#Geographic_latitude_and_longitude\n",
    "#\n",
    "# At this point, you don't yet know exactly where the user is located just based off the cell phone tower position data; but\n",
    "# considering the below are for Calls that arrived in the twilight hours of weekends, it's likely that wherever they are bunched up\n",
    "# is probably near the caller's residence:\n",
    "fig = plt.figure()\n",
    "ax = fig.add_subplot(111)\n",
    "ax.scatter(user1.TowerLon,user1.TowerLat, c='g', marker='o', alpha=0.2)\n",
    "ax.set_title('Weekend Calls (<6am or >10p)')\n",
    "showandtell()  # TODO: Comment this line out when you're ready to proceed\n",
    "\n",
    "#\n",
    "# TODO: Run K-Means with a K=1. There really should only be a single area of concentration. If you notice multiple areas that are\n",
    "# \"hot\" (multiple areas the usr spends a lot of time at that are FAR apart from one another), then increase K=2, with the goal being\n",
    "# that one of the centroids will sweep up the annoying outliers; and the other will zero in on the user's approximate home location.\n",
    "# Or rather the location of the cell tower closest to their home.....\n",
    "#\n",
    "# Be sure to only feed in Lat and Lon coordinates to the KMeans algo, since none of the other data is suitable for your purposes.\n",
    "# Since both Lat and Lon are (approximately) on the same scale, no feature scaling is required. Print out the centroid locations and\n",
    "# add them onto your scatter plot. Use a distinguishable marker and color.\n",
    "#\n",
    "# Hint: Make sure you graph the CORRECT coordinates. This is part of your domain expertise.\n",
    "#\n",
    "# .. your code here .."
   ]
  },
  {
   "cell_type": "code",
   "execution_count": 17,
   "metadata": {},
   "outputs": [],
   "source": [
    "from sklearn.cluster import KMeans\n",
    "\n",
    "kmeans = KMeans(n_clusters = 2)\n",
    "user1 = pd.concat([user1.TowerLon, user1.TowerLat], axis = 1)\n",
    "labels = kmeans.fit_predict(user1)\n",
    "centroids = kmeans.cluster_centers_\n",
    "ax.scatter(x = centroids[:, 0], y = centroids[:, 1], c = 'r', marker = 'x', s = 100)\n",
    "\n",
    "showandtell()  # TODO: Comment this line out when you're ready to proceed"
   ]
  },
  {
   "cell_type": "code",
   "execution_count": null,
   "metadata": {
    "collapsed": true
   },
   "outputs": [],
   "source": []
  }
 ],
 "metadata": {
  "kernelspec": {
   "display_name": "Python 3",
   "language": "python",
   "name": "python3"
  },
  "language_info": {
   "codemirror_mode": {
    "name": "ipython",
    "version": 3
   },
   "file_extension": ".py",
   "mimetype": "text/x-python",
   "name": "python",
   "nbconvert_exporter": "python",
   "pygments_lexer": "ipython3",
   "version": "3.6.1"
  }
 },
 "nbformat": 4,
 "nbformat_minor": 2
}
