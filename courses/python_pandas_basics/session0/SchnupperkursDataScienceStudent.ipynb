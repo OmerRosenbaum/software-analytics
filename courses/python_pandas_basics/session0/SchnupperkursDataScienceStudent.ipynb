{
 "cells": [
  {
   "cell_type": "markdown",
   "metadata": {},
   "source": [
    "# Einführung\n",
    "Dieses Notebook ist eine kleine Einführung in die Data Science Welt mit Python, dem Notebook-System Jupyter und dem Datenanalyse-Framework Pandas.\n",
    "\n",
    "Die Aufgabe ist, aus dem Mitschnitt von Telefon-Metadaten herauszufinden, wo eine bestimmte Person wohnt. Das Notebook erklärt hierzu immer die Funktionsweisen und die Aufgaben der notwendigen Analyseschritte."
   ]
  },
  {
   "cell_type": "markdown",
   "metadata": {},
   "source": [
    "## Importieren von Bibliotheken\n",
    "Als erstes wollen wir über den in Python üblichen Weg das Modul \"Pandas\" einbinden.\n",
    "\n",
    "Generell können sog. Module auf mehrere Arten eingebunden werden:\n",
    "\n",
    "* Einfaches Einbinden mittels `import <modul>`, z. B. `import pandas`\n",
    "* Einbinden mit separatem Namen mittels `import <modul> as <name>`, z. B. `import pandas as pd`\n",
    "* Einbinden eines Untermoduls mittels `from <hauptmodul> import <modul>`, z. B. `from matplotlib import pyplot`\n",
    "\n",
    "Wir möchten gerne das Modul \"Pandas\" als `pd` einbinden.\n",
    "\n",
    "Die Zelle können wir dann mit dem Tastenkürzel `Shift` + `Enter` ausführen."
   ]
  },
  {
   "cell_type": "code",
   "execution_count": 23,
   "metadata": {},
   "outputs": [],
   "source": [
    "import pandas as pd"
   ]
  },
  {
   "cell_type": "markdown",
   "metadata": {},
   "source": [
    "### Interaktive Hilfe\n",
    "Ob das Importieren des Moduls auch wirklich funktioniert hat, können wir prüfen, in dem wir mit dem `pd`-Modul arbeiten. Dazu hängen wir an die `pd`-Variable den `?` Operator an und führen die Zelle aus. Es erscheint die Dokumentation des Moduls im unteren Bereich des Notebooks. Diesen Bereich können wir durchlesen und mit der Taste `ESC` auch wieder verschwinden lassen."
   ]
  },
  {
   "cell_type": "code",
   "execution_count": 20,
   "metadata": {},
   "outputs": [],
   "source": [
    "pd?"
   ]
  },
  {
   "cell_type": "markdown",
   "metadata": {},
   "source": [
    "Die weitere Funktionalität der Pandas-Bibliothek können wir erkunden, indem wir die Methoden von Pandas ansehen. Dazu verwenden wir `pd.` und nutzen die integrierte Autovervollständigung von Jupyter mittels der Tabulatortaste `Tab`, um zu sehen, welche Methoden uns Pandas bietet. Gehen wir dann mit der Pfeiltaste `unten` z. B. auf `Categorical`, drücken `Enter` und schließend `Shift`+ `Tab`, dann erscheint die Signatur des entsprechenden Funktionalität und der Ausschnitt der Hilfedokumentation. Bei zweimaligem Drücken von `Shift` + `Tab` erscheint die Hilfe vollständig."
   ]
  },
  {
   "cell_type": "code",
   "execution_count": 24,
   "metadata": {},
   "outputs": [
    {
     "data": {
      "text/plain": [
       "pandas.core.categorical.Categorical"
      ]
     },
     "execution_count": 24,
     "metadata": {},
     "output_type": "execute_result"
    }
   ],
   "source": [
    "pd.Categorical"
   ]
  },
  {
   "cell_type": "markdown",
   "metadata": {},
   "source": [
    "### Laden von Daten\n",
    "Als nächstes Laden wir Telefon-Metadaten (sog. CDRs: Call Data Records) aus einer Datei mit kommaseparierten Daten (einer \"CSV\"-Datei: \"Comma-separated values\"). \n",
    "\n",
    "Pandas bietet hierzu eine Methode namens `read_csv`. Diese nimmt als ersten Parameter einen Pfad entgegen. Diverse andere Argumente können angegeben werden, um spezielle Varianten von CSV-Dateien einlesen zu können. Z. B.\n",
    "* `sep`: Trennzeichen für Daten in einer Zeile wie etwa `sep=\";\"`\n",
    "* `encoding`: andere Zeichenkodierungen wie etwa `encoding=\"latin-1\"`\n",
    "* `dtype`: Zuordnung von Spalten zu speziellen Datentypen wie etwa `dtype={ 0:str }`\n",
    "\n",
    "Lesen wir erst einmal die Datei `data/CDR_data.csv` ohne jegliche Argumente ein. Diese Datei enthält die für 10 Mobilfunknutzer gesammelten Telefon-Metadaten über drei Jahre hinweg. Folgende Informationen sind darin enthalten:\n",
    "\n",
    "* `In`: Die anrufende Telefonnummer \n",
    "* `Out`: Die ausgehende Telefonnummer\n",
    "* `Direction`: Die Richtung des Telefonats\n",
    "* `CallTimestamp`: Der Zeitstempel des Anrufs\n",
    "* `Duration`: Die Dauer des Telefonats\n",
    "* `TowerID`: Die ID des ersten Mobilfunkmasten, der beim Anruf genutzt wurde\n",
    "\n",
    "Wir lesen die Daten ein und weisen das Ergebnis der Variable `cdr` zu. Mittels der Methode `head()` können wir uns dann die ersten fünf Einträge anzeigen lassen."
   ]
  },
  {
   "cell_type": "code",
   "execution_count": 18,
   "metadata": {},
   "outputs": [
    {
     "data": {
      "text/html": [
       "<div>\n",
       "<style scoped>\n",
       "    .dataframe tbody tr th:only-of-type {\n",
       "        vertical-align: middle;\n",
       "    }\n",
       "\n",
       "    .dataframe tbody tr th {\n",
       "        vertical-align: top;\n",
       "    }\n",
       "\n",
       "    .dataframe thead th {\n",
       "        text-align: right;\n",
       "    }\n",
       "</style>\n",
       "<table border=\"1\" class=\"dataframe\">\n",
       "  <thead>\n",
       "    <tr style=\"text-align: right;\">\n",
       "      <th></th>\n",
       "      <th>In</th>\n",
       "      <th>Out</th>\n",
       "      <th>Direction</th>\n",
       "      <th>CallTimestamp</th>\n",
       "      <th>Duration</th>\n",
       "      <th>TowerID</th>\n",
       "    </tr>\n",
       "  </thead>\n",
       "  <tbody>\n",
       "    <tr>\n",
       "      <th>0</th>\n",
       "      <td>4638472273</td>\n",
       "      <td>2666307251</td>\n",
       "      <td>Incoming</td>\n",
       "      <td>2010-12-25 07:16:24.736813</td>\n",
       "      <td>0:02:41.741499</td>\n",
       "      <td>0db53dd3-eb9c-4344-abc5-c2d74ebc3eec</td>\n",
       "    </tr>\n",
       "    <tr>\n",
       "      <th>1</th>\n",
       "      <td>4638472273</td>\n",
       "      <td>1755442610</td>\n",
       "      <td>Incoming</td>\n",
       "      <td>2010-12-25 21:18:30.053710</td>\n",
       "      <td>0:02:47.108750</td>\n",
       "      <td>aeaf8b43-8034-44fe-833d-31854a75acbf</td>\n",
       "    </tr>\n",
       "    <tr>\n",
       "      <th>2</th>\n",
       "      <td>4638472273</td>\n",
       "      <td>5481755331</td>\n",
       "      <td>Incoming</td>\n",
       "      <td>2010-12-25 14:52:42.878016</td>\n",
       "      <td>0:04:35.356341</td>\n",
       "      <td>fadaa83f-6001-45fd-aa4a-17d6c6b7ec00</td>\n",
       "    </tr>\n",
       "    <tr>\n",
       "      <th>3</th>\n",
       "      <td>4638472273</td>\n",
       "      <td>1755442610</td>\n",
       "      <td>Incoming</td>\n",
       "      <td>2010-12-25 16:02:09.001913</td>\n",
       "      <td>0:02:23.498499</td>\n",
       "      <td>fadaa83f-6001-45fd-aa4a-17d6c6b7ec00</td>\n",
       "    </tr>\n",
       "    <tr>\n",
       "      <th>4</th>\n",
       "      <td>4638472273</td>\n",
       "      <td>2145623768</td>\n",
       "      <td>Incoming</td>\n",
       "      <td>2010-12-25 15:28:35.028554</td>\n",
       "      <td>0:03:54.692497</td>\n",
       "      <td>95d7920d-c3cd-4d20-a568-9a55800dc807</td>\n",
       "    </tr>\n",
       "  </tbody>\n",
       "</table>\n",
       "</div>"
      ],
      "text/plain": [
       "           In         Out Direction               CallTimestamp  \\\n",
       "0  4638472273  2666307251  Incoming  2010-12-25 07:16:24.736813   \n",
       "1  4638472273  1755442610  Incoming  2010-12-25 21:18:30.053710   \n",
       "2  4638472273  5481755331  Incoming  2010-12-25 14:52:42.878016   \n",
       "3  4638472273  1755442610  Incoming  2010-12-25 16:02:09.001913   \n",
       "4  4638472273  2145623768  Incoming  2010-12-25 15:28:35.028554   \n",
       "\n",
       "         Duration                               TowerID  \n",
       "0  0:02:41.741499  0db53dd3-eb9c-4344-abc5-c2d74ebc3eec  \n",
       "1  0:02:47.108750  aeaf8b43-8034-44fe-833d-31854a75acbf  \n",
       "2  0:04:35.356341  fadaa83f-6001-45fd-aa4a-17d6c6b7ec00  \n",
       "3  0:02:23.498499  fadaa83f-6001-45fd-aa4a-17d6c6b7ec00  \n",
       "4  0:03:54.692497  95d7920d-c3cd-4d20-a568-9a55800dc807  "
      ]
     },
     "execution_count": 18,
     "metadata": {},
     "output_type": "execute_result"
    }
   ],
   "source": [
    "cdr = pd.read_csv('data/CDR_data.csv')\n",
    "cdr.head()"
   ]
  },
  {
   "cell_type": "code",
   "execution_count": 1,
   "metadata": {},
   "outputs": [],
   "source": [
    "import pandas as pd\n",
    "import matplotlib.pyplot as plt\n",
    "import matplotlib\n",
    "\n",
    "%matplotlib inline\n",
    "matplotlib.style.use('ggplot') # Look Pretty"
   ]
  },
  {
   "cell_type": "code",
   "execution_count": 3,
   "metadata": {},
   "outputs": [
    {
     "name": "stdout",
     "output_type": "stream",
     "text": [
      "<class 'pandas.core.frame.DataFrame'>\n",
      "RangeIndex: 53188 entries, 0 to 53187\n",
      "Data columns (total 6 columns):\n",
      "In               53188 non-null object\n",
      "Out              53188 non-null object\n",
      "Direction        53188 non-null object\n",
      "CallTimestamp    53188 non-null object\n",
      "Duration         53188 non-null object\n",
      "TowerID          53188 non-null object\n",
      "dtypes: object(6)\n",
      "memory usage: 2.4+ MB\n"
     ]
    }
   ],
   "source": [
    "df.info()"
   ]
  },
  {
   "cell_type": "code",
   "execution_count": 4,
   "metadata": {},
   "outputs": [
    {
     "name": "stdout",
     "output_type": "stream",
     "text": [
      "<class 'pandas.core.frame.DataFrame'>\n",
      "RangeIndex: 53188 entries, 0 to 53187\n",
      "Data columns (total 6 columns):\n",
      "In               53188 non-null object\n",
      "Out              53188 non-null object\n",
      "Direction        53188 non-null object\n",
      "CallTimestamp    53188 non-null datetime64[ns]\n",
      "Duration         53188 non-null timedelta64[ns]\n",
      "TowerID          53188 non-null object\n",
      "dtypes: datetime64[ns](1), object(4), timedelta64[ns](1)\n",
      "memory usage: 2.4+ MB\n"
     ]
    }
   ],
   "source": [
    "df.CallTimestamp = pd.to_datetime(df.CallTimestamp)\n",
    "df.Duration = pd.to_timedelta(df.Duration)\n",
    "df.info()"
   ]
  },
  {
   "cell_type": "code",
   "execution_count": 16,
   "metadata": {
    "scrolled": false
   },
   "outputs": [
    {
     "data": {
      "text/html": [
       "<div>\n",
       "<style scoped>\n",
       "    .dataframe tbody tr th:only-of-type {\n",
       "        vertical-align: middle;\n",
       "    }\n",
       "\n",
       "    .dataframe tbody tr th {\n",
       "        vertical-align: top;\n",
       "    }\n",
       "\n",
       "    .dataframe thead th {\n",
       "        text-align: right;\n",
       "    }\n",
       "</style>\n",
       "<table border=\"1\" class=\"dataframe\">\n",
       "  <thead>\n",
       "    <tr style=\"text-align: right;\">\n",
       "      <th></th>\n",
       "      <th>Name</th>\n",
       "      <th>Number</th>\n",
       "    </tr>\n",
       "  </thead>\n",
       "  <tbody>\n",
       "    <tr>\n",
       "      <th>0</th>\n",
       "      <td>Renee Molina</td>\n",
       "      <td>9204863989</td>\n",
       "    </tr>\n",
       "    <tr>\n",
       "      <th>1</th>\n",
       "      <td>Wendy Arnold</td>\n",
       "      <td>6115205038</td>\n",
       "    </tr>\n",
       "    <tr>\n",
       "      <th>2</th>\n",
       "      <td>Daniel Ellis</td>\n",
       "      <td>6707476992</td>\n",
       "    </tr>\n",
       "    <tr>\n",
       "      <th>3</th>\n",
       "      <td>Jason Bradshaw</td>\n",
       "      <td>8177960907</td>\n",
       "    </tr>\n",
       "    <tr>\n",
       "      <th>4</th>\n",
       "      <td>Francisco Brown</td>\n",
       "      <td>4443774214</td>\n",
       "    </tr>\n",
       "  </tbody>\n",
       "</table>\n",
       "</div>"
      ],
      "text/plain": [
       "              Name      Number\n",
       "0     Renee Molina  9204863989\n",
       "1     Wendy Arnold  6115205038\n",
       "2     Daniel Ellis  6707476992\n",
       "3   Jason Bradshaw  8177960907\n",
       "4  Francisco Brown  4443774214"
      ]
     },
     "execution_count": 16,
     "metadata": {},
     "output_type": "execute_result"
    }
   ],
   "source": [
    "phoneowners = pd.read_excel(\"data/phoneowners.xlsx\")\n",
    "phoneowners.head()"
   ]
  },
  {
   "cell_type": "code",
   "execution_count": 9,
   "metadata": {
    "scrolled": true
   },
   "outputs": [
    {
     "name": "stdout",
     "output_type": "stream",
     "text": [
      "<class 'pandas.core.frame.DataFrame'>\n",
      "RangeIndex: 999 entries, 0 to 998\n",
      "Data columns (total 2 columns):\n",
      "Name      999 non-null object\n",
      "Number    999 non-null object\n",
      "dtypes: object(2)\n",
      "memory usage: 15.7+ KB\n"
     ]
    }
   ],
   "source": [
    "phoneowners.info()"
   ]
  },
  {
   "cell_type": "code",
   "execution_count": 10,
   "metadata": {},
   "outputs": [
    {
     "data": {
      "text/html": [
       "<div>\n",
       "<style scoped>\n",
       "    .dataframe tbody tr th:only-of-type {\n",
       "        vertical-align: middle;\n",
       "    }\n",
       "\n",
       "    .dataframe tbody tr th {\n",
       "        vertical-align: top;\n",
       "    }\n",
       "\n",
       "    .dataframe thead th {\n",
       "        text-align: right;\n",
       "    }\n",
       "</style>\n",
       "<table border=\"1\" class=\"dataframe\">\n",
       "  <thead>\n",
       "    <tr style=\"text-align: right;\">\n",
       "      <th></th>\n",
       "      <th>In</th>\n",
       "      <th>Out</th>\n",
       "      <th>Direction</th>\n",
       "      <th>CallTimestamp</th>\n",
       "      <th>Duration</th>\n",
       "      <th>TowerID</th>\n",
       "      <th>Name</th>\n",
       "      <th>TowerLat</th>\n",
       "      <th>TowerLon</th>\n",
       "    </tr>\n",
       "  </thead>\n",
       "  <tbody>\n",
       "    <tr>\n",
       "      <th>0</th>\n",
       "      <td>04638472273</td>\n",
       "      <td>02666307251</td>\n",
       "      <td>Incoming</td>\n",
       "      <td>2010-12-25 07:16:24.736813</td>\n",
       "      <td>00:02:41.741499</td>\n",
       "      <td>0db53dd3-eb9c-4344-abc5-c2d74ebc3eec</td>\n",
       "      <td>John Doe</td>\n",
       "      <td>32.731611</td>\n",
       "      <td>-96.709417</td>\n",
       "    </tr>\n",
       "    <tr>\n",
       "      <th>1</th>\n",
       "      <td>04638472273</td>\n",
       "      <td>07922223441</td>\n",
       "      <td>Missed</td>\n",
       "      <td>2010-12-26 20:10:13.924779</td>\n",
       "      <td>00:02:49.402318</td>\n",
       "      <td>0db53dd3-eb9c-4344-abc5-c2d74ebc3eec</td>\n",
       "      <td>John Doe</td>\n",
       "      <td>32.731611</td>\n",
       "      <td>-96.709417</td>\n",
       "    </tr>\n",
       "    <tr>\n",
       "      <th>2</th>\n",
       "      <td>04638472273</td>\n",
       "      <td>07756914135</td>\n",
       "      <td>Incoming</td>\n",
       "      <td>2010-12-28 19:41:43.122708</td>\n",
       "      <td>00:05:08.460490</td>\n",
       "      <td>0db53dd3-eb9c-4344-abc5-c2d74ebc3eec</td>\n",
       "      <td>John Doe</td>\n",
       "      <td>32.731611</td>\n",
       "      <td>-96.709417</td>\n",
       "    </tr>\n",
       "    <tr>\n",
       "      <th>3</th>\n",
       "      <td>04638472273</td>\n",
       "      <td>04551601645</td>\n",
       "      <td>Incoming</td>\n",
       "      <td>2010-12-29 19:16:16.463142</td>\n",
       "      <td>00:04:20.380243</td>\n",
       "      <td>0db53dd3-eb9c-4344-abc5-c2d74ebc3eec</td>\n",
       "      <td>John Doe</td>\n",
       "      <td>32.731611</td>\n",
       "      <td>-96.709417</td>\n",
       "    </tr>\n",
       "    <tr>\n",
       "      <th>4</th>\n",
       "      <td>04638472273</td>\n",
       "      <td>06250348072</td>\n",
       "      <td>Incoming</td>\n",
       "      <td>2010-12-29 19:29:54.814022</td>\n",
       "      <td>00:03:18.870706</td>\n",
       "      <td>0db53dd3-eb9c-4344-abc5-c2d74ebc3eec</td>\n",
       "      <td>John Doe</td>\n",
       "      <td>32.731611</td>\n",
       "      <td>-96.709417</td>\n",
       "    </tr>\n",
       "  </tbody>\n",
       "</table>\n",
       "</div>"
      ],
      "text/plain": [
       "            In          Out Direction              CallTimestamp  \\\n",
       "0  04638472273  02666307251  Incoming 2010-12-25 07:16:24.736813   \n",
       "1  04638472273  07922223441    Missed 2010-12-26 20:10:13.924779   \n",
       "2  04638472273  07756914135  Incoming 2010-12-28 19:41:43.122708   \n",
       "3  04638472273  04551601645  Incoming 2010-12-29 19:16:16.463142   \n",
       "4  04638472273  06250348072  Incoming 2010-12-29 19:29:54.814022   \n",
       "\n",
       "         Duration                               TowerID      Name   TowerLat  \\\n",
       "0 00:02:41.741499  0db53dd3-eb9c-4344-abc5-c2d74ebc3eec  John Doe  32.731611   \n",
       "1 00:02:49.402318  0db53dd3-eb9c-4344-abc5-c2d74ebc3eec  John Doe  32.731611   \n",
       "2 00:05:08.460490  0db53dd3-eb9c-4344-abc5-c2d74ebc3eec  John Doe  32.731611   \n",
       "3 00:04:20.380243  0db53dd3-eb9c-4344-abc5-c2d74ebc3eec  John Doe  32.731611   \n",
       "4 00:03:18.870706  0db53dd3-eb9c-4344-abc5-c2d74ebc3eec  John Doe  32.731611   \n",
       "\n",
       "    TowerLon  \n",
       "0 -96.709417  \n",
       "1 -96.709417  \n",
       "2 -96.709417  \n",
       "3 -96.709417  \n",
       "4 -96.709417  "
      ]
     },
     "execution_count": 10,
     "metadata": {},
     "output_type": "execute_result"
    }
   ],
   "source": [
    "#Join them\n",
    "phoneowners.columns = ['Name', 'In']\n",
    "joined = pd.merge(df, phoneowners, on='In')\n",
    "joined.head()\n",
    "\n",
    "#But where are those towers?\n",
    "#No for the tower data\n",
    "towers = pd.read_csv(\"data/towers.csv\")\n",
    "joined = pd.merge(joined, towers, on='TowerID')\n",
    "joined.head()\n",
    "\n",
    "# result = pd.concat([df1, df4], axis=1, join_axes=[df1.index])"
   ]
  },
  {
   "cell_type": "code",
   "execution_count": 11,
   "metadata": {
    "scrolled": true
   },
   "outputs": [
    {
     "ename": "NameError",
     "evalue": "name 'Workweek' is not defined",
     "output_type": "error",
     "traceback": [
      "\u001b[1;31m---------------------------------------------------------------------------\u001b[0m",
      "\u001b[1;31mNameError\u001b[0m                                 Traceback (most recent call last)",
      "\u001b[1;32m<ipython-input-11-59dd3a037e51>\u001b[0m in \u001b[0;36m<module>\u001b[1;34m()\u001b[0m\n\u001b[0;32m      1\u001b[0m \u001b[0mjoined\u001b[0m\u001b[1;33m[\u001b[0m\u001b[1;34m'CallTimestamp'\u001b[0m\u001b[1;33m]\u001b[0m \u001b[1;33m=\u001b[0m \u001b[0mpd\u001b[0m\u001b[1;33m.\u001b[0m\u001b[0mto_datetime\u001b[0m\u001b[1;33m(\u001b[0m\u001b[0mjoined\u001b[0m\u001b[1;33m[\u001b[0m\u001b[1;34m'CallTimestamp'\u001b[0m\u001b[1;33m]\u001b[0m\u001b[1;33m)\u001b[0m\u001b[1;33m\u001b[0m\u001b[0m\n\u001b[1;32m----> 2\u001b[1;33m \u001b[0mweekdays\u001b[0m \u001b[1;33m=\u001b[0m \u001b[0mjoined\u001b[0m\u001b[1;33m[\u001b[0m\u001b[1;34m'CallTimestamp'\u001b[0m\u001b[1;33m]\u001b[0m\u001b[1;33m.\u001b[0m\u001b[0mdt\u001b[0m\u001b[1;33m.\u001b[0m\u001b[0mdayofweek\u001b[0m\u001b[1;33m.\u001b[0m\u001b[0misin\u001b[0m\u001b[1;33m(\u001b[0m\u001b[0mWorkweek\u001b[0m\u001b[1;33m)\u001b[0m \u001b[1;33m&\u001b[0m \u001b[0mjoined\u001b[0m\u001b[1;33m[\u001b[0m\u001b[1;34m'CallTimestamp'\u001b[0m\u001b[1;33m]\u001b[0m\u001b[1;33m.\u001b[0m\u001b[0mdt\u001b[0m\u001b[1;33m.\u001b[0m\u001b[0mhour\u001b[0m\u001b[1;33m.\u001b[0m\u001b[0misin\u001b[0m\u001b[1;33m(\u001b[0m\u001b[0mrange\u001b[0m\u001b[1;33m(\u001b[0m\u001b[1;36m8\u001b[0m\u001b[1;33m,\u001b[0m\u001b[1;36m18\u001b[0m\u001b[1;33m)\u001b[0m\u001b[1;33m)\u001b[0m\u001b[1;33m\u001b[0m\u001b[0m\n\u001b[0m\u001b[0;32m      3\u001b[0m \u001b[0mdfweekdays\u001b[0m \u001b[1;33m=\u001b[0m \u001b[0mjoined\u001b[0m\u001b[1;33m[\u001b[0m\u001b[0mweekdays\u001b[0m\u001b[1;33m]\u001b[0m\u001b[1;33m\u001b[0m\u001b[0m\n\u001b[0;32m      4\u001b[0m \u001b[0mdfweekdays\u001b[0m\u001b[1;33m.\u001b[0m\u001b[0mhead\u001b[0m\u001b[1;33m(\u001b[0m\u001b[1;33m)\u001b[0m\u001b[1;33m\u001b[0m\u001b[0m\n",
      "\u001b[1;31mNameError\u001b[0m: name 'Workweek' is not defined"
     ]
    }
   ],
   "source": [
    "joined['CallTimestamp'] = pd.to_datetime(joined['CallTimestamp'])\n",
    "weekdays = joined['CallTimestamp'].dt.dayofweek.isin(Workweek) & joined['CallTimestamp'].dt.hour.isin(range(8,18))\n",
    "dfweekdays = joined[weekdays]\n",
    "dfweekdays.head()"
   ]
  },
  {
   "cell_type": "code",
   "execution_count": 174,
   "metadata": {},
   "outputs": [
    {
     "data": {
      "text/html": [
       "<div>\n",
       "<table border=\"1\" class=\"dataframe\">\n",
       "  <thead>\n",
       "    <tr style=\"text-align: right;\">\n",
       "      <th></th>\n",
       "      <th>In</th>\n",
       "      <th>Out</th>\n",
       "      <th>Direction</th>\n",
       "      <th>CallTimestamp</th>\n",
       "      <th>Duration</th>\n",
       "      <th>TowerID</th>\n",
       "      <th>Name</th>\n",
       "      <th>TowerLat</th>\n",
       "      <th>TowerLon</th>\n",
       "    </tr>\n",
       "  </thead>\n",
       "  <tbody>\n",
       "    <tr>\n",
       "      <th>0</th>\n",
       "      <td>04638472273</td>\n",
       "      <td>02666307251</td>\n",
       "      <td>Incoming</td>\n",
       "      <td>2010-12-25 07:16:24.736813</td>\n",
       "      <td>00:02:41.741499</td>\n",
       "      <td>0db53dd3-eb9c-4344-abc5-c2d74ebc3eec</td>\n",
       "      <td>John Doe</td>\n",
       "      <td>32.731611</td>\n",
       "      <td>-96.709417</td>\n",
       "    </tr>\n",
       "    <tr>\n",
       "      <th>1</th>\n",
       "      <td>04638472273</td>\n",
       "      <td>07922223441</td>\n",
       "      <td>Missed</td>\n",
       "      <td>2010-12-26 20:10:13.924779</td>\n",
       "      <td>00:02:49.402318</td>\n",
       "      <td>0db53dd3-eb9c-4344-abc5-c2d74ebc3eec</td>\n",
       "      <td>John Doe</td>\n",
       "      <td>32.731611</td>\n",
       "      <td>-96.709417</td>\n",
       "    </tr>\n",
       "    <tr>\n",
       "      <th>2</th>\n",
       "      <td>04638472273</td>\n",
       "      <td>07756914135</td>\n",
       "      <td>Incoming</td>\n",
       "      <td>2010-12-28 19:41:43.122708</td>\n",
       "      <td>00:05:08.460490</td>\n",
       "      <td>0db53dd3-eb9c-4344-abc5-c2d74ebc3eec</td>\n",
       "      <td>John Doe</td>\n",
       "      <td>32.731611</td>\n",
       "      <td>-96.709417</td>\n",
       "    </tr>\n",
       "    <tr>\n",
       "      <th>3</th>\n",
       "      <td>04638472273</td>\n",
       "      <td>04551601645</td>\n",
       "      <td>Incoming</td>\n",
       "      <td>2010-12-29 19:16:16.463142</td>\n",
       "      <td>00:04:20.380243</td>\n",
       "      <td>0db53dd3-eb9c-4344-abc5-c2d74ebc3eec</td>\n",
       "      <td>John Doe</td>\n",
       "      <td>32.731611</td>\n",
       "      <td>-96.709417</td>\n",
       "    </tr>\n",
       "    <tr>\n",
       "      <th>4</th>\n",
       "      <td>04638472273</td>\n",
       "      <td>06250348072</td>\n",
       "      <td>Incoming</td>\n",
       "      <td>2010-12-29 19:29:54.814022</td>\n",
       "      <td>00:03:18.870706</td>\n",
       "      <td>0db53dd3-eb9c-4344-abc5-c2d74ebc3eec</td>\n",
       "      <td>John Doe</td>\n",
       "      <td>32.731611</td>\n",
       "      <td>-96.709417</td>\n",
       "    </tr>\n",
       "  </tbody>\n",
       "</table>\n",
       "</div>"
      ],
      "text/plain": [
       "            In          Out Direction              CallTimestamp  \\\n",
       "0  04638472273  02666307251  Incoming 2010-12-25 07:16:24.736813   \n",
       "1  04638472273  07922223441    Missed 2010-12-26 20:10:13.924779   \n",
       "2  04638472273  07756914135  Incoming 2010-12-28 19:41:43.122708   \n",
       "3  04638472273  04551601645  Incoming 2010-12-29 19:16:16.463142   \n",
       "4  04638472273  06250348072  Incoming 2010-12-29 19:29:54.814022   \n",
       "\n",
       "         Duration                               TowerID      Name   TowerLat  \\\n",
       "0 00:02:41.741499  0db53dd3-eb9c-4344-abc5-c2d74ebc3eec  John Doe  32.731611   \n",
       "1 00:02:49.402318  0db53dd3-eb9c-4344-abc5-c2d74ebc3eec  John Doe  32.731611   \n",
       "2 00:05:08.460490  0db53dd3-eb9c-4344-abc5-c2d74ebc3eec  John Doe  32.731611   \n",
       "3 00:04:20.380243  0db53dd3-eb9c-4344-abc5-c2d74ebc3eec  John Doe  32.731611   \n",
       "4 00:03:18.870706  0db53dd3-eb9c-4344-abc5-c2d74ebc3eec  John Doe  32.731611   \n",
       "\n",
       "    TowerLon  \n",
       "0 -96.709417  \n",
       "1 -96.709417  \n",
       "2 -96.709417  \n",
       "3 -96.709417  \n",
       "4 -96.709417  "
      ]
     },
     "execution_count": 174,
     "metadata": {},
     "output_type": "execute_result"
    }
   ],
   "source": [
    "targetname = 'John Doe'\n",
    "user1 = joined[joined['Name'] == targetname]\n",
    "#user1 = user1[weekdays]\n",
    "user1 = user1.reset_index(drop=True)\n",
    "user1.head()"
   ]
  },
  {
   "cell_type": "code",
   "execution_count": 175,
   "metadata": {
    "scrolled": true
   },
   "outputs": [
    {
     "data": {
      "text/plain": [
       "<matplotlib.axes._subplots.AxesSubplot at 0xb74cb70>"
      ]
     },
     "execution_count": 175,
     "metadata": {},
     "output_type": "execute_result"
    },
    {
     "data": {
      "image/png": "[encoded data removed]",
      "text/plain": [
       "<matplotlib.figure.Figure at 0xda737b8>"
      ]
     },
     "metadata": {},
     "output_type": "display_data"
    }
   ],
   "source": [
    "# INFO: Plot all the call locations\n",
    "%matplotlib inline\n",
    "#user1[['TowerLon', 'TowerLat']].plot.scatter()\n",
    "user1.plot.scatter(x='TowerLon', y='TowerLat', c='purple', alpha=0.12, title='Call Locations', s = 30)\n",
    "#showandtell()  # Comment this line out when you're ready to proceed"
   ]
  },
  {
   "cell_type": "code",
   "execution_count": 176,
   "metadata": {},
   "outputs": [
    {
     "data": {
      "text/html": [
       "<div>\n",
       "<table border=\"1\" class=\"dataframe\">\n",
       "  <thead>\n",
       "    <tr style=\"text-align: right;\">\n",
       "      <th></th>\n",
       "      <th>In</th>\n",
       "      <th>Out</th>\n",
       "      <th>Direction</th>\n",
       "      <th>CallTimestamp</th>\n",
       "      <th>Duration</th>\n",
       "      <th>TowerID</th>\n",
       "      <th>Name</th>\n",
       "      <th>TowerLat</th>\n",
       "      <th>TowerLon</th>\n",
       "      <th>DOW</th>\n",
       "    </tr>\n",
       "  </thead>\n",
       "  <tbody>\n",
       "    <tr>\n",
       "      <th>0</th>\n",
       "      <td>04638472273</td>\n",
       "      <td>02666307251</td>\n",
       "      <td>Incoming</td>\n",
       "      <td>2010-12-25 07:16:24.736813</td>\n",
       "      <td>00:02:41.741499</td>\n",
       "      <td>0db53dd3-eb9c-4344-abc5-c2d74ebc3eec</td>\n",
       "      <td>John Doe</td>\n",
       "      <td>32.731611</td>\n",
       "      <td>-96.709417</td>\n",
       "      <td>Sat</td>\n",
       "    </tr>\n",
       "    <tr>\n",
       "      <th>1</th>\n",
       "      <td>04638472273</td>\n",
       "      <td>07922223441</td>\n",
       "      <td>Missed</td>\n",
       "      <td>2010-12-26 20:10:13.924779</td>\n",
       "      <td>00:02:49.402318</td>\n",
       "      <td>0db53dd3-eb9c-4344-abc5-c2d74ebc3eec</td>\n",
       "      <td>John Doe</td>\n",
       "      <td>32.731611</td>\n",
       "      <td>-96.709417</td>\n",
       "      <td>Sun</td>\n",
       "    </tr>\n",
       "    <tr>\n",
       "      <th>5</th>\n",
       "      <td>04638472273</td>\n",
       "      <td>07756914135</td>\n",
       "      <td>Missed</td>\n",
       "      <td>2011-01-01 19:06:20.686967</td>\n",
       "      <td>00:02:19.405029</td>\n",
       "      <td>0db53dd3-eb9c-4344-abc5-c2d74ebc3eec</td>\n",
       "      <td>John Doe</td>\n",
       "      <td>32.731611</td>\n",
       "      <td>-96.709417</td>\n",
       "      <td>Sat</td>\n",
       "    </tr>\n",
       "    <tr>\n",
       "      <th>14</th>\n",
       "      <td>04638472273</td>\n",
       "      <td>07841019020</td>\n",
       "      <td>Incoming</td>\n",
       "      <td>2011-01-30 18:56:08.650259</td>\n",
       "      <td>00:02:22.357491</td>\n",
       "      <td>0db53dd3-eb9c-4344-abc5-c2d74ebc3eec</td>\n",
       "      <td>John Doe</td>\n",
       "      <td>32.731611</td>\n",
       "      <td>-96.709417</td>\n",
       "      <td>Sun</td>\n",
       "    </tr>\n",
       "    <tr>\n",
       "      <th>15</th>\n",
       "      <td>04638472273</td>\n",
       "      <td>05455269258</td>\n",
       "      <td>Incoming</td>\n",
       "      <td>2011-02-05 19:32:56.104492</td>\n",
       "      <td>00:00:30.595089</td>\n",
       "      <td>0db53dd3-eb9c-4344-abc5-c2d74ebc3eec</td>\n",
       "      <td>John Doe</td>\n",
       "      <td>32.731611</td>\n",
       "      <td>-96.709417</td>\n",
       "      <td>Sat</td>\n",
       "    </tr>\n",
       "  </tbody>\n",
       "</table>\n",
       "</div>"
      ],
      "text/plain": [
       "             In          Out Direction              CallTimestamp  \\\n",
       "0   04638472273  02666307251  Incoming 2010-12-25 07:16:24.736813   \n",
       "1   04638472273  07922223441    Missed 2010-12-26 20:10:13.924779   \n",
       "5   04638472273  07756914135    Missed 2011-01-01 19:06:20.686967   \n",
       "14  04638472273  07841019020  Incoming 2011-01-30 18:56:08.650259   \n",
       "15  04638472273  05455269258  Incoming 2011-02-05 19:32:56.104492   \n",
       "\n",
       "          Duration                               TowerID      Name   TowerLat  \\\n",
       "0  00:02:41.741499  0db53dd3-eb9c-4344-abc5-c2d74ebc3eec  John Doe  32.731611   \n",
       "1  00:02:49.402318  0db53dd3-eb9c-4344-abc5-c2d74ebc3eec  John Doe  32.731611   \n",
       "5  00:02:19.405029  0db53dd3-eb9c-4344-abc5-c2d74ebc3eec  John Doe  32.731611   \n",
       "14 00:02:22.357491  0db53dd3-eb9c-4344-abc5-c2d74ebc3eec  John Doe  32.731611   \n",
       "15 00:00:30.595089  0db53dd3-eb9c-4344-abc5-c2d74ebc3eec  John Doe  32.731611   \n",
       "\n",
       "     TowerLon  DOW  \n",
       "0  -96.709417  Sat  \n",
       "1  -96.709417  Sun  \n",
       "5  -96.709417  Sat  \n",
       "14 -96.709417  Sun  \n",
       "15 -96.709417  Sat  "
      ]
     },
     "execution_count": 176,
     "metadata": {},
     "output_type": "execute_result"
    }
   ],
   "source": [
    "#\n",
    "# INFO: The locations map above should be too \"busy\" to really wrap your head around. This is where domain expertise comes into play.\n",
    "# Your intuition tells you that people are likely to behave differently on weekends:\n",
    "#\n",
    "# On Weekends:\n",
    "#   1. People probably don't go into work\n",
    "#   2. They probably sleep in late on Saturday\n",
    "#   3. They probably run a bunch of random errands, since they couldn't during the week\n",
    "#   4. They should be home, at least during the very late hours, e.g. 1-4 AM\n",
    "#\n",
    "# On Weekdays:\n",
    "#   1. People probably are at work during normal working hours\n",
    "#   2. They probably are at home in the early morning and during the late night\n",
    "#   3. They probably spend time commuting between work and home everyday\n",
    "\n",
    "\n",
    "#\n",
    "# TODO: Add more filters to the user1 slice you created. Add bitwise logic so that you're only examining records that came in on\n",
    "# weekends (sat/sun).\n",
    "#\n",
    "# .. your code here ..\n",
    "\n",
    "user1['DOW'] = user1.CallTimestamp.dt.strftime(\"%a\")\n",
    "\n",
    "user1 = user1[(user1.DOW == 'Sat') | (user1.DOW == 'Sun')]\n",
    "user1.head()\n",
    "#\n",
    "# TODO: Further filter it down for calls that are came in either before 6AM OR after 10pm (22:00:00). You can use < and > to compare\n",
    "# the string times, just make sure you code them as military time strings, eg: \"06:00:00\", \"22:00:00\":\n",
    "# https://en.wikipedia.org/wiki/24-hour_clock\n",
    "#\n",
    "# You might also want to review the Data Manipulation section for this. Once you have your filtered slice, print out its length:\n",
    "#\n",
    "# .. your code here ..\n",
    "\n",
    "user1 = user1[(user1.CallTimestamp < \"06:00:00\") | (user1.CallTimestamp > \"22:00:00\")]\n",
    "user1.head()"
   ]
  },
  {
   "cell_type": "code",
   "execution_count": 183,
   "metadata": {},
   "outputs": [
    {
     "data": {
      "text/plain": [
       "<matplotlib.text.Text at 0xdb43ba8>"
      ]
     },
     "execution_count": 183,
     "metadata": {},
     "output_type": "execute_result"
    },
    {
     "data": {
      "image/png": "[encoded data removed]",
      "text/plain": [
       "<matplotlib.figure.Figure at 0xdb7a1d0>"
      ]
     },
     "metadata": {},
     "output_type": "display_data"
    }
   ],
   "source": [
    "#\n",
    "# INFO: Visualize the dataframe with a scatter plot as a sanity check. Since you're familiar with maps, you know well that your\n",
    "# X-Coordinate should be Longitude, and your Y coordinate should be the tower Latitude. Check the dataset headers for proper column\n",
    "# feature names.\n",
    "# https://en.wikipedia.org/wiki/Geographic_coordinate_system#Geographic_latitude_and_longitude\n",
    "#\n",
    "# At this point, you don't yet know exactly where the user is located just based off the cell phone tower position data; but\n",
    "# considering the below are for Calls that arrived in the twilight hours of weekends, it's likely that wherever they are bunched up\n",
    "# is probably near the caller's residence:\n",
    "fig = plt.figure()\n",
    "ax = fig.add_subplot(111)\n",
    "ax.scatter(user1.TowerLon,user1.TowerLat, c='g', marker='o', alpha=0.2)\n",
    "ax.set_title('Weekend Calls (<6am or >10p)')\n",
    "#showandtell()  # TODO: Comment this line out when you're ready to proceed\n",
    "\n",
    "#\n",
    "# TODO: Run K-Means with a K=1. There really should only be a single area of concentration. If you notice multiple areas that are\n",
    "# \"hot\" (multiple areas the usr spends a lot of time at that are FAR apart from one another), then increase K=2, with the goal being\n",
    "# that one of the centroids will sweep up the annoying outliers; and the other will zero in on the user's approximate home location.\n",
    "# Or rather the location of the cell tower closest to their home.....\n",
    "#\n",
    "# Be sure to only feed in Lat and Lon coordinates to the KMeans algo, since none of the other data is suitable for your purposes.\n",
    "# Since both Lat and Lon are (approximately) on the same scale, no feature scaling is required. Print out the centroid locations and\n",
    "# add them onto your scatter plot. Use a distinguishable marker and color.\n",
    "#\n",
    "# Hint: Make sure you graph the CORRECT coordinates. This is part of your domain expertise.\n",
    "#\n",
    "# .. your code here .."
   ]
  },
  {
   "cell_type": "code",
   "execution_count": 205,
   "metadata": {},
   "outputs": [
    {
     "data": {
      "image/png": "[encoded data removed]",
      "text/plain": [
       "<matplotlib.figure.Figure at 0xdb7a1d0>"
      ]
     },
     "execution_count": 205,
     "metadata": {},
     "output_type": "execute_result"
    }
   ],
   "source": [
    "from sklearn.cluster import KMeans\n",
    "\n",
    "kmeans = KMeans(n_clusters = 2)\n",
    "user1 = pd.concat([user1.TowerLon, user1.TowerLat], axis = 1)\n",
    "labels = kmeans.fit_predict(user1)\n",
    "centroids = kmeans.cluster_centers_\n",
    "ax.scatter(x = centroids[:, 0], y = centroids[:, 1], c = 'r', marker = 'x', s = 100)\n",
    "ax.figure\n",
    "#showandtell()  # TODO: Comment this line out when you're ready to proceed"
   ]
  },
  {
   "cell_type": "code",
   "execution_count": 211,
   "metadata": {},
   "outputs": [
    {
     "data": {
      "text/plain": [
       "'32.9813029167 -97.0080512904'"
      ]
     },
     "execution_count": 211,
     "metadata": {},
     "output_type": "execute_result"
    }
   ],
   "source": [
    "#coordinates = \"\" + centroids[0][1].to_string().split('.')[0] + \"°\" + centroids[0][1].split('.')[1][0]  + centroids[0][1].split('.')[1][1] + centroids[0][0]\n",
    "#str.split(' ', 1 )\n",
    "centroids\n",
    "\n",
    "difference1 = centroids[0][1] - centroids[1][1]\n",
    "difference2 = centroids[0][0] - centroids[1][0]\n",
    "\n",
    "difference1 = 0.5 * difference1\n",
    "difference2 = 0.5 * difference2\n",
    "\n",
    "coordinate1 = centroids[0][1] + difference1\n",
    "coordinate2 = centroids[0][0] + difference2\n",
    "\n",
    "coordinates = str(coordinate1) + \" \" + str(coordinate2)\n",
    "coordinates\n",
    "\n",
    "#-96°90'92.4672\"N  96°56'57.3\"W"
   ]
  }
 ],
 "metadata": {
  "anaconda-cloud": {},
  "kernelspec": {
   "display_name": "Python 3",
   "language": "python",
   "name": "python3"
  },
  "language_info": {
   "codemirror_mode": {
    "name": "ipython",
    "version": 3
   },
   "file_extension": ".py",
   "mimetype": "text/x-python",
   "name": "python",
   "nbconvert_exporter": "python",
   "pygments_lexer": "ipython3",
   "version": "3.6.4"
  }
 },
 "nbformat": 4,
 "nbformat_minor": 2
}
