{
 "cells": [
  {
   "cell_type": "markdown",
   "metadata": {},
   "source": [
    "# Einführung\n",
    "Willkommen bei \"Komm' wir spielen NSA!\"!\n",
    "\n",
    "Dieses Notebook ist eine kleine Einführung in die Data Science Welt mit Python, dem Notebook-System Jupyter, dem Datenanalyse-Framework Pandas, der Visualisierungsbibliothek \"matplotlib\" und der Machine-Learning-Bibliothek \"scikit-learn\".\n",
    "\n",
    "Die Aufgabe ist, aus dem Mitschnitt von Telefon-Metadaten herauszufinden, wo die von uns verdächtigte Person namens \"John Doe\" wohnt. Ganz nebenbei lernen wir die wichtigsten Dinge im Umgang mit Python & Co. .\n",
    "\n",
    "Das Notebook erklärt hierzu immer die Funktionsweisen und die Aufgaben der notwendigen Analyseschritte."
   ]
  },
  {
   "cell_type": "markdown",
   "metadata": {},
   "source": [
    "## Importieren von Bibliotheken\n",
    "Als erstes wollen wir über den in Python üblichen Weg das Modul \"Pandas\" einbinden.\n",
    "\n",
    "Generell können sog. Module auf mehrere Arten eingebunden werden:\n",
    "\n",
    "* Einfaches Einbinden mittels `import <modul>`, z. B. `import pandas`\n",
    "* Einbinden mit separatem Namen mittels `import <modul> as <name>`, z. B. `import pandas as pd`\n",
    "* Einbinden eines Untermoduls mittels `from <hauptmodul> import <modul>`, z. B. `from matplotlib import pyplot`\n",
    "\n",
    "Wir möchten gerne das Modul \"Pandas\" als `pd` einbinden. Die Zelle können wir dann mit dem Tastenkürzel `Shift` + `Enter` ausführen."
   ]
  },
  {
   "cell_type": "code",
   "execution_count": 1,
   "metadata": {},
   "outputs": [],
   "source": [
    "import pandas as pd"
   ]
  },
  {
   "cell_type": "markdown",
   "metadata": {},
   "source": [
    "### Interaktive Hilfe\n",
    "Ob das Importieren des Moduls auch wirklich funktioniert hat, können wir prüfen, in dem wir mit dem `pd`-Modul arbeiten. Dazu hängen wir an die `pd`-Variable den `?` Operator an und führen die Zelle aus. Es erscheint die Dokumentation des Moduls im unteren Bereich des Notebooks. Diesen Bereich können wir durchlesen und mit der Taste `ESC` auch wieder verschwinden lassen."
   ]
  },
  {
   "cell_type": "code",
   "execution_count": 2,
   "metadata": {},
   "outputs": [],
   "source": [
    "pd?"
   ]
  },
  {
   "cell_type": "markdown",
   "metadata": {},
   "source": [
    "Die weitere Funktionalität der Pandas-Bibliothek können wir erkunden, indem wir die Methoden von Pandas ansehen. Dazu verwenden wir `pd.` und nutzen die integrierte Autovervollständigung von Jupyter mittels der Tabulatortaste `Tab`, um zu sehen, welche Methoden uns Pandas bietet. Gehen wir dann mit der Pfeiltaste `unten` z. B. auf `Categorical`, drücken `Enter` und schließend `Shift`+ `Tab`, dann erscheint die Signatur des entsprechenden Funktionalität und der Ausschnitt der Hilfedokumentation. Bei zweimaligem Drücken von `Shift` + `Tab` erscheint die Hilfe vollständig."
   ]
  },
  {
   "cell_type": "code",
   "execution_count": 3,
   "metadata": {},
   "outputs": [
    {
     "data": {
      "text/plain": [
       "pandas.core.categorical.Categorical"
      ]
     },
     "execution_count": 3,
     "metadata": {},
     "output_type": "execute_result"
    }
   ],
   "source": [
    "pd.Categorical"
   ]
  },
  {
   "cell_type": "markdown",
   "metadata": {},
   "source": [
    "### Laden von Daten\n",
    "Als nächstes Laden wir Telefon-Metadaten (sog. CDRs: Call Data Records) aus einer Datei mit kommaseparierten Daten (einer \"CSV\"-Datei: \"Comma-separated values\"). \n",
    "\n",
    "Pandas bietet hierzu eine Methode namens `read_csv`. Diese nimmt als ersten Parameter einen Pfad entgegen. Diverse andere Argumente können angegeben werden, um spezielle Varianten von CSV-Dateien einlesen zu können. Z. B.\n",
    "* `sep`: Trennzeichen für Daten in einer Zeile wie etwa `sep=\";\"`\n",
    "* `encoding`: andere Zeichenkodierungen wie etwa `encoding=\"latin-1\"`\n",
    "* `dtype`: Zuordnung von Spalten zu speziellen Datentypen wie etwa `dtype={ 0:str }`\n",
    "\n",
    "Lesen wir erst einmal die Datei `data/CDR_data.csv` ohne jegliche Argumente ein. Diese Datei enthält die für 10 Mobilfunknutzer gesammelten Telefon-Metadaten über drei Jahre hinweg. Folgende Informationen sind darin enthalten:\n",
    "\n",
    "* `In`: Die anrufende Telefonnummer \n",
    "* `Out`: Die ausgehende Telefonnummer\n",
    "* `Direction`: Die Richtung des Telefonats\n",
    "* `CallTimestamp`: Der Zeitstempel des Anrufs\n",
    "* `Duration`: Die Dauer des Telefonats\n",
    "* `TowerID`: Die ID des ersten Mobilfunkmasten, der beim Anruf genutzt wurde\n",
    "\n",
    "Wir lesen die Daten ein und weisen das Ergebnis mittels `=` der neuen Variable `cdr` zu. Mittels der Methode `head()` können wir uns dann in der Folgezeile die ersten fünf Einträge anzeigen lassen."
   ]
  },
  {
   "cell_type": "code",
   "execution_count": 4,
   "metadata": {},
   "outputs": [
    {
     "data": {
      "text/html": [
       "<div>\n",
       "<style scoped>\n",
       "    .dataframe tbody tr th:only-of-type {\n",
       "        vertical-align: middle;\n",
       "    }\n",
       "\n",
       "    .dataframe tbody tr th {\n",
       "        vertical-align: top;\n",
       "    }\n",
       "\n",
       "    .dataframe thead th {\n",
       "        text-align: right;\n",
       "    }\n",
       "</style>\n",
       "<table border=\"1\" class=\"dataframe\">\n",
       "  <thead>\n",
       "    <tr style=\"text-align: right;\">\n",
       "      <th></th>\n",
       "      <th>In</th>\n",
       "      <th>Out</th>\n",
       "      <th>Direction</th>\n",
       "      <th>CallTimestamp</th>\n",
       "      <th>Duration</th>\n",
       "      <th>TowerID</th>\n",
       "    </tr>\n",
       "  </thead>\n",
       "  <tbody>\n",
       "    <tr>\n",
       "      <th>0</th>\n",
       "      <td>4638472273</td>\n",
       "      <td>2666307251</td>\n",
       "      <td>Incoming</td>\n",
       "      <td>2010-12-25 07:16:24.736813</td>\n",
       "      <td>0:02:41.741499</td>\n",
       "      <td>0db53dd3-eb9c-4344-abc5-c2d74ebc3eec</td>\n",
       "    </tr>\n",
       "    <tr>\n",
       "      <th>1</th>\n",
       "      <td>4638472273</td>\n",
       "      <td>1755442610</td>\n",
       "      <td>Incoming</td>\n",
       "      <td>2010-12-25 21:18:30.053710</td>\n",
       "      <td>0:02:47.108750</td>\n",
       "      <td>aeaf8b43-8034-44fe-833d-31854a75acbf</td>\n",
       "    </tr>\n",
       "    <tr>\n",
       "      <th>2</th>\n",
       "      <td>4638472273</td>\n",
       "      <td>5481755331</td>\n",
       "      <td>Incoming</td>\n",
       "      <td>2010-12-25 14:52:42.878016</td>\n",
       "      <td>0:04:35.356341</td>\n",
       "      <td>fadaa83f-6001-45fd-aa4a-17d6c6b7ec00</td>\n",
       "    </tr>\n",
       "    <tr>\n",
       "      <th>3</th>\n",
       "      <td>4638472273</td>\n",
       "      <td>1755442610</td>\n",
       "      <td>Incoming</td>\n",
       "      <td>2010-12-25 16:02:09.001913</td>\n",
       "      <td>0:02:23.498499</td>\n",
       "      <td>fadaa83f-6001-45fd-aa4a-17d6c6b7ec00</td>\n",
       "    </tr>\n",
       "    <tr>\n",
       "      <th>4</th>\n",
       "      <td>4638472273</td>\n",
       "      <td>2145623768</td>\n",
       "      <td>Incoming</td>\n",
       "      <td>2010-12-25 15:28:35.028554</td>\n",
       "      <td>0:03:54.692497</td>\n",
       "      <td>95d7920d-c3cd-4d20-a568-9a55800dc807</td>\n",
       "    </tr>\n",
       "  </tbody>\n",
       "</table>\n",
       "</div>"
      ],
      "text/plain": [
       "           In         Out Direction               CallTimestamp  \\\n",
       "0  4638472273  2666307251  Incoming  2010-12-25 07:16:24.736813   \n",
       "1  4638472273  1755442610  Incoming  2010-12-25 21:18:30.053710   \n",
       "2  4638472273  5481755331  Incoming  2010-12-25 14:52:42.878016   \n",
       "3  4638472273  1755442610  Incoming  2010-12-25 16:02:09.001913   \n",
       "4  4638472273  2145623768  Incoming  2010-12-25 15:28:35.028554   \n",
       "\n",
       "         Duration                               TowerID  \n",
       "0  0:02:41.741499  0db53dd3-eb9c-4344-abc5-c2d74ebc3eec  \n",
       "1  0:02:47.108750  aeaf8b43-8034-44fe-833d-31854a75acbf  \n",
       "2  0:04:35.356341  fadaa83f-6001-45fd-aa4a-17d6c6b7ec00  \n",
       "3  0:02:23.498499  fadaa83f-6001-45fd-aa4a-17d6c6b7ec00  \n",
       "4  0:03:54.692497  95d7920d-c3cd-4d20-a568-9a55800dc807  "
      ]
     },
     "execution_count": 4,
     "metadata": {},
     "output_type": "execute_result"
    }
   ],
   "source": [
    "cdr = pd.read_csv('data/CDR_data.csv')\n",
    "cdr.head()"
   ]
  },
  {
   "cell_type": "markdown",
   "metadata": {},
   "source": [
    "Als nächstes sehen wir uns mit der `info()`-Methode an, was uns nun Pandas in die `cdr`-Variable geschrieben hat."
   ]
  },
  {
   "cell_type": "code",
   "execution_count": 5,
   "metadata": {},
   "outputs": [
    {
     "name": "stdout",
     "output_type": "stream",
     "text": [
      "<class 'pandas.core.frame.DataFrame'>\n",
      "RangeIndex: 53188 entries, 0 to 53187\n",
      "Data columns (total 6 columns):\n",
      "In               53188 non-null int64\n",
      "Out              53188 non-null int64\n",
      "Direction        53188 non-null object\n",
      "CallTimestamp    53188 non-null object\n",
      "Duration         53188 non-null object\n",
      "TowerID          53188 non-null object\n",
      "dtypes: int64(2), object(4)\n",
      "memory usage: 2.4+ MB\n"
     ]
    }
   ],
   "source": [
    "cdr.info()"
   ]
  },
  {
   "cell_type": "markdown",
   "metadata": {},
   "source": [
    "### DataFrame\n",
    "Wir sehen, das wir nun einen `DataFrame` erhalten haben. Einen `DataFrame` können wir uns ersteinmal wie ein Excel-Arbeitsblatt vorstellen. Er besteht aus Zeilen (\"rows\") und Spalten (\"columns\"). Wir können auf Zeilen und Spalten Operationen beliebiger Art ausführen lassen. Vor allem die spaltenweise Verarbeitung ist hier sehr effizient gelöst.\n",
    "\n",
    "Speziell unser `DataFrame` enthält nun 53188 Einträge von Telefonaten. Wir können das prüfen, indem wir über die in Python eingebauten `len`-Methode auf den unseren `cdr`-`DataFrame` anwenden."
   ]
  },
  {
   "cell_type": "code",
   "execution_count": 6,
   "metadata": {},
   "outputs": [
    {
     "data": {
      "text/plain": [
       "53188"
      ]
     },
     "execution_count": 6,
     "metadata": {},
     "output_type": "execute_result"
    }
   ],
   "source": [
    "len(cdr)"
   ]
  },
  {
   "cell_type": "markdown",
   "metadata": {},
   "source": [
    "Zudem sehen wir Informationen über die Datentypen in dem `Dataframe`. Die beiden ersten Spalten `In` und `Out` sind vom Typ `int64`, also Ganzzahlen, welche als 64-Bit gespeichert werden (können also sehr große Zahlen werden). Die vier anderen Spalten sind vom Typ `object`, was in unserem Fall soviel bedeutet, dass wir hier ersteinmal reine Zeichenketten bzw. Texte vorliegen haben.\n",
    "\n",
    "Alle Spalten werden als `non-null` angezeigt. D. h. dass in jeder Reihe für jede Spalte immer ein Eintrag vorhanden ist."
   ]
  },
  {
   "cell_type": "markdown",
   "metadata": {},
   "source": [
    "Für einzelne Spalten eines `DataFrame`s (den sog. `Series`) können ganz schnelle Auswertungen vornehmen. Z. B. können wir einmal nachsehen, wie lange die durchschnittliche Dauer aller Telefonate ist. Vorher müssen wir jedoch die Spalte noch in einen passenden Datentyp umwandeln. Pandas bietet uns hier verschiedene Helfermethoden, um dies zu bewerkstelligen:\n",
    "\n",
    "* `to_numeric` wandelt Daten in Zahlen um\n",
    "* `to_datetime` wandelt Daten in Datumsangaben um\n",
    "* `to_timedelta` wandelt Daten in Zeitangaben um\n",
    "\n",
    "Hierzu nutzen wir die Spalte `Duration` und wenden darauf die Methode `mean()` an. Den Zugriff auf die Spalte können wir mittels zwei unterschiedlicher Schreibweisen vornehmen:\n",
    "* Map-Schreibweise: Hier verwenden wir eckige Klammern zum Zugriff auf eine Spalte: `cdr['Duration']`. Ein wesentlicher Vorteil dieser Schreibweise ist, dass hier jeder Spaltenname (z. B. mit Leerzeichen oder Zahlen) angesprochen werden kann\n",
    "* Attribut-Schreibweise: Hier können wir Spalte direkt auf dem `DataFrame` aufrufen: `cdr.Duration`. Ein Vorteil dieser Schreibweise ist, dass hier die Autovervollständigung funktioniert. Ich bevorzuge diese Schreibweise, soweit das möglich ist.\n",
    "\n",
    "Wir wandeln die Spalte `CallTimestamp` mittels `pd.to_datetime` und die Spalte `Duration` mittels `pd.to_timedelta` entsprechend ihrer passenden Datentypen um. Die Ergebnisse speichern wir gleich wieder in die entsprechenden Spalten. Mit `info()` auf den `DataFrame` können wir nun kontrollieren, ob die Umwandlung erfolgreich war."
   ]
  },
  {
   "cell_type": "code",
   "execution_count": 7,
   "metadata": {},
   "outputs": [
    {
     "name": "stdout",
     "output_type": "stream",
     "text": [
      "<class 'pandas.core.frame.DataFrame'>\n",
      "RangeIndex: 53188 entries, 0 to 53187\n",
      "Data columns (total 6 columns):\n",
      "In               53188 non-null int64\n",
      "Out              53188 non-null int64\n",
      "Direction        53188 non-null object\n",
      "CallTimestamp    53188 non-null datetime64[ns]\n",
      "Duration         53188 non-null timedelta64[ns]\n",
      "TowerID          53188 non-null object\n",
      "dtypes: datetime64[ns](1), int64(2), object(2), timedelta64[ns](1)\n",
      "memory usage: 2.4+ MB\n"
     ]
    }
   ],
   "source": [
    "cdr.CallTimestamp = pd.to_datetime(cdr.CallTimestamp)\n",
    "cdr.Duration = pd.to_timedelta(cdr.Duration)\n",
    "cdr.info()"
   ]
  },
  {
   "cell_type": "markdown",
   "metadata": {},
   "source": [
    "Nun können wir auf der Spalte `Duration` den Durchschnitt mit `mean()` berechnen."
   ]
  },
  {
   "cell_type": "code",
   "execution_count": 8,
   "metadata": {},
   "outputs": [
    {
     "data": {
      "text/plain": [
       "Timedelta('0 days 00:06:17.955897')"
      ]
     },
     "execution_count": 8,
     "metadata": {},
     "output_type": "execute_result"
    }
   ],
   "source": [
    "cdr.Duration.mean()"
   ]
  },
  {
   "cell_type": "markdown",
   "metadata": {},
   "source": [
    "Wir sehen, dass die durchschnittliche Anrufdauer bei etwa sechs Minuten liegt."
   ]
  },
  {
   "cell_type": "markdown",
   "metadata": {},
   "source": [
    "## Verschneiden mit anderen Daten\n",
    "Im nächsten Schritt wollen die wir Namen hinter den Telefonnummern herausfinden. Dazu haben wir eine Excel-Datei, welche die entsprechenden Nummern zu den Namen zuordnet namens `phoneowners.xlsx` im Ordner `data`."
   ]
  },
  {
   "cell_type": "code",
   "execution_count": 17,
   "metadata": {
    "scrolled": false
   },
   "outputs": [
    {
     "data": {
      "text/html": [
       "<div>\n",
       "<style scoped>\n",
       "    .dataframe tbody tr th:only-of-type {\n",
       "        vertical-align: middle;\n",
       "    }\n",
       "\n",
       "    .dataframe tbody tr th {\n",
       "        vertical-align: top;\n",
       "    }\n",
       "\n",
       "    .dataframe thead th {\n",
       "        text-align: right;\n",
       "    }\n",
       "</style>\n",
       "<table border=\"1\" class=\"dataframe\">\n",
       "  <thead>\n",
       "    <tr style=\"text-align: right;\">\n",
       "      <th></th>\n",
       "      <th>number</th>\n",
       "      <th>name</th>\n",
       "    </tr>\n",
       "  </thead>\n",
       "  <tbody>\n",
       "    <tr>\n",
       "      <th>0</th>\n",
       "      <td>4638472273</td>\n",
       "      <td>Kyle Moses</td>\n",
       "    </tr>\n",
       "    <tr>\n",
       "      <th>1</th>\n",
       "      <td>1559410755</td>\n",
       "      <td>Tommy Williams</td>\n",
       "    </tr>\n",
       "    <tr>\n",
       "      <th>2</th>\n",
       "      <td>4931532174</td>\n",
       "      <td>Dawn Meadows</td>\n",
       "    </tr>\n",
       "    <tr>\n",
       "      <th>3</th>\n",
       "      <td>2419930464</td>\n",
       "      <td>Jennifer Mendoza</td>\n",
       "    </tr>\n",
       "    <tr>\n",
       "      <th>4</th>\n",
       "      <td>1884182865</td>\n",
       "      <td>Charles Kelley</td>\n",
       "    </tr>\n",
       "  </tbody>\n",
       "</table>\n",
       "</div>"
      ],
      "text/plain": [
       "       number              name\n",
       "0  4638472273        Kyle Moses\n",
       "1  1559410755    Tommy Williams\n",
       "2  4931532174      Dawn Meadows\n",
       "3  2419930464  Jennifer Mendoza\n",
       "4  1884182865    Charles Kelley"
      ]
     },
     "execution_count": 17,
     "metadata": {},
     "output_type": "execute_result"
    }
   ],
   "source": [
    "phone_owners = pd.read_excel(\"data/phoneowners.xlsx\")\n",
    "phone_owners.head()"
   ]
  },
  {
   "cell_type": "markdown",
   "metadata": {},
   "source": [
    "Die Spalten dieser Datei wollen wir nun an den obigen `cdr`-`DataFrame` mit anhängen. Hierzu verwenden wir die Funktion `pd.merge`, welche es uns erlaubt, beliebige Spalten aus unterschiedlichen `DataFrame`s zusammenzuführen.\n",
    "\n",
    "```python\n",
    "pd.merge(\n",
    "    left, \n",
    "    right,  \n",
    "    left_on=None, \n",
    "    right_on=None,  \n",
    "    ...)\n",
    "```\n",
    "\n",
    "Das Ergebnis ist ein neuer `DataFrame`, den wir in der Variable `cdr_names` speichern. Wir zeigen hier einmal nur die ersten fünf Einträge der relevanten Spalten in der Ausgabe an, in dem wir einen Sub-`DataFrame` mit den eckigen, doppelten Klammern erzeugen und darauf direkt die `head()`-Methode aufrufen."
   ]
  },
  {
   "cell_type": "code",
   "execution_count": 15,
   "metadata": {},
   "outputs": [
    {
     "data": {
      "text/html": [
       "<div>\n",
       "<style scoped>\n",
       "    .dataframe tbody tr th:only-of-type {\n",
       "        vertical-align: middle;\n",
       "    }\n",
       "\n",
       "    .dataframe tbody tr th {\n",
       "        vertical-align: top;\n",
       "    }\n",
       "\n",
       "    .dataframe thead th {\n",
       "        text-align: right;\n",
       "    }\n",
       "</style>\n",
       "<table border=\"1\" class=\"dataframe\">\n",
       "  <thead>\n",
       "    <tr style=\"text-align: right;\">\n",
       "      <th></th>\n",
       "      <th>In</th>\n",
       "      <th>number</th>\n",
       "      <th>name</th>\n",
       "    </tr>\n",
       "  </thead>\n",
       "  <tbody>\n",
       "    <tr>\n",
       "      <th>0</th>\n",
       "      <td>4638472273</td>\n",
       "      <td>4638472273</td>\n",
       "      <td>Cory Johnson</td>\n",
       "    </tr>\n",
       "    <tr>\n",
       "      <th>1</th>\n",
       "      <td>4638472273</td>\n",
       "      <td>4638472273</td>\n",
       "      <td>John Doe</td>\n",
       "    </tr>\n",
       "    <tr>\n",
       "      <th>2</th>\n",
       "      <td>4638472273</td>\n",
       "      <td>4638472273</td>\n",
       "      <td>Cory Johnson</td>\n",
       "    </tr>\n",
       "    <tr>\n",
       "      <th>3</th>\n",
       "      <td>4638472273</td>\n",
       "      <td>4638472273</td>\n",
       "      <td>John Doe</td>\n",
       "    </tr>\n",
       "    <tr>\n",
       "      <th>4</th>\n",
       "      <td>4638472273</td>\n",
       "      <td>4638472273</td>\n",
       "      <td>Cory Johnson</td>\n",
       "    </tr>\n",
       "  </tbody>\n",
       "</table>\n",
       "</div>"
      ],
      "text/plain": [
       "           In      number          name\n",
       "0  4638472273  4638472273  Cory Johnson\n",
       "1  4638472273  4638472273      John Doe\n",
       "2  4638472273  4638472273  Cory Johnson\n",
       "3  4638472273  4638472273      John Doe\n",
       "4  4638472273  4638472273  Cory Johnson"
      ]
     },
     "execution_count": 15,
     "metadata": {},
     "output_type": "execute_result"
    }
   ],
   "source": [
    "cdr_names = pd.merge(cdr, phone_owners, left_on='In', right_on='number')\n",
    "cdr_names[['In', 'number', 'name']].head()"
   ]
  },
  {
   "cell_type": "markdown",
   "metadata": {},
   "source": [
    "Da wir nun wissen, welche Telefonnummer John Doe gehört, können wir die entsprechenden Datensätze herausfinden und alle anderen Datensätze ignorieren. Dazu selektieren wir nun mit Hilfe der Selektor-Schreibweise die entsprechenden Datensätze.\n",
    "\n",
    "Der Selektor wird mit einer offenen, eckigen Klammer `[` begonnen und endet mit einer geschlossenen, eckigen Klammer `]`. Innerhalb der eckigen Klammern wir eine `Series` mit boolschen Werten erwartet, also eine Spalte, die pro Eintrag entweder wahr (`True`) oder (`False`) enthält.\n",
    "\n",
    "Wir schaffen uns solche eine Spalte, in dem wir jetzt nachsehen, ob ein Eintrag in der Spalte `name` unseres `DataFrame`s `cdr_names` den Namen \"John Doe\" enthält."
   ]
  },
  {
   "cell_type": "code",
   "execution_count": 19,
   "metadata": {},
   "outputs": [
    {
     "data": {
      "text/plain": [
       "0    False\n",
       "1     True\n",
       "2    False\n",
       "3     True\n",
       "4    False\n",
       "Name: name, dtype: bool"
      ]
     },
     "execution_count": 19,
     "metadata": {},
     "output_type": "execute_result"
    }
   ],
   "source": [
    "ist_john_doe = cdr_names.name == \"John Doe\"\n",
    "ist_john_doe.head()"
   ]
  },
  {
   "cell_type": "markdown",
   "metadata": {},
   "source": [
    "Die obige Hilfevariable können wir nun in den Selektor schreiben und erhalten damit einen `DataFrame`, welcher nur die Anrufe von John Doe enthält. Das Ergebnis schreiben wir in die Variable `john_doe`."
   ]
  },
  {
   "cell_type": "code",
   "execution_count": 20,
   "metadata": {},
   "outputs": [
    {
     "data": {
      "text/html": [
       "<div>\n",
       "<style scoped>\n",
       "    .dataframe tbody tr th:only-of-type {\n",
       "        vertical-align: middle;\n",
       "    }\n",
       "\n",
       "    .dataframe tbody tr th {\n",
       "        vertical-align: top;\n",
       "    }\n",
       "\n",
       "    .dataframe thead th {\n",
       "        text-align: right;\n",
       "    }\n",
       "</style>\n",
       "<table border=\"1\" class=\"dataframe\">\n",
       "  <thead>\n",
       "    <tr style=\"text-align: right;\">\n",
       "      <th></th>\n",
       "      <th>In</th>\n",
       "      <th>Out</th>\n",
       "      <th>Direction</th>\n",
       "      <th>CallTimestamp</th>\n",
       "      <th>Duration</th>\n",
       "      <th>TowerID</th>\n",
       "      <th>number</th>\n",
       "      <th>name</th>\n",
       "    </tr>\n",
       "  </thead>\n",
       "  <tbody>\n",
       "    <tr>\n",
       "      <th>1</th>\n",
       "      <td>4638472273</td>\n",
       "      <td>2666307251</td>\n",
       "      <td>Incoming</td>\n",
       "      <td>2010-12-25 07:16:24.736813</td>\n",
       "      <td>00:02:41.741499</td>\n",
       "      <td>0db53dd3-eb9c-4344-abc5-c2d74ebc3eec</td>\n",
       "      <td>4638472273</td>\n",
       "      <td>John Doe</td>\n",
       "    </tr>\n",
       "    <tr>\n",
       "      <th>3</th>\n",
       "      <td>4638472273</td>\n",
       "      <td>1755442610</td>\n",
       "      <td>Incoming</td>\n",
       "      <td>2010-12-25 21:18:30.053710</td>\n",
       "      <td>00:02:47.108750</td>\n",
       "      <td>aeaf8b43-8034-44fe-833d-31854a75acbf</td>\n",
       "      <td>4638472273</td>\n",
       "      <td>John Doe</td>\n",
       "    </tr>\n",
       "    <tr>\n",
       "      <th>5</th>\n",
       "      <td>4638472273</td>\n",
       "      <td>5481755331</td>\n",
       "      <td>Incoming</td>\n",
       "      <td>2010-12-25 14:52:42.878016</td>\n",
       "      <td>00:04:35.356341</td>\n",
       "      <td>fadaa83f-6001-45fd-aa4a-17d6c6b7ec00</td>\n",
       "      <td>4638472273</td>\n",
       "      <td>John Doe</td>\n",
       "    </tr>\n",
       "    <tr>\n",
       "      <th>7</th>\n",
       "      <td>4638472273</td>\n",
       "      <td>1755442610</td>\n",
       "      <td>Incoming</td>\n",
       "      <td>2010-12-25 16:02:09.001913</td>\n",
       "      <td>00:02:23.498499</td>\n",
       "      <td>fadaa83f-6001-45fd-aa4a-17d6c6b7ec00</td>\n",
       "      <td>4638472273</td>\n",
       "      <td>John Doe</td>\n",
       "    </tr>\n",
       "    <tr>\n",
       "      <th>9</th>\n",
       "      <td>4638472273</td>\n",
       "      <td>2145623768</td>\n",
       "      <td>Incoming</td>\n",
       "      <td>2010-12-25 15:28:35.028554</td>\n",
       "      <td>00:03:54.692497</td>\n",
       "      <td>95d7920d-c3cd-4d20-a568-9a55800dc807</td>\n",
       "      <td>4638472273</td>\n",
       "      <td>John Doe</td>\n",
       "    </tr>\n",
       "  </tbody>\n",
       "</table>\n",
       "</div>"
      ],
      "text/plain": [
       "           In         Out Direction              CallTimestamp  \\\n",
       "1  4638472273  2666307251  Incoming 2010-12-25 07:16:24.736813   \n",
       "3  4638472273  1755442610  Incoming 2010-12-25 21:18:30.053710   \n",
       "5  4638472273  5481755331  Incoming 2010-12-25 14:52:42.878016   \n",
       "7  4638472273  1755442610  Incoming 2010-12-25 16:02:09.001913   \n",
       "9  4638472273  2145623768  Incoming 2010-12-25 15:28:35.028554   \n",
       "\n",
       "         Duration                               TowerID      number      name  \n",
       "1 00:02:41.741499  0db53dd3-eb9c-4344-abc5-c2d74ebc3eec  4638472273  John Doe  \n",
       "3 00:02:47.108750  aeaf8b43-8034-44fe-833d-31854a75acbf  4638472273  John Doe  \n",
       "5 00:04:35.356341  fadaa83f-6001-45fd-aa4a-17d6c6b7ec00  4638472273  John Doe  \n",
       "7 00:02:23.498499  fadaa83f-6001-45fd-aa4a-17d6c6b7ec00  4638472273  John Doe  \n",
       "9 00:03:54.692497  95d7920d-c3cd-4d20-a568-9a55800dc807  4638472273  John Doe  "
      ]
     },
     "execution_count": 20,
     "metadata": {},
     "output_type": "execute_result"
    }
   ],
   "source": [
    "john_doe = cdr_names[ist_john_doe]\n",
    "john_doe.head()"
   ]
  },
  {
   "cell_type": "markdown",
   "metadata": {},
   "source": [
    "Im nächsten Schritt interessiert uns, wo John Doe überall telefoniert. Wir wissen dank der `TowerId`, an welchem Mobilfunkmasten John Doe eingeloggt war, als das Telefonat stattgefunden hatte. In der Datei `data/towers.csb` haben wir zudem die Informationen, an welcher geografischen Koordinate sich ein Mobilfunkmast befindet. Diese Angaben sind pro `TowerId` als Breitengrad und Höhengrad abgelegt. Zuerst laden wir die entsprechende CSV-Datei mittels `read_csv()`. Wir geben zusätzlich mittels `index_col=0` mit an, dass wir die erste Spalte im `DataFrame` als Index verwenden wollen."
   ]
  },
  {
   "cell_type": "code",
   "execution_count": 26,
   "metadata": {},
   "outputs": [
    {
     "data": {
      "text/html": [
       "<div>\n",
       "<style scoped>\n",
       "    .dataframe tbody tr th:only-of-type {\n",
       "        vertical-align: middle;\n",
       "    }\n",
       "\n",
       "    .dataframe tbody tr th {\n",
       "        vertical-align: top;\n",
       "    }\n",
       "\n",
       "    .dataframe thead th {\n",
       "        text-align: right;\n",
       "    }\n",
       "</style>\n",
       "<table border=\"1\" class=\"dataframe\">\n",
       "  <thead>\n",
       "    <tr style=\"text-align: right;\">\n",
       "      <th></th>\n",
       "      <th>TowerLat</th>\n",
       "      <th>TowerLon</th>\n",
       "    </tr>\n",
       "    <tr>\n",
       "      <th>TowerID</th>\n",
       "      <th></th>\n",
       "      <th></th>\n",
       "    </tr>\n",
       "  </thead>\n",
       "  <tbody>\n",
       "    <tr>\n",
       "      <th>0db53dd3-eb9c-4344-abc5-c2d74ebc3eec</th>\n",
       "      <td>32.731611</td>\n",
       "      <td>-96.709417</td>\n",
       "    </tr>\n",
       "    <tr>\n",
       "      <th>aeaf8b43-8034-44fe-833d-31854a75acbf</th>\n",
       "      <td>32.731722</td>\n",
       "      <td>-96.709500</td>\n",
       "    </tr>\n",
       "    <tr>\n",
       "      <th>fadaa83f-6001-45fd-aa4a-17d6c6b7ec00</th>\n",
       "      <td>32.899944</td>\n",
       "      <td>-96.910389</td>\n",
       "    </tr>\n",
       "    <tr>\n",
       "      <th>95d7920d-c3cd-4d20-a568-9a55800dc807</th>\n",
       "      <td>32.899944</td>\n",
       "      <td>-96.910389</td>\n",
       "    </tr>\n",
       "    <tr>\n",
       "      <th>95c91e8b-6ff1-4893-9df3-b0342636bd25</th>\n",
       "      <td>32.899944</td>\n",
       "      <td>-96.910389</td>\n",
       "    </tr>\n",
       "  </tbody>\n",
       "</table>\n",
       "</div>"
      ],
      "text/plain": [
       "                                       TowerLat   TowerLon\n",
       "TowerID                                                   \n",
       "0db53dd3-eb9c-4344-abc5-c2d74ebc3eec  32.731611 -96.709417\n",
       "aeaf8b43-8034-44fe-833d-31854a75acbf  32.731722 -96.709500\n",
       "fadaa83f-6001-45fd-aa4a-17d6c6b7ec00  32.899944 -96.910389\n",
       "95d7920d-c3cd-4d20-a568-9a55800dc807  32.899944 -96.910389\n",
       "95c91e8b-6ff1-4893-9df3-b0342636bd25  32.899944 -96.910389"
      ]
     },
     "execution_count": 26,
     "metadata": {},
     "output_type": "execute_result"
    }
   ],
   "source": [
    "towers = pd.read_csv(\"data/towers.csv\", index_col=0)\n",
    "towers.head()"
   ]
  },
  {
   "cell_type": "markdown",
   "metadata": {},
   "source": [
    "Zum Zusammenführen der Daten mit unseren bestehenden CDR-`DataFrame` können wir diesesmal die `join()`-Methode verwenden, da wir im `towers` `DataFrame` einen Index auf die `TowerID`-Spalte angelegt haben. Die `join()`-Methode kann nun auf dieser Basis die Daten zusammenführen. Dazu müssen wir noch angeben, welche Spalte im `john_doe`-`DataFrame` die Index-Spalte im anderen `DataFrame` repräsentiert. Das Ergebnis speichern wir in der Variable `john_doe_towers`."
   ]
  },
  {
   "cell_type": "code",
   "execution_count": 34,
   "metadata": {},
   "outputs": [
    {
     "data": {
      "text/html": [
       "<div>\n",
       "<style scoped>\n",
       "    .dataframe tbody tr th:only-of-type {\n",
       "        vertical-align: middle;\n",
       "    }\n",
       "\n",
       "    .dataframe tbody tr th {\n",
       "        vertical-align: top;\n",
       "    }\n",
       "\n",
       "    .dataframe thead th {\n",
       "        text-align: right;\n",
       "    }\n",
       "</style>\n",
       "<table border=\"1\" class=\"dataframe\">\n",
       "  <thead>\n",
       "    <tr style=\"text-align: right;\">\n",
       "      <th></th>\n",
       "      <th>In</th>\n",
       "      <th>Out</th>\n",
       "      <th>Direction</th>\n",
       "      <th>CallTimestamp</th>\n",
       "      <th>Duration</th>\n",
       "      <th>TowerID</th>\n",
       "      <th>number</th>\n",
       "      <th>name</th>\n",
       "      <th>TowerLat</th>\n",
       "      <th>TowerLon</th>\n",
       "    </tr>\n",
       "  </thead>\n",
       "  <tbody>\n",
       "    <tr>\n",
       "      <th>1</th>\n",
       "      <td>4638472273</td>\n",
       "      <td>2666307251</td>\n",
       "      <td>Incoming</td>\n",
       "      <td>2010-12-25 07:16:24.736813</td>\n",
       "      <td>00:02:41.741499</td>\n",
       "      <td>0db53dd3-eb9c-4344-abc5-c2d74ebc3eec</td>\n",
       "      <td>4638472273</td>\n",
       "      <td>John Doe</td>\n",
       "      <td>32.731611</td>\n",
       "      <td>-96.709417</td>\n",
       "    </tr>\n",
       "    <tr>\n",
       "      <th>3</th>\n",
       "      <td>4638472273</td>\n",
       "      <td>1755442610</td>\n",
       "      <td>Incoming</td>\n",
       "      <td>2010-12-25 21:18:30.053710</td>\n",
       "      <td>00:02:47.108750</td>\n",
       "      <td>aeaf8b43-8034-44fe-833d-31854a75acbf</td>\n",
       "      <td>4638472273</td>\n",
       "      <td>John Doe</td>\n",
       "      <td>32.731722</td>\n",
       "      <td>-96.709500</td>\n",
       "    </tr>\n",
       "    <tr>\n",
       "      <th>5</th>\n",
       "      <td>4638472273</td>\n",
       "      <td>5481755331</td>\n",
       "      <td>Incoming</td>\n",
       "      <td>2010-12-25 14:52:42.878016</td>\n",
       "      <td>00:04:35.356341</td>\n",
       "      <td>fadaa83f-6001-45fd-aa4a-17d6c6b7ec00</td>\n",
       "      <td>4638472273</td>\n",
       "      <td>John Doe</td>\n",
       "      <td>32.899944</td>\n",
       "      <td>-96.910389</td>\n",
       "    </tr>\n",
       "    <tr>\n",
       "      <th>7</th>\n",
       "      <td>4638472273</td>\n",
       "      <td>1755442610</td>\n",
       "      <td>Incoming</td>\n",
       "      <td>2010-12-25 16:02:09.001913</td>\n",
       "      <td>00:02:23.498499</td>\n",
       "      <td>fadaa83f-6001-45fd-aa4a-17d6c6b7ec00</td>\n",
       "      <td>4638472273</td>\n",
       "      <td>John Doe</td>\n",
       "      <td>32.899944</td>\n",
       "      <td>-96.910389</td>\n",
       "    </tr>\n",
       "    <tr>\n",
       "      <th>9</th>\n",
       "      <td>4638472273</td>\n",
       "      <td>2145623768</td>\n",
       "      <td>Incoming</td>\n",
       "      <td>2010-12-25 15:28:35.028554</td>\n",
       "      <td>00:03:54.692497</td>\n",
       "      <td>95d7920d-c3cd-4d20-a568-9a55800dc807</td>\n",
       "      <td>4638472273</td>\n",
       "      <td>John Doe</td>\n",
       "      <td>32.899944</td>\n",
       "      <td>-96.910389</td>\n",
       "    </tr>\n",
       "  </tbody>\n",
       "</table>\n",
       "</div>"
      ],
      "text/plain": [
       "           In         Out Direction              CallTimestamp  \\\n",
       "1  4638472273  2666307251  Incoming 2010-12-25 07:16:24.736813   \n",
       "3  4638472273  1755442610  Incoming 2010-12-25 21:18:30.053710   \n",
       "5  4638472273  5481755331  Incoming 2010-12-25 14:52:42.878016   \n",
       "7  4638472273  1755442610  Incoming 2010-12-25 16:02:09.001913   \n",
       "9  4638472273  2145623768  Incoming 2010-12-25 15:28:35.028554   \n",
       "\n",
       "         Duration                               TowerID      number      name  \\\n",
       "1 00:02:41.741499  0db53dd3-eb9c-4344-abc5-c2d74ebc3eec  4638472273  John Doe   \n",
       "3 00:02:47.108750  aeaf8b43-8034-44fe-833d-31854a75acbf  4638472273  John Doe   \n",
       "5 00:04:35.356341  fadaa83f-6001-45fd-aa4a-17d6c6b7ec00  4638472273  John Doe   \n",
       "7 00:02:23.498499  fadaa83f-6001-45fd-aa4a-17d6c6b7ec00  4638472273  John Doe   \n",
       "9 00:03:54.692497  95d7920d-c3cd-4d20-a568-9a55800dc807  4638472273  John Doe   \n",
       "\n",
       "    TowerLat   TowerLon  \n",
       "1  32.731611 -96.709417  \n",
       "3  32.731722 -96.709500  \n",
       "5  32.899944 -96.910389  \n",
       "7  32.899944 -96.910389  \n",
       "9  32.899944 -96.910389  "
      ]
     },
     "execution_count": 34,
     "metadata": {},
     "output_type": "execute_result"
    }
   ],
   "source": [
    "john_doe_towers = john_doe.join(towers, on='TowerID')\n",
    "john_doe_towers.head()"
   ]
  },
  {
   "cell_type": "markdown",
   "metadata": {},
   "source": [
    "Nun können wir irgendwie nicht mehr erwarten zu sehen, wo die Telefonate durchgeführt wurden. Dazu plotten wir mit der Visualisierungsbibliothek \"matplotlib\" die entsprechenden Koordinaten der Mobilfunkmasten."
   ]
  },
  {
   "cell_type": "code",
   "execution_count": 37,
   "metadata": {},
   "outputs": [],
   "source": [
    "import matplotlib.pyplot as plt\n",
    "import matplotlib\n",
    "\n",
    "# sagt Jupyter, dass die Plotausgabe direkt im Notebook passieren soll\n",
    "%matplotlib inline \n",
    "# macht die Plots schöner\n",
    "matplotlib.style.use('ggplot')"
   ]
  },
  {
   "cell_type": "code",
   "execution_count": 47,
   "metadata": {},
   "outputs": [
    {
     "data": {
      "image/png": "[encoded data removed]",
      "text/plain": [
       "<matplotlib.figure.Figure at 0x1780814fe80>"
      ]
     },
     "metadata": {},
     "output_type": "display_data"
    }
   ],
   "source": [
    "ax = john_doe_towers.plot.scatter(\n",
    "    x='TowerLon',\n",
    "    y='TowerLat',\n",
    "    alpha=0.1,\n",
    "    title='Anruforte',\n",
    "    s = 100)"
   ]
  },
  {
   "cell_type": "code",
   "execution_count": 48,
   "metadata": {},
   "outputs": [
    {
     "data": {
      "image/png": "[encoded data removed]",
      "text/plain": [
       "<matplotlib.figure.Figure at 0x1780814fe80>"
      ]
     },
     "execution_count": 48,
     "metadata": {},
     "output_type": "execute_result"
    }
   ],
   "source": [
    "from sklearn.cluster import KMeans\n",
    "\n",
    "kmeans = KMeans(n_clusters = 2)\n",
    "data = pd.concat([john_doe_towers.TowerLon, john_doe_towers.TowerLat], axis = 1)\n",
    "labels = kmeans.fit_predict(data)\n",
    "centroids = kmeans.cluster_centers_\n",
    "ax.scatter(x = centroids[:, 0], y = centroids[:, 1], c = 'r', marker = 'x', s = 100)\n",
    "ax.figure\n",
    "#showandtell()  # TODO: Comment this line out when you're ready to proceed"
   ]
  },
  {
   "cell_type": "code",
   "execution_count": 49,
   "metadata": {},
   "outputs": [
    {
     "data": {
      "text/plain": [
       "array([[-96.90470092,  32.89725753],\n",
       "       [-96.71403501,  32.73670309]])"
      ]
     },
     "execution_count": 49,
     "metadata": {},
     "output_type": "execute_result"
    }
   ],
   "source": [
    "centroids"
   ]
  },
  {
   "cell_type": "code",
   "execution_count": null,
   "metadata": {
    "scrolled": true
   },
   "outputs": [],
   "source": [
    "joined['CallTimestamp'] = pd.to_datetime(joined['CallTimestamp'])\n",
    "weekdays = joined['CallTimestamp'].dt.dayofweek.isin(Workweek) & joined['CallTimestamp'].dt.hour.isin(range(8,18))\n",
    "dfweekdays = joined[weekdays]\n",
    "dfweekdays.head()"
   ]
  },
  {
   "cell_type": "code",
   "execution_count": null,
   "metadata": {},
   "outputs": [],
   "source": [
    "targetname = 'John Doe'\n",
    "user1 = joined[joined['Name'] == targetname]\n",
    "#user1 = user1[weekdays]\n",
    "user1 = user1.reset_index(drop=True)\n",
    "user1.head()"
   ]
  },
  {
   "cell_type": "code",
   "execution_count": null,
   "metadata": {},
   "outputs": [],
   "source": [
    "#\n",
    "# INFO: The locations map above should be too \"busy\" to really wrap your head around. This is where domain expertise comes into play.\n",
    "# Your intuition tells you that people are likely to behave differently on weekends:\n",
    "#\n",
    "# On Weekends:\n",
    "#   1. People probably don't go into work\n",
    "#   2. They probably sleep in late on Saturday\n",
    "#   3. They probably run a bunch of random errands, since they couldn't during the week\n",
    "#   4. They should be home, at least during the very late hours, e.g. 1-4 AM\n",
    "#\n",
    "# On Weekdays:\n",
    "#   1. People probably are at work during normal working hours\n",
    "#   2. They probably are at home in the early morning and during the late night\n",
    "#   3. They probably spend time commuting between work and home everyday\n",
    "\n",
    "\n",
    "#\n",
    "# TODO: Add more filters to the user1 slice you created. Add bitwise logic so that you're only examining records that came in on\n",
    "# weekends (sat/sun).\n",
    "#\n",
    "# .. your code here ..\n",
    "\n",
    "user1['DOW'] = user1.CallTimestamp.dt.strftime(\"%a\")\n",
    "\n",
    "user1 = user1[(user1.DOW == 'Sat') | (user1.DOW == 'Sun')]\n",
    "user1.head()\n",
    "#\n",
    "# TODO: Further filter it down for calls that are came in either before 6AM OR after 10pm (22:00:00). You can use < and > to compare\n",
    "# the string times, just make sure you code them as military time strings, eg: \"06:00:00\", \"22:00:00\":\n",
    "# https://en.wikipedia.org/wiki/24-hour_clock\n",
    "#\n",
    "# You might also want to review the Data Manipulation section for this. Once you have your filtered slice, print out its length:\n",
    "#\n",
    "# .. your code here ..\n",
    "\n",
    "user1 = user1[(user1.CallTimestamp < \"06:00:00\") | (user1.CallTimestamp > \"22:00:00\")]\n",
    "user1.head()"
   ]
  },
  {
   "cell_type": "code",
   "execution_count": null,
   "metadata": {},
   "outputs": [],
   "source": [
    "#\n",
    "# INFO: Visualize the dataframe with a scatter plot as a sanity check. Since you're familiar with maps, you know well that your\n",
    "# X-Coordinate should be Longitude, and your Y coordinate should be the tower Latitude. Check the dataset headers for proper column\n",
    "# feature names.\n",
    "# https://en.wikipedia.org/wiki/Geographic_coordinate_system#Geographic_latitude_and_longitude\n",
    "#\n",
    "# At this point, you don't yet know exactly where the user is located just based off the cell phone tower position data; but\n",
    "# considering the below are for Calls that arrived in the twilight hours of weekends, it's likely that wherever they are bunched up\n",
    "# is probably near the caller's residence:\n",
    "fig = plt.figure()\n",
    "ax = fig.add_subplot(111)\n",
    "ax.scatter(user1.TowerLon,user1.TowerLat, c='g', marker='o', alpha=0.2)\n",
    "ax.set_title('Weekend Calls (<6am or >10p)')\n",
    "#showandtell()  # TODO: Comment this line out when you're ready to proceed\n",
    "\n",
    "#\n",
    "# TODO: Run K-Means with a K=1. There really should only be a single area of concentration. If you notice multiple areas that are\n",
    "# \"hot\" (multiple areas the usr spends a lot of time at that are FAR apart from one another), then increase K=2, with the goal being\n",
    "# that one of the centroids will sweep up the annoying outliers; and the other will zero in on the user's approximate home location.\n",
    "# Or rather the location of the cell tower closest to their home.....\n",
    "#\n",
    "# Be sure to only feed in Lat and Lon coordinates to the KMeans algo, since none of the other data is suitable for your purposes.\n",
    "# Since both Lat and Lon are (approximately) on the same scale, no feature scaling is required. Print out the centroid locations and\n",
    "# add them onto your scatter plot. Use a distinguishable marker and color.\n",
    "#\n",
    "# Hint: Make sure you graph the CORRECT coordinates. This is part of your domain expertise.\n",
    "#\n",
    "# .. your code here .."
   ]
  },
  {
   "cell_type": "code",
   "execution_count": null,
   "metadata": {},
   "outputs": [],
   "source": [
    "#coordinates = \"\" + centroids[0][1].to_string().split('.')[0] + \"°\" + centroids[0][1].split('.')[1][0]  + centroids[0][1].split('.')[1][1] + centroids[0][0]\n",
    "#str.split(' ', 1 )\n",
    "centroids\n",
    "\n",
    "difference1 = centroids[0][1] - centroids[1][1]\n",
    "difference2 = centroids[0][0] - centroids[1][0]\n",
    "\n",
    "difference1 = 0.5 * difference1\n",
    "difference2 = 0.5 * difference2\n",
    "\n",
    "coordinate1 = centroids[0][1] + difference1\n",
    "coordinate2 = centroids[0][0] + difference2\n",
    "\n",
    "coordinates = str(coordinate1) + \" \" + str(coordinate2)\n",
    "coordinates\n",
    "\n",
    "#-96°90'92.4672\"N  96°56'57.3\"W"
   ]
  }
 ],
 "metadata": {
  "anaconda-cloud": {},
  "kernelspec": {
   "display_name": "Python 3",
   "language": "python",
   "name": "python3"
  },
  "language_info": {
   "codemirror_mode": {
    "name": "ipython",
    "version": 3
   },
   "file_extension": ".py",
   "mimetype": "text/x-python",
   "name": "python",
   "nbconvert_exporter": "python",
   "pygments_lexer": "ipython3",
   "version": "3.6.4"
  }
 },
 "nbformat": 4,
 "nbformat_minor": 2
}
