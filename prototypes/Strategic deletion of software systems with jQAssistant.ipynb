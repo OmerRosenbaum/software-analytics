{
 "cells": [
  {
   "cell_type": "markdown",
   "metadata": {},
   "source": [
    "# Input data\n",
    "Out input data is manifold:\n",
    "1. We use the scanned Java byte code to be able to reason on the impacts of our software system\n",
    "1. We need a size metric for the amount of code we're deleting. The good old lines of code metric is both dependable as well as easy to collect\n",
    "1. We need some measures for the ugliness of our system. For this, we simply use a static code analyser that delivers a number of issues\n",
    "1. We also want to have a look at the production usage of the existing code base. For this, we use Jacoco for determine the amount of calls in our code base\n",
    "1. Last, we need an indicator about the change frequency of the code base.\n"
   ]
  },
  {
   "cell_type": "code",
   "execution_count": null,
   "metadata": {
    "collapsed": true
   },
   "outputs": [],
   "source": [
    "SRC_DIR=r'C:\\dev\\repos\\buschmais-spring-petclinic'\n"
   ]
  },
  {
   "cell_type": "markdown",
   "metadata": {},
   "source": [
    "java -jar jacococli.jar report c:\\Temp\\jacoco\\jacoco.exec --xml jacoco.xml --classfiles c:\\dev\\repos\\buschmais-spring-petclinic\\target\\classes --html jacoco.html"
   ]
  },
  {
   "cell_type": "code",
   "execution_count": 53,
   "metadata": {},
   "outputs": [
    {
     "data": {
      "text/plain": [
       "(b9f940f:Cause {title:\"cause\"})"
      ]
     },
     "execution_count": 53,
     "metadata": {},
     "output_type": "execute_result"
    }
   ],
   "source": [
    "from py2neo import Graph, Node, Relationship\n",
    "g = Graph()\n",
    "\n",
    "\n",
    "graph = Graph()\n",
    "\n",
    "def add_problem(title, description, graph):\n",
    "    tx = graph.begin()\n",
    "    node = Node(\"Problem\", title=title)\n",
    "    result = tx.create(node)\n",
    "    tx.commit()\n",
    "    return node\n",
    "\n",
    "def add_cause(title, description, parent_cause, graph):\n",
    "    tx = graph.begin()\n",
    "    cause = Node(\"Cause\", title=title)\n",
    "    result = tx.create(cause)\n",
    "    rel = Relationship(cause, \"CAUSES\", parent_cause)\n",
    "    tx.create(rel)\n",
    "    tx.commit()\n",
    "    return cause\n",
    "\n",
    "\n",
    "n = add_problem(\"test\", \"testdesc\", graph)\n",
    "add_cause(\"cause\", \"causedesc\", n, graph)"
   ]
  }
 ],
 "metadata": {
  "hide_input": false,
  "kernelspec": {
   "display_name": "Python 3",
   "language": "python",
   "name": "python3"
  },
  "language_info": {
   "codemirror_mode": {
    "name": "ipython",
    "version": 3
   },
   "file_extension": ".py",
   "mimetype": "text/x-python",
   "name": "python",
   "nbconvert_exporter": "python",
   "pygments_lexer": "ipython3",
   "version": "3.6.2"
  }
 },
 "nbformat": 4,
 "nbformat_minor": 2
}
