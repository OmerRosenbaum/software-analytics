{
 "cells": [
  {
   "cell_type": "code",
   "execution_count": 13,
   "metadata": {},
   "outputs": [
    {
     "data": {
      "text/html": [
       "<div>\n",
       "<style scoped>\n",
       "    .dataframe tbody tr th:only-of-type {\n",
       "        vertical-align: middle;\n",
       "    }\n",
       "\n",
       "    .dataframe tbody tr th {\n",
       "        vertical-align: top;\n",
       "    }\n",
       "\n",
       "    .dataframe thead th {\n",
       "        text-align: right;\n",
       "    }\n",
       "</style>\n",
       "<table border=\"1\" class=\"dataframe\">\n",
       "  <thead>\n",
       "    <tr style=\"text-align: right;\">\n",
       "      <th></th>\n",
       "      <th>path</th>\n",
       "      <th>author</th>\n",
       "      <th>timestamp</th>\n",
       "      <th>line</th>\n",
       "    </tr>\n",
       "  </thead>\n",
       "  <tbody>\n",
       "    <tr>\n",
       "      <th>0</th>\n",
       "      <td>drivers/scsi/bfa/bfad_drv.h</td>\n",
       "      <td>Anil Gurumurthy</td>\n",
       "      <td>1448528085000000000</td>\n",
       "      <td>1</td>\n",
       "    </tr>\n",
       "    <tr>\n",
       "      <th>1</th>\n",
       "      <td>drivers/scsi/bfa/bfad_drv.h</td>\n",
       "      <td>Anil Gurumurthy</td>\n",
       "      <td>1448528085000000000</td>\n",
       "      <td>2</td>\n",
       "    </tr>\n",
       "    <tr>\n",
       "      <th>2</th>\n",
       "      <td>drivers/scsi/bfa/bfad_drv.h</td>\n",
       "      <td>Anil Gurumurthy</td>\n",
       "      <td>1448528085000000000</td>\n",
       "      <td>3</td>\n",
       "    </tr>\n",
       "    <tr>\n",
       "      <th>3</th>\n",
       "      <td>drivers/scsi/bfa/bfad_drv.h</td>\n",
       "      <td>Jing Huang</td>\n",
       "      <td>1253753175000000000</td>\n",
       "      <td>4</td>\n",
       "    </tr>\n",
       "    <tr>\n",
       "      <th>4</th>\n",
       "      <td>drivers/scsi/bfa/bfad_drv.h</td>\n",
       "      <td>Anil Gurumurthy</td>\n",
       "      <td>1448528085000000000</td>\n",
       "      <td>5</td>\n",
       "    </tr>\n",
       "  </tbody>\n",
       "</table>\n",
       "</div>"
      ],
      "text/plain": [
       "                          path           author            timestamp  line\n",
       "0  drivers/scsi/bfa/bfad_drv.h  Anil Gurumurthy  1448528085000000000     1\n",
       "1  drivers/scsi/bfa/bfad_drv.h  Anil Gurumurthy  1448528085000000000     2\n",
       "2  drivers/scsi/bfa/bfad_drv.h  Anil Gurumurthy  1448528085000000000     3\n",
       "3  drivers/scsi/bfa/bfad_drv.h       Jing Huang  1253753175000000000     4\n",
       "4  drivers/scsi/bfa/bfad_drv.h  Anil Gurumurthy  1448528085000000000     5"
      ]
     },
     "execution_count": 13,
     "metadata": {},
     "output_type": "execute_result"
    }
   ],
   "source": [
    "import pandas as pd\n",
    "\n",
    "data = pd.read_csv(\"../demos/dataset/linux_blame_log.csv\")\n",
    "data['author'] = pd.Categorical(data.author)\n",
    "data.head()"
   ]
  },
  {
   "cell_type": "code",
   "execution_count": 14,
   "metadata": {
    "scrolled": true
   },
   "outputs": [
    {
     "data": {
      "text/plain": [
       "path                                author             \n",
       "arch/arc/kernel/time.c              Anna-Maria Gleixner     13\n",
       "                                    Daniel Lezcano          31\n",
       "                                    Noam Camus              18\n",
       "                                    Vineet Gupta           243\n",
       "                                    Viresh Kumar             6\n",
       "arch/arm/common/timer-sp.c          Linus Walleij            3\n",
       "                                    Michael Opdenacker       1\n",
       "                                    Rob Herring            111\n",
       "                                    Russell King            44\n",
       "                                    Stephen Boyd             3\n",
       "Name: line, dtype: int64"
      ]
     },
     "execution_count": 14,
     "metadata": {},
     "output_type": "execute_result"
    }
   ],
   "source": [
    "grouped_files = data.groupby(['path', 'author']).line.count()\n",
    "grouped_files.head(10)"
   ]
  },
  {
   "cell_type": "code",
   "execution_count": 26,
   "metadata": {},
   "outputs": [],
   "source": [
    "import pygal\n",
    "from pygal import Config\n",
    "\n",
    "config = Config()\n",
    "config.show_legend = False\n",
    "config.human_readable = True\n",
    "config.fill = True\n",
    "config.margin = 0\n",
    "config.width = 200\n",
    "config.height = 200\n",
    "config.width = 20\n",
    "config.height = 20\n",
    "\n",
    "for group in grouped_files.groupby(level=0):\n",
    "    \n",
    "    treemap = pygal.Treemap(config)\n",
    "    filename = group[0].replace(\"/\", \"-\").replace(\".\", \"_\").strip() + \".png\"\n",
    "    data = group[1].reset_index()\n",
    "    \n",
    "    for item in data.iterrows():\n",
    "        entry = item[1]\n",
    "        treemap.add(entry['author'], entry['line'])\n",
    "  \n",
    "    treemap.render_to_png('treemaps_mini/' + filename)"
   ]
  },
  {
   "cell_type": "code",
   "execution_count": 4,
   "metadata": {},
   "outputs": [
    {
     "data": {
      "text/plain": [
       "path\n",
       "drivers/scsi/bfa/bfad_im.c    15\n",
       "Name: author, dtype: int64"
      ]
     },
     "execution_count": 4,
     "metadata": {},
     "output_type": "execute_result"
    }
   ],
   "source": [
    "grouped = data.groupby('path').author.nunique()\n",
    "grouped.head()"
   ]
  },
  {
   "cell_type": "code",
   "execution_count": null,
   "metadata": {},
   "outputs": [],
   "source": [
    "import pygal\n",
    "\n",
    "treemap = pygal.Treemap()\n",
    "\n",
    "for entry in grouped.iteritems():\n",
    "    treemap.add(entry[0], entry[1])\n",
    "\n",
    "treemap.render_to_file(\"test.svg\")"
   ]
  }
 ],
 "metadata": {
  "kernelspec": {
   "display_name": "Python 3",
   "language": "python",
   "name": "python3"
  },
  "language_info": {
   "codemirror_mode": {
    "name": "ipython",
    "version": 3
   },
   "file_extension": ".py",
   "mimetype": "text/x-python",
   "name": "python",
   "nbconvert_exporter": "python",
   "pygments_lexer": "ipython3",
   "version": "3.6.4"
  }
 },
 "nbformat": 4,
 "nbformat_minor": 2
}
