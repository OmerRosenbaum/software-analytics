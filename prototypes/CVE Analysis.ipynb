{
 "cells": [
  {
   "cell_type": "code",
   "execution_count": 48,
   "metadata": {},
   "outputs": [],
   "source": [
    "xml = \"\"\n",
    "\n",
    "with open (\"../demos/dataset/nvdcve-2.0-2016_mini.xml\") as f:\n",
    "    xml = f.read()\n",
    "    \n",
    "xml;"
   ]
  },
  {
   "cell_type": "code",
   "execution_count": 52,
   "metadata": {},
   "outputs": [
    {
     "name": "stdout",
     "output_type": "stream",
     "text": [
      "{}\n"
     ]
    }
   ],
   "source": [
    "import xmldataset\n",
    "\n",
    "# xmldataset declaration\n",
    "profile = \"\"\"\n",
    "nvd\n",
    "    entry.id\n",
    "\"\"\"\n",
    "\n",
    "# Print the output\n",
    "print(xmldataset.parse_using_profile(xml, profile))"
   ]
  },
  {
   "cell_type": "code",
   "execution_count": 18,
   "metadata": {},
   "outputs": [
    {
     "data": {
      "text/html": [
       "<div>\n",
       "<style scoped>\n",
       "    .dataframe tbody tr th:only-of-type {\n",
       "        vertical-align: middle;\n",
       "    }\n",
       "\n",
       "    .dataframe tbody tr th {\n",
       "        vertical-align: top;\n",
       "    }\n",
       "\n",
       "    .dataframe thead th {\n",
       "        text-align: right;\n",
       "    }\n",
       "</style>\n",
       "<table border=\"1\" class=\"dataframe\">\n",
       "  <thead>\n",
       "    <tr style=\"text-align: right;\">\n",
       "      <th></th>\n",
       "      <th>Name</th>\n",
       "      <th>Status</th>\n",
       "      <th>Description</th>\n",
       "      <th>References</th>\n",
       "      <th>Phase</th>\n",
       "      <th>Votes</th>\n",
       "      <th>Comments</th>\n",
       "    </tr>\n",
       "  </thead>\n",
       "  <tbody>\n",
       "  </tbody>\n",
       "</table>\n",
       "</div>"
      ],
      "text/plain": [
       "Empty DataFrame\n",
       "Columns: [Name, Status, Description, References, Phase, Votes, Comments]\n",
       "Index: []"
      ]
     },
     "execution_count": 18,
     "metadata": {},
     "output_type": "execute_result"
    }
   ],
   "source": [
    "import pandas as pd\n",
    "\n",
    "header = pd.read_csv(\"../demos/dataset/cve_allitems.csv.gz\", skiprows=2, nrows=0)\n",
    "header"
   ]
  },
  {
   "cell_type": "code",
   "execution_count": 36,
   "metadata": {},
   "outputs": [
    {
     "name": "stderr",
     "output_type": "stream",
     "text": [
      "C:\\dev\\apps\\Anaconda3\\lib\\site-packages\\pandas\\io\\parsers.py:709: UserWarning: Duplicate names specified. This will raise an error in the future.\n",
      "  return _read(filepath_or_buffer, kwds)\n",
      "C:\\dev\\apps\\Anaconda3\\lib\\site-packages\\IPython\\core\\interactiveshell.py:2728: DtypeWarning: Columns (6) have mixed types. Specify dtype option on import or set low_memory=False.\n",
      "  interactivity=interactivity, compiler=compiler, result=result)\n"
     ]
    },
    {
     "data": {
      "text/html": [
       "<div>\n",
       "<style scoped>\n",
       "    .dataframe tbody tr th:only-of-type {\n",
       "        vertical-align: middle;\n",
       "    }\n",
       "\n",
       "    .dataframe tbody tr th {\n",
       "        vertical-align: top;\n",
       "    }\n",
       "\n",
       "    .dataframe thead th {\n",
       "        text-align: right;\n",
       "    }\n",
       "</style>\n",
       "<table border=\"1\" class=\"dataframe\">\n",
       "  <thead>\n",
       "    <tr style=\"text-align: right;\">\n",
       "      <th></th>\n",
       "      <th>Name</th>\n",
       "      <th>Status</th>\n",
       "      <th>Description</th>\n",
       "      <th>References</th>\n",
       "      <th>Phase</th>\n",
       "      <th>Votes</th>\n",
       "      <th>Comments</th>\n",
       "    </tr>\n",
       "  </thead>\n",
       "  <tbody>\n",
       "    <tr>\n",
       "      <th>0</th>\n",
       "      <td>CVE-1999-0001</td>\n",
       "      <td>Candidate</td>\n",
       "      <td>ip_input.c in BSD-derived TCP/IP implementatio...</td>\n",
       "      <td>CERT:CA-98-13-tcp-denial-of-service   |   BUGT...</td>\n",
       "      <td>Modified (20051217)</td>\n",
       "      <td>MODIFY(1) Frech  |     NOOP(2) Northcutt, W...</td>\n",
       "      <td>Christey&gt; A Bugtraq posting indicates that th...</td>\n",
       "    </tr>\n",
       "    <tr>\n",
       "      <th>1</th>\n",
       "      <td>CVE-1999-0002</td>\n",
       "      <td>Entry</td>\n",
       "      <td>Buffer overflow in NFS mountd gives root acces...</td>\n",
       "      <td>SGI:19981006-01-I   |   URL:ftp://patches.sgi....</td>\n",
       "      <td>NaN</td>\n",
       "      <td>NaN</td>\n",
       "      <td>NaN</td>\n",
       "    </tr>\n",
       "    <tr>\n",
       "      <th>2</th>\n",
       "      <td>CVE-1999-0003</td>\n",
       "      <td>Entry</td>\n",
       "      <td>Execute commands as root via buffer overflow i...</td>\n",
       "      <td>NAI:NAI-29   |   CERT:CA-98.11.tooltalk   |   ...</td>\n",
       "      <td>NaN</td>\n",
       "      <td>NaN</td>\n",
       "      <td>NaN</td>\n",
       "    </tr>\n",
       "    <tr>\n",
       "      <th>3</th>\n",
       "      <td>CVE-1999-0004</td>\n",
       "      <td>Candidate</td>\n",
       "      <td>MIME buffer overflow in email clients, e.g. So...</td>\n",
       "      <td>CERT:CA-98.10.mime_buffer_overflows   |   XF:o...</td>\n",
       "      <td>Modified (19990621-01)</td>\n",
       "      <td>ACCEPT(8) Baker, Cole, Collins, Dik, Landfi...</td>\n",
       "      <td>Frech&gt; Extremely minor, but I believe e-mail ...</td>\n",
       "    </tr>\n",
       "    <tr>\n",
       "      <th>4</th>\n",
       "      <td>CVE-1999-0005</td>\n",
       "      <td>Entry</td>\n",
       "      <td>Arbitrary command execution via IMAP buffer ov...</td>\n",
       "      <td>CERT:CA-98.09.imapd   |   SUN:00177   |   URL:...</td>\n",
       "      <td>NaN</td>\n",
       "      <td>NaN</td>\n",
       "      <td>NaN</td>\n",
       "    </tr>\n",
       "  </tbody>\n",
       "</table>\n",
       "</div>"
      ],
      "text/plain": [
       "            Name     Status  \\\n",
       "0  CVE-1999-0001  Candidate   \n",
       "1  CVE-1999-0002      Entry   \n",
       "2  CVE-1999-0003      Entry   \n",
       "3  CVE-1999-0004  Candidate   \n",
       "4  CVE-1999-0005      Entry   \n",
       "\n",
       "                                         Description  \\\n",
       "0  ip_input.c in BSD-derived TCP/IP implementatio...   \n",
       "1  Buffer overflow in NFS mountd gives root acces...   \n",
       "2  Execute commands as root via buffer overflow i...   \n",
       "3  MIME buffer overflow in email clients, e.g. So...   \n",
       "4  Arbitrary command execution via IMAP buffer ov...   \n",
       "\n",
       "                                          References                   Phase  \\\n",
       "0  CERT:CA-98-13-tcp-denial-of-service   |   BUGT...     Modified (20051217)   \n",
       "1  SGI:19981006-01-I   |   URL:ftp://patches.sgi....                     NaN   \n",
       "2  NAI:NAI-29   |   CERT:CA-98.11.tooltalk   |   ...                     NaN   \n",
       "3  CERT:CA-98.10.mime_buffer_overflows   |   XF:o...  Modified (19990621-01)   \n",
       "4  CERT:CA-98.09.imapd   |   SUN:00177   |   URL:...                     NaN   \n",
       "\n",
       "                                               Votes  \\\n",
       "0     MODIFY(1) Frech  |     NOOP(2) Northcutt, W...   \n",
       "1                                                NaN   \n",
       "2                                                NaN   \n",
       "3     ACCEPT(8) Baker, Cole, Collins, Dik, Landfi...   \n",
       "4                                                NaN   \n",
       "\n",
       "                                            Comments  \n",
       "0   Christey> A Bugtraq posting indicates that th...  \n",
       "1                                                NaN  \n",
       "2                                                NaN  \n",
       "3   Frech> Extremely minor, but I believe e-mail ...  \n",
       "4                                                NaN  "
      ]
     },
     "execution_count": 36,
     "metadata": {},
     "output_type": "execute_result"
    }
   ],
   "source": [
    "cve = pd.read_csv(\n",
    "    \"../demos/dataset/cve_allitems.csv.gz\",\n",
    "    skiprows=10,\n",
    "    encoding='latin-1',\n",
    "    names=header\n",
    "    )\n",
    "cve.head()"
   ]
  },
  {
   "cell_type": "code",
   "execution_count": 39,
   "metadata": {},
   "outputs": [
    {
     "data": {
      "text/html": [
       "<div>\n",
       "<style scoped>\n",
       "    .dataframe tbody tr th:only-of-type {\n",
       "        vertical-align: middle;\n",
       "    }\n",
       "\n",
       "    .dataframe tbody tr th {\n",
       "        vertical-align: top;\n",
       "    }\n",
       "\n",
       "    .dataframe thead th {\n",
       "        text-align: right;\n",
       "    }\n",
       "</style>\n",
       "<table border=\"1\" class=\"dataframe\">\n",
       "  <thead>\n",
       "    <tr style=\"text-align: right;\">\n",
       "      <th></th>\n",
       "      <th>Name</th>\n",
       "      <th>Status</th>\n",
       "      <th>Description</th>\n",
       "      <th>References</th>\n",
       "      <th>Phase</th>\n",
       "      <th>Votes</th>\n",
       "      <th>Comments</th>\n",
       "    </tr>\n",
       "  </thead>\n",
       "  <tbody>\n",
       "    <tr>\n",
       "      <th>count</th>\n",
       "      <td>135983</td>\n",
       "      <td>135983</td>\n",
       "      <td>135983</td>\n",
       "      <td>109073</td>\n",
       "      <td>132930</td>\n",
       "      <td>132930</td>\n",
       "      <td>1855</td>\n",
       "    </tr>\n",
       "    <tr>\n",
       "      <th>unique</th>\n",
       "      <td>135983</td>\n",
       "      <td>2</td>\n",
       "      <td>108157</td>\n",
       "      <td>97379</td>\n",
       "      <td>4452</td>\n",
       "      <td>1289</td>\n",
       "      <td>1774</td>\n",
       "    </tr>\n",
       "    <tr>\n",
       "      <th>top</th>\n",
       "      <td>CVE-2016-7580</td>\n",
       "      <td>Candidate</td>\n",
       "      <td>** RESERVED ** This candidate has been reserve...</td>\n",
       "      <td>CONFIRM:https://source.android.com/security/bu...</td>\n",
       "      <td>Assigned (20160909)</td>\n",
       "      <td>None (candidate not yet proposed)</td>\n",
       "      <td>Cole&gt; See comments for CVE-2000-0101  |   Fre...</td>\n",
       "    </tr>\n",
       "    <tr>\n",
       "      <th>freq</th>\n",
       "      <td>1</td>\n",
       "      <td>132930</td>\n",
       "      <td>20918</td>\n",
       "      <td>262</td>\n",
       "      <td>1322</td>\n",
       "      <td>130004</td>\n",
       "      <td>11</td>\n",
       "    </tr>\n",
       "  </tbody>\n",
       "</table>\n",
       "</div>"
      ],
      "text/plain": [
       "                 Name     Status  \\\n",
       "count          135983     135983   \n",
       "unique         135983          2   \n",
       "top     CVE-2016-7580  Candidate   \n",
       "freq                1     132930   \n",
       "\n",
       "                                              Description  \\\n",
       "count                                              135983   \n",
       "unique                                             108157   \n",
       "top     ** RESERVED ** This candidate has been reserve...   \n",
       "freq                                                20918   \n",
       "\n",
       "                                               References  \\\n",
       "count                                              109073   \n",
       "unique                                              97379   \n",
       "top     CONFIRM:https://source.android.com/security/bu...   \n",
       "freq                                                  262   \n",
       "\n",
       "                      Phase                              Votes  \\\n",
       "count                132930                             132930   \n",
       "unique                 4452                               1289   \n",
       "top     Assigned (20160909)  None (candidate not yet proposed)   \n",
       "freq                   1322                             130004   \n",
       "\n",
       "                                                 Comments  \n",
       "count                                                1855  \n",
       "unique                                               1774  \n",
       "top      Cole> See comments for CVE-2000-0101  |   Fre...  \n",
       "freq                                                   11  "
      ]
     },
     "execution_count": 39,
     "metadata": {},
     "output_type": "execute_result"
    }
   ],
   "source": [
    "cve.describe(include='all')"
   ]
  },
  {
   "cell_type": "code",
   "execution_count": 41,
   "metadata": {},
   "outputs": [
    {
     "name": "stdout",
     "output_type": "stream",
     "text": [
      "<class 'pandas.core.frame.DataFrame'>\n",
      "RangeIndex: 135983 entries, 0 to 135982\n",
      "Data columns (total 7 columns):\n",
      "Name           135983 non-null object\n",
      "Status         135983 non-null object\n",
      "Description    135983 non-null object\n",
      "References     109073 non-null object\n",
      "Phase          132930 non-null object\n",
      "Votes          132930 non-null object\n",
      "Comments       1855 non-null object\n",
      "dtypes: object(7)\n",
      "memory usage: 7.3+ MB\n"
     ]
    }
   ],
   "source": [
    "cve.info()"
   ]
  },
  {
   "cell_type": "code",
   "execution_count": null,
   "metadata": {},
   "outputs": [],
   "source": []
  },
  {
   "cell_type": "code",
   "execution_count": 42,
   "metadata": {},
   "outputs": [
    {
     "ename": "NameError",
     "evalue": "name 'xml' is not defined",
     "output_type": "error",
     "traceback": [
      "\u001b[1;31m---------------------------------------------------------------------------\u001b[0m",
      "\u001b[1;31mNameError\u001b[0m                                 Traceback (most recent call last)",
      "\u001b[1;32m<ipython-input-42-d1071ce1b97a>\u001b[0m in \u001b[0;36m<module>\u001b[1;34m()\u001b[0m\n\u001b[0;32m     10\u001b[0m \u001b[1;33m\u001b[0m\u001b[0m\n\u001b[0;32m     11\u001b[0m \u001b[1;31m# Print the output\u001b[0m\u001b[1;33m\u001b[0m\u001b[1;33m\u001b[0m\u001b[0m\n\u001b[1;32m---> 12\u001b[1;33m \u001b[0mprint\u001b[0m\u001b[1;33m(\u001b[0m\u001b[0mxmldataset\u001b[0m\u001b[1;33m.\u001b[0m\u001b[0mparse_using_profile\u001b[0m\u001b[1;33m(\u001b[0m\u001b[0mxml\u001b[0m\u001b[1;33m,\u001b[0m \u001b[0mprofile\u001b[0m\u001b[1;33m)\u001b[0m\u001b[1;33m)\u001b[0m\u001b[1;33m\u001b[0m\u001b[0m\n\u001b[0m",
      "\u001b[1;31mNameError\u001b[0m: name 'xml' is not defined"
     ]
    }
   ],
   "source": [
    "import xmldataset\n",
    "\n",
    "# xmldataset declaration\n",
    "profile = \"\"\"\n",
    "colleagues\n",
    "    colleague\n",
    "        title = dataset:colleagues\n",
    "        phone = dataset:colleagues\n",
    "        email = dataset:colleagues\"\"\"\n",
    "\n",
    "# Print the output\n",
    "print(xmldataset.parse_using_profile(xml, profile))\n"
   ]
  }
 ],
 "metadata": {
  "kernelspec": {
   "display_name": "Python 3",
   "language": "python",
   "name": "python3"
  },
  "language_info": {
   "codemirror_mode": {
    "name": "ipython",
    "version": 3
   },
   "file_extension": ".py",
   "mimetype": "text/x-python",
   "name": "python",
   "nbconvert_exporter": "python",
   "pygments_lexer": "ipython3",
   "version": "3.6.4"
  }
 },
 "nbformat": 4,
 "nbformat_minor": 2
}
