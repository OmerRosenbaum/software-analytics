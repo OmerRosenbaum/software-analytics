{
 "cells": [
  {
   "cell_type": "markdown",
   "metadata": {},
   "source": [
    "#  Introduction\n",
    "In this blog post, I want to show you a nice complexity metric that is agnostic to the programming language you use for your software systems &ndash; the **indentation-based complexity** metric. Adam Tornhill describes this metric in his faboulous book [Software Design X-Rays](https://pragprog.com/book/atevol/software-design-x-rays) on page 25 as follows:\n",
    " \n",
    "> With indentation-based complexity we count the leading tabs and whitespaces\n",
    "to convert them into logical indentations. ... This works because indentations in code carry meaning. Indentations\n",
    "are used to increase readability by separating code blocks from each other.\n",
    "\n",
    "He further says that the development of the indentation-based complexity over time is in combination with the lines of code metric a good indicator for complexity-growth. If the lines of code doesn't change but the indentation does, you got a complexity problem in your code.\n",
    "\n",
    "In this blog post, we are just interested in a static view of the indentation of a code. I want to show you how you can spot complex areas in your application by using the [Pandas data analysis framework](http://pandas.pydata.org/). As application, I choose the Linux kernel project because we want to apply our analysis at big scale. \n",
    "\n",
    "So let's start!"
   ]
  },
  {
   "cell_type": "markdown",
   "metadata": {},
   "source": [
    "# The Idea\n",
    "\n",
    "This analysis works as follows:\n",
    "\n",
    "1. We search for relevant source code files using `glob`\n",
    "1. We read in the source code by hacking Pandas' `read_csv()` method\n",
    "1. We extract the preceding whitespaces / tabs in the code\n",
    "1. We calculate the ratio between the lines of code of a file and the indentation complexity\n",
    "1. We spot areas in the Linux kernel that are most complex"
   ]
  },
  {
   "cell_type": "markdown",
   "metadata": {},
   "source": [
    "# Analysis\n",
    "First, let's get all the files with a recursive file search by using `glob`. Because the Linux kernel code is mostly written in the C programming language, we search for the corresponding file endings `.c`  (C program code files) and `.h` (header files)."
   ]
  },
  {
   "cell_type": "code",
   "execution_count": 1,
   "metadata": {},
   "outputs": [
    {
     "data": {
      "text/plain": [
       "['../../linux\\\\arch\\\\alpha\\\\boot\\\\bootp.c',\n",
       " '../../linux\\\\arch\\\\alpha\\\\boot\\\\bootpz.c',\n",
       " '../../linux\\\\arch\\\\alpha\\\\boot\\\\main.c',\n",
       " '../../linux\\\\arch\\\\alpha\\\\boot\\\\misc.c',\n",
       " '../../linux\\\\arch\\\\alpha\\\\boot\\\\stdio.c']"
      ]
     },
     "execution_count": 1,
     "metadata": {},
     "output_type": "execute_result"
    }
   ],
   "source": [
    "import glob\n",
    "file_list = glob.glob(\"../../linux/**/*.[c|h]\", recursive=True)\n",
    "file_list[:5]"
   ]
  },
  {
   "cell_type": "markdown",
   "metadata": {},
   "source": [
    "With the `file_list` at hand, we can now read in the content of the source code files. We could have used a standard Python `with <path> as f` and read in the content with a `f.read()`, but we want to get the data as early into a Pandas' DataFrame (abbreviated \"df\") to leverage the power of the data analysis framework. \n",
    "\n",
    "For each path in our file list, we create a single DataFrame. We use a line break `\\n` as column separator, ensuring that we create a single row each source code line. We also specify the `encoding` parameter with the file encoding `latin-1` to make sure that we can read in weird file contents, too (this is totally normal when working in an international team).  We also set `skip_blank_lines` to `False` to keep blank lines. Keeping the blank lines is necessary for debugging purposes (you can inspect certain source code lines with a text editor more easily) as well as for later analysis.\n",
    "\n",
    "The process of reading in all the source code could take a while for the thousands of files of the Linux kernel. After looping through and reading in all the data, we concatenate all DataFrames with the `concat` method. This gives us a single DataFrame with all source code content for all source code files."
   ]
  },
  {
   "cell_type": "code",
   "execution_count": 2,
   "metadata": {
    "code_folding": []
   },
   "outputs": [
    {
     "data": {
      "text/html": [
       "<div>\n",
       "<style scoped>\n",
       "    .dataframe tbody tr th:only-of-type {\n",
       "        vertical-align: middle;\n",
       "    }\n",
       "\n",
       "    .dataframe tbody tr th {\n",
       "        vertical-align: top;\n",
       "    }\n",
       "\n",
       "    .dataframe thead th {\n",
       "        text-align: right;\n",
       "    }\n",
       "</style>\n",
       "<table border=\"1\" class=\"dataframe\">\n",
       "  <thead>\n",
       "    <tr style=\"text-align: right;\">\n",
       "      <th></th>\n",
       "      <th>line</th>\n",
       "      <th>filepath</th>\n",
       "    </tr>\n",
       "  </thead>\n",
       "  <tbody>\n",
       "    <tr>\n",
       "      <th>0</th>\n",
       "      <td>/*</td>\n",
       "      <td>../../linux\\arch\\alpha\\boot\\bootp.c</td>\n",
       "    </tr>\n",
       "    <tr>\n",
       "      <th>1</th>\n",
       "      <td>* arch/alpha/boot/bootp.c</td>\n",
       "      <td>../../linux\\arch\\alpha\\boot\\bootp.c</td>\n",
       "    </tr>\n",
       "    <tr>\n",
       "      <th>2</th>\n",
       "      <td>*</td>\n",
       "      <td>../../linux\\arch\\alpha\\boot\\bootp.c</td>\n",
       "    </tr>\n",
       "    <tr>\n",
       "      <th>3</th>\n",
       "      <td>* Copyright (C) 1997 Jay Estabrook</td>\n",
       "      <td>../../linux\\arch\\alpha\\boot\\bootp.c</td>\n",
       "    </tr>\n",
       "    <tr>\n",
       "      <th>4</th>\n",
       "      <td>*</td>\n",
       "      <td>../../linux\\arch\\alpha\\boot\\bootp.c</td>\n",
       "    </tr>\n",
       "  </tbody>\n",
       "</table>\n",
       "</div>"
      ],
      "text/plain": [
       "                                  line                             filepath\n",
       "0                                   /*  ../../linux\\arch\\alpha\\boot\\bootp.c\n",
       "1            * arch/alpha/boot/bootp.c  ../../linux\\arch\\alpha\\boot\\bootp.c\n",
       "2                                    *  ../../linux\\arch\\alpha\\boot\\bootp.c\n",
       "3   * Copyright (C) 1997 Jay Estabrook  ../../linux\\arch\\alpha\\boot\\bootp.c\n",
       "4                                    *  ../../linux\\arch\\alpha\\boot\\bootp.c"
      ]
     },
     "execution_count": 2,
     "metadata": {},
     "output_type": "execute_result"
    }
   ],
   "source": [
    "import pandas as pd\n",
    "\n",
    "code_dfs = []\n",
    "\n",
    "for path in file_list:\n",
    "    \n",
    "    code_df = pd.read_csv(\n",
    "        path,\n",
    "        encoding='latin-1',\n",
    "        sep='\\n',\n",
    "        skip_blank_lines=False,\n",
    "        names=['line'])\n",
    "    \n",
    "    code_df['filepath'] = path\n",
    "    code_dfs.append(code_df)\n",
    "\n",
    "code = pd.concat(code_dfs)\n",
    "code.head()"
   ]
  },
  {
   "cell_type": "markdown",
   "metadata": {},
   "source": [
    "We add some additional information to make further analysis and debugging easier. We keep track of the line number of each source code file and create a single continuous index for all source code lines. "
   ]
  },
  {
   "cell_type": "code",
   "execution_count": 3,
   "metadata": {
    "code_folding": [],
    "scrolled": true
   },
   "outputs": [
    {
     "data": {
      "text/html": [
       "<div>\n",
       "<style scoped>\n",
       "    .dataframe tbody tr th:only-of-type {\n",
       "        vertical-align: middle;\n",
       "    }\n",
       "\n",
       "    .dataframe tbody tr th {\n",
       "        vertical-align: top;\n",
       "    }\n",
       "\n",
       "    .dataframe thead th {\n",
       "        text-align: right;\n",
       "    }\n",
       "</style>\n",
       "<table border=\"1\" class=\"dataframe\">\n",
       "  <thead>\n",
       "    <tr style=\"text-align: right;\">\n",
       "      <th></th>\n",
       "      <th>line</th>\n",
       "      <th>filepath</th>\n",
       "      <th>line_number</th>\n",
       "    </tr>\n",
       "  </thead>\n",
       "  <tbody>\n",
       "    <tr>\n",
       "      <th>0</th>\n",
       "      <td>/*</td>\n",
       "      <td>../../linux\\arch\\alpha\\boot\\bootp.c</td>\n",
       "      <td>1</td>\n",
       "    </tr>\n",
       "    <tr>\n",
       "      <th>1</th>\n",
       "      <td>* arch/alpha/boot/bootp.c</td>\n",
       "      <td>../../linux\\arch\\alpha\\boot\\bootp.c</td>\n",
       "      <td>2</td>\n",
       "    </tr>\n",
       "    <tr>\n",
       "      <th>2</th>\n",
       "      <td>*</td>\n",
       "      <td>../../linux\\arch\\alpha\\boot\\bootp.c</td>\n",
       "      <td>3</td>\n",
       "    </tr>\n",
       "    <tr>\n",
       "      <th>3</th>\n",
       "      <td>* Copyright (C) 1997 Jay Estabrook</td>\n",
       "      <td>../../linux\\arch\\alpha\\boot\\bootp.c</td>\n",
       "      <td>4</td>\n",
       "    </tr>\n",
       "    <tr>\n",
       "      <th>4</th>\n",
       "      <td>*</td>\n",
       "      <td>../../linux\\arch\\alpha\\boot\\bootp.c</td>\n",
       "      <td>5</td>\n",
       "    </tr>\n",
       "  </tbody>\n",
       "</table>\n",
       "</div>"
      ],
      "text/plain": [
       "                                  line                             filepath  \\\n",
       "0                                   /*  ../../linux\\arch\\alpha\\boot\\bootp.c   \n",
       "1            * arch/alpha/boot/bootp.c  ../../linux\\arch\\alpha\\boot\\bootp.c   \n",
       "2                                    *  ../../linux\\arch\\alpha\\boot\\bootp.c   \n",
       "3   * Copyright (C) 1997 Jay Estabrook  ../../linux\\arch\\alpha\\boot\\bootp.c   \n",
       "4                                    *  ../../linux\\arch\\alpha\\boot\\bootp.c   \n",
       "\n",
       "   line_number  \n",
       "0            1  \n",
       "1            2  \n",
       "2            3  \n",
       "3            4  \n",
       "4            5  "
      ]
     },
     "execution_count": 3,
     "metadata": {},
     "output_type": "execute_result"
    }
   ],
   "source": [
    "code['line_number'] = code.index + 1\n",
    "code = code.reset_index(drop=True)\n",
    "code.head()"
   ]
  },
  {
   "cell_type": "markdown",
   "metadata": {},
   "source": [
    "Let's have a look why it took so long to read in the data."
   ]
  },
  {
   "cell_type": "code",
   "execution_count": 4,
   "metadata": {},
   "outputs": [
    {
     "name": "stdout",
     "output_type": "stream",
     "text": [
      "<class 'pandas.core.frame.DataFrame'>\n",
      "RangeIndex: 22278494 entries, 0 to 22278493\n",
      "Data columns (total 3 columns):\n",
      "line           object\n",
      "filepath       object\n",
      "line_number    int64\n",
      "dtypes: int64(1), object(2)\n",
      "memory usage: 509.9+ MB\n"
     ]
    }
   ],
   "source": [
    "code.info()"
   ]
  },
  {
   "cell_type": "markdown",
   "metadata": {},
   "source": [
    "We have over 22 million lines of code (including comments and blank lines) in our DataFrame. Let's clean up that data a little bit.\n",
    "\n",
    "First we convert `filepath` into a categorical data type to optimize performance and memory consumption. We then get the operating system specific directory separator right and get rid of the superfluous parts of the path."
   ]
  },
  {
   "cell_type": "code",
   "execution_count": 5,
   "metadata": {},
   "outputs": [
    {
     "data": {
      "text/html": [
       "<div>\n",
       "<style scoped>\n",
       "    .dataframe tbody tr th:only-of-type {\n",
       "        vertical-align: middle;\n",
       "    }\n",
       "\n",
       "    .dataframe tbody tr th {\n",
       "        vertical-align: top;\n",
       "    }\n",
       "\n",
       "    .dataframe thead th {\n",
       "        text-align: right;\n",
       "    }\n",
       "</style>\n",
       "<table border=\"1\" class=\"dataframe\">\n",
       "  <thead>\n",
       "    <tr style=\"text-align: right;\">\n",
       "      <th></th>\n",
       "      <th>line</th>\n",
       "      <th>filepath</th>\n",
       "      <th>line_number</th>\n",
       "    </tr>\n",
       "  </thead>\n",
       "  <tbody>\n",
       "    <tr>\n",
       "      <th>0</th>\n",
       "      <td>/*</td>\n",
       "      <td>arch/alpha/boot/bootp.c</td>\n",
       "      <td>1</td>\n",
       "    </tr>\n",
       "  </tbody>\n",
       "</table>\n",
       "</div>"
      ],
      "text/plain": [
       "  line                 filepath  line_number\n",
       "0   /*  arch/alpha/boot/bootp.c            1"
      ]
     },
     "execution_count": 5,
     "metadata": {},
     "output_type": "execute_result"
    }
   ],
   "source": [
    "code['filepath'] = pd.Categorical(code['filepath'])\n",
    "code['filepath'] = code['filepath']\\\n",
    "    .str.replace(\"\\\\\", \"/\")\\\n",
    "    .str.replace(\"../../linux/\", \"\")\n",
    "code.head(1)"
   ]
  },
  {
   "cell_type": "markdown",
   "metadata": {},
   "source": [
    "We further replace all empty lines with blanks and tabular spaces with an suitable number of whitespaces (we assume here that a tab corresponds to four whitespaces)."
   ]
  },
  {
   "cell_type": "code",
   "execution_count": 6,
   "metadata": {},
   "outputs": [
    {
     "data": {
      "text/html": [
       "<div>\n",
       "<style scoped>\n",
       "    .dataframe tbody tr th:only-of-type {\n",
       "        vertical-align: middle;\n",
       "    }\n",
       "\n",
       "    .dataframe tbody tr th {\n",
       "        vertical-align: top;\n",
       "    }\n",
       "\n",
       "    .dataframe thead th {\n",
       "        text-align: right;\n",
       "    }\n",
       "</style>\n",
       "<table border=\"1\" class=\"dataframe\">\n",
       "  <thead>\n",
       "    <tr style=\"text-align: right;\">\n",
       "      <th></th>\n",
       "      <th>line</th>\n",
       "      <th>filepath</th>\n",
       "      <th>line_number</th>\n",
       "    </tr>\n",
       "  </thead>\n",
       "  <tbody>\n",
       "    <tr>\n",
       "      <th>0</th>\n",
       "      <td>/*</td>\n",
       "      <td>arch/alpha/boot/bootp.c</td>\n",
       "      <td>1</td>\n",
       "    </tr>\n",
       "  </tbody>\n",
       "</table>\n",
       "</div>"
      ],
      "text/plain": [
       "  line                 filepath  line_number\n",
       "0   /*  arch/alpha/boot/bootp.c            1"
      ]
     },
     "execution_count": 6,
     "metadata": {},
     "output_type": "execute_result"
    }
   ],
   "source": [
    "code['line'] = code['line'].fillna(\"\")\n",
    "FOUR_SPACES = \" \" * 4\n",
    "code['line'] = code['line'].str.replace(\"\\t\", FOUR_SPACES)\n",
    "code.head(1)"
   ]
  },
  {
   "cell_type": "markdown",
   "metadata": {},
   "source": [
    "Next, we mark comment lines and blank lines (because we may need this information later on). For the identification of the comments, we use a simple heuristic that should be sufficient in most cases.m"
   ]
  },
  {
   "cell_type": "code",
   "execution_count": 7,
   "metadata": {},
   "outputs": [
    {
     "data": {
      "text/html": [
       "<div>\n",
       "<style scoped>\n",
       "    .dataframe tbody tr th:only-of-type {\n",
       "        vertical-align: middle;\n",
       "    }\n",
       "\n",
       "    .dataframe tbody tr th {\n",
       "        vertical-align: top;\n",
       "    }\n",
       "\n",
       "    .dataframe thead th {\n",
       "        text-align: right;\n",
       "    }\n",
       "</style>\n",
       "<table border=\"1\" class=\"dataframe\">\n",
       "  <thead>\n",
       "    <tr style=\"text-align: right;\">\n",
       "      <th></th>\n",
       "      <th>line</th>\n",
       "      <th>filepath</th>\n",
       "      <th>line_number</th>\n",
       "      <th>is_comment</th>\n",
       "      <th>is_empty</th>\n",
       "    </tr>\n",
       "  </thead>\n",
       "  <tbody>\n",
       "    <tr>\n",
       "      <th>0</th>\n",
       "      <td>/*</td>\n",
       "      <td>arch/alpha/boot/bootp.c</td>\n",
       "      <td>1</td>\n",
       "      <td>True</td>\n",
       "      <td>False</td>\n",
       "    </tr>\n",
       "  </tbody>\n",
       "</table>\n",
       "</div>"
      ],
      "text/plain": [
       "  line                 filepath  line_number  is_comment  is_empty\n",
       "0   /*  arch/alpha/boot/bootp.c            1        True     False"
      ]
     },
     "execution_count": 7,
     "metadata": {},
     "output_type": "execute_result"
    }
   ],
   "source": [
    "code['is_comment'] = code['line'].str.match(r' *(//|/*\\*).*')\n",
    "code['is_empty'] = code['line']. str.replace(\" \",\"\").str.len() == 0\n",
    "code.head(1)"
   ]
  },
  {
   "cell_type": "markdown",
   "metadata": {},
   "source": [
    "Now we come to the key part: We calculate the indentation for each source code line. Here we need a regular expression to count only the first blanks at the beginning."
   ]
  },
  {
   "cell_type": "code",
   "execution_count": 22,
   "metadata": {},
   "outputs": [
    {
     "data": {
      "text/html": [
       "<div>\n",
       "<style scoped>\n",
       "    .dataframe tbody tr th:only-of-type {\n",
       "        vertical-align: middle;\n",
       "    }\n",
       "\n",
       "    .dataframe tbody tr th {\n",
       "        vertical-align: top;\n",
       "    }\n",
       "\n",
       "    .dataframe thead th {\n",
       "        text-align: right;\n",
       "    }\n",
       "</style>\n",
       "<table border=\"1\" class=\"dataframe\">\n",
       "  <thead>\n",
       "    <tr style=\"text-align: right;\">\n",
       "      <th></th>\n",
       "      <th>line</th>\n",
       "      <th>filepath</th>\n",
       "      <th>line_number</th>\n",
       "      <th>is_comment</th>\n",
       "      <th>is_empty</th>\n",
       "      <th>indent</th>\n",
       "      <th>indent_level</th>\n",
       "    </tr>\n",
       "  </thead>\n",
       "  <tbody>\n",
       "    <tr>\n",
       "      <th>0</th>\n",
       "      <td>/*</td>\n",
       "      <td>arch/alpha/boot/bootp.c</td>\n",
       "      <td>1</td>\n",
       "      <td>True</td>\n",
       "      <td>False</td>\n",
       "      <td>0.0</td>\n",
       "      <td>0.0</td>\n",
       "    </tr>\n",
       "  </tbody>\n",
       "</table>\n",
       "</div>"
      ],
      "text/plain": [
       "  line                 filepath  line_number  is_comment  is_empty  indent  \\\n",
       "0   /*  arch/alpha/boot/bootp.c            1        True     False     0.0   \n",
       "\n",
       "   indent_level  \n",
       "0           0.0  "
      ]
     },
     "execution_count": 22,
     "metadata": {},
     "output_type": "execute_result"
    }
   ],
   "source": [
    "code['indent'] = code.line.str.len() - test.line.str.lstrip().str.len()\n",
    "code.head(1)"
   ]
  },
  {
   "cell_type": "markdown",
   "metadata": {},
   "source": [
    "We have now a wide variety of different indentation levels. This reflects not how we developers see it in the source code. So we divide the different numbers into equally sized classes of four values. For the rounding, we need the `floor` function of the numerical computation library `numpy`."
   ]
  },
  {
   "cell_type": "code",
   "execution_count": 9,
   "metadata": {},
   "outputs": [
    {
     "data": {
      "text/html": [
       "<div>\n",
       "<style scoped>\n",
       "    .dataframe tbody tr th:only-of-type {\n",
       "        vertical-align: middle;\n",
       "    }\n",
       "\n",
       "    .dataframe tbody tr th {\n",
       "        vertical-align: top;\n",
       "    }\n",
       "\n",
       "    .dataframe thead th {\n",
       "        text-align: right;\n",
       "    }\n",
       "</style>\n",
       "<table border=\"1\" class=\"dataframe\">\n",
       "  <thead>\n",
       "    <tr style=\"text-align: right;\">\n",
       "      <th></th>\n",
       "      <th>line</th>\n",
       "      <th>filepath</th>\n",
       "      <th>line_number</th>\n",
       "      <th>is_comment</th>\n",
       "      <th>is_empty</th>\n",
       "      <th>indent</th>\n",
       "      <th>indent_level</th>\n",
       "    </tr>\n",
       "  </thead>\n",
       "  <tbody>\n",
       "    <tr>\n",
       "      <th>0</th>\n",
       "      <td>/*</td>\n",
       "      <td>arch/alpha/boot/bootp.c</td>\n",
       "      <td>1</td>\n",
       "      <td>True</td>\n",
       "      <td>False</td>\n",
       "      <td>0</td>\n",
       "      <td>0.0</td>\n",
       "    </tr>\n",
       "  </tbody>\n",
       "</table>\n",
       "</div>"
      ],
      "text/plain": [
       "  line                 filepath  line_number  is_comment  is_empty  indent  \\\n",
       "0   /*  arch/alpha/boot/bootp.c            1        True     False       0   \n",
       "\n",
       "   indent_level  \n",
       "0           0.0  "
      ]
     },
     "execution_count": 9,
     "metadata": {},
     "output_type": "execute_result"
    }
   ],
   "source": [
    "import numpy as np\n",
    "code['indent_level'] = np.floor(code.indent / 4)\n",
    "code.head(1)"
   ]
  },
  {
   "cell_type": "code",
   "execution_count": 10,
   "metadata": {},
   "outputs": [
    {
     "data": {
      "text/html": [
       "<div>\n",
       "<style scoped>\n",
       "    .dataframe tbody tr th:only-of-type {\n",
       "        vertical-align: middle;\n",
       "    }\n",
       "\n",
       "    .dataframe tbody tr th {\n",
       "        vertical-align: top;\n",
       "    }\n",
       "\n",
       "    .dataframe thead th {\n",
       "        text-align: right;\n",
       "    }\n",
       "</style>\n",
       "<table border=\"1\" class=\"dataframe\">\n",
       "  <thead>\n",
       "    <tr style=\"text-align: right;\">\n",
       "      <th></th>\n",
       "      <th>lines</th>\n",
       "      <th>indents</th>\n",
       "    </tr>\n",
       "    <tr>\n",
       "      <th>filepath</th>\n",
       "      <th></th>\n",
       "      <th></th>\n",
       "    </tr>\n",
       "  </thead>\n",
       "  <tbody>\n",
       "    <tr>\n",
       "      <th>Documentation/scheduler/sched-pelt.c</th>\n",
       "      <td>39</td>\n",
       "      <td>12.0</td>\n",
       "    </tr>\n",
       "    <tr>\n",
       "      <th>Documentation/usb/usbdevfs-drop-permissions.c</th>\n",
       "      <td>26</td>\n",
       "      <td>8.0</td>\n",
       "    </tr>\n",
       "    <tr>\n",
       "      <th>arch/alpha/boot/bootp.c</th>\n",
       "      <td>95</td>\n",
       "      <td>37.0</td>\n",
       "    </tr>\n",
       "    <tr>\n",
       "      <th>arch/alpha/boot/bootpz.c</th>\n",
       "      <td>184</td>\n",
       "      <td>67.0</td>\n",
       "    </tr>\n",
       "    <tr>\n",
       "      <th>arch/alpha/boot/main.c</th>\n",
       "      <td>60</td>\n",
       "      <td>10.0</td>\n",
       "    </tr>\n",
       "  </tbody>\n",
       "</table>\n",
       "</div>"
      ],
      "text/plain": [
       "                                               lines  indents\n",
       "filepath                                                     \n",
       "Documentation/scheduler/sched-pelt.c              39     12.0\n",
       "Documentation/usb/usbdevfs-drop-permissions.c     26      8.0\n",
       "arch/alpha/boot/bootp.c                           95     37.0\n",
       "arch/alpha/boot/bootpz.c                         184     67.0\n",
       "arch/alpha/boot/main.c                            60     10.0"
      ]
     },
     "execution_count": 10,
     "metadata": {},
     "output_type": "execute_result"
    }
   ],
   "source": [
    "source_code = code[code.is_comment | code.is_empty]\\\n",
    "    .groupby('filepath').indent_level.agg(['count', 'sum'])\n",
    "source_code.columns = ['lines', 'indents']\n",
    "source_code.head()"
   ]
  },
  {
   "cell_type": "markdown",
   "metadata": {},
   "source": [
    "Let's do an analysis per component to find out where the most complex code is in the application. For this, we first sum up the metrics for each component. We can identify a component in the Linux kernel by using the first parts of the file path."
   ]
  },
  {
   "cell_type": "code",
   "execution_count": 11,
   "metadata": {},
   "outputs": [
    {
     "data": {
      "text/html": [
       "<div>\n",
       "<style scoped>\n",
       "    .dataframe tbody tr th:only-of-type {\n",
       "        vertical-align: middle;\n",
       "    }\n",
       "\n",
       "    .dataframe tbody tr th {\n",
       "        vertical-align: top;\n",
       "    }\n",
       "\n",
       "    .dataframe thead th {\n",
       "        text-align: right;\n",
       "    }\n",
       "</style>\n",
       "<table border=\"1\" class=\"dataframe\">\n",
       "  <thead>\n",
       "    <tr style=\"text-align: right;\">\n",
       "      <th></th>\n",
       "      <th>lines</th>\n",
       "      <th>indents</th>\n",
       "      <th>component</th>\n",
       "    </tr>\n",
       "    <tr>\n",
       "      <th>filepath</th>\n",
       "      <th></th>\n",
       "      <th></th>\n",
       "      <th></th>\n",
       "    </tr>\n",
       "  </thead>\n",
       "  <tbody>\n",
       "    <tr>\n",
       "      <th>Documentation/scheduler/sched-pelt.c</th>\n",
       "      <td>39</td>\n",
       "      <td>12.0</td>\n",
       "      <td>Documentation:scheduler</td>\n",
       "    </tr>\n",
       "  </tbody>\n",
       "</table>\n",
       "</div>"
      ],
      "text/plain": [
       "                                      lines  indents                component\n",
       "filepath                                                                     \n",
       "Documentation/scheduler/sched-pelt.c     39     12.0  Documentation:scheduler"
      ]
     },
     "execution_count": 11,
     "metadata": {},
     "output_type": "execute_result"
    }
   ],
   "source": [
    "source_code['component'] = source_code.index\\\n",
    "    .str.split(\"/\", n=2)\\\n",
    "    .str[:2].str.join(\":\")\n",
    "source_code.head(1)"
   ]
  },
  {
   "cell_type": "code",
   "execution_count": 12,
   "metadata": {},
   "outputs": [
    {
     "data": {
      "text/html": [
       "<div>\n",
       "<style scoped>\n",
       "    .dataframe tbody tr th:only-of-type {\n",
       "        vertical-align: middle;\n",
       "    }\n",
       "\n",
       "    .dataframe tbody tr th {\n",
       "        vertical-align: top;\n",
       "    }\n",
       "\n",
       "    .dataframe thead th {\n",
       "        text-align: right;\n",
       "    }\n",
       "</style>\n",
       "<table border=\"1\" class=\"dataframe\">\n",
       "  <thead>\n",
       "    <tr style=\"text-align: right;\">\n",
       "      <th></th>\n",
       "      <th>lines</th>\n",
       "      <th>indents</th>\n",
       "    </tr>\n",
       "    <tr>\n",
       "      <th>component</th>\n",
       "      <th></th>\n",
       "      <th></th>\n",
       "    </tr>\n",
       "  </thead>\n",
       "  <tbody>\n",
       "    <tr>\n",
       "      <th>Documentation:scheduler</th>\n",
       "      <td>39</td>\n",
       "      <td>12.0</td>\n",
       "    </tr>\n",
       "    <tr>\n",
       "      <th>Documentation:usb</th>\n",
       "      <td>26</td>\n",
       "      <td>8.0</td>\n",
       "    </tr>\n",
       "    <tr>\n",
       "      <th>arch:alpha</th>\n",
       "      <td>16690</td>\n",
       "      <td>3722.0</td>\n",
       "    </tr>\n",
       "    <tr>\n",
       "      <th>arch:arc</th>\n",
       "      <td>7836</td>\n",
       "      <td>1777.0</td>\n",
       "    </tr>\n",
       "    <tr>\n",
       "      <th>arch:arm</th>\n",
       "      <td>125156</td>\n",
       "      <td>21688.0</td>\n",
       "    </tr>\n",
       "  </tbody>\n",
       "</table>\n",
       "</div>"
      ],
      "text/plain": [
       "                          lines  indents\n",
       "component                               \n",
       "Documentation:scheduler      39     12.0\n",
       "Documentation:usb            26      8.0\n",
       "arch:alpha                16690   3722.0\n",
       "arch:arc                   7836   1777.0\n",
       "arch:arm                 125156  21688.0"
      ]
     },
     "execution_count": 12,
     "metadata": {},
     "output_type": "execute_result"
    }
   ],
   "source": [
    "measures_per_component = source_code.groupby('component').sum()\n",
    "measures_per_component.head()"
   ]
  },
  {
   "cell_type": "code",
   "execution_count": 24,
   "metadata": {},
   "outputs": [
    {
     "data": {
      "image/png": "[encoded data removed]",
      "text/plain": [
       "<matplotlib.figure.Figure at 0x1bc7fdd4f28>"
      ]
     },
     "metadata": {},
     "output_type": "display_data"
    }
   ],
   "source": [
    "%matplotlib inline\n",
    "measures_per_component.plot.scatter('lines', 'indents');"
   ]
  },
  {
   "cell_type": "code",
   "execution_count": 25,
   "metadata": {},
   "outputs": [
    {
     "data": {
      "text/plain": [
       "component\n",
       "drivers:net        231426.0\n",
       "drivers:staging     96382.0\n",
       "drivers:scsi        95756.0\n",
       "drivers:media       76414.0\n",
       "drivers:gpu         74875.0\n",
       "Name: indents, dtype: float64"
      ]
     },
     "execution_count": 25,
     "metadata": {},
     "output_type": "execute_result"
    }
   ],
   "source": [
    "measures_per_component.indents.nlargest()"
   ]
  },
  {
   "cell_type": "code",
   "execution_count": 27,
   "metadata": {},
   "outputs": [
    {
     "data": {
      "text/html": [
       "<div>\n",
       "<style scoped>\n",
       "    .dataframe tbody tr th:only-of-type {\n",
       "        vertical-align: middle;\n",
       "    }\n",
       "\n",
       "    .dataframe tbody tr th {\n",
       "        vertical-align: top;\n",
       "    }\n",
       "\n",
       "    .dataframe thead th {\n",
       "        text-align: right;\n",
       "    }\n",
       "</style>\n",
       "<table border=\"1\" class=\"dataframe\">\n",
       "  <thead>\n",
       "    <tr style=\"text-align: right;\">\n",
       "      <th></th>\n",
       "      <th>lines</th>\n",
       "      <th>indents</th>\n",
       "      <th>complexity</th>\n",
       "    </tr>\n",
       "    <tr>\n",
       "      <th>component</th>\n",
       "      <th></th>\n",
       "      <th></th>\n",
       "      <th></th>\n",
       "    </tr>\n",
       "  </thead>\n",
       "  <tbody>\n",
       "    <tr>\n",
       "      <th>Documentation:scheduler</th>\n",
       "      <td>39</td>\n",
       "      <td>12.0</td>\n",
       "      <td>0.307692</td>\n",
       "    </tr>\n",
       "    <tr>\n",
       "      <th>Documentation:usb</th>\n",
       "      <td>26</td>\n",
       "      <td>8.0</td>\n",
       "      <td>0.307692</td>\n",
       "    </tr>\n",
       "    <tr>\n",
       "      <th>arch:alpha</th>\n",
       "      <td>16690</td>\n",
       "      <td>3722.0</td>\n",
       "      <td>0.223008</td>\n",
       "    </tr>\n",
       "    <tr>\n",
       "      <th>arch:arc</th>\n",
       "      <td>7836</td>\n",
       "      <td>1777.0</td>\n",
       "      <td>0.226774</td>\n",
       "    </tr>\n",
       "    <tr>\n",
       "      <th>arch:arm</th>\n",
       "      <td>125156</td>\n",
       "      <td>21688.0</td>\n",
       "      <td>0.173288</td>\n",
       "    </tr>\n",
       "  </tbody>\n",
       "</table>\n",
       "</div>"
      ],
      "text/plain": [
       "                          lines  indents  complexity\n",
       "component                                           \n",
       "Documentation:scheduler      39     12.0    0.307692\n",
       "Documentation:usb            26      8.0    0.307692\n",
       "arch:alpha                16690   3722.0    0.223008\n",
       "arch:arc                   7836   1777.0    0.226774\n",
       "arch:arm                 125156  21688.0    0.173288"
      ]
     },
     "execution_count": 27,
     "metadata": {},
     "output_type": "execute_result"
    }
   ],
   "source": [
    "measures_per_component['complexity'] = \\\n",
    "    measures_per_component.indents / measures_per_component.lines\n",
    "measures_per_component.head()"
   ]
  },
  {
   "cell_type": "code",
   "execution_count": 31,
   "metadata": {},
   "outputs": [
    {
     "data": {
      "text/html": [
       "<div>\n",
       "<style scoped>\n",
       "    .dataframe tbody tr th:only-of-type {\n",
       "        vertical-align: middle;\n",
       "    }\n",
       "\n",
       "    .dataframe tbody tr th {\n",
       "        vertical-align: top;\n",
       "    }\n",
       "\n",
       "    .dataframe thead th {\n",
       "        text-align: right;\n",
       "    }\n",
       "</style>\n",
       "<table border=\"1\" class=\"dataframe\">\n",
       "  <thead>\n",
       "    <tr style=\"text-align: right;\">\n",
       "      <th></th>\n",
       "      <th>complexity</th>\n",
       "    </tr>\n",
       "    <tr>\n",
       "      <th>component</th>\n",
       "      <th></th>\n",
       "    </tr>\n",
       "  </thead>\n",
       "  <tbody>\n",
       "    <tr>\n",
       "      <th>lib:rbtree.c</th>\n",
       "      <td>1.727273</td>\n",
       "    </tr>\n",
       "    <tr>\n",
       "      <th>mm:fadvise.c</th>\n",
       "      <td>1.303030</td>\n",
       "    </tr>\n",
       "    <tr>\n",
       "      <th>lib:test_bitmap.c</th>\n",
       "      <td>1.274194</td>\n",
       "    </tr>\n",
       "    <tr>\n",
       "      <th>lib:dynamic_queue_limits.c</th>\n",
       "      <td>1.262295</td>\n",
       "    </tr>\n",
       "    <tr>\n",
       "      <th>lib:decompress_bunzip2.c</th>\n",
       "      <td>1.229947</td>\n",
       "    </tr>\n",
       "    <tr>\n",
       "      <th>lib:lzo</th>\n",
       "      <td>1.048780</td>\n",
       "    </tr>\n",
       "    <tr>\n",
       "      <th>fs:coredump.c</th>\n",
       "      <td>1.030651</td>\n",
       "    </tr>\n",
       "    <tr>\n",
       "      <th>net:strparser</th>\n",
       "      <td>1.030120</td>\n",
       "    </tr>\n",
       "    <tr>\n",
       "      <th>lib:test_bpf.c</th>\n",
       "      <td>0.945170</td>\n",
       "    </tr>\n",
       "    <tr>\n",
       "      <th>mm:ksm.c</th>\n",
       "      <td>0.927880</td>\n",
       "    </tr>\n",
       "  </tbody>\n",
       "</table>\n",
       "</div>"
      ],
      "text/plain": [
       "                            complexity\n",
       "component                             \n",
       "lib:rbtree.c                  1.727273\n",
       "mm:fadvise.c                  1.303030\n",
       "lib:test_bitmap.c             1.274194\n",
       "lib:dynamic_queue_limits.c    1.262295\n",
       "lib:decompress_bunzip2.c      1.229947\n",
       "lib:lzo                       1.048780\n",
       "fs:coredump.c                 1.030651\n",
       "net:strparser                 1.030120\n",
       "lib:test_bpf.c                0.945170\n",
       "mm:ksm.c                      0.927880"
      ]
     },
     "execution_count": 31,
     "metadata": {},
     "output_type": "execute_result"
    }
   ],
   "source": [
    "pd.DataFrame(measures_per_component.complexity.nlargest(10))"
   ]
  }
 ],
 "metadata": {
  "hide_input": false,
  "kernelspec": {
   "display_name": "Python 3",
   "language": "python",
   "name": "python3"
  },
  "language_info": {
   "codemirror_mode": {
    "name": "ipython",
    "version": 3
   },
   "file_extension": ".py",
   "mimetype": "text/x-python",
   "name": "python",
   "nbconvert_exporter": "python",
   "pygments_lexer": "ipython3",
   "version": "3.6.4"
  }
 },
 "nbformat": 4,
 "nbformat_minor": 2
}
