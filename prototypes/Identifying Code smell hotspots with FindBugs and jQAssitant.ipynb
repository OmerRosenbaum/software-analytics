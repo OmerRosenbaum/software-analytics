{
 "cells": [
  {
   "cell_type": "markdown",
   "metadata": {},
   "source": [
    "### Steps:\n",
    "- Spring PetClinic Build with FindBugs\n",
    "- Determine business entities\n",
    "- Determine technical entities\n",
    "\n",
    "You can reason like\n",
    "\n",
    "=> What if I rework my controllers (or sth else)? -> technical, crosscutting features\n",
    "\n",
    "=> What if we shut down the JDBC feature? -> technical feature\n",
    "\n",
    "=> What if we discontinue the support for vetenarians? -> domain feature\n",
    "\n",
    "### TODOs:\n",
    "- Add FindBugs and FindBugs-Plugin to pom.xml\n",
    "- Connect FindBugs results to classes\n",
    "- Tag classes technical as well as business\n"
   ]
  }
 ],
 "metadata": {
  "kernelspec": {
   "display_name": "Python 3",
   "language": "python",
   "name": "python3"
  },
  "language_info": {
   "codemirror_mode": {
    "name": "ipython",
    "version": 3
   },
   "file_extension": ".py",
   "mimetype": "text/x-python",
   "name": "python",
   "nbconvert_exporter": "python",
   "pygments_lexer": "ipython3",
   "version": "3.6.1"
  }
 },
 "nbformat": 4,
 "nbformat_minor": 2
}
