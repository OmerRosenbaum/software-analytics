{
 "cells": [
  {
   "cell_type": "markdown",
   "metadata": {},
   "source": [
    "# Introduction\n",
    "In [Carola Lilienthal](https://twitter.com/cairolali)'s talk about architecture and technical debt at [Herbstcampus 2017](https://www.herbstcampus.de/veranstaltung-5926-keynote-i%3A-architektur-f%C3%BCr-unser-gehirn.html?id=5926), I was reminded that I wanted to implement some of the examples of her book \"[Long-lived software systems](http://www.llsa.de/)\" (available only in German) with [jQAssistant](https://jqassistant.org/). Especially the visualization of the dependencies between different business domains seems like a great starting point to try out some stuff:\n",
    "\n",
    "![](resources/analyze_business_domain_dependencies.png)\n",
    "\n",
    "The green connections between the modules show the downward dependencies to other modules and the red one the upward dependencies. This visualization can help you if you want to further modularize your system towards your business or subdomains or to identify unwanted dependencies between modules. \n",
    "\n",
    "At the same time, I started the [Java Type Dependency Analysis](https://www.feststelltaste.de/java-type-dependency-analysis/) and realized that there it is only a smart step to analyze dependencies between business domains. What's missing is the information which type belong to which business domain. We'll find out now!"
   ]
  },
  {
   "cell_type": "markdown",
   "metadata": {},
   "source": [
    "# A simple case study\n",
    "Once, I've developed an party planning application called DropOver (that didn't go live, but that's another story). We wrote that web application in Java and paid especially attention to structuring the code along the business' subdomain \"partying\". This led to this package structure that resembles the main parts of the application:\n",
    "\n",
    "![](./resources/dropover_package_structure.png)\n",
    "\n",
    "The application's main entry point is a `site` for a party including location, time, the site's `creator` and so on. A user can `comment` on a site as well as add some specific widgets like `todo` lists, `scheduling` or `files` upload and also gets notified by the `mail` feature. And there is a special package `framework` were all the cross-cutting concerns are placed like the dependency injection configuration or common, technical software elements.\n",
    "\n",
    "The main point to take away here is that thanks to the alignment of the package structure along the business' subdomain it's easy to determine the business domain for a software entity. It's the 3rd position in the Java package name: \n",
    "\n",
    "`at.dropover.`**`<subdomain>`**`.`\n",
    "\n",
    "This information item can easily be used to retrieve the information about the subdomain."
   ]
  },
  {
   "cell_type": "markdown",
   "metadata": {},
   "source": [
    "# Software from a graph's perspective\n",
    "I've built the web application, scanned the software artifact (a standard JAR file that we export for integration testing purposes) with jQAssistant command line tool (with `jqassistant.sh scan -f dropover-classesjar` in this case) and started the server (with `jqassistant.sh server`). Taking a look in the accompanied Neo4j Browser, we can see the graph that jQAssistant stored in Neo4j. E. g. we can display the relationship between the JAR file and the contained Java types:\n",
    "\n",
    "![](./resources/analyze_business_domain_dependencies_dropover_bundle_graph.png)\n",
    "\n",
    "In the following, I set up the connection between my Python glue code and the Neo4j database. The query executed lists simply all Java types of the application (respectivley the JAR artifact). As mentioned above, we can also get the information about the subdomain derived from the package name:"
   ]
  },
  {
   "cell_type": "code",
   "execution_count": 153,
   "metadata": {},
   "outputs": [
    {
     "data": {
      "text/html": [
       "<div>\n",
       "<style>\n",
       "    .dataframe thead tr:only-child th {\n",
       "        text-align: right;\n",
       "    }\n",
       "\n",
       "    .dataframe thead th {\n",
       "        text-align: left;\n",
       "    }\n",
       "\n",
       "    .dataframe tbody tr th {\n",
       "        vertical-align: top;\n",
       "    }\n",
       "</style>\n",
       "<table border=\"1\" class=\"dataframe\">\n",
       "  <thead>\n",
       "    <tr style=\"text-align: right;\">\n",
       "      <th></th>\n",
       "      <th>subdomain</th>\n",
       "      <th>type</th>\n",
       "    </tr>\n",
       "  </thead>\n",
       "  <tbody>\n",
       "    <tr>\n",
       "      <th>0</th>\n",
       "      <td>scheduling</td>\n",
       "      <td>at.dropover.scheduling.interactor.GetSchedulings</td>\n",
       "    </tr>\n",
       "    <tr>\n",
       "      <th>1</th>\n",
       "      <td>scheduling</td>\n",
       "      <td>at.dropover.scheduling.interactor.validation.S...</td>\n",
       "    </tr>\n",
       "    <tr>\n",
       "      <th>2</th>\n",
       "      <td>site</td>\n",
       "      <td>at.dropover.site.entity.Site</td>\n",
       "    </tr>\n",
       "    <tr>\n",
       "      <th>3</th>\n",
       "      <td>files</td>\n",
       "      <td>at.dropover.files.boundary.UploadFileRequestModel</td>\n",
       "    </tr>\n",
       "    <tr>\n",
       "      <th>4</th>\n",
       "      <td>scheduling</td>\n",
       "      <td>at.dropover.scheduling.entity.gateway.inmemory...</td>\n",
       "    </tr>\n",
       "  </tbody>\n",
       "</table>\n",
       "</div>"
      ],
      "text/plain": [
       "    subdomain                                               type\n",
       "0  scheduling   at.dropover.scheduling.interactor.GetSchedulings\n",
       "1  scheduling  at.dropover.scheduling.interactor.validation.S...\n",
       "2        site                       at.dropover.site.entity.Site\n",
       "3       files  at.dropover.files.boundary.UploadFileRequestModel\n",
       "4  scheduling  at.dropover.scheduling.entity.gateway.inmemory..."
      ]
     },
     "execution_count": 153,
     "metadata": {},
     "output_type": "execute_result"
    }
   ],
   "source": [
    "import py2neo\n",
    "import pandas as pd\n",
    "\n",
    "query=\"\"\"\n",
    "MATCH\n",
    "    (:Jar:Archive)-[:CONTAINS]->(type:Type)\n",
    "RETURN\n",
    "    type.fqn AS type, SPLIT(type.fqn, \".\")[2] AS subdomain\n",
    "\"\"\"\n",
    "\n",
    "graph = py2neo.Graph()\n",
    "subdomaininfo = pd.DataFrame(graph.run(query).data())\n",
    "subdomaininfo.head()"
   ]
  },
  {
   "cell_type": "markdown",
   "metadata": {},
   "source": [
    "The request returns all the corresponding subdomain for each type. Combined with the approach in [Java Type Dependency Analysis](https://www.feststelltaste.de/java-type-dependency-analysis/), we can now visualize the dependencies between the various subdomains:"
   ]
  },
  {
   "cell_type": "code",
   "execution_count": 161,
   "metadata": {},
   "outputs": [
    {
     "data": {
      "text/plain": [
       "[{'imports': ['comment', 'framework', 'creator', 'site'], 'name': 'comment'},\n",
       " {'imports': ['site', 'mail', 'framework', 'creator'], 'name': 'mail'}]"
      ]
     },
     "execution_count": 161,
     "metadata": {},
     "output_type": "execute_result"
    }
   ],
   "source": [
    "import json\n",
    "\n",
    "query=\"\"\"\n",
    "MATCH\n",
    "    (:Jar:Archive)-[:CONTAINS]->\n",
    "    (type:Type)-[:DEPENDS_ON]->(directDependency:Type)\n",
    "    <-[:CONTAINS]-(:Jar:Archive)\n",
    "RETURN \n",
    "    SPLIT(type.fqn, \".\")[2] AS name, \n",
    "    COLLECT(DISTINCT SPLIT(directDependency.fqn, \".\")[2]) AS imports\n",
    "\"\"\"\n",
    "\n",
    "graph = py2neo.Graph()\n",
    "json_data = graph.run(query).data()\n",
    "\n",
    "with open ( \"vis/flare-imports.json\", mode='w') as json_file:\n",
    "    json_file.write(json.dumps(json_data, indent=3))\n",
    "\n",
    "json_data[:2]"
   ]
  },
  {
   "cell_type": "markdown",
   "metadata": {},
   "source": [
    "In the output, we see the dependencies between the various subdomains\n",
    "\n",
    "![](./resources/analyze_business_domain_dependencies_dropover_bundle.png)"
   ]
  },
  {
   "cell_type": "markdown",
   "metadata": {},
   "source": [
    "I've altered the visualization just a little bit so that we can see bidirectional dependencies as well. Those are green and red at the same time and appear more dominant than unidirectional dependencies.\n",
    "\n",
    "From the visualization above, we can see that the `creator` subdomain is used by Java source code from the subdomains `comment`, `site`, `scheduling`, `mail` and `framework`. The first four make perfectly sense because if you create one of those content types in the application, they are created by some person (they are \"personalized\" content). Whereas `todo` and `files` are user agnostic content types and thus don't have any dependencies on `creator` (that's a tricky situation in retrospect). What's could look like a mess are the dependencies from and to `framework`. In the pseudo subdomain `framework` are some base classes for all the data objects that get persistent in a data store. That explains the outbound dependency of `creator`. The inbound dependencies from `framework` to `creator` are needed for the central dependency injection configuration of the application. \n",
    "\n",
    "Where it get's interesting is the following visualization of the dependencies of the subdomain `site`:\n",
    "\n",
    "![](./resources/analyze_business_domain_dependencies_dropover_bundle_site.png)"
   ]
  },
  {
   "cell_type": "code",
   "execution_count": 152,
   "metadata": {},
   "outputs": [
    {
     "data": {
      "text/plain": [
       "[]"
      ]
     },
     "execution_count": 152,
     "metadata": {},
     "output_type": "execute_result"
    }
   ],
   "source": [
    "query=\"\"\"\n",
    "MATCH\n",
    "    (type:Type)\n",
    "WHERE\n",
    "    type.fqn STARTS WITH \"at.dropover\"\n",
    "WITH DISTINCT type\n",
    "MATCH\n",
    "    (d1:Domain:Business)<-[:BELONGS_TO]-(type:Type),\n",
    "    (type)-[:DEPENDS_ON*0..1]->(directDependency:Type),\n",
    "    (directDependency)-[:BELONGS_TO]->(d2:Business:Domain)\n",
    "RETURN d1.name as name, COLLECT(DISTINCT d2.name) as imports\n",
    "\"\"\"\n",
    "json_data = graph.run(query).data()\n",
    "import json\n",
    "with open ( \"vis/flare-imports.json\", mode='w') as json_file:\n",
    "    json_file.write(json.dumps(json_data, indent=3))\n",
    "\n",
    "json_data[:2]"
   ]
  },
  {
   "cell_type": "code",
   "execution_count": 111,
   "metadata": {},
   "outputs": [
    {
     "data": {
      "text/plain": [
       "[['files', 'framework', 4],\n",
       " ['site', 'files', 11],\n",
       " ['site', 'mail', 4],\n",
       " ['creator', 'framework', 4],\n",
       " ['files', 'site', 1]]"
      ]
     },
     "execution_count": 111,
     "metadata": {},
     "output_type": "execute_result"
    }
   ],
   "source": [
    "query=\"\"\"\n",
    "MATCH\n",
    "    (type:Type)\n",
    "WHERE\n",
    "    type.fqn STARTS WITH \"at.dropover\"\n",
    "WITH DISTINCT type\n",
    "MATCH\n",
    "    (d1:Domain:Business)<-[:BELONGS_TO]-(type:Type),\n",
    "    (type)-[r:DEPENDS_ON*0..1]->(directDependency:Type),\n",
    "    (directDependency)-[:BELONGS_TO]->(d2:Business:Domain)\n",
    "RETURN d1.name as name, d2.name, COUNT(r) as number\n",
    "\"\"\"\n",
    "json_data = graph.run(query).data()\n",
    "df = pd.DataFrame(json_data)\n",
    "data = df.to_dict(orient='split')['data']\n",
    "with open ( \"vis/chord_data.json\", mode='w') as json_file:\n",
    "    json_file.write(json.dumps(data, indent=3))\n",
    "data[:5]"
   ]
  },
  {
   "cell_type": "markdown",
   "metadata": {},
   "source": [
    "# A more sophisticated use case\n",
    "Even if there aren't any package naming conventions, you can identify some structure for example in class names or in your inheritance hierarchy that points you towards your subdomains in the code (if that isn't possible as well: I wrote my Master's thesis about mining cohesive concepts from source code via text mining, so you could use that as well :-D . And at a last resort, you have to do the mapping manually...).\n",
    "\n",
    "Let's see how this could work by mapping business subdomains to the class names of the Spring PetClinic project. "
   ]
  },
  {
   "cell_type": "markdown",
   "metadata": {},
   "source": [
    "We also have a list of all types in our application:"
   ]
  },
  {
   "cell_type": "code",
   "execution_count": 37,
   "metadata": {},
   "outputs": [
    {
     "data": {
      "text/html": [
       "<div>\n",
       "<style>\n",
       "    .dataframe thead tr:only-child th {\n",
       "        text-align: right;\n",
       "    }\n",
       "\n",
       "    .dataframe thead th {\n",
       "        text-align: left;\n",
       "    }\n",
       "\n",
       "    .dataframe tbody tr th {\n",
       "        vertical-align: top;\n",
       "    }\n",
       "</style>\n",
       "<table border=\"1\" class=\"dataframe\">\n",
       "  <thead>\n",
       "    <tr style=\"text-align: right;\">\n",
       "      <th></th>\n",
       "      <th>fqn</th>\n",
       "      <th>name</th>\n",
       "    </tr>\n",
       "  </thead>\n",
       "  <tbody>\n",
       "    <tr>\n",
       "      <th>0</th>\n",
       "      <td>org.springframework.samples.petclinic.web.Visi...</td>\n",
       "      <td>VisitControllerTests</td>\n",
       "    </tr>\n",
       "    <tr>\n",
       "      <th>1</th>\n",
       "      <td>org.springframework.samples.petclinic.model.Va...</td>\n",
       "      <td>ValidatorTests</td>\n",
       "    </tr>\n",
       "    <tr>\n",
       "      <th>2</th>\n",
       "      <td>org.springframework.samples.petclinic.web.Cras...</td>\n",
       "      <td>CrashControllerTests</td>\n",
       "    </tr>\n",
       "    <tr>\n",
       "      <th>3</th>\n",
       "      <td>org.springframework.samples.petclinic.service....</td>\n",
       "      <td>AbstractClinicServiceTests</td>\n",
       "    </tr>\n",
       "    <tr>\n",
       "      <th>4</th>\n",
       "      <td>org.springframework.samples.petclinic.web.PetT...</td>\n",
       "      <td>PetTypeFormatterTests$1</td>\n",
       "    </tr>\n",
       "  </tbody>\n",
       "</table>\n",
       "</div>"
      ],
      "text/plain": [
       "                                                 fqn  \\\n",
       "0  org.springframework.samples.petclinic.web.Visi...   \n",
       "1  org.springframework.samples.petclinic.model.Va...   \n",
       "2  org.springframework.samples.petclinic.web.Cras...   \n",
       "3  org.springframework.samples.petclinic.service....   \n",
       "4  org.springframework.samples.petclinic.web.PetT...   \n",
       "\n",
       "                         name  \n",
       "0        VisitControllerTests  \n",
       "1              ValidatorTests  \n",
       "2        CrashControllerTests  \n",
       "3  AbstractClinicServiceTests  \n",
       "4     PetTypeFormatterTests$1  "
      ]
     },
     "execution_count": 37,
     "metadata": {},
     "output_type": "execute_result"
    }
   ],
   "source": [
    "import py2neo\n",
    "import pandas as pd\n",
    "\n",
    "query=\"\"\"\n",
    "MATCH\n",
    "    (:Project)-[:CONTAINS]->(artifact:Artifact)-[:CONTAINS]->(type:Type)\n",
    "RETURN type.fqn as fqn, type.name as name\n",
    "\"\"\"\n",
    "\n",
    "graph = py2neo.Graph()\n",
    "subdomaininfo = pd.DataFrame(graph.run(query).data())\n",
    "subdomaininfo.head()"
   ]
  },
  {
   "cell_type": "markdown",
   "metadata": {},
   "source": [
    "First, let's assume that we have some subdomains of our business domain we know about:"
   ]
  },
  {
   "cell_type": "code",
   "execution_count": 38,
   "metadata": {
    "collapsed": true
   },
   "outputs": [],
   "source": [
    "subdomains = ['Owner', 'Pet', 'Visit', 'Vet', 'Specialty', 'Clinic']"
   ]
  },
  {
   "cell_type": "code",
   "execution_count": 52,
   "metadata": {
    "collapsed": true
   },
   "outputs": [],
   "source": [
    "def determine_subdomain(name):\n",
    "    for feature in subdomains:\n",
    "        if feature in name:\n",
    "            return feature\n",
    "\n",
    "    return \"Framework\""
   ]
  },
  {
   "cell_type": "code",
   "execution_count": 53,
   "metadata": {},
   "outputs": [
    {
     "data": {
      "text/html": [
       "<div>\n",
       "<style>\n",
       "    .dataframe thead tr:only-child th {\n",
       "        text-align: right;\n",
       "    }\n",
       "\n",
       "    .dataframe thead th {\n",
       "        text-align: left;\n",
       "    }\n",
       "\n",
       "    .dataframe tbody tr th {\n",
       "        vertical-align: top;\n",
       "    }\n",
       "</style>\n",
       "<table border=\"1\" class=\"dataframe\">\n",
       "  <thead>\n",
       "    <tr style=\"text-align: right;\">\n",
       "      <th></th>\n",
       "      <th>fqn</th>\n",
       "      <th>name</th>\n",
       "      <th>subdomain</th>\n",
       "    </tr>\n",
       "  </thead>\n",
       "  <tbody>\n",
       "    <tr>\n",
       "      <th>0</th>\n",
       "      <td>org.springframework.samples.petclinic.web.Visi...</td>\n",
       "      <td>VisitControllerTests</td>\n",
       "      <td>Visit</td>\n",
       "    </tr>\n",
       "    <tr>\n",
       "      <th>1</th>\n",
       "      <td>org.springframework.samples.petclinic.model.Va...</td>\n",
       "      <td>ValidatorTests</td>\n",
       "      <td>Framework</td>\n",
       "    </tr>\n",
       "    <tr>\n",
       "      <th>2</th>\n",
       "      <td>org.springframework.samples.petclinic.web.Cras...</td>\n",
       "      <td>CrashControllerTests</td>\n",
       "      <td>Framework</td>\n",
       "    </tr>\n",
       "    <tr>\n",
       "      <th>3</th>\n",
       "      <td>org.springframework.samples.petclinic.service....</td>\n",
       "      <td>AbstractClinicServiceTests</td>\n",
       "      <td>Clinic</td>\n",
       "    </tr>\n",
       "    <tr>\n",
       "      <th>4</th>\n",
       "      <td>org.springframework.samples.petclinic.web.PetT...</td>\n",
       "      <td>PetTypeFormatterTests$1</td>\n",
       "      <td>Pet</td>\n",
       "    </tr>\n",
       "  </tbody>\n",
       "</table>\n",
       "</div>"
      ],
      "text/plain": [
       "                                                 fqn  \\\n",
       "0  org.springframework.samples.petclinic.web.Visi...   \n",
       "1  org.springframework.samples.petclinic.model.Va...   \n",
       "2  org.springframework.samples.petclinic.web.Cras...   \n",
       "3  org.springframework.samples.petclinic.service....   \n",
       "4  org.springframework.samples.petclinic.web.PetT...   \n",
       "\n",
       "                         name  subdomain  \n",
       "0        VisitControllerTests      Visit  \n",
       "1              ValidatorTests  Framework  \n",
       "2        CrashControllerTests  Framework  \n",
       "3  AbstractClinicServiceTests     Clinic  \n",
       "4     PetTypeFormatterTests$1        Pet  "
      ]
     },
     "execution_count": 53,
     "metadata": {},
     "output_type": "execute_result"
    }
   ],
   "source": [
    "subdomaininfo['subdomain'] = subdomaininfo['name'].apply(determine_subdomain)\n",
    "subdomaininfo.head()"
   ]
  },
  {
   "cell_type": "code",
   "execution_count": 59,
   "metadata": {},
   "outputs": [
    {
     "data": {
      "text/html": [
       "<div>\n",
       "<style>\n",
       "    .dataframe thead tr:only-child th {\n",
       "        text-align: right;\n",
       "    }\n",
       "\n",
       "    .dataframe thead th {\n",
       "        text-align: left;\n",
       "    }\n",
       "\n",
       "    .dataframe tbody tr th {\n",
       "        vertical-align: top;\n",
       "    }\n",
       "</style>\n",
       "<table border=\"1\" class=\"dataframe\">\n",
       "  <thead>\n",
       "    <tr style=\"text-align: right;\">\n",
       "      <th></th>\n",
       "      <th>subdomain</th>\n",
       "      <th>type_fqn</th>\n",
       "    </tr>\n",
       "  </thead>\n",
       "  <tbody>\n",
       "    <tr>\n",
       "      <th>0</th>\n",
       "      <td>Visit</td>\n",
       "      <td>org.springframework.samples.petclinic.web.Visi...</td>\n",
       "    </tr>\n",
       "    <tr>\n",
       "      <th>1</th>\n",
       "      <td>Framework</td>\n",
       "      <td>org.springframework.samples.petclinic.model.Va...</td>\n",
       "    </tr>\n",
       "    <tr>\n",
       "      <th>2</th>\n",
       "      <td>Framework</td>\n",
       "      <td>org.springframework.samples.petclinic.web.Cras...</td>\n",
       "    </tr>\n",
       "    <tr>\n",
       "      <th>3</th>\n",
       "      <td>Clinic</td>\n",
       "      <td>org.springframework.samples.petclinic.service....</td>\n",
       "    </tr>\n",
       "    <tr>\n",
       "      <th>4</th>\n",
       "      <td>Pet</td>\n",
       "      <td>org.springframework.samples.petclinic.web.PetT...</td>\n",
       "    </tr>\n",
       "  </tbody>\n",
       "</table>\n",
       "</div>"
      ],
      "text/plain": [
       "   subdomain                                           type_fqn\n",
       "0      Visit  org.springframework.samples.petclinic.web.Visi...\n",
       "1  Framework  org.springframework.samples.petclinic.model.Va...\n",
       "2  Framework  org.springframework.samples.petclinic.web.Cras...\n",
       "3     Clinic  org.springframework.samples.petclinic.service....\n",
       "4        Pet  org.springframework.samples.petclinic.web.PetT..."
      ]
     },
     "execution_count": 59,
     "metadata": {},
     "output_type": "execute_result"
    }
   ],
   "source": [
    "query=\"\"\"\n",
    "UNWIND {subdomaininfo} as info\n",
    "MERGE (subdomain:Domain:Business { name: info.subdomain })\n",
    "WITH info, subdomain\n",
    "MATCH (n:Type { fqn: info.fqn})\n",
    "MERGE (n)-[:BELONGS_TO]->(subdomain)\n",
    "RETURN n.fqn as type_fqn, subdomain.name as subdomain\n",
    "\"\"\"\n",
    "\n",
    "result = graph.run(query, subdomaininfo=subdomaininfo.to_dict(orient='records')).data()\n",
    "pd.DataFrame(result).head()"
   ]
  },
  {
   "cell_type": "code",
   "execution_count": 98,
   "metadata": {},
   "outputs": [
    {
     "data": {
      "text/plain": [
       "{'columns': ['d2.name', 'name', 'number'],\n",
       " 'data': [['Framework', 'Visit', 1],\n",
       "  ['Visit', 'Clinic', 3],\n",
       "  ['Framework', 'Owner', 2],\n",
       "  ['Pet', 'Visit', 5],\n",
       "  ['Specialty', 'Vet', 2],\n",
       "  ['Visit', 'Visit', 10],\n",
       "  ['Owner', 'Owner', 8],\n",
       "  ['Pet', 'Owner', 4],\n",
       "  ['Clinic', 'Vet', 1],\n",
       "  ['Clinic', 'Pet', 2],\n",
       "  ['Framework', 'Framework', 3],\n",
       "  ['Framework', 'Vet', 2],\n",
       "  ['Vet', 'Vet', 11],\n",
       "  ['Clinic', 'Clinic', 1],\n",
       "  ['Framework', 'Pet', 3],\n",
       "  ['Clinic', 'Owner', 1],\n",
       "  ['Owner', 'Pet', 4],\n",
       "  ['Clinic', 'Visit', 1],\n",
       "  ['Pet', 'Pet', 21],\n",
       "  ['Framework', 'Specialty', 1],\n",
       "  ['Visit', 'Pet', 4],\n",
       "  ['Owner', 'Clinic', 3],\n",
       "  ['Vet', 'Clinic', 3],\n",
       "  ['Pet', 'Clinic', 5]],\n",
       " 'index': [0,\n",
       "  1,\n",
       "  2,\n",
       "  3,\n",
       "  4,\n",
       "  5,\n",
       "  6,\n",
       "  7,\n",
       "  8,\n",
       "  9,\n",
       "  10,\n",
       "  11,\n",
       "  12,\n",
       "  13,\n",
       "  14,\n",
       "  15,\n",
       "  16,\n",
       "  17,\n",
       "  18,\n",
       "  19,\n",
       "  20,\n",
       "  21,\n",
       "  22,\n",
       "  23]}"
      ]
     },
     "execution_count": 98,
     "metadata": {},
     "output_type": "execute_result"
    }
   ],
   "source": [
    "query=\"\"\"\n",
    "MATCH\n",
    "    (:Project)-[:CONTAINS]->(artifact:Artifact)-[:CONTAINS]->(type:Type)\n",
    "WHERE\n",
    "    // we don't want thgo analyze test artifacts\n",
    "    NOT artifact.type = \"test-jar\" \n",
    "WITH DISTINCT type, artifact\n",
    "MATCH\n",
    "    (d1:Domain:Business)<-[:BELONGS_TO]-(type:Type),\n",
    "    (type)-[r:DEPENDS_ON*0..1]->(directDependency:Type),\n",
    "    (directDependency)-[:BELONGS_TO]->(d2:Business:Domain),\n",
    "    (directDependency)<-[:CONTAINS]-(artifact)\n",
    "RETURN d1.name as name, d2.name, COUNT(r) as number\n",
    "\"\"\"\n",
    "\n",
    "json_data = graph.run(query).data()\n",
    "df = pd.DataFrame(json_data)\n",
    "df.to_dict(orient='split')"
   ]
  },
  {
   "cell_type": "markdown",
   "metadata": {},
   "source": [
    "Like in the simple example, the graph looks now like this:\n",
    "    \n"
   ]
  },
  {
   "cell_type": "code",
   "execution_count": 14,
   "metadata": {},
   "outputs": [
    {
     "data": {
      "text/html": [
       "<div>\n",
       "<style>\n",
       "    .dataframe thead tr:only-child th {\n",
       "        text-align: right;\n",
       "    }\n",
       "\n",
       "    .dataframe thead th {\n",
       "        text-align: left;\n",
       "    }\n",
       "\n",
       "    .dataframe tbody tr th {\n",
       "        vertical-align: top;\n",
       "    }\n",
       "</style>\n",
       "<table border=\"1\" class=\"dataframe\">\n",
       "  <thead>\n",
       "    <tr style=\"text-align: right;\">\n",
       "      <th></th>\n",
       "      <th>n.fqn</th>\n",
       "      <th>s.name</th>\n",
       "      <th>t.name</th>\n",
       "      <th>u.name</th>\n",
       "    </tr>\n",
       "  </thead>\n",
       "  <tbody>\n",
       "    <tr>\n",
       "      <th>0</th>\n",
       "      <td>org.springframework.samples.petclinic.Petclini...</td>\n",
       "      <td>Pet</td>\n",
       "      <td>petclinic</td>\n",
       "      <td>Initializer</td>\n",
       "    </tr>\n",
       "    <tr>\n",
       "      <th>1</th>\n",
       "      <td>org.springframework.samples.petclinic.reposito...</td>\n",
       "      <td>Pet</td>\n",
       "      <td>jpa</td>\n",
       "      <td>Repository</td>\n",
       "    </tr>\n",
       "    <tr>\n",
       "      <th>2</th>\n",
       "      <td>org.springframework.samples.petclinic.web.Visi...</td>\n",
       "      <td>Visit</td>\n",
       "      <td>web</td>\n",
       "      <td>Controller</td>\n",
       "    </tr>\n",
       "    <tr>\n",
       "      <th>3</th>\n",
       "      <td>org.springframework.samples.petclinic.reposito...</td>\n",
       "      <td>Vet</td>\n",
       "      <td>jdbc</td>\n",
       "      <td>Repository</td>\n",
       "    </tr>\n",
       "    <tr>\n",
       "      <th>4</th>\n",
       "      <td>org.springframework.samples.petclinic.web.Cras...</td>\n",
       "      <td>Framework</td>\n",
       "      <td>web</td>\n",
       "      <td>Controller</td>\n",
       "    </tr>\n",
       "  </tbody>\n",
       "</table>\n",
       "</div>"
      ],
      "text/plain": [
       "                                               n.fqn     s.name     t.name  \\\n",
       "0  org.springframework.samples.petclinic.Petclini...        Pet  petclinic   \n",
       "1  org.springframework.samples.petclinic.reposito...        Pet        jpa   \n",
       "2  org.springframework.samples.petclinic.web.Visi...      Visit        web   \n",
       "3  org.springframework.samples.petclinic.reposito...        Vet       jdbc   \n",
       "4  org.springframework.samples.petclinic.web.Cras...  Framework        web   \n",
       "\n",
       "        u.name  \n",
       "0  Initializer  \n",
       "1   Repository  \n",
       "2   Controller  \n",
       "3   Repository  \n",
       "4   Controller  "
      ]
     },
     "execution_count": 14,
     "metadata": {},
     "output_type": "execute_result"
    }
   ],
   "source": [
    "import pandas as pd\n",
    "pd.DataFrame(json_data).head()"
   ]
  },
  {
   "cell_type": "code",
   "execution_count": 81,
   "metadata": {},
   "outputs": [
    {
     "data": {
      "text/plain": [
       "[]"
      ]
     },
     "execution_count": 81,
     "metadata": {},
     "output_type": "execute_result"
    }
   ],
   "source": [
    "query=\"\"\"\n",
    "MATCH\n",
    "    (:Project)-[:CONTAINS]->(artifact:Artifact)-[:CONTAINS]->(type:Type)\n",
    "WHERE\n",
    "    // we don't want to analyze test artifacts\n",
    "    NOT artifact.type = \"test-jar\" \n",
    "WITH DISTINCT type, artifact\n",
    "MATCH\n",
    "    (d1:Domain:Business)<-[:BELONGS_TO]-(type:Type),\n",
    "    (type)-[:DEPENDS_ON*0..1]->(directDependency:Type),\n",
    "    (directDependency)-[:BELONGS_TO]->(d2:Business:Domain),\n",
    "    (directDependency)<-[:CONTAINS]-(artifact)\n",
    "RETURN d1.name as name, COLLECT(DISTINCT d2.name) as imports\n",
    "\"\"\"\n",
    "json_data = graph.run(query).data()\n",
    "\n",
    "import json\n",
    "with open ( \"vis/flare-imports.json\", mode='w') as json_file:\n",
    "    json_file.write(json.dumps(json_data, indent=3))\n",
    "    \n",
    "json_data"
   ]
  },
  {
   "cell_type": "code",
   "execution_count": 113,
   "metadata": {},
   "outputs": [
    {
     "data": {
      "text/plain": [
       "[['Framework', 'Visit', 1],\n",
       " ['Visit', 'Clinic', 3],\n",
       " ['Framework', 'Owner', 2],\n",
       " ['Pet', 'Visit', 5],\n",
       " ['Specialty', 'Vet', 2]]"
      ]
     },
     "execution_count": 113,
     "metadata": {},
     "output_type": "execute_result"
    }
   ],
   "source": [
    "query=\"\"\"\n",
    "MATCH\n",
    "    (:Project)-[:CONTAINS]->(artifact:Artifact)-[:CONTAINS]->(type:Type)\n",
    "WHERE\n",
    "    // we don't want to analyze test artifacts\n",
    "    NOT artifact.type = \"test-jar\" \n",
    "WITH DISTINCT type, artifact\n",
    "MATCH\n",
    "    (d1:Domain:Business)<-[:BELONGS_TO]-(type:Type),\n",
    "    (type)-[r:DEPENDS_ON*0..1]->(directDependency:Type),\n",
    "    (directDependency)-[:BELONGS_TO]->(d2:Business:Domain),\n",
    "    (directDependency)<-[:CONTAINS]-(artifact)\n",
    "RETURN d1.name as name, d2.name, COUNT(r) as number\n",
    "\"\"\"\n",
    "\n",
    "\n",
    "json_data = graph.run(query).data()\n",
    "df = pd.DataFrame(json_data)\n",
    "data = df.to_dict(orient='split')['data']\n",
    "with open ( \"vis/chord_data.json\", mode='w') as json_file:\n",
    "    json_file.write(json.dumps(data, indent=3))\n",
    "data[:5]"
   ]
  },
  {
   "cell_type": "markdown",
   "metadata": {},
   "source": [
    "# Bonus Dependencies between subdomains"
   ]
  },
  {
   "cell_type": "code",
   "execution_count": 2,
   "metadata": {},
   "outputs": [
    {
     "ename": "NameError",
     "evalue": "name 'pd' is not defined",
     "output_type": "error",
     "traceback": [
      "\u001b[1;31m---------------------------------------------------------------------------\u001b[0m",
      "\u001b[1;31mNameError\u001b[0m                                 Traceback (most recent call last)",
      "\u001b[1;32m<ipython-input-2-2e0dfafd0a6a>\u001b[0m in \u001b[0;36m<module>\u001b[1;34m()\u001b[0m\n\u001b[0;32m      9\u001b[0m \"\"\"\n\u001b[0;32m     10\u001b[0m \u001b[1;33m\u001b[0m\u001b[0m\n\u001b[1;32m---> 11\u001b[1;33m \u001b[0mpd\u001b[0m\u001b[1;33m.\u001b[0m\u001b[0mDataFrame\u001b[0m\u001b[1;33m(\u001b[0m\u001b[0mgraph\u001b[0m\u001b[1;33m.\u001b[0m\u001b[0mrun\u001b[0m\u001b[1;33m(\u001b[0m\u001b[0mquery\u001b[0m\u001b[1;33m)\u001b[0m\u001b[1;33m.\u001b[0m\u001b[0mdata\u001b[0m\u001b[1;33m(\u001b[0m\u001b[1;33m)\u001b[0m\u001b[1;33m)\u001b[0m\u001b[1;33m.\u001b[0m\u001b[0mhead\u001b[0m\u001b[1;33m(\u001b[0m\u001b[1;33m)\u001b[0m\u001b[1;33m\u001b[0m\u001b[0m\n\u001b[0m",
      "\u001b[1;31mNameError\u001b[0m: name 'pd' is not defined"
     ]
    }
   ],
   "source": [
    "query=\"\"\"\n",
    "MATCH\n",
    "    (t1:Type)-[:BELONGS_TO]->(s1:Subdomain),\n",
    "    (t2:Type)-[:BELONGS_TO]->(s2:Subdomain),\n",
    "    (t1)-[:DEPENDS_ON]->(t2)\n",
    "WHERE s1.name <> s2.name\n",
    "MERGE (s1)-[:DEPENDS_ON]->(s2)\n",
    "RETURN s1.name, s2.name\n",
    "\"\"\"\n",
    "\n",
    "pd.DataFrame(graph.run(query).data()).head()"
   ]
  },
  {
   "cell_type": "markdown",
   "metadata": {},
   "source": [
    "Additionaly, we get a nice visualization of the dependencies between the various business subdomains that can also be visualized with [D3](http://d3js.org/) as described in [Analyze Dependencies between Business Subdomains](https://www.feststelltaste.de/analyze-dependencies-between-business-subdomains/).\n",
    "\n",
    "![](../resources/higher_level_abstractions_with_jqassistant_dependencies.png)"
   ]
  }
 ],
 "metadata": {
  "hide_input": false,
  "kernelspec": {
   "display_name": "Python 3",
   "language": "python",
   "name": "python3"
  },
  "language_info": {
   "codemirror_mode": {
    "name": "ipython",
    "version": 3
   },
   "file_extension": ".py",
   "mimetype": "text/x-python",
   "name": "python",
   "nbconvert_exporter": "python",
   "pygments_lexer": "ipython3",
   "version": "3.6.2"
  },
  "toc": {
   "nav_menu": {},
   "number_sections": true,
   "sideBar": true,
   "skip_h1_title": false,
   "toc_cell": false,
   "toc_position": {},
   "toc_section_display": "block",
   "toc_window_display": false
  }
 },
 "nbformat": 4,
 "nbformat_minor": 2
}
