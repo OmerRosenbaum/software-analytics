{
 "cells": [
  {
   "cell_type": "markdown",
   "metadata": {},
   "source": [
    "# Race Conditions Demo\n",
    "\n",
    "`repos/buschmais-spring-petclinic_fail` -> starten mit `mvn jqassistant:server`"
   ]
  },
  {
   "cell_type": "code",
   "execution_count": 3,
   "metadata": {},
   "outputs": [],
   "source": [
    "import pandas as pd\n",
    "import py2neo\n",
    "graph = py2neo.Graph()"
   ]
  },
  {
   "cell_type": "code",
   "execution_count": 4,
   "metadata": {},
   "outputs": [
    {
     "data": {
      "text/html": [
       "<div>\n",
       "<style>\n",
       "    .dataframe thead tr:only-child th {\n",
       "        text-align: right;\n",
       "    }\n",
       "\n",
       "    .dataframe thead th {\n",
       "        text-align: left;\n",
       "    }\n",
       "\n",
       "    .dataframe tbody tr th {\n",
       "        vertical-align: top;\n",
       "    }\n",
       "</style>\n",
       "<table border=\"1\" class=\"dataframe\">\n",
       "  <thead>\n",
       "    <tr style=\"text-align: right;\">\n",
       "      <th></th>\n",
       "      <th>c.name</th>\n",
       "      <th>f.name</th>\n",
       "      <th>m.name</th>\n",
       "    </tr>\n",
       "  </thead>\n",
       "  <tbody>\n",
       "    <tr>\n",
       "      <th>0</th>\n",
       "      <td>OwnerController</td>\n",
       "      <td>ownersCounter</td>\n",
       "      <td>processFindForm</td>\n",
       "    </tr>\n",
       "    <tr>\n",
       "      <th>1</th>\n",
       "      <td>OwnerController</td>\n",
       "      <td>ownersCounter</td>\n",
       "      <td>processFindForm</td>\n",
       "    </tr>\n",
       "  </tbody>\n",
       "</table>\n",
       "</div>"
      ],
      "text/plain": [
       "            c.name         f.name           m.name\n",
       "0  OwnerController  ownersCounter  processFindForm\n",
       "1  OwnerController  ownersCounter  processFindForm"
      ]
     },
     "execution_count": 4,
     "metadata": {},
     "output_type": "execute_result"
    }
   ],
   "source": [
    "query=\"\"\"\n",
    "MATCH (c:Class)-[:DECLARES]->(f:Field)<-[:WRITES]-(m:Method)\n",
    "WHERE f.static = true AND NOT HAS(f.final)\n",
    "RETURN c.name, f.name, m.name\n",
    "\"\"\"\n",
    "pd.DataFrame(graph.data(query))"
   ]
  },
  {
   "cell_type": "code",
   "execution_count": 5,
   "metadata": {},
   "outputs": [
    {
     "data": {
      "text/html": [
       "<div>\n",
       "<style>\n",
       "    .dataframe thead tr:only-child th {\n",
       "        text-align: right;\n",
       "    }\n",
       "\n",
       "    .dataframe thead th {\n",
       "        text-align: left;\n",
       "    }\n",
       "\n",
       "    .dataframe tbody tr th {\n",
       "        vertical-align: top;\n",
       "    }\n",
       "</style>\n",
       "<table border=\"1\" class=\"dataframe\">\n",
       "  <thead>\n",
       "    <tr style=\"text-align: right;\">\n",
       "      <th></th>\n",
       "      <th>c.name</th>\n",
       "      <th>f.name</th>\n",
       "      <th>m.name</th>\n",
       "      <th>s.name</th>\n",
       "      <th>w.lineNumber</th>\n",
       "    </tr>\n",
       "  </thead>\n",
       "  <tbody>\n",
       "    <tr>\n",
       "      <th>0</th>\n",
       "      <td>OwnerController</td>\n",
       "      <td>ownersCounter</td>\n",
       "      <td>processFindForm</td>\n",
       "      <td>Owner</td>\n",
       "      <td>112</td>\n",
       "    </tr>\n",
       "    <tr>\n",
       "      <th>1</th>\n",
       "      <td>OwnerController</td>\n",
       "      <td>ownersCounter</td>\n",
       "      <td>processFindForm</td>\n",
       "      <td>Owner</td>\n",
       "      <td>109</td>\n",
       "    </tr>\n",
       "  </tbody>\n",
       "</table>\n",
       "</div>"
      ],
      "text/plain": [
       "            c.name         f.name           m.name s.name  w.lineNumber\n",
       "0  OwnerController  ownersCounter  processFindForm  Owner           112\n",
       "1  OwnerController  ownersCounter  processFindForm  Owner           109"
      ]
     },
     "execution_count": 5,
     "metadata": {},
     "output_type": "execute_result"
    }
   ],
   "source": [
    "query=\"\"\"\n",
    "MATCH (s:Subdomain)<-[:BELONGS_TO]-(c:Class)-[:DECLARES]->(f:Field)<-[w:WRITES]-(m:Method)\n",
    "WHERE f.static = true AND NOT HAS(f.final)\n",
    "RETURN s.name, c.name, f.name, w.lineNumber, m.name\n",
    "\"\"\"\n",
    "pd.DataFrame(graph.data(query))"
   ]
  },
  {
   "cell_type": "markdown",
   "metadata": {},
   "source": [
    "## andere Abfragen"
   ]
  },
  {
   "cell_type": "code",
   "execution_count": 10,
   "metadata": {},
   "outputs": [
    {
     "data": {
      "text/html": [
       "<div>\n",
       "<style>\n",
       "    .dataframe thead tr:only-child th {\n",
       "        text-align: right;\n",
       "    }\n",
       "\n",
       "    .dataframe thead th {\n",
       "        text-align: left;\n",
       "    }\n",
       "\n",
       "    .dataframe tbody tr th {\n",
       "        vertical-align: top;\n",
       "    }\n",
       "</style>\n",
       "<table border=\"1\" class=\"dataframe\">\n",
       "  <thead>\n",
       "    <tr style=\"text-align: right;\">\n",
       "      <th></th>\n",
       "      <th>e.name</th>\n",
       "      <th>p.name</th>\n",
       "    </tr>\n",
       "  </thead>\n",
       "  <tbody>\n",
       "    <tr>\n",
       "      <th>0</th>\n",
       "      <td>Vet</td>\n",
       "      <td>repository</td>\n",
       "    </tr>\n",
       "  </tbody>\n",
       "</table>\n",
       "</div>"
      ],
      "text/plain": [
       "  e.name      p.name\n",
       "0    Vet  repository"
      ]
     },
     "execution_count": 10,
     "metadata": {},
     "output_type": "execute_result"
    }
   ],
   "source": [
    "query=\"\"\"\n",
    "MATCH (e:Entity)<-[:CONTAINS]-(p:Package)\n",
    "WHERE p.name <> \"model\"\n",
    "RETURN e.name, p.name\n",
    "\"\"\"\n",
    "pd.DataFrame(graph.data(query))"
   ]
  }
 ],
 "metadata": {
  "kernelspec": {
   "display_name": "Python 3",
   "language": "python",
   "name": "python3"
  },
  "language_info": {
   "codemirror_mode": {
    "name": "ipython",
    "version": 3
   },
   "file_extension": ".py",
   "mimetype": "text/x-python",
   "name": "python",
   "nbconvert_exporter": "python",
   "pygments_lexer": "ipython3",
   "version": "3.6.1"
  }
 },
 "nbformat": 4,
 "nbformat_minor": 2
}
