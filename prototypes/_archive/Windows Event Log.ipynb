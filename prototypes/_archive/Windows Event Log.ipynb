{
 "cells": [
  {
   "cell_type": "code",
   "execution_count": 48,
   "metadata": {},
   "outputs": [
    {
     "data": {
      "text/html": [
       "<div>\n",
       "<style>\n",
       "    .dataframe thead tr:only-child th {\n",
       "        text-align: right;\n",
       "    }\n",
       "\n",
       "    .dataframe thead th {\n",
       "        text-align: left;\n",
       "    }\n",
       "\n",
       "    .dataframe tbody tr th {\n",
       "        vertical-align: top;\n",
       "    }\n",
       "</style>\n",
       "<table border=\"1\" class=\"dataframe\">\n",
       "  <thead>\n",
       "    <tr style=\"text-align: right;\">\n",
       "      <th></th>\n",
       "      <th>Datum und Uhrzeit</th>\n",
       "      <th>Quelle</th>\n",
       "      <th>Ereignis-ID</th>\n",
       "    </tr>\n",
       "    <tr>\n",
       "      <th>Datum und Uhrzeit</th>\n",
       "      <th></th>\n",
       "      <th></th>\n",
       "      <th></th>\n",
       "    </tr>\n",
       "  </thead>\n",
       "  <tbody>\n",
       "    <tr>\n",
       "      <th>2017-11-14 17:43:17</th>\n",
       "      <td>2017-11-14 17:43:17</td>\n",
       "      <td>Microsoft-Windows-DNS-Client</td>\n",
       "      <td>1014</td>\n",
       "    </tr>\n",
       "    <tr>\n",
       "      <th>2017-11-14 17:43:08</th>\n",
       "      <td>2017-11-14 17:43:08</td>\n",
       "      <td>Microsoft-Windows-Power-Troubleshooter</td>\n",
       "      <td>1</td>\n",
       "    </tr>\n",
       "    <tr>\n",
       "      <th>2017-11-14 17:43:06</th>\n",
       "      <td>2017-11-14 17:43:06</td>\n",
       "      <td>BTHUSB</td>\n",
       "      <td>34</td>\n",
       "    </tr>\n",
       "    <tr>\n",
       "      <th>2017-11-14 17:43:06</th>\n",
       "      <td>2017-11-14 17:43:06</td>\n",
       "      <td>BTHUSB</td>\n",
       "      <td>18</td>\n",
       "    </tr>\n",
       "    <tr>\n",
       "      <th>2017-11-14 17:43:06</th>\n",
       "      <td>2017-11-14 17:43:06</td>\n",
       "      <td>e1cexpress</td>\n",
       "      <td>27</td>\n",
       "    </tr>\n",
       "  </tbody>\n",
       "</table>\n",
       "</div>"
      ],
      "text/plain": [
       "                      Datum und Uhrzeit  \\\n",
       "Datum und Uhrzeit                         \n",
       "2017-11-14 17:43:17 2017-11-14 17:43:17   \n",
       "2017-11-14 17:43:08 2017-11-14 17:43:08   \n",
       "2017-11-14 17:43:06 2017-11-14 17:43:06   \n",
       "2017-11-14 17:43:06 2017-11-14 17:43:06   \n",
       "2017-11-14 17:43:06 2017-11-14 17:43:06   \n",
       "\n",
       "                                                     Quelle  Ereignis-ID  \n",
       "Datum und Uhrzeit                                                         \n",
       "2017-11-14 17:43:17            Microsoft-Windows-DNS-Client         1014  \n",
       "2017-11-14 17:43:08  Microsoft-Windows-Power-Troubleshooter            1  \n",
       "2017-11-14 17:43:06                                  BTHUSB           34  \n",
       "2017-11-14 17:43:06                                  BTHUSB           18  \n",
       "2017-11-14 17:43:06                              e1cexpress           27  "
      ]
     },
     "execution_count": 48,
     "metadata": {},
     "output_type": "execute_result"
    }
   ],
   "source": [
    "import pandas as pd\n",
    "\n",
    "events = pd.read_csv(r\"C:\\Temp\\data\\systemevents_20171114.csv\", index_col=None, usecols=[1,2,3])\n",
    "events['Datum und Uhrzeit'] = pd.to_datetime(events['Datum und Uhrzeit'])\n",
    "events = events.set_index(pd.DatetimeIndex(events['Datum und Uhrzeit']))\n",
    "events.head()"
   ]
  },
  {
   "cell_type": "code",
   "execution_count": 49,
   "metadata": {},
   "outputs": [
    {
     "name": "stdout",
     "output_type": "stream",
     "text": [
      "<class 'pandas.core.frame.DataFrame'>\n",
      "DatetimeIndex: 1774 entries, 2017-11-14 17:43:17 to 2017-01-11 22:23:54\n",
      "Data columns (total 3 columns):\n",
      "Datum und Uhrzeit    1774 non-null datetime64[ns]\n",
      "Quelle               1774 non-null object\n",
      "Ereignis-ID          1774 non-null int64\n",
      "dtypes: datetime64[ns](1), int64(1), object(1)\n",
      "memory usage: 55.4+ KB\n"
     ]
    }
   ],
   "source": [
    "events.info()"
   ]
  },
  {
   "cell_type": "code",
   "execution_count": 50,
   "metadata": {},
   "outputs": [
    {
     "data": {
      "text/html": [
       "<div>\n",
       "<style>\n",
       "    .dataframe thead tr:only-child th {\n",
       "        text-align: right;\n",
       "    }\n",
       "\n",
       "    .dataframe thead th {\n",
       "        text-align: left;\n",
       "    }\n",
       "\n",
       "    .dataframe tbody tr th {\n",
       "        vertical-align: top;\n",
       "    }\n",
       "</style>\n",
       "<table border=\"1\" class=\"dataframe\">\n",
       "  <thead>\n",
       "    <tr style=\"text-align: right;\">\n",
       "      <th></th>\n",
       "      <th>Ereignis-ID</th>\n",
       "    </tr>\n",
       "    <tr>\n",
       "      <th>Datum und Uhrzeit</th>\n",
       "      <th></th>\n",
       "    </tr>\n",
       "  </thead>\n",
       "  <tbody>\n",
       "    <tr>\n",
       "      <th>2017-11-14 17:43:08</th>\n",
       "      <td>1</td>\n",
       "    </tr>\n",
       "    <tr>\n",
       "      <th>2017-11-14 07:39:43</th>\n",
       "      <td>42</td>\n",
       "    </tr>\n",
       "    <tr>\n",
       "      <th>2017-11-14 07:29:45</th>\n",
       "      <td>1</td>\n",
       "    </tr>\n",
       "    <tr>\n",
       "      <th>2017-11-14 07:23:26</th>\n",
       "      <td>42</td>\n",
       "    </tr>\n",
       "    <tr>\n",
       "      <th>2017-11-14 07:03:55</th>\n",
       "      <td>1</td>\n",
       "    </tr>\n",
       "  </tbody>\n",
       "</table>\n",
       "</div>"
      ],
      "text/plain": [
       "                     Ereignis-ID\n",
       "Datum und Uhrzeit               \n",
       "2017-11-14 17:43:08            1\n",
       "2017-11-14 07:39:43           42\n",
       "2017-11-14 07:29:45            1\n",
       "2017-11-14 07:23:26           42\n",
       "2017-11-14 07:03:55            1"
      ]
     },
     "execution_count": 50,
     "metadata": {},
     "output_type": "execute_result"
    }
   ],
   "source": [
    "start_stop_events = events[\n",
    "    (events['Ereignis-ID'] == 42)\n",
    "    |\n",
    "    (events['Quelle'] == \"Microsoft-Windows-Power-Troubleshooter\")\n",
    "].copy()\n",
    "start_stop_events = start_stop_events[['Ereignis-ID']]\n",
    "start_stop_events.head()"
   ]
  },
  {
   "cell_type": "code",
   "execution_count": 51,
   "metadata": {},
   "outputs": [
    {
     "name": "stderr",
     "output_type": "stream",
     "text": [
      "C:\\dev\\apps\\Anaconda3\\lib\\site-packages\\ipykernel_launcher.py:1: DeprecationWarning: \n",
      ".ix is deprecated. Please use\n",
      ".loc for label based indexing or\n",
      ".iloc for positional indexing\n",
      "\n",
      "See the documentation here:\n",
      "http://pandas.pydata.org/pandas-docs/stable/indexing.html#deprecate_ix\n",
      "  \"\"\"Entry point for launching an IPython kernel.\n"
     ]
    },
    {
     "data": {
      "text/html": [
       "<div>\n",
       "<style>\n",
       "    .dataframe thead tr:only-child th {\n",
       "        text-align: right;\n",
       "    }\n",
       "\n",
       "    .dataframe thead th {\n",
       "        text-align: left;\n",
       "    }\n",
       "\n",
       "    .dataframe tbody tr th {\n",
       "        vertical-align: top;\n",
       "    }\n",
       "</style>\n",
       "<table border=\"1\" class=\"dataframe\">\n",
       "  <thead>\n",
       "    <tr style=\"text-align: right;\">\n",
       "      <th></th>\n",
       "      <th>Ereignis-ID</th>\n",
       "      <th>state</th>\n",
       "    </tr>\n",
       "    <tr>\n",
       "      <th>Datum und Uhrzeit</th>\n",
       "      <th></th>\n",
       "      <th></th>\n",
       "    </tr>\n",
       "  </thead>\n",
       "  <tbody>\n",
       "    <tr>\n",
       "      <th>2017-11-14 17:43:08</th>\n",
       "      <td>1</td>\n",
       "      <td>1.0</td>\n",
       "    </tr>\n",
       "    <tr>\n",
       "      <th>2017-11-14 07:39:43</th>\n",
       "      <td>42</td>\n",
       "      <td>0.0</td>\n",
       "    </tr>\n",
       "    <tr>\n",
       "      <th>2017-11-14 07:29:45</th>\n",
       "      <td>1</td>\n",
       "      <td>1.0</td>\n",
       "    </tr>\n",
       "    <tr>\n",
       "      <th>2017-11-14 07:23:26</th>\n",
       "      <td>42</td>\n",
       "      <td>0.0</td>\n",
       "    </tr>\n",
       "    <tr>\n",
       "      <th>2017-11-14 07:03:55</th>\n",
       "      <td>1</td>\n",
       "      <td>1.0</td>\n",
       "    </tr>\n",
       "  </tbody>\n",
       "</table>\n",
       "</div>"
      ],
      "text/plain": [
       "                     Ereignis-ID  state\n",
       "Datum und Uhrzeit                      \n",
       "2017-11-14 17:43:08            1    1.0\n",
       "2017-11-14 07:39:43           42    0.0\n",
       "2017-11-14 07:29:45            1    1.0\n",
       "2017-11-14 07:23:26           42    0.0\n",
       "2017-11-14 07:03:55            1    1.0"
      ]
     },
     "execution_count": 51,
     "metadata": {},
     "output_type": "execute_result"
    }
   ],
   "source": [
    "start_stop_events.ix[start_stop_events['Ereignis-ID'] == 1, 'state'] = 1\n",
    "start_stop_events.ix[start_stop_events['Ereignis-ID'] == 42, 'state'] = 0\n",
    "start_stop_events.head()"
   ]
  },
  {
   "cell_type": "code",
   "execution_count": 55,
   "metadata": {},
   "outputs": [
    {
     "data": {
      "text/plain": [
       "[<matplotlib.lines.Line2D at 0x2463dbdd550>]"
      ]
     },
     "execution_count": 55,
     "metadata": {},
     "output_type": "execute_result"
    },
    {
     "data": {
      "image/png": "[encoded data removed]",
      "text/plain": [
       "<matplotlib.figure.Figure at 0x2463e06deb8>"
      ]
     },
     "metadata": {},
     "output_type": "display_data"
    }
   ],
   "source": [
    "%matplotlib inline\n",
    "import matplotlib.pyplot as plt\n",
    "plt.figure(figsize=(30,7))\n",
    "plt.step(start_stop_events.index, start_stop_events['state'], where='pre')\n"
   ]
  },
  {
   "cell_type": "code",
   "execution_count": null,
   "metadata": {
    "collapsed": true
   },
   "outputs": [],
   "source": []
  },
  {
   "cell_type": "code",
   "execution_count": null,
   "metadata": {
    "collapsed": true
   },
   "outputs": [],
   "source": []
  },
  {
   "cell_type": "code",
   "execution_count": null,
   "metadata": {
    "collapsed": true
   },
   "outputs": [],
   "source": []
  }
 ],
 "metadata": {
  "kernelspec": {
   "display_name": "Python 3",
   "language": "python",
   "name": "python3"
  },
  "language_info": {
   "codemirror_mode": {
    "name": "ipython",
    "version": 3
   },
   "file_extension": ".py",
   "mimetype": "text/x-python",
   "name": "python",
   "nbconvert_exporter": "python",
   "pygments_lexer": "ipython3",
   "version": "3.6.1"
  }
 },
 "nbformat": 4,
 "nbformat_minor": 2
}
