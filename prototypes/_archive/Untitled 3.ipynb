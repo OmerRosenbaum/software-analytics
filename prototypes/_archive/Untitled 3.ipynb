{
 "cells": [
  {
   "cell_type": "code",
   "execution_count": 5,
   "metadata": {},
   "outputs": [
    {
     "data": {
      "text/plain": [
       "<Graph uri='http://localhost:7474/db/data/'>"
      ]
     },
     "execution_count": 5,
     "metadata": {},
     "output_type": "execute_result"
    }
   ],
   "source": [
    "import pandas as pd\n",
    "pd.set_option(\"display.max_colwidth\", 1)\n",
    "import py2neo\n",
    "\n",
    "graph = py2neo.Graph()\n",
    "graph"
   ]
  },
  {
   "cell_type": "code",
   "execution_count": null,
   "metadata": {
    "collapsed": true
   },
   "outputs": [],
   "source": []
  },
  {
   "cell_type": "code",
   "execution_count": 31,
   "metadata": {},
   "outputs": [
    {
     "data": {
      "text/html": [
       "<div>\n",
       "<style>\n",
       "    .dataframe thead tr:only-child th {\n",
       "        text-align: right;\n",
       "    }\n",
       "\n",
       "    .dataframe thead th {\n",
       "        text-align: left;\n",
       "    }\n",
       "\n",
       "    .dataframe tbody tr th {\n",
       "        vertical-align: top;\n",
       "    }\n",
       "</style>\n",
       "<table border=\"1\" class=\"dataframe\">\n",
       "  <thead>\n",
       "    <tr style=\"text-align: right;\">\n",
       "      <th></th>\n",
       "      <th>b.name</th>\n",
       "      <th>t.name</th>\n",
       "    </tr>\n",
       "  </thead>\n",
       "  <tbody>\n",
       "    <tr>\n",
       "      <th>0</th>\n",
       "      <td>jdbc</td>\n",
       "      <td>JdbcVisitRepositoryImpl</td>\n",
       "    </tr>\n",
       "    <tr>\n",
       "      <th>1</th>\n",
       "      <td>springdatajpa</td>\n",
       "      <td>SpringDataPetRepository</td>\n",
       "    </tr>\n",
       "    <tr>\n",
       "      <th>2</th>\n",
       "      <td>model</td>\n",
       "      <td>Visit</td>\n",
       "    </tr>\n",
       "    <tr>\n",
       "      <th>3</th>\n",
       "      <td>jdbc</td>\n",
       "      <td>JdbcPet</td>\n",
       "    </tr>\n",
       "    <tr>\n",
       "      <th>4</th>\n",
       "      <td>model</td>\n",
       "      <td>Specialty</td>\n",
       "    </tr>\n",
       "  </tbody>\n",
       "</table>\n",
       "</div>"
      ],
      "text/plain": [
       "          b.name                   t.name\n",
       "0  jdbc           JdbcVisitRepositoryImpl\n",
       "1  springdatajpa  SpringDataPetRepository\n",
       "2  model          Visit                  \n",
       "3  jdbc           JdbcPet                \n",
       "4  model          Specialty              "
      ]
     },
     "execution_count": 31,
     "metadata": {},
     "output_type": "execute_result"
    }
   ],
   "source": [
    "import pandas as pd\n",
    "\n",
    "query=\"\"\"\n",
    "MATCH (p:Project)-[:CONTAINS*]->(t:Type)\n",
    "WITH t, SPLIT(t.fqn, \".\")[-2] as buildingblock\n",
    "MERGE (b:Abb { name : buildingblock})\n",
    "MERGE (b)-[:CONSISTS_OF]->(t)\n",
    "RETURN b.name, t.name\n",
    "\"\"\"\n",
    "pd.DataFrame(graph.data(query)).head()"
   ]
  },
  {
   "cell_type": "code",
   "execution_count": 35,
   "metadata": {},
   "outputs": [
    {
     "data": {
      "text/html": [
       "<div>\n",
       "<style>\n",
       "    .dataframe thead tr:only-child th {\n",
       "        text-align: right;\n",
       "    }\n",
       "\n",
       "    .dataframe thead th {\n",
       "        text-align: left;\n",
       "    }\n",
       "\n",
       "    .dataframe tbody tr th {\n",
       "        vertical-align: top;\n",
       "    }\n",
       "</style>\n",
       "<table border=\"1\" class=\"dataframe\">\n",
       "  <thead>\n",
       "    <tr style=\"text-align: right;\">\n",
       "      <th></th>\n",
       "      <th>from</th>\n",
       "      <th>to</th>\n",
       "      <th>x_number</th>\n",
       "    </tr>\n",
       "  </thead>\n",
       "  <tbody>\n",
       "    <tr>\n",
       "      <th>0</th>\n",
       "      <td>Clinic</td>\n",
       "      <td>Visit</td>\n",
       "      <td>8</td>\n",
       "    </tr>\n",
       "    <tr>\n",
       "      <th>1</th>\n",
       "      <td>Clinic</td>\n",
       "      <td>Clinic</td>\n",
       "      <td>28</td>\n",
       "    </tr>\n",
       "    <tr>\n",
       "      <th>2</th>\n",
       "      <td>Visit</td>\n",
       "      <td>Visit</td>\n",
       "      <td>15</td>\n",
       "    </tr>\n",
       "    <tr>\n",
       "      <th>3</th>\n",
       "      <td>Clinic</td>\n",
       "      <td>Vet</td>\n",
       "      <td>5</td>\n",
       "    </tr>\n",
       "    <tr>\n",
       "      <th>4</th>\n",
       "      <td>Clinic</td>\n",
       "      <td>Specialty</td>\n",
       "      <td>2</td>\n",
       "    </tr>\n",
       "  </tbody>\n",
       "</table>\n",
       "</div>"
      ],
      "text/plain": [
       "     from         to  x_number\n",
       "0  Clinic  Visit      8       \n",
       "1  Clinic  Clinic     28      \n",
       "2  Visit   Visit      15      \n",
       "3  Clinic  Vet        5       \n",
       "4  Clinic  Specialty  2       "
      ]
     },
     "execution_count": 35,
     "metadata": {},
     "output_type": "execute_result"
    }
   ],
   "source": [
    "query=\"\"\"\n",
    "MATCH\n",
    "    (s1:Subdomain)<-[:BELONGS_TO]-\n",
    "    (type:Type)-[:DECLARES]->(m:Method)-[r:INVOKES]->(mdep:Method)<-[:DECLARES]-\n",
    "    (dependency:Type)-[:BELONGS_TO]->(s2:Subdomain)\n",
    "RETURN s1.name as from, s2.name as to, COUNT(r) as x_number\n",
    "\"\"\"\n",
    "df = pd.DataFrame(graph.data(query))\n",
    "df.head()"
   ]
  },
  {
   "cell_type": "code",
   "execution_count": 36,
   "metadata": {},
   "outputs": [
    {
     "data": {
      "text/plain": [
       "[['Clinic', 'Visit', 8],\n",
       " ['Clinic', 'Clinic', 28],\n",
       " ['Visit', 'Visit', 15],\n",
       " ['Clinic', 'Vet', 5],\n",
       " ['Clinic', 'Specialty', 2]]"
      ]
     },
     "execution_count": 36,
     "metadata": {},
     "output_type": "execute_result"
    }
   ],
   "source": [
    "import json\n",
    "json_data = df.to_dict(orient='split')['data']\n",
    "with open ( \"vis/chord_data.json\", mode='w') as json_file:\n",
    "    json_file.write(json.dumps(json_data, indent=3))\n",
    "json_data[:5]"
   ]
  },
  {
   "cell_type": "code",
   "execution_count": 39,
   "metadata": {},
   "outputs": [
    {
     "data": {
      "text/html": [
       "<div>\n",
       "<style>\n",
       "    .dataframe thead tr:only-child th {\n",
       "        text-align: right;\n",
       "    }\n",
       "\n",
       "    .dataframe thead th {\n",
       "        text-align: left;\n",
       "    }\n",
       "\n",
       "    .dataframe tbody tr th {\n",
       "        vertical-align: top;\n",
       "    }\n",
       "</style>\n",
       "<table border=\"1\" class=\"dataframe\">\n",
       "  <thead>\n",
       "    <tr style=\"text-align: right;\">\n",
       "      <th></th>\n",
       "      <th>from</th>\n",
       "      <th>m.name</th>\n",
       "      <th>mdep.name</th>\n",
       "      <th>r.lineNumber</th>\n",
       "      <th>to</th>\n",
       "    </tr>\n",
       "  </thead>\n",
       "  <tbody>\n",
       "    <tr>\n",
       "      <th>0</th>\n",
       "      <td>OwnerControllerTests</td>\n",
       "      <td>testProcessFindFormByLastName</td>\n",
       "      <td>findOwnerByLastName</td>\n",
       "      <td>113</td>\n",
       "      <td>ClinicService</td>\n",
       "    </tr>\n",
       "    <tr>\n",
       "      <th>1</th>\n",
       "      <td>OwnerControllerTests</td>\n",
       "      <td>testProcessFindFormSuccess</td>\n",
       "      <td>findOwnerByLastName</td>\n",
       "      <td>104</td>\n",
       "      <td>ClinicService</td>\n",
       "    </tr>\n",
       "    <tr>\n",
       "      <th>2</th>\n",
       "      <td>OwnerControllerTests</td>\n",
       "      <td>setup</td>\n",
       "      <td>findOwnerById</td>\n",
       "      <td>56</td>\n",
       "      <td>ClinicService</td>\n",
       "    </tr>\n",
       "    <tr>\n",
       "      <th>3</th>\n",
       "      <td>OwnerController</td>\n",
       "      <td>showOwner</td>\n",
       "      <td>findOwnerById</td>\n",
       "      <td>134</td>\n",
       "      <td>ClinicService</td>\n",
       "    </tr>\n",
       "    <tr>\n",
       "      <th>4</th>\n",
       "      <td>OwnerController</td>\n",
       "      <td>processUpdateOwnerForm</td>\n",
       "      <td>saveOwner</td>\n",
       "      <td>120</td>\n",
       "      <td>ClinicService</td>\n",
       "    </tr>\n",
       "    <tr>\n",
       "      <th>5</th>\n",
       "      <td>OwnerController</td>\n",
       "      <td>initUpdateOwnerForm</td>\n",
       "      <td>findOwnerById</td>\n",
       "      <td>109</td>\n",
       "      <td>ClinicService</td>\n",
       "    </tr>\n",
       "    <tr>\n",
       "      <th>6</th>\n",
       "      <td>OwnerController</td>\n",
       "      <td>processFindForm</td>\n",
       "      <td>findOwnerByLastName</td>\n",
       "      <td>91</td>\n",
       "      <td>ClinicService</td>\n",
       "    </tr>\n",
       "    <tr>\n",
       "      <th>7</th>\n",
       "      <td>OwnerController</td>\n",
       "      <td>processCreationForm</td>\n",
       "      <td>saveOwner</td>\n",
       "      <td>71</td>\n",
       "      <td>ClinicService</td>\n",
       "    </tr>\n",
       "  </tbody>\n",
       "</table>\n",
       "</div>"
      ],
      "text/plain": [
       "                   from                         m.name            mdep.name  r.lineNumber  \\\n",
       "0  OwnerControllerTests  testProcessFindFormByLastName  findOwnerByLastName  113            \n",
       "1  OwnerControllerTests  testProcessFindFormSuccess     findOwnerByLastName  104            \n",
       "2  OwnerControllerTests  setup                          findOwnerById        56             \n",
       "3  OwnerController       showOwner                      findOwnerById        134            \n",
       "4  OwnerController       processUpdateOwnerForm         saveOwner            120            \n",
       "5  OwnerController       initUpdateOwnerForm            findOwnerById        109            \n",
       "6  OwnerController       processFindForm                findOwnerByLastName  91             \n",
       "7  OwnerController       processCreationForm            saveOwner            71             \n",
       "\n",
       "              to  \n",
       "0  ClinicService  \n",
       "1  ClinicService  \n",
       "2  ClinicService  \n",
       "3  ClinicService  \n",
       "4  ClinicService  \n",
       "5  ClinicService  \n",
       "6  ClinicService  \n",
       "7  ClinicService  "
      ]
     },
     "execution_count": 39,
     "metadata": {},
     "output_type": "execute_result"
    }
   ],
   "source": [
    "query=\"\"\"\n",
    "MATCH\n",
    "    (s1:Subdomain { name: \"Owner\"})<-[:BELONGS_TO]-\n",
    "    (type:Type)-[:DECLARES]->(m:Method)-[r:INVOKES]->(mdep:Method)<-[:DECLARES]-\n",
    "    (dependency:Type)-[:BELONGS_TO]->(s2:Subdomain {name: \"Clinic\"})\n",
    "RETURN type.name as from, dependency.name as to, m.name, r.lineNumber, mdep.name\n",
    "\"\"\"\n",
    "df = pd.DataFrame(graph.data(query))\n",
    "df"
   ]
  }
 ],
 "metadata": {
  "kernelspec": {
   "display_name": "Python 3",
   "language": "python",
   "name": "python3"
  },
  "language_info": {
   "codemirror_mode": {
    "name": "ipython",
    "version": 3
   },
   "file_extension": ".py",
   "mimetype": "text/x-python",
   "name": "python",
   "nbconvert_exporter": "python",
   "pygments_lexer": "ipython3",
   "version": "3.6.1"
  }
 },
 "nbformat": 4,
 "nbformat_minor": 2
}
