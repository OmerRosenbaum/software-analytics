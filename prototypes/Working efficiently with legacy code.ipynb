{
 "cells": [
  {
   "cell_type": "code",
   "execution_count": 1,
   "metadata": {},
   "outputs": [
    {
     "data": {
      "text/plain": [
       "['MATCH ()-[u:USES]->()\\nDELETE u',\n",
       " '\\n\\nMATCH (c:Class {name : \"Reservation\"}),\\n(c)-[:DECLARES]->(m:Method),\\n(c)-[:DECLARES]->(f:Field),\\n(m)-[:READS|WRITES]->(f)\\nWHERE NOT (m:Constructor)\\nMERGE (m)-[:USES]->(f)\\nRETURN m,f',\n",
       " '\\n\\nMATCH (c:Class {name : \"Reservation\"}),\\n(c)-[:DECLARES]->(m:Method),\\n(c)-[:DECLARES]->(m2:Method),\\n(m)-[:INVOKES]->(m2:Method)\\nWHERE NOT (m:Constructor)\\nMERGE (m)-[:USES]->(m2)\\nRETURN m,m2',\n",
       " '\\n\\nMATCH (m)-[r:USES]->(f)\\nWITH m,COUNT(r) as weight\\nSET m.weight = weight\\nRETURN count(m)',\n",
       " '\\n\\nMATCH (m)-[r:USES]->(f)\\nWITH f,COUNT(r) as weight\\nSET f.weight = weight\\nRETURN count(f)',\n",
       " '\\n\\nMATCH (m)-[r:USES]->(f)\\nSET r.weight = f.weight\\nRETURN count(r)',\n",
       " \"\\n\\nCALL apoc.algo.community(25,null,'group','USES','OUTGOING','weight',10000)\",\n",
       " '\\n\\nMATCH (m:Method)-[:USES]->(f:Field)<-[:USES]-(m2:Method)\\nWHERE m.group <> m2.group \\nWITH m.group as newGroupId, m2.group as oldGroupId\\nMATCH (n:Method) WHERE n.group = oldGroupId\\nSET n.group = newGroupId + oldGroupId\\nRETURN DISTINCT(n.name), n.group',\n",
       " '\\n\\nMATCH (m:Method)-[:USES]->(f:Field)\\nRETURN m.group as newClass, m.name as withMethods, f.name as andFields\\nORDER BY m.group']"
      ]
     },
     "execution_count": 1,
     "metadata": {},
     "output_type": "execute_result"
    }
   ],
   "source": [
    "queries = []\n",
    "\n",
    "with open (r'C:\\Users\\Markus\\Desktop\\reservation_cypher.txt') as query_file:\n",
    "    queries = query_file.read().split(\";\")[:-1]\n",
    "    \n",
    "queries"
   ]
  },
  {
   "cell_type": "code",
   "execution_count": 2,
   "metadata": {},
   "outputs": [
    {
     "data": {
      "text/plain": [
       "['MATCH ()-[u:USES]->()\\nDELETE u',\n",
       " '\\n\\nMATCH (c:Class {name : \"Reservation\"}),\\n(c)-[:DECLARES]->(m:Method),\\n(c)-[:DECLARES]->(f:Field),\\n(m)-[:READS|WRITES]->(f)\\nWHERE NOT (m:Constructor)\\nMERGE (m)-[:USES]->(f)\\nRETURN m,f',\n",
       " '\\n\\nMATCH (c:Class {name : \"Reservation\"}),\\n(c)-[:DECLARES]->(m:Method),\\n(c)-[:DECLARES]->(m2:Method),\\n(m)-[:INVOKES]->(m2:Method)\\nWHERE NOT (m:Constructor)\\nMERGE (m)-[:USES]->(m2)\\nRETURN m,m2',\n",
       " '\\n\\nMATCH (m)-[r:USES]->(f)\\nWITH m,COUNT(r) as weight\\nSET m.weight = weight\\nRETURN count(m)',\n",
       " '\\n\\nMATCH (m)-[r:USES]->(f)\\nWITH f,COUNT(r) as weight\\nSET f.weight = weight\\nRETURN count(f)',\n",
       " '\\n\\nMATCH (m)-[r:USES]->(f)\\nSET r.weight = f.weight\\nRETURN count(r)',\n",
       " \"\\n\\nCALL apoc.algo.community(25,null,'group','USES','OUTGOING','weight',10000)\",\n",
       " '\\n\\nMATCH (m:Method)-[:USES]->(f:Field)<-[:USES]-(m2:Method)\\nWHERE m.group <> m2.group \\nWITH m.group as newGroupId, m2.group as oldGroupId\\nMATCH (n:Method) WHERE n.group = oldGroupId\\nSET n.group = newGroupId + oldGroupId\\nRETURN DISTINCT(n.name), n.group',\n",
       " '\\n\\nMATCH (m:Method)-[:USES]->(f:Field)\\nRETURN m.group as newClass, m.name as withMethods, f.name as andFields\\nORDER BY m.group']"
      ]
     },
     "execution_count": 2,
     "metadata": {},
     "output_type": "execute_result"
    }
   ],
   "source": [
    "#queries.pop(2)\n",
    "queries"
   ]
  },
  {
   "cell_type": "code",
   "execution_count": 3,
   "metadata": {},
   "outputs": [
    {
     "data": {
      "text/html": [
       "<div>\n",
       "<style scoped>\n",
       "    .dataframe tbody tr th:only-of-type {\n",
       "        vertical-align: middle;\n",
       "    }\n",
       "\n",
       "    .dataframe tbody tr th {\n",
       "        vertical-align: top;\n",
       "    }\n",
       "\n",
       "    .dataframe thead th {\n",
       "        text-align: right;\n",
       "    }\n",
       "</style>\n",
       "<table border=\"1\" class=\"dataframe\">\n",
       "  <thead>\n",
       "    <tr style=\"text-align: right;\">\n",
       "      <th></th>\n",
       "      <th>newClass</th>\n",
       "      <th>withMethods</th>\n",
       "      <th>andFields</th>\n",
       "    </tr>\n",
       "  </thead>\n",
       "  <tbody>\n",
       "    <tr>\n",
       "      <th>0</th>\n",
       "      <td>46</td>\n",
       "      <td>addFee</td>\n",
       "      <td>fees</td>\n",
       "    </tr>\n",
       "    <tr>\n",
       "      <th>1</th>\n",
       "      <td>46</td>\n",
       "      <td>getAdditionalFees</td>\n",
       "      <td>fees</td>\n",
       "    </tr>\n",
       "    <tr>\n",
       "      <th>2</th>\n",
       "      <td>85</td>\n",
       "      <td>getPrincipalFee</td>\n",
       "      <td>duration</td>\n",
       "    </tr>\n",
       "    <tr>\n",
       "      <th>3</th>\n",
       "      <td>85</td>\n",
       "      <td>extend</td>\n",
       "      <td>duration</td>\n",
       "    </tr>\n",
       "    <tr>\n",
       "      <th>4</th>\n",
       "      <td>85</td>\n",
       "      <td>getPrincipalFee</td>\n",
       "      <td>dailyRate</td>\n",
       "    </tr>\n",
       "    <tr>\n",
       "      <th>5</th>\n",
       "      <td>85</td>\n",
       "      <td>extendForWeek</td>\n",
       "      <td>dailyRate</td>\n",
       "    </tr>\n",
       "    <tr>\n",
       "      <th>6</th>\n",
       "      <td>85</td>\n",
       "      <td>extendForWeek</td>\n",
       "      <td>date</td>\n",
       "    </tr>\n",
       "    <tr>\n",
       "      <th>7</th>\n",
       "      <td>85</td>\n",
       "      <td>extendForWeek</td>\n",
       "      <td>customer</td>\n",
       "    </tr>\n",
       "    <tr>\n",
       "      <th>8</th>\n",
       "      <td>85</td>\n",
       "      <td>getPrincipalFee</td>\n",
       "      <td>customer</td>\n",
       "    </tr>\n",
       "  </tbody>\n",
       "</table>\n",
       "</div>"
      ],
      "text/plain": [
       "   newClass        withMethods  andFields\n",
       "0        46             addFee       fees\n",
       "1        46  getAdditionalFees       fees\n",
       "2        85    getPrincipalFee   duration\n",
       "3        85             extend   duration\n",
       "4        85    getPrincipalFee  dailyRate\n",
       "5        85      extendForWeek  dailyRate\n",
       "6        85      extendForWeek       date\n",
       "7        85      extendForWeek   customer\n",
       "8        85    getPrincipalFee   customer"
      ]
     },
     "execution_count": 3,
     "metadata": {},
     "output_type": "execute_result"
    }
   ],
   "source": [
    "import py2neo\n",
    "import pandas as pd\n",
    "\n",
    "df = None\n",
    "graph = py2neo.Graph()\n",
    "\n",
    "for query in queries:\n",
    "    df = pd.DataFrame(graph.run(query).data())\n",
    "    \n",
    "df[['newClass', 'withMethods', 'andFields']]"
   ]
  }
 ],
 "metadata": {
  "kernelspec": {
   "display_name": "Python 3",
   "language": "python",
   "name": "python3"
  },
  "language_info": {
   "codemirror_mode": {
    "name": "ipython",
    "version": 3
   },
   "file_extension": ".py",
   "mimetype": "text/x-python",
   "name": "python",
   "nbconvert_exporter": "python",
   "pygments_lexer": "ipython3",
   "version": "3.6.4"
  },
  "varInspector": {
   "cols": {
    "lenName": 16,
    "lenType": 16,
    "lenVar": 40
   },
   "kernels_config": {
    "python": {
     "delete_cmd_postfix": "",
     "delete_cmd_prefix": "del ",
     "library": "var_list.py",
     "varRefreshCmd": "print(var_dic_list())"
    },
    "r": {
     "delete_cmd_postfix": ") ",
     "delete_cmd_prefix": "rm(",
     "library": "var_list.r",
     "varRefreshCmd": "cat(var_dic_list()) "
    }
   },
   "types_to_exclude": [
    "module",
    "function",
    "builtin_function_or_method",
    "instance",
    "_Feature"
   ],
   "window_display": false
  }
 },
 "nbformat": 4,
 "nbformat_minor": 2
}
