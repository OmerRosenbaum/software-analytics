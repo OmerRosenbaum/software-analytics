{
 "cells": [
  {
   "cell_type": "code",
   "execution_count": 89,
   "metadata": {},
   "outputs": [
    {
     "data": {
      "text/html": [
       "<div>\n",
       "<style>\n",
       "    .dataframe thead tr:only-child th {\n",
       "        text-align: right;\n",
       "    }\n",
       "\n",
       "    .dataframe thead th {\n",
       "        text-align: left;\n",
       "    }\n",
       "\n",
       "    .dataframe tbody tr th {\n",
       "        vertical-align: top;\n",
       "    }\n",
       "</style>\n",
       "<table border=\"1\" class=\"dataframe\">\n",
       "  <thead>\n",
       "    <tr style=\"text-align: right;\">\n",
       "      <th></th>\n",
       "      <th>sha</th>\n",
       "      <th>timestamp</th>\n",
       "      <th>author</th>\n",
       "    </tr>\n",
       "  </thead>\n",
       "  <tbody>\n",
       "    <tr>\n",
       "      <th>0</th>\n",
       "      <td>a0fc4d3828f</td>\n",
       "      <td>1502119397</td>\n",
       "      <td>peter</td>\n",
       "    </tr>\n",
       "    <tr>\n",
       "      <th>1</th>\n",
       "      <td>dec0d165974</td>\n",
       "      <td>1502122966</td>\n",
       "      <td>Anna.Kozlova</td>\n",
       "    </tr>\n",
       "    <tr>\n",
       "      <th>2</th>\n",
       "      <td>f1fd8e4bc7a</td>\n",
       "      <td>1502122584</td>\n",
       "      <td>Egor.Ushakov</td>\n",
       "    </tr>\n",
       "    <tr>\n",
       "      <th>3</th>\n",
       "      <td>f965b772530</td>\n",
       "      <td>1502121596</td>\n",
       "      <td>Alexey Kudravtsev</td>\n",
       "    </tr>\n",
       "    <tr>\n",
       "      <th>4</th>\n",
       "      <td>62759679eb4</td>\n",
       "      <td>1502121252</td>\n",
       "      <td>Alexey Kudravtsev</td>\n",
       "    </tr>\n",
       "  </tbody>\n",
       "</table>\n",
       "</div>"
      ],
      "text/plain": [
       "           sha   timestamp             author\n",
       "0  a0fc4d3828f  1502119397              peter\n",
       "1  dec0d165974  1502122966       Anna.Kozlova\n",
       "2  f1fd8e4bc7a  1502122584       Egor.Ushakov\n",
       "3  f965b772530  1502121596  Alexey Kudravtsev\n",
       "4  62759679eb4  1502121252  Alexey Kudravtsev"
      ]
     },
     "execution_count": 89,
     "metadata": {},
     "output_type": "execute_result"
    }
   ],
   "source": [
    "import pandas as pd\n",
    "\n",
    "commits = pd.read_csv(\"../../intellij-community/git_oneline.log\")    \n",
    "commits.head()"
   ]
  },
  {
   "cell_type": "code",
   "execution_count": 92,
   "metadata": {},
   "outputs": [
    {
     "name": "stdout",
     "output_type": "stream",
     "text": [
      "<class 'pandas.core.frame.DataFrame'>\n",
      "RangeIndex: 228801 entries, 0 to 228800\n",
      "Data columns (total 4 columns):\n",
      "sha          228801 non-null object\n",
      "date         228801 non-null object\n",
      "timestamp    228801 non-null int64\n",
      "author       228801 non-null object\n",
      "dtypes: int64(1), object(3)\n",
      "memory usage: 7.0+ MB\n"
     ]
    }
   ],
   "source": [
    "commits_raw.info()"
   ]
  },
  {
   "cell_type": "code",
   "execution_count": 93,
   "metadata": {},
   "outputs": [
    {
     "data": {
      "text/plain": [
       "<matplotlib.axes._subplots.AxesSubplot at 0x252e3207128>"
      ]
     },
     "execution_count": 93,
     "metadata": {},
     "output_type": "execute_result"
    },
    {
     "data": {
      "image/png": "[encoded data removed]",
      "text/plain": [
       "<matplotlib.figure.Figure at 0x252e3201828>"
      ]
     },
     "metadata": {},
     "output_type": "display_data"
    }
   ],
   "source": [
    "commits['author'].value_counts().head(10).plot(kind='pie', figsize=(5,5))"
   ]
  },
  {
   "cell_type": "code",
   "execution_count": 94,
   "metadata": {},
   "outputs": [
    {
     "data": {
      "text/html": [
       "<div>\n",
       "<style>\n",
       "    .dataframe thead tr:only-child th {\n",
       "        text-align: right;\n",
       "    }\n",
       "\n",
       "    .dataframe thead th {\n",
       "        text-align: left;\n",
       "    }\n",
       "\n",
       "    .dataframe tbody tr th {\n",
       "        vertical-align: top;\n",
       "    }\n",
       "</style>\n",
       "<table border=\"1\" class=\"dataframe\">\n",
       "  <thead>\n",
       "    <tr style=\"text-align: right;\">\n",
       "      <th></th>\n",
       "      <th>sha</th>\n",
       "      <th>timestamp</th>\n",
       "      <th>author</th>\n",
       "    </tr>\n",
       "  </thead>\n",
       "  <tbody>\n",
       "    <tr>\n",
       "      <th>0</th>\n",
       "      <td>a0fc4d3828f</td>\n",
       "      <td>1502119397</td>\n",
       "      <td>peter</td>\n",
       "    </tr>\n",
       "    <tr>\n",
       "      <th>1</th>\n",
       "      <td>dec0d165974</td>\n",
       "      <td>1502122966</td>\n",
       "      <td>Anna.Kozlova</td>\n",
       "    </tr>\n",
       "    <tr>\n",
       "      <th>2</th>\n",
       "      <td>f1fd8e4bc7a</td>\n",
       "      <td>1502122584</td>\n",
       "      <td>Egor.Ushakov</td>\n",
       "    </tr>\n",
       "    <tr>\n",
       "      <th>3</th>\n",
       "      <td>f965b772530</td>\n",
       "      <td>1502121596</td>\n",
       "      <td>Alexey Kudravtsev</td>\n",
       "    </tr>\n",
       "    <tr>\n",
       "      <th>4</th>\n",
       "      <td>62759679eb4</td>\n",
       "      <td>1502121252</td>\n",
       "      <td>Alexey Kudravtsev</td>\n",
       "    </tr>\n",
       "  </tbody>\n",
       "</table>\n",
       "</div>"
      ],
      "text/plain": [
       "           sha   timestamp             author\n",
       "0  a0fc4d3828f  1502119397              peter\n",
       "1  dec0d165974  1502122966       Anna.Kozlova\n",
       "2  f1fd8e4bc7a  1502122584       Egor.Ushakov\n",
       "3  f965b772530  1502121596  Alexey Kudravtsev\n",
       "4  62759679eb4  1502121252  Alexey Kudravtsev"
      ]
     },
     "execution_count": 94,
     "metadata": {},
     "output_type": "execute_result"
    }
   ],
   "source": [
    "commits.head()"
   ]
  },
  {
   "cell_type": "code",
   "execution_count": 95,
   "metadata": {},
   "outputs": [
    {
     "data": {
      "text/html": [
       "<div>\n",
       "<style>\n",
       "    .dataframe thead tr:only-child th {\n",
       "        text-align: right;\n",
       "    }\n",
       "\n",
       "    .dataframe thead th {\n",
       "        text-align: left;\n",
       "    }\n",
       "\n",
       "    .dataframe tbody tr th {\n",
       "        vertical-align: top;\n",
       "    }\n",
       "</style>\n",
       "<table border=\"1\" class=\"dataframe\">\n",
       "  <thead>\n",
       "    <tr style=\"text-align: right;\">\n",
       "      <th></th>\n",
       "      <th>sha</th>\n",
       "      <th>timestamp</th>\n",
       "      <th>author</th>\n",
       "    </tr>\n",
       "    <tr>\n",
       "      <th>timestamp</th>\n",
       "      <th></th>\n",
       "      <th></th>\n",
       "      <th></th>\n",
       "    </tr>\n",
       "  </thead>\n",
       "  <tbody>\n",
       "    <tr>\n",
       "      <th>2017-08-07 15:23:17</th>\n",
       "      <td>a0fc4d3828f</td>\n",
       "      <td>1502119397</td>\n",
       "      <td>peter</td>\n",
       "    </tr>\n",
       "    <tr>\n",
       "      <th>2017-08-07 16:22:46</th>\n",
       "      <td>dec0d165974</td>\n",
       "      <td>1502122966</td>\n",
       "      <td>Anna.Kozlova</td>\n",
       "    </tr>\n",
       "    <tr>\n",
       "      <th>2017-08-07 16:16:24</th>\n",
       "      <td>f1fd8e4bc7a</td>\n",
       "      <td>1502122584</td>\n",
       "      <td>Egor.Ushakov</td>\n",
       "    </tr>\n",
       "    <tr>\n",
       "      <th>2017-08-07 15:59:56</th>\n",
       "      <td>f965b772530</td>\n",
       "      <td>1502121596</td>\n",
       "      <td>Alexey Kudravtsev</td>\n",
       "    </tr>\n",
       "    <tr>\n",
       "      <th>2017-08-07 15:54:12</th>\n",
       "      <td>62759679eb4</td>\n",
       "      <td>1502121252</td>\n",
       "      <td>Alexey Kudravtsev</td>\n",
       "    </tr>\n",
       "  </tbody>\n",
       "</table>\n",
       "</div>"
      ],
      "text/plain": [
       "                             sha   timestamp             author\n",
       "timestamp                                                      \n",
       "2017-08-07 15:23:17  a0fc4d3828f  1502119397              peter\n",
       "2017-08-07 16:22:46  dec0d165974  1502122966       Anna.Kozlova\n",
       "2017-08-07 16:16:24  f1fd8e4bc7a  1502122584       Egor.Ushakov\n",
       "2017-08-07 15:59:56  f965b772530  1502121596  Alexey Kudravtsev\n",
       "2017-08-07 15:54:12  62759679eb4  1502121252  Alexey Kudravtsev"
      ]
     },
     "execution_count": 95,
     "metadata": {},
     "output_type": "execute_result"
    }
   ],
   "source": [
    "commits = commits.set_index(pd.to_datetime(commits['timestamp'], unit=\"s\"))\n",
    "commits.head()"
   ]
  },
  {
   "cell_type": "code",
   "execution_count": 96,
   "metadata": {},
   "outputs": [
    {
     "data": {
      "text/html": [
       "<div>\n",
       "<style>\n",
       "    .dataframe thead tr:only-child th {\n",
       "        text-align: right;\n",
       "    }\n",
       "\n",
       "    .dataframe thead th {\n",
       "        text-align: left;\n",
       "    }\n",
       "\n",
       "    .dataframe tbody tr th {\n",
       "        vertical-align: top;\n",
       "    }\n",
       "</style>\n",
       "<table border=\"1\" class=\"dataframe\">\n",
       "  <thead>\n",
       "    <tr style=\"text-align: right;\">\n",
       "      <th></th>\n",
       "      <th>sha</th>\n",
       "      <th>timestamp</th>\n",
       "      <th>author</th>\n",
       "      <th>time</th>\n",
       "      <th>commits_cum</th>\n",
       "    </tr>\n",
       "    <tr>\n",
       "      <th>time</th>\n",
       "      <th></th>\n",
       "      <th></th>\n",
       "      <th></th>\n",
       "      <th></th>\n",
       "      <th></th>\n",
       "    </tr>\n",
       "  </thead>\n",
       "  <tbody>\n",
       "    <tr>\n",
       "      <th>2004-11-30</th>\n",
       "      <td>18</td>\n",
       "      <td>18</td>\n",
       "      <td>18</td>\n",
       "      <td>18</td>\n",
       "      <td>18</td>\n",
       "    </tr>\n",
       "    <tr>\n",
       "      <th>2004-12-31</th>\n",
       "      <td>29</td>\n",
       "      <td>29</td>\n",
       "      <td>29</td>\n",
       "      <td>29</td>\n",
       "      <td>47</td>\n",
       "    </tr>\n",
       "    <tr>\n",
       "      <th>2005-01-31</th>\n",
       "      <td>380</td>\n",
       "      <td>380</td>\n",
       "      <td>380</td>\n",
       "      <td>380</td>\n",
       "      <td>427</td>\n",
       "    </tr>\n",
       "    <tr>\n",
       "      <th>2005-02-28</th>\n",
       "      <td>595</td>\n",
       "      <td>595</td>\n",
       "      <td>595</td>\n",
       "      <td>595</td>\n",
       "      <td>1022</td>\n",
       "    </tr>\n",
       "    <tr>\n",
       "      <th>2005-03-31</th>\n",
       "      <td>664</td>\n",
       "      <td>664</td>\n",
       "      <td>664</td>\n",
       "      <td>664</td>\n",
       "      <td>1686</td>\n",
       "    </tr>\n",
       "    <tr>\n",
       "      <th>2005-04-30</th>\n",
       "      <td>601</td>\n",
       "      <td>601</td>\n",
       "      <td>601</td>\n",
       "      <td>601</td>\n",
       "      <td>2287</td>\n",
       "    </tr>\n",
       "    <tr>\n",
       "      <th>2005-05-31</th>\n",
       "      <td>669</td>\n",
       "      <td>669</td>\n",
       "      <td>669</td>\n",
       "      <td>669</td>\n",
       "      <td>2956</td>\n",
       "    </tr>\n",
       "    <tr>\n",
       "      <th>2005-06-30</th>\n",
       "      <td>1046</td>\n",
       "      <td>1046</td>\n",
       "      <td>1046</td>\n",
       "      <td>1046</td>\n",
       "      <td>4002</td>\n",
       "    </tr>\n",
       "    <tr>\n",
       "      <th>2005-07-31</th>\n",
       "      <td>1181</td>\n",
       "      <td>1181</td>\n",
       "      <td>1181</td>\n",
       "      <td>1181</td>\n",
       "      <td>5183</td>\n",
       "    </tr>\n",
       "    <tr>\n",
       "      <th>2005-08-31</th>\n",
       "      <td>428</td>\n",
       "      <td>428</td>\n",
       "      <td>428</td>\n",
       "      <td>428</td>\n",
       "      <td>5611</td>\n",
       "    </tr>\n",
       "    <tr>\n",
       "      <th>2005-09-30</th>\n",
       "      <td>362</td>\n",
       "      <td>362</td>\n",
       "      <td>362</td>\n",
       "      <td>362</td>\n",
       "      <td>5973</td>\n",
       "    </tr>\n",
       "    <tr>\n",
       "      <th>2005-10-31</th>\n",
       "      <td>403</td>\n",
       "      <td>403</td>\n",
       "      <td>403</td>\n",
       "      <td>403</td>\n",
       "      <td>6376</td>\n",
       "    </tr>\n",
       "    <tr>\n",
       "      <th>2005-11-30</th>\n",
       "      <td>594</td>\n",
       "      <td>594</td>\n",
       "      <td>594</td>\n",
       "      <td>594</td>\n",
       "      <td>6970</td>\n",
       "    </tr>\n",
       "    <tr>\n",
       "      <th>2005-12-31</th>\n",
       "      <td>526</td>\n",
       "      <td>526</td>\n",
       "      <td>526</td>\n",
       "      <td>526</td>\n",
       "      <td>7496</td>\n",
       "    </tr>\n",
       "    <tr>\n",
       "      <th>2006-01-31</th>\n",
       "      <td>744</td>\n",
       "      <td>744</td>\n",
       "      <td>744</td>\n",
       "      <td>744</td>\n",
       "      <td>8240</td>\n",
       "    </tr>\n",
       "    <tr>\n",
       "      <th>2006-02-28</th>\n",
       "      <td>661</td>\n",
       "      <td>661</td>\n",
       "      <td>661</td>\n",
       "      <td>661</td>\n",
       "      <td>8901</td>\n",
       "    </tr>\n",
       "    <tr>\n",
       "      <th>2006-03-31</th>\n",
       "      <td>706</td>\n",
       "      <td>706</td>\n",
       "      <td>706</td>\n",
       "      <td>706</td>\n",
       "      <td>9607</td>\n",
       "    </tr>\n",
       "    <tr>\n",
       "      <th>2006-04-30</th>\n",
       "      <td>741</td>\n",
       "      <td>741</td>\n",
       "      <td>741</td>\n",
       "      <td>741</td>\n",
       "      <td>10348</td>\n",
       "    </tr>\n",
       "    <tr>\n",
       "      <th>2006-05-31</th>\n",
       "      <td>738</td>\n",
       "      <td>738</td>\n",
       "      <td>738</td>\n",
       "      <td>738</td>\n",
       "      <td>11086</td>\n",
       "    </tr>\n",
       "    <tr>\n",
       "      <th>2006-06-30</th>\n",
       "      <td>846</td>\n",
       "      <td>846</td>\n",
       "      <td>846</td>\n",
       "      <td>846</td>\n",
       "      <td>11932</td>\n",
       "    </tr>\n",
       "    <tr>\n",
       "      <th>2006-07-31</th>\n",
       "      <td>1161</td>\n",
       "      <td>1161</td>\n",
       "      <td>1161</td>\n",
       "      <td>1161</td>\n",
       "      <td>13093</td>\n",
       "    </tr>\n",
       "    <tr>\n",
       "      <th>2006-08-31</th>\n",
       "      <td>683</td>\n",
       "      <td>683</td>\n",
       "      <td>683</td>\n",
       "      <td>683</td>\n",
       "      <td>13776</td>\n",
       "    </tr>\n",
       "    <tr>\n",
       "      <th>2006-09-30</th>\n",
       "      <td>919</td>\n",
       "      <td>919</td>\n",
       "      <td>919</td>\n",
       "      <td>919</td>\n",
       "      <td>14695</td>\n",
       "    </tr>\n",
       "    <tr>\n",
       "      <th>2006-10-31</th>\n",
       "      <td>752</td>\n",
       "      <td>752</td>\n",
       "      <td>752</td>\n",
       "      <td>752</td>\n",
       "      <td>15447</td>\n",
       "    </tr>\n",
       "    <tr>\n",
       "      <th>2006-11-30</th>\n",
       "      <td>597</td>\n",
       "      <td>597</td>\n",
       "      <td>597</td>\n",
       "      <td>597</td>\n",
       "      <td>16044</td>\n",
       "    </tr>\n",
       "    <tr>\n",
       "      <th>2006-12-31</th>\n",
       "      <td>524</td>\n",
       "      <td>524</td>\n",
       "      <td>524</td>\n",
       "      <td>524</td>\n",
       "      <td>16568</td>\n",
       "    </tr>\n",
       "    <tr>\n",
       "      <th>2007-01-31</th>\n",
       "      <td>690</td>\n",
       "      <td>690</td>\n",
       "      <td>690</td>\n",
       "      <td>690</td>\n",
       "      <td>17258</td>\n",
       "    </tr>\n",
       "    <tr>\n",
       "      <th>2007-02-28</th>\n",
       "      <td>684</td>\n",
       "      <td>684</td>\n",
       "      <td>684</td>\n",
       "      <td>684</td>\n",
       "      <td>17942</td>\n",
       "    </tr>\n",
       "    <tr>\n",
       "      <th>2007-03-31</th>\n",
       "      <td>962</td>\n",
       "      <td>962</td>\n",
       "      <td>962</td>\n",
       "      <td>962</td>\n",
       "      <td>18904</td>\n",
       "    </tr>\n",
       "    <tr>\n",
       "      <th>2007-04-30</th>\n",
       "      <td>796</td>\n",
       "      <td>796</td>\n",
       "      <td>796</td>\n",
       "      <td>796</td>\n",
       "      <td>19700</td>\n",
       "    </tr>\n",
       "    <tr>\n",
       "      <th>...</th>\n",
       "      <td>...</td>\n",
       "      <td>...</td>\n",
       "      <td>...</td>\n",
       "      <td>...</td>\n",
       "      <td>...</td>\n",
       "    </tr>\n",
       "    <tr>\n",
       "      <th>2015-03-31</th>\n",
       "      <td>2467</td>\n",
       "      <td>2467</td>\n",
       "      <td>2467</td>\n",
       "      <td>2467</td>\n",
       "      <td>165752</td>\n",
       "    </tr>\n",
       "    <tr>\n",
       "      <th>2015-04-30</th>\n",
       "      <td>1943</td>\n",
       "      <td>1943</td>\n",
       "      <td>1943</td>\n",
       "      <td>1943</td>\n",
       "      <td>167695</td>\n",
       "    </tr>\n",
       "    <tr>\n",
       "      <th>2015-05-31</th>\n",
       "      <td>1737</td>\n",
       "      <td>1737</td>\n",
       "      <td>1737</td>\n",
       "      <td>1737</td>\n",
       "      <td>169432</td>\n",
       "    </tr>\n",
       "    <tr>\n",
       "      <th>2015-06-30</th>\n",
       "      <td>1680</td>\n",
       "      <td>1680</td>\n",
       "      <td>1680</td>\n",
       "      <td>1680</td>\n",
       "      <td>171112</td>\n",
       "    </tr>\n",
       "    <tr>\n",
       "      <th>2015-07-31</th>\n",
       "      <td>1965</td>\n",
       "      <td>1965</td>\n",
       "      <td>1965</td>\n",
       "      <td>1965</td>\n",
       "      <td>173077</td>\n",
       "    </tr>\n",
       "    <tr>\n",
       "      <th>2015-08-31</th>\n",
       "      <td>2012</td>\n",
       "      <td>2012</td>\n",
       "      <td>2012</td>\n",
       "      <td>2012</td>\n",
       "      <td>175089</td>\n",
       "    </tr>\n",
       "    <tr>\n",
       "      <th>2015-09-30</th>\n",
       "      <td>2360</td>\n",
       "      <td>2360</td>\n",
       "      <td>2360</td>\n",
       "      <td>2360</td>\n",
       "      <td>177449</td>\n",
       "    </tr>\n",
       "    <tr>\n",
       "      <th>2015-10-31</th>\n",
       "      <td>3252</td>\n",
       "      <td>3252</td>\n",
       "      <td>3252</td>\n",
       "      <td>3252</td>\n",
       "      <td>180701</td>\n",
       "    </tr>\n",
       "    <tr>\n",
       "      <th>2015-11-30</th>\n",
       "      <td>2206</td>\n",
       "      <td>2206</td>\n",
       "      <td>2206</td>\n",
       "      <td>2206</td>\n",
       "      <td>182907</td>\n",
       "    </tr>\n",
       "    <tr>\n",
       "      <th>2015-12-31</th>\n",
       "      <td>1901</td>\n",
       "      <td>1901</td>\n",
       "      <td>1901</td>\n",
       "      <td>1901</td>\n",
       "      <td>184808</td>\n",
       "    </tr>\n",
       "    <tr>\n",
       "      <th>2016-01-31</th>\n",
       "      <td>1207</td>\n",
       "      <td>1207</td>\n",
       "      <td>1207</td>\n",
       "      <td>1207</td>\n",
       "      <td>186015</td>\n",
       "    </tr>\n",
       "    <tr>\n",
       "      <th>2016-02-29</th>\n",
       "      <td>2076</td>\n",
       "      <td>2076</td>\n",
       "      <td>2076</td>\n",
       "      <td>2076</td>\n",
       "      <td>188091</td>\n",
       "    </tr>\n",
       "    <tr>\n",
       "      <th>2016-03-31</th>\n",
       "      <td>2604</td>\n",
       "      <td>2604</td>\n",
       "      <td>2604</td>\n",
       "      <td>2604</td>\n",
       "      <td>190695</td>\n",
       "    </tr>\n",
       "    <tr>\n",
       "      <th>2016-04-30</th>\n",
       "      <td>2352</td>\n",
       "      <td>2352</td>\n",
       "      <td>2352</td>\n",
       "      <td>2352</td>\n",
       "      <td>193047</td>\n",
       "    </tr>\n",
       "    <tr>\n",
       "      <th>2016-05-31</th>\n",
       "      <td>2044</td>\n",
       "      <td>2044</td>\n",
       "      <td>2044</td>\n",
       "      <td>2044</td>\n",
       "      <td>195091</td>\n",
       "    </tr>\n",
       "    <tr>\n",
       "      <th>2016-06-30</th>\n",
       "      <td>2371</td>\n",
       "      <td>2371</td>\n",
       "      <td>2371</td>\n",
       "      <td>2371</td>\n",
       "      <td>197462</td>\n",
       "    </tr>\n",
       "    <tr>\n",
       "      <th>2016-07-31</th>\n",
       "      <td>2114</td>\n",
       "      <td>2114</td>\n",
       "      <td>2114</td>\n",
       "      <td>2114</td>\n",
       "      <td>199576</td>\n",
       "    </tr>\n",
       "    <tr>\n",
       "      <th>2016-08-31</th>\n",
       "      <td>2240</td>\n",
       "      <td>2240</td>\n",
       "      <td>2240</td>\n",
       "      <td>2240</td>\n",
       "      <td>201816</td>\n",
       "    </tr>\n",
       "    <tr>\n",
       "      <th>2016-09-30</th>\n",
       "      <td>2177</td>\n",
       "      <td>2177</td>\n",
       "      <td>2177</td>\n",
       "      <td>2177</td>\n",
       "      <td>203993</td>\n",
       "    </tr>\n",
       "    <tr>\n",
       "      <th>2016-10-31</th>\n",
       "      <td>3130</td>\n",
       "      <td>3130</td>\n",
       "      <td>3130</td>\n",
       "      <td>3130</td>\n",
       "      <td>207123</td>\n",
       "    </tr>\n",
       "    <tr>\n",
       "      <th>2016-11-30</th>\n",
       "      <td>2487</td>\n",
       "      <td>2487</td>\n",
       "      <td>2487</td>\n",
       "      <td>2487</td>\n",
       "      <td>209610</td>\n",
       "    </tr>\n",
       "    <tr>\n",
       "      <th>2016-12-31</th>\n",
       "      <td>2033</td>\n",
       "      <td>2033</td>\n",
       "      <td>2033</td>\n",
       "      <td>2033</td>\n",
       "      <td>211643</td>\n",
       "    </tr>\n",
       "    <tr>\n",
       "      <th>2017-01-31</th>\n",
       "      <td>1981</td>\n",
       "      <td>1981</td>\n",
       "      <td>1981</td>\n",
       "      <td>1981</td>\n",
       "      <td>213624</td>\n",
       "    </tr>\n",
       "    <tr>\n",
       "      <th>2017-02-28</th>\n",
       "      <td>2437</td>\n",
       "      <td>2437</td>\n",
       "      <td>2437</td>\n",
       "      <td>2437</td>\n",
       "      <td>216061</td>\n",
       "    </tr>\n",
       "    <tr>\n",
       "      <th>2017-03-31</th>\n",
       "      <td>3001</td>\n",
       "      <td>3001</td>\n",
       "      <td>3001</td>\n",
       "      <td>3001</td>\n",
       "      <td>219062</td>\n",
       "    </tr>\n",
       "    <tr>\n",
       "      <th>2017-04-30</th>\n",
       "      <td>2578</td>\n",
       "      <td>2578</td>\n",
       "      <td>2578</td>\n",
       "      <td>2578</td>\n",
       "      <td>221640</td>\n",
       "    </tr>\n",
       "    <tr>\n",
       "      <th>2017-05-31</th>\n",
       "      <td>2424</td>\n",
       "      <td>2424</td>\n",
       "      <td>2424</td>\n",
       "      <td>2424</td>\n",
       "      <td>224064</td>\n",
       "    </tr>\n",
       "    <tr>\n",
       "      <th>2017-06-30</th>\n",
       "      <td>2365</td>\n",
       "      <td>2365</td>\n",
       "      <td>2365</td>\n",
       "      <td>2365</td>\n",
       "      <td>226429</td>\n",
       "    </tr>\n",
       "    <tr>\n",
       "      <th>2017-07-31</th>\n",
       "      <td>2040</td>\n",
       "      <td>2040</td>\n",
       "      <td>2040</td>\n",
       "      <td>2040</td>\n",
       "      <td>228469</td>\n",
       "    </tr>\n",
       "    <tr>\n",
       "      <th>2017-08-31</th>\n",
       "      <td>332</td>\n",
       "      <td>332</td>\n",
       "      <td>332</td>\n",
       "      <td>332</td>\n",
       "      <td>228801</td>\n",
       "    </tr>\n",
       "  </tbody>\n",
       "</table>\n",
       "<p>154 rows × 5 columns</p>\n",
       "</div>"
      ],
      "text/plain": [
       "             sha  timestamp  author  time  commits_cum\n",
       "time                                                  \n",
       "2004-11-30    18         18      18    18           18\n",
       "2004-12-31    29         29      29    29           47\n",
       "2005-01-31   380        380     380   380          427\n",
       "2005-02-28   595        595     595   595         1022\n",
       "2005-03-31   664        664     664   664         1686\n",
       "2005-04-30   601        601     601   601         2287\n",
       "2005-05-31   669        669     669   669         2956\n",
       "2005-06-30  1046       1046    1046  1046         4002\n",
       "2005-07-31  1181       1181    1181  1181         5183\n",
       "2005-08-31   428        428     428   428         5611\n",
       "2005-09-30   362        362     362   362         5973\n",
       "2005-10-31   403        403     403   403         6376\n",
       "2005-11-30   594        594     594   594         6970\n",
       "2005-12-31   526        526     526   526         7496\n",
       "2006-01-31   744        744     744   744         8240\n",
       "2006-02-28   661        661     661   661         8901\n",
       "2006-03-31   706        706     706   706         9607\n",
       "2006-04-30   741        741     741   741        10348\n",
       "2006-05-31   738        738     738   738        11086\n",
       "2006-06-30   846        846     846   846        11932\n",
       "2006-07-31  1161       1161    1161  1161        13093\n",
       "2006-08-31   683        683     683   683        13776\n",
       "2006-09-30   919        919     919   919        14695\n",
       "2006-10-31   752        752     752   752        15447\n",
       "2006-11-30   597        597     597   597        16044\n",
       "2006-12-31   524        524     524   524        16568\n",
       "2007-01-31   690        690     690   690        17258\n",
       "2007-02-28   684        684     684   684        17942\n",
       "2007-03-31   962        962     962   962        18904\n",
       "2007-04-30   796        796     796   796        19700\n",
       "...          ...        ...     ...   ...          ...\n",
       "2015-03-31  2467       2467    2467  2467       165752\n",
       "2015-04-30  1943       1943    1943  1943       167695\n",
       "2015-05-31  1737       1737    1737  1737       169432\n",
       "2015-06-30  1680       1680    1680  1680       171112\n",
       "2015-07-31  1965       1965    1965  1965       173077\n",
       "2015-08-31  2012       2012    2012  2012       175089\n",
       "2015-09-30  2360       2360    2360  2360       177449\n",
       "2015-10-31  3252       3252    3252  3252       180701\n",
       "2015-11-30  2206       2206    2206  2206       182907\n",
       "2015-12-31  1901       1901    1901  1901       184808\n",
       "2016-01-31  1207       1207    1207  1207       186015\n",
       "2016-02-29  2076       2076    2076  2076       188091\n",
       "2016-03-31  2604       2604    2604  2604       190695\n",
       "2016-04-30  2352       2352    2352  2352       193047\n",
       "2016-05-31  2044       2044    2044  2044       195091\n",
       "2016-06-30  2371       2371    2371  2371       197462\n",
       "2016-07-31  2114       2114    2114  2114       199576\n",
       "2016-08-31  2240       2240    2240  2240       201816\n",
       "2016-09-30  2177       2177    2177  2177       203993\n",
       "2016-10-31  3130       3130    3130  3130       207123\n",
       "2016-11-30  2487       2487    2487  2487       209610\n",
       "2016-12-31  2033       2033    2033  2033       211643\n",
       "2017-01-31  1981       1981    1981  1981       213624\n",
       "2017-02-28  2437       2437    2437  2437       216061\n",
       "2017-03-31  3001       3001    3001  3001       219062\n",
       "2017-04-30  2578       2578    2578  2578       221640\n",
       "2017-05-31  2424       2424    2424  2424       224064\n",
       "2017-06-30  2365       2365    2365  2365       226429\n",
       "2017-07-31  2040       2040    2040  2040       228469\n",
       "2017-08-31   332        332     332   332       228801\n",
       "\n",
       "[154 rows x 5 columns]"
      ]
     },
     "execution_count": 96,
     "metadata": {},
     "output_type": "execute_result"
    }
   ],
   "source": [
    "commits_per_month['commits_cum'] = commits_per_month['author'].cumsum()\n",
    "commits_per_month"
   ]
  },
  {
   "cell_type": "code",
   "execution_count": 38,
   "metadata": {},
   "outputs": [
    {
     "data": {
      "text/plain": [
       "<matplotlib.axes._subplots.AxesSubplot at 0x24f4ce88a58>"
      ]
     },
     "execution_count": 38,
     "metadata": {},
     "output_type": "execute_result"
    },
    {
     "data": {
      "image/png": "[encoded data removed]",
      "text/plain": [
       "<matplotlib.figure.Figure at 0x24f4c7b50f0>"
      ]
     },
     "metadata": {},
     "output_type": "display_data"
    }
   ],
   "source": [
    "commits_per_month['commits_cum'].plot()"
   ]
  },
  {
   "cell_type": "code",
   "execution_count": null,
   "metadata": {
    "collapsed": true
   },
   "outputs": [],
   "source": [
    "commits."
   ]
  },
  {
   "cell_type": "code",
   "execution_count": 77,
   "metadata": {},
   "outputs": [
    {
     "ename": "TypeError",
     "evalue": "Empty 'DataFrame': no numeric data to plot",
     "output_type": "error",
     "traceback": [
      "\u001b[1;31m---------------------------------------------------------------------------\u001b[0m",
      "\u001b[1;31mTypeError\u001b[0m                                 Traceback (most recent call last)",
      "\u001b[1;32m<ipython-input-77-47f2e92a8e6f>\u001b[0m in \u001b[0;36m<module>\u001b[1;34m()\u001b[0m\n\u001b[0;32m      1\u001b[0m \u001b[0mget_ipython\u001b[0m\u001b[1;33m(\u001b[0m\u001b[1;33m)\u001b[0m\u001b[1;33m.\u001b[0m\u001b[0mmagic\u001b[0m\u001b[1;33m(\u001b[0m\u001b[1;34m'matplotlib inline'\u001b[0m\u001b[1;33m)\u001b[0m\u001b[1;33m\u001b[0m\u001b[0m\n\u001b[1;32m----> 2\u001b[1;33m \u001b[0mcommits_raw\u001b[0m\u001b[1;33m[\u001b[0m\u001b[1;34m'time'\u001b[0m\u001b[1;33m]\u001b[0m\u001b[1;33m.\u001b[0m\u001b[0mplot\u001b[0m\u001b[1;33m(\u001b[0m\u001b[1;33m)\u001b[0m\u001b[1;33m\u001b[0m\u001b[0m\n\u001b[0m",
      "\u001b[1;32mC:\\dev\\apps\\Anaconda3\\lib\\site-packages\\pandas\\plotting\\_core.py\u001b[0m in \u001b[0;36m__call__\u001b[1;34m(self, kind, ax, figsize, use_index, title, grid, legend, style, logx, logy, loglog, xticks, yticks, xlim, ylim, rot, fontsize, colormap, table, yerr, xerr, label, secondary_y, **kwds)\u001b[0m\n\u001b[0;32m   2444\u001b[0m                            \u001b[0mcolormap\u001b[0m\u001b[1;33m=\u001b[0m\u001b[0mcolormap\u001b[0m\u001b[1;33m,\u001b[0m \u001b[0mtable\u001b[0m\u001b[1;33m=\u001b[0m\u001b[0mtable\u001b[0m\u001b[1;33m,\u001b[0m \u001b[0myerr\u001b[0m\u001b[1;33m=\u001b[0m\u001b[0myerr\u001b[0m\u001b[1;33m,\u001b[0m\u001b[1;33m\u001b[0m\u001b[0m\n\u001b[0;32m   2445\u001b[0m                            \u001b[0mxerr\u001b[0m\u001b[1;33m=\u001b[0m\u001b[0mxerr\u001b[0m\u001b[1;33m,\u001b[0m \u001b[0mlabel\u001b[0m\u001b[1;33m=\u001b[0m\u001b[0mlabel\u001b[0m\u001b[1;33m,\u001b[0m \u001b[0msecondary_y\u001b[0m\u001b[1;33m=\u001b[0m\u001b[0msecondary_y\u001b[0m\u001b[1;33m,\u001b[0m\u001b[1;33m\u001b[0m\u001b[0m\n\u001b[1;32m-> 2446\u001b[1;33m                            **kwds)\n\u001b[0m\u001b[0;32m   2447\u001b[0m     \u001b[0m__call__\u001b[0m\u001b[1;33m.\u001b[0m\u001b[0m__doc__\u001b[0m \u001b[1;33m=\u001b[0m \u001b[0mplot_series\u001b[0m\u001b[1;33m.\u001b[0m\u001b[0m__doc__\u001b[0m\u001b[1;33m\u001b[0m\u001b[0m\n\u001b[0;32m   2448\u001b[0m \u001b[1;33m\u001b[0m\u001b[0m\n",
      "\u001b[1;32mC:\\dev\\apps\\Anaconda3\\lib\\site-packages\\pandas\\plotting\\_core.py\u001b[0m in \u001b[0;36mplot_series\u001b[1;34m(data, kind, ax, figsize, use_index, title, grid, legend, style, logx, logy, loglog, xticks, yticks, xlim, ylim, rot, fontsize, colormap, table, yerr, xerr, label, secondary_y, **kwds)\u001b[0m\n\u001b[0;32m   1886\u001b[0m                  \u001b[0myerr\u001b[0m\u001b[1;33m=\u001b[0m\u001b[0myerr\u001b[0m\u001b[1;33m,\u001b[0m \u001b[0mxerr\u001b[0m\u001b[1;33m=\u001b[0m\u001b[0mxerr\u001b[0m\u001b[1;33m,\u001b[0m\u001b[1;33m\u001b[0m\u001b[0m\n\u001b[0;32m   1887\u001b[0m                  \u001b[0mlabel\u001b[0m\u001b[1;33m=\u001b[0m\u001b[0mlabel\u001b[0m\u001b[1;33m,\u001b[0m \u001b[0msecondary_y\u001b[0m\u001b[1;33m=\u001b[0m\u001b[0msecondary_y\u001b[0m\u001b[1;33m,\u001b[0m\u001b[1;33m\u001b[0m\u001b[0m\n\u001b[1;32m-> 1888\u001b[1;33m                  **kwds)\n\u001b[0m\u001b[0;32m   1889\u001b[0m \u001b[1;33m\u001b[0m\u001b[0m\n\u001b[0;32m   1890\u001b[0m \u001b[1;33m\u001b[0m\u001b[0m\n",
      "\u001b[1;32mC:\\dev\\apps\\Anaconda3\\lib\\site-packages\\pandas\\plotting\\_core.py\u001b[0m in \u001b[0;36m_plot\u001b[1;34m(data, x, y, subplots, ax, kind, **kwds)\u001b[0m\n\u001b[0;32m   1680\u001b[0m         \u001b[0mplot_obj\u001b[0m \u001b[1;33m=\u001b[0m \u001b[0mklass\u001b[0m\u001b[1;33m(\u001b[0m\u001b[0mdata\u001b[0m\u001b[1;33m,\u001b[0m \u001b[0msubplots\u001b[0m\u001b[1;33m=\u001b[0m\u001b[0msubplots\u001b[0m\u001b[1;33m,\u001b[0m \u001b[0max\u001b[0m\u001b[1;33m=\u001b[0m\u001b[0max\u001b[0m\u001b[1;33m,\u001b[0m \u001b[0mkind\u001b[0m\u001b[1;33m=\u001b[0m\u001b[0mkind\u001b[0m\u001b[1;33m,\u001b[0m \u001b[1;33m**\u001b[0m\u001b[0mkwds\u001b[0m\u001b[1;33m)\u001b[0m\u001b[1;33m\u001b[0m\u001b[0m\n\u001b[0;32m   1681\u001b[0m \u001b[1;33m\u001b[0m\u001b[0m\n\u001b[1;32m-> 1682\u001b[1;33m     \u001b[0mplot_obj\u001b[0m\u001b[1;33m.\u001b[0m\u001b[0mgenerate\u001b[0m\u001b[1;33m(\u001b[0m\u001b[1;33m)\u001b[0m\u001b[1;33m\u001b[0m\u001b[0m\n\u001b[0m\u001b[0;32m   1683\u001b[0m     \u001b[0mplot_obj\u001b[0m\u001b[1;33m.\u001b[0m\u001b[0mdraw\u001b[0m\u001b[1;33m(\u001b[0m\u001b[1;33m)\u001b[0m\u001b[1;33m\u001b[0m\u001b[0m\n\u001b[0;32m   1684\u001b[0m     \u001b[1;32mreturn\u001b[0m \u001b[0mplot_obj\u001b[0m\u001b[1;33m.\u001b[0m\u001b[0mresult\u001b[0m\u001b[1;33m\u001b[0m\u001b[0m\n",
      "\u001b[1;32mC:\\dev\\apps\\Anaconda3\\lib\\site-packages\\pandas\\plotting\\_core.py\u001b[0m in \u001b[0;36mgenerate\u001b[1;34m(self)\u001b[0m\n\u001b[0;32m    234\u001b[0m     \u001b[1;32mdef\u001b[0m \u001b[0mgenerate\u001b[0m\u001b[1;33m(\u001b[0m\u001b[0mself\u001b[0m\u001b[1;33m)\u001b[0m\u001b[1;33m:\u001b[0m\u001b[1;33m\u001b[0m\u001b[0m\n\u001b[0;32m    235\u001b[0m         \u001b[0mself\u001b[0m\u001b[1;33m.\u001b[0m\u001b[0m_args_adjust\u001b[0m\u001b[1;33m(\u001b[0m\u001b[1;33m)\u001b[0m\u001b[1;33m\u001b[0m\u001b[0m\n\u001b[1;32m--> 236\u001b[1;33m         \u001b[0mself\u001b[0m\u001b[1;33m.\u001b[0m\u001b[0m_compute_plot_data\u001b[0m\u001b[1;33m(\u001b[0m\u001b[1;33m)\u001b[0m\u001b[1;33m\u001b[0m\u001b[0m\n\u001b[0m\u001b[0;32m    237\u001b[0m         \u001b[0mself\u001b[0m\u001b[1;33m.\u001b[0m\u001b[0m_setup_subplots\u001b[0m\u001b[1;33m(\u001b[0m\u001b[1;33m)\u001b[0m\u001b[1;33m\u001b[0m\u001b[0m\n\u001b[0;32m    238\u001b[0m         \u001b[0mself\u001b[0m\u001b[1;33m.\u001b[0m\u001b[0m_make_plot\u001b[0m\u001b[1;33m(\u001b[0m\u001b[1;33m)\u001b[0m\u001b[1;33m\u001b[0m\u001b[0m\n",
      "\u001b[1;32mC:\\dev\\apps\\Anaconda3\\lib\\site-packages\\pandas\\plotting\\_core.py\u001b[0m in \u001b[0;36m_compute_plot_data\u001b[1;34m(self)\u001b[0m\n\u001b[0;32m    343\u001b[0m         \u001b[1;32mif\u001b[0m \u001b[0mis_empty\u001b[0m\u001b[1;33m:\u001b[0m\u001b[1;33m\u001b[0m\u001b[0m\n\u001b[0;32m    344\u001b[0m             raise TypeError('Empty {0!r}: no numeric data to '\n\u001b[1;32m--> 345\u001b[1;33m                             'plot'.format(numeric_data.__class__.__name__))\n\u001b[0m\u001b[0;32m    346\u001b[0m \u001b[1;33m\u001b[0m\u001b[0m\n\u001b[0;32m    347\u001b[0m         \u001b[0mself\u001b[0m\u001b[1;33m.\u001b[0m\u001b[0mdata\u001b[0m \u001b[1;33m=\u001b[0m \u001b[0mnumeric_data\u001b[0m\u001b[1;33m\u001b[0m\u001b[0m\n",
      "\u001b[1;31mTypeError\u001b[0m: Empty 'DataFrame': no numeric data to plot"
     ]
    }
   ],
   "source": [
    "%matplotlib inline\n",
    "commits_raw['time'].plot()"
   ]
  },
  {
   "cell_type": "code",
   "execution_count": 73,
   "metadata": {},
   "outputs": [
    {
     "data": {
      "text/plain": [
       "dtype('int64')"
      ]
     },
     "execution_count": 73,
     "metadata": {},
     "output_type": "execute_result"
    }
   ],
   "source": [
    "commits_raw['unix'].dtypes"
   ]
  },
  {
   "cell_type": "code",
   "execution_count": 38,
   "metadata": {},
   "outputs": [
    {
     "data": {
      "text/plain": [
       "sha                  object\n",
       "date                 object\n",
       "timestamp             int64\n",
       "author               object\n",
       "time         datetime64[ns]\n",
       "dtype: object"
      ]
     },
     "execution_count": 38,
     "metadata": {},
     "output_type": "execute_result"
    }
   ],
   "source": [
    "commits_raw['time'] = pd.to_datetime(commits_raw['timestamp'])\n",
    "commits_raw.dtypes"
   ]
  },
  {
   "cell_type": "code",
   "execution_count": null,
   "metadata": {
    "collapsed": true
   },
   "outputs": [],
   "source": [
    "commits_raw.head()"
   ]
  },
  {
   "cell_type": "code",
   "execution_count": null,
   "metadata": {
    "collapsed": true
   },
   "outputs": [],
   "source": [
    "commits_raw"
   ]
  },
  {
   "cell_type": "code",
   "execution_count": 1,
   "metadata": {},
   "outputs": [
    {
     "data": {
      "text/plain": [
       "'#a0fc4d3828f#Mon Aug 7 17:23:17 2017 +0200#peter\\n3\\t9\\tjava/java-analysis-impl/src/com/intellij/codeIn'"
      ]
     },
     "execution_count": 1,
     "metadata": {},
     "output_type": "execute_result"
    }
   ],
   "source": [
    "import git \n",
    "\n",
    "GIT_LOG_FILE = r'C:/dev/repos/intellij-community/'\n",
    "repo = git.Repo(GIT_LOG_FILE, odbt=git.GitCmdObjectDB)\n",
    "g = repo.git\n",
    "log = g.log('--all', '--numstat', '--no-renames', '--pretty=format:#%h#%ad#%aN')\n",
    "log[0:100]"
   ]
  },
  {
   "cell_type": "markdown",
   "metadata": {},
   "source": [
    "After this, we have to tell Git which information we want. We can do this via the <tt>pretty-format</tt> option. \n",
    "\n",
    "For each commit, we choose to create a header line with the following commit info (by using <tt>--pretty=format:'--%h--%ad--%aN'</tt>), which gives us the following output:\n",
    "<pre>\n",
    "--fa1ca6f--Thu Dec 22 08:04:18 2016 +0100--feststelltaste\n",
    "</pre>\n",
    "It contains the SHA key, the timestamp as well as the author's name of the commit, separated by a character that isn't certaninly in these information<tt>--</tt>. My favorite separator for this is <tt>\\u0012</tt>"
   ]
  },
  {
   "cell_type": "markdown",
   "metadata": {},
   "source": [
    "We also want to have some details about the modifications of each file per commit. This is why we use the <tt>--numstat</tt> flag.\n",
    "\n"
   ]
  },
  {
   "cell_type": "markdown",
   "metadata": {},
   "source": [
    "Together with the <tt>--all</tt> flag to get all commits and the <tt>--no-renames</tt> flag to avoid commits that only rename files, we retrieve all the needed information directly via Git."
   ]
  },
  {
   "cell_type": "markdown",
   "metadata": {},
   "source": [
    "For each other row, we got some statistics about the modified files:\n",
    "<pre>\n",
    "2\t0\tsrc/main/asciidoc/appendices/bibliography.adoc\n",
    "</pre>\n",
    "\n",
    "It contains the number of lines inserted, the number of lines deleted and the relative path of the file. With a little trick and a little bit of data wrangling, we can read that information into a nicely structured DataFrame."
   ]
  },
  {
   "cell_type": "markdown",
   "metadata": {
    "nbpresent": {
     "id": "0bd50158-8902-4051-ac36-6e5f4e708b83"
    }
   },
   "source": [
    "\n",
    "\n",
    "The first entries of that file look something like this:"
   ]
  },
  {
   "cell_type": "markdown",
   "metadata": {
    "nbpresent": {
     "id": "5aee8b0f-d3e8-46d7-a680-0d6ff1966976"
    }
   },
   "source": [
    "\n",
    "\n",
    "\n",
    "Let's get started!"
   ]
  },
  {
   "cell_type": "markdown",
   "metadata": {
    "nbpresent": {
     "id": "3976cf03-5f93-4093-8ca4-fabaf7a85a83"
    }
   },
   "source": [
    "# Import the data"
   ]
  },
  {
   "cell_type": "markdown",
   "metadata": {
    "nbpresent": {
     "id": "5614c8bf-36b0-4371-bf78-b362561cfba3"
    }
   },
   "source": [
    "First, I'll show you my approach on how to read nearly everything into a <tt>DataFrame</tt>. The key is to use Pandas' <tt>read_csv</tt> for reading \"non-character separated values\". How to do that? We simply choose a separator that doesn't occur in the file that we want to read. My favorite character for this is the \"DEVICE CONTROL TWO\" character U+0012. I haven't encountered a situation yet where this character was included in a data set.\n",
    "\n",
    "We just read our <tt>git.log</tt> file without any headers (because there are none) and give the only column a nice name."
   ]
  },
  {
   "cell_type": "code",
   "execution_count": 3,
   "metadata": {
    "nbpresent": {
     "id": "b38ec597-d6b6-4b10-ba27-709b9415b124"
    }
   },
   "outputs": [
    {
     "data": {
      "text/html": [
       "<div>\n",
       "<style>\n",
       "    .dataframe thead tr:only-child th {\n",
       "        text-align: right;\n",
       "    }\n",
       "\n",
       "    .dataframe thead th {\n",
       "        text-align: left;\n",
       "    }\n",
       "\n",
       "    .dataframe tbody tr th {\n",
       "        vertical-align: top;\n",
       "    }\n",
       "</style>\n",
       "<table border=\"1\" class=\"dataframe\">\n",
       "  <thead>\n",
       "    <tr style=\"text-align: right;\">\n",
       "      <th></th>\n",
       "      <th>file_stats</th>\n",
       "      <th>sha</th>\n",
       "      <th>date</th>\n",
       "      <th>author</th>\n",
       "    </tr>\n",
       "  </thead>\n",
       "  <tbody>\n",
       "    <tr>\n",
       "      <th>0</th>\n",
       "      <td>NaN</td>\n",
       "      <td>a0fc4d3828f</td>\n",
       "      <td>Mon Aug 7 17:23:17 2017 +0200</td>\n",
       "      <td>peter</td>\n",
       "    </tr>\n",
       "    <tr>\n",
       "      <th>1</th>\n",
       "      <td>3\\t9\\tjava/java-analysis-impl/src/com/intellij...</td>\n",
       "      <td>NaN</td>\n",
       "      <td>NaN</td>\n",
       "      <td>NaN</td>\n",
       "    </tr>\n",
       "    <tr>\n",
       "      <th>2</th>\n",
       "      <td>17\\t0\\tjava/java-tests/testData/inspection/nul...</td>\n",
       "      <td>NaN</td>\n",
       "      <td>NaN</td>\n",
       "      <td>NaN</td>\n",
       "    </tr>\n",
       "    <tr>\n",
       "      <th>3</th>\n",
       "      <td>18\\t0\\tjava/java-tests/testData/inspection/nul...</td>\n",
       "      <td>NaN</td>\n",
       "      <td>NaN</td>\n",
       "      <td>NaN</td>\n",
       "    </tr>\n",
       "    <tr>\n",
       "      <th>4</th>\n",
       "      <td>6\\t0\\tjava/java-tests/testSrc/com/intellij/jav...</td>\n",
       "      <td>NaN</td>\n",
       "      <td>NaN</td>\n",
       "      <td>NaN</td>\n",
       "    </tr>\n",
       "  </tbody>\n",
       "</table>\n",
       "</div>"
      ],
      "text/plain": [
       "                                          file_stats          sha  \\\n",
       "0                                                NaN  a0fc4d3828f   \n",
       "1  3\\t9\\tjava/java-analysis-impl/src/com/intellij...          NaN   \n",
       "2  17\\t0\\tjava/java-tests/testData/inspection/nul...          NaN   \n",
       "3  18\\t0\\tjava/java-tests/testData/inspection/nul...          NaN   \n",
       "4  6\\t0\\tjava/java-tests/testSrc/com/intellij/jav...          NaN   \n",
       "\n",
       "                            date author  \n",
       "0  Mon Aug 7 17:23:17 2017 +0200  peter  \n",
       "1                            NaN    NaN  \n",
       "2                            NaN    NaN  \n",
       "3                            NaN    NaN  \n",
       "4                            NaN    NaN  "
      ]
     },
     "execution_count": 3,
     "metadata": {},
     "output_type": "execute_result"
    }
   ],
   "source": [
    "import pandas as pd\n",
    "from io import StringIO\n",
    "\n",
    "commits_raw = pd.read_csv(StringIO(log), \n",
    "    sep=\"#\",\n",
    "    header=None,\n",
    "    names=['file_stats','sha', 'date', 'author'])\n",
    "commits_raw.head()    "
   ]
  },
  {
   "cell_type": "markdown",
   "metadata": {
    "nbpresent": {
     "id": "0d4414c2-99ba-42b6-9968-8d9f30c260af"
    }
   },
   "source": [
    "# Data Wrangling"
   ]
  },
  {
   "cell_type": "markdown",
   "metadata": {
    "nbpresent": {
     "id": "ad927882-c62b-4461-991c-0cb43c38c09b"
    }
   },
   "source": [
    "OK, but now we have a <strike>problem</strike> data wrangling challenge. We have the commit info as well as the statistic for the modified file in one column, but they don't belong together. What we want is to have the commit info along with the file statistics in separate columns to get some serious analysis started."
   ]
  },
  {
   "cell_type": "markdown",
   "metadata": {
    "nbpresent": {
     "id": "9a844847-3efc-4812-aabc-7c0867c25321"
    }
   },
   "source": [
    "# Commit info\n",
    "Let's treat the commit info first. Luckily, we set some kind of anchor or marker to identify the commit info: Each commit info starts with a <tt>--</tt>. So let's extract all the commit info from the original <tt>commits</tt> <tt>DataFrame</tt>."
   ]
  },
  {
   "cell_type": "code",
   "execution_count": 5,
   "metadata": {
    "nbpresent": {
     "id": "e34097f6-1626-49ba-bb93-b5b2dfb20d8c"
    }
   },
   "outputs": [
    {
     "data": {
      "text/html": [
       "<div>\n",
       "<style>\n",
       "    .dataframe thead tr:only-child th {\n",
       "        text-align: right;\n",
       "    }\n",
       "\n",
       "    .dataframe thead th {\n",
       "        text-align: left;\n",
       "    }\n",
       "\n",
       "    .dataframe tbody tr th {\n",
       "        vertical-align: top;\n",
       "    }\n",
       "</style>\n",
       "<table border=\"1\" class=\"dataframe\">\n",
       "  <thead>\n",
       "    <tr style=\"text-align: right;\">\n",
       "      <th></th>\n",
       "      <th>sha</th>\n",
       "      <th>date</th>\n",
       "      <th>author</th>\n",
       "    </tr>\n",
       "  </thead>\n",
       "  <tbody>\n",
       "    <tr>\n",
       "      <th>0</th>\n",
       "      <td>a0fc4d3828f</td>\n",
       "      <td>Mon Aug 7 17:23:17 2017 +0200</td>\n",
       "      <td>peter</td>\n",
       "    </tr>\n",
       "    <tr>\n",
       "      <th>1</th>\n",
       "      <td>a0fc4d3828f</td>\n",
       "      <td>Mon Aug 7 17:23:17 2017 +0200</td>\n",
       "      <td>peter</td>\n",
       "    </tr>\n",
       "    <tr>\n",
       "      <th>2</th>\n",
       "      <td>a0fc4d3828f</td>\n",
       "      <td>Mon Aug 7 17:23:17 2017 +0200</td>\n",
       "      <td>peter</td>\n",
       "    </tr>\n",
       "    <tr>\n",
       "      <th>3</th>\n",
       "      <td>a0fc4d3828f</td>\n",
       "      <td>Mon Aug 7 17:23:17 2017 +0200</td>\n",
       "      <td>peter</td>\n",
       "    </tr>\n",
       "    <tr>\n",
       "      <th>4</th>\n",
       "      <td>a0fc4d3828f</td>\n",
       "      <td>Mon Aug 7 17:23:17 2017 +0200</td>\n",
       "      <td>peter</td>\n",
       "    </tr>\n",
       "  </tbody>\n",
       "</table>\n",
       "</div>"
      ],
      "text/plain": [
       "           sha                           date author\n",
       "0  a0fc4d3828f  Mon Aug 7 17:23:17 2017 +0200  peter\n",
       "1  a0fc4d3828f  Mon Aug 7 17:23:17 2017 +0200  peter\n",
       "2  a0fc4d3828f  Mon Aug 7 17:23:17 2017 +0200  peter\n",
       "3  a0fc4d3828f  Mon Aug 7 17:23:17 2017 +0200  peter\n",
       "4  a0fc4d3828f  Mon Aug 7 17:23:17 2017 +0200  peter"
      ]
     },
     "execution_count": 5,
     "metadata": {},
     "output_type": "execute_result"
    }
   ],
   "source": [
    "commit_metadata = commits_raw[['sha', 'date', 'author']].fillna(method='ffill')\n",
    "commit_metadata.head(5)"
   ]
  },
  {
   "cell_type": "markdown",
   "metadata": {
    "nbpresent": {
     "id": "3363bbf6-f66e-4b19-a1e0-8b35404eead4"
    }
   },
   "source": [
    "With this, we can focus on extracting the information of a commit info row. The next command could be looking a little frightening, but don't worry. We go through it step by step."
   ]
  },
  {
   "cell_type": "code",
   "execution_count": 6,
   "metadata": {
    "nbpresent": {
     "id": "577cb8ae-fdd7-4835-93c0-3d52c7e7fa6d"
    }
   },
   "outputs": [
    {
     "data": {
      "text/html": [
       "<div>\n",
       "<style>\n",
       "    .dataframe thead tr:only-child th {\n",
       "        text-align: right;\n",
       "    }\n",
       "\n",
       "    .dataframe thead th {\n",
       "        text-align: left;\n",
       "    }\n",
       "\n",
       "    .dataframe tbody tr th {\n",
       "        vertical-align: top;\n",
       "    }\n",
       "</style>\n",
       "<table border=\"1\" class=\"dataframe\">\n",
       "  <thead>\n",
       "    <tr style=\"text-align: right;\">\n",
       "      <th></th>\n",
       "      <th>additions</th>\n",
       "      <th>deletions</th>\n",
       "      <th>filename</th>\n",
       "    </tr>\n",
       "  </thead>\n",
       "  <tbody>\n",
       "    <tr>\n",
       "      <th>1</th>\n",
       "      <td>3</td>\n",
       "      <td>9</td>\n",
       "      <td>java/java-analysis-impl/src/com/intellij/codeI...</td>\n",
       "    </tr>\n",
       "    <tr>\n",
       "      <th>2</th>\n",
       "      <td>17</td>\n",
       "      <td>0</td>\n",
       "      <td>java/java-tests/testData/inspection/nullablePr...</td>\n",
       "    </tr>\n",
       "    <tr>\n",
       "      <th>3</th>\n",
       "      <td>18</td>\n",
       "      <td>0</td>\n",
       "      <td>java/java-tests/testData/inspection/nullablePr...</td>\n",
       "    </tr>\n",
       "    <tr>\n",
       "      <th>4</th>\n",
       "      <td>6</td>\n",
       "      <td>0</td>\n",
       "      <td>java/java-tests/testSrc/com/intellij/java/code...</td>\n",
       "    </tr>\n",
       "    <tr>\n",
       "      <th>6</th>\n",
       "      <td>3</td>\n",
       "      <td>3</td>\n",
       "      <td>java/java-psi-impl/src/com/intellij/psi/scope/...</td>\n",
       "    </tr>\n",
       "  </tbody>\n",
       "</table>\n",
       "</div>"
      ],
      "text/plain": [
       "  additions deletions                                           filename\n",
       "1         3         9  java/java-analysis-impl/src/com/intellij/codeI...\n",
       "2        17         0  java/java-tests/testData/inspection/nullablePr...\n",
       "3        18         0  java/java-tests/testData/inspection/nullablePr...\n",
       "4         6         0  java/java-tests/testSrc/com/intellij/java/code...\n",
       "6         3         3  java/java-psi-impl/src/com/intellij/psi/scope/..."
      ]
     },
     "execution_count": 6,
     "metadata": {},
     "output_type": "execute_result"
    }
   ],
   "source": [
    "file_info = commits_raw['file_stats'].dropna().str.split(\"\\t\", expand=True)\n",
    "file_info.columns = ['additions', \"deletions\", \"filename\"]\n",
    "file_info.head()"
   ]
  },
  {
   "cell_type": "code",
   "execution_count": 7,
   "metadata": {},
   "outputs": [
    {
     "data": {
      "text/plain": [
       "additions    float64\n",
       "deletions    float64\n",
       "filename      object\n",
       "dtype: object"
      ]
     },
     "execution_count": 7,
     "metadata": {},
     "output_type": "execute_result"
    }
   ],
   "source": [
    "file_info['additions'] = pd.to_numeric(file_info['additions'], errors='coerce')\n",
    "file_info['deletions'] = pd.to_numeric(file_info['deletions'], errors='coerce')\n",
    "file_info.dtypes"
   ]
  },
  {
   "cell_type": "code",
   "execution_count": 8,
   "metadata": {},
   "outputs": [
    {
     "data": {
      "text/html": [
       "<div>\n",
       "<style>\n",
       "    .dataframe thead tr:only-child th {\n",
       "        text-align: right;\n",
       "    }\n",
       "\n",
       "    .dataframe thead th {\n",
       "        text-align: left;\n",
       "    }\n",
       "\n",
       "    .dataframe tbody tr th {\n",
       "        vertical-align: top;\n",
       "    }\n",
       "</style>\n",
       "<table border=\"1\" class=\"dataframe\">\n",
       "  <thead>\n",
       "    <tr style=\"text-align: right;\">\n",
       "      <th></th>\n",
       "      <th>sha</th>\n",
       "      <th>date</th>\n",
       "      <th>author</th>\n",
       "      <th>additions</th>\n",
       "      <th>deletions</th>\n",
       "      <th>filename</th>\n",
       "    </tr>\n",
       "  </thead>\n",
       "  <tbody>\n",
       "    <tr>\n",
       "      <th>1</th>\n",
       "      <td>a0fc4d3828f</td>\n",
       "      <td>Mon Aug 7 17:23:17 2017 +0200</td>\n",
       "      <td>peter</td>\n",
       "      <td>3.0</td>\n",
       "      <td>9.0</td>\n",
       "      <td>java/java-analysis-impl/src/com/intellij/codeI...</td>\n",
       "    </tr>\n",
       "    <tr>\n",
       "      <th>2</th>\n",
       "      <td>a0fc4d3828f</td>\n",
       "      <td>Mon Aug 7 17:23:17 2017 +0200</td>\n",
       "      <td>peter</td>\n",
       "      <td>17.0</td>\n",
       "      <td>0.0</td>\n",
       "      <td>java/java-tests/testData/inspection/nullablePr...</td>\n",
       "    </tr>\n",
       "    <tr>\n",
       "      <th>3</th>\n",
       "      <td>a0fc4d3828f</td>\n",
       "      <td>Mon Aug 7 17:23:17 2017 +0200</td>\n",
       "      <td>peter</td>\n",
       "      <td>18.0</td>\n",
       "      <td>0.0</td>\n",
       "      <td>java/java-tests/testData/inspection/nullablePr...</td>\n",
       "    </tr>\n",
       "    <tr>\n",
       "      <th>4</th>\n",
       "      <td>a0fc4d3828f</td>\n",
       "      <td>Mon Aug 7 17:23:17 2017 +0200</td>\n",
       "      <td>peter</td>\n",
       "      <td>6.0</td>\n",
       "      <td>0.0</td>\n",
       "      <td>java/java-tests/testSrc/com/intellij/java/code...</td>\n",
       "    </tr>\n",
       "    <tr>\n",
       "      <th>6</th>\n",
       "      <td>dec0d165974</td>\n",
       "      <td>Mon Aug 7 18:22:46 2017 +0200</td>\n",
       "      <td>Anna.Kozlova</td>\n",
       "      <td>3.0</td>\n",
       "      <td>3.0</td>\n",
       "      <td>java/java-psi-impl/src/com/intellij/psi/scope/...</td>\n",
       "    </tr>\n",
       "  </tbody>\n",
       "</table>\n",
       "</div>"
      ],
      "text/plain": [
       "           sha                           date        author  additions  \\\n",
       "1  a0fc4d3828f  Mon Aug 7 17:23:17 2017 +0200         peter        3.0   \n",
       "2  a0fc4d3828f  Mon Aug 7 17:23:17 2017 +0200         peter       17.0   \n",
       "3  a0fc4d3828f  Mon Aug 7 17:23:17 2017 +0200         peter       18.0   \n",
       "4  a0fc4d3828f  Mon Aug 7 17:23:17 2017 +0200         peter        6.0   \n",
       "6  dec0d165974  Mon Aug 7 18:22:46 2017 +0200  Anna.Kozlova        3.0   \n",
       "\n",
       "   deletions                                           filename  \n",
       "1        9.0  java/java-analysis-impl/src/com/intellij/codeI...  \n",
       "2        0.0  java/java-tests/testData/inspection/nullablePr...  \n",
       "3        0.0  java/java-tests/testData/inspection/nullablePr...  \n",
       "4        0.0  java/java-tests/testSrc/com/intellij/java/code...  \n",
       "6        3.0  java/java-psi-impl/src/com/intellij/psi/scope/...  "
      ]
     },
     "execution_count": 8,
     "metadata": {},
     "output_type": "execute_result"
    }
   ],
   "source": [
    "commits = commit_metadata.join(file_info, how='right')\n",
    "commits = commits.dropna()\n",
    "commits.head()"
   ]
  },
  {
   "cell_type": "code",
   "execution_count": 87,
   "metadata": {},
   "outputs": [
    {
     "data": {
      "text/html": [
       "<div>\n",
       "<style>\n",
       "    .dataframe thead tr:only-child th {\n",
       "        text-align: right;\n",
       "    }\n",
       "\n",
       "    .dataframe thead th {\n",
       "        text-align: left;\n",
       "    }\n",
       "\n",
       "    .dataframe tbody tr th {\n",
       "        vertical-align: top;\n",
       "    }\n",
       "</style>\n",
       "<table border=\"1\" class=\"dataframe\">\n",
       "  <thead>\n",
       "    <tr style=\"text-align: right;\">\n",
       "      <th></th>\n",
       "      <th>additions</th>\n",
       "    </tr>\n",
       "    <tr>\n",
       "      <th>author</th>\n",
       "      <th></th>\n",
       "    </tr>\n",
       "  </thead>\n",
       "  <tbody>\n",
       "    <tr>\n",
       "      <th>Dmitry Jemerov</th>\n",
       "      <td>3415183.0</td>\n",
       "    </tr>\n",
       "    <tr>\n",
       "      <th>Maxim Shafirov</th>\n",
       "      <td>1317300.0</td>\n",
       "    </tr>\n",
       "    <tr>\n",
       "      <th>Alexey Kudravtsev</th>\n",
       "      <td>1091957.0</td>\n",
       "    </tr>\n",
       "    <tr>\n",
       "      <th>Dmitry Trofimov</th>\n",
       "      <td>836951.0</td>\n",
       "    </tr>\n",
       "    <tr>\n",
       "      <th>Ekaterina Tuzova</th>\n",
       "      <td>834714.0</td>\n",
       "    </tr>\n",
       "    <tr>\n",
       "      <th>Anna Kozlova</th>\n",
       "      <td>807367.0</td>\n",
       "    </tr>\n",
       "    <tr>\n",
       "      <th>Roman Shevchenko</th>\n",
       "      <td>761080.0</td>\n",
       "    </tr>\n",
       "    <tr>\n",
       "      <th>Dmitry Avdeev</th>\n",
       "      <td>648392.0</td>\n",
       "    </tr>\n",
       "    <tr>\n",
       "      <th>no_reply@jetbrains.com</th>\n",
       "      <td>563445.0</td>\n",
       "    </tr>\n",
       "    <tr>\n",
       "      <th>Mikhail Golubev</th>\n",
       "      <td>522789.0</td>\n",
       "    </tr>\n",
       "    <tr>\n",
       "      <th>Eugene Kudelevsky</th>\n",
       "      <td>485821.0</td>\n",
       "    </tr>\n",
       "    <tr>\n",
       "      <th>Bas Leijdekkers</th>\n",
       "      <td>471711.0</td>\n",
       "    </tr>\n",
       "    <tr>\n",
       "      <th>irengrig</th>\n",
       "      <td>457734.0</td>\n",
       "    </tr>\n",
       "    <tr>\n",
       "      <th>peter</th>\n",
       "      <td>415278.0</td>\n",
       "    </tr>\n",
       "    <tr>\n",
       "      <th>Vladimir Krivosheev</th>\n",
       "      <td>396594.0</td>\n",
       "    </tr>\n",
       "    <tr>\n",
       "      <th>Anton Makeev</th>\n",
       "      <td>389985.0</td>\n",
       "    </tr>\n",
       "    <tr>\n",
       "      <th>Kirill Likhodedov</th>\n",
       "      <td>385721.0</td>\n",
       "    </tr>\n",
       "    <tr>\n",
       "      <th>Aleksey Pivovarov</th>\n",
       "      <td>384356.0</td>\n",
       "    </tr>\n",
       "    <tr>\n",
       "      <th>Eugene Zhuravlev</th>\n",
       "      <td>362103.0</td>\n",
       "    </tr>\n",
       "    <tr>\n",
       "      <th>Elizaveta Shashkova</th>\n",
       "      <td>359524.0</td>\n",
       "    </tr>\n",
       "    <tr>\n",
       "      <th>Alexey Gopachenko</th>\n",
       "      <td>337642.0</td>\n",
       "    </tr>\n",
       "    <tr>\n",
       "      <th>nik</th>\n",
       "      <td>317163.0</td>\n",
       "    </tr>\n",
       "    <tr>\n",
       "      <th>Anna.Kozlova</th>\n",
       "      <td>316704.0</td>\n",
       "    </tr>\n",
       "    <tr>\n",
       "      <th>Andrey Vlasovskikh</th>\n",
       "      <td>306105.0</td>\n",
       "    </tr>\n",
       "    <tr>\n",
       "      <th>anna</th>\n",
       "      <td>301108.0</td>\n",
       "    </tr>\n",
       "    <tr>\n",
       "      <th>Sergey Ignatov</th>\n",
       "      <td>265608.0</td>\n",
       "    </tr>\n",
       "    <tr>\n",
       "      <th>Denis.Zhdanov</th>\n",
       "      <td>240963.0</td>\n",
       "    </tr>\n",
       "    <tr>\n",
       "      <th>Maxim.Mossienko</th>\n",
       "      <td>240159.0</td>\n",
       "    </tr>\n",
       "    <tr>\n",
       "      <th>Peter Gromov</th>\n",
       "      <td>234667.0</td>\n",
       "    </tr>\n",
       "    <tr>\n",
       "      <th>Konstantin Bulenkov</th>\n",
       "      <td>207978.0</td>\n",
       "    </tr>\n",
       "    <tr>\n",
       "      <th>...</th>\n",
       "      <td>...</td>\n",
       "    </tr>\n",
       "    <tr>\n",
       "      <th>spLeaner</th>\n",
       "      <td>2.0</td>\n",
       "    </tr>\n",
       "    <tr>\n",
       "      <th>Marcus Hüsgen</th>\n",
       "      <td>2.0</td>\n",
       "    </tr>\n",
       "    <tr>\n",
       "      <th>Evgeny Naumenko</th>\n",
       "      <td>2.0</td>\n",
       "    </tr>\n",
       "    <tr>\n",
       "      <th>Sergey Zhukov</th>\n",
       "      <td>2.0</td>\n",
       "    </tr>\n",
       "    <tr>\n",
       "      <th>Stephen Friedrich</th>\n",
       "      <td>2.0</td>\n",
       "    </tr>\n",
       "    <tr>\n",
       "      <th>Tobias Bieniek</th>\n",
       "      <td>2.0</td>\n",
       "    </tr>\n",
       "    <tr>\n",
       "      <th>Ben Mintz</th>\n",
       "      <td>2.0</td>\n",
       "    </tr>\n",
       "    <tr>\n",
       "      <th>Dmitry Zhuravlev</th>\n",
       "      <td>2.0</td>\n",
       "    </tr>\n",
       "    <tr>\n",
       "      <th>suman-ganta</th>\n",
       "      <td>1.0</td>\n",
       "    </tr>\n",
       "    <tr>\n",
       "      <th>ryenus</th>\n",
       "      <td>1.0</td>\n",
       "    </tr>\n",
       "    <tr>\n",
       "      <th>Adam Batkin</th>\n",
       "      <td>1.0</td>\n",
       "    </tr>\n",
       "    <tr>\n",
       "      <th>Matthew Gharrity</th>\n",
       "      <td>1.0</td>\n",
       "    </tr>\n",
       "    <tr>\n",
       "      <th>Lucas Smaira</th>\n",
       "      <td>1.0</td>\n",
       "    </tr>\n",
       "    <tr>\n",
       "      <th>Amaury</th>\n",
       "      <td>1.0</td>\n",
       "    </tr>\n",
       "    <tr>\n",
       "      <th>Leonya Khachaturov</th>\n",
       "      <td>1.0</td>\n",
       "    </tr>\n",
       "    <tr>\n",
       "      <th>Raluca Sauciuc</th>\n",
       "      <td>1.0</td>\n",
       "    </tr>\n",
       "    <tr>\n",
       "      <th>Roma Leventov</th>\n",
       "      <td>1.0</td>\n",
       "    </tr>\n",
       "    <tr>\n",
       "      <th>Daniel Espendiller</th>\n",
       "      <td>1.0</td>\n",
       "    </tr>\n",
       "    <tr>\n",
       "      <th>Igor Mikhailuk</th>\n",
       "      <td>1.0</td>\n",
       "    </tr>\n",
       "    <tr>\n",
       "      <th>Sergej Zagursky</th>\n",
       "      <td>1.0</td>\n",
       "    </tr>\n",
       "    <tr>\n",
       "      <th>Sergey Golovachev</th>\n",
       "      <td>1.0</td>\n",
       "    </tr>\n",
       "    <tr>\n",
       "      <th>dmitrii.kravchenko</th>\n",
       "      <td>1.0</td>\n",
       "    </tr>\n",
       "    <tr>\n",
       "      <th>Anton Lobov</th>\n",
       "      <td>1.0</td>\n",
       "    </tr>\n",
       "    <tr>\n",
       "      <th>auchri</th>\n",
       "      <td>1.0</td>\n",
       "    </tr>\n",
       "    <tr>\n",
       "      <th>Chetan.Mehrotra</th>\n",
       "      <td>1.0</td>\n",
       "    </tr>\n",
       "    <tr>\n",
       "      <th>Deepanshu Gupta</th>\n",
       "      <td>1.0</td>\n",
       "    </tr>\n",
       "    <tr>\n",
       "      <th>Matthias Vill</th>\n",
       "      <td>1.0</td>\n",
       "    </tr>\n",
       "    <tr>\n",
       "      <th>Ladislav Thon</th>\n",
       "      <td>0.0</td>\n",
       "    </tr>\n",
       "    <tr>\n",
       "      <th>Ryan Prichard</th>\n",
       "      <td>0.0</td>\n",
       "    </tr>\n",
       "    <tr>\n",
       "      <th>animaru</th>\n",
       "      <td>0.0</td>\n",
       "    </tr>\n",
       "  </tbody>\n",
       "</table>\n",
       "<p>454 rows × 1 columns</p>\n",
       "</div>"
      ],
      "text/plain": [
       "                        additions\n",
       "author                           \n",
       "Dmitry Jemerov          3415183.0\n",
       "Maxim Shafirov          1317300.0\n",
       "Alexey Kudravtsev       1091957.0\n",
       "Dmitry Trofimov          836951.0\n",
       "Ekaterina Tuzova         834714.0\n",
       "Anna Kozlova             807367.0\n",
       "Roman Shevchenko         761080.0\n",
       "Dmitry Avdeev            648392.0\n",
       "no_reply@jetbrains.com   563445.0\n",
       "Mikhail Golubev          522789.0\n",
       "Eugene Kudelevsky        485821.0\n",
       "Bas Leijdekkers          471711.0\n",
       "irengrig                 457734.0\n",
       "peter                    415278.0\n",
       "Vladimir Krivosheev      396594.0\n",
       "Anton Makeev             389985.0\n",
       "Kirill Likhodedov        385721.0\n",
       "Aleksey Pivovarov        384356.0\n",
       "Eugene Zhuravlev         362103.0\n",
       "Elizaveta Shashkova      359524.0\n",
       "Alexey Gopachenko        337642.0\n",
       "nik                      317163.0\n",
       "Anna.Kozlova             316704.0\n",
       "Andrey Vlasovskikh       306105.0\n",
       "anna                     301108.0\n",
       "Sergey Ignatov           265608.0\n",
       "Denis.Zhdanov            240963.0\n",
       "Maxim.Mossienko          240159.0\n",
       "Peter Gromov             234667.0\n",
       "Konstantin Bulenkov      207978.0\n",
       "...                           ...\n",
       "spLeaner                      2.0\n",
       "Marcus Hüsgen                 2.0\n",
       "Evgeny Naumenko               2.0\n",
       "Sergey Zhukov                 2.0\n",
       "Stephen Friedrich             2.0\n",
       "Tobias Bieniek                2.0\n",
       "Ben Mintz                     2.0\n",
       "Dmitry Zhuravlev              2.0\n",
       "suman-ganta                   1.0\n",
       "ryenus                        1.0\n",
       "Adam Batkin                   1.0\n",
       "Matthew Gharrity              1.0\n",
       "Lucas Smaira                  1.0\n",
       "Amaury                        1.0\n",
       "Leonya Khachaturov            1.0\n",
       "Raluca Sauciuc                1.0\n",
       "Roma Leventov                 1.0\n",
       "Daniel Espendiller            1.0\n",
       "Igor Mikhailuk                1.0\n",
       "Sergej Zagursky               1.0\n",
       "Sergey Golovachev             1.0\n",
       "dmitrii.kravchenko            1.0\n",
       "Anton Lobov                   1.0\n",
       "auchri                        1.0\n",
       "Chetan.Mehrotra               1.0\n",
       "Deepanshu Gupta               1.0\n",
       "Matthias Vill                 1.0\n",
       "Ladislav Thon                 0.0\n",
       "Ryan Prichard                 0.0\n",
       "animaru                       0.0\n",
       "\n",
       "[454 rows x 1 columns]"
      ]
     },
     "execution_count": 87,
     "metadata": {},
     "output_type": "execute_result"
    }
   ],
   "source": [
    "commits.groupby('author').sum()[['additions']].sort_values(by='additions', ascending=False)"
   ]
  },
  {
   "cell_type": "markdown",
   "metadata": {
    "nbpresent": {
     "id": "995385e3-6483-4915-9714-c3146674dbae"
    }
   },
   "source": [
    "OK, this part is ready, let's have a look at the file statistics!"
   ]
  },
  {
   "cell_type": "markdown",
   "metadata": {
    "nbpresent": {
     "id": "002860f4-1961-4409-8b2b-20835285ff24"
    }
   },
   "source": [
    "We're done!"
   ]
  },
  {
   "cell_type": "markdown",
   "metadata": {
    "nbpresent": {
     "id": "56ee3c98-8b97-41bf-938d-108f98a4606b"
    }
   },
   "source": [
    "# Complete code block\n",
    "To much code to look through? Here is everything from above in a condensed format."
   ]
  },
  {
   "cell_type": "markdown",
   "metadata": {
    "nbpresent": {
     "id": "e9d7a22e-fec0-4b9a-801d-923e8b4ab42e"
    }
   },
   "source": [
    "Just some milliseconds to run through, not bad!"
   ]
  },
  {
   "cell_type": "markdown",
   "metadata": {
    "collapsed": true,
    "nbpresent": {
     "id": "417386b7-669e-4c2e-93bc-2abae6b03699"
    }
   },
   "source": [
    "# Summary\n",
    "In this notebook, I showed you how to read some non-perfect structured data via the non-character separator trick. I also showed you how to transform the rows that contain multiple kinds of data into one nicely structured <tt>DataFrame</tt>.\n",
    "\n",
    "Now that we have the Git repository <tt>DataFrame</tt>, we can do some nice things with it e. g. visualizing the code churn of a project, but that's a story for another notebook! But to give you a short preview:"
   ]
  },
  {
   "cell_type": "code",
   "execution_count": 88,
   "metadata": {
    "nbpresent": {
     "id": "edfb29bb-0a19-4835-be91-60f8ae4941ca"
    }
   },
   "outputs": [
    {
     "ename": "KeyError",
     "evalue": "\"['insertions'] not in index\"",
     "output_type": "error",
     "traceback": [
      "\u001b[1;31m---------------------------------------------------------------------------\u001b[0m",
      "\u001b[1;31mKeyError\u001b[0m                                  Traceback (most recent call last)",
      "\u001b[1;32m<ipython-input-88-aebe6ddd42b6>\u001b[0m in \u001b[0;36m<module>\u001b[1;34m()\u001b[0m\n\u001b[0;32m      1\u001b[0m \u001b[0mget_ipython\u001b[0m\u001b[1;33m(\u001b[0m\u001b[1;33m)\u001b[0m\u001b[1;33m.\u001b[0m\u001b[0mmagic\u001b[0m\u001b[1;33m(\u001b[0m\u001b[1;34m'matplotlib inline'\u001b[0m\u001b[1;33m)\u001b[0m\u001b[1;33m\u001b[0m\u001b[0m\n\u001b[1;32m----> 2\u001b[1;33m \u001b[0mtimed_commits\u001b[0m \u001b[1;33m=\u001b[0m \u001b[0mcommits\u001b[0m\u001b[1;33m.\u001b[0m\u001b[0mset_index\u001b[0m\u001b[1;33m(\u001b[0m\u001b[0mpd\u001b[0m\u001b[1;33m.\u001b[0m\u001b[0mDatetimeIndex\u001b[0m\u001b[1;33m(\u001b[0m\u001b[0mcommits\u001b[0m\u001b[1;33m[\u001b[0m\u001b[1;34m'date'\u001b[0m\u001b[1;33m]\u001b[0m\u001b[1;33m)\u001b[0m\u001b[1;33m)\u001b[0m\u001b[1;33m[\u001b[0m\u001b[1;33m[\u001b[0m\u001b[1;34m'insertions'\u001b[0m\u001b[1;33m,\u001b[0m \u001b[1;34m'deletions'\u001b[0m\u001b[1;33m]\u001b[0m\u001b[1;33m]\u001b[0m\u001b[1;33m.\u001b[0m\u001b[0mresample\u001b[0m\u001b[1;33m(\u001b[0m\u001b[1;34m'1D'\u001b[0m\u001b[1;33m)\u001b[0m\u001b[1;33m.\u001b[0m\u001b[0msum\u001b[0m\u001b[1;33m(\u001b[0m\u001b[1;33m)\u001b[0m\u001b[1;33m\u001b[0m\u001b[0m\n\u001b[0m\u001b[0;32m      3\u001b[0m \u001b[1;33m(\u001b[0m\u001b[0mtimed_commits\u001b[0m\u001b[1;33m[\u001b[0m\u001b[1;34m'insertions'\u001b[0m\u001b[1;33m]\u001b[0m \u001b[1;33m-\u001b[0m \u001b[0mtimed_commits\u001b[0m\u001b[1;33m[\u001b[0m\u001b[1;34m'deletions'\u001b[0m\u001b[1;33m]\u001b[0m\u001b[1;33m)\u001b[0m\u001b[1;33m.\u001b[0m\u001b[0mcumsum\u001b[0m\u001b[1;33m(\u001b[0m\u001b[1;33m)\u001b[0m\u001b[1;33m.\u001b[0m\u001b[0mfillna\u001b[0m\u001b[1;33m(\u001b[0m\u001b[0mmethod\u001b[0m\u001b[1;33m=\u001b[0m\u001b[1;34m'ffill'\u001b[0m\u001b[1;33m)\u001b[0m\u001b[1;33m.\u001b[0m\u001b[0mplot\u001b[0m\u001b[1;33m(\u001b[0m\u001b[1;33m)\u001b[0m\u001b[1;33m\u001b[0m\u001b[0m\n",
      "\u001b[1;32mC:\\dev\\apps\\Anaconda3\\lib\\site-packages\\pandas\\core\\frame.py\u001b[0m in \u001b[0;36m__getitem__\u001b[1;34m(self, key)\u001b[0m\n\u001b[0;32m   2054\u001b[0m         \u001b[1;32mif\u001b[0m \u001b[0misinstance\u001b[0m\u001b[1;33m(\u001b[0m\u001b[0mkey\u001b[0m\u001b[1;33m,\u001b[0m \u001b[1;33m(\u001b[0m\u001b[0mSeries\u001b[0m\u001b[1;33m,\u001b[0m \u001b[0mnp\u001b[0m\u001b[1;33m.\u001b[0m\u001b[0mndarray\u001b[0m\u001b[1;33m,\u001b[0m \u001b[0mIndex\u001b[0m\u001b[1;33m,\u001b[0m \u001b[0mlist\u001b[0m\u001b[1;33m)\u001b[0m\u001b[1;33m)\u001b[0m\u001b[1;33m:\u001b[0m\u001b[1;33m\u001b[0m\u001b[0m\n\u001b[0;32m   2055\u001b[0m             \u001b[1;31m# either boolean or fancy integer index\u001b[0m\u001b[1;33m\u001b[0m\u001b[1;33m\u001b[0m\u001b[0m\n\u001b[1;32m-> 2056\u001b[1;33m             \u001b[1;32mreturn\u001b[0m \u001b[0mself\u001b[0m\u001b[1;33m.\u001b[0m\u001b[0m_getitem_array\u001b[0m\u001b[1;33m(\u001b[0m\u001b[0mkey\u001b[0m\u001b[1;33m)\u001b[0m\u001b[1;33m\u001b[0m\u001b[0m\n\u001b[0m\u001b[0;32m   2057\u001b[0m         \u001b[1;32melif\u001b[0m \u001b[0misinstance\u001b[0m\u001b[1;33m(\u001b[0m\u001b[0mkey\u001b[0m\u001b[1;33m,\u001b[0m \u001b[0mDataFrame\u001b[0m\u001b[1;33m)\u001b[0m\u001b[1;33m:\u001b[0m\u001b[1;33m\u001b[0m\u001b[0m\n\u001b[0;32m   2058\u001b[0m             \u001b[1;32mreturn\u001b[0m \u001b[0mself\u001b[0m\u001b[1;33m.\u001b[0m\u001b[0m_getitem_frame\u001b[0m\u001b[1;33m(\u001b[0m\u001b[0mkey\u001b[0m\u001b[1;33m)\u001b[0m\u001b[1;33m\u001b[0m\u001b[0m\n",
      "\u001b[1;32mC:\\dev\\apps\\Anaconda3\\lib\\site-packages\\pandas\\core\\frame.py\u001b[0m in \u001b[0;36m_getitem_array\u001b[1;34m(self, key)\u001b[0m\n\u001b[0;32m   2098\u001b[0m             \u001b[1;32mreturn\u001b[0m \u001b[0mself\u001b[0m\u001b[1;33m.\u001b[0m\u001b[0mtake\u001b[0m\u001b[1;33m(\u001b[0m\u001b[0mindexer\u001b[0m\u001b[1;33m,\u001b[0m \u001b[0maxis\u001b[0m\u001b[1;33m=\u001b[0m\u001b[1;36m0\u001b[0m\u001b[1;33m,\u001b[0m \u001b[0mconvert\u001b[0m\u001b[1;33m=\u001b[0m\u001b[1;32mFalse\u001b[0m\u001b[1;33m)\u001b[0m\u001b[1;33m\u001b[0m\u001b[0m\n\u001b[0;32m   2099\u001b[0m         \u001b[1;32melse\u001b[0m\u001b[1;33m:\u001b[0m\u001b[1;33m\u001b[0m\u001b[0m\n\u001b[1;32m-> 2100\u001b[1;33m             \u001b[0mindexer\u001b[0m \u001b[1;33m=\u001b[0m \u001b[0mself\u001b[0m\u001b[1;33m.\u001b[0m\u001b[0mloc\u001b[0m\u001b[1;33m.\u001b[0m\u001b[0m_convert_to_indexer\u001b[0m\u001b[1;33m(\u001b[0m\u001b[0mkey\u001b[0m\u001b[1;33m,\u001b[0m \u001b[0maxis\u001b[0m\u001b[1;33m=\u001b[0m\u001b[1;36m1\u001b[0m\u001b[1;33m)\u001b[0m\u001b[1;33m\u001b[0m\u001b[0m\n\u001b[0m\u001b[0;32m   2101\u001b[0m             \u001b[1;32mreturn\u001b[0m \u001b[0mself\u001b[0m\u001b[1;33m.\u001b[0m\u001b[0mtake\u001b[0m\u001b[1;33m(\u001b[0m\u001b[0mindexer\u001b[0m\u001b[1;33m,\u001b[0m \u001b[0maxis\u001b[0m\u001b[1;33m=\u001b[0m\u001b[1;36m1\u001b[0m\u001b[1;33m,\u001b[0m \u001b[0mconvert\u001b[0m\u001b[1;33m=\u001b[0m\u001b[1;32mTrue\u001b[0m\u001b[1;33m)\u001b[0m\u001b[1;33m\u001b[0m\u001b[0m\n\u001b[0;32m   2102\u001b[0m \u001b[1;33m\u001b[0m\u001b[0m\n",
      "\u001b[1;32mC:\\dev\\apps\\Anaconda3\\lib\\site-packages\\pandas\\core\\indexing.py\u001b[0m in \u001b[0;36m_convert_to_indexer\u001b[1;34m(self, obj, axis, is_setter)\u001b[0m\n\u001b[0;32m   1229\u001b[0m                 \u001b[0mmask\u001b[0m \u001b[1;33m=\u001b[0m \u001b[0mcheck\u001b[0m \u001b[1;33m==\u001b[0m \u001b[1;33m-\u001b[0m\u001b[1;36m1\u001b[0m\u001b[1;33m\u001b[0m\u001b[0m\n\u001b[0;32m   1230\u001b[0m                 \u001b[1;32mif\u001b[0m \u001b[0mmask\u001b[0m\u001b[1;33m.\u001b[0m\u001b[0many\u001b[0m\u001b[1;33m(\u001b[0m\u001b[1;33m)\u001b[0m\u001b[1;33m:\u001b[0m\u001b[1;33m\u001b[0m\u001b[0m\n\u001b[1;32m-> 1231\u001b[1;33m                     \u001b[1;32mraise\u001b[0m \u001b[0mKeyError\u001b[0m\u001b[1;33m(\u001b[0m\u001b[1;34m'%s not in index'\u001b[0m \u001b[1;33m%\u001b[0m \u001b[0mobjarr\u001b[0m\u001b[1;33m[\u001b[0m\u001b[0mmask\u001b[0m\u001b[1;33m]\u001b[0m\u001b[1;33m)\u001b[0m\u001b[1;33m\u001b[0m\u001b[0m\n\u001b[0m\u001b[0;32m   1232\u001b[0m \u001b[1;33m\u001b[0m\u001b[0m\n\u001b[0;32m   1233\u001b[0m                 \u001b[1;32mreturn\u001b[0m \u001b[0m_values_from_object\u001b[0m\u001b[1;33m(\u001b[0m\u001b[0mindexer\u001b[0m\u001b[1;33m)\u001b[0m\u001b[1;33m\u001b[0m\u001b[0m\n",
      "\u001b[1;31mKeyError\u001b[0m: \"['insertions'] not in index\""
     ]
    }
   ],
   "source": [
    "%matplotlib inline\n",
    "timed_commits = commits.set_index(pd.DatetimeIndex(commits['date']))[['insertions', 'deletions']].resample('1D').sum()\n",
    "(timed_commits['insertions'] - timed_commits['deletions']).cumsum().fillna(method='ffill').plot()"
   ]
  },
  {
   "cell_type": "code",
   "execution_count": null,
   "metadata": {
    "collapsed": true
   },
   "outputs": [],
   "source": [
    "%matplotlib inline\n",
    "commits['author'].value_counts().plot(kind='pie', figsize=(10,10))"
   ]
  },
  {
   "cell_type": "markdown",
   "metadata": {
    "nbpresent": {
     "id": "b9045217-458c-49e7-ab17-b873047bc10e"
    }
   },
   "source": [
    "Stay tuned!"
   ]
  }
 ],
 "metadata": {
  "anaconda-cloud": {},
  "kernelspec": {
   "display_name": "Python 3",
   "language": "python",
   "name": "python3"
  },
  "language_info": {
   "codemirror_mode": {
    "name": "ipython",
    "version": 3
   },
   "file_extension": ".py",
   "mimetype": "text/x-python",
   "name": "python",
   "nbconvert_exporter": "python",
   "pygments_lexer": "ipython3",
   "version": "3.6.1"
  },
  "nbpresent": {
   "slides": {
    "1c3bf261-5fad-42f1-be29-bc970f66b78f": {
     "id": "1c3bf261-5fad-42f1-be29-bc970f66b78f",
     "prev": "2f379bd9-addb-4c73-aff7-0effc56da804",
     "regions": {
      "05f3625e-4608-4f56-b0c8-42757d38085e": {
       "attrs": {
        "height": 1,
        "width": 1,
        "x": 0,
        "y": 0
       },
       "content": {
        "cell": "cffa207d-719c-4ea3-ae5c-556ca5ee692e",
        "part": "whole"
       },
       "id": "05f3625e-4608-4f56-b0c8-42757d38085e"
      }
     }
    },
    "2f379bd9-addb-4c73-aff7-0effc56da804": {
     "id": "2f379bd9-addb-4c73-aff7-0effc56da804",
     "prev": "fa62ca0d-9305-405d-a301-04fab08ee8f3",
     "regions": {
      "ac003123-264d-4b81-95cd-d79b47595f27": {
       "attrs": {
        "height": 1,
        "width": 1,
        "x": 0,
        "y": 0
       },
       "content": {
        "cell": "022f08fe-2746-4631-b0e2-1df34c154675",
        "part": "whole"
       },
       "id": "ac003123-264d-4b81-95cd-d79b47595f27"
      }
     }
    },
    "3935cf8e-ea1d-4e1d-ad46-fcb10946cd1d": {
     "id": "3935cf8e-ea1d-4e1d-ad46-fcb10946cd1d",
     "prev": "88ab58e4-fc80-487b-83b5-687302c35522",
     "regions": {
      "a666344f-e0ba-42c7-9f85-12abfa643611": {
       "attrs": {
        "height": 1,
        "width": 1,
        "x": 0,
        "y": 0
       },
       "content": {
        "cell": "b38ec597-d6b6-4b10-ba27-709b9415b124",
        "part": "whole"
       },
       "id": "a666344f-e0ba-42c7-9f85-12abfa643611"
      }
     }
    },
    "46431dec-27a6-40c6-af95-5fb2f230ebd4": {
     "id": "46431dec-27a6-40c6-af95-5fb2f230ebd4",
     "prev": "90fbdba6-3c4e-436f-b4a1-a4a469dde026",
     "regions": {
      "ee88eafd-7388-4463-9651-9e672e3cf093": {
       "attrs": {
        "height": 1,
        "width": 1,
        "x": 0,
        "y": 0
       },
       "content": {
        "cell": "577cb8ae-fdd7-4835-93c0-3d52c7e7fa6d",
        "part": "whole"
       },
       "id": "ee88eafd-7388-4463-9651-9e672e3cf093"
      }
     }
    },
    "467b68fa-ba68-43f0-be64-972fa50485c2": {
     "id": "467b68fa-ba68-43f0-be64-972fa50485c2",
     "prev": "46431dec-27a6-40c6-af95-5fb2f230ebd4",
     "regions": {
      "06523258-1daa-4bbe-9b61-1af7bac105f8": {
       "attrs": {
        "height": 1,
        "width": 1,
        "x": 0,
        "y": 0
       },
       "content": {
        "cell": "0a9c1f53-c819-4fad-abf6-fa6ddcc6e53e",
        "part": "whole"
       },
       "id": "06523258-1daa-4bbe-9b61-1af7bac105f8"
      }
     }
    },
    "5ce0a5c0-69e6-403c-8b9e-e91a4f6d2084": {
     "id": "5ce0a5c0-69e6-403c-8b9e-e91a4f6d2084",
     "prev": "467b68fa-ba68-43f0-be64-972fa50485c2",
     "regions": {
      "447d5ea1-72a7-484d-b127-7c87b2fb17a5": {
       "attrs": {
        "height": 1,
        "width": 1,
        "x": 0,
        "y": 0
       },
       "content": {
        "cell": "0a64edd8-1d4e-4456-8d54-db30f82da038",
        "part": "whole"
       },
       "id": "447d5ea1-72a7-484d-b127-7c87b2fb17a5"
      }
     }
    },
    "69bc04e6-b390-4c39-8cfc-e901363073db": {
     "id": "69bc04e6-b390-4c39-8cfc-e901363073db",
     "prev": "b7d251b4-9300-4d87-a4c2-ce9e82cceaf1",
     "regions": {
      "d71fa94c-1908-4c10-8468-35ec4c0d0b60": {
       "attrs": {
        "height": 1,
        "width": 1,
        "x": 0,
        "y": 0
       },
       "content": {
        "cell": "f1852e51-8531-4ccc-af20-8348509cfc9c",
        "part": "whole"
       },
       "id": "d71fa94c-1908-4c10-8468-35ec4c0d0b60"
      }
     }
    },
    "88ab58e4-fc80-487b-83b5-687302c35522": {
     "id": "88ab58e4-fc80-487b-83b5-687302c35522",
     "prev": "69bc04e6-b390-4c39-8cfc-e901363073db",
     "regions": {
      "08604d82-a07c-41b3-ad38-e27b39ee83a2": {
       "attrs": {
        "height": 1,
        "width": 1,
        "x": 0,
        "y": 0
       },
       "content": {
        "cell": "86a45314-4211-4cd1-93fb-9c156534a2e0",
        "part": "whole"
       },
       "id": "08604d82-a07c-41b3-ad38-e27b39ee83a2"
      }
     }
    },
    "90fbdba6-3c4e-436f-b4a1-a4a469dde026": {
     "id": "90fbdba6-3c4e-436f-b4a1-a4a469dde026",
     "prev": "3935cf8e-ea1d-4e1d-ad46-fcb10946cd1d",
     "regions": {
      "66d3717e-256a-4063-96cf-415ced19032d": {
       "attrs": {
        "height": 1,
        "width": 1,
        "x": 0,
        "y": 0
       },
       "content": {
        "cell": "e34097f6-1626-49ba-bb93-b5b2dfb20d8c",
        "part": "whole"
       },
       "id": "66d3717e-256a-4063-96cf-415ced19032d"
      }
     }
    },
    "b7d251b4-9300-4d87-a4c2-ce9e82cceaf1": {
     "id": "b7d251b4-9300-4d87-a4c2-ce9e82cceaf1",
     "prev": null,
     "regions": {
      "0e54fbca-ee14-4d41-8134-a7e4848c8244": {
       "attrs": {
        "height": 1,
        "width": 1,
        "x": 0,
        "y": 0
       },
       "content": {
        "cell": "4e3ff556-2ed1-4264-9e5d-c34080b5ef43",
        "part": "whole"
       },
       "id": "0e54fbca-ee14-4d41-8134-a7e4848c8244"
      }
     }
    },
    "ce90176b-054d-44da-82e5-24e00f159d44": {
     "id": "ce90176b-054d-44da-82e5-24e00f159d44",
     "prev": "1c3bf261-5fad-42f1-be29-bc970f66b78f",
     "regions": {
      "a049b370-d20d-4b31-b12d-d1e98cf186a5": {
       "attrs": {
        "height": 1,
        "width": 1,
        "x": 0,
        "y": 0
       },
       "content": {
        "cell": "edfb29bb-0a19-4835-be91-60f8ae4941ca",
        "part": "whole"
       },
       "id": "a049b370-d20d-4b31-b12d-d1e98cf186a5"
      }
     }
    },
    "fa62ca0d-9305-405d-a301-04fab08ee8f3": {
     "id": "fa62ca0d-9305-405d-a301-04fab08ee8f3",
     "prev": "5ce0a5c0-69e6-403c-8b9e-e91a4f6d2084",
     "regions": {
      "e33a8ad9-898a-435b-9cd8-a0a9e971b7c0": {
       "attrs": {
        "height": 1,
        "width": 1,
        "x": 0,
        "y": 0
       },
       "content": {
        "cell": "81cdfe40-3a5d-44cf-9b55-eaf0a635761f",
        "part": "whole"
       },
       "id": "e33a8ad9-898a-435b-9cd8-a0a9e971b7c0"
      }
     }
    }
   },
   "themes": {
    "default": "66eaa5a2-7a73-471f-ab56-5b57ef30cb08",
    "theme": {
     "66eaa5a2-7a73-471f-ab56-5b57ef30cb08": {
      "id": "66eaa5a2-7a73-471f-ab56-5b57ef30cb08",
      "palette": {
       "19cc588f-0593-49c9-9f4b-e4d7cc113b1c": {
        "id": "19cc588f-0593-49c9-9f4b-e4d7cc113b1c",
        "rgb": [
         252,
         252,
         252
        ]
       },
       "31af15d2-7e15-44c5-ab5e-e04b16a89eff": {
        "id": "31af15d2-7e15-44c5-ab5e-e04b16a89eff",
        "rgb": [
         68,
         68,
         68
        ]
       },
       "50f92c45-a630-455b-aec3-788680ec7410": {
        "id": "50f92c45-a630-455b-aec3-788680ec7410",
        "rgb": [
         155,
         177,
         192
        ]
       },
       "c5cc3653-2ee1-402a-aba2-7caae1da4f6c": {
        "id": "c5cc3653-2ee1-402a-aba2-7caae1da4f6c",
        "rgb": [
         43,
         126,
         184
        ]
       },
       "efa7f048-9acb-414c-8b04-a26811511a21": {
        "id": "efa7f048-9acb-414c-8b04-a26811511a21",
        "rgb": [
         25.118061674008803,
         73.60176211453744,
         107.4819383259912
        ]
       }
      },
      "rules": {
       "blockquote": {
        "color": "50f92c45-a630-455b-aec3-788680ec7410"
       },
       "code": {
        "font-family": "Anonymous Pro"
       },
       "h1": {
        "color": "c5cc3653-2ee1-402a-aba2-7caae1da4f6c",
        "font-family": "Lato",
        "font-size": 8
       },
       "h2": {
        "color": "c5cc3653-2ee1-402a-aba2-7caae1da4f6c",
        "font-family": "Lato",
        "font-size": 6
       },
       "h3": {
        "color": "50f92c45-a630-455b-aec3-788680ec7410",
        "font-family": "Lato",
        "font-size": 5.5
       },
       "h4": {
        "color": "c5cc3653-2ee1-402a-aba2-7caae1da4f6c",
        "font-family": "Lato",
        "font-size": 5
       },
       "h5": {
        "font-family": "Lato"
       },
       "h6": {
        "font-family": "Lato"
       },
       "h7": {
        "font-family": "Lato"
       },
       "pre": {
        "font-family": "Anonymous Pro",
        "font-size": 4
       }
      },
      "text-base": {
       "font-family": "Merriweather",
       "font-size": 4
      }
     },
     "ecdad483-e20b-4d01-87c5-efd37e40b00e": {
      "backgrounds": {
       "backgroundColor": {
        "background-color": "backgroundColor",
        "id": "backgroundColor"
       }
      },
      "id": "ecdad483-e20b-4d01-87c5-efd37e40b00e",
      "palette": {
       "backgroundColor": {
        "id": "backgroundColor",
        "rgb": [
         256,
         256,
         256
        ]
       },
       "headingColor": {
        "id": "headingColor",
        "rgb": [
         34,
         34,
         34
        ]
       },
       "linkColor": {
        "id": "linkColor",
        "rgb": [
         42,
         118,
         221
        ]
       },
       "mainColor": {
        "id": "mainColor",
        "rgb": [
         34,
         34,
         34
        ]
       }
      },
      "rules": {
       "a": {
        "color": "linkColor"
       },
       "h1": {
        "color": "headingColor",
        "font-family": "Source Sans Pro",
        "font-size": 5.25
       },
       "h2": {
        "color": "headingColor",
        "font-family": "Source Sans Pro",
        "font-size": 4
       },
       "h3": {
        "color": "headingColor",
        "font-family": "Source Sans Pro",
        "font-size": 3.5
       },
       "h4": {
        "color": "headingColor",
        "font-family": "Source Sans Pro",
        "font-size": 3
       },
       "h5": {
        "color": "headingColor",
        "font-family": "Source Sans Pro"
       },
       "h6": {
        "color": "headingColor",
        "font-family": "Source Sans Pro"
       },
       "h7": {
        "color": "headingColor",
        "font-family": "Source Sans Pro"
       },
       "li": {
        "color": "mainColor",
        "font-family": "Source Sans Pro",
        "font-size": 6
       },
       "p": {
        "color": "mainColor",
        "font-family": "Source Sans Pro",
        "font-size": 6
       }
      },
      "text-base": {
       "color": "mainColor",
       "font-family": "Source Sans Pro",
       "font-size": 6
      }
     }
    }
   }
  }
 },
 "nbformat": 4,
 "nbformat_minor": 1
}
