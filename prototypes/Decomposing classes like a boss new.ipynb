{
 "cells": [
  {
   "cell_type": "markdown",
   "metadata": {},
   "source": [
    "# Introduction\n",
    "\n",
    "In this blog post, I want to show you a graph-based way to split up a class into several independent ones. We take a small example class from Michael Feathers' book \"Working effectively with legacy code\" and use Neo4j's [Awesome Procedures On Cypher (APOC)](https://neo4j-contrib.github.io/neo4j-apoc-procedures).\n",
    "\n",
    "Hint: To run the notebook version of this blog post, you need to install the [ipython-cypher](https://ipython-cypher.readthedocs.io/en/latest/) extension."
   ]
  },
  {
   "cell_type": "markdown",
   "metadata": {},
   "source": [
    "```java\n",
    "class Reservation {\n",
    "\n",
    "    private int duration;\n",
    "    private int dailyRate;\n",
    "    private Date date;\n",
    "    private Customer customer;\n",
    "    private List fees = new ArrayList();\n",
    "\n",
    "    public Reservation(Customer customer, int duration, int dailyRate, Date date) {\n",
    "        this.customer = customer;\n",
    "        this.duration = duration;\n",
    "        this.dailyRate = dailyRate;\n",
    "        this.date = date;\n",
    "    }\n",
    "\n",
    "    public void extend(int additionalDays) {\n",
    "        duration += additionalDays;\n",
    "    }\n",
    "\n",
    "    public void extendForWeek() {\n",
    "        int weekRemainder = RentalCalendar.weekRemainderFor(date);\n",
    "        final int DAYS_PER_WEEK = 7;\n",
    "        extend(weekRemainder);\n",
    "        dailyRate = RateCalculator.computeWeekly(\n",
    "                customer.getRateCode()) / DAYS_PER_WEEK;\n",
    "    }\n",
    "\n",
    "    public void addFee(FeeRider rider) {\n",
    "        fees.add(rider);\n",
    "    }\n",
    "\n",
    "    int getAdditionalFees() {\n",
    "        int total = 0;\n",
    "        for (Iterator it = fees.iterator(); it.hasNext(); ) {\n",
    "            total += ((FeeRider) (it.next())).getAmount();\n",
    "\n",
    "        }\n",
    "        return total;\n",
    "    }\n",
    "\n",
    "    int getPrincipalFee() {\n",
    "        return dailyRate * RateCalculator.rateBase(customer) * duration;\n",
    "    }\n",
    "\n",
    "    public int getTotalFee() {\n",
    "        return getPrincipalFee() + getAdditionalFees();\n",
    "    }\n",
    "}\n",
    "\n",
    "```"
   ]
  },
  {
   "cell_type": "code",
   "execution_count": 1,
   "metadata": {},
   "outputs": [],
   "source": [
    "%load_ext cypher"
   ]
  },
  {
   "cell_type": "markdown",
   "metadata": {},
   "source": [
    "## Cleaning existing data"
   ]
  },
  {
   "cell_type": "code",
   "execution_count": 2,
   "metadata": {},
   "outputs": [
    {
     "name": "stdout",
     "output_type": "stream",
     "text": [
      "2 nodes deleted.\n",
      "24 relationship deleted.\n"
     ]
    },
    {
     "data": {
      "text/html": [
       "<table>\n",
       "    <tr>\n",
       "    </tr>\n",
       "</table>"
      ],
      "text/plain": [
       "[]"
      ]
     },
     "execution_count": 2,
     "metadata": {},
     "output_type": "execute_result"
    }
   ],
   "source": [
    "%%cypher\n",
    "MATCH\n",
    "    ()-[u:USES]->(),\n",
    "    (n:NewClass)-[s:SHOULD_DECLARE]->()\n",
    "DELETE u,s,n"
   ]
  },
  {
   "cell_type": "markdown",
   "metadata": {},
   "source": [
    "## Adding new usage relationship"
   ]
  },
  {
   "cell_type": "markdown",
   "metadata": {},
   "source": [
    "We want to look at the usage dependencies between methods and fields. In the predefined schema, there is a distinction between reading and writing access to fields for each method. We set up a new relationship to signal just the usage of a field of a particular class by adding a new relationshop `USES`."
   ]
  },
  {
   "cell_type": "code",
   "execution_count": 3,
   "metadata": {},
   "outputs": [
    {
     "name": "stdout",
     "output_type": "stream",
     "text": [
      "9 relationships created.\n"
     ]
    },
    {
     "data": {
      "text/html": [
       "<table>\n",
       "    <tr>\n",
       "        <th>method</th>\n",
       "        <th>relType</th>\n",
       "        <th>field</th>\n",
       "    </tr>\n",
       "    <tr>\n",
       "        <td>getAdditionalFees</td>\n",
       "        <td>USES</td>\n",
       "        <td>fees</td>\n",
       "    </tr>\n",
       "    <tr>\n",
       "        <td>addFee</td>\n",
       "        <td>USES</td>\n",
       "        <td>fees</td>\n",
       "    </tr>\n",
       "    <tr>\n",
       "        <td>getPrincipalFee</td>\n",
       "        <td>USES</td>\n",
       "        <td>customer</td>\n",
       "    </tr>\n",
       "    <tr>\n",
       "        <td>extendForWeek</td>\n",
       "        <td>USES</td>\n",
       "        <td>customer</td>\n",
       "    </tr>\n",
       "    <tr>\n",
       "        <td>getPrincipalFee</td>\n",
       "        <td>USES</td>\n",
       "        <td>duration</td>\n",
       "    </tr>\n",
       "    <tr>\n",
       "        <td>extend</td>\n",
       "        <td>USES</td>\n",
       "        <td>duration</td>\n",
       "    </tr>\n",
       "    <tr>\n",
       "        <td>extend</td>\n",
       "        <td>USES</td>\n",
       "        <td>duration</td>\n",
       "    </tr>\n",
       "    <tr>\n",
       "        <td>extendForWeek</td>\n",
       "        <td>USES</td>\n",
       "        <td>date</td>\n",
       "    </tr>\n",
       "    <tr>\n",
       "        <td>getPrincipalFee</td>\n",
       "        <td>USES</td>\n",
       "        <td>dailyRate</td>\n",
       "    </tr>\n",
       "    <tr>\n",
       "        <td>extendForWeek</td>\n",
       "        <td>USES</td>\n",
       "        <td>dailyRate</td>\n",
       "    </tr>\n",
       "</table>"
      ],
      "text/plain": [
       "[['getAdditionalFees', 'USES', 'fees'],\n",
       " ['addFee', 'USES', 'fees'],\n",
       " ['getPrincipalFee', 'USES', 'customer'],\n",
       " ['extendForWeek', 'USES', 'customer'],\n",
       " ['getPrincipalFee', 'USES', 'duration'],\n",
       " ['extend', 'USES', 'duration'],\n",
       " ['extend', 'USES', 'duration'],\n",
       " ['extendForWeek', 'USES', 'date'],\n",
       " ['getPrincipalFee', 'USES', 'dailyRate'],\n",
       " ['extendForWeek', 'USES', 'dailyRate']]"
      ]
     },
     "execution_count": 3,
     "metadata": {},
     "output_type": "execute_result"
    }
   ],
   "source": [
    "%%cypher\n",
    "MATCH\n",
    "    (c:Class {name : \"Reservation\"}),\n",
    "    (c)-[:DECLARES]->(m:Method),\n",
    "    (c)-[:DECLARES]->(f:Field),\n",
    "    (m)-[:READS|WRITES]->(f)\n",
    "WHERE NOT (m:Constructor)\n",
    "MERGE (m)-[u:USES]->(f)\n",
    "RETURN m.name as method, type(u) as relType, f.name as field"
   ]
  },
  {
   "cell_type": "markdown",
   "metadata": {},
   "source": [
    "We do the same for the dependency between methods. Here, we can just add the relationship `USES` based on the existing `INVOKE` relationship type."
   ]
  },
  {
   "cell_type": "code",
   "execution_count": 4,
   "metadata": {},
   "outputs": [
    {
     "name": "stdout",
     "output_type": "stream",
     "text": [
      "3 relationships created.\n"
     ]
    },
    {
     "data": {
      "text/html": [
       "<table>\n",
       "    <tr>\n",
       "        <th>caller</th>\n",
       "        <th>relType</th>\n",
       "        <th>callee</th>\n",
       "    </tr>\n",
       "    <tr>\n",
       "        <td>extendForWeek</td>\n",
       "        <td>USES</td>\n",
       "        <td>extend</td>\n",
       "    </tr>\n",
       "    <tr>\n",
       "        <td>getTotalFee</td>\n",
       "        <td>USES</td>\n",
       "        <td>getPrincipalFee</td>\n",
       "    </tr>\n",
       "    <tr>\n",
       "        <td>getTotalFee</td>\n",
       "        <td>USES</td>\n",
       "        <td>getAdditionalFees</td>\n",
       "    </tr>\n",
       "</table>"
      ],
      "text/plain": [
       "[['extendForWeek', 'USES', 'extend'],\n",
       " ['getTotalFee', 'USES', 'getPrincipalFee'],\n",
       " ['getTotalFee', 'USES', 'getAdditionalFees']]"
      ]
     },
     "execution_count": 4,
     "metadata": {},
     "output_type": "execute_result"
    }
   ],
   "source": [
    "%%cypher\n",
    "MATCH\n",
    "    (c:Class {name : \"Reservation\"}),\n",
    "    (c)-[:DECLARES]->(m:Method),\n",
    "    (c)-[:DECLARES]->(m2:Method),\n",
    "    (m)-[:INVOKES]->(m2:Method)\n",
    "WHERE NOT (m:Constructor)\n",
    "MERGE (m)-[u:USES]->(m2)\n",
    "RETURN m.name as caller, type(u) as relType, m2.name as callee"
   ]
  },
  {
   "cell_type": "markdown",
   "metadata": {},
   "source": [
    "Next, we calculate for each usage of a method "
   ]
  },
  {
   "cell_type": "code",
   "execution_count": 5,
   "metadata": {},
   "outputs": [
    {
     "name": "stdout",
     "output_type": "stream",
     "text": [
      "6 properties set.\n"
     ]
    },
    {
     "data": {
      "text/html": [
       "<table>\n",
       "    <tr>\n",
       "        <th>method</th>\n",
       "        <th>weight</th>\n",
       "    </tr>\n",
       "    <tr>\n",
       "        <td>getPrincipalFee</td>\n",
       "        <td>3</td>\n",
       "    </tr>\n",
       "    <tr>\n",
       "        <td>getAdditionalFees</td>\n",
       "        <td>1</td>\n",
       "    </tr>\n",
       "    <tr>\n",
       "        <td>getTotalFee</td>\n",
       "        <td>2</td>\n",
       "    </tr>\n",
       "    <tr>\n",
       "        <td>extendForWeek</td>\n",
       "        <td>4</td>\n",
       "    </tr>\n",
       "    <tr>\n",
       "        <td>addFee</td>\n",
       "        <td>1</td>\n",
       "    </tr>\n",
       "    <tr>\n",
       "        <td>extend</td>\n",
       "        <td>1</td>\n",
       "    </tr>\n",
       "</table>"
      ],
      "text/plain": [
       "[['getPrincipalFee', 3],\n",
       " ['getAdditionalFees', 1],\n",
       " ['getTotalFee', 2],\n",
       " ['extendForWeek', 4],\n",
       " ['addFee', 1],\n",
       " ['extend', 1]]"
      ]
     },
     "execution_count": 5,
     "metadata": {},
     "output_type": "execute_result"
    }
   ],
   "source": [
    "%%cypher\n",
    "MATCH (m:Method)-[u:USES]->()\n",
    "WITH m, COUNT(u) as weight\n",
    "SET m.weight = weight\n",
    "RETURN m.name as method, weight"
   ]
  },
  {
   "cell_type": "code",
   "execution_count": 6,
   "metadata": {},
   "outputs": [
    {
     "name": "stdout",
     "output_type": "stream",
     "text": [
      "3 properties set.\n"
     ]
    },
    {
     "data": {
      "text/html": [
       "<table>\n",
       "    <tr>\n",
       "        <th>callee</th>\n",
       "        <th>weight</th>\n",
       "    </tr>\n",
       "    <tr>\n",
       "        <td>getPrincipalFee</td>\n",
       "        <td>1</td>\n",
       "    </tr>\n",
       "    <tr>\n",
       "        <td>getAdditionalFees</td>\n",
       "        <td>1</td>\n",
       "    </tr>\n",
       "    <tr>\n",
       "        <td>extend</td>\n",
       "        <td>1</td>\n",
       "    </tr>\n",
       "</table>"
      ],
      "text/plain": [
       "[['getPrincipalFee', 1], ['getAdditionalFees', 1], ['extend', 1]]"
      ]
     },
     "execution_count": 6,
     "metadata": {},
     "output_type": "execute_result"
    }
   ],
   "source": [
    "%%cypher\n",
    "MATCH (m)-[u:USES]->(m2:Method)\n",
    "WITH m2, COUNT(u) as weight\n",
    "SET m2.weight = weight\n",
    "RETURN m2.name as callee, weight"
   ]
  },
  {
   "cell_type": "markdown",
   "metadata": {},
   "source": [
    "Now we have to move the information of the called items to the relationship."
   ]
  },
  {
   "cell_type": "code",
   "execution_count": 7,
   "metadata": {},
   "outputs": [
    {
     "name": "stdout",
     "output_type": "stream",
     "text": [
      "3 properties set.\n"
     ]
    },
    {
     "data": {
      "text/html": [
       "<table>\n",
       "    <tr>\n",
       "        <th>count(r)</th>\n",
       "    </tr>\n",
       "    <tr>\n",
       "        <td>12</td>\n",
       "    </tr>\n",
       "</table>"
      ],
      "text/plain": [
       "[[12]]"
      ]
     },
     "execution_count": 7,
     "metadata": {},
     "output_type": "execute_result"
    }
   ],
   "source": [
    "%%cypher\n",
    "MATCH (caller)-[r:USES]->(callee)\n",
    "SET r.weight = callee.weight\n",
    "RETURN count(r)"
   ]
  },
  {
   "cell_type": "code",
   "execution_count": 8,
   "metadata": {},
   "outputs": [
    {
     "name": "stdout",
     "output_type": "stream",
     "text": [
      "0 rows affected.\n"
     ]
    },
    {
     "data": {
      "text/html": [
       "<table>\n",
       "    <tr>\n",
       "    </tr>\n",
       "</table>"
      ],
      "text/plain": [
       "[]"
      ]
     },
     "execution_count": 8,
     "metadata": {},
     "output_type": "execute_result"
    }
   ],
   "source": [
    "%%cypher\n",
    "CALL apoc.algo.community(25,null,'group','USES','OUTGOING','weight',10000)"
   ]
  },
  {
   "cell_type": "code",
   "execution_count": 9,
   "metadata": {},
   "outputs": [
    {
     "name": "stdout",
     "output_type": "stream",
     "text": [
      "0 rows affected.\n"
     ]
    },
    {
     "data": {
      "text/html": [
       "<table>\n",
       "    <tr>\n",
       "        <th>(n.name)</th>\n",
       "        <th>n.group</th>\n",
       "    </tr>\n",
       "</table>"
      ],
      "text/plain": [
       "[]"
      ]
     },
     "execution_count": 9,
     "metadata": {},
     "output_type": "execute_result"
    }
   ],
   "source": [
    "%%cypher\n",
    "MATCH (m:Method)-[:USES]->(f:Field)<-[:USES]-(m2:Method)\n",
    "WHERE m.group <> m2.group \n",
    "WITH m.group as newGroupId, m2.group as oldGroupId\n",
    "MATCH (n:Method) WHERE n.group = oldGroupId\n",
    "SET n.group = [newGroupId, oldGroupId]\n",
    "SET n.merged = true\n",
    "RETURN DISTINCT(n.name), n.group;"
   ]
  },
  {
   "cell_type": "code",
   "execution_count": 10,
   "metadata": {},
   "outputs": [
    {
     "name": "stdout",
     "output_type": "stream",
     "text": [
      "0 rows affected.\n"
     ]
    },
    {
     "data": {
      "text/html": [
       "<table>\n",
       "    <tr>\n",
       "        <th>m.name</th>\n",
       "        <th>m.group</th>\n",
       "    </tr>\n",
       "</table>"
      ],
      "text/plain": [
       "[]"
      ]
     },
     "execution_count": 10,
     "metadata": {},
     "output_type": "execute_result"
    }
   ],
   "source": [
    "%%cypher\n",
    "MATCH (m:Method)-[:USES]->(:Field)\n",
    "WHERE NOT EXISTS(m.merged)\n",
    "WITH m, m.group as groupId\n",
    "SET m.merged = false\n",
    "RETURN m.name, m.group;"
   ]
  },
  {
   "cell_type": "code",
   "execution_count": 11,
   "metadata": {},
   "outputs": [
    {
     "name": "stdout",
     "output_type": "stream",
     "text": [
      "2 nodes created.\n",
      "2 properties set.\n",
      "12 relationships created.\n",
      "2 labels added.\n"
     ]
    },
    {
     "data": {
      "text/html": [
       "<table>\n",
       "    <tr>\n",
       "        <th>newClass</th>\n",
       "        <th>method</th>\n",
       "        <th>field</th>\n",
       "    </tr>\n",
       "    <tr>\n",
       "        <td>41</td>\n",
       "        <td>getTotalFee</td>\n",
       "        <td>getAdditionalFees</td>\n",
       "    </tr>\n",
       "    <tr>\n",
       "        <td>41</td>\n",
       "        <td>getTotalFee</td>\n",
       "        <td>getPrincipalFee</td>\n",
       "    </tr>\n",
       "    <tr>\n",
       "        <td>41</td>\n",
       "        <td>extend</td>\n",
       "        <td>duration</td>\n",
       "    </tr>\n",
       "    <tr>\n",
       "        <td>41</td>\n",
       "        <td>extendForWeek</td>\n",
       "        <td>extend</td>\n",
       "    </tr>\n",
       "    <tr>\n",
       "        <td>41</td>\n",
       "        <td>extendForWeek</td>\n",
       "        <td>customer</td>\n",
       "    </tr>\n",
       "    <tr>\n",
       "        <td>41</td>\n",
       "        <td>extendForWeek</td>\n",
       "        <td>date</td>\n",
       "    </tr>\n",
       "    <tr>\n",
       "        <td>41</td>\n",
       "        <td>extendForWeek</td>\n",
       "        <td>dailyRate</td>\n",
       "    </tr>\n",
       "    <tr>\n",
       "        <td>45</td>\n",
       "        <td>addFee</td>\n",
       "        <td>fees</td>\n",
       "    </tr>\n",
       "    <tr>\n",
       "        <td>45</td>\n",
       "        <td>getAdditionalFees</td>\n",
       "        <td>fees</td>\n",
       "    </tr>\n",
       "    <tr>\n",
       "        <td>41</td>\n",
       "        <td>getPrincipalFee</td>\n",
       "        <td>duration</td>\n",
       "    </tr>\n",
       "    <tr>\n",
       "        <td>41</td>\n",
       "        <td>getPrincipalFee</td>\n",
       "        <td>dailyRate</td>\n",
       "    </tr>\n",
       "    <tr>\n",
       "        <td>41</td>\n",
       "        <td>getPrincipalFee</td>\n",
       "        <td>customer</td>\n",
       "    </tr>\n",
       "</table>"
      ],
      "text/plain": [
       "[[41, 'getTotalFee', 'getAdditionalFees'],\n",
       " [41, 'getTotalFee', 'getPrincipalFee'],\n",
       " [41, 'extend', 'duration'],\n",
       " [41, 'extendForWeek', 'extend'],\n",
       " [41, 'extendForWeek', 'customer'],\n",
       " [41, 'extendForWeek', 'date'],\n",
       " [41, 'extendForWeek', 'dailyRate'],\n",
       " [45, 'addFee', 'fees'],\n",
       " [45, 'getAdditionalFees', 'fees'],\n",
       " [41, 'getPrincipalFee', 'duration'],\n",
       " [41, 'getPrincipalFee', 'dailyRate'],\n",
       " [41, 'getPrincipalFee', 'customer']]"
      ]
     },
     "execution_count": 11,
     "metadata": {},
     "output_type": "execute_result"
    }
   ],
   "source": [
    "%%cypher\n",
    "MATCH (m:Method)-[:USES]->(f)\n",
    "MERGE (c:NewClass { name: m.group})\n",
    "MERGE (c)-[:SHOULD_DECLARE]->(m)\n",
    "MERGE (c)-[:SHOULD_DECLARE]->(f)\n",
    "RETURN c.name as newClass, m.name as method, f.name as field"
   ]
  }
 ],
 "metadata": {
  "kernelspec": {
   "display_name": "Python 3",
   "language": "python",
   "name": "python3"
  },
  "language_info": {
   "codemirror_mode": {
    "name": "ipython",
    "version": 3
   },
   "file_extension": ".py",
   "mimetype": "text/x-python",
   "name": "python",
   "nbconvert_exporter": "python",
   "pygments_lexer": "ipython3",
   "version": "3.6.0"
  },
  "varInspector": {
   "cols": {
    "lenName": 16,
    "lenType": 16,
    "lenVar": 40
   },
   "kernels_config": {
    "python": {
     "delete_cmd_postfix": "",
     "delete_cmd_prefix": "del ",
     "library": "var_list.py",
     "varRefreshCmd": "print(var_dic_list())"
    },
    "r": {
     "delete_cmd_postfix": ") ",
     "delete_cmd_prefix": "rm(",
     "library": "var_list.r",
     "varRefreshCmd": "cat(var_dic_list()) "
    }
   },
   "types_to_exclude": [
    "module",
    "function",
    "builtin_function_or_method",
    "instance",
    "_Feature"
   ],
   "window_display": false
  }
 },
 "nbformat": 4,
 "nbformat_minor": 2
}
