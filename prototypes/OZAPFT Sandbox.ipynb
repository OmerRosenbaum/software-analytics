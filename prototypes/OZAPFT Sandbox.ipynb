{
 "cells": [
  {
   "cell_type": "code",
   "execution_count": 1,
   "metadata": {
    "collapsed": true
   },
   "outputs": [],
   "source": [
    "class ConstantDict(object):\n",
    "    \"\"\"An enumeration class.\"\"\"\n",
    "    _dict = None\n",
    "\n",
    "    @classmethod\n",
    "    def dict(cls):\n",
    "        \"\"\"Dictionary of all upper-case constants.\"\"\"\n",
    "        if cls._dict is None:\n",
    "            val = lambda x: getattr(cls, x)\n",
    "            cls._dict = dict(((c, val(c)) for c in dir(cls) if c == c.upper()))\n",
    "        return cls._dict\n",
    "    \n",
    "    def __contains__(self, value):\n",
    "        return value in self.dict().values()\n",
    "\n",
    "    def __iter__(self):\n",
    "        for value in self.dict().values():\n",
    "            yield value\n",
    "            \n",
    "class GitPlaceholder(ConstantDict):\n",
    "    # Placeholders from https://git-scm.com/docs/pretty-formats\n",
    "    SHA = \"%H\" # commit hash\n",
    "    SHA_SHORT = \"%h\" # abbreviated commit hash\n",
    "    TREE_HASH = \"%T\" # tree hash\n",
    "    TREEHASH_SHORT = \"%t\" # abbreviated tree hash\n",
    "    PARENT_HASHES = \"%P\" # parent hashes\n",
    "    PARENT_HASHES_SHORT = \"%p\" # abbreviated parent hashes\n",
    "    AUTHOR_NAME = \"%an\" # author name\n",
    "    AUTHOR_NAME_MAILMAP = \"%aN\" # author name (respecting .mailmap, see git-shortlog(1) or git-blame(1))\n",
    "    AUTHOR_EMAIL = \"%ae\" # author email\n",
    "    AUTHOR_EMAIL_MAILMAP = \"%aE\" # author email (respecting .mailmap, see git-shortlog(1) or git-blame(1))\n",
    "    AUTHOR_DATE = \"%ad\" # author date (format respects --date= option)\n",
    "    AUTHOR_DATE_RFC2822 = \"%aD\" # author date, RFC2822 style\n",
    "    AUTHOR_DATE_RELATIVE = \"%ar\" # author date, relative\n",
    "    AUTHOR_DATE_UNIX = \"%at\" # author date, UNIX timestamp\n",
    "    AUTHOR_DATE_ISO8601_LIKE = \"%ai\" # author date, ISO 8601-like format\n",
    "    AUTHOR_DATE_ISO8601_STRICT = \"%aI\" # author date, strict ISO 8601 format\n",
    "    COMMITTER_NAME = \"%cn\" # committer name\n",
    "    COMMITTER_NAME_MAILMAP = \"%cN\" # committer name (respecting .mailmap, see git-shortlog(1) or git-blame(1))\n",
    "    COMMITTER_EMAIL = \"%ce\" # committer email\n",
    "    COMMITTER_EMAIL_MAILMAP = \"%cE\" # committer email (respecting .mailmap, see git-shortlog(1) or git-blame(1))\n",
    "    COMMITTER_DATE = \"%cd\" # format respects --date= option)# committer date (format respects --date= option)\n",
    "    COMMITTER_DATE_RFC2822 = \"%cD\" # committer date, RFC2822 style\n",
    "    COMMITTER_DATE_RELATIVE = \"%cr\" # committer date, relative\n",
    "    COMMITTER_DATE_UNIX = \"%ct\" # committer date, UNIX timestamp\n",
    "    COMMITTER_DATE_ISO8601_LIKE = \"%ci\" # committer date, ISO 8601-like format\n",
    "    COMMITTER_DATE_ISO8601_STRICT = \"%cI\" # committer date, strict ISO 8601 format\n",
    "    REF_NAMES = \"%d\" # ref names, like the --decorate option of git-log(1)\n",
    "    REF_NAMES_WITHOUT = \"%D\" # ref names without the \"(\", \")\" wrapping.\n",
    "    ENCODING = \"%e\" # encoding\n",
    "    SUBJECT = \"%s\" # subject\n",
    "    SUBJECT_LINE_SANITIZED = \"%f\" # sanitized subject line, suitable for a filename\n",
    "    BODY = \"%b\" # body\n",
    "    RAW_BODY = \"%B\" # raw body (unwrapped subject and body)\n",
    "    COMMIT_NOTES = \"%N\" # commit notes\n",
    "    \n",
    "    _rev_dict = None\n",
    "    @classmethod\n",
    "    def name(cls, placeholder):\n",
    "        GitPlaceholder.dict()\n",
    "        if not cls._rev_dict:\n",
    "            cls._rev_dict = dict((v,k) for k,v in cls._dict.items())\n",
    "                \n",
    "        name = cls._rev_dict.get(placeholder)\n",
    "        if name:\n",
    "            return name.lower()\n",
    "        return name"
   ]
  },
  {
   "cell_type": "code",
   "execution_count": 2,
   "metadata": {},
   "outputs": [
    {
     "data": {
      "text/plain": [
       "'\"\\x129ff851923d\\x12Tue Jul 4 13:20:10 2017 +0800\\x12xinyuan-zhang\\x12xinyuan.zhang@oracle.com\\x12Merge pull request'"
      ]
     },
     "execution_count": 2,
     "metadata": {},
     "output_type": "execute_result"
    }
   ],
   "source": [
    "import git \n",
    "\n",
    "GIT_LOG_FILE = r'C:\\dev\\repos\\mojarra'\n",
    "repo = git.Repo(GIT_LOG_FILE, odbt=git.GitCmdObjectDB)\n",
    "g = repo.git\n",
    "GIT_SEPARATOR = \"\\u0012\"\n",
    "info = [\n",
    "    GitPlaceholder.SHA_SHORT, \n",
    "    GitPlaceholder.AUTHOR_DATE, \n",
    "    GitPlaceholder.AUTHOR_NAME, \n",
    "    GitPlaceholder.AUTHOR_EMAIL,\n",
    "    GitPlaceholder.SUBJECT]\n",
    "\n",
    "format_string =  GIT_SEPARATOR + GIT_SEPARATOR.join(info)\n",
    "numstat = '--numstat'\n",
    "log = g.log('--all', numstat, '--no-renames', '--pretty=format:\"' + format_string + '\"')\n",
    "log[0:100]"
   ]
  },
  {
   "cell_type": "code",
   "execution_count": 3,
   "metadata": {},
   "outputs": [
    {
     "data": {
      "text/html": [
       "<div>\n",
       "<style>\n",
       "    .dataframe thead tr:only-child th {\n",
       "        text-align: right;\n",
       "    }\n",
       "\n",
       "    .dataframe thead th {\n",
       "        text-align: left;\n",
       "    }\n",
       "\n",
       "    .dataframe tbody tr th {\n",
       "        vertical-align: top;\n",
       "    }\n",
       "</style>\n",
       "<table border=\"1\" class=\"dataframe\">\n",
       "  <thead>\n",
       "    <tr style=\"text-align: right;\">\n",
       "      <th></th>\n",
       "      <th>data</th>\n",
       "    </tr>\n",
       "  </thead>\n",
       "  <tbody>\n",
       "    <tr>\n",
       "      <th>0</th>\n",
       "      <td>\u00129ff851923d\u0012Tue Jul 4 13:20:10 2017 +0800\u0012xiny...</td>\n",
       "    </tr>\n",
       "    <tr>\n",
       "      <th>1</th>\n",
       "      <td>\u00124b9790b036\u0012Tue Jul 4 13:19:37 2017 +0800\u0012xiny...</td>\n",
       "    </tr>\n",
       "    <tr>\n",
       "      <th>2</th>\n",
       "      <td>\u00122426043e64\u0012Mon Jul 3 14:09:31 2017 +0800\u0012xiny...</td>\n",
       "    </tr>\n",
       "    <tr>\n",
       "      <th>3</th>\n",
       "      <td>5\\t1\\tjsf-tools/template-src/StateHolderSaver....</td>\n",
       "    </tr>\n",
       "    <tr>\n",
       "      <th>4</th>\n",
       "      <td>\u00123918632c91\u0012Mon Jul 3 14:09:31 2017 +0800\u0012xiny...</td>\n",
       "    </tr>\n",
       "  </tbody>\n",
       "</table>\n",
       "</div>"
      ],
      "text/plain": [
       "                                                data\n",
       "0  \u00129ff851923d\u0012Tue Jul 4 13:20:10 2017 +0800\u0012xiny...\n",
       "1  \u00124b9790b036\u0012Tue Jul 4 13:19:37 2017 +0800\u0012xiny...\n",
       "2  \u00122426043e64\u0012Mon Jul 3 14:09:31 2017 +0800\u0012xiny...\n",
       "3  5\\t1\\tjsf-tools/template-src/StateHolderSaver....\n",
       "4  \u00123918632c91\u0012Mon Jul 3 14:09:31 2017 +0800\u0012xiny..."
      ]
     },
     "execution_count": 3,
     "metadata": {},
     "output_type": "execute_result"
    }
   ],
   "source": [
    "import pandas as pd\n",
    "from io import StringIO\n",
    "\n",
    "commits_raw = pd.read_csv(StringIO(log), \n",
    "    sep=GIT_SEPARATOR, \n",
    "    header=None,\n",
    "    names=['data'])\n",
    "commits_raw.head()                      "
   ]
  },
  {
   "cell_type": "code",
   "execution_count": 1,
   "metadata": {},
   "outputs": [
    {
     "ename": "NameError",
     "evalue": "name 'commits_raw' is not defined",
     "output_type": "error",
     "traceback": [
      "\u001b[1;31m---------------------------------------------------------------------------\u001b[0m",
      "\u001b[1;31mNameError\u001b[0m                                 Traceback (most recent call last)",
      "\u001b[1;32m<ipython-input-1-47f2da608b03>\u001b[0m in \u001b[0;36m<module>\u001b[1;34m()\u001b[0m\n\u001b[1;32m----> 1\u001b[1;33m \u001b[0mcommits_raw\u001b[0m\u001b[1;33m[\u001b[0m\u001b[1;34m'data'\u001b[0m\u001b[1;33m]\u001b[0m\u001b[1;33m\u001b[0m\u001b[0m\n\u001b[0m",
      "\u001b[1;31mNameError\u001b[0m: name 'commits_raw' is not defined"
     ]
    }
   ],
   "source": [
    "commits_raw['data']"
   ]
  },
  {
   "cell_type": "code",
   "execution_count": 8,
   "metadata": {},
   "outputs": [
    {
     "data": {
      "text/plain": [
       "[None, 'sha_short', 'author_date', 'author_name', 'author_email', 'subject']"
      ]
     },
     "execution_count": 8,
     "metadata": {},
     "output_type": "execute_result"
    }
   ],
   "source": [
    "placeholdernames = [None] + [GitPlaceholder.name(x) for x in info]\n",
    "placeholdernames"
   ]
  },
  {
   "cell_type": "code",
   "execution_count": 9,
   "metadata": {},
   "outputs": [
    {
     "data": {
      "text/html": [
       "<div>\n",
       "<table border=\"1\" class=\"dataframe\">\n",
       "  <thead>\n",
       "    <tr style=\"text-align: right;\">\n",
       "      <th></th>\n",
       "      <th>None</th>\n",
       "      <th>sha_short</th>\n",
       "      <th>author_date</th>\n",
       "      <th>author_name</th>\n",
       "      <th>author_email</th>\n",
       "      <th>subject</th>\n",
       "    </tr>\n",
       "  </thead>\n",
       "  <tbody>\n",
       "    <tr>\n",
       "      <th>0</th>\n",
       "      <td></td>\n",
       "      <td>9ff851923d</td>\n",
       "      <td>2017-07-04 05:20:10</td>\n",
       "      <td>xinyuan-zhang</td>\n",
       "      <td>xinyuan.zhang@oracle.com</td>\n",
       "      <td>Merge pull request #4256 from stiemannkj1/fix-...</td>\n",
       "    </tr>\n",
       "    <tr>\n",
       "      <th>1</th>\n",
       "      <td></td>\n",
       "      <td>4b9790b036</td>\n",
       "      <td>2017-07-04 05:19:37</td>\n",
       "      <td>xinyuan-zhang</td>\n",
       "      <td>xinyuan.zhang@oracle.com</td>\n",
       "      <td>Merge pull request #4257 from stiemannkj1/fix-...</td>\n",
       "    </tr>\n",
       "    <tr>\n",
       "      <th>2</th>\n",
       "      <td></td>\n",
       "      <td>2426043e64</td>\n",
       "      <td>2017-07-03 06:09:31</td>\n",
       "      <td>xinyuan-zhang</td>\n",
       "      <td>xinyuan.zhang@oracle.com</td>\n",
       "      <td>NullPointerException in StateHolderSaver contr...</td>\n",
       "    </tr>\n",
       "    <tr>\n",
       "      <th>3</th>\n",
       "      <td>5\\t1\\tjsf-tools/template-src/StateHolderSaver....</td>\n",
       "      <td>2426043e64</td>\n",
       "      <td>2017-07-03 06:09:31</td>\n",
       "      <td>xinyuan-zhang</td>\n",
       "      <td>xinyuan.zhang@oracle.com</td>\n",
       "      <td>NullPointerException in StateHolderSaver contr...</td>\n",
       "    </tr>\n",
       "    <tr>\n",
       "      <th>4</th>\n",
       "      <td></td>\n",
       "      <td>3918632c91</td>\n",
       "      <td>2017-07-03 06:09:31</td>\n",
       "      <td>xinyuan-zhang</td>\n",
       "      <td>xinyuan.zhang@oracle.com</td>\n",
       "      <td>NullPointerException in StateHolderSaver contr...</td>\n",
       "    </tr>\n",
       "  </tbody>\n",
       "</table>\n",
       "</div>"
      ],
      "text/plain": [
       "                                                 NaN   sha_short  \\\n",
       "0                                                     9ff851923d   \n",
       "1                                                     4b9790b036   \n",
       "2                                                     2426043e64   \n",
       "3  5\\t1\\tjsf-tools/template-src/StateHolderSaver....  2426043e64   \n",
       "4                                                     3918632c91   \n",
       "\n",
       "          author_date    author_name              author_email  \\\n",
       "0 2017-07-04 05:20:10  xinyuan-zhang  xinyuan.zhang@oracle.com   \n",
       "1 2017-07-04 05:19:37  xinyuan-zhang  xinyuan.zhang@oracle.com   \n",
       "2 2017-07-03 06:09:31  xinyuan-zhang  xinyuan.zhang@oracle.com   \n",
       "3 2017-07-03 06:09:31  xinyuan-zhang  xinyuan.zhang@oracle.com   \n",
       "4 2017-07-03 06:09:31  xinyuan-zhang  xinyuan.zhang@oracle.com   \n",
       "\n",
       "                                             subject  \n",
       "0  Merge pull request #4256 from stiemannkj1/fix-...  \n",
       "1  Merge pull request #4257 from stiemannkj1/fix-...  \n",
       "2  NullPointerException in StateHolderSaver contr...  \n",
       "3  NullPointerException in StateHolderSaver contr...  \n",
       "4  NullPointerException in StateHolderSaver contr...  "
      ]
     },
     "execution_count": 9,
     "metadata": {},
     "output_type": "execute_result"
    }
   ],
   "source": [
    "commit_metadata = commits_raw['data'].str.split(GIT_SEPARATOR, expand=True)\n",
    "commit_metadata = commit_metadata.fillna(method='ffill')\n",
    "commit_metadata.columns = placeholdernames\n",
    "#commit_metadata['author_date'] = pd.to_datetime(commit_metadata['author_date'], infer_datetime_format=True)\n",
    "commit_metadata.head()"
   ]
  },
  {
   "cell_type": "code",
   "execution_count": 41,
   "metadata": {},
   "outputs": [
    {
     "data": {
      "text/html": [
       "<div>\n",
       "<table border=\"1\" class=\"dataframe\">\n",
       "  <thead>\n",
       "    <tr style=\"text-align: right;\">\n",
       "      <th></th>\n",
       "      <th>additions</th>\n",
       "      <th>deletions</th>\n",
       "      <th>filename</th>\n",
       "    </tr>\n",
       "  </thead>\n",
       "  <tbody>\n",
       "    <tr>\n",
       "      <th>3</th>\n",
       "      <td>5</td>\n",
       "      <td>1</td>\n",
       "      <td>jsf-tools/template-src/StateHolderSaver.java</td>\n",
       "    </tr>\n",
       "    <tr>\n",
       "      <th>5</th>\n",
       "      <td>5</td>\n",
       "      <td>1</td>\n",
       "      <td>jsf-tools/template-src/StateHolderSaver.java</td>\n",
       "    </tr>\n",
       "    <tr>\n",
       "      <th>7</th>\n",
       "      <td>5</td>\n",
       "      <td>1</td>\n",
       "      <td>jsf-tools/template-src/StateHolderSaver.java</td>\n",
       "    </tr>\n",
       "    <tr>\n",
       "      <th>9</th>\n",
       "      <td>2</td>\n",
       "      <td>2</td>\n",
       "      <td>common/ant/common.xml</td>\n",
       "    </tr>\n",
       "    <tr>\n",
       "      <th>10</th>\n",
       "      <td>1</td>\n",
       "      <td>1</td>\n",
       "      <td>jsf-tools/pom.xml</td>\n",
       "    </tr>\n",
       "  </tbody>\n",
       "</table>\n",
       "</div>"
      ],
      "text/plain": [
       "   additions deletions                                      filename\n",
       "3          5         1  jsf-tools/template-src/StateHolderSaver.java\n",
       "5          5         1  jsf-tools/template-src/StateHolderSaver.java\n",
       "7          5         1  jsf-tools/template-src/StateHolderSaver.java\n",
       "9          2         2                         common/ant/common.xml\n",
       "10         1         1                             jsf-tools/pom.xml"
      ]
     },
     "execution_count": 41,
     "metadata": {},
     "output_type": "execute_result"
    }
   ],
   "source": [
    "file_info = commit_metadata[None].str.split(\"\\t\", expand=True).dropna()\n",
    "file_info.columns = ['additions', \"deletions\", \"filename\"]\n",
    "file_info.head()"
   ]
  },
  {
   "cell_type": "code",
   "execution_count": 42,
   "metadata": {},
   "outputs": [
    {
     "data": {
      "text/plain": [
       "additions     int64\n",
       "deletions     int64\n",
       "filename     object\n",
       "dtype: object"
      ]
     },
     "execution_count": 42,
     "metadata": {},
     "output_type": "execute_result"
    }
   ],
   "source": [
    "file_info['additions'] = pd.to_numeric(file_info['additions'].replace(\"-\", \"0\"))\n",
    "file_info['deletions'] = pd.to_numeric(file_info['deletions'].replace(\"-\", \"0\"))\n",
    "file_info.dtypes"
   ]
  },
  {
   "cell_type": "code",
   "execution_count": 43,
   "metadata": {},
   "outputs": [
    {
     "data": {
      "text/html": [
       "<div>\n",
       "<table border=\"1\" class=\"dataframe\">\n",
       "  <thead>\n",
       "    <tr style=\"text-align: right;\">\n",
       "      <th></th>\n",
       "      <th>sha_short</th>\n",
       "      <th>author_date</th>\n",
       "      <th>author_name</th>\n",
       "      <th>author_email</th>\n",
       "      <th>subject</th>\n",
       "      <th>additions</th>\n",
       "      <th>deletions</th>\n",
       "      <th>filename</th>\n",
       "    </tr>\n",
       "  </thead>\n",
       "  <tbody>\n",
       "    <tr>\n",
       "      <th>3</th>\n",
       "      <td>2426043e64</td>\n",
       "      <td>2017-07-03 06:09:31</td>\n",
       "      <td>xinyuan-zhang</td>\n",
       "      <td>xinyuan.zhang@oracle.com</td>\n",
       "      <td>NullPointerException in StateHolderSaver contr...</td>\n",
       "      <td>5</td>\n",
       "      <td>1</td>\n",
       "      <td>jsf-tools/template-src/StateHolderSaver.java</td>\n",
       "    </tr>\n",
       "    <tr>\n",
       "      <th>5</th>\n",
       "      <td>3918632c91</td>\n",
       "      <td>2017-07-03 06:09:31</td>\n",
       "      <td>xinyuan-zhang</td>\n",
       "      <td>xinyuan.zhang@oracle.com</td>\n",
       "      <td>NullPointerException in StateHolderSaver contr...</td>\n",
       "      <td>5</td>\n",
       "      <td>1</td>\n",
       "      <td>jsf-tools/template-src/StateHolderSaver.java</td>\n",
       "    </tr>\n",
       "    <tr>\n",
       "      <th>7</th>\n",
       "      <td>1b59dd81a1</td>\n",
       "      <td>2017-07-03 06:09:31</td>\n",
       "      <td>xinyuan-zhang</td>\n",
       "      <td>xinyuan.zhang@oracle.com</td>\n",
       "      <td>NullPointerException in StateHolderSaver contr...</td>\n",
       "      <td>5</td>\n",
       "      <td>1</td>\n",
       "      <td>jsf-tools/template-src/StateHolderSaver.java</td>\n",
       "    </tr>\n",
       "    <tr>\n",
       "      <th>9</th>\n",
       "      <td>455223088b</td>\n",
       "      <td>2017-06-28 05:07:41</td>\n",
       "      <td>xinyuan-zhang</td>\n",
       "      <td>xinyuan.zhang@oracle.com</td>\n",
       "      <td>Let's start work for release 2.3.3-SNAPSHOT</td>\n",
       "      <td>2</td>\n",
       "      <td>2</td>\n",
       "      <td>common/ant/common.xml</td>\n",
       "    </tr>\n",
       "    <tr>\n",
       "      <th>10</th>\n",
       "      <td>455223088b</td>\n",
       "      <td>2017-06-28 05:07:41</td>\n",
       "      <td>xinyuan-zhang</td>\n",
       "      <td>xinyuan.zhang@oracle.com</td>\n",
       "      <td>Let's start work for release 2.3.3-SNAPSHOT</td>\n",
       "      <td>1</td>\n",
       "      <td>1</td>\n",
       "      <td>jsf-tools/pom.xml</td>\n",
       "    </tr>\n",
       "  </tbody>\n",
       "</table>\n",
       "</div>"
      ],
      "text/plain": [
       "     sha_short         author_date    author_name              author_email  \\\n",
       "3   2426043e64 2017-07-03 06:09:31  xinyuan-zhang  xinyuan.zhang@oracle.com   \n",
       "5   3918632c91 2017-07-03 06:09:31  xinyuan-zhang  xinyuan.zhang@oracle.com   \n",
       "7   1b59dd81a1 2017-07-03 06:09:31  xinyuan-zhang  xinyuan.zhang@oracle.com   \n",
       "9   455223088b 2017-06-28 05:07:41  xinyuan-zhang  xinyuan.zhang@oracle.com   \n",
       "10  455223088b 2017-06-28 05:07:41  xinyuan-zhang  xinyuan.zhang@oracle.com   \n",
       "\n",
       "                                              subject  additions  deletions  \\\n",
       "3   NullPointerException in StateHolderSaver contr...          5          1   \n",
       "5   NullPointerException in StateHolderSaver contr...          5          1   \n",
       "7   NullPointerException in StateHolderSaver contr...          5          1   \n",
       "9         Let's start work for release 2.3.3-SNAPSHOT          2          2   \n",
       "10        Let's start work for release 2.3.3-SNAPSHOT          1          1   \n",
       "\n",
       "                                        filename  \n",
       "3   jsf-tools/template-src/StateHolderSaver.java  \n",
       "5   jsf-tools/template-src/StateHolderSaver.java  \n",
       "7   jsf-tools/template-src/StateHolderSaver.java  \n",
       "9                          common/ant/common.xml  \n",
       "10                             jsf-tools/pom.xml  "
      ]
     },
     "execution_count": 43,
     "metadata": {},
     "output_type": "execute_result"
    }
   ],
   "source": [
    "commits = commit_metadata.join(file_info, how='right')\n",
    "del(commits[None])\n",
    "commits.head()"
   ]
  },
  {
   "cell_type": "code",
   "execution_count": 58,
   "metadata": {},
   "outputs": [
    {
     "name": "stderr",
     "output_type": "stream",
     "text": [
      "C:\\dev\\apps\\Anaconda3\\lib\\site-packages\\ipykernel\\__main__.py:2: FutureWarning: \n",
      ".resample() is now a deferred operation\n",
      "You called cumsum(...) on this deferred object which materialized it into a dataframe\n",
      "by implicitly taking the mean.  Use .resample(...).mean() instead\n",
      "  from ipykernel import kernelapp as app\n"
     ]
    },
    {
     "data": {
      "text/plain": [
       "<matplotlib.axes._subplots.AxesSubplot at 0x2843ce8b240>"
      ]
     },
     "execution_count": 58,
     "metadata": {},
     "output_type": "execute_result"
    },
    {
     "data": {
      "image/png": "[encoded data removed]",
      "text/plain": [
       "<matplotlib.figure.Figure at 0x2843cdd7a58>"
      ]
     },
     "metadata": {},
     "output_type": "display_data"
    }
   ],
   "source": [
    "%matplotlib inline \n",
    "commits.set_index(commits['author_date']).resample('1D').cumsum().fillna(method='ffill').plot()"
   ]
  }
 ],
 "metadata": {
  "kernelspec": {
   "display_name": "Python 3",
   "language": "python",
   "name": "python3"
  },
  "language_info": {
   "codemirror_mode": {
    "name": "ipython",
    "version": 3
   },
   "file_extension": ".py",
   "mimetype": "text/x-python",
   "name": "python",
   "nbconvert_exporter": "python",
   "pygments_lexer": "ipython3",
   "version": "3.6.1"
  }
 },
 "nbformat": 4,
 "nbformat_minor": 2
}
