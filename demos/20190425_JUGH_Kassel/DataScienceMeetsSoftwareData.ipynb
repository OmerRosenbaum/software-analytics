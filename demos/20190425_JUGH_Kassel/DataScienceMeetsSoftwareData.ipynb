{
 "cells": [
  {
   "cell_type": "markdown",
   "metadata": {
    "slideshow": {
     "slide_type": "slide"
    }
   },
   "source": [
    "\n",
    "# Mit Datenanalysen Probleme in der Entwicklung aufzeigen\n",
    "<small>Java User Group Hessen, Kassel, 25.04.2019</small>\n",
    "\n",
    "<b>Markus Harrer</b>, Software Development Analyst\n",
    "  \n",
    "Twitter: `@feststelltaste`  \n",
    "Blog: `feststelltaste.de`\n",
    "\n",
    "\n",
    "\n",
    "<img src=\"../resources/innoq_logo.jpg\" width=20% height=\"20%\" align=\"right\"/>"
   ]
  },
  {
   "cell_type": "markdown",
   "metadata": {
    "slideshow": {
     "slide_type": "slide"
    }
   },
   "source": [
    "## Das Problem mit den Problemen in der Softwareentwicklung"
   ]
  },
  {
   "cell_type": "markdown",
   "metadata": {
    "slideshow": {
     "slide_type": "slide"
    }
   },
   "source": [
    "### Der typische Software-Problemverlauf\n",
    "<img src=\"../resources/schuld1.png\" width=85% align=\"center\"/>"
   ]
  },
  {
   "cell_type": "markdown",
   "metadata": {
    "slideshow": {
     "slide_type": "slide"
    }
   },
   "source": [
    "### Der typische Software-Problemverlauf\n",
    "<img src=\"../resources/schuld2.png\" width=85% align=\"center\"/>"
   ]
  },
  {
   "cell_type": "markdown",
   "metadata": {
    "slideshow": {
     "slide_type": "slide"
    }
   },
   "source": [
    "### Der typische Software-Problemverlauf\n",
    "<img src=\"../resources/schuld3.png\" width=85% align=\"center\"/>"
   ]
  },
  {
   "cell_type": "markdown",
   "metadata": {
    "slideshow": {
     "slide_type": "slide"
    }
   },
   "source": [
    "### Der typische Software-Problemverlauf\n",
    "<img src=\"../resources/schuld4.png\" width=85% align=\"center\"/>"
   ]
  },
  {
   "cell_type": "markdown",
   "metadata": {
    "slideshow": {
     "slide_type": "slide"
    }
   },
   "source": [
    "## Das eigentliche Problem"
   ]
  },
  {
   "cell_type": "markdown",
   "metadata": {
    "slideshow": {
     "slide_type": "slide"
    }
   },
   "source": [
    "<img src=\"../resources/kombar0.png\" width=95% align=\"center\"/>"
   ]
  },
  {
   "cell_type": "markdown",
   "metadata": {
    "slideshow": {
     "slide_type": "slide"
    }
   },
   "source": [
    "<img src=\"../resources/kombar1.png\" width=95% align=\"center\"/>"
   ]
  },
  {
   "cell_type": "markdown",
   "metadata": {
    "slideshow": {
     "slide_type": "slide"
    }
   },
   "source": [
    "<img src=\"../resources/kombar2.png\" width=95% align=\"center\"/>"
   ]
  },
  {
   "cell_type": "markdown",
   "metadata": {
    "slideshow": {
     "slide_type": "slide"
    }
   },
   "source": [
    "<img src=\"../resources/kombar3.png\" width=95% align=\"center\"/>"
   ]
  },
  {
   "cell_type": "markdown",
   "metadata": {
    "slideshow": {
     "slide_type": "slide"
    }
   },
   "source": [
    "## Wie Daten analysieren?"
   ]
  },
  {
   "cell_type": "markdown",
   "metadata": {
    "slideshow": {
     "slide_type": "slide"
    }
   },
   "source": [
    "<div align=\"center\">\n",
    "<h3>The <span class=\"yellow\">ultimate</span>, <span class=\"green\">super</span> <span class=\"red\">awesome</span><br/> Quality Management Dashboard</h3>\n",
    "\n",
    "<img src=\"../resources/Sonarqube-nemo-dashboard_small.png\">\n",
    "    </div>"
   ]
  },
  {
   "cell_type": "markdown",
   "metadata": {
    "slideshow": {
     "slide_type": "slide"
    }
   },
   "source": [
    "### Häufigkeit von Fragen vs. deren Risiken\n",
    "<img src=\"../resources/risk1.png\" width=95% align=\"center\"/>"
   ]
  },
  {
   "cell_type": "markdown",
   "metadata": {
    "slideshow": {
     "slide_type": "slide"
    }
   },
   "source": [
    "### Häufigkeit von Fragen vs. deren Risiken\n",
    "<img src=\"../resources/risk2.png\" width=95% align=\"center\"/>"
   ]
  },
  {
   "cell_type": "markdown",
   "metadata": {
    "slideshow": {
     "slide_type": "slide"
    }
   },
   "source": [
    "### Häufigkeit von Fragen vs. deren Risiken\n",
    "<img src=\"../resources/risk3.png\" width=95% align=\"center\"/>"
   ]
  },
  {
   "cell_type": "markdown",
   "metadata": {
    "slideshow": {
     "slide_type": "slide"
    }
   },
   "source": [
    "### Häufigkeit von Fragen vs. deren Risiken\n",
    "<img src=\"../resources/risk4.png\" width=95% align=\"center\"/>"
   ]
  },
  {
   "cell_type": "markdown",
   "metadata": {
    "slideshow": {
     "slide_type": "slide"
    }
   },
   "source": [
    "## Es braucht zusätzliche, situations-spezifische **Datenanalysen**!"
   ]
  },
  {
   "cell_type": "markdown",
   "metadata": {
    "slideshow": {
     "slide_type": "fragment"
    }
   },
   "source": [
    "Wie machen es andere Disziplinen?"
   ]
  },
  {
   "cell_type": "markdown",
   "metadata": {
    "slideshow": {
     "slide_type": "fragment"
    }
   },
   "source": [
    "# Data Science!"
   ]
  },
  {
   "cell_type": "markdown",
   "metadata": {
    "slideshow": {
     "slide_type": "slide"
    }
   },
   "source": [
    "### Was ist Data Science?"
   ]
  },
  {
   "cell_type": "markdown",
   "metadata": {
    "slideshow": {
     "slide_type": "fragment"
    }
   },
   "source": [
    "\"<b><span class=\"green\">Datenanalysen</span></b> auf nem **Mac**.\"\n",
    "<br/>\n",
    "<br/>\n",
    "<div align=\"right\"><small>Frei nach https://twitter.com/cdixon/status/428914681911070720</small></div>"
   ]
  },
  {
   "cell_type": "markdown",
   "metadata": {
    "slideshow": {
     "slide_type": "slide"
    }
   },
   "source": [
    "<div align=\"center\">\n",
    "    <img src =\"../resources/trollface.jpg\" align=\"center\"/>\n",
    "</div>"
   ]
  },
  {
   "cell_type": "markdown",
   "metadata": {
    "slideshow": {
     "slide_type": "slide"
    }
   },
   "source": [
    "### Meine Definition von Data Science"
   ]
  },
  {
   "cell_type": "markdown",
   "metadata": {
    "slideshow": {
     "slide_type": "slide"
    }
   },
   "source": [
    "#### Was bedeutet \"**data**\"?\n",
    "\"Without **data** you‘re just another person with an opinion.\"\n",
    "<br/>\n",
    "<div align=\"right\"><small>W. Edwards Deming</small></div>"
   ]
  },
  {
   "cell_type": "markdown",
   "metadata": {
    "slideshow": {
     "slide_type": "fragment"
    }
   },
   "source": [
    "<b>=> Belastbare Erkenntnisse mittels <span class=\"green\">Fakten</span> liefern</b>"
   ]
  },
  {
   "cell_type": "markdown",
   "metadata": {
    "slideshow": {
     "slide_type": "slide"
    }
   },
   "source": [
    "#### Was bedeutet \"**science**\"?\n",
    "  \n",
    "  \n",
    "\"The aim of **science** is to seek the simplest explanations of complex facts.\"\n",
    "<br/>\n",
    "<div align=\"right\"><small>Albert Einstein</small></div>"
   ]
  },
  {
   "cell_type": "markdown",
   "metadata": {
    "slideshow": {
     "slide_type": "fragment"
    }
   },
   "source": [
    "<b>=> Neue Erkenntnisse <span class=\"green\">verständlich</span> herausarbeiten</b>"
   ]
  },
  {
   "cell_type": "markdown",
   "metadata": {
    "slideshow": {
     "slide_type": "slide"
    }
   },
   "source": [
    "### Was ist ein Data Scientist?\n",
    "\"Jemand, der mehr Ahnung von **Statistik**<br/>\n",
    "&nbsp;&nbsp;hat als ein <b><span class=\"green\">Softwareentwickler</span></b><br/>\n",
    "&nbsp;&nbsp;und mehr Ahnung von <b><span class=\"green\">Softwareentwicklung</span></b><br/>\n",
    "&nbsp;&nbsp;als ein **Statistiker**.\"\n",
    "<br/>\n",
    "<br/>\n",
    "<div align=\"right\"><small>Nach zu https://twitter.com/cdixon/status/428914681911070720</small></div>"
   ]
  },
  {
   "cell_type": "markdown",
   "metadata": {
    "slideshow": {
     "slide_type": "fragment"
    }
   },
   "source": [
    "<b>Data Science:</b> **Perfect** <b><span class=\"green\">match</span></b>!"
   ]
  },
  {
   "cell_type": "markdown",
   "metadata": {
    "slideshow": {
     "slide_type": "slide"
    }
   },
   "source": [
    "## Was an Daten analysieren?"
   ]
  },
  {
   "cell_type": "markdown",
   "metadata": {
    "slideshow": {
     "slide_type": "slide"
    }
   },
   "source": [
    "### Softwaredaten!\n",
    "\n",
    "Alles was aus der Entwicklung und dem Betrieb der Softwaresysteme so anfällt: \n",
    "* Statische Daten\n",
    "* Laufzeitdaten\n",
    "* Chronologische Daten\n",
    "* Daten aus der Software-Community"
   ]
  },
  {
   "cell_type": "markdown",
   "metadata": {
    "slideshow": {
     "slide_type": "slide"
    }
   },
   "source": [
    "## Zwischenfazit\n",
    "\n",
    "Data Science <span class=\"red\">&#10084;</span> Software Data <span style=\"color:white\">= <b>Software Analytics</b></span>"
   ]
  },
  {
   "cell_type": "markdown",
   "metadata": {
    "slideshow": {
     "slide_type": "slide"
    }
   },
   "source": [
    "## Zwischenfazit\n",
    "\n",
    "Data Science <span class=\"red\">&#10084;</span> Software Data = <b>Software Analytics</b>"
   ]
  },
  {
   "cell_type": "markdown",
   "metadata": {
    "slideshow": {
     "slide_type": "slide"
    }
   },
   "source": [
    "## Definition Software Analytics\n",
    "\"Software Analytics is analytics on software data for **managers** and <b class=\"green\">software engineers</b> with the aim of empowering software development individuals and teams to gain and share insight from their data to <b>make better decisions</b>.\"\n",
    "<br/>\n",
    "<div align=\"right\"><small>Tim Menzies and Thomas Zimmermann</small></div>\n"
   ]
  },
  {
   "cell_type": "markdown",
   "metadata": {
    "slideshow": {
     "slide_type": "slide"
    }
   },
   "source": [
    "## Wie Software Analytics umsetzen?"
   ]
  },
  {
   "cell_type": "markdown",
   "metadata": {
    "slideshow": {
     "slide_type": "slide"
    }
   },
   "source": [
    "### Der Leitgedanke\n",
    "\n",
    "[(Daten + Code + Ergebnis) * gedanklichen Schritt]  + komplette Automatisierung"
   ]
  },
  {
   "cell_type": "markdown",
   "metadata": {
    "slideshow": {
     "slide_type": "fragment"
    }
   },
   "source": [
    "Schlüsselelement: **Computational notebooks**"
   ]
  },
  {
   "cell_type": "markdown",
   "metadata": {
    "slideshow": {
     "slide_type": "slide"
    }
   },
   "source": [
    "### Der Notebook-Ansatz\n",
    "<br/>\n",
    "  \n",
    "\n",
    "<div align=\"center\"><img src=\"../resources/notebook_approach.jpg\"></div>"
   ]
  },
  {
   "cell_type": "markdown",
   "metadata": {
    "slideshow": {
     "slide_type": "slide"
    }
   },
   "source": [
    "### Technologie (1/2)\n",
    "Klassischer Data-Science-Werkzeugkasten\n",
    "* **Jupyter**\n",
    "* Python 3\n",
    "* pandas\n",
    "* matplotlib"
   ]
  },
  {
   "cell_type": "markdown",
   "metadata": {
    "slideshow": {
     "slide_type": "slide"
    }
   },
   "source": [
    "### Technologie (2/2)\n",
    "**Jupyter** funktioniert und integriert sich auch mit\n",
    "* Cypher / Neo4j / jQAssistant\n",
    "* JVM-Sprachen über beakerx / Tablesaw\n",
    "* bash\n",
    "* ..."
   ]
  },
  {
   "cell_type": "markdown",
   "metadata": {
    "slideshow": {
     "slide_type": "slide"
    }
   },
   "source": [
    "### Beispiele für gezielte Datenanalysen\n",
    "* Performance-Bottlenecks\n",
    "* Verborgene Teamkommunikation\n",
    "* Architektur-/Design-/Code-Smells\n",
    "* <b>No-Go-Areas in Altanwendungen</b>\n",
    "* ..."
   ]
  },
  {
   "cell_type": "markdown",
   "metadata": {
    "slideshow": {
     "slide_type": "slide"
    }
   },
   "source": [
    "# Praktischer Teil"
   ]
  },
  {
   "cell_type": "markdown",
   "metadata": {
    "slideshow": {
     "slide_type": "slide"
    }
   },
   "source": [
    "## Erstes Hands-On\n",
    "No-Go-Areas in Altanwendungen"
   ]
  },
  {
   "cell_type": "markdown",
   "metadata": {
    "slideshow": {
     "slide_type": "slide"
    }
   },
   "source": [
    "### Der Patient\n",
    "\n",
    "#### Linux\n",
    "\n",
    "* Betriebsystem-Kernel\n",
    "* Hat verschiedene Treiberkomponenten\n",
    "* Fast ausschließlich in C geschrieben\n",
    "* Entwickelt von über 800.000 Entwicklern"
   ]
  },
  {
   "cell_type": "markdown",
   "metadata": {
    "slideshow": {
     "slide_type": "slide"
    }
   },
   "source": [
    "### I. Idee (1/2)\n",
    "\n",
    "<b>Fragestellung</b>\n",
    "* Gibt es besonders alte Komponenten, wo sich niemand mehr auskennt (No-Go-Areas)?  \n",
    "\n",
    "<b>Heuristik</b>\n",
    "* Wann waren die letzten Änderungen innerhalb einer Komponente?\n"
   ]
  },
  {
   "cell_type": "markdown",
   "metadata": {
    "slideshow": {
     "slide_type": "slide"
    }
   },
   "source": [
    "### I. Idee (2/2)\n",
    "#### Umsetzung\n",
    "* Werkzeuge: Jupyter, Python, pandas, matplotlib\n",
    "* Datenquelle: Git Blame Log\n"
   ]
  },
  {
   "cell_type": "markdown",
   "metadata": {
    "slideshow": {
     "slide_type": "fragment"
    }
   },
   "source": [
    "**Meta-Ziel:** Grundfunktionen anhand eines einfachen Show-Cases sehen."
   ]
  },
  {
   "cell_type": "markdown",
   "metadata": {
    "slideshow": {
     "slide_type": "slide"
    }
   },
   "source": [
    "Ausgangsdaten: <b>Git Blame Log</b>\n",
    "<div align=\"center\">\n",
    "    <img src =\"../resources/linux_1.gif\" align=\"center\"/>\n",
    "</div>"
   ]
  },
  {
   "cell_type": "markdown",
   "metadata": {
    "slideshow": {
     "slide_type": "slide"
    }
   },
   "source": [
    "Ausgangsdaten: <b>Git Blame Log</b>\n",
    "<div align=\"center\">\n",
    "    <img src =\"../resources/linux_2.gif\" align=\"center\"/>\n",
    "</div>"
   ]
  },
  {
   "cell_type": "markdown",
   "metadata": {
    "slideshow": {
     "slide_type": "slide"
    }
   },
   "source": [
    "Ausgangsdaten: <b>Git Blame Log</b>\n",
    "<div align=\"center\">\n",
    "    <img src =\"../resources/linux_3.gif\" align=\"center\"/>\n",
    "</div>"
   ]
  },
  {
   "cell_type": "markdown",
   "metadata": {
    "slideshow": {
     "slide_type": "slide"
    }
   },
   "source": [
    "### II. Datenbeschaffung\n",
    "*Wir laden Git Blame Daten aus einer CSV-Datei*"
   ]
  },
  {
   "cell_type": "code",
   "execution_count": 1,
   "metadata": {
    "slideshow": {
     "slide_type": "fragment"
    },
    "tags": [
     "delete"
    ]
   },
   "outputs": [
    {
     "data": {
      "text/html": [
       "<div>\n",
       "<style scoped>\n",
       "    .dataframe tbody tr th:only-of-type {\n",
       "        vertical-align: middle;\n",
       "    }\n",
       "\n",
       "    .dataframe tbody tr th {\n",
       "        vertical-align: top;\n",
       "    }\n",
       "\n",
       "    .dataframe thead th {\n",
       "        text-align: right;\n",
       "    }\n",
       "</style>\n",
       "<table border=\"1\" class=\"dataframe\">\n",
       "  <thead>\n",
       "    <tr style=\"text-align: right;\">\n",
       "      <th></th>\n",
       "      <th>path</th>\n",
       "      <th>author</th>\n",
       "      <th>timestamp</th>\n",
       "      <th>line</th>\n",
       "    </tr>\n",
       "  </thead>\n",
       "  <tbody>\n",
       "    <tr>\n",
       "      <th>0</th>\n",
       "      <td>drivers/scsi/bfa/bfad_drv.h</td>\n",
       "      <td>Anil Gurumurthy</td>\n",
       "      <td>1448528085000000000</td>\n",
       "      <td>1</td>\n",
       "    </tr>\n",
       "    <tr>\n",
       "      <th>1</th>\n",
       "      <td>drivers/scsi/bfa/bfad_drv.h</td>\n",
       "      <td>Anil Gurumurthy</td>\n",
       "      <td>1448528085000000000</td>\n",
       "      <td>2</td>\n",
       "    </tr>\n",
       "    <tr>\n",
       "      <th>2</th>\n",
       "      <td>drivers/scsi/bfa/bfad_drv.h</td>\n",
       "      <td>Anil Gurumurthy</td>\n",
       "      <td>1448528085000000000</td>\n",
       "      <td>3</td>\n",
       "    </tr>\n",
       "    <tr>\n",
       "      <th>3</th>\n",
       "      <td>drivers/scsi/bfa/bfad_drv.h</td>\n",
       "      <td>Jing Huang</td>\n",
       "      <td>1253753175000000000</td>\n",
       "      <td>4</td>\n",
       "    </tr>\n",
       "    <tr>\n",
       "      <th>4</th>\n",
       "      <td>drivers/scsi/bfa/bfad_drv.h</td>\n",
       "      <td>Anil Gurumurthy</td>\n",
       "      <td>1448528085000000000</td>\n",
       "      <td>5</td>\n",
       "    </tr>\n",
       "  </tbody>\n",
       "</table>\n",
       "</div>"
      ],
      "text/plain": [
       "                          path           author            timestamp  line\n",
       "0  drivers/scsi/bfa/bfad_drv.h  Anil Gurumurthy  1448528085000000000     1\n",
       "1  drivers/scsi/bfa/bfad_drv.h  Anil Gurumurthy  1448528085000000000     2\n",
       "2  drivers/scsi/bfa/bfad_drv.h  Anil Gurumurthy  1448528085000000000     3\n",
       "3  drivers/scsi/bfa/bfad_drv.h       Jing Huang  1253753175000000000     4\n",
       "4  drivers/scsi/bfa/bfad_drv.h  Anil Gurumurthy  1448528085000000000     5"
      ]
     },
     "execution_count": 1,
     "metadata": {},
     "output_type": "execute_result"
    }
   ],
   "source": [
    "import pandas as pd\n",
    "\n",
    "log = pd.read_csv(\"../dataset/linux_blame_log.csv.gz\")\n",
    "log.head()"
   ]
  },
  {
   "cell_type": "markdown",
   "metadata": {
    "slideshow": {
     "slide_type": "slide"
    }
   },
   "source": [
    "*Was haben wir hier eigentlich?*"
   ]
  },
  {
   "cell_type": "code",
   "execution_count": 2,
   "metadata": {
    "slideshow": {
     "slide_type": "-"
    },
    "tags": [
     "delete"
    ]
   },
   "outputs": [
    {
     "name": "stdout",
     "output_type": "stream",
     "text": [
      "<class 'pandas.core.frame.DataFrame'>\n",
      "RangeIndex: 5665947 entries, 0 to 5665946\n",
      "Data columns (total 4 columns):\n",
      "path         object\n",
      "author       object\n",
      "timestamp    int64\n",
      "line         int64\n",
      "dtypes: int64(2), object(2)\n",
      "memory usage: 172.9+ MB\n"
     ]
    }
   ],
   "source": [
    "log.info()"
   ]
  },
  {
   "cell_type": "markdown",
   "metadata": {
    "slideshow": {
     "slide_type": "fragment"
    }
   },
   "source": [
    "<b>1</b> **DataFrame** (~ programmierbares Excel-Arbeitsblatt), <b>4</b> **Series** (= Spalten), <b>5665947</b> **Rows** (= Einträge)"
   ]
  },
  {
   "cell_type": "markdown",
   "metadata": {
    "slideshow": {
     "slide_type": "slide"
    }
   },
   "source": [
    "### III. Bereinigen\n",
    "* Daten sind oft nicht so, wie man sie braucht\n",
    "* Datentypen passen teilweise noch nicht"
   ]
  },
  {
   "cell_type": "markdown",
   "metadata": {
    "slideshow": {
     "slide_type": "slide"
    }
   },
   "source": [
    "*Wir wandeln die Zeitstempel um*"
   ]
  },
  {
   "cell_type": "code",
   "execution_count": 3,
   "metadata": {
    "slideshow": {
     "slide_type": "-"
    },
    "tags": [
     "delete"
    ]
   },
   "outputs": [
    {
     "data": {
      "text/html": [
       "<div>\n",
       "<style scoped>\n",
       "    .dataframe tbody tr th:only-of-type {\n",
       "        vertical-align: middle;\n",
       "    }\n",
       "\n",
       "    .dataframe tbody tr th {\n",
       "        vertical-align: top;\n",
       "    }\n",
       "\n",
       "    .dataframe thead th {\n",
       "        text-align: right;\n",
       "    }\n",
       "</style>\n",
       "<table border=\"1\" class=\"dataframe\">\n",
       "  <thead>\n",
       "    <tr style=\"text-align: right;\">\n",
       "      <th></th>\n",
       "      <th>path</th>\n",
       "      <th>author</th>\n",
       "      <th>timestamp</th>\n",
       "      <th>line</th>\n",
       "    </tr>\n",
       "  </thead>\n",
       "  <tbody>\n",
       "    <tr>\n",
       "      <th>0</th>\n",
       "      <td>drivers/scsi/bfa/bfad_drv.h</td>\n",
       "      <td>Anil Gurumurthy</td>\n",
       "      <td>2015-11-26 08:54:45</td>\n",
       "      <td>1</td>\n",
       "    </tr>\n",
       "    <tr>\n",
       "      <th>1</th>\n",
       "      <td>drivers/scsi/bfa/bfad_drv.h</td>\n",
       "      <td>Anil Gurumurthy</td>\n",
       "      <td>2015-11-26 08:54:45</td>\n",
       "      <td>2</td>\n",
       "    </tr>\n",
       "    <tr>\n",
       "      <th>2</th>\n",
       "      <td>drivers/scsi/bfa/bfad_drv.h</td>\n",
       "      <td>Anil Gurumurthy</td>\n",
       "      <td>2015-11-26 08:54:45</td>\n",
       "      <td>3</td>\n",
       "    </tr>\n",
       "    <tr>\n",
       "      <th>3</th>\n",
       "      <td>drivers/scsi/bfa/bfad_drv.h</td>\n",
       "      <td>Jing Huang</td>\n",
       "      <td>2009-09-24 00:46:15</td>\n",
       "      <td>4</td>\n",
       "    </tr>\n",
       "    <tr>\n",
       "      <th>4</th>\n",
       "      <td>drivers/scsi/bfa/bfad_drv.h</td>\n",
       "      <td>Anil Gurumurthy</td>\n",
       "      <td>2015-11-26 08:54:45</td>\n",
       "      <td>5</td>\n",
       "    </tr>\n",
       "  </tbody>\n",
       "</table>\n",
       "</div>"
      ],
      "text/plain": [
       "                          path           author           timestamp  line\n",
       "0  drivers/scsi/bfa/bfad_drv.h  Anil Gurumurthy 2015-11-26 08:54:45     1\n",
       "1  drivers/scsi/bfa/bfad_drv.h  Anil Gurumurthy 2015-11-26 08:54:45     2\n",
       "2  drivers/scsi/bfa/bfad_drv.h  Anil Gurumurthy 2015-11-26 08:54:45     3\n",
       "3  drivers/scsi/bfa/bfad_drv.h       Jing Huang 2009-09-24 00:46:15     4\n",
       "4  drivers/scsi/bfa/bfad_drv.h  Anil Gurumurthy 2015-11-26 08:54:45     5"
      ]
     },
     "execution_count": 3,
     "metadata": {},
     "output_type": "execute_result"
    }
   ],
   "source": [
    "log['timestamp'] = pd.to_datetime(log['timestamp'])\n",
    "log.head()"
   ]
  },
  {
   "cell_type": "markdown",
   "metadata": {
    "slideshow": {
     "slide_type": "slide"
    }
   },
   "source": [
    "*Wir berechnen uns das Alter jeder Codezeilenänderung*"
   ]
  },
  {
   "cell_type": "code",
   "execution_count": 4,
   "metadata": {
    "slideshow": {
     "slide_type": "-"
    },
    "tags": [
     "delete"
    ]
   },
   "outputs": [
    {
     "data": {
      "text/html": [
       "<div>\n",
       "<style scoped>\n",
       "    .dataframe tbody tr th:only-of-type {\n",
       "        vertical-align: middle;\n",
       "    }\n",
       "\n",
       "    .dataframe tbody tr th {\n",
       "        vertical-align: top;\n",
       "    }\n",
       "\n",
       "    .dataframe thead th {\n",
       "        text-align: right;\n",
       "    }\n",
       "</style>\n",
       "<table border=\"1\" class=\"dataframe\">\n",
       "  <thead>\n",
       "    <tr style=\"text-align: right;\">\n",
       "      <th></th>\n",
       "      <th>path</th>\n",
       "      <th>author</th>\n",
       "      <th>timestamp</th>\n",
       "      <th>line</th>\n",
       "      <th>age</th>\n",
       "    </tr>\n",
       "  </thead>\n",
       "  <tbody>\n",
       "    <tr>\n",
       "      <th>0</th>\n",
       "      <td>drivers/scsi/bfa/bfad_drv.h</td>\n",
       "      <td>Anil Gurumurthy</td>\n",
       "      <td>2015-11-26 08:54:45</td>\n",
       "      <td>1</td>\n",
       "      <td>1246 days 02:39:54.440138</td>\n",
       "    </tr>\n",
       "    <tr>\n",
       "      <th>1</th>\n",
       "      <td>drivers/scsi/bfa/bfad_drv.h</td>\n",
       "      <td>Anil Gurumurthy</td>\n",
       "      <td>2015-11-26 08:54:45</td>\n",
       "      <td>2</td>\n",
       "      <td>1246 days 02:39:54.440138</td>\n",
       "    </tr>\n",
       "    <tr>\n",
       "      <th>2</th>\n",
       "      <td>drivers/scsi/bfa/bfad_drv.h</td>\n",
       "      <td>Anil Gurumurthy</td>\n",
       "      <td>2015-11-26 08:54:45</td>\n",
       "      <td>3</td>\n",
       "      <td>1246 days 02:39:54.440138</td>\n",
       "    </tr>\n",
       "    <tr>\n",
       "      <th>3</th>\n",
       "      <td>drivers/scsi/bfa/bfad_drv.h</td>\n",
       "      <td>Jing Huang</td>\n",
       "      <td>2009-09-24 00:46:15</td>\n",
       "      <td>4</td>\n",
       "      <td>3500 days 10:48:24.440138</td>\n",
       "    </tr>\n",
       "    <tr>\n",
       "      <th>4</th>\n",
       "      <td>drivers/scsi/bfa/bfad_drv.h</td>\n",
       "      <td>Anil Gurumurthy</td>\n",
       "      <td>2015-11-26 08:54:45</td>\n",
       "      <td>5</td>\n",
       "      <td>1246 days 02:39:54.440138</td>\n",
       "    </tr>\n",
       "  </tbody>\n",
       "</table>\n",
       "</div>"
      ],
      "text/plain": [
       "                          path           author           timestamp  line  \\\n",
       "0  drivers/scsi/bfa/bfad_drv.h  Anil Gurumurthy 2015-11-26 08:54:45     1   \n",
       "1  drivers/scsi/bfa/bfad_drv.h  Anil Gurumurthy 2015-11-26 08:54:45     2   \n",
       "2  drivers/scsi/bfa/bfad_drv.h  Anil Gurumurthy 2015-11-26 08:54:45     3   \n",
       "3  drivers/scsi/bfa/bfad_drv.h       Jing Huang 2009-09-24 00:46:15     4   \n",
       "4  drivers/scsi/bfa/bfad_drv.h  Anil Gurumurthy 2015-11-26 08:54:45     5   \n",
       "\n",
       "                        age  \n",
       "0 1246 days 02:39:54.440138  \n",
       "1 1246 days 02:39:54.440138  \n",
       "2 1246 days 02:39:54.440138  \n",
       "3 3500 days 10:48:24.440138  \n",
       "4 1246 days 02:39:54.440138  "
      ]
     },
     "execution_count": 4,
     "metadata": {},
     "output_type": "execute_result"
    }
   ],
   "source": [
    "log['age'] = pd.Timestamp('today') - log['timestamp']\n",
    "log.head()"
   ]
  },
  {
   "cell_type": "markdown",
   "metadata": {
    "slideshow": {
     "slide_type": "slide"
    }
   },
   "source": [
    "### IV. Anreichern\n",
    "\n",
    "* Vorhandenen Daten noch zusätzlich mit anderen Datenquellen verschneiden\n",
    "* Aber auch: Teile aus vorhanden Daten extrahieren"
   ]
  },
  {
   "cell_type": "markdown",
   "metadata": {
    "slideshow": {
     "slide_type": "fragment"
    }
   },
   "source": [
    "=> Dadurch werden mehrere <b>Perspektiven</b> auf ein Problem möglich"
   ]
  },
  {
   "cell_type": "markdown",
   "metadata": {
    "slideshow": {
     "slide_type": "slide"
    }
   },
   "source": [
    "*Wir ordnen jeder Zeilenänderung einer Komponente zu*"
   ]
  },
  {
   "cell_type": "code",
   "execution_count": 5,
   "metadata": {
    "slideshow": {
     "slide_type": "fragment"
    },
    "tags": [
     "delete"
    ]
   },
   "outputs": [
    {
     "data": {
      "text/html": [
       "<div>\n",
       "<style scoped>\n",
       "    .dataframe tbody tr th:only-of-type {\n",
       "        vertical-align: middle;\n",
       "    }\n",
       "\n",
       "    .dataframe tbody tr th {\n",
       "        vertical-align: top;\n",
       "    }\n",
       "\n",
       "    .dataframe thead th {\n",
       "        text-align: right;\n",
       "    }\n",
       "</style>\n",
       "<table border=\"1\" class=\"dataframe\">\n",
       "  <thead>\n",
       "    <tr style=\"text-align: right;\">\n",
       "      <th></th>\n",
       "      <th>path</th>\n",
       "      <th>author</th>\n",
       "      <th>timestamp</th>\n",
       "      <th>line</th>\n",
       "      <th>age</th>\n",
       "      <th>component</th>\n",
       "    </tr>\n",
       "  </thead>\n",
       "  <tbody>\n",
       "    <tr>\n",
       "      <th>0</th>\n",
       "      <td>drivers/scsi/bfa/bfad_drv.h</td>\n",
       "      <td>Anil Gurumurthy</td>\n",
       "      <td>2015-11-26 08:54:45</td>\n",
       "      <td>1</td>\n",
       "      <td>1246 days 02:39:54.440138</td>\n",
       "      <td>drivers:scsi</td>\n",
       "    </tr>\n",
       "    <tr>\n",
       "      <th>1</th>\n",
       "      <td>drivers/scsi/bfa/bfad_drv.h</td>\n",
       "      <td>Anil Gurumurthy</td>\n",
       "      <td>2015-11-26 08:54:45</td>\n",
       "      <td>2</td>\n",
       "      <td>1246 days 02:39:54.440138</td>\n",
       "      <td>drivers:scsi</td>\n",
       "    </tr>\n",
       "    <tr>\n",
       "      <th>2</th>\n",
       "      <td>drivers/scsi/bfa/bfad_drv.h</td>\n",
       "      <td>Anil Gurumurthy</td>\n",
       "      <td>2015-11-26 08:54:45</td>\n",
       "      <td>3</td>\n",
       "      <td>1246 days 02:39:54.440138</td>\n",
       "      <td>drivers:scsi</td>\n",
       "    </tr>\n",
       "    <tr>\n",
       "      <th>3</th>\n",
       "      <td>drivers/scsi/bfa/bfad_drv.h</td>\n",
       "      <td>Jing Huang</td>\n",
       "      <td>2009-09-24 00:46:15</td>\n",
       "      <td>4</td>\n",
       "      <td>3500 days 10:48:24.440138</td>\n",
       "      <td>drivers:scsi</td>\n",
       "    </tr>\n",
       "    <tr>\n",
       "      <th>4</th>\n",
       "      <td>drivers/scsi/bfa/bfad_drv.h</td>\n",
       "      <td>Anil Gurumurthy</td>\n",
       "      <td>2015-11-26 08:54:45</td>\n",
       "      <td>5</td>\n",
       "      <td>1246 days 02:39:54.440138</td>\n",
       "      <td>drivers:scsi</td>\n",
       "    </tr>\n",
       "  </tbody>\n",
       "</table>\n",
       "</div>"
      ],
      "text/plain": [
       "                          path           author           timestamp  line  \\\n",
       "0  drivers/scsi/bfa/bfad_drv.h  Anil Gurumurthy 2015-11-26 08:54:45     1   \n",
       "1  drivers/scsi/bfa/bfad_drv.h  Anil Gurumurthy 2015-11-26 08:54:45     2   \n",
       "2  drivers/scsi/bfa/bfad_drv.h  Anil Gurumurthy 2015-11-26 08:54:45     3   \n",
       "3  drivers/scsi/bfa/bfad_drv.h       Jing Huang 2009-09-24 00:46:15     4   \n",
       "4  drivers/scsi/bfa/bfad_drv.h  Anil Gurumurthy 2015-11-26 08:54:45     5   \n",
       "\n",
       "                        age     component  \n",
       "0 1246 days 02:39:54.440138  drivers:scsi  \n",
       "1 1246 days 02:39:54.440138  drivers:scsi  \n",
       "2 1246 days 02:39:54.440138  drivers:scsi  \n",
       "3 3500 days 10:48:24.440138  drivers:scsi  \n",
       "4 1246 days 02:39:54.440138  drivers:scsi  "
      ]
     },
     "execution_count": 5,
     "metadata": {},
     "output_type": "execute_result"
    }
   ],
   "source": [
    "log['component'] = log['path'].str.split(\"/\").str[:2].str.join(\":\")\n",
    "log.head()"
   ]
  },
  {
   "cell_type": "markdown",
   "metadata": {
    "slideshow": {
     "slide_type": "fragment"
    }
   },
   "source": [
    "<br/> <small><i>String-Operationen...die dauern. Gibt aber diverse Optimierungsmöglichkeiten!</i></small>"
   ]
  },
  {
   "cell_type": "markdown",
   "metadata": {
    "slideshow": {
     "slide_type": "slide"
    }
   },
   "source": [
    "### V. Aggregieren\n",
    "* Vorhandene Daten sind oft zu viel für manuelle Sichtung\n",
    "* Neue Einsichten über Problem aber oft auf hoher Flugbahn möglich"
   ]
  },
  {
   "cell_type": "markdown",
   "metadata": {
    "slideshow": {
     "slide_type": "slide"
    }
   },
   "source": [
    "*Wir fassen nach Komponenten zusammen und arbeiten mit der jeweils jüngsten Zeilenänderung weiter*"
   ]
  },
  {
   "cell_type": "code",
   "execution_count": 6,
   "metadata": {
    "slideshow": {
     "slide_type": "-"
    },
    "tags": [
     "delete"
    ]
   },
   "outputs": [
    {
     "data": {
      "text/plain": [
       "component\n",
       "drivers:scsi   378 days 18:08:30.440138\n",
       "drivers:i2c    378 days 19:29:05.440138\n",
       "drivers:net    378 days 19:44:21.440138\n",
       "drivers:of     379 days 12:03:23.440138\n",
       "drivers:pci    379 days 15:50:18.440138\n",
       "Name: age, dtype: timedelta64[ns]"
      ]
     },
     "execution_count": 6,
     "metadata": {},
     "output_type": "execute_result"
    }
   ],
   "source": [
    "age_per_component = log.groupby(\"component\")['age'].min().sort_values()\n",
    "age_per_component.head()"
   ]
  },
  {
   "cell_type": "markdown",
   "metadata": {
    "slideshow": {
     "slide_type": "slide"
    }
   },
   "source": [
    "### IV. Visualisieren\n",
    "* Grafische Darstellung geben Analysen den letzten Schliff\n",
    "* Probleme können Außenstehenden visuell dargestellt besser kommuniziert werden"
   ]
  },
  {
   "cell_type": "markdown",
   "metadata": {
    "slideshow": {
     "slide_type": "slide"
    }
   },
   "source": [
    "*Wir bauen ein Diagramm mit Min-Alter pro Komponente*"
   ]
  },
  {
   "cell_type": "code",
   "execution_count": 7,
   "metadata": {
    "slideshow": {
     "slide_type": "-"
    },
    "tags": [
     "delete"
    ]
   },
   "outputs": [
    {
     "data": {
      "image/png": "[encoded data removed]",
      "text/plain": [
       "<Figure size 1080x360 with 1 Axes>"
      ]
     },
     "metadata": {
      "image/png": {
       "height": 414,
       "width": 876
      },
      "needs_background": "light"
     },
     "output_type": "display_data"
    }
   ],
   "source": [
    "age_per_component.plot.bar(figsize=[15,5]);"
   ]
  },
  {
   "cell_type": "markdown",
   "metadata": {
    "slideshow": {
     "slide_type": "slide"
    }
   },
   "source": [
    "## Weitere Analysen\n",
    "\n",
    "* Code-Hotspots identifizieren\n",
    "* Refactorings nachweisen\n",
    "* Performance-Hotspots mit jQAssistant/Neo4j finden\n",
    "* Softwarerückbau mit Groovy/Tablesaw motivieren"
   ]
  },
  {
   "cell_type": "markdown",
   "metadata": {
    "slideshow": {
     "slide_type": "slide"
    }
   },
   "source": [
    "# Zusammenfassung\n",
    "**1.** Es gibt unglaublich <b>viele Quellen</b> für Analysen<br/>  \n",
    "**2.** <b>Problemanalysen</b> mit Standard-Data-Science-Werkzeugen <b>einfach</b> möglich<br/>    \n",
    "**3.** Wer mehr <b>Software Analytics</b> will, bekommt auch <b>mehr</b>!<br/>   \n",
    "\n",
    "<b>=> vom <strong>Problem</strong> über die <span class=\"green\">Daten</span> zur <span class=\"blue\" style=\"background-color: #FFFF00\">Erkenntnis</span>!</b>"
   ]
  },
  {
   "cell_type": "markdown",
   "metadata": {
    "slideshow": {
     "slide_type": "slide"
    }
   },
   "source": [
    "## Literatur\n",
    "* <b>Adam Tornhill: Software Design X-Rays</b> \n",
    "* Wes McKinney: Python For Data Analysis\n",
    "* Leek, Jeff: The Elements of Data Analytic Style\n",
    "* Tim Menzies, Laurie Williams, Thomas Zimmermann: Perspectives on Data Science for Software Engineering"
   ]
  },
  {
   "cell_type": "markdown",
   "metadata": {
    "slideshow": {
     "slide_type": "slide"
    }
   },
   "source": [
    "# Vielen Dank! Fragen?\n",
    "\n",
    "<b>Markus Harrer</b><br/>\n",
    "innoQ Deutschland GmbH\n",
    "  \n",
    "E-Mail: markus.harrer@innoq.com <br/>\n",
    "Twitter: `@feststelltaste`<br/>\n",
    "Blog: `feststelltaste.de`<br/>\n",
    "  <br/>\n",
    "  \n",
    "<img src=\"../resources/innoq_logo.jpg\" width=20% height=\"20%\" align=\"right\"/>"
   ]
  }
 ],
 "metadata": {
  "celltoolbar": "Slideshow",
  "kernelspec": {
   "display_name": "Python 3",
   "language": "python",
   "name": "python3"
  },
  "language_info": {
   "codemirror_mode": {
    "name": "ipython",
    "version": 3
   },
   "file_extension": ".py",
   "mimetype": "text/x-python",
   "name": "python",
   "nbconvert_exporter": "python",
   "pygments_lexer": "ipython3",
   "version": "3.6.0"
  },
  "rise": {
   "controls": false,
   "showSlideNumber": "speaker",
   "slideNumber ": "false",
   "transition": "none"
  }
 },
 "nbformat": 4,
 "nbformat_minor": 2
}
