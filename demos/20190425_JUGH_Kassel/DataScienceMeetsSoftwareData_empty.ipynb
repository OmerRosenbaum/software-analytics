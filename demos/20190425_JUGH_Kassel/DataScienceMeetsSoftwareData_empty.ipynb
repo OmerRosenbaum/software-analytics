{
    "cells": [
        {
            "cell_type": "markdown",
            "metadata": {
                "slideshow": {
                    "slide_type": "slide"
                }
            },
            "source": [
                "\n",
                "# Mit Datenanalysen Probleme in der Entwicklung aufzeigen\n",
                "<small>Java User Group Hessen, Kassel, 25.04.2019</small>\n",
                "\n",
                "<b>Markus Harrer</b>, Software Development Analyst\n",
                "  \n",
                "Twitter: `@feststelltaste`  \n",
                "Blog: `feststelltaste.de`\n",
                "\n",
                "\n",
                "\n",
                "<img src=\"../resources/innoq_logo.jpg\" width=20% height=\"20%\" align=\"right\"/>"
            ]
        },
        {
            "cell_type": "markdown",
            "metadata": {
                "slideshow": {
                    "slide_type": "slide"
                }
            },
            "source": [
                "## Das Problem mit den Problemen in der Softwareentwicklung"
            ]
        },
        {
            "cell_type": "markdown",
            "metadata": {
                "slideshow": {
                    "slide_type": "slide"
                }
            },
            "source": [
                "### Der typische Software-Problemverlauf\n",
                "<img src=\"../resources/schuld1.png\" width=85% align=\"center\"/>"
            ]
        },
        {
            "cell_type": "markdown",
            "metadata": {
                "slideshow": {
                    "slide_type": "slide"
                }
            },
            "source": [
                "### Der typische Software-Problemverlauf\n",
                "<img src=\"../resources/schuld2.png\" width=85% align=\"center\"/>"
            ]
        },
        {
            "cell_type": "markdown",
            "metadata": {
                "slideshow": {
                    "slide_type": "slide"
                }
            },
            "source": [
                "### Der typische Software-Problemverlauf\n",
                "<img src=\"../resources/schuld3.png\" width=85% align=\"center\"/>"
            ]
        },
        {
            "cell_type": "markdown",
            "metadata": {
                "slideshow": {
                    "slide_type": "slide"
                }
            },
            "source": [
                "### Der typische Software-Problemverlauf\n",
                "<img src=\"../resources/schuld4.png\" width=85% align=\"center\"/>"
            ]
        },
        {
            "cell_type": "markdown",
            "metadata": {
                "slideshow": {
                    "slide_type": "slide"
                }
            },
            "source": [
                "## Das eigentliche Problem"
            ]
        },
        {
            "cell_type": "markdown",
            "metadata": {
                "slideshow": {
                    "slide_type": "slide"
                }
            },
            "source": [
                "<img src=\"../resources/kombar0.png\" width=95% align=\"center\"/>"
            ]
        },
        {
            "cell_type": "markdown",
            "metadata": {
                "slideshow": {
                    "slide_type": "slide"
                }
            },
            "source": [
                "<img src=\"../resources/kombar1.png\" width=95% align=\"center\"/>"
            ]
        },
        {
            "cell_type": "markdown",
            "metadata": {
                "slideshow": {
                    "slide_type": "slide"
                }
            },
            "source": [
                "<img src=\"../resources/kombar2.png\" width=95% align=\"center\"/>"
            ]
        },
        {
            "cell_type": "markdown",
            "metadata": {
                "slideshow": {
                    "slide_type": "slide"
                }
            },
            "source": [
                "<img src=\"../resources/kombar3.png\" width=95% align=\"center\"/>"
            ]
        },
        {
            "cell_type": "markdown",
            "metadata": {
                "slideshow": {
                    "slide_type": "slide"
                }
            },
            "source": [
                "## Wie Daten analysieren?"
            ]
        },
        {
            "cell_type": "markdown",
            "metadata": {
                "slideshow": {
                    "slide_type": "slide"
                }
            },
            "source": [
                "<div align=\"center\">\n",
                "<h3>The <span class=\"yellow\">ultimate</span>, <span class=\"green\">super</span> <span class=\"red\">awesome</span><br/> Quality Management Dashboard</h3>\n",
                "\n",
                "<img src=\"../resources/Sonarqube-nemo-dashboard_small.png\">\n",
                "    </div>"
            ]
        },
        {
            "cell_type": "markdown",
            "metadata": {
                "slideshow": {
                    "slide_type": "slide"
                }
            },
            "source": [
                "### H\u00e4ufigkeit von Fragen vs. deren Risiken\n",
                "<img src=\"../resources/risk1.png\" width=95% align=\"center\"/>"
            ]
        },
        {
            "cell_type": "markdown",
            "metadata": {
                "slideshow": {
                    "slide_type": "slide"
                }
            },
            "source": [
                "### H\u00e4ufigkeit von Fragen vs. deren Risiken\n",
                "<img src=\"../resources/risk2.png\" width=95% align=\"center\"/>"
            ]
        },
        {
            "cell_type": "markdown",
            "metadata": {
                "slideshow": {
                    "slide_type": "slide"
                }
            },
            "source": [
                "### H\u00e4ufigkeit von Fragen vs. deren Risiken\n",
                "<img src=\"../resources/risk3.png\" width=95% align=\"center\"/>"
            ]
        },
        {
            "cell_type": "markdown",
            "metadata": {
                "slideshow": {
                    "slide_type": "slide"
                }
            },
            "source": [
                "### H\u00e4ufigkeit von Fragen vs. deren Risiken\n",
                "<img src=\"../resources/risk4.png\" width=95% align=\"center\"/>"
            ]
        },
        {
            "cell_type": "markdown",
            "metadata": {
                "slideshow": {
                    "slide_type": "slide"
                }
            },
            "source": [
                "## Es braucht zus\u00e4tzliche, situations-spezifische **Datenanalysen**!"
            ]
        },
        {
            "cell_type": "markdown",
            "metadata": {
                "slideshow": {
                    "slide_type": "fragment"
                }
            },
            "source": [
                "Wie machen es andere Disziplinen?"
            ]
        },
        {
            "cell_type": "markdown",
            "metadata": {
                "slideshow": {
                    "slide_type": "fragment"
                }
            },
            "source": [
                "# Data Science!"
            ]
        },
        {
            "cell_type": "markdown",
            "metadata": {
                "slideshow": {
                    "slide_type": "slide"
                }
            },
            "source": [
                "### Was ist Data Science?"
            ]
        },
        {
            "cell_type": "markdown",
            "metadata": {
                "slideshow": {
                    "slide_type": "fragment"
                }
            },
            "source": [
                "\"<b><span class=\"green\">Datenanalysen</span></b> auf nem **Mac**.\"\n",
                "<br/>\n",
                "<br/>\n",
                "<div align=\"right\"><small>Frei nach https://twitter.com/cdixon/status/428914681911070720</small></div>"
            ]
        },
        {
            "cell_type": "markdown",
            "metadata": {
                "slideshow": {
                    "slide_type": "slide"
                }
            },
            "source": [
                "<div align=\"center\">\n",
                "    <img src =\"../resources/trollface.jpg\" align=\"center\"/>\n",
                "</div>"
            ]
        },
        {
            "cell_type": "markdown",
            "metadata": {
                "slideshow": {
                    "slide_type": "slide"
                }
            },
            "source": [
                "### Meine Definition von Data Science"
            ]
        },
        {
            "cell_type": "markdown",
            "metadata": {
                "slideshow": {
                    "slide_type": "slide"
                }
            },
            "source": [
                "#### Was bedeutet \"**data**\"?\n",
                "\"Without **data** you\u2018re just another person with an opinion.\"\n",
                "<br/>\n",
                "<div align=\"right\"><small>W. Edwards Deming</small></div>"
            ]
        },
        {
            "cell_type": "markdown",
            "metadata": {
                "slideshow": {
                    "slide_type": "fragment"
                }
            },
            "source": [
                "<b>=> Belastbare Erkenntnisse mittels <span class=\"green\">Fakten</span> liefern</b>"
            ]
        },
        {
            "cell_type": "markdown",
            "metadata": {
                "slideshow": {
                    "slide_type": "slide"
                }
            },
            "source": [
                "#### Was bedeutet \"**science**\"?\n",
                "  \n",
                "  \n",
                "\"The aim of **science** is to seek the simplest explanations of complex facts.\"\n",
                "<br/>\n",
                "<div align=\"right\"><small>Albert Einstein</small></div>"
            ]
        },
        {
            "cell_type": "markdown",
            "metadata": {
                "slideshow": {
                    "slide_type": "fragment"
                }
            },
            "source": [
                "<b>=> Neue Erkenntnisse <span class=\"green\">verst\u00e4ndlich</span> herausarbeiten</b>"
            ]
        },
        {
            "cell_type": "markdown",
            "metadata": {
                "slideshow": {
                    "slide_type": "slide"
                }
            },
            "source": [
                "### Was ist ein Data Scientist?\n",
                "\"Jemand, der mehr Ahnung von **Statistik**<br/>\n",
                "&nbsp;&nbsp;hat als ein <b><span class=\"green\">Softwareentwickler</span></b><br/>\n",
                "&nbsp;&nbsp;und mehr Ahnung von <b><span class=\"green\">Softwareentwicklung</span></b><br/>\n",
                "&nbsp;&nbsp;als ein **Statistiker**.\"\n",
                "<br/>\n",
                "<br/>\n",
                "<div align=\"right\"><small>Nach zu https://twitter.com/cdixon/status/428914681911070720</small></div>"
            ]
        },
        {
            "cell_type": "markdown",
            "metadata": {
                "slideshow": {
                    "slide_type": "fragment"
                }
            },
            "source": [
                "<b>Data Science:</b> **Perfect** <b><span class=\"green\">match</span></b>!"
            ]
        },
        {
            "cell_type": "markdown",
            "metadata": {
                "slideshow": {
                    "slide_type": "slide"
                }
            },
            "source": [
                "## Was an Daten analysieren?"
            ]
        },
        {
            "cell_type": "markdown",
            "metadata": {
                "slideshow": {
                    "slide_type": "slide"
                }
            },
            "source": [
                "### Softwaredaten!\n",
                "\n",
                "Alles was aus der Entwicklung und dem Betrieb der Softwaresysteme so anf\u00e4llt: \n",
                "* Statische Daten\n",
                "* Laufzeitdaten\n",
                "* Chronologische Daten\n",
                "* Daten aus der Software-Community"
            ]
        },
        {
            "cell_type": "markdown",
            "metadata": {
                "slideshow": {
                    "slide_type": "slide"
                }
            },
            "source": [
                "## Zwischenfazit\n",
                "\n",
                "Data Science <span class=\"red\">&#10084;</span> Software Data <span style=\"color:white\">= <b>Software Analytics</b></span>"
            ]
        },
        {
            "cell_type": "markdown",
            "metadata": {
                "slideshow": {
                    "slide_type": "slide"
                }
            },
            "source": [
                "## Zwischenfazit\n",
                "\n",
                "Data Science <span class=\"red\">&#10084;</span> Software Data = <b>Software Analytics</b>"
            ]
        },
        {
            "cell_type": "markdown",
            "metadata": {
                "slideshow": {
                    "slide_type": "slide"
                }
            },
            "source": [
                "## Definition Software Analytics\n",
                "\"Software Analytics is analytics on software data for **managers** and <b class=\"green\">software engineers</b> with the aim of empowering software development individuals and teams to gain and share insight from their data to <b>make better decisions</b>.\"\n",
                "<br/>\n",
                "<div align=\"right\"><small>Tim Menzies and Thomas Zimmermann</small></div>\n"
            ]
        },
        {
            "cell_type": "markdown",
            "metadata": {
                "slideshow": {
                    "slide_type": "slide"
                }
            },
            "source": [
                "## Wie Software Analytics umsetzen?"
            ]
        },
        {
            "cell_type": "markdown",
            "metadata": {
                "slideshow": {
                    "slide_type": "slide"
                }
            },
            "source": [
                "### Der Leitgedanke\n",
                "\n",
                "[(Daten + Code + Ergebnis) * gedanklichen Schritt]  + komplette Automatisierung"
            ]
        },
        {
            "cell_type": "markdown",
            "metadata": {
                "slideshow": {
                    "slide_type": "fragment"
                }
            },
            "source": [
                "Schl\u00fcsselelement: **Computational notebooks**"
            ]
        },
        {
            "cell_type": "markdown",
            "metadata": {
                "slideshow": {
                    "slide_type": "slide"
                }
            },
            "source": [
                "### Der Notebook-Ansatz\n",
                "<br/>\n",
                "  \n",
                "\n",
                "<div align=\"center\"><img src=\"../resources/notebook_approach.jpg\"></div>"
            ]
        },
        {
            "cell_type": "markdown",
            "metadata": {
                "slideshow": {
                    "slide_type": "slide"
                }
            },
            "source": [
                "### Technologie (1/2)\n",
                "Klassischer Data-Science-Werkzeugkasten\n",
                "* **Jupyter**\n",
                "* Python 3\n",
                "* pandas\n",
                "* matplotlib"
            ]
        },
        {
            "cell_type": "markdown",
            "metadata": {
                "slideshow": {
                    "slide_type": "slide"
                }
            },
            "source": [
                "### Technologie (2/2)\n",
                "**Jupyter** funktioniert und integriert sich auch mit\n",
                "* Cypher / Neo4j / jQAssistant\n",
                "* JVM-Sprachen \u00fcber beakerx / Tablesaw\n",
                "* bash\n",
                "* ..."
            ]
        },
        {
            "cell_type": "markdown",
            "metadata": {
                "slideshow": {
                    "slide_type": "slide"
                }
            },
            "source": [
                "### Beispiele f\u00fcr gezielte Datenanalysen\n",
                "* Performance-Bottlenecks\n",
                "* Verborgene Teamkommunikation\n",
                "* Architektur-/Design-/Code-Smells\n",
                "* <b>No-Go-Areas in Altanwendungen</b>\n",
                "* ..."
            ]
        },
        {
            "cell_type": "markdown",
            "metadata": {
                "slideshow": {
                    "slide_type": "slide"
                }
            },
            "source": [
                "# Praktischer Teil"
            ]
        },
        {
            "cell_type": "markdown",
            "metadata": {
                "slideshow": {
                    "slide_type": "slide"
                }
            },
            "source": [
                "## Erstes Hands-On\n",
                "No-Go-Areas in Altanwendungen"
            ]
        },
        {
            "cell_type": "markdown",
            "metadata": {
                "slideshow": {
                    "slide_type": "slide"
                }
            },
            "source": [
                "### Der Patient\n",
                "\n",
                "#### Linux\n",
                "\n",
                "* Betriebsystem-Kernel\n",
                "* Hat verschiedene Treiberkomponenten\n",
                "* Fast ausschlie\u00dflich in C geschrieben\n",
                "* Entwickelt von \u00fcber 800.000 Entwicklern"
            ]
        },
        {
            "cell_type": "markdown",
            "metadata": {
                "slideshow": {
                    "slide_type": "slide"
                }
            },
            "source": [
                "### I. Idee (1/2)\n",
                "\n",
                "<b>Fragestellung</b>\n",
                "* Gibt es besonders alte Komponenten, wo sich niemand mehr auskennt (No-Go-Areas)?  \n",
                "\n",
                "<b>Heuristik</b>\n",
                "* Wann waren die letzten \u00c4nderungen innerhalb einer Komponente?\n"
            ]
        },
        {
            "cell_type": "markdown",
            "metadata": {
                "slideshow": {
                    "slide_type": "slide"
                }
            },
            "source": [
                "### I. Idee (2/2)\n",
                "#### Umsetzung\n",
                "* Werkzeuge: Jupyter, Python, pandas, matplotlib\n",
                "* Datenquelle: Git Blame Log\n"
            ]
        },
        {
            "cell_type": "markdown",
            "metadata": {
                "slideshow": {
                    "slide_type": "fragment"
                }
            },
            "source": [
                "**Meta-Ziel:** Grundfunktionen anhand eines einfachen Show-Cases sehen."
            ]
        },
        {
            "cell_type": "markdown",
            "metadata": {
                "slideshow": {
                    "slide_type": "slide"
                }
            },
            "source": [
                "Ausgangsdaten: <b>Git Blame Log</b>\n",
                "<div align=\"center\">\n",
                "    <img src =\"../resources/linux_1.gif\" align=\"center\"/>\n",
                "</div>"
            ]
        },
        {
            "cell_type": "markdown",
            "metadata": {
                "slideshow": {
                    "slide_type": "slide"
                }
            },
            "source": [
                "Ausgangsdaten: <b>Git Blame Log</b>\n",
                "<div align=\"center\">\n",
                "    <img src =\"../resources/linux_2.gif\" align=\"center\"/>\n",
                "</div>"
            ]
        },
        {
            "cell_type": "markdown",
            "metadata": {
                "slideshow": {
                    "slide_type": "slide"
                }
            },
            "source": [
                "Ausgangsdaten: <b>Git Blame Log</b>\n",
                "<div align=\"center\">\n",
                "    <img src =\"../resources/linux_3.gif\" align=\"center\"/>\n",
                "</div>"
            ]
        },
        {
            "cell_type": "markdown",
            "metadata": {
                "slideshow": {
                    "slide_type": "slide"
                }
            },
            "source": [
                "### II. Datenbeschaffung\n",
                "*Wir laden Git Blame Daten aus einer CSV-Datei*"
            ]
        },
        {
            "cell_type": "code",
            "execution_count": 1,
            "metadata": {
                "slideshow": {
                    "slide_type": "fragment"
                },
                "tags": [
                    "delete"
                ]
            },
            "outputs": [],
            "source": []
        },
        {
            "cell_type": "markdown",
            "metadata": {
                "slideshow": {
                    "slide_type": "slide"
                }
            },
            "source": [
                "*Was haben wir hier eigentlich?*"
            ]
        },
        {
            "cell_type": "code",
            "execution_count": 2,
            "metadata": {
                "slideshow": {
                    "slide_type": "-"
                },
                "tags": [
                    "delete"
                ]
            },
            "outputs": [],
            "source": []
        },
        {
            "cell_type": "markdown",
            "metadata": {
                "slideshow": {
                    "slide_type": "fragment"
                }
            },
            "source": [
                "<b>1</b> **DataFrame** (~ programmierbares Excel-Arbeitsblatt), <b>4</b> **Series** (= Spalten), <b>5665947</b> **Rows** (= Eintr\u00e4ge)"
            ]
        },
        {
            "cell_type": "markdown",
            "metadata": {
                "slideshow": {
                    "slide_type": "slide"
                }
            },
            "source": [
                "### III. Bereinigen\n",
                "* Daten sind oft nicht so, wie man sie braucht\n",
                "* Datentypen passen teilweise noch nicht"
            ]
        },
        {
            "cell_type": "markdown",
            "metadata": {
                "slideshow": {
                    "slide_type": "slide"
                }
            },
            "source": [
                "*Wir wandeln die Zeitstempel um*"
            ]
        },
        {
            "cell_type": "code",
            "execution_count": 3,
            "metadata": {
                "slideshow": {
                    "slide_type": "-"
                },
                "tags": [
                    "delete"
                ]
            },
            "outputs": [],
            "source": []
        },
        {
            "cell_type": "markdown",
            "metadata": {
                "slideshow": {
                    "slide_type": "slide"
                }
            },
            "source": [
                "*Wir berechnen uns das Alter jeder Codezeilen\u00e4nderung*"
            ]
        },
        {
            "cell_type": "code",
            "execution_count": 4,
            "metadata": {
                "slideshow": {
                    "slide_type": "-"
                },
                "tags": [
                    "delete"
                ]
            },
            "outputs": [],
            "source": []
        },
        {
            "cell_type": "markdown",
            "metadata": {
                "slideshow": {
                    "slide_type": "slide"
                }
            },
            "source": [
                "### IV. Anreichern\n",
                "\n",
                "* Vorhandenen Daten noch zus\u00e4tzlich mit anderen Datenquellen verschneiden\n",
                "* Aber auch: Teile aus vorhanden Daten extrahieren"
            ]
        },
        {
            "cell_type": "markdown",
            "metadata": {
                "slideshow": {
                    "slide_type": "fragment"
                }
            },
            "source": [
                "=> Dadurch werden mehrere <b>Perspektiven</b> auf ein Problem m\u00f6glich"
            ]
        },
        {
            "cell_type": "markdown",
            "metadata": {
                "slideshow": {
                    "slide_type": "slide"
                }
            },
            "source": [
                "*Wir ordnen jeder Zeilen\u00e4nderung einer Komponente zu*"
            ]
        },
        {
            "cell_type": "code",
            "execution_count": 5,
            "metadata": {
                "slideshow": {
                    "slide_type": "fragment"
                },
                "tags": [
                    "delete"
                ]
            },
            "outputs": [],
            "source": []
        },
        {
            "cell_type": "markdown",
            "metadata": {
                "slideshow": {
                    "slide_type": "fragment"
                }
            },
            "source": [
                "<br/> <small><i>String-Operationen...die dauern. Gibt aber diverse Optimierungsm\u00f6glichkeiten!</i></small>"
            ]
        },
        {
            "cell_type": "markdown",
            "metadata": {
                "slideshow": {
                    "slide_type": "slide"
                }
            },
            "source": [
                "### V. Aggregieren\n",
                "* Vorhandene Daten sind oft zu viel f\u00fcr manuelle Sichtung\n",
                "* Neue Einsichten \u00fcber Problem aber oft auf hoher Flugbahn m\u00f6glich"
            ]
        },
        {
            "cell_type": "markdown",
            "metadata": {
                "slideshow": {
                    "slide_type": "slide"
                }
            },
            "source": [
                "*Wir fassen nach Komponenten zusammen und arbeiten mit der jeweils j\u00fcngsten Zeilen\u00e4nderung weiter*"
            ]
        },
        {
            "cell_type": "code",
            "execution_count": 6,
            "metadata": {
                "slideshow": {
                    "slide_type": "-"
                },
                "tags": [
                    "delete"
                ]
            },
            "outputs": [],
            "source": []
        },
        {
            "cell_type": "markdown",
            "metadata": {
                "slideshow": {
                    "slide_type": "slide"
                }
            },
            "source": [
                "### IV. Visualisieren\n",
                "* Grafische Darstellung geben Analysen den letzten Schliff\n",
                "* Probleme k\u00f6nnen Au\u00dfenstehenden visuell dargestellt besser kommuniziert werden"
            ]
        },
        {
            "cell_type": "markdown",
            "metadata": {
                "slideshow": {
                    "slide_type": "slide"
                }
            },
            "source": [
                "*Wir bauen ein Diagramm mit Min-Alter pro Komponente*"
            ]
        },
        {
            "cell_type": "code",
            "execution_count": 7,
            "metadata": {
                "slideshow": {
                    "slide_type": "-"
                },
                "tags": [
                    "delete"
                ]
            },
            "outputs": [],
            "source": []
        },
        {
            "cell_type": "markdown",
            "metadata": {
                "slideshow": {
                    "slide_type": "slide"
                }
            },
            "source": [
                "## Weitere Analysen\n",
                "\n",
                "* Code-Hotspots identifizieren\n",
                "* Refactorings nachweisen\n",
                "* Performance-Hotspots mit jQAssistant/Neo4j finden\n",
                "* Softwarer\u00fcckbau mit Groovy/Tablesaw motivieren"
            ]
        },
        {
            "cell_type": "markdown",
            "metadata": {
                "slideshow": {
                    "slide_type": "slide"
                }
            },
            "source": [
                "# Zusammenfassung\n",
                "**1.** Es gibt unglaublich <b>viele Quellen</b> f\u00fcr Analysen<br/>  \n",
                "**2.** <b>Problemanalysen</b> mit Standard-Data-Science-Werkzeugen <b>einfach</b> m\u00f6glich<br/>    \n",
                "**3.** Wer mehr <b>Software Analytics</b> will, bekommt auch <b>mehr</b>!<br/>   \n",
                "\n",
                "<b>=> vom <strong>Problem</strong> \u00fcber die <span class=\"green\">Daten</span> zur <span class=\"blue\" style=\"background-color: #FFFF00\">Erkenntnis</span>!</b>"
            ]
        },
        {
            "cell_type": "markdown",
            "metadata": {
                "slideshow": {
                    "slide_type": "slide"
                }
            },
            "source": [
                "## Literatur\n",
                "* <b>Adam Tornhill: Software Design X-Rays</b> \n",
                "* Wes McKinney: Python For Data Analysis\n",
                "* Leek, Jeff: The Elements of Data Analytic Style\n",
                "* Tim Menzies, Laurie Williams, Thomas Zimmermann: Perspectives on Data Science for Software Engineering"
            ]
        },
        {
            "cell_type": "markdown",
            "metadata": {
                "slideshow": {
                    "slide_type": "slide"
                }
            },
            "source": [
                "# Vielen Dank! Fragen?\n",
                "\n",
                "<b>Markus Harrer</b><br/>\n",
                "innoQ Deutschland GmbH\n",
                "  \n",
                "E-Mail: markus.harrer@innoq.com <br/>\n",
                "Twitter: `@feststelltaste`<br/>\n",
                "Blog: `feststelltaste.de`<br/>\n",
                "  <br/>\n",
                "  \n",
                "<img src=\"../resources/innoq_logo.jpg\" width=20% height=\"20%\" align=\"right\"/>"
            ]
        }
    ],
    "metadata": {
        "celltoolbar": "Slideshow",
        "kernelspec": {
            "display_name": "Python 3",
            "language": "python",
            "name": "python3"
        },
        "language_info": {
            "codemirror_mode": {
                "name": "ipython",
                "version": 3
            },
            "file_extension": ".py",
            "mimetype": "text/x-python",
            "name": "python",
            "nbconvert_exporter": "python",
            "pygments_lexer": "ipython3",
            "version": "3.6.0"
        },
        "rise": {
            "controls": false,
            "showSlideNumber": "speaker",
            "slideNumber ": "false",
            "transition": "none"
        }
    },
    "nbformat": 4,
    "nbformat_minor": 2
}