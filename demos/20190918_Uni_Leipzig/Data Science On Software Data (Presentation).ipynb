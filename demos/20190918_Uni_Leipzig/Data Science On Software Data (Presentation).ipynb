{
 "cells": [
  {
   "cell_type": "code",
   "execution_count": 1,
   "metadata": {
    "slideshow": {
     "slide_type": "skip"
    }
   },
   "outputs": [],
   "source": [
    "import pandas as pd"
   ]
  },
  {
   "cell_type": "markdown",
   "metadata": {
    "slideshow": {
     "slide_type": "slide"
    }
   },
   "source": [
    "\n",
    "# Data Science on <br/> Software Data\n",
    "<b>Markus Harrer</b>, Software Development Analyst\n",
    "  \n",
    "`@feststelltaste`\n",
    "\n",
    "\n",
    "<small>Visual Software Analytics Summer School, 18 September 2019</small>\n",
    "\n",
    "<img src=\"../resources/innoq_logo.jpg\" width=20% height=\"20%\" align=\"right\"/>"
   ]
  },
  {
   "cell_type": "markdown",
   "metadata": {
    "slideshow": {
     "slide_type": "slide"
    }
   },
   "source": [
    "# About Me"
   ]
  },
  {
   "cell_type": "markdown",
   "metadata": {
    "slideshow": {
     "slide_type": "slide"
    }
   },
   "source": [
    "## In the past\n",
    "* Bachelor student\n",
    "* Researcher\n",
    "* Software developer\n",
    "* Master student*\n",
    "* Master's degree candidate*\n",
    "* Application developer\n",
    "\n",
    "**and househusband / father*"
   ]
  },
  {
   "cell_type": "markdown",
   "metadata": {
    "slideshow": {
     "slide_type": "slide"
    }
   },
   "source": [
    "## Now\n",
    "\n",
    "<img src=\"../resources/about_me.png\" style=\"width:85%;\" >"
   ]
  },
  {
   "cell_type": "markdown",
   "metadata": {
    "slideshow": {
     "slide_type": "slide"
    }
   },
   "source": [
    "## My Motivation for Data Analysis in Software Development"
   ]
  },
  {
   "cell_type": "markdown",
   "metadata": {
    "slideshow": {
     "slide_type": "slide"
    }
   },
   "source": [
    "### The current problem in the industry\n",
    "<img src=\"../resources/kombar0_en.png\" style=\"width:95%;\" align=\"center\"/>"
   ]
  },
  {
   "cell_type": "markdown",
   "metadata": {
    "slideshow": {
     "slide_type": "slide"
    }
   },
   "source": [
    "### The current problem in the industry\n",
    "<img src=\"../resources/kombar4_en.png\" style=\"width:95%;\" align=\"center\"/>"
   ]
  },
  {
   "cell_type": "markdown",
   "metadata": {
    "slideshow": {
     "slide_type": "slide"
    }
   },
   "source": [
    "## \"Software Analytics\" to the rescue?"
   ]
  },
  {
   "cell_type": "markdown",
   "metadata": {
    "slideshow": {
     "slide_type": "slide"
    }
   },
   "source": [
    "### Definition Software Analytics\n",
    "\"Software Analytics is analytics on <b>software data</b> for **managers** and <b class=\"green\">software engineers</b> with the aim of empowering software development individuals and teams to <i>gain and share insight from their data</i> to <b>make better decisions</b>.\"\n",
    "<br/>\n",
    "<div align=\"right\"><small>Tim Menzies and Thomas Zimmermann</small></div>"
   ]
  },
  {
   "cell_type": "markdown",
   "metadata": {
    "slideshow": {
     "slide_type": "slide"
    }
   },
   "source": [
    "### Which kind of Software Data do we have?\n",
    "\n",
    "* static\n",
    "* runtime\n",
    "* chronological\n",
    "* Community"
   ]
  },
  {
   "cell_type": "markdown",
   "metadata": {
    "slideshow": {
     "slide_type": "fragment"
    }
   },
   "source": [
    "<b>=> a great variety!</b>"
   ]
  },
  {
   "cell_type": "markdown",
   "metadata": {
    "slideshow": {
     "slide_type": "slide"
    }
   },
   "source": [
    "### My problem with classic Software Analytics\n",
    "\n",
    "<img src=\"../resources/freq1_en.png\" style=\"width:80%;\" align=\"center\"/>"
   ]
  },
  {
   "cell_type": "markdown",
   "metadata": {
    "slideshow": {
     "slide_type": "slide"
    }
   },
   "source": [
    "### My problem with classic Software Analytics\n",
    "\n",
    "<img src=\"../resources/freq2_en.png\" style=\"width:80%;\" align=\"center\"/>"
   ]
  },
  {
   "cell_type": "markdown",
   "metadata": {
    "slideshow": {
     "slide_type": "slide"
    }
   },
   "source": [
    "### My problem with classic Software Analytics\n",
    "\n",
    "<img src=\"../resources/freq3_en.png\" style=\"width:80%;\" align=\"center\"/>"
   ]
  },
  {
   "cell_type": "markdown",
   "metadata": {
    "slideshow": {
     "slide_type": "slide"
    }
   },
   "source": [
    "### My problem with classic Software Analytics\n",
    "\n",
    "<img src=\"../resources/freq4_en.png\" style=\"width:80%;\" align=\"center\"/>"
   ]
  },
  {
   "cell_type": "markdown",
   "metadata": {
    "slideshow": {
     "slide_type": "slide"
    }
   },
   "source": [
    "### My problem with classic Software Analytics\n",
    "\n",
    "<img src=\"../resources/freq5_en.png\" style=\"width:80%;\" align=\"center\"/>"
   ]
  },
  {
   "cell_type": "markdown",
   "metadata": {
    "slideshow": {
     "slide_type": "slide"
    }
   },
   "source": [
    "### Some analysis tasks from practice"
   ]
  },
  {
   "cell_type": "markdown",
   "metadata": {
    "slideshow": {
     "slide_type": "-"
    }
   },
   "source": [
    "* Communicating negative performance implications of complex data models\n",
    "* Spotting concurrency problems in custom-built frameworks\n",
    "* Identifying performance bottlenecks across different software systems\n",
    "* Making lost knowledge visible due to turnover\n",
    "* Analyzing the health of a open source community"
   ]
  },
  {
   "cell_type": "markdown",
   "metadata": {
    "slideshow": {
     "slide_type": "slide"
    }
   },
   "source": [
    "### \"It depends\" aka \"context matters!\"\n",
    "\n",
    "<div align=\"center\">\n",
    "<img src=\"../resources/context.png\" style=\"width:70%;\" /></div>"
   ]
  },
  {
   "cell_type": "markdown",
   "metadata": {
    "slideshow": {
     "slide_type": "fragment"
    }
   },
   "source": [
    "<b>Individual systems == individual problems => individual analyses => individual insights!</b>"
   ]
  },
  {
   "cell_type": "markdown",
   "metadata": {
    "slideshow": {
     "slide_type": "slide"
    }
   },
   "source": [
    "### Others see that problem, too\n",
    "\n",
    "*Thomas Zimmermann in \"One size does not fit all\":*\n",
    "<br/><br/>\n",
    "<div style=\"font-size:70%;\" align=\"center\">\n",
    "\"The main lesson: There is no one size fits all model. Even if you find models that work for most, they will not work for everyone. There is much <strong>academic research</strong> into <strong>general models</strong>. In contrast, <b><span class=\"green\">industrial practitioners</span></b> are often fine with <b><span class=\"green\">models that just work for their data</span></b> if the model provides some insight or allows them to work more efficiently.\"<br/><br/></div>"
   ]
  },
  {
   "cell_type": "markdown",
   "metadata": {
    "slideshow": {
     "slide_type": "fragment"
    }
   },
   "source": [
    "But: \"... the methods typically are applicable on different datasets.\" <b>=> we see what's possible!</b>"
   ]
  },
  {
   "cell_type": "markdown",
   "metadata": {
    "slideshow": {
     "slide_type": "slide"
    }
   },
   "source": [
    "<br/><br/><div align=\"center\"><h1><b><strong>Data Science</strong> on <b><span class=\"green\">Software Data</span></b>:<br/><br/> A Lightweight Implementation of <b><span class=\"blue\">Software Analytics</span></b></h1></div>"
   ]
  },
  {
   "cell_type": "markdown",
   "metadata": {
    "slideshow": {
     "slide_type": "slide"
    }
   },
   "source": [
    "## Data Science"
   ]
  },
  {
   "cell_type": "markdown",
   "metadata": {
    "slideshow": {
     "slide_type": "slide"
    }
   },
   "source": [
    "### What is Data Science?"
   ]
  },
  {
   "cell_type": "markdown",
   "metadata": {
    "slideshow": {
     "slide_type": "fragment"
    }
   },
   "source": [
    "\"**Statistics** on a <b><span class=\"green\">Mac</span></b>.\"\n",
    "<br/>\n",
    "<br/>\n",
    "<div align=\"right\"><small>https://twitter.com/cdixon/status/428914681911070720</small></div>"
   ]
  },
  {
   "cell_type": "markdown",
   "metadata": {
    "slideshow": {
     "slide_type": "slide"
    }
   },
   "source": [
    "<b>Data Science Venn Diagram (Drew Conway)</b>\n",
    "\n",
    "<img src=\"../resources/venn_diagram.png\" style=\"width:50%;\" >"
   ]
  },
  {
   "cell_type": "markdown",
   "metadata": {
    "slideshow": {
     "slide_type": "slide"
    }
   },
   "source": [
    "### My Definition"
   ]
  },
  {
   "cell_type": "markdown",
   "metadata": {
    "slideshow": {
     "slide_type": "slide"
    }
   },
   "source": [
    "#### What does \"**data**\" mean for me?\n",
    "\"Without **data** you‘re just another person with an opinion.\"\n",
    "<br/>\n",
    "<div align=\"right\"><small>W. Edwards Deming</small></div>"
   ]
  },
  {
   "cell_type": "markdown",
   "metadata": {
    "slideshow": {
     "slide_type": "fragment"
    }
   },
   "source": [
    "<b>=> Delivering credible insights based on <span class=\"green\">facts</span>.</b>"
   ]
  },
  {
   "cell_type": "markdown",
   "metadata": {
    "slideshow": {
     "slide_type": "slide"
    }
   },
   "source": [
    "#### What does \"**science**\" mean for me?\n",
    "  \n",
    "  \n",
    "\"The aim of **science** is to seek the simplest explanations of complex facts.\"\n",
    "<br/>\n",
    "<div align=\"right\"><small>Albert Einstein</small></div>"
   ]
  },
  {
   "cell_type": "markdown",
   "metadata": {
    "slideshow": {
     "slide_type": "fragment"
    }
   },
   "source": [
    "<b>=> Working out insights in a <span class=\"green\">comprehensible</span> way.</b>"
   ]
  },
  {
   "cell_type": "markdown",
   "metadata": {
    "slideshow": {
     "slide_type": "slide"
    }
   },
   "source": [
    "## Why Data Science at all?"
   ]
  },
  {
   "cell_type": "markdown",
   "metadata": {
    "slideshow": {
     "slide_type": "slide"
    }
   },
   "source": [
    "### High demand in data analytics\n",
    "\n",
    "<img src=\"../resources/data_scientist_sexy.png\" style=\"width: 80%;\"/>"
   ]
  },
  {
   "cell_type": "markdown",
   "metadata": {
    "slideshow": {
     "slide_type": "slide"
    }
   },
   "source": [
    "### Young job positions are paid well...\n",
    "*Data from Stack Overflow Developer Survey 2019*\n",
    "<img src=\"../resources/stackoverflow_salary_devtype-1.svg\" style=\"width: 65%;\"/>"
   ]
  },
  {
   "cell_type": "markdown",
   "metadata": {
    "slideshow": {
     "slide_type": "slide"
    }
   },
   "source": [
    "### ... but also demanding?\n",
    "*Data from Stack Overflow Developer Survey 2019*\n",
    "\n",
    "<b>\"Who's Actively Looking for a Job?\" (Top 5)</b>\n",
    "<img src=\"../resources/stackoverflow_on_job_search.png\" style=\"width: 100%;\"/>"
   ]
  },
  {
   "cell_type": "markdown",
   "metadata": {
    "slideshow": {
     "slide_type": "slide"
    }
   },
   "source": [
    "### Big and supportive community\n",
    "* Free online courses, videos and tutorials (e. g. DataCamp with > 4.6M members)\n",
    "* Online communities that help each other (e. g. Stack Overflow)\n",
    "* Online competitions to improve own skills (e. g. Kaggle)"
   ]
  },
  {
   "cell_type": "markdown",
   "metadata": {
    "slideshow": {
     "slide_type": "slide"
    }
   },
   "source": [
    "### Free and easy to use tools!\n",
    "_\"R is for statisticians who want to program, Python is for developers who want to do statistics.\"_\n",
    "\n",
    "<img src=\"../resources/r_vs_python_pandas.png\" style=\"width: 57%;\"/>"
   ]
  },
  {
   "cell_type": "markdown",
   "metadata": {
    "slideshow": {
     "slide_type": "slide"
    }
   },
   "source": [
    "### Data Science popularity is still growing!"
   ]
  },
  {
   "cell_type": "code",
   "execution_count": 2,
   "metadata": {
    "slideshow": {
     "slide_type": "fragment"
    },
    "tags": [
     "delete"
    ]
   },
   "outputs": [
    {
     "data": {
      "image/png": "[encoded data removed]",
      "text/plain": [
       "<Figure size 432x288 with 1 Axes>"
      ]
     },
     "metadata": {
      "image/png": {
       "height": 254,
       "width": 377
      },
      "needs_background": "light"
     },
     "output_type": "display_data"
    }
   ],
   "source": [
    "pd.read_csv(\"../dataset/google_trends_datascience.csv\", index_col=0).plot();"
   ]
  },
  {
   "cell_type": "markdown",
   "metadata": {
    "slideshow": {
     "slide_type": "fragment"
    }
   },
   "source": [
    "\"100\" == max. popularity!"
   ]
  },
  {
   "cell_type": "markdown",
   "metadata": {
    "slideshow": {
     "slide_type": "slide"
    }
   },
   "source": [
    "# How far away are <span class=\"green\">Software Engineers</span></b> from <strong>Data Science</strong>?"
   ]
  },
  {
   "cell_type": "markdown",
   "metadata": {
    "slideshow": {
     "slide_type": "slide"
    }
   },
   "source": [
    "### What is a Data Scientist?\n",
    "\"A data scientist is someone who<br/>\n",
    "&nbsp;&nbsp;is better at **statistics**<br/>\n",
    "&nbsp;&nbsp;than any <b><span class=\"green\">software engineer</span></b><br/>\n",
    "&nbsp;&nbsp;and better at <b><span class=\"green\">software engineering</span></b><br/>\n",
    "&nbsp;&nbsp;than any **statistician**.\"\n",
    "<br/>\n",
    "<br/>\n",
    "<div align=\"right\"><small>From https://twitter.com/cdixon/status/428914681911070720</small></div>"
   ]
  },
  {
   "cell_type": "markdown",
   "metadata": {
    "slideshow": {
     "slide_type": "fragment"
    }
   },
   "source": [
    "<b>Not so far away as you may have thought!</b>"
   ]
  },
  {
   "cell_type": "markdown",
   "metadata": {
    "slideshow": {
     "slide_type": "slide"
    }
   },
   "source": [
    "# How to Get Started?"
   ]
  },
  {
   "cell_type": "markdown",
   "metadata": {
    "slideshow": {
     "slide_type": "slide"
    }
   },
   "source": [
    "## Reuse a Proven Approach (~ scientific method)\n",
    "<small>Roger Pengs \"Stages of Data Analysis\"</small><br/>\n",
    "I. Stating Question  \n",
    "II. Exploratory Data Analysis  \n",
    "III. Formal Modeling  \n",
    "IV. Interpretation  \n",
    "V. Communication  \n",
    "  \n",
    "\n"
   ]
  },
  {
   "cell_type": "markdown",
   "metadata": {
    "slideshow": {
     "slide_type": "fragment"
    }
   },
   "source": [
    "<b>=> from a <strong>question</strong> over <span class=\"green\">data</span> to <span class=\"blue\" style=\"background-color: #FFFF00\">insights</span>!</b>"
   ]
  },
  {
   "cell_type": "markdown",
   "metadata": {
    "slideshow": {
     "slide_type": "slide"
    }
   },
   "source": [
    "## Be Aware of the \"Seven principles\n",
    "...of inductive software engineering\" (Tim Menzies)\n",
    "1. Human before algorithms\n",
    "1. Plan for Scale\n",
    "1. Get Early Feedback\n",
    "1. Be Open Minded\n",
    "1. Be Smart with Your Learning\n",
    "1. Live with the Data You Have\n",
    "1. Develop a Broad Skill Set That Uses a Big Toolkit"
   ]
  },
  {
   "cell_type": "markdown",
   "metadata": {
    "slideshow": {
     "slide_type": "slide"
    }
   },
   "source": [
    "## Use Literate Statistical Programming\n",
    "\n",
    "`(Intent + Code + Data + Results)`<br />\n",
    "`* Logical Step`<br />\n",
    "`+ Automation`<br />\n",
    "`= Literate Statistical Programming`"
   ]
  },
  {
   "cell_type": "markdown",
   "metadata": {
    "slideshow": {
     "slide_type": "fragment"
    }
   },
   "source": [
    "Approach: **Computational notebooks**"
   ]
  },
  {
   "cell_type": "markdown",
   "metadata": {
    "slideshow": {
     "slide_type": "slide"
    }
   },
   "source": [
    "### Computational Notebook Example\n",
    "<br/>\n",
    "  \n",
    "\n",
    "<div align=\"center\"><img src=\"../resources/notebook_approach.jpg\"></div>"
   ]
  },
  {
   "cell_type": "markdown",
   "metadata": {
    "slideshow": {
     "slide_type": "slide"
    }
   },
   "source": [
    "## Use Standard Data Science Tools\n",
    "\n",
    "### One of the more popular tech stacks\n",
    "\n",
    "* Jupyter Notebook\n",
    "* Python 3\n",
    "* pandas\n",
    "* matplotlib"
   ]
  },
  {
   "cell_type": "markdown",
   "metadata": {
    "slideshow": {
     "slide_type": "slide"
    }
   },
   "source": [
    "### Jupyter Notebook\n",
    "\n",
    "**Interactive Notebook**\n",
    "* Document-based analyses\n",
    "* Executable Code\n",
    "* Displaying results immediately\n",
    "* Everything in one place\n",
    "* Every step to the solution visible\n",
    "\n",
    "<b><span class=\"green\">=> Working out results in a comprehensible way!</span></b>\n",
    "\n"
   ]
  },
  {
   "cell_type": "markdown",
   "metadata": {
    "slideshow": {
     "slide_type": "slide"
    }
   },
   "source": [
    "### Python 3\n",
    "\n",
    "**Best programming language for Data Science!**\n",
    "* Easy\n",
    "* Effective\n",
    "* Fast\n",
    "* Fun\n",
    "* Automation\n",
    "\n",
    "<b><span class=\"green\">=> Data Analysis becomes repeatable</span></b>"
   ]
  },
  {
   "cell_type": "markdown",
   "metadata": {
    "slideshow": {
     "slide_type": "slide"
    }
   },
   "source": [
    "### pandas\n",
    "\n",
    "**Pragmatic data analysis framework**\n",
    "* Tabular data structures (\"programmable Excel sheet\")\n",
    "* Really fast\n",
    "* Flexible \n",
    "* Expressive\n",
    "\n",
    "<b><span class=\"green\">=> Good integration point for your data sources!</span></b>"
   ]
  },
  {
   "cell_type": "markdown",
   "metadata": {
    "slideshow": {
     "slide_type": "slide"
    }
   },
   "source": [
    "### matplotlib\n",
    "\n",
    "**Programmable visualization library**\n",
    "\n",
    "* Programmatic creation of graphics\n",
    "* Plots line charts, bar charts, pie charts and much more\n",
    "* Integrated into pandas\n",
    "\n",
    "<b><span class=\"green\">=> Direct visualization of results in Jupyter Notebooks</span></b>"
   ]
  },
  {
   "cell_type": "markdown",
   "metadata": {
    "slideshow": {
     "slide_type": "slide"
    }
   },
   "source": [
    "### The Python ecosystem\n",
    "<br/>\n",
    "<div class=\"row\">\n",
    "  <div class=\"column\">\n",
    "    <b>Data Analysis</b>\n",
    "    <ul>\n",
    "      <li>NumPy</li>\n",
    "      <li>scikit-learn</li>\n",
    "      <li>TensorFlow</li>\n",
    "      <li>SciPy</li>\n",
    "      <li>PySpark</li>\n",
    "      <li>py2neo</li>\n",
    "    </ul>\n",
    "  </div>\n",
    "  <div class=\"column\">\n",
    "    <b>Visualization and more</b>\n",
    "    <ul>\n",
    "      <li>pygal</li>\n",
    "      <li>Bokeh</li>\n",
    "      <li>python-pptx</li>\n",
    "      <li>RISE</li>\n",
    "      <li>Requests, xmldataset, Selenium, Flask...</li>\n",
    "    </ul>\n",
    "  </div>\n",
    "</div> \n",
    "\n",
    "<b><span class=\"green\">=> Provides the flexibility that is needed in specific situations</span></b> \n"
   ]
  },
  {
   "cell_type": "markdown",
   "metadata": {
    "slideshow": {
     "slide_type": "slide"
    }
   },
   "source": [
    "### Other Technologies\n",
    "**Jupyter Notebook** works also with other technological platforms e. g.\n",
    "* jQAssistant software scanner / Neo4j graph database\n",
    "* JVM-based languages via beakerx / Tablesaw\n",
    "* bash\n",
    "\n",
    "<b><span class=\"green\">=> If you want to use special technology, you can!</span></b>\n"
   ]
  },
  {
   "cell_type": "markdown",
   "metadata": {
    "slideshow": {
     "slide_type": "slide"
    }
   },
   "source": [
    "### Anaconda 3\n",
    "\n",
    "**Data Science Python Distribution**\n",
    "\n",
    "* Free all-inclusive package\n",
    "* Brings everything you need to get started\n",
    "* Optimized for running fast on your operating system\n",
    "\n",
    "<b><span class=\"green\">=> Download, install, ready, go!</span></b>"
   ]
  },
  {
   "cell_type": "markdown",
   "metadata": {
    "slideshow": {
     "slide_type": "slide"
    }
   },
   "source": [
    "### My Recommendations for an easy start\n",
    "\n",
    "#### My TOP 5's*\n",
    "\n",
    "https://www.feststelltaste.de/category/top5/\n",
    "    \n",
    "Courses, videos, blogs, books and more...\n",
    "\n",
    "<small>**some pages are still under development*</small>"
   ]
  },
  {
   "cell_type": "markdown",
   "metadata": {
    "slideshow": {
     "slide_type": "slide"
    }
   },
   "source": [
    "### My Book Recommendations\n",
    "* Adam Tornhill: Software Design X-Ray \n",
    "* Wes McKinney: Python For Data Analysis\n",
    "* Jeff Leek: The Elements of Data Analytic Style\n",
    "* Tim Menzies, Laurie Williams, Thomas Zimmermann: Perspectives on Data Science for Software Engineering"
   ]
  },
  {
   "cell_type": "markdown",
   "metadata": {
    "slideshow": {
     "slide_type": "slide"
    }
   },
   "source": [
    "# Hands-On"
   ]
  },
  {
   "cell_type": "markdown",
   "metadata": {
    "slideshow": {
     "slide_type": "slide"
    }
   },
   "source": [
    "## Programming Demo"
   ]
  },
  {
   "cell_type": "markdown",
   "metadata": {
    "slideshow": {
     "slide_type": "slide"
    }
   },
   "source": [
    "### Case Study\n",
    "\n",
    "#### IntelliJ IDEA\n",
    "\n",
    "* IDE for Java developers\n",
    "* Almost entirely written in Java\n",
    "* Big and long-living project"
   ]
  },
  {
   "cell_type": "markdown",
   "metadata": {
    "slideshow": {
     "slide_type": "slide"
    }
   },
   "source": [
    "### I. Stating Question (1/3)\n",
    "\n",
    "* Write down your question explicitly\n",
    "* Explain analysis idea comprehensibly\n"
   ]
  },
  {
   "cell_type": "markdown",
   "metadata": {
    "slideshow": {
     "slide_type": "slide"
    }
   },
   "source": [
    "### I. Stating Question (2/3)\n",
    "\n",
    "<b>Question</b>\n",
    "* Which code is complex and did change often lately?\n"
   ]
  },
  {
   "cell_type": "markdown",
   "metadata": {
    "slideshow": {
     "slide_type": "slide"
    }
   },
   "source": [
    "### I. Stating Question (3/3)\n",
    "#### Implementation Idea\n",
    "* Tools: Jupyter, Python, pandas, matplotlib\n",
    "* Heuristics:\n",
    " * \"complex\": many lines of code \n",
    " * \"change often\": number of Git commits\n",
    " * \"lately\": last three months\n"
   ]
  },
  {
   "cell_type": "markdown",
   "metadata": {
    "slideshow": {
     "slide_type": "fragment"
    }
   },
   "source": [
    "**Meta goal:** Get to know the basic mechanics of the stack."
   ]
  },
  {
   "cell_type": "markdown",
   "metadata": {
    "slideshow": {
     "slide_type": "slide"
    }
   },
   "source": [
    "### II. Exploratory Data analysis\n",
    "* Load and explore possible data sets\n",
    "* Clean up and filter the raw data"
   ]
  },
  {
   "cell_type": "markdown",
   "metadata": {
    "slideshow": {
     "slide_type": "slide"
    }
   },
   "source": [
    "*We load Git log dataset extracted from a Git repository.*"
   ]
  },
  {
   "cell_type": "code",
   "execution_count": 3,
   "metadata": {
    "slideshow": {
     "slide_type": "fragment"
    },
    "tags": [
     "delete"
    ]
   },
   "outputs": [
    {
     "data": {
      "text/html": [
       "<div>\n",
       "<style scoped>\n",
       "    .dataframe tbody tr th:only-of-type {\n",
       "        vertical-align: middle;\n",
       "    }\n",
       "\n",
       "    .dataframe tbody tr th {\n",
       "        vertical-align: top;\n",
       "    }\n",
       "\n",
       "    .dataframe thead th {\n",
       "        text-align: right;\n",
       "    }\n",
       "</style>\n",
       "<table border=\"1\" class=\"dataframe\">\n",
       "  <thead>\n",
       "    <tr style=\"text-align: right;\">\n",
       "      <th></th>\n",
       "      <th>additions</th>\n",
       "      <th>deletions</th>\n",
       "      <th>filename</th>\n",
       "      <th>sha</th>\n",
       "      <th>timestamp</th>\n",
       "      <th>author</th>\n",
       "    </tr>\n",
       "  </thead>\n",
       "  <tbody>\n",
       "    <tr>\n",
       "      <th>0</th>\n",
       "      <td>4</td>\n",
       "      <td>0</td>\n",
       "      <td>java/java-impl/src/com/intellij/codeInsight/hi...</td>\n",
       "      <td>be6247932aa9</td>\n",
       "      <td>2019-07-01 14:40:24</td>\n",
       "      <td>Roman.Ivanov</td>\n",
       "    </tr>\n",
       "    <tr>\n",
       "      <th>1</th>\n",
       "      <td>4</td>\n",
       "      <td>6</td>\n",
       "      <td>java/java-impl/src/com/intellij/codeInsight/hi...</td>\n",
       "      <td>ee2032b77eca</td>\n",
       "      <td>2019-07-01 11:36:14</td>\n",
       "      <td>Roman.Ivanov</td>\n",
       "    </tr>\n",
       "    <tr>\n",
       "      <th>2</th>\n",
       "      <td>0</td>\n",
       "      <td>3</td>\n",
       "      <td>java/java-impl/src/META-INF/JavaPlugin.xml</td>\n",
       "      <td>fbeb4d639dc1</td>\n",
       "      <td>2019-06-26 11:14:34</td>\n",
       "      <td>Roman.Ivanov</td>\n",
       "    </tr>\n",
       "    <tr>\n",
       "      <th>3</th>\n",
       "      <td>6</td>\n",
       "      <td>3</td>\n",
       "      <td>java/java-impl/src/com/intellij/codeInsight/hi...</td>\n",
       "      <td>fbeb4d639dc1</td>\n",
       "      <td>2019-06-26 11:14:34</td>\n",
       "      <td>Roman.Ivanov</td>\n",
       "    </tr>\n",
       "    <tr>\n",
       "      <th>4</th>\n",
       "      <td>11</td>\n",
       "      <td>6</td>\n",
       "      <td>java/java-impl/src/com/intellij/codeInsight/hi...</td>\n",
       "      <td>a3d5a9b855fe</td>\n",
       "      <td>2019-06-14 10:32:15</td>\n",
       "      <td>Roman.Ivanov</td>\n",
       "    </tr>\n",
       "  </tbody>\n",
       "</table>\n",
       "</div>"
      ],
      "text/plain": [
       "  additions deletions                                           filename  \\\n",
       "0         4         0  java/java-impl/src/com/intellij/codeInsight/hi...   \n",
       "1         4         6  java/java-impl/src/com/intellij/codeInsight/hi...   \n",
       "2         0         3         java/java-impl/src/META-INF/JavaPlugin.xml   \n",
       "3         6         3  java/java-impl/src/com/intellij/codeInsight/hi...   \n",
       "4        11         6  java/java-impl/src/com/intellij/codeInsight/hi...   \n",
       "\n",
       "            sha            timestamp        author  \n",
       "0  be6247932aa9  2019-07-01 14:40:24  Roman.Ivanov  \n",
       "1  ee2032b77eca  2019-07-01 11:36:14  Roman.Ivanov  \n",
       "2  fbeb4d639dc1  2019-06-26 11:14:34  Roman.Ivanov  \n",
       "3  fbeb4d639dc1  2019-06-26 11:14:34  Roman.Ivanov  \n",
       "4  a3d5a9b855fe  2019-06-14 10:32:15  Roman.Ivanov  "
      ]
     },
     "execution_count": 3,
     "metadata": {},
     "output_type": "execute_result"
    }
   ],
   "source": [
    "import pandas as pd\n",
    "\n",
    "log = pd.read_csv(\"../dataset/git_log_intellij.csv.gz\")\n",
    "log.head()"
   ]
  },
  {
   "cell_type": "markdown",
   "metadata": {
    "slideshow": {
     "slide_type": "slide"
    }
   },
   "source": [
    "*We explore some basic key elements of the dataset*"
   ]
  },
  {
   "cell_type": "code",
   "execution_count": 4,
   "metadata": {
    "slideshow": {
     "slide_type": "-"
    },
    "tags": [
     "delete"
    ]
   },
   "outputs": [
    {
     "name": "stdout",
     "output_type": "stream",
     "text": [
      "<class 'pandas.core.frame.DataFrame'>\n",
      "RangeIndex: 1128819 entries, 0 to 1128818\n",
      "Data columns (total 6 columns):\n",
      "additions    1128819 non-null object\n",
      "deletions    1128819 non-null object\n",
      "filename     1128819 non-null object\n",
      "sha          1128819 non-null object\n",
      "timestamp    1128819 non-null object\n",
      "author       1128819 non-null object\n",
      "dtypes: object(6)\n",
      "memory usage: 51.7+ MB\n"
     ]
    }
   ],
   "source": [
    "log.info()"
   ]
  },
  {
   "cell_type": "markdown",
   "metadata": {
    "slideshow": {
     "slide_type": "fragment"
    }
   },
   "source": [
    "<b>1</b> **DataFrame** (~ programmable Excel worksheet), <b>6</b> **Series** (= columns), <b>1128819</b> **rows** (= entries)"
   ]
  },
  {
   "cell_type": "markdown",
   "metadata": {
    "slideshow": {
     "slide_type": "slide"
    }
   },
   "source": [
    "*We convert the text with a time to a real timestamp object.*"
   ]
  },
  {
   "cell_type": "code",
   "execution_count": 5,
   "metadata": {
    "slideshow": {
     "slide_type": "-"
    },
    "tags": [
     "delete"
    ]
   },
   "outputs": [
    {
     "data": {
      "text/html": [
       "<div>\n",
       "<style scoped>\n",
       "    .dataframe tbody tr th:only-of-type {\n",
       "        vertical-align: middle;\n",
       "    }\n",
       "\n",
       "    .dataframe tbody tr th {\n",
       "        vertical-align: top;\n",
       "    }\n",
       "\n",
       "    .dataframe thead th {\n",
       "        text-align: right;\n",
       "    }\n",
       "</style>\n",
       "<table border=\"1\" class=\"dataframe\">\n",
       "  <thead>\n",
       "    <tr style=\"text-align: right;\">\n",
       "      <th></th>\n",
       "      <th>additions</th>\n",
       "      <th>deletions</th>\n",
       "      <th>filename</th>\n",
       "      <th>sha</th>\n",
       "      <th>timestamp</th>\n",
       "      <th>author</th>\n",
       "    </tr>\n",
       "  </thead>\n",
       "  <tbody>\n",
       "    <tr>\n",
       "      <th>0</th>\n",
       "      <td>4</td>\n",
       "      <td>0</td>\n",
       "      <td>java/java-impl/src/com/intellij/codeInsight/hi...</td>\n",
       "      <td>be6247932aa9</td>\n",
       "      <td>2019-07-01 14:40:24</td>\n",
       "      <td>Roman.Ivanov</td>\n",
       "    </tr>\n",
       "    <tr>\n",
       "      <th>1</th>\n",
       "      <td>4</td>\n",
       "      <td>6</td>\n",
       "      <td>java/java-impl/src/com/intellij/codeInsight/hi...</td>\n",
       "      <td>ee2032b77eca</td>\n",
       "      <td>2019-07-01 11:36:14</td>\n",
       "      <td>Roman.Ivanov</td>\n",
       "    </tr>\n",
       "    <tr>\n",
       "      <th>2</th>\n",
       "      <td>0</td>\n",
       "      <td>3</td>\n",
       "      <td>java/java-impl/src/META-INF/JavaPlugin.xml</td>\n",
       "      <td>fbeb4d639dc1</td>\n",
       "      <td>2019-06-26 11:14:34</td>\n",
       "      <td>Roman.Ivanov</td>\n",
       "    </tr>\n",
       "    <tr>\n",
       "      <th>3</th>\n",
       "      <td>6</td>\n",
       "      <td>3</td>\n",
       "      <td>java/java-impl/src/com/intellij/codeInsight/hi...</td>\n",
       "      <td>fbeb4d639dc1</td>\n",
       "      <td>2019-06-26 11:14:34</td>\n",
       "      <td>Roman.Ivanov</td>\n",
       "    </tr>\n",
       "    <tr>\n",
       "      <th>4</th>\n",
       "      <td>11</td>\n",
       "      <td>6</td>\n",
       "      <td>java/java-impl/src/com/intellij/codeInsight/hi...</td>\n",
       "      <td>a3d5a9b855fe</td>\n",
       "      <td>2019-06-14 10:32:15</td>\n",
       "      <td>Roman.Ivanov</td>\n",
       "    </tr>\n",
       "  </tbody>\n",
       "</table>\n",
       "</div>"
      ],
      "text/plain": [
       "  additions deletions                                           filename  \\\n",
       "0         4         0  java/java-impl/src/com/intellij/codeInsight/hi...   \n",
       "1         4         6  java/java-impl/src/com/intellij/codeInsight/hi...   \n",
       "2         0         3         java/java-impl/src/META-INF/JavaPlugin.xml   \n",
       "3         6         3  java/java-impl/src/com/intellij/codeInsight/hi...   \n",
       "4        11         6  java/java-impl/src/com/intellij/codeInsight/hi...   \n",
       "\n",
       "            sha           timestamp        author  \n",
       "0  be6247932aa9 2019-07-01 14:40:24  Roman.Ivanov  \n",
       "1  ee2032b77eca 2019-07-01 11:36:14  Roman.Ivanov  \n",
       "2  fbeb4d639dc1 2019-06-26 11:14:34  Roman.Ivanov  \n",
       "3  fbeb4d639dc1 2019-06-26 11:14:34  Roman.Ivanov  \n",
       "4  a3d5a9b855fe 2019-06-14 10:32:15  Roman.Ivanov  "
      ]
     },
     "execution_count": 5,
     "metadata": {},
     "output_type": "execute_result"
    }
   ],
   "source": [
    "log['timestamp'] = pd.to_datetime(log['timestamp'])\n",
    "log.head()"
   ]
  },
  {
   "cell_type": "markdown",
   "metadata": {
    "slideshow": {
     "slide_type": "slide"
    }
   },
   "source": [
    "*We filter out older changes.*"
   ]
  },
  {
   "cell_type": "code",
   "execution_count": 6,
   "metadata": {
    "scrolled": true,
    "slideshow": {
     "slide_type": "-"
    },
    "tags": [
     "delete"
    ]
   },
   "outputs": [
    {
     "data": {
      "text/html": [
       "<div>\n",
       "<style scoped>\n",
       "    .dataframe tbody tr th:only-of-type {\n",
       "        vertical-align: middle;\n",
       "    }\n",
       "\n",
       "    .dataframe tbody tr th {\n",
       "        vertical-align: top;\n",
       "    }\n",
       "\n",
       "    .dataframe thead th {\n",
       "        text-align: right;\n",
       "    }\n",
       "</style>\n",
       "<table border=\"1\" class=\"dataframe\">\n",
       "  <thead>\n",
       "    <tr style=\"text-align: right;\">\n",
       "      <th></th>\n",
       "      <th>additions</th>\n",
       "      <th>deletions</th>\n",
       "      <th>filename</th>\n",
       "      <th>sha</th>\n",
       "      <th>timestamp</th>\n",
       "      <th>author</th>\n",
       "    </tr>\n",
       "  </thead>\n",
       "  <tbody>\n",
       "    <tr>\n",
       "      <th>0</th>\n",
       "      <td>4</td>\n",
       "      <td>0</td>\n",
       "      <td>java/java-impl/src/com/intellij/codeInsight/hi...</td>\n",
       "      <td>be6247932aa9</td>\n",
       "      <td>2019-07-01 14:40:24</td>\n",
       "      <td>Roman.Ivanov</td>\n",
       "    </tr>\n",
       "    <tr>\n",
       "      <th>1</th>\n",
       "      <td>4</td>\n",
       "      <td>6</td>\n",
       "      <td>java/java-impl/src/com/intellij/codeInsight/hi...</td>\n",
       "      <td>ee2032b77eca</td>\n",
       "      <td>2019-07-01 11:36:14</td>\n",
       "      <td>Roman.Ivanov</td>\n",
       "    </tr>\n",
       "    <tr>\n",
       "      <th>2</th>\n",
       "      <td>0</td>\n",
       "      <td>3</td>\n",
       "      <td>java/java-impl/src/META-INF/JavaPlugin.xml</td>\n",
       "      <td>fbeb4d639dc1</td>\n",
       "      <td>2019-06-26 11:14:34</td>\n",
       "      <td>Roman.Ivanov</td>\n",
       "    </tr>\n",
       "    <tr>\n",
       "      <th>3</th>\n",
       "      <td>6</td>\n",
       "      <td>3</td>\n",
       "      <td>java/java-impl/src/com/intellij/codeInsight/hi...</td>\n",
       "      <td>fbeb4d639dc1</td>\n",
       "      <td>2019-06-26 11:14:34</td>\n",
       "      <td>Roman.Ivanov</td>\n",
       "    </tr>\n",
       "    <tr>\n",
       "      <th>16</th>\n",
       "      <td>6</td>\n",
       "      <td>2</td>\n",
       "      <td>platform/lang-impl/src/com/intellij/codeInsigh...</td>\n",
       "      <td>075cb7338a6f</td>\n",
       "      <td>2019-07-01 09:44:53</td>\n",
       "      <td>Roman.Ivanov</td>\n",
       "    </tr>\n",
       "  </tbody>\n",
       "</table>\n",
       "</div>"
      ],
      "text/plain": [
       "   additions deletions                                           filename  \\\n",
       "0          4         0  java/java-impl/src/com/intellij/codeInsight/hi...   \n",
       "1          4         6  java/java-impl/src/com/intellij/codeInsight/hi...   \n",
       "2          0         3         java/java-impl/src/META-INF/JavaPlugin.xml   \n",
       "3          6         3  java/java-impl/src/com/intellij/codeInsight/hi...   \n",
       "16         6         2  platform/lang-impl/src/com/intellij/codeInsigh...   \n",
       "\n",
       "             sha           timestamp        author  \n",
       "0   be6247932aa9 2019-07-01 14:40:24  Roman.Ivanov  \n",
       "1   ee2032b77eca 2019-07-01 11:36:14  Roman.Ivanov  \n",
       "2   fbeb4d639dc1 2019-06-26 11:14:34  Roman.Ivanov  \n",
       "3   fbeb4d639dc1 2019-06-26 11:14:34  Roman.Ivanov  \n",
       "16  075cb7338a6f 2019-07-01 09:44:53  Roman.Ivanov  "
      ]
     },
     "execution_count": 6,
     "metadata": {},
     "output_type": "execute_result"
    }
   ],
   "source": [
    "recent = log[log['timestamp'] > pd.Timestamp('today') - pd.Timedelta('90 days')]\n",
    "recent.head()"
   ]
  },
  {
   "cell_type": "markdown",
   "metadata": {
    "slideshow": {
     "slide_type": "slide"
    }
   },
   "source": [
    "*We keep just code written in Java.*"
   ]
  },
  {
   "cell_type": "code",
   "execution_count": 7,
   "metadata": {
    "slideshow": {
     "slide_type": "-"
    },
    "tags": [
     "delete"
    ]
   },
   "outputs": [
    {
     "data": {
      "text/html": [
       "<div>\n",
       "<style scoped>\n",
       "    .dataframe tbody tr th:only-of-type {\n",
       "        vertical-align: middle;\n",
       "    }\n",
       "\n",
       "    .dataframe tbody tr th {\n",
       "        vertical-align: top;\n",
       "    }\n",
       "\n",
       "    .dataframe thead th {\n",
       "        text-align: right;\n",
       "    }\n",
       "</style>\n",
       "<table border=\"1\" class=\"dataframe\">\n",
       "  <thead>\n",
       "    <tr style=\"text-align: right;\">\n",
       "      <th></th>\n",
       "      <th>additions</th>\n",
       "      <th>deletions</th>\n",
       "      <th>filename</th>\n",
       "      <th>sha</th>\n",
       "      <th>timestamp</th>\n",
       "      <th>author</th>\n",
       "    </tr>\n",
       "  </thead>\n",
       "  <tbody>\n",
       "    <tr>\n",
       "      <th>27</th>\n",
       "      <td>1</td>\n",
       "      <td>10</td>\n",
       "      <td>platform/smRunner/src/com/intellij/execution/t...</td>\n",
       "      <td>f4ed78c8f574</td>\n",
       "      <td>2019-06-28 18:28:41</td>\n",
       "      <td>Ilya.Kazakevich</td>\n",
       "    </tr>\n",
       "    <tr>\n",
       "      <th>29</th>\n",
       "      <td>28</td>\n",
       "      <td>0</td>\n",
       "      <td>platform/smRunner/testSrc/com/intellij/executi...</td>\n",
       "      <td>f4ed78c8f574</td>\n",
       "      <td>2019-06-28 18:28:41</td>\n",
       "      <td>Ilya.Kazakevich</td>\n",
       "    </tr>\n",
       "    <tr>\n",
       "      <th>30</th>\n",
       "      <td>6</td>\n",
       "      <td>3</td>\n",
       "      <td>plugins/InspectionGadgets/InspectionGadgetsAna...</td>\n",
       "      <td>a724467ad1a5</td>\n",
       "      <td>2019-07-01 19:47:38</td>\n",
       "      <td>Roman Shevchenko</td>\n",
       "    </tr>\n",
       "    <tr>\n",
       "      <th>31</th>\n",
       "      <td>2</td>\n",
       "      <td>2</td>\n",
       "      <td>plugins/InspectionGadgets/test/com/siyeh/igfix...</td>\n",
       "      <td>a724467ad1a5</td>\n",
       "      <td>2019-07-01 19:47:38</td>\n",
       "      <td>Roman Shevchenko</td>\n",
       "    </tr>\n",
       "    <tr>\n",
       "      <th>32</th>\n",
       "      <td>2</td>\n",
       "      <td>2</td>\n",
       "      <td>plugins/InspectionGadgets/test/com/siyeh/igfix...</td>\n",
       "      <td>a724467ad1a5</td>\n",
       "      <td>2019-07-01 19:47:38</td>\n",
       "      <td>Roman Shevchenko</td>\n",
       "    </tr>\n",
       "  </tbody>\n",
       "</table>\n",
       "</div>"
      ],
      "text/plain": [
       "   additions deletions                                           filename  \\\n",
       "27         1        10  platform/smRunner/src/com/intellij/execution/t...   \n",
       "29        28         0  platform/smRunner/testSrc/com/intellij/executi...   \n",
       "30         6         3  plugins/InspectionGadgets/InspectionGadgetsAna...   \n",
       "31         2         2  plugins/InspectionGadgets/test/com/siyeh/igfix...   \n",
       "32         2         2  plugins/InspectionGadgets/test/com/siyeh/igfix...   \n",
       "\n",
       "             sha           timestamp            author  \n",
       "27  f4ed78c8f574 2019-06-28 18:28:41   Ilya.Kazakevich  \n",
       "29  f4ed78c8f574 2019-06-28 18:28:41   Ilya.Kazakevich  \n",
       "30  a724467ad1a5 2019-07-01 19:47:38  Roman Shevchenko  \n",
       "31  a724467ad1a5 2019-07-01 19:47:38  Roman Shevchenko  \n",
       "32  a724467ad1a5 2019-07-01 19:47:38  Roman Shevchenko  "
      ]
     },
     "execution_count": 7,
     "metadata": {},
     "output_type": "execute_result"
    }
   ],
   "source": [
    "java = recent[recent['filename'].str.endswith(\".java\")].copy()\n",
    "java.head() "
   ]
  },
  {
   "cell_type": "markdown",
   "metadata": {
    "slideshow": {
     "slide_type": "slide"
    }
   },
   "source": [
    "### III. Formal Modeling\n",
    "\n",
    "* Create new perspective on the data\n",
    "* Join data with other datasets\n"
   ]
  },
  {
   "cell_type": "markdown",
   "metadata": {
    "slideshow": {
     "slide_type": "slide"
    }
   },
   "source": [
    "*We aggregate the rows by counting the number of changes per file.*"
   ]
  },
  {
   "cell_type": "code",
   "execution_count": 8,
   "metadata": {
    "slideshow": {
     "slide_type": "-"
    },
    "tags": [
     "delete"
    ]
   },
   "outputs": [
    {
     "data": {
      "text/html": [
       "<div>\n",
       "<style scoped>\n",
       "    .dataframe tbody tr th:only-of-type {\n",
       "        vertical-align: middle;\n",
       "    }\n",
       "\n",
       "    .dataframe tbody tr th {\n",
       "        vertical-align: top;\n",
       "    }\n",
       "\n",
       "    .dataframe thead th {\n",
       "        text-align: right;\n",
       "    }\n",
       "</style>\n",
       "<table border=\"1\" class=\"dataframe\">\n",
       "  <thead>\n",
       "    <tr style=\"text-align: right;\">\n",
       "      <th></th>\n",
       "      <th>sha</th>\n",
       "    </tr>\n",
       "    <tr>\n",
       "      <th>filename</th>\n",
       "      <th></th>\n",
       "    </tr>\n",
       "  </thead>\n",
       "  <tbody>\n",
       "    <tr>\n",
       "      <th>images/src/org/intellij/images/options/impl/ImagesOptionsTopHitProvider.java</th>\n",
       "      <td>1</td>\n",
       "    </tr>\n",
       "    <tr>\n",
       "      <th>java/compiler/impl/src/com/intellij/compiler/actions/CompileProjectAction.java</th>\n",
       "      <td>1</td>\n",
       "    </tr>\n",
       "    <tr>\n",
       "      <th>java/compiler/impl/src/com/intellij/compiler/backwardRefs/DirtyScopeHolder.java</th>\n",
       "      <td>1</td>\n",
       "    </tr>\n",
       "    <tr>\n",
       "      <th>java/compiler/impl/src/com/intellij/compiler/impl/CompileContextImpl.java</th>\n",
       "      <td>1</td>\n",
       "    </tr>\n",
       "    <tr>\n",
       "      <th>java/compiler/impl/src/com/intellij/packaging/impl/compiler/ArtifactsCompiler.java</th>\n",
       "      <td>1</td>\n",
       "    </tr>\n",
       "  </tbody>\n",
       "</table>\n",
       "</div>"
      ],
      "text/plain": [
       "                                                    sha\n",
       "filename                                               \n",
       "images/src/org/intellij/images/options/impl/Ima...    1\n",
       "java/compiler/impl/src/com/intellij/compiler/ac...    1\n",
       "java/compiler/impl/src/com/intellij/compiler/ba...    1\n",
       "java/compiler/impl/src/com/intellij/compiler/im...    1\n",
       "java/compiler/impl/src/com/intellij/packaging/i...    1"
      ]
     },
     "execution_count": 8,
     "metadata": {},
     "output_type": "execute_result"
    }
   ],
   "source": [
    "changes = java.groupby('filename')[['sha']].count()\n",
    "changes.head()"
   ]
  },
  {
   "cell_type": "markdown",
   "metadata": {
    "slideshow": {
     "slide_type": "slide"
    }
   },
   "source": [
    "*We add additional information about the number of lines...*"
   ]
  },
  {
   "cell_type": "code",
   "execution_count": 9,
   "metadata": {
    "slideshow": {
     "slide_type": "-"
    },
    "tags": [
     "delete"
    ]
   },
   "outputs": [
    {
     "data": {
      "text/html": [
       "<div>\n",
       "<style scoped>\n",
       "    .dataframe tbody tr th:only-of-type {\n",
       "        vertical-align: middle;\n",
       "    }\n",
       "\n",
       "    .dataframe tbody tr th {\n",
       "        vertical-align: top;\n",
       "    }\n",
       "\n",
       "    .dataframe thead th {\n",
       "        text-align: right;\n",
       "    }\n",
       "</style>\n",
       "<table border=\"1\" class=\"dataframe\">\n",
       "  <thead>\n",
       "    <tr style=\"text-align: right;\">\n",
       "      <th></th>\n",
       "      <th>language</th>\n",
       "      <th>blank</th>\n",
       "      <th>comment</th>\n",
       "      <th>code</th>\n",
       "    </tr>\n",
       "    <tr>\n",
       "      <th>filename</th>\n",
       "      <th></th>\n",
       "      <th></th>\n",
       "      <th></th>\n",
       "      <th></th>\n",
       "    </tr>\n",
       "  </thead>\n",
       "  <tbody>\n",
       "    <tr>\n",
       "      <th>java/java-tests/testData/psi/resolve/ThinletBig.java</th>\n",
       "      <td>Java</td>\n",
       "      <td>299</td>\n",
       "      <td>1140</td>\n",
       "      <td>20125</td>\n",
       "    </tr>\n",
       "    <tr>\n",
       "      <th>java/java-tests/testData/psi/parser-full/declarationParsing/class/LongClass.java</th>\n",
       "      <td>Java</td>\n",
       "      <td>10121</td>\n",
       "      <td>10164</td>\n",
       "      <td>10166</td>\n",
       "    </tr>\n",
       "    <tr>\n",
       "      <th>python/gen/com/jetbrains/python/console/protocol/PythonConsoleBackendService.java</th>\n",
       "      <td>Java</td>\n",
       "      <td>1971</td>\n",
       "      <td>591</td>\n",
       "      <td>10086</td>\n",
       "    </tr>\n",
       "    <tr>\n",
       "      <th>jps/jps-builders/src/org/jetbrains/jps/api/CmdlineRemoteProto.java</th>\n",
       "      <td>Java</td>\n",
       "      <td>502</td>\n",
       "      <td>3066</td>\n",
       "      <td>8605</td>\n",
       "    </tr>\n",
       "    <tr>\n",
       "      <th>plugins/java-decompiler/engine/testData/obfuscated/aj.java</th>\n",
       "      <td>Java</td>\n",
       "      <td>551</td>\n",
       "      <td>1</td>\n",
       "      <td>8043</td>\n",
       "    </tr>\n",
       "  </tbody>\n",
       "</table>\n",
       "</div>"
      ],
      "text/plain": [
       "                                                   language  blank  comment  \\\n",
       "filename                                                                      \n",
       "java/java-tests/testData/psi/resolve/ThinletBig...     Java    299     1140   \n",
       "java/java-tests/testData/psi/parser-full/declar...     Java  10121    10164   \n",
       "python/gen/com/jetbrains/python/console/protoco...     Java   1971      591   \n",
       "jps/jps-builders/src/org/jetbrains/jps/api/Cmdl...     Java    502     3066   \n",
       "plugins/java-decompiler/engine/testData/obfusca...     Java    551        1   \n",
       "\n",
       "                                                     code  \n",
       "filename                                                   \n",
       "java/java-tests/testData/psi/resolve/ThinletBig...  20125  \n",
       "java/java-tests/testData/psi/parser-full/declar...  10166  \n",
       "python/gen/com/jetbrains/python/console/protoco...  10086  \n",
       "jps/jps-builders/src/org/jetbrains/jps/api/Cmdl...   8605  \n",
       "plugins/java-decompiler/engine/testData/obfusca...   8043  "
      ]
     },
     "execution_count": 9,
     "metadata": {},
     "output_type": "execute_result"
    }
   ],
   "source": [
    "loc = pd.read_csv(\"../dataset/cloc_intellij.csv.gz\", index_col=1)\n",
    "loc.head()"
   ]
  },
  {
   "cell_type": "markdown",
   "metadata": {
    "slideshow": {
     "slide_type": "slide"
    }
   },
   "source": [
    "*...and join this data with the existing dataset.*"
   ]
  },
  {
   "cell_type": "code",
   "execution_count": 10,
   "metadata": {
    "slideshow": {
     "slide_type": "-"
    },
    "tags": [
     "delete"
    ]
   },
   "outputs": [
    {
     "data": {
      "text/html": [
       "<div>\n",
       "<style scoped>\n",
       "    .dataframe tbody tr th:only-of-type {\n",
       "        vertical-align: middle;\n",
       "    }\n",
       "\n",
       "    .dataframe tbody tr th {\n",
       "        vertical-align: top;\n",
       "    }\n",
       "\n",
       "    .dataframe thead th {\n",
       "        text-align: right;\n",
       "    }\n",
       "</style>\n",
       "<table border=\"1\" class=\"dataframe\">\n",
       "  <thead>\n",
       "    <tr style=\"text-align: right;\">\n",
       "      <th></th>\n",
       "      <th>sha</th>\n",
       "      <th>code</th>\n",
       "    </tr>\n",
       "    <tr>\n",
       "      <th>filename</th>\n",
       "      <th></th>\n",
       "      <th></th>\n",
       "    </tr>\n",
       "  </thead>\n",
       "  <tbody>\n",
       "    <tr>\n",
       "      <th>images/src/org/intellij/images/options/impl/ImagesOptionsTopHitProvider.java</th>\n",
       "      <td>1</td>\n",
       "      <td>NaN</td>\n",
       "    </tr>\n",
       "    <tr>\n",
       "      <th>java/compiler/impl/src/com/intellij/compiler/actions/CompileProjectAction.java</th>\n",
       "      <td>1</td>\n",
       "      <td>38.0</td>\n",
       "    </tr>\n",
       "    <tr>\n",
       "      <th>java/compiler/impl/src/com/intellij/compiler/backwardRefs/DirtyScopeHolder.java</th>\n",
       "      <td>1</td>\n",
       "      <td>293.0</td>\n",
       "    </tr>\n",
       "    <tr>\n",
       "      <th>java/compiler/impl/src/com/intellij/compiler/impl/CompileContextImpl.java</th>\n",
       "      <td>1</td>\n",
       "      <td>181.0</td>\n",
       "    </tr>\n",
       "    <tr>\n",
       "      <th>java/compiler/impl/src/com/intellij/packaging/impl/compiler/ArtifactsCompiler.java</th>\n",
       "      <td>1</td>\n",
       "      <td>50.0</td>\n",
       "    </tr>\n",
       "  </tbody>\n",
       "</table>\n",
       "</div>"
      ],
      "text/plain": [
       "                                                    sha   code\n",
       "filename                                                      \n",
       "images/src/org/intellij/images/options/impl/Ima...    1    NaN\n",
       "java/compiler/impl/src/com/intellij/compiler/ac...    1   38.0\n",
       "java/compiler/impl/src/com/intellij/compiler/ba...    1  293.0\n",
       "java/compiler/impl/src/com/intellij/compiler/im...    1  181.0\n",
       "java/compiler/impl/src/com/intellij/packaging/i...    1   50.0"
      ]
     },
     "execution_count": 10,
     "metadata": {},
     "output_type": "execute_result"
    }
   ],
   "source": [
    "hotspots = changes.join(loc[['code']])\n",
    "hotspots.head()"
   ]
  },
  {
   "cell_type": "markdown",
   "metadata": {
    "slideshow": {
     "slide_type": "slide"
    }
   },
   "source": [
    "### VI. Interpretation\n",
    "* Work out the essence of the analysis\n",
    "* Make the central message / new insight clear"
   ]
  },
  {
   "cell_type": "markdown",
   "metadata": {
    "slideshow": {
     "slide_type": "slide"
    }
   },
   "source": [
    "*We show only the TOP 10 hotspots in the code.*"
   ]
  },
  {
   "cell_type": "code",
   "execution_count": 11,
   "metadata": {
    "slideshow": {
     "slide_type": "-"
    },
    "tags": [
     "delete"
    ]
   },
   "outputs": [
    {
     "data": {
      "text/html": [
       "<div>\n",
       "<style scoped>\n",
       "    .dataframe tbody tr th:only-of-type {\n",
       "        vertical-align: middle;\n",
       "    }\n",
       "\n",
       "    .dataframe tbody tr th {\n",
       "        vertical-align: top;\n",
       "    }\n",
       "\n",
       "    .dataframe thead th {\n",
       "        text-align: right;\n",
       "    }\n",
       "</style>\n",
       "<table border=\"1\" class=\"dataframe\">\n",
       "  <thead>\n",
       "    <tr style=\"text-align: right;\">\n",
       "      <th></th>\n",
       "      <th>sha</th>\n",
       "      <th>code</th>\n",
       "    </tr>\n",
       "    <tr>\n",
       "      <th>filename</th>\n",
       "      <th></th>\n",
       "      <th></th>\n",
       "    </tr>\n",
       "  </thead>\n",
       "  <tbody>\n",
       "    <tr>\n",
       "      <th>platform/lang-impl/src/com/intellij/openapi/editor/EditorMouseHoverPopupManager.java</th>\n",
       "      <td>18</td>\n",
       "      <td>497.0</td>\n",
       "    </tr>\n",
       "    <tr>\n",
       "      <th>platform/platform-impl/src/com/intellij/platform/PlatformProjectOpenProcessor.java</th>\n",
       "      <td>8</td>\n",
       "      <td>337.0</td>\n",
       "    </tr>\n",
       "    <tr>\n",
       "      <th>platform/platform-api/src/com/intellij/ui/tabs/newImpl/JBTabsImpl.java</th>\n",
       "      <td>6</td>\n",
       "      <td>26.0</td>\n",
       "    </tr>\n",
       "    <tr>\n",
       "      <th>platform/lang-impl/src/com/intellij/execution/ui/layout/impl/RunnerContentUi.java</th>\n",
       "      <td>6</td>\n",
       "      <td>1567.0</td>\n",
       "    </tr>\n",
       "    <tr>\n",
       "      <th>platform/lang-impl/src/com/intellij/execution/ui/layout/impl/GridCellImpl.java</th>\n",
       "      <td>5</td>\n",
       "      <td>406.0</td>\n",
       "    </tr>\n",
       "    <tr>\n",
       "      <th>platform/util/ui/src/com/intellij/util/ui/UIUtil.java</th>\n",
       "      <td>5</td>\n",
       "      <td>2902.0</td>\n",
       "    </tr>\n",
       "    <tr>\n",
       "      <th>platform/diff-impl/src/com/intellij/diff/util/DiffDrawUtil.java</th>\n",
       "      <td>5</td>\n",
       "      <td>554.0</td>\n",
       "    </tr>\n",
       "    <tr>\n",
       "      <th>platform/platform-impl/src/com/intellij/openapi/wm/impl/IdeRootPane.java</th>\n",
       "      <td>5</td>\n",
       "      <td>403.0</td>\n",
       "    </tr>\n",
       "    <tr>\n",
       "      <th>platform/platform-api/src/com/intellij/util/ui/tree/TreeUtil.java</th>\n",
       "      <td>5</td>\n",
       "      <td>1281.0</td>\n",
       "    </tr>\n",
       "    <tr>\n",
       "      <th>platform/platform-impl/src/com/intellij/openapi/wm/impl/IdeFrameImpl.java</th>\n",
       "      <td>5</td>\n",
       "      <td>618.0</td>\n",
       "    </tr>\n",
       "  </tbody>\n",
       "</table>\n",
       "</div>"
      ],
      "text/plain": [
       "                                                    sha    code\n",
       "filename                                                       \n",
       "platform/lang-impl/src/com/intellij/openapi/edi...   18   497.0\n",
       "platform/platform-impl/src/com/intellij/platfor...    8   337.0\n",
       "platform/platform-api/src/com/intellij/ui/tabs/...    6    26.0\n",
       "platform/lang-impl/src/com/intellij/execution/u...    6  1567.0\n",
       "platform/lang-impl/src/com/intellij/execution/u...    5   406.0\n",
       "platform/util/ui/src/com/intellij/util/ui/UIUti...    5  2902.0\n",
       "platform/diff-impl/src/com/intellij/diff/util/D...    5   554.0\n",
       "platform/platform-impl/src/com/intellij/openapi...    5   403.0\n",
       "platform/platform-api/src/com/intellij/util/ui/...    5  1281.0\n",
       "platform/platform-impl/src/com/intellij/openapi...    5   618.0"
      ]
     },
     "execution_count": 11,
     "metadata": {},
     "output_type": "execute_result"
    }
   ],
   "source": [
    "top10 = hotspots.sort_values(by=\"sha\", ascending=False).head(10)\n",
    "top10"
   ]
  },
  {
   "cell_type": "markdown",
   "metadata": {
    "slideshow": {
     "slide_type": "slide"
    }
   },
   "source": [
    "### V. Communication\n",
    "* Transform insights into a comprehensible visualization\n",
    "* Communicate the next steps after the analysis"
   ]
  },
  {
   "cell_type": "markdown",
   "metadata": {
    "slideshow": {
     "slide_type": "slide"
    }
   },
   "source": [
    "*We plot the TOP 10 list as XY diagram.*"
   ]
  },
  {
   "cell_type": "code",
   "execution_count": 12,
   "metadata": {
    "slideshow": {
     "slide_type": "-"
    },
    "tags": [
     "delete"
    ]
   },
   "outputs": [
    {
     "data": {
      "image/png": "[encoded data removed]",
      "text/plain": [
       "<Figure size 432x288 with 1 Axes>"
      ]
     },
     "metadata": {
      "image/png": {
       "height": 263,
       "width": 571
      },
      "needs_background": "light"
     },
     "output_type": "display_data"
    }
   ],
   "source": [
    "ax = top10.plot.scatter('sha', 'code');\n",
    "\n",
    "for k, v in top10.iterrows():\n",
    "    ax.annotate(k.split(\"/\")[-1], v)"
   ]
  },
  {
   "cell_type": "markdown",
   "metadata": {
    "slideshow": {
     "slide_type": "slide"
    }
   },
   "source": [
    "### End of Demo"
   ]
  },
  {
   "cell_type": "markdown",
   "metadata": {
    "slideshow": {
     "slide_type": "slide"
    }
   },
   "source": [
    "## Further Analysis\n",
    "\n",
    "* Analysis of performance bottlenecks with data from `vmstat`\n",
    "* Identifying Modularization Options based on Code Changes\n",
    "* Dependency Analysis with data from `jdeps` and visualization with `D3`"
   ]
  },
  {
   "cell_type": "markdown",
   "metadata": {
    "slideshow": {
     "slide_type": "slide"
    }
   },
   "source": [
    "## Summary\n",
    "**1.** <b>Software Analytics</b> with Data Science is possible!<br/>\n",
    "**2.** If you need to go into deeper analysis: <b>you can</b>!  \n",
    "**3.** There are many <b>data sources</b> in software development. _What are you waiting for?_"
   ]
  },
  {
   "cell_type": "markdown",
   "metadata": {
    "slideshow": {
     "slide_type": "fragment"
    }
   },
   "source": [
    "\n",
    "<b>=> from a <strong>question</strong> over <span class=\"green\">data</span> to <span class=\"blue\" style=\"background-color: #FFFF00\">insights</span>!</b>"
   ]
  },
  {
   "cell_type": "markdown",
   "metadata": {
    "slideshow": {
     "slide_type": "slide"
    }
   },
   "source": [
    "# Thanks! Questions?\n",
    "\n",
    "<b>Markus Harrer</b><br/>\n",
    "innoQ Deutschland GmbH\n",
    "  \n",
    "markus.harrer@innoq.com\n",
    "\n",
    "`@feststelltaste`"
   ]
  }
 ],
 "metadata": {
  "celltoolbar": "Slideshow",
  "kernelspec": {
   "display_name": "Python 3",
   "language": "python",
   "name": "python3"
  },
  "language_info": {
   "codemirror_mode": {
    "name": "ipython",
    "version": 3
   },
   "file_extension": ".py",
   "mimetype": "text/x-python",
   "name": "python",
   "nbconvert_exporter": "python",
   "pygments_lexer": "ipython3",
   "version": "3.6.0"
  },
  "rise": {
   "controls": false,
   "showSlideNumber": "speaker",
   "slideNumber ": "false",
   "transition": "none"
  }
 },
 "nbformat": 4,
 "nbformat_minor": 2
}
