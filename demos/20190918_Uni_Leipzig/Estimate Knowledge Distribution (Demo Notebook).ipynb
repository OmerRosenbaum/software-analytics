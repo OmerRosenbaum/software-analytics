{
 "cells": [
  {
   "cell_type": "markdown",
   "metadata": {},
   "source": [
    "## Knowledge Distribution\n",
    "_Which author does know which parts of a system?_"
   ]
  },
  {
   "cell_type": "code",
   "execution_count": 1,
   "metadata": {},
   "outputs": [
    {
     "data": {
      "text/html": [
       "<div>\n",
       "<style scoped>\n",
       "    .dataframe tbody tr th:only-of-type {\n",
       "        vertical-align: middle;\n",
       "    }\n",
       "\n",
       "    .dataframe tbody tr th {\n",
       "        vertical-align: top;\n",
       "    }\n",
       "\n",
       "    .dataframe thead th {\n",
       "        text-align: right;\n",
       "    }\n",
       "</style>\n",
       "<table border=\"1\" class=\"dataframe\">\n",
       "  <thead>\n",
       "    <tr style=\"text-align: right;\">\n",
       "      <th></th>\n",
       "      <th>additions</th>\n",
       "      <th>deletions</th>\n",
       "      <th>file</th>\n",
       "      <th>sha</th>\n",
       "      <th>timestamp</th>\n",
       "      <th>author</th>\n",
       "    </tr>\n",
       "  </thead>\n",
       "  <tbody>\n",
       "    <tr>\n",
       "      <th>0</th>\n",
       "      <td>191.0</td>\n",
       "      <td>0.0</td>\n",
       "      <td>backend/pom-2016-07-16_04-40-56-752.xml</td>\n",
       "      <td>8c686954</td>\n",
       "      <td>2016-07-22 17:43:38</td>\n",
       "      <td>Michael</td>\n",
       "    </tr>\n",
       "    <tr>\n",
       "      <th>1</th>\n",
       "      <td>1.0</td>\n",
       "      <td>1.0</td>\n",
       "      <td>backend/src/test/java/at/dropover/scheduling/i...</td>\n",
       "      <td>97c6ef96</td>\n",
       "      <td>2016-07-16 09:51:15</td>\n",
       "      <td>Markus</td>\n",
       "    </tr>\n",
       "    <tr>\n",
       "      <th>2</th>\n",
       "      <td>55.0</td>\n",
       "      <td>0.0</td>\n",
       "      <td>backend/src/test/java/at/dropover/scheduling/i...</td>\n",
       "      <td>432113a2</td>\n",
       "      <td>2016-07-15 21:17:07</td>\n",
       "      <td>Chris</td>\n",
       "    </tr>\n",
       "    <tr>\n",
       "      <th>3</th>\n",
       "      <td>19.0</td>\n",
       "      <td>3.0</td>\n",
       "      <td>backend/src/main/webapp/app/widgets/gallery/js...</td>\n",
       "      <td>3f7cf92c</td>\n",
       "      <td>2016-07-16 09:07:31</td>\n",
       "      <td>Markus</td>\n",
       "    </tr>\n",
       "    <tr>\n",
       "      <th>4</th>\n",
       "      <td>24.0</td>\n",
       "      <td>11.0</td>\n",
       "      <td>backend/src/main/webapp/app/widgets/gallery/js...</td>\n",
       "      <td>bf2b00ba</td>\n",
       "      <td>2014-10-26 05:52:48</td>\n",
       "      <td>Michael</td>\n",
       "    </tr>\n",
       "  </tbody>\n",
       "</table>\n",
       "</div>"
      ],
      "text/plain": [
       "   additions  deletions                                               file  \\\n",
       "0      191.0        0.0            backend/pom-2016-07-16_04-40-56-752.xml   \n",
       "1        1.0        1.0  backend/src/test/java/at/dropover/scheduling/i...   \n",
       "2       55.0        0.0  backend/src/test/java/at/dropover/scheduling/i...   \n",
       "3       19.0        3.0  backend/src/main/webapp/app/widgets/gallery/js...   \n",
       "4       24.0       11.0  backend/src/main/webapp/app/widgets/gallery/js...   \n",
       "\n",
       "        sha           timestamp   author  \n",
       "0  8c686954 2016-07-22 17:43:38  Michael  \n",
       "1  97c6ef96 2016-07-16 09:51:15   Markus  \n",
       "2  432113a2 2016-07-15 21:17:07    Chris  \n",
       "3  3f7cf92c 2016-07-16 09:07:31   Markus  \n",
       "4  bf2b00ba 2014-10-26 05:52:48  Michael  "
      ]
     },
     "execution_count": 1,
     "metadata": {},
     "output_type": "execute_result"
    }
   ],
   "source": [
    "from ozapfdis import git\n",
    "\n",
    "log = git.log_numstat_existing(\"../../../dropover/\")\n",
    "log.head()"
   ]
  },
  {
   "cell_type": "markdown",
   "metadata": {},
   "source": [
    "## Data Cleaning\n",
    "Just keep the production code"
   ]
  },
  {
   "cell_type": "code",
   "execution_count": 2,
   "metadata": {},
   "outputs": [
    {
     "data": {
      "text/html": [
       "<div>\n",
       "<style scoped>\n",
       "    .dataframe tbody tr th:only-of-type {\n",
       "        vertical-align: middle;\n",
       "    }\n",
       "\n",
       "    .dataframe tbody tr th {\n",
       "        vertical-align: top;\n",
       "    }\n",
       "\n",
       "    .dataframe thead th {\n",
       "        text-align: right;\n",
       "    }\n",
       "</style>\n",
       "<table border=\"1\" class=\"dataframe\">\n",
       "  <thead>\n",
       "    <tr style=\"text-align: right;\">\n",
       "      <th></th>\n",
       "      <th>additions</th>\n",
       "      <th>deletions</th>\n",
       "      <th>file</th>\n",
       "      <th>sha</th>\n",
       "      <th>timestamp</th>\n",
       "      <th>author</th>\n",
       "    </tr>\n",
       "  </thead>\n",
       "  <tbody>\n",
       "    <tr>\n",
       "      <th>9</th>\n",
       "      <td>3.0</td>\n",
       "      <td>4.0</td>\n",
       "      <td>backend/src/main/java/at/dropover/files/intera...</td>\n",
       "      <td>ec85fe73</td>\n",
       "      <td>2016-07-16 08:12:29</td>\n",
       "      <td>Chris</td>\n",
       "    </tr>\n",
       "    <tr>\n",
       "      <th>10</th>\n",
       "      <td>68.0</td>\n",
       "      <td>6.0</td>\n",
       "      <td>backend/src/main/java/at/dropover/files/intera...</td>\n",
       "      <td>0732e9cb</td>\n",
       "      <td>2016-07-16 00:27:20</td>\n",
       "      <td>Chris</td>\n",
       "    </tr>\n",
       "    <tr>\n",
       "      <th>11</th>\n",
       "      <td>6.0</td>\n",
       "      <td>6.0</td>\n",
       "      <td>backend/src/main/java/at/dropover/files/intera...</td>\n",
       "      <td>a526cce1</td>\n",
       "      <td>2016-07-15 16:40:07</td>\n",
       "      <td>Chris</td>\n",
       "    </tr>\n",
       "    <tr>\n",
       "      <th>12</th>\n",
       "      <td>1.0</td>\n",
       "      <td>1.0</td>\n",
       "      <td>backend/src/main/java/at/dropover/files/intera...</td>\n",
       "      <td>ad06aa87</td>\n",
       "      <td>2014-12-04 08:16:02</td>\n",
       "      <td>Markus</td>\n",
       "    </tr>\n",
       "    <tr>\n",
       "      <th>13</th>\n",
       "      <td>3.0</td>\n",
       "      <td>5.0</td>\n",
       "      <td>backend/src/main/java/at/dropover/files/intera...</td>\n",
       "      <td>b5dd5695</td>\n",
       "      <td>2014-08-13 15:46:28</td>\n",
       "      <td>Chris</td>\n",
       "    </tr>\n",
       "  </tbody>\n",
       "</table>\n",
       "</div>"
      ],
      "text/plain": [
       "    additions  deletions                                               file  \\\n",
       "9         3.0        4.0  backend/src/main/java/at/dropover/files/intera...   \n",
       "10       68.0        6.0  backend/src/main/java/at/dropover/files/intera...   \n",
       "11        6.0        6.0  backend/src/main/java/at/dropover/files/intera...   \n",
       "12        1.0        1.0  backend/src/main/java/at/dropover/files/intera...   \n",
       "13        3.0        5.0  backend/src/main/java/at/dropover/files/intera...   \n",
       "\n",
       "         sha           timestamp  author  \n",
       "9   ec85fe73 2016-07-16 08:12:29   Chris  \n",
       "10  0732e9cb 2016-07-16 00:27:20   Chris  \n",
       "11  a526cce1 2016-07-15 16:40:07   Chris  \n",
       "12  ad06aa87 2014-12-04 08:16:02  Markus  \n",
       "13  b5dd5695 2014-08-13 15:46:28   Chris  "
      ]
     },
     "execution_count": 2,
     "metadata": {},
     "output_type": "execute_result"
    }
   ],
   "source": [
    "java_prod = log[log['file'].str.contains(\"backend/src/main/java/\")].copy()\n",
    "java_prod = java_prod[~java_prod['file'].str.contains(\"package-info.java\")]\n",
    "java_prod.head()"
   ]
  },
  {
   "cell_type": "markdown",
   "metadata": {},
   "source": [
    "## Analysis\n",
    "Which author has how much \"knowledge\"?"
   ]
  },
  {
   "cell_type": "code",
   "execution_count": 3,
   "metadata": {},
   "outputs": [
    {
     "data": {
      "text/plain": [
       "Chris      0.609572\n",
       "Markus     0.218304\n",
       "Michael    0.172124\n",
       "Name: author, dtype: float64"
      ]
     },
     "execution_count": 3,
     "metadata": {},
     "output_type": "execute_result"
    }
   ],
   "source": [
    "author_knowledge = java_prod['author'].value_counts() / java_prod['author'].count()\n",
    "author_knowledge"
   ]
  },
  {
   "cell_type": "code",
   "execution_count": 4,
   "metadata": {},
   "outputs": [
    {
     "data": {
      "image/png": "[encoded data removed]",
      "text/plain": [
       "<Figure size 432x288 with 1 Axes>"
      ]
     },
     "metadata": {
      "image/png": {
       "height": 235,
       "width": 257
      }
     },
     "output_type": "display_data"
    }
   ],
   "source": [
    "author_knowledge.plot.pie();"
   ]
  },
  {
   "cell_type": "markdown",
   "metadata": {},
   "source": [
    "Which author does \"know\" which module? "
   ]
  },
  {
   "cell_type": "code",
   "execution_count": 5,
   "metadata": {},
   "outputs": [
    {
     "data": {
      "text/html": [
       "<div>\n",
       "<style scoped>\n",
       "    .dataframe tbody tr th:only-of-type {\n",
       "        vertical-align: middle;\n",
       "    }\n",
       "\n",
       "    .dataframe tbody tr th {\n",
       "        vertical-align: top;\n",
       "    }\n",
       "\n",
       "    .dataframe thead th {\n",
       "        text-align: right;\n",
       "    }\n",
       "</style>\n",
       "<table border=\"1\" class=\"dataframe\">\n",
       "  <thead>\n",
       "    <tr style=\"text-align: right;\">\n",
       "      <th></th>\n",
       "      <th>additions</th>\n",
       "      <th>deletions</th>\n",
       "      <th>file</th>\n",
       "      <th>sha</th>\n",
       "      <th>timestamp</th>\n",
       "      <th>author</th>\n",
       "      <th>module</th>\n",
       "      <th>commit</th>\n",
       "    </tr>\n",
       "  </thead>\n",
       "  <tbody>\n",
       "    <tr>\n",
       "      <th>9</th>\n",
       "      <td>3.0</td>\n",
       "      <td>4.0</td>\n",
       "      <td>backend/src/main/java/at/dropover/files/intera...</td>\n",
       "      <td>ec85fe73</td>\n",
       "      <td>2016-07-16 08:12:29</td>\n",
       "      <td>Chris</td>\n",
       "      <td>files</td>\n",
       "      <td>1</td>\n",
       "    </tr>\n",
       "    <tr>\n",
       "      <th>10</th>\n",
       "      <td>68.0</td>\n",
       "      <td>6.0</td>\n",
       "      <td>backend/src/main/java/at/dropover/files/intera...</td>\n",
       "      <td>0732e9cb</td>\n",
       "      <td>2016-07-16 00:27:20</td>\n",
       "      <td>Chris</td>\n",
       "      <td>files</td>\n",
       "      <td>1</td>\n",
       "    </tr>\n",
       "    <tr>\n",
       "      <th>11</th>\n",
       "      <td>6.0</td>\n",
       "      <td>6.0</td>\n",
       "      <td>backend/src/main/java/at/dropover/files/intera...</td>\n",
       "      <td>a526cce1</td>\n",
       "      <td>2016-07-15 16:40:07</td>\n",
       "      <td>Chris</td>\n",
       "      <td>files</td>\n",
       "      <td>1</td>\n",
       "    </tr>\n",
       "    <tr>\n",
       "      <th>12</th>\n",
       "      <td>1.0</td>\n",
       "      <td>1.0</td>\n",
       "      <td>backend/src/main/java/at/dropover/files/intera...</td>\n",
       "      <td>ad06aa87</td>\n",
       "      <td>2014-12-04 08:16:02</td>\n",
       "      <td>Markus</td>\n",
       "      <td>files</td>\n",
       "      <td>1</td>\n",
       "    </tr>\n",
       "    <tr>\n",
       "      <th>13</th>\n",
       "      <td>3.0</td>\n",
       "      <td>5.0</td>\n",
       "      <td>backend/src/main/java/at/dropover/files/intera...</td>\n",
       "      <td>b5dd5695</td>\n",
       "      <td>2014-08-13 15:46:28</td>\n",
       "      <td>Chris</td>\n",
       "      <td>files</td>\n",
       "      <td>1</td>\n",
       "    </tr>\n",
       "  </tbody>\n",
       "</table>\n",
       "</div>"
      ],
      "text/plain": [
       "    additions  deletions                                               file  \\\n",
       "9         3.0        4.0  backend/src/main/java/at/dropover/files/intera...   \n",
       "10       68.0        6.0  backend/src/main/java/at/dropover/files/intera...   \n",
       "11        6.0        6.0  backend/src/main/java/at/dropover/files/intera...   \n",
       "12        1.0        1.0  backend/src/main/java/at/dropover/files/intera...   \n",
       "13        3.0        5.0  backend/src/main/java/at/dropover/files/intera...   \n",
       "\n",
       "         sha           timestamp  author module  commit  \n",
       "9   ec85fe73 2016-07-16 08:12:29   Chris  files       1  \n",
       "10  0732e9cb 2016-07-16 00:27:20   Chris  files       1  \n",
       "11  a526cce1 2016-07-15 16:40:07   Chris  files       1  \n",
       "12  ad06aa87 2014-12-04 08:16:02  Markus  files       1  \n",
       "13  b5dd5695 2014-08-13 15:46:28   Chris  files       1  "
      ]
     },
     "execution_count": 5,
     "metadata": {},
     "output_type": "execute_result"
    }
   ],
   "source": [
    "java_prod['module'] = java_prod['file'].str.split(\"/\").str[6]\n",
    "java_prod['commit'] = 1\n",
    "java_prod.head()"
   ]
  },
  {
   "cell_type": "code",
   "execution_count": 6,
   "metadata": {},
   "outputs": [
    {
     "data": {
      "text/html": [
       "<div>\n",
       "<style scoped>\n",
       "    .dataframe tbody tr th:only-of-type {\n",
       "        vertical-align: middle;\n",
       "    }\n",
       "\n",
       "    .dataframe tbody tr th {\n",
       "        vertical-align: top;\n",
       "    }\n",
       "\n",
       "    .dataframe thead th {\n",
       "        text-align: right;\n",
       "    }\n",
       "</style>\n",
       "<table border=\"1\" class=\"dataframe\">\n",
       "  <thead>\n",
       "    <tr style=\"text-align: right;\">\n",
       "      <th></th>\n",
       "      <th></th>\n",
       "      <th>commit</th>\n",
       "      <th>all</th>\n",
       "      <th>ratio</th>\n",
       "    </tr>\n",
       "    <tr>\n",
       "      <th>module</th>\n",
       "      <th>author</th>\n",
       "      <th></th>\n",
       "      <th></th>\n",
       "      <th></th>\n",
       "    </tr>\n",
       "  </thead>\n",
       "  <tbody>\n",
       "    <tr>\n",
       "      <th rowspan=\"3\" valign=\"top\">comment</th>\n",
       "      <th>Chris</th>\n",
       "      <td>76</td>\n",
       "      <td>118</td>\n",
       "      <td>0.644068</td>\n",
       "    </tr>\n",
       "    <tr>\n",
       "      <th>Markus</th>\n",
       "      <td>41</td>\n",
       "      <td>118</td>\n",
       "      <td>0.347458</td>\n",
       "    </tr>\n",
       "    <tr>\n",
       "      <th>Michael</th>\n",
       "      <td>1</td>\n",
       "      <td>118</td>\n",
       "      <td>0.008475</td>\n",
       "    </tr>\n",
       "    <tr>\n",
       "      <th rowspan=\"2\" valign=\"top\">creator</th>\n",
       "      <th>Chris</th>\n",
       "      <td>33</td>\n",
       "      <td>54</td>\n",
       "      <td>0.611111</td>\n",
       "    </tr>\n",
       "    <tr>\n",
       "      <th>Markus</th>\n",
       "      <td>14</td>\n",
       "      <td>54</td>\n",
       "      <td>0.259259</td>\n",
       "    </tr>\n",
       "  </tbody>\n",
       "</table>\n",
       "</div>"
      ],
      "text/plain": [
       "                 commit  all     ratio\n",
       "module  author                        \n",
       "comment Chris        76  118  0.644068\n",
       "        Markus       41  118  0.347458\n",
       "        Michael       1  118  0.008475\n",
       "creator Chris        33   54  0.611111\n",
       "        Markus       14   54  0.259259"
      ]
     },
     "execution_count": 6,
     "metadata": {},
     "output_type": "execute_result"
    }
   ],
   "source": [
    "knowledge_per_module = java_prod.groupby(['module', 'author'])[['commit']].count()\n",
    "knowledge_per_module['all'] = knowledge_per_module.groupby(['module'])['commit'].transform('sum')\n",
    "knowledge_per_module['ratio'] = knowledge_per_module['commit'] / knowledge_per_module['all']\n",
    "knowledge_per_module.head()"
   ]
  },
  {
   "cell_type": "markdown",
   "metadata": {},
   "source": [
    "## Visualization"
   ]
  },
  {
   "cell_type": "code",
   "execution_count": 7,
   "metadata": {},
   "outputs": [
    {
     "data": {
      "image/png": "[encoded data removed]",
      "text/plain": [
       "<Figure size 432x288 with 1 Axes>"
      ]
     },
     "metadata": {
      "image/png": {
       "height": 308,
       "width": 373
      },
      "needs_background": "light"
     },
     "output_type": "display_data"
    }
   ],
   "source": [
    "knowledge_per_module.unstack()['ratio'].plot.bar(stacked=True);"
   ]
  }
 ],
 "metadata": {
  "kernelspec": {
   "display_name": "Python 3",
   "language": "python",
   "name": "python3"
  },
  "language_info": {
   "codemirror_mode": {
    "name": "ipython",
    "version": 3
   },
   "file_extension": ".py",
   "mimetype": "text/x-python",
   "name": "python",
   "nbconvert_exporter": "python",
   "pygments_lexer": "ipython3",
   "version": "3.6.0"
  }
 },
 "nbformat": 4,
 "nbformat_minor": 2
}
