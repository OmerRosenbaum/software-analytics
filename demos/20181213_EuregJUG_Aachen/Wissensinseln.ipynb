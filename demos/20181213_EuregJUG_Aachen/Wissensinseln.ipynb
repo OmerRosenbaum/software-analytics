{
 "cells": [
  {
   "cell_type": "markdown",
   "metadata": {
    "slideshow": {
     "slide_type": "slide"
    }
   },
   "source": [
    "# Identifikation von Wissensinseln"
   ]
  },
  {
   "cell_type": "markdown",
   "metadata": {
    "slideshow": {
     "slide_type": "subslide"
    }
   },
   "source": [
    "## Laden und Vorbereiten der Git-Log-Daten"
   ]
  },
  {
   "cell_type": "code",
   "execution_count": 1,
   "metadata": {
    "slideshow": {
     "slide_type": "-"
    }
   },
   "outputs": [
    {
     "data": {
      "text/html": [
       "<div>\n",
       "<style scoped>\n",
       "    .dataframe tbody tr th:only-of-type {\n",
       "        vertical-align: middle;\n",
       "    }\n",
       "\n",
       "    .dataframe tbody tr th {\n",
       "        vertical-align: top;\n",
       "    }\n",
       "\n",
       "    .dataframe thead th {\n",
       "        text-align: right;\n",
       "    }\n",
       "</style>\n",
       "<table border=\"1\" class=\"dataframe\">\n",
       "  <thead>\n",
       "    <tr style=\"text-align: right;\">\n",
       "      <th></th>\n",
       "      <th>path</th>\n",
       "      <th>author</th>\n",
       "      <th>timestamp</th>\n",
       "      <th>line</th>\n",
       "    </tr>\n",
       "  </thead>\n",
       "  <tbody>\n",
       "    <tr>\n",
       "      <th>0</th>\n",
       "      <td>drivers/scsi/bfa/bfad_drv.h</td>\n",
       "      <td>Anil Gurumurthy</td>\n",
       "      <td>2015-11-26 08:54:45</td>\n",
       "      <td>1</td>\n",
       "    </tr>\n",
       "    <tr>\n",
       "      <th>1</th>\n",
       "      <td>drivers/scsi/bfa/bfad_drv.h</td>\n",
       "      <td>Anil Gurumurthy</td>\n",
       "      <td>2015-11-26 08:54:45</td>\n",
       "      <td>2</td>\n",
       "    </tr>\n",
       "    <tr>\n",
       "      <th>2</th>\n",
       "      <td>drivers/scsi/bfa/bfad_drv.h</td>\n",
       "      <td>Anil Gurumurthy</td>\n",
       "      <td>2015-11-26 08:54:45</td>\n",
       "      <td>3</td>\n",
       "    </tr>\n",
       "    <tr>\n",
       "      <th>3</th>\n",
       "      <td>drivers/scsi/bfa/bfad_drv.h</td>\n",
       "      <td>Jing Huang</td>\n",
       "      <td>2009-09-24 00:46:15</td>\n",
       "      <td>4</td>\n",
       "    </tr>\n",
       "    <tr>\n",
       "      <th>4</th>\n",
       "      <td>drivers/scsi/bfa/bfad_drv.h</td>\n",
       "      <td>Anil Gurumurthy</td>\n",
       "      <td>2015-11-26 08:54:45</td>\n",
       "      <td>5</td>\n",
       "    </tr>\n",
       "  </tbody>\n",
       "</table>\n",
       "</div>"
      ],
      "text/plain": [
       "                          path           author           timestamp  line\n",
       "0  drivers/scsi/bfa/bfad_drv.h  Anil Gurumurthy 2015-11-26 08:54:45     1\n",
       "1  drivers/scsi/bfa/bfad_drv.h  Anil Gurumurthy 2015-11-26 08:54:45     2\n",
       "2  drivers/scsi/bfa/bfad_drv.h  Anil Gurumurthy 2015-11-26 08:54:45     3\n",
       "3  drivers/scsi/bfa/bfad_drv.h       Jing Huang 2009-09-24 00:46:15     4\n",
       "4  drivers/scsi/bfa/bfad_drv.h  Anil Gurumurthy 2015-11-26 08:54:45     5"
      ]
     },
     "execution_count": 1,
     "metadata": {},
     "output_type": "execute_result"
    }
   ],
   "source": [
    "import pandas as pd\n",
    "\n",
    "log = pd.read_csv(\"../../../software-data/projects/linux/linux_blame_log.csv.gz\")\n",
    "log['timestamp'] = pd.to_datetime(log['timestamp'])\n",
    "log.head()"
   ]
  },
  {
   "cell_type": "markdown",
   "metadata": {
    "slideshow": {
     "slide_type": "subslide"
    }
   },
   "source": [
    "## Gruppieren mit minimalen Zeitdauer und Zeilenanzahl"
   ]
  },
  {
   "cell_type": "code",
   "execution_count": 2,
   "metadata": {
    "slideshow": {
     "slide_type": "-"
    }
   },
   "outputs": [
    {
     "data": {
      "text/html": [
       "<div>\n",
       "<style scoped>\n",
       "    .dataframe tbody tr th:only-of-type {\n",
       "        vertical-align: middle;\n",
       "    }\n",
       "\n",
       "    .dataframe tbody tr th {\n",
       "        vertical-align: top;\n",
       "    }\n",
       "\n",
       "    .dataframe thead th {\n",
       "        text-align: right;\n",
       "    }\n",
       "</style>\n",
       "<table border=\"1\" class=\"dataframe\">\n",
       "  <thead>\n",
       "    <tr style=\"text-align: right;\">\n",
       "      <th></th>\n",
       "      <th></th>\n",
       "      <th>timestamp</th>\n",
       "      <th>line</th>\n",
       "    </tr>\n",
       "    <tr>\n",
       "      <th>path</th>\n",
       "      <th>author</th>\n",
       "      <th></th>\n",
       "      <th></th>\n",
       "    </tr>\n",
       "  </thead>\n",
       "  <tbody>\n",
       "    <tr>\n",
       "      <th rowspan=\"5\" valign=\"top\">arch/arc/kernel/time.c</th>\n",
       "      <th>Anna-Maria Gleixner</th>\n",
       "      <td>2016-07-13 17:17:07</td>\n",
       "      <td>13</td>\n",
       "    </tr>\n",
       "    <tr>\n",
       "      <th>Daniel Lezcano</th>\n",
       "      <td>2016-06-15 12:50:12</td>\n",
       "      <td>31</td>\n",
       "    </tr>\n",
       "    <tr>\n",
       "      <th>Noam Camus</th>\n",
       "      <td>2016-01-01 10:18:49</td>\n",
       "      <td>18</td>\n",
       "    </tr>\n",
       "    <tr>\n",
       "      <th>Vineet Gupta</th>\n",
       "      <td>2013-01-18 09:42:18</td>\n",
       "      <td>243</td>\n",
       "    </tr>\n",
       "    <tr>\n",
       "      <th>Viresh Kumar</th>\n",
       "      <td>2015-07-16 11:26:14</td>\n",
       "      <td>6</td>\n",
       "    </tr>\n",
       "  </tbody>\n",
       "</table>\n",
       "</div>"
      ],
      "text/plain": [
       "                                                              timestamp  line\n",
       "path                            author                                       \n",
       "arch/arc/kernel/time.c          Anna-Maria Gleixner 2016-07-13 17:17:07    13\n",
       "                                Daniel Lezcano      2016-06-15 12:50:12    31\n",
       "                                Noam Camus          2016-01-01 10:18:49    18\n",
       "                                Vineet Gupta        2013-01-18 09:42:18   243\n",
       "                                Viresh Kumar        2015-07-16 11:26:14     6"
      ]
     },
     "execution_count": 2,
     "metadata": {},
     "output_type": "execute_result"
    }
   ],
   "source": [
    "knowledge = log.groupby(\n",
    "    ['path', 'author']).agg(\n",
    "        {'timestamp':'min', 'line':'count'}\n",
    "    )\n",
    "knowledge.head()"
   ]
  },
  {
   "cell_type": "markdown",
   "metadata": {
    "slideshow": {
     "slide_type": "subslide"
    }
   },
   "source": [
    "## Wissensanteile berechnen"
   ]
  },
  {
   "cell_type": "code",
   "execution_count": 3,
   "metadata": {
    "slideshow": {
     "slide_type": "-"
    }
   },
   "outputs": [
    {
     "data": {
      "text/html": [
       "<div>\n",
       "<style scoped>\n",
       "    .dataframe tbody tr th:only-of-type {\n",
       "        vertical-align: middle;\n",
       "    }\n",
       "\n",
       "    .dataframe tbody tr th {\n",
       "        vertical-align: top;\n",
       "    }\n",
       "\n",
       "    .dataframe thead th {\n",
       "        text-align: right;\n",
       "    }\n",
       "</style>\n",
       "<table border=\"1\" class=\"dataframe\">\n",
       "  <thead>\n",
       "    <tr style=\"text-align: right;\">\n",
       "      <th></th>\n",
       "      <th></th>\n",
       "      <th>timestamp</th>\n",
       "      <th>line</th>\n",
       "      <th>all</th>\n",
       "      <th>knowing</th>\n",
       "    </tr>\n",
       "    <tr>\n",
       "      <th>path</th>\n",
       "      <th>author</th>\n",
       "      <th></th>\n",
       "      <th></th>\n",
       "      <th></th>\n",
       "      <th></th>\n",
       "    </tr>\n",
       "  </thead>\n",
       "  <tbody>\n",
       "    <tr>\n",
       "      <th rowspan=\"5\" valign=\"top\">arch/arc/kernel/time.c</th>\n",
       "      <th>Anna-Maria Gleixner</th>\n",
       "      <td>2016-07-13 17:17:07</td>\n",
       "      <td>13</td>\n",
       "      <td>311</td>\n",
       "      <td>0.041801</td>\n",
       "    </tr>\n",
       "    <tr>\n",
       "      <th>Daniel Lezcano</th>\n",
       "      <td>2016-06-15 12:50:12</td>\n",
       "      <td>31</td>\n",
       "      <td>311</td>\n",
       "      <td>0.099678</td>\n",
       "    </tr>\n",
       "    <tr>\n",
       "      <th>Noam Camus</th>\n",
       "      <td>2016-01-01 10:18:49</td>\n",
       "      <td>18</td>\n",
       "      <td>311</td>\n",
       "      <td>0.057878</td>\n",
       "    </tr>\n",
       "    <tr>\n",
       "      <th>Vineet Gupta</th>\n",
       "      <td>2013-01-18 09:42:18</td>\n",
       "      <td>243</td>\n",
       "      <td>311</td>\n",
       "      <td>0.781350</td>\n",
       "    </tr>\n",
       "    <tr>\n",
       "      <th>Viresh Kumar</th>\n",
       "      <td>2015-07-16 11:26:14</td>\n",
       "      <td>6</td>\n",
       "      <td>311</td>\n",
       "      <td>0.019293</td>\n",
       "    </tr>\n",
       "  </tbody>\n",
       "</table>\n",
       "</div>"
      ],
      "text/plain": [
       "                                                              timestamp  line  \\\n",
       "path                            author                                          \n",
       "arch/arc/kernel/time.c          Anna-Maria Gleixner 2016-07-13 17:17:07    13   \n",
       "                                Daniel Lezcano      2016-06-15 12:50:12    31   \n",
       "                                Noam Camus          2016-01-01 10:18:49    18   \n",
       "                                Vineet Gupta        2013-01-18 09:42:18   243   \n",
       "                                Viresh Kumar        2015-07-16 11:26:14     6   \n",
       "\n",
       "                                                     all   knowing  \n",
       "path                            author                              \n",
       "arch/arc/kernel/time.c          Anna-Maria Gleixner  311  0.041801  \n",
       "                                Daniel Lezcano       311  0.099678  \n",
       "                                Noam Camus           311  0.057878  \n",
       "                                Vineet Gupta         311  0.781350  \n",
       "                                Viresh Kumar         311  0.019293  "
      ]
     },
     "execution_count": 3,
     "metadata": {},
     "output_type": "execute_result"
    }
   ],
   "source": [
    "knowledge['all'] = knowledge.groupby('path')['line'].transform('sum')\n",
    "knowledge['knowing'] = knowledge['line'] / knowledge['all']\n",
    "knowledge.head()"
   ]
  },
  {
   "cell_type": "markdown",
   "metadata": {
    "slideshow": {
     "slide_type": "subslide"
    }
   },
   "source": [
    "## Maximales Wissen pro Datei identifizieren"
   ]
  },
  {
   "cell_type": "code",
   "execution_count": 4,
   "metadata": {
    "slideshow": {
     "slide_type": "-"
    }
   },
   "outputs": [
    {
     "data": {
      "text/html": [
       "<div>\n",
       "<style scoped>\n",
       "    .dataframe tbody tr th:only-of-type {\n",
       "        vertical-align: middle;\n",
       "    }\n",
       "\n",
       "    .dataframe tbody tr th {\n",
       "        vertical-align: top;\n",
       "    }\n",
       "\n",
       "    .dataframe thead th {\n",
       "        text-align: right;\n",
       "    }\n",
       "</style>\n",
       "<table border=\"1\" class=\"dataframe\">\n",
       "  <thead>\n",
       "    <tr style=\"text-align: right;\">\n",
       "      <th></th>\n",
       "      <th>author</th>\n",
       "      <th>timestamp</th>\n",
       "      <th>line</th>\n",
       "      <th>all</th>\n",
       "      <th>knowing</th>\n",
       "    </tr>\n",
       "    <tr>\n",
       "      <th>path</th>\n",
       "      <th></th>\n",
       "      <th></th>\n",
       "      <th></th>\n",
       "      <th></th>\n",
       "      <th></th>\n",
       "    </tr>\n",
       "  </thead>\n",
       "  <tbody>\n",
       "    <tr>\n",
       "      <th>arch/arc/kernel/time.c</th>\n",
       "      <td>Vineet Gupta</td>\n",
       "      <td>2013-01-18 09:42:18</td>\n",
       "      <td>243</td>\n",
       "      <td>311</td>\n",
       "      <td>0.781350</td>\n",
       "    </tr>\n",
       "    <tr>\n",
       "      <th>arch/arm/common/timer-sp.c</th>\n",
       "      <td>Rob Herring</td>\n",
       "      <td>2011-12-12 21:29:08</td>\n",
       "      <td>111</td>\n",
       "      <td>169</td>\n",
       "      <td>0.656805</td>\n",
       "    </tr>\n",
       "    <tr>\n",
       "      <th>arch/arm/include/asm/hardware/arm_timer.h</th>\n",
       "      <td>Russell King</td>\n",
       "      <td>2010-01-16 15:07:08</td>\n",
       "      <td>24</td>\n",
       "      <td>29</td>\n",
       "      <td>0.827586</td>\n",
       "    </tr>\n",
       "    <tr>\n",
       "      <th>arch/arm/kernel/perf_event.c</th>\n",
       "      <td>Jamie Iles</td>\n",
       "      <td>2010-02-02 19:25:44</td>\n",
       "      <td>176</td>\n",
       "      <td>523</td>\n",
       "      <td>0.336520</td>\n",
       "    </tr>\n",
       "    <tr>\n",
       "      <th>arch/arm/mach-at91/at91rm9200_time.c</th>\n",
       "      <td>David Brownell</td>\n",
       "      <td>2007-07-31 00:41:26</td>\n",
       "      <td>81</td>\n",
       "      <td>95</td>\n",
       "      <td>0.852632</td>\n",
       "    </tr>\n",
       "  </tbody>\n",
       "</table>\n",
       "</div>"
      ],
      "text/plain": [
       "                                                    author  \\\n",
       "path                                                         \n",
       "arch/arc/kernel/time.c                        Vineet Gupta   \n",
       "arch/arm/common/timer-sp.c                     Rob Herring   \n",
       "arch/arm/include/asm/hardware/arm_timer.h     Russell King   \n",
       "arch/arm/kernel/perf_event.c                    Jamie Iles   \n",
       "arch/arm/mach-at91/at91rm9200_time.c        David Brownell   \n",
       "\n",
       "                                                     timestamp  line  all  \\\n",
       "path                                                                        \n",
       "arch/arc/kernel/time.c                     2013-01-18 09:42:18   243  311   \n",
       "arch/arm/common/timer-sp.c                 2011-12-12 21:29:08   111  169   \n",
       "arch/arm/include/asm/hardware/arm_timer.h  2010-01-16 15:07:08    24   29   \n",
       "arch/arm/kernel/perf_event.c               2010-02-02 19:25:44   176  523   \n",
       "arch/arm/mach-at91/at91rm9200_time.c       2007-07-31 00:41:26    81   95   \n",
       "\n",
       "                                             knowing  \n",
       "path                                                  \n",
       "arch/arc/kernel/time.c                      0.781350  \n",
       "arch/arm/common/timer-sp.c                  0.656805  \n",
       "arch/arm/include/asm/hardware/arm_timer.h   0.827586  \n",
       "arch/arm/kernel/perf_event.c                0.336520  \n",
       "arch/arm/mach-at91/at91rm9200_time.c        0.852632  "
      ]
     },
     "execution_count": 4,
     "metadata": {},
     "output_type": "execute_result"
    }
   ],
   "source": [
    "max_knowledge_per_file = knowledge.groupby(['path'])['knowing'].transform(max)\n",
    "knowledge_carriers = knowledge[knowledge['knowing'] == max_knowledge_per_file]\n",
    "knowledge_carriers = knowledge_carriers.reset_index(level=1)\n",
    "knowledge_carriers.head()"
   ]
  },
  {
   "cell_type": "markdown",
   "metadata": {
    "slideshow": {
     "slide_type": "subslide"
    }
   },
   "source": [
    "## Export in D3 Visualisierung \"Zoomable Circle Packing\""
   ]
  },
  {
   "cell_type": "code",
   "execution_count": 5,
   "metadata": {
    "slideshow": {
     "slide_type": "-"
    }
   },
   "outputs": [
    {
     "name": "stdout",
     "output_type": "stream",
     "text": [
      "JSON file produced in 'C:\\dev\\repos\\software-analytics\\demos\\20181213_EuregJUG_Aachen\\linux_circle_packing.json'\n",
      "HTML file produced in 'C:\\dev\\repos\\software-analytics\\demos\\20181213_EuregJUG_Aachen\\linux_circle_packing.html'\n"
     ]
    }
   ],
   "source": [
    "from ausi import d3\n",
    "d3.create_json_for_zoomable_circle_packing(\n",
    "    knowledge_carriers.reset_index(),\n",
    "    'author',\n",
    "    'author',\n",
    "    'path',\n",
    "    '/',\n",
    "    'all',\n",
    "    'knowing',\n",
    "    'linux_circle_packing'\n",
    ")"
   ]
  }
 ],
 "metadata": {
  "celltoolbar": "Slideshow",
  "kernelspec": {
   "display_name": "Python 3",
   "language": "python",
   "name": "python3"
  },
  "language_info": {
   "codemirror_mode": {
    "name": "ipython",
    "version": 3
   },
   "file_extension": ".py",
   "mimetype": "text/x-python",
   "name": "python",
   "nbconvert_exporter": "python",
   "pygments_lexer": "ipython3",
   "version": "3.6.0"
  }
 },
 "nbformat": 4,
 "nbformat_minor": 2
}
