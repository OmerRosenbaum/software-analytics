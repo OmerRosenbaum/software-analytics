{
 "cells": [
  {
   "cell_type": "markdown",
   "metadata": {},
   "source": [
    "_These are notes for some jQAssistant / Neo4j / Cypher demos_"
   ]
  },
  {
   "cell_type": "markdown",
   "metadata": {},
   "source": [
    "# jQAssistant Demos\n",
    "* Follow instructions here: https://github.com/JavaOnAutobahn/spring-petclinic/blob/master/readme.md\n",
    "* Start the Neo4j server\n",
    " * `mvn jqassistant:server`\n",
    "* Open up your browser\n",
    " * http://localhost:7474/browser/\n",
    "* Open the drawer\n",
    "* Click on some lables like\n",
    " * `Commit`\n",
    " * `Class`\n",
    " * `:DECLARES`\n",
    "* Further information:\n",
    " * jQAssistant documentation: http://buschmais.github.io/jqassistant/doc/1.3.0/#_java_plugin\n",
    " \n",
    "## Example Queries\n",
    "\n",
    "**List types with the most methods**\n",
    "```cypher\n",
    "MATCH \n",
    "  (t:Type)-[:DECLARES]->(m:Method)\n",
    "RETURN t.fqn as Typ, COUNT(m) as Methods\n",
    "ORDER BY Methods DESC\n",
    "```\n",
    "\n",
    "\n",
    "**Find static, mutable fields**\n",
    "```cypher\n",
    "MATCH (c:Class)-[:DECLARES]->(f:Field)<-[w:WRITES]-(m:Method)\n",
    "WHERE \n",
    "    EXISTS(f.static) AND NOT EXISTS(f.final)\n",
    "RETURN \n",
    "    c.name as InClass, \n",
    "    m.name as theMethod, \n",
    "    w.lineNumber as writesInLine, \n",
    "    f.name as toStaticField\n",
    "```\n",
    "\n",
    "**Find recursive calls**\n",
    "```cypher\n",
    "MATCH\n",
    "  (c:Class)-[:DECLARES]->(m:Method)-[:INVOKES*1..5]->(m)\n",
    "RETURN c, m\n",
    "```\n",
    "\n",
    "**Find recursive calls to the database**\n",
    "```cypher\n",
    "MATCH \n",
    "  (m:Method)-[:INVOKES*]->(m)-[:INVOKES]->(dbMethod:Method),\n",
    "  (dbMethod)<-[:DECLARES]-(dbClass:Class)\n",
    "WHERE dbClass.name ENDS WITH \"Database\"\n",
    "RETURN m, dbMethod, dbClass\n",
    "```\n",
    "\n",
    "**Aggregate measures to business subdomains**\n",
    "```cypher\n",
    "MATCH \n",
    "  (t:Type)-[:BELONGS_TO]->(s:Subdomain),\n",
    "  (t)-[:HAS_CHANGE]->(ch:Change)\n",
    "RETURN \n",
    "  s.name as ASubdomain,\n",
    "  COUNT(DISTINCT t) as Types,\n",
    "  COUNT(DISTINCT ch) as Changes\n",
    "ORDER BY Types DESC\n",
    "```\n",
    "\n",
    "\n",
    "**Aggregate many measures to business subdomains**\n",
    "```cypher\n",
    "MATCH \n",
    "  (t:Type)-[:BELONGS_TO]->(s:Subdomain),\n",
    "  (t)-[:HAS_CHANGE]->(ch:Change),\n",
    "  (t)-[:HAS_MEASURE]->(co:Coverage)\n",
    "OPTIONAL MATCH\n",
    "  (t)-[:HAS_BUG]->(b:BugInstance)\n",
    "RETURN \n",
    "  s.name as ASubdomain,\n",
    "  COUNT(DISTINCT t) as Types,\n",
    "  COUNT(DISTINCT ch) as Changes,\n",
    "  AVG(co.ratio) as Coverage,\n",
    "  COUNT(DISTINCT b) as Bugs,\n",
    "  SUM(DISTINCT t.lastMethodLineNumber) as Lines\n",
    "ORDER BY Coverage ASC, Bugs DESC\n",
    "```"
   ]
  }
 ],
 "metadata": {
  "kernelspec": {
   "display_name": "Python 3",
   "language": "python",
   "name": "python3"
  },
  "language_info": {
   "codemirror_mode": {
    "name": "ipython",
    "version": 3
   },
   "file_extension": ".py",
   "mimetype": "text/x-python",
   "name": "python",
   "nbconvert_exporter": "python",
   "pygments_lexer": "ipython3",
   "version": "3.6.4"
  },
  "varInspector": {
   "cols": {
    "lenName": 16,
    "lenType": 16,
    "lenVar": 40
   },
   "kernels_config": {
    "python": {
     "delete_cmd_postfix": "",
     "delete_cmd_prefix": "del ",
     "library": "var_list.py",
     "varRefreshCmd": "print(var_dic_list())"
    },
    "r": {
     "delete_cmd_postfix": ") ",
     "delete_cmd_prefix": "rm(",
     "library": "var_list.r",
     "varRefreshCmd": "cat(var_dic_list()) "
    }
   },
   "types_to_exclude": [
    "module",
    "function",
    "builtin_function_or_method",
    "instance",
    "_Feature"
   ],
   "window_display": false
  }
 },
 "nbformat": 4,
 "nbformat_minor": 2
}
