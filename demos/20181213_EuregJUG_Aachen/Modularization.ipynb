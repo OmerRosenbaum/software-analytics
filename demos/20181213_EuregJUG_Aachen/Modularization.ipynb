{
 "cells": [
  {
   "cell_type": "markdown",
   "metadata": {
    "slideshow": {
     "slide_type": "slide"
    }
   },
   "source": [
    "# Modularisierungscheck"
   ]
  },
  {
   "cell_type": "markdown",
   "metadata": {
    "slideshow": {
     "slide_type": "slide"
    }
   },
   "source": [
    "## Fragestellung"
   ]
  },
  {
   "cell_type": "markdown",
   "metadata": {
    "slideshow": {
     "slide_type": "subslide"
    }
   },
   "source": [
    "### Frage\n",
    "_\"Wie gut passt der fachliche Schnitt zur Entwicklungsaktivität?\"_\n",
    "![](modularization.png)"
   ]
  },
  {
   "cell_type": "markdown",
   "metadata": {
    "slideshow": {
     "slide_type": "subslide"
    }
   },
   "source": [
    "### Idee\n",
    "Heuristik: \"Werden Änderungen innerhalb einer Komponente zusammengehörig vorgenommen?\"\n",
    "* Änderungen => Commits aus Versionsverwaltung\n",
    "* Komponenten => Teil von Dateipfad\n"
   ]
  },
  {
   "cell_type": "markdown",
   "metadata": {
    "slideshow": {
     "slide_type": "slide"
    }
   },
   "source": [
    "## Datenimport"
   ]
  },
  {
   "cell_type": "markdown",
   "metadata": {
    "slideshow": {
     "slide_type": "subslide"
    }
   },
   "source": [
    "### Git-Log importieren"
   ]
  },
  {
   "cell_type": "code",
   "execution_count": 14,
   "metadata": {
    "slideshow": {
     "slide_type": "-"
    }
   },
   "outputs": [
    {
     "data": {
      "text/html": [
       "<div>\n",
       "<style scoped>\n",
       "    .dataframe tbody tr th:only-of-type {\n",
       "        vertical-align: middle;\n",
       "    }\n",
       "\n",
       "    .dataframe tbody tr th {\n",
       "        vertical-align: top;\n",
       "    }\n",
       "\n",
       "    .dataframe thead th {\n",
       "        text-align: right;\n",
       "    }\n",
       "</style>\n",
       "<table border=\"1\" class=\"dataframe\">\n",
       "  <thead>\n",
       "    <tr style=\"text-align: right;\">\n",
       "      <th></th>\n",
       "      <th>sha</th>\n",
       "      <th>file</th>\n",
       "    </tr>\n",
       "  </thead>\n",
       "  <tbody>\n",
       "    <tr>\n",
       "      <th>1</th>\n",
       "      <td>8c686954</td>\n",
       "      <td>backend/pom-2016-07-16_04-40-56-752.xml</td>\n",
       "    </tr>\n",
       "    <tr>\n",
       "      <th>4</th>\n",
       "      <td>97c6ef96</td>\n",
       "      <td>backend/src/test/java/at/dropover/scheduling/i...</td>\n",
       "    </tr>\n",
       "    <tr>\n",
       "      <th>6</th>\n",
       "      <td>3f7cf92c</td>\n",
       "      <td>backend/src/main/webapp/app/widgets/gallery/js...</td>\n",
       "    </tr>\n",
       "    <tr>\n",
       "      <th>7</th>\n",
       "      <td>3f7cf92c</td>\n",
       "      <td>backend/src/main/webapp/app/widgets/gallery/vi...</td>\n",
       "    </tr>\n",
       "    <tr>\n",
       "      <th>9</th>\n",
       "      <td>ec85fe73</td>\n",
       "      <td>backend/src/main/java/at/dropover/files/intera...</td>\n",
       "    </tr>\n",
       "  </tbody>\n",
       "</table>\n",
       "</div>"
      ],
      "text/plain": [
       "        sha                                               file\n",
       "1  8c686954            backend/pom-2016-07-16_04-40-56-752.xml\n",
       "4  97c6ef96  backend/src/test/java/at/dropover/scheduling/i...\n",
       "6  3f7cf92c  backend/src/main/webapp/app/widgets/gallery/js...\n",
       "7  3f7cf92c  backend/src/main/webapp/app/widgets/gallery/vi...\n",
       "9  ec85fe73  backend/src/main/java/at/dropover/files/intera..."
      ]
     },
     "execution_count": 14,
     "metadata": {},
     "output_type": "execute_result"
    }
   ],
   "source": [
    "from ozapfdis import git\n",
    "\n",
    "git_log = git.log_numstat(\"../../../dropover/\")[['sha', 'file']]\n",
    "git_log.head()"
   ]
  },
  {
   "cell_type": "markdown",
   "metadata": {
    "slideshow": {
     "slide_type": "subslide"
    }
   },
   "source": [
    "### Nur reinen Java-Quellcode betrachten"
   ]
  },
  {
   "cell_type": "code",
   "execution_count": 16,
   "metadata": {
    "slideshow": {
     "slide_type": "-"
    }
   },
   "outputs": [
    {
     "data": {
      "text/html": [
       "<div>\n",
       "<style scoped>\n",
       "    .dataframe tbody tr th:only-of-type {\n",
       "        vertical-align: middle;\n",
       "    }\n",
       "\n",
       "    .dataframe tbody tr th {\n",
       "        vertical-align: top;\n",
       "    }\n",
       "\n",
       "    .dataframe thead th {\n",
       "        text-align: right;\n",
       "    }\n",
       "</style>\n",
       "<table border=\"1\" class=\"dataframe\">\n",
       "  <thead>\n",
       "    <tr style=\"text-align: right;\">\n",
       "      <th></th>\n",
       "      <th>sha</th>\n",
       "      <th>file</th>\n",
       "    </tr>\n",
       "  </thead>\n",
       "  <tbody>\n",
       "    <tr>\n",
       "      <th>9</th>\n",
       "      <td>ec85fe73</td>\n",
       "      <td>backend/src/main/java/at/dropover/files/intera...</td>\n",
       "    </tr>\n",
       "    <tr>\n",
       "      <th>5053</th>\n",
       "      <td>bfea33b8</td>\n",
       "      <td>backend/src/main/java/at/dropover/scheduling/i...</td>\n",
       "    </tr>\n",
       "    <tr>\n",
       "      <th>5066</th>\n",
       "      <td>ab9ad48e</td>\n",
       "      <td>backend/src/main/java/at/dropover/scheduling/i...</td>\n",
       "    </tr>\n",
       "    <tr>\n",
       "      <th>5070</th>\n",
       "      <td>0732e9cb</td>\n",
       "      <td>backend/src/main/java/at/dropover/files/intera...</td>\n",
       "    </tr>\n",
       "    <tr>\n",
       "      <th>5078</th>\n",
       "      <td>ba1fd215</td>\n",
       "      <td>backend/src/main/java/at/dropover/framework/co...</td>\n",
       "    </tr>\n",
       "  </tbody>\n",
       "</table>\n",
       "</div>"
      ],
      "text/plain": [
       "           sha                                               file\n",
       "9     ec85fe73  backend/src/main/java/at/dropover/files/intera...\n",
       "5053  bfea33b8  backend/src/main/java/at/dropover/scheduling/i...\n",
       "5066  ab9ad48e  backend/src/main/java/at/dropover/scheduling/i...\n",
       "5070  0732e9cb  backend/src/main/java/at/dropover/files/intera...\n",
       "5078  ba1fd215  backend/src/main/java/at/dropover/framework/co..."
      ]
     },
     "execution_count": 16,
     "metadata": {},
     "output_type": "execute_result"
    }
   ],
   "source": [
    "prod_code = git_log.copy()\n",
    "prod_code = prod_code[prod_code.file.str.contains(\"src/main/java\")]\n",
    "prod_code = prod_code[~prod_code.file.str.endswith(\"package-info.java\")]\n",
    "prod_code.head()"
   ]
  },
  {
   "cell_type": "markdown",
   "metadata": {
    "slideshow": {
     "slide_type": "slide"
    }
   },
   "source": [
    "## Analysis"
   ]
  },
  {
   "cell_type": "markdown",
   "metadata": {
    "slideshow": {
     "slide_type": "subslide"
    }
   },
   "source": [
    "### Marker für erfolgten Commit setzen"
   ]
  },
  {
   "cell_type": "code",
   "execution_count": 5,
   "metadata": {
    "slideshow": {
     "slide_type": "-"
    }
   },
   "outputs": [
    {
     "data": {
      "text/html": [
       "<div>\n",
       "<style scoped>\n",
       "    .dataframe tbody tr th:only-of-type {\n",
       "        vertical-align: middle;\n",
       "    }\n",
       "\n",
       "    .dataframe tbody tr th {\n",
       "        vertical-align: top;\n",
       "    }\n",
       "\n",
       "    .dataframe thead th {\n",
       "        text-align: right;\n",
       "    }\n",
       "</style>\n",
       "<table border=\"1\" class=\"dataframe\">\n",
       "  <thead>\n",
       "    <tr style=\"text-align: right;\">\n",
       "      <th></th>\n",
       "      <th>sha</th>\n",
       "      <th>file</th>\n",
       "      <th>hit</th>\n",
       "    </tr>\n",
       "  </thead>\n",
       "  <tbody>\n",
       "    <tr>\n",
       "      <th>9</th>\n",
       "      <td>ec85fe73</td>\n",
       "      <td>backend/src/main/java/at/dropover/files/intera...</td>\n",
       "      <td>1</td>\n",
       "    </tr>\n",
       "    <tr>\n",
       "      <th>5053</th>\n",
       "      <td>bfea33b8</td>\n",
       "      <td>backend/src/main/java/at/dropover/scheduling/i...</td>\n",
       "      <td>1</td>\n",
       "    </tr>\n",
       "    <tr>\n",
       "      <th>5066</th>\n",
       "      <td>ab9ad48e</td>\n",
       "      <td>backend/src/main/java/at/dropover/scheduling/i...</td>\n",
       "      <td>1</td>\n",
       "    </tr>\n",
       "    <tr>\n",
       "      <th>5070</th>\n",
       "      <td>0732e9cb</td>\n",
       "      <td>backend/src/main/java/at/dropover/files/intera...</td>\n",
       "      <td>1</td>\n",
       "    </tr>\n",
       "    <tr>\n",
       "      <th>5078</th>\n",
       "      <td>ba1fd215</td>\n",
       "      <td>backend/src/main/java/at/dropover/framework/co...</td>\n",
       "      <td>1</td>\n",
       "    </tr>\n",
       "  </tbody>\n",
       "</table>\n",
       "</div>"
      ],
      "text/plain": [
       "           sha                                               file  hit\n",
       "9     ec85fe73  backend/src/main/java/at/dropover/files/intera...    1\n",
       "5053  bfea33b8  backend/src/main/java/at/dropover/scheduling/i...    1\n",
       "5066  ab9ad48e  backend/src/main/java/at/dropover/scheduling/i...    1\n",
       "5070  0732e9cb  backend/src/main/java/at/dropover/files/intera...    1\n",
       "5078  ba1fd215  backend/src/main/java/at/dropover/framework/co...    1"
      ]
     },
     "execution_count": 5,
     "metadata": {},
     "output_type": "execute_result"
    }
   ],
   "source": [
    "prod_code['hit'] = 1\n",
    "prod_code.head()"
   ]
  },
  {
   "cell_type": "markdown",
   "metadata": {
    "slideshow": {
     "slide_type": "subslide"
    }
   },
   "source": [
    "### Tabelle drehen (\"pivotieren\")"
   ]
  },
  {
   "cell_type": "code",
   "execution_count": 6,
   "metadata": {
    "slideshow": {
     "slide_type": "-"
    }
   },
   "outputs": [
    {
     "data": {
      "text/html": [
       "<div>\n",
       "<style scoped>\n",
       "    .dataframe tbody tr th:only-of-type {\n",
       "        vertical-align: middle;\n",
       "    }\n",
       "\n",
       "    .dataframe tbody tr th {\n",
       "        vertical-align: top;\n",
       "    }\n",
       "\n",
       "    .dataframe thead th {\n",
       "        text-align: right;\n",
       "    }\n",
       "</style>\n",
       "<table border=\"1\" class=\"dataframe\">\n",
       "  <thead>\n",
       "    <tr style=\"text-align: right;\">\n",
       "      <th>sha</th>\n",
       "      <th>3597d8a2</th>\n",
       "      <th>3b70ea7e</th>\n",
       "      <th>3d3be4ca</th>\n",
       "      <th>3e4ae692</th>\n",
       "      <th>429b3b32</th>\n",
       "    </tr>\n",
       "    <tr>\n",
       "      <th>file</th>\n",
       "      <th></th>\n",
       "      <th></th>\n",
       "      <th></th>\n",
       "      <th></th>\n",
       "      <th></th>\n",
       "    </tr>\n",
       "  </thead>\n",
       "  <tbody>\n",
       "    <tr>\n",
       "      <th>backend/src/main/java/at/dropover/comment/boundary/AddCommentRequestModel.java</th>\n",
       "      <td>0</td>\n",
       "      <td>0</td>\n",
       "      <td>0</td>\n",
       "      <td>0</td>\n",
       "      <td>0</td>\n",
       "    </tr>\n",
       "    <tr>\n",
       "      <th>backend/src/main/java/at/dropover/comment/boundary/ChangeCommentRequestModel.java</th>\n",
       "      <td>0</td>\n",
       "      <td>0</td>\n",
       "      <td>0</td>\n",
       "      <td>1</td>\n",
       "      <td>0</td>\n",
       "    </tr>\n",
       "    <tr>\n",
       "      <th>backend/src/main/java/at/dropover/comment/boundary/CommentData.java</th>\n",
       "      <td>0</td>\n",
       "      <td>0</td>\n",
       "      <td>0</td>\n",
       "      <td>1</td>\n",
       "      <td>0</td>\n",
       "    </tr>\n",
       "    <tr>\n",
       "      <th>backend/src/main/java/at/dropover/comment/boundary/GetCommentRequestModel.java</th>\n",
       "      <td>0</td>\n",
       "      <td>0</td>\n",
       "      <td>0</td>\n",
       "      <td>0</td>\n",
       "      <td>0</td>\n",
       "    </tr>\n",
       "    <tr>\n",
       "      <th>backend/src/main/java/at/dropover/comment/boundary/GetCommentResponseModel.java</th>\n",
       "      <td>0</td>\n",
       "      <td>0</td>\n",
       "      <td>0</td>\n",
       "      <td>0</td>\n",
       "      <td>0</td>\n",
       "    </tr>\n",
       "  </tbody>\n",
       "</table>\n",
       "</div>"
      ],
      "text/plain": [
       "sha                                                 3597d8a2  3b70ea7e  \\\n",
       "file                                                                     \n",
       "backend/src/main/java/at/dropover/comment/bound...         0         0   \n",
       "backend/src/main/java/at/dropover/comment/bound...         0         0   \n",
       "backend/src/main/java/at/dropover/comment/bound...         0         0   \n",
       "backend/src/main/java/at/dropover/comment/bound...         0         0   \n",
       "backend/src/main/java/at/dropover/comment/bound...         0         0   \n",
       "\n",
       "sha                                                 3d3be4ca  3e4ae692  \\\n",
       "file                                                                     \n",
       "backend/src/main/java/at/dropover/comment/bound...         0         0   \n",
       "backend/src/main/java/at/dropover/comment/bound...         0         1   \n",
       "backend/src/main/java/at/dropover/comment/bound...         0         1   \n",
       "backend/src/main/java/at/dropover/comment/bound...         0         0   \n",
       "backend/src/main/java/at/dropover/comment/bound...         0         0   \n",
       "\n",
       "sha                                                 429b3b32  \n",
       "file                                                          \n",
       "backend/src/main/java/at/dropover/comment/bound...         0  \n",
       "backend/src/main/java/at/dropover/comment/bound...         0  \n",
       "backend/src/main/java/at/dropover/comment/bound...         0  \n",
       "backend/src/main/java/at/dropover/comment/bound...         0  \n",
       "backend/src/main/java/at/dropover/comment/bound...         0  "
      ]
     },
     "execution_count": 6,
     "metadata": {},
     "output_type": "execute_result"
    }
   ],
   "source": [
    "commit_matrix = prod_code.reset_index().pivot_table(\n",
    "    index='file',\n",
    "    columns='sha',\n",
    "    values='hit',\n",
    "    fill_value=0)\n",
    "commit_matrix.iloc[0:5,50:55]"
   ]
  },
  {
   "cell_type": "markdown",
   "metadata": {
    "slideshow": {
     "slide_type": "subslide"
    }
   },
   "source": [
    "### Abstand zwischen Vektoren berechnen"
   ]
  },
  {
   "cell_type": "code",
   "execution_count": 7,
   "metadata": {
    "slideshow": {
     "slide_type": "-"
    }
   },
   "outputs": [
    {
     "data": {
      "text/plain": [
       "array([[0.        , 0.29289322, 0.5       , 0.18350342, 0.29289322],\n",
       "       [0.29289322, 0.        , 0.29289322, 0.1339746 , 0.5       ],\n",
       "       [0.5       , 0.29289322, 0.        , 0.59175171, 0.29289322],\n",
       "       [0.18350342, 0.1339746 , 0.59175171, 0.        , 0.42264973],\n",
       "       [0.29289322, 0.5       , 0.29289322, 0.42264973, 0.        ]])"
      ]
     },
     "execution_count": 7,
     "metadata": {},
     "output_type": "execute_result"
    }
   ],
   "source": [
    "from sklearn.metrics.pairwise import cosine_distances\n",
    "\n",
    "dissimilarity_matrix = cosine_distances(commit_matrix)\n",
    "dissimilarity_matrix[:5,:5]"
   ]
  },
  {
   "cell_type": "markdown",
   "metadata": {
    "slideshow": {
     "slide_type": "subslide"
    }
   },
   "source": [
    "### (Ergebnis schöner darstellen)"
   ]
  },
  {
   "cell_type": "code",
   "execution_count": 8,
   "metadata": {
    "slideshow": {
     "slide_type": "-"
    }
   },
   "outputs": [
    {
     "data": {
      "text/html": [
       "<div>\n",
       "<style scoped>\n",
       "    .dataframe tbody tr th:only-of-type {\n",
       "        vertical-align: middle;\n",
       "    }\n",
       "\n",
       "    .dataframe tbody tr th {\n",
       "        vertical-align: top;\n",
       "    }\n",
       "\n",
       "    .dataframe thead th {\n",
       "        text-align: right;\n",
       "    }\n",
       "</style>\n",
       "<table border=\"1\" class=\"dataframe\">\n",
       "  <thead>\n",
       "    <tr style=\"text-align: right;\">\n",
       "      <th>file</th>\n",
       "      <th>backend/src/main/java/at/dropover/comment/boundary/AddCommentRequestModel.java</th>\n",
       "      <th>backend/src/main/java/at/dropover/comment/boundary/ChangeCommentRequestModel.java</th>\n",
       "    </tr>\n",
       "    <tr>\n",
       "      <th>file</th>\n",
       "      <th></th>\n",
       "      <th></th>\n",
       "    </tr>\n",
       "  </thead>\n",
       "  <tbody>\n",
       "    <tr>\n",
       "      <th>backend/src/main/java/at/dropover/comment/boundary/AddCommentRequestModel.java</th>\n",
       "      <td>0.000000</td>\n",
       "      <td>0.292893</td>\n",
       "    </tr>\n",
       "    <tr>\n",
       "      <th>backend/src/main/java/at/dropover/comment/boundary/ChangeCommentRequestModel.java</th>\n",
       "      <td>0.292893</td>\n",
       "      <td>0.000000</td>\n",
       "    </tr>\n",
       "    <tr>\n",
       "      <th>backend/src/main/java/at/dropover/comment/boundary/CommentData.java</th>\n",
       "      <td>0.500000</td>\n",
       "      <td>0.292893</td>\n",
       "    </tr>\n",
       "    <tr>\n",
       "      <th>backend/src/main/java/at/dropover/comment/boundary/GetCommentRequestModel.java</th>\n",
       "      <td>0.183503</td>\n",
       "      <td>0.133975</td>\n",
       "    </tr>\n",
       "    <tr>\n",
       "      <th>backend/src/main/java/at/dropover/comment/boundary/GetCommentResponseModel.java</th>\n",
       "      <td>0.292893</td>\n",
       "      <td>0.500000</td>\n",
       "    </tr>\n",
       "  </tbody>\n",
       "</table>\n",
       "</div>"
      ],
      "text/plain": [
       "file                                                backend/src/main/java/at/dropover/comment/boundary/AddCommentRequestModel.java  \\\n",
       "file                                                                                                                                 \n",
       "backend/src/main/java/at/dropover/comment/bound...                                           0.000000                                \n",
       "backend/src/main/java/at/dropover/comment/bound...                                           0.292893                                \n",
       "backend/src/main/java/at/dropover/comment/bound...                                           0.500000                                \n",
       "backend/src/main/java/at/dropover/comment/bound...                                           0.183503                                \n",
       "backend/src/main/java/at/dropover/comment/bound...                                           0.292893                                \n",
       "\n",
       "file                                                backend/src/main/java/at/dropover/comment/boundary/ChangeCommentRequestModel.java  \n",
       "file                                                                                                                                   \n",
       "backend/src/main/java/at/dropover/comment/bound...                                           0.292893                                  \n",
       "backend/src/main/java/at/dropover/comment/bound...                                           0.000000                                  \n",
       "backend/src/main/java/at/dropover/comment/bound...                                           0.292893                                  \n",
       "backend/src/main/java/at/dropover/comment/bound...                                           0.133975                                  \n",
       "backend/src/main/java/at/dropover/comment/bound...                                           0.500000                                  "
      ]
     },
     "execution_count": 8,
     "metadata": {},
     "output_type": "execute_result"
    }
   ],
   "source": [
    "import pandas as pd\n",
    "dissimilarity_df = pd.DataFrame(\n",
    "    dissimilarity_matrix,\n",
    "    index=commit_matrix.index,\n",
    "    columns=commit_matrix.index)\n",
    "dissimilarity_df.iloc[:5,:2]\n"
   ]
  },
  {
   "cell_type": "markdown",
   "metadata": {
    "slideshow": {
     "slide_type": "slide"
    }
   },
   "source": [
    "## Visualisierung"
   ]
  },
  {
   "cell_type": "markdown",
   "metadata": {
    "slideshow": {
     "slide_type": "subslide"
    }
   },
   "source": [
    "### Reduzierung der Dimensionen"
   ]
  },
  {
   "cell_type": "code",
   "execution_count": 9,
   "metadata": {
    "slideshow": {
     "slide_type": "-"
    }
   },
   "outputs": [
    {
     "data": {
      "text/plain": [
       "array([[-0.5259277 ,  0.45070158],\n",
       "       [-0.56826041,  0.21528001],\n",
       "       [-0.52746829,  0.34756761],\n",
       "       [-0.55856713,  0.26202797],\n",
       "       [-0.4036568 ,  0.49803657]])"
      ]
     },
     "execution_count": 9,
     "metadata": {},
     "output_type": "execute_result"
    }
   ],
   "source": [
    "from sklearn.manifold import MDS\n",
    "\n",
    "# uses a fixed seed for random_state for reproducibility\n",
    "model = MDS(dissimilarity='precomputed', random_state=0)\n",
    "dissimilarity_2d = model.fit_transform(dissimilarity_df)\n",
    "dissimilarity_2d[:5]"
   ]
  },
  {
   "cell_type": "markdown",
   "metadata": {
    "slideshow": {
     "slide_type": "subslide"
    }
   },
   "source": [
    "### (Ergebnis schöner darstellen)"
   ]
  },
  {
   "cell_type": "code",
   "execution_count": 10,
   "metadata": {
    "slideshow": {
     "slide_type": "-"
    }
   },
   "outputs": [
    {
     "data": {
      "text/html": [
       "<div>\n",
       "<style scoped>\n",
       "    .dataframe tbody tr th:only-of-type {\n",
       "        vertical-align: middle;\n",
       "    }\n",
       "\n",
       "    .dataframe tbody tr th {\n",
       "        vertical-align: top;\n",
       "    }\n",
       "\n",
       "    .dataframe thead th {\n",
       "        text-align: right;\n",
       "    }\n",
       "</style>\n",
       "<table border=\"1\" class=\"dataframe\">\n",
       "  <thead>\n",
       "    <tr style=\"text-align: right;\">\n",
       "      <th></th>\n",
       "      <th>x</th>\n",
       "      <th>y</th>\n",
       "    </tr>\n",
       "    <tr>\n",
       "      <th>file</th>\n",
       "      <th></th>\n",
       "      <th></th>\n",
       "    </tr>\n",
       "  </thead>\n",
       "  <tbody>\n",
       "    <tr>\n",
       "      <th>backend/src/main/java/at/dropover/comment/boundary/AddCommentRequestModel.java</th>\n",
       "      <td>-0.525928</td>\n",
       "      <td>0.450702</td>\n",
       "    </tr>\n",
       "    <tr>\n",
       "      <th>backend/src/main/java/at/dropover/comment/boundary/ChangeCommentRequestModel.java</th>\n",
       "      <td>-0.568260</td>\n",
       "      <td>0.215280</td>\n",
       "    </tr>\n",
       "    <tr>\n",
       "      <th>backend/src/main/java/at/dropover/comment/boundary/CommentData.java</th>\n",
       "      <td>-0.527468</td>\n",
       "      <td>0.347568</td>\n",
       "    </tr>\n",
       "    <tr>\n",
       "      <th>backend/src/main/java/at/dropover/comment/boundary/GetCommentRequestModel.java</th>\n",
       "      <td>-0.558567</td>\n",
       "      <td>0.262028</td>\n",
       "    </tr>\n",
       "    <tr>\n",
       "      <th>backend/src/main/java/at/dropover/comment/boundary/GetCommentResponseModel.java</th>\n",
       "      <td>-0.403657</td>\n",
       "      <td>0.498037</td>\n",
       "    </tr>\n",
       "  </tbody>\n",
       "</table>\n",
       "</div>"
      ],
      "text/plain": [
       "                                                           x         y\n",
       "file                                                                  \n",
       "backend/src/main/java/at/dropover/comment/bound... -0.525928  0.450702\n",
       "backend/src/main/java/at/dropover/comment/bound... -0.568260  0.215280\n",
       "backend/src/main/java/at/dropover/comment/bound... -0.527468  0.347568\n",
       "backend/src/main/java/at/dropover/comment/bound... -0.558567  0.262028\n",
       "backend/src/main/java/at/dropover/comment/bound... -0.403657  0.498037"
      ]
     },
     "execution_count": 10,
     "metadata": {},
     "output_type": "execute_result"
    }
   ],
   "source": [
    "dissimilarity_2d_df = pd.DataFrame(\n",
    "    dissimilarity_2d,\n",
    "    index=commit_matrix.index,\n",
    "    columns=[\"x\", \"y\"])\n",
    "dissimilarity_2d_df.head()"
   ]
  },
  {
   "cell_type": "markdown",
   "metadata": {
    "slideshow": {
     "slide_type": "subslide"
    }
   },
   "source": [
    "### Module extrahieren"
   ]
  },
  {
   "cell_type": "code",
   "execution_count": 11,
   "metadata": {
    "slideshow": {
     "slide_type": "-"
    }
   },
   "outputs": [
    {
     "data": {
      "text/html": [
       "<div>\n",
       "<style scoped>\n",
       "    .dataframe tbody tr th:only-of-type {\n",
       "        vertical-align: middle;\n",
       "    }\n",
       "\n",
       "    .dataframe tbody tr th {\n",
       "        vertical-align: top;\n",
       "    }\n",
       "\n",
       "    .dataframe thead th {\n",
       "        text-align: right;\n",
       "    }\n",
       "</style>\n",
       "<table border=\"1\" class=\"dataframe\">\n",
       "  <thead>\n",
       "    <tr style=\"text-align: right;\">\n",
       "      <th></th>\n",
       "      <th>x</th>\n",
       "      <th>y</th>\n",
       "      <th>module</th>\n",
       "    </tr>\n",
       "    <tr>\n",
       "      <th>file</th>\n",
       "      <th></th>\n",
       "      <th></th>\n",
       "      <th></th>\n",
       "    </tr>\n",
       "  </thead>\n",
       "  <tbody>\n",
       "    <tr>\n",
       "      <th>backend/src/main/java/at/dropover/comment/boundary/AddCommentRequestModel.java</th>\n",
       "      <td>-0.525928</td>\n",
       "      <td>0.450702</td>\n",
       "      <td>comment</td>\n",
       "    </tr>\n",
       "    <tr>\n",
       "      <th>backend/src/main/java/at/dropover/comment/boundary/ChangeCommentRequestModel.java</th>\n",
       "      <td>-0.568260</td>\n",
       "      <td>0.215280</td>\n",
       "      <td>comment</td>\n",
       "    </tr>\n",
       "    <tr>\n",
       "      <th>backend/src/main/java/at/dropover/comment/boundary/CommentData.java</th>\n",
       "      <td>-0.527468</td>\n",
       "      <td>0.347568</td>\n",
       "      <td>comment</td>\n",
       "    </tr>\n",
       "    <tr>\n",
       "      <th>backend/src/main/java/at/dropover/comment/boundary/GetCommentRequestModel.java</th>\n",
       "      <td>-0.558567</td>\n",
       "      <td>0.262028</td>\n",
       "      <td>comment</td>\n",
       "    </tr>\n",
       "    <tr>\n",
       "      <th>backend/src/main/java/at/dropover/comment/boundary/GetCommentResponseModel.java</th>\n",
       "      <td>-0.403657</td>\n",
       "      <td>0.498037</td>\n",
       "      <td>comment</td>\n",
       "    </tr>\n",
       "  </tbody>\n",
       "</table>\n",
       "</div>"
      ],
      "text/plain": [
       "                                                           x         y  \\\n",
       "file                                                                     \n",
       "backend/src/main/java/at/dropover/comment/bound... -0.525928  0.450702   \n",
       "backend/src/main/java/at/dropover/comment/bound... -0.568260  0.215280   \n",
       "backend/src/main/java/at/dropover/comment/bound... -0.527468  0.347568   \n",
       "backend/src/main/java/at/dropover/comment/bound... -0.558567  0.262028   \n",
       "backend/src/main/java/at/dropover/comment/bound... -0.403657  0.498037   \n",
       "\n",
       "                                                     module  \n",
       "file                                                         \n",
       "backend/src/main/java/at/dropover/comment/bound...  comment  \n",
       "backend/src/main/java/at/dropover/comment/bound...  comment  \n",
       "backend/src/main/java/at/dropover/comment/bound...  comment  \n",
       "backend/src/main/java/at/dropover/comment/bound...  comment  \n",
       "backend/src/main/java/at/dropover/comment/bound...  comment  "
      ]
     },
     "execution_count": 11,
     "metadata": {},
     "output_type": "execute_result"
    }
   ],
   "source": [
    "dissimilarity_2d_df['module'] = dissimilarity_2d_df.index.str.split(\"/\").str[6].values\n",
    "dissimilarity_2d_df.head()"
   ]
  },
  {
   "cell_type": "markdown",
   "metadata": {
    "slideshow": {
     "slide_type": "subslide"
    }
   },
   "source": [
    "### Interaktive Grafik erzeugen"
   ]
  },
  {
   "cell_type": "code",
   "execution_count": 12,
   "metadata": {
    "slideshow": {
     "slide_type": "-"
    }
   },
   "outputs": [
    {
     "name": "stdout",
     "output_type": "stream",
     "text": [
      "file://C:/Users/MARKUS~1/AppData/Local/Temp/tmpo9_m1oet.html\n"
     ]
    }
   ],
   "source": [
    "from ausi import pygal\n",
    "xy = pygal.create_xy_chart(dissimilarity_2d_df,\"module\")\n",
    "xy.render_in_browser()"
   ]
  },
  {
   "cell_type": "markdown",
   "metadata": {
    "slideshow": {
     "slide_type": "slide"
    }
   },
   "source": [
    "## Ende"
   ]
  }
 ],
 "metadata": {
  "celltoolbar": "Slideshow",
  "kernelspec": {
   "display_name": "Python 3",
   "language": "python",
   "name": "python3"
  },
  "language_info": {
   "codemirror_mode": {
    "name": "ipython",
    "version": 3
   },
   "file_extension": ".py",
   "mimetype": "text/x-python",
   "name": "python",
   "nbconvert_exporter": "python",
   "pygments_lexer": "ipython3",
   "version": "3.6.0"
  },
  "varInspector": {
   "cols": {
    "lenName": 16,
    "lenType": 16,
    "lenVar": 40
   },
   "kernels_config": {
    "python": {
     "delete_cmd_postfix": "",
     "delete_cmd_prefix": "del ",
     "library": "var_list.py",
     "varRefreshCmd": "print(var_dic_list())"
    },
    "r": {
     "delete_cmd_postfix": ") ",
     "delete_cmd_prefix": "rm(",
     "library": "var_list.r",
     "varRefreshCmd": "cat(var_dic_list()) "
    }
   },
   "types_to_exclude": [
    "module",
    "function",
    "builtin_function_or_method",
    "instance",
    "_Feature"
   ],
   "window_display": false
  }
 },
 "nbformat": 4,
 "nbformat_minor": 2
}
