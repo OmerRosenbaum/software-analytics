{
 "cells": [
  {
   "cell_type": "markdown",
   "metadata": {},
   "source": [
    "# Context\n",
    "\n",
    "Race Conditions are bad because..."
   ]
  },
  {
   "cell_type": "markdown",
   "metadata": {},
   "source": [
    "# Idea\n",
    "There are some heuristics..."
   ]
  },
  {
   "cell_type": "markdown",
   "metadata": {},
   "source": [
    "# Analysis\n",
    "With jQAssistant, race conditions can be identified by..."
   ]
  },
  {
   "cell_type": "code",
   "execution_count": 1,
   "metadata": {},
   "outputs": [],
   "source": [
    "%load_ext cypher"
   ]
  },
  {
   "cell_type": "code",
   "execution_count": 2,
   "metadata": {},
   "outputs": [
    {
     "name": "stdout",
     "output_type": "stream",
     "text": [
      "3 rows affected.\n"
     ]
    },
    {
     "data": {
      "text/html": [
       "<table>\n",
       "    <tr>\n",
       "        <th>InClass</th>\n",
       "        <th>theMethod</th>\n",
       "        <th>writesInLine</th>\n",
       "        <th>toStaticField</th>\n",
       "    </tr>\n",
       "    <tr>\n",
       "        <td>BrokenSingleton</td>\n",
       "        <td>getInstance</td>\n",
       "        <td>11</td>\n",
       "        <td>INSTANCE</td>\n",
       "    </tr>\n",
       "    <tr>\n",
       "        <td>OwnerController</td>\n",
       "        <td>processFindForm</td>\n",
       "        <td>110</td>\n",
       "        <td>ownersIndexes</td>\n",
       "    </tr>\n",
       "    <tr>\n",
       "        <td>OwnerController</td>\n",
       "        <td>processFindForm</td>\n",
       "        <td>110</td>\n",
       "        <td>ownersIndexes</td>\n",
       "    </tr>\n",
       "</table>"
      ],
      "text/plain": [
       "[['BrokenSingleton', 'getInstance', 11, 'INSTANCE'],\n",
       " ['OwnerController', 'processFindForm', 110, 'ownersIndexes'],\n",
       " ['OwnerController', 'processFindForm', 110, 'ownersIndexes']]"
      ]
     },
     "execution_count": 2,
     "metadata": {},
     "output_type": "execute_result"
    }
   ],
   "source": [
    "%%cypher\n",
    "MATCH (c:Class)-[:DECLARES]->(f:Field)<-[w:WRITES]-(m:Method)\n",
    "WHERE \n",
    "    EXISTS(f.static) AND NOT EXISTS(f.final)\n",
    "RETURN \n",
    "    c.name as InClass, \n",
    "    m.name as theMethod, \n",
    "    w.lineNumber as writesInLine, \n",
    "    f.name as toStaticField"
   ]
  },
  {
   "cell_type": "markdown",
   "metadata": {},
   "source": [
    "# Conclusion\n",
    "Next steps are to remove..."
   ]
  }
 ],
 "metadata": {
  "hide_input": false,
  "kernelspec": {
   "display_name": "Python 3",
   "language": "python",
   "name": "python3"
  },
  "language_info": {
   "codemirror_mode": {
    "name": "ipython",
    "version": 3
   },
   "file_extension": ".py",
   "mimetype": "text/x-python",
   "name": "python",
   "nbconvert_exporter": "python",
   "pygments_lexer": "ipython3",
   "version": "3.6.4"
  },
  "toc": {
   "nav_menu": {},
   "number_sections": true,
   "sideBar": true,
   "skip_h1_title": false,
   "toc_cell": false,
   "toc_position": {},
   "toc_section_display": "block",
   "toc_window_display": false
  },
  "varInspector": {
   "cols": {
    "lenName": 16,
    "lenType": 16,
    "lenVar": 40
   },
   "kernels_config": {
    "python": {
     "delete_cmd_postfix": "",
     "delete_cmd_prefix": "del ",
     "library": "var_list.py",
     "varRefreshCmd": "print(var_dic_list())"
    },
    "r": {
     "delete_cmd_postfix": ") ",
     "delete_cmd_prefix": "rm(",
     "library": "var_list.r",
     "varRefreshCmd": "cat(var_dic_list()) "
    }
   },
   "types_to_exclude": [
    "module",
    "function",
    "builtin_function_or_method",
    "instance",
    "_Feature"
   ],
   "window_display": false
  }
 },
 "nbformat": 4,
 "nbformat_minor": 2
}
