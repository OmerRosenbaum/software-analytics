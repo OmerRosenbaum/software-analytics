{
 "cells": [
  {
   "cell_type": "markdown",
   "metadata": {
    "slideshow": {
     "slide_type": "slide"
    }
   },
   "source": [
    "# Optimierung des fachlichen Schnitts"
   ]
  },
  {
   "cell_type": "markdown",
   "metadata": {
    "slideshow": {
     "slide_type": "slide"
    }
   },
   "source": [
    "## Vorgehen\n",
    "* Subdomains sind bereits anhand von Namensschemata gebildet\n",
    "* Abhängigkeiten zwischen Subdomains werden über die Abhängigkeitsbeziehung der zugrundeliegenden Typen identifiziert"
   ]
  },
  {
   "cell_type": "code",
   "execution_count": 1,
   "metadata": {
    "slideshow": {
     "slide_type": "-"
    }
   },
   "outputs": [],
   "source": [
    "import py2neo\n",
    "import pandas as pd\n",
    "graph=  py2neo.Graph()\n",
    "query=\"\"\"\n",
    "MATCH\n",
    "    (s1:Subdomain)<-[:BELONGS_TO]-\n",
    "    (type:Type)-[r:DEPENDS_ON*0..1]->\n",
    "    (dependency:Type)-[:BELONGS_TO]->(s2:Subdomain)\n",
    "RETURN s1.name as from, s2.name as to, COUNT(r) as x_number\n",
    "\"\"\"\n",
    "result = graph.run(query).data()\n",
    "df = pd.DataFrame(result)"
   ]
  },
  {
   "cell_type": "markdown",
   "metadata": {
    "slideshow": {
     "slide_type": "slide"
    }
   },
   "source": [
    "Als Ergebnis wird die Anzahl der Beziehungen zwischen den Typen der Subdomänen geliefert."
   ]
  },
  {
   "cell_type": "code",
   "execution_count": 2,
   "metadata": {
    "slideshow": {
     "slide_type": "-"
    }
   },
   "outputs": [
    {
     "data": {
      "text/html": [
       "<div>\n",
       "<style scoped>\n",
       "    .dataframe tbody tr th:only-of-type {\n",
       "        vertical-align: middle;\n",
       "    }\n",
       "\n",
       "    .dataframe tbody tr th {\n",
       "        vertical-align: top;\n",
       "    }\n",
       "\n",
       "    .dataframe thead th {\n",
       "        text-align: right;\n",
       "    }\n",
       "</style>\n",
       "<table border=\"1\" class=\"dataframe\">\n",
       "  <thead>\n",
       "    <tr style=\"text-align: right;\">\n",
       "      <th></th>\n",
       "      <th>from</th>\n",
       "      <th>to</th>\n",
       "      <th>x_number</th>\n",
       "    </tr>\n",
       "  </thead>\n",
       "  <tbody>\n",
       "    <tr>\n",
       "      <th>0</th>\n",
       "      <td>Clinic</td>\n",
       "      <td>Visit</td>\n",
       "      <td>4</td>\n",
       "    </tr>\n",
       "    <tr>\n",
       "      <th>1</th>\n",
       "      <td>Clinic</td>\n",
       "      <td>Clinic</td>\n",
       "      <td>5</td>\n",
       "    </tr>\n",
       "    <tr>\n",
       "      <th>2</th>\n",
       "      <td>Person</td>\n",
       "      <td>crossfunctional</td>\n",
       "      <td>1</td>\n",
       "    </tr>\n",
       "    <tr>\n",
       "      <th>3</th>\n",
       "      <td>Clinic</td>\n",
       "      <td>Vet</td>\n",
       "      <td>5</td>\n",
       "    </tr>\n",
       "    <tr>\n",
       "      <th>4</th>\n",
       "      <td>Visit</td>\n",
       "      <td>Visit</td>\n",
       "      <td>13</td>\n",
       "    </tr>\n",
       "    <tr>\n",
       "      <th>5</th>\n",
       "      <td>Owner</td>\n",
       "      <td>Pet</td>\n",
       "      <td>4</td>\n",
       "    </tr>\n",
       "    <tr>\n",
       "      <th>6</th>\n",
       "      <td>Vet</td>\n",
       "      <td>Person</td>\n",
       "      <td>1</td>\n",
       "    </tr>\n",
       "    <tr>\n",
       "      <th>7</th>\n",
       "      <td>Owner</td>\n",
       "      <td>Owner</td>\n",
       "      <td>10</td>\n",
       "    </tr>\n",
       "    <tr>\n",
       "      <th>8</th>\n",
       "      <td>Visit</td>\n",
       "      <td>Pet</td>\n",
       "      <td>9</td>\n",
       "    </tr>\n",
       "    <tr>\n",
       "      <th>9</th>\n",
       "      <td>Pet</td>\n",
       "      <td>Visit</td>\n",
       "      <td>5</td>\n",
       "    </tr>\n",
       "  </tbody>\n",
       "</table>\n",
       "</div>"
      ],
      "text/plain": [
       "     from               to  x_number\n",
       "0  Clinic            Visit         4\n",
       "1  Clinic           Clinic         5\n",
       "2  Person  crossfunctional         1\n",
       "3  Clinic              Vet         5\n",
       "4   Visit            Visit        13\n",
       "5   Owner              Pet         4\n",
       "6     Vet           Person         1\n",
       "7   Owner            Owner        10\n",
       "8   Visit              Pet         9\n",
       "9     Pet            Visit         5"
      ]
     },
     "execution_count": 2,
     "metadata": {},
     "output_type": "execute_result"
    }
   ],
   "source": [
    "df.head(10)"
   ]
  },
  {
   "cell_type": "markdown",
   "metadata": {
    "slideshow": {
     "slide_type": "slide"
    }
   },
   "source": [
    "## Visualisierungsdaten\n",
    "* Das Ergebnis wird in eine JSON-Datei abgelegt\n",
    "* Die Daten können direkt zur Visualisierung verwendet werden\n",
    "* Für die Visualisierung wird ein D3 Chord Diagramm genutzt"
   ]
  },
  {
   "cell_type": "code",
   "execution_count": 4,
   "metadata": {
    "slideshow": {
     "slide_type": "-"
    }
   },
   "outputs": [
    {
     "data": {
      "text/plain": [
       "[['Clinic', 'Visit', 4],\n",
       " ['Clinic', 'Clinic', 5],\n",
       " ['Person', 'crossfunctional', 1],\n",
       " ['Clinic', 'Vet', 5],\n",
       " ['Visit', 'Visit', 13],\n",
       " ['Owner', 'Pet', 4],\n",
       " ['Vet', 'Person', 1],\n",
       " ['Owner', 'Owner', 10],\n",
       " ['Visit', 'Pet', 9],\n",
       " ['Pet', 'Visit', 5]]"
      ]
     },
     "execution_count": 4,
     "metadata": {},
     "output_type": "execute_result"
    }
   ],
   "source": [
    "import json\n",
    "json_data = df.to_dict(orient='split')['data']\n",
    "with open ( \"chord_data.json\", mode='w') as json_file:\n",
    "    json_file.write(json.dumps(json_data, indent=3))\n",
    "json_data[:10]"
   ]
  },
  {
   "cell_type": "markdown",
   "metadata": {
    "slideshow": {
     "slide_type": "slide"
    }
   },
   "source": [
    "## Visualisierung\n",
    "Das Chord-Diagramm zeigt die Abhängigkeiten zwischen Typen auf der fachlichen Subdomänen-Ebene:\n",
    "\n",
    "![](../../notebooks/resources/gbc_0.png)\n",
    "\n",
    "<a href=\"file:///C:/dev/repos/software-analytics/notebooks/vis/graphical_approach_towards_bounded_contexts/chord.html\">Live Demo</a>"
   ]
  }
 ],
 "metadata": {
  "celltoolbar": "Slideshow",
  "kernelspec": {
   "display_name": "Python 3",
   "language": "python",
   "name": "python3"
  },
  "language_info": {
   "codemirror_mode": {
    "name": "ipython",
    "version": 3
   },
   "file_extension": ".py",
   "mimetype": "text/x-python",
   "name": "python",
   "nbconvert_exporter": "python",
   "pygments_lexer": "ipython3",
   "version": "3.6.4"
  }
 },
 "nbformat": 4,
 "nbformat_minor": 2
}
