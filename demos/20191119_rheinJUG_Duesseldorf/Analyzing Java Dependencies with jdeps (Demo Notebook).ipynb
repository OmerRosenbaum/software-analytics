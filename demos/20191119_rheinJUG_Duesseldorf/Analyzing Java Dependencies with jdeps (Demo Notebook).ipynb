{
 "cells": [
  {
   "cell_type": "markdown",
   "metadata": {},
   "source": [
    "# Questions\n",
    "\n",
    "* Which types / classes have unwanted dependencies in our code?\n",
    "* Which group of types / classes is highly cohesive but lowly coupled?"
   ]
  },
  {
   "cell_type": "markdown",
   "metadata": {
    "slideshow": {
     "slide_type": "slide"
    }
   },
   "source": [
    "# Idea\n",
    "\n",
    "Using JDK's `jdeps` command line utility, we can extract the existing dependencies between Java types:\n",
    "\n",
    "```bash\n",
    "jdeps -v dropover-classes.jar > jdeps.txt\n",
    "```"
   ]
  },
  {
   "cell_type": "markdown",
   "metadata": {
    "slideshow": {
     "slide_type": "slide"
    }
   },
   "source": [
    "# Data\n",
    "Read data in with <b>O</b>pen <b>Z</b>ippy <b>A</b>nalysis <b>P</b>latform <b>F</b>or <b>D</b>ata <b>I</b>n <b>S</b>oftware"
   ]
  },
  {
   "cell_type": "code",
   "execution_count": null,
   "metadata": {
    "slideshow": {
     "slide_type": "-"
    }
   },
   "outputs": [],
   "source": [
    "from ozapfdis import jdeps\n",
    "\n",
    "deps = jdeps.read_jdeps_file(\n",
    "    \"../dataset/jdeps_dropover.txt\",\n",
    "    filter_regex=\"at.dropover\")\n",
    "deps.head()"
   ]
  },
  {
   "cell_type": "markdown",
   "metadata": {
    "slideshow": {
     "slide_type": "slide"
    }
   },
   "source": [
    "# Modeling\n",
    "Extract the information about existing modules based on path naming conventions"
   ]
  },
  {
   "cell_type": "code",
   "execution_count": null,
   "metadata": {
    "slideshow": {
     "slide_type": "-"
    }
   },
   "outputs": [],
   "source": [
    "deps = deps[['from', 'to']]\n",
    "deps['group_from'] = deps['from'].str.split(\".\").str[2]\n",
    "deps['group_to'] = deps['to'].str.split(\".\").str[2]\n",
    "deps.head()"
   ]
  },
  {
   "cell_type": "markdown",
   "metadata": {
    "slideshow": {
     "slide_type": "slide"
    }
   },
   "source": [
    "# Visualization\n",
    "Output results with <b>A</b>n <b>U</b>nified <b>S</b>oftware <b>I</b>ntegrator"
   ]
  },
  {
   "cell_type": "code",
   "execution_count": null,
   "metadata": {
    "slideshow": {
     "slide_type": "-"
    }
   },
   "outputs": [],
   "source": [
    "from ausi import d3\n",
    "\n",
    "d3.create_d3force(\n",
    "    deps,\n",
    "    \"jdeps_demo_output/dropover_d3forced\",\n",
    "    group_col_from=\"group_from\",\n",
    "    group_col_to=\"group_to\")"
   ]
  },
  {
   "cell_type": "code",
   "execution_count": null,
   "metadata": {
    "slideshow": {
     "slide_type": "skip"
    }
   },
   "outputs": [],
   "source": [
    "d3.create_semantic_substrate(\n",
    "    deps,\n",
    "    \"jdeps_demo_output/dropover_semantic_substrate\")"
   ]
  },
  {
   "cell_type": "code",
   "execution_count": null,
   "metadata": {
    "slideshow": {
     "slide_type": "skip"
    }
   },
   "outputs": [],
   "source": [
    "d3.create_hierarchical_edge_bundling(\n",
    "    deps,\n",
    "    \"jdeps_demo_output/dropover_bundling\")"
   ]
  }
 ],
 "metadata": {
  "kernelspec": {
   "display_name": "Python 3",
   "language": "python",
   "name": "python3"
  },
  "language_info": {
   "codemirror_mode": {
    "name": "ipython",
    "version": 3
   },
   "file_extension": ".py",
   "mimetype": "text/x-python",
   "name": "python",
   "nbconvert_exporter": "python",
   "pygments_lexer": "ipython3",
   "version": "3.6.4"
  }
 },
 "nbformat": 4,
 "nbformat_minor": 2
}
