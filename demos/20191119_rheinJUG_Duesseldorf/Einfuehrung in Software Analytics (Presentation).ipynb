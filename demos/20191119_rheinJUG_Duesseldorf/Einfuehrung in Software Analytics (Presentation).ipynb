{
 "cells": [
  {
   "cell_type": "markdown",
   "metadata": {
    "slideshow": {
     "slide_type": "skip"
    }
   },
   "source": [
    "Diese Folie ist absichtlich leer!"
   ]
  },
  {
   "cell_type": "code",
   "execution_count": 1,
   "metadata": {
    "slideshow": {
     "slide_type": "skip"
    }
   },
   "outputs": [],
   "source": [
    "%matplotlib inline\n",
    "import pandas as pd"
   ]
  },
  {
   "cell_type": "markdown",
   "metadata": {
    "slideshow": {
     "slide_type": "slide"
    }
   },
   "source": [
    "\n",
    "# Einführung in<br/> Software Analytics\n",
    "<b>Markus Harrer</b>\n",
    "  \n",
    "`@feststelltaste`\n",
    "\n",
    "\n",
    "<small>rheinJUG, 19. November 2019</small>\n",
    "\n",
    "<img src=\"../../demos/resources/innoq_logo.jpg\" width=20% height=\"20%\" align=\"right\"/>"
   ]
  },
  {
   "cell_type": "markdown",
   "metadata": {
    "slideshow": {
     "slide_type": "slide"
    }
   },
   "source": [
    "## Über mich\n",
    "\n",
    "<img src=\"../../demos/resources/ueber_mich.png\" style=\"width:85%;\" >"
   ]
  },
  {
   "cell_type": "markdown",
   "metadata": {
    "slideshow": {
     "slide_type": "slide"
    }
   },
   "source": [
    "<div align=\"center\"><h2 class=\"blink\">LATEST NEWS</h2>\n",
    "\n",
    "<img src=\"../resources/cyberjug_logo_url.jpg\" style=\"width:75%;\" >\n",
    "\n",
    "</div>"
   ]
  },
  {
   "cell_type": "markdown",
   "metadata": {
    "slideshow": {
     "slide_type": "slide"
    }
   },
   "source": [
    "# Datenanalysen in der Softwareentwicklung?\n",
    "\n",
    "Warum?"
   ]
  },
  {
   "cell_type": "markdown",
   "metadata": {
    "slideshow": {
     "slide_type": "slide"
    }
   },
   "source": [
    "#  ... ein typischer Projektverlauf"
   ]
  },
  {
   "cell_type": "markdown",
   "metadata": {
    "slideshow": {
     "slide_type": "slide"
    }
   },
   "source": [
    "## ... ein typischer Projektverlauf\n",
    "<img src=\"../../demos/resources/schuld1.png\" style=\"width:95%;\" align=\"center\"/>"
   ]
  },
  {
   "cell_type": "markdown",
   "metadata": {
    "slideshow": {
     "slide_type": "slide"
    }
   },
   "source": [
    "## ... ein typischer Projektverlauf\n",
    "<img src=\"../../demos/resources/schuld2.png\" style=\"width:95%;\" align=\"center\"/>"
   ]
  },
  {
   "cell_type": "markdown",
   "metadata": {
    "slideshow": {
     "slide_type": "slide"
    }
   },
   "source": [
    "## ... ein typischer Projektverlauf\n",
    "<img src=\"../../demos/resources/schuld3.png\" style=\"width:95%;\" align=\"center\"/>"
   ]
  },
  {
   "cell_type": "markdown",
   "metadata": {
    "slideshow": {
     "slide_type": "slide"
    }
   },
   "source": [
    "## ... ein typischer Projektverlauf\n",
    "<img src=\"../../demos/resources/schuld4.png\" style=\"width:95%;\" align=\"center\"/>"
   ]
  },
  {
   "cell_type": "markdown",
   "metadata": {
    "slideshow": {
     "slide_type": "slide"
    }
   },
   "source": [
    "##  \n",
    "##   \"Die Definition von Wahnsinn ist, immer wieder das Gleiche zu tun und andere Ergebnisse zu erwarten.\"\n",
    "\n",
    "<br/>\n",
    "<div align=\"right\">&ndash; Albert Einstein</div>"
   ]
  },
  {
   "cell_type": "markdown",
   "metadata": {
    "slideshow": {
     "slide_type": "slide"
    }
   },
   "source": [
    "## Das (Tr|D)auerthema\n",
    "<img src=\"../../demos/resources/kombar0.png\" style=\"width:95%;\" align=\"center\"/>"
   ]
  },
  {
   "cell_type": "markdown",
   "metadata": {
    "slideshow": {
     "slide_type": "slide"
    }
   },
   "source": [
    "## Das (Tr|D)auerthema\n",
    "<img src=\"../../demos/resources/kombar4.png\" style=\"width:95%;\" align=\"center\"/>"
   ]
  },
  {
   "cell_type": "markdown",
   "metadata": {
    "slideshow": {
     "slide_type": "slide"
    }
   },
   "source": [
    "## Software Analytics"
   ]
  },
  {
   "cell_type": "markdown",
   "metadata": {
    "slideshow": {
     "slide_type": "slide"
    }
   },
   "source": [
    "### Definition \"Software Analytics\"\n",
    "\"Software Analytics is analytics on <b>software data</b> for **managers** and <b class=\"green\">software engineers</b> with the aim of empowering software development individuals and teams to _gain and share insight from their data_ to <b>make better decisions</b>.\"\n",
    "<br/>\n",
    "<div align=\"right\"><small>Tim Menzies and Thomas Zimmermann</small></div>"
   ]
  },
  {
   "cell_type": "markdown",
   "metadata": {
    "slideshow": {
     "slide_type": "slide"
    }
   },
   "source": [
    "### Welche Arten von Softwaredaten?\n",
    "\n",
    "Alles was aus der Entwicklung und dem Betrieb der Softwaresysteme so anfällt: \n",
    "* Statische Daten\n",
    "* Laufzeitdaten\n",
    "* Chronologische Daten\n",
    "* Daten aus der Software-Community"
   ]
  },
  {
   "cell_type": "markdown",
   "metadata": {
    "slideshow": {
     "slide_type": "fragment"
    }
   },
   "source": [
    "<b>Sehr große Auswahl == sehr große Möglichkeiten?</b>"
   ]
  },
  {
   "cell_type": "markdown",
   "metadata": {
    "slideshow": {
     "slide_type": "slide"
    }
   },
   "source": [
    "<div align=\"center\">\n",
    "    <h1>\"Software Analytics\" heutzutage</h1>\n",
    "   \n",
    "</div>"
   ]
  },
  {
   "cell_type": "markdown",
   "metadata": {
    "slideshow": {
     "slide_type": "fragment"
    }
   },
   "source": [
    "<div align=\"center\"><span style=\"font-size:180px\">\n",
    "😥\n",
    "</span>\n",
    "<br/><br/>\n",
    "Markus traurig</div>"
   ]
  },
  {
   "cell_type": "markdown",
   "metadata": {
    "slideshow": {
     "slide_type": "slide"
    }
   },
   "source": [
    "### Unsere derzeitiges \"Software Analytics\"\n",
    "<img src=\"../../demos/resources/risk2.png\" style=\"width:80%;\" align=\"center\"/>"
   ]
  },
  {
   "cell_type": "markdown",
   "metadata": {
    "slideshow": {
     "slide_type": "slide"
    }
   },
   "source": [
    "### Unsere derzeitiges \"Software Analytics\"<img src=\"../../demos/resources/risk3.png\" style=\"width:80%;\" align=\"center\"/>"
   ]
  },
  {
   "cell_type": "markdown",
   "metadata": {
    "slideshow": {
     "slide_type": "slide"
    }
   },
   "source": [
    "### Unsere derzeitiges \"Software Analytics\"<img src=\"../../demos/resources/risk4.png\" style=\"width:80%;\" align=\"center\"/>"
   ]
  },
  {
   "cell_type": "markdown",
   "metadata": {
    "slideshow": {
     "slide_type": "slide"
    }
   },
   "source": [
    "# Situationsspezifische Analysen"
   ]
  },
  {
   "cell_type": "markdown",
   "metadata": {
    "slideshow": {
     "slide_type": "slide"
    }
   },
   "source": [
    "### \"Es kommt drauf an!\" aka Kontext\n",
    "\n",
    "<div style=\"margin-left:160px;margin-top:80px;\">\n",
    "<img src=\"../../demos/resources/context.png\" style=\"width:70%;\" /></div>"
   ]
  },
  {
   "cell_type": "markdown",
   "metadata": {
    "slideshow": {
     "slide_type": "fragment"
    }
   },
   "source": [
    "<b>Individuelle Systeme == Individuelle Probleme => Individuelle Analysen => Individuelle Erkenntnisse!</b>"
   ]
  },
  {
   "cell_type": "markdown",
   "metadata": {
    "slideshow": {
     "slide_type": "slide"
    }
   },
   "source": [
    "<br/><br/>\n",
    "<div align=\"center\">\n",
    "    Situationsspezifische Analysen mit Mitteln aus dem\n",
    "    <h1><strong>Data Science</strong>\n",
    "    <br/><br/></h1>\n",
    "      <h2>  <i style=\"font-weight: normal;\">= Eine leichtgewichtige Umsetzung von </i><b><span class=\"blue\">Software Analytics</span></b></h2>\n",
    "</div>"
   ]
  },
  {
   "cell_type": "markdown",
   "metadata": {
    "slideshow": {
     "slide_type": "slide"
    }
   },
   "source": [
    "## Data Science"
   ]
  },
  {
   "cell_type": "markdown",
   "metadata": {
    "slideshow": {
     "slide_type": "slide"
    }
   },
   "source": [
    "### Was is Data Science?"
   ]
  },
  {
   "cell_type": "markdown",
   "metadata": {
    "slideshow": {
     "slide_type": "fragment"
    }
   },
   "source": [
    "\"**Statistics** on a <b><span class=\"green\">Mac</span></b>.\"\n",
    "<br/>\n",
    "<br/>\n",
    "<div align=\"right\"><small>https://twitter.com/cdixon/status/428914681911070720</small></div>"
   ]
  },
  {
   "cell_type": "markdown",
   "metadata": {
    "slideshow": {
     "slide_type": "slide"
    }
   },
   "source": [
    "### Meine Definition"
   ]
  },
  {
   "cell_type": "markdown",
   "metadata": {
    "slideshow": {
     "slide_type": "slide"
    }
   },
   "source": [
    "#### Was bedeutet \"**data**\"?\n",
    "\"Without **data** you‘re just another person with an opinion.\"\n",
    "<br/>\n",
    "<div align=\"right\"><small>W. Edwards Deming</small></div>"
   ]
  },
  {
   "cell_type": "markdown",
   "metadata": {
    "slideshow": {
     "slide_type": "fragment"
    }
   },
   "source": [
    "<b>=> Belastbare Erkenntnisse mittels <span class=\"green\">Fakten</span> liefern</b>"
   ]
  },
  {
   "cell_type": "markdown",
   "metadata": {
    "slideshow": {
     "slide_type": "slide"
    }
   },
   "source": [
    "#### Was bedeutet \"**science**\"?\n",
    "  \n",
    "  \n",
    "\"The aim of **science** is to seek the simplest explanations of complex facts.\"\n",
    "<br/>\n",
    "<div align=\"right\"><small>Albert Einstein</small></div>"
   ]
  },
  {
   "cell_type": "markdown",
   "metadata": {
    "slideshow": {
     "slide_type": "fragment"
    }
   },
   "source": [
    "<b>=> Neue Erkenntnisse <span class=\"green\">verständlich</span> herausarbeiten</b>"
   ]
  },
  {
   "cell_type": "markdown",
   "metadata": {
    "slideshow": {
     "slide_type": "slide"
    }
   },
   "source": [
    "## Warum Data Science?"
   ]
  },
  {
   "cell_type": "markdown",
   "metadata": {
    "slideshow": {
     "slide_type": "slide"
    }
   },
   "source": [
    "### Data Science liegt immer noch im Trend!"
   ]
  },
  {
   "cell_type": "code",
   "execution_count": 14,
   "metadata": {
    "slideshow": {
     "slide_type": "fragment"
    },
    "tags": [
     "delete"
    ]
   },
   "outputs": [
    {
     "data": {
      "image/png": "[encoded data removed]",
      "text/plain": [
       "<Figure size 432x288 with 1 Axes>"
      ]
     },
     "metadata": {
      "image/png": {
       "height": 254,
       "width": 377
      },
      "needs_background": "light"
     },
     "output_type": "display_data"
    }
   ],
   "source": [
    "pd.read_csv(\"../dataset/google_trends_datascience.csv\", index_col=0).plot();"
   ]
  },
  {
   "cell_type": "markdown",
   "metadata": {
    "slideshow": {
     "slide_type": "fragment"
    }
   },
   "source": [
    "\"100\" == max. Beliebtheit!"
   ]
  },
  {
   "cell_type": "markdown",
   "metadata": {
    "slideshow": {
     "slide_type": "slide"
    }
   },
   "source": [
    "### Große (Online-)Community\n",
    "* Kostenlose Online-Kurse, -Videos und Tutorials (z. B. DataCamp mit über 4,6 Mio. Mitgliedern)\n",
    "* Direkte Hilfestellungen (z. B. Stack Overflow oder Blog-Artikel)\n",
    "* Lernen mit anderen durch Online-Herausforderungen (z. B. Kaggle)"
   ]
  },
  {
   "cell_type": "markdown",
   "metadata": {
    "slideshow": {
     "slide_type": "slide"
    }
   },
   "source": [
    "### Wiederverwendbarkeit\n",
    "\n",
    "* Analyse von Geschäftsdaten oder Softwaredaten? Fast das Gleiche!\n",
    "* Vorgehen für Analysen? Bewährt!\n",
    "* Best Practices für Analysen? Frei Haus!\n",
    "* Visualisierungen! (spart immens Zeit!)"
   ]
  },
  {
   "cell_type": "markdown",
   "metadata": {
    "slideshow": {
     "slide_type": "slide"
    }
   },
   "source": [
    "# Wie weit weg sind <span class=\"green\">SoftwareentwicklerInnen</span></b><br/> von <strong>Data Science</strong>?"
   ]
  },
  {
   "cell_type": "markdown",
   "metadata": {
    "slideshow": {
     "slide_type": "slide"
    }
   },
   "source": [
    "### Was ist ein Data Scientist?\n",
    "\"A data scientist is someone who<br/>\n",
    "&nbsp;&nbsp;is better at **statistics**<br/>\n",
    "&nbsp;&nbsp;than any <b><span class=\"green\">software engineer</span></b><br/>\n",
    "&nbsp;&nbsp;and better at <b><span class=\"green\">software engineering</span></b><br/>\n",
    "&nbsp;&nbsp;than any **statistician**.\"\n",
    "<br/>\n",
    "<br/>\n",
    "<div align=\"right\"><small>From https://twitter.com/cdixon/status/428914681911070720</small></div>"
   ]
  },
  {
   "cell_type": "markdown",
   "metadata": {
    "slideshow": {
     "slide_type": "fragment"
    }
   },
   "source": [
    "<b>Nicht so weit weg wie gedacht!</b>"
   ]
  },
  {
   "cell_type": "markdown",
   "metadata": {
    "slideshow": {
     "slide_type": "slide"
    }
   },
   "source": [
    "### Einige individuellen Analysen aus der Praxis"
   ]
  },
  {
   "cell_type": "markdown",
   "metadata": {
    "slideshow": {
     "slide_type": "-"
    }
   },
   "source": [
    "* Vorhandenen Modularisierungsschnitt analysieren\n",
    "* Performance-Probleme in heterogenen, verteilten Systemen identifizieren\n",
    "* Potenzielle Wissensverluste ermitteln\n",
    "* Eingesetzte Open-Source-Projekte bewerten\n",
    "* ..."
   ]
  },
  {
   "cell_type": "markdown",
   "metadata": {
    "slideshow": {
     "slide_type": "slide"
    }
   },
   "source": [
    "# Wie <span class=\"green\">Software Analytics</span> mit <strong>Data Science</strong>  beginnen?"
   ]
  },
  {
   "cell_type": "markdown",
   "metadata": {
    "slideshow": {
     "slide_type": "slide"
    }
   },
   "source": [
    "### Bewährte Ansätze nutzen\n",
    "<small>Roger Pengs \"Stages of Data Analysis\"</small>  \n",
    "I. Fragestellung  \n",
    "II. Explorative Datenanalyse  \n",
    "III. Formale Modellierung  \n",
    "IV. Interpretation  \n",
    "V. Kommunikation\n",
    "  \n",
    "\n"
   ]
  },
  {
   "cell_type": "markdown",
   "metadata": {
    "slideshow": {
     "slide_type": "fragment"
    }
   },
   "source": [
    "<b>=> von der <strong>Frage</strong> über die <span class=\"green\">Daten</span> zur <span class=\"blue\" style=\"background-color: #FFFF00\">Erkenntnis</span>!</b>"
   ]
  },
  {
   "cell_type": "markdown",
   "metadata": {
    "slideshow": {
     "slide_type": "slide"
    }
   },
   "source": [
    "### Gedanken zur Analyse strukturieren\n",
    "<br/>\n",
    "<img src=\"../../demos/resources/canvas.png\" style=\"width:85%;\" >\n"
   ]
  },
  {
   "cell_type": "markdown",
   "metadata": {
    "slideshow": {
     "slide_type": "slide"
    }
   },
   "source": [
    "# Wie nachvollziehbar umsetzen?"
   ]
  },
  {
   "cell_type": "markdown",
   "metadata": {
    "slideshow": {
     "slide_type": "slide"
    }
   },
   "source": [
    "### Verwende Literate Statistical Programming\n",
    "\n",
    "`(Intent + Code + Data + Results)`<br />\n",
    "`* Logical Step`<br />\n",
    "`+ Automation`<br />\n",
    "`= Literate Statistical Programming`"
   ]
  },
  {
   "cell_type": "markdown",
   "metadata": {
    "slideshow": {
     "slide_type": "fragment"
    }
   },
   "source": [
    "Vehikel: **Computational notebooks**"
   ]
  },
  {
   "cell_type": "markdown",
   "metadata": {
    "slideshow": {
     "slide_type": "slide"
    }
   },
   "source": [
    "#### Beispiel \"Computational Notebook\"\n",
    "<br/>\n",
    "  \n",
    "\n",
    "<div align=\"center\"><img src=\"../../demos/resources/notebook_approach.jpg\"></div>"
   ]
  },
  {
   "cell_type": "markdown",
   "metadata": {
    "slideshow": {
     "slide_type": "slide"
    }
   },
   "source": [
    "### Nutze Data Science Standardwerkzeuge\n",
    "\n",
    "#### z. B. einen der populärsten Stacks\n",
    "\n",
    "* **Jupyter Notebook**\n",
    "* Python 3\n",
    "* pandas\n",
    "* matplotlib"
   ]
  },
  {
   "cell_type": "markdown",
   "metadata": {
    "slideshow": {
     "slide_type": "slide"
    }
   },
   "source": [
    "### Andere Technologien\n",
    "**Jupyter Notebook** arbeitet auch mit anderen Technologieplattformen zusammen, z. B. mit\n",
    "* jQAssistant Scanner / Neo4j Graphdatenbank\n",
    "* JVM-Sprachen via beakerx / Tablesaw\n",
    "* bash\n",
    "\n",
    "<b><span class=\"green\">=> Also auch was für Javaianer dabei!</span></b>\n"
   ]
  },
  {
   "cell_type": "markdown",
   "metadata": {
    "slideshow": {
     "slide_type": "slide"
    }
   },
   "source": [
    "# Hands-On"
   ]
  },
  {
   "cell_type": "markdown",
   "metadata": {
    "slideshow": {
     "slide_type": "slide"
    }
   },
   "source": [
    "## Programmierbeispiel"
   ]
  },
  {
   "cell_type": "markdown",
   "metadata": {
    "slideshow": {
     "slide_type": "slide"
    }
   },
   "source": [
    "### Fallbeispiel\n",
    "\n",
    "#### IntelliJ IDEA\n",
    "\n",
    "* IDE für Java-Entwickler\n",
    "* Fast komplett in Java geschrieben\n",
    "* Großes und lang aktives Projekt"
   ]
  },
  {
   "cell_type": "markdown",
   "metadata": {
    "slideshow": {
     "slide_type": "slide"
    }
   },
   "source": [
    "### I. Fragestellung (1/3)\n",
    "\n",
    "* Schreibe die Frage explizit auf\n",
    "* Erkläre die Anayseidee verständlich\n"
   ]
  },
  {
   "cell_type": "markdown",
   "metadata": {
    "slideshow": {
     "slide_type": "slide"
    }
   },
   "source": [
    "### I. Fragestellung (2/3)\n",
    "\n",
    "<b>Frage</b>\n",
    "* Welche Quellcodedateien sind besonders komplex und änderten sich in letzter Zeit häufig?\n"
   ]
  },
  {
   "cell_type": "markdown",
   "metadata": {
    "slideshow": {
     "slide_type": "slide"
    }
   },
   "source": [
    "### I. Fragestellung (3/3)\n",
    "#### Umsetzungsideen\n",
    "* Werkzeuge: Jupyter, Python, pandas, matplotlib\n",
    "* Heuristiken:\n",
    " * \"komplex\": viele Quellcodezeilen\n",
    " * \"ändert ... häufig\": hohe Anzahl Commits\n",
    " * \"in letzter Zeit\": letzte 90 Tage\n"
   ]
  },
  {
   "cell_type": "markdown",
   "metadata": {
    "slideshow": {
     "slide_type": "fragment"
    }
   },
   "source": [
    "**Meta-Ziel:** Grundmechaniken kennenlernen."
   ]
  },
  {
   "cell_type": "markdown",
   "metadata": {
    "slideshow": {
     "slide_type": "slide"
    }
   },
   "source": [
    "### II. Explorative Datenanalyse\n",
    "* Finde und lade mögliche Softwaredaten\n",
    "* Bereinige und filtere die Rohdaten"
   ]
  },
  {
   "cell_type": "markdown",
   "metadata": {
    "slideshow": {
     "slide_type": "slide"
    }
   },
   "source": [
    "*Wir laden einen Datenexport aus einem Git-Repository.*"
   ]
  },
  {
   "cell_type": "code",
   "execution_count": 3,
   "metadata": {
    "slideshow": {
     "slide_type": "fragment"
    },
    "tags": [
     "delete"
    ]
   },
   "outputs": [
    {
     "data": {
      "text/html": [
       "<div>\n",
       "<style scoped>\n",
       "    .dataframe tbody tr th:only-of-type {\n",
       "        vertical-align: middle;\n",
       "    }\n",
       "\n",
       "    .dataframe tbody tr th {\n",
       "        vertical-align: top;\n",
       "    }\n",
       "\n",
       "    .dataframe thead th {\n",
       "        text-align: right;\n",
       "    }\n",
       "</style>\n",
       "<table border=\"1\" class=\"dataframe\">\n",
       "  <thead>\n",
       "    <tr style=\"text-align: right;\">\n",
       "      <th></th>\n",
       "      <th>additions</th>\n",
       "      <th>deletions</th>\n",
       "      <th>filename</th>\n",
       "      <th>sha</th>\n",
       "      <th>timestamp</th>\n",
       "      <th>author</th>\n",
       "    </tr>\n",
       "  </thead>\n",
       "  <tbody>\n",
       "    <tr>\n",
       "      <th>0</th>\n",
       "      <td>4</td>\n",
       "      <td>0</td>\n",
       "      <td>java/java-impl/src/com/intellij/codeInsight/hi...</td>\n",
       "      <td>be6247932aa9</td>\n",
       "      <td>2019-07-01 14:40:24</td>\n",
       "      <td>Roman.Ivanov</td>\n",
       "    </tr>\n",
       "    <tr>\n",
       "      <th>1</th>\n",
       "      <td>4</td>\n",
       "      <td>6</td>\n",
       "      <td>java/java-impl/src/com/intellij/codeInsight/hi...</td>\n",
       "      <td>ee2032b77eca</td>\n",
       "      <td>2019-07-01 11:36:14</td>\n",
       "      <td>Roman.Ivanov</td>\n",
       "    </tr>\n",
       "    <tr>\n",
       "      <th>2</th>\n",
       "      <td>0</td>\n",
       "      <td>3</td>\n",
       "      <td>java/java-impl/src/META-INF/JavaPlugin.xml</td>\n",
       "      <td>fbeb4d639dc1</td>\n",
       "      <td>2019-06-26 11:14:34</td>\n",
       "      <td>Roman.Ivanov</td>\n",
       "    </tr>\n",
       "    <tr>\n",
       "      <th>3</th>\n",
       "      <td>6</td>\n",
       "      <td>3</td>\n",
       "      <td>java/java-impl/src/com/intellij/codeInsight/hi...</td>\n",
       "      <td>fbeb4d639dc1</td>\n",
       "      <td>2019-06-26 11:14:34</td>\n",
       "      <td>Roman.Ivanov</td>\n",
       "    </tr>\n",
       "    <tr>\n",
       "      <th>4</th>\n",
       "      <td>11</td>\n",
       "      <td>6</td>\n",
       "      <td>java/java-impl/src/com/intellij/codeInsight/hi...</td>\n",
       "      <td>a3d5a9b855fe</td>\n",
       "      <td>2019-06-14 10:32:15</td>\n",
       "      <td>Roman.Ivanov</td>\n",
       "    </tr>\n",
       "  </tbody>\n",
       "</table>\n",
       "</div>"
      ],
      "text/plain": [
       "  additions deletions                                           filename  \\\n",
       "0         4         0  java/java-impl/src/com/intellij/codeInsight/hi...   \n",
       "1         4         6  java/java-impl/src/com/intellij/codeInsight/hi...   \n",
       "2         0         3         java/java-impl/src/META-INF/JavaPlugin.xml   \n",
       "3         6         3  java/java-impl/src/com/intellij/codeInsight/hi...   \n",
       "4        11         6  java/java-impl/src/com/intellij/codeInsight/hi...   \n",
       "\n",
       "            sha            timestamp        author  \n",
       "0  be6247932aa9  2019-07-01 14:40:24  Roman.Ivanov  \n",
       "1  ee2032b77eca  2019-07-01 11:36:14  Roman.Ivanov  \n",
       "2  fbeb4d639dc1  2019-06-26 11:14:34  Roman.Ivanov  \n",
       "3  fbeb4d639dc1  2019-06-26 11:14:34  Roman.Ivanov  \n",
       "4  a3d5a9b855fe  2019-06-14 10:32:15  Roman.Ivanov  "
      ]
     },
     "execution_count": 3,
     "metadata": {},
     "output_type": "execute_result"
    }
   ],
   "source": [
    "log = pd.read_csv(\"../dataset/git_log_intellij.csv.gz\")\n",
    "log.head()"
   ]
  },
  {
   "cell_type": "markdown",
   "metadata": {
    "slideshow": {
     "slide_type": "slide"
    }
   },
   "source": [
    "*Wir sehen uns Basisinfos über den Datensatz an.*"
   ]
  },
  {
   "cell_type": "code",
   "execution_count": 4,
   "metadata": {
    "slideshow": {
     "slide_type": "-"
    },
    "tags": [
     "delete"
    ]
   },
   "outputs": [
    {
     "name": "stdout",
     "output_type": "stream",
     "text": [
      "<class 'pandas.core.frame.DataFrame'>\n",
      "RangeIndex: 1128819 entries, 0 to 1128818\n",
      "Data columns (total 6 columns):\n",
      "additions    1128819 non-null object\n",
      "deletions    1128819 non-null object\n",
      "filename     1128819 non-null object\n",
      "sha          1128819 non-null object\n",
      "timestamp    1128819 non-null object\n",
      "author       1128819 non-null object\n",
      "dtypes: object(6)\n",
      "memory usage: 51.7+ MB\n"
     ]
    }
   ],
   "source": [
    "log.info()"
   ]
  },
  {
   "cell_type": "markdown",
   "metadata": {
    "slideshow": {
     "slide_type": "fragment"
    }
   },
   "source": [
    "<b>1</b> **DataFrame** (~ programmierbares Excel-Arbeitsblatt), <b>6</b> **Series** (= Spalten), <b>1128819</b> **entries** (= Reihen)"
   ]
  },
  {
   "cell_type": "markdown",
   "metadata": {
    "slideshow": {
     "slide_type": "slide"
    }
   },
   "source": [
    "*Wir wandeln die Zeitstempel von Texte in Objekte um.*"
   ]
  },
  {
   "cell_type": "code",
   "execution_count": 5,
   "metadata": {
    "slideshow": {
     "slide_type": "-"
    },
    "tags": [
     "delete"
    ]
   },
   "outputs": [
    {
     "data": {
      "text/html": [
       "<div>\n",
       "<style scoped>\n",
       "    .dataframe tbody tr th:only-of-type {\n",
       "        vertical-align: middle;\n",
       "    }\n",
       "\n",
       "    .dataframe tbody tr th {\n",
       "        vertical-align: top;\n",
       "    }\n",
       "\n",
       "    .dataframe thead th {\n",
       "        text-align: right;\n",
       "    }\n",
       "</style>\n",
       "<table border=\"1\" class=\"dataframe\">\n",
       "  <thead>\n",
       "    <tr style=\"text-align: right;\">\n",
       "      <th></th>\n",
       "      <th>additions</th>\n",
       "      <th>deletions</th>\n",
       "      <th>filename</th>\n",
       "      <th>sha</th>\n",
       "      <th>timestamp</th>\n",
       "      <th>author</th>\n",
       "    </tr>\n",
       "  </thead>\n",
       "  <tbody>\n",
       "    <tr>\n",
       "      <th>0</th>\n",
       "      <td>4</td>\n",
       "      <td>0</td>\n",
       "      <td>java/java-impl/src/com/intellij/codeInsight/hi...</td>\n",
       "      <td>be6247932aa9</td>\n",
       "      <td>2019-07-01 14:40:24</td>\n",
       "      <td>Roman.Ivanov</td>\n",
       "    </tr>\n",
       "    <tr>\n",
       "      <th>1</th>\n",
       "      <td>4</td>\n",
       "      <td>6</td>\n",
       "      <td>java/java-impl/src/com/intellij/codeInsight/hi...</td>\n",
       "      <td>ee2032b77eca</td>\n",
       "      <td>2019-07-01 11:36:14</td>\n",
       "      <td>Roman.Ivanov</td>\n",
       "    </tr>\n",
       "    <tr>\n",
       "      <th>2</th>\n",
       "      <td>0</td>\n",
       "      <td>3</td>\n",
       "      <td>java/java-impl/src/META-INF/JavaPlugin.xml</td>\n",
       "      <td>fbeb4d639dc1</td>\n",
       "      <td>2019-06-26 11:14:34</td>\n",
       "      <td>Roman.Ivanov</td>\n",
       "    </tr>\n",
       "    <tr>\n",
       "      <th>3</th>\n",
       "      <td>6</td>\n",
       "      <td>3</td>\n",
       "      <td>java/java-impl/src/com/intellij/codeInsight/hi...</td>\n",
       "      <td>fbeb4d639dc1</td>\n",
       "      <td>2019-06-26 11:14:34</td>\n",
       "      <td>Roman.Ivanov</td>\n",
       "    </tr>\n",
       "    <tr>\n",
       "      <th>4</th>\n",
       "      <td>11</td>\n",
       "      <td>6</td>\n",
       "      <td>java/java-impl/src/com/intellij/codeInsight/hi...</td>\n",
       "      <td>a3d5a9b855fe</td>\n",
       "      <td>2019-06-14 10:32:15</td>\n",
       "      <td>Roman.Ivanov</td>\n",
       "    </tr>\n",
       "  </tbody>\n",
       "</table>\n",
       "</div>"
      ],
      "text/plain": [
       "  additions deletions                                           filename  \\\n",
       "0         4         0  java/java-impl/src/com/intellij/codeInsight/hi...   \n",
       "1         4         6  java/java-impl/src/com/intellij/codeInsight/hi...   \n",
       "2         0         3         java/java-impl/src/META-INF/JavaPlugin.xml   \n",
       "3         6         3  java/java-impl/src/com/intellij/codeInsight/hi...   \n",
       "4        11         6  java/java-impl/src/com/intellij/codeInsight/hi...   \n",
       "\n",
       "            sha           timestamp        author  \n",
       "0  be6247932aa9 2019-07-01 14:40:24  Roman.Ivanov  \n",
       "1  ee2032b77eca 2019-07-01 11:36:14  Roman.Ivanov  \n",
       "2  fbeb4d639dc1 2019-06-26 11:14:34  Roman.Ivanov  \n",
       "3  fbeb4d639dc1 2019-06-26 11:14:34  Roman.Ivanov  \n",
       "4  a3d5a9b855fe 2019-06-14 10:32:15  Roman.Ivanov  "
      ]
     },
     "execution_count": 5,
     "metadata": {},
     "output_type": "execute_result"
    }
   ],
   "source": [
    "log['timestamp'] = pd.to_datetime(log['timestamp'])\n",
    "log.head()"
   ]
  },
  {
   "cell_type": "markdown",
   "metadata": {
    "slideshow": {
     "slide_type": "slide"
    }
   },
   "source": [
    "*Wir sehen uns nur die jüngsten Änderungen an.*"
   ]
  },
  {
   "cell_type": "code",
   "execution_count": 6,
   "metadata": {
    "scrolled": true,
    "slideshow": {
     "slide_type": "-"
    },
    "tags": [
     "delete"
    ]
   },
   "outputs": [
    {
     "data": {
      "text/html": [
       "<div>\n",
       "<style scoped>\n",
       "    .dataframe tbody tr th:only-of-type {\n",
       "        vertical-align: middle;\n",
       "    }\n",
       "\n",
       "    .dataframe tbody tr th {\n",
       "        vertical-align: top;\n",
       "    }\n",
       "\n",
       "    .dataframe thead th {\n",
       "        text-align: right;\n",
       "    }\n",
       "</style>\n",
       "<table border=\"1\" class=\"dataframe\">\n",
       "  <thead>\n",
       "    <tr style=\"text-align: right;\">\n",
       "      <th></th>\n",
       "      <th>additions</th>\n",
       "      <th>deletions</th>\n",
       "      <th>filename</th>\n",
       "      <th>sha</th>\n",
       "      <th>timestamp</th>\n",
       "      <th>author</th>\n",
       "    </tr>\n",
       "  </thead>\n",
       "  <tbody>\n",
       "    <tr>\n",
       "      <th>0</th>\n",
       "      <td>4</td>\n",
       "      <td>0</td>\n",
       "      <td>java/java-impl/src/com/intellij/codeInsight/hi...</td>\n",
       "      <td>be6247932aa9</td>\n",
       "      <td>2019-07-01 14:40:24</td>\n",
       "      <td>Roman.Ivanov</td>\n",
       "    </tr>\n",
       "    <tr>\n",
       "      <th>1</th>\n",
       "      <td>4</td>\n",
       "      <td>6</td>\n",
       "      <td>java/java-impl/src/com/intellij/codeInsight/hi...</td>\n",
       "      <td>ee2032b77eca</td>\n",
       "      <td>2019-07-01 11:36:14</td>\n",
       "      <td>Roman.Ivanov</td>\n",
       "    </tr>\n",
       "    <tr>\n",
       "      <th>2</th>\n",
       "      <td>0</td>\n",
       "      <td>3</td>\n",
       "      <td>java/java-impl/src/META-INF/JavaPlugin.xml</td>\n",
       "      <td>fbeb4d639dc1</td>\n",
       "      <td>2019-06-26 11:14:34</td>\n",
       "      <td>Roman.Ivanov</td>\n",
       "    </tr>\n",
       "    <tr>\n",
       "      <th>3</th>\n",
       "      <td>6</td>\n",
       "      <td>3</td>\n",
       "      <td>java/java-impl/src/com/intellij/codeInsight/hi...</td>\n",
       "      <td>fbeb4d639dc1</td>\n",
       "      <td>2019-06-26 11:14:34</td>\n",
       "      <td>Roman.Ivanov</td>\n",
       "    </tr>\n",
       "    <tr>\n",
       "      <th>4</th>\n",
       "      <td>11</td>\n",
       "      <td>6</td>\n",
       "      <td>java/java-impl/src/com/intellij/codeInsight/hi...</td>\n",
       "      <td>a3d5a9b855fe</td>\n",
       "      <td>2019-06-14 10:32:15</td>\n",
       "      <td>Roman.Ivanov</td>\n",
       "    </tr>\n",
       "  </tbody>\n",
       "</table>\n",
       "</div>"
      ],
      "text/plain": [
       "  additions deletions                                           filename  \\\n",
       "0         4         0  java/java-impl/src/com/intellij/codeInsight/hi...   \n",
       "1         4         6  java/java-impl/src/com/intellij/codeInsight/hi...   \n",
       "2         0         3         java/java-impl/src/META-INF/JavaPlugin.xml   \n",
       "3         6         3  java/java-impl/src/com/intellij/codeInsight/hi...   \n",
       "4        11         6  java/java-impl/src/com/intellij/codeInsight/hi...   \n",
       "\n",
       "            sha           timestamp        author  \n",
       "0  be6247932aa9 2019-07-01 14:40:24  Roman.Ivanov  \n",
       "1  ee2032b77eca 2019-07-01 11:36:14  Roman.Ivanov  \n",
       "2  fbeb4d639dc1 2019-06-26 11:14:34  Roman.Ivanov  \n",
       "3  fbeb4d639dc1 2019-06-26 11:14:34  Roman.Ivanov  \n",
       "4  a3d5a9b855fe 2019-06-14 10:32:15  Roman.Ivanov  "
      ]
     },
     "execution_count": 6,
     "metadata": {},
     "output_type": "execute_result"
    }
   ],
   "source": [
    "# use log['timestamp'].max() instead of pd.Timedelta('today') to avoid outdated data in the future\n",
    "recent = log[log['timestamp'] > log['timestamp'].max() - pd.Timedelta('90 days')]\n",
    "recent.head()"
   ]
  },
  {
   "cell_type": "markdown",
   "metadata": {
    "slideshow": {
     "slide_type": "slide"
    }
   },
   "source": [
    "*Wir wollen nur Java-Code verwenden.*"
   ]
  },
  {
   "cell_type": "code",
   "execution_count": 7,
   "metadata": {
    "slideshow": {
     "slide_type": "-"
    },
    "tags": [
     "delete"
    ]
   },
   "outputs": [
    {
     "data": {
      "text/html": [
       "<div>\n",
       "<style scoped>\n",
       "    .dataframe tbody tr th:only-of-type {\n",
       "        vertical-align: middle;\n",
       "    }\n",
       "\n",
       "    .dataframe tbody tr th {\n",
       "        vertical-align: top;\n",
       "    }\n",
       "\n",
       "    .dataframe thead th {\n",
       "        text-align: right;\n",
       "    }\n",
       "</style>\n",
       "<table border=\"1\" class=\"dataframe\">\n",
       "  <thead>\n",
       "    <tr style=\"text-align: right;\">\n",
       "      <th></th>\n",
       "      <th>additions</th>\n",
       "      <th>deletions</th>\n",
       "      <th>filename</th>\n",
       "      <th>sha</th>\n",
       "      <th>timestamp</th>\n",
       "      <th>author</th>\n",
       "    </tr>\n",
       "  </thead>\n",
       "  <tbody>\n",
       "    <tr>\n",
       "      <th>27</th>\n",
       "      <td>1</td>\n",
       "      <td>10</td>\n",
       "      <td>platform/smRunner/src/com/intellij/execution/t...</td>\n",
       "      <td>f4ed78c8f574</td>\n",
       "      <td>2019-06-28 18:28:41</td>\n",
       "      <td>Ilya.Kazakevich</td>\n",
       "    </tr>\n",
       "    <tr>\n",
       "      <th>29</th>\n",
       "      <td>28</td>\n",
       "      <td>0</td>\n",
       "      <td>platform/smRunner/testSrc/com/intellij/executi...</td>\n",
       "      <td>f4ed78c8f574</td>\n",
       "      <td>2019-06-28 18:28:41</td>\n",
       "      <td>Ilya.Kazakevich</td>\n",
       "    </tr>\n",
       "    <tr>\n",
       "      <th>30</th>\n",
       "      <td>6</td>\n",
       "      <td>3</td>\n",
       "      <td>plugins/InspectionGadgets/InspectionGadgetsAna...</td>\n",
       "      <td>a724467ad1a5</td>\n",
       "      <td>2019-07-01 19:47:38</td>\n",
       "      <td>Roman Shevchenko</td>\n",
       "    </tr>\n",
       "    <tr>\n",
       "      <th>31</th>\n",
       "      <td>2</td>\n",
       "      <td>2</td>\n",
       "      <td>plugins/InspectionGadgets/test/com/siyeh/igfix...</td>\n",
       "      <td>a724467ad1a5</td>\n",
       "      <td>2019-07-01 19:47:38</td>\n",
       "      <td>Roman Shevchenko</td>\n",
       "    </tr>\n",
       "    <tr>\n",
       "      <th>32</th>\n",
       "      <td>2</td>\n",
       "      <td>2</td>\n",
       "      <td>plugins/InspectionGadgets/test/com/siyeh/igfix...</td>\n",
       "      <td>a724467ad1a5</td>\n",
       "      <td>2019-07-01 19:47:38</td>\n",
       "      <td>Roman Shevchenko</td>\n",
       "    </tr>\n",
       "  </tbody>\n",
       "</table>\n",
       "</div>"
      ],
      "text/plain": [
       "   additions deletions                                           filename  \\\n",
       "27         1        10  platform/smRunner/src/com/intellij/execution/t...   \n",
       "29        28         0  platform/smRunner/testSrc/com/intellij/executi...   \n",
       "30         6         3  plugins/InspectionGadgets/InspectionGadgetsAna...   \n",
       "31         2         2  plugins/InspectionGadgets/test/com/siyeh/igfix...   \n",
       "32         2         2  plugins/InspectionGadgets/test/com/siyeh/igfix...   \n",
       "\n",
       "             sha           timestamp            author  \n",
       "27  f4ed78c8f574 2019-06-28 18:28:41   Ilya.Kazakevich  \n",
       "29  f4ed78c8f574 2019-06-28 18:28:41   Ilya.Kazakevich  \n",
       "30  a724467ad1a5 2019-07-01 19:47:38  Roman Shevchenko  \n",
       "31  a724467ad1a5 2019-07-01 19:47:38  Roman Shevchenko  \n",
       "32  a724467ad1a5 2019-07-01 19:47:38  Roman Shevchenko  "
      ]
     },
     "execution_count": 7,
     "metadata": {},
     "output_type": "execute_result"
    }
   ],
   "source": [
    "java = recent[recent['filename'].str.endswith(\".java\")].copy()\n",
    "java.head() "
   ]
  },
  {
   "cell_type": "markdown",
   "metadata": {
    "slideshow": {
     "slide_type": "slide"
    }
   },
   "source": [
    "### III. Formale Modellierung\n",
    "\n",
    "* Schaffe neue Sichten\n",
    "* Verschneide weitere Daten"
   ]
  },
  {
   "cell_type": "markdown",
   "metadata": {
    "slideshow": {
     "slide_type": "slide"
    }
   },
   "source": [
    "*Wir zählen die Anzahl der Änderungen je Datei.*"
   ]
  },
  {
   "cell_type": "code",
   "execution_count": 8,
   "metadata": {
    "slideshow": {
     "slide_type": "-"
    },
    "tags": [
     "delete"
    ]
   },
   "outputs": [
    {
     "data": {
      "text/html": [
       "<div>\n",
       "<style scoped>\n",
       "    .dataframe tbody tr th:only-of-type {\n",
       "        vertical-align: middle;\n",
       "    }\n",
       "\n",
       "    .dataframe tbody tr th {\n",
       "        vertical-align: top;\n",
       "    }\n",
       "\n",
       "    .dataframe thead th {\n",
       "        text-align: right;\n",
       "    }\n",
       "</style>\n",
       "<table border=\"1\" class=\"dataframe\">\n",
       "  <thead>\n",
       "    <tr style=\"text-align: right;\">\n",
       "      <th></th>\n",
       "      <th>sha</th>\n",
       "    </tr>\n",
       "    <tr>\n",
       "      <th>filename</th>\n",
       "      <th></th>\n",
       "    </tr>\n",
       "  </thead>\n",
       "  <tbody>\n",
       "    <tr>\n",
       "      <th>RegExpSupport/gen/org/intellij/lang/regexp/_RegExLexer.java</th>\n",
       "      <td>1</td>\n",
       "    </tr>\n",
       "    <tr>\n",
       "      <th>RegExpSupport/src/org/intellij/lang/regexp/RegExpCapability.java</th>\n",
       "      <td>1</td>\n",
       "    </tr>\n",
       "    <tr>\n",
       "      <th>RegExpSupport/src/org/intellij/lang/regexp/RegExpFileType.java</th>\n",
       "      <td>5</td>\n",
       "    </tr>\n",
       "    <tr>\n",
       "      <th>RegExpSupport/src/org/intellij/lang/regexp/RegExpLanguageHost.java</th>\n",
       "      <td>16</td>\n",
       "    </tr>\n",
       "    <tr>\n",
       "      <th>RegExpSupport/src/org/intellij/lang/regexp/RegExpLanguageHosts.java</th>\n",
       "      <td>15</td>\n",
       "    </tr>\n",
       "  </tbody>\n",
       "</table>\n",
       "</div>"
      ],
      "text/plain": [
       "                                                    sha\n",
       "filename                                               \n",
       "RegExpSupport/gen/org/intellij/lang/regexp/_Reg...    1\n",
       "RegExpSupport/src/org/intellij/lang/regexp/RegE...    1\n",
       "RegExpSupport/src/org/intellij/lang/regexp/RegE...    5\n",
       "RegExpSupport/src/org/intellij/lang/regexp/RegE...   16\n",
       "RegExpSupport/src/org/intellij/lang/regexp/RegE...   15"
      ]
     },
     "execution_count": 8,
     "metadata": {},
     "output_type": "execute_result"
    }
   ],
   "source": [
    "changes = java.groupby('filename')[['sha']].count()\n",
    "changes.head()"
   ]
  },
  {
   "cell_type": "markdown",
   "metadata": {
    "slideshow": {
     "slide_type": "slide"
    }
   },
   "source": [
    "*Wir holen Infos über die Code-Zeilen hinzu...*"
   ]
  },
  {
   "cell_type": "code",
   "execution_count": 9,
   "metadata": {
    "slideshow": {
     "slide_type": "-"
    },
    "tags": [
     "delete"
    ]
   },
   "outputs": [
    {
     "ename": "FileNotFoundError",
     "evalue": "[Errno 2] No such file or directory: '../datasets/cloc_intellij.csv.gz'",
     "output_type": "error",
     "traceback": [
      "\u001b[1;31m---------------------------------------------------------------------------\u001b[0m",
      "\u001b[1;31mFileNotFoundError\u001b[0m                         Traceback (most recent call last)",
      "\u001b[1;32m<ipython-input-9-f27bde0926c7>\u001b[0m in \u001b[0;36m<module>\u001b[1;34m\u001b[0m\n\u001b[1;32m----> 1\u001b[1;33m \u001b[0mloc\u001b[0m \u001b[1;33m=\u001b[0m \u001b[0mpd\u001b[0m\u001b[1;33m.\u001b[0m\u001b[0mread_csv\u001b[0m\u001b[1;33m(\u001b[0m\u001b[1;34m\"../datasets/cloc_intellij.csv.gz\"\u001b[0m\u001b[1;33m,\u001b[0m \u001b[0mindex_col\u001b[0m\u001b[1;33m=\u001b[0m\u001b[1;36m1\u001b[0m\u001b[1;33m)\u001b[0m\u001b[1;33m\u001b[0m\u001b[0m\n\u001b[0m\u001b[0;32m      2\u001b[0m \u001b[0mloc\u001b[0m\u001b[1;33m.\u001b[0m\u001b[0mhead\u001b[0m\u001b[1;33m(\u001b[0m\u001b[1;33m)\u001b[0m\u001b[1;33m\u001b[0m\u001b[0m\n",
      "\u001b[1;32mC:\\dev\\apps\\Anaconda3\\lib\\site-packages\\pandas\\io\\parsers.py\u001b[0m in \u001b[0;36mparser_f\u001b[1;34m(filepath_or_buffer, sep, delimiter, header, names, index_col, usecols, squeeze, prefix, mangle_dupe_cols, dtype, engine, converters, true_values, false_values, skipinitialspace, skiprows, nrows, na_values, keep_default_na, na_filter, verbose, skip_blank_lines, parse_dates, infer_datetime_format, keep_date_col, date_parser, dayfirst, iterator, chunksize, compression, thousands, decimal, lineterminator, quotechar, quoting, escapechar, comment, encoding, dialect, tupleize_cols, error_bad_lines, warn_bad_lines, skipfooter, doublequote, delim_whitespace, low_memory, memory_map, float_precision)\u001b[0m\n\u001b[0;32m    676\u001b[0m                     skip_blank_lines=skip_blank_lines)\n\u001b[0;32m    677\u001b[0m \u001b[1;33m\u001b[0m\u001b[0m\n\u001b[1;32m--> 678\u001b[1;33m         \u001b[1;32mreturn\u001b[0m \u001b[0m_read\u001b[0m\u001b[1;33m(\u001b[0m\u001b[0mfilepath_or_buffer\u001b[0m\u001b[1;33m,\u001b[0m \u001b[0mkwds\u001b[0m\u001b[1;33m)\u001b[0m\u001b[1;33m\u001b[0m\u001b[0m\n\u001b[0m\u001b[0;32m    679\u001b[0m \u001b[1;33m\u001b[0m\u001b[0m\n\u001b[0;32m    680\u001b[0m     \u001b[0mparser_f\u001b[0m\u001b[1;33m.\u001b[0m\u001b[0m__name__\u001b[0m \u001b[1;33m=\u001b[0m \u001b[0mname\u001b[0m\u001b[1;33m\u001b[0m\u001b[0m\n",
      "\u001b[1;32mC:\\dev\\apps\\Anaconda3\\lib\\site-packages\\pandas\\io\\parsers.py\u001b[0m in \u001b[0;36m_read\u001b[1;34m(filepath_or_buffer, kwds)\u001b[0m\n\u001b[0;32m    438\u001b[0m \u001b[1;33m\u001b[0m\u001b[0m\n\u001b[0;32m    439\u001b[0m     \u001b[1;31m# Create the parser.\u001b[0m\u001b[1;33m\u001b[0m\u001b[1;33m\u001b[0m\u001b[0m\n\u001b[1;32m--> 440\u001b[1;33m     \u001b[0mparser\u001b[0m \u001b[1;33m=\u001b[0m \u001b[0mTextFileReader\u001b[0m\u001b[1;33m(\u001b[0m\u001b[0mfilepath_or_buffer\u001b[0m\u001b[1;33m,\u001b[0m \u001b[1;33m**\u001b[0m\u001b[0mkwds\u001b[0m\u001b[1;33m)\u001b[0m\u001b[1;33m\u001b[0m\u001b[0m\n\u001b[0m\u001b[0;32m    441\u001b[0m \u001b[1;33m\u001b[0m\u001b[0m\n\u001b[0;32m    442\u001b[0m     \u001b[1;32mif\u001b[0m \u001b[0mchunksize\u001b[0m \u001b[1;32mor\u001b[0m \u001b[0miterator\u001b[0m\u001b[1;33m:\u001b[0m\u001b[1;33m\u001b[0m\u001b[0m\n",
      "\u001b[1;32mC:\\dev\\apps\\Anaconda3\\lib\\site-packages\\pandas\\io\\parsers.py\u001b[0m in \u001b[0;36m__init__\u001b[1;34m(self, f, engine, **kwds)\u001b[0m\n\u001b[0;32m    785\u001b[0m             \u001b[0mself\u001b[0m\u001b[1;33m.\u001b[0m\u001b[0moptions\u001b[0m\u001b[1;33m[\u001b[0m\u001b[1;34m'has_index_names'\u001b[0m\u001b[1;33m]\u001b[0m \u001b[1;33m=\u001b[0m \u001b[0mkwds\u001b[0m\u001b[1;33m[\u001b[0m\u001b[1;34m'has_index_names'\u001b[0m\u001b[1;33m]\u001b[0m\u001b[1;33m\u001b[0m\u001b[0m\n\u001b[0;32m    786\u001b[0m \u001b[1;33m\u001b[0m\u001b[0m\n\u001b[1;32m--> 787\u001b[1;33m         \u001b[0mself\u001b[0m\u001b[1;33m.\u001b[0m\u001b[0m_make_engine\u001b[0m\u001b[1;33m(\u001b[0m\u001b[0mself\u001b[0m\u001b[1;33m.\u001b[0m\u001b[0mengine\u001b[0m\u001b[1;33m)\u001b[0m\u001b[1;33m\u001b[0m\u001b[0m\n\u001b[0m\u001b[0;32m    788\u001b[0m \u001b[1;33m\u001b[0m\u001b[0m\n\u001b[0;32m    789\u001b[0m     \u001b[1;32mdef\u001b[0m \u001b[0mclose\u001b[0m\u001b[1;33m(\u001b[0m\u001b[0mself\u001b[0m\u001b[1;33m)\u001b[0m\u001b[1;33m:\u001b[0m\u001b[1;33m\u001b[0m\u001b[0m\n",
      "\u001b[1;32mC:\\dev\\apps\\Anaconda3\\lib\\site-packages\\pandas\\io\\parsers.py\u001b[0m in \u001b[0;36m_make_engine\u001b[1;34m(self, engine)\u001b[0m\n\u001b[0;32m   1012\u001b[0m     \u001b[1;32mdef\u001b[0m \u001b[0m_make_engine\u001b[0m\u001b[1;33m(\u001b[0m\u001b[0mself\u001b[0m\u001b[1;33m,\u001b[0m \u001b[0mengine\u001b[0m\u001b[1;33m=\u001b[0m\u001b[1;34m'c'\u001b[0m\u001b[1;33m)\u001b[0m\u001b[1;33m:\u001b[0m\u001b[1;33m\u001b[0m\u001b[0m\n\u001b[0;32m   1013\u001b[0m         \u001b[1;32mif\u001b[0m \u001b[0mengine\u001b[0m \u001b[1;33m==\u001b[0m \u001b[1;34m'c'\u001b[0m\u001b[1;33m:\u001b[0m\u001b[1;33m\u001b[0m\u001b[0m\n\u001b[1;32m-> 1014\u001b[1;33m             \u001b[0mself\u001b[0m\u001b[1;33m.\u001b[0m\u001b[0m_engine\u001b[0m \u001b[1;33m=\u001b[0m \u001b[0mCParserWrapper\u001b[0m\u001b[1;33m(\u001b[0m\u001b[0mself\u001b[0m\u001b[1;33m.\u001b[0m\u001b[0mf\u001b[0m\u001b[1;33m,\u001b[0m \u001b[1;33m**\u001b[0m\u001b[0mself\u001b[0m\u001b[1;33m.\u001b[0m\u001b[0moptions\u001b[0m\u001b[1;33m)\u001b[0m\u001b[1;33m\u001b[0m\u001b[0m\n\u001b[0m\u001b[0;32m   1015\u001b[0m         \u001b[1;32melse\u001b[0m\u001b[1;33m:\u001b[0m\u001b[1;33m\u001b[0m\u001b[0m\n\u001b[0;32m   1016\u001b[0m             \u001b[1;32mif\u001b[0m \u001b[0mengine\u001b[0m \u001b[1;33m==\u001b[0m \u001b[1;34m'python'\u001b[0m\u001b[1;33m:\u001b[0m\u001b[1;33m\u001b[0m\u001b[0m\n",
      "\u001b[1;32mC:\\dev\\apps\\Anaconda3\\lib\\site-packages\\pandas\\io\\parsers.py\u001b[0m in \u001b[0;36m__init__\u001b[1;34m(self, src, **kwds)\u001b[0m\n\u001b[0;32m   1706\u001b[0m         \u001b[0mkwds\u001b[0m\u001b[1;33m[\u001b[0m\u001b[1;34m'usecols'\u001b[0m\u001b[1;33m]\u001b[0m \u001b[1;33m=\u001b[0m \u001b[0mself\u001b[0m\u001b[1;33m.\u001b[0m\u001b[0musecols\u001b[0m\u001b[1;33m\u001b[0m\u001b[0m\n\u001b[0;32m   1707\u001b[0m \u001b[1;33m\u001b[0m\u001b[0m\n\u001b[1;32m-> 1708\u001b[1;33m         \u001b[0mself\u001b[0m\u001b[1;33m.\u001b[0m\u001b[0m_reader\u001b[0m \u001b[1;33m=\u001b[0m \u001b[0mparsers\u001b[0m\u001b[1;33m.\u001b[0m\u001b[0mTextReader\u001b[0m\u001b[1;33m(\u001b[0m\u001b[0msrc\u001b[0m\u001b[1;33m,\u001b[0m \u001b[1;33m**\u001b[0m\u001b[0mkwds\u001b[0m\u001b[1;33m)\u001b[0m\u001b[1;33m\u001b[0m\u001b[0m\n\u001b[0m\u001b[0;32m   1709\u001b[0m \u001b[1;33m\u001b[0m\u001b[0m\n\u001b[0;32m   1710\u001b[0m         \u001b[0mpassed_names\u001b[0m \u001b[1;33m=\u001b[0m \u001b[0mself\u001b[0m\u001b[1;33m.\u001b[0m\u001b[0mnames\u001b[0m \u001b[1;32mis\u001b[0m \u001b[1;32mNone\u001b[0m\u001b[1;33m\u001b[0m\u001b[0m\n",
      "\u001b[1;32mpandas\\_libs\\parsers.pyx\u001b[0m in \u001b[0;36mpandas._libs.parsers.TextReader.__cinit__\u001b[1;34m()\u001b[0m\n",
      "\u001b[1;32mpandas\\_libs\\parsers.pyx\u001b[0m in \u001b[0;36mpandas._libs.parsers.TextReader._setup_parser_source\u001b[1;34m()\u001b[0m\n",
      "\u001b[1;32mC:\\dev\\apps\\Anaconda3\\lib\\gzip.py\u001b[0m in \u001b[0;36m__init__\u001b[1;34m(self, filename, mode, compresslevel, fileobj, mtime)\u001b[0m\n\u001b[0;32m    161\u001b[0m             \u001b[0mmode\u001b[0m \u001b[1;33m+=\u001b[0m \u001b[1;34m'b'\u001b[0m\u001b[1;33m\u001b[0m\u001b[0m\n\u001b[0;32m    162\u001b[0m         \u001b[1;32mif\u001b[0m \u001b[0mfileobj\u001b[0m \u001b[1;32mis\u001b[0m \u001b[1;32mNone\u001b[0m\u001b[1;33m:\u001b[0m\u001b[1;33m\u001b[0m\u001b[0m\n\u001b[1;32m--> 163\u001b[1;33m             \u001b[0mfileobj\u001b[0m \u001b[1;33m=\u001b[0m \u001b[0mself\u001b[0m\u001b[1;33m.\u001b[0m\u001b[0mmyfileobj\u001b[0m \u001b[1;33m=\u001b[0m \u001b[0mbuiltins\u001b[0m\u001b[1;33m.\u001b[0m\u001b[0mopen\u001b[0m\u001b[1;33m(\u001b[0m\u001b[0mfilename\u001b[0m\u001b[1;33m,\u001b[0m \u001b[0mmode\u001b[0m \u001b[1;32mor\u001b[0m \u001b[1;34m'rb'\u001b[0m\u001b[1;33m)\u001b[0m\u001b[1;33m\u001b[0m\u001b[0m\n\u001b[0m\u001b[0;32m    164\u001b[0m         \u001b[1;32mif\u001b[0m \u001b[0mfilename\u001b[0m \u001b[1;32mis\u001b[0m \u001b[1;32mNone\u001b[0m\u001b[1;33m:\u001b[0m\u001b[1;33m\u001b[0m\u001b[0m\n\u001b[0;32m    165\u001b[0m             \u001b[0mfilename\u001b[0m \u001b[1;33m=\u001b[0m \u001b[0mgetattr\u001b[0m\u001b[1;33m(\u001b[0m\u001b[0mfileobj\u001b[0m\u001b[1;33m,\u001b[0m \u001b[1;34m'name'\u001b[0m\u001b[1;33m,\u001b[0m \u001b[1;34m''\u001b[0m\u001b[1;33m)\u001b[0m\u001b[1;33m\u001b[0m\u001b[0m\n",
      "\u001b[1;31mFileNotFoundError\u001b[0m: [Errno 2] No such file or directory: '../datasets/cloc_intellij.csv.gz'"
     ]
    }
   ],
   "source": [
    "loc = pd.read_csv(\"../datasets/cloc_intellij.csv.gz\", index_col=1)\n",
    "loc.head()"
   ]
  },
  {
   "cell_type": "markdown",
   "metadata": {
    "slideshow": {
     "slide_type": "slide"
    }
   },
   "source": [
    "*...und verschneiden diese mit den vorhandenen Daten.*"
   ]
  },
  {
   "cell_type": "code",
   "execution_count": null,
   "metadata": {
    "slideshow": {
     "slide_type": "-"
    },
    "tags": [
     "delete"
    ]
   },
   "outputs": [],
   "source": [
    "hotspots = changes.join(loc[['code']]).dropna(subset=['code'])\n",
    "hotspots.head()"
   ]
  },
  {
   "cell_type": "markdown",
   "metadata": {
    "slideshow": {
     "slide_type": "slide"
    }
   },
   "source": [
    "### VI. Interpretation\n",
    "* Erarbeite das Kernergebnis der Analyse heraus\n",
    "* Mache die zentrale Botschaft / neuen Erkenntnisse deutlich"
   ]
  },
  {
   "cell_type": "markdown",
   "metadata": {
    "slideshow": {
     "slide_type": "slide"
    }
   },
   "source": [
    "*Wir zeigen nur die TOP 10 Hotspots im Code an.*"
   ]
  },
  {
   "cell_type": "code",
   "execution_count": null,
   "metadata": {
    "slideshow": {
     "slide_type": "-"
    },
    "tags": [
     "delete"
    ]
   },
   "outputs": [],
   "source": [
    "top10 = hotspots.sort_values(by=\"sha\", ascending=False).head(10)\n",
    "top10"
   ]
  },
  {
   "cell_type": "markdown",
   "metadata": {
    "slideshow": {
     "slide_type": "slide"
    }
   },
   "source": [
    "### V. Kommunikation\n",
    "* Transformiere die Erkenntnisse in eine verständliche Visualisierung\n",
    "* Kommuniziere die nächsten Schritte nach der Analyse"
   ]
  },
  {
   "cell_type": "markdown",
   "metadata": {
    "slideshow": {
     "slide_type": "slide"
    }
   },
   "source": [
    "*Wir erzeugen ein XY-Diagramm aus der TOP 10 Liste.*"
   ]
  },
  {
   "cell_type": "code",
   "execution_count": null,
   "metadata": {
    "slideshow": {
     "slide_type": "-"
    },
    "tags": [
     "delete"
    ]
   },
   "outputs": [],
   "source": [
    "ax = top10.plot.scatter('sha', 'code');\n",
    "\n",
    "for k, v in top10.iterrows():\n",
    "    ax.annotate(k.split(\"/\")[-1], v)"
   ]
  },
  {
   "cell_type": "markdown",
   "metadata": {
    "slideshow": {
     "slide_type": "slide"
    }
   },
   "source": [
    "### Ende der Demo"
   ]
  },
  {
   "cell_type": "markdown",
   "metadata": {
    "slideshow": {
     "slide_type": "slide"
    }
   },
   "source": [
    "## Weitere Analysebeispiele\n",
    "\n",
    "* Analyse der CPU-Auslastung mit Hilfe von `vmstat`\n",
    "* Abhängigkeitsanalyse mit `jdeps` und `D3`\n",
    "* Analyse der Änderungskohäsion mit `Git`\n",
    "* Analyse der Community-Aktivitäten mittels Daten von `Stackoverflow`\n",
    "* Prüfung der Architektur-Governance-Vorgaben mit `jQAssistant`"
   ]
  },
  {
   "cell_type": "markdown",
   "metadata": {
    "slideshow": {
     "slide_type": "slide"
    }
   },
   "source": [
    "### Meine Empfehlungen zum Einstieg\n",
    "\n",
    "#### Meine TOP 5's*\n",
    "\n",
    "https://www.feststelltaste.de/category/top5/\n",
    "    \n",
    "Kurse, Videos, Blogs, Bücher und mehr...\n",
    "\n",
    "\n",
    "<small>**einige Seiten befinden sich noch in der Entwicklung*</small>"
   ]
  },
  {
   "cell_type": "markdown",
   "metadata": {
    "slideshow": {
     "slide_type": "slide"
    }
   },
   "source": [
    "### Meine Buchempfehlungen\n",
    "* Adam Tornhill: Software Design X-Ray \n",
    "* Wes McKinney: Python For Data Analysis\n",
    "* Jeff Leek: The Elements of Data Analytic Style\n",
    "* Tim Menzies, Laurie Williams, Thomas Zimmermann: Perspectives on Data Science for Software Engineering\n",
    "* Mini-Tutorial unter <small><code>https://github.com/feststelltaste/software-analytics-workshop</code></small>"
   ]
  },
  {
   "cell_type": "markdown",
   "metadata": {
    "slideshow": {
     "slide_type": "slide"
    }
   },
   "source": [
    "## Zusammenfassung\n",
    "**1.** <b>Software Analytics</b> mit Data-Science-Werkzeugen ist möglich  \n",
    "**2.** Wer mehr will bekommt auch <b>mehr</b>!  \n",
    "**3.** Es gibt unglaublich <b>viele Quellen</b> für Daten in der Softwareentwicklung  "
   ]
  },
  {
   "cell_type": "markdown",
   "metadata": {
    "slideshow": {
     "slide_type": "fragment"
    }
   },
   "source": [
    "<b>=> von der <strong>Frage</strong> über die <span class=\"green\">Daten</span> zur <span class=\"blue\" style=\"background-color: #FFFF00\">Erkenntnis</span>!</b>"
   ]
  },
  {
   "cell_type": "markdown",
   "metadata": {
    "slideshow": {
     "slide_type": "slide"
    }
   },
   "source": [
    "# Danke! Fragen?\n",
    "\n",
    "<b>Markus Harrer</b><br/>\n",
    "innoQ Deutschland GmbH\n",
    "  \n",
    "markus.harrer@innoq.com\n",
    "\n",
    "`@feststelltaste`"
   ]
  },
  {
   "cell_type": "markdown",
   "metadata": {
    "slideshow": {
     "slide_type": "slide"
    }
   },
   "source": [
    "# Weitere Ressourcen zum Workshop\n",
    "GitHub-Repository: https://git.io/Jelju\n",
    "\n",
    "Blog: https://feststelltaste.de"
   ]
  }
 ],
 "metadata": {
  "celltoolbar": "Slideshow",
  "kernelspec": {
   "display_name": "Python 3",
   "language": "python",
   "name": "python3"
  },
  "language_info": {
   "codemirror_mode": {
    "name": "ipython",
    "version": 3
   },
   "file_extension": ".py",
   "mimetype": "text/x-python",
   "name": "python",
   "nbconvert_exporter": "python",
   "pygments_lexer": "ipython3",
   "version": "3.6.4"
  },
  "rise": {
   "controls": false,
   "showSlideNumber": "speaker",
   "slideNumber ": "false",
   "transition": "none"
  }
 },
 "nbformat": 4,
 "nbformat_minor": 2
}
