{
 "cells": [
  {
   "cell_type": "markdown",
   "metadata": {
    "slideshow": {
     "slide_type": "slide"
    }
   },
   "source": [
    "# Analyzing the community activity for version control systems"
   ]
  },
  {
   "cell_type": "markdown",
   "metadata": {
    "slideshow": {
     "slide_type": "slide"
    }
   },
   "source": [
    "### Context\n",
    "* You are a new team member in a software company\n",
    "* The developers there are using CVS (Concurrent Versions System)\n",
    "* You propose Git as an alternative to the team. \n",
    "\n",
    "Find evidence that shows that the software development community is mainly adopting the Git version control system!"
   ]
  },
  {
   "cell_type": "markdown",
   "metadata": {
    "slideshow": {
     "slide_type": "slide"
    }
   },
   "source": [
    "### The Dataset\n",
    "\n",
    "There is a dataset Stack Overflow available with the following data:\n",
    "\n",
    "* `CreationDate`: the timestamp of the creation date of a Stack Overflow post (= question)\n",
    "* `TagName`: the tag name for a technology (in our case for only 4 VCSes: \"cvs\", \"svn\", \"git\" and \"mercurial\")\n",
    "* `ViewCount`: the numbers of views of a post"
   ]
  },
  {
   "cell_type": "markdown",
   "metadata": {
    "slideshow": {
     "slide_type": "slide"
    }
   },
   "source": [
    "These are the first 10 entries of this dataset:\n",
    "\n",
    "```\n",
    "CreationDate,TagName,ViewCount\n",
    "2008-08-01 13:56:33,svn,10880\n",
    "2008-08-01 14:41:24,svn,55075\n",
    "2008-08-01 15:22:29,svn,15144\n",
    "2008-08-01 18:00:13,svn,8010\n",
    "2008-08-01 18:33:08,svn,92006\n",
    "2008-08-01 23:29:32,svn,2444\n",
    "2008-08-03 22:38:29,svn,871830\n",
    "2008-08-03 22:38:29,git,871830\n",
    "2008-08-04 11:37:24,svn,17969\n",
    "```"
   ]
  },
  {
   "cell_type": "markdown",
   "metadata": {
    "slideshow": {
     "slide_type": "slide"
    }
   },
   "source": [
    "## Analysis"
   ]
  },
  {
   "cell_type": "markdown",
   "metadata": {
    "slideshow": {
     "slide_type": "slide"
    }
   },
   "source": [
    "### Step 1: Load in the dataset"
   ]
  },
  {
   "cell_type": "code",
   "execution_count": 1,
   "metadata": {
    "scrolled": true,
    "slideshow": {
     "slide_type": "-"
    },
    "tags": [
     "delete"
    ]
   },
   "outputs": [
    {
     "data": {
      "text/html": [
       "<div>\n",
       "<style scoped>\n",
       "    .dataframe tbody tr th:only-of-type {\n",
       "        vertical-align: middle;\n",
       "    }\n",
       "\n",
       "    .dataframe tbody tr th {\n",
       "        vertical-align: top;\n",
       "    }\n",
       "\n",
       "    .dataframe thead th {\n",
       "        text-align: right;\n",
       "    }\n",
       "</style>\n",
       "<table border=\"1\" class=\"dataframe\">\n",
       "  <thead>\n",
       "    <tr style=\"text-align: right;\">\n",
       "      <th></th>\n",
       "      <th>CreationDate</th>\n",
       "      <th>TagName</th>\n",
       "      <th>ViewCount</th>\n",
       "    </tr>\n",
       "  </thead>\n",
       "  <tbody>\n",
       "    <tr>\n",
       "      <th>0</th>\n",
       "      <td>2008-08-01 13:56:33</td>\n",
       "      <td>svn</td>\n",
       "      <td>10880</td>\n",
       "    </tr>\n",
       "    <tr>\n",
       "      <th>1</th>\n",
       "      <td>2008-08-01 14:41:24</td>\n",
       "      <td>svn</td>\n",
       "      <td>55075</td>\n",
       "    </tr>\n",
       "    <tr>\n",
       "      <th>2</th>\n",
       "      <td>2008-08-01 15:22:29</td>\n",
       "      <td>svn</td>\n",
       "      <td>15144</td>\n",
       "    </tr>\n",
       "    <tr>\n",
       "      <th>3</th>\n",
       "      <td>2008-08-01 18:00:13</td>\n",
       "      <td>svn</td>\n",
       "      <td>8010</td>\n",
       "    </tr>\n",
       "    <tr>\n",
       "      <th>4</th>\n",
       "      <td>2008-08-01 18:33:08</td>\n",
       "      <td>svn</td>\n",
       "      <td>92006</td>\n",
       "    </tr>\n",
       "  </tbody>\n",
       "</table>\n",
       "</div>"
      ],
      "text/plain": [
       "          CreationDate TagName  ViewCount\n",
       "0  2008-08-01 13:56:33     svn      10880\n",
       "1  2008-08-01 14:41:24     svn      55075\n",
       "2  2008-08-01 15:22:29     svn      15144\n",
       "3  2008-08-01 18:00:13     svn       8010\n",
       "4  2008-08-01 18:33:08     svn      92006"
      ]
     },
     "execution_count": 1,
     "metadata": {},
     "output_type": "execute_result"
    }
   ],
   "source": [
    "import pandas as pd\n",
    "\n",
    "vcs_data = pd.read_csv('../dataset/stackoverflow_vcs_data_subset.gz')\n",
    "vcs_data.head()"
   ]
  },
  {
   "cell_type": "markdown",
   "metadata": {
    "slideshow": {
     "slide_type": "slide"
    }
   },
   "source": [
    "### Step 2: Convert the `CreationDate` column to a real datetime datatype"
   ]
  },
  {
   "cell_type": "code",
   "execution_count": 2,
   "metadata": {
    "scrolled": true,
    "slideshow": {
     "slide_type": "-"
    },
    "tags": [
     "delete"
    ]
   },
   "outputs": [
    {
     "data": {
      "text/html": [
       "<div>\n",
       "<style scoped>\n",
       "    .dataframe tbody tr th:only-of-type {\n",
       "        vertical-align: middle;\n",
       "    }\n",
       "\n",
       "    .dataframe tbody tr th {\n",
       "        vertical-align: top;\n",
       "    }\n",
       "\n",
       "    .dataframe thead th {\n",
       "        text-align: right;\n",
       "    }\n",
       "</style>\n",
       "<table border=\"1\" class=\"dataframe\">\n",
       "  <thead>\n",
       "    <tr style=\"text-align: right;\">\n",
       "      <th></th>\n",
       "      <th>CreationDate</th>\n",
       "      <th>TagName</th>\n",
       "      <th>ViewCount</th>\n",
       "    </tr>\n",
       "  </thead>\n",
       "  <tbody>\n",
       "    <tr>\n",
       "      <th>0</th>\n",
       "      <td>2008-08-01 13:56:33</td>\n",
       "      <td>svn</td>\n",
       "      <td>10880</td>\n",
       "    </tr>\n",
       "    <tr>\n",
       "      <th>1</th>\n",
       "      <td>2008-08-01 14:41:24</td>\n",
       "      <td>svn</td>\n",
       "      <td>55075</td>\n",
       "    </tr>\n",
       "    <tr>\n",
       "      <th>2</th>\n",
       "      <td>2008-08-01 15:22:29</td>\n",
       "      <td>svn</td>\n",
       "      <td>15144</td>\n",
       "    </tr>\n",
       "    <tr>\n",
       "      <th>3</th>\n",
       "      <td>2008-08-01 18:00:13</td>\n",
       "      <td>svn</td>\n",
       "      <td>8010</td>\n",
       "    </tr>\n",
       "    <tr>\n",
       "      <th>4</th>\n",
       "      <td>2008-08-01 18:33:08</td>\n",
       "      <td>svn</td>\n",
       "      <td>92006</td>\n",
       "    </tr>\n",
       "  </tbody>\n",
       "</table>\n",
       "</div>"
      ],
      "text/plain": [
       "         CreationDate TagName  ViewCount\n",
       "0 2008-08-01 13:56:33     svn      10880\n",
       "1 2008-08-01 14:41:24     svn      55075\n",
       "2 2008-08-01 15:22:29     svn      15144\n",
       "3 2008-08-01 18:00:13     svn       8010\n",
       "4 2008-08-01 18:33:08     svn      92006"
      ]
     },
     "execution_count": 2,
     "metadata": {},
     "output_type": "execute_result"
    }
   ],
   "source": [
    "vcs_data['CreationDate'] = pd.to_datetime(vcs_data['CreationDate'])\n",
    "vcs_data.head()"
   ]
  },
  {
   "cell_type": "markdown",
   "metadata": {
    "slideshow": {
     "slide_type": "slide"
    }
   },
   "source": [
    "### Step 3: Sum up the number of views in `ViewCount` by the timestamp and the VCSes"
   ]
  },
  {
   "cell_type": "code",
   "execution_count": 3,
   "metadata": {
    "scrolled": true,
    "slideshow": {
     "slide_type": "-"
    },
    "tags": [
     "delete"
    ]
   },
   "outputs": [
    {
     "data": {
      "text/html": [
       "<div>\n",
       "<style scoped>\n",
       "    .dataframe tbody tr th:only-of-type {\n",
       "        vertical-align: middle;\n",
       "    }\n",
       "\n",
       "    .dataframe tbody tr th {\n",
       "        vertical-align: top;\n",
       "    }\n",
       "\n",
       "    .dataframe thead th {\n",
       "        text-align: right;\n",
       "    }\n",
       "</style>\n",
       "<table border=\"1\" class=\"dataframe\">\n",
       "  <thead>\n",
       "    <tr style=\"text-align: right;\">\n",
       "      <th></th>\n",
       "      <th></th>\n",
       "      <th>ViewCount</th>\n",
       "    </tr>\n",
       "    <tr>\n",
       "      <th>CreationDate</th>\n",
       "      <th>TagName</th>\n",
       "      <th></th>\n",
       "    </tr>\n",
       "  </thead>\n",
       "  <tbody>\n",
       "    <tr>\n",
       "      <th>2008-08-01 13:56:33</th>\n",
       "      <th>svn</th>\n",
       "      <td>10880</td>\n",
       "    </tr>\n",
       "    <tr>\n",
       "      <th>2008-08-01 14:41:24</th>\n",
       "      <th>svn</th>\n",
       "      <td>55075</td>\n",
       "    </tr>\n",
       "    <tr>\n",
       "      <th>2008-08-01 15:22:29</th>\n",
       "      <th>svn</th>\n",
       "      <td>15144</td>\n",
       "    </tr>\n",
       "    <tr>\n",
       "      <th>2008-08-01 18:00:13</th>\n",
       "      <th>svn</th>\n",
       "      <td>8010</td>\n",
       "    </tr>\n",
       "    <tr>\n",
       "      <th>2008-08-01 18:33:08</th>\n",
       "      <th>svn</th>\n",
       "      <td>92006</td>\n",
       "    </tr>\n",
       "  </tbody>\n",
       "</table>\n",
       "</div>"
      ],
      "text/plain": [
       "                             ViewCount\n",
       "CreationDate        TagName           \n",
       "2008-08-01 13:56:33 svn          10880\n",
       "2008-08-01 14:41:24 svn          55075\n",
       "2008-08-01 15:22:29 svn          15144\n",
       "2008-08-01 18:00:13 svn           8010\n",
       "2008-08-01 18:33:08 svn          92006"
      ]
     },
     "execution_count": 3,
     "metadata": {},
     "output_type": "execute_result"
    }
   ],
   "source": [
    "number_of_views = vcs_data.groupby(['CreationDate', 'TagName']).sum()\n",
    "number_of_views.head()"
   ]
  },
  {
   "cell_type": "markdown",
   "metadata": {
    "slideshow": {
     "slide_type": "slide"
    }
   },
   "source": [
    "### Step 4: List the number of views for each VCS in separate columns"
   ]
  },
  {
   "cell_type": "code",
   "execution_count": 4,
   "metadata": {
    "scrolled": true,
    "slideshow": {
     "slide_type": "-"
    },
    "tags": [
     "delete"
    ]
   },
   "outputs": [
    {
     "data": {
      "text/html": [
       "<div>\n",
       "<style scoped>\n",
       "    .dataframe tbody tr th:only-of-type {\n",
       "        vertical-align: middle;\n",
       "    }\n",
       "\n",
       "    .dataframe tbody tr th {\n",
       "        vertical-align: top;\n",
       "    }\n",
       "\n",
       "    .dataframe thead th {\n",
       "        text-align: right;\n",
       "    }\n",
       "</style>\n",
       "<table border=\"1\" class=\"dataframe\">\n",
       "  <thead>\n",
       "    <tr style=\"text-align: right;\">\n",
       "      <th>TagName</th>\n",
       "      <th>cvs</th>\n",
       "      <th>git</th>\n",
       "      <th>mercurial</th>\n",
       "      <th>svn</th>\n",
       "    </tr>\n",
       "    <tr>\n",
       "      <th>CreationDate</th>\n",
       "      <th></th>\n",
       "      <th></th>\n",
       "      <th></th>\n",
       "      <th></th>\n",
       "    </tr>\n",
       "  </thead>\n",
       "  <tbody>\n",
       "    <tr>\n",
       "      <th>2008-08-01 13:56:33</th>\n",
       "      <td>NaN</td>\n",
       "      <td>NaN</td>\n",
       "      <td>NaN</td>\n",
       "      <td>10880.0</td>\n",
       "    </tr>\n",
       "    <tr>\n",
       "      <th>2008-08-01 14:41:24</th>\n",
       "      <td>NaN</td>\n",
       "      <td>NaN</td>\n",
       "      <td>NaN</td>\n",
       "      <td>55075.0</td>\n",
       "    </tr>\n",
       "    <tr>\n",
       "      <th>2008-08-01 15:22:29</th>\n",
       "      <td>NaN</td>\n",
       "      <td>NaN</td>\n",
       "      <td>NaN</td>\n",
       "      <td>15144.0</td>\n",
       "    </tr>\n",
       "    <tr>\n",
       "      <th>2008-08-01 18:00:13</th>\n",
       "      <td>NaN</td>\n",
       "      <td>NaN</td>\n",
       "      <td>NaN</td>\n",
       "      <td>8010.0</td>\n",
       "    </tr>\n",
       "    <tr>\n",
       "      <th>2008-08-01 18:33:08</th>\n",
       "      <td>NaN</td>\n",
       "      <td>NaN</td>\n",
       "      <td>NaN</td>\n",
       "      <td>92006.0</td>\n",
       "    </tr>\n",
       "  </tbody>\n",
       "</table>\n",
       "</div>"
      ],
      "text/plain": [
       "TagName              cvs  git  mercurial      svn\n",
       "CreationDate                                     \n",
       "2008-08-01 13:56:33  NaN  NaN        NaN  10880.0\n",
       "2008-08-01 14:41:24  NaN  NaN        NaN  55075.0\n",
       "2008-08-01 15:22:29  NaN  NaN        NaN  15144.0\n",
       "2008-08-01 18:00:13  NaN  NaN        NaN   8010.0\n",
       "2008-08-01 18:33:08  NaN  NaN        NaN  92006.0"
      ]
     },
     "execution_count": 4,
     "metadata": {},
     "output_type": "execute_result"
    }
   ],
   "source": [
    "views_per_vcs = number_of_views.unstack()['ViewCount']\n",
    "views_per_vcs.head()"
   ]
  },
  {
   "cell_type": "markdown",
   "metadata": {
    "slideshow": {
     "slide_type": "slide"
    }
   },
   "source": [
    "### Step 5: Accumulate the number of views for the VCSes for every month"
   ]
  },
  {
   "cell_type": "code",
   "execution_count": 5,
   "metadata": {
    "scrolled": true,
    "slideshow": {
     "slide_type": "-"
    },
    "tags": [
     "delete"
    ]
   },
   "outputs": [
    {
     "data": {
      "text/html": [
       "<div>\n",
       "<style scoped>\n",
       "    .dataframe tbody tr th:only-of-type {\n",
       "        vertical-align: middle;\n",
       "    }\n",
       "\n",
       "    .dataframe tbody tr th {\n",
       "        vertical-align: top;\n",
       "    }\n",
       "\n",
       "    .dataframe thead th {\n",
       "        text-align: right;\n",
       "    }\n",
       "</style>\n",
       "<table border=\"1\" class=\"dataframe\">\n",
       "  <thead>\n",
       "    <tr style=\"text-align: right;\">\n",
       "      <th>TagName</th>\n",
       "      <th>cvs</th>\n",
       "      <th>git</th>\n",
       "      <th>mercurial</th>\n",
       "      <th>svn</th>\n",
       "    </tr>\n",
       "    <tr>\n",
       "      <th>CreationDate</th>\n",
       "      <th></th>\n",
       "      <th></th>\n",
       "      <th></th>\n",
       "      <th></th>\n",
       "    </tr>\n",
       "  </thead>\n",
       "  <tbody>\n",
       "    <tr>\n",
       "      <th>2008-08-31</th>\n",
       "      <td>165811.0</td>\n",
       "      <td>2502424.0</td>\n",
       "      <td>755846.0</td>\n",
       "      <td>3488439.0</td>\n",
       "    </tr>\n",
       "    <tr>\n",
       "      <th>2008-09-30</th>\n",
       "      <td>428713.0</td>\n",
       "      <td>15224415.0</td>\n",
       "      <td>891127.0</td>\n",
       "      <td>11405500.0</td>\n",
       "    </tr>\n",
       "    <tr>\n",
       "      <th>2008-10-31</th>\n",
       "      <td>637236.0</td>\n",
       "      <td>25672697.0</td>\n",
       "      <td>1114432.0</td>\n",
       "      <td>14295198.0</td>\n",
       "    </tr>\n",
       "    <tr>\n",
       "      <th>2008-11-30</th>\n",
       "      <td>752735.0</td>\n",
       "      <td>32492475.0</td>\n",
       "      <td>1184003.0</td>\n",
       "      <td>15848089.0</td>\n",
       "    </tr>\n",
       "    <tr>\n",
       "      <th>2008-12-31</th>\n",
       "      <td>878710.0</td>\n",
       "      <td>37829614.0</td>\n",
       "      <td>1222065.0</td>\n",
       "      <td>18256764.0</td>\n",
       "    </tr>\n",
       "  </tbody>\n",
       "</table>\n",
       "</div>"
      ],
      "text/plain": [
       "TagName            cvs         git  mercurial         svn\n",
       "CreationDate                                             \n",
       "2008-08-31    165811.0   2502424.0   755846.0   3488439.0\n",
       "2008-09-30    428713.0  15224415.0   891127.0  11405500.0\n",
       "2008-10-31    637236.0  25672697.0  1114432.0  14295198.0\n",
       "2008-11-30    752735.0  32492475.0  1184003.0  15848089.0\n",
       "2008-12-31    878710.0  37829614.0  1222065.0  18256764.0"
      ]
     },
     "execution_count": 5,
     "metadata": {},
     "output_type": "execute_result"
    }
   ],
   "source": [
    "monythly_views = views_per_vcs.resample(\"1M\").sum().cumsum()\n",
    "monythly_views.head()"
   ]
  },
  {
   "cell_type": "markdown",
   "metadata": {
    "slideshow": {
     "slide_type": "slide"
    }
   },
   "source": [
    "### Step 6: Visualize the monthly views over time for all VCSes"
   ]
  },
  {
   "cell_type": "code",
   "execution_count": 6,
   "metadata": {
    "slideshow": {
     "slide_type": "-"
    },
    "tags": [
     "delete"
    ]
   },
   "outputs": [
    {
     "data": {
      "image/png": "[encoded data removed]",
      "text/plain": [
       "<Figure size 432x288 with 1 Axes>"
      ]
     },
     "metadata": {
      "image/png": {
       "height": 277,
       "width": 364
      },
      "needs_background": "light"
     },
     "output_type": "display_data"
    }
   ],
   "source": [
    "%matplotlib inline\n",
    "monythly_views.plot(title=\"monthly stackoverflow post views\");"
   ]
  },
  {
   "cell_type": "markdown",
   "metadata": {
    "slideshow": {
     "slide_type": "slide"
    }
   },
   "source": [
    "## Discussion\n",
    "\n",
    "What are your conclusions? Discuss!"
   ]
  }
 ],
 "metadata": {
  "celltoolbar": "Slideshow",
  "kernelspec": {
   "display_name": "Python 3",
   "language": "python",
   "name": "python3"
  },
  "language_info": {
   "codemirror_mode": {
    "name": "ipython",
    "version": 3
   },
   "file_extension": ".py",
   "mimetype": "text/x-python",
   "name": "python",
   "nbconvert_exporter": "python",
   "pygments_lexer": "ipython3",
   "version": "3.6.4"
  }
 },
 "nbformat": 4,
 "nbformat_minor": 2
}
