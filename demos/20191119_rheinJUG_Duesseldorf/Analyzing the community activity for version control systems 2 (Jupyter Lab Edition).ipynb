{
 "cells": [
  {
   "cell_type": "markdown",
   "metadata": {},
   "source": [
    "# Analyzing the community activity for version control systems"
   ]
  },
  {
   "cell_type": "markdown",
   "metadata": {},
   "source": [
    "## Context\n",
    "\n",
    "Welcome to the Jupyter Lab exercise where you execute your first data analysis of software data in a Data Science way!\n",
    "\n",
    "## Exercise\n",
    "\n",
    "### Background\n",
    "\n",
    "Technology choices are different. There may be objective reasons for technology at a specific time. But those reasons often change over time. But the developed deep love for an now outdated technology can prevent every progress. Thus objective reasons may become subjective which can create a toxic environment when technology updates are addressed.\n",
    "\n",
    "### Your task\n",
    "\n",
    "You are a new team member in a software company. The developers there are using a version control system (\"VCS\" for short) called CVS (Concurrent Versions System). Some want to migrate to a better VCS. They prefer one that's called SVN (Subversion). You are young but not inexperienced. You heard about newer version control system named \"Git\". So you propose Git as an alternative to the team. They are very sceptical about your suggestion. Find evidence that shows that the software development community is mainly adopting the Git version control system!\n",
    "\n",
    "\n",
    "### The Dataset\n",
    "\n",
    "There is a dataset from the online software developer community Stack Overflow in `../datasets/stackoverflow_vcs_data_subset.gz` available with the following data:\n",
    "\n",
    "* `CreationDate`: the timestamp of the creation date of a Stack Overflow post (= question)\n",
    "* `TagName`: the tag name for a technology (in our case for only 4 VCSes: \"cvs\", \"svn\", \"git\" and \"mercurial\")\n",
    "* `ViewCount`: the numbers of views of a post\n",
    "\n",
    "These are the first 10 entries of this dataset:\n",
    "\n",
    "```\n",
    "CreationDate,TagName,ViewCount\n",
    "2008-08-01 13:56:33,svn,10880\n",
    "2008-08-01 14:41:24,svn,55075\n",
    "2008-08-01 15:22:29,svn,15144\n",
    "2008-08-01 18:00:13,svn,8010\n",
    "2008-08-01 18:33:08,svn,92006\n",
    "2008-08-01 23:29:32,svn,2444\n",
    "2008-08-03 22:38:29,svn,871830\n",
    "2008-08-03 22:38:29,git,871830\n",
    "2008-08-04 11:37:24,svn,17969\n",
    "```\n"
   ]
  },
  {
   "cell_type": "markdown",
   "metadata": {},
   "source": [
    "## Code Snippets\n",
    "\n",
    "Move the following code blocks with your mouse below the appropriate steps. For this, click on the left area beneath the code block for drag and drop:\n",
    "\n",
    "<img src=\"../resources/jupyter_lab_drag_n_drop.gif\" style=\"width:30%;\"/>\n",
    "\n",
    "<br/>"
   ]
  },
  {
   "cell_type": "code",
   "execution_count": null,
   "metadata": {
    "scrolled": true,
    "tags": [
     "delete"
    ]
   },
   "outputs": [],
   "source": [
    "number_of_views = vcs_data.groupby(['CreationDate', 'TagName']).sum()\n",
    "number_of_views.head()"
   ]
  },
  {
   "cell_type": "code",
   "execution_count": null,
   "metadata": {
    "tags": [
     "delete"
    ]
   },
   "outputs": [],
   "source": [
    "%matplotlib inline\n",
    "monythly_views.plot(title=\"monthly stackoverflow post views\");"
   ]
  },
  {
   "cell_type": "code",
   "execution_count": null,
   "metadata": {
    "scrolled": true,
    "tags": [
     "delete"
    ]
   },
   "outputs": [],
   "source": [
    "vcs_data['CreationDate'] = pd.to_datetime(vcs_data['CreationDate'])\n",
    "vcs_data.head()"
   ]
  },
  {
   "cell_type": "code",
   "execution_count": null,
   "metadata": {
    "scrolled": true,
    "tags": [
     "delete"
    ]
   },
   "outputs": [],
   "source": [
    "import pandas as pd\n",
    "\n",
    "vcs_data = pd.read_csv('../datasets/stackoverflow_vcs_data_subset.gz')\n",
    "vcs_data.head()"
   ]
  },
  {
   "cell_type": "code",
   "execution_count": null,
   "metadata": {
    "scrolled": true,
    "tags": [
     "delete"
    ]
   },
   "outputs": [],
   "source": [
    "views_per_vcs = number_of_views.unstack()['ViewCount']\n",
    "views_per_vcs.head()"
   ]
  },
  {
   "cell_type": "code",
   "execution_count": null,
   "metadata": {
    "scrolled": true,
    "tags": [
     "delete"
    ]
   },
   "outputs": [],
   "source": [
    "monythly_views = views_per_vcs.resample(\"1M\").sum().cumsum()\n",
    "monythly_views.head()"
   ]
  },
  {
   "cell_type": "markdown",
   "metadata": {},
   "source": [
    "## Your solution"
   ]
  },
  {
   "cell_type": "markdown",
   "metadata": {},
   "source": [
    "### Step 1: Load in the dataset"
   ]
  },
  {
   "cell_type": "markdown",
   "metadata": {},
   "source": [
    "### Step 2: Convert the `CreationDate` column to a real datetime datatype"
   ]
  },
  {
   "cell_type": "markdown",
   "metadata": {},
   "source": [
    "### Step 3: Sum up the number of views in `ViewCount` by the timestamp and the VCSes"
   ]
  },
  {
   "cell_type": "markdown",
   "metadata": {},
   "source": [
    "### Step 4: List the number of views for each VCS in separate columns"
   ]
  },
  {
   "cell_type": "markdown",
   "metadata": {},
   "source": [
    "### Step 5: Accumulate the number of views for the VCSes for every month"
   ]
  },
  {
   "cell_type": "markdown",
   "metadata": {},
   "source": [
    "### Step 6: Visualize the monthly views over time for all VCSes"
   ]
  },
  {
   "cell_type": "markdown",
   "metadata": {},
   "source": [
    "## Execution\n",
    "\n",
    "You can execute single code blocks by clicking in them and pressing `Strg` + `Enter`.\n",
    "\n",
    "To execute all cells, select \"Run\" and \"Run All Cells\" in the menu bar in the upper left. "
   ]
  },
  {
   "cell_type": "markdown",
   "metadata": {},
   "source": [
    "## Discussion\n",
    "\n",
    "What are your conclusions? Discuss!"
   ]
  }
 ],
 "metadata": {
  "kernelspec": {
   "display_name": "Python 3",
   "language": "python",
   "name": "python3"
  },
  "language_info": {
   "codemirror_mode": {
    "name": "ipython",
    "version": 3
   },
   "file_extension": ".py",
   "mimetype": "text/x-python",
   "name": "python",
   "nbconvert_exporter": "python",
   "pygments_lexer": "ipython3",
   "version": "3.6.4"
  }
 },
 "nbformat": 4,
 "nbformat_minor": 2
}
