{
 "cells": [
  {
   "cell_type": "markdown",
   "metadata": {
    "slideshow": {
     "slide_type": "slide"
    }
   },
   "source": [
    "# Analyse der Webanwendung  \"PetClinic\"  \n",
    "   \n",
    "   \n",
    "\n",
    "## _Priorisierung von Umbauarbeiten nach Nutzungsgrad_\n"
   ]
  },
  {
   "cell_type": "markdown",
   "metadata": {
    "slideshow": {
     "slide_type": "skip"
    }
   },
   "source": [
    "## Einlesen der Nutzungsstatistiken"
   ]
  },
  {
   "cell_type": "code",
   "execution_count": 1,
   "metadata": {
    "slideshow": {
     "slide_type": "skip"
    }
   },
   "outputs": [
    {
     "data": {
      "text/html": [
       "<div>\n",
       "<style scoped>\n",
       "    .dataframe tbody tr th:only-of-type {\n",
       "        vertical-align: middle;\n",
       "    }\n",
       "\n",
       "    .dataframe tbody tr th {\n",
       "        vertical-align: top;\n",
       "    }\n",
       "\n",
       "    .dataframe thead th {\n",
       "        text-align: right;\n",
       "    }\n",
       "</style>\n",
       "<table border=\"1\" class=\"dataframe\">\n",
       "  <thead>\n",
       "    <tr style=\"text-align: right;\">\n",
       "      <th></th>\n",
       "      <th>PACKAGE</th>\n",
       "      <th>CLASS</th>\n",
       "      <th>LINE_COVERED</th>\n",
       "      <th>LINE_MISSED</th>\n",
       "    </tr>\n",
       "  </thead>\n",
       "  <tbody>\n",
       "    <tr>\n",
       "      <th>0</th>\n",
       "      <td>org.springframework.samples.petclinic</td>\n",
       "      <td>PetclinicInitializer</td>\n",
       "      <td>24</td>\n",
       "      <td>0</td>\n",
       "    </tr>\n",
       "    <tr>\n",
       "      <th>1</th>\n",
       "      <td>org.springframework.samples.petclinic.model</td>\n",
       "      <td>NamedEntity</td>\n",
       "      <td>4</td>\n",
       "      <td>1</td>\n",
       "    </tr>\n",
       "    <tr>\n",
       "      <th>2</th>\n",
       "      <td>org.springframework.samples.petclinic.model</td>\n",
       "      <td>Specialty</td>\n",
       "      <td>1</td>\n",
       "      <td>0</td>\n",
       "    </tr>\n",
       "    <tr>\n",
       "      <th>3</th>\n",
       "      <td>org.springframework.samples.petclinic.model</td>\n",
       "      <td>PetType</td>\n",
       "      <td>1</td>\n",
       "      <td>0</td>\n",
       "    </tr>\n",
       "    <tr>\n",
       "      <th>4</th>\n",
       "      <td>org.springframework.samples.petclinic.model</td>\n",
       "      <td>Vets</td>\n",
       "      <td>0</td>\n",
       "      <td>4</td>\n",
       "    </tr>\n",
       "  </tbody>\n",
       "</table>\n",
       "</div>"
      ],
      "text/plain": [
       "                                       PACKAGE                 CLASS  \\\n",
       "0        org.springframework.samples.petclinic  PetclinicInitializer   \n",
       "1  org.springframework.samples.petclinic.model           NamedEntity   \n",
       "2  org.springframework.samples.petclinic.model             Specialty   \n",
       "3  org.springframework.samples.petclinic.model               PetType   \n",
       "4  org.springframework.samples.petclinic.model                  Vets   \n",
       "\n",
       "   LINE_COVERED  LINE_MISSED  \n",
       "0            24            0  \n",
       "1             4            1  \n",
       "2             1            0  \n",
       "3             1            0  \n",
       "4             0            4  "
      ]
     },
     "execution_count": 1,
     "metadata": {},
     "output_type": "execute_result"
    }
   ],
   "source": [
    "import pandas as pd\n",
    "\n",
    "coverage = pd.read_csv(\"../dataset/jacoco.csv\")\n",
    "coverage = coverage[\n",
    "                ['PACKAGE',\n",
    "                 'CLASS',\n",
    "                 'LINE_COVERED',\n",
    "                 'LINE_MISSED']]\n",
    "coverage.head()"
   ]
  },
  {
   "cell_type": "markdown",
   "metadata": {
    "slideshow": {
     "slide_type": "skip"
    }
   },
   "source": [
    "### Berechnung zusätzlicher Messwerte und Schlüssel"
   ]
  },
  {
   "cell_type": "code",
   "execution_count": 2,
   "metadata": {
    "slideshow": {
     "slide_type": "skip"
    }
   },
   "outputs": [
    {
     "data": {
      "text/html": [
       "<div>\n",
       "<style scoped>\n",
       "    .dataframe tbody tr th:only-of-type {\n",
       "        vertical-align: middle;\n",
       "    }\n",
       "\n",
       "    .dataframe tbody tr th {\n",
       "        vertical-align: top;\n",
       "    }\n",
       "\n",
       "    .dataframe thead th {\n",
       "        text-align: right;\n",
       "    }\n",
       "</style>\n",
       "<table border=\"1\" class=\"dataframe\">\n",
       "  <thead>\n",
       "    <tr style=\"text-align: right;\">\n",
       "      <th></th>\n",
       "      <th>fqn</th>\n",
       "      <th>ratio</th>\n",
       "    </tr>\n",
       "  </thead>\n",
       "  <tbody>\n",
       "    <tr>\n",
       "      <th>0</th>\n",
       "      <td>org.springframework.samples.petclinic.Petclini...</td>\n",
       "      <td>1.0</td>\n",
       "    </tr>\n",
       "    <tr>\n",
       "      <th>1</th>\n",
       "      <td>org.springframework.samples.petclinic.model.Na...</td>\n",
       "      <td>0.8</td>\n",
       "    </tr>\n",
       "    <tr>\n",
       "      <th>2</th>\n",
       "      <td>org.springframework.samples.petclinic.model.Sp...</td>\n",
       "      <td>1.0</td>\n",
       "    </tr>\n",
       "    <tr>\n",
       "      <th>3</th>\n",
       "      <td>org.springframework.samples.petclinic.model.Pe...</td>\n",
       "      <td>1.0</td>\n",
       "    </tr>\n",
       "    <tr>\n",
       "      <th>4</th>\n",
       "      <td>org.springframework.samples.petclinic.model.Vets</td>\n",
       "      <td>0.0</td>\n",
       "    </tr>\n",
       "  </tbody>\n",
       "</table>\n",
       "</div>"
      ],
      "text/plain": [
       "                                                 fqn  ratio\n",
       "0  org.springframework.samples.petclinic.Petclini...    1.0\n",
       "1  org.springframework.samples.petclinic.model.Na...    0.8\n",
       "2  org.springframework.samples.petclinic.model.Sp...    1.0\n",
       "3  org.springframework.samples.petclinic.model.Pe...    1.0\n",
       "4   org.springframework.samples.petclinic.model.Vets    0.0"
      ]
     },
     "execution_count": 2,
     "metadata": {},
     "output_type": "execute_result"
    }
   ],
   "source": [
    "coverage['lines'] = coverage.LINE_COVERED + coverage.LINE_MISSED\n",
    "coverage['ratio'] = coverage.LINE_COVERED / coverage.lines\n",
    "coverage['fqn'] = coverage.PACKAGE + \".\" + coverage.CLASS\n",
    "coverage[['fqn', 'ratio']].head()"
   ]
  },
  {
   "cell_type": "markdown",
   "metadata": {
    "slideshow": {
     "slide_type": "skip"
    }
   },
   "source": [
    "### Laden der Daten in die Graphdatenbank"
   ]
  },
  {
   "cell_type": "code",
   "execution_count": 3,
   "metadata": {
    "slideshow": {
     "slide_type": "skip"
    }
   },
   "outputs": [
    {
     "data": {
      "text/html": [
       "<div>\n",
       "<style scoped>\n",
       "    .dataframe tbody tr th:only-of-type {\n",
       "        vertical-align: middle;\n",
       "    }\n",
       "\n",
       "    .dataframe tbody tr th {\n",
       "        vertical-align: top;\n",
       "    }\n",
       "\n",
       "    .dataframe thead th {\n",
       "        text-align: right;\n",
       "    }\n",
       "</style>\n",
       "<table border=\"1\" class=\"dataframe\">\n",
       "  <thead>\n",
       "    <tr style=\"text-align: right;\">\n",
       "      <th></th>\n",
       "      <th>fqn</th>\n",
       "      <th>ratio</th>\n",
       "    </tr>\n",
       "  </thead>\n",
       "  <tbody>\n",
       "    <tr>\n",
       "      <th>0</th>\n",
       "      <td>org.springframework.samples.petclinic.Petclini...</td>\n",
       "      <td>1.0</td>\n",
       "    </tr>\n",
       "    <tr>\n",
       "      <th>1</th>\n",
       "      <td>org.springframework.samples.petclinic.model.Na...</td>\n",
       "      <td>0.8</td>\n",
       "    </tr>\n",
       "    <tr>\n",
       "      <th>2</th>\n",
       "      <td>org.springframework.samples.petclinic.model.Sp...</td>\n",
       "      <td>1.0</td>\n",
       "    </tr>\n",
       "    <tr>\n",
       "      <th>3</th>\n",
       "      <td>org.springframework.samples.petclinic.model.Pe...</td>\n",
       "      <td>1.0</td>\n",
       "    </tr>\n",
       "    <tr>\n",
       "      <th>4</th>\n",
       "      <td>org.springframework.samples.petclinic.model.Vets</td>\n",
       "      <td>0.0</td>\n",
       "    </tr>\n",
       "  </tbody>\n",
       "</table>\n",
       "</div>"
      ],
      "text/plain": [
       "                                                 fqn  ratio\n",
       "0  org.springframework.samples.petclinic.Petclini...    1.0\n",
       "1  org.springframework.samples.petclinic.model.Na...    0.8\n",
       "2  org.springframework.samples.petclinic.model.Sp...    1.0\n",
       "3  org.springframework.samples.petclinic.model.Pe...    1.0\n",
       "4   org.springframework.samples.petclinic.model.Vets    0.0"
      ]
     },
     "execution_count": 3,
     "metadata": {},
     "output_type": "execute_result"
    }
   ],
   "source": [
    "import py2neo\n",
    "graph = py2neo.Graph()\n",
    "\n",
    "query=\"\"\"\n",
    "    UNWIND {coverage_data} as coverage\n",
    "    MATCH (t:Type {fqn : coverage.fqn})\n",
    "    MERGE (t)-[:HAS_MEASURE]->(m)\n",
    "    SET \n",
    "        m:Measure:Coverage, \n",
    "        m.ratio = coverage.ratio\n",
    "    RETURN t.fqn as fqn, m.ratio as ratio\n",
    "\"\"\"\n",
    "coverage_dict = coverage.to_dict(orient='records')\n",
    "result = graph.run(query, coverage_data=coverage_dict).data()\n",
    "pd.DataFrame(result).head()"
   ]
  },
  {
   "cell_type": "markdown",
   "metadata": {
    "slideshow": {
     "slide_type": "slide"
    }
   },
   "source": [
    "## Aggregation der Messwerte nach Subdomänen"
   ]
  },
  {
   "cell_type": "code",
   "execution_count": 4,
   "metadata": {
    "slideshow": {
     "slide_type": "-"
    }
   },
   "outputs": [],
   "source": [
    "query = \"\"\"\n",
    "MATCH \n",
    "  (t:Type)-[:BELONGS_TO]->(s:Subdomain),\n",
    "  (t)-[:HAS_CHANGE]->(ch:Change),\n",
    "  (t)-[:HAS_MEASURE]->(co:Coverage)\n",
    "OPTIONAL MATCH\n",
    "  (t)-[:HAS_BUG]->(b:BugInstance)\n",
    "RETURN \n",
    "  s.name as ASubdomain,\n",
    "  COUNT(DISTINCT t) as Types,\n",
    "  COUNT(DISTINCT ch) as Changes,\n",
    "  AVG(co.ratio) as Coverage,\n",
    "  COUNT(DISTINCT b) as Bugs,\n",
    "  SUM(DISTINCT t.lastMethodLineNumber) as Lines\n",
    "ORDER BY Coverage ASC, Bugs DESC\n",
    "\"\"\""
   ]
  },
  {
   "cell_type": "markdown",
   "metadata": {
    "slideshow": {
     "slide_type": "subslide"
    }
   },
   "source": [
    "### Ergebnisse nach Subdomänen"
   ]
  },
  {
   "cell_type": "code",
   "execution_count": 5,
   "metadata": {
    "slideshow": {
     "slide_type": "-"
    }
   },
   "outputs": [
    {
     "data": {
      "text/html": [
       "<div>\n",
       "<style scoped>\n",
       "    .dataframe tbody tr th:only-of-type {\n",
       "        vertical-align: middle;\n",
       "    }\n",
       "\n",
       "    .dataframe tbody tr th {\n",
       "        vertical-align: top;\n",
       "    }\n",
       "\n",
       "    .dataframe thead th {\n",
       "        text-align: right;\n",
       "    }\n",
       "</style>\n",
       "<table border=\"1\" class=\"dataframe\">\n",
       "  <thead>\n",
       "    <tr style=\"text-align: right;\">\n",
       "      <th></th>\n",
       "      <th>ASubdomain</th>\n",
       "      <th>Bugs</th>\n",
       "      <th>Changes</th>\n",
       "      <th>Coverage</th>\n",
       "      <th>Lines</th>\n",
       "      <th>Types</th>\n",
       "    </tr>\n",
       "  </thead>\n",
       "  <tbody>\n",
       "    <tr>\n",
       "      <th>0</th>\n",
       "      <td>Vet</td>\n",
       "      <td>0</td>\n",
       "      <td>75</td>\n",
       "      <td>0.170000</td>\n",
       "      <td>313</td>\n",
       "      <td>5</td>\n",
       "    </tr>\n",
       "    <tr>\n",
       "      <th>1</th>\n",
       "      <td>Visit</td>\n",
       "      <td>0</td>\n",
       "      <td>90</td>\n",
       "      <td>0.368056</td>\n",
       "      <td>472</td>\n",
       "      <td>6</td>\n",
       "    </tr>\n",
       "    <tr>\n",
       "      <th>2</th>\n",
       "      <td>Pet</td>\n",
       "      <td>1</td>\n",
       "      <td>169</td>\n",
       "      <td>0.490187</td>\n",
       "      <td>746</td>\n",
       "      <td>11</td>\n",
       "    </tr>\n",
       "    <tr>\n",
       "      <th>3</th>\n",
       "      <td>Owner</td>\n",
       "      <td>4</td>\n",
       "      <td>95</td>\n",
       "      <td>0.534867</td>\n",
       "      <td>532</td>\n",
       "      <td>4</td>\n",
       "    </tr>\n",
       "    <tr>\n",
       "      <th>4</th>\n",
       "      <td>crossfunctional</td>\n",
       "      <td>2</td>\n",
       "      <td>57</td>\n",
       "      <td>0.569953</td>\n",
       "      <td>268</td>\n",
       "      <td>5</td>\n",
       "    </tr>\n",
       "    <tr>\n",
       "      <th>5</th>\n",
       "      <td>Clinic</td>\n",
       "      <td>0</td>\n",
       "      <td>26</td>\n",
       "      <td>0.888889</td>\n",
       "      <td>110</td>\n",
       "      <td>1</td>\n",
       "    </tr>\n",
       "    <tr>\n",
       "      <th>6</th>\n",
       "      <td>Person</td>\n",
       "      <td>0</td>\n",
       "      <td>5</td>\n",
       "      <td>1.000000</td>\n",
       "      <td>53</td>\n",
       "      <td>1</td>\n",
       "    </tr>\n",
       "    <tr>\n",
       "      <th>7</th>\n",
       "      <td>Specialty</td>\n",
       "      <td>0</td>\n",
       "      <td>5</td>\n",
       "      <td>1.000000</td>\n",
       "      <td>28</td>\n",
       "      <td>1</td>\n",
       "    </tr>\n",
       "  </tbody>\n",
       "</table>\n",
       "</div>"
      ],
      "text/plain": [
       "        ASubdomain  Bugs  Changes  Coverage  Lines  Types\n",
       "0              Vet     0       75  0.170000    313      5\n",
       "1            Visit     0       90  0.368056    472      6\n",
       "2              Pet     1      169  0.490187    746     11\n",
       "3            Owner     4       95  0.534867    532      4\n",
       "4  crossfunctional     2       57  0.569953    268      5\n",
       "5           Clinic     0       26  0.888889    110      1\n",
       "6           Person     0        5  1.000000     53      1\n",
       "7        Specialty     0        5  1.000000     28      1"
      ]
     },
     "execution_count": 5,
     "metadata": {},
     "output_type": "execute_result"
    }
   ],
   "source": [
    "result = pd.DataFrame(graph.data(query))\n",
    "result"
   ]
  },
  {
   "cell_type": "markdown",
   "metadata": {
    "slideshow": {
     "slide_type": "subslide"
    }
   },
   "source": [
    "### Umbenennung nach geläufigen Begriffen"
   ]
  },
  {
   "cell_type": "code",
   "execution_count": 6,
   "metadata": {
    "slideshow": {
     "slide_type": "-"
    }
   },
   "outputs": [
    {
     "data": {
      "text/html": [
       "<div>\n",
       "<style scoped>\n",
       "    .dataframe tbody tr th:only-of-type {\n",
       "        vertical-align: middle;\n",
       "    }\n",
       "\n",
       "    .dataframe tbody tr th {\n",
       "        vertical-align: top;\n",
       "    }\n",
       "\n",
       "    .dataframe thead th {\n",
       "        text-align: right;\n",
       "    }\n",
       "</style>\n",
       "<table border=\"1\" class=\"dataframe\">\n",
       "  <thead>\n",
       "    <tr style=\"text-align: right;\">\n",
       "      <th></th>\n",
       "      <th>ASubdomain</th>\n",
       "      <th>Bugs</th>\n",
       "      <th>Investment</th>\n",
       "      <th>Utilization</th>\n",
       "      <th>Size</th>\n",
       "      <th>Types</th>\n",
       "    </tr>\n",
       "  </thead>\n",
       "  <tbody>\n",
       "    <tr>\n",
       "      <th>0</th>\n",
       "      <td>Vet</td>\n",
       "      <td>0</td>\n",
       "      <td>75</td>\n",
       "      <td>0.170000</td>\n",
       "      <td>313</td>\n",
       "      <td>5</td>\n",
       "    </tr>\n",
       "    <tr>\n",
       "      <th>1</th>\n",
       "      <td>Visit</td>\n",
       "      <td>0</td>\n",
       "      <td>90</td>\n",
       "      <td>0.368056</td>\n",
       "      <td>472</td>\n",
       "      <td>6</td>\n",
       "    </tr>\n",
       "    <tr>\n",
       "      <th>2</th>\n",
       "      <td>Pet</td>\n",
       "      <td>1</td>\n",
       "      <td>169</td>\n",
       "      <td>0.490187</td>\n",
       "      <td>746</td>\n",
       "      <td>11</td>\n",
       "    </tr>\n",
       "    <tr>\n",
       "      <th>3</th>\n",
       "      <td>Owner</td>\n",
       "      <td>4</td>\n",
       "      <td>95</td>\n",
       "      <td>0.534867</td>\n",
       "      <td>532</td>\n",
       "      <td>4</td>\n",
       "    </tr>\n",
       "    <tr>\n",
       "      <th>4</th>\n",
       "      <td>crossfunctional</td>\n",
       "      <td>2</td>\n",
       "      <td>57</td>\n",
       "      <td>0.569953</td>\n",
       "      <td>268</td>\n",
       "      <td>5</td>\n",
       "    </tr>\n",
       "    <tr>\n",
       "      <th>5</th>\n",
       "      <td>Clinic</td>\n",
       "      <td>0</td>\n",
       "      <td>26</td>\n",
       "      <td>0.888889</td>\n",
       "      <td>110</td>\n",
       "      <td>1</td>\n",
       "    </tr>\n",
       "    <tr>\n",
       "      <th>6</th>\n",
       "      <td>Person</td>\n",
       "      <td>0</td>\n",
       "      <td>5</td>\n",
       "      <td>1.000000</td>\n",
       "      <td>53</td>\n",
       "      <td>1</td>\n",
       "    </tr>\n",
       "    <tr>\n",
       "      <th>7</th>\n",
       "      <td>Specialty</td>\n",
       "      <td>0</td>\n",
       "      <td>5</td>\n",
       "      <td>1.000000</td>\n",
       "      <td>28</td>\n",
       "      <td>1</td>\n",
       "    </tr>\n",
       "  </tbody>\n",
       "</table>\n",
       "</div>"
      ],
      "text/plain": [
       "        ASubdomain  Bugs  Investment  Utilization  Size  Types\n",
       "0              Vet     0          75     0.170000   313      5\n",
       "1            Visit     0          90     0.368056   472      6\n",
       "2              Pet     1         169     0.490187   746     11\n",
       "3            Owner     4          95     0.534867   532      4\n",
       "4  crossfunctional     2          57     0.569953   268      5\n",
       "5           Clinic     0          26     0.888889   110      1\n",
       "6           Person     0           5     1.000000    53      1\n",
       "7        Specialty     0           5     1.000000    28      1"
      ]
     },
     "execution_count": 6,
     "metadata": {},
     "output_type": "execute_result"
    }
   ],
   "source": [
    "plot_data = result.copy()\n",
    "plot_data = plot_data.rename(\n",
    "    columns= {\n",
    "        \"Changes\" : \"Investment\",\n",
    "        \"Coverage\" : \"Utilization\",\n",
    "        \"Lines\" : \"Size\"})\n",
    "plot_data"
   ]
  },
  {
   "cell_type": "code",
   "execution_count": 7,
   "metadata": {
    "code_folding": [
     3
    ],
    "slideshow": {
     "slide_type": "skip"
    }
   },
   "outputs": [],
   "source": [
    "%matplotlib inline\n",
    "import matplotlib.pyplot as plt\n",
    "\n",
    "# haesslich zusammengehackte Plot-Funktion\n",
    "def plot_portfolio_diagramm(plot_data, name):\n",
    "    x = \"Investment\"\n",
    "    y = \"Utilization\"\n",
    "    \n",
    "    ax = plot_data.plot.scatter(\n",
    "        x,\n",
    "        y,\n",
    "        s=plot_data.Size * 10,\n",
    "        alpha=0.7,\n",
    "        title=\"Return on Investment ({})\".format(name),\n",
    "        figsize=[10,7],\n",
    "        fontsize=14\n",
    "    )\n",
    "\n",
    "    ax.title.set_size(24)\n",
    "    ax.title\n",
    "    plt.xlabel(x, fontsize=18)\n",
    "    plt.ylabel(y, fontsize=18)\n",
    "    \n",
    "    ax.plot(\n",
    "        [plot_data[x].max()/2, plot_data[x].max()/2],\n",
    "        [0, plot_data[y].max()], color='k', linestyle='--', linewidth=0.6)\n",
    "    ax.plot(\n",
    "        [0, plot_data[x].max()],\n",
    "        [plot_data[y].max()/2,plot_data[y].max()/2], color='k', linestyle='--', linewidth=0.6)\n",
    "    ax.text(plot_data[x].max()*1/4, plot_data[y].max()*3/4, \"Success\", ha=\"center\", fontsize=24)\n",
    "    ax.text(plot_data[x].max()*3/4, plot_data[y].max()*3/4, \"Beware\", ha=\"center\", fontsize=24)\n",
    "    ax.text(plot_data[x].max()*1/4, plot_data[y].max()*1/4, \"Watch\", ha=\"center\", fontsize=24)\n",
    "    ax.text(plot_data[x].max()*3/4, plot_data[y].max()*1/4, \"Failure\", ha=\"center\", fontsize=24)"
   ]
  },
  {
   "cell_type": "markdown",
   "metadata": {
    "slideshow": {
     "slide_type": "subslide"
    }
   },
   "source": [
    "### Vier-Felder-Matrix zur Priorisierung nach Subdomänen"
   ]
  },
  {
   "cell_type": "code",
   "execution_count": 8,
   "metadata": {
    "slideshow": {
     "slide_type": "-"
    }
   },
   "outputs": [
    {
     "data": {
      "image/png": "[encoded data removed]",
      "text/plain": [
       "<matplotlib.figure.Figure at 0x19a2e999f60>"
      ]
     },
     "metadata": {},
     "output_type": "display_data"
    }
   ],
   "source": [
    "plot_portfolio_diagramm(plot_data, \"Subdomains\")"
   ]
  },
  {
   "cell_type": "markdown",
   "metadata": {
    "slideshow": {
     "slide_type": "slide"
    }
   },
   "source": [
    "## Aggregation der Messwerte nach technischen Aspekten"
   ]
  },
  {
   "cell_type": "code",
   "execution_count": 9,
   "metadata": {
    "slideshow": {
     "slide_type": "-"
    }
   },
   "outputs": [],
   "source": [
    "query = \"\"\"\n",
    "MATCH \n",
    "  (t:Type)-[:IS_A]->(ta:TechnicalAspect),\n",
    "  (t)-[:HAS_CHANGE]->(ch:Change),\n",
    "  (t)-[:HAS_MEASURE]->(co:Coverage)\n",
    "OPTIONAL MATCH\n",
    "  (t)-[:HAS_BUG]->(b:BugInstance)   \n",
    "RETURN \n",
    "  ta.name as ATechnicalAspect,\n",
    "  COUNT(DISTINCT t) as Types,\n",
    "  COUNT(DISTINCT ch) as Investment,\n",
    "  AVG(co.ratio) as Utilization,\n",
    "  COUNT(DISTINCT b) as Bugs,\n",
    "  SUM(DISTINCT t.lastMethodLineNumber) as Size\n",
    "ORDER BY Utilization ASC, Bugs DESC\n",
    "\"\"\""
   ]
  },
  {
   "cell_type": "markdown",
   "metadata": {
    "slideshow": {
     "slide_type": "subslide"
    }
   },
   "source": [
    "### Ergebnisse nach technischen Aspekten"
   ]
  },
  {
   "cell_type": "code",
   "execution_count": 10,
   "metadata": {
    "slideshow": {
     "slide_type": "-"
    }
   },
   "outputs": [
    {
     "data": {
      "text/html": [
       "<div>\n",
       "<style scoped>\n",
       "    .dataframe tbody tr th:only-of-type {\n",
       "        vertical-align: middle;\n",
       "    }\n",
       "\n",
       "    .dataframe tbody tr th {\n",
       "        vertical-align: top;\n",
       "    }\n",
       "\n",
       "    .dataframe thead th {\n",
       "        text-align: right;\n",
       "    }\n",
       "</style>\n",
       "<table border=\"1\" class=\"dataframe\">\n",
       "  <thead>\n",
       "    <tr style=\"text-align: right;\">\n",
       "      <th></th>\n",
       "      <th>ATechnicalAspect</th>\n",
       "      <th>Bugs</th>\n",
       "      <th>Investment</th>\n",
       "      <th>Size</th>\n",
       "      <th>Types</th>\n",
       "      <th>Utilization</th>\n",
       "    </tr>\n",
       "  </thead>\n",
       "  <tbody>\n",
       "    <tr>\n",
       "      <th>0</th>\n",
       "      <td>jdbc</td>\n",
       "      <td>1</td>\n",
       "      <td>153</td>\n",
       "      <td>644</td>\n",
       "      <td>8</td>\n",
       "      <td>0.000000</td>\n",
       "    </tr>\n",
       "    <tr>\n",
       "      <th>1</th>\n",
       "      <td>util</td>\n",
       "      <td>2</td>\n",
       "      <td>27</td>\n",
       "      <td>144</td>\n",
       "      <td>2</td>\n",
       "      <td>0.369919</td>\n",
       "    </tr>\n",
       "    <tr>\n",
       "      <th>2</th>\n",
       "      <td>web</td>\n",
       "      <td>3</td>\n",
       "      <td>156</td>\n",
       "      <td>577</td>\n",
       "      <td>7</td>\n",
       "      <td>0.621632</td>\n",
       "    </tr>\n",
       "    <tr>\n",
       "      <th>3</th>\n",
       "      <td>jpa</td>\n",
       "      <td>0</td>\n",
       "      <td>54</td>\n",
       "      <td>188</td>\n",
       "      <td>4</td>\n",
       "      <td>0.702501</td>\n",
       "    </tr>\n",
       "    <tr>\n",
       "      <th>4</th>\n",
       "      <td>model</td>\n",
       "      <td>1</td>\n",
       "      <td>93</td>\n",
       "      <td>696</td>\n",
       "      <td>10</td>\n",
       "      <td>0.733257</td>\n",
       "    </tr>\n",
       "    <tr>\n",
       "      <th>5</th>\n",
       "      <td>service</td>\n",
       "      <td>0</td>\n",
       "      <td>26</td>\n",
       "      <td>110</td>\n",
       "      <td>1</td>\n",
       "      <td>0.888889</td>\n",
       "    </tr>\n",
       "    <tr>\n",
       "      <th>6</th>\n",
       "      <td>petclinic</td>\n",
       "      <td>0</td>\n",
       "      <td>6</td>\n",
       "      <td>110</td>\n",
       "      <td>1</td>\n",
       "      <td>1.000000</td>\n",
       "    </tr>\n",
       "  </tbody>\n",
       "</table>\n",
       "</div>"
      ],
      "text/plain": [
       "  ATechnicalAspect  Bugs  Investment  Size  Types  Utilization\n",
       "0             jdbc     1         153   644      8     0.000000\n",
       "1             util     2          27   144      2     0.369919\n",
       "2              web     3         156   577      7     0.621632\n",
       "3              jpa     0          54   188      4     0.702501\n",
       "4            model     1          93   696     10     0.733257\n",
       "5          service     0          26   110      1     0.888889\n",
       "6        petclinic     0           6   110      1     1.000000"
      ]
     },
     "execution_count": 10,
     "metadata": {},
     "output_type": "execute_result"
    }
   ],
   "source": [
    "result = pd.DataFrame(graph.data(query))\n",
    "result"
   ]
  },
  {
   "cell_type": "markdown",
   "metadata": {
    "slideshow": {
     "slide_type": "subslide"
    }
   },
   "source": [
    "### Vier-Felder-Matrix zur Priorisierung nach technischen Aspekten"
   ]
  },
  {
   "cell_type": "code",
   "execution_count": 11,
   "metadata": {
    "slideshow": {
     "slide_type": "-"
    }
   },
   "outputs": [
    {
     "data": {
      "image/png": "[encoded data removed]",
      "text/plain": [
       "<matplotlib.figure.Figure at 0x19a31521ef0>"
      ]
     },
     "metadata": {},
     "output_type": "display_data"
    }
   ],
   "source": [
    "plot_portfolio_diagramm(result, \"Technical Aspects\")"
   ]
  },
  {
   "cell_type": "markdown",
   "metadata": {
    "slideshow": {
     "slide_type": "slide"
    }
   },
   "source": [
    "## Ende Demo"
   ]
  }
 ],
 "metadata": {
  "celltoolbar": "Slideshow",
  "hide_input": false,
  "kernelspec": {
   "display_name": "Python 3",
   "language": "python",
   "name": "python3"
  },
  "language_info": {
   "codemirror_mode": {
    "name": "ipython",
    "version": 3
   },
   "file_extension": ".py",
   "mimetype": "text/x-python",
   "name": "python",
   "nbconvert_exporter": "python",
   "pygments_lexer": "ipython3",
   "version": "3.6.4"
  },
  "toc": {
   "nav_menu": {},
   "number_sections": true,
   "sideBar": true,
   "skip_h1_title": false,
   "toc_cell": false,
   "toc_position": {},
   "toc_section_display": "block",
   "toc_window_display": false
  },
  "varInspector": {
   "cols": {
    "lenName": 16,
    "lenType": 16,
    "lenVar": 40
   },
   "kernels_config": {
    "python": {
     "delete_cmd_postfix": "",
     "delete_cmd_prefix": "del ",
     "library": "var_list.py",
     "varRefreshCmd": "print(var_dic_list())"
    },
    "r": {
     "delete_cmd_postfix": ") ",
     "delete_cmd_prefix": "rm(",
     "library": "var_list.r",
     "varRefreshCmd": "cat(var_dic_list()) "
    }
   },
   "types_to_exclude": [
    "module",
    "function",
    "builtin_function_or_method",
    "instance",
    "_Feature"
   ],
   "window_display": false
  }
 },
 "nbformat": 4,
 "nbformat_minor": 2
}
