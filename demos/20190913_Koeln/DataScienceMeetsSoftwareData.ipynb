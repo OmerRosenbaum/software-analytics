{
 "cells": [
  {
   "cell_type": "markdown",
   "metadata": {
    "slideshow": {
     "slide_type": "slide"
    }
   },
   "source": [
    "blank"
   ]
  },
  {
   "cell_type": "markdown",
   "metadata": {
    "slideshow": {
     "slide_type": "slide"
    }
   },
   "source": [
    "\n",
    "# Data Science meets <br/> Software Data\n",
    "<b>Markus Harrer</b>, Software Development Analyst\n",
    "  \n",
    "`@feststelltaste`\n",
    "\n",
    "\n",
    "<small>20 Jahre INNOQ Event, 13.09.2019</small>\n",
    "\n",
    "<img src=\"../resources/innoq_logo.jpg\" width=20% height=\"20%\" align=\"right\"/>"
   ]
  },
  {
   "cell_type": "markdown",
   "metadata": {
    "slideshow": {
     "slide_type": "slide"
    }
   },
   "source": [
    "## Data Science"
   ]
  },
  {
   "cell_type": "markdown",
   "metadata": {
    "slideshow": {
     "slide_type": "slide"
    }
   },
   "source": [
    "### Was ist Data Science?"
   ]
  },
  {
   "cell_type": "markdown",
   "metadata": {
    "slideshow": {
     "slide_type": "fragment"
    }
   },
   "source": [
    "\"**Statistik** auf nem <b><span class=\"green\">Mac</span></b>.\"\n",
    "<br/>\n",
    "<br/>\n",
    "<div align=\"right\"><small>Nach https://twitter.com/cdixon/status/428914681911070720</small></div>"
   ]
  },
  {
   "cell_type": "markdown",
   "metadata": {
    "slideshow": {
     "slide_type": "slide"
    }
   },
   "source": [
    "<b>Data Science Venn Diagram (Drew Conway)</b>\n",
    "\n",
    "<img src=\"../resources/venn_diagram.png\" width=50% height=\"50%\" >"
   ]
  },
  {
   "cell_type": "markdown",
   "metadata": {
    "slideshow": {
     "slide_type": "slide"
    }
   },
   "source": [
    "### Meine Definition"
   ]
  },
  {
   "cell_type": "markdown",
   "metadata": {
    "slideshow": {
     "slide_type": "slide"
    }
   },
   "source": [
    "#### Was bedeutet \"**data**\"?\n",
    "\"Without **data** you‘re just another person with an opinion.\"\n",
    "<br/>\n",
    "<div align=\"right\"><small>W. Edwards Deming</small></div>"
   ]
  },
  {
   "cell_type": "markdown",
   "metadata": {
    "slideshow": {
     "slide_type": "fragment"
    }
   },
   "source": [
    "<b>=> Belastbare Erkenntnisse mittels <span class=\"green\">Fakten</span> liefern</b>"
   ]
  },
  {
   "cell_type": "markdown",
   "metadata": {
    "slideshow": {
     "slide_type": "slide"
    }
   },
   "source": [
    "#### Was bedeutet \"**science**\"?\n",
    "  \n",
    "  \n",
    "\"The aim of **science** is to seek the simplest explanations of complex facts.\"\n",
    "<br/>\n",
    "<div align=\"right\"><small>Albert Einstein</small></div>"
   ]
  },
  {
   "cell_type": "markdown",
   "metadata": {
    "slideshow": {
     "slide_type": "fragment"
    }
   },
   "source": [
    "<b>=> Neue Erkenntnisse <span class=\"green\">verständlich</span> herausarbeiten</b>"
   ]
  },
  {
   "cell_type": "markdown",
   "metadata": {
    "slideshow": {
     "slide_type": "slide"
    }
   },
   "source": [
    "### Vorgehen\n",
    "<small>Nach Roger Pengs \"Stages of Data Analysis\"</small><br/>\n",
    "I. Fragestellung  \n",
    "II. Datenbeschaffung  \n",
    "III. Modellierung  \n",
    "IV. Interpretation  \n",
    "V. Kommunikation  \n",
    "  \n",
    "\n"
   ]
  },
  {
   "cell_type": "markdown",
   "metadata": {
    "slideshow": {
     "slide_type": "fragment"
    }
   },
   "source": [
    "<b>=> von der <strong>Frage</strong> über die <span class=\"green\">Daten</span> zur <span class=\"blue\" style=\"background-color: #FFFF00\">Erkenntnis</span>!</b>"
   ]
  },
  {
   "cell_type": "markdown",
   "metadata": {
    "slideshow": {
     "slide_type": "slide"
    }
   },
   "source": [
    "# Was hat das mit Softwareentwicklung zu tun?"
   ]
  },
  {
   "cell_type": "markdown",
   "metadata": {
    "slideshow": {
     "slide_type": "slide"
    }
   },
   "source": [
    "## Software Data"
   ]
  },
  {
   "cell_type": "markdown",
   "metadata": {
    "slideshow": {
     "slide_type": "slide"
    }
   },
   "source": [
    "### Was ist Software Data?\n",
    "\n",
    "* Statisch\n",
    "* Laufzeit\n",
    "* Chronologisch\n",
    "* Community"
   ]
  },
  {
   "cell_type": "markdown",
   "metadata": {
    "slideshow": {
     "slide_type": "fragment"
    }
   },
   "source": [
    "<b>=> Krass viel!</b>"
   ]
  },
  {
   "cell_type": "markdown",
   "metadata": {
    "slideshow": {
     "slide_type": "slide"
    }
   },
   "source": [
    "### Was ist ein Data Scientist?\n",
    "\"Jemand, der mehr Ahnung von **Statistik**<br/>\n",
    "&nbsp;&nbsp;hat als ein <b><span class=\"green\">Softwareentwickler</span></b><br/>\n",
    "&nbsp;&nbsp;und mehr Ahnung von <b><span class=\"green\">Softwareentwicklung</span></b><br/>\n",
    "&nbsp;&nbsp;als ein **Statistiker**.\"\n",
    "<br/>\n",
    "<br/>\n",
    "<div align=\"right\"><small>Nach zu https://twitter.com/cdixon/status/428914681911070720</small></div>"
   ]
  },
  {
   "cell_type": "markdown",
   "metadata": {
    "slideshow": {
     "slide_type": "fragment"
    }
   },
   "source": [
    "<b>Data Science & Software Data:</b> **Perfect** <b><span class=\"green\">match</span></b>!"
   ]
  },
  {
   "cell_type": "markdown",
   "metadata": {
    "slideshow": {
     "slide_type": "slide"
    }
   },
   "source": [
    "### Beispiele für Analysen"
   ]
  },
  {
   "cell_type": "markdown",
   "metadata": {
    "slideshow": {
     "slide_type": "-"
    }
   },
   "source": [
    "* Modularisierungsschnitte finden\n",
    "* Performance-Bottlenecks identifizieren\n",
    "* Verborgene Code-Abhängigkeiten aufdecken\n",
    "* Open-Source-Communities bewerten\n",
    "* ..."
   ]
  },
  {
   "cell_type": "markdown",
   "metadata": {
    "slideshow": {
     "slide_type": "fragment"
    }
   },
   "source": [
    "<b>Individuelle Systeme => individuelle Probleme => individuelle Analysen => individuelle Erkenntnisse!</b>"
   ]
  },
  {
   "cell_type": "markdown",
   "metadata": {
    "slideshow": {
     "slide_type": "slide"
    }
   },
   "source": [
    "## Software Analytics"
   ]
  },
  {
   "cell_type": "markdown",
   "metadata": {
    "slideshow": {
     "slide_type": "slide"
    }
   },
   "source": [
    "### Definition Software Analytics\n",
    "\"Software Analytics is analytics on software data for **managers** and <b class=\"green\">software engineers</b> with the aim of empowering software development individuals and teams to <i>gain and share insight from their data</i> to <b>make better decisions</b>.\"\n",
    "<br/>\n",
    "<div align=\"right\"><small>Tim Menzies and Thomas Zimmermann</small></div>"
   ]
  },
  {
   "cell_type": "markdown",
   "metadata": {
    "slideshow": {
     "slide_type": "slide"
    }
   },
   "source": [
    "<img src=\"../resources/kombar0.png\" width=95% align=\"center\"/>"
   ]
  },
  {
   "cell_type": "markdown",
   "metadata": {
    "slideshow": {
     "slide_type": "slide"
    }
   },
   "source": [
    "<img src=\"../resources/kombar4.png\" width=95% align=\"center\"/>"
   ]
  },
  {
   "cell_type": "markdown",
   "metadata": {
    "slideshow": {
     "slide_type": "slide"
    }
   },
   "source": [
    "# Lösungsstrategie"
   ]
  },
  {
   "cell_type": "markdown",
   "metadata": {
    "slideshow": {
     "slide_type": "slide"
    }
   },
   "source": [
    "## Grundprinzip\n",
    "\n",
    "`(Intent + Code + Data + Results)`<br />\n",
    "`* Logical Step`<br />\n",
    "`+ Automation`<br />\n",
    "`= Literate Statistical Programming`"
   ]
  },
  {
   "cell_type": "markdown",
   "metadata": {
    "slideshow": {
     "slide_type": "fragment"
    }
   },
   "source": [
    "Implementierung: **Computational notebooks**"
   ]
  },
  {
   "cell_type": "markdown",
   "metadata": {
    "slideshow": {
     "slide_type": "slide"
    }
   },
   "source": [
    "### Computational Notebooks\n",
    "<br/>\n",
    "  \n",
    "\n",
    "<div align=\"center\"><img src=\"../resources/notebook_approach.jpg\"></div>"
   ]
  },
  {
   "cell_type": "markdown",
   "metadata": {
    "slideshow": {
     "slide_type": "slide"
    }
   },
   "source": [
    "## Technik"
   ]
  },
  {
   "cell_type": "markdown",
   "metadata": {
    "slideshow": {
     "slide_type": "slide"
    }
   },
   "source": [
    "### Technologie (1/2)\n",
    "Klassischer Data-Science-Werkzeugkasten\n",
    "* **Jupyter** (mit RISE)\n",
    "* Python 3\n",
    "* pandas\n",
    "* matplotlib"
   ]
  },
  {
   "cell_type": "markdown",
   "metadata": {
    "slideshow": {
     "slide_type": "slide"
    }
   },
   "source": [
    "### Technologie (2/2)\n",
    "**Jupyter** funktioniert und integriert sich auch mit\n",
    "* jQAssistant / Cypher / Neo4j \n",
    "* JVM-Sprachen über beakerx / Tablesaw\n",
    "* bash\n",
    "* ..."
   ]
  },
  {
   "cell_type": "markdown",
   "metadata": {
    "slideshow": {
     "slide_type": "slide"
    }
   },
   "source": [
    "# Praktischer Teil"
   ]
  },
  {
   "cell_type": "markdown",
   "metadata": {
    "slideshow": {
     "slide_type": "slide"
    }
   },
   "source": [
    "## Erste Demo"
   ]
  },
  {
   "cell_type": "markdown",
   "metadata": {
    "slideshow": {
     "slide_type": "slide"
    }
   },
   "source": [
    "### Fallbeispiel\n",
    "\n",
    "#### IntelliJ IDEA\n",
    "\n",
    "* IDE für die Java-Entwicklung\n",
    "* Vieles in Java geschrieben\n",
    "* Großes und lang entwickeltes Projekt"
   ]
  },
  {
   "cell_type": "markdown",
   "metadata": {
    "slideshow": {
     "slide_type": "slide"
    }
   },
   "source": [
    "### I. Fragestellung (1/3)\n",
    "\n",
    "* Offene Frage explizit niederschreiben\n",
    "* Analyseidee verständlich darstellen\n"
   ]
  },
  {
   "cell_type": "markdown",
   "metadata": {
    "slideshow": {
     "slide_type": "slide"
    }
   },
   "source": [
    "### I. Fragestellung (2/3)\n",
    "\n",
    "<b>Frage</b>\n",
    "* Welcher Code ist besonders komplex und wie oft wurde dieser in letzter Zeit geändert?\n"
   ]
  },
  {
   "cell_type": "markdown",
   "metadata": {
    "slideshow": {
     "slide_type": "slide"
    }
   },
   "source": [
    "### I. Fragestellung (3/3)\n",
    "#### Umsetzungsidee\n",
    "* Werkzeuge: Jupyter, Python, pandas, matplotlib\n",
    "* Heuristiken:\n",
    " * \"komplex\": Lines of Code \n",
    " * \"letzter Zeit\": Letzte 3 Monate\n",
    " * \"oft geändert\": Anzahl Git Commits\n"
   ]
  },
  {
   "cell_type": "markdown",
   "metadata": {
    "slideshow": {
     "slide_type": "fragment"
    }
   },
   "source": [
    "**Meta-Ziel:** Grundmechaniken kennenlernen."
   ]
  },
  {
   "cell_type": "markdown",
   "metadata": {
    "slideshow": {
     "slide_type": "slide"
    }
   },
   "source": [
    "### II. Datenbeschaffung\n",
    "* Daten in Data-Science-Welt laden\n",
    "* Rohdaten bereinigen und filtern"
   ]
  },
  {
   "cell_type": "markdown",
   "metadata": {
    "slideshow": {
     "slide_type": "slide"
    }
   },
   "source": [
    "*Wir laden Git Log Daten eines Git Repos.*"
   ]
  },
  {
   "cell_type": "code",
   "execution_count": 1,
   "metadata": {
    "slideshow": {
     "slide_type": "fragment"
    },
    "tags": [
     "delete"
    ]
   },
   "outputs": [
    {
     "data": {
      "text/html": [
       "<div>\n",
       "<style scoped>\n",
       "    .dataframe tbody tr th:only-of-type {\n",
       "        vertical-align: middle;\n",
       "    }\n",
       "\n",
       "    .dataframe tbody tr th {\n",
       "        vertical-align: top;\n",
       "    }\n",
       "\n",
       "    .dataframe thead th {\n",
       "        text-align: right;\n",
       "    }\n",
       "</style>\n",
       "<table border=\"1\" class=\"dataframe\">\n",
       "  <thead>\n",
       "    <tr style=\"text-align: right;\">\n",
       "      <th></th>\n",
       "      <th>additions</th>\n",
       "      <th>deletions</th>\n",
       "      <th>filename</th>\n",
       "      <th>sha</th>\n",
       "      <th>timestamp</th>\n",
       "      <th>author</th>\n",
       "    </tr>\n",
       "  </thead>\n",
       "  <tbody>\n",
       "    <tr>\n",
       "      <th>0</th>\n",
       "      <td>4</td>\n",
       "      <td>0</td>\n",
       "      <td>java/java-impl/src/com/intellij/codeInsight/hi...</td>\n",
       "      <td>be6247932aa9</td>\n",
       "      <td>2019-07-01 14:40:24</td>\n",
       "      <td>Roman.Ivanov</td>\n",
       "    </tr>\n",
       "    <tr>\n",
       "      <th>1</th>\n",
       "      <td>4</td>\n",
       "      <td>6</td>\n",
       "      <td>java/java-impl/src/com/intellij/codeInsight/hi...</td>\n",
       "      <td>ee2032b77eca</td>\n",
       "      <td>2019-07-01 11:36:14</td>\n",
       "      <td>Roman.Ivanov</td>\n",
       "    </tr>\n",
       "    <tr>\n",
       "      <th>2</th>\n",
       "      <td>0</td>\n",
       "      <td>3</td>\n",
       "      <td>java/java-impl/src/META-INF/JavaPlugin.xml</td>\n",
       "      <td>fbeb4d639dc1</td>\n",
       "      <td>2019-06-26 11:14:34</td>\n",
       "      <td>Roman.Ivanov</td>\n",
       "    </tr>\n",
       "    <tr>\n",
       "      <th>3</th>\n",
       "      <td>6</td>\n",
       "      <td>3</td>\n",
       "      <td>java/java-impl/src/com/intellij/codeInsight/hi...</td>\n",
       "      <td>fbeb4d639dc1</td>\n",
       "      <td>2019-06-26 11:14:34</td>\n",
       "      <td>Roman.Ivanov</td>\n",
       "    </tr>\n",
       "    <tr>\n",
       "      <th>4</th>\n",
       "      <td>11</td>\n",
       "      <td>6</td>\n",
       "      <td>java/java-impl/src/com/intellij/codeInsight/hi...</td>\n",
       "      <td>a3d5a9b855fe</td>\n",
       "      <td>2019-06-14 10:32:15</td>\n",
       "      <td>Roman.Ivanov</td>\n",
       "    </tr>\n",
       "  </tbody>\n",
       "</table>\n",
       "</div>"
      ],
      "text/plain": [
       "  additions deletions                                           filename  \\\n",
       "0         4         0  java/java-impl/src/com/intellij/codeInsight/hi...   \n",
       "1         4         6  java/java-impl/src/com/intellij/codeInsight/hi...   \n",
       "2         0         3         java/java-impl/src/META-INF/JavaPlugin.xml   \n",
       "3         6         3  java/java-impl/src/com/intellij/codeInsight/hi...   \n",
       "4        11         6  java/java-impl/src/com/intellij/codeInsight/hi...   \n",
       "\n",
       "            sha            timestamp        author  \n",
       "0  be6247932aa9  2019-07-01 14:40:24  Roman.Ivanov  \n",
       "1  ee2032b77eca  2019-07-01 11:36:14  Roman.Ivanov  \n",
       "2  fbeb4d639dc1  2019-06-26 11:14:34  Roman.Ivanov  \n",
       "3  fbeb4d639dc1  2019-06-26 11:14:34  Roman.Ivanov  \n",
       "4  a3d5a9b855fe  2019-06-14 10:32:15  Roman.Ivanov  "
      ]
     },
     "execution_count": 1,
     "metadata": {},
     "output_type": "execute_result"
    }
   ],
   "source": [
    "import pandas as pd\n",
    "\n",
    "log = pd.read_csv(\"../dataset/git_log_intellij.csv.gz\")\n",
    "log.head()"
   ]
  },
  {
   "cell_type": "markdown",
   "metadata": {
    "slideshow": {
     "slide_type": "slide"
    }
   },
   "source": [
    "*Was haben wir hier eigentlich?*"
   ]
  },
  {
   "cell_type": "code",
   "execution_count": 2,
   "metadata": {
    "slideshow": {
     "slide_type": "-"
    },
    "tags": [
     "delete"
    ]
   },
   "outputs": [
    {
     "name": "stdout",
     "output_type": "stream",
     "text": [
      "<class 'pandas.core.frame.DataFrame'>\n",
      "RangeIndex: 1128819 entries, 0 to 1128818\n",
      "Data columns (total 6 columns):\n",
      "additions    1128819 non-null object\n",
      "deletions    1128819 non-null object\n",
      "filename     1128819 non-null object\n",
      "sha          1128819 non-null object\n",
      "timestamp    1128819 non-null object\n",
      "author       1128819 non-null object\n",
      "dtypes: object(6)\n",
      "memory usage: 51.7+ MB\n"
     ]
    }
   ],
   "source": [
    "log.info()"
   ]
  },
  {
   "cell_type": "markdown",
   "metadata": {
    "slideshow": {
     "slide_type": "fragment"
    }
   },
   "source": [
    "<b>1</b> **DataFrame** (~ programmierbares Excel-Arbeitsblatt), <b>6</b> **Series** (= Spalten), <b>1128819</b> **Rows** (= Einträge)"
   ]
  },
  {
   "cell_type": "markdown",
   "metadata": {
    "slideshow": {
     "slide_type": "slide"
    }
   },
   "source": [
    "*Wir wandeln die Zeitstempel von Texte in Objekte um.*"
   ]
  },
  {
   "cell_type": "code",
   "execution_count": 3,
   "metadata": {
    "slideshow": {
     "slide_type": "-"
    },
    "tags": [
     "delete"
    ]
   },
   "outputs": [
    {
     "data": {
      "text/html": [
       "<div>\n",
       "<style scoped>\n",
       "    .dataframe tbody tr th:only-of-type {\n",
       "        vertical-align: middle;\n",
       "    }\n",
       "\n",
       "    .dataframe tbody tr th {\n",
       "        vertical-align: top;\n",
       "    }\n",
       "\n",
       "    .dataframe thead th {\n",
       "        text-align: right;\n",
       "    }\n",
       "</style>\n",
       "<table border=\"1\" class=\"dataframe\">\n",
       "  <thead>\n",
       "    <tr style=\"text-align: right;\">\n",
       "      <th></th>\n",
       "      <th>additions</th>\n",
       "      <th>deletions</th>\n",
       "      <th>filename</th>\n",
       "      <th>sha</th>\n",
       "      <th>timestamp</th>\n",
       "      <th>author</th>\n",
       "    </tr>\n",
       "  </thead>\n",
       "  <tbody>\n",
       "    <tr>\n",
       "      <th>0</th>\n",
       "      <td>4</td>\n",
       "      <td>0</td>\n",
       "      <td>java/java-impl/src/com/intellij/codeInsight/hi...</td>\n",
       "      <td>be6247932aa9</td>\n",
       "      <td>2019-07-01 14:40:24</td>\n",
       "      <td>Roman.Ivanov</td>\n",
       "    </tr>\n",
       "    <tr>\n",
       "      <th>1</th>\n",
       "      <td>4</td>\n",
       "      <td>6</td>\n",
       "      <td>java/java-impl/src/com/intellij/codeInsight/hi...</td>\n",
       "      <td>ee2032b77eca</td>\n",
       "      <td>2019-07-01 11:36:14</td>\n",
       "      <td>Roman.Ivanov</td>\n",
       "    </tr>\n",
       "    <tr>\n",
       "      <th>2</th>\n",
       "      <td>0</td>\n",
       "      <td>3</td>\n",
       "      <td>java/java-impl/src/META-INF/JavaPlugin.xml</td>\n",
       "      <td>fbeb4d639dc1</td>\n",
       "      <td>2019-06-26 11:14:34</td>\n",
       "      <td>Roman.Ivanov</td>\n",
       "    </tr>\n",
       "    <tr>\n",
       "      <th>3</th>\n",
       "      <td>6</td>\n",
       "      <td>3</td>\n",
       "      <td>java/java-impl/src/com/intellij/codeInsight/hi...</td>\n",
       "      <td>fbeb4d639dc1</td>\n",
       "      <td>2019-06-26 11:14:34</td>\n",
       "      <td>Roman.Ivanov</td>\n",
       "    </tr>\n",
       "    <tr>\n",
       "      <th>4</th>\n",
       "      <td>11</td>\n",
       "      <td>6</td>\n",
       "      <td>java/java-impl/src/com/intellij/codeInsight/hi...</td>\n",
       "      <td>a3d5a9b855fe</td>\n",
       "      <td>2019-06-14 10:32:15</td>\n",
       "      <td>Roman.Ivanov</td>\n",
       "    </tr>\n",
       "  </tbody>\n",
       "</table>\n",
       "</div>"
      ],
      "text/plain": [
       "  additions deletions                                           filename  \\\n",
       "0         4         0  java/java-impl/src/com/intellij/codeInsight/hi...   \n",
       "1         4         6  java/java-impl/src/com/intellij/codeInsight/hi...   \n",
       "2         0         3         java/java-impl/src/META-INF/JavaPlugin.xml   \n",
       "3         6         3  java/java-impl/src/com/intellij/codeInsight/hi...   \n",
       "4        11         6  java/java-impl/src/com/intellij/codeInsight/hi...   \n",
       "\n",
       "            sha           timestamp        author  \n",
       "0  be6247932aa9 2019-07-01 14:40:24  Roman.Ivanov  \n",
       "1  ee2032b77eca 2019-07-01 11:36:14  Roman.Ivanov  \n",
       "2  fbeb4d639dc1 2019-06-26 11:14:34  Roman.Ivanov  \n",
       "3  fbeb4d639dc1 2019-06-26 11:14:34  Roman.Ivanov  \n",
       "4  a3d5a9b855fe 2019-06-14 10:32:15  Roman.Ivanov  "
      ]
     },
     "execution_count": 3,
     "metadata": {},
     "output_type": "execute_result"
    }
   ],
   "source": [
    "log['timestamp'] = pd.to_datetime(log['timestamp'])\n",
    "log.head()"
   ]
  },
  {
   "cell_type": "markdown",
   "metadata": {
    "slideshow": {
     "slide_type": "slide"
    }
   },
   "source": [
    "*Wir sehen uns nur die jüngsten Änderungen an.*"
   ]
  },
  {
   "cell_type": "code",
   "execution_count": 4,
   "metadata": {
    "scrolled": true,
    "slideshow": {
     "slide_type": "-"
    },
    "tags": [
     "delete"
    ]
   },
   "outputs": [
    {
     "data": {
      "text/html": [
       "<div>\n",
       "<style scoped>\n",
       "    .dataframe tbody tr th:only-of-type {\n",
       "        vertical-align: middle;\n",
       "    }\n",
       "\n",
       "    .dataframe tbody tr th {\n",
       "        vertical-align: top;\n",
       "    }\n",
       "\n",
       "    .dataframe thead th {\n",
       "        text-align: right;\n",
       "    }\n",
       "</style>\n",
       "<table border=\"1\" class=\"dataframe\">\n",
       "  <thead>\n",
       "    <tr style=\"text-align: right;\">\n",
       "      <th></th>\n",
       "      <th>additions</th>\n",
       "      <th>deletions</th>\n",
       "      <th>filename</th>\n",
       "      <th>sha</th>\n",
       "      <th>timestamp</th>\n",
       "      <th>author</th>\n",
       "    </tr>\n",
       "  </thead>\n",
       "  <tbody>\n",
       "    <tr>\n",
       "      <th>0</th>\n",
       "      <td>4</td>\n",
       "      <td>0</td>\n",
       "      <td>java/java-impl/src/com/intellij/codeInsight/hi...</td>\n",
       "      <td>be6247932aa9</td>\n",
       "      <td>2019-07-01 14:40:24</td>\n",
       "      <td>Roman.Ivanov</td>\n",
       "    </tr>\n",
       "    <tr>\n",
       "      <th>1</th>\n",
       "      <td>4</td>\n",
       "      <td>6</td>\n",
       "      <td>java/java-impl/src/com/intellij/codeInsight/hi...</td>\n",
       "      <td>ee2032b77eca</td>\n",
       "      <td>2019-07-01 11:36:14</td>\n",
       "      <td>Roman.Ivanov</td>\n",
       "    </tr>\n",
       "    <tr>\n",
       "      <th>2</th>\n",
       "      <td>0</td>\n",
       "      <td>3</td>\n",
       "      <td>java/java-impl/src/META-INF/JavaPlugin.xml</td>\n",
       "      <td>fbeb4d639dc1</td>\n",
       "      <td>2019-06-26 11:14:34</td>\n",
       "      <td>Roman.Ivanov</td>\n",
       "    </tr>\n",
       "    <tr>\n",
       "      <th>3</th>\n",
       "      <td>6</td>\n",
       "      <td>3</td>\n",
       "      <td>java/java-impl/src/com/intellij/codeInsight/hi...</td>\n",
       "      <td>fbeb4d639dc1</td>\n",
       "      <td>2019-06-26 11:14:34</td>\n",
       "      <td>Roman.Ivanov</td>\n",
       "    </tr>\n",
       "    <tr>\n",
       "      <th>16</th>\n",
       "      <td>6</td>\n",
       "      <td>2</td>\n",
       "      <td>platform/lang-impl/src/com/intellij/codeInsigh...</td>\n",
       "      <td>075cb7338a6f</td>\n",
       "      <td>2019-07-01 09:44:53</td>\n",
       "      <td>Roman.Ivanov</td>\n",
       "    </tr>\n",
       "  </tbody>\n",
       "</table>\n",
       "</div>"
      ],
      "text/plain": [
       "   additions deletions                                           filename  \\\n",
       "0          4         0  java/java-impl/src/com/intellij/codeInsight/hi...   \n",
       "1          4         6  java/java-impl/src/com/intellij/codeInsight/hi...   \n",
       "2          0         3         java/java-impl/src/META-INF/JavaPlugin.xml   \n",
       "3          6         3  java/java-impl/src/com/intellij/codeInsight/hi...   \n",
       "16         6         2  platform/lang-impl/src/com/intellij/codeInsigh...   \n",
       "\n",
       "             sha           timestamp        author  \n",
       "0   be6247932aa9 2019-07-01 14:40:24  Roman.Ivanov  \n",
       "1   ee2032b77eca 2019-07-01 11:36:14  Roman.Ivanov  \n",
       "2   fbeb4d639dc1 2019-06-26 11:14:34  Roman.Ivanov  \n",
       "3   fbeb4d639dc1 2019-06-26 11:14:34  Roman.Ivanov  \n",
       "16  075cb7338a6f 2019-07-01 09:44:53  Roman.Ivanov  "
      ]
     },
     "execution_count": 4,
     "metadata": {},
     "output_type": "execute_result"
    }
   ],
   "source": [
    "recent = log[log['timestamp'] > pd.Timestamp('today') - pd.Timedelta('90 days')]\n",
    "recent.head()"
   ]
  },
  {
   "cell_type": "markdown",
   "metadata": {
    "slideshow": {
     "slide_type": "slide"
    }
   },
   "source": [
    "*Wir wollen nur Java-Code verwenden.*"
   ]
  },
  {
   "cell_type": "code",
   "execution_count": 5,
   "metadata": {
    "slideshow": {
     "slide_type": "-"
    },
    "tags": [
     "delete"
    ]
   },
   "outputs": [
    {
     "data": {
      "text/html": [
       "<div>\n",
       "<style scoped>\n",
       "    .dataframe tbody tr th:only-of-type {\n",
       "        vertical-align: middle;\n",
       "    }\n",
       "\n",
       "    .dataframe tbody tr th {\n",
       "        vertical-align: top;\n",
       "    }\n",
       "\n",
       "    .dataframe thead th {\n",
       "        text-align: right;\n",
       "    }\n",
       "</style>\n",
       "<table border=\"1\" class=\"dataframe\">\n",
       "  <thead>\n",
       "    <tr style=\"text-align: right;\">\n",
       "      <th></th>\n",
       "      <th>additions</th>\n",
       "      <th>deletions</th>\n",
       "      <th>filename</th>\n",
       "      <th>sha</th>\n",
       "      <th>timestamp</th>\n",
       "      <th>author</th>\n",
       "    </tr>\n",
       "  </thead>\n",
       "  <tbody>\n",
       "    <tr>\n",
       "      <th>27</th>\n",
       "      <td>1</td>\n",
       "      <td>10</td>\n",
       "      <td>platform/smRunner/src/com/intellij/execution/t...</td>\n",
       "      <td>f4ed78c8f574</td>\n",
       "      <td>2019-06-28 18:28:41</td>\n",
       "      <td>Ilya.Kazakevich</td>\n",
       "    </tr>\n",
       "    <tr>\n",
       "      <th>29</th>\n",
       "      <td>28</td>\n",
       "      <td>0</td>\n",
       "      <td>platform/smRunner/testSrc/com/intellij/executi...</td>\n",
       "      <td>f4ed78c8f574</td>\n",
       "      <td>2019-06-28 18:28:41</td>\n",
       "      <td>Ilya.Kazakevich</td>\n",
       "    </tr>\n",
       "    <tr>\n",
       "      <th>30</th>\n",
       "      <td>6</td>\n",
       "      <td>3</td>\n",
       "      <td>plugins/InspectionGadgets/InspectionGadgetsAna...</td>\n",
       "      <td>a724467ad1a5</td>\n",
       "      <td>2019-07-01 19:47:38</td>\n",
       "      <td>Roman Shevchenko</td>\n",
       "    </tr>\n",
       "    <tr>\n",
       "      <th>31</th>\n",
       "      <td>2</td>\n",
       "      <td>2</td>\n",
       "      <td>plugins/InspectionGadgets/test/com/siyeh/igfix...</td>\n",
       "      <td>a724467ad1a5</td>\n",
       "      <td>2019-07-01 19:47:38</td>\n",
       "      <td>Roman Shevchenko</td>\n",
       "    </tr>\n",
       "    <tr>\n",
       "      <th>32</th>\n",
       "      <td>2</td>\n",
       "      <td>2</td>\n",
       "      <td>plugins/InspectionGadgets/test/com/siyeh/igfix...</td>\n",
       "      <td>a724467ad1a5</td>\n",
       "      <td>2019-07-01 19:47:38</td>\n",
       "      <td>Roman Shevchenko</td>\n",
       "    </tr>\n",
       "  </tbody>\n",
       "</table>\n",
       "</div>"
      ],
      "text/plain": [
       "   additions deletions                                           filename  \\\n",
       "27         1        10  platform/smRunner/src/com/intellij/execution/t...   \n",
       "29        28         0  platform/smRunner/testSrc/com/intellij/executi...   \n",
       "30         6         3  plugins/InspectionGadgets/InspectionGadgetsAna...   \n",
       "31         2         2  plugins/InspectionGadgets/test/com/siyeh/igfix...   \n",
       "32         2         2  plugins/InspectionGadgets/test/com/siyeh/igfix...   \n",
       "\n",
       "             sha           timestamp            author  \n",
       "27  f4ed78c8f574 2019-06-28 18:28:41   Ilya.Kazakevich  \n",
       "29  f4ed78c8f574 2019-06-28 18:28:41   Ilya.Kazakevich  \n",
       "30  a724467ad1a5 2019-07-01 19:47:38  Roman Shevchenko  \n",
       "31  a724467ad1a5 2019-07-01 19:47:38  Roman Shevchenko  \n",
       "32  a724467ad1a5 2019-07-01 19:47:38  Roman Shevchenko  "
      ]
     },
     "execution_count": 5,
     "metadata": {},
     "output_type": "execute_result"
    }
   ],
   "source": [
    "java = recent[recent['filename'].str.endswith(\".java\")].copy()\n",
    "java.head() "
   ]
  },
  {
   "cell_type": "markdown",
   "metadata": {
    "slideshow": {
     "slide_type": "slide"
    }
   },
   "source": [
    "### III. Modellierung\n",
    "\n",
    "* Neue Sichten schaffen\n",
    "* Weitere Daten verschneiden\n"
   ]
  },
  {
   "cell_type": "markdown",
   "metadata": {
    "slideshow": {
     "slide_type": "slide"
    }
   },
   "source": [
    "*Wir aggregieren die Zeilen sowie die Anzahl der Änderungen pro Datei.*"
   ]
  },
  {
   "cell_type": "code",
   "execution_count": 6,
   "metadata": {
    "slideshow": {
     "slide_type": "-"
    },
    "tags": [
     "delete"
    ]
   },
   "outputs": [
    {
     "data": {
      "text/html": [
       "<div>\n",
       "<style scoped>\n",
       "    .dataframe tbody tr th:only-of-type {\n",
       "        vertical-align: middle;\n",
       "    }\n",
       "\n",
       "    .dataframe tbody tr th {\n",
       "        vertical-align: top;\n",
       "    }\n",
       "\n",
       "    .dataframe thead th {\n",
       "        text-align: right;\n",
       "    }\n",
       "</style>\n",
       "<table border=\"1\" class=\"dataframe\">\n",
       "  <thead>\n",
       "    <tr style=\"text-align: right;\">\n",
       "      <th></th>\n",
       "      <th>sha</th>\n",
       "    </tr>\n",
       "    <tr>\n",
       "      <th>filename</th>\n",
       "      <th></th>\n",
       "    </tr>\n",
       "  </thead>\n",
       "  <tbody>\n",
       "    <tr>\n",
       "      <th>RegExpSupport/test/org/intellij/lang/regexp/RegExpWordSelectionFilterTest.java</th>\n",
       "      <td>1</td>\n",
       "    </tr>\n",
       "    <tr>\n",
       "      <th>RegExpSupport/test/org/intellij/lang/regexp/inspection/RegExpInspectionTestCase.java</th>\n",
       "      <td>1</td>\n",
       "    </tr>\n",
       "    <tr>\n",
       "      <th>images/src/org/intellij/images/options/impl/ImagesOptionsTopHitProvider.java</th>\n",
       "      <td>1</td>\n",
       "    </tr>\n",
       "    <tr>\n",
       "      <th>java/compiler/impl/src/com/intellij/compiler/actions/CompileProjectAction.java</th>\n",
       "      <td>1</td>\n",
       "    </tr>\n",
       "    <tr>\n",
       "      <th>java/compiler/impl/src/com/intellij/compiler/backwardRefs/DirtyScopeHolder.java</th>\n",
       "      <td>1</td>\n",
       "    </tr>\n",
       "  </tbody>\n",
       "</table>\n",
       "</div>"
      ],
      "text/plain": [
       "                                                    sha\n",
       "filename                                               \n",
       "RegExpSupport/test/org/intellij/lang/regexp/Reg...    1\n",
       "RegExpSupport/test/org/intellij/lang/regexp/ins...    1\n",
       "images/src/org/intellij/images/options/impl/Ima...    1\n",
       "java/compiler/impl/src/com/intellij/compiler/ac...    1\n",
       "java/compiler/impl/src/com/intellij/compiler/ba...    1"
      ]
     },
     "execution_count": 6,
     "metadata": {},
     "output_type": "execute_result"
    }
   ],
   "source": [
    "changes = java.groupby('filename')[['sha']].count()\n",
    "changes.head()"
   ]
  },
  {
   "cell_type": "markdown",
   "metadata": {
    "slideshow": {
     "slide_type": "slide"
    }
   },
   "source": [
    "*Wir holen Infos über die Code-Zeilen hinzu...*"
   ]
  },
  {
   "cell_type": "code",
   "execution_count": 7,
   "metadata": {
    "slideshow": {
     "slide_type": "-"
    },
    "tags": [
     "delete"
    ]
   },
   "outputs": [
    {
     "data": {
      "text/html": [
       "<div>\n",
       "<style scoped>\n",
       "    .dataframe tbody tr th:only-of-type {\n",
       "        vertical-align: middle;\n",
       "    }\n",
       "\n",
       "    .dataframe tbody tr th {\n",
       "        vertical-align: top;\n",
       "    }\n",
       "\n",
       "    .dataframe thead th {\n",
       "        text-align: right;\n",
       "    }\n",
       "</style>\n",
       "<table border=\"1\" class=\"dataframe\">\n",
       "  <thead>\n",
       "    <tr style=\"text-align: right;\">\n",
       "      <th></th>\n",
       "      <th>language</th>\n",
       "      <th>blank</th>\n",
       "      <th>comment</th>\n",
       "      <th>code</th>\n",
       "    </tr>\n",
       "    <tr>\n",
       "      <th>filename</th>\n",
       "      <th></th>\n",
       "      <th></th>\n",
       "      <th></th>\n",
       "      <th></th>\n",
       "    </tr>\n",
       "  </thead>\n",
       "  <tbody>\n",
       "    <tr>\n",
       "      <th>java/java-tests/testData/psi/resolve/ThinletBig.java</th>\n",
       "      <td>Java</td>\n",
       "      <td>299</td>\n",
       "      <td>1140</td>\n",
       "      <td>20125</td>\n",
       "    </tr>\n",
       "    <tr>\n",
       "      <th>java/java-tests/testData/psi/parser-full/declarationParsing/class/LongClass.java</th>\n",
       "      <td>Java</td>\n",
       "      <td>10121</td>\n",
       "      <td>10164</td>\n",
       "      <td>10166</td>\n",
       "    </tr>\n",
       "    <tr>\n",
       "      <th>python/gen/com/jetbrains/python/console/protocol/PythonConsoleBackendService.java</th>\n",
       "      <td>Java</td>\n",
       "      <td>1971</td>\n",
       "      <td>591</td>\n",
       "      <td>10086</td>\n",
       "    </tr>\n",
       "    <tr>\n",
       "      <th>jps/jps-builders/src/org/jetbrains/jps/api/CmdlineRemoteProto.java</th>\n",
       "      <td>Java</td>\n",
       "      <td>502</td>\n",
       "      <td>3066</td>\n",
       "      <td>8605</td>\n",
       "    </tr>\n",
       "    <tr>\n",
       "      <th>plugins/java-decompiler/engine/testData/obfuscated/aj.java</th>\n",
       "      <td>Java</td>\n",
       "      <td>551</td>\n",
       "      <td>1</td>\n",
       "      <td>8043</td>\n",
       "    </tr>\n",
       "  </tbody>\n",
       "</table>\n",
       "</div>"
      ],
      "text/plain": [
       "                                                   language  blank  comment  \\\n",
       "filename                                                                      \n",
       "java/java-tests/testData/psi/resolve/ThinletBig...     Java    299     1140   \n",
       "java/java-tests/testData/psi/parser-full/declar...     Java  10121    10164   \n",
       "python/gen/com/jetbrains/python/console/protoco...     Java   1971      591   \n",
       "jps/jps-builders/src/org/jetbrains/jps/api/Cmdl...     Java    502     3066   \n",
       "plugins/java-decompiler/engine/testData/obfusca...     Java    551        1   \n",
       "\n",
       "                                                     code  \n",
       "filename                                                   \n",
       "java/java-tests/testData/psi/resolve/ThinletBig...  20125  \n",
       "java/java-tests/testData/psi/parser-full/declar...  10166  \n",
       "python/gen/com/jetbrains/python/console/protoco...  10086  \n",
       "jps/jps-builders/src/org/jetbrains/jps/api/Cmdl...   8605  \n",
       "plugins/java-decompiler/engine/testData/obfusca...   8043  "
      ]
     },
     "execution_count": 7,
     "metadata": {},
     "output_type": "execute_result"
    }
   ],
   "source": [
    "loc = pd.read_csv(\"../dataset/cloc_intellij.csv.gz\", index_col=1)\n",
    "loc.head()"
   ]
  },
  {
   "cell_type": "markdown",
   "metadata": {
    "slideshow": {
     "slide_type": "slide"
    }
   },
   "source": [
    "*...und verschneiden diese mit den vorhandenen Daten.*"
   ]
  },
  {
   "cell_type": "code",
   "execution_count": 8,
   "metadata": {
    "slideshow": {
     "slide_type": "-"
    },
    "tags": [
     "delete"
    ]
   },
   "outputs": [
    {
     "data": {
      "text/html": [
       "<div>\n",
       "<style scoped>\n",
       "    .dataframe tbody tr th:only-of-type {\n",
       "        vertical-align: middle;\n",
       "    }\n",
       "\n",
       "    .dataframe tbody tr th {\n",
       "        vertical-align: top;\n",
       "    }\n",
       "\n",
       "    .dataframe thead th {\n",
       "        text-align: right;\n",
       "    }\n",
       "</style>\n",
       "<table border=\"1\" class=\"dataframe\">\n",
       "  <thead>\n",
       "    <tr style=\"text-align: right;\">\n",
       "      <th></th>\n",
       "      <th>sha</th>\n",
       "      <th>code</th>\n",
       "    </tr>\n",
       "    <tr>\n",
       "      <th>filename</th>\n",
       "      <th></th>\n",
       "      <th></th>\n",
       "    </tr>\n",
       "  </thead>\n",
       "  <tbody>\n",
       "    <tr>\n",
       "      <th>RegExpSupport/test/org/intellij/lang/regexp/RegExpWordSelectionFilterTest.java</th>\n",
       "      <td>1</td>\n",
       "      <td>49.0</td>\n",
       "    </tr>\n",
       "    <tr>\n",
       "      <th>RegExpSupport/test/org/intellij/lang/regexp/inspection/RegExpInspectionTestCase.java</th>\n",
       "      <td>1</td>\n",
       "      <td>41.0</td>\n",
       "    </tr>\n",
       "    <tr>\n",
       "      <th>images/src/org/intellij/images/options/impl/ImagesOptionsTopHitProvider.java</th>\n",
       "      <td>1</td>\n",
       "      <td>NaN</td>\n",
       "    </tr>\n",
       "    <tr>\n",
       "      <th>java/compiler/impl/src/com/intellij/compiler/actions/CompileProjectAction.java</th>\n",
       "      <td>1</td>\n",
       "      <td>38.0</td>\n",
       "    </tr>\n",
       "    <tr>\n",
       "      <th>java/compiler/impl/src/com/intellij/compiler/backwardRefs/DirtyScopeHolder.java</th>\n",
       "      <td>1</td>\n",
       "      <td>293.0</td>\n",
       "    </tr>\n",
       "  </tbody>\n",
       "</table>\n",
       "</div>"
      ],
      "text/plain": [
       "                                                    sha   code\n",
       "filename                                                      \n",
       "RegExpSupport/test/org/intellij/lang/regexp/Reg...    1   49.0\n",
       "RegExpSupport/test/org/intellij/lang/regexp/ins...    1   41.0\n",
       "images/src/org/intellij/images/options/impl/Ima...    1    NaN\n",
       "java/compiler/impl/src/com/intellij/compiler/ac...    1   38.0\n",
       "java/compiler/impl/src/com/intellij/compiler/ba...    1  293.0"
      ]
     },
     "execution_count": 8,
     "metadata": {},
     "output_type": "execute_result"
    }
   ],
   "source": [
    "hotspots = changes.join(loc[['code']])\n",
    "hotspots.head()"
   ]
  },
  {
   "cell_type": "markdown",
   "metadata": {
    "slideshow": {
     "slide_type": "slide"
    }
   },
   "source": [
    "### VI. Interpretation\n",
    "* Problem: Ergebnisse oft umfangreich\n",
    "* Daher: Kernaussagen klar darstellen"
   ]
  },
  {
   "cell_type": "markdown",
   "metadata": {
    "slideshow": {
     "slide_type": "slide"
    }
   },
   "source": [
    "*Wir zeigen die TOP 10 Hotspots an.*"
   ]
  },
  {
   "cell_type": "code",
   "execution_count": 9,
   "metadata": {
    "slideshow": {
     "slide_type": "-"
    },
    "tags": [
     "delete"
    ]
   },
   "outputs": [
    {
     "data": {
      "text/html": [
       "<div>\n",
       "<style scoped>\n",
       "    .dataframe tbody tr th:only-of-type {\n",
       "        vertical-align: middle;\n",
       "    }\n",
       "\n",
       "    .dataframe tbody tr th {\n",
       "        vertical-align: top;\n",
       "    }\n",
       "\n",
       "    .dataframe thead th {\n",
       "        text-align: right;\n",
       "    }\n",
       "</style>\n",
       "<table border=\"1\" class=\"dataframe\">\n",
       "  <thead>\n",
       "    <tr style=\"text-align: right;\">\n",
       "      <th></th>\n",
       "      <th>sha</th>\n",
       "      <th>code</th>\n",
       "    </tr>\n",
       "    <tr>\n",
       "      <th>filename</th>\n",
       "      <th></th>\n",
       "      <th></th>\n",
       "    </tr>\n",
       "  </thead>\n",
       "  <tbody>\n",
       "    <tr>\n",
       "      <th>platform/lang-impl/src/com/intellij/openapi/editor/EditorMouseHoverPopupManager.java</th>\n",
       "      <td>18</td>\n",
       "      <td>497.0</td>\n",
       "    </tr>\n",
       "    <tr>\n",
       "      <th>platform/platform-impl/src/com/intellij/platform/PlatformProjectOpenProcessor.java</th>\n",
       "      <td>9</td>\n",
       "      <td>337.0</td>\n",
       "    </tr>\n",
       "    <tr>\n",
       "      <th>platform/platform-impl/src/com/intellij/openapi/wm/impl/IdeFrameImpl.java</th>\n",
       "      <td>7</td>\n",
       "      <td>618.0</td>\n",
       "    </tr>\n",
       "    <tr>\n",
       "      <th>platform/vcs-log/impl/src/com/intellij/vcs/log/impl/VcsProjectLog.java</th>\n",
       "      <td>7</td>\n",
       "      <td>204.0</td>\n",
       "    </tr>\n",
       "    <tr>\n",
       "      <th>platform/util/ui/src/com/intellij/util/ui/UIUtil.java</th>\n",
       "      <td>7</td>\n",
       "      <td>2902.0</td>\n",
       "    </tr>\n",
       "    <tr>\n",
       "      <th>platform/lang-impl/src/com/intellij/execution/ui/layout/impl/RunnerContentUi.java</th>\n",
       "      <td>7</td>\n",
       "      <td>1567.0</td>\n",
       "    </tr>\n",
       "    <tr>\n",
       "      <th>platform/lang-impl/src/com/intellij/execution/ui/layout/impl/GridCellImpl.java</th>\n",
       "      <td>6</td>\n",
       "      <td>406.0</td>\n",
       "    </tr>\n",
       "    <tr>\n",
       "      <th>platform/platform-impl/src/com/intellij/ide/RecentProjectsManagerBase.java</th>\n",
       "      <td>6</td>\n",
       "      <td>592.0</td>\n",
       "    </tr>\n",
       "    <tr>\n",
       "      <th>platform/platform-impl/src/com/intellij/openapi/wm/impl/WindowManagerImpl.java</th>\n",
       "      <td>6</td>\n",
       "      <td>641.0</td>\n",
       "    </tr>\n",
       "    <tr>\n",
       "      <th>java/java-analysis-impl/src/com/intellij/codeInsight/daemon/impl/analysis/HighlightUtil.java</th>\n",
       "      <td>6</td>\n",
       "      <td>2834.0</td>\n",
       "    </tr>\n",
       "  </tbody>\n",
       "</table>\n",
       "</div>"
      ],
      "text/plain": [
       "                                                    sha    code\n",
       "filename                                                       \n",
       "platform/lang-impl/src/com/intellij/openapi/edi...   18   497.0\n",
       "platform/platform-impl/src/com/intellij/platfor...    9   337.0\n",
       "platform/platform-impl/src/com/intellij/openapi...    7   618.0\n",
       "platform/vcs-log/impl/src/com/intellij/vcs/log/...    7   204.0\n",
       "platform/util/ui/src/com/intellij/util/ui/UIUti...    7  2902.0\n",
       "platform/lang-impl/src/com/intellij/execution/u...    7  1567.0\n",
       "platform/lang-impl/src/com/intellij/execution/u...    6   406.0\n",
       "platform/platform-impl/src/com/intellij/ide/Rec...    6   592.0\n",
       "platform/platform-impl/src/com/intellij/openapi...    6   641.0\n",
       "java/java-analysis-impl/src/com/intellij/codeIn...    6  2834.0"
      ]
     },
     "execution_count": 9,
     "metadata": {},
     "output_type": "execute_result"
    }
   ],
   "source": [
    "top10 = hotspots.sort_values(by=\"sha\", ascending=False).head(10)\n",
    "top10"
   ]
  },
  {
   "cell_type": "markdown",
   "metadata": {
    "slideshow": {
     "slide_type": "slide"
    }
   },
   "source": [
    "### V. Kommunikation\n",
    "* Ergebnisse managementtauglich darstellen\n",
    "* Nächste Schritte lostreten"
   ]
  },
  {
   "cell_type": "markdown",
   "metadata": {
    "slideshow": {
     "slide_type": "slide"
    }
   },
   "source": [
    "*Wir plotten die TOP 10 Liste als XY-Diagramm.*"
   ]
  },
  {
   "cell_type": "code",
   "execution_count": 10,
   "metadata": {
    "slideshow": {
     "slide_type": "-"
    },
    "tags": [
     "delete"
    ]
   },
   "outputs": [
    {
     "data": {
      "image/png": "[encoded data removed]",
      "text/plain": [
       "<Figure size 432x288 with 1 Axes>"
      ]
     },
     "metadata": {
      "image/png": {
       "height": 263,
       "width": 571
      },
      "needs_background": "light"
     },
     "output_type": "display_data"
    }
   ],
   "source": [
    "ax = top10.plot.scatter('sha', 'code');\n",
    "\n",
    "for k, v in top10.iterrows():\n",
    "    ax.annotate(k.split(\"/\")[-1], v)"
   ]
  },
  {
   "cell_type": "markdown",
   "metadata": {
    "slideshow": {
     "slide_type": "slide"
    }
   },
   "source": [
    "### Ende der Demo"
   ]
  },
  {
   "cell_type": "markdown",
   "metadata": {
    "slideshow": {
     "slide_type": "slide"
    }
   },
   "source": [
    "## Weitere Analysen\n",
    "\n",
    "* Analyse von Performance-Bottlenecks mit Daten von `vmstat`\n",
    "* Abhängigkeitsanalyse mit Daten von `jdeps` und Visualisierung mit `D3`\n"
   ]
  },
  {
   "cell_type": "markdown",
   "metadata": {
    "slideshow": {
     "slide_type": "slide"
    }
   },
   "source": [
    "## Zusammenfassung\n",
    "**1.** <b>Analysen</b> mit Data-Science-Werkzeugen <b>einfach</b> möglich  \n",
    "**2.** Wer mehr will bekommt auch <b>mehr</b>!  \n",
    "**3.** Es gibt unglaublich <b>viele Quellen</b> für Daten in der Softwareentwicklung  \n",
    "\n",
    "<b>=> von der <strong>Frage</strong> über die <span class=\"green\">Daten</span> zur <span class=\"blue\" style=\"background-color: #FFFF00\">Erkenntnis</span>!</b>"
   ]
  },
  {
   "cell_type": "markdown",
   "metadata": {
    "slideshow": {
     "slide_type": "slide"
    }
   },
   "source": [
    "## Tipps zum Einstieg\n",
    "* Adam Tornhill: Software Design X-Ray \n",
    "* Wes McKinney: Python For Data Analysis\n",
    "* Jeff Leek: The Elements of Data Analytic Style\n",
    "* Tim Menzies, Laurie Williams, Thomas Zimmermann: Perspectives on Data Science for Software Engineering\n",
    "* Mini-Tutorial auf `feststelltaste.de`"
   ]
  },
  {
   "cell_type": "markdown",
   "metadata": {
    "slideshow": {
     "slide_type": "slide"
    }
   },
   "source": [
    "# Vielen Dank! Fragen?\n",
    "\n",
    "<b>Markus Harrer</b><br/>\n",
    "innoQ Deutschland GmbH\n",
    "  \n",
    "markus.harrer@innoq.com\n",
    "\n",
    "`@feststelltaste`"
   ]
  }
 ],
 "metadata": {
  "celltoolbar": "Slideshow",
  "kernelspec": {
   "display_name": "Python 3",
   "language": "python",
   "name": "python3"
  },
  "language_info": {
   "codemirror_mode": {
    "name": "ipython",
    "version": 3
   },
   "file_extension": ".py",
   "mimetype": "text/x-python",
   "name": "python",
   "nbconvert_exporter": "python",
   "pygments_lexer": "ipython3",
   "version": "3.6.0"
  },
  "rise": {
   "controls": false,
   "showSlideNumber": "speaker",
   "slideNumber ": "false",
   "transition": "none"
  }
 },
 "nbformat": 4,
 "nbformat_minor": 2
}
