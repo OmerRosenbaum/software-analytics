{
 "cells": [
  {
   "cell_type": "markdown",
   "metadata": {},
   "source": [
    "# Analyse der Git-Historie des Linux Kernels"
   ]
  },
  {
   "cell_type": "markdown",
   "metadata": {},
   "source": [
    "## Einleitung\n",
    "Mit diesem Arbeitsblatt erlernen wir die ersten Schritte mit Jupyter, Python, pandas und matplotlib anhand eines praktischen Beispiels: Der Analyse der Entwicklungsgeschichte des Linux Kernels.\n",
    "\n",
    "Das komplette und ausführlich beschriebene Mini-Tutorial ist auch auf meinem Blog zu finden unter https://www.feststelltaste.de/mini-tutorial-git-log-analyse-mit-python-und-pandas/."
   ]
  },
  {
   "cell_type": "markdown",
   "metadata": {},
   "source": [
    "## Aufgabe\n",
    "* Wir wollen herausfinden,\n",
    " * wer die TOP 10 Autoren mit den häufigsten Commits (=Codeänderungen) sind\n",
    " * zu welcher Tagesstunde die meisten Commits vorgenommen werden.\n",
    " \n",
    "Als Basis haben wir einen Datensatz in einer Datei, der uns pro Commit den Zeitstempel sowie den Autor der Codeänderung aufführt:\n",
    "\n",
    "```\n",
    "timestamp,author\n",
    "2017-12-31 14:47:43,Linus Torvalds\n",
    "2017-12-31 13:13:56,Linus Torvalds\n",
    "2017-12-31 13:03:05,Linus Torvalds\n",
    "2017-12-31 12:30:34,Linus Torvalds\n",
    "2017-12-31 12:29:02,Linus Torvalds\n",
    "```\n",
    "\n",
    "Diese Daten habe ich mir im Grunde über `git` (https://git-scm.com) aus dem GitHub-Repository https://github.com/torvalds/linux/ erzeugen lassen (und für das Mini-Tutorial ein wenig vereinfacht...).\n",
    "\n",
    "Aber der Reihe nach &ndash; lernen wir ersteinmal die Werkzeuge näher kennen."
   ]
  },
  {
   "cell_type": "markdown",
   "metadata": {},
   "source": [
    "## Jupyter\n",
    "Jupyter biete uns Code und Dokumentation in ausführbare **Zellen**.\n",
    "\n",
    "#### Codeausführung\n",
    "\n",
    "1. Wähle die nächste Zelle aus (Mausklick oder mit Pfeiltasten).\n",
    "1. Führe die Zelle mit einem `Strg`+`Enter` aus. \n",
    "1. Führe die Zelle noch einmal mit `Shift`+`Enter`. *Was ist der Unterschied der **Ergebnissausgabe** *?"
   ]
  },
  {
   "cell_type": "code",
   "execution_count": 1,
   "metadata": {},
   "outputs": [
    {
     "data": {
      "text/plain": [
       "'Hello World'"
      ]
     },
     "execution_count": 1,
     "metadata": {},
     "output_type": "execute_result"
    }
   ],
   "source": [
    "\"Hello World\""
   ]
  },
  {
   "cell_type": "markdown",
   "metadata": {},
   "source": [
    "#### Neue Zelle anlegen\n",
    "1. Wenn noch nicht passiert, wähle diese Zelle aus.\n",
    "1. Gehe in den **Befehlsmodus**, auswählbar mit Taste `ESC`.\n",
    "1. Erstelle nach diesem Text eine **neue Zelle** mit der Taste `b`. \n",
    "1. Wechlse den **Zelltyp** zu \"Markdown\" mit Taste `m`.\n",
    "1. Wechlse in den **Eingabemodus** mit `Enter`.\n",
    "1. Schreibe einen Text, den Du dann mit `Strg` + `Enter` \"ausführst\"."
   ]
  },
  {
   "cell_type": "markdown",
   "metadata": {},
   "source": [
    "Das ist ein Text"
   ]
  },
  {
   "cell_type": "markdown",
   "metadata": {},
   "source": [
    "## Python\n",
    "Wir sehen uns sehr grundlegende Funktionen an:\n",
    "\n",
    "- Variablenzuweisungen\n",
    "- Wertebereichszugriffe\n",
    "- Methodenaufrufe"
   ]
  },
  {
   "cell_type": "markdown",
   "metadata": {},
   "source": [
    "#### Text einer Variable zuweisen\n",
    "1. Schreibe den Text \"Hello World\" per **Zuweisung** `=` in die **Variable** `text`.\n",
    "1. Schreibe die Variable `text` in die nächste Zeile und führe die Zelle aus."
   ]
  },
  {
   "cell_type": "code",
   "execution_count": 2,
   "metadata": {},
   "outputs": [
    {
     "data": {
      "text/plain": [
       "'Hello World'"
      ]
     },
     "execution_count": 2,
     "metadata": {},
     "output_type": "execute_result"
    }
   ],
   "source": [
    "text = \"Hello World\"\n",
    "text"
   ]
  },
  {
   "cell_type": "markdown",
   "metadata": {},
   "source": [
    "#### Auf Werte zugreifen\n",
    "1. Greife mit `[0]` auf den ersten Buchstaben in `text` zu."
   ]
  },
  {
   "cell_type": "code",
   "execution_count": 3,
   "metadata": {},
   "outputs": [
    {
     "data": {
      "text/plain": [
       "'H'"
      ]
     },
     "execution_count": 3,
     "metadata": {},
     "output_type": "execute_result"
    }
   ],
   "source": [
    "text[0]"
   ]
  },
  {
   "cell_type": "markdown",
   "metadata": {},
   "source": [
    "#### Letzten Wert wählen\n",
    "1. Greife mit `[-1]` auf den letzten Buchstaben in `text` zu."
   ]
  },
  {
   "cell_type": "code",
   "execution_count": 4,
   "metadata": {},
   "outputs": [
    {
     "data": {
      "text/plain": [
       "'d'"
      ]
     },
     "execution_count": 4,
     "metadata": {},
     "output_type": "execute_result"
    }
   ],
   "source": [
    "text[-1]"
   ]
  },
  {
   "cell_type": "markdown",
   "metadata": {},
   "source": [
    "#### Wertebereiche wählen\n",
    "1. Greife mit dem **Slice** `[2:5]` auf einen Bereich von `text` zu."
   ]
  },
  {
   "cell_type": "code",
   "execution_count": 5,
   "metadata": {},
   "outputs": [
    {
     "data": {
      "text/plain": [
       "'ll'"
      ]
     },
     "execution_count": 5,
     "metadata": {},
     "output_type": "execute_result"
    }
   ],
   "source": [
    "text[2:4]"
   ]
  },
  {
   "cell_type": "markdown",
   "metadata": {},
   "source": [
    "#### Autovervollständigung\n",
    "1. Hänge einen `.` an `text` und siehe Dir die Funktionen mit der Taste `Tab` an.\n",
    "1. Führe die **Methode** `upper()` aus (Tipp: Tippe ein `u` in der Funktionsübersicht)."
   ]
  },
  {
   "cell_type": "code",
   "execution_count": 6,
   "metadata": {},
   "outputs": [
    {
     "data": {
      "text/plain": [
       "'HELLO WORLD'"
      ]
     },
     "execution_count": 6,
     "metadata": {},
     "output_type": "execute_result"
    }
   ],
   "source": [
    "text.upper()"
   ]
  },
  {
   "cell_type": "markdown",
   "metadata": {},
   "source": [
    "#### Interaktive Dokumentation\n",
    "1. Wähle die Funktion `split` von `text`.\n",
    "1. Drücke `Shift`+`Tab`.\n",
    "1. Drücke `Shift`+`Tab` zweimal schnell hintereinander.\n",
    "1. Drücke `Shift`+`Tab` viermal schnell hintereinander (und anschlißend `ESC` zum ausblenden) \n",
    "1. Teile mit `split` den Text in `text` anhand der `l`s genau einmal auf."
   ]
  },
  {
   "cell_type": "code",
   "execution_count": 7,
   "metadata": {},
   "outputs": [
    {
     "data": {
      "text/plain": [
       "['He', 'lo World']"
      ]
     },
     "execution_count": 7,
     "metadata": {},
     "output_type": "execute_result"
    }
   ],
   "source": [
    "text.split(\"l\",maxsplit=1)"
   ]
  },
  {
   "cell_type": "markdown",
   "metadata": {},
   "source": [
    "## Pandas"
   ]
  },
  {
   "cell_type": "markdown",
   "metadata": {},
   "source": [
    "### Daten importieren\n",
    "\n",
    "#### Modul laden\n",
    "1. Importiere das Modul `pandas` mit `import <modulname> as <kuerzel>` als abgekürztes `pd`\n",
    "1. Schau Dir in der nächsten Zeile mit einem angehängten `?` an, was in der Variable `pd` nun steckt."
   ]
  },
  {
   "cell_type": "code",
   "execution_count": 8,
   "metadata": {},
   "outputs": [],
   "source": [
    "import pandas as pd\n",
    "pd?"
   ]
  },
  {
   "cell_type": "markdown",
   "metadata": {},
   "source": [
    "#### Datei einlesen\n",
    "1. Lese mit der `read_csv`-Methode die Daten von der Adresse ein, die in `PFAD` steht.\n",
    "1. Schreibe das Ergebnis in die Variable `git_log`.\n",
    "1. Zeige die ersten fünf Einträge (= Commits aka Codeänderungen) in `git_log` mit der Methode `head()` an."
   ]
  },
  {
   "cell_type": "code",
   "execution_count": 9,
   "metadata": {},
   "outputs": [
    {
     "data": {
      "text/html": [
       "<div>\n",
       "<style scoped>\n",
       "    .dataframe tbody tr th:only-of-type {\n",
       "        vertical-align: middle;\n",
       "    }\n",
       "\n",
       "    .dataframe tbody tr th {\n",
       "        vertical-align: top;\n",
       "    }\n",
       "\n",
       "    .dataframe thead th {\n",
       "        text-align: right;\n",
       "    }\n",
       "</style>\n",
       "<table border=\"1\" class=\"dataframe\">\n",
       "  <thead>\n",
       "    <tr style=\"text-align: right;\">\n",
       "      <th></th>\n",
       "      <th>timestamp</th>\n",
       "      <th>author</th>\n",
       "    </tr>\n",
       "  </thead>\n",
       "  <tbody>\n",
       "    <tr>\n",
       "      <th>0</th>\n",
       "      <td>2017-12-31 14:47:43</td>\n",
       "      <td>Linus Torvalds</td>\n",
       "    </tr>\n",
       "    <tr>\n",
       "      <th>1</th>\n",
       "      <td>2017-12-31 13:13:56</td>\n",
       "      <td>Linus Torvalds</td>\n",
       "    </tr>\n",
       "    <tr>\n",
       "      <th>2</th>\n",
       "      <td>2017-12-31 13:03:05</td>\n",
       "      <td>Linus Torvalds</td>\n",
       "    </tr>\n",
       "    <tr>\n",
       "      <th>3</th>\n",
       "      <td>2017-12-31 12:30:34</td>\n",
       "      <td>Linus Torvalds</td>\n",
       "    </tr>\n",
       "    <tr>\n",
       "      <th>4</th>\n",
       "      <td>2017-12-31 12:29:02</td>\n",
       "      <td>Linus Torvalds</td>\n",
       "    </tr>\n",
       "  </tbody>\n",
       "</table>\n",
       "</div>"
      ],
      "text/plain": [
       "             timestamp          author\n",
       "0  2017-12-31 14:47:43  Linus Torvalds\n",
       "1  2017-12-31 13:13:56  Linus Torvalds\n",
       "2  2017-12-31 13:03:05  Linus Torvalds\n",
       "3  2017-12-31 12:30:34  Linus Torvalds\n",
       "4  2017-12-31 12:29:02  Linus Torvalds"
      ]
     },
     "execution_count": 9,
     "metadata": {},
     "output_type": "execute_result"
    }
   ],
   "source": [
    "PFAD = \"../dataset/git_demo_timestamp_linux.gz\"\n",
    "\n",
    "git_log = pd.read_csv(PFAD)\n",
    "git_log.head()"
   ]
  },
  {
   "cell_type": "markdown",
   "metadata": {},
   "source": [
    "#### Daten kennenlernen\n",
    "1. Rufe `info()` auf `git_log` auf."
   ]
  },
  {
   "cell_type": "code",
   "execution_count": 10,
   "metadata": {},
   "outputs": [
    {
     "name": "stdout",
     "output_type": "stream",
     "text": [
      "<class 'pandas.core.frame.DataFrame'>\n",
      "RangeIndex: 723214 entries, 0 to 723213\n",
      "Data columns (total 2 columns):\n",
      "timestamp    723214 non-null object\n",
      "author       723213 non-null object\n",
      "dtypes: object(2)\n",
      "memory usage: 11.0+ MB\n"
     ]
    }
   ],
   "source": [
    "git_log.info()"
   ]
  },
  {
   "cell_type": "markdown",
   "metadata": {},
   "source": [
    "Wir sehen, dass in `git_log` \n",
    "* ein **DataFrame** steckt, der aus\n",
    " * zwei Spalten (sog. **Series**) besteht. \n",
    "* Wir sehen auch, dass wir\n",
    " * 723214 Einträge in der Spalte `timestamp` (=Commit-Zeitpunkt) haben\n",
    " * aber nur 723213 bei `author` (=Programmierer)."
   ]
  },
  {
   "cell_type": "markdown",
   "metadata": {},
   "source": [
    "#### Datenfehler erkennen"
   ]
  },
  {
   "cell_type": "markdown",
   "metadata": {},
   "source": [
    "1. Greife auf die Spalte `author` mit der Schreibweise `git_log.author` zu.\n",
    "1. Berechne fehlende Autor mit einem angehängten `.isnull()`-Aufruf.\n",
    "1. Schreibe das Ergebnis in `missing`.\n",
    "1. Gib die ersten fünf Einträge von `missing` aus."
   ]
  },
  {
   "cell_type": "code",
   "execution_count": 11,
   "metadata": {},
   "outputs": [
    {
     "data": {
      "text/plain": [
       "0    False\n",
       "1    False\n",
       "2    False\n",
       "3    False\n",
       "4    False\n",
       "Name: author, dtype: bool"
      ]
     },
     "execution_count": 11,
     "metadata": {},
     "output_type": "execute_result"
    }
   ],
   "source": [
    "missing = git_log.author.isnull()\n",
    "missing.head()"
   ]
  },
  {
   "cell_type": "markdown",
   "metadata": {},
   "source": [
    "#### Daten selektieren\n",
    "1. Selektiere alle fehlenden Autoren in `git_log` mit dem **Selektor**  `[<Series>]` und Daten in der Series `missing`."
   ]
  },
  {
   "cell_type": "code",
   "execution_count": 12,
   "metadata": {},
   "outputs": [
    {
     "data": {
      "text/html": [
       "<div>\n",
       "<style scoped>\n",
       "    .dataframe tbody tr th:only-of-type {\n",
       "        vertical-align: middle;\n",
       "    }\n",
       "\n",
       "    .dataframe tbody tr th {\n",
       "        vertical-align: top;\n",
       "    }\n",
       "\n",
       "    .dataframe thead th {\n",
       "        text-align: right;\n",
       "    }\n",
       "</style>\n",
       "<table border=\"1\" class=\"dataframe\">\n",
       "  <thead>\n",
       "    <tr style=\"text-align: right;\">\n",
       "      <th></th>\n",
       "      <th>timestamp</th>\n",
       "      <th>author</th>\n",
       "    </tr>\n",
       "  </thead>\n",
       "  <tbody>\n",
       "    <tr>\n",
       "      <th>719027</th>\n",
       "      <td>2005-07-01 23:27:00</td>\n",
       "      <td>NaN</td>\n",
       "    </tr>\n",
       "  </tbody>\n",
       "</table>\n",
       "</div>"
      ],
      "text/plain": [
       "                  timestamp author\n",
       "719027  2005-07-01 23:27:00    NaN"
      ]
     },
     "execution_count": 12,
     "metadata": {},
     "output_type": "execute_result"
    }
   ],
   "source": [
    "git_log[missing]"
   ]
  },
  {
   "cell_type": "markdown",
   "metadata": {},
   "source": [
    "### Daten aggregieren"
   ]
  },
  {
   "cell_type": "markdown",
   "metadata": {},
   "source": [
    "#### Top 10 Autoren\n",
    "1. Zähle die Anzahl der Commits pro Autor der Spalte `author` in `git_log` mit der Methode `value_counts()`.\n",
    "1. Liste nur die TOP 10 der am häufigst vorkommenden Autoren auf.\n",
    "1. Speichere das Ergebnis in der Variable `top10`.\n",
    "1. Liste das Ergebnis in `top10` auf."
   ]
  },
  {
   "cell_type": "code",
   "execution_count": 13,
   "metadata": {},
   "outputs": [
    {
     "data": {
      "text/plain": [
       "Linus Torvalds           24259\n",
       "David S. Miller           9563\n",
       "Mark Brown                6917\n",
       "Takashi Iwai              6293\n",
       "Al Viro                   6064\n",
       "H Hartley Sweeten         5942\n",
       "Ingo Molnar               5462\n",
       "Mauro Carvalho Chehab     5384\n",
       "Arnd Bergmann             5305\n",
       "Greg Kroah-Hartman        4687\n",
       "Name: author, dtype: int64"
      ]
     },
     "execution_count": 13,
     "metadata": {},
     "output_type": "execute_result"
    }
   ],
   "source": [
    "top10 = git_log.author.value_counts().head(10)\n",
    "top10"
   ]
  },
  {
   "cell_type": "markdown",
   "metadata": {},
   "source": [
    "## matplotlib\n",
    "### Visualisierung\n",
    "\n",
    "#### Plotte Diagramm\n",
    "1. Weise Jupyter mit `%matplotlib inline` an, erzeugte Grafiken direkt im Notebook darzustellen.\n",
    "1. Erzeuge mit `plot()` auf der Series `top10` ein Diagramm."
   ]
  },
  {
   "cell_type": "code",
   "execution_count": 14,
   "metadata": {},
   "outputs": [
    {
     "data": {
      "text/plain": [
       "<matplotlib.axes._subplots.AxesSubplot at 0x1d0819494a8>"
      ]
     },
     "execution_count": 14,
     "metadata": {},
     "output_type": "execute_result"
    },
    {
     "data": {
      "image/png": "[encoded data removed]",
      "text/plain": [
       "<matplotlib.figure.Figure at 0x1d0817b7390>"
      ]
     },
     "metadata": {},
     "output_type": "display_data"
    }
   ],
   "source": [
    "%matplotlib inline\n",
    "top10.plot()"
   ]
  },
  {
   "cell_type": "markdown",
   "metadata": {},
   "source": [
    "#### Balkendiagramm erstellen\n",
    "1. Rufe die Untermethode `bar()` von `plot` für die Daten in `git_log` auf."
   ]
  },
  {
   "cell_type": "code",
   "execution_count": 15,
   "metadata": {},
   "outputs": [
    {
     "data": {
      "text/plain": [
       "<matplotlib.axes._subplots.AxesSubplot at 0x1d081969f98>"
      ]
     },
     "execution_count": 15,
     "metadata": {},
     "output_type": "execute_result"
    },
    {
     "data": {
      "image/png": "[encoded data removed]",
      "text/plain": [
       "<matplotlib.figure.Figure at 0x1d0819a40f0>"
      ]
     },
     "metadata": {},
     "output_type": "display_data"
    }
   ],
   "source": [
    "top10.plot.bar()"
   ]
  },
  {
   "cell_type": "markdown",
   "metadata": {},
   "source": [
    "#### Ausgabe verschönern\n",
    "1. Hänge ein `;` an den Aufruf oben und führe ihn erneut aus. *Was hat sich geändert?*"
   ]
  },
  {
   "cell_type": "code",
   "execution_count": 16,
   "metadata": {},
   "outputs": [
    {
     "data": {
      "image/png": "[encoded data removed]",
      "text/plain": [
       "<matplotlib.figure.Figure at 0x1d081a6b320>"
      ]
     },
     "metadata": {},
     "output_type": "display_data"
    }
   ],
   "source": [
    "top10.plot.bar();"
   ]
  },
  {
   "cell_type": "markdown",
   "metadata": {},
   "source": [
    "#### Tortendiagramm erstellen\n",
    "1. Rufe die Untermethode `pie()` von `plot` für die Daten in `top10` auf."
   ]
  },
  {
   "cell_type": "code",
   "execution_count": 17,
   "metadata": {},
   "outputs": [
    {
     "data": {
      "image/png": "[encoded data removed]",
      "text/plain": [
       "<matplotlib.figure.Figure at 0x1d081b05748>"
      ]
     },
     "metadata": {},
     "output_type": "display_data"
    }
   ],
   "source": [
    "top10.plot.pie();"
   ]
  },
  {
   "cell_type": "markdown",
   "metadata": {},
   "source": [
    "#### Verschönertes Tortendiagramm zaubern"
   ]
  },
  {
   "cell_type": "markdown",
   "metadata": {},
   "source": [
    "1. Erstelle noch einmal ein Tortendiagramm, diesmal direkt mit `plot()` der Series `top10` und mit folgenden Parametern:  \n",
    " * `kind=\"pie\"`\n",
    " * `figsize=[7,7]`\n",
    " * `title=\"Top 10 Autoren\"`\n",
    " * `label=\"\"`  \n",
    "\n",
    "*Tipp: Nutze die Autovervollständigung.*"
   ]
  },
  {
   "cell_type": "code",
   "execution_count": 18,
   "metadata": {},
   "outputs": [
    {
     "data": {
      "image/png": "[encoded data removed]",
      "text/plain": [
       "<matplotlib.figure.Figure at 0x1d081ae0f28>"
      ]
     },
     "metadata": {},
     "output_type": "display_data"
    }
   ],
   "source": [
    "top10.plot(\n",
    "    kind='pie',\n",
    "    title=\"TOP 10 author\",\n",
    "    label=\"\",\n",
    "    figsize=[5,5]);"
   ]
  },
  {
   "cell_type": "markdown",
   "metadata": {},
   "source": [
    "## Zeitreihenanalyse"
   ]
  },
  {
   "cell_type": "markdown",
   "metadata": {},
   "source": [
    "#### Zeitstempelspalte ansehen\n",
    "1. Zeige die ersten fünf Einträge der Series `timestamp` an."
   ]
  },
  {
   "cell_type": "code",
   "execution_count": 19,
   "metadata": {},
   "outputs": [
    {
     "data": {
      "text/plain": [
       "0    2017-12-31 14:47:43\n",
       "1    2017-12-31 13:13:56\n",
       "2    2017-12-31 13:03:05\n",
       "3    2017-12-31 12:30:34\n",
       "4    2017-12-31 12:29:02\n",
       "Name: timestamp, dtype: object"
      ]
     },
     "execution_count": 19,
     "metadata": {},
     "output_type": "execute_result"
    }
   ],
   "source": [
    "git_log.timestamp.head()"
   ]
  },
  {
   "cell_type": "markdown",
   "metadata": {},
   "source": [
    "#### Datentypkonvertierung\n",
    "1. Wandle mit Hilfe der Pandas-Funktion `pd.to_datetime` die Spalte `timestamp` in einen echten Datumsdatentyp um.\n",
    "1. Schreibe das Ergebnis in die neue Variable `ts` (Abkürzung für \"timestamp\").\n",
    "1. Gibt die ersten fünf Einträge aus."
   ]
  },
  {
   "cell_type": "code",
   "execution_count": 20,
   "metadata": {},
   "outputs": [
    {
     "data": {
      "text/plain": [
       "0   2017-12-31 14:47:43\n",
       "1   2017-12-31 13:13:56\n",
       "2   2017-12-31 13:03:05\n",
       "3   2017-12-31 12:30:34\n",
       "4   2017-12-31 12:29:02\n",
       "Name: timestamp, dtype: datetime64[ns]"
      ]
     },
     "execution_count": 20,
     "metadata": {},
     "output_type": "execute_result"
    }
   ],
   "source": [
    "ts = pd.to_datetime(git_log.timestamp)\n",
    "ts.head()"
   ]
  },
  {
   "cell_type": "markdown",
   "metadata": {},
   "source": [
    "#### Mit Zeitdaten arbeiten\n",
    "1. Greife auf das Datumsobjekt `dt` der Variable `ts` zu.\n",
    "1. Zeige die Stunden über die Eigenschaft `hour` des `dt`-Objekts an.\n",
    "1. Gebe die ersten fünf Einträge aus."
   ]
  },
  {
   "cell_type": "code",
   "execution_count": 21,
   "metadata": {},
   "outputs": [
    {
     "data": {
      "text/plain": [
       "0    14\n",
       "1    13\n",
       "2    13\n",
       "3    12\n",
       "4    12\n",
       "Name: timestamp, dtype: int64"
      ]
     },
     "execution_count": 21,
     "metadata": {},
     "output_type": "execute_result"
    }
   ],
   "source": [
    "ts.dt.hour.head()"
   ]
  },
  {
   "cell_type": "markdown",
   "metadata": {},
   "source": [
    "#### Commit-Lieblingszeit herausfinden\n",
    "1. Zähle die Häufigkeit der Commits pro Stunde.\n",
    " 1. Schallte hier die Sortierung mit dem Parameter `sort=False` aus.\n",
    "1. Speichere das Ergebnis in `commits_je_stunde`."
   ]
  },
  {
   "cell_type": "code",
   "execution_count": 22,
   "metadata": {},
   "outputs": [
    {
     "data": {
      "text/plain": [
       "0    19533\n",
       "1    15044\n",
       "2    10420\n",
       "3     7000\n",
       "4     6068\n",
       "Name: timestamp, dtype: int64"
      ]
     },
     "execution_count": 22,
     "metadata": {},
     "output_type": "execute_result"
    }
   ],
   "source": [
    "commits_je_stunde = ts.dt.hour.value_counts(sort=False)\n",
    "commits_je_stunde.head()"
   ]
  },
  {
   "cell_type": "markdown",
   "metadata": {},
   "source": [
    "#### Endergebnis\n",
    "1. Plotte ein Balkendiagramm über die stündliche Commit-Anzahl."
   ]
  },
  {
   "cell_type": "code",
   "execution_count": 23,
   "metadata": {},
   "outputs": [
    {
     "data": {
      "image/png": "[encoded data removed]",
      "text/plain": [
       "<matplotlib.figure.Figure at 0x1d081b37ba8>"
      ]
     },
     "metadata": {},
     "output_type": "display_data"
    }
   ],
   "source": [
    "commits_je_stunde.plot.bar();"
   ]
  },
  {
   "cell_type": "markdown",
   "metadata": {},
   "source": [
    "## Was jetzt noch alles fehlt\n",
    "Wir haben jetzt einige Grundlagen zu Pandas kennengelernt. Damit kommen wir schon sehr weit in der täglichen Arbeit. Die anderen wichtigen Themenbereiche, die nun noch fehlen, sind:\n",
    "* Einlesen komplizierter, semistrukturierte Datenstrukturen\n",
    "* Umfassende Bereinigung von schlechter Datenqualität\n",
    "* Zusammenführen verschiedener Datenquellen\n",
    "* Gruppieren von gleichartigen Daten mittels `groupby`\n",
    "* Umformen von `DataFrame`s mittels `pivot_table`\n",
    "\n",
    "## Zusammenfassung\n",
    "Ich hoffe, dass ich Dir mit diesem Mini-Tutorial das Potenzial von Datenanalysen mittels Jupyter, Python und matplotlib näherbringen konnte. \n",
    "\n",
    "Über Anmerkungen und Feedback freue ich mich!  \n",
    "\n",
    "   \n",
    "## Kontakt\n",
    " \n",
    "**Markus Harrer**  \n",
    "Blog: https://www.feststelltaste.de  \n",
    "Mail:  <a href=\"mailto:talk@markusharrer.de\">talk@markusharrer.de</a>    \n",
    "Twitter: [@feststelltaste](https://twitter.com/feststelltaste)  \n",
    "Beratung und Training: http://markusharrer.de"
   ]
  }
 ],
 "metadata": {
  "kernelspec": {
   "display_name": "Python 3",
   "language": "python",
   "name": "python3"
  },
  "language_info": {
   "codemirror_mode": {
    "name": "ipython",
    "version": 3
   },
   "file_extension": ".py",
   "mimetype": "text/x-python",
   "name": "python",
   "nbconvert_exporter": "python",
   "pygments_lexer": "ipython3",
   "version": "3.6.4"
  }
 },
 "nbformat": 4,
 "nbformat_minor": 2
}
