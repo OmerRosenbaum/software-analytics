{
 "cells": [
  {
   "cell_type": "markdown",
   "metadata": {},
   "source": [
    "# Analyse der Git-Historie des Linux Kernels"
   ]
  },
  {
   "cell_type": "markdown",
   "metadata": {},
   "source": [
    "## Einleitung\n",
    "Mit diesem Arbeitsblatt erlernen wir die ersten Schritte mit Jupyter, Python, pandas und matplotlib anhand eines praktischem Beispiels: Der Analyse der Entwicklungsgeschichte des Linux Kernels.\n",
    "\n",
    "Das komplette und ausführlich beschriebene Mini-Tutorial ist auch auf meinem Blog zu finden unter https://www.feststelltaste.de/mini-tutorial-git-log-analyse-mit-python-und-pandas/."
   ]
  },
  {
   "cell_type": "markdown",
   "metadata": {},
   "source": [
    "## Aufgabe\n",
    "* Wir wollen herausfinden,\n",
    " * wer die TOP 10 Autoren mit den häufigsten Commits (=Codeänderungen) sind\n",
    " * zu welcher Tagesstunde die meisten Commits vorgenommen werden.\n",
    " \n",
    "Als Basis haben wir einen Datensatz in einer Datei, der uns pro Commit den Zeitstempel sowie den Autor der Codeänderung aufführt:\n",
    "\n",
    "```\n",
    "timestamp,author\n",
    "2017-12-31 14:47:43,Linus Torvalds\n",
    "2017-12-31 13:13:56,Linus Torvalds\n",
    "2017-12-31 13:03:05,Linus Torvalds\n",
    "2017-12-31 12:30:34,Linus Torvalds\n",
    "2017-12-31 12:29:02,Linus Torvalds\n",
    "```\n",
    "\n",
    "Diese Daten habe ich mir im Grunde über `git` (https://git-scm.com) aus dem GitHub-Repository https://github.com/torvalds/linux/ erzeugen lassen (und für das Mini-Tutorial ein wenig vereinfacht...).\n",
    "\n",
    "Aber der Reihe nach &ndash; lernen wir ersteinmal die Werkzeuge näher kennen."
   ]
  },
  {
   "cell_type": "markdown",
   "metadata": {},
   "source": [
    "## Jupyter\n",
    "Jupyter biete uns Code und Dokumentation in ausführbare **Zellen**.\n",
    "\n",
    "#### Codeausführung\n",
    "\n",
    "1. Wähle die nächste Zelle aus (Mausklick oder mit Pfeiltasten).\n",
    "1. Führe die Zelle mit einem `Strg`+`Enter` aus. \n",
    "1. Führe die Zelle noch einmal mit `Shift`+`Enter`. *Was ist der Unterschied der **Ergebnissausgabe** *?"
   ]
  },
  {
   "cell_type": "code",
   "execution_count": null,
   "metadata": {},
   "outputs": [],
   "source": [
    "\"Hello World\""
   ]
  },
  {
   "cell_type": "markdown",
   "metadata": {},
   "source": [
    "#### Neue Zelle anlegen\n",
    "1. Wenn noch nicht passiert, wähle diese Zelle aus.\n",
    "1. Gehe in den **Befehlsmodus**, auswählbar mit Taste `ESC`.\n",
    "1. Erstelle nach diesem Text eine **neue Zelle** mit der Taste `b`. \n",
    "1. Wechlse den **Zelltyp** zu \"Markdown\" mit Taste `m`.\n",
    "1. Wechlse in den **Eingabemodus** mit `Enter`.\n",
    "1. Schreibe einen Text, den Du dann mit `Strg` + `Enter` \"ausführst\"."
   ]
  },
  {
   "cell_type": "markdown",
   "metadata": {},
   "source": [
    "## Python\n",
    "Wir sehen uns sehr grundlegende Funktionen an:\n",
    "\n",
    "- Variablenzuweisungen\n",
    "- Wertebereichszugriffe\n",
    "- Methodenaufrufe"
   ]
  },
  {
   "cell_type": "markdown",
   "metadata": {},
   "source": [
    "#### Text einer Variable zuweisen\n",
    "1. Schreibe den Text \"Hello World\" per **Zuweisung** `=` in die **Variable** `text`.\n",
    "1. Schreibe die Variable `text` in die nächste Zeile und führe die Zelle aus."
   ]
  },
  {
   "cell_type": "code",
   "execution_count": null,
   "metadata": {},
   "outputs": [],
   "source": []
  },
  {
   "cell_type": "markdown",
   "metadata": {},
   "source": [
    "#### Auf Werte zugreifen\n",
    "1. Greife mit `[0]` auf den ersten Buchstaben in `text` zu."
   ]
  },
  {
   "cell_type": "code",
   "execution_count": null,
   "metadata": {},
   "outputs": [],
   "source": []
  },
  {
   "cell_type": "markdown",
   "metadata": {},
   "source": [
    "#### Letzten Wert wählen\n",
    "1. Greife mit `[-1]` auf den letzten Buchstaben in `text` zu."
   ]
  },
  {
   "cell_type": "code",
   "execution_count": null,
   "metadata": {},
   "outputs": [],
   "source": []
  },
  {
   "cell_type": "markdown",
   "metadata": {},
   "source": [
    "#### Wertebereiche wählen\n",
    "1. Greife mit dem **Slice** `[2:5]` auf einen Bereich von `text` zu."
   ]
  },
  {
   "cell_type": "code",
   "execution_count": null,
   "metadata": {},
   "outputs": [],
   "source": []
  },
  {
   "cell_type": "markdown",
   "metadata": {},
   "source": [
    "#### Autovervollständigung\n",
    "1. Hänge einen `.` an `text` und siehe Dir die Funktionen mit der Taste `Tab` an.\n",
    "1. Führe die **Methode** `upper()` aus (Tipp: Tippe ein `u` in der Funktionsübersicht)."
   ]
  },
  {
   "cell_type": "code",
   "execution_count": null,
   "metadata": {},
   "outputs": [],
   "source": []
  },
  {
   "cell_type": "markdown",
   "metadata": {},
   "source": [
    "#### Interaktive Dokumentation\n",
    "1. Wähle die Funktion `split` von `text`.\n",
    "1. Drücke `Shift`+`Tab`.\n",
    "1. Drücke `Shift`+`Tab` zweimal schnell hintereinander.\n",
    "1. Drücke `Shift`+`Tab` viermal schnell hintereinander (und anschlißend `ESC` zum ausblenden) \n",
    "1. Teile mit `split` den Text in `text` anhand der `l`s genau einmal auf."
   ]
  },
  {
   "cell_type": "code",
   "execution_count": null,
   "metadata": {},
   "outputs": [],
   "source": []
  },
  {
   "cell_type": "markdown",
   "metadata": {},
   "source": [
    "## Pandas"
   ]
  },
  {
   "cell_type": "markdown",
   "metadata": {},
   "source": [
    "### Daten importieren\n",
    "\n",
    "#### Modul laden\n",
    "1. Importiere das Modul `pandas` mit `import <modulname> as <kuerzel>` als abgekürztes `pd`\n",
    "1. Schau Dir in der nächsten Zeile mit einem angehängten `?` an, was in der Variable `pd` nun steckt."
   ]
  },
  {
   "cell_type": "code",
   "execution_count": null,
   "metadata": {},
   "outputs": [],
   "source": []
  },
  {
   "cell_type": "markdown",
   "metadata": {},
   "source": [
    "#### Datei einlesen\n",
    "1. Lese mit der `read_csv`-Methode die Daten von der Adresse ein, die in `URL` steht.\n",
    " 1. Gib hier den zu verwendenden Kompressionsalgorithmus mittels `compression='gzip' ` mit an. \n",
    " 1. Schreibe das Ergebnis in die Variable `git_log`.\n",
    "1. Zeige die ersten fünf Einträge (= Commits aka Codeänderungen) in `git_log` mit der Methode `head()` an."
   ]
  },
  {
   "cell_type": "code",
   "execution_count": null,
   "metadata": {},
   "outputs": [],
   "source": [
    "URL = \"https://raw.githubusercontent.com/feststelltaste/software-analytics/master/demos/dataset/git_demo_timestamp_linux.gz\"\n"
   ]
  },
  {
   "cell_type": "markdown",
   "metadata": {},
   "source": [
    "#### Daten kennenlernen\n",
    "1. Rufe `info()` auf `git_log` auf."
   ]
  },
  {
   "cell_type": "code",
   "execution_count": null,
   "metadata": {},
   "outputs": [],
   "source": []
  },
  {
   "cell_type": "markdown",
   "metadata": {},
   "source": [
    "Wir sehen, dass in `git_log` \n",
    "* ein **DataFrame** steckt, der aus\n",
    " * zwei Spalten (sog. **Series**) besteht. \n",
    "* Wir sehen auch, dass wir\n",
    " * 723214 Einträge in der Spalte `timestamp` (=Commit-Zeitpunkt) haben\n",
    " * aber nur 723213 bei `author` (=Programmierer)."
   ]
  },
  {
   "cell_type": "markdown",
   "metadata": {},
   "source": [
    "#### Datenfehler erkennen"
   ]
  },
  {
   "cell_type": "markdown",
   "metadata": {},
   "source": [
    "1. Greife auf die Spalte `author` mit der Schreibweise `git_log.author` zu.\n",
    "1. Berechne fehlende Autor mit einem angehängten `.isnull()`-Aufruf.\n",
    "1. Schreibe das Ergebnis in `missing`.\n",
    "1. Gib die ersten fünf Einträge von `missing` aus."
   ]
  },
  {
   "cell_type": "code",
   "execution_count": null,
   "metadata": {},
   "outputs": [],
   "source": []
  },
  {
   "cell_type": "markdown",
   "metadata": {},
   "source": [
    "#### Daten selektieren\n",
    "1. Selektiere alle fehlenden Autoren in `git_log` mit dem **Selektor**  `[<Series>]` und Daten in der Series `missing`."
   ]
  },
  {
   "cell_type": "code",
   "execution_count": null,
   "metadata": {},
   "outputs": [],
   "source": []
  },
  {
   "cell_type": "markdown",
   "metadata": {},
   "source": [
    "### Daten aggregieren"
   ]
  },
  {
   "cell_type": "markdown",
   "metadata": {},
   "source": [
    "#### Top 10 Autoren\n",
    "1. Zähle die Anzahl der Commits pro Autor in `git_log` mit der Methode `value_counts()`.\n",
    "1. Liste nur die TOP 10 am häufig vorkommendsten Autoren auf.\n",
    "1. Speichere das Ergebnis in der Variable `top10`.\n",
    "1. Liste das Ergebnis in `top10` auf."
   ]
  },
  {
   "cell_type": "code",
   "execution_count": null,
   "metadata": {},
   "outputs": [],
   "source": []
  },
  {
   "cell_type": "markdown",
   "metadata": {},
   "source": [
    "## matplotlib\n",
    "### Visualisierung\n",
    "1. Weise Jupyter mit `%matplotlib inline` an, erzeugte Grafiken direkt im Notebook darzustellen.\n",
    "1. Rufe `plot()` auf die Series `top10` auf."
   ]
  },
  {
   "cell_type": "code",
   "execution_count": null,
   "metadata": {},
   "outputs": [],
   "source": []
  },
  {
   "cell_type": "markdown",
   "metadata": {},
   "source": [
    "#### Balkendiagramm erstellen\n",
    "1. Rufe die Untermethode `bar()` von `plot` für die Daten in `git_log` auf.\n",
    "1. Hänge ein `;` an den Aufruf. *Was hat sich geändert?*"
   ]
  },
  {
   "cell_type": "code",
   "execution_count": null,
   "metadata": {},
   "outputs": [],
   "source": []
  },
  {
   "cell_type": "markdown",
   "metadata": {},
   "source": [
    "#### Tortendiagramm erstellen\n",
    "1. Rufe die Untermethode `plot()` von `plot` für die Daten in `git_log` auf."
   ]
  },
  {
   "cell_type": "code",
   "execution_count": null,
   "metadata": {},
   "outputs": [],
   "source": []
  },
  {
   "cell_type": "markdown",
   "metadata": {},
   "source": [
    "1. Erstelle noch einmal ein Tortendiagramm mit folgenden Parametern:  \n",
    " * `figsize=[7,7]`\n",
    " * `title=\"Top 10 Autoren\"`\n",
    " * `labels=None`"
   ]
  },
  {
   "cell_type": "markdown",
   "metadata": {},
   "source": [
    "## Zeitreihenanalyse"
   ]
  },
  {
   "cell_type": "markdown",
   "metadata": {},
   "source": [
    "#### Zeitstempelspalte ansehen\n",
    "1. Zeige die ersten fünf Einträge der Series `timestamp` an."
   ]
  },
  {
   "cell_type": "code",
   "execution_count": null,
   "metadata": {},
   "outputs": [],
   "source": []
  },
  {
   "cell_type": "markdown",
   "metadata": {},
   "source": [
    "#### Datentypkonvertierung\n",
    "1. Wandle mit Hilfe der Pandas-Funktion `pd.to_datetime` die Spalte `timestamp` in einen echten Datumdatentyp\n",
    "1. Schreibe das Ergebnis in die Variable `timestamp`\n",
    "1. Gibt die ersten fünf Einträge aus."
   ]
  },
  {
   "cell_type": "code",
   "execution_count": null,
   "metadata": {},
   "outputs": [],
   "source": []
  },
  {
   "cell_type": "markdown",
   "metadata": {},
   "source": [
    "#### Mit Zeitdaten arbeiten\n",
    "1. Greife auf das DatumsObjekt `dt` der Variable `timestamp` zu.\n",
    "1. Zeige für die Stunden `hour` an.\n",
    "1. Gebe die ersten fünf Einträge aus."
   ]
  },
  {
   "cell_type": "code",
   "execution_count": null,
   "metadata": {},
   "outputs": [],
   "source": []
  },
  {
   "cell_type": "markdown",
   "metadata": {},
   "source": [
    "#### Commit-Lieblingszeit herausfinden\n",
    "1. Zähle die Häufigkeit der Commits pro Stunde.\n",
    " 1. Stelle die Sortierung mit dem Parameter `sort=False` aus.\n",
    "1. Speichere das Ergebnis in `commits_je_stunde`."
   ]
  },
  {
   "cell_type": "code",
   "execution_count": null,
   "metadata": {},
   "outputs": [],
   "source": []
  },
  {
   "cell_type": "markdown",
   "metadata": {},
   "source": [
    "#### Endergebnis\n",
    "1. Plotte ein Balkendiagramm über die stündliche Commit-Anzahl."
   ]
  },
  {
   "cell_type": "code",
   "execution_count": null,
   "metadata": {},
   "outputs": [],
   "source": []
  },
  {
   "cell_type": "markdown",
   "metadata": {},
   "source": [
    "## Was jetzt noch alles fehlt\n",
    "Wir haben jetzt einige Grundlagen zu Pandas kennengelernt. Damit kommen wir schon sehr weit in der täglichen Arbeit. Die anderen wichtigen Themenbereiche, die nun noch fehlen, sind:\n",
    "* Einlesen komplizierter, semistrukturierte Datenstrukturen\n",
    "* Umfassende Bereinigung von schlechter Datenqualität\n",
    "* Zusammenführen verschiedener Datenquellen\n",
    "* Gruppieren von gleichartigen Daten mittels `groupby`\n",
    "* Umformen von `DataFrame`s mittels `pivot_table`\n",
    "\n",
    "## Zusammenfassung\n",
    "Ich hoffe, dass ich Dir mit diesem Mini-Tutorial das Potenzial von Datenanalysen mittels Jupyter, Python und matplotlib näherbringen konnte. \n",
    "\n",
    "Über Anmerkungen und Feedback freue ich mich!  \n",
    "\n",
    "   \n",
    "## Kontakt\n",
    " \n",
    "**Markus Harrer**  \n",
    "Blog: https://www.feststelltaste.de  \n",
    "Mail:  <a href=\"mailto:talk@markusharrer.de\">talk@markusharrer.de</a>    \n",
    "Twitter: [@feststelltaste](https://twitter.com/feststelltaste)  \n",
    "Beratung und Training: http://markusharrer.de"
   ]
  }
 ],
 "metadata": {
  "kernelspec": {
   "display_name": "Python 3",
   "language": "python",
   "name": "python3"
  },
  "language_info": {
   "codemirror_mode": {
    "name": "ipython",
    "version": 3
   },
   "file_extension": ".py",
   "mimetype": "text/x-python",
   "name": "python",
   "nbconvert_exporter": "python",
   "pygments_lexer": "ipython3",
   "version": "3.6.4"
  }
 },
 "nbformat": 4,
 "nbformat_minor": 2
}
