{
 "cells": [
  {
   "cell_type": "code",
   "execution_count": 1,
   "metadata": {},
   "outputs": [
    {
     "data": {
      "text/html": [
       "<div>\n",
       "<style scoped>\n",
       "    .dataframe tbody tr th:only-of-type {\n",
       "        vertical-align: middle;\n",
       "    }\n",
       "\n",
       "    .dataframe tbody tr th {\n",
       "        vertical-align: top;\n",
       "    }\n",
       "\n",
       "    .dataframe thead th {\n",
       "        text-align: right;\n",
       "    }\n",
       "</style>\n",
       "<table border=\"1\" class=\"dataframe\">\n",
       "  <thead>\n",
       "    <tr style=\"text-align: right;\">\n",
       "      <th></th>\n",
       "      <th>path</th>\n",
       "      <th>author</th>\n",
       "      <th>timestamp</th>\n",
       "      <th>line</th>\n",
       "    </tr>\n",
       "  </thead>\n",
       "  <tbody>\n",
       "    <tr>\n",
       "      <th>0</th>\n",
       "      <td>drivers/scsi/bfa/bfad_drv.h</td>\n",
       "      <td>Anil Gurumurthy</td>\n",
       "      <td>1448528085000000000</td>\n",
       "      <td>1</td>\n",
       "    </tr>\n",
       "    <tr>\n",
       "      <th>1</th>\n",
       "      <td>drivers/scsi/bfa/bfad_drv.h</td>\n",
       "      <td>Anil Gurumurthy</td>\n",
       "      <td>1448528085000000000</td>\n",
       "      <td>2</td>\n",
       "    </tr>\n",
       "    <tr>\n",
       "      <th>2</th>\n",
       "      <td>drivers/scsi/bfa/bfad_drv.h</td>\n",
       "      <td>Anil Gurumurthy</td>\n",
       "      <td>1448528085000000000</td>\n",
       "      <td>3</td>\n",
       "    </tr>\n",
       "    <tr>\n",
       "      <th>3</th>\n",
       "      <td>drivers/scsi/bfa/bfad_drv.h</td>\n",
       "      <td>Jing Huang</td>\n",
       "      <td>1253753175000000000</td>\n",
       "      <td>4</td>\n",
       "    </tr>\n",
       "    <tr>\n",
       "      <th>4</th>\n",
       "      <td>drivers/scsi/bfa/bfad_drv.h</td>\n",
       "      <td>Anil Gurumurthy</td>\n",
       "      <td>1448528085000000000</td>\n",
       "      <td>5</td>\n",
       "    </tr>\n",
       "  </tbody>\n",
       "</table>\n",
       "</div>"
      ],
      "text/plain": [
       "                          path           author            timestamp  line\n",
       "0  drivers/scsi/bfa/bfad_drv.h  Anil Gurumurthy  1448528085000000000     1\n",
       "1  drivers/scsi/bfa/bfad_drv.h  Anil Gurumurthy  1448528085000000000     2\n",
       "2  drivers/scsi/bfa/bfad_drv.h  Anil Gurumurthy  1448528085000000000     3\n",
       "3  drivers/scsi/bfa/bfad_drv.h       Jing Huang  1253753175000000000     4\n",
       "4  drivers/scsi/bfa/bfad_drv.h  Anil Gurumurthy  1448528085000000000     5"
      ]
     },
     "execution_count": 1,
     "metadata": {},
     "output_type": "execute_result"
    }
   ],
   "source": [
    "import pandas as pd\n",
    "\n",
    "blame = pd.read_csv(\"../dataset/linux_blame_log.csv\")\n",
    "blame.head()"
   ]
  },
  {
   "cell_type": "code",
   "execution_count": 2,
   "metadata": {},
   "outputs": [
    {
     "name": "stdout",
     "output_type": "stream",
     "text": [
      "<class 'pandas.core.frame.DataFrame'>\n",
      "RangeIndex: 5665947 entries, 0 to 5665946\n",
      "Data columns (total 4 columns):\n",
      "path         object\n",
      "author       object\n",
      "timestamp    int64\n",
      "line         int64\n",
      "dtypes: int64(2), object(2)\n",
      "memory usage: 172.9+ MB\n"
     ]
    }
   ],
   "source": [
    "blame.info()"
   ]
  },
  {
   "cell_type": "code",
   "execution_count": 3,
   "metadata": {},
   "outputs": [
    {
     "data": {
      "text/plain": [
       "Linus Torvalds           838200\n",
       "Hans Verkuil             118432\n",
       "Mauro Carvalho Chehab    102107\n",
       "Michael Chan              53945\n",
       "Mike Marciniszyn          44843\n",
       "Ralph Campbell            42453\n",
       "Nicholas Bellinger        41823\n",
       "Laurent Pinchart          40438\n",
       "Antti Palosaari           40390\n",
       "Alexander Duyck           39307\n",
       "Name: author, dtype: int64"
      ]
     },
     "execution_count": 3,
     "metadata": {},
     "output_type": "execute_result"
    }
   ],
   "source": [
    "top10 = blame.author.value_counts().head(10)\n",
    "top10"
   ]
  },
  {
   "cell_type": "code",
   "execution_count": 4,
   "metadata": {},
   "outputs": [
    {
     "data": {
      "text/plain": [
       "<matplotlib.axes._subplots.AxesSubplot at 0x1ce80847f60>"
      ]
     },
     "execution_count": 4,
     "metadata": {},
     "output_type": "execute_result"
    },
    {
     "data": {
      "image/png": "[encoded data removed]",
      "text/plain": [
       "<matplotlib.figure.Figure at 0x1cefc8beba8>"
      ]
     },
     "metadata": {},
     "output_type": "display_data"
    }
   ],
   "source": [
    "%matplotlib inline\n",
    "top10.plot.pie()"
   ]
  },
  {
   "cell_type": "code",
   "execution_count": 5,
   "metadata": {},
   "outputs": [
    {
     "data": {
      "text/html": [
       "<div>\n",
       "<style scoped>\n",
       "    .dataframe tbody tr th:only-of-type {\n",
       "        vertical-align: middle;\n",
       "    }\n",
       "\n",
       "    .dataframe tbody tr th {\n",
       "        vertical-align: top;\n",
       "    }\n",
       "\n",
       "    .dataframe thead th {\n",
       "        text-align: right;\n",
       "    }\n",
       "</style>\n",
       "<table border=\"1\" class=\"dataframe\">\n",
       "  <thead>\n",
       "    <tr style=\"text-align: right;\">\n",
       "      <th></th>\n",
       "      <th>path</th>\n",
       "      <th>author</th>\n",
       "      <th>timestamp</th>\n",
       "      <th>line</th>\n",
       "    </tr>\n",
       "  </thead>\n",
       "  <tbody>\n",
       "    <tr>\n",
       "      <th>0</th>\n",
       "      <td>drivers/scsi/bfa/bfad_drv.h</td>\n",
       "      <td>Anil Gurumurthy</td>\n",
       "      <td>2015-11-26 08:54:45</td>\n",
       "      <td>1</td>\n",
       "    </tr>\n",
       "    <tr>\n",
       "      <th>1</th>\n",
       "      <td>drivers/scsi/bfa/bfad_drv.h</td>\n",
       "      <td>Anil Gurumurthy</td>\n",
       "      <td>2015-11-26 08:54:45</td>\n",
       "      <td>2</td>\n",
       "    </tr>\n",
       "    <tr>\n",
       "      <th>2</th>\n",
       "      <td>drivers/scsi/bfa/bfad_drv.h</td>\n",
       "      <td>Anil Gurumurthy</td>\n",
       "      <td>2015-11-26 08:54:45</td>\n",
       "      <td>3</td>\n",
       "    </tr>\n",
       "    <tr>\n",
       "      <th>3</th>\n",
       "      <td>drivers/scsi/bfa/bfad_drv.h</td>\n",
       "      <td>Jing Huang</td>\n",
       "      <td>2009-09-24 00:46:15</td>\n",
       "      <td>4</td>\n",
       "    </tr>\n",
       "    <tr>\n",
       "      <th>4</th>\n",
       "      <td>drivers/scsi/bfa/bfad_drv.h</td>\n",
       "      <td>Anil Gurumurthy</td>\n",
       "      <td>2015-11-26 08:54:45</td>\n",
       "      <td>5</td>\n",
       "    </tr>\n",
       "  </tbody>\n",
       "</table>\n",
       "</div>"
      ],
      "text/plain": [
       "                          path           author           timestamp  line\n",
       "0  drivers/scsi/bfa/bfad_drv.h  Anil Gurumurthy 2015-11-26 08:54:45     1\n",
       "1  drivers/scsi/bfa/bfad_drv.h  Anil Gurumurthy 2015-11-26 08:54:45     2\n",
       "2  drivers/scsi/bfa/bfad_drv.h  Anil Gurumurthy 2015-11-26 08:54:45     3\n",
       "3  drivers/scsi/bfa/bfad_drv.h       Jing Huang 2009-09-24 00:46:15     4\n",
       "4  drivers/scsi/bfa/bfad_drv.h  Anil Gurumurthy 2015-11-26 08:54:45     5"
      ]
     },
     "execution_count": 5,
     "metadata": {},
     "output_type": "execute_result"
    }
   ],
   "source": [
    "blame.timestamp = pd.to_datetime(blame.timestamp)\n",
    "blame.head()"
   ]
  },
  {
   "cell_type": "code",
   "execution_count": 6,
   "metadata": {},
   "outputs": [
    {
     "data": {
      "text/html": [
       "<div>\n",
       "<style scoped>\n",
       "    .dataframe tbody tr th:only-of-type {\n",
       "        vertical-align: middle;\n",
       "    }\n",
       "\n",
       "    .dataframe tbody tr th {\n",
       "        vertical-align: top;\n",
       "    }\n",
       "\n",
       "    .dataframe thead th {\n",
       "        text-align: right;\n",
       "    }\n",
       "</style>\n",
       "<table border=\"1\" class=\"dataframe\">\n",
       "  <thead>\n",
       "    <tr style=\"text-align: right;\">\n",
       "      <th></th>\n",
       "      <th>path</th>\n",
       "      <th>author</th>\n",
       "      <th>timestamp</th>\n",
       "      <th>line</th>\n",
       "      <th>age</th>\n",
       "    </tr>\n",
       "  </thead>\n",
       "  <tbody>\n",
       "    <tr>\n",
       "      <th>0</th>\n",
       "      <td>drivers/scsi/bfa/bfad_drv.h</td>\n",
       "      <td>Anil Gurumurthy</td>\n",
       "      <td>2015-11-26 08:54:45</td>\n",
       "      <td>1</td>\n",
       "      <td>1036 days 22:35:22.839129</td>\n",
       "    </tr>\n",
       "    <tr>\n",
       "      <th>1</th>\n",
       "      <td>drivers/scsi/bfa/bfad_drv.h</td>\n",
       "      <td>Anil Gurumurthy</td>\n",
       "      <td>2015-11-26 08:54:45</td>\n",
       "      <td>2</td>\n",
       "      <td>1036 days 22:35:22.839129</td>\n",
       "    </tr>\n",
       "    <tr>\n",
       "      <th>2</th>\n",
       "      <td>drivers/scsi/bfa/bfad_drv.h</td>\n",
       "      <td>Anil Gurumurthy</td>\n",
       "      <td>2015-11-26 08:54:45</td>\n",
       "      <td>3</td>\n",
       "      <td>1036 days 22:35:22.839129</td>\n",
       "    </tr>\n",
       "    <tr>\n",
       "      <th>3</th>\n",
       "      <td>drivers/scsi/bfa/bfad_drv.h</td>\n",
       "      <td>Jing Huang</td>\n",
       "      <td>2009-09-24 00:46:15</td>\n",
       "      <td>4</td>\n",
       "      <td>3291 days 06:43:52.839129</td>\n",
       "    </tr>\n",
       "    <tr>\n",
       "      <th>4</th>\n",
       "      <td>drivers/scsi/bfa/bfad_drv.h</td>\n",
       "      <td>Anil Gurumurthy</td>\n",
       "      <td>2015-11-26 08:54:45</td>\n",
       "      <td>5</td>\n",
       "      <td>1036 days 22:35:22.839129</td>\n",
       "    </tr>\n",
       "  </tbody>\n",
       "</table>\n",
       "</div>"
      ],
      "text/plain": [
       "                          path           author           timestamp  line  \\\n",
       "0  drivers/scsi/bfa/bfad_drv.h  Anil Gurumurthy 2015-11-26 08:54:45     1   \n",
       "1  drivers/scsi/bfa/bfad_drv.h  Anil Gurumurthy 2015-11-26 08:54:45     2   \n",
       "2  drivers/scsi/bfa/bfad_drv.h  Anil Gurumurthy 2015-11-26 08:54:45     3   \n",
       "3  drivers/scsi/bfa/bfad_drv.h       Jing Huang 2009-09-24 00:46:15     4   \n",
       "4  drivers/scsi/bfa/bfad_drv.h  Anil Gurumurthy 2015-11-26 08:54:45     5   \n",
       "\n",
       "                        age  \n",
       "0 1036 days 22:35:22.839129  \n",
       "1 1036 days 22:35:22.839129  \n",
       "2 1036 days 22:35:22.839129  \n",
       "3 3291 days 06:43:52.839129  \n",
       "4 1036 days 22:35:22.839129  "
      ]
     },
     "execution_count": 6,
     "metadata": {},
     "output_type": "execute_result"
    }
   ],
   "source": [
    "blame['age'] = pd.Timestamp('today') - blame.timestamp\n",
    "blame.head()"
   ]
  },
  {
   "cell_type": "code",
   "execution_count": 11,
   "metadata": {},
   "outputs": [
    {
     "data": {
      "text/html": [
       "<div>\n",
       "<style scoped>\n",
       "    .dataframe tbody tr th:only-of-type {\n",
       "        vertical-align: middle;\n",
       "    }\n",
       "\n",
       "    .dataframe tbody tr th {\n",
       "        vertical-align: top;\n",
       "    }\n",
       "\n",
       "    .dataframe thead th {\n",
       "        text-align: right;\n",
       "    }\n",
       "</style>\n",
       "<table border=\"1\" class=\"dataframe\">\n",
       "  <thead>\n",
       "    <tr style=\"text-align: right;\">\n",
       "      <th></th>\n",
       "      <th>path</th>\n",
       "      <th>author</th>\n",
       "      <th>timestamp</th>\n",
       "      <th>line</th>\n",
       "      <th>age</th>\n",
       "      <th>components</th>\n",
       "    </tr>\n",
       "  </thead>\n",
       "  <tbody>\n",
       "    <tr>\n",
       "      <th>0</th>\n",
       "      <td>drivers/scsi/bfa/bfad_drv.h</td>\n",
       "      <td>Anil Gurumurthy</td>\n",
       "      <td>2015-11-26 08:54:45</td>\n",
       "      <td>1</td>\n",
       "      <td>1036 days 22:35:22.839129</td>\n",
       "      <td>drivers:scsi</td>\n",
       "    </tr>\n",
       "    <tr>\n",
       "      <th>1</th>\n",
       "      <td>drivers/scsi/bfa/bfad_drv.h</td>\n",
       "      <td>Anil Gurumurthy</td>\n",
       "      <td>2015-11-26 08:54:45</td>\n",
       "      <td>2</td>\n",
       "      <td>1036 days 22:35:22.839129</td>\n",
       "      <td>drivers:scsi</td>\n",
       "    </tr>\n",
       "    <tr>\n",
       "      <th>2</th>\n",
       "      <td>drivers/scsi/bfa/bfad_drv.h</td>\n",
       "      <td>Anil Gurumurthy</td>\n",
       "      <td>2015-11-26 08:54:45</td>\n",
       "      <td>3</td>\n",
       "      <td>1036 days 22:35:22.839129</td>\n",
       "      <td>drivers:scsi</td>\n",
       "    </tr>\n",
       "    <tr>\n",
       "      <th>3</th>\n",
       "      <td>drivers/scsi/bfa/bfad_drv.h</td>\n",
       "      <td>Jing Huang</td>\n",
       "      <td>2009-09-24 00:46:15</td>\n",
       "      <td>4</td>\n",
       "      <td>3291 days 06:43:52.839129</td>\n",
       "      <td>drivers:scsi</td>\n",
       "    </tr>\n",
       "    <tr>\n",
       "      <th>4</th>\n",
       "      <td>drivers/scsi/bfa/bfad_drv.h</td>\n",
       "      <td>Anil Gurumurthy</td>\n",
       "      <td>2015-11-26 08:54:45</td>\n",
       "      <td>5</td>\n",
       "      <td>1036 days 22:35:22.839129</td>\n",
       "      <td>drivers:scsi</td>\n",
       "    </tr>\n",
       "  </tbody>\n",
       "</table>\n",
       "</div>"
      ],
      "text/plain": [
       "                          path           author           timestamp  line  \\\n",
       "0  drivers/scsi/bfa/bfad_drv.h  Anil Gurumurthy 2015-11-26 08:54:45     1   \n",
       "1  drivers/scsi/bfa/bfad_drv.h  Anil Gurumurthy 2015-11-26 08:54:45     2   \n",
       "2  drivers/scsi/bfa/bfad_drv.h  Anil Gurumurthy 2015-11-26 08:54:45     3   \n",
       "3  drivers/scsi/bfa/bfad_drv.h       Jing Huang 2009-09-24 00:46:15     4   \n",
       "4  drivers/scsi/bfa/bfad_drv.h  Anil Gurumurthy 2015-11-26 08:54:45     5   \n",
       "\n",
       "                        age    components  \n",
       "0 1036 days 22:35:22.839129  drivers:scsi  \n",
       "1 1036 days 22:35:22.839129  drivers:scsi  \n",
       "2 1036 days 22:35:22.839129  drivers:scsi  \n",
       "3 3291 days 06:43:52.839129  drivers:scsi  \n",
       "4 1036 days 22:35:22.839129  drivers:scsi  "
      ]
     },
     "execution_count": 11,
     "metadata": {},
     "output_type": "execute_result"
    }
   ],
   "source": [
    "blame['components'] = blame.path.str.split(\"/\").str[0:2].str.join(\":\")\n",
    "blame.head()"
   ]
  },
  {
   "cell_type": "code",
   "execution_count": 8,
   "metadata": {},
   "outputs": [
    {
     "data": {
      "text/plain": [
       "components\n",
       "drivers:scsi           169 days 14:03:58.839129\n",
       "drivers:i2c            169 days 15:24:33.839129\n",
       "drivers:net            169 days 15:39:49.839129\n",
       "drivers:of             170 days 07:58:51.839129\n",
       "drivers:pci            170 days 11:45:46.839129\n",
       "drivers:s390           171 days 17:11:30.839129\n",
       "drivers:infiniband     174 days 06:54:24.839129\n",
       "drivers:block          174 days 14:33:04.839129\n",
       "drivers:perf           175 days 03:00:32.839129\n",
       "drivers:cpufreq        175 days 04:46:18.839129\n",
       "drivers:dax            175 days 08:05:39.839129\n",
       "drivers:input          175 days 11:08:10.839129\n",
       "drivers:media          175 days 21:38:52.839129\n",
       "drivers:mmc            177 days 09:33:04.839129\n",
       "drivers:thermal        178 days 20:33:42.839129\n",
       "drivers:hwtracing      182 days 19:23:19.839129\n",
       "drivers:rtc            183 days 12:16:02.839129\n",
       "drivers:bluetooth      183 days 16:01:20.839129\n",
       "drivers:hv             184 days 09:29:04.839129\n",
       "drivers:rpmsg          184 days 10:23:24.839129\n",
       "drivers:parisc         186 days 19:25:45.839129\n",
       "drivers:tty            187 days 21:46:41.839129\n",
       "drivers:reset          188 days 18:25:19.839129\n",
       "drivers:bus            196 days 14:53:11.839129\n",
       "drivers:ide            197 days 08:42:01.839129\n",
       "drivers:thunderbolt    202 days 21:13:06.839129\n",
       "drivers:ssb            204 days 01:06:43.839129\n",
       "drivers:target         204 days 06:19:58.839129\n",
       "drivers:w1             205 days 21:06:01.839129\n",
       "drivers:clocksource    211 days 21:33:57.839129\n",
       "                                 ...           \n",
       "drivers:ras            330 days 17:22:10.839129\n",
       "drivers:connector      343 days 00:06:18.839129\n",
       "drivers:spmi           400 days 18:43:41.839129\n",
       "drivers:hwspinlock     499 days 01:30:38.839129\n",
       "arch:s390              624 days 21:22:28.839129\n",
       "arch:arc               693 days 12:51:15.839129\n",
       "include:linux          736 days 20:45:53.839129\n",
       "arch:x86               744 days 16:24:27.839129\n",
       "drivers:dca           1049 days 19:44:07.839129\n",
       "include:media         1113 days 00:29:53.839129\n",
       "drivers:coresight     1277 days 11:16:27.839129\n",
       "drivers:base          1632 days 08:00:02.839129\n",
       "sound:i2c             1962 days 11:35:24.839129\n",
       "arch:mips             1996 days 10:01:31.839129\n",
       "arch:sh               2005 days 18:32:19.839129\n",
       "arch:powerpc          2007 days 20:34:52.839129\n",
       "arch:sparc            2014 days 01:03:24.839129\n",
       "drivers:sn            2106 days 08:15:23.839129\n",
       "drivers:hwmon         2272 days 11:41:52.839129\n",
       "drivers:xen           2719 days 15:55:12.839129\n",
       "arch:ia64             2741 days 18:25:21.839129\n",
       "arch:unicore32        2770 days 18:08:49.839129\n",
       "drivers:char          2782 days 15:02:45.839129\n",
       "drivers:serial        2807 days 00:10:14.839129\n",
       "drivers:mfd           2830 days 09:07:35.839129\n",
       "include:scsi          3871 days 08:16:31.839129\n",
       "arch:i386             4009 days 00:05:35.839129\n",
       "drivers:usb           4166 days 02:32:38.839129\n",
       "include:asm-arm       4319 days 17:55:14.839129\n",
       "arch:sparc64          4613 days 20:37:23.839129\n",
       "Name: age, Length: 73, dtype: timedelta64[ns]"
      ]
     },
     "execution_count": 8,
     "metadata": {},
     "output_type": "execute_result"
    }
   ],
   "source": [
    "component_age = blame.groupby('components').age.min().sort_values()\n",
    "component_age"
   ]
  },
  {
   "cell_type": "code",
   "execution_count": 9,
   "metadata": {},
   "outputs": [
    {
     "data": {
      "text/plain": [
       "components\n",
       "arch:ia64         2741 days 18:25:21.839129\n",
       "arch:unicore32    2770 days 18:08:49.839129\n",
       "drivers:char      2782 days 15:02:45.839129\n",
       "drivers:serial    2807 days 00:10:14.839129\n",
       "drivers:mfd       2830 days 09:07:35.839129\n",
       "include:scsi      3871 days 08:16:31.839129\n",
       "arch:i386         4009 days 00:05:35.839129\n",
       "drivers:usb       4166 days 02:32:38.839129\n",
       "include:asm-arm   4319 days 17:55:14.839129\n",
       "arch:sparc64      4613 days 20:37:23.839129\n",
       "Name: age, dtype: timedelta64[ns]"
      ]
     },
     "execution_count": 9,
     "metadata": {},
     "output_type": "execute_result"
    }
   ],
   "source": [
    "component_age.tail(10)"
   ]
  },
  {
   "cell_type": "code",
   "execution_count": 10,
   "metadata": {},
   "outputs": [
    {
     "data": {
      "text/plain": [
       "<matplotlib.axes._subplots.AxesSubplot at 0x1cf388ada90>"
      ]
     },
     "execution_count": 10,
     "metadata": {},
     "output_type": "execute_result"
    },
    {
     "data": {
      "image/png": "[encoded data removed]",
      "text/plain": [
       "<matplotlib.figure.Figure at 0x1cf388b06a0>"
      ]
     },
     "metadata": {},
     "output_type": "display_data"
    }
   ],
   "source": [
    "component_age.plot.bar(figsize=(15,5))"
   ]
  }
 ],
 "metadata": {
  "kernelspec": {
   "display_name": "Python 3",
   "language": "python",
   "name": "python3"
  },
  "language_info": {
   "codemirror_mode": {
    "name": "ipython",
    "version": 3
   },
   "file_extension": ".py",
   "mimetype": "text/x-python",
   "name": "python",
   "nbconvert_exporter": "python",
   "pygments_lexer": "ipython3",
   "version": "3.6.4"
  },
  "varInspector": {
   "cols": {
    "lenName": 16,
    "lenType": 16,
    "lenVar": 40
   },
   "kernels_config": {
    "python": {
     "delete_cmd_postfix": "",
     "delete_cmd_prefix": "del ",
     "library": "var_list.py",
     "varRefreshCmd": "print(var_dic_list())"
    },
    "r": {
     "delete_cmd_postfix": ") ",
     "delete_cmd_prefix": "rm(",
     "library": "var_list.r",
     "varRefreshCmd": "cat(var_dic_list()) "
    }
   },
   "types_to_exclude": [
    "module",
    "function",
    "builtin_function_or_method",
    "instance",
    "_Feature"
   ],
   "window_display": false
  }
 },
 "nbformat": 4,
 "nbformat_minor": 2
}
