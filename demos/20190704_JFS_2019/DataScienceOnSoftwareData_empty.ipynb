{
    "cells": [
        {
            "cell_type": "markdown",
            "metadata": {
                "slideshow": {
                    "slide_type": "slide"
                }
            },
            "source": [
                "*Diese Folie ist absichtlich leer*"
            ]
        },
        {
            "cell_type": "markdown",
            "metadata": {
                "slideshow": {
                    "slide_type": "slide"
                }
            },
            "source": [
                "\n",
                "# Data Science on <br/> Software Data\n",
                "<b>Markus Harrer</b>, Software Development Analyst\n",
                "  \n",
                "`@feststelltaste`\n",
                "\n",
                "\n",
                "<small>Java Forum Stuttgart 2019, 04.07.2019</small>\n",
                "\n",
                "<img src=\"../resources/innoq_logo.jpg\" width=20% height=\"20%\" align=\"right\"/>"
            ]
        },
        {
            "cell_type": "markdown",
            "metadata": {
                "slideshow": {
                    "slide_type": "slide"
                }
            },
            "source": [
                "## Data Science"
            ]
        },
        {
            "cell_type": "markdown",
            "metadata": {
                "slideshow": {
                    "slide_type": "slide"
                }
            },
            "source": [
                "### Was ist Data Science?"
            ]
        },
        {
            "cell_type": "markdown",
            "metadata": {
                "slideshow": {
                    "slide_type": "fragment"
                }
            },
            "source": [
                "\"**Statistik** auf nem <b><span class=\"green\">Mac</span></b>.\"\n",
                "<br/>\n",
                "<br/>\n",
                "<div align=\"right\"><small>Nach https://twitter.com/cdixon/status/428914681911070720</small></div>"
            ]
        },
        {
            "cell_type": "markdown",
            "metadata": {
                "slideshow": {
                    "slide_type": "slide"
                }
            },
            "source": [
                "### Meine Definition"
            ]
        },
        {
            "cell_type": "markdown",
            "metadata": {
                "slideshow": {
                    "slide_type": "slide"
                }
            },
            "source": [
                "#### Was bedeutet \"**data**\"?\n",
                "\"Without **data** you\u2018re just another person with an opinion.\"\n",
                "<br/>\n",
                "<div align=\"right\"><small>W. Edwards Deming</small></div>"
            ]
        },
        {
            "cell_type": "markdown",
            "metadata": {
                "slideshow": {
                    "slide_type": "fragment"
                }
            },
            "source": [
                "<b>=> Belastbare Erkenntnisse mittels <span class=\"green\">Fakten</span> liefern</b>"
            ]
        },
        {
            "cell_type": "markdown",
            "metadata": {
                "slideshow": {
                    "slide_type": "slide"
                }
            },
            "source": [
                "#### Was bedeutet \"**science**\"?\n",
                "  \n",
                "  \n",
                "\"The aim of **science** is to seek the simplest explanations of complex facts.\"\n",
                "<br/>\n",
                "<div align=\"right\"><small>Albert Einstein</small></div>"
            ]
        },
        {
            "cell_type": "markdown",
            "metadata": {
                "slideshow": {
                    "slide_type": "fragment"
                }
            },
            "source": [
                "<b>=> Neue Erkenntnisse <span class=\"green\">verst\u00e4ndlich</span> herausarbeiten</b>"
            ]
        },
        {
            "cell_type": "markdown",
            "metadata": {
                "slideshow": {
                    "slide_type": "slide"
                }
            },
            "source": [
                "### Vorgehen\n",
                "<small>Nach Roger Pengs \"Stages of Data Analysis\"</small><br/>\n",
                "I. Fragestellung  \n",
                "II. Datenbeschaffung  \n",
                "III. Modellierung  \n",
                "IV. Interpretation  \n",
                "V. Kommunikation  \n",
                "  \n",
                "\n"
            ]
        },
        {
            "cell_type": "markdown",
            "metadata": {
                "slideshow": {
                    "slide_type": "fragment"
                }
            },
            "source": [
                "<b>=> von der <strong>Frage</strong> \u00fcber die <span class=\"green\">Daten</span> zur <span class=\"blue\" style=\"background-color: #FFFF00\">Erkenntnis</span>!</b>"
            ]
        },
        {
            "cell_type": "markdown",
            "metadata": {
                "slideshow": {
                    "slide_type": "slide"
                }
            },
            "source": [
                "# Was hat das mit Softwareentwicklung zu tun?"
            ]
        },
        {
            "cell_type": "markdown",
            "metadata": {
                "slideshow": {
                    "slide_type": "slide"
                }
            },
            "source": [
                "### Was ist ein Data Scientist?\n",
                "\"Jemand, der mehr Ahnung von **Statistik**<br/>\n",
                "&nbsp;&nbsp;hat als ein <b><span class=\"green\">Softwareentwickler</span></b><br/>\n",
                "&nbsp;&nbsp;und mehr Ahnung von <b><span class=\"green\">Softwareentwicklung</span></b><br/>\n",
                "&nbsp;&nbsp;als ein **Statistiker**.\"\n",
                "<br/>\n",
                "<br/>\n",
                "<div align=\"right\"><small>Nach zu https://twitter.com/cdixon/status/428914681911070720</small></div>"
            ]
        },
        {
            "cell_type": "markdown",
            "metadata": {
                "slideshow": {
                    "slide_type": "fragment"
                }
            },
            "source": [
                "<b>Data Science & Software Data:</b> **Perfect** <b><span class=\"green\">match</span></b>!"
            ]
        },
        {
            "cell_type": "markdown",
            "metadata": {
                "slideshow": {
                    "slide_type": "slide"
                }
            },
            "source": [
                "## Software Data"
            ]
        },
        {
            "cell_type": "markdown",
            "metadata": {
                "slideshow": {
                    "slide_type": "slide"
                }
            },
            "source": [
                "### Was ist Software Data?"
            ]
        },
        {
            "cell_type": "markdown",
            "metadata": {
                "slideshow": {
                    "slide_type": "fragment"
                }
            },
            "source": [
                "* Statisch\n",
                "* Laufzeit\n",
                "* Chronologisch\n",
                "* Community"
            ]
        },
        {
            "cell_type": "markdown",
            "metadata": {
                "slideshow": {
                    "slide_type": "fragment"
                }
            },
            "source": [
                "<b>=> Krass viel!</b>"
            ]
        },
        {
            "cell_type": "markdown",
            "metadata": {
                "slideshow": {
                    "slide_type": "slide"
                }
            },
            "source": [
                "### Beispiele f\u00fcr Analysen"
            ]
        },
        {
            "cell_type": "markdown",
            "metadata": {
                "slideshow": {
                    "slide_type": "-"
                }
            },
            "source": [
                "* Performance-Bottlenecks\n",
                "* Verborgene Teamkommunikation\n",
                "* Modularisierungsschnitte\n",
                "* Architektur-/Design-/Code-Smells\n",
                "* ..."
            ]
        },
        {
            "cell_type": "markdown",
            "metadata": {
                "slideshow": {
                    "slide_type": "fragment"
                }
            },
            "source": [
                "<b>=> Individuelle Analysen f\u00fcr individuelle Probleme!</b>"
            ]
        },
        {
            "cell_type": "markdown",
            "metadata": {
                "slideshow": {
                    "slide_type": "slide"
                }
            },
            "source": [
                "# L\u00f6sungsstrategie"
            ]
        },
        {
            "cell_type": "markdown",
            "metadata": {
                "slideshow": {
                    "slide_type": "slide"
                }
            },
            "source": [
                "## Grundprinzip\n",
                "\n",
                "<code>\n",
                "    (Intent + Code + Data + Results)\n",
                "  * Logical Step\n",
                "  + Automation\n",
                "  = Literate Statistical Programming</code>"
            ]
        },
        {
            "cell_type": "markdown",
            "metadata": {
                "slideshow": {
                    "slide_type": "fragment"
                }
            },
            "source": [
                "Implementierung: **Computational notebooks**"
            ]
        },
        {
            "cell_type": "markdown",
            "metadata": {
                "slideshow": {
                    "slide_type": "slide"
                }
            },
            "source": [
                "### Computational Notebooks\n",
                "<br/>\n",
                "  \n",
                "\n",
                "<div align=\"center\"><img src=\"../resources/notebook_approach.jpg\"></div>"
            ]
        },
        {
            "cell_type": "markdown",
            "metadata": {
                "slideshow": {
                    "slide_type": "slide"
                }
            },
            "source": [
                "## Technik"
            ]
        },
        {
            "cell_type": "markdown",
            "metadata": {
                "slideshow": {
                    "slide_type": "slide"
                }
            },
            "source": [
                "### Technologie (1/2)\n",
                "Klassischer Data-Science-Werkzeugkasten\n",
                "* **Jupyter** (mit RISE)\n",
                "* Python 3\n",
                "* pandas\n",
                "* matplotlib"
            ]
        },
        {
            "cell_type": "markdown",
            "metadata": {
                "slideshow": {
                    "slide_type": "slide"
                }
            },
            "source": [
                "### Technologie (2/2)\n",
                "**Jupyter** funktioniert und integriert sich auch mit\n",
                "* jQAssistant / Cypher / Neo4j \n",
                "* JVM-Sprachen \u00fcber beakerx / Tablesaw\n",
                "* bash\n",
                "* ..."
            ]
        },
        {
            "cell_type": "markdown",
            "metadata": {
                "slideshow": {
                    "slide_type": "slide"
                }
            },
            "source": [
                "# Praktischer Teil"
            ]
        },
        {
            "cell_type": "markdown",
            "metadata": {
                "slideshow": {
                    "slide_type": "slide"
                }
            },
            "source": [
                "## Erstes Hands-On"
            ]
        },
        {
            "cell_type": "markdown",
            "metadata": {
                "slideshow": {
                    "slide_type": "slide"
                }
            },
            "source": [
                "### Fallbeispiel\n",
                "\n",
                "#### IntelliJ IDEA\n",
                "\n",
                "* IDE f\u00fcr die Java-Entwicklung\n",
                "* Vieles in Java geschrieben\n",
                "* Gro\u00dfes und lang entwickeltes Projekt"
            ]
        },
        {
            "cell_type": "markdown",
            "metadata": {
                "slideshow": {
                    "slide_type": "slide"
                }
            },
            "source": [
                "### I. Fragestellung (1/3)\n",
                "\n",
                "* Offene Frage explizit niederschreiben\n",
                "* Analyseidee verst\u00e4ndlich darstellen\n"
            ]
        },
        {
            "cell_type": "markdown",
            "metadata": {
                "slideshow": {
                    "slide_type": "slide"
                }
            },
            "source": [
                "### I. Fragestellung (2/3)\n",
                "\n",
                "<b>Frage</b>\n",
                "* Welche Code ist besonders komplex und oft wird in letzter Zeit h\u00e4ufig ge\u00e4ndert?\n"
            ]
        },
        {
            "cell_type": "markdown",
            "metadata": {
                "slideshow": {
                    "slide_type": "slide"
                }
            },
            "source": [
                "### I. Fragestellung (3/3)\n",
                "#### Umsetzungsidee\n",
                "* Werkzeuge: Jupyter, Python, pandas, matplotlib\n",
                "* Heuristiken:\n",
                " * \"komplex\": Lines of Code \n",
                " * \"letzter Zeit\": Letzte 3 Monate\n",
                " * \"oft ge\u00e4ndert\": Anzahl Git commits\n"
            ]
        },
        {
            "cell_type": "markdown",
            "metadata": {
                "slideshow": {
                    "slide_type": "fragment"
                }
            },
            "source": [
                "**Meta-Ziel:** Grundmechaniken kennenlernen."
            ]
        },
        {
            "cell_type": "markdown",
            "metadata": {
                "slideshow": {
                    "slide_type": "slide"
                }
            },
            "source": [
                "### II. Datenbeschaffung\n",
                "* Daten in Data-Science-Welt laden\n",
                "* Rohdaten bereinigen und filtern"
            ]
        },
        {
            "cell_type": "markdown",
            "metadata": {
                "slideshow": {
                    "slide_type": "slide"
                }
            },
            "source": [
                "*Wir laden Git Log Daten eines Git Repos.*"
            ]
        },
        {
            "cell_type": "code",
            "execution_count": null,
            "metadata": {
                "slideshow": {
                    "slide_type": "fragment"
                },
                "tags": [
                    "delete"
                ]
            },
            "outputs": [],
            "source": []
        },
        {
            "cell_type": "markdown",
            "metadata": {
                "slideshow": {
                    "slide_type": "slide"
                }
            },
            "source": [
                "*Was haben wir hier eigentlich?*"
            ]
        },
        {
            "cell_type": "code",
            "execution_count": null,
            "metadata": {
                "slideshow": {
                    "slide_type": "-"
                },
                "tags": [
                    "delete"
                ]
            },
            "outputs": [],
            "source": []
        },
        {
            "cell_type": "markdown",
            "metadata": {
                "slideshow": {
                    "slide_type": "fragment"
                }
            },
            "source": [
                "<b>1</b> **DataFrame** (~ programmierbares Excel-Arbeitsblatt), <b>6</b> **Series** (= Spalten), <b>1128819</b> **Rows** (= Eintr\u00e4ge)"
            ]
        },
        {
            "cell_type": "markdown",
            "metadata": {
                "slideshow": {
                    "slide_type": "slide"
                }
            },
            "source": [
                "*Wir wandeln die Zeitstempel von Texte in Objekte um.*"
            ]
        },
        {
            "cell_type": "code",
            "execution_count": null,
            "metadata": {
                "slideshow": {
                    "slide_type": "-"
                },
                "tags": [
                    "delete"
                ]
            },
            "outputs": [],
            "source": []
        },
        {
            "cell_type": "markdown",
            "metadata": {
                "slideshow": {
                    "slide_type": "slide"
                }
            },
            "source": [
                "*Wir sehen uns nur die j\u00fcngsten \u00c4nderungen an.*"
            ]
        },
        {
            "cell_type": "code",
            "execution_count": null,
            "metadata": {
                "slideshow": {
                    "slide_type": "-"
                },
                "tags": [
                    "delete"
                ]
            },
            "outputs": [],
            "source": []
        },
        {
            "cell_type": "markdown",
            "metadata": {
                "slideshow": {
                    "slide_type": "slide"
                }
            },
            "source": [
                "*Wir wollen nur Java-Code verwenden.*"
            ]
        },
        {
            "cell_type": "code",
            "execution_count": null,
            "metadata": {
                "slideshow": {
                    "slide_type": "-"
                },
                "tags": [
                    "delete"
                ]
            },
            "outputs": [],
            "source": []
        },
        {
            "cell_type": "markdown",
            "metadata": {
                "slideshow": {
                    "slide_type": "slide"
                }
            },
            "source": [
                "### III. Modellierung\n",
                "\n",
                "* Neue Sichten schaffen\n",
                "* Weitere Daten verschneiden\n"
            ]
        },
        {
            "cell_type": "markdown",
            "metadata": {
                "slideshow": {
                    "slide_type": "slide"
                }
            },
            "source": [
                "*Wir aggregieren die Zeilen sowie die Anzahl der \u00c4nderungen pro Datei.*"
            ]
        },
        {
            "cell_type": "code",
            "execution_count": null,
            "metadata": {
                "slideshow": {
                    "slide_type": "-"
                },
                "tags": [
                    "delete"
                ]
            },
            "outputs": [],
            "source": []
        },
        {
            "cell_type": "markdown",
            "metadata": {
                "slideshow": {
                    "slide_type": "slide"
                }
            },
            "source": [
                "*Wir holen Infos \u00fcber die Code-Zeilen hinzu...*"
            ]
        },
        {
            "cell_type": "code",
            "execution_count": null,
            "metadata": {
                "slideshow": {
                    "slide_type": "-"
                },
                "tags": [
                    "delete"
                ]
            },
            "outputs": [],
            "source": []
        },
        {
            "cell_type": "markdown",
            "metadata": {
                "slideshow": {
                    "slide_type": "slide"
                }
            },
            "source": [
                "*...und verschneiden diese mit den vorhandenen Daten.*"
            ]
        },
        {
            "cell_type": "code",
            "execution_count": null,
            "metadata": {
                "slideshow": {
                    "slide_type": "-"
                },
                "tags": [
                    "delete"
                ]
            },
            "outputs": [],
            "source": []
        },
        {
            "cell_type": "markdown",
            "metadata": {
                "slideshow": {
                    "slide_type": "slide"
                }
            },
            "source": [
                "### VI. Interpretation\n",
                "* Problem: Ergebnisse oft umfangreich\n",
                "* Daher: Kernaussagen klar darstellen"
            ]
        },
        {
            "cell_type": "markdown",
            "metadata": {
                "slideshow": {
                    "slide_type": "slide"
                }
            },
            "source": [
                "*Wir zeigen die TOP 10 Hotspots an.*"
            ]
        },
        {
            "cell_type": "code",
            "execution_count": null,
            "metadata": {
                "slideshow": {
                    "slide_type": "-"
                },
                "tags": [
                    "delete"
                ]
            },
            "outputs": [],
            "source": []
        },
        {
            "cell_type": "markdown",
            "metadata": {
                "slideshow": {
                    "slide_type": "slide"
                }
            },
            "source": [
                "### V. Kommunikation\n",
                "* Ergebnisse managementtauglich darstellen\n",
                "* N\u00e4chste Schritte lostreten"
            ]
        },
        {
            "cell_type": "markdown",
            "metadata": {
                "slideshow": {
                    "slide_type": "slide"
                }
            },
            "source": [
                "*Wir plotten die TOP 10 Liste als XY-Diagramm.*"
            ]
        },
        {
            "cell_type": "code",
            "execution_count": null,
            "metadata": {
                "slideshow": {
                    "slide_type": "-"
                },
                "tags": [
                    "delete"
                ]
            },
            "outputs": [],
            "source": []
        },
        {
            "cell_type": "markdown",
            "metadata": {
                "slideshow": {
                    "slide_type": "slide"
                }
            },
            "source": [
                "### Ende des ersten Hands-Ons"
            ]
        },
        {
            "cell_type": "markdown",
            "metadata": {
                "slideshow": {
                    "slide_type": "slide"
                }
            },
            "source": [
                "## Weitere Analysen\n",
                "\n",
                "* Abh\u00e4ngigkeitsanalyse mit Daten von `jdeps` und Visualisierung mit `D3`.\n",
                "* Analyse von Performance-Hotspots mit jQAssistant / Neo4j\n",
                "* Priorisieren von Aufr\u00e4umarbeiten mit Groovy / Tablesaw"
            ]
        },
        {
            "cell_type": "markdown",
            "metadata": {
                "slideshow": {
                    "slide_type": "slide"
                }
            },
            "source": [
                "## Zusammenfassung\n",
                "**1.** <b>Analysen</b> mit Standard-Werkzeugen <b>einfach</b> m\u00f6glich  \n",
                "**2.** Wer mehr will bekommt auch <b>mehr</b>!  \n",
                "**3.** Es gibt unglaublich <b>viele Quellen</b> f\u00fcr Daten in der Softwareentwicklung  \n",
                "\n",
                "<b>=> von der <strong>Frage</strong> \u00fcber die <span class=\"green\">Daten</span> zur <span class=\"blue\" style=\"background-color: #FFFF00\">Erkenntnis</span>!</b>"
            ]
        },
        {
            "cell_type": "markdown",
            "metadata": {
                "slideshow": {
                    "slide_type": "slide"
                }
            },
            "source": [
                "## Literatur\n",
                "* Adam Tornhill: Software Design X-Ray \n",
                "* Wes McKinney: Python For Data Analysis\n",
                "* Leek, Jeff: The Elements of Data Analytic Style\n",
                "* Tim Menzies, Laurie Williams, Thomas Zimmermann: Perspectives on Data Science for Software Engineering"
            ]
        },
        {
            "cell_type": "markdown",
            "metadata": {
                "slideshow": {
                    "slide_type": "slide"
                }
            },
            "source": [
                "# Vielen Dank! Fragen?\n",
                "\n",
                "<b>Markus Harrer</b><br/>\n",
                "innoQ Deutschland GmbH\n",
                "  \n",
                "markus.harrer@innoq.com \n",
                "\n",
                "`@feststelltaste`\n",
                "\n",
                "<small>Demos & \"Slides\": https://github.com/feststelltaste/software-analytics => demos/20190704_JFS_2019/</small>\n",
                "<img src=\"../resources/innoq_logo.jpg\" width=\"20%\" heigth=\"20%\" align=\"right\"/>"
            ]
        }
    ],
    "metadata": {
        "kernelspec": {
            "display_name": "Python 3",
            "language": "python",
            "name": "python3"
        },
        "language_info": {
            "codemirror_mode": {
                "name": "ipython",
                "version": 3
            },
            "file_extension": ".py",
            "mimetype": "text/x-python",
            "name": "python",
            "nbconvert_exporter": "python",
            "pygments_lexer": "ipython3",
            "version": "3.6.0"
        },
        "rise": {
            "controls": false,
            "showSlideNumber": "speaker",
            "slideNumber ": "false",
            "transition": "none"
        }
    },
    "nbformat": 4,
    "nbformat_minor": 2
}