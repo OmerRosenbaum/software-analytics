{
 "cells": [
  {
   "cell_type": "markdown",
   "metadata": {
    "slideshow": {
     "slide_type": "slide"
    }
   },
   "source": [
    "\n",
    "# Data Science on Software Data\n",
    "<b>Markus Harrer</b>, Software Development Analyst\n",
    "  \n",
    "`@feststelltaste`\n",
    "\n",
    "\n",
    "<small>Java Forum Stuttgart 2019, 04.07.2019</small>\n",
    "\n",
    "<img src=\"../resources/innoq_logo.jpg\" width=20% height=\"20%\" align=\"right\"/>"
   ]
  },
  {
   "cell_type": "markdown",
   "metadata": {
    "slideshow": {
     "slide_type": "slide"
    }
   },
   "source": [
    "## Data Science"
   ]
  },
  {
   "cell_type": "markdown",
   "metadata": {
    "slideshow": {
     "slide_type": "slide"
    }
   },
   "source": [
    "### Was ist Data Science?"
   ]
  },
  {
   "cell_type": "markdown",
   "metadata": {
    "slideshow": {
     "slide_type": "fragment"
    }
   },
   "source": [
    "\"**Statistik** auf nem <b><span class=\"green\">Mac</span></b>.\"\n",
    "<br/>\n",
    "<br/>\n",
    "<div align=\"right\"><small>Nach https://twitter.com/cdixon/status/428914681911070720</small></div>"
   ]
  },
  {
   "cell_type": "markdown",
   "metadata": {
    "slideshow": {
     "slide_type": "slide"
    }
   },
   "source": [
    "### Meine Definition"
   ]
  },
  {
   "cell_type": "markdown",
   "metadata": {
    "slideshow": {
     "slide_type": "slide"
    }
   },
   "source": [
    "#### Was bedeutet \"**data**\"?\n",
    "\"Without **data** you‘re just another person with an opinion.\"\n",
    "<br/>\n",
    "<div align=\"right\"><small>W. Edwards Deming</small></div>"
   ]
  },
  {
   "cell_type": "markdown",
   "metadata": {
    "slideshow": {
     "slide_type": "fragment"
    }
   },
   "source": [
    "<b>=> Belastbare Erkenntnisse mittels <span class=\"green\">Fakten</span> liefern</b>"
   ]
  },
  {
   "cell_type": "markdown",
   "metadata": {
    "slideshow": {
     "slide_type": "slide"
    }
   },
   "source": [
    "#### Was bedeutet \"**science**\"?\n",
    "  \n",
    "  \n",
    "\"The aim of **science** is to seek the simplest explanations of complex facts.\"\n",
    "<br/>\n",
    "<div align=\"right\"><small>Albert Einstein</small></div>"
   ]
  },
  {
   "cell_type": "markdown",
   "metadata": {
    "slideshow": {
     "slide_type": "fragment"
    }
   },
   "source": [
    "<b>=> Neue Erkenntnisse <span class=\"green\">verständlich</span> herausarbeiten</b>"
   ]
  },
  {
   "cell_type": "markdown",
   "metadata": {
    "slideshow": {
     "slide_type": "slide"
    }
   },
   "source": [
    "### Was ist ein Data Scientist?\n",
    "\"Jemand, der mehr Ahnung von **Statistik**<br/>\n",
    "&nbsp;&nbsp;hat als ein <b><span class=\"green\">Softwareentwickler</span></b><br/>\n",
    "&nbsp;&nbsp;und mehr Ahnung von <b><span class=\"green\">Softwareentwicklung</span></b><br/>\n",
    "&nbsp;&nbsp;als ein **Statistiker**.\"\n",
    "<br/>\n",
    "<br/>\n",
    "<div align=\"right\"><small>Nach zu https://twitter.com/cdixon/status/428914681911070720</small></div>"
   ]
  },
  {
   "cell_type": "markdown",
   "metadata": {
    "slideshow": {
     "slide_type": "fragment"
    }
   },
   "source": [
    "<b>Data Science & Software Data:</b> **Perfect** <b><span class=\"green\">match</span></b>!"
   ]
  },
  {
   "cell_type": "markdown",
   "metadata": {
    "slideshow": {
     "slide_type": "slide"
    }
   },
   "source": [
    "## Software Data"
   ]
  },
  {
   "cell_type": "markdown",
   "metadata": {
    "slideshow": {
     "slide_type": "slide"
    }
   },
   "source": [
    "### Was ist Software Data?"
   ]
  },
  {
   "cell_type": "markdown",
   "metadata": {
    "slideshow": {
     "slide_type": "fragment"
    }
   },
   "source": [
    "* Statisch\n",
    "* Laufzeit\n",
    "* Chronologisch\n",
    "* Community"
   ]
  },
  {
   "cell_type": "markdown",
   "metadata": {
    "slideshow": {
     "slide_type": "fragment"
    }
   },
   "source": [
    "<b>=> Krass viel!</b>"
   ]
  },
  {
   "cell_type": "markdown",
   "metadata": {
    "slideshow": {
     "slide_type": "slide"
    }
   },
   "source": [
    "### Beispiele für Analysen"
   ]
  },
  {
   "cell_type": "markdown",
   "metadata": {
    "slideshow": {
     "slide_type": "-"
    }
   },
   "source": [
    "* Performance-Bottlenecks\n",
    "* Verborgene Teamkommunikation\n",
    "* No-Go-Areas\n",
    "* Architektur-/Design-/Code-Smells\n",
    "* ..."
   ]
  },
  {
   "cell_type": "markdown",
   "metadata": {
    "slideshow": {
     "slide_type": "slide"
    }
   },
   "source": [
    "## Vorgehen\n",
    "\n",
    "I. Fragestellung  \n",
    "II. Datenbeschaffung  \n",
    "III. Modellierung  \n",
    "IV. Interpretation  \n",
    "V. Kommunikation  "
   ]
  },
  {
   "cell_type": "markdown",
   "metadata": {
    "slideshow": {
     "slide_type": "fragment"
    }
   },
   "source": [
    "<b>=> von der <strong>Frage</strong> über die <span class=\"green\">Daten</span> zur <span class=\"blue\" style=\"background-color: #FFFF00\">Erkenntnis</span>!</b>"
   ]
  },
  {
   "cell_type": "markdown",
   "metadata": {
    "slideshow": {
     "slide_type": "slide"
    }
   },
   "source": [
    "## Grundprinzip\n",
    "\n",
    "<code>\n",
    "(Data + Code + Ergebnis) * Automatisierung\n",
    "= Reproduzierbare Analysen</code>"
   ]
  },
  {
   "cell_type": "markdown",
   "metadata": {
    "slideshow": {
     "slide_type": "fragment"
    }
   },
   "source": [
    "Schlüssel: **Computational notebooks**"
   ]
  },
  {
   "cell_type": "markdown",
   "metadata": {
    "slideshow": {
     "slide_type": "slide"
    }
   },
   "source": [
    "### Der Notebook-Ansatz\n",
    "<br/>\n",
    "  \n",
    "\n",
    "<div align=\"center\"><img src=\"../resources/notebook_approach.jpg\"></div>"
   ]
  },
  {
   "cell_type": "markdown",
   "metadata": {
    "slideshow": {
     "slide_type": "slide"
    }
   },
   "source": [
    "## Technik"
   ]
  },
  {
   "cell_type": "markdown",
   "metadata": {
    "slideshow": {
     "slide_type": "slide"
    }
   },
   "source": [
    "### Technologie (1/2)\n",
    "Klassischer Data-Science-Werkzeugkasten\n",
    "* **Jupyter** (mit RISE)\n",
    "* Python 3\n",
    "* pandas\n",
    "* matplotlib"
   ]
  },
  {
   "cell_type": "markdown",
   "metadata": {
    "slideshow": {
     "slide_type": "slide"
    }
   },
   "source": [
    "### Technologie (2/2)\n",
    "**Jupyter** funktioniert und integriert sich auch mit\n",
    "* Cypher / Neo4j / jQAssistant\n",
    "* JVM-Sprachen über beakerx / Tablesaw\n",
    "* bash\n",
    "* ..."
   ]
  },
  {
   "cell_type": "markdown",
   "metadata": {
    "slideshow": {
     "slide_type": "slide"
    }
   },
   "source": [
    "# Praktischer Teil"
   ]
  },
  {
   "cell_type": "markdown",
   "metadata": {
    "slideshow": {
     "slide_type": "slide"
    }
   },
   "source": [
    "## Erstes Hands-On"
   ]
  },
  {
   "cell_type": "markdown",
   "metadata": {
    "slideshow": {
     "slide_type": "slide"
    }
   },
   "source": [
    "### Code-Hot-Spots ermitteln\n",
    "\n",
    "#### Untersuchungsobjekt: IntelliJ IDEA\n",
    "\n",
    "* IDE für die Java-Entwicklung\n",
    "* Vieles in Java geschrieben\n",
    "* Großes und lang entwickeltes Projekt"
   ]
  },
  {
   "cell_type": "markdown",
   "metadata": {
    "slideshow": {
     "slide_type": "slide"
    }
   },
   "source": [
    "### I. Fragestellung (1/2)\n",
    "\n",
    "<b>Frage</b>\n",
    "* Gibt es Code Hotspots (Code, der besonders komplex ist und oft geändert wird)?\n"
   ]
  },
  {
   "cell_type": "markdown",
   "metadata": {
    "slideshow": {
     "slide_type": "slide"
    }
   },
   "source": [
    "### I. Fragestellung (2/2)\n",
    "#### Umsetzungsidee\n",
    "* Werkzeuge: Jupyter, Python, pandas, matplotlib\n",
    "* Heuristik:\n",
    " * \"komplex\": Lines of Code\n",
    " * \"geändert\": Anzahl Git commits\n"
   ]
  },
  {
   "cell_type": "markdown",
   "metadata": {
    "slideshow": {
     "slide_type": "fragment"
    }
   },
   "source": [
    "**Meta-Ziel:** Grundfunktionen anhand eines einfachen Show-Cases sehen."
   ]
  },
  {
   "cell_type": "markdown",
   "metadata": {
    "slideshow": {
     "slide_type": "slide"
    }
   },
   "source": [
    "### II. Datenbeschaffung\n",
    "* Daten müssen aus Software-typischen Datenquellen in die Data Science Welt geladen werden\n",
    "* Daten müssen hier teils auch bereinigt oder gefiltert werden"
   ]
  },
  {
   "cell_type": "code",
   "execution_count": null,
   "metadata": {},
   "outputs": [],
   "source": []
  },
  {
   "cell_type": "markdown",
   "metadata": {
    "slideshow": {
     "slide_type": "slide"
    }
   },
   "source": [
    "*Wir holen Git Log Daten aus einem Git Repo*"
   ]
  },
  {
   "cell_type": "code",
   "execution_count": 1,
   "metadata": {},
   "outputs": [
    {
     "data": {
      "text/html": [
       "<div>\n",
       "<style scoped>\n",
       "    .dataframe tbody tr th:only-of-type {\n",
       "        vertical-align: middle;\n",
       "    }\n",
       "\n",
       "    .dataframe tbody tr th {\n",
       "        vertical-align: top;\n",
       "    }\n",
       "\n",
       "    .dataframe thead th {\n",
       "        text-align: right;\n",
       "    }\n",
       "</style>\n",
       "<table border=\"1\" class=\"dataframe\">\n",
       "  <thead>\n",
       "    <tr style=\"text-align: right;\">\n",
       "      <th></th>\n",
       "      <th>additions</th>\n",
       "      <th>deletions</th>\n",
       "      <th>file</th>\n",
       "      <th>sha</th>\n",
       "      <th>timestamp</th>\n",
       "      <th>author</th>\n",
       "    </tr>\n",
       "  </thead>\n",
       "  <tbody>\n",
       "    <tr>\n",
       "      <th>0</th>\n",
       "      <td>9.0</td>\n",
       "      <td>1.0</td>\n",
       "      <td>resources/src/META-INF/JavaIdePlugin.xml</td>\n",
       "      <td>259f603ff89b</td>\n",
       "      <td>2019-03-19 15:02:59</td>\n",
       "      <td>Nikolay Chashnikov</td>\n",
       "    </tr>\n",
       "    <tr>\n",
       "      <th>1</th>\n",
       "      <td>2.0</td>\n",
       "      <td>0.0</td>\n",
       "      <td>resources/src/META-INF/JavaIdePlugin.xml</td>\n",
       "      <td>dff02c4c04e9</td>\n",
       "      <td>2019-03-19 12:45:15</td>\n",
       "      <td>Nikolay Chashnikov</td>\n",
       "    </tr>\n",
       "    <tr>\n",
       "      <th>2</th>\n",
       "      <td>0.0</td>\n",
       "      <td>1.0</td>\n",
       "      <td>resources/src/META-INF/JavaIdePlugin.xml</td>\n",
       "      <td>b3d671515bc6</td>\n",
       "      <td>2019-03-13 16:28:28</td>\n",
       "      <td>Gregory Shrago</td>\n",
       "    </tr>\n",
       "    <tr>\n",
       "      <th>3</th>\n",
       "      <td>1.0</td>\n",
       "      <td>1.0</td>\n",
       "      <td>resources/src/META-INF/JavaIdePlugin.xml</td>\n",
       "      <td>212b3f5c52e7</td>\n",
       "      <td>2019-03-12 14:59:53</td>\n",
       "      <td>Kirill Kirichenko</td>\n",
       "    </tr>\n",
       "    <tr>\n",
       "      <th>4</th>\n",
       "      <td>1.0</td>\n",
       "      <td>1.0</td>\n",
       "      <td>resources/src/META-INF/JavaIdePlugin.xml</td>\n",
       "      <td>166487b26534</td>\n",
       "      <td>2019-03-12 12:15:43</td>\n",
       "      <td>Dmitry Krasilschikov</td>\n",
       "    </tr>\n",
       "  </tbody>\n",
       "</table>\n",
       "</div>"
      ],
      "text/plain": [
       "   additions  deletions                                      file  \\\n",
       "0        9.0        1.0  resources/src/META-INF/JavaIdePlugin.xml   \n",
       "1        2.0        0.0  resources/src/META-INF/JavaIdePlugin.xml   \n",
       "2        0.0        1.0  resources/src/META-INF/JavaIdePlugin.xml   \n",
       "3        1.0        1.0  resources/src/META-INF/JavaIdePlugin.xml   \n",
       "4        1.0        1.0  resources/src/META-INF/JavaIdePlugin.xml   \n",
       "\n",
       "            sha            timestamp                author  \n",
       "0  259f603ff89b  2019-03-19 15:02:59    Nikolay Chashnikov  \n",
       "1  dff02c4c04e9  2019-03-19 12:45:15    Nikolay Chashnikov  \n",
       "2  b3d671515bc6  2019-03-13 16:28:28        Gregory Shrago  \n",
       "3  212b3f5c52e7  2019-03-12 14:59:53     Kirill Kirichenko  \n",
       "4  166487b26534  2019-03-12 12:15:43  Dmitry Krasilschikov  "
      ]
     },
     "execution_count": 1,
     "metadata": {},
     "output_type": "execute_result"
    }
   ],
   "source": [
    "import pandas as pd\n",
    "\n",
    "log = pd.read_csv(\"../dataset/git_log_intellij.csv\")\n",
    "log.head()"
   ]
  },
  {
   "cell_type": "markdown",
   "metadata": {
    "slideshow": {
     "slide_type": "slide"
    }
   },
   "source": [
    "*Was haben wir hier eigentlich?*"
   ]
  },
  {
   "cell_type": "code",
   "execution_count": 2,
   "metadata": {
    "slideshow": {
     "slide_type": "-"
    },
    "tags": [
     "delete"
    ]
   },
   "outputs": [
    {
     "name": "stdout",
     "output_type": "stream",
     "text": [
      "<class 'pandas.core.frame.DataFrame'>\n",
      "RangeIndex: 551620 entries, 0 to 551619\n",
      "Data columns (total 6 columns):\n",
      "additions    542444 non-null float64\n",
      "deletions    542444 non-null float64\n",
      "file         551620 non-null object\n",
      "sha          551619 non-null object\n",
      "timestamp    551619 non-null object\n",
      "author       551619 non-null object\n",
      "dtypes: float64(2), object(4)\n",
      "memory usage: 25.3+ MB\n"
     ]
    }
   ],
   "source": [
    "log.info()"
   ]
  },
  {
   "cell_type": "markdown",
   "metadata": {
    "slideshow": {
     "slide_type": "fragment"
    }
   },
   "source": [
    "<b>1</b> **DataFrame** (~ programmierbares Excel-Arbeitsblatt), <b>6</b> **Series** (= Spalten), <b>551620 </b> **Rows** (= Einträge)"
   ]
  },
  {
   "cell_type": "markdown",
   "metadata": {
    "slideshow": {
     "slide_type": "slide"
    }
   },
   "source": [
    "*Wir wandeln den Zeitstempeltext in ein Zeitstempelobjekt um.*"
   ]
  },
  {
   "cell_type": "code",
   "execution_count": 3,
   "metadata": {
    "slideshow": {
     "slide_type": "-"
    }
   },
   "outputs": [
    {
     "data": {
      "text/html": [
       "<div>\n",
       "<style scoped>\n",
       "    .dataframe tbody tr th:only-of-type {\n",
       "        vertical-align: middle;\n",
       "    }\n",
       "\n",
       "    .dataframe tbody tr th {\n",
       "        vertical-align: top;\n",
       "    }\n",
       "\n",
       "    .dataframe thead th {\n",
       "        text-align: right;\n",
       "    }\n",
       "</style>\n",
       "<table border=\"1\" class=\"dataframe\">\n",
       "  <thead>\n",
       "    <tr style=\"text-align: right;\">\n",
       "      <th></th>\n",
       "      <th>additions</th>\n",
       "      <th>deletions</th>\n",
       "      <th>file</th>\n",
       "      <th>sha</th>\n",
       "      <th>timestamp</th>\n",
       "      <th>author</th>\n",
       "    </tr>\n",
       "  </thead>\n",
       "  <tbody>\n",
       "    <tr>\n",
       "      <th>0</th>\n",
       "      <td>9.0</td>\n",
       "      <td>1.0</td>\n",
       "      <td>resources/src/META-INF/JavaIdePlugin.xml</td>\n",
       "      <td>259f603ff89b</td>\n",
       "      <td>2019-03-19 15:02:59</td>\n",
       "      <td>Nikolay Chashnikov</td>\n",
       "    </tr>\n",
       "    <tr>\n",
       "      <th>1</th>\n",
       "      <td>2.0</td>\n",
       "      <td>0.0</td>\n",
       "      <td>resources/src/META-INF/JavaIdePlugin.xml</td>\n",
       "      <td>dff02c4c04e9</td>\n",
       "      <td>2019-03-19 12:45:15</td>\n",
       "      <td>Nikolay Chashnikov</td>\n",
       "    </tr>\n",
       "    <tr>\n",
       "      <th>2</th>\n",
       "      <td>0.0</td>\n",
       "      <td>1.0</td>\n",
       "      <td>resources/src/META-INF/JavaIdePlugin.xml</td>\n",
       "      <td>b3d671515bc6</td>\n",
       "      <td>2019-03-13 16:28:28</td>\n",
       "      <td>Gregory Shrago</td>\n",
       "    </tr>\n",
       "    <tr>\n",
       "      <th>3</th>\n",
       "      <td>1.0</td>\n",
       "      <td>1.0</td>\n",
       "      <td>resources/src/META-INF/JavaIdePlugin.xml</td>\n",
       "      <td>212b3f5c52e7</td>\n",
       "      <td>2019-03-12 14:59:53</td>\n",
       "      <td>Kirill Kirichenko</td>\n",
       "    </tr>\n",
       "    <tr>\n",
       "      <th>4</th>\n",
       "      <td>1.0</td>\n",
       "      <td>1.0</td>\n",
       "      <td>resources/src/META-INF/JavaIdePlugin.xml</td>\n",
       "      <td>166487b26534</td>\n",
       "      <td>2019-03-12 12:15:43</td>\n",
       "      <td>Dmitry Krasilschikov</td>\n",
       "    </tr>\n",
       "  </tbody>\n",
       "</table>\n",
       "</div>"
      ],
      "text/plain": [
       "   additions  deletions                                      file  \\\n",
       "0        9.0        1.0  resources/src/META-INF/JavaIdePlugin.xml   \n",
       "1        2.0        0.0  resources/src/META-INF/JavaIdePlugin.xml   \n",
       "2        0.0        1.0  resources/src/META-INF/JavaIdePlugin.xml   \n",
       "3        1.0        1.0  resources/src/META-INF/JavaIdePlugin.xml   \n",
       "4        1.0        1.0  resources/src/META-INF/JavaIdePlugin.xml   \n",
       "\n",
       "            sha           timestamp                author  \n",
       "0  259f603ff89b 2019-03-19 15:02:59    Nikolay Chashnikov  \n",
       "1  dff02c4c04e9 2019-03-19 12:45:15    Nikolay Chashnikov  \n",
       "2  b3d671515bc6 2019-03-13 16:28:28        Gregory Shrago  \n",
       "3  212b3f5c52e7 2019-03-12 14:59:53     Kirill Kirichenko  \n",
       "4  166487b26534 2019-03-12 12:15:43  Dmitry Krasilschikov  "
      ]
     },
     "execution_count": 3,
     "metadata": {},
     "output_type": "execute_result"
    }
   ],
   "source": [
    "log['timestamp'] = pd.to_datetime(log['timestamp'])\n",
    "log.head()"
   ]
  },
  {
   "cell_type": "markdown",
   "metadata": {
    "slideshow": {
     "slide_type": "slide"
    }
   },
   "source": [
    "*Wir sehen uns nur die jüngsten Änderungen an.*"
   ]
  },
  {
   "cell_type": "code",
   "execution_count": 4,
   "metadata": {
    "slideshow": {
     "slide_type": "-"
    }
   },
   "outputs": [
    {
     "data": {
      "text/html": [
       "<div>\n",
       "<style scoped>\n",
       "    .dataframe tbody tr th:only-of-type {\n",
       "        vertical-align: middle;\n",
       "    }\n",
       "\n",
       "    .dataframe tbody tr th {\n",
       "        vertical-align: top;\n",
       "    }\n",
       "\n",
       "    .dataframe thead th {\n",
       "        text-align: right;\n",
       "    }\n",
       "</style>\n",
       "<table border=\"1\" class=\"dataframe\">\n",
       "  <thead>\n",
       "    <tr style=\"text-align: right;\">\n",
       "      <th></th>\n",
       "      <th>additions</th>\n",
       "      <th>deletions</th>\n",
       "      <th>file</th>\n",
       "      <th>sha</th>\n",
       "      <th>timestamp</th>\n",
       "      <th>author</th>\n",
       "    </tr>\n",
       "  </thead>\n",
       "  <tbody>\n",
       "    <tr>\n",
       "      <th>0</th>\n",
       "      <td>9.0</td>\n",
       "      <td>1.0</td>\n",
       "      <td>resources/src/META-INF/JavaIdePlugin.xml</td>\n",
       "      <td>259f603ff89b</td>\n",
       "      <td>2019-03-19 15:02:59</td>\n",
       "      <td>Nikolay Chashnikov</td>\n",
       "    </tr>\n",
       "    <tr>\n",
       "      <th>1</th>\n",
       "      <td>2.0</td>\n",
       "      <td>0.0</td>\n",
       "      <td>resources/src/META-INF/JavaIdePlugin.xml</td>\n",
       "      <td>dff02c4c04e9</td>\n",
       "      <td>2019-03-19 12:45:15</td>\n",
       "      <td>Nikolay Chashnikov</td>\n",
       "    </tr>\n",
       "    <tr>\n",
       "      <th>2</th>\n",
       "      <td>0.0</td>\n",
       "      <td>1.0</td>\n",
       "      <td>resources/src/META-INF/JavaIdePlugin.xml</td>\n",
       "      <td>b3d671515bc6</td>\n",
       "      <td>2019-03-13 16:28:28</td>\n",
       "      <td>Gregory Shrago</td>\n",
       "    </tr>\n",
       "    <tr>\n",
       "      <th>3</th>\n",
       "      <td>1.0</td>\n",
       "      <td>1.0</td>\n",
       "      <td>resources/src/META-INF/JavaIdePlugin.xml</td>\n",
       "      <td>212b3f5c52e7</td>\n",
       "      <td>2019-03-12 14:59:53</td>\n",
       "      <td>Kirill Kirichenko</td>\n",
       "    </tr>\n",
       "    <tr>\n",
       "      <th>4</th>\n",
       "      <td>1.0</td>\n",
       "      <td>1.0</td>\n",
       "      <td>resources/src/META-INF/JavaIdePlugin.xml</td>\n",
       "      <td>166487b26534</td>\n",
       "      <td>2019-03-12 12:15:43</td>\n",
       "      <td>Dmitry Krasilschikov</td>\n",
       "    </tr>\n",
       "  </tbody>\n",
       "</table>\n",
       "</div>"
      ],
      "text/plain": [
       "   additions  deletions                                      file  \\\n",
       "0        9.0        1.0  resources/src/META-INF/JavaIdePlugin.xml   \n",
       "1        2.0        0.0  resources/src/META-INF/JavaIdePlugin.xml   \n",
       "2        0.0        1.0  resources/src/META-INF/JavaIdePlugin.xml   \n",
       "3        1.0        1.0  resources/src/META-INF/JavaIdePlugin.xml   \n",
       "4        1.0        1.0  resources/src/META-INF/JavaIdePlugin.xml   \n",
       "\n",
       "            sha           timestamp                author  \n",
       "0  259f603ff89b 2019-03-19 15:02:59    Nikolay Chashnikov  \n",
       "1  dff02c4c04e9 2019-03-19 12:45:15    Nikolay Chashnikov  \n",
       "2  b3d671515bc6 2019-03-13 16:28:28        Gregory Shrago  \n",
       "3  212b3f5c52e7 2019-03-12 14:59:53     Kirill Kirichenko  \n",
       "4  166487b26534 2019-03-12 12:15:43  Dmitry Krasilschikov  "
      ]
     },
     "execution_count": 4,
     "metadata": {},
     "output_type": "execute_result"
    }
   ],
   "source": [
    "recent_log = log[log['timestamp'] > log['timestamp'].max() - pd.Timedelta('90 days')]\n",
    "recent_log.head()"
   ]
  },
  {
   "cell_type": "markdown",
   "metadata": {
    "slideshow": {
     "slide_type": "slide"
    }
   },
   "source": [
    "*Wir wollen nur Java-Code verwenden.*"
   ]
  },
  {
   "cell_type": "code",
   "execution_count": 5,
   "metadata": {
    "slideshow": {
     "slide_type": "-"
    },
    "tags": [
     "delete"
    ]
   },
   "outputs": [
    {
     "data": {
      "text/html": [
       "<div>\n",
       "<style scoped>\n",
       "    .dataframe tbody tr th:only-of-type {\n",
       "        vertical-align: middle;\n",
       "    }\n",
       "\n",
       "    .dataframe tbody tr th {\n",
       "        vertical-align: top;\n",
       "    }\n",
       "\n",
       "    .dataframe thead th {\n",
       "        text-align: right;\n",
       "    }\n",
       "</style>\n",
       "<table border=\"1\" class=\"dataframe\">\n",
       "  <thead>\n",
       "    <tr style=\"text-align: right;\">\n",
       "      <th></th>\n",
       "      <th>additions</th>\n",
       "      <th>deletions</th>\n",
       "      <th>file</th>\n",
       "      <th>sha</th>\n",
       "      <th>timestamp</th>\n",
       "      <th>author</th>\n",
       "    </tr>\n",
       "  </thead>\n",
       "  <tbody>\n",
       "    <tr>\n",
       "      <th>250</th>\n",
       "      <td>17.0</td>\n",
       "      <td>2.0</td>\n",
       "      <td>plugins/gradle/native/tooling/src/builder/CppM...</td>\n",
       "      <td>5d0fc88e519c</td>\n",
       "      <td>2019-03-01 11:57:43</td>\n",
       "      <td>Nikita Skvortsov</td>\n",
       "    </tr>\n",
       "    <tr>\n",
       "      <th>271</th>\n",
       "      <td>20.0</td>\n",
       "      <td>1.0</td>\n",
       "      <td>plugins/gradle/src/org/jetbrains/plugins/gradl...</td>\n",
       "      <td>5d0fc88e519c</td>\n",
       "      <td>2019-03-01 11:57:43</td>\n",
       "      <td>Nikita Skvortsov</td>\n",
       "    </tr>\n",
       "    <tr>\n",
       "      <th>272</th>\n",
       "      <td>62.0</td>\n",
       "      <td>44.0</td>\n",
       "      <td>plugins/gradle/src/org/jetbrains/plugins/gradl...</td>\n",
       "      <td>abd0a37dc2e3</td>\n",
       "      <td>2019-02-21 13:08:32</td>\n",
       "      <td>Vladislav Soroka</td>\n",
       "    </tr>\n",
       "    <tr>\n",
       "      <th>273</th>\n",
       "      <td>42.0</td>\n",
       "      <td>8.0</td>\n",
       "      <td>plugins/gradle/src/org/jetbrains/plugins/gradl...</td>\n",
       "      <td>d776fddb8625</td>\n",
       "      <td>2019-02-19 11:13:43</td>\n",
       "      <td>Vladislav Soroka</td>\n",
       "    </tr>\n",
       "    <tr>\n",
       "      <th>274</th>\n",
       "      <td>6.0</td>\n",
       "      <td>0.0</td>\n",
       "      <td>plugins/gradle/src/org/jetbrains/plugins/gradl...</td>\n",
       "      <td>489676110b06</td>\n",
       "      <td>2019-02-01 14:17:51</td>\n",
       "      <td>Bradley Smith</td>\n",
       "    </tr>\n",
       "  </tbody>\n",
       "</table>\n",
       "</div>"
      ],
      "text/plain": [
       "     additions  deletions                                               file  \\\n",
       "250       17.0        2.0  plugins/gradle/native/tooling/src/builder/CppM...   \n",
       "271       20.0        1.0  plugins/gradle/src/org/jetbrains/plugins/gradl...   \n",
       "272       62.0       44.0  plugins/gradle/src/org/jetbrains/plugins/gradl...   \n",
       "273       42.0        8.0  plugins/gradle/src/org/jetbrains/plugins/gradl...   \n",
       "274        6.0        0.0  plugins/gradle/src/org/jetbrains/plugins/gradl...   \n",
       "\n",
       "              sha           timestamp            author  \n",
       "250  5d0fc88e519c 2019-03-01 11:57:43  Nikita Skvortsov  \n",
       "271  5d0fc88e519c 2019-03-01 11:57:43  Nikita Skvortsov  \n",
       "272  abd0a37dc2e3 2019-02-21 13:08:32  Vladislav Soroka  \n",
       "273  d776fddb8625 2019-02-19 11:13:43  Vladislav Soroka  \n",
       "274  489676110b06 2019-02-01 14:17:51     Bradley Smith  "
      ]
     },
     "execution_count": 5,
     "metadata": {},
     "output_type": "execute_result"
    }
   ],
   "source": [
    "java = recent_log[recent_log['file'].str.endswith(\".java\")].copy()\n",
    "java.head()"
   ]
  },
  {
   "cell_type": "markdown",
   "metadata": {
    "slideshow": {
     "slide_type": "slide"
    }
   },
   "source": [
    "### III. Modellierung\n",
    "\n",
    "* Vorhandene Daten noch zusätzlich mit anderen Datenquellen verschneiden\n",
    " * Aber auch: Teile aus vorhanden Daten extrahieren\n",
    "* Neue Sichten auf die Daten schaffen"
   ]
  },
  {
   "cell_type": "markdown",
   "metadata": {
    "slideshow": {
     "slide_type": "slide"
    }
   },
   "source": [
    "*Wir zählen die Code-Zeilen.*"
   ]
  },
  {
   "cell_type": "code",
   "execution_count": 6,
   "metadata": {
    "slideshow": {
     "slide_type": "-"
    }
   },
   "outputs": [
    {
     "data": {
      "text/html": [
       "<div>\n",
       "<style scoped>\n",
       "    .dataframe tbody tr th:only-of-type {\n",
       "        vertical-align: middle;\n",
       "    }\n",
       "\n",
       "    .dataframe tbody tr th {\n",
       "        vertical-align: top;\n",
       "    }\n",
       "\n",
       "    .dataframe thead th {\n",
       "        text-align: right;\n",
       "    }\n",
       "</style>\n",
       "<table border=\"1\" class=\"dataframe\">\n",
       "  <thead>\n",
       "    <tr style=\"text-align: right;\">\n",
       "      <th></th>\n",
       "      <th>additions</th>\n",
       "      <th>deletions</th>\n",
       "      <th>file</th>\n",
       "      <th>sha</th>\n",
       "      <th>timestamp</th>\n",
       "      <th>author</th>\n",
       "      <th>loc</th>\n",
       "    </tr>\n",
       "  </thead>\n",
       "  <tbody>\n",
       "    <tr>\n",
       "      <th>250</th>\n",
       "      <td>17.0</td>\n",
       "      <td>2.0</td>\n",
       "      <td>plugins/gradle/native/tooling/src/builder/CppM...</td>\n",
       "      <td>5d0fc88e519c</td>\n",
       "      <td>2019-03-01 11:57:43</td>\n",
       "      <td>Nikita Skvortsov</td>\n",
       "      <td>15.0</td>\n",
       "    </tr>\n",
       "    <tr>\n",
       "      <th>271</th>\n",
       "      <td>20.0</td>\n",
       "      <td>1.0</td>\n",
       "      <td>plugins/gradle/src/org/jetbrains/plugins/gradl...</td>\n",
       "      <td>5d0fc88e519c</td>\n",
       "      <td>2019-03-01 11:57:43</td>\n",
       "      <td>Nikita Skvortsov</td>\n",
       "      <td>19.0</td>\n",
       "    </tr>\n",
       "    <tr>\n",
       "      <th>272</th>\n",
       "      <td>62.0</td>\n",
       "      <td>44.0</td>\n",
       "      <td>plugins/gradle/src/org/jetbrains/plugins/gradl...</td>\n",
       "      <td>abd0a37dc2e3</td>\n",
       "      <td>2019-02-21 13:08:32</td>\n",
       "      <td>Vladislav Soroka</td>\n",
       "      <td>18.0</td>\n",
       "    </tr>\n",
       "    <tr>\n",
       "      <th>273</th>\n",
       "      <td>42.0</td>\n",
       "      <td>8.0</td>\n",
       "      <td>plugins/gradle/src/org/jetbrains/plugins/gradl...</td>\n",
       "      <td>d776fddb8625</td>\n",
       "      <td>2019-02-19 11:13:43</td>\n",
       "      <td>Vladislav Soroka</td>\n",
       "      <td>34.0</td>\n",
       "    </tr>\n",
       "    <tr>\n",
       "      <th>274</th>\n",
       "      <td>6.0</td>\n",
       "      <td>0.0</td>\n",
       "      <td>plugins/gradle/src/org/jetbrains/plugins/gradl...</td>\n",
       "      <td>489676110b06</td>\n",
       "      <td>2019-02-01 14:17:51</td>\n",
       "      <td>Bradley Smith</td>\n",
       "      <td>6.0</td>\n",
       "    </tr>\n",
       "  </tbody>\n",
       "</table>\n",
       "</div>"
      ],
      "text/plain": [
       "     additions  deletions                                               file  \\\n",
       "250       17.0        2.0  plugins/gradle/native/tooling/src/builder/CppM...   \n",
       "271       20.0        1.0  plugins/gradle/src/org/jetbrains/plugins/gradl...   \n",
       "272       62.0       44.0  plugins/gradle/src/org/jetbrains/plugins/gradl...   \n",
       "273       42.0        8.0  plugins/gradle/src/org/jetbrains/plugins/gradl...   \n",
       "274        6.0        0.0  plugins/gradle/src/org/jetbrains/plugins/gradl...   \n",
       "\n",
       "              sha           timestamp            author   loc  \n",
       "250  5d0fc88e519c 2019-03-01 11:57:43  Nikita Skvortsov  15.0  \n",
       "271  5d0fc88e519c 2019-03-01 11:57:43  Nikita Skvortsov  19.0  \n",
       "272  abd0a37dc2e3 2019-02-21 13:08:32  Vladislav Soroka  18.0  \n",
       "273  d776fddb8625 2019-02-19 11:13:43  Vladislav Soroka  34.0  \n",
       "274  489676110b06 2019-02-01 14:17:51     Bradley Smith   6.0  "
      ]
     },
     "execution_count": 6,
     "metadata": {},
     "output_type": "execute_result"
    }
   ],
   "source": [
    "java['loc'] = java['additions'] - java['deletions']\n",
    "java.head()"
   ]
  },
  {
   "cell_type": "markdown",
   "metadata": {
    "slideshow": {
     "slide_type": "slide"
    }
   },
   "source": [
    "*Wir aggregieren die Zeilen sowie die Anzahl der Änderungen pro Datei.*"
   ]
  },
  {
   "cell_type": "code",
   "execution_count": 7,
   "metadata": {
    "slideshow": {
     "slide_type": "-"
    },
    "tags": [
     "delete"
    ]
   },
   "outputs": [
    {
     "data": {
      "text/html": [
       "<div>\n",
       "<style scoped>\n",
       "    .dataframe tbody tr th:only-of-type {\n",
       "        vertical-align: middle;\n",
       "    }\n",
       "\n",
       "    .dataframe tbody tr th {\n",
       "        vertical-align: top;\n",
       "    }\n",
       "\n",
       "    .dataframe thead th {\n",
       "        text-align: right;\n",
       "    }\n",
       "</style>\n",
       "<table border=\"1\" class=\"dataframe\">\n",
       "  <thead>\n",
       "    <tr style=\"text-align: right;\">\n",
       "      <th></th>\n",
       "      <th>loc</th>\n",
       "      <th>changes</th>\n",
       "    </tr>\n",
       "    <tr>\n",
       "      <th>file</th>\n",
       "      <th></th>\n",
       "      <th></th>\n",
       "    </tr>\n",
       "  </thead>\n",
       "  <tbody>\n",
       "    <tr>\n",
       "      <th>RegExpSupport/gen/org/intellij/lang/regexp/_RegExLexer.java</th>\n",
       "      <td>109.0</td>\n",
       "      <td>1</td>\n",
       "    </tr>\n",
       "    <tr>\n",
       "      <th>RegExpSupport/src/org/intellij/lang/regexp/RegExpCapability.java</th>\n",
       "      <td>5.0</td>\n",
       "      <td>1</td>\n",
       "    </tr>\n",
       "    <tr>\n",
       "      <th>RegExpSupport/src/org/intellij/lang/regexp/RegExpCompletionContributor.java</th>\n",
       "      <td>22.0</td>\n",
       "      <td>1</td>\n",
       "    </tr>\n",
       "    <tr>\n",
       "      <th>RegExpSupport/src/org/intellij/lang/regexp/RegExpLanguageHost.java</th>\n",
       "      <td>12.0</td>\n",
       "      <td>1</td>\n",
       "    </tr>\n",
       "    <tr>\n",
       "      <th>RegExpSupport/src/org/intellij/lang/regexp/RegExpLanguageHosts.java</th>\n",
       "      <td>11.0</td>\n",
       "      <td>1</td>\n",
       "    </tr>\n",
       "  </tbody>\n",
       "</table>\n",
       "</div>"
      ],
      "text/plain": [
       "                                                      loc  changes\n",
       "file                                                              \n",
       "RegExpSupport/gen/org/intellij/lang/regexp/_Reg...  109.0        1\n",
       "RegExpSupport/src/org/intellij/lang/regexp/RegE...    5.0        1\n",
       "RegExpSupport/src/org/intellij/lang/regexp/RegE...   22.0        1\n",
       "RegExpSupport/src/org/intellij/lang/regexp/RegE...   12.0        1\n",
       "RegExpSupport/src/org/intellij/lang/regexp/RegE...   11.0        1"
      ]
     },
     "execution_count": 7,
     "metadata": {},
     "output_type": "execute_result"
    }
   ],
   "source": [
    "hotspots = java.groupby('file')['loc'].agg(['sum', 'count'])\n",
    "hotspots.columns = ['loc', 'changes']\n",
    "hotspots.head()"
   ]
  },
  {
   "cell_type": "markdown",
   "metadata": {
    "slideshow": {
     "slide_type": "slide"
    }
   },
   "source": [
    "### VI. Interpretation\n",
    "* Vorhandene Daten sind oft zu viel für manuelle Sichtung\n",
    "* Neue Einsichten über eine Frage aber oft auf hoher Flugbahn möglich"
   ]
  },
  {
   "cell_type": "markdown",
   "metadata": {
    "slideshow": {
     "slide_type": "slide"
    }
   },
   "source": [
    "*Wir zeigen die TOP 10 Hotspots an.*"
   ]
  },
  {
   "cell_type": "code",
   "execution_count": 8,
   "metadata": {
    "slideshow": {
     "slide_type": "-"
    }
   },
   "outputs": [
    {
     "data": {
      "text/html": [
       "<div>\n",
       "<style scoped>\n",
       "    .dataframe tbody tr th:only-of-type {\n",
       "        vertical-align: middle;\n",
       "    }\n",
       "\n",
       "    .dataframe tbody tr th {\n",
       "        vertical-align: top;\n",
       "    }\n",
       "\n",
       "    .dataframe thead th {\n",
       "        text-align: right;\n",
       "    }\n",
       "</style>\n",
       "<table border=\"1\" class=\"dataframe\">\n",
       "  <thead>\n",
       "    <tr style=\"text-align: right;\">\n",
       "      <th></th>\n",
       "      <th>loc</th>\n",
       "      <th>changes</th>\n",
       "    </tr>\n",
       "    <tr>\n",
       "      <th>file</th>\n",
       "      <th></th>\n",
       "      <th></th>\n",
       "    </tr>\n",
       "  </thead>\n",
       "  <tbody>\n",
       "    <tr>\n",
       "      <th>platform/platform-impl/src/com/intellij/ide/actions/RecentLocationsAction.java</th>\n",
       "      <td>377.0</td>\n",
       "      <td>54</td>\n",
       "    </tr>\n",
       "    <tr>\n",
       "      <th>platform/core-impl/src/com/intellij/ide/plugins/PluginManagerCore.java</th>\n",
       "      <td>78.0</td>\n",
       "      <td>35</td>\n",
       "    </tr>\n",
       "    <tr>\n",
       "      <th>platform/extensions/src/com/intellij/openapi/extensions/impl/ExtensionPointImpl.java</th>\n",
       "      <td>232.0</td>\n",
       "      <td>32</td>\n",
       "    </tr>\n",
       "    <tr>\n",
       "      <th>platform/util/src/com/intellij/icons/AllIcons.java</th>\n",
       "      <td>-18.0</td>\n",
       "      <td>30</td>\n",
       "    </tr>\n",
       "    <tr>\n",
       "      <th>platform/platform-impl/src/com/intellij/openapi/application/impl/ApplicationImpl.java</th>\n",
       "      <td>-7.0</td>\n",
       "      <td>28</td>\n",
       "    </tr>\n",
       "    <tr>\n",
       "      <th>platform/platform-impl/src/com/intellij/ide/actions/Switcher.java</th>\n",
       "      <td>104.0</td>\n",
       "      <td>27</td>\n",
       "    </tr>\n",
       "    <tr>\n",
       "      <th>platform/platform-impl/src/com/intellij/idea/StartupUtil.java</th>\n",
       "      <td>118.0</td>\n",
       "      <td>27</td>\n",
       "    </tr>\n",
       "    <tr>\n",
       "      <th>platform/core-impl/src/com/intellij/openapi/components/impl/ComponentManagerImpl.java</th>\n",
       "      <td>21.0</td>\n",
       "      <td>27</td>\n",
       "    </tr>\n",
       "    <tr>\n",
       "      <th>platform/platform-impl/src/com/intellij/openapi/vfs/newvfs/persistent/LocalFileSystemRefreshWorker.java</th>\n",
       "      <td>92.0</td>\n",
       "      <td>26</td>\n",
       "    </tr>\n",
       "    <tr>\n",
       "      <th>java/debugger/impl/src/com/intellij/debugger/memory/agent/MemoryAgentUtil.java</th>\n",
       "      <td>288.0</td>\n",
       "      <td>26</td>\n",
       "    </tr>\n",
       "  </tbody>\n",
       "</table>\n",
       "</div>"
      ],
      "text/plain": [
       "                                                      loc  changes\n",
       "file                                                              \n",
       "platform/platform-impl/src/com/intellij/ide/act...  377.0       54\n",
       "platform/core-impl/src/com/intellij/ide/plugins...   78.0       35\n",
       "platform/extensions/src/com/intellij/openapi/ex...  232.0       32\n",
       "platform/util/src/com/intellij/icons/AllIcons.java  -18.0       30\n",
       "platform/platform-impl/src/com/intellij/openapi...   -7.0       28\n",
       "platform/platform-impl/src/com/intellij/ide/act...  104.0       27\n",
       "platform/platform-impl/src/com/intellij/idea/St...  118.0       27\n",
       "platform/core-impl/src/com/intellij/openapi/com...   21.0       27\n",
       "platform/platform-impl/src/com/intellij/openapi...   92.0       26\n",
       "java/debugger/impl/src/com/intellij/debugger/me...  288.0       26"
      ]
     },
     "execution_count": 8,
     "metadata": {},
     "output_type": "execute_result"
    }
   ],
   "source": [
    "top10_hotspots = hotspots.sort_values(by=\"changes\", ascending=False).head(10)\n",
    "top10_hotspots"
   ]
  },
  {
   "cell_type": "markdown",
   "metadata": {
    "slideshow": {
     "slide_type": "slide"
    }
   },
   "source": [
    "### V. Kommunikation\n",
    "* Grafische Darstellung geben den letzten Schliff\n",
    "* Probleme können Außenstehenden visuell dargestellt besser kommuniziert werden"
   ]
  },
  {
   "cell_type": "markdown",
   "metadata": {
    "slideshow": {
     "slide_type": "slide"
    }
   },
   "source": [
    "*Wir plotten die TOP 10 Liste als XY-Diagramm.*"
   ]
  },
  {
   "cell_type": "code",
   "execution_count": 9,
   "metadata": {
    "slideshow": {
     "slide_type": "-"
    },
    "tags": [
     "delete"
    ]
   },
   "outputs": [
    {
     "data": {
      "image/png": "[encoded data removed]",
      "text/plain": [
       "<Figure size 432x288 with 1 Axes>"
      ]
     },
     "metadata": {
      "image/png": {
       "height": 263,
       "width": 384
      },
      "needs_background": "light"
     },
     "output_type": "display_data"
    }
   ],
   "source": [
    "top10_hotspots.plot.scatter('loc', 'changes');"
   ]
  },
  {
   "cell_type": "markdown",
   "metadata": {
    "slideshow": {
     "slide_type": "slide"
    }
   },
   "source": [
    "### Ende des ersten Hands-Ons"
   ]
  },
  {
   "cell_type": "markdown",
   "metadata": {
    "slideshow": {
     "slide_type": "slide"
    }
   },
   "source": [
    "## Weitere Analysen\n",
    "\n",
    "* Bewertung von CPU-Performance-Problemen\n",
    "* Performance-Hotspots mit Neo4j\n",
    "* Priorisieren von Aufräumarbeiten mit Tablesaw"
   ]
  },
  {
   "cell_type": "markdown",
   "metadata": {
    "slideshow": {
     "slide_type": "slide"
    }
   },
   "source": [
    "## Ausblick\n",
    "\n",
    "# <strong>E</strong><span class=\"grey\"><b>V</b></span><span class=\"green\"><b>A</b></span> mit **OZAPFDIS**, <span class=\"grey\"><b>pandas</b></span> und <span class=\"green\"><b>AUSI</b></span>"
   ]
  },
  {
   "cell_type": "markdown",
   "metadata": {
    "slideshow": {
     "slide_type": "fragment"
    }
   },
   "source": [
    "Beispiel: Abhängigkeitsanalyse mit Daten von `jdeps` und Visualisierung mit `D3`."
   ]
  },
  {
   "cell_type": "markdown",
   "metadata": {
    "slideshow": {
     "slide_type": "slide"
    }
   },
   "source": [
    "## Zusammenfassung\n",
    "**1.** <b>Analysen</b> mit Standard-Werkzeugen <b>einfach</b> möglich  \n",
    "**2.** Wer mehr will bekommt auch <b>mehr</b>!  \n",
    "**3.** Es gibt unglaublich <b>viele Quellen</b> für Daten in der Softwareentwicklung  \n",
    "\n",
    "<b>=> von der <strong>Frage</strong> über die <span class=\"green\">Daten</span> zur <span class=\"blue\" style=\"background-color: #FFFF00\">Erkenntnis</span>!</b>"
   ]
  },
  {
   "cell_type": "markdown",
   "metadata": {
    "slideshow": {
     "slide_type": "slide"
    }
   },
   "source": [
    "## Literatur\n",
    "* Adam Tornhill: Software Design X-Ray \n",
    "* Wes McKinney: Python For Data Analysis\n",
    "* Leek, Jeff: The Elements of Data Analytic Style\n",
    "* Tim Menzies, Laurie Williams, Thomas Zimmermann: Perspectives on Data Science for Software Engineering"
   ]
  },
  {
   "cell_type": "markdown",
   "metadata": {
    "slideshow": {
     "slide_type": "slide"
    }
   },
   "source": [
    "# Vielen Dank! Fragen?\n",
    "\n",
    "<b>Markus Harrer</b><br/>\n",
    "innoQ Deutschland GmbH\n",
    "  \n",
    "markus.harrer@innoq.com \n",
    "\n",
    "`@feststelltaste`\n",
    "\n",
    "<small>Demos & \"Slides\": https://github.com/feststelltaste/software-analytics => demos/20190704_JFS_2019/</small>\n",
    "<img src=\"../resources/innoq_logo.jpg\" width=\"20%\" heigth=\"20%\" align=\"right\"/>"
   ]
  }
 ],
 "metadata": {
  "celltoolbar": "Slideshow",
  "kernelspec": {
   "display_name": "Python 3",
   "language": "python",
   "name": "python3"
  },
  "language_info": {
   "codemirror_mode": {
    "name": "ipython",
    "version": 3
   },
   "file_extension": ".py",
   "mimetype": "text/x-python",
   "name": "python",
   "nbconvert_exporter": "python",
   "pygments_lexer": "ipython3",
   "version": "3.6.0"
  },
  "rise": {
   "controls": false,
   "showSlideNumber": "speaker",
   "slideNumber ": "false",
   "transition": "none"
  }
 },
 "nbformat": 4,
 "nbformat_minor": 2
}
