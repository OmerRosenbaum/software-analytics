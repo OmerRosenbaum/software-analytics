{
 "cells": [
  {
   "cell_type": "markdown",
   "metadata": {},
   "source": [
    "_Dieses Notebook ist ein Skript (Drehbuch) zur Vorstellung grundlegender Funktionen von Jupyter, Python, Pandas und matplotlib, um ein Gefühl für die Arbeit mit den Bibliotheken zu bekommen. Daher ist das gewählte Beispiel so gewählt, dass wir typische Aufgaben während einer Datenanalyse bearbeiten._"
   ]
  },
  {
   "cell_type": "markdown",
   "metadata": {},
   "source": [
    "# Jupyter\n",
    "Das hier ist Jupyter, die interaktive Notebook-Umgebung zum Programmieren. Wir sehen hier eine Zelle, in der wir Python-Code eingeben können. Geben wir einfach einmal einen String namens `\"Hello World\"` ein. Mit der Tastenkombination `Strg` + `Enter`."
   ]
  },
  {
   "cell_type": "code",
   "execution_count": 1,
   "metadata": {},
   "outputs": [
    {
     "data": {
      "text/plain": [
       "'Hello World'"
      ]
     },
     "execution_count": 1,
     "metadata": {},
     "output_type": "execute_result"
    }
   ],
   "source": [
    "\"Hello World\""
   ]
  },
  {
   "cell_type": "markdown",
   "metadata": {},
   "source": [
    "# Git-Historienanalyse\n",
    "In diesem Notebook wollen wir uns die Entwicklungsgeschichte des Open-Source-Projekts \"Linux\" anhand der Historie des dazugehörigen Git-Repositories ein wenig genauer ansehen.\n",
    "\n",
    "Das GitHub-Repository https://github.com/torvalds/linux/ wurde dafür über den Befehl  \n",
    "\n",
    "```\n",
    "git clone https://github.com/torvalds/linux.git\n",
    "```\n",
    "\n",
    "auf die lokale Festplatte geklont.\n",
    "\n",
    "Die für diese Auswertung relevanten Teile der Historie wurde mittels\n",
    "\n",
    "```\n",
    "git log --pretty=\"%ad,%aN\" --no-merges > git_demo_timestamp_linux.csv\n",
    "```\n",
    "exportiert. Dieser Befehl liefert pro Commit des Git-Repositories den Zeitstempel des Commits (`%ad`) sowie den Namen des Autors (`%aN`). Die jeweiligen Werte sind kommasepariert. Wir geben zusätzlich mit an, dass wir reine Merge-Commits nicht erhalten wollen (über `--no-merges`). Das Ergebnis der Ausgabe speichern wir in die Datei `git_demo_timestamp_linux.csv`.\n",
    "\n",
    "_Hinweis: Für eine optimierte Demo wurden manuell noch Header und das Trennzeichen geändert, um schneller durch die Analyse zu kommen. Die Unterschiede sind unter https://www.feststelltaste.de/developers-habits-linux-edition/ zu sehen, welcher mit dem Original-Datensatz durchgeführt wurde._"
   ]
  },
  {
   "cell_type": "markdown",
   "metadata": {},
   "source": [
    "# Pandas\n",
    "Nun können wir diese Daten mit Hilfe des Datenanalyse-Frameworks Pandas einlesen. Wir importieren dazu `pandas` mit der gängigen Abkürzung `pd` mittels der `import ... as ...` Syntax von Pyhton."
   ]
  },
  {
   "cell_type": "code",
   "execution_count": 2,
   "metadata": {},
   "outputs": [],
   "source": [
    "import pandas as pd"
   ]
  },
  {
   "cell_type": "markdown",
   "metadata": {},
   "source": [
    "Ob das Importieren des Moduls auch wirklich funktioniert hat, können wir prüfen, in dem wir mit dem `pd`-Modul arbeiten. Dazu hängen wir an die `pd`-Variable den `?` Operator an und führen die Zelle aus. Es erscheint die Dokumentation des Moduls im unteren Bereich des Notebooks. Diesen Bereich können wir durchlesen und mit der Taste `ESC` auch wieder verschwinden lassen."
   ]
  },
  {
   "cell_type": "code",
   "execution_count": 3,
   "metadata": {},
   "outputs": [],
   "source": [
    "pd?"
   ]
  },
  {
   "cell_type": "markdown",
   "metadata": {},
   "source": [
    "Danach lesen wir die oben beschriebene und gepackte CSV-Datei `git_demo_timestamp_linux.gz` im Verzeichnis `../dataset` ein und speichern das Ergebnis in der Variable `git_log`.\n",
    "\n",
    "Als Ergebnis haben wir nun die Daten in einen `DataFrame` (so etwas ähnliches wie ein programmierbares Excel-Arbeitsblatt) geladen, der in unserem Fall aus zwei `Series` (in etwa Spalten) besteht. Auf den `DataFrame` können wir nun Operationen ausführen. Z. B. können wir uns mittels `head()` die fünf ersten Einträge anzeigen lassen."
   ]
  },
  {
   "cell_type": "code",
   "execution_count": 4,
   "metadata": {},
   "outputs": [
    {
     "data": {
      "text/html": [
       "<div>\n",
       "<style scoped>\n",
       "    .dataframe tbody tr th:only-of-type {\n",
       "        vertical-align: middle;\n",
       "    }\n",
       "\n",
       "    .dataframe tbody tr th {\n",
       "        vertical-align: top;\n",
       "    }\n",
       "\n",
       "    .dataframe thead th {\n",
       "        text-align: right;\n",
       "    }\n",
       "</style>\n",
       "<table border=\"1\" class=\"dataframe\">\n",
       "  <thead>\n",
       "    <tr style=\"text-align: right;\">\n",
       "      <th></th>\n",
       "      <th>timestamp</th>\n",
       "      <th>author</th>\n",
       "    </tr>\n",
       "  </thead>\n",
       "  <tbody>\n",
       "    <tr>\n",
       "      <th>0</th>\n",
       "      <td>2017-12-31 14:47:43</td>\n",
       "      <td>Linus Torvalds</td>\n",
       "    </tr>\n",
       "    <tr>\n",
       "      <th>1</th>\n",
       "      <td>2017-12-31 13:13:56</td>\n",
       "      <td>Linus Torvalds</td>\n",
       "    </tr>\n",
       "    <tr>\n",
       "      <th>2</th>\n",
       "      <td>2017-12-31 13:03:05</td>\n",
       "      <td>Linus Torvalds</td>\n",
       "    </tr>\n",
       "    <tr>\n",
       "      <th>3</th>\n",
       "      <td>2017-12-31 12:30:34</td>\n",
       "      <td>Linus Torvalds</td>\n",
       "    </tr>\n",
       "    <tr>\n",
       "      <th>4</th>\n",
       "      <td>2017-12-31 12:29:02</td>\n",
       "      <td>Linus Torvalds</td>\n",
       "    </tr>\n",
       "  </tbody>\n",
       "</table>\n",
       "</div>"
      ],
      "text/plain": [
       "             timestamp          author\n",
       "0  2017-12-31 14:47:43  Linus Torvalds\n",
       "1  2017-12-31 13:13:56  Linus Torvalds\n",
       "2  2017-12-31 13:03:05  Linus Torvalds\n",
       "3  2017-12-31 12:30:34  Linus Torvalds\n",
       "4  2017-12-31 12:29:02  Linus Torvalds"
      ]
     },
     "execution_count": 4,
     "metadata": {},
     "output_type": "execute_result"
    }
   ],
   "source": [
    "git_log = pd.read_csv(\"../dataset/git_demo_timestamp_linux.gz\")\n",
    "git_log.head()"
   ]
  },
  {
   "cell_type": "markdown",
   "metadata": {},
   "source": [
    "Als nächstes rufen wir `info()` auf den `DataFrame` auf, um einige Eckdaten über die eingelesenen Daten zu erhalten."
   ]
  },
  {
   "cell_type": "code",
   "execution_count": 5,
   "metadata": {},
   "outputs": [
    {
     "name": "stdout",
     "output_type": "stream",
     "text": [
      "<class 'pandas.core.frame.DataFrame'>\n",
      "RangeIndex: 723214 entries, 0 to 723213\n",
      "Data columns (total 2 columns):\n",
      "timestamp    723214 non-null object\n",
      "author       723213 non-null object\n",
      "dtypes: object(2)\n",
      "memory usage: 11.0+ MB\n"
     ]
    }
   ],
   "source": [
    "git_log.info()"
   ]
  },
  {
   "cell_type": "markdown",
   "metadata": {},
   "source": [
    "Den Zugriff auf die einzelnen Series können wir mittels der Schreibeweise `[<spaltenname>]` oder (in den meisten Fällen) per direkter Nutzung des Namens der `Series` erreichen."
   ]
  },
  {
   "cell_type": "code",
   "execution_count": 6,
   "metadata": {},
   "outputs": [
    {
     "data": {
      "text/plain": [
       "0    Linus Torvalds\n",
       "1    Linus Torvalds\n",
       "2    Linus Torvalds\n",
       "3    Linus Torvalds\n",
       "4    Linus Torvalds\n",
       "Name: author, dtype: object"
      ]
     },
     "execution_count": 6,
     "metadata": {},
     "output_type": "execute_result"
    }
   ],
   "source": [
    "git_log.author.head()"
   ]
  },
  {
   "cell_type": "markdown",
   "metadata": {},
   "source": [
    "Auch auf einer `Series` selbst können wir verschiedene Operationen ausführen. Z. B. können wir mit `value_counts()` die in einer `Series` enthaltenen Werte zählen und nach gleichzeitig nach ihrer Häufigkeit sortieren lassen. Das Ergebnis ist wieder eine `Series`, diesmal aber mit den zusammengezählten und sortieren Werten. Auf diese `Series` können wir zusätzlich ein `head(10)` aufrufen. So erhalten wir eine schnelle Möglichkeit, die TOP-10-Werte einer `Series` anzeigen zu lassen. Das Ergebnis können wir dann in einer Variable `top10` festhalten und ausgeben lassen, in dem wir die Variable in die nächste Zellenzeile schreiben."
   ]
  },
  {
   "cell_type": "code",
   "execution_count": 7,
   "metadata": {},
   "outputs": [
    {
     "data": {
      "text/plain": [
       "Linus Torvalds           24259\n",
       "David S. Miller           9563\n",
       "Mark Brown                6917\n",
       "Takashi Iwai              6293\n",
       "Al Viro                   6064\n",
       "H Hartley Sweeten         5942\n",
       "Ingo Molnar               5462\n",
       "Mauro Carvalho Chehab     5384\n",
       "Arnd Bergmann             5305\n",
       "Greg Kroah-Hartman        4687\n",
       "Name: author, dtype: int64"
      ]
     },
     "execution_count": 7,
     "metadata": {},
     "output_type": "execute_result"
    }
   ],
   "source": [
    "top10 = git_log.author.value_counts().head(10)\n",
    "top10"
   ]
  },
  {
   "cell_type": "markdown",
   "metadata": {},
   "source": [
    "## Plotten/Visualisierung\n",
    "Als nächstes wollen wir das Ergebnis visualisieren bzw. plotten. Um die das Plot-Ergebnis der intern verwendeten Plotting-Bibliothek `matplotlib` direkt im Notebook anzuzeigen, müssen wir Jupyter dies mit dem Magic-Kommando\n",
    "\n",
    "```\n",
    "%matplotlib inline\n",
    "```\n",
    "\n",
    "vor dem Aufruf der `plot()` Methode mitteilen.\n",
    "\n",
    "Standardmäßig wird beim Aufruf von `plot()` auf einen `DataFrame` oder einer `Series` ein Liniendiagramm erstellt."
   ]
  },
  {
   "cell_type": "code",
   "execution_count": 8,
   "metadata": {},
   "outputs": [
    {
     "data": {
      "text/plain": [
       "<matplotlib.axes._subplots.AxesSubplot at 0x133beca3cc0>"
      ]
     },
     "execution_count": 8,
     "metadata": {},
     "output_type": "execute_result"
    },
    {
     "data": {
      "image/png": "[encoded data removed]",
      "text/plain": [
       "<matplotlib.figure.Figure at 0x133bec9ff60>"
      ]
     },
     "metadata": {},
     "output_type": "display_data"
    }
   ],
   "source": [
    "%matplotlib inline\n",
    "top10.plot()"
   ]
  },
  {
   "cell_type": "markdown",
   "metadata": {},
   "source": [
    "Für diese Daten bietet sich eher eine Visualisierung als Tortendiagramm an. Hierfür rufen wir die Untermethode `pie()` von `plot` auf."
   ]
  },
  {
   "cell_type": "code",
   "execution_count": 9,
   "metadata": {},
   "outputs": [
    {
     "data": {
      "text/plain": [
       "<matplotlib.axes._subplots.AxesSubplot at 0x133bedadd68>"
      ]
     },
     "execution_count": 9,
     "metadata": {},
     "output_type": "execute_result"
    },
    {
     "data": {
      "image/png": "[encoded data removed]",
      "text/plain": [
       "<matplotlib.figure.Figure at 0x133becc27f0>"
      ]
     },
     "metadata": {},
     "output_type": "display_data"
    }
   ],
   "source": [
    "top10.plot.pie()"
   ]
  },
  {
   "cell_type": "markdown",
   "metadata": {},
   "source": [
    "Das Diagramm sieht hier jedoch nicht sehr schön aus.\n",
    "\n",
    "Mit den optionalen Styling-Parametern können wir erreichen, dass wir eine schönere Grafik angezeigt bekommen. Wir verwenden dazu\n",
    "* `figsize=[7,7]` als Größenangabe\n",
    "* `title=\"Top 10 Autoren\"` als Titel\n",
    "* `label=\"\", um die überflüssige Beschriftung nicht anzuzeigen."
   ]
  },
  {
   "cell_type": "code",
   "execution_count": 10,
   "metadata": {},
   "outputs": [
    {
     "data": {
      "text/plain": [
       "<matplotlib.axes._subplots.AxesSubplot at 0x133bee4de80>"
      ]
     },
     "execution_count": 10,
     "metadata": {},
     "output_type": "execute_result"
    },
    {
     "data": {
      "image/png": "[encoded data removed]",
      "text/plain": [
       "<matplotlib.figure.Figure at 0x133bc5e6e10>"
      ]
     },
     "metadata": {},
     "output_type": "display_data"
    }
   ],
   "source": [
    "top10.plot.pie(\n",
    "    figsize=[7,7],\n",
    "    title=\"Top 10 Autoren\",\n",
    "    label=\"\")"
   ]
  },
  {
   "cell_type": "markdown",
   "metadata": {},
   "source": [
    "# _Zusatz (nicht Teil der Demo)_"
   ]
  },
  {
   "cell_type": "markdown",
   "metadata": {},
   "source": [
    "## Arbeiten mit Datumsangaben\n",
    "Nun widmen wir uns den Zeitstempelangaben. Wir wollen herausfinden, zu welcher Tageszeit die Entwickler committen."
   ]
  },
  {
   "cell_type": "code",
   "execution_count": 11,
   "metadata": {},
   "outputs": [
    {
     "data": {
      "text/plain": [
       "0    2017-12-31 14:47:43\n",
       "1    2017-12-31 13:13:56\n",
       "2    2017-12-31 13:03:05\n",
       "3    2017-12-31 12:30:34\n",
       "4    2017-12-31 12:29:02\n",
       "Name: timestamp, dtype: object"
      ]
     },
     "execution_count": 11,
     "metadata": {},
     "output_type": "execute_result"
    }
   ],
   "source": [
    "git_log.timestamp.head()"
   ]
  },
  {
   "cell_type": "markdown",
   "metadata": {},
   "source": [
    "\n",
    "Bevor wir in die Welt der Zeitreihenverarbeitung einsteigen können, müssen wir unsere Spalte mit den Datumsangabe zuerst in den passenden Datentyp umwandeln. Zurzeit ist unsere Spalte `timestamp` noch ein String, also von textueller Natur. Wir können dies sehen, in dem wir uns mittels der Helferfunktion `type(<object>)` den ersten Eintrag der `timestamp`-Spalte anzeigen lassen:"
   ]
  },
  {
   "cell_type": "code",
   "execution_count": 12,
   "metadata": {},
   "outputs": [
    {
     "data": {
      "text/plain": [
       "str"
      ]
     },
     "execution_count": 12,
     "metadata": {},
     "output_type": "execute_result"
    }
   ],
   "source": [
    "type(git_log.timestamp[0])"
   ]
  },
  {
   "cell_type": "markdown",
   "metadata": {},
   "source": [
    "Beim Umwandeln von Datentypen hilft uns Pandas natürlich ebenfalls. Die Funktion `pd.to_datetime` nimmt als ersten Parameter eine `Series` mit Datumsangaben entgegen und wandelt diese um. Als Rückgabewert erhalten wir entsprechend eine `Series` vom Datentyp `Timestamp`. Die Umwandlung funktioniert für die meisten textuellen Datumsangaben auch meistens automagisch, da Pandas mit unterschiedlichesten Datumsformaten umgehen kann. Das Ergebnis schreiben wir auch gleich in die gleiche Spalte zurück."
   ]
  },
  {
   "cell_type": "code",
   "execution_count": 13,
   "metadata": {},
   "outputs": [
    {
     "data": {
      "text/html": [
       "<div>\n",
       "<style scoped>\n",
       "    .dataframe tbody tr th:only-of-type {\n",
       "        vertical-align: middle;\n",
       "    }\n",
       "\n",
       "    .dataframe tbody tr th {\n",
       "        vertical-align: top;\n",
       "    }\n",
       "\n",
       "    .dataframe thead th {\n",
       "        text-align: right;\n",
       "    }\n",
       "</style>\n",
       "<table border=\"1\" class=\"dataframe\">\n",
       "  <thead>\n",
       "    <tr style=\"text-align: right;\">\n",
       "      <th></th>\n",
       "      <th>timestamp</th>\n",
       "      <th>author</th>\n",
       "    </tr>\n",
       "  </thead>\n",
       "  <tbody>\n",
       "    <tr>\n",
       "      <th>0</th>\n",
       "      <td>2017-12-31 14:47:43</td>\n",
       "      <td>Linus Torvalds</td>\n",
       "    </tr>\n",
       "    <tr>\n",
       "      <th>1</th>\n",
       "      <td>2017-12-31 13:13:56</td>\n",
       "      <td>Linus Torvalds</td>\n",
       "    </tr>\n",
       "    <tr>\n",
       "      <th>2</th>\n",
       "      <td>2017-12-31 13:03:05</td>\n",
       "      <td>Linus Torvalds</td>\n",
       "    </tr>\n",
       "    <tr>\n",
       "      <th>3</th>\n",
       "      <td>2017-12-31 12:30:34</td>\n",
       "      <td>Linus Torvalds</td>\n",
       "    </tr>\n",
       "    <tr>\n",
       "      <th>4</th>\n",
       "      <td>2017-12-31 12:29:02</td>\n",
       "      <td>Linus Torvalds</td>\n",
       "    </tr>\n",
       "  </tbody>\n",
       "</table>\n",
       "</div>"
      ],
      "text/plain": [
       "            timestamp          author\n",
       "0 2017-12-31 14:47:43  Linus Torvalds\n",
       "1 2017-12-31 13:13:56  Linus Torvalds\n",
       "2 2017-12-31 13:03:05  Linus Torvalds\n",
       "3 2017-12-31 12:30:34  Linus Torvalds\n",
       "4 2017-12-31 12:29:02  Linus Torvalds"
      ]
     },
     "execution_count": 13,
     "metadata": {},
     "output_type": "execute_result"
    }
   ],
   "source": [
    "git_log.timestamp = pd.to_datetime(git_log.timestamp)\n",
    "git_log.head()"
   ]
  },
  {
   "cell_type": "markdown",
   "metadata": {},
   "source": [
    "Ob die Umwandlung erfolgreich war, können wir mit einem nochmaligen Aufruf von `type()` auf den ersten Wert unserer umgewandelten Spalte `timestamp` überprüfen."
   ]
  },
  {
   "cell_type": "code",
   "execution_count": 14,
   "metadata": {},
   "outputs": [
    {
     "data": {
      "text/plain": [
       "pandas._libs.tslib.Timestamp"
      ]
     },
     "execution_count": 14,
     "metadata": {},
     "output_type": "execute_result"
    }
   ],
   "source": [
    "type(git_log.timestamp[0])"
   ]
  },
  {
   "cell_type": "markdown",
   "metadata": {},
   "source": [
    "Wir können nun auch auf einzelne Bestandteile der Datumsangaben zugreifen. Dazu verwenden wir das `dt`-Objekt (\"datetime\") und können auf dessen Eigenschaften wie etwa `hour` zurückgreifen."
   ]
  },
  {
   "cell_type": "code",
   "execution_count": 15,
   "metadata": {},
   "outputs": [
    {
     "data": {
      "text/plain": [
       "0    14\n",
       "1    13\n",
       "2    13\n",
       "3    12\n",
       "4    12\n",
       "Name: timestamp, dtype: int64"
      ]
     },
     "execution_count": 15,
     "metadata": {},
     "output_type": "execute_result"
    }
   ],
   "source": [
    "git_log.timestamp.dt.hour.head()"
   ]
  },
  {
   "cell_type": "markdown",
   "metadata": {},
   "source": [
    "Zusammen mit der bereits oben vorgestellten `value_counts()`-Methode können wir nun wieder Werte zählen lassen. Wichtig ist hier jedoch, dass wir zusätzlich den Parameter `sort=False` setzen, um die Sortierung nach auftretender Häufigkeit zu vermeiden."
   ]
  },
  {
   "cell_type": "code",
   "execution_count": 16,
   "metadata": {},
   "outputs": [
    {
     "data": {
      "text/plain": [
       "0    19533\n",
       "1    15044\n",
       "2    10420\n",
       "3     7000\n",
       "4     6068\n",
       "Name: timestamp, dtype: int64"
      ]
     },
     "execution_count": 16,
     "metadata": {},
     "output_type": "execute_result"
    }
   ],
   "source": [
    "commits_je_stunde = git_log.timestamp.dt.hour.value_counts(sort=False)\n",
    "commits_je_stunde.head()"
   ]
  },
  {
   "cell_type": "markdown",
   "metadata": {},
   "source": [
    "Das Ergebnis können wir entsprechend mittels eines Balkendiagramms ausgeben und erhalten so eine Übersicht, zu welcher Tageszeit Quellcode committet wird."
   ]
  },
  {
   "cell_type": "code",
   "execution_count": 17,
   "metadata": {},
   "outputs": [
    {
     "data": {
      "text/plain": [
       "<matplotlib.axes._subplots.AxesSubplot at 0x133bedad710>"
      ]
     },
     "execution_count": 17,
     "metadata": {},
     "output_type": "execute_result"
    },
    {
     "data": {
      "image/png": "[encoded data removed]",
      "text/plain": [
       "<matplotlib.figure.Figure at 0x133bee5ef60>"
      ]
     },
     "metadata": {},
     "output_type": "display_data"
    }
   ],
   "source": [
    "commits_je_stunde.plot.bar()"
   ]
  },
  {
   "cell_type": "markdown",
   "metadata": {},
   "source": [
    "Wir beschriften nun zusätzlich die Grafik. Dazu speichern wir uns das Rückgabeobjekt der `bar()`-Funktion in der Variable `ax`. Hierbei handelt es sich um ein `Axes`-Objekt der darunterliegenden Plotting-Bibliothek `matplotlib`, durch das wir zusätzliche Eigenschaften des Plots beliebig anpassen können. Wir setzen hier\n",
    "\n",
    "* den Titel über `set_title(<titelname>)`\n",
    "* die Beschriftung der X-Achse mit `set_xlabel(<x_achsenname>)` und\n",
    "* die Beschriftung der Y-Achse mit `set_ylabel(<y_achsenname>)`\n",
    "\n",
    "Als Ergebnis erhalten wir nun ein ausagekräftiges, beschriftetes Balkendiagramm."
   ]
  },
  {
   "cell_type": "code",
   "execution_count": 18,
   "metadata": {},
   "outputs": [
    {
     "data": {
      "text/plain": [
       "Text(0,0.5,'Commits')"
      ]
     },
     "execution_count": 18,
     "metadata": {},
     "output_type": "execute_result"
    },
    {
     "data": {
      "image/png": "[encoded data removed]",
      "text/plain": [
       "<matplotlib.figure.Figure at 0x133c0abc128>"
      ]
     },
     "metadata": {},
     "output_type": "display_data"
    }
   ],
   "source": [
    "ax = commits_je_stunde.plot.bar()\n",
    "ax.set_title(\"Commits pro Stunde\")\n",
    "ax.set_xlabel(\"Tagesstunde\")\n",
    "ax.set_ylabel(\"Commits\")"
   ]
  },
  {
   "cell_type": "markdown",
   "metadata": {},
   "source": [
    "Wir können auch nach Wochentagen auswerten. Dazu verwenden wir das `weekday`-Attribut auf dem `DateTime`-Attribut `dt`. Wie üblich, lassen wir hier die Werte über `value_counts` zählen, lassen die Werte aber nicht ihrer Häufigkeit nach sortieren."
   ]
  },
  {
   "cell_type": "code",
   "execution_count": 19,
   "metadata": {},
   "outputs": [
    {
     "data": {
      "text/plain": [
       "0    124296\n",
       "1    131690\n",
       "2    131019\n",
       "3    127097\n",
       "4    117635\n",
       "5     44877\n",
       "6     46600\n",
       "Name: timestamp, dtype: int64"
      ]
     },
     "execution_count": 19,
     "metadata": {},
     "output_type": "execute_result"
    }
   ],
   "source": [
    "commits_je_wochentag = git_log.timestamp.dt.weekday.value_counts(sort=False)\n",
    "commits_je_wochentag"
   ]
  },
  {
   "cell_type": "markdown",
   "metadata": {},
   "source": [
    "Das Ergebnis in `commits_je_wochentag` lassen wir als ein Balkendiagramm mittels `plot.bar()` ausgeben."
   ]
  },
  {
   "cell_type": "code",
   "execution_count": 20,
   "metadata": {},
   "outputs": [
    {
     "data": {
      "text/plain": [
       "<matplotlib.axes._subplots.AxesSubplot at 0x133c0b63748>"
      ]
     },
     "execution_count": 20,
     "metadata": {},
     "output_type": "execute_result"
    },
    {
     "data": {
      "image/png": "[encoded data removed]",
      "text/plain": [
       "<matplotlib.figure.Figure at 0x133bc5e6c50>"
      ]
     },
     "metadata": {},
     "output_type": "display_data"
    }
   ],
   "source": [
    "commits_je_wochentag.plot.bar()"
   ]
  },
  {
   "cell_type": "markdown",
   "metadata": {},
   "source": [
    "## Commit-Verlauf\n",
    "Nachfolgend wollen wir den Verlauf aller Commits über die letzten Jahre aufzeichnen lassen. Dazu setzen wir die `timestamp` Spalte als Index mittels `set_index(<spaltenname>)`. Zudem selektieren wir lediglich die `author`-Spalte mittels `[<spaltenname>]`. Dadurch arbeiten wir fortlaufend auf einer reinen `Series` statt eines `DataFrame`. Randnotiz: Die Verarbeitung mittels `Series` folgt fast analog wie bei einem `DataFrame`. Eine `Series` wird jedoch nicht so schön in einer Tabelle formatiert angezeigt, weshalb ich persönlich die Bearbeitung mittels `DataFrame` bevorzuge."
   ]
  },
  {
   "cell_type": "code",
   "execution_count": 21,
   "metadata": {},
   "outputs": [
    {
     "data": {
      "text/plain": [
       "timestamp\n",
       "2017-12-31 14:47:43    Linus Torvalds\n",
       "2017-12-31 13:13:56    Linus Torvalds\n",
       "2017-12-31 13:03:05    Linus Torvalds\n",
       "2017-12-31 12:30:34    Linus Torvalds\n",
       "2017-12-31 12:29:02    Linus Torvalds\n",
       "Name: author, dtype: object"
      ]
     },
     "execution_count": 21,
     "metadata": {},
     "output_type": "execute_result"
    }
   ],
   "source": [
    "git_timed = git_log.set_index('timestamp')['author']\n",
    "git_timed.head()"
   ]
  },
  {
   "cell_type": "markdown",
   "metadata": {},
   "source": [
    "Über die `resample(<zeiteinheit>)`-Funktion des `DataFrame`s können wir nun Werte nach bestimmten Zeiteinheiten gruppieren wie z. B. nach Tage (`D`), Monate (`M`), Quartale (`Q`) oder Jahre (`A`). Wir verwenden hier ein `resample(\"D\")` für tageweises zählen. Zudem geben wir noch an, wie die Einzelwerte pro Zeiteinheit zusammengeführt werden sollen. Hierzu wählen wir die `count()`-Funktion, um die Anzahl der Commits für jeden einzelnen Tag zu zählen."
   ]
  },
  {
   "cell_type": "code",
   "execution_count": 22,
   "metadata": {},
   "outputs": [
    {
     "data": {
      "text/plain": [
       "timestamp\n",
       "2005-04-16    199\n",
       "2005-04-17     30\n",
       "2005-04-18     73\n",
       "2005-04-19     28\n",
       "2005-04-20      8\n",
       "Freq: D, Name: author, dtype: int64"
      ]
     },
     "execution_count": 22,
     "metadata": {},
     "output_type": "execute_result"
    }
   ],
   "source": [
    "commits_per_day = git_timed.resample(\"D\").count()\n",
    "commits_per_day.head()"
   ]
  },
  {
   "cell_type": "markdown",
   "metadata": {},
   "source": [
    "Um den Commit-Verlauf über die Jahre hinweg aufzuzeigen, bilden wir die kumulative Summe über alle Tageseinträge mittels `cumsum()`. Damit werden alle Werte nacheinander aufsummiert."
   ]
  },
  {
   "cell_type": "code",
   "execution_count": 23,
   "metadata": {},
   "outputs": [
    {
     "data": {
      "text/plain": [
       "timestamp\n",
       "2005-04-16    199\n",
       "2005-04-17    229\n",
       "2005-04-18    302\n",
       "2005-04-19    330\n",
       "2005-04-20    338\n",
       "Freq: D, Name: author, dtype: int64"
      ]
     },
     "execution_count": 23,
     "metadata": {},
     "output_type": "execute_result"
    }
   ],
   "source": [
    "commits_pro_tag_kumulativ = commits_per_day.cumsum()\n",
    "commits_pro_tag_kumulativ.head()"
   ]
  },
  {
   "cell_type": "markdown",
   "metadata": {},
   "source": [
    "Das Ergebnis plotten wir nun als Liniendiagramm und erhalten somit die Anzahl der Commits über die Jahre hinweg aufgezeichnet."
   ]
  },
  {
   "cell_type": "code",
   "execution_count": 24,
   "metadata": {},
   "outputs": [
    {
     "data": {
      "text/plain": [
       "<matplotlib.axes._subplots.AxesSubplot at 0x133c0c3ccc0>"
      ]
     },
     "execution_count": 24,
     "metadata": {},
     "output_type": "execute_result"
    },
    {
     "data": {
      "image/png": "[encoded data removed]",
      "text/plain": [
       "<matplotlib.figure.Figure at 0x133c0b93470>"
      ]
     },
     "metadata": {},
     "output_type": "display_data"
    }
   ],
   "source": [
    "commits_pro_tag_kumulativ.plot()"
   ]
  },
  {
   "cell_type": "markdown",
   "metadata": {},
   "source": [
    "# Was jetzt noch alles fehlt\n",
    "Wir haben jetzt einige Grundlagen zu Pandas kennengelernt. Damit kommen wir schon sehr weit in der täglichen Arbeit. Die anderen wichtigen Themenbereiche, die nun noch fehlen, sind:\n",
    "* Einlesen komplizierter Datenstrukturen\n",
    "* Bereinigung von schlechter Datenqualität\n",
    "* Zusammenführen verschiedener Datenquellen\n",
    "* Gruppieren von gleichartigen Daten mittels `groupby`\n",
    "* Umformen von `DataFrame`s mittels `pivot_table`"
   ]
  }
 ],
 "metadata": {
  "kernelspec": {
   "display_name": "Python 3",
   "language": "python",
   "name": "python3"
  },
  "language_info": {
   "codemirror_mode": {
    "name": "ipython",
    "version": 3
   },
   "file_extension": ".py",
   "mimetype": "text/x-python",
   "name": "python",
   "nbconvert_exporter": "python",
   "pygments_lexer": "ipython3",
   "version": "3.6.4"
  }
 },
 "nbformat": 4,
 "nbformat_minor": 2
}
