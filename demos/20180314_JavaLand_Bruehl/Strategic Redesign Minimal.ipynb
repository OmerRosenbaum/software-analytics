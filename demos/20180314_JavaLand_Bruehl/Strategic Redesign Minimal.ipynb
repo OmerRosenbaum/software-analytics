{
 "cells": [
  {
   "cell_type": "markdown",
   "metadata": {
    "slideshow": {
     "slide_type": "slide"
    }
   },
   "source": [
    "# Analyse der Webanwendung  \"PetClinic\"  \n",
    "   \n",
    "   \n",
    "\n",
    "## _Priorisierung von Umbauarbeiten nach Nutzungsgrad_\n"
   ]
  },
  {
   "cell_type": "markdown",
   "metadata": {
    "slideshow": {
     "slide_type": "slide"
    }
   },
   "source": [
    "#### Technische Vorbereitung: Laden der Analysewerkzeuge"
   ]
  },
  {
   "cell_type": "code",
   "execution_count": 1,
   "metadata": {
    "slideshow": {
     "slide_type": "-"
    }
   },
   "outputs": [],
   "source": [
    "import pandas as pd\n",
    "import py2neo\n",
    "graph = py2neo.Graph(password=\"password\")"
   ]
  },
  {
   "cell_type": "markdown",
   "metadata": {
    "slideshow": {
     "slide_type": "slide"
    }
   },
   "source": [
    "## Aggregation der Messwerte nach Subdomänen"
   ]
  },
  {
   "cell_type": "code",
   "execution_count": 2,
   "metadata": {
    "slideshow": {
     "slide_type": "-"
    }
   },
   "outputs": [],
   "source": [
    "query = \"\"\"\n",
    "MATCH \n",
    "  (t:Type)-[:BELONGS_TO]->(s:Subdomain),\n",
    "  (t)-[:HAS_CHANGE]->(ch:Change),\n",
    "  (t)-[:HAS_MEASURE]->(co:Coverage),\n",
    "  (t)-[:DECLARES]->(m:Method)\n",
    "OPTIONAL MATCH\n",
    "  (t)-[:HAS_BUG]->(b:BugInstance)   \n",
    "RETURN \n",
    "  s.name as ASubdomain,\n",
    "  COUNT(DISTINCT t) as Types,\n",
    "  COUNT(DISTINCT ch) as Changes,\n",
    "  AVG(co.ratio) as Coverage,\n",
    "  COUNT(DISTINCT b) as Bugs,\n",
    "  SUM(DISTINCT m.lastLineNumber) as Lines\n",
    "ORDER BY Coverage ASC, Bugs DESC\n",
    "\"\"\""
   ]
  },
  {
   "cell_type": "markdown",
   "metadata": {
    "slideshow": {
     "slide_type": "subslide"
    }
   },
   "source": [
    "### Ergebnisse nach Subdomänen"
   ]
  },
  {
   "cell_type": "code",
   "execution_count": 3,
   "metadata": {
    "slideshow": {
     "slide_type": "-"
    }
   },
   "outputs": [
    {
     "data": {
      "text/html": [
       "<div>\n",
       "<style scoped>\n",
       "    .dataframe tbody tr th:only-of-type {\n",
       "        vertical-align: middle;\n",
       "    }\n",
       "\n",
       "    .dataframe tbody tr th {\n",
       "        vertical-align: top;\n",
       "    }\n",
       "\n",
       "    .dataframe thead th {\n",
       "        text-align: right;\n",
       "    }\n",
       "</style>\n",
       "<table border=\"1\" class=\"dataframe\">\n",
       "  <thead>\n",
       "    <tr style=\"text-align: right;\">\n",
       "      <th></th>\n",
       "      <th>ASubdomain</th>\n",
       "      <th>Bugs</th>\n",
       "      <th>Changes</th>\n",
       "      <th>Coverage</th>\n",
       "      <th>Lines</th>\n",
       "      <th>Types</th>\n",
       "    </tr>\n",
       "  </thead>\n",
       "  <tbody>\n",
       "    <tr>\n",
       "      <th>0</th>\n",
       "      <td>Vet</td>\n",
       "      <td>0</td>\n",
       "      <td>75</td>\n",
       "      <td>0.155273</td>\n",
       "      <td>828</td>\n",
       "      <td>5</td>\n",
       "    </tr>\n",
       "    <tr>\n",
       "      <th>1</th>\n",
       "      <td>Visit</td>\n",
       "      <td>0</td>\n",
       "      <td>90</td>\n",
       "      <td>0.474944</td>\n",
       "      <td>1738</td>\n",
       "      <td>6</td>\n",
       "    </tr>\n",
       "    <tr>\n",
       "      <th>2</th>\n",
       "      <td>Owner</td>\n",
       "      <td>3</td>\n",
       "      <td>94</td>\n",
       "      <td>0.519492</td>\n",
       "      <td>2948</td>\n",
       "      <td>4</td>\n",
       "    </tr>\n",
       "    <tr>\n",
       "      <th>3</th>\n",
       "      <td>Pet</td>\n",
       "      <td>1</td>\n",
       "      <td>167</td>\n",
       "      <td>0.525654</td>\n",
       "      <td>3045</td>\n",
       "      <td>11</td>\n",
       "    </tr>\n",
       "    <tr>\n",
       "      <th>4</th>\n",
       "      <td>crossfunctional</td>\n",
       "      <td>2</td>\n",
       "      <td>53</td>\n",
       "      <td>0.625676</td>\n",
       "      <td>742</td>\n",
       "      <td>5</td>\n",
       "    </tr>\n",
       "    <tr>\n",
       "      <th>5</th>\n",
       "      <td>Clinic</td>\n",
       "      <td>0</td>\n",
       "      <td>26</td>\n",
       "      <td>0.888889</td>\n",
       "      <td>824</td>\n",
       "      <td>1</td>\n",
       "    </tr>\n",
       "    <tr>\n",
       "      <th>6</th>\n",
       "      <td>Person</td>\n",
       "      <td>0</td>\n",
       "      <td>5</td>\n",
       "      <td>1.000000</td>\n",
       "      <td>215</td>\n",
       "      <td>1</td>\n",
       "    </tr>\n",
       "    <tr>\n",
       "      <th>7</th>\n",
       "      <td>Specialty</td>\n",
       "      <td>0</td>\n",
       "      <td>4</td>\n",
       "      <td>1.000000</td>\n",
       "      <td>28</td>\n",
       "      <td>1</td>\n",
       "    </tr>\n",
       "  </tbody>\n",
       "</table>\n",
       "</div>"
      ],
      "text/plain": [
       "        ASubdomain  Bugs  Changes  Coverage  Lines  Types\n",
       "0              Vet     0       75  0.155273    828      5\n",
       "1            Visit     0       90  0.474944   1738      6\n",
       "2            Owner     3       94  0.519492   2948      4\n",
       "3              Pet     1      167  0.525654   3045     11\n",
       "4  crossfunctional     2       53  0.625676    742      5\n",
       "5           Clinic     0       26  0.888889    824      1\n",
       "6           Person     0        5  1.000000    215      1\n",
       "7        Specialty     0        4  1.000000     28      1"
      ]
     },
     "execution_count": 3,
     "metadata": {},
     "output_type": "execute_result"
    }
   ],
   "source": [
    "result = pd.DataFrame(graph.data(query))\n",
    "result"
   ]
  },
  {
   "cell_type": "markdown",
   "metadata": {
    "slideshow": {
     "slide_type": "subslide"
    }
   },
   "source": [
    "### Umbenennung nach geläufigen Begriffen"
   ]
  },
  {
   "cell_type": "code",
   "execution_count": 4,
   "metadata": {
    "slideshow": {
     "slide_type": "-"
    }
   },
   "outputs": [
    {
     "data": {
      "text/html": [
       "<div>\n",
       "<style scoped>\n",
       "    .dataframe tbody tr th:only-of-type {\n",
       "        vertical-align: middle;\n",
       "    }\n",
       "\n",
       "    .dataframe tbody tr th {\n",
       "        vertical-align: top;\n",
       "    }\n",
       "\n",
       "    .dataframe thead th {\n",
       "        text-align: right;\n",
       "    }\n",
       "</style>\n",
       "<table border=\"1\" class=\"dataframe\">\n",
       "  <thead>\n",
       "    <tr style=\"text-align: right;\">\n",
       "      <th></th>\n",
       "      <th>ASubdomain</th>\n",
       "      <th>Bugs</th>\n",
       "      <th>Investment</th>\n",
       "      <th>Utilization</th>\n",
       "      <th>Size</th>\n",
       "      <th>Types</th>\n",
       "    </tr>\n",
       "  </thead>\n",
       "  <tbody>\n",
       "    <tr>\n",
       "      <th>0</th>\n",
       "      <td>Vet</td>\n",
       "      <td>0</td>\n",
       "      <td>75</td>\n",
       "      <td>0.155273</td>\n",
       "      <td>828</td>\n",
       "      <td>5</td>\n",
       "    </tr>\n",
       "    <tr>\n",
       "      <th>1</th>\n",
       "      <td>Visit</td>\n",
       "      <td>0</td>\n",
       "      <td>90</td>\n",
       "      <td>0.474944</td>\n",
       "      <td>1738</td>\n",
       "      <td>6</td>\n",
       "    </tr>\n",
       "    <tr>\n",
       "      <th>2</th>\n",
       "      <td>Owner</td>\n",
       "      <td>3</td>\n",
       "      <td>94</td>\n",
       "      <td>0.519492</td>\n",
       "      <td>2948</td>\n",
       "      <td>4</td>\n",
       "    </tr>\n",
       "    <tr>\n",
       "      <th>3</th>\n",
       "      <td>Pet</td>\n",
       "      <td>1</td>\n",
       "      <td>167</td>\n",
       "      <td>0.525654</td>\n",
       "      <td>3045</td>\n",
       "      <td>11</td>\n",
       "    </tr>\n",
       "    <tr>\n",
       "      <th>4</th>\n",
       "      <td>crossfunctional</td>\n",
       "      <td>2</td>\n",
       "      <td>53</td>\n",
       "      <td>0.625676</td>\n",
       "      <td>742</td>\n",
       "      <td>5</td>\n",
       "    </tr>\n",
       "    <tr>\n",
       "      <th>5</th>\n",
       "      <td>Clinic</td>\n",
       "      <td>0</td>\n",
       "      <td>26</td>\n",
       "      <td>0.888889</td>\n",
       "      <td>824</td>\n",
       "      <td>1</td>\n",
       "    </tr>\n",
       "    <tr>\n",
       "      <th>6</th>\n",
       "      <td>Person</td>\n",
       "      <td>0</td>\n",
       "      <td>5</td>\n",
       "      <td>1.000000</td>\n",
       "      <td>215</td>\n",
       "      <td>1</td>\n",
       "    </tr>\n",
       "    <tr>\n",
       "      <th>7</th>\n",
       "      <td>Specialty</td>\n",
       "      <td>0</td>\n",
       "      <td>4</td>\n",
       "      <td>1.000000</td>\n",
       "      <td>28</td>\n",
       "      <td>1</td>\n",
       "    </tr>\n",
       "  </tbody>\n",
       "</table>\n",
       "</div>"
      ],
      "text/plain": [
       "        ASubdomain  Bugs  Investment  Utilization  Size  Types\n",
       "0              Vet     0          75     0.155273   828      5\n",
       "1            Visit     0          90     0.474944  1738      6\n",
       "2            Owner     3          94     0.519492  2948      4\n",
       "3              Pet     1         167     0.525654  3045     11\n",
       "4  crossfunctional     2          53     0.625676   742      5\n",
       "5           Clinic     0          26     0.888889   824      1\n",
       "6           Person     0           5     1.000000   215      1\n",
       "7        Specialty     0           4     1.000000    28      1"
      ]
     },
     "execution_count": 4,
     "metadata": {},
     "output_type": "execute_result"
    }
   ],
   "source": [
    "plot_data = result.copy()\n",
    "plot_data = plot_data.rename(\n",
    "    columns= {\n",
    "        \"Changes\" : \"Investment\",\n",
    "        \"Coverage\" : \"Utilization\",\n",
    "        \"Lines\" : \"Size\"})\n",
    "plot_data"
   ]
  },
  {
   "cell_type": "code",
   "execution_count": 5,
   "metadata": {
    "slideshow": {
     "slide_type": "skip"
    }
   },
   "outputs": [],
   "source": [
    "%matplotlib inline\n",
    "import matplotlib.pyplot as plt\n",
    "\n",
    "def plot_portfolio_diagramm(plot_data, name):\n",
    "    x = \"Investment\"\n",
    "    y = \"Utilization\"\n",
    "    \n",
    "    ax = plot_data.plot.scatter(\n",
    "        x,\n",
    "        y,\n",
    "        s=plot_data.Size,\n",
    "        alpha=0.7,\n",
    "        title=\"Return on Investment ({})\".format(name),\n",
    "        figsize=[10,7],\n",
    "        fontsize=14\n",
    "    )\n",
    "\n",
    "    ax.title.set_size(24)\n",
    "    ax.title\n",
    "    plt.xlabel(x, fontsize=18)\n",
    "    plt.ylabel(y, fontsize=18)\n",
    "    \n",
    "    ax.plot(\n",
    "        [plot_data[x].max()/2, plot_data[x].max()/2],\n",
    "        [0, plot_data[y].max()], color='k', linestyle='--', linewidth=0.6)\n",
    "    ax.plot(\n",
    "        [0, plot_data[x].max()],\n",
    "        [plot_data[y].max()/2,plot_data[y].max()/2], color='k', linestyle='--', linewidth=0.6)\n",
    "    ax.text(plot_data[x].max()*1/4, plot_data[y].max()*3/4, \"Success\", ha=\"center\", fontsize=24)\n",
    "    ax.text(plot_data[x].max()*3/4, plot_data[y].max()*3/4, \"Beware\", ha=\"center\", fontsize=24)\n",
    "    ax.text(plot_data[x].max()*1/4, plot_data[y].max()*1/4, \"Watch\", ha=\"center\", fontsize=24)\n",
    "    ax.text(plot_data[x].max()*3/4, plot_data[y].max()*1/4, \"Failure\", ha=\"center\", fontsize=24)"
   ]
  },
  {
   "cell_type": "markdown",
   "metadata": {
    "slideshow": {
     "slide_type": "subslide"
    }
   },
   "source": [
    "### Vier-Felder-Matrix zur Priorisierung nach Subdomänen"
   ]
  },
  {
   "cell_type": "code",
   "execution_count": 6,
   "metadata": {
    "slideshow": {
     "slide_type": "-"
    }
   },
   "outputs": [
    {
     "data": {
      "image/png": "[encoded data removed]",
      "text/plain": [
       "<matplotlib.figure.Figure at 0x21719bb85f8>"
      ]
     },
     "metadata": {},
     "output_type": "display_data"
    }
   ],
   "source": [
    "plot_portfolio_diagramm(plot_data, \"Subdomains\")"
   ]
  },
  {
   "cell_type": "markdown",
   "metadata": {
    "slideshow": {
     "slide_type": "slide"
    }
   },
   "source": [
    "## Aggregation der Messwerte nach technischen Aspekten"
   ]
  },
  {
   "cell_type": "code",
   "execution_count": 7,
   "metadata": {
    "slideshow": {
     "slide_type": "-"
    }
   },
   "outputs": [],
   "source": [
    "query = \"\"\"\n",
    "MATCH \n",
    "  (t:Type)-[:IS_A]->(ta:TechnicalAspect),\n",
    "  (t)-[:HAS_CHANGE]->(ch:Change),\n",
    "  (t)-[:HAS_MEASURE]->(co:Coverage),\n",
    "  (t)-[:DECLARES]->(m:Method)\n",
    "OPTIONAL MATCH\n",
    "  (t)-[:HAS_BUG]->(b:BugInstance)   \n",
    "RETURN \n",
    "  ta.name as ATechnicalAspect,\n",
    "  COUNT(DISTINCT t) as Types,\n",
    "  COUNT(DISTINCT ch) as Investment,\n",
    "  AVG(co.ratio) as Utilization,\n",
    "  COUNT(DISTINCT b) as Bugs,\n",
    "  SUM(DISTINCT m.lastLineNumber) as Size\n",
    "ORDER BY Utilization ASC, Bugs DESC\n",
    "\"\"\""
   ]
  },
  {
   "cell_type": "markdown",
   "metadata": {
    "slideshow": {
     "slide_type": "subslide"
    }
   },
   "source": [
    "### Ergebnisse nach technischen Aspekten"
   ]
  },
  {
   "cell_type": "code",
   "execution_count": 8,
   "metadata": {
    "slideshow": {
     "slide_type": "-"
    }
   },
   "outputs": [
    {
     "data": {
      "text/html": [
       "<div>\n",
       "<style scoped>\n",
       "    .dataframe tbody tr th:only-of-type {\n",
       "        vertical-align: middle;\n",
       "    }\n",
       "\n",
       "    .dataframe tbody tr th {\n",
       "        vertical-align: top;\n",
       "    }\n",
       "\n",
       "    .dataframe thead th {\n",
       "        text-align: right;\n",
       "    }\n",
       "</style>\n",
       "<table border=\"1\" class=\"dataframe\">\n",
       "  <thead>\n",
       "    <tr style=\"text-align: right;\">\n",
       "      <th></th>\n",
       "      <th>ATechnicalAspect</th>\n",
       "      <th>Bugs</th>\n",
       "      <th>Investment</th>\n",
       "      <th>Size</th>\n",
       "      <th>Types</th>\n",
       "      <th>Utilization</th>\n",
       "    </tr>\n",
       "  </thead>\n",
       "  <tbody>\n",
       "    <tr>\n",
       "      <th>0</th>\n",
       "      <td>jdbc</td>\n",
       "      <td>1</td>\n",
       "      <td>152</td>\n",
       "      <td>2093</td>\n",
       "      <td>8</td>\n",
       "      <td>0.000000</td>\n",
       "    </tr>\n",
       "    <tr>\n",
       "      <th>1</th>\n",
       "      <td>util</td>\n",
       "      <td>2</td>\n",
       "      <td>23</td>\n",
       "      <td>525</td>\n",
       "      <td>2</td>\n",
       "      <td>0.478947</td>\n",
       "    </tr>\n",
       "    <tr>\n",
       "      <th>2</th>\n",
       "      <td>web</td>\n",
       "      <td>2</td>\n",
       "      <td>156</td>\n",
       "      <td>2266</td>\n",
       "      <td>7</td>\n",
       "      <td>0.633593</td>\n",
       "    </tr>\n",
       "    <tr>\n",
       "      <th>3</th>\n",
       "      <td>model</td>\n",
       "      <td>1</td>\n",
       "      <td>91</td>\n",
       "      <td>3330</td>\n",
       "      <td>10</td>\n",
       "      <td>0.732048</td>\n",
       "    </tr>\n",
       "    <tr>\n",
       "      <th>4</th>\n",
       "      <td>jpa</td>\n",
       "      <td>0</td>\n",
       "      <td>54</td>\n",
       "      <td>580</td>\n",
       "      <td>4</td>\n",
       "      <td>0.741659</td>\n",
       "    </tr>\n",
       "    <tr>\n",
       "      <th>5</th>\n",
       "      <td>service</td>\n",
       "      <td>0</td>\n",
       "      <td>26</td>\n",
       "      <td>824</td>\n",
       "      <td>1</td>\n",
       "      <td>0.888889</td>\n",
       "    </tr>\n",
       "    <tr>\n",
       "      <th>6</th>\n",
       "      <td>petclinic</td>\n",
       "      <td>0</td>\n",
       "      <td>5</td>\n",
       "      <td>637</td>\n",
       "      <td>1</td>\n",
       "      <td>1.000000</td>\n",
       "    </tr>\n",
       "  </tbody>\n",
       "</table>\n",
       "</div>"
      ],
      "text/plain": [
       "  ATechnicalAspect  Bugs  Investment  Size  Types  Utilization\n",
       "0             jdbc     1         152  2093      8     0.000000\n",
       "1             util     2          23   525      2     0.478947\n",
       "2              web     2         156  2266      7     0.633593\n",
       "3            model     1          91  3330     10     0.732048\n",
       "4              jpa     0          54   580      4     0.741659\n",
       "5          service     0          26   824      1     0.888889\n",
       "6        petclinic     0           5   637      1     1.000000"
      ]
     },
     "execution_count": 8,
     "metadata": {},
     "output_type": "execute_result"
    }
   ],
   "source": [
    "result = pd.DataFrame(graph.data(query))\n",
    "result"
   ]
  },
  {
   "cell_type": "markdown",
   "metadata": {
    "slideshow": {
     "slide_type": "subslide"
    }
   },
   "source": [
    "### Vier-Felder-Matrix zur Priorisierung nach technischen Aspekten"
   ]
  },
  {
   "cell_type": "code",
   "execution_count": 9,
   "metadata": {
    "slideshow": {
     "slide_type": "-"
    }
   },
   "outputs": [
    {
     "data": {
      "image/png": "[encoded data removed]",
      "text/plain": [
       "<matplotlib.figure.Figure at 0x21719d15898>"
      ]
     },
     "metadata": {},
     "output_type": "display_data"
    }
   ],
   "source": [
    "plot_portfolio_diagramm(result, \"Technical Aspects\")"
   ]
  },
  {
   "cell_type": "markdown",
   "metadata": {
    "slideshow": {
     "slide_type": "slide"
    }
   },
   "source": [
    "## Ende Demo"
   ]
  }
 ],
 "metadata": {
  "celltoolbar": "Slideshow",
  "hide_input": false,
  "kernelspec": {
   "display_name": "Python 3",
   "language": "python",
   "name": "python3"
  },
  "language_info": {
   "codemirror_mode": {
    "name": "ipython",
    "version": 3
   },
   "file_extension": ".py",
   "mimetype": "text/x-python",
   "name": "python",
   "nbconvert_exporter": "python",
   "pygments_lexer": "ipython3",
   "version": "3.6.4"
  },
  "toc": {
   "nav_menu": {},
   "number_sections": true,
   "sideBar": true,
   "skip_h1_title": false,
   "toc_cell": false,
   "toc_position": {},
   "toc_section_display": "block",
   "toc_window_display": false
  }
 },
 "nbformat": 4,
 "nbformat_minor": 2
}
