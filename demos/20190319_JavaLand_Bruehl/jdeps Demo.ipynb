{
 "cells": [
  {
   "cell_type": "code",
   "execution_count": 1,
   "metadata": {},
   "outputs": [
    {
     "data": {
      "text/html": [
       "<div>\n",
       "<style scoped>\n",
       "    .dataframe tbody tr th:only-of-type {\n",
       "        vertical-align: middle;\n",
       "    }\n",
       "\n",
       "    .dataframe tbody tr th {\n",
       "        vertical-align: top;\n",
       "    }\n",
       "\n",
       "    .dataframe thead th {\n",
       "        text-align: right;\n",
       "    }\n",
       "</style>\n",
       "<table border=\"1\" class=\"dataframe\">\n",
       "  <thead>\n",
       "    <tr style=\"text-align: right;\">\n",
       "      <th></th>\n",
       "      <th>raw</th>\n",
       "      <th>from</th>\n",
       "      <th>to</th>\n",
       "      <th>type</th>\n",
       "    </tr>\n",
       "  </thead>\n",
       "  <tbody>\n",
       "    <tr>\n",
       "      <th>0</th>\n",
       "      <td>at.dropover.comment.boundary.AddCommentRequ...</td>\n",
       "      <td>at.dropover.comment.boundary.AddCommentRequest...</td>\n",
       "      <td>at.dropover.framework.boundary.SiteDependentRe...</td>\n",
       "      <td>dropover-classes.jar</td>\n",
       "    </tr>\n",
       "    <tr>\n",
       "      <th>1</th>\n",
       "      <td>at.dropover.comment.boundary.ChangeCommentR...</td>\n",
       "      <td>at.dropover.comment.boundary.ChangeCommentRequ...</td>\n",
       "      <td>at.dropover.framework.boundary.SiteDependentRe...</td>\n",
       "      <td>dropover-classes.jar</td>\n",
       "    </tr>\n",
       "    <tr>\n",
       "      <th>2</th>\n",
       "      <td>at.dropover.comment.boundary.CommentData   ...</td>\n",
       "      <td>at.dropover.comment.boundary.CommentData</td>\n",
       "      <td>at.dropover.comment.boundary.TimeDiffResponseM...</td>\n",
       "      <td>dropover-classes.jar</td>\n",
       "    </tr>\n",
       "    <tr>\n",
       "      <th>3</th>\n",
       "      <td>at.dropover.comment.boundary.CommentData   ...</td>\n",
       "      <td>at.dropover.comment.boundary.CommentData</td>\n",
       "      <td>at.dropover.framework.boundary.ResponseModel</td>\n",
       "      <td>dropover-classes.jar</td>\n",
       "    </tr>\n",
       "    <tr>\n",
       "      <th>4</th>\n",
       "      <td>at.dropover.comment.boundary.GetCommentRequ...</td>\n",
       "      <td>at.dropover.comment.boundary.GetCommentRequest...</td>\n",
       "      <td>at.dropover.framework.boundary.SiteDependentRe...</td>\n",
       "      <td>dropover-classes.jar</td>\n",
       "    </tr>\n",
       "  </tbody>\n",
       "</table>\n",
       "</div>"
      ],
      "text/plain": [
       "                                                 raw  \\\n",
       "0     at.dropover.comment.boundary.AddCommentRequ...   \n",
       "1     at.dropover.comment.boundary.ChangeCommentR...   \n",
       "2     at.dropover.comment.boundary.CommentData   ...   \n",
       "3     at.dropover.comment.boundary.CommentData   ...   \n",
       "4     at.dropover.comment.boundary.GetCommentRequ...   \n",
       "\n",
       "                                                from  \\\n",
       "0  at.dropover.comment.boundary.AddCommentRequest...   \n",
       "1  at.dropover.comment.boundary.ChangeCommentRequ...   \n",
       "2           at.dropover.comment.boundary.CommentData   \n",
       "3           at.dropover.comment.boundary.CommentData   \n",
       "4  at.dropover.comment.boundary.GetCommentRequest...   \n",
       "\n",
       "                                                  to                  type  \n",
       "0  at.dropover.framework.boundary.SiteDependentRe...  dropover-classes.jar  \n",
       "1  at.dropover.framework.boundary.SiteDependentRe...  dropover-classes.jar  \n",
       "2  at.dropover.comment.boundary.TimeDiffResponseM...  dropover-classes.jar  \n",
       "3       at.dropover.framework.boundary.ResponseModel  dropover-classes.jar  \n",
       "4  at.dropover.framework.boundary.SiteDependentRe...  dropover-classes.jar  "
      ]
     },
     "execution_count": 1,
     "metadata": {},
     "output_type": "execute_result"
    }
   ],
   "source": [
    "from ozapfdis import jdeps\n",
    "from ausi import d3\n",
    "\n",
    "deps = jdeps.read_jdeps_file(\"../../../dropover/backend/target/jdeps.txt\", filter_regex=\"at.dropover\")\n",
    "deps.head()"
   ]
  },
  {
   "cell_type": "code",
   "execution_count": 2,
   "metadata": {},
   "outputs": [
    {
     "data": {
      "text/html": [
       "<div>\n",
       "<style scoped>\n",
       "    .dataframe tbody tr th:only-of-type {\n",
       "        vertical-align: middle;\n",
       "    }\n",
       "\n",
       "    .dataframe tbody tr th {\n",
       "        vertical-align: top;\n",
       "    }\n",
       "\n",
       "    .dataframe thead th {\n",
       "        text-align: right;\n",
       "    }\n",
       "</style>\n",
       "<table border=\"1\" class=\"dataframe\">\n",
       "  <thead>\n",
       "    <tr style=\"text-align: right;\">\n",
       "      <th></th>\n",
       "      <th>from</th>\n",
       "      <th>to</th>\n",
       "      <th>group_from</th>\n",
       "      <th>group_to</th>\n",
       "    </tr>\n",
       "  </thead>\n",
       "  <tbody>\n",
       "    <tr>\n",
       "      <th>0</th>\n",
       "      <td>at.dropover.comment.boundary.AddCommentRequest...</td>\n",
       "      <td>at.dropover.framework.boundary.SiteDependentRe...</td>\n",
       "      <td>comment</td>\n",
       "      <td>framework</td>\n",
       "    </tr>\n",
       "    <tr>\n",
       "      <th>1</th>\n",
       "      <td>at.dropover.comment.boundary.ChangeCommentRequ...</td>\n",
       "      <td>at.dropover.framework.boundary.SiteDependentRe...</td>\n",
       "      <td>comment</td>\n",
       "      <td>framework</td>\n",
       "    </tr>\n",
       "    <tr>\n",
       "      <th>2</th>\n",
       "      <td>at.dropover.comment.boundary.CommentData</td>\n",
       "      <td>at.dropover.comment.boundary.TimeDiffResponseM...</td>\n",
       "      <td>comment</td>\n",
       "      <td>comment</td>\n",
       "    </tr>\n",
       "    <tr>\n",
       "      <th>3</th>\n",
       "      <td>at.dropover.comment.boundary.CommentData</td>\n",
       "      <td>at.dropover.framework.boundary.ResponseModel</td>\n",
       "      <td>comment</td>\n",
       "      <td>framework</td>\n",
       "    </tr>\n",
       "    <tr>\n",
       "      <th>4</th>\n",
       "      <td>at.dropover.comment.boundary.GetCommentRequest...</td>\n",
       "      <td>at.dropover.framework.boundary.SiteDependentRe...</td>\n",
       "      <td>comment</td>\n",
       "      <td>framework</td>\n",
       "    </tr>\n",
       "  </tbody>\n",
       "</table>\n",
       "</div>"
      ],
      "text/plain": [
       "                                                from  \\\n",
       "0  at.dropover.comment.boundary.AddCommentRequest...   \n",
       "1  at.dropover.comment.boundary.ChangeCommentRequ...   \n",
       "2           at.dropover.comment.boundary.CommentData   \n",
       "3           at.dropover.comment.boundary.CommentData   \n",
       "4  at.dropover.comment.boundary.GetCommentRequest...   \n",
       "\n",
       "                                                  to group_from   group_to  \n",
       "0  at.dropover.framework.boundary.SiteDependentRe...    comment  framework  \n",
       "1  at.dropover.framework.boundary.SiteDependentRe...    comment  framework  \n",
       "2  at.dropover.comment.boundary.TimeDiffResponseM...    comment    comment  \n",
       "3       at.dropover.framework.boundary.ResponseModel    comment  framework  \n",
       "4  at.dropover.framework.boundary.SiteDependentRe...    comment  framework  "
      ]
     },
     "execution_count": 2,
     "metadata": {},
     "output_type": "execute_result"
    }
   ],
   "source": [
    "deps = deps[['from', 'to']]\n",
    "deps['group_from'] = deps['from'].str.split(\".\").str[2]\n",
    "deps['group_to'] = deps['to'].str.split(\".\").str[2]\n",
    "deps.head()"
   ]
  },
  {
   "cell_type": "code",
   "execution_count": 3,
   "metadata": {},
   "outputs": [
    {
     "name": "stdout",
     "output_type": "stream",
     "text": [
      "JSON file produced in 'C:\\dev\\repos\\software-analytics\\demos\\20190319_JavaLand_Bruehl\\dropover.json'\n",
      "HTML file produced in 'C:\\dev\\repos\\software-analytics\\demos\\20190319_JavaLand_Bruehl\\dropover.html'\n"
     ]
    }
   ],
   "source": [
    "from ausi import d3\n",
    "d3.create_d3force(deps, \"dropover\", group_col_from=\"group_from\", group_col_to=\"group_to\")"
   ]
  },
  {
   "cell_type": "code",
   "execution_count": 4,
   "metadata": {},
   "outputs": [
    {
     "name": "stdout",
     "output_type": "stream",
     "text": [
      "JSON file produced in 'C:\\dev\\repos\\software-analytics\\demos\\20190319_JavaLand_Bruehl\\dropover_ss.json'\n",
      "HTML file produced in 'C:\\dev\\repos\\software-analytics\\demos\\20190319_JavaLand_Bruehl\\dropover_ss.html'\n"
     ]
    }
   ],
   "source": [
    "d3.create_semantic_substrate(deps, \"dropover_ss\")"
   ]
  },
  {
   "cell_type": "code",
   "execution_count": 5,
   "metadata": {},
   "outputs": [
    {
     "name": "stdout",
     "output_type": "stream",
     "text": [
      "JSON file produced in 'C:\\dev\\repos\\software-analytics\\demos\\20190319_JavaLand_Bruehl\\dropover_heb.json'\n",
      "HTML file produced in 'C:\\dev\\repos\\software-analytics\\demos\\20190319_JavaLand_Bruehl\\dropover_heb.html'\n"
     ]
    }
   ],
   "source": [
    "d3.create_hierarchical_edge_bundling(deps, \"dropover_heb\")"
   ]
  }
 ],
 "metadata": {
  "kernelspec": {
   "display_name": "Python 3",
   "language": "python",
   "name": "python3"
  },
  "language_info": {
   "codemirror_mode": {
    "name": "ipython",
    "version": 3
   },
   "file_extension": ".py",
   "mimetype": "text/x-python",
   "name": "python",
   "nbconvert_exporter": "python",
   "pygments_lexer": "ipython3",
   "version": "3.6.0"
  }
 },
 "nbformat": 4,
 "nbformat_minor": 2
}
