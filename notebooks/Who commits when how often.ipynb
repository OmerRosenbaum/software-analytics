{
 "cells": [
  {
   "cell_type": "markdown",
   "metadata": {},
   "source": [
    "# Introduction\n",
    "This is another notebook that shows a somehow basic analyis of the git repo https://github.com/feststelltaste/spring-petclinic . "
   ]
  },
  {
   "cell_type": "markdown",
   "metadata": {},
   "source": [
    "## The Mission\n",
    "We want to know the contributors to our repository that did the most commits. We just want to check if there is anything awkward regarding the contribution behavious of the authors. And we need a reason to go deeper with Python, Pandas, jQAssistant and Neo4j to get some software data analysis started. So let's go!"
   ]
  },
  {
   "cell_type": "markdown",
   "metadata": {},
   "source": [
    "## Preparation"
   ]
  },
  {
   "cell_type": "code",
   "execution_count": 30,
   "metadata": {
    "collapsed": false
   },
   "outputs": [],
   "source": [
    "import pandas as pd\n",
    "import py2neo"
   ]
  },
  {
   "cell_type": "markdown",
   "metadata": {},
   "source": [
    "## Data input"
   ]
  },
  {
   "cell_type": "markdown",
   "metadata": {},
   "source": [
    "We need some data to get started. So let's query our almighty Neo4j graph database that holds all the structural data that jQAssistant scanned for us via the git plugin.\n",
    "\n",
    "The query returns all commits with their authors and the author's email adresses."
   ]
  },
  {
   "cell_type": "code",
   "execution_count": 31,
   "metadata": {
    "collapsed": false
   },
   "outputs": [
    {
     "data": {
      "text/plain": [
       "[{'email': 'feststelltaste@googlemail.com',\n",
       "  'name': 'Markus Harrer',\n",
       "  'time': 1488870765000},\n",
       " {'email': 'feststelltaste@googlemail.com',\n",
       "  'name': 'feststelltaste',\n",
       "  'time': 1469732583000},\n",
       " {'email': 'feststelltaste@googlemail.com',\n",
       "  'name': 'feststelltaste',\n",
       "  'time': 1487603979000}]"
      ]
     },
     "execution_count": 31,
     "metadata": {},
     "output_type": "execute_result"
    }
   ],
   "source": [
    "graph = py2neo.Graph()\n",
    "query = \"\"\"\n",
    "MATCH (author:Author)-[:COMMITED]-> (commit:Commit)\n",
    "RETURN author.name as name, author.email as email, commit.epoch as time\n",
    "\"\"\"\n",
    "result = graph.data(query)\n",
    "result[0:3]"
   ]
  },
  {
   "cell_type": "markdown",
   "metadata": {},
   "source": [
    "We get some nice, tabluar data the we put into Pandas's DataFrame."
   ]
  },
  {
   "cell_type": "code",
   "execution_count": 32,
   "metadata": {
    "collapsed": false
   },
   "outputs": [
    {
     "data": {
      "text/html": [
       "<div>\n",
       "<table border=\"1\" class=\"dataframe\">\n",
       "  <thead>\n",
       "    <tr style=\"text-align: right;\">\n",
       "      <th></th>\n",
       "      <th>email</th>\n",
       "      <th>name</th>\n",
       "      <th>time</th>\n",
       "    </tr>\n",
       "  </thead>\n",
       "  <tbody>\n",
       "    <tr>\n",
       "      <th>0</th>\n",
       "      <td>feststelltaste@googlemail.com</td>\n",
       "      <td>Markus Harrer</td>\n",
       "      <td>1488870765000</td>\n",
       "    </tr>\n",
       "    <tr>\n",
       "      <th>1</th>\n",
       "      <td>feststelltaste@googlemail.com</td>\n",
       "      <td>feststelltaste</td>\n",
       "      <td>1469732583000</td>\n",
       "    </tr>\n",
       "    <tr>\n",
       "      <th>2</th>\n",
       "      <td>feststelltaste@googlemail.com</td>\n",
       "      <td>feststelltaste</td>\n",
       "      <td>1487603979000</td>\n",
       "    </tr>\n",
       "    <tr>\n",
       "      <th>3</th>\n",
       "      <td>feststelltaste@googlemail.com</td>\n",
       "      <td>feststelltaste</td>\n",
       "      <td>1487609843000</td>\n",
       "    </tr>\n",
       "    <tr>\n",
       "      <th>4</th>\n",
       "      <td>feststelltaste@googlemail.com</td>\n",
       "      <td>feststelltaste</td>\n",
       "      <td>1487609213000</td>\n",
       "    </tr>\n",
       "  </tbody>\n",
       "</table>\n",
       "</div>"
      ],
      "text/plain": [
       "                           email            name           time\n",
       "0  feststelltaste@googlemail.com   Markus Harrer  1488870765000\n",
       "1  feststelltaste@googlemail.com  feststelltaste  1469732583000\n",
       "2  feststelltaste@googlemail.com  feststelltaste  1487603979000\n",
       "3  feststelltaste@googlemail.com  feststelltaste  1487609843000\n",
       "4  feststelltaste@googlemail.com  feststelltaste  1487609213000"
      ]
     },
     "execution_count": 32,
     "metadata": {},
     "output_type": "execute_result"
    }
   ],
   "source": [
    "commits = pd.DataFrame(result)\n",
    "commits.head()"
   ]
  },
  {
   "cell_type": "markdown",
   "metadata": {},
   "source": [
    "## Familiarization"
   ]
  },
  {
   "cell_type": "markdown",
   "metadata": {},
   "source": [
    "First, I like to check the raw data a little bit (after I read the hopefully available description that comes with the data set or source). I often do this by first having a look at the data types the data source is delivering. It's a good starting point to control if Pandas recognizes the data types accordingly. You can also this to check for skewed data columns (especially when reading CSV files): If there should be a column clearly be an integer then the data type should automatically recognized as an integer. If not, there is a high probability that the read data source isn't correct (and we have a data quality problem)."
   ]
  },
  {
   "cell_type": "code",
   "execution_count": 33,
   "metadata": {
    "collapsed": false
   },
   "outputs": [
    {
     "data": {
      "text/plain": [
       "email    object\n",
       "name     object\n",
       "time      int64\n",
       "dtype: object"
      ]
     },
     "execution_count": 33,
     "metadata": {},
     "output_type": "execute_result"
    }
   ],
   "source": [
    "commits.dtypes"
   ]
  },
  {
   "cell_type": "markdown",
   "metadata": {},
   "source": [
    "That's ok. The two columns with texts are objects and the time is a integer.\n",
    "\n",
    "In the next step we have to get a \"feeling\" for all the data. Primariliy, we want to get a quick impression of the data quality. It could always be that there is \"dirty data\" in the dataset. With small amounts of data you can simply list all unique values that occur in the columns. We just list the top 10's for <tt>name</tt> and <tt>email</tt>."
   ]
  },
  {
   "cell_type": "code",
   "execution_count": 34,
   "metadata": {
    "collapsed": false
   },
   "outputs": [
    {
     "data": {
      "text/plain": [
       "Mic                   211\n",
       "Antoine Rey           112\n",
       "michaelisvy            87\n",
       "Dirk Mahler            50\n",
       "Keith Donald           35\n",
       "Costin Leau            28\n",
       "feststelltaste         26\n",
       "Cyrille Le Clerc        5\n",
       "Gordon Dickens          5\n",
       "Thibault Duchateau      5\n",
       "Name: name, dtype: int64"
      ]
     },
     "execution_count": 34,
     "metadata": {},
     "output_type": "execute_result"
    }
   ],
   "source": [
    "commits['name'].value_counts()[0:10]"
   ]
  },
  {
   "cell_type": "markdown",
   "metadata": {},
   "source": [
    "OK, at first glance, something seems awkward. Let's have a look at the email adresses."
   ]
  },
  {
   "cell_type": "code",
   "execution_count": 35,
   "metadata": {
    "collapsed": false
   },
   "outputs": [
    {
     "data": {
      "text/plain": [
       "misvy@vmware.com                 224\n",
       "misvy@gopivotal,com               63\n",
       "antoine.rey@gmail.com             59\n",
       "antoine.rey@free.fr               53\n",
       "dirk.mahler@buschmais.com         46\n",
       "kdonald@vmware.com                35\n",
       "cleau@vmware.com                  28\n",
       "feststelltaste@googlemail.com     27\n",
       "misvy@gopivotal.com               11\n",
       "trepel@redhat.com                  5\n",
       "Name: email, dtype: int64"
      ]
     },
     "execution_count": 35,
     "metadata": {},
     "output_type": "execute_result"
    }
   ],
   "source": [
    "commits['email'].value_counts()[0:10]"
   ]
  },
  {
   "cell_type": "markdown",
   "metadata": {},
   "source": [
    "OK, the bad feeling is strengthening. We might have a problem with multiple authors having multiple email adresses. Let's me show you the problem by better representating the problem."
   ]
  },
  {
   "cell_type": "markdown",
   "metadata": {},
   "source": [
    "## Interlude - begin\n",
    "_In the interlude section, I take you to a short, mostly undocumented excursion with probably messy code (don't do this at home!) to make a point._\n",
    "\n",
    "**Goal: Create a diagram that shows the relation between the authors and the emails adresses.**"
   ]
  },
  {
   "cell_type": "markdown",
   "metadata": {},
   "source": [
    "I need an unique index for each name and I have to calculate the number of different email addresses per author."
   ]
  },
  {
   "cell_type": "code",
   "execution_count": 36,
   "metadata": {
    "collapsed": false
   },
   "outputs": [
    {
     "data": {
      "text/html": [
       "<div>\n",
       "<table border=\"1\" class=\"dataframe\">\n",
       "  <thead>\n",
       "    <tr style=\"text-align: right;\">\n",
       "      <th></th>\n",
       "      <th>index</th>\n",
       "      <th>name</th>\n",
       "      <th>email</th>\n",
       "    </tr>\n",
       "  </thead>\n",
       "  <tbody>\n",
       "    <tr>\n",
       "      <th>0</th>\n",
       "      <td>0</td>\n",
       "      <td>michaelisvy</td>\n",
       "      <td>3</td>\n",
       "    </tr>\n",
       "    <tr>\n",
       "      <th>1</th>\n",
       "      <td>1</td>\n",
       "      <td>Ameya Pandilwar</td>\n",
       "      <td>2</td>\n",
       "    </tr>\n",
       "    <tr>\n",
       "      <th>2</th>\n",
       "      <td>2</td>\n",
       "      <td>Dirk Mahler</td>\n",
       "      <td>2</td>\n",
       "    </tr>\n",
       "    <tr>\n",
       "      <th>3</th>\n",
       "      <td>3</td>\n",
       "      <td>Antoine Rey</td>\n",
       "      <td>2</td>\n",
       "    </tr>\n",
       "    <tr>\n",
       "      <th>4</th>\n",
       "      <td>4</td>\n",
       "      <td>Rossen Stoyanchev</td>\n",
       "      <td>1</td>\n",
       "    </tr>\n",
       "  </tbody>\n",
       "</table>\n",
       "</div>"
      ],
      "text/plain": [
       "   index               name  email\n",
       "0      0        michaelisvy      3\n",
       "1      1    Ameya Pandilwar      2\n",
       "2      2        Dirk Mahler      2\n",
       "3      3        Antoine Rey      2\n",
       "4      4  Rossen Stoyanchev      1"
      ]
     },
     "execution_count": 36,
     "metadata": {},
     "output_type": "execute_result"
    }
   ],
   "source": [
    "grouped_by_authors = commits[['name', 'email']]\\\n",
    "   .drop_duplicates().groupby('name').count()\\\n",
    "    .sort_values('email', ascending=False).reset_index().reset_index()\n",
    "grouped_by_authors.head()"
   ]
  },
  {
   "cell_type": "markdown",
   "metadata": {},
   "source": [
    "Same for the email adresses."
   ]
  },
  {
   "cell_type": "code",
   "execution_count": 37,
   "metadata": {
    "collapsed": false
   },
   "outputs": [
    {
     "data": {
      "text/html": [
       "<div>\n",
       "<table border=\"1\" class=\"dataframe\">\n",
       "  <thead>\n",
       "    <tr style=\"text-align: right;\">\n",
       "      <th></th>\n",
       "      <th>index</th>\n",
       "      <th>email</th>\n",
       "      <th>name</th>\n",
       "    </tr>\n",
       "  </thead>\n",
       "  <tbody>\n",
       "    <tr>\n",
       "      <th>0</th>\n",
       "      <td>0</td>\n",
       "      <td>feststelltaste@googlemail.com</td>\n",
       "      <td>2</td>\n",
       "    </tr>\n",
       "    <tr>\n",
       "      <th>1</th>\n",
       "      <td>1</td>\n",
       "      <td>misvy@vmware.com</td>\n",
       "      <td>2</td>\n",
       "    </tr>\n",
       "    <tr>\n",
       "      <th>2</th>\n",
       "      <td>2</td>\n",
       "      <td>Andrej1</td>\n",
       "      <td>1</td>\n",
       "    </tr>\n",
       "    <tr>\n",
       "      <th>3</th>\n",
       "      <td>3</td>\n",
       "      <td>jdubois@ippon.fr</td>\n",
       "      <td>1</td>\n",
       "    </tr>\n",
       "    <tr>\n",
       "      <th>4</th>\n",
       "      <td>4</td>\n",
       "      <td>kdonald@vmware.com</td>\n",
       "      <td>1</td>\n",
       "    </tr>\n",
       "  </tbody>\n",
       "</table>\n",
       "</div>"
      ],
      "text/plain": [
       "   index                          email  name\n",
       "0      0  feststelltaste@googlemail.com     2\n",
       "1      1               misvy@vmware.com     2\n",
       "2      2                        Andrej1     1\n",
       "3      3               jdubois@ippon.fr     1\n",
       "4      4             kdonald@vmware.com     1"
      ]
     },
     "execution_count": 37,
     "metadata": {},
     "output_type": "execute_result"
    }
   ],
   "source": [
    "grouped_by_email = commits[['name', 'email']]\\\n",
    "   .drop_duplicates().groupby('email').count()\\\n",
    "    .sort_values('name', ascending=False).reset_index().reset_index()\n",
    "grouped_by_email.head()"
   ]
  },
  {
   "cell_type": "markdown",
   "metadata": {},
   "source": [
    "Then I merge the two DataFrames with subset of the the original data (I don't need the timestamp). I get each author and email index as well as the number of occurences for author respectively emails. I only need the ones that are occuring multiple times so I check for > 2."
   ]
  },
  {
   "cell_type": "code",
   "execution_count": 38,
   "metadata": {
    "collapsed": false
   },
   "outputs": [
    {
     "data": {
      "text/html": [
       "<div>\n",
       "<table border=\"1\" class=\"dataframe\">\n",
       "  <thead>\n",
       "    <tr style=\"text-align: right;\">\n",
       "      <th></th>\n",
       "      <th>email</th>\n",
       "      <th>name</th>\n",
       "      <th>index</th>\n",
       "      <th>email_from_authors</th>\n",
       "      <th>index_from_emails</th>\n",
       "      <th>name_from_emails</th>\n",
       "    </tr>\n",
       "  </thead>\n",
       "  <tbody>\n",
       "    <tr>\n",
       "      <th>0</th>\n",
       "      <td>feststelltaste@googlemail.com</td>\n",
       "      <td>Markus Harrer</td>\n",
       "      <td>21</td>\n",
       "      <td>1</td>\n",
       "      <td>0</td>\n",
       "      <td>2</td>\n",
       "    </tr>\n",
       "    <tr>\n",
       "      <th>1</th>\n",
       "      <td>feststelltaste@googlemail.com</td>\n",
       "      <td>feststelltaste</td>\n",
       "      <td>14</td>\n",
       "      <td>1</td>\n",
       "      <td>0</td>\n",
       "      <td>2</td>\n",
       "    </tr>\n",
       "    <tr>\n",
       "      <th>3</th>\n",
       "      <td>dirk.mahler@buschmais.com</td>\n",
       "      <td>Dirk Mahler</td>\n",
       "      <td>2</td>\n",
       "      <td>2</td>\n",
       "      <td>39</td>\n",
       "      <td>1</td>\n",
       "    </tr>\n",
       "    <tr>\n",
       "      <th>4</th>\n",
       "      <td>dirk.mahler@asml.com</td>\n",
       "      <td>Dirk Mahler</td>\n",
       "      <td>2</td>\n",
       "      <td>2</td>\n",
       "      <td>38</td>\n",
       "      <td>1</td>\n",
       "    </tr>\n",
       "    <tr>\n",
       "      <th>7</th>\n",
       "      <td>antoine.rey@gmail.com</td>\n",
       "      <td>Antoine Rey</td>\n",
       "      <td>3</td>\n",
       "      <td>2</td>\n",
       "      <td>28</td>\n",
       "      <td>1</td>\n",
       "    </tr>\n",
       "    <tr>\n",
       "      <th>8</th>\n",
       "      <td>antoine.rey@free.fr</td>\n",
       "      <td>Antoine Rey</td>\n",
       "      <td>3</td>\n",
       "      <td>2</td>\n",
       "      <td>27</td>\n",
       "      <td>1</td>\n",
       "    </tr>\n",
       "    <tr>\n",
       "      <th>13</th>\n",
       "      <td>ameya@pandilwar.com</td>\n",
       "      <td>Ameya Pandilwar</td>\n",
       "      <td>1</td>\n",
       "      <td>2</td>\n",
       "      <td>25</td>\n",
       "      <td>1</td>\n",
       "    </tr>\n",
       "    <tr>\n",
       "      <th>14</th>\n",
       "      <td>ameya@ccs.neu.edu</td>\n",
       "      <td>Ameya Pandilwar</td>\n",
       "      <td>1</td>\n",
       "      <td>2</td>\n",
       "      <td>23</td>\n",
       "      <td>1</td>\n",
       "    </tr>\n",
       "    <tr>\n",
       "      <th>22</th>\n",
       "      <td>misvy@gopivotal,com</td>\n",
       "      <td>michaelisvy</td>\n",
       "      <td>0</td>\n",
       "      <td>3</td>\n",
       "      <td>9</td>\n",
       "      <td>1</td>\n",
       "    </tr>\n",
       "    <tr>\n",
       "      <th>23</th>\n",
       "      <td>misvy@gopivotal.com</td>\n",
       "      <td>michaelisvy</td>\n",
       "      <td>0</td>\n",
       "      <td>3</td>\n",
       "      <td>10</td>\n",
       "      <td>1</td>\n",
       "    </tr>\n",
       "    <tr>\n",
       "      <th>24</th>\n",
       "      <td>misvy@vmware.com</td>\n",
       "      <td>michaelisvy</td>\n",
       "      <td>0</td>\n",
       "      <td>3</td>\n",
       "      <td>1</td>\n",
       "      <td>2</td>\n",
       "    </tr>\n",
       "    <tr>\n",
       "      <th>25</th>\n",
       "      <td>misvy@vmware.com</td>\n",
       "      <td>Mic</td>\n",
       "      <td>22</td>\n",
       "      <td>1</td>\n",
       "      <td>1</td>\n",
       "      <td>2</td>\n",
       "    </tr>\n",
       "  </tbody>\n",
       "</table>\n",
       "</div>"
      ],
      "text/plain": [
       "                            email             name  index  email_from_authors  \\\n",
       "0   feststelltaste@googlemail.com    Markus Harrer     21                   1   \n",
       "1   feststelltaste@googlemail.com   feststelltaste     14                   1   \n",
       "3       dirk.mahler@buschmais.com      Dirk Mahler      2                   2   \n",
       "4            dirk.mahler@asml.com      Dirk Mahler      2                   2   \n",
       "7           antoine.rey@gmail.com      Antoine Rey      3                   2   \n",
       "8             antoine.rey@free.fr      Antoine Rey      3                   2   \n",
       "13            ameya@pandilwar.com  Ameya Pandilwar      1                   2   \n",
       "14              ameya@ccs.neu.edu  Ameya Pandilwar      1                   2   \n",
       "22            misvy@gopivotal,com      michaelisvy      0                   3   \n",
       "23            misvy@gopivotal.com      michaelisvy      0                   3   \n",
       "24               misvy@vmware.com      michaelisvy      0                   3   \n",
       "25               misvy@vmware.com              Mic     22                   1   \n",
       "\n",
       "    index_from_emails  name_from_emails  \n",
       "0                   0                 2  \n",
       "1                   0                 2  \n",
       "3                  39                 1  \n",
       "4                  38                 1  \n",
       "7                  28                 1  \n",
       "8                  27                 1  \n",
       "13                 25                 1  \n",
       "14                 23                 1  \n",
       "22                  9                 1  \n",
       "23                 10                 1  \n",
       "24                  1                 2  \n",
       "25                  1                 2  "
      ]
     },
     "execution_count": 38,
     "metadata": {},
     "output_type": "execute_result"
    }
   ],
   "source": [
    "plot_data = commits[['email', 'name']].drop_duplicates()\\\n",
    "   .merge(grouped_by_authors, left_on='name', right_on=\"name\", suffixes=[\"\", \"_from_authors\"], how=\"outer\")\\\n",
    "    .merge(grouped_by_email, left_on='email', right_on=\"email\", suffixes=[\"\", \"_from_emails\"], how=\"outer\")\n",
    "plot_data = plot_data[\\\n",
    "                        (plot_data['email_from_authors'] > 1) | \\\n",
    "                        (plot_data['name_from_emails'] > 1)]\n",
    "plot_data"
   ]
  },
  {
   "cell_type": "markdown",
   "metadata": {},
   "source": [
    "Just add some nicely normalized indexes for plotting (note: there might be a method that's easier)"
   ]
  },
  {
   "cell_type": "code",
   "execution_count": 39,
   "metadata": {
    "collapsed": false
   },
   "outputs": [
    {
     "data": {
      "text/html": [
       "<div>\n",
       "<table border=\"1\" class=\"dataframe\">\n",
       "  <thead>\n",
       "    <tr style=\"text-align: right;\">\n",
       "      <th></th>\n",
       "      <th>email</th>\n",
       "      <th>name</th>\n",
       "      <th>index</th>\n",
       "      <th>email_from_authors</th>\n",
       "      <th>index_from_emails</th>\n",
       "      <th>name_from_emails</th>\n",
       "      <th>normalized_index_name</th>\n",
       "      <th>normalized_index_email</th>\n",
       "    </tr>\n",
       "  </thead>\n",
       "  <tbody>\n",
       "    <tr>\n",
       "      <th>0</th>\n",
       "      <td>feststelltaste@googlemail.com</td>\n",
       "      <td>Markus Harrer</td>\n",
       "      <td>21</td>\n",
       "      <td>1</td>\n",
       "      <td>0</td>\n",
       "      <td>2</td>\n",
       "      <td>50</td>\n",
       "      <td>0</td>\n",
       "    </tr>\n",
       "    <tr>\n",
       "      <th>1</th>\n",
       "      <td>feststelltaste@googlemail.com</td>\n",
       "      <td>feststelltaste</td>\n",
       "      <td>14</td>\n",
       "      <td>1</td>\n",
       "      <td>0</td>\n",
       "      <td>2</td>\n",
       "      <td>40</td>\n",
       "      <td>0</td>\n",
       "    </tr>\n",
       "    <tr>\n",
       "      <th>3</th>\n",
       "      <td>dirk.mahler@buschmais.com</td>\n",
       "      <td>Dirk Mahler</td>\n",
       "      <td>2</td>\n",
       "      <td>2</td>\n",
       "      <td>39</td>\n",
       "      <td>1</td>\n",
       "      <td>20</td>\n",
       "      <td>90</td>\n",
       "    </tr>\n",
       "    <tr>\n",
       "      <th>4</th>\n",
       "      <td>dirk.mahler@asml.com</td>\n",
       "      <td>Dirk Mahler</td>\n",
       "      <td>2</td>\n",
       "      <td>2</td>\n",
       "      <td>38</td>\n",
       "      <td>1</td>\n",
       "      <td>20</td>\n",
       "      <td>80</td>\n",
       "    </tr>\n",
       "    <tr>\n",
       "      <th>7</th>\n",
       "      <td>antoine.rey@gmail.com</td>\n",
       "      <td>Antoine Rey</td>\n",
       "      <td>3</td>\n",
       "      <td>2</td>\n",
       "      <td>28</td>\n",
       "      <td>1</td>\n",
       "      <td>30</td>\n",
       "      <td>70</td>\n",
       "    </tr>\n",
       "  </tbody>\n",
       "</table>\n",
       "</div>"
      ],
      "text/plain": [
       "                           email            name  index  email_from_authors  \\\n",
       "0  feststelltaste@googlemail.com   Markus Harrer     21                   1   \n",
       "1  feststelltaste@googlemail.com  feststelltaste     14                   1   \n",
       "3      dirk.mahler@buschmais.com     Dirk Mahler      2                   2   \n",
       "4           dirk.mahler@asml.com     Dirk Mahler      2                   2   \n",
       "7          antoine.rey@gmail.com     Antoine Rey      3                   2   \n",
       "\n",
       "   index_from_emails  name_from_emails  normalized_index_name  \\\n",
       "0                  0                 2                     50   \n",
       "1                  0                 2                     40   \n",
       "3                 39                 1                     20   \n",
       "4                 38                 1                     20   \n",
       "7                 28                 1                     30   \n",
       "\n",
       "   normalized_index_email  \n",
       "0                       0  \n",
       "1                       0  \n",
       "3                      90  \n",
       "4                      80  \n",
       "7                      70  "
      ]
     },
     "execution_count": 39,
     "metadata": {},
     "output_type": "execute_result"
    }
   ],
   "source": [
    "from sklearn import preprocessing\n",
    "le = preprocessing.LabelEncoder()\n",
    "le.fit(plot_data['index'])\n",
    "plot_data['normalized_index_name'] = le.transform(plot_data['index']) * 10\n",
    "le.fit(plot_data['index_from_emails'])\n",
    "plot_data['normalized_index_email'] = le.transform(plot_data['index_from_emails']) * 10\n",
    "plot_data.head()"
   ]
  },
  {
   "cell_type": "markdown",
   "metadata": {},
   "source": [
    "Plot an assignment table "
   ]
  },
  {
   "cell_type": "code",
   "execution_count": 40,
   "metadata": {
    "collapsed": false
   },
   "outputs": [
    {
     "data": {
      "image/png": "[encoded data removed]",
      "text/plain": [
       "<matplotlib.figure.Figure at 0x18d3d5ee208>"
      ]
     },
     "metadata": {},
     "output_type": "display_data"
    }
   ],
   "source": [
    "%matplotlib inline\n",
    "import matplotlib.pyplot as plt\n",
    "# some configuration for displaying nice diagrams directly in the notebook\n",
    "plt.style.use('fivethirtyeight')\n",
    "# apply additional style for getting a blank background\n",
    "\n",
    "\n",
    "fig1 = plt.figure(facecolor='white')\n",
    "ax1 = plt.axes(frameon=False)\n",
    "ax1.set_frame_on(False)\n",
    "ax1.get_xaxis().tick_bottom()\n",
    "ax1.axes.get_yaxis().set_visible(False)\n",
    "ax1.axes.get_xaxis().set_visible(False)\n",
    "\n",
    "for data in plot_data.iterrows():\n",
    "    row = data[1]\n",
    "    plt.text(0, row['normalized_index_name'], row['name'], fontsize=15, horizontalalignment=\"right\")\n",
    "    plt.text(1, row['normalized_index_email'], row['email'], fontsize=15, horizontalalignment=\"left\")\n",
    "    plt.plot([0,1],[row['normalized_index_name'],row['normalized_index_email']],'grey', linewidth=1.0)"
   ]
  },
  {
   "cell_type": "markdown",
   "metadata": {},
   "source": [
    "Alright! Here we are! We see that multiple authors use multiple email addresses. And I see a pattern that will do it to get better data. Do you, too? \n",
    "\n",
    "## Interlude - end"
   ]
  },
  {
   "cell_type": "markdown",
   "metadata": {},
   "source": [
    "If you skipped the interlude: just visualized that there are different email adresses per author (and vise versa). Some authors choose to use another email address and some choose a different name for committing to the repositories (and probably a few did both things)."
   ]
  },
  {
   "cell_type": "markdown",
   "metadata": {},
   "source": [
    "## Data Wrangling"
   ]
  },
  {
   "cell_type": "markdown",
   "metadata": {},
   "source": [
    "That mess above is a typical case of a little data messiness and &ndash; to demotivate you &ndash; absolutely normal. So we have to do some data correction before we start our analysis. Otherwise we would ignore reality completely and deliver wrong results (as do most of the standard software analysis tools ;-) ).\n",
    "\n",
    "But first things first. I mean there are some standard steps one should do with the raw data. One is to correct the data types. In our case, we want to convert the \"epoch\" timestamp, which is the number of ms since 01-01-1970 00:00:00.000."
   ]
  },
  {
   "cell_type": "code",
   "execution_count": 41,
   "metadata": {
    "collapsed": false
   },
   "outputs": [
    {
     "data": {
      "text/html": [
       "<div>\n",
       "<table border=\"1\" class=\"dataframe\">\n",
       "  <thead>\n",
       "    <tr style=\"text-align: right;\">\n",
       "      <th></th>\n",
       "      <th>email</th>\n",
       "      <th>name</th>\n",
       "      <th>time</th>\n",
       "    </tr>\n",
       "  </thead>\n",
       "  <tbody>\n",
       "    <tr>\n",
       "      <th>0</th>\n",
       "      <td>feststelltaste@googlemail.com</td>\n",
       "      <td>Markus Harrer</td>\n",
       "      <td>2017-03-07 07:12:45</td>\n",
       "    </tr>\n",
       "    <tr>\n",
       "      <th>1</th>\n",
       "      <td>feststelltaste@googlemail.com</td>\n",
       "      <td>feststelltaste</td>\n",
       "      <td>2016-07-28 19:03:03</td>\n",
       "    </tr>\n",
       "    <tr>\n",
       "      <th>2</th>\n",
       "      <td>feststelltaste@googlemail.com</td>\n",
       "      <td>feststelltaste</td>\n",
       "      <td>2017-02-20 15:19:39</td>\n",
       "    </tr>\n",
       "    <tr>\n",
       "      <th>3</th>\n",
       "      <td>feststelltaste@googlemail.com</td>\n",
       "      <td>feststelltaste</td>\n",
       "      <td>2017-02-20 16:57:23</td>\n",
       "    </tr>\n",
       "    <tr>\n",
       "      <th>4</th>\n",
       "      <td>feststelltaste@googlemail.com</td>\n",
       "      <td>feststelltaste</td>\n",
       "      <td>2017-02-20 16:46:53</td>\n",
       "    </tr>\n",
       "  </tbody>\n",
       "</table>\n",
       "</div>"
      ],
      "text/plain": [
       "                           email            name                time\n",
       "0  feststelltaste@googlemail.com   Markus Harrer 2017-03-07 07:12:45\n",
       "1  feststelltaste@googlemail.com  feststelltaste 2016-07-28 19:03:03\n",
       "2  feststelltaste@googlemail.com  feststelltaste 2017-02-20 15:19:39\n",
       "3  feststelltaste@googlemail.com  feststelltaste 2017-02-20 16:57:23\n",
       "4  feststelltaste@googlemail.com  feststelltaste 2017-02-20 16:46:53"
      ]
     },
     "execution_count": 41,
     "metadata": {},
     "output_type": "execute_result"
    }
   ],
   "source": [
    "commits['time'] = pd.to_datetime(commits['time'], unit=\"ms\")\n",
    "commits.head()"
   ]
  },
  {
   "cell_type": "markdown",
   "metadata": {},
   "source": [
    "Next we want to fix the problem with the multiple authors having multiple email adresses (but are the same persons). We need a mapping between them. Should we do it manually? That would be kind of crazy. As mentioned above, there is a pattern in the data to fix that. We simply use the name of the email address as identifier for a person.\n",
    "\n",
    "Let's give it a try by extracting the name part from the email address with a simple split."
   ]
  },
  {
   "cell_type": "code",
   "execution_count": 42,
   "metadata": {
    "collapsed": false
   },
   "outputs": [
    {
     "data": {
      "text/html": [
       "<div>\n",
       "<table border=\"1\" class=\"dataframe\">\n",
       "  <thead>\n",
       "    <tr style=\"text-align: right;\">\n",
       "      <th></th>\n",
       "      <th>email</th>\n",
       "      <th>name</th>\n",
       "      <th>time</th>\n",
       "      <th>nickname</th>\n",
       "    </tr>\n",
       "  </thead>\n",
       "  <tbody>\n",
       "    <tr>\n",
       "      <th>0</th>\n",
       "      <td>feststelltaste@googlemail.com</td>\n",
       "      <td>Markus Harrer</td>\n",
       "      <td>2017-03-07 07:12:45</td>\n",
       "      <td>feststelltaste</td>\n",
       "    </tr>\n",
       "    <tr>\n",
       "      <th>1</th>\n",
       "      <td>feststelltaste@googlemail.com</td>\n",
       "      <td>feststelltaste</td>\n",
       "      <td>2016-07-28 19:03:03</td>\n",
       "      <td>feststelltaste</td>\n",
       "    </tr>\n",
       "    <tr>\n",
       "      <th>2</th>\n",
       "      <td>feststelltaste@googlemail.com</td>\n",
       "      <td>feststelltaste</td>\n",
       "      <td>2017-02-20 15:19:39</td>\n",
       "      <td>feststelltaste</td>\n",
       "    </tr>\n",
       "    <tr>\n",
       "      <th>3</th>\n",
       "      <td>feststelltaste@googlemail.com</td>\n",
       "      <td>feststelltaste</td>\n",
       "      <td>2017-02-20 16:57:23</td>\n",
       "      <td>feststelltaste</td>\n",
       "    </tr>\n",
       "    <tr>\n",
       "      <th>4</th>\n",
       "      <td>feststelltaste@googlemail.com</td>\n",
       "      <td>feststelltaste</td>\n",
       "      <td>2017-02-20 16:46:53</td>\n",
       "      <td>feststelltaste</td>\n",
       "    </tr>\n",
       "  </tbody>\n",
       "</table>\n",
       "</div>"
      ],
      "text/plain": [
       "                           email            name                time  \\\n",
       "0  feststelltaste@googlemail.com   Markus Harrer 2017-03-07 07:12:45   \n",
       "1  feststelltaste@googlemail.com  feststelltaste 2016-07-28 19:03:03   \n",
       "2  feststelltaste@googlemail.com  feststelltaste 2017-02-20 15:19:39   \n",
       "3  feststelltaste@googlemail.com  feststelltaste 2017-02-20 16:57:23   \n",
       "4  feststelltaste@googlemail.com  feststelltaste 2017-02-20 16:46:53   \n",
       "\n",
       "         nickname  \n",
       "0  feststelltaste  \n",
       "1  feststelltaste  \n",
       "2  feststelltaste  \n",
       "3  feststelltaste  \n",
       "4  feststelltaste  "
      ]
     },
     "execution_count": 42,
     "metadata": {},
     "output_type": "execute_result"
    }
   ],
   "source": [
    "commits['nickname'] = commits['email'].apply(lambda x : x.split(\"@\")[0])\n",
    "commits.head()"
   ]
  },
  {
   "cell_type": "markdown",
   "metadata": {},
   "source": [
    "That looks pretty good. Now we want to get only the person's real name instead of the nickname. We use a little heuristic to determine the \"best fitting nme\" and replace all the others. For this, we need to group the nicknames to replace the names."
   ]
  },
  {
   "cell_type": "code",
   "execution_count": 43,
   "metadata": {
    "collapsed": false
   },
   "outputs": [
    {
     "data": {
      "text/html": [
       "<div>\n",
       "<table border=\"1\" class=\"dataframe\">\n",
       "  <thead>\n",
       "    <tr style=\"text-align: right;\">\n",
       "      <th></th>\n",
       "      <th>real_name</th>\n",
       "    </tr>\n",
       "    <tr>\n",
       "      <th>nickname</th>\n",
       "      <th></th>\n",
       "    </tr>\n",
       "  </thead>\n",
       "  <tbody>\n",
       "    <tr>\n",
       "      <th>Andrej1</th>\n",
       "      <td>AndrejGajdos</td>\n",
       "    </tr>\n",
       "    <tr>\n",
       "      <th>ameya</th>\n",
       "      <td>Ameya Pandilwar</td>\n",
       "    </tr>\n",
       "    <tr>\n",
       "      <th>angel.aguilera</th>\n",
       "      <td>Angel Aguilera</td>\n",
       "    </tr>\n",
       "    <tr>\n",
       "      <th>antoine.rey</th>\n",
       "      <td>Antoine Rey</td>\n",
       "    </tr>\n",
       "    <tr>\n",
       "      <th>armagan.ersoz</th>\n",
       "      <td>kadinyazilimci</td>\n",
       "    </tr>\n",
       "  </tbody>\n",
       "</table>\n",
       "</div>"
      ],
      "text/plain": [
       "                      real_name\n",
       "nickname                       \n",
       "Andrej1            AndrejGajdos\n",
       "ameya           Ameya Pandilwar\n",
       "angel.aguilera   Angel Aguilera\n",
       "antoine.rey         Antoine Rey\n",
       "armagan.ersoz    kadinyazilimci"
      ]
     },
     "execution_count": 43,
     "metadata": {},
     "output_type": "execute_result"
    }
   ],
   "source": [
    "def determine_real_name(names):\n",
    "    \n",
    "    real_name = \"\"\n",
    "    \n",
    "    for name in names:\n",
    "        # assumption: if there is a whitespace in the name, \n",
    "        # someone thought about it to be first name and surname\n",
    "        if \" \" in name:\n",
    "            return name\n",
    "        # else take the longest name\n",
    "        elif len(name) > len(real_name):\n",
    "            real_name = name\n",
    "            \n",
    "    return real_name\n",
    "        \n",
    "commits_grouped = commits[['nickname', 'name']].groupby(['nickname']).agg(determine_real_name)\n",
    "commits_grouped = commits_grouped.rename(columns={'name' : 'real_name'})\n",
    "commits_grouped.head()"
   ]
  },
  {
   "cell_type": "markdown",
   "metadata": {},
   "source": [
    "That looks great! Now we switch back to our previous DataFrame by joining in the new information."
   ]
  },
  {
   "cell_type": "code",
   "execution_count": 44,
   "metadata": {
    "collapsed": false
   },
   "outputs": [
    {
     "data": {
      "text/html": [
       "<div>\n",
       "<table border=\"1\" class=\"dataframe\">\n",
       "  <thead>\n",
       "    <tr style=\"text-align: right;\">\n",
       "      <th></th>\n",
       "      <th>email</th>\n",
       "      <th>name</th>\n",
       "      <th>time</th>\n",
       "      <th>nickname</th>\n",
       "      <th>real_name</th>\n",
       "    </tr>\n",
       "  </thead>\n",
       "  <tbody>\n",
       "    <tr>\n",
       "      <th>0</th>\n",
       "      <td>feststelltaste@googlemail.com</td>\n",
       "      <td>Markus Harrer</td>\n",
       "      <td>2017-03-07 07:12:45</td>\n",
       "      <td>feststelltaste</td>\n",
       "      <td>Markus Harrer</td>\n",
       "    </tr>\n",
       "    <tr>\n",
       "      <th>1</th>\n",
       "      <td>feststelltaste@googlemail.com</td>\n",
       "      <td>feststelltaste</td>\n",
       "      <td>2016-07-28 19:03:03</td>\n",
       "      <td>feststelltaste</td>\n",
       "      <td>Markus Harrer</td>\n",
       "    </tr>\n",
       "    <tr>\n",
       "      <th>2</th>\n",
       "      <td>feststelltaste@googlemail.com</td>\n",
       "      <td>feststelltaste</td>\n",
       "      <td>2017-02-20 15:19:39</td>\n",
       "      <td>feststelltaste</td>\n",
       "      <td>Markus Harrer</td>\n",
       "    </tr>\n",
       "    <tr>\n",
       "      <th>3</th>\n",
       "      <td>feststelltaste@googlemail.com</td>\n",
       "      <td>feststelltaste</td>\n",
       "      <td>2017-02-20 16:57:23</td>\n",
       "      <td>feststelltaste</td>\n",
       "      <td>Markus Harrer</td>\n",
       "    </tr>\n",
       "    <tr>\n",
       "      <th>4</th>\n",
       "      <td>feststelltaste@googlemail.com</td>\n",
       "      <td>feststelltaste</td>\n",
       "      <td>2017-02-20 16:46:53</td>\n",
       "      <td>feststelltaste</td>\n",
       "      <td>Markus Harrer</td>\n",
       "    </tr>\n",
       "  </tbody>\n",
       "</table>\n",
       "</div>"
      ],
      "text/plain": [
       "                           email            name                time  \\\n",
       "0  feststelltaste@googlemail.com   Markus Harrer 2017-03-07 07:12:45   \n",
       "1  feststelltaste@googlemail.com  feststelltaste 2016-07-28 19:03:03   \n",
       "2  feststelltaste@googlemail.com  feststelltaste 2017-02-20 15:19:39   \n",
       "3  feststelltaste@googlemail.com  feststelltaste 2017-02-20 16:57:23   \n",
       "4  feststelltaste@googlemail.com  feststelltaste 2017-02-20 16:46:53   \n",
       "\n",
       "         nickname      real_name  \n",
       "0  feststelltaste  Markus Harrer  \n",
       "1  feststelltaste  Markus Harrer  \n",
       "2  feststelltaste  Markus Harrer  \n",
       "3  feststelltaste  Markus Harrer  \n",
       "4  feststelltaste  Markus Harrer  "
      ]
     },
     "execution_count": 44,
     "metadata": {},
     "output_type": "execute_result"
    }
   ],
   "source": [
    "commits = commits.merge(commits_grouped, left_on='nickname', right_index=True)\n",
    "commits.head()"
   ]
  },
  {
   "cell_type": "markdown",
   "metadata": {},
   "source": [
    "That should be enough data cleansing for today!"
   ]
  },
  {
   "cell_type": "markdown",
   "metadata": {},
   "source": [
    "# Analysis"
   ]
  },
  {
   "cell_type": "markdown",
   "metadata": {},
   "source": [
    "## Top 10 commiters\n",
    "TODO: There are multiple commits for users with the same timestamp. Check what that is (maybe we need the commit id for better comparison)"
   ]
  },
  {
   "cell_type": "code",
   "execution_count": 45,
   "metadata": {
    "collapsed": false
   },
   "outputs": [
    {
     "data": {
      "text/html": [
       "<div>\n",
       "<table border=\"1\" class=\"dataframe\">\n",
       "  <thead>\n",
       "    <tr style=\"text-align: right;\">\n",
       "      <th></th>\n",
       "      <th>commits</th>\n",
       "    </tr>\n",
       "  </thead>\n",
       "  <tbody>\n",
       "    <tr>\n",
       "      <th>michaelisvy</th>\n",
       "      <td>298</td>\n",
       "    </tr>\n",
       "    <tr>\n",
       "      <th>Antoine Rey</th>\n",
       "      <td>112</td>\n",
       "    </tr>\n",
       "    <tr>\n",
       "      <th>Dirk Mahler</th>\n",
       "      <td>51</td>\n",
       "    </tr>\n",
       "    <tr>\n",
       "      <th>Keith Donald</th>\n",
       "      <td>35</td>\n",
       "    </tr>\n",
       "    <tr>\n",
       "      <th>Markus Harrer</th>\n",
       "      <td>29</td>\n",
       "    </tr>\n",
       "    <tr>\n",
       "      <th>Costin Leau</th>\n",
       "      <td>28</td>\n",
       "    </tr>\n",
       "    <tr>\n",
       "      <th>Cyrille Le Clerc</th>\n",
       "      <td>5</td>\n",
       "    </tr>\n",
       "    <tr>\n",
       "      <th>Tomas Repel</th>\n",
       "      <td>5</td>\n",
       "    </tr>\n",
       "    <tr>\n",
       "      <th>Thibault Duchateau</th>\n",
       "      <td>5</td>\n",
       "    </tr>\n",
       "    <tr>\n",
       "      <th>Gordon Dickens</th>\n",
       "      <td>5</td>\n",
       "    </tr>\n",
       "  </tbody>\n",
       "</table>\n",
       "</div>"
      ],
      "text/plain": [
       "                    commits\n",
       "michaelisvy             298\n",
       "Antoine Rey             112\n",
       "Dirk Mahler              51\n",
       "Keith Donald             35\n",
       "Markus Harrer            29\n",
       "Costin Leau              28\n",
       "Cyrille Le Clerc          5\n",
       "Tomas Repel               5\n",
       "Thibault Duchateau        5\n",
       "Gordon Dickens            5"
      ]
     },
     "execution_count": 45,
     "metadata": {},
     "output_type": "execute_result"
    }
   ],
   "source": [
    "authors_commits = pd.DataFrame(commits['real_name'].value_counts()).rename(columns={'real_name' : 'commits'})\n",
    "authors_commits.head(10)"
   ]
  },
  {
   "cell_type": "markdown",
   "metadata": {},
   "source": [
    "### Visualization"
   ]
  },
  {
   "cell_type": "code",
   "execution_count": 46,
   "metadata": {
    "collapsed": false
   },
   "outputs": [
    {
     "data": {
      "text/plain": [
       "<matplotlib.axes._subplots.AxesSubplot at 0x18d3d619ef0>"
      ]
     },
     "execution_count": 46,
     "metadata": {},
     "output_type": "execute_result"
    },
    {
     "data": {
      "image/png": "[encoded data removed]",
      "text/plain": [
       "<matplotlib.figure.Figure at 0x18d3d616908>"
      ]
     },
     "metadata": {},
     "output_type": "display_data"
    }
   ],
   "source": [
    "%matplotlib inline \n",
    "authors_commits['commits'].plot(kind='pie', figsize=(6,6))"
   ]
  },
  {
   "cell_type": "markdown",
   "metadata": {},
   "source": [
    "Uhh...that looks ugly and kind of weird. Let's first try to fix the mess on the right side that shows all authors with minor changes by summing up their number of changes. We will use a somehow arbitrary threshold value to identify them."
   ]
  },
  {
   "cell_type": "code",
   "execution_count": 47,
   "metadata": {
    "collapsed": false
   },
   "outputs": [
    {
     "data": {
      "text/html": [
       "<div>\n",
       "<table border=\"1\" class=\"dataframe\">\n",
       "  <thead>\n",
       "    <tr style=\"text-align: right;\">\n",
       "      <th></th>\n",
       "      <th>commits</th>\n",
       "    </tr>\n",
       "  </thead>\n",
       "  <tbody>\n",
       "    <tr>\n",
       "      <th>Cyrille Le Clerc</th>\n",
       "      <td>5</td>\n",
       "    </tr>\n",
       "    <tr>\n",
       "      <th>Tomas Repel</th>\n",
       "      <td>5</td>\n",
       "    </tr>\n",
       "    <tr>\n",
       "      <th>Thibault Duchateau</th>\n",
       "      <td>5</td>\n",
       "    </tr>\n",
       "    <tr>\n",
       "      <th>Gordon Dickens</th>\n",
       "      <td>5</td>\n",
       "    </tr>\n",
       "    <tr>\n",
       "      <th>Dapeng</th>\n",
       "      <td>5</td>\n",
       "    </tr>\n",
       "  </tbody>\n",
       "</table>\n",
       "</div>"
      ],
      "text/plain": [
       "                    commits\n",
       "Cyrille Le Clerc          5\n",
       "Tomas Repel               5\n",
       "Thibault Duchateau        5\n",
       "Gordon Dickens            5\n",
       "Dapeng                    5"
      ]
     },
     "execution_count": 47,
     "metadata": {},
     "output_type": "execute_result"
    }
   ],
   "source": [
    "authors_minor_commits = authors_commits[authors_commits['commits'] < 10]\n",
    "authors_minor_commits.head()"
   ]
  },
  {
   "cell_type": "markdown",
   "metadata": {},
   "source": [
    "These are the entries we want to combine to our new \"Others\" section. But we don't want to loose the number of changes, so we store them for lates usage."
   ]
  },
  {
   "cell_type": "code",
   "execution_count": 48,
   "metadata": {
    "collapsed": false
   },
   "outputs": [
    {
     "data": {
      "text/plain": [
       "commits    59\n",
       "dtype: int64"
      ]
     },
     "execution_count": 48,
     "metadata": {},
     "output_type": "execute_result"
    }
   ],
   "source": [
    "others_number_of_changes = authors_minor_commits.sum()\n",
    "others_number_of_changes"
   ]
  },
  {
   "cell_type": "markdown",
   "metadata": {},
   "source": [
    "Now we are deleting all authores that are in the <tt>author_minor_changes</tt>'s DataFrame. To not check on the threshold value from above again, we reuse the already calculated DataFrame."
   ]
  },
  {
   "cell_type": "code",
   "execution_count": 49,
   "metadata": {
    "collapsed": false
   },
   "outputs": [
    {
     "data": {
      "text/html": [
       "<div>\n",
       "<table border=\"1\" class=\"dataframe\">\n",
       "  <thead>\n",
       "    <tr style=\"text-align: right;\">\n",
       "      <th></th>\n",
       "      <th>commits</th>\n",
       "    </tr>\n",
       "  </thead>\n",
       "  <tbody>\n",
       "    <tr>\n",
       "      <th>Attilio</th>\n",
       "      <td>NaN</td>\n",
       "    </tr>\n",
       "    <tr>\n",
       "      <th>AndrejGajdos</th>\n",
       "      <td>NaN</td>\n",
       "    </tr>\n",
       "    <tr>\n",
       "      <th>IHABRITANE</th>\n",
       "      <td>NaN</td>\n",
       "    </tr>\n",
       "    <tr>\n",
       "      <th>Craig Dennis</th>\n",
       "      <td>NaN</td>\n",
       "    </tr>\n",
       "    <tr>\n",
       "      <th>mklose</th>\n",
       "      <td>NaN</td>\n",
       "    </tr>\n",
       "  </tbody>\n",
       "</table>\n",
       "</div>"
      ],
      "text/plain": [
       "              commits\n",
       "Attilio           NaN\n",
       "AndrejGajdos      NaN\n",
       "IHABRITANE        NaN\n",
       "Craig Dennis      NaN\n",
       "mklose            NaN"
      ]
     },
     "execution_count": 49,
     "metadata": {},
     "output_type": "execute_result"
    }
   ],
   "source": [
    "authors_major_commits = authors_commits[~authors_commits.isin(authors_minor_commits)]\n",
    "authors_major_commits.tail()"
   ]
  },
  {
   "cell_type": "markdown",
   "metadata": {},
   "source": [
    "This gives us for the contributors with just a few commits missing values for the <tt>changes</tt> column, because these values were in the <tt>author_minor_changes</tt> DataFrame. We drop all Nan values to get only the major contributors."
   ]
  },
  {
   "cell_type": "code",
   "execution_count": 50,
   "metadata": {
    "collapsed": false
   },
   "outputs": [
    {
     "data": {
      "text/html": [
       "<div>\n",
       "<table border=\"1\" class=\"dataframe\">\n",
       "  <thead>\n",
       "    <tr style=\"text-align: right;\">\n",
       "      <th></th>\n",
       "      <th>commits</th>\n",
       "    </tr>\n",
       "  </thead>\n",
       "  <tbody>\n",
       "    <tr>\n",
       "      <th>michaelisvy</th>\n",
       "      <td>298.0</td>\n",
       "    </tr>\n",
       "    <tr>\n",
       "      <th>Antoine Rey</th>\n",
       "      <td>112.0</td>\n",
       "    </tr>\n",
       "    <tr>\n",
       "      <th>Dirk Mahler</th>\n",
       "      <td>51.0</td>\n",
       "    </tr>\n",
       "    <tr>\n",
       "      <th>Keith Donald</th>\n",
       "      <td>35.0</td>\n",
       "    </tr>\n",
       "    <tr>\n",
       "      <th>Markus Harrer</th>\n",
       "      <td>29.0</td>\n",
       "    </tr>\n",
       "    <tr>\n",
       "      <th>Costin Leau</th>\n",
       "      <td>28.0</td>\n",
       "    </tr>\n",
       "  </tbody>\n",
       "</table>\n",
       "</div>"
      ],
      "text/plain": [
       "               commits\n",
       "michaelisvy      298.0\n",
       "Antoine Rey      112.0\n",
       "Dirk Mahler       51.0\n",
       "Keith Donald      35.0\n",
       "Markus Harrer     29.0\n",
       "Costin Leau       28.0"
      ]
     },
     "execution_count": 50,
     "metadata": {},
     "output_type": "execute_result"
    }
   ],
   "source": [
    "authors_major_commits = authors_major_commits.dropna()\n",
    "authors_major_commits"
   ]
  },
  {
   "cell_type": "markdown",
   "metadata": {},
   "source": [
    "We add the \"Others\" row by appending to the DataFrame"
   ]
  },
  {
   "cell_type": "code",
   "execution_count": 51,
   "metadata": {
    "collapsed": false
   },
   "outputs": [
    {
     "data": {
      "text/html": [
       "<div>\n",
       "<table border=\"1\" class=\"dataframe\">\n",
       "  <thead>\n",
       "    <tr style=\"text-align: right;\">\n",
       "      <th></th>\n",
       "      <th>commits</th>\n",
       "    </tr>\n",
       "  </thead>\n",
       "  <tbody>\n",
       "    <tr>\n",
       "      <th>michaelisvy</th>\n",
       "      <td>298.0</td>\n",
       "    </tr>\n",
       "    <tr>\n",
       "      <th>Antoine Rey</th>\n",
       "      <td>112.0</td>\n",
       "    </tr>\n",
       "    <tr>\n",
       "      <th>Dirk Mahler</th>\n",
       "      <td>51.0</td>\n",
       "    </tr>\n",
       "    <tr>\n",
       "      <th>Keith Donald</th>\n",
       "      <td>35.0</td>\n",
       "    </tr>\n",
       "    <tr>\n",
       "      <th>Markus Harrer</th>\n",
       "      <td>29.0</td>\n",
       "    </tr>\n",
       "    <tr>\n",
       "      <th>Costin Leau</th>\n",
       "      <td>28.0</td>\n",
       "    </tr>\n",
       "    <tr>\n",
       "      <th>Others</th>\n",
       "      <td>59.0</td>\n",
       "    </tr>\n",
       "  </tbody>\n",
       "</table>\n",
       "</div>"
      ],
      "text/plain": [
       "               commits\n",
       "michaelisvy      298.0\n",
       "Antoine Rey      112.0\n",
       "Dirk Mahler       51.0\n",
       "Keith Donald      35.0\n",
       "Markus Harrer     29.0\n",
       "Costin Leau       28.0\n",
       "Others            59.0"
      ]
     },
     "execution_count": 51,
     "metadata": {},
     "output_type": "execute_result"
    }
   ],
   "source": [
    "authors_major_commits.loc[\"Others\"] = others_number_of_changes\n",
    "authors_major_commits"
   ]
  },
  {
   "cell_type": "markdown",
   "metadata": {},
   "source": [
    "Almost there, redraw with some styling and minor adjustments."
   ]
  },
  {
   "cell_type": "code",
   "execution_count": 52,
   "metadata": {
    "collapsed": false
   },
   "outputs": [
    {
     "data": {
      "text/plain": [
       "<matplotlib.text.Text at 0x18d3d4c7470>"
      ]
     },
     "execution_count": 52,
     "metadata": {},
     "output_type": "execute_result"
    },
    {
     "data": {
      "image/png": "[encoded data removed]",
      "text/plain": [
       "<matplotlib.figure.Figure at 0x18d3bdfb550>"
      ]
     },
     "metadata": {},
     "output_type": "display_data"
    }
   ],
   "source": [
    "ax = authors_major_commits['commits'].plot(kind='pie', figsize=(6,6))\n",
    "# show percentages in sections\n",
    "plt.pie(authors_major_commits['commits'], autopct='%.2f')#\n",
    "# get rid of the distracting label for the y-axis\n",
    "ax.set_ylabel(\"\")\n"
   ]
  },
  {
   "cell_type": "markdown",
   "metadata": {},
   "source": [
    "# Summary\n",
    "What we got here is a premium and robust data analysis. I hope you saw that there are some minor difficulties in working with data. We got the big problem of changes of author and email adresses we solved by correcting the names.\n",
    "\n",
    "But what can we do in practice with these results? Where is the business value? You got me (and I got you): There is almost none! That's the problem we are facing in many data analysis tasks we do in software development today. What value does a simple listing of some characteristics of the contributors of our project or the commit time acutally deliver? It's just nice to know. So in the next notebook, I'll show you where we have to head for."
   ]
  }
 ],
 "metadata": {
  "anaconda-cloud": {},
  "kernelspec": {
   "display_name": "Python [Root]",
   "language": "python",
   "name": "Python [Root]"
  },
  "language_info": {
   "codemirror_mode": {
    "name": "ipython",
    "version": 3
   },
   "file_extension": ".py",
   "mimetype": "text/x-python",
   "name": "python",
   "nbconvert_exporter": "python",
   "pygments_lexer": "ipython3",
   "version": "3.5.2"
  }
 },
 "nbformat": 4,
 "nbformat_minor": 0
}
