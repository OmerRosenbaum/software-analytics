{
 "cells": [
  {
   "cell_type": "markdown",
   "metadata": {},
   "source": [
    "#  Introduction\n",
    "In this blog post, I want to show you a nice complexity metric that works for most major programming languages that we use for our software systems &ndash; the **indentation-based complexity** metric. Adam Tornhill describes this metric in his fabulous book [Software Design X-Rays](https://pragprog.com/book/atevol/software-design-x-rays) on page 25 as follows:\n",
    " \n",
    "> With indentation-based complexity we count the leading tabs and whitespaces\n",
    "to convert them into logical indentations. ... This works because indentations in code carry meaning. Indentations\n",
    "are used to increase readability by separating code blocks from each other.\n",
    "\n",
    "He further says that the trend of the indentation-based complexity in combination with the lines of code metric a good indicator for complexity-growth. If the lines of code don't change but the indentation does, you got a complexity problem in your code.\n",
    "\n",
    "In this blog post, we are just interested in a static view of the indentation of a code (the evolution of the indentation-based complexity will be discussed in another blog post). I want to show you how you can spot complex areas in your application using the [Pandas data analysis framework](http://pandas.pydata.org/). As application under analysis, I choose the [Linux kernel project](https://github.com/torvalds/linux/) because we want to apply our analysis at big scale."
   ]
  },
  {
   "cell_type": "markdown",
   "metadata": {},
   "source": [
    "# The Idea\n",
    "\n",
    "This analysis works as follows:\n",
    "\n",
    "1. We search for relevant source code files using `glob`\n",
    "1. We read in the source code by hacking Pandas' `read_csv()` method\n",
    "1. We extract the preceding whitespaces/tabs in the code\n",
    "1. We calculate the ratio between the lines of code of a file and the indentation complexity\n",
    "1. We spot areas in the Linux kernel that are most complex\n",
    "1. We visualize the complete result with a treemap\n",
    "\n",
    "So let's start!"
   ]
  },
  {
   "cell_type": "markdown",
   "metadata": {},
   "source": [
    "# Analysis\n",
    "First, let's get all the files with a recursive file search by using `glob`. Because the Linux kernel code is mostly written in the C programming language, we search for the corresponding file endings `.c`  (C program code files) and `.h` (header files)."
   ]
  },
  {
   "cell_type": "code",
   "execution_count": 1,
   "metadata": {
    "ExecuteTime": {
     "end_time": "2018-05-09T21:07:05.790298Z",
     "start_time": "2018-05-09T21:06:52.876Z"
    }
   },
   "outputs": [
    {
     "data": {
      "text/plain": [
       "['../../linux\\\\arch\\\\alpha\\\\boot\\\\bootp.c',\n",
       " '../../linux\\\\arch\\\\alpha\\\\boot\\\\bootpz.c',\n",
       " '../../linux\\\\arch\\\\alpha\\\\boot\\\\main.c',\n",
       " '../../linux\\\\arch\\\\alpha\\\\boot\\\\misc.c',\n",
       " '../../linux\\\\arch\\\\alpha\\\\boot\\\\stdio.c']"
      ]
     },
     "execution_count": 1,
     "metadata": {},
     "output_type": "execute_result"
    }
   ],
   "source": [
    "import glob\n",
    "file_list = glob.glob(\"../../linux/**/*.[c|h]\", recursive=True)\n",
    "file_list[:5]"
   ]
  },
  {
   "cell_type": "markdown",
   "metadata": {},
   "source": [
    "## Read in in the content\n",
    "With the `file_list` at hand, we can now read in the content of the source code files. We could have used a standard Python `with <path> as f` and read in the content with a `f.read()`, but we want to get the data as early into a Pandas' DataFrame (abbreviated \"df\") to leverage the power of the data analysis framework. \n",
    "\n",
    "For each path in our file list, we create a single DataFrame `content_df`. We use a line break `\\n` as column separator, ensuring that we create a single row for each source code line. We also specify the `encoding` parameter with the file encoding `latin-1` to make sure that we can read in weird file contents, too (this is totally normal when working in an international team).  We also set `skip_blank_lines` to `False` to keep blank lines. Keeping the blank lines is necessary for debugging purposes (you can inspect certain source code lines with a text editor more easily) as well as for later analysis.\n",
    "\n",
    "The process of reading in all the source code could take a while for the thousands of files of the Linux kernel. After looping through and reading in all the data, we concatenate all DataFrames with the `concat` method. This gives us a single DataFrame with all source code content for all source code files."
   ]
  },
  {
   "cell_type": "code",
   "execution_count": 2,
   "metadata": {
    "ExecuteTime": {
     "end_time": "2018-05-09T21:07:05.790298Z",
     "start_time": "2018-05-09T21:06:37.301239Z"
    },
    "code_folding": []
   },
   "outputs": [
    {
     "data": {
      "text/html": [
       "<div>\n",
       "<style scoped>\n",
       "    .dataframe tbody tr th:only-of-type {\n",
       "        vertical-align: middle;\n",
       "    }\n",
       "\n",
       "    .dataframe tbody tr th {\n",
       "        vertical-align: top;\n",
       "    }\n",
       "\n",
       "    .dataframe thead th {\n",
       "        text-align: right;\n",
       "    }\n",
       "</style>\n",
       "<table border=\"1\" class=\"dataframe\">\n",
       "  <thead>\n",
       "    <tr style=\"text-align: right;\">\n",
       "      <th></th>\n",
       "      <th>filepath</th>\n",
       "      <th>line</th>\n",
       "    </tr>\n",
       "  </thead>\n",
       "  <tbody>\n",
       "    <tr>\n",
       "      <th>0</th>\n",
       "      <td>../../linux\\arch\\alpha\\boot\\bootp.c</td>\n",
       "      <td>/*</td>\n",
       "    </tr>\n",
       "    <tr>\n",
       "      <th>1</th>\n",
       "      <td>../../linux\\arch\\alpha\\boot\\bootp.c</td>\n",
       "      <td>* arch/alpha/boot/bootp.c</td>\n",
       "    </tr>\n",
       "    <tr>\n",
       "      <th>2</th>\n",
       "      <td>../../linux\\arch\\alpha\\boot\\bootp.c</td>\n",
       "      <td>*</td>\n",
       "    </tr>\n",
       "    <tr>\n",
       "      <th>3</th>\n",
       "      <td>../../linux\\arch\\alpha\\boot\\bootp.c</td>\n",
       "      <td>* Copyright (C) 1997 Jay Estabrook</td>\n",
       "    </tr>\n",
       "    <tr>\n",
       "      <th>4</th>\n",
       "      <td>../../linux\\arch\\alpha\\boot\\bootp.c</td>\n",
       "      <td>*</td>\n",
       "    </tr>\n",
       "  </tbody>\n",
       "</table>\n",
       "</div>"
      ],
      "text/plain": [
       "                              filepath                                 line\n",
       "0  ../../linux\\arch\\alpha\\boot\\bootp.c                                   /*\n",
       "1  ../../linux\\arch\\alpha\\boot\\bootp.c            * arch/alpha/boot/bootp.c\n",
       "2  ../../linux\\arch\\alpha\\boot\\bootp.c                                    *\n",
       "3  ../../linux\\arch\\alpha\\boot\\bootp.c   * Copyright (C) 1997 Jay Estabrook\n",
       "4  ../../linux\\arch\\alpha\\boot\\bootp.c                                    *"
      ]
     },
     "execution_count": 2,
     "metadata": {},
     "output_type": "execute_result"
    }
   ],
   "source": [
    "import pandas as pd\n",
    "\n",
    "content_dfs = []\n",
    "\n",
    "for path in file_list:\n",
    "    \n",
    "    content_df = pd.read_csv(\n",
    "        path,\n",
    "        encoding='latin-1',\n",
    "        sep='\\n',\n",
    "        skip_blank_lines=False,\n",
    "        names=['line']\n",
    "    )\n",
    "    \n",
    "    content_df.insert(0, 'filepath', path)\n",
    "    content_dfs.append(content_df)\n",
    "\n",
    "content = pd.concat(content_dfs)\n",
    "content.head()"
   ]
  },
  {
   "cell_type": "markdown",
   "metadata": {},
   "source": [
    "Let's see what we've got here in our DataFrame named `content`."
   ]
  },
  {
   "cell_type": "code",
   "execution_count": 3,
   "metadata": {
    "ExecuteTime": {
     "end_time": "2018-05-09T21:07:05.790298Z",
     "start_time": "2018-05-09T21:06:38.844Z"
    }
   },
   "outputs": [
    {
     "name": "stdout",
     "output_type": "stream",
     "text": [
      "<class 'pandas.core.frame.DataFrame'>\n",
      "Int64Index: 22278494 entries, 0 to 266\n",
      "Data columns (total 2 columns):\n",
      "filepath    object\n",
      "line        object\n",
      "dtypes: object(2)\n",
      "memory usage: 509.9+ MB\n"
     ]
    }
   ],
   "source": [
    "content.info()"
   ]
  },
  {
   "cell_type": "markdown",
   "metadata": {},
   "source": [
    "We have over 22 million lines of code (including comments and blank lines) in our DataFrame. Let's clean up that data a little bit."
   ]
  },
  {
   "cell_type": "markdown",
   "metadata": {},
   "source": [
    "## Clean the data\n",
    "We convert `filepath` into a categorical data type to optimize performance and memory consumption. We then get the operating system specific directory separator right and get rid of the superfluous parts of the path."
   ]
  },
  {
   "cell_type": "code",
   "execution_count": 4,
   "metadata": {
    "ExecuteTime": {
     "end_time": "2018-05-09T21:07:05.790298Z",
     "start_time": "2018-05-09T21:06:39.246Z"
    }
   },
   "outputs": [
    {
     "data": {
      "text/html": [
       "<div>\n",
       "<style scoped>\n",
       "    .dataframe tbody tr th:only-of-type {\n",
       "        vertical-align: middle;\n",
       "    }\n",
       "\n",
       "    .dataframe tbody tr th {\n",
       "        vertical-align: top;\n",
       "    }\n",
       "\n",
       "    .dataframe thead th {\n",
       "        text-align: right;\n",
       "    }\n",
       "</style>\n",
       "<table border=\"1\" class=\"dataframe\">\n",
       "  <thead>\n",
       "    <tr style=\"text-align: right;\">\n",
       "      <th></th>\n",
       "      <th>filepath</th>\n",
       "      <th>line</th>\n",
       "    </tr>\n",
       "  </thead>\n",
       "  <tbody>\n",
       "    <tr>\n",
       "      <th>0</th>\n",
       "      <td>arch/alpha/boot/bootp.c</td>\n",
       "      <td>/*</td>\n",
       "    </tr>\n",
       "  </tbody>\n",
       "</table>\n",
       "</div>"
      ],
      "text/plain": [
       "                  filepath line\n",
       "0  arch/alpha/boot/bootp.c   /*"
      ]
     },
     "execution_count": 4,
     "metadata": {},
     "output_type": "execute_result"
    }
   ],
   "source": [
    "content['filepath'] = pd.Categorical(content['filepath'])\n",
    "content['filepath'] = content['filepath']\\\n",
    "    .str.replace(\"\\\\\", \"/\")\\\n",
    "    .str.replace(\"../../linux/\", \"\")\n",
    "content.head(1)"
   ]
  },
  {
   "cell_type": "markdown",
   "metadata": {},
   "source": [
    "We further replace all empty lines with blanks and tabular spaces with a suitable number of whitespaces (we assume here that a tab corresponds to four whitespaces)."
   ]
  },
  {
   "cell_type": "code",
   "execution_count": 5,
   "metadata": {
    "ExecuteTime": {
     "end_time": "2018-05-09T21:07:05.790298Z",
     "start_time": "2018-05-09T21:06:39.638Z"
    }
   },
   "outputs": [
    {
     "data": {
      "text/html": [
       "<div>\n",
       "<style scoped>\n",
       "    .dataframe tbody tr th:only-of-type {\n",
       "        vertical-align: middle;\n",
       "    }\n",
       "\n",
       "    .dataframe tbody tr th {\n",
       "        vertical-align: top;\n",
       "    }\n",
       "\n",
       "    .dataframe thead th {\n",
       "        text-align: right;\n",
       "    }\n",
       "</style>\n",
       "<table border=\"1\" class=\"dataframe\">\n",
       "  <thead>\n",
       "    <tr style=\"text-align: right;\">\n",
       "      <th></th>\n",
       "      <th>filepath</th>\n",
       "      <th>line</th>\n",
       "    </tr>\n",
       "  </thead>\n",
       "  <tbody>\n",
       "    <tr>\n",
       "      <th>0</th>\n",
       "      <td>arch/alpha/boot/bootp.c</td>\n",
       "      <td>/*</td>\n",
       "    </tr>\n",
       "  </tbody>\n",
       "</table>\n",
       "</div>"
      ],
      "text/plain": [
       "                  filepath line\n",
       "0  arch/alpha/boot/bootp.c   /*"
      ]
     },
     "execution_count": 5,
     "metadata": {},
     "output_type": "execute_result"
    }
   ],
   "source": [
    "content['line'] = content['line'].fillna(\"\")\n",
    "FOUR_SPACES = \" \" * 4\n",
    "content['line'] = content['line'].str.replace(\"\\t\", FOUR_SPACES)\n",
    "content.head(1)"
   ]
  },
  {
   "cell_type": "markdown",
   "metadata": {},
   "source": [
    "## Get the measures\n",
    "Let's get some measures that can help us to spot complex code. We add some additional information to make further analysis and debugging easier: We keep track of the line number of each source code file and create a single continuous index for all source code lines. "
   ]
  },
  {
   "cell_type": "code",
   "execution_count": 6,
   "metadata": {
    "ExecuteTime": {
     "end_time": "2018-05-09T21:07:05.790298Z",
     "start_time": "2018-05-09T21:06:38.482Z"
    },
    "code_folding": [],
    "scrolled": true
   },
   "outputs": [
    {
     "data": {
      "text/html": [
       "<div>\n",
       "<style scoped>\n",
       "    .dataframe tbody tr th:only-of-type {\n",
       "        vertical-align: middle;\n",
       "    }\n",
       "\n",
       "    .dataframe tbody tr th {\n",
       "        vertical-align: top;\n",
       "    }\n",
       "\n",
       "    .dataframe thead th {\n",
       "        text-align: right;\n",
       "    }\n",
       "</style>\n",
       "<table border=\"1\" class=\"dataframe\">\n",
       "  <thead>\n",
       "    <tr style=\"text-align: right;\">\n",
       "      <th></th>\n",
       "      <th>filepath</th>\n",
       "      <th>line</th>\n",
       "      <th>line_number</th>\n",
       "    </tr>\n",
       "  </thead>\n",
       "  <tbody>\n",
       "    <tr>\n",
       "      <th>0</th>\n",
       "      <td>arch/alpha/boot/bootp.c</td>\n",
       "      <td>/*</td>\n",
       "      <td>1</td>\n",
       "    </tr>\n",
       "  </tbody>\n",
       "</table>\n",
       "</div>"
      ],
      "text/plain": [
       "                  filepath line  line_number\n",
       "0  arch/alpha/boot/bootp.c   /*            1"
      ]
     },
     "execution_count": 6,
     "metadata": {},
     "output_type": "execute_result"
    }
   ],
   "source": [
    "content['line_number'] = content.index + 1\n",
    "content = content.reset_index(drop=True)\n",
    "content.head(1)"
   ]
  },
  {
   "cell_type": "markdown",
   "metadata": {},
   "source": [
    "Next, we mark comment lines and blank lines. For the identification of the comments, we use a simple heuristic that should be sufficient in most cases."
   ]
  },
  {
   "cell_type": "code",
   "execution_count": 7,
   "metadata": {
    "ExecuteTime": {
     "end_time": "2018-05-09T21:06:33.927988Z",
     "start_time": "2018-05-09T21:06:09.334Z"
    }
   },
   "outputs": [
    {
     "data": {
      "text/html": [
       "<div>\n",
       "<style scoped>\n",
       "    .dataframe tbody tr th:only-of-type {\n",
       "        vertical-align: middle;\n",
       "    }\n",
       "\n",
       "    .dataframe tbody tr th {\n",
       "        vertical-align: top;\n",
       "    }\n",
       "\n",
       "    .dataframe thead th {\n",
       "        text-align: right;\n",
       "    }\n",
       "</style>\n",
       "<table border=\"1\" class=\"dataframe\">\n",
       "  <thead>\n",
       "    <tr style=\"text-align: right;\">\n",
       "      <th></th>\n",
       "      <th>filepath</th>\n",
       "      <th>line</th>\n",
       "      <th>line_number</th>\n",
       "      <th>is_comment</th>\n",
       "      <th>is_empty</th>\n",
       "    </tr>\n",
       "  </thead>\n",
       "  <tbody>\n",
       "    <tr>\n",
       "      <th>0</th>\n",
       "      <td>arch/alpha/boot/bootp.c</td>\n",
       "      <td>/*</td>\n",
       "      <td>1</td>\n",
       "      <td>True</td>\n",
       "      <td>False</td>\n",
       "    </tr>\n",
       "  </tbody>\n",
       "</table>\n",
       "</div>"
      ],
      "text/plain": [
       "                  filepath line  line_number  is_comment  is_empty\n",
       "0  arch/alpha/boot/bootp.c   /*            1        True     False"
      ]
     },
     "execution_count": 7,
     "metadata": {},
     "output_type": "execute_result"
    }
   ],
   "source": [
    "content['is_comment'] = content['line'].str.match(r'^ *(//|/\\*|\\*).*')\n",
    "content['is_empty'] = content['line'].str.replace(\" \",\"\").str.len() == 0\n",
    "content.head(1)"
   ]
  },
  {
   "cell_type": "markdown",
   "metadata": {},
   "source": [
    "Now we come to the key part: We calculate the indentation for each source code line. An indent is the number of whitespaces that come before the first non-blank character in a line. We just subtract the length from a line without the preceding whitespaces from the length of the whole line."
   ]
  },
  {
   "cell_type": "code",
   "execution_count": 8,
   "metadata": {
    "ExecuteTime": {
     "end_time": "2018-05-09T21:06:33.927988Z",
     "start_time": "2018-05-09T21:06:09.344Z"
    }
   },
   "outputs": [
    {
     "data": {
      "text/html": [
       "<div>\n",
       "<style scoped>\n",
       "    .dataframe tbody tr th:only-of-type {\n",
       "        vertical-align: middle;\n",
       "    }\n",
       "\n",
       "    .dataframe tbody tr th {\n",
       "        vertical-align: top;\n",
       "    }\n",
       "\n",
       "    .dataframe thead th {\n",
       "        text-align: right;\n",
       "    }\n",
       "</style>\n",
       "<table border=\"1\" class=\"dataframe\">\n",
       "  <thead>\n",
       "    <tr style=\"text-align: right;\">\n",
       "      <th></th>\n",
       "      <th>filepath</th>\n",
       "      <th>line</th>\n",
       "      <th>line_number</th>\n",
       "      <th>is_comment</th>\n",
       "      <th>is_empty</th>\n",
       "      <th>indent</th>\n",
       "    </tr>\n",
       "  </thead>\n",
       "  <tbody>\n",
       "    <tr>\n",
       "      <th>0</th>\n",
       "      <td>arch/alpha/boot/bootp.c</td>\n",
       "      <td>/*</td>\n",
       "      <td>1</td>\n",
       "      <td>True</td>\n",
       "      <td>False</td>\n",
       "      <td>0</td>\n",
       "    </tr>\n",
       "  </tbody>\n",
       "</table>\n",
       "</div>"
      ],
      "text/plain": [
       "                  filepath line  line_number  is_comment  is_empty  indent\n",
       "0  arch/alpha/boot/bootp.c   /*            1        True     False       0"
      ]
     },
     "execution_count": 8,
     "metadata": {},
     "output_type": "execute_result"
    }
   ],
   "source": [
    "content['indent'] = content['line'].str.len() - content['line'].str.lstrip().str.len()\n",
    "content.head(1)"
   ]
  },
  {
   "cell_type": "markdown",
   "metadata": {},
   "source": [
    "## Get the source code\n",
    "We make sure to only inspect the real source code lines. Because we have the information about the blank lines and comments, we can filter these out very easily. We immediately aggregate the indentations with a `count` to get the number of source code lines as well as the summary of all indents for each `filepath` aka source code file. We also rename the columns of our new DataFrame accordingly."
   ]
  },
  {
   "cell_type": "code",
   "execution_count": 9,
   "metadata": {
    "ExecuteTime": {
     "end_time": "2018-05-09T21:06:33.943615Z",
     "start_time": "2018-05-09T21:06:09.362Z"
    }
   },
   "outputs": [
    {
     "data": {
      "text/html": [
       "<div>\n",
       "<style scoped>\n",
       "    .dataframe tbody tr th:only-of-type {\n",
       "        vertical-align: middle;\n",
       "    }\n",
       "\n",
       "    .dataframe tbody tr th {\n",
       "        vertical-align: top;\n",
       "    }\n",
       "\n",
       "    .dataframe thead th {\n",
       "        text-align: right;\n",
       "    }\n",
       "</style>\n",
       "<table border=\"1\" class=\"dataframe\">\n",
       "  <thead>\n",
       "    <tr style=\"text-align: right;\">\n",
       "      <th></th>\n",
       "      <th>lines</th>\n",
       "      <th>indents</th>\n",
       "    </tr>\n",
       "    <tr>\n",
       "      <th>filepath</th>\n",
       "      <th></th>\n",
       "      <th></th>\n",
       "    </tr>\n",
       "  </thead>\n",
       "  <tbody>\n",
       "    <tr>\n",
       "      <th>Documentation/scheduler/sched-pelt.c</th>\n",
       "      <td>39</td>\n",
       "      <td>58</td>\n",
       "    </tr>\n",
       "    <tr>\n",
       "      <th>Documentation/usb/usbdevfs-drop-permissions.c</th>\n",
       "      <td>26</td>\n",
       "      <td>38</td>\n",
       "    </tr>\n",
       "    <tr>\n",
       "      <th>arch/alpha/boot/bootp.c</th>\n",
       "      <td>95</td>\n",
       "      <td>201</td>\n",
       "    </tr>\n",
       "    <tr>\n",
       "      <th>arch/alpha/boot/bootpz.c</th>\n",
       "      <td>184</td>\n",
       "      <td>334</td>\n",
       "    </tr>\n",
       "    <tr>\n",
       "      <th>arch/alpha/boot/main.c</th>\n",
       "      <td>60</td>\n",
       "      <td>67</td>\n",
       "    </tr>\n",
       "  </tbody>\n",
       "</table>\n",
       "</div>"
      ],
      "text/plain": [
       "                                               lines  indents\n",
       "filepath                                                     \n",
       "Documentation/scheduler/sched-pelt.c              39       58\n",
       "Documentation/usb/usbdevfs-drop-permissions.c     26       38\n",
       "arch/alpha/boot/bootp.c                           95      201\n",
       "arch/alpha/boot/bootpz.c                         184      334\n",
       "arch/alpha/boot/main.c                            60       67"
      ]
     },
     "execution_count": 9,
     "metadata": {},
     "output_type": "execute_result"
    }
   ],
   "source": [
    "source_code_content = content[content['is_comment'] | content['is_empty']]\n",
    "source_code = source_code_content.groupby('filepath')['indent'].agg(['count', 'sum'])\n",
    "source_code.columns = ['lines', 'indents']\n",
    "source_code.head()"
   ]
  },
  {
   "cell_type": "markdown",
   "metadata": {},
   "source": [
    "To get a quick overview of the data we have now, we plot the results in a scatter diagram."
   ]
  },
  {
   "cell_type": "code",
   "execution_count": 10,
   "metadata": {
    "ExecuteTime": {
     "end_time": "2018-05-09T21:06:33.943615Z",
     "start_time": "2018-05-09T21:06:09.392Z"
    }
   },
   "outputs": [
    {
     "data": {
      "image/png": "[encoded data removed]",
      "text/plain": [
       "<matplotlib.figure.Figure at 0x14288a75b00>"
      ]
     },
     "metadata": {},
     "output_type": "display_data"
    }
   ],
   "source": [
    "%matplotlib inline\n",
    "source_code.plot.scatter('lines', 'indents', alpha=0.3);"
   ]
  },
  {
   "cell_type": "markdown",
   "metadata": {},
   "source": [
    "Alright, we have a very few outliners in both dimensions and a slight correlation between the lines of code and the indentation (who guessed it?). But for now, we leave the outliers where the are."
   ]
  },
  {
   "cell_type": "markdown",
   "metadata": {},
   "source": [
    "## Analyze complexity\n",
    "Let's build the ratio between the indentations and the lines of code to kind of normalize the data. This is the complexity measure that we are using further on."
   ]
  },
  {
   "cell_type": "code",
   "execution_count": 11,
   "metadata": {},
   "outputs": [
    {
     "data": {
      "text/html": [
       "<div>\n",
       "<style scoped>\n",
       "    .dataframe tbody tr th:only-of-type {\n",
       "        vertical-align: middle;\n",
       "    }\n",
       "\n",
       "    .dataframe tbody tr th {\n",
       "        vertical-align: top;\n",
       "    }\n",
       "\n",
       "    .dataframe thead th {\n",
       "        text-align: right;\n",
       "    }\n",
       "</style>\n",
       "<table border=\"1\" class=\"dataframe\">\n",
       "  <thead>\n",
       "    <tr style=\"text-align: right;\">\n",
       "      <th></th>\n",
       "      <th>lines</th>\n",
       "      <th>indents</th>\n",
       "      <th>complexity</th>\n",
       "    </tr>\n",
       "    <tr>\n",
       "      <th>filepath</th>\n",
       "      <th></th>\n",
       "      <th></th>\n",
       "      <th></th>\n",
       "    </tr>\n",
       "  </thead>\n",
       "  <tbody>\n",
       "    <tr>\n",
       "      <th>Documentation/scheduler/sched-pelt.c</th>\n",
       "      <td>39</td>\n",
       "      <td>58</td>\n",
       "      <td>1.487179</td>\n",
       "    </tr>\n",
       "  </tbody>\n",
       "</table>\n",
       "</div>"
      ],
      "text/plain": [
       "                                      lines  indents  complexity\n",
       "filepath                                                        \n",
       "Documentation/scheduler/sched-pelt.c     39       58    1.487179"
      ]
     },
     "execution_count": 11,
     "metadata": {},
     "output_type": "execute_result"
    }
   ],
   "source": [
    "source_code['complexity'] = source_code['indents'] / source_code['lines']\n",
    "source_code.head(1)"
   ]
  },
  {
   "cell_type": "markdown",
   "metadata": {},
   "source": [
    "So how complex is our code in general? Let's get also an overview of the distribution of the complexity. We use a histogram to visualize this."
   ]
  },
  {
   "cell_type": "code",
   "execution_count": 12,
   "metadata": {},
   "outputs": [
    {
     "data": {
      "text/plain": [
       "<matplotlib.axes._subplots.AxesSubplot at 0x14288aabd68>"
      ]
     },
     "execution_count": 12,
     "metadata": {},
     "output_type": "execute_result"
    },
    {
     "data": {
      "image/png": "[encoded data removed]",
      "text/plain": [
       "<matplotlib.figure.Figure at 0x14243b6ad68>"
      ]
     },
     "metadata": {},
     "output_type": "display_data"
    }
   ],
   "source": [
    "source_code['complexity'].hist(bins=50)"
   ]
  },
  {
   "cell_type": "markdown",
   "metadata": {},
   "source": [
    "Almost 30,000 files are probably okayish regarding our complexity measure. "
   ]
  },
  {
   "cell_type": "markdown",
   "metadata": {},
   "source": [
    "## Complexity per component\n",
    "Next, we execute an analysis per component to find out where the most complex areas are in the application. For this, we first sum up the metrics for each component. We can identify a component in the Linux kernel roughly by using the first parts of the file path."
   ]
  },
  {
   "cell_type": "code",
   "execution_count": 13,
   "metadata": {
    "ExecuteTime": {
     "end_time": "2018-05-09T21:06:33.943615Z",
     "start_time": "2018-05-09T21:06:09.378Z"
    }
   },
   "outputs": [
    {
     "data": {
      "text/html": [
       "<div>\n",
       "<style scoped>\n",
       "    .dataframe tbody tr th:only-of-type {\n",
       "        vertical-align: middle;\n",
       "    }\n",
       "\n",
       "    .dataframe tbody tr th {\n",
       "        vertical-align: top;\n",
       "    }\n",
       "\n",
       "    .dataframe thead th {\n",
       "        text-align: right;\n",
       "    }\n",
       "</style>\n",
       "<table border=\"1\" class=\"dataframe\">\n",
       "  <thead>\n",
       "    <tr style=\"text-align: right;\">\n",
       "      <th></th>\n",
       "      <th>lines</th>\n",
       "      <th>indents</th>\n",
       "      <th>complexity</th>\n",
       "      <th>component</th>\n",
       "    </tr>\n",
       "    <tr>\n",
       "      <th>filepath</th>\n",
       "      <th></th>\n",
       "      <th></th>\n",
       "      <th></th>\n",
       "      <th></th>\n",
       "    </tr>\n",
       "  </thead>\n",
       "  <tbody>\n",
       "    <tr>\n",
       "      <th>Documentation/scheduler/sched-pelt.c</th>\n",
       "      <td>39</td>\n",
       "      <td>58</td>\n",
       "      <td>1.487179</td>\n",
       "      <td>Documentation:scheduler</td>\n",
       "    </tr>\n",
       "  </tbody>\n",
       "</table>\n",
       "</div>"
      ],
      "text/plain": [
       "                                      lines  indents  complexity  \\\n",
       "filepath                                                           \n",
       "Documentation/scheduler/sched-pelt.c     39       58    1.487179   \n",
       "\n",
       "                                                    component  \n",
       "filepath                                                       \n",
       "Documentation/scheduler/sched-pelt.c  Documentation:scheduler  "
      ]
     },
     "execution_count": 13,
     "metadata": {},
     "output_type": "execute_result"
    }
   ],
   "source": [
    "source_code['component'] = source_code.index\\\n",
    "    .str.split(\"/\", n=2)\\\n",
    "    .str[:2].str.join(\":\")\n",
    "source_code.head(1)"
   ]
  },
  {
   "cell_type": "markdown",
   "metadata": {},
   "source": [
    "We then sum up all our measures per component."
   ]
  },
  {
   "cell_type": "code",
   "execution_count": 14,
   "metadata": {
    "ExecuteTime": {
     "end_time": "2018-05-09T21:06:33.943615Z",
     "start_time": "2018-05-09T21:06:09.386Z"
    }
   },
   "outputs": [
    {
     "data": {
      "text/html": [
       "<div>\n",
       "<style scoped>\n",
       "    .dataframe tbody tr th:only-of-type {\n",
       "        vertical-align: middle;\n",
       "    }\n",
       "\n",
       "    .dataframe tbody tr th {\n",
       "        vertical-align: top;\n",
       "    }\n",
       "\n",
       "    .dataframe thead th {\n",
       "        text-align: right;\n",
       "    }\n",
       "</style>\n",
       "<table border=\"1\" class=\"dataframe\">\n",
       "  <thead>\n",
       "    <tr style=\"text-align: right;\">\n",
       "      <th></th>\n",
       "      <th>lines</th>\n",
       "      <th>indents</th>\n",
       "      <th>complexity</th>\n",
       "    </tr>\n",
       "    <tr>\n",
       "      <th>component</th>\n",
       "      <th></th>\n",
       "      <th></th>\n",
       "      <th></th>\n",
       "    </tr>\n",
       "  </thead>\n",
       "  <tbody>\n",
       "    <tr>\n",
       "      <th>Documentation:scheduler</th>\n",
       "      <td>39</td>\n",
       "      <td>58</td>\n",
       "      <td>1.487179</td>\n",
       "    </tr>\n",
       "    <tr>\n",
       "      <th>Documentation:usb</th>\n",
       "      <td>26</td>\n",
       "      <td>38</td>\n",
       "      <td>1.461538</td>\n",
       "    </tr>\n",
       "    <tr>\n",
       "      <th>arch:alpha</th>\n",
       "      <td>16690</td>\n",
       "      <td>20468</td>\n",
       "      <td>189.999151</td>\n",
       "    </tr>\n",
       "    <tr>\n",
       "      <th>arch:arc</th>\n",
       "      <td>7836</td>\n",
       "      <td>10610</td>\n",
       "      <td>114.869605</td>\n",
       "    </tr>\n",
       "    <tr>\n",
       "      <th>arch:arm</th>\n",
       "      <td>125156</td>\n",
       "      <td>135452</td>\n",
       "      <td>1563.318216</td>\n",
       "    </tr>\n",
       "  </tbody>\n",
       "</table>\n",
       "</div>"
      ],
      "text/plain": [
       "                          lines  indents   complexity\n",
       "component                                            \n",
       "Documentation:scheduler      39       58     1.487179\n",
       "Documentation:usb            26       38     1.461538\n",
       "arch:alpha                16690    20468   189.999151\n",
       "arch:arc                   7836    10610   114.869605\n",
       "arch:arm                 125156   135452  1563.318216"
      ]
     },
     "execution_count": 14,
     "metadata": {},
     "output_type": "execute_result"
    }
   ],
   "source": [
    "measures_per_component = source_code.groupby('component').sum()\n",
    "measures_per_component.head()"
   ]
  },
  {
   "cell_type": "markdown",
   "metadata": {},
   "source": [
    "Last, we print out the TOP 10 most complex parts of the Linux kernel measured by our indents per lines ratio `complexity`."
   ]
  },
  {
   "cell_type": "code",
   "execution_count": 15,
   "metadata": {
    "ExecuteTime": {
     "end_time": "2018-05-09T21:06:33.959237Z",
     "start_time": "2018-05-09T21:06:09.410Z"
    }
   },
   "outputs": [
    {
     "data": {
      "text/plain": [
       "component\n",
       "drivers:net        3526.370717\n",
       "drivers:staging    2612.145956\n",
       "drivers:gpu        2504.533202\n",
       "drivers:media      1946.165103\n",
       "arch:arm           1563.318216\n",
       "include:linux      1549.853606\n",
       "arch:mips          1370.794157\n",
       "arch:powerpc       1168.349146\n",
       "arch:x86           1047.736624\n",
       "drivers:scsi        967.622213\n",
       "Name: complexity, dtype: float64"
      ]
     },
     "execution_count": 15,
     "metadata": {},
     "output_type": "execute_result"
    }
   ],
   "source": [
    "measures_per_component['complexity'].nlargest(10)"
   ]
  },
  {
   "cell_type": "markdown",
   "metadata": {},
   "source": [
    "# Visualization\n",
    "Finally, we plot our the complexity per component with a treemap. We use the Python visualization library `pygal` (http://www.pygal.org) which is very easy to use and just fits our use case perfectly. As size for the treemap's rectangles, we use the lines of code of the components. As color, we choose red and visualize with the help of the red color's alpha level (aka normalized complexity `comp_norm` between 0 and 1), how red a rectangle of the treemap should be. \n",
    "\n",
    "This gives us a  treemap with the following properties:\n",
    "* The bigger the component/rectangle, the more lines of code.\n",
    "* The redder you'll see a rectangle, the more complex is a component.\n",
    "\n",
    "We render the treemap as PNG image (to save space) and display it directly in the notebook."
   ]
  },
  {
   "cell_type": "code",
   "execution_count": 16,
   "metadata": {},
   "outputs": [
    {
     "data": {
      "image/png": "[encoded data removed]",
      "text/plain": [
       "<IPython.core.display.Image object>"
      ]
     },
     "execution_count": 16,
     "metadata": {},
     "output_type": "execute_result"
    }
   ],
   "source": [
    "import pygal\n",
    "from IPython.display import Image\n",
    "\n",
    "config = pygal.Config(show_legend=False)\n",
    "treemap = pygal.Treemap(config)\n",
    "\n",
    "max_comp = measures_per_component['complexity'].max()\n",
    "\n",
    "for row in measures_per_component.iterrows():\n",
    "    \n",
    "    filename = row[0]\n",
    "    entry = row[1]\n",
    "    comp_norm = entry['complexity'] / max_comp\n",
    "    \n",
    "    data = {}\n",
    "    data['value'] = entry['lines']\n",
    "    data['color'] = 'rgba(255,0,0,' + str(comp_norm) + ')'\n",
    "    treemap.add(filename, [data])\n",
    "    \n",
    "Image(treemap.render_to_png())"
   ]
  },
  {
   "cell_type": "markdown",
   "metadata": {},
   "source": [
    "There is also an [interactive treemap](https://feststelltaste.github.io/software-analytics/notebooks/vis/indentation_complexity/linux.html) where you can interact with the graphic. But beware: It's almost a megabyte big!"
   ]
  },
  {
   "cell_type": "markdown",
   "metadata": {},
   "source": [
    "# Conclusion\n",
    "In this blog post, I showed you how we can obtain an almost programming language agnostic measure for complexity by measuring the indentation of source code. We also spotted the TOP 10 most complex components and visualized the completed results as a treemap.\n",
    "\n",
    "All this was relatively easy and straightforward to do by using standard Data Science tooling. I hope you liked it and I would be happy, if you could provide some feedback in the comment section."
   ]
  }
 ],
 "metadata": {
  "hide_input": false,
  "kernelspec": {
   "display_name": "Python 3",
   "language": "python",
   "name": "python3"
  },
  "language_info": {
   "codemirror_mode": {
    "name": "ipython",
    "version": 3
   },
   "file_extension": ".py",
   "mimetype": "text/x-python",
   "name": "python",
   "nbconvert_exporter": "python",
   "pygments_lexer": "ipython3",
   "version": "3.6.4"
  }
 },
 "nbformat": 4,
 "nbformat_minor": 2
}
