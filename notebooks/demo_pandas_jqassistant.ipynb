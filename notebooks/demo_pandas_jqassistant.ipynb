{
 "cells": [
  {
   "cell_type": "markdown",
   "metadata": {},
   "source": [
    "# A simple example on how to use jQAssistant with Python Pandas\n",
    "I'm a huge fan of the software analysis framework jQAssistant (http://www.jqassistant.org). It's a great tool for scanning and validating various software artifacts (get a glimpse at https://buschmais.github.io/spring-petclinic/). But I also love Python Pandas (http://http://pandas.pydata.org) as a powerful tool in combination with Jupyter notebook (http://http://jupyter.org/) for reproducible Software Analytics (https://en.wikipedia.org/wiki/Software_analytics).\n",
    "\n",
    "Combining these tools is near at hand. So I've created a quick demonstration for \"first contact\" :-)"
   ]
  },
  {
   "cell_type": "markdown",
   "metadata": {},
   "source": [
    "## Step 0: Preliminary work\n",
    "For this quick example, I use the jQAssistant example project (https://www.github.com/buschmais/spring-petclinic/) based on the famous Spring PetClinic project. The authors of jQAssistant added a few validation rules and jQAssistant just works plain simple due to the clever Maven integration. If you want to do the same analysis, just clone the project and execute a <tt>mvn clean install</tt>. jQAssistant will then scan the software artifacts and store various data about their structure into the embedded graph database Neo4j (https://neo4j.com). After this command, start the neo4j database instance with <tt>mvn jqassistant:server</tt>. Optional: Check out http://localhost:7474 for directly accessing the Neo4j database."
   ]
  },
  {
   "cell_type": "markdown",
   "metadata": {},
   "source": [
    "## Step 1: The imports\n",
    "Nothing spectacular here. We use the py2neo-Neo4j-connector (http://www.http://py2neo.org) for accessing the underlying Neo4j database instance that jQAssistant brings along. Just install the connector with a <tt>pip install py2neo</tt>. We also import Pandas with a nice short name."
   ]
  },
  {
   "cell_type": "code",
   "execution_count": 1,
   "metadata": {
    "collapsed": true
   },
   "outputs": [],
   "source": [
    "import py2neo\n",
    "import pandas as pd"
   ]
  },
  {
   "cell_type": "markdown",
   "metadata": {},
   "source": [
    "## Step 2: Connecting to jQAssistant's embedded neo4j database\n",
    "The embedded Neo4j installation comes with the standard configuration for port, username, password and an open HTTP port for accessing the database via web services. So there is no need to configure py2neo's connection at all. We just create a Graph object for later usage."
   ]
  },
  {
   "cell_type": "code",
   "execution_count": 2,
   "metadata": {
    "collapsed": false
   },
   "outputs": [],
   "source": [
    "graph = py2neo.Graph()"
   ]
  },
  {
   "cell_type": "markdown",
   "metadata": {},
   "source": [
    "## Step 3: Executing Cypher queries\n",
    "For this demonstration, we simply list all the methods that are stored in our database (and marked by the label \"Method\"). As an example analysis, we would like to know if our application consists just of getters and setters or some real business methods, too. Our query is written in Neo4j's graph query language Cypher (https://neo4j.com/developer/cypher-query-language/) and returns some values (only the first three are displayed)."
   ]
  },
  {
   "cell_type": "code",
   "execution_count": 3,
   "metadata": {
    "collapsed": false
   },
   "outputs": [
    {
     "data": {
      "text/plain": [
       "[{'a': (d79c8d0:Constructor:Java:Member:Method {cyclomaticComplexity:1,name:\"<init>\",signature:\"void <init>()\",visibility:\"public\"})},\n",
       " {'a': (aa25117:Constructor:Java:Member:Method {signature:\"void <init>()\"})},\n",
       " {'a': (df9b612:Java:Member:Method {cyclomaticComplexity:1,name:\"getId\",signature:\"java.lang.Integer getId()\",visibility:\"public\"})}]"
      ]
     },
     "execution_count": 3,
     "metadata": {},
     "output_type": "execute_result"
    }
   ],
   "source": [
    "query = \"MATCH (a:Method) RETURN a\"\n",
    "result = graph.data(query)\n",
    "result[0:3]"
   ]
  },
  {
   "cell_type": "markdown",
   "metadata": {},
   "source": [
    "## Step 4: Creating a Pandas DataFrame\n",
    "For the following analysis, we iterate through the dictionary that we'd received from the Neo4j database. We don't need the <tt>\"a\"</tt> keys that were returned, but only the corresponding values. This is accomplished via Python's list comprehension. We also avoid getting some Nan values in the 'name' column, so we simply drop all empty entries there. We end up with a nice, fully filled DataFrame (only the five rows are displayed)."
   ]
  },
  {
   "cell_type": "code",
   "execution_count": 4,
   "metadata": {
    "collapsed": false
   },
   "outputs": [
    {
     "data": {
      "text/html": [
       "<div>\n",
       "<table border=\"1\" class=\"dataframe\">\n",
       "  <thead>\n",
       "    <tr style=\"text-align: right;\">\n",
       "      <th></th>\n",
       "      <th>abstract</th>\n",
       "      <th>cyclomaticComplexity</th>\n",
       "      <th>name</th>\n",
       "      <th>signature</th>\n",
       "      <th>static</th>\n",
       "      <th>synthetic</th>\n",
       "      <th>visibility</th>\n",
       "    </tr>\n",
       "  </thead>\n",
       "  <tbody>\n",
       "    <tr>\n",
       "      <th>0</th>\n",
       "      <td>NaN</td>\n",
       "      <td>1.0</td>\n",
       "      <td>&lt;init&gt;</td>\n",
       "      <td>void &lt;init&gt;()</td>\n",
       "      <td>NaN</td>\n",
       "      <td>NaN</td>\n",
       "      <td>public</td>\n",
       "    </tr>\n",
       "    <tr>\n",
       "      <th>2</th>\n",
       "      <td>NaN</td>\n",
       "      <td>1.0</td>\n",
       "      <td>getId</td>\n",
       "      <td>java.lang.Integer getId()</td>\n",
       "      <td>NaN</td>\n",
       "      <td>NaN</td>\n",
       "      <td>public</td>\n",
       "    </tr>\n",
       "    <tr>\n",
       "      <th>3</th>\n",
       "      <td>NaN</td>\n",
       "      <td>1.0</td>\n",
       "      <td>setId</td>\n",
       "      <td>void setId(java.lang.Integer)</td>\n",
       "      <td>NaN</td>\n",
       "      <td>NaN</td>\n",
       "      <td>public</td>\n",
       "    </tr>\n",
       "    <tr>\n",
       "      <th>4</th>\n",
       "      <td>NaN</td>\n",
       "      <td>3.0</td>\n",
       "      <td>isNew</td>\n",
       "      <td>boolean isNew()</td>\n",
       "      <td>NaN</td>\n",
       "      <td>NaN</td>\n",
       "      <td>public</td>\n",
       "    </tr>\n",
       "    <tr>\n",
       "      <th>9</th>\n",
       "      <td>NaN</td>\n",
       "      <td>1.0</td>\n",
       "      <td>addPet</td>\n",
       "      <td>void addPet(org.springframework.samples.petcli...</td>\n",
       "      <td>NaN</td>\n",
       "      <td>NaN</td>\n",
       "      <td>public</td>\n",
       "    </tr>\n",
       "  </tbody>\n",
       "</table>\n",
       "</div>"
      ],
      "text/plain": [
       "  abstract  cyclomaticComplexity    name  \\\n",
       "0      NaN                   1.0  <init>   \n",
       "2      NaN                   1.0   getId   \n",
       "3      NaN                   1.0   setId   \n",
       "4      NaN                   3.0   isNew   \n",
       "9      NaN                   1.0  addPet   \n",
       "\n",
       "                                           signature static synthetic  \\\n",
       "0                                      void <init>()    NaN       NaN   \n",
       "2                          java.lang.Integer getId()    NaN       NaN   \n",
       "3                      void setId(java.lang.Integer)    NaN       NaN   \n",
       "4                                    boolean isNew()    NaN       NaN   \n",
       "9  void addPet(org.springframework.samples.petcli...    NaN       NaN   \n",
       "\n",
       "  visibility  \n",
       "0     public  \n",
       "2     public  \n",
       "3     public  \n",
       "4     public  \n",
       "9     public  "
      ]
     },
     "execution_count": 4,
     "metadata": {},
     "output_type": "execute_result"
    }
   ],
   "source": [
    "df = pd.DataFrame.from_dict([data['a'] for data in result]).dropna(subset=['name'])\n",
    "df.head()"
   ]
  },
  {
   "cell_type": "markdown",
   "metadata": {},
   "source": [
    "## Step 5: The analysis\n",
    "Next we simply work on the <tt>\"name\"</tt> column to retrieve some information we need for our analysis. In the code, we document our assumptions / heuristics for retrieving the getters and setters (just a subset is displayed for layout reasons)."
   ]
  },
  {
   "cell_type": "code",
   "execution_count": 5,
   "metadata": {
    "collapsed": false
   },
   "outputs": [
    {
     "data": {
      "text/html": [
       "<div>\n",
       "<table border=\"1\" class=\"dataframe\">\n",
       "  <thead>\n",
       "    <tr style=\"text-align: right;\">\n",
       "      <th></th>\n",
       "      <th>name</th>\n",
       "      <th>signature</th>\n",
       "      <th>visibility</th>\n",
       "      <th>method_type</th>\n",
       "    </tr>\n",
       "  </thead>\n",
       "  <tbody>\n",
       "    <tr>\n",
       "      <th>47</th>\n",
       "      <td>setDescription</td>\n",
       "      <td>void setDescription(java.lang.String)</td>\n",
       "      <td>public</td>\n",
       "      <td>Setter</td>\n",
       "    </tr>\n",
       "    <tr>\n",
       "      <th>48</th>\n",
       "      <td>getPet</td>\n",
       "      <td>org.springframework.samples.petclinic.model.Pe...</td>\n",
       "      <td>public</td>\n",
       "      <td>Getter</td>\n",
       "    </tr>\n",
       "    <tr>\n",
       "      <th>51</th>\n",
       "      <td>onStartup</td>\n",
       "      <td>void onStartup(javax.servlet.ServletContext)</td>\n",
       "      <td>public</td>\n",
       "      <td>Business Methods</td>\n",
       "    </tr>\n",
       "    <tr>\n",
       "      <th>53</th>\n",
       "      <td>registerDandelionServlet</td>\n",
       "      <td>void registerDandelionServlet(javax.servlet.Se...</td>\n",
       "      <td>private</td>\n",
       "      <td>Business Methods</td>\n",
       "    </tr>\n",
       "    <tr>\n",
       "      <th>54</th>\n",
       "      <td>createRootApplicationContext</td>\n",
       "      <td>org.springframework.web.context.WebApplication...</td>\n",
       "      <td>protected</td>\n",
       "      <td>Business Methods</td>\n",
       "    </tr>\n",
       "    <tr>\n",
       "      <th>59</th>\n",
       "      <td>createServletApplicationContext</td>\n",
       "      <td>org.springframework.web.context.WebApplication...</td>\n",
       "      <td>protected</td>\n",
       "      <td>Business Methods</td>\n",
       "    </tr>\n",
       "    <tr>\n",
       "      <th>61</th>\n",
       "      <td>getServletMappings</td>\n",
       "      <td>java.lang.String[] getServletMappings()</td>\n",
       "      <td>protected</td>\n",
       "      <td>Getter</td>\n",
       "    </tr>\n",
       "    <tr>\n",
       "      <th>62</th>\n",
       "      <td>getServletFilters</td>\n",
       "      <td>javax.servlet.Filter[] getServletFilters()</td>\n",
       "      <td>protected</td>\n",
       "      <td>Getter</td>\n",
       "    </tr>\n",
       "    <tr>\n",
       "      <th>66</th>\n",
       "      <td>registerServletFilter</td>\n",
       "      <td>javax.servlet.FilterRegistration$Dynamic regis...</td>\n",
       "      <td>protected</td>\n",
       "      <td>Business Methods</td>\n",
       "    </tr>\n",
       "    <tr>\n",
       "      <th>75</th>\n",
       "      <td>loadOwnersPetsAndVisits</td>\n",
       "      <td>void loadOwnersPetsAndVisits(java.util.List)</td>\n",
       "      <td>private</td>\n",
       "      <td>Business Methods</td>\n",
       "    </tr>\n",
       "  </tbody>\n",
       "</table>\n",
       "</div>"
      ],
      "text/plain": [
       "                               name  \\\n",
       "47                   setDescription   \n",
       "48                           getPet   \n",
       "51                        onStartup   \n",
       "53         registerDandelionServlet   \n",
       "54     createRootApplicationContext   \n",
       "59  createServletApplicationContext   \n",
       "61               getServletMappings   \n",
       "62                getServletFilters   \n",
       "66            registerServletFilter   \n",
       "75          loadOwnersPetsAndVisits   \n",
       "\n",
       "                                            signature visibility  \\\n",
       "47              void setDescription(java.lang.String)     public   \n",
       "48  org.springframework.samples.petclinic.model.Pe...     public   \n",
       "51       void onStartup(javax.servlet.ServletContext)     public   \n",
       "53  void registerDandelionServlet(javax.servlet.Se...    private   \n",
       "54  org.springframework.web.context.WebApplication...  protected   \n",
       "59  org.springframework.web.context.WebApplication...  protected   \n",
       "61            java.lang.String[] getServletMappings()  protected   \n",
       "62         javax.servlet.Filter[] getServletFilters()  protected   \n",
       "66  javax.servlet.FilterRegistration$Dynamic regis...  protected   \n",
       "75       void loadOwnersPetsAndVisits(java.util.List)    private   \n",
       "\n",
       "         method_type  \n",
       "47            Setter  \n",
       "48            Getter  \n",
       "51  Business Methods  \n",
       "53  Business Methods  \n",
       "54  Business Methods  \n",
       "59  Business Methods  \n",
       "61            Getter  \n",
       "62            Getter  \n",
       "66  Business Methods  \n",
       "75  Business Methods  "
      ]
     },
     "execution_count": 5,
     "metadata": {},
     "output_type": "execute_result"
    }
   ],
   "source": [
    "# filter out all the constructor \"methods\"\n",
    "df = df[df['name'] != \"<init>\"]\n",
    "# assumption 1: getter start with \"get\"\n",
    "df.loc[df['name'].str.startswith(\"get\"), \"method_type\"] = \"Getter\"\n",
    "# assumption 2: \"is\" is just the same as a getter, just for boolean values\n",
    "df.loc[df['name'].str.startswith(\"is\"), \"method_type\"] = \"Getter\"\n",
    "# assumption 3: setter start with \"set\"\n",
    "df.loc[df['name'].str.startswith(\"set\"), \"method_type\"] = \"Setter\"\n",
    "# assumption 4: all other methods are \"Business Methods\"\n",
    "df['method_type'] = df['method_type'].fillna('Business Methods')\n",
    "df[['name', 'signature', 'visibility', 'method_type']][20:30]"
   ]
  },
  {
   "cell_type": "markdown",
   "metadata": {},
   "source": [
    "## Step 6: Preparing the output\n",
    "Now we group the data by their method type. We simply count the occurence of each entry and take only the 'name' column for further analysis."
   ]
  },
  {
   "cell_type": "code",
   "execution_count": 6,
   "metadata": {
    "collapsed": false
   },
   "outputs": [
    {
     "data": {
      "text/plain": [
       "method_type\n",
       "Business Methods    146\n",
       "Getter               33\n",
       "Setter               27\n",
       "Name: name, dtype: int64"
      ]
     },
     "execution_count": 6,
     "metadata": {},
     "output_type": "execute_result"
    }
   ],
   "source": [
    "grouped_data = df.groupby('method_type').count()['name']\n",
    "grouped_data"
   ]
  },
  {
   "cell_type": "markdown",
   "metadata": {},
   "source": [
    "## Step 7: Visualization\n",
    "Until now, we could have done most of the work directly in the Neo4j database. But what we want is to create a nice little diagram to display our results. We use matplotlib (http://matplotlib.org) that is integrated with Pandas' DataFrame in a very good way."
   ]
  },
  {
   "cell_type": "code",
   "execution_count": 7,
   "metadata": {
    "collapsed": false
   },
   "outputs": [],
   "source": [
    "import matplotlib.pyplot as plt\n",
    "# some configuration for displaying nice diagrams directly in the notebook\n",
    "%matplotlib inline\n",
    "plt.style.use('fivethirtyeight')\n",
    "# apply additional style for getting a blank background\n",
    "plt.style.use('seaborn-white')"
   ]
  },
  {
   "cell_type": "code",
   "execution_count": 8,
   "metadata": {
    "collapsed": false
   },
   "outputs": [
    {
     "data": {
      "text/plain": [
       "<matplotlib.text.Text at 0x2629a7adb70>"
      ]
     },
     "execution_count": 8,
     "metadata": {},
     "output_type": "execute_result"
    },
    {
     "data": {
      "image/png": "[encoded data removed]",
      "text/plain": [
       "<matplotlib.figure.Figure at 0x2629a726630>"
      ]
     },
     "metadata": {},
     "output_type": "display_data"
    }
   ],
   "source": [
    "# plot a nice business people compatible pie chart\n",
    "ax = grouped_data.plot(kind='pie', figsize=(5,5), title=\"Business methods or just Getters or Setters?\")\n",
    "# get rid of the distracting label for the y-axis\n",
    "ax.set_ylabel(\"\")"
   ]
  },
  {
   "cell_type": "markdown",
   "metadata": {},
   "source": [
    "## Summary\n",
    "This notebook showed a quick demonstration on how to use jQAssistant with Python Pandas within a Jupyter notebook. Granted, we could have done most of your analysis directly with Cypher, but that isn't my main point. The main advantage that comes from the approach here is, that we can do reproducible analysis of software structures based on the notebook approach. Additionally, with Pandas, it's possible to integrate different kind of data sources (relational databases, logfiles, XML files etc.).\n",
    "\n",
    "More to come in the future, stay tuned!"
   ]
  }
 ],
 "metadata": {
  "anaconda-cloud": {},
  "kernelspec": {
   "display_name": "Python [Root]",
   "language": "python",
   "name": "Python [Root]"
  },
  "language_info": {
   "codemirror_mode": {
    "name": "ipython",
    "version": 3
   },
   "file_extension": ".py",
   "mimetype": "text/x-python",
   "name": "python",
   "nbconvert_exporter": "python",
   "pygments_lexer": "ipython3",
   "version": "3.5.2"
  }
 },
 "nbformat": 4,
 "nbformat_minor": 0
}
