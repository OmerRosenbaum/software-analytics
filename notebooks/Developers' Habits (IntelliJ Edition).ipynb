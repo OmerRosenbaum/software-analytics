{
 "cells": [
  {
   "cell_type": "markdown",
   "metadata": {
    "toc": true
   },
   "source": [
    "<h1>Table of Contents<span class=\"tocSkip\"></span></h1>\n",
    "<div class=\"toc\" style=\"margin-top: 1em;\"><ul class=\"toc-item\"><li><span><a href=\"#Introduction\" data-toc-modified-id=\"Introduction-1\"><span class=\"toc-item-num\">1&nbsp;&nbsp;</span>Introduction</a></span></li><li><span><a href=\"#Gaining-the-data\" data-toc-modified-id=\"Gaining-the-data-2\"><span class=\"toc-item-num\">2&nbsp;&nbsp;</span>Gaining the data</a></span></li><li><span><a href=\"#Wrangling-the-raw-data\" data-toc-modified-id=\"Wrangling-the-raw-data-3\"><span class=\"toc-item-num\">3&nbsp;&nbsp;</span>Wrangling the raw data</a></span></li><li><span><a href=\"#Refining-the-dataset\" data-toc-modified-id=\"Refining-the-dataset-4\"><span class=\"toc-item-num\">4&nbsp;&nbsp;</span>Refining the dataset</a></span><ul class=\"toc-item\"><li><span><a href=\"#Adding-weekdays\" data-toc-modified-id=\"Adding-weekdays-4.1\"><span class=\"toc-item-num\">4.1&nbsp;&nbsp;</span>Adding weekdays</a></span></li><li><span><a href=\"#Adding-working-hours\" data-toc-modified-id=\"Adding-working-hours-4.2\"><span class=\"toc-item-num\">4.2&nbsp;&nbsp;</span>Adding working hours</a></span></li></ul></li><li><span><a href=\"#Analyzing-the-data\" data-toc-modified-id=\"Analyzing-the-data-5\"><span class=\"toc-item-num\">5&nbsp;&nbsp;</span>Analyzing the data</a></span><ul class=\"toc-item\"><li><span><a href=\"#Developers'-timezones\" data-toc-modified-id=\"Developers'-timezones-5.1\"><span class=\"toc-item-num\">5.1&nbsp;&nbsp;</span>Developers' timezones</a></span></li><li><span><a href=\"#Weekdays-with-the-most-commits\" data-toc-modified-id=\"Weekdays-with-the-most-commits-5.2\"><span class=\"toc-item-num\">5.2&nbsp;&nbsp;</span>Weekdays with the most commits</a></span></li><li><span><a href=\"#Working-behavior-on-weekends\" data-toc-modified-id=\"Working-behavior-on-weekends-5.3\"><span class=\"toc-item-num\">5.3&nbsp;&nbsp;</span>Working behavior on weekends</a></span></li><li><span><a href=\"#Usual-working-hours\" data-toc-modified-id=\"Usual-working-hours-5.4\"><span class=\"toc-item-num\">5.4&nbsp;&nbsp;</span>Usual working hours</a></span></li><li><span><a href=\"#Signs-of-overtime\" data-toc-modified-id=\"Signs-of-overtime-5.5\"><span class=\"toc-item-num\">5.5&nbsp;&nbsp;</span>Signs of overtime</a></span></li></ul></li><li><span><a href=\"#Closing-remarks\" data-toc-modified-id=\"Closing-remarks-6\"><span class=\"toc-item-num\">6&nbsp;&nbsp;</span>Closing remarks</a></span></li></ul></div>"
   ]
  },
  {
   "cell_type": "markdown",
   "metadata": {},
   "source": [
    "# Introduction\n",
    "In this blog post / notebook, we want to take a look at how much information you can extract from a simple [Git log](https://git-scm.com/docs/git-log) output. We want to know\n",
    "\n",
    "* where the developers come from\n",
    "* on which weekdays the developers don't work\n",
    "* which developers are working on weekends\n",
    "* what the normal working hours are and\n",
    "* if the is any sight of overtime periods.\n",
    "\n",
    "We use [Pandas](https://pandas.pydata.org/) as data analysis toolkit to accomplish these tasks for the big open source project [IntelliJ](https://github.com/JetBrains/intellij-community)."
   ]
  },
  {
   "cell_type": "markdown",
   "metadata": {},
   "source": [
    "# Gaining the data\n",
    "\n",
    "To get the necessary data, we clone the Git repository with\n",
    "\n",
    "```\n",
    "git clone https://github.com/JetBrains/intellij-community.git\n",
    "```\n",
    "\n",
    "and create a latin-1 encoded log file of the complete commit history with\n",
    "\n",
    "```\n",
    "git log --date=raw --encoding=LATIN-1 --pretty=\"%ad%x09%aN%x09%ae\" > git_timestamp_author_email.log\n",
    "```\n",
    "\n",
    "on the command line.\n",
    "\n",
    "\n",
    "This gives us a nice file with the following content:\n",
    "\n",
    "```\n",
    "1514469569 +0300\tKirill Kirichenko\tkirill.kirichenko@jetbrains.com\n",
    "1514469402 +0100\tAnna Kozlova\tanna.kozlova@jetbrains.com\n",
    "1514469119 +0100\tVladimir Krivosheev\tvladimir.krivosheev@jetbrains.com\n",
    "1514468066 +0100\tVladimir Krivosheev\tvladimir.krivosheev@jetbrains.com\n",
    "1514462548 +0100\tVladimir Krivosheev\tvladimir.krivosheev@jetbrains.com\n",
    "...\n",
    "```\n",
    "\n",
    "It includes the UNIX timestamp (in seconds since epoch), a whitespace, the time zone (where the authors live in), a tab separator, the name of the author, a tab and the email address of the author.\n",
    "\n",
    "Note:\n",
    "* We use the `--date=raw` option that returns the UNIX timestamp in the UTC time zone and the author's time zone. We use the UNIX timestamp because Pandas can parse that data format very efficient. We need also the time zone because we want to know when each committer works at their local time.\n",
    "* We've created and implicitly used a `.mailmap` file for this task to map multiple author names and email addresses to the same person. You can find this file in this [GitHub Gist](https://gist.github.com/feststelltaste/c341ca49c37e143b22bb9adeb84bf89e). To use it, the file has to be put into the root of the Git repository before the execution of the `git log` command."
   ]
  },
  {
   "cell_type": "markdown",
   "metadata": {},
   "source": [
    "# Wrangling the raw data"
   ]
  },
  {
   "cell_type": "markdown",
   "metadata": {},
   "source": [
    "We import the data by using Pandas' `read_csv` function and the appropriate parameters."
   ]
  },
  {
   "cell_type": "code",
   "execution_count": 1,
   "metadata": {},
   "outputs": [
    {
     "data": {
      "text/html": [
       "<div>\n",
       "<style>\n",
       "    .dataframe thead tr:only-child th {\n",
       "        text-align: right;\n",
       "    }\n",
       "\n",
       "    .dataframe thead th {\n",
       "        text-align: left;\n",
       "    }\n",
       "\n",
       "    .dataframe tbody tr th {\n",
       "        vertical-align: top;\n",
       "    }\n",
       "</style>\n",
       "<table border=\"1\" class=\"dataframe\">\n",
       "  <thead>\n",
       "    <tr style=\"text-align: right;\">\n",
       "      <th></th>\n",
       "      <th>unix_timestamp</th>\n",
       "      <th>author</th>\n",
       "      <th>email</th>\n",
       "    </tr>\n",
       "  </thead>\n",
       "  <tbody>\n",
       "    <tr>\n",
       "      <th>0</th>\n",
       "      <td>1514469569 +0300</td>\n",
       "      <td>Kirill Kirichenko</td>\n",
       "      <td>kirill.kirichenko@jetbrains.com</td>\n",
       "    </tr>\n",
       "    <tr>\n",
       "      <th>1</th>\n",
       "      <td>1514469402 +0100</td>\n",
       "      <td>Anna Kozlova</td>\n",
       "      <td>anna.kozlova@jetbrains.com</td>\n",
       "    </tr>\n",
       "    <tr>\n",
       "      <th>2</th>\n",
       "      <td>1514469119 +0100</td>\n",
       "      <td>Vladimir Krivosheev</td>\n",
       "      <td>vladimir.krivosheev@jetbrains.com</td>\n",
       "    </tr>\n",
       "    <tr>\n",
       "      <th>3</th>\n",
       "      <td>1514468066 +0100</td>\n",
       "      <td>Vladimir Krivosheev</td>\n",
       "      <td>vladimir.krivosheev@jetbrains.com</td>\n",
       "    </tr>\n",
       "    <tr>\n",
       "      <th>4</th>\n",
       "      <td>1514462548 +0100</td>\n",
       "      <td>Vladimir Krivosheev</td>\n",
       "      <td>vladimir.krivosheev@jetbrains.com</td>\n",
       "    </tr>\n",
       "  </tbody>\n",
       "</table>\n",
       "</div>"
      ],
      "text/plain": [
       "     unix_timestamp               author                              email\n",
       "0  1514469569 +0300    Kirill Kirichenko    kirill.kirichenko@jetbrains.com\n",
       "1  1514469402 +0100         Anna Kozlova         anna.kozlova@jetbrains.com\n",
       "2  1514469119 +0100  Vladimir Krivosheev  vladimir.krivosheev@jetbrains.com\n",
       "3  1514468066 +0100  Vladimir Krivosheev  vladimir.krivosheev@jetbrains.com\n",
       "4  1514462548 +0100  Vladimir Krivosheev  vladimir.krivosheev@jetbrains.com"
      ]
     },
     "execution_count": 1,
     "metadata": {},
     "output_type": "execute_result"
    }
   ],
   "source": [
    "import pandas as pd\n",
    "\n",
    "raw = pd.read_csv(\n",
    "    r'../../intellij-community/git_timestamp_author_email.log',\n",
    "    sep=\"\\t\",\n",
    "    encoding=\"latin-1\",\n",
    "    header=None,\n",
    "    names=['unix_timestamp', 'author', 'email'])\n",
    "\n",
    "raw.head()"
   ]
  },
  {
   "cell_type": "markdown",
   "metadata": {},
   "source": [
    "We need to split the information in `unix_timestamp` into the separate columns `timestamp` and `timezone`."
   ]
  },
  {
   "cell_type": "code",
   "execution_count": 2,
   "metadata": {},
   "outputs": [
    {
     "data": {
      "text/html": [
       "<div>\n",
       "<style>\n",
       "    .dataframe thead tr:only-child th {\n",
       "        text-align: right;\n",
       "    }\n",
       "\n",
       "    .dataframe thead th {\n",
       "        text-align: left;\n",
       "    }\n",
       "\n",
       "    .dataframe tbody tr th {\n",
       "        vertical-align: top;\n",
       "    }\n",
       "</style>\n",
       "<table border=\"1\" class=\"dataframe\">\n",
       "  <thead>\n",
       "    <tr style=\"text-align: right;\">\n",
       "      <th></th>\n",
       "      <th>unix_timestamp</th>\n",
       "      <th>author</th>\n",
       "      <th>email</th>\n",
       "      <th>timestamp</th>\n",
       "      <th>timezone</th>\n",
       "    </tr>\n",
       "  </thead>\n",
       "  <tbody>\n",
       "    <tr>\n",
       "      <th>0</th>\n",
       "      <td>1514469569 +0300</td>\n",
       "      <td>Kirill Kirichenko</td>\n",
       "      <td>kirill.kirichenko@jetbrains.com</td>\n",
       "      <td>1514469569</td>\n",
       "      <td>+0300</td>\n",
       "    </tr>\n",
       "    <tr>\n",
       "      <th>1</th>\n",
       "      <td>1514469402 +0100</td>\n",
       "      <td>Anna Kozlova</td>\n",
       "      <td>anna.kozlova@jetbrains.com</td>\n",
       "      <td>1514469402</td>\n",
       "      <td>+0100</td>\n",
       "    </tr>\n",
       "    <tr>\n",
       "      <th>2</th>\n",
       "      <td>1514469119 +0100</td>\n",
       "      <td>Vladimir Krivosheev</td>\n",
       "      <td>vladimir.krivosheev@jetbrains.com</td>\n",
       "      <td>1514469119</td>\n",
       "      <td>+0100</td>\n",
       "    </tr>\n",
       "    <tr>\n",
       "      <th>3</th>\n",
       "      <td>1514468066 +0100</td>\n",
       "      <td>Vladimir Krivosheev</td>\n",
       "      <td>vladimir.krivosheev@jetbrains.com</td>\n",
       "      <td>1514468066</td>\n",
       "      <td>+0100</td>\n",
       "    </tr>\n",
       "    <tr>\n",
       "      <th>4</th>\n",
       "      <td>1514462548 +0100</td>\n",
       "      <td>Vladimir Krivosheev</td>\n",
       "      <td>vladimir.krivosheev@jetbrains.com</td>\n",
       "      <td>1514462548</td>\n",
       "      <td>+0100</td>\n",
       "    </tr>\n",
       "  </tbody>\n",
       "</table>\n",
       "</div>"
      ],
      "text/plain": [
       "     unix_timestamp               author                              email  \\\n",
       "0  1514469569 +0300    Kirill Kirichenko    kirill.kirichenko@jetbrains.com   \n",
       "1  1514469402 +0100         Anna Kozlova         anna.kozlova@jetbrains.com   \n",
       "2  1514469119 +0100  Vladimir Krivosheev  vladimir.krivosheev@jetbrains.com   \n",
       "3  1514468066 +0100  Vladimir Krivosheev  vladimir.krivosheev@jetbrains.com   \n",
       "4  1514462548 +0100  Vladimir Krivosheev  vladimir.krivosheev@jetbrains.com   \n",
       "\n",
       "    timestamp timezone  \n",
       "0  1514469569    +0300  \n",
       "1  1514469402    +0100  \n",
       "2  1514469119    +0100  \n",
       "3  1514468066    +0100  \n",
       "4  1514462548    +0100  "
      ]
     },
     "execution_count": 2,
     "metadata": {},
     "output_type": "execute_result"
    }
   ],
   "source": [
    "raw[['timestamp', 'timezone']] = raw['unix_timestamp'].str.split(\" \", expand=True)\n",
    "raw.head()"
   ]
  },
  {
   "cell_type": "markdown",
   "metadata": {},
   "source": [
    "We also create a new numeric column for the timezone offset for later calculations."
   ]
  },
  {
   "cell_type": "code",
   "execution_count": 3,
   "metadata": {},
   "outputs": [
    {
     "data": {
      "text/html": [
       "<div>\n",
       "<style>\n",
       "    .dataframe thead tr:only-child th {\n",
       "        text-align: right;\n",
       "    }\n",
       "\n",
       "    .dataframe thead th {\n",
       "        text-align: left;\n",
       "    }\n",
       "\n",
       "    .dataframe tbody tr th {\n",
       "        vertical-align: top;\n",
       "    }\n",
       "</style>\n",
       "<table border=\"1\" class=\"dataframe\">\n",
       "  <thead>\n",
       "    <tr style=\"text-align: right;\">\n",
       "      <th></th>\n",
       "      <th>unix_timestamp</th>\n",
       "      <th>author</th>\n",
       "      <th>email</th>\n",
       "      <th>timestamp</th>\n",
       "      <th>timezone</th>\n",
       "      <th>timezone_offset</th>\n",
       "    </tr>\n",
       "  </thead>\n",
       "  <tbody>\n",
       "    <tr>\n",
       "      <th>0</th>\n",
       "      <td>1514469569 +0300</td>\n",
       "      <td>Kirill Kirichenko</td>\n",
       "      <td>kirill.kirichenko@jetbrains.com</td>\n",
       "      <td>1514469569</td>\n",
       "      <td>+0300</td>\n",
       "      <td>3.0</td>\n",
       "    </tr>\n",
       "    <tr>\n",
       "      <th>1</th>\n",
       "      <td>1514469402 +0100</td>\n",
       "      <td>Anna Kozlova</td>\n",
       "      <td>anna.kozlova@jetbrains.com</td>\n",
       "      <td>1514469402</td>\n",
       "      <td>+0100</td>\n",
       "      <td>1.0</td>\n",
       "    </tr>\n",
       "    <tr>\n",
       "      <th>2</th>\n",
       "      <td>1514469119 +0100</td>\n",
       "      <td>Vladimir Krivosheev</td>\n",
       "      <td>vladimir.krivosheev@jetbrains.com</td>\n",
       "      <td>1514469119</td>\n",
       "      <td>+0100</td>\n",
       "      <td>1.0</td>\n",
       "    </tr>\n",
       "    <tr>\n",
       "      <th>3</th>\n",
       "      <td>1514468066 +0100</td>\n",
       "      <td>Vladimir Krivosheev</td>\n",
       "      <td>vladimir.krivosheev@jetbrains.com</td>\n",
       "      <td>1514468066</td>\n",
       "      <td>+0100</td>\n",
       "      <td>1.0</td>\n",
       "    </tr>\n",
       "    <tr>\n",
       "      <th>4</th>\n",
       "      <td>1514462548 +0100</td>\n",
       "      <td>Vladimir Krivosheev</td>\n",
       "      <td>vladimir.krivosheev@jetbrains.com</td>\n",
       "      <td>1514462548</td>\n",
       "      <td>+0100</td>\n",
       "      <td>1.0</td>\n",
       "    </tr>\n",
       "  </tbody>\n",
       "</table>\n",
       "</div>"
      ],
      "text/plain": [
       "     unix_timestamp               author                              email  \\\n",
       "0  1514469569 +0300    Kirill Kirichenko    kirill.kirichenko@jetbrains.com   \n",
       "1  1514469402 +0100         Anna Kozlova         anna.kozlova@jetbrains.com   \n",
       "2  1514469119 +0100  Vladimir Krivosheev  vladimir.krivosheev@jetbrains.com   \n",
       "3  1514468066 +0100  Vladimir Krivosheev  vladimir.krivosheev@jetbrains.com   \n",
       "4  1514462548 +0100  Vladimir Krivosheev  vladimir.krivosheev@jetbrains.com   \n",
       "\n",
       "    timestamp timezone  timezone_offset  \n",
       "0  1514469569    +0300              3.0  \n",
       "1  1514469402    +0100              1.0  \n",
       "2  1514469119    +0100              1.0  \n",
       "3  1514468066    +0100              1.0  \n",
       "4  1514462548    +0100              1.0  "
      ]
     },
     "execution_count": 3,
     "metadata": {},
     "output_type": "execute_result"
    }
   ],
   "source": [
    "raw['timezone_offset'] = pd.to_numeric(raw['timezone']) / 100.0\n",
    "raw.head()"
   ]
  },
  {
   "cell_type": "markdown",
   "metadata": {},
   "source": [
    "To get a real time column, we convert the information in `timestamp` accordingly."
   ]
  },
  {
   "cell_type": "code",
   "execution_count": 4,
   "metadata": {},
   "outputs": [
    {
     "data": {
      "text/html": [
       "<div>\n",
       "<style>\n",
       "    .dataframe thead tr:only-child th {\n",
       "        text-align: right;\n",
       "    }\n",
       "\n",
       "    .dataframe thead th {\n",
       "        text-align: left;\n",
       "    }\n",
       "\n",
       "    .dataframe tbody tr th {\n",
       "        vertical-align: top;\n",
       "    }\n",
       "</style>\n",
       "<table border=\"1\" class=\"dataframe\">\n",
       "  <thead>\n",
       "    <tr style=\"text-align: right;\">\n",
       "      <th></th>\n",
       "      <th>unix_timestamp</th>\n",
       "      <th>author</th>\n",
       "      <th>email</th>\n",
       "      <th>timestamp</th>\n",
       "      <th>timezone</th>\n",
       "      <th>timezone_offset</th>\n",
       "    </tr>\n",
       "  </thead>\n",
       "  <tbody>\n",
       "    <tr>\n",
       "      <th>0</th>\n",
       "      <td>1514469569 +0300</td>\n",
       "      <td>Kirill Kirichenko</td>\n",
       "      <td>kirill.kirichenko@jetbrains.com</td>\n",
       "      <td>2017-12-28 13:59:29</td>\n",
       "      <td>+0300</td>\n",
       "      <td>3.0</td>\n",
       "    </tr>\n",
       "    <tr>\n",
       "      <th>1</th>\n",
       "      <td>1514469402 +0100</td>\n",
       "      <td>Anna Kozlova</td>\n",
       "      <td>anna.kozlova@jetbrains.com</td>\n",
       "      <td>2017-12-28 13:56:42</td>\n",
       "      <td>+0100</td>\n",
       "      <td>1.0</td>\n",
       "    </tr>\n",
       "    <tr>\n",
       "      <th>2</th>\n",
       "      <td>1514469119 +0100</td>\n",
       "      <td>Vladimir Krivosheev</td>\n",
       "      <td>vladimir.krivosheev@jetbrains.com</td>\n",
       "      <td>2017-12-28 13:51:59</td>\n",
       "      <td>+0100</td>\n",
       "      <td>1.0</td>\n",
       "    </tr>\n",
       "    <tr>\n",
       "      <th>3</th>\n",
       "      <td>1514468066 +0100</td>\n",
       "      <td>Vladimir Krivosheev</td>\n",
       "      <td>vladimir.krivosheev@jetbrains.com</td>\n",
       "      <td>2017-12-28 13:34:26</td>\n",
       "      <td>+0100</td>\n",
       "      <td>1.0</td>\n",
       "    </tr>\n",
       "    <tr>\n",
       "      <th>4</th>\n",
       "      <td>1514462548 +0100</td>\n",
       "      <td>Vladimir Krivosheev</td>\n",
       "      <td>vladimir.krivosheev@jetbrains.com</td>\n",
       "      <td>2017-12-28 12:02:28</td>\n",
       "      <td>+0100</td>\n",
       "      <td>1.0</td>\n",
       "    </tr>\n",
       "  </tbody>\n",
       "</table>\n",
       "</div>"
      ],
      "text/plain": [
       "     unix_timestamp               author                              email  \\\n",
       "0  1514469569 +0300    Kirill Kirichenko    kirill.kirichenko@jetbrains.com   \n",
       "1  1514469402 +0100         Anna Kozlova         anna.kozlova@jetbrains.com   \n",
       "2  1514469119 +0100  Vladimir Krivosheev  vladimir.krivosheev@jetbrains.com   \n",
       "3  1514468066 +0100  Vladimir Krivosheev  vladimir.krivosheev@jetbrains.com   \n",
       "4  1514462548 +0100  Vladimir Krivosheev  vladimir.krivosheev@jetbrains.com   \n",
       "\n",
       "            timestamp timezone  timezone_offset  \n",
       "0 2017-12-28 13:59:29    +0300              3.0  \n",
       "1 2017-12-28 13:56:42    +0100              1.0  \n",
       "2 2017-12-28 13:51:59    +0100              1.0  \n",
       "3 2017-12-28 13:34:26    +0100              1.0  \n",
       "4 2017-12-28 12:02:28    +0100              1.0  "
      ]
     },
     "execution_count": 4,
     "metadata": {},
     "output_type": "execute_result"
    }
   ],
   "source": [
    "raw['timestamp'] = pd.to_datetime(raw['timestamp'], unit=\"s\")\n",
    "raw.head()"
   ]
  },
  {
   "cell_type": "markdown",
   "metadata": {},
   "source": [
    "We also calculate the local time of each commit by adding the `timezone_offset` data to the `timestamp` entries."
   ]
  },
  {
   "cell_type": "code",
   "execution_count": 5,
   "metadata": {},
   "outputs": [
    {
     "data": {
      "text/html": [
       "<div>\n",
       "<style>\n",
       "    .dataframe thead tr:only-child th {\n",
       "        text-align: right;\n",
       "    }\n",
       "\n",
       "    .dataframe thead th {\n",
       "        text-align: left;\n",
       "    }\n",
       "\n",
       "    .dataframe tbody tr th {\n",
       "        vertical-align: top;\n",
       "    }\n",
       "</style>\n",
       "<table border=\"1\" class=\"dataframe\">\n",
       "  <thead>\n",
       "    <tr style=\"text-align: right;\">\n",
       "      <th></th>\n",
       "      <th>unix_timestamp</th>\n",
       "      <th>author</th>\n",
       "      <th>email</th>\n",
       "      <th>timestamp</th>\n",
       "      <th>timezone</th>\n",
       "      <th>timezone_offset</th>\n",
       "      <th>timestamp_local</th>\n",
       "    </tr>\n",
       "  </thead>\n",
       "  <tbody>\n",
       "    <tr>\n",
       "      <th>0</th>\n",
       "      <td>1514469569 +0300</td>\n",
       "      <td>Kirill Kirichenko</td>\n",
       "      <td>kirill.kirichenko@jetbrains.com</td>\n",
       "      <td>2017-12-28 13:59:29</td>\n",
       "      <td>+0300</td>\n",
       "      <td>3.0</td>\n",
       "      <td>2017-12-28 16:59:29</td>\n",
       "    </tr>\n",
       "    <tr>\n",
       "      <th>1</th>\n",
       "      <td>1514469402 +0100</td>\n",
       "      <td>Anna Kozlova</td>\n",
       "      <td>anna.kozlova@jetbrains.com</td>\n",
       "      <td>2017-12-28 13:56:42</td>\n",
       "      <td>+0100</td>\n",
       "      <td>1.0</td>\n",
       "      <td>2017-12-28 14:56:42</td>\n",
       "    </tr>\n",
       "    <tr>\n",
       "      <th>2</th>\n",
       "      <td>1514469119 +0100</td>\n",
       "      <td>Vladimir Krivosheev</td>\n",
       "      <td>vladimir.krivosheev@jetbrains.com</td>\n",
       "      <td>2017-12-28 13:51:59</td>\n",
       "      <td>+0100</td>\n",
       "      <td>1.0</td>\n",
       "      <td>2017-12-28 14:51:59</td>\n",
       "    </tr>\n",
       "    <tr>\n",
       "      <th>3</th>\n",
       "      <td>1514468066 +0100</td>\n",
       "      <td>Vladimir Krivosheev</td>\n",
       "      <td>vladimir.krivosheev@jetbrains.com</td>\n",
       "      <td>2017-12-28 13:34:26</td>\n",
       "      <td>+0100</td>\n",
       "      <td>1.0</td>\n",
       "      <td>2017-12-28 14:34:26</td>\n",
       "    </tr>\n",
       "    <tr>\n",
       "      <th>4</th>\n",
       "      <td>1514462548 +0100</td>\n",
       "      <td>Vladimir Krivosheev</td>\n",
       "      <td>vladimir.krivosheev@jetbrains.com</td>\n",
       "      <td>2017-12-28 12:02:28</td>\n",
       "      <td>+0100</td>\n",
       "      <td>1.0</td>\n",
       "      <td>2017-12-28 13:02:28</td>\n",
       "    </tr>\n",
       "  </tbody>\n",
       "</table>\n",
       "</div>"
      ],
      "text/plain": [
       "     unix_timestamp               author                              email  \\\n",
       "0  1514469569 +0300    Kirill Kirichenko    kirill.kirichenko@jetbrains.com   \n",
       "1  1514469402 +0100         Anna Kozlova         anna.kozlova@jetbrains.com   \n",
       "2  1514469119 +0100  Vladimir Krivosheev  vladimir.krivosheev@jetbrains.com   \n",
       "3  1514468066 +0100  Vladimir Krivosheev  vladimir.krivosheev@jetbrains.com   \n",
       "4  1514462548 +0100  Vladimir Krivosheev  vladimir.krivosheev@jetbrains.com   \n",
       "\n",
       "            timestamp timezone  timezone_offset     timestamp_local  \n",
       "0 2017-12-28 13:59:29    +0300              3.0 2017-12-28 16:59:29  \n",
       "1 2017-12-28 13:56:42    +0100              1.0 2017-12-28 14:56:42  \n",
       "2 2017-12-28 13:51:59    +0100              1.0 2017-12-28 14:51:59  \n",
       "3 2017-12-28 13:34:26    +0100              1.0 2017-12-28 14:34:26  \n",
       "4 2017-12-28 12:02:28    +0100              1.0 2017-12-28 13:02:28  "
      ]
     },
     "execution_count": 5,
     "metadata": {},
     "output_type": "execute_result"
    }
   ],
   "source": [
    "raw[\"timestamp_local\"] = raw['timestamp'] + pd.to_timedelta(raw['timezone_offset'], unit='h')\n",
    "raw.head()"
   ]
  },
  {
   "cell_type": "markdown",
   "metadata": {},
   "source": [
    "At last, we copy only the needed data from the `raw` dataset into the new DataFrame `git_authors`."
   ]
  },
  {
   "cell_type": "code",
   "execution_count": 6,
   "metadata": {},
   "outputs": [
    {
     "data": {
      "text/html": [
       "<div>\n",
       "<style>\n",
       "    .dataframe thead tr:only-child th {\n",
       "        text-align: right;\n",
       "    }\n",
       "\n",
       "    .dataframe thead th {\n",
       "        text-align: left;\n",
       "    }\n",
       "\n",
       "    .dataframe tbody tr th {\n",
       "        vertical-align: top;\n",
       "    }\n",
       "</style>\n",
       "<table border=\"1\" class=\"dataframe\">\n",
       "  <thead>\n",
       "    <tr style=\"text-align: right;\">\n",
       "      <th></th>\n",
       "      <th>timestamp_local</th>\n",
       "      <th>timezone</th>\n",
       "      <th>author</th>\n",
       "      <th>email</th>\n",
       "    </tr>\n",
       "  </thead>\n",
       "  <tbody>\n",
       "    <tr>\n",
       "      <th>0</th>\n",
       "      <td>2017-12-28 16:59:29</td>\n",
       "      <td>+0300</td>\n",
       "      <td>Kirill Kirichenko</td>\n",
       "      <td>kirill.kirichenko@jetbrains.com</td>\n",
       "    </tr>\n",
       "    <tr>\n",
       "      <th>1</th>\n",
       "      <td>2017-12-28 14:56:42</td>\n",
       "      <td>+0100</td>\n",
       "      <td>Anna Kozlova</td>\n",
       "      <td>anna.kozlova@jetbrains.com</td>\n",
       "    </tr>\n",
       "    <tr>\n",
       "      <th>2</th>\n",
       "      <td>2017-12-28 14:51:59</td>\n",
       "      <td>+0100</td>\n",
       "      <td>Vladimir Krivosheev</td>\n",
       "      <td>vladimir.krivosheev@jetbrains.com</td>\n",
       "    </tr>\n",
       "    <tr>\n",
       "      <th>3</th>\n",
       "      <td>2017-12-28 14:34:26</td>\n",
       "      <td>+0100</td>\n",
       "      <td>Vladimir Krivosheev</td>\n",
       "      <td>vladimir.krivosheev@jetbrains.com</td>\n",
       "    </tr>\n",
       "    <tr>\n",
       "      <th>4</th>\n",
       "      <td>2017-12-28 13:02:28</td>\n",
       "      <td>+0100</td>\n",
       "      <td>Vladimir Krivosheev</td>\n",
       "      <td>vladimir.krivosheev@jetbrains.com</td>\n",
       "    </tr>\n",
       "  </tbody>\n",
       "</table>\n",
       "</div>"
      ],
      "text/plain": [
       "      timestamp_local timezone               author  \\\n",
       "0 2017-12-28 16:59:29    +0300    Kirill Kirichenko   \n",
       "1 2017-12-28 14:56:42    +0100         Anna Kozlova   \n",
       "2 2017-12-28 14:51:59    +0100  Vladimir Krivosheev   \n",
       "3 2017-12-28 14:34:26    +0100  Vladimir Krivosheev   \n",
       "4 2017-12-28 13:02:28    +0100  Vladimir Krivosheev   \n",
       "\n",
       "                               email  \n",
       "0    kirill.kirichenko@jetbrains.com  \n",
       "1         anna.kozlova@jetbrains.com  \n",
       "2  vladimir.krivosheev@jetbrains.com  \n",
       "3  vladimir.krivosheev@jetbrains.com  \n",
       "4  vladimir.krivosheev@jetbrains.com  "
      ]
     },
     "execution_count": 6,
     "metadata": {},
     "output_type": "execute_result"
    }
   ],
   "source": [
    "git_authors = raw[['timestamp_local', 'timezone', 'author', 'email']].copy()\n",
    "git_authors.head()"
   ]
  },
  {
   "cell_type": "markdown",
   "metadata": {},
   "source": [
    "# Refining the dataset\n",
    "In this section, we add some additional information to the `DataFrame` to accomplish our tasks."
   ]
  },
  {
   "cell_type": "markdown",
   "metadata": {},
   "source": [
    "## Adding weekdays\n",
    "First, we add the information about the weekdays based on the `dayofweek` information of the `timestamp_local` column. We round down possible non-integer values and extract the weekday name from the `calender.day_name` list. Because we want to preserve the order of the weekdays, we convert the `day` entries to a `Categorial` data type, too."
   ]
  },
  {
   "cell_type": "code",
   "execution_count": 7,
   "metadata": {},
   "outputs": [
    {
     "data": {
      "text/html": [
       "<div>\n",
       "<style>\n",
       "    .dataframe thead tr:only-child th {\n",
       "        text-align: right;\n",
       "    }\n",
       "\n",
       "    .dataframe thead th {\n",
       "        text-align: left;\n",
       "    }\n",
       "\n",
       "    .dataframe tbody tr th {\n",
       "        vertical-align: top;\n",
       "    }\n",
       "</style>\n",
       "<table border=\"1\" class=\"dataframe\">\n",
       "  <thead>\n",
       "    <tr style=\"text-align: right;\">\n",
       "      <th></th>\n",
       "      <th>timestamp_local</th>\n",
       "      <th>timezone</th>\n",
       "      <th>author</th>\n",
       "      <th>email</th>\n",
       "      <th>day</th>\n",
       "    </tr>\n",
       "  </thead>\n",
       "  <tbody>\n",
       "    <tr>\n",
       "      <th>0</th>\n",
       "      <td>2017-12-28 16:59:29</td>\n",
       "      <td>+0300</td>\n",
       "      <td>Kirill Kirichenko</td>\n",
       "      <td>kirill.kirichenko@jetbrains.com</td>\n",
       "      <td>Thursday</td>\n",
       "    </tr>\n",
       "    <tr>\n",
       "      <th>1</th>\n",
       "      <td>2017-12-28 14:56:42</td>\n",
       "      <td>+0100</td>\n",
       "      <td>Anna Kozlova</td>\n",
       "      <td>anna.kozlova@jetbrains.com</td>\n",
       "      <td>Thursday</td>\n",
       "    </tr>\n",
       "    <tr>\n",
       "      <th>2</th>\n",
       "      <td>2017-12-28 14:51:59</td>\n",
       "      <td>+0100</td>\n",
       "      <td>Vladimir Krivosheev</td>\n",
       "      <td>vladimir.krivosheev@jetbrains.com</td>\n",
       "      <td>Thursday</td>\n",
       "    </tr>\n",
       "    <tr>\n",
       "      <th>3</th>\n",
       "      <td>2017-12-28 14:34:26</td>\n",
       "      <td>+0100</td>\n",
       "      <td>Vladimir Krivosheev</td>\n",
       "      <td>vladimir.krivosheev@jetbrains.com</td>\n",
       "      <td>Thursday</td>\n",
       "    </tr>\n",
       "    <tr>\n",
       "      <th>4</th>\n",
       "      <td>2017-12-28 13:02:28</td>\n",
       "      <td>+0100</td>\n",
       "      <td>Vladimir Krivosheev</td>\n",
       "      <td>vladimir.krivosheev@jetbrains.com</td>\n",
       "      <td>Thursday</td>\n",
       "    </tr>\n",
       "  </tbody>\n",
       "</table>\n",
       "</div>"
      ],
      "text/plain": [
       "      timestamp_local timezone               author  \\\n",
       "0 2017-12-28 16:59:29    +0300    Kirill Kirichenko   \n",
       "1 2017-12-28 14:56:42    +0100         Anna Kozlova   \n",
       "2 2017-12-28 14:51:59    +0100  Vladimir Krivosheev   \n",
       "3 2017-12-28 14:34:26    +0100  Vladimir Krivosheev   \n",
       "4 2017-12-28 13:02:28    +0100  Vladimir Krivosheev   \n",
       "\n",
       "                               email       day  \n",
       "0    kirill.kirichenko@jetbrains.com  Thursday  \n",
       "1         anna.kozlova@jetbrains.com  Thursday  \n",
       "2  vladimir.krivosheev@jetbrains.com  Thursday  \n",
       "3  vladimir.krivosheev@jetbrains.com  Thursday  \n",
       "4  vladimir.krivosheev@jetbrains.com  Thursday  "
      ]
     },
     "execution_count": 7,
     "metadata": {},
     "output_type": "execute_result"
    }
   ],
   "source": [
    "import calendar\n",
    "\n",
    "git_authors['day'] = git_authors[\"timestamp_local\"].apply(lambda x : calendar.day_name[int(x.dayofweek)])\n",
    "git_authors['day'] = pd.Categorical(git_authors['day'], categories=calendar.day_name, ordered=True)\n",
    "git_authors.head()"
   ]
  },
  {
   "cell_type": "markdown",
   "metadata": {},
   "source": [
    "## Adding working hours\n",
    "For the working hour analysis, we extract the hour information from the `timestamp_local` columns."
   ]
  },
  {
   "cell_type": "code",
   "execution_count": 8,
   "metadata": {},
   "outputs": [
    {
     "data": {
      "text/html": [
       "<div>\n",
       "<style>\n",
       "    .dataframe thead tr:only-child th {\n",
       "        text-align: right;\n",
       "    }\n",
       "\n",
       "    .dataframe thead th {\n",
       "        text-align: left;\n",
       "    }\n",
       "\n",
       "    .dataframe tbody tr th {\n",
       "        vertical-align: top;\n",
       "    }\n",
       "</style>\n",
       "<table border=\"1\" class=\"dataframe\">\n",
       "  <thead>\n",
       "    <tr style=\"text-align: right;\">\n",
       "      <th></th>\n",
       "      <th>timestamp_local</th>\n",
       "      <th>timezone</th>\n",
       "      <th>author</th>\n",
       "      <th>email</th>\n",
       "      <th>day</th>\n",
       "      <th>hour</th>\n",
       "    </tr>\n",
       "  </thead>\n",
       "  <tbody>\n",
       "    <tr>\n",
       "      <th>0</th>\n",
       "      <td>2017-12-28 16:59:29</td>\n",
       "      <td>+0300</td>\n",
       "      <td>Kirill Kirichenko</td>\n",
       "      <td>kirill.kirichenko@jetbrains.com</td>\n",
       "      <td>Thursday</td>\n",
       "      <td>16</td>\n",
       "    </tr>\n",
       "    <tr>\n",
       "      <th>1</th>\n",
       "      <td>2017-12-28 14:56:42</td>\n",
       "      <td>+0100</td>\n",
       "      <td>Anna Kozlova</td>\n",
       "      <td>anna.kozlova@jetbrains.com</td>\n",
       "      <td>Thursday</td>\n",
       "      <td>14</td>\n",
       "    </tr>\n",
       "    <tr>\n",
       "      <th>2</th>\n",
       "      <td>2017-12-28 14:51:59</td>\n",
       "      <td>+0100</td>\n",
       "      <td>Vladimir Krivosheev</td>\n",
       "      <td>vladimir.krivosheev@jetbrains.com</td>\n",
       "      <td>Thursday</td>\n",
       "      <td>14</td>\n",
       "    </tr>\n",
       "    <tr>\n",
       "      <th>3</th>\n",
       "      <td>2017-12-28 14:34:26</td>\n",
       "      <td>+0100</td>\n",
       "      <td>Vladimir Krivosheev</td>\n",
       "      <td>vladimir.krivosheev@jetbrains.com</td>\n",
       "      <td>Thursday</td>\n",
       "      <td>14</td>\n",
       "    </tr>\n",
       "    <tr>\n",
       "      <th>4</th>\n",
       "      <td>2017-12-28 13:02:28</td>\n",
       "      <td>+0100</td>\n",
       "      <td>Vladimir Krivosheev</td>\n",
       "      <td>vladimir.krivosheev@jetbrains.com</td>\n",
       "      <td>Thursday</td>\n",
       "      <td>13</td>\n",
       "    </tr>\n",
       "  </tbody>\n",
       "</table>\n",
       "</div>"
      ],
      "text/plain": [
       "      timestamp_local timezone               author  \\\n",
       "0 2017-12-28 16:59:29    +0300    Kirill Kirichenko   \n",
       "1 2017-12-28 14:56:42    +0100         Anna Kozlova   \n",
       "2 2017-12-28 14:51:59    +0100  Vladimir Krivosheev   \n",
       "3 2017-12-28 14:34:26    +0100  Vladimir Krivosheev   \n",
       "4 2017-12-28 13:02:28    +0100  Vladimir Krivosheev   \n",
       "\n",
       "                               email       day  hour  \n",
       "0    kirill.kirichenko@jetbrains.com  Thursday    16  \n",
       "1         anna.kozlova@jetbrains.com  Thursday    14  \n",
       "2  vladimir.krivosheev@jetbrains.com  Thursday    14  \n",
       "3  vladimir.krivosheev@jetbrains.com  Thursday    14  \n",
       "4  vladimir.krivosheev@jetbrains.com  Thursday    13  "
      ]
     },
     "execution_count": 8,
     "metadata": {},
     "output_type": "execute_result"
    }
   ],
   "source": [
    "git_authors['hour'] = git_authors['timestamp_local'].dt.hour\n",
    "git_authors.head()"
   ]
  },
  {
   "cell_type": "markdown",
   "metadata": {},
   "source": [
    "# Analyzing the data\n",
    "With the prepared `git_authors` DataFrame, we are now able to deliver insights into the past years of development."
   ]
  },
  {
   "cell_type": "markdown",
   "metadata": {},
   "source": [
    "## Developers' timezones\n",
    "First, we want to know where the developers roughly live. For this, we plot the values of the `timezone` columns as a pie chart."
   ]
  },
  {
   "cell_type": "code",
   "execution_count": 9,
   "metadata": {},
   "outputs": [
    {
     "data": {
      "text/plain": [
       "<matplotlib.axes._subplots.AxesSubplot at 0x1243beb3ef0>"
      ]
     },
     "execution_count": 9,
     "metadata": {},
     "output_type": "execute_result"
    },
    {
     "data": {
      "image/png": "[encoded data removed]",
      "text/plain": [
       "<matplotlib.figure.Figure at 0x1243ad9dc88>"
      ]
     },
     "metadata": {},
     "output_type": "display_data"
    }
   ],
   "source": [
    "%matplotlib inline\n",
    "git_authors['timezone'].value_counts().plot(kind='pie', figsize=(7,7), title=\"Developer's timezones\")"
   ]
  },
  {
   "cell_type": "markdown",
   "metadata": {},
   "source": [
    "**Result**\n",
    "\n",
    "The majority of the developers' lives in the time zones +0300 and +0400. Looking at a time zone map ([source](https://commons.wikimedia.org/wiki/File:Standard_World_Time_Zones.png)) and on the [website](https://www.jetbrains.com/company/contacts/) of the company that mainly maintains the project, we can defer that most of the developers are probably working from Russia.\n",
    "\n",
    "![](resources/developers_habits_timezone.png)"
   ]
  },
  {
   "cell_type": "markdown",
   "metadata": {},
   "source": [
    "## Weekdays with the most commits\n",
    "\n",
    "Next, we want to know on which days the developers are working during the week. We count by the weekdays but avoid sorting the results to keep the order along our categories."
   ]
  },
  {
   "cell_type": "code",
   "execution_count": 10,
   "metadata": {},
   "outputs": [
    {
     "data": {
      "text/plain": [
       "Monday       38605\n",
       "Tuesday      40611\n",
       "Wednesday    40988\n",
       "Thursday     40487\n",
       "Friday       37459\n",
       "Saturday      6896\n",
       "Sunday        5355\n",
       "Name: day, dtype: int64"
      ]
     },
     "execution_count": 10,
     "metadata": {},
     "output_type": "execute_result"
    }
   ],
   "source": [
    "commits_per_weekday = git_authors['day'].value_counts(sort=False)\n",
    "commits_per_weekday"
   ]
  },
  {
   "cell_type": "markdown",
   "metadata": {},
   "source": [
    "We plot the result as a standard bar chart."
   ]
  },
  {
   "cell_type": "code",
   "execution_count": 11,
   "metadata": {},
   "outputs": [
    {
     "data": {
      "text/plain": [
       "<matplotlib.text.Text at 0x1243c152438>"
      ]
     },
     "execution_count": 11,
     "metadata": {},
     "output_type": "execute_result"
    },
    {
     "data": {
      "image/png": "[encoded data removed]",
      "text/plain": [
       "<matplotlib.figure.Figure at 0x1243c0eed68>"
      ]
     },
     "metadata": {},
     "output_type": "display_data"
    }
   ],
   "source": [
    "ax = commits_per_weekday.plot(kind='bar', title=\"Commits per weekday\")\n",
    "ax.set_xlabel('weekday')\n",
    "ax.set_ylabel('# commits')"
   ]
  },
  {
   "cell_type": "markdown",
   "metadata": {},
   "source": [
    "**Result:** \n",
    "\n",
    "Most of the commits occur during normal working days. There are just a few commits on weekends."
   ]
  },
  {
   "cell_type": "markdown",
   "metadata": {},
   "source": [
    "## Working behavior on weekends\n",
    "We take a look at the type of weekend workers. We want to see, if the commits come from the main developing company JetBrains or from other voluntary contributors that work on the open source project on weekends.\n",
    "\n",
    "As an approximation, we use the domain name that is included in the author's email addresses to decide if an author is an employee of JetBrains or not. We use a separate DataFrame `weekend_workers` for this task."
   ]
  },
  {
   "cell_type": "code",
   "execution_count": 12,
   "metadata": {},
   "outputs": [
    {
     "data": {
      "text/html": [
       "<div>\n",
       "<style>\n",
       "    .dataframe thead tr:only-child th {\n",
       "        text-align: right;\n",
       "    }\n",
       "\n",
       "    .dataframe thead th {\n",
       "        text-align: left;\n",
       "    }\n",
       "\n",
       "    .dataframe tbody tr th {\n",
       "        vertical-align: top;\n",
       "    }\n",
       "</style>\n",
       "<table border=\"1\" class=\"dataframe\">\n",
       "  <thead>\n",
       "    <tr style=\"text-align: right;\">\n",
       "      <th></th>\n",
       "      <th>day</th>\n",
       "      <th>email</th>\n",
       "      <th>employee</th>\n",
       "    </tr>\n",
       "  </thead>\n",
       "  <tbody>\n",
       "    <tr>\n",
       "      <th>0</th>\n",
       "      <td>Thursday</td>\n",
       "      <td>kirill.kirichenko@jetbrains.com</td>\n",
       "      <td>True</td>\n",
       "    </tr>\n",
       "    <tr>\n",
       "      <th>1</th>\n",
       "      <td>Thursday</td>\n",
       "      <td>anna.kozlova@jetbrains.com</td>\n",
       "      <td>True</td>\n",
       "    </tr>\n",
       "    <tr>\n",
       "      <th>2</th>\n",
       "      <td>Thursday</td>\n",
       "      <td>vladimir.krivosheev@jetbrains.com</td>\n",
       "      <td>True</td>\n",
       "    </tr>\n",
       "    <tr>\n",
       "      <th>3</th>\n",
       "      <td>Thursday</td>\n",
       "      <td>vladimir.krivosheev@jetbrains.com</td>\n",
       "      <td>True</td>\n",
       "    </tr>\n",
       "    <tr>\n",
       "      <th>4</th>\n",
       "      <td>Thursday</td>\n",
       "      <td>vladimir.krivosheev@jetbrains.com</td>\n",
       "      <td>True</td>\n",
       "    </tr>\n",
       "  </tbody>\n",
       "</table>\n",
       "</div>"
      ],
      "text/plain": [
       "        day                              email  employee\n",
       "0  Thursday    kirill.kirichenko@jetbrains.com      True\n",
       "1  Thursday         anna.kozlova@jetbrains.com      True\n",
       "2  Thursday  vladimir.krivosheev@jetbrains.com      True\n",
       "3  Thursday  vladimir.krivosheev@jetbrains.com      True\n",
       "4  Thursday  vladimir.krivosheev@jetbrains.com      True"
      ]
     },
     "execution_count": 12,
     "metadata": {},
     "output_type": "execute_result"
    }
   ],
   "source": [
    "weekend_workers = git_authors[['day', 'email']].copy()\n",
    "weekend_workers['employee'] = weekend_workers['email'].str.lower().str.endswith(\"@jetbrains.com\")\n",
    "weekend_workers.head()"
   ]
  },
  {
   "cell_type": "markdown",
   "metadata": {},
   "source": [
    "We group and count the weekdays and employee information and store the result in the new DataFrame `commits_per_weekday_employee`. "
   ]
  },
  {
   "cell_type": "code",
   "execution_count": 13,
   "metadata": {},
   "outputs": [
    {
     "data": {
      "text/html": [
       "<div>\n",
       "<style>\n",
       "    .dataframe thead tr:only-child th {\n",
       "        text-align: right;\n",
       "    }\n",
       "\n",
       "    .dataframe thead th {\n",
       "        text-align: left;\n",
       "    }\n",
       "\n",
       "    .dataframe tbody tr th {\n",
       "        vertical-align: top;\n",
       "    }\n",
       "</style>\n",
       "<table border=\"1\" class=\"dataframe\">\n",
       "  <thead>\n",
       "    <tr>\n",
       "      <th></th>\n",
       "      <th colspan=\"2\" halign=\"left\">email</th>\n",
       "    </tr>\n",
       "    <tr>\n",
       "      <th>employee</th>\n",
       "      <th>False</th>\n",
       "      <th>True</th>\n",
       "    </tr>\n",
       "    <tr>\n",
       "      <th>day</th>\n",
       "      <th></th>\n",
       "      <th></th>\n",
       "    </tr>\n",
       "  </thead>\n",
       "  <tbody>\n",
       "    <tr>\n",
       "      <th>Monday</th>\n",
       "      <td>6428</td>\n",
       "      <td>32177</td>\n",
       "    </tr>\n",
       "    <tr>\n",
       "      <th>Tuesday</th>\n",
       "      <td>6411</td>\n",
       "      <td>34200</td>\n",
       "    </tr>\n",
       "    <tr>\n",
       "      <th>Wednesday</th>\n",
       "      <td>6515</td>\n",
       "      <td>34473</td>\n",
       "    </tr>\n",
       "    <tr>\n",
       "      <th>Thursday</th>\n",
       "      <td>6658</td>\n",
       "      <td>33829</td>\n",
       "    </tr>\n",
       "    <tr>\n",
       "      <th>Friday</th>\n",
       "      <td>5720</td>\n",
       "      <td>31739</td>\n",
       "    </tr>\n",
       "    <tr>\n",
       "      <th>Saturday</th>\n",
       "      <td>1353</td>\n",
       "      <td>5543</td>\n",
       "    </tr>\n",
       "    <tr>\n",
       "      <th>Sunday</th>\n",
       "      <td>933</td>\n",
       "      <td>4422</td>\n",
       "    </tr>\n",
       "  </tbody>\n",
       "</table>\n",
       "</div>"
      ],
      "text/plain": [
       "          email       \n",
       "employee  False  True \n",
       "day                   \n",
       "Monday     6428  32177\n",
       "Tuesday    6411  34200\n",
       "Wednesday  6515  34473\n",
       "Thursday   6658  33829\n",
       "Friday     5720  31739\n",
       "Saturday   1353   5543\n",
       "Sunday      933   4422"
      ]
     },
     "execution_count": 13,
     "metadata": {},
     "output_type": "execute_result"
    }
   ],
   "source": [
    "commits_per_weekday_employee = weekend_workers.groupby(['day', 'employee']).count().unstack()\n",
    "commits_per_weekday_employee"
   ]
  },
  {
   "cell_type": "markdown",
   "metadata": {},
   "source": [
    "To be able to spot differences more easily, we calculate the ratio between the employed developers and all developers."
   ]
  },
  {
   "cell_type": "code",
   "execution_count": 14,
   "metadata": {},
   "outputs": [
    {
     "data": {
      "text/html": [
       "<div>\n",
       "<style>\n",
       "    .dataframe thead tr:only-child th {\n",
       "        text-align: right;\n",
       "    }\n",
       "\n",
       "    .dataframe thead th {\n",
       "        text-align: left;\n",
       "    }\n",
       "\n",
       "    .dataframe tbody tr th {\n",
       "        vertical-align: top;\n",
       "    }\n",
       "</style>\n",
       "<table border=\"1\" class=\"dataframe\">\n",
       "  <thead>\n",
       "    <tr>\n",
       "      <th></th>\n",
       "      <th colspan=\"2\" halign=\"left\">email</th>\n",
       "      <th>employed_ratio</th>\n",
       "    </tr>\n",
       "    <tr>\n",
       "      <th>employee</th>\n",
       "      <th>False</th>\n",
       "      <th>True</th>\n",
       "      <th></th>\n",
       "    </tr>\n",
       "    <tr>\n",
       "      <th>day</th>\n",
       "      <th></th>\n",
       "      <th></th>\n",
       "      <th></th>\n",
       "    </tr>\n",
       "  </thead>\n",
       "  <tbody>\n",
       "    <tr>\n",
       "      <th>Monday</th>\n",
       "      <td>6428</td>\n",
       "      <td>32177</td>\n",
       "      <td>0.833493</td>\n",
       "    </tr>\n",
       "    <tr>\n",
       "      <th>Tuesday</th>\n",
       "      <td>6411</td>\n",
       "      <td>34200</td>\n",
       "      <td>0.842136</td>\n",
       "    </tr>\n",
       "    <tr>\n",
       "      <th>Wednesday</th>\n",
       "      <td>6515</td>\n",
       "      <td>34473</td>\n",
       "      <td>0.841051</td>\n",
       "    </tr>\n",
       "    <tr>\n",
       "      <th>Thursday</th>\n",
       "      <td>6658</td>\n",
       "      <td>33829</td>\n",
       "      <td>0.835552</td>\n",
       "    </tr>\n",
       "    <tr>\n",
       "      <th>Friday</th>\n",
       "      <td>5720</td>\n",
       "      <td>31739</td>\n",
       "      <td>0.847300</td>\n",
       "    </tr>\n",
       "    <tr>\n",
       "      <th>Saturday</th>\n",
       "      <td>1353</td>\n",
       "      <td>5543</td>\n",
       "      <td>0.803799</td>\n",
       "    </tr>\n",
       "    <tr>\n",
       "      <th>Sunday</th>\n",
       "      <td>933</td>\n",
       "      <td>4422</td>\n",
       "      <td>0.825770</td>\n",
       "    </tr>\n",
       "  </tbody>\n",
       "</table>\n",
       "</div>"
      ],
      "text/plain": [
       "          email        employed_ratio\n",
       "employee  False   True               \n",
       "day                                  \n",
       "Monday     6428  32177       0.833493\n",
       "Tuesday    6411  34200       0.842136\n",
       "Wednesday  6515  34473       0.841051\n",
       "Thursday   6658  33829       0.835552\n",
       "Friday     5720  31739       0.847300\n",
       "Saturday   1353   5543       0.803799\n",
       "Sunday      933   4422       0.825770"
      ]
     },
     "execution_count": 14,
     "metadata": {},
     "output_type": "execute_result"
    }
   ],
   "source": [
    "commits_per_weekday_employee['employed_ratio'] = \\\n",
    "  commits_per_weekday_employee['email'][True] / \\\n",
    "    commits_per_weekday_employee['email'].sum(axis=1)\n",
    "commits_per_weekday_employee"
   ]
  },
  {
   "cell_type": "markdown",
   "metadata": {},
   "source": [
    "We plot this new information in a second bar chart to see possible differences in the committing behavior between IntelliJ employees and other contributors."
   ]
  },
  {
   "cell_type": "code",
   "execution_count": 15,
   "metadata": {},
   "outputs": [
    {
     "data": {
      "text/plain": [
       "<matplotlib.text.Text at 0x1243c18a710>"
      ]
     },
     "execution_count": 15,
     "metadata": {},
     "output_type": "execute_result"
    },
    {
     "data": {
      "image/png": "[encoded data removed]",
      "text/plain": [
       "<matplotlib.figure.Figure at 0x1243c224908>"
      ]
     },
     "metadata": {},
     "output_type": "display_data"
    }
   ],
   "source": [
    "ax = commits_per_weekday_employee['employed_ratio'].plot(\n",
    "    kind='bar', color='g', title=\"Ratio of commits from employed authors\")\n",
    "ax.set_xlabel(\"weekdays\")\n",
    "ax.set_xlabel(\"ratio\")"
   ]
  },
  {
   "cell_type": "markdown",
   "metadata": {},
   "source": [
    "**Result**\n",
    "\n",
    "There is only a slight, non-significant difference between the ratio of employed and non-employed contributors on weekends."
   ]
  },
  {
   "cell_type": "markdown",
   "metadata": {},
   "source": [
    "## Usual working hours\n",
    "To find out about the working habits of the contributors, we group the commits by `hour` and count the entries (in this case we choose `author`) to see if there are any irregularities."
   ]
  },
  {
   "cell_type": "code",
   "execution_count": 16,
   "metadata": {},
   "outputs": [
    {
     "data": {
      "text/plain": [
       "hour\n",
       "0    2083\n",
       "1    1397\n",
       "2     825\n",
       "3     485\n",
       "4     311\n",
       "Name: author, dtype: int64"
      ]
     },
     "execution_count": 16,
     "metadata": {},
     "output_type": "execute_result"
    }
   ],
   "source": [
    "working_hours = git_authors.groupby(['hour'])['author'].count()\n",
    "working_hours.head()"
   ]
  },
  {
   "cell_type": "markdown",
   "metadata": {},
   "source": [
    "Again, we plot the results with a standard bar chart."
   ]
  },
  {
   "cell_type": "code",
   "execution_count": 17,
   "metadata": {},
   "outputs": [
    {
     "data": {
      "text/plain": [
       "<matplotlib.text.Text at 0x1243e072da0>"
      ]
     },
     "execution_count": 17,
     "metadata": {},
     "output_type": "execute_result"
    },
    {
     "data": {
      "image/png": "[encoded data removed]",
      "text/plain": [
       "<matplotlib.figure.Figure at 0x1243e085c88>"
      ]
     },
     "metadata": {},
     "output_type": "display_data"
    }
   ],
   "source": [
    "ax = working_hours.plot(kind='bar')\n",
    "ax.set_title(\"Distribution of working hours\")\n",
    "ax.yaxis.set_label_text(\"# commits\")\n",
    "ax.xaxis.set_label_text(\"hour\")"
   ]
  },
  {
   "cell_type": "markdown",
   "metadata": {},
   "source": [
    "**Result**\n",
    "\n",
    "The distribution of the working hours is a nice Gaussian distribution. It seems that this open source project is mainly developed by developers in their full-time jobs."
   ]
  },
  {
   "cell_type": "markdown",
   "metadata": {},
   "source": [
    "## Signs of overtime \n",
    "\n",
    "At last, we have a look at possible overtime periods. For this, we first group all commits on a weekly basis per authors. As grouping function, we choose `max()` to get the hour where each author committed at latest per week."
   ]
  },
  {
   "cell_type": "code",
   "execution_count": 18,
   "metadata": {},
   "outputs": [
    {
     "data": {
      "text/html": [
       "<div>\n",
       "<style>\n",
       "    .dataframe thead tr:only-child th {\n",
       "        text-align: right;\n",
       "    }\n",
       "\n",
       "    .dataframe thead th {\n",
       "        text-align: left;\n",
       "    }\n",
       "\n",
       "    .dataframe tbody tr th {\n",
       "        vertical-align: top;\n",
       "    }\n",
       "</style>\n",
       "<table border=\"1\" class=\"dataframe\">\n",
       "  <thead>\n",
       "    <tr style=\"text-align: right;\">\n",
       "      <th></th>\n",
       "      <th></th>\n",
       "      <th>hour</th>\n",
       "    </tr>\n",
       "    <tr>\n",
       "      <th>timestamp_local</th>\n",
       "      <th>author</th>\n",
       "      <th></th>\n",
       "    </tr>\n",
       "  </thead>\n",
       "  <tbody>\n",
       "    <tr>\n",
       "      <th>2004-11-07</th>\n",
       "      <th>Olesya Smirnova</th>\n",
       "      <td>20</td>\n",
       "    </tr>\n",
       "    <tr>\n",
       "      <th rowspan=\"2\" valign=\"top\">2004-11-14</th>\n",
       "      <th>Alexey Kudravtsev</th>\n",
       "      <td>16</td>\n",
       "    </tr>\n",
       "    <tr>\n",
       "      <th>Olesya Smirnova</th>\n",
       "      <td>22</td>\n",
       "    </tr>\n",
       "    <tr>\n",
       "      <th rowspan=\"2\" valign=\"top\">2004-11-21</th>\n",
       "      <th>Anna Kozlova</th>\n",
       "      <td>21</td>\n",
       "    </tr>\n",
       "    <tr>\n",
       "      <th>Olesya Smirnova</th>\n",
       "      <td>19</td>\n",
       "    </tr>\n",
       "  </tbody>\n",
       "</table>\n",
       "</div>"
      ],
      "text/plain": [
       "                                   hour\n",
       "timestamp_local author                 \n",
       "2004-11-07      Olesya Smirnova      20\n",
       "2004-11-14      Alexey Kudravtsev    16\n",
       "                Olesya Smirnova      22\n",
       "2004-11-21      Anna Kozlova         21\n",
       "                Olesya Smirnova      19"
      ]
     },
     "execution_count": 18,
     "metadata": {},
     "output_type": "execute_result"
    }
   ],
   "source": [
    "latest_hour_per_week  = git_authors.groupby(\n",
    "    [\n",
    "        pd.Grouper(key='timestamp_local', freq='1w'), \n",
    "        'author']\n",
    ")[['hour']].max()\n",
    "\n",
    "latest_hour_per_week.head()"
   ]
  },
  {
   "cell_type": "markdown",
   "metadata": {},
   "source": [
    "Next, we want to know if there were any stressful time periods that forced the developers to work overtime over a longer period of time. We calculate the mean of all late stays of all authors for each week."
   ]
  },
  {
   "cell_type": "code",
   "execution_count": 19,
   "metadata": {},
   "outputs": [
    {
     "data": {
      "text/html": [
       "<div>\n",
       "<style>\n",
       "    .dataframe thead tr:only-child th {\n",
       "        text-align: right;\n",
       "    }\n",
       "\n",
       "    .dataframe thead th {\n",
       "        text-align: left;\n",
       "    }\n",
       "\n",
       "    .dataframe tbody tr th {\n",
       "        vertical-align: top;\n",
       "    }\n",
       "</style>\n",
       "<table border=\"1\" class=\"dataframe\">\n",
       "  <thead>\n",
       "    <tr style=\"text-align: right;\">\n",
       "      <th></th>\n",
       "      <th>hour</th>\n",
       "    </tr>\n",
       "    <tr>\n",
       "      <th>timestamp_local</th>\n",
       "      <th></th>\n",
       "    </tr>\n",
       "  </thead>\n",
       "  <tbody>\n",
       "    <tr>\n",
       "      <th>2004-11-07</th>\n",
       "      <td>20.000000</td>\n",
       "    </tr>\n",
       "    <tr>\n",
       "      <th>2004-11-14</th>\n",
       "      <td>19.000000</td>\n",
       "    </tr>\n",
       "    <tr>\n",
       "      <th>2004-11-21</th>\n",
       "      <td>13.666667</td>\n",
       "    </tr>\n",
       "    <tr>\n",
       "      <th>2004-12-05</th>\n",
       "      <td>16.666667</td>\n",
       "    </tr>\n",
       "    <tr>\n",
       "      <th>2004-12-12</th>\n",
       "      <td>15.333333</td>\n",
       "    </tr>\n",
       "  </tbody>\n",
       "</table>\n",
       "</div>"
      ],
      "text/plain": [
       "                      hour\n",
       "timestamp_local           \n",
       "2004-11-07       20.000000\n",
       "2004-11-14       19.000000\n",
       "2004-11-21       13.666667\n",
       "2004-12-05       16.666667\n",
       "2004-12-12       15.333333"
      ]
     },
     "execution_count": 19,
     "metadata": {},
     "output_type": "execute_result"
    }
   ],
   "source": [
    "mean_latest_hours_per_week = latest_hour_per_week.reset_index().groupby('timestamp_local').mean()\n",
    "mean_latest_hours_per_week.head()"
   ]
  },
  {
   "cell_type": "markdown",
   "metadata": {},
   "source": [
    "We also create a trend line that shows how the contributors are working over the span of the past years. We use the `polyfit` function from `numpy` for this which needs a numeric index to calculate the polynomial coefficients later on."
   ]
  },
  {
   "cell_type": "code",
   "execution_count": 20,
   "metadata": {},
   "outputs": [
    {
     "data": {
      "text/plain": [
       "range(0, 684)"
      ]
     },
     "execution_count": 20,
     "metadata": {},
     "output_type": "execute_result"
    }
   ],
   "source": [
    "numeric_index = range(0, len(mean_latest_hours_per_week.index.week))\n",
    "numeric_index"
   ]
  },
  {
   "cell_type": "markdown",
   "metadata": {},
   "source": [
    "We then calculate the coeffiecients with a three-dimensional polynomial based on the hours of the `mean_latest_hours_per_week` DataFrame."
   ]
  },
  {
   "cell_type": "code",
   "execution_count": 21,
   "metadata": {},
   "outputs": [
    {
     "data": {
      "text/plain": [
       "array([ -2.35626413e-08,   2.54703899e-05,  -9.85330587e-03,\n",
       "         2.02637516e+01])"
      ]
     },
     "execution_count": 21,
     "metadata": {},
     "output_type": "execute_result"
    }
   ],
   "source": [
    "import numpy as np\n",
    "coefficients = np.polyfit(numeric_index, mean_latest_hours_per_week.hour, 3)\n",
    "coefficients"
   ]
  },
  {
   "cell_type": "markdown",
   "metadata": {},
   "source": [
    "For visualization, we decrease the number of degrees and calculate the y-coordinates for all weeks that are encoded in `numeric_index`."
   ]
  },
  {
   "cell_type": "code",
   "execution_count": 22,
   "metadata": {},
   "outputs": [
    {
     "data": {
      "text/plain": [
       "array([ 20.2637516 ,  20.25392374,  20.24414669,  20.23442028,  20.2247444 ])"
      ]
     },
     "execution_count": 22,
     "metadata": {},
     "output_type": "execute_result"
    }
   ],
   "source": [
    "polynomial = np.poly1d(coefficients)\n",
    "ys = polynomial(numeric_index)\n",
    "ys[:5]"
   ]
  },
  {
   "cell_type": "markdown",
   "metadata": {},
   "source": [
    "At last, we plot the results of the `mean_latest_hours_per_week` DataFrame as well as the trend line in one line plot."
   ]
  },
  {
   "cell_type": "code",
   "execution_count": 23,
   "metadata": {},
   "outputs": [
    {
     "data": {
      "text/plain": [
       "[<matplotlib.lines.Line2D at 0x1243ddaae80>]"
      ]
     },
     "execution_count": 23,
     "metadata": {},
     "output_type": "execute_result"
    },
    {
     "data": {
      "image/png": "[encoded data removed]",
      "text/plain": [
       "<matplotlib.figure.Figure at 0x1243df05a58>"
      ]
     },
     "metadata": {},
     "output_type": "display_data"
    }
   ],
   "source": [
    "ax = mean_latest_hours_per_week['hour'].plot(\n",
    "    figsize=(10, 6), color='k', alpha=0.2, title=\"Late hours per weeks\")\n",
    "ax.set_xlabel(\"time\")\n",
    "ax.set_ylabel(\"hour\")\n",
    "ax.plot(mean_latest_hours_per_week.index, ys)"
   ]
  },
  {
   "cell_type": "markdown",
   "metadata": {},
   "source": [
    "**Result**\n",
    "\n",
    "We can see that the late hours are decreasing over time (almost two hours during the last 12 years). There is no sign of regular death marches. In general, this could be a good sign, leading to a work-life balance."
   ]
  },
  {
   "cell_type": "markdown",
   "metadata": {},
   "source": [
    "# Closing remarks\n",
    "\n",
    "We've seen that various metrics and results can be easily created from a simple Git log output file. With Pandas, it's possible to get to know the habits of the developers of software projects."
   ]
  }
 ],
 "metadata": {
  "hide_input": false,
  "kernelspec": {
   "display_name": "Python 3",
   "language": "python",
   "name": "python3"
  },
  "language_info": {
   "codemirror_mode": {
    "name": "ipython",
    "version": 3
   },
   "file_extension": ".py",
   "mimetype": "text/x-python",
   "name": "python",
   "nbconvert_exporter": "python",
   "pygments_lexer": "ipython3",
   "version": "3.6.2"
  },
  "toc": {
   "nav_menu": {},
   "number_sections": true,
   "sideBar": true,
   "skip_h1_title": false,
   "toc_cell": true,
   "toc_position": {
    "height": "441px",
    "left": "0px",
    "right": "1040.17px",
    "top": "107px",
    "width": "212px"
   },
   "toc_section_display": "block",
   "toc_window_display": false
  }
 },
 "nbformat": 4,
 "nbformat_minor": 2
}
