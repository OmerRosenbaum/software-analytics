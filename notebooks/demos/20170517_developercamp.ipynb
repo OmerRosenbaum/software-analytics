{
 "cells": [
  {
   "cell_type": "markdown",
   "metadata": {},
   "source": [
    "# Hello\n",
    "* list"
   ]
  },
  {
   "cell_type": "code",
   "execution_count": 1,
   "metadata": {
    "collapsed": false
   },
   "outputs": [
    {
     "name": "stdout",
     "output_type": "stream",
     "text": [
      "sha,timestamp,author,email\n",
      "ee29613,Tue May 16 17:02:30 2017 +0200,Simon Brandhof,simon.brandhof@sonarsource.com\n",
      "266a243,Tue May 16 13:33:25 2017 +0200,Eric Hartmann,hartmann.eric@gmail.com\n",
      "1271c3a,Tue May 16 10:39:14 2017 +0200,Simon Brandhof,simon.brandhof@sonarsource.com\n",
      "63e0d80,Mon May 15 10:55:48 2017 +0200,Sébastien Lesaint,sebastien.lesaint@sonarsource.com\n",
      "60fd87b,Fri May 12 11:05:04 2017 +0200,Stas Vilchik,vilchiks@gmail.com\n",
      "88f6526,Fri May 12 10:51:51 2017 +0200,Stas Vilchik,vilchiks@gmail.com\n",
      "7a223b1,Mon May 15 08:37:28 2017 +0200,Grégoire Aubert,gregoire.aubert@sonarsource.com\n",
      "9fc2898,Fri May 12 16:16:19 2017 +0200,Grégoire Aubert,gregoire.aubert@sonarsource.com\n",
      "44bb869,Fri May 12 12:37:11 2017 +0200,Teryk Bellahsene,teryk.bellahsene@sonarsource.com\n"
     ]
    },
    {
     "name": "stderr",
     "output_type": "stream",
     "text": [
      "Cloning into '/tmp/demo/sonarcube_git_repo'...\n"
     ]
    }
   ],
   "source": [
    "%%bash\n",
    "GIT_REPO_DIR=/tmp/demo/sonarcube_git_repo\n",
    "rm -rf $GIT_REPO_DIR\n",
    "mkdir -p $GIT_REPO_DIR\n",
    "# warning, this could take a while (~5 minutes)...\n",
    "git clone https://github.com/SonarSource/sonarqube.git $GIT_REPO_DIR\n",
    "cd $GIT_REPO_DIR\n",
    "\n",
    "DATA_DIR=\"/tmp/data/input/\"\n",
    "rm -rf $DATA_DIR\n",
    "mkdir -p $DATA_DIR\n",
    "GIT_LOG_FILE=\"$DATA_DIR/git.log\"\n",
    "echo 'sha,timestamp,author,email' > $GIT_LOG_FILE\n",
    "git log --pretty=format:'%h,%ad,%aN,%ae' >> $GIT_LOG_FILE\n",
    "head $GIT_LOG_FILE"
   ]
  },
  {
   "cell_type": "code",
   "execution_count": 2,
   "metadata": {
    "collapsed": false
   },
   "outputs": [
    {
     "data": {
      "text/html": [
       "<div>\n",
       "<table border=\"1\" class=\"dataframe\">\n",
       "  <thead>\n",
       "    <tr style=\"text-align: right;\">\n",
       "      <th></th>\n",
       "      <th>sha</th>\n",
       "      <th>timestamp</th>\n",
       "      <th>author</th>\n",
       "      <th>email</th>\n",
       "    </tr>\n",
       "  </thead>\n",
       "  <tbody>\n",
       "    <tr>\n",
       "      <th>0</th>\n",
       "      <td>ee29613</td>\n",
       "      <td>Tue May 16 17:02:30 2017 +0200</td>\n",
       "      <td>Simon Brandhof</td>\n",
       "      <td>simon.brandhof@sonarsource.com</td>\n",
       "    </tr>\n",
       "    <tr>\n",
       "      <th>1</th>\n",
       "      <td>266a243</td>\n",
       "      <td>Tue May 16 13:33:25 2017 +0200</td>\n",
       "      <td>Eric Hartmann</td>\n",
       "      <td>hartmann.eric@gmail.com</td>\n",
       "    </tr>\n",
       "    <tr>\n",
       "      <th>2</th>\n",
       "      <td>1271c3a</td>\n",
       "      <td>Tue May 16 10:39:14 2017 +0200</td>\n",
       "      <td>Simon Brandhof</td>\n",
       "      <td>simon.brandhof@sonarsource.com</td>\n",
       "    </tr>\n",
       "    <tr>\n",
       "      <th>3</th>\n",
       "      <td>63e0d80</td>\n",
       "      <td>Mon May 15 10:55:48 2017 +0200</td>\n",
       "      <td>Sébastien Lesaint</td>\n",
       "      <td>sebastien.lesaint@sonarsource.com</td>\n",
       "    </tr>\n",
       "    <tr>\n",
       "      <th>4</th>\n",
       "      <td>60fd87b</td>\n",
       "      <td>Fri May 12 11:05:04 2017 +0200</td>\n",
       "      <td>Stas Vilchik</td>\n",
       "      <td>vilchiks@gmail.com</td>\n",
       "    </tr>\n",
       "  </tbody>\n",
       "</table>\n",
       "</div>"
      ],
      "text/plain": [
       "       sha                       timestamp             author  \\\n",
       "0  ee29613  Tue May 16 17:02:30 2017 +0200     Simon Brandhof   \n",
       "1  266a243  Tue May 16 13:33:25 2017 +0200      Eric Hartmann   \n",
       "2  1271c3a  Tue May 16 10:39:14 2017 +0200     Simon Brandhof   \n",
       "3  63e0d80  Mon May 15 10:55:48 2017 +0200  Sébastien Lesaint   \n",
       "4  60fd87b  Fri May 12 11:05:04 2017 +0200       Stas Vilchik   \n",
       "\n",
       "                               email  \n",
       "0     simon.brandhof@sonarsource.com  \n",
       "1            hartmann.eric@gmail.com  \n",
       "2     simon.brandhof@sonarsource.com  \n",
       "3  sebastien.lesaint@sonarsource.com  \n",
       "4                 vilchiks@gmail.com  "
      ]
     },
     "execution_count": 2,
     "metadata": {},
     "output_type": "execute_result"
    }
   ],
   "source": [
    "import pandas as pd\n",
    "commits = pd.read_csv(\"/tmp/data/input/git.log\")\n",
    "commits.head()"
   ]
  },
  {
   "cell_type": "code",
   "execution_count": 3,
   "metadata": {
    "collapsed": false
   },
   "outputs": [
    {
     "data": {
      "text/plain": [
       "Simon Brandhof              5013\n",
       "Julien Lancelot             4189\n",
       "Stas Vilchik                3365\n",
       "Julien HENRY                1429\n",
       "Sébastien Lesaint           1318\n",
       "Jean-Baptiste Lievremont    1147\n",
       "simonbrandhof               1051\n",
       "Teryk Bellahsene            1020\n",
       "Stephane Gamard              849\n",
       "Fabrice Bellingard           813\n",
       "Name: author, dtype: int64"
      ]
     },
     "execution_count": 3,
     "metadata": {},
     "output_type": "execute_result"
    }
   ],
   "source": [
    "commits['author'].value_counts().head(10)"
   ]
  },
  {
   "cell_type": "code",
   "execution_count": 4,
   "metadata": {
    "collapsed": false
   },
   "outputs": [
    {
     "data": {
      "text/html": [
       "<div>\n",
       "<table border=\"1\" class=\"dataframe\">\n",
       "  <thead>\n",
       "    <tr style=\"text-align: right;\">\n",
       "      <th></th>\n",
       "      <th>Person</th>\n",
       "    </tr>\n",
       "    <tr>\n",
       "      <th>Author</th>\n",
       "      <th></th>\n",
       "    </tr>\n",
       "  </thead>\n",
       "  <tbody>\n",
       "    <tr>\n",
       "      <th>Julien HENRY</th>\n",
       "      <td>Julien Lancelot</td>\n",
       "    </tr>\n",
       "    <tr>\n",
       "      <th>simonbrandhof</th>\n",
       "      <td>Simon Brandhof</td>\n",
       "    </tr>\n",
       "  </tbody>\n",
       "</table>\n",
       "</div>"
      ],
      "text/plain": [
       "                        Person\n",
       "Author                        \n",
       "Julien HENRY   Julien Lancelot\n",
       "simonbrandhof   Simon Brandhof"
      ]
     },
     "execution_count": 4,
     "metadata": {},
     "output_type": "execute_result"
    }
   ],
   "source": [
    "personmapping = pd.read_excel(\"PersonMapping.xlsx\", index_col=0)\n",
    "personmapping"
   ]
  },
  {
   "cell_type": "code",
   "execution_count": 5,
   "metadata": {
    "collapsed": false
   },
   "outputs": [
    {
     "data": {
      "text/html": [
       "<div>\n",
       "<table border=\"1\" class=\"dataframe\">\n",
       "  <thead>\n",
       "    <tr style=\"text-align: right;\">\n",
       "      <th></th>\n",
       "      <th>sha</th>\n",
       "      <th>timestamp</th>\n",
       "      <th>author</th>\n",
       "      <th>email</th>\n",
       "      <th>person</th>\n",
       "    </tr>\n",
       "  </thead>\n",
       "  <tbody>\n",
       "    <tr>\n",
       "      <th>0</th>\n",
       "      <td>ee29613</td>\n",
       "      <td>Tue May 16 17:02:30 2017 +0200</td>\n",
       "      <td>Simon Brandhof</td>\n",
       "      <td>simon.brandhof@sonarsource.com</td>\n",
       "      <td>Simon Brandhof</td>\n",
       "    </tr>\n",
       "    <tr>\n",
       "      <th>1</th>\n",
       "      <td>266a243</td>\n",
       "      <td>Tue May 16 13:33:25 2017 +0200</td>\n",
       "      <td>Eric Hartmann</td>\n",
       "      <td>hartmann.eric@gmail.com</td>\n",
       "      <td>Eric Hartmann</td>\n",
       "    </tr>\n",
       "    <tr>\n",
       "      <th>2</th>\n",
       "      <td>1271c3a</td>\n",
       "      <td>Tue May 16 10:39:14 2017 +0200</td>\n",
       "      <td>Simon Brandhof</td>\n",
       "      <td>simon.brandhof@sonarsource.com</td>\n",
       "      <td>Simon Brandhof</td>\n",
       "    </tr>\n",
       "    <tr>\n",
       "      <th>3</th>\n",
       "      <td>63e0d80</td>\n",
       "      <td>Mon May 15 10:55:48 2017 +0200</td>\n",
       "      <td>Sébastien Lesaint</td>\n",
       "      <td>sebastien.lesaint@sonarsource.com</td>\n",
       "      <td>Sébastien Lesaint</td>\n",
       "    </tr>\n",
       "    <tr>\n",
       "      <th>4</th>\n",
       "      <td>60fd87b</td>\n",
       "      <td>Fri May 12 11:05:04 2017 +0200</td>\n",
       "      <td>Stas Vilchik</td>\n",
       "      <td>vilchiks@gmail.com</td>\n",
       "      <td>Stas Vilchik</td>\n",
       "    </tr>\n",
       "  </tbody>\n",
       "</table>\n",
       "</div>"
      ],
      "text/plain": [
       "       sha                       timestamp             author  \\\n",
       "0  ee29613  Tue May 16 17:02:30 2017 +0200     Simon Brandhof   \n",
       "1  266a243  Tue May 16 13:33:25 2017 +0200      Eric Hartmann   \n",
       "2  1271c3a  Tue May 16 10:39:14 2017 +0200     Simon Brandhof   \n",
       "3  63e0d80  Mon May 15 10:55:48 2017 +0200  Sébastien Lesaint   \n",
       "4  60fd87b  Fri May 12 11:05:04 2017 +0200       Stas Vilchik   \n",
       "\n",
       "                               email             person  \n",
       "0     simon.brandhof@sonarsource.com     Simon Brandhof  \n",
       "1            hartmann.eric@gmail.com      Eric Hartmann  \n",
       "2     simon.brandhof@sonarsource.com     Simon Brandhof  \n",
       "3  sebastien.lesaint@sonarsource.com  Sébastien Lesaint  \n",
       "4                 vilchiks@gmail.com       Stas Vilchik  "
      ]
     },
     "execution_count": 5,
     "metadata": {},
     "output_type": "execute_result"
    }
   ],
   "source": [
    "commits['person'] = commits['author']\n",
    "commits.head()"
   ]
  },
  {
   "cell_type": "code",
   "execution_count": 6,
   "metadata": {
    "collapsed": false
   },
   "outputs": [
    {
     "data": {
      "text/plain": [
       "Simon Brandhof              6064\n",
       "Julien Lancelot             5618\n",
       "Stas Vilchik                3365\n",
       "Sébastien Lesaint           1318\n",
       "Jean-Baptiste Lievremont    1147\n",
       "Teryk Bellahsene            1020\n",
       "Stephane Gamard              849\n",
       "Fabrice Bellingard           813\n",
       "David Gageot                 630\n",
       "Evgeny Mandrikov             588\n",
       "Name: person, dtype: int64"
      ]
     },
     "execution_count": 6,
     "metadata": {},
     "output_type": "execute_result"
    }
   ],
   "source": [
    "commits.ix[commits['person'].isin(personmapping.index), 'person'] = \\\n",
    "    commits['author'].map(personmapping['Person'])\n",
    "commits['person'].value_counts().head(10)"
   ]
  },
  {
   "cell_type": "code",
   "execution_count": 7,
   "metadata": {
    "collapsed": false
   },
   "outputs": [
    {
     "data": {
      "text/plain": [
       "<matplotlib.axes._subplots.AxesSubplot at 0x7f1f02d049b0>"
      ]
     },
     "execution_count": 7,
     "metadata": {},
     "output_type": "execute_result"
    },
    {
     "data": {
      "image/png": "[encoded data removed]",
      "text/plain": [
       "<matplotlib.figure.Figure at 0x7f1f2fe236a0>"
      ]
     },
     "metadata": {},
     "output_type": "display_data"
    }
   ],
   "source": [
    "%matplotlib inline\n",
    "commits['person'].value_counts().head(10).plot(kind='pie', figsize=(5,5))"
   ]
  },
  {
   "cell_type": "code",
   "execution_count": 8,
   "metadata": {
    "collapsed": false
   },
   "outputs": [
    {
     "data": {
      "text/html": [
       "<div>\n",
       "<table border=\"1\" class=\"dataframe\">\n",
       "  <thead>\n",
       "    <tr style=\"text-align: right;\">\n",
       "      <th></th>\n",
       "      <th>sha</th>\n",
       "      <th>timestamp</th>\n",
       "      <th>author</th>\n",
       "      <th>email</th>\n",
       "      <th>person</th>\n",
       "    </tr>\n",
       "  </thead>\n",
       "  <tbody>\n",
       "    <tr>\n",
       "      <th>0</th>\n",
       "      <td>ee29613</td>\n",
       "      <td>2017-05-16 15:02:30</td>\n",
       "      <td>Simon Brandhof</td>\n",
       "      <td>simon.brandhof@sonarsource.com</td>\n",
       "      <td>Simon Brandhof</td>\n",
       "    </tr>\n",
       "    <tr>\n",
       "      <th>1</th>\n",
       "      <td>266a243</td>\n",
       "      <td>2017-05-16 11:33:25</td>\n",
       "      <td>Eric Hartmann</td>\n",
       "      <td>hartmann.eric@gmail.com</td>\n",
       "      <td>Eric Hartmann</td>\n",
       "    </tr>\n",
       "    <tr>\n",
       "      <th>2</th>\n",
       "      <td>1271c3a</td>\n",
       "      <td>2017-05-16 08:39:14</td>\n",
       "      <td>Simon Brandhof</td>\n",
       "      <td>simon.brandhof@sonarsource.com</td>\n",
       "      <td>Simon Brandhof</td>\n",
       "    </tr>\n",
       "    <tr>\n",
       "      <th>3</th>\n",
       "      <td>63e0d80</td>\n",
       "      <td>2017-05-15 08:55:48</td>\n",
       "      <td>Sébastien Lesaint</td>\n",
       "      <td>sebastien.lesaint@sonarsource.com</td>\n",
       "      <td>Sébastien Lesaint</td>\n",
       "    </tr>\n",
       "    <tr>\n",
       "      <th>4</th>\n",
       "      <td>60fd87b</td>\n",
       "      <td>2017-05-12 09:05:04</td>\n",
       "      <td>Stas Vilchik</td>\n",
       "      <td>vilchiks@gmail.com</td>\n",
       "      <td>Stas Vilchik</td>\n",
       "    </tr>\n",
       "  </tbody>\n",
       "</table>\n",
       "</div>"
      ],
      "text/plain": [
       "       sha           timestamp             author  \\\n",
       "0  ee29613 2017-05-16 15:02:30     Simon Brandhof   \n",
       "1  266a243 2017-05-16 11:33:25      Eric Hartmann   \n",
       "2  1271c3a 2017-05-16 08:39:14     Simon Brandhof   \n",
       "3  63e0d80 2017-05-15 08:55:48  Sébastien Lesaint   \n",
       "4  60fd87b 2017-05-12 09:05:04       Stas Vilchik   \n",
       "\n",
       "                               email             person  \n",
       "0     simon.brandhof@sonarsource.com     Simon Brandhof  \n",
       "1            hartmann.eric@gmail.com      Eric Hartmann  \n",
       "2     simon.brandhof@sonarsource.com     Simon Brandhof  \n",
       "3  sebastien.lesaint@sonarsource.com  Sébastien Lesaint  \n",
       "4                 vilchiks@gmail.com       Stas Vilchik  "
      ]
     },
     "execution_count": 8,
     "metadata": {},
     "output_type": "execute_result"
    }
   ],
   "source": [
    "commits['timestamp'] = pd.to_datetime(commits['timestamp'])\n",
    "commits.head()"
   ]
  },
  {
   "cell_type": "code",
   "execution_count": 9,
   "metadata": {
    "collapsed": false
   },
   "outputs": [
    {
     "data": {
      "text/html": [
       "<div>\n",
       "<table border=\"1\" class=\"dataframe\">\n",
       "  <thead>\n",
       "    <tr style=\"text-align: right;\">\n",
       "      <th></th>\n",
       "      <th>sha</th>\n",
       "      <th>timestamp</th>\n",
       "      <th>author</th>\n",
       "      <th>email</th>\n",
       "      <th>person</th>\n",
       "    </tr>\n",
       "    <tr>\n",
       "      <th>timestamp</th>\n",
       "      <th></th>\n",
       "      <th></th>\n",
       "      <th></th>\n",
       "      <th></th>\n",
       "      <th></th>\n",
       "    </tr>\n",
       "  </thead>\n",
       "  <tbody>\n",
       "    <tr>\n",
       "      <th>2017-05-16 15:02:30</th>\n",
       "      <td>ee29613</td>\n",
       "      <td>2017-05-16 15:02:30</td>\n",
       "      <td>Simon Brandhof</td>\n",
       "      <td>simon.brandhof@sonarsource.com</td>\n",
       "      <td>Simon Brandhof</td>\n",
       "    </tr>\n",
       "    <tr>\n",
       "      <th>2017-05-16 11:33:25</th>\n",
       "      <td>266a243</td>\n",
       "      <td>2017-05-16 11:33:25</td>\n",
       "      <td>Eric Hartmann</td>\n",
       "      <td>hartmann.eric@gmail.com</td>\n",
       "      <td>Eric Hartmann</td>\n",
       "    </tr>\n",
       "    <tr>\n",
       "      <th>2017-05-16 08:39:14</th>\n",
       "      <td>1271c3a</td>\n",
       "      <td>2017-05-16 08:39:14</td>\n",
       "      <td>Simon Brandhof</td>\n",
       "      <td>simon.brandhof@sonarsource.com</td>\n",
       "      <td>Simon Brandhof</td>\n",
       "    </tr>\n",
       "    <tr>\n",
       "      <th>2017-05-15 08:55:48</th>\n",
       "      <td>63e0d80</td>\n",
       "      <td>2017-05-15 08:55:48</td>\n",
       "      <td>Sébastien Lesaint</td>\n",
       "      <td>sebastien.lesaint@sonarsource.com</td>\n",
       "      <td>Sébastien Lesaint</td>\n",
       "    </tr>\n",
       "    <tr>\n",
       "      <th>2017-05-12 09:05:04</th>\n",
       "      <td>60fd87b</td>\n",
       "      <td>2017-05-12 09:05:04</td>\n",
       "      <td>Stas Vilchik</td>\n",
       "      <td>vilchiks@gmail.com</td>\n",
       "      <td>Stas Vilchik</td>\n",
       "    </tr>\n",
       "  </tbody>\n",
       "</table>\n",
       "</div>"
      ],
      "text/plain": [
       "                         sha           timestamp             author  \\\n",
       "timestamp                                                             \n",
       "2017-05-16 15:02:30  ee29613 2017-05-16 15:02:30     Simon Brandhof   \n",
       "2017-05-16 11:33:25  266a243 2017-05-16 11:33:25      Eric Hartmann   \n",
       "2017-05-16 08:39:14  1271c3a 2017-05-16 08:39:14     Simon Brandhof   \n",
       "2017-05-15 08:55:48  63e0d80 2017-05-15 08:55:48  Sébastien Lesaint   \n",
       "2017-05-12 09:05:04  60fd87b 2017-05-12 09:05:04       Stas Vilchik   \n",
       "\n",
       "                                                 email             person  \n",
       "timestamp                                                                  \n",
       "2017-05-16 15:02:30     simon.brandhof@sonarsource.com     Simon Brandhof  \n",
       "2017-05-16 11:33:25            hartmann.eric@gmail.com      Eric Hartmann  \n",
       "2017-05-16 08:39:14     simon.brandhof@sonarsource.com     Simon Brandhof  \n",
       "2017-05-15 08:55:48  sebastien.lesaint@sonarsource.com  Sébastien Lesaint  \n",
       "2017-05-12 09:05:04                 vilchiks@gmail.com       Stas Vilchik  "
      ]
     },
     "execution_count": 9,
     "metadata": {},
     "output_type": "execute_result"
    }
   ],
   "source": [
    "commits = commits.set_index(commits['timestamp'])\n",
    "commits.head()"
   ]
  },
  {
   "cell_type": "code",
   "execution_count": 10,
   "metadata": {
    "collapsed": false
   },
   "outputs": [
    {
     "data": {
      "text/html": [
       "<div>\n",
       "<table border=\"1\" class=\"dataframe\">\n",
       "  <thead>\n",
       "    <tr style=\"text-align: right;\">\n",
       "      <th></th>\n",
       "      <th>sha</th>\n",
       "      <th>timestamp</th>\n",
       "      <th>author</th>\n",
       "      <th>email</th>\n",
       "      <th>person</th>\n",
       "    </tr>\n",
       "    <tr>\n",
       "      <th>timestamp</th>\n",
       "      <th></th>\n",
       "      <th></th>\n",
       "      <th></th>\n",
       "      <th></th>\n",
       "      <th></th>\n",
       "    </tr>\n",
       "  </thead>\n",
       "  <tbody>\n",
       "    <tr>\n",
       "      <th>2010-09-30</th>\n",
       "      <td>180</td>\n",
       "      <td>180</td>\n",
       "      <td>180</td>\n",
       "      <td>180</td>\n",
       "      <td>180</td>\n",
       "    </tr>\n",
       "    <tr>\n",
       "      <th>2010-10-31</th>\n",
       "      <td>172</td>\n",
       "      <td>172</td>\n",
       "      <td>172</td>\n",
       "      <td>172</td>\n",
       "      <td>172</td>\n",
       "    </tr>\n",
       "    <tr>\n",
       "      <th>2010-11-30</th>\n",
       "      <td>257</td>\n",
       "      <td>257</td>\n",
       "      <td>257</td>\n",
       "      <td>257</td>\n",
       "      <td>257</td>\n",
       "    </tr>\n",
       "    <tr>\n",
       "      <th>2010-12-31</th>\n",
       "      <td>258</td>\n",
       "      <td>258</td>\n",
       "      <td>258</td>\n",
       "      <td>258</td>\n",
       "      <td>258</td>\n",
       "    </tr>\n",
       "    <tr>\n",
       "      <th>2011-01-31</th>\n",
       "      <td>142</td>\n",
       "      <td>142</td>\n",
       "      <td>142</td>\n",
       "      <td>142</td>\n",
       "      <td>142</td>\n",
       "    </tr>\n",
       "  </tbody>\n",
       "</table>\n",
       "</div>"
      ],
      "text/plain": [
       "            sha  timestamp  author  email  person\n",
       "timestamp                                        \n",
       "2010-09-30  180        180     180    180     180\n",
       "2010-10-31  172        172     172    172     172\n",
       "2010-11-30  257        257     257    257     257\n",
       "2010-12-31  258        258     258    258     258\n",
       "2011-01-31  142        142     142    142     142"
      ]
     },
     "execution_count": 10,
     "metadata": {},
     "output_type": "execute_result"
    }
   ],
   "source": [
    "commits_per_months = commits.resample('1M').count()\n",
    "commits_per_months.head()"
   ]
  },
  {
   "cell_type": "code",
   "execution_count": 11,
   "metadata": {
    "collapsed": false
   },
   "outputs": [
    {
     "data": {
      "text/plain": [
       "<matplotlib.axes._subplots.AxesSubplot at 0x7f1f056f6400>"
      ]
     },
     "execution_count": 11,
     "metadata": {},
     "output_type": "execute_result"
    },
    {
     "data": {
      "image/png": "[encoded data removed]",
      "text/plain": [
       "<matplotlib.figure.Figure at 0x7f1f006882e8>"
      ]
     },
     "metadata": {},
     "output_type": "display_data"
    }
   ],
   "source": [
    "commits_per_months['sha'].plot()"
   ]
  }
 ],
 "metadata": {
  "kernelspec": {
   "display_name": "Python 3",
   "language": "python",
   "name": "python3"
  },
  "language_info": {
   "codemirror_mode": {
    "name": "ipython",
    "version": 3
   },
   "file_extension": ".py",
   "mimetype": "text/x-python",
   "name": "python",
   "nbconvert_exporter": "python",
   "pygments_lexer": "ipython3",
   "version": "3.6.0"
  }
 },
 "nbformat": 4,
 "nbformat_minor": 2
}
