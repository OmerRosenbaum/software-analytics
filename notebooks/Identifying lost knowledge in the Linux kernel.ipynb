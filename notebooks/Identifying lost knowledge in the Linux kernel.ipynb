{
 "cells": [
  {
   "cell_type": "markdown",
   "metadata": {},
   "source": [
    "# Introduction\n",
    "Knowing all about the software system we are developing is a valuable, but too often a rare situation we are facing today. In times of software development experts shortages and stressful software projects, high turnover in teams lead quickly to lost knowledge about the source code (&lt;scrumcasm&gt;And who needs to document? We do Scrum!&lt;/scrumcasm&gt;).\n",
    "\n",
    "I already did some calculations of the [knowledge distribution](https://www.feststelltaste.de/knowledge-islands/) of software systems based on Adam Tornhill marvelous ideas in \"Your Code as a Crime Scene\" ([publisher's site](https://pragprog.com/book/atcrime/your-code-as-a-crime-scene), but my recommendation is to get the [newer book](https://pragprog.com/book/atevol/software-design-x-rays)). It really did it's job. But after my experiences from a Subversion to Git migration (where I, who guessed, ensured the quality of the migrated data :-) ), I've found another neat idea for another model to find lost knowledge."
   ]
  },
  {
   "cell_type": "markdown",
   "metadata": {},
   "source": [
    "# The Idea\n",
    "\n",
    "First: How do you define knowledge about your code? We could get into a deep philosophical discussion about what knowledge is and if there is such a thing like knowledge (invite to a beer if you want to start this discourse ;-)). But let's look at it from a developer's point of view: E. g. in my case, every time I want to know who could possible know something about a code line written, for example, for this piece of code (the meaning of the source code is irrelevant here),\n",
    "\n",
    "![](resources/blame_game_source.png)\n",
    "\n",
    "I'm catching myself in using the <strike>blame</strike> appraisal features of version control systems heavily. This feature calculates the latest change for each lines. The resulting view gives me very helpful hints about what changes in a source code line happened recently\n",
    "\n",
    "![](resources/blame_game_annotate1.png)\n",
    "\n",
    "with plenty of information about who and when this change occurred for each source code line.\n",
    "\n",
    "![](resources/blame_game_annotate2.png)\n",
    "\n",
    "With these results, I can take a look at the author of the code and the time stamp of the code change. This gives me enough hints about the circumstances in which the code change happened as well as the answer to the question if the original author could still possibly know anything about the source code line. For the latter, the answer is highly dependent on the recency of a code change. Here, I'm using Eagleson's law as heuristic:\n",
    "\n",
    "<blockquote class=\"twitter-tweet\" data-lang=\"de\"><p lang=\"en\" dir=\"ltr\">Eagleson&#39;s Law: Any code of your own that you haven&#39;t looked at for six or more months might as well have been written by someone else.</p>&mdash; Programming Wisdom (@CodeWisdom) <a href=\"https://twitter.com/CodeWisdom/status/940007477642432514?ref_src=twsrc%5Etfw\">10. Dezember 2017</a></blockquote>\n",
    "<script async src=\"https://platform.twitter.com/widgets.js\" charset=\"utf-8\"></script>\n",
    "\n",
    "If the code change is older than six months, it's very likely that the knowledge about the source code line is lost completely.\n",
    "\n",
    "So there we have it: A reasonable model of code knowledge! If we would have this information for all source code files of our software project, we would be able to identify the areas in our software system with lost knowledge (and find out, if we are <strike>screwed</strike> in a challenging situation!).\n",
    "\n",
    "So, let's get the data we need for this analysis!"
   ]
  },
  {
   "cell_type": "markdown",
   "metadata": {},
   "source": [
    "# Number Crunching\n",
    "\n",
    "Getting the data is straightforward: We just need a software system that used a version control system like Git for managing the code changes. I choose the Git repository of Linux for this demonstration. The reason? It's big! In this repo, we have a snapshot of the last 13 years of Linux kernel development at our hand with over 750000 commits and some millions lines of source code.\n",
    "\n",
    "We can get our hands on the necessary data with the `git blame` command that we execute for each source code file in the repository. There is a nice little bash command that makes this happen for us:\n",
    "\n",
    "```\n",
    "find . -type d -name \".git\" -prune -o -type f \\( -iname \"*.c\" -o -iname \"*.h\" \\) | xargs -n1 git blame -w -f\n",
    "```\n",
    "\n",
    "It first finds all C programming language source code files (`.h` header files as well as th`.c` program files) and retrieves the `git blame` information for each source code line in each file. This information includes\n",
    "* the sha id of the commit\n",
    "* the relative path of the file\n",
    "* the name of the author\n",
    "* the commit time stamp\n",
    "* the source line number\n",
    "* the source code line itself\n",
    "\n",
    "At this point you might ask: \"OK, wait a minute: 13 years of development efforts, with around 750000 commits and (spoiler alert!) 10235 source code files that sum up to 5.6 millions lines of code. Are you insane?\"\n",
    "\n",
    "Well, kind of. I hadn't thought that retrieving the data set would take so long. But in the end, I didn't care because I did the calculation on a Google Cloud Compute Engine, which was pretty busy for 11 hours on a n1-standard-1 CPU (which cost me 30 cents, donations welcome :-D):\n",
    "\n",
    "![](resources/blame_game_gcp.png)\n",
    "\n",
    "The result was a 3 GB big log file that I've packed and downloaded to my computer. And this is where we start the first part our analysis with Python and Pandas!"
   ]
  },
  {
   "cell_type": "markdown",
   "metadata": {},
   "source": [
    "## Wrangling the raw data\n",
    "First, I want to create a nice little comma separated file with only the data we need for later analysis. This is why we first take the raw data and transform it to something we can call a decent data set.\n",
    "\n",
    "I have my experiences with old and big repositories, so I know that it's not going to be easy to read in such a long runner. The nice and bad thing at the same time is, that the Linux kernel was developed internationally. This means: Fun with file encodings! It seems that every nation has it's own way of encoding their special character sets. Especially when working with author data, it's really a PITA. You simply cannot read in the data set with standard means. The universal weapon for this is to import data into a Pandas DataFrame with the encoding `latin-1` which seems to don't care if there are some weired characters in the data.\n",
    "\n",
    "Additionally, there is no good format for outputting the Git blame log in a way, that it's easy to process. There are some flags for machine-friendly output, but these are multi-line formats (which are...not very nice to work with in Pandas). So in these cases, I like to <strike>eat</strike> get my data in a very raw format. There is this other trick to use a non-used separator (I prefer `\\u0012`) that makes Pandas reading in a text file in one single columns.\n",
    "\n",
    "So let's do this!"
   ]
  },
  {
   "cell_type": "code",
   "execution_count": 1,
   "metadata": {},
   "outputs": [
    {
     "data": {
      "text/html": [
       "<div>\n",
       "<style scoped>\n",
       "    .dataframe tbody tr th:only-of-type {\n",
       "        vertical-align: middle;\n",
       "    }\n",
       "\n",
       "    .dataframe tbody tr th {\n",
       "        vertical-align: top;\n",
       "    }\n",
       "\n",
       "    .dataframe thead th {\n",
       "        text-align: right;\n",
       "    }\n",
       "</style>\n",
       "<table border=\"1\" class=\"dataframe\">\n",
       "  <thead>\n",
       "    <tr style=\"text-align: right;\">\n",
       "      <th></th>\n",
       "      <th>raw</th>\n",
       "    </tr>\n",
       "  </thead>\n",
       "  <tbody>\n",
       "    <tr>\n",
       "      <th>0</th>\n",
       "      <td>linux_blame_temp.log</td>\n",
       "    </tr>\n",
       "    <tr>\n",
       "      <th>1</th>\n",
       "      <td>NaN</td>\n",
       "    </tr>\n",
       "    <tr>\n",
       "      <th>2</th>\n",
       "      <td>889d0d42667c9 drivers/scsi/bfa/bfad_drv.h (Ani...</td>\n",
       "    </tr>\n",
       "    <tr>\n",
       "      <th>3</th>\n",
       "      <td>889d0d42667c9 drivers/scsi/bfa/bfad_drv.h (Ani...</td>\n",
       "    </tr>\n",
       "    <tr>\n",
       "      <th>4</th>\n",
       "      <td>7725ccfda5971 drivers/scsi/bfa/bfad_drv.h (Jin...</td>\n",
       "    </tr>\n",
       "  </tbody>\n",
       "</table>\n",
       "</div>"
      ],
      "text/plain": [
       "                                                 raw\n",
       "0                               linux_blame_temp.log\n",
       "1                                                NaN\n",
       "2  889d0d42667c9 drivers/scsi/bfa/bfad_drv.h (Ani...\n",
       "3  889d0d42667c9 drivers/scsi/bfa/bfad_drv.h (Ani...\n",
       "4  7725ccfda5971 drivers/scsi/bfa/bfad_drv.h (Jin..."
      ]
     },
     "execution_count": 1,
     "metadata": {},
     "output_type": "execute_result"
    }
   ],
   "source": [
    "import pandas as pd\n",
    "\n",
    "PATH = r\"C:\\Users\\Markus\\Downloads\\linux_blame_temp.tar.gz\"\n",
    "blame_raw = pd.read_csv(PATH, encoding=\"latin-1\", sep=\"\\u0012\", names=[\"raw\"])\n",
    "blame_raw.head()"
   ]
  },
  {
   "cell_type": "markdown",
   "metadata": {},
   "source": [
    "After around 30 seconds, we read in our 3 GB Git blame log (I think it's kind of okayish). Maybe you're wondering why this takes so long. Well let's see how many entries our dataset."
   ]
  },
  {
   "cell_type": "code",
   "execution_count": 2,
   "metadata": {},
   "outputs": [
    {
     "data": {
      "text/plain": [
       "5665949"
      ]
     },
     "execution_count": 2,
     "metadata": {},
     "output_type": "execute_result"
    }
   ],
   "source": [
    "len(blame_raw)"
   ]
  },
  {
   "cell_type": "markdown",
   "metadata": {},
   "source": [
    "There are 5.6 million entries (= source code lines) that needed to be read in.\n",
    "\n",
    "In the next code cell, we extract all the data from the `raw` column into a new DataFrame calles `blame`. We just need to figure out the right regular expression for this and we are fine. In this step, we also exclude the source code of the blame log because we actually don't need this information for our knowledge loss calculation.\n",
    "\n",
    "As always when working with string data, this needs time."
   ]
  },
  {
   "cell_type": "code",
   "execution_count": 3,
   "metadata": {},
   "outputs": [
    {
     "data": {
      "text/html": [
       "<div>\n",
       "<style scoped>\n",
       "    .dataframe tbody tr th:only-of-type {\n",
       "        vertical-align: middle;\n",
       "    }\n",
       "\n",
       "    .dataframe tbody tr th {\n",
       "        vertical-align: top;\n",
       "    }\n",
       "\n",
       "    .dataframe thead th {\n",
       "        text-align: right;\n",
       "    }\n",
       "</style>\n",
       "<table border=\"1\" class=\"dataframe\">\n",
       "  <thead>\n",
       "    <tr style=\"text-align: right;\">\n",
       "      <th></th>\n",
       "      <th>sha</th>\n",
       "      <th>path</th>\n",
       "      <th>author</th>\n",
       "      <th>timestamp</th>\n",
       "      <th>line</th>\n",
       "    </tr>\n",
       "  </thead>\n",
       "  <tbody>\n",
       "    <tr>\n",
       "      <th>0</th>\n",
       "      <td>NaN</td>\n",
       "      <td>NaN</td>\n",
       "      <td>NaN</td>\n",
       "      <td>NaN</td>\n",
       "      <td>NaN</td>\n",
       "    </tr>\n",
       "    <tr>\n",
       "      <th>1</th>\n",
       "      <td>NaN</td>\n",
       "      <td>NaN</td>\n",
       "      <td>NaN</td>\n",
       "      <td>NaN</td>\n",
       "      <td>NaN</td>\n",
       "    </tr>\n",
       "    <tr>\n",
       "      <th>2</th>\n",
       "      <td>889d0d42667c9</td>\n",
       "      <td>drivers/scsi/bfa/bfad_drv.h</td>\n",
       "      <td>Anil Gurumurthy</td>\n",
       "      <td>2015-11-26 03:54:45 -0500</td>\n",
       "      <td>2</td>\n",
       "    </tr>\n",
       "    <tr>\n",
       "      <th>3</th>\n",
       "      <td>889d0d42667c9</td>\n",
       "      <td>drivers/scsi/bfa/bfad_drv.h</td>\n",
       "      <td>Anil Gurumurthy</td>\n",
       "      <td>2015-11-26 03:54:45 -0500</td>\n",
       "      <td>3</td>\n",
       "    </tr>\n",
       "    <tr>\n",
       "      <th>4</th>\n",
       "      <td>7725ccfda5971</td>\n",
       "      <td>drivers/scsi/bfa/bfad_drv.h</td>\n",
       "      <td>Jing Huang</td>\n",
       "      <td>2009-09-23 17:46:15 -0700</td>\n",
       "      <td>4</td>\n",
       "    </tr>\n",
       "  </tbody>\n",
       "</table>\n",
       "</div>"
      ],
      "text/plain": [
       "             sha                         path              author  \\\n",
       "0            NaN                          NaN                 NaN   \n",
       "1            NaN                          NaN                 NaN   \n",
       "2  889d0d42667c9  drivers/scsi/bfa/bfad_drv.h  Anil Gurumurthy      \n",
       "3  889d0d42667c9  drivers/scsi/bfa/bfad_drv.h  Anil Gurumurthy      \n",
       "4  7725ccfda5971  drivers/scsi/bfa/bfad_drv.h  Jing Huang           \n",
       "\n",
       "                   timestamp line  \n",
       "0                        NaN  NaN  \n",
       "1                        NaN  NaN  \n",
       "2  2015-11-26 03:54:45 -0500    2  \n",
       "3  2015-11-26 03:54:45 -0500    3  \n",
       "4  2009-09-23 17:46:15 -0700    4  "
      ]
     },
     "execution_count": 3,
     "metadata": {},
     "output_type": "execute_result"
    }
   ],
   "source": [
    "blame = \\\n",
    "  blame_raw.raw.str.extract(\n",
    "      \"(?P<sha>.*?) (?P<path>.*?) \\((?P<author>.* ?) (?P<timestamp>[0-9]{4}-[0-9]{2}-[0-9]{2} [0-9]{2}:[0-9]{2}:[0-9]{2} .[0-9]{4}) *(?P<line>[0-9]*)\\) .*\",\n",
    "      expand=True)\n",
    "blame.head()"
   ]
  },
  {
   "cell_type": "markdown",
   "metadata": {},
   "source": [
    "But after a minute we have the data in a nice DataFrame `blame`, too.\n",
    "\n",
    "## Fixing wrong entries\n",
    "In the next step, we have to face some missing data. I think I did a mistake by executing the bash command in the wrong directory. This could explain why there are some missing values. We simply drop the missing data but log the number of the missed entries to make sure we are working reproducible."
   ]
  },
  {
   "cell_type": "code",
   "execution_count": 4,
   "metadata": {},
   "outputs": [
    {
     "data": {
      "text/html": [
       "<div>\n",
       "<style scoped>\n",
       "    .dataframe tbody tr th:only-of-type {\n",
       "        vertical-align: middle;\n",
       "    }\n",
       "\n",
       "    .dataframe tbody tr th {\n",
       "        vertical-align: top;\n",
       "    }\n",
       "\n",
       "    .dataframe thead th {\n",
       "        text-align: right;\n",
       "    }\n",
       "</style>\n",
       "<table border=\"1\" class=\"dataframe\">\n",
       "  <thead>\n",
       "    <tr style=\"text-align: right;\">\n",
       "      <th></th>\n",
       "      <th>sha</th>\n",
       "      <th>path</th>\n",
       "      <th>author</th>\n",
       "      <th>timestamp</th>\n",
       "      <th>line</th>\n",
       "    </tr>\n",
       "  </thead>\n",
       "  <tbody>\n",
       "    <tr>\n",
       "      <th>0</th>\n",
       "      <td>NaN</td>\n",
       "      <td>NaN</td>\n",
       "      <td>NaN</td>\n",
       "      <td>NaN</td>\n",
       "      <td>NaN</td>\n",
       "    </tr>\n",
       "    <tr>\n",
       "      <th>1</th>\n",
       "      <td>NaN</td>\n",
       "      <td>NaN</td>\n",
       "      <td>NaN</td>\n",
       "      <td>NaN</td>\n",
       "      <td>NaN</td>\n",
       "    </tr>\n",
       "    <tr>\n",
       "      <th>5665948</th>\n",
       "      <td>NaN</td>\n",
       "      <td>NaN</td>\n",
       "      <td>NaN</td>\n",
       "      <td>NaN</td>\n",
       "      <td>NaN</td>\n",
       "    </tr>\n",
       "  </tbody>\n",
       "</table>\n",
       "</div>"
      ],
      "text/plain": [
       "         sha path author timestamp line\n",
       "0        NaN  NaN    NaN       NaN  NaN\n",
       "1        NaN  NaN    NaN       NaN  NaN\n",
       "5665948  NaN  NaN    NaN       NaN  NaN"
      ]
     },
     "execution_count": 4,
     "metadata": {},
     "output_type": "execute_result"
    }
   ],
   "source": [
    "has_null_value = blame.isnull().any(axis=1)\n",
    "dropped_entries = blame[has_null_value]\n",
    "blame = blame[~has_null_value]\n",
    "dropped_entries"
   ]
  },
  {
   "cell_type": "markdown",
   "metadata": {},
   "source": [
    "So we lost the first non-sense line (because of my mistake), thus the second entry for the first Git blame result as well as the last line (which is negligible in our case). For completeness reasons, let's add the first line manually (because I want to share a clean data set with you as well!)."
   ]
  },
  {
   "cell_type": "code",
   "execution_count": 5,
   "metadata": {},
   "outputs": [
    {
     "data": {
      "text/html": [
       "<div>\n",
       "<style scoped>\n",
       "    .dataframe tbody tr th:only-of-type {\n",
       "        vertical-align: middle;\n",
       "    }\n",
       "\n",
       "    .dataframe tbody tr th {\n",
       "        vertical-align: top;\n",
       "    }\n",
       "\n",
       "    .dataframe thead th {\n",
       "        text-align: right;\n",
       "    }\n",
       "</style>\n",
       "<table border=\"1\" class=\"dataframe\">\n",
       "  <thead>\n",
       "    <tr style=\"text-align: right;\">\n",
       "      <th></th>\n",
       "      <th>sha</th>\n",
       "      <th>path</th>\n",
       "      <th>author</th>\n",
       "      <th>timestamp</th>\n",
       "      <th>line</th>\n",
       "    </tr>\n",
       "  </thead>\n",
       "  <tbody>\n",
       "    <tr>\n",
       "      <th>2</th>\n",
       "      <td>889d0d42667c9</td>\n",
       "      <td>drivers/scsi/bfa/bfad_drv.h</td>\n",
       "      <td>Anil Gurumurthy</td>\n",
       "      <td>2015-11-26 03:54:45 -0500</td>\n",
       "      <td>2</td>\n",
       "    </tr>\n",
       "    <tr>\n",
       "      <th>3</th>\n",
       "      <td>889d0d42667c9</td>\n",
       "      <td>drivers/scsi/bfa/bfad_drv.h</td>\n",
       "      <td>Anil Gurumurthy</td>\n",
       "      <td>2015-11-26 03:54:45 -0500</td>\n",
       "      <td>3</td>\n",
       "    </tr>\n",
       "    <tr>\n",
       "      <th>4</th>\n",
       "      <td>7725ccfda5971</td>\n",
       "      <td>drivers/scsi/bfa/bfad_drv.h</td>\n",
       "      <td>Jing Huang</td>\n",
       "      <td>2009-09-23 17:46:15 -0700</td>\n",
       "      <td>4</td>\n",
       "    </tr>\n",
       "    <tr>\n",
       "      <th>5</th>\n",
       "      <td>889d0d42667c9</td>\n",
       "      <td>drivers/scsi/bfa/bfad_drv.h</td>\n",
       "      <td>Anil Gurumurthy</td>\n",
       "      <td>2015-11-26 03:54:45 -0500</td>\n",
       "      <td>5</td>\n",
       "    </tr>\n",
       "    <tr>\n",
       "      <th>6</th>\n",
       "      <td>7725ccfda5971</td>\n",
       "      <td>drivers/scsi/bfa/bfad_drv.h</td>\n",
       "      <td>Jing Huang</td>\n",
       "      <td>2009-09-23 17:46:15 -0700</td>\n",
       "      <td>6</td>\n",
       "    </tr>\n",
       "  </tbody>\n",
       "</table>\n",
       "</div>"
      ],
      "text/plain": [
       "             sha                         path              author  \\\n",
       "2  889d0d42667c9  drivers/scsi/bfa/bfad_drv.h  Anil Gurumurthy      \n",
       "3  889d0d42667c9  drivers/scsi/bfa/bfad_drv.h  Anil Gurumurthy      \n",
       "4  7725ccfda5971  drivers/scsi/bfa/bfad_drv.h  Jing Huang           \n",
       "5  889d0d42667c9  drivers/scsi/bfa/bfad_drv.h  Anil Gurumurthy      \n",
       "6  7725ccfda5971  drivers/scsi/bfa/bfad_drv.h  Jing Huang           \n",
       "\n",
       "                   timestamp line  \n",
       "2  2015-11-26 03:54:45 -0500    2  \n",
       "3  2015-11-26 03:54:45 -0500    3  \n",
       "4  2009-09-23 17:46:15 -0700    4  \n",
       "5  2015-11-26 03:54:45 -0500    5  \n",
       "6  2009-09-23 17:46:15 -0700    6  "
      ]
     },
     "execution_count": 5,
     "metadata": {},
     "output_type": "execute_result"
    }
   ],
   "source": [
    "blame.head()"
   ]
  },
  {
   "cell_type": "markdown",
   "metadata": {},
   "source": [
    "We take the second line and alter the data so that we have the first line again (as long as we have good and comprehensibly reasons for this, I find this approach OK here)."
   ]
  },
  {
   "cell_type": "code",
   "execution_count": 8,
   "metadata": {},
   "outputs": [
    {
     "data": {
      "text/plain": [
       "sha                        889d0d42667c9\n",
       "path         drivers/scsi/bfa/bfad_drv.h\n",
       "author                Anil Gurumurthy   \n",
       "timestamp      2015-11-26 03:54:45 -0500\n",
       "line                                   1\n",
       "Name: 2, dtype: object"
      ]
     },
     "execution_count": 8,
     "metadata": {},
     "output_type": "execute_result"
    }
   ],
   "source": [
    "first_line = blame.loc[2].copy()\n",
    "first_line.line = 1\n",
    "first_line"
   ]
  },
  {
   "cell_type": "markdown",
   "metadata": {},
   "source": [
    "We transform our single entry back into a DataFrame, transpose the data and concatenate our `blame` DataFrame to it."
   ]
  },
  {
   "cell_type": "code",
   "execution_count": 9,
   "metadata": {},
   "outputs": [
    {
     "data": {
      "text/html": [
       "<div>\n",
       "<style scoped>\n",
       "    .dataframe tbody tr th:only-of-type {\n",
       "        vertical-align: middle;\n",
       "    }\n",
       "\n",
       "    .dataframe tbody tr th {\n",
       "        vertical-align: top;\n",
       "    }\n",
       "\n",
       "    .dataframe thead th {\n",
       "        text-align: right;\n",
       "    }\n",
       "</style>\n",
       "<table border=\"1\" class=\"dataframe\">\n",
       "  <thead>\n",
       "    <tr style=\"text-align: right;\">\n",
       "      <th></th>\n",
       "      <th>sha</th>\n",
       "      <th>path</th>\n",
       "      <th>author</th>\n",
       "      <th>timestamp</th>\n",
       "      <th>line</th>\n",
       "    </tr>\n",
       "  </thead>\n",
       "  <tbody>\n",
       "    <tr>\n",
       "      <th>2</th>\n",
       "      <td>889d0d42667c9</td>\n",
       "      <td>drivers/scsi/bfa/bfad_drv.h</td>\n",
       "      <td>Anil Gurumurthy</td>\n",
       "      <td>2015-11-26 03:54:45 -0500</td>\n",
       "      <td>1</td>\n",
       "    </tr>\n",
       "    <tr>\n",
       "      <th>2</th>\n",
       "      <td>889d0d42667c9</td>\n",
       "      <td>drivers/scsi/bfa/bfad_drv.h</td>\n",
       "      <td>Anil Gurumurthy</td>\n",
       "      <td>2015-11-26 03:54:45 -0500</td>\n",
       "      <td>2</td>\n",
       "    </tr>\n",
       "    <tr>\n",
       "      <th>3</th>\n",
       "      <td>889d0d42667c9</td>\n",
       "      <td>drivers/scsi/bfa/bfad_drv.h</td>\n",
       "      <td>Anil Gurumurthy</td>\n",
       "      <td>2015-11-26 03:54:45 -0500</td>\n",
       "      <td>3</td>\n",
       "    </tr>\n",
       "    <tr>\n",
       "      <th>4</th>\n",
       "      <td>7725ccfda5971</td>\n",
       "      <td>drivers/scsi/bfa/bfad_drv.h</td>\n",
       "      <td>Jing Huang</td>\n",
       "      <td>2009-09-23 17:46:15 -0700</td>\n",
       "      <td>4</td>\n",
       "    </tr>\n",
       "    <tr>\n",
       "      <th>5</th>\n",
       "      <td>889d0d42667c9</td>\n",
       "      <td>drivers/scsi/bfa/bfad_drv.h</td>\n",
       "      <td>Anil Gurumurthy</td>\n",
       "      <td>2015-11-26 03:54:45 -0500</td>\n",
       "      <td>5</td>\n",
       "    </tr>\n",
       "  </tbody>\n",
       "</table>\n",
       "</div>"
      ],
      "text/plain": [
       "             sha                         path              author  \\\n",
       "2  889d0d42667c9  drivers/scsi/bfa/bfad_drv.h  Anil Gurumurthy      \n",
       "2  889d0d42667c9  drivers/scsi/bfa/bfad_drv.h  Anil Gurumurthy      \n",
       "3  889d0d42667c9  drivers/scsi/bfa/bfad_drv.h  Anil Gurumurthy      \n",
       "4  7725ccfda5971  drivers/scsi/bfa/bfad_drv.h  Jing Huang           \n",
       "5  889d0d42667c9  drivers/scsi/bfa/bfad_drv.h  Anil Gurumurthy      \n",
       "\n",
       "                   timestamp line  \n",
       "2  2015-11-26 03:54:45 -0500    1  \n",
       "2  2015-11-26 03:54:45 -0500    2  \n",
       "3  2015-11-26 03:54:45 -0500    3  \n",
       "4  2009-09-23 17:46:15 -0700    4  \n",
       "5  2015-11-26 03:54:45 -0500    5  "
      ]
     },
     "execution_count": 9,
     "metadata": {},
     "output_type": "execute_result"
    }
   ],
   "source": [
    "blame = pd.concat([pd.DataFrame(first_line).T, blame])\n",
    "blame.head()"
   ]
  },
  {
   "cell_type": "markdown",
   "metadata": {},
   "source": [
    "After this, we do some housekeeping of the data:\n",
    "* We fix the comma-separated values in the author's column because we want to use the comma as separator for our comma-separated values (CSV) file\n",
    "* We also change the data type of the time stamp from a string to a `TimeStamp` to check it's data quality\n",
    "\n",
    "To improve performance (heavily!), we first convert both columns into `Categorical` data to enable working with references instead of manipulating the values for all entries. It the end, this means that the same values need to be changed and converted only once."
   ]
  },
  {
   "cell_type": "code",
   "execution_count": 10,
   "metadata": {},
   "outputs": [
    {
     "data": {
      "text/html": [
       "<div>\n",
       "<style scoped>\n",
       "    .dataframe tbody tr th:only-of-type {\n",
       "        vertical-align: middle;\n",
       "    }\n",
       "\n",
       "    .dataframe tbody tr th {\n",
       "        vertical-align: top;\n",
       "    }\n",
       "\n",
       "    .dataframe thead th {\n",
       "        text-align: right;\n",
       "    }\n",
       "</style>\n",
       "<table border=\"1\" class=\"dataframe\">\n",
       "  <thead>\n",
       "    <tr style=\"text-align: right;\">\n",
       "      <th></th>\n",
       "      <th>sha</th>\n",
       "      <th>path</th>\n",
       "      <th>author</th>\n",
       "      <th>timestamp</th>\n",
       "      <th>line</th>\n",
       "    </tr>\n",
       "  </thead>\n",
       "  <tbody>\n",
       "    <tr>\n",
       "      <th>2</th>\n",
       "      <td>889d0d42667c9</td>\n",
       "      <td>drivers/scsi/bfa/bfad_drv.h</td>\n",
       "      <td>Anil Gurumurthy</td>\n",
       "      <td>2015-11-26 08:54:45</td>\n",
       "      <td>1</td>\n",
       "    </tr>\n",
       "    <tr>\n",
       "      <th>2</th>\n",
       "      <td>889d0d42667c9</td>\n",
       "      <td>drivers/scsi/bfa/bfad_drv.h</td>\n",
       "      <td>Anil Gurumurthy</td>\n",
       "      <td>2015-11-26 08:54:45</td>\n",
       "      <td>2</td>\n",
       "    </tr>\n",
       "    <tr>\n",
       "      <th>3</th>\n",
       "      <td>889d0d42667c9</td>\n",
       "      <td>drivers/scsi/bfa/bfad_drv.h</td>\n",
       "      <td>Anil Gurumurthy</td>\n",
       "      <td>2015-11-26 08:54:45</td>\n",
       "      <td>3</td>\n",
       "    </tr>\n",
       "    <tr>\n",
       "      <th>4</th>\n",
       "      <td>7725ccfda5971</td>\n",
       "      <td>drivers/scsi/bfa/bfad_drv.h</td>\n",
       "      <td>Jing Huang</td>\n",
       "      <td>2009-09-24 00:46:15</td>\n",
       "      <td>4</td>\n",
       "    </tr>\n",
       "    <tr>\n",
       "      <th>5</th>\n",
       "      <td>889d0d42667c9</td>\n",
       "      <td>drivers/scsi/bfa/bfad_drv.h</td>\n",
       "      <td>Anil Gurumurthy</td>\n",
       "      <td>2015-11-26 08:54:45</td>\n",
       "      <td>5</td>\n",
       "    </tr>\n",
       "  </tbody>\n",
       "</table>\n",
       "</div>"
      ],
      "text/plain": [
       "             sha                         path           author  \\\n",
       "2  889d0d42667c9  drivers/scsi/bfa/bfad_drv.h  Anil Gurumurthy   \n",
       "2  889d0d42667c9  drivers/scsi/bfa/bfad_drv.h  Anil Gurumurthy   \n",
       "3  889d0d42667c9  drivers/scsi/bfa/bfad_drv.h  Anil Gurumurthy   \n",
       "4  7725ccfda5971  drivers/scsi/bfa/bfad_drv.h       Jing Huang   \n",
       "5  889d0d42667c9  drivers/scsi/bfa/bfad_drv.h  Anil Gurumurthy   \n",
       "\n",
       "            timestamp line  \n",
       "2 2015-11-26 08:54:45    1  \n",
       "2 2015-11-26 08:54:45    2  \n",
       "3 2015-11-26 08:54:45    3  \n",
       "4 2009-09-24 00:46:15    4  \n",
       "5 2015-11-26 08:54:45    5  "
      ]
     },
     "execution_count": 10,
     "metadata": {},
     "output_type": "execute_result"
    }
   ],
   "source": [
    "blame.author = pd.Categorical(blame.author)\n",
    "blame.author = blame.author.str.strip()\n",
    "blame.author.str.split(\",\")[::-1].str.join(\" \")\n",
    "\n",
    "blame.timestamp = pd.Categorical(blame.timestamp)\n",
    "blame.timestamp = pd.to_datetime(blame.timestamp)\n",
    "blame.head()"
   ]
  },
  {
   "cell_type": "markdown",
   "metadata": {},
   "source": [
    "This operation still takes around 10 seconds (instead of minutes!), but we have now a decent data set that we can use further on."
   ]
  },
  {
   "cell_type": "markdown",
   "metadata": {},
   "source": [
    "Next, we take a look at another possible area of errors: The `TimeStamp` column."
   ]
  },
  {
   "cell_type": "code",
   "execution_count": 11,
   "metadata": {},
   "outputs": [
    {
     "data": {
      "text/plain": [
       "count                 5665947\n",
       "unique                  92466\n",
       "top       2005-04-16 22:20:36\n",
       "freq                   836898\n",
       "first     2002-04-09 19:14:34\n",
       "last      2018-04-11 17:26:09\n",
       "Name: timestamp, dtype: object"
      ]
     },
     "execution_count": 11,
     "metadata": {},
     "output_type": "execute_result"
    }
   ],
   "source": [
    "blame.timestamp.describe()"
   ]
  },
  {
   "cell_type": "markdown",
   "metadata": {},
   "source": [
    "Apparently, the Linux Git repository has also some issues with timestamps. The (still) top occurring time stamp is the initial commit of Lunux Torvalds in April 2005. There is nothing we can do about that than mention that here. But there are also changes that are older than that. This is an error caused by wrong clock configurations from a few developers. This leaves us with no other choice with either deleting the entries with that data or assigning them to the initial commits.\n",
    "\n",
    "Because in our case, we want to have a complete data set, we choose the second option. Not quite clean, but the best decision we can make in our situation. And always remember:\n",
    "\n",
    "<blockquote><p lang=\"en\" dir=\"ltr\">All models are wrong but some are useful</p>&mdash; George Box</blockquote>\n",
    "\n",
    "Let's find the initial commit of Linux Torvalds."
   ]
  },
  {
   "cell_type": "code",
   "execution_count": 12,
   "metadata": {},
   "outputs": [
    {
     "data": {
      "text/plain": [
       "Timestamp('2005-04-16 22:20:36')"
      ]
     },
     "execution_count": 12,
     "metadata": {},
     "output_type": "execute_result"
    }
   ],
   "source": [
    "initial_commit = blame[blame.author == \"Linus Torvalds\"].timestamp.min()\n",
    "initial_commit"
   ]
  },
  {
   "cell_type": "markdown",
   "metadata": {},
   "source": [
    "We keep track of all wrong timestamps and set those to the initial commit time stamp."
   ]
  },
  {
   "cell_type": "code",
   "execution_count": 13,
   "metadata": {},
   "outputs": [
    {
     "data": {
      "text/plain": [
       "4955"
      ]
     },
     "execution_count": 13,
     "metadata": {},
     "output_type": "execute_result"
    }
   ],
   "source": [
    "is_wrong_timestamp = blame.timestamp < initial_commit\n",
    "wrong_timestamps = blame[is_wrong_timestamp]\n",
    "blame.timestamp = blame.timestamp.clip(initial_commit)\n",
    "len(wrong_timestamps)"
   ]
  },
  {
   "cell_type": "markdown",
   "metadata": {},
   "source": [
    "Further, we convert the `TimeStamp` column to an integer to save some storage and to enable efficient time stamp transformation when reading the data in later on\n"
   ]
  },
  {
   "cell_type": "code",
   "execution_count": 14,
   "metadata": {},
   "outputs": [
    {
     "data": {
      "text/html": [
       "<div>\n",
       "<style scoped>\n",
       "    .dataframe tbody tr th:only-of-type {\n",
       "        vertical-align: middle;\n",
       "    }\n",
       "\n",
       "    .dataframe tbody tr th {\n",
       "        vertical-align: top;\n",
       "    }\n",
       "\n",
       "    .dataframe thead th {\n",
       "        text-align: right;\n",
       "    }\n",
       "</style>\n",
       "<table border=\"1\" class=\"dataframe\">\n",
       "  <thead>\n",
       "    <tr style=\"text-align: right;\">\n",
       "      <th></th>\n",
       "      <th>sha</th>\n",
       "      <th>path</th>\n",
       "      <th>author</th>\n",
       "      <th>timestamp</th>\n",
       "      <th>line</th>\n",
       "    </tr>\n",
       "  </thead>\n",
       "  <tbody>\n",
       "    <tr>\n",
       "      <th>2</th>\n",
       "      <td>889d0d42667c9</td>\n",
       "      <td>drivers/scsi/bfa/bfad_drv.h</td>\n",
       "      <td>Anil Gurumurthy</td>\n",
       "      <td>1448528085000000000</td>\n",
       "      <td>1</td>\n",
       "    </tr>\n",
       "    <tr>\n",
       "      <th>2</th>\n",
       "      <td>889d0d42667c9</td>\n",
       "      <td>drivers/scsi/bfa/bfad_drv.h</td>\n",
       "      <td>Anil Gurumurthy</td>\n",
       "      <td>1448528085000000000</td>\n",
       "      <td>2</td>\n",
       "    </tr>\n",
       "    <tr>\n",
       "      <th>3</th>\n",
       "      <td>889d0d42667c9</td>\n",
       "      <td>drivers/scsi/bfa/bfad_drv.h</td>\n",
       "      <td>Anil Gurumurthy</td>\n",
       "      <td>1448528085000000000</td>\n",
       "      <td>3</td>\n",
       "    </tr>\n",
       "    <tr>\n",
       "      <th>4</th>\n",
       "      <td>7725ccfda5971</td>\n",
       "      <td>drivers/scsi/bfa/bfad_drv.h</td>\n",
       "      <td>Jing Huang</td>\n",
       "      <td>1253753175000000000</td>\n",
       "      <td>4</td>\n",
       "    </tr>\n",
       "    <tr>\n",
       "      <th>5</th>\n",
       "      <td>889d0d42667c9</td>\n",
       "      <td>drivers/scsi/bfa/bfad_drv.h</td>\n",
       "      <td>Anil Gurumurthy</td>\n",
       "      <td>1448528085000000000</td>\n",
       "      <td>5</td>\n",
       "    </tr>\n",
       "  </tbody>\n",
       "</table>\n",
       "</div>"
      ],
      "text/plain": [
       "             sha                         path           author  \\\n",
       "2  889d0d42667c9  drivers/scsi/bfa/bfad_drv.h  Anil Gurumurthy   \n",
       "2  889d0d42667c9  drivers/scsi/bfa/bfad_drv.h  Anil Gurumurthy   \n",
       "3  889d0d42667c9  drivers/scsi/bfa/bfad_drv.h  Anil Gurumurthy   \n",
       "4  7725ccfda5971  drivers/scsi/bfa/bfad_drv.h       Jing Huang   \n",
       "5  889d0d42667c9  drivers/scsi/bfa/bfad_drv.h  Anil Gurumurthy   \n",
       "\n",
       "             timestamp line  \n",
       "2  1448528085000000000    1  \n",
       "2  1448528085000000000    2  \n",
       "3  1448528085000000000    3  \n",
       "4  1253753175000000000    4  \n",
       "5  1448528085000000000    5  "
      ]
     },
     "execution_count": 14,
     "metadata": {},
     "output_type": "execute_result"
    }
   ],
   "source": [
    "blame.timestamp = blame.timestamp.astype('int64')\n",
    "blame.head()"
   ]
  },
  {
   "cell_type": "markdown",
   "metadata": {},
   "source": [
    "Last, we store the result in a gzipped CSV file as immediate result."
   ]
  },
  {
   "cell_type": "code",
   "execution_count": 15,
   "metadata": {},
   "outputs": [],
   "source": [
    "blame.to_csv(\"C:/Temp/linux_blame.gz\", encoding='utf-8', compression='gzip', index=None)"
   ]
  },
  {
   "cell_type": "markdown",
   "metadata": {},
   "source": [
    "All right, the ugly work finished! Let's get some insights!"
   ]
  },
  {
   "cell_type": "markdown",
   "metadata": {},
   "source": [
    "# Analyzing the knowledge about Linux"
   ]
  },
  {
   "cell_type": "markdown",
   "metadata": {},
   "source": [
    "## Importing the data set\n",
    "First, we reimport our newly created data set to check if it's as expected."
   ]
  },
  {
   "cell_type": "code",
   "execution_count": 16,
   "metadata": {},
   "outputs": [
    {
     "data": {
      "text/html": [
       "<div>\n",
       "<style scoped>\n",
       "    .dataframe tbody tr th:only-of-type {\n",
       "        vertical-align: middle;\n",
       "    }\n",
       "\n",
       "    .dataframe tbody tr th {\n",
       "        vertical-align: top;\n",
       "    }\n",
       "\n",
       "    .dataframe thead th {\n",
       "        text-align: right;\n",
       "    }\n",
       "</style>\n",
       "<table border=\"1\" class=\"dataframe\">\n",
       "  <thead>\n",
       "    <tr style=\"text-align: right;\">\n",
       "      <th></th>\n",
       "      <th>sha</th>\n",
       "      <th>path</th>\n",
       "      <th>author</th>\n",
       "      <th>timestamp</th>\n",
       "      <th>line</th>\n",
       "    </tr>\n",
       "  </thead>\n",
       "  <tbody>\n",
       "    <tr>\n",
       "      <th>0</th>\n",
       "      <td>889d0d42667c9</td>\n",
       "      <td>drivers/scsi/bfa/bfad_drv.h</td>\n",
       "      <td>Anil Gurumurthy</td>\n",
       "      <td>1448528085000000000</td>\n",
       "      <td>1</td>\n",
       "    </tr>\n",
       "    <tr>\n",
       "      <th>1</th>\n",
       "      <td>889d0d42667c9</td>\n",
       "      <td>drivers/scsi/bfa/bfad_drv.h</td>\n",
       "      <td>Anil Gurumurthy</td>\n",
       "      <td>1448528085000000000</td>\n",
       "      <td>2</td>\n",
       "    </tr>\n",
       "    <tr>\n",
       "      <th>2</th>\n",
       "      <td>889d0d42667c9</td>\n",
       "      <td>drivers/scsi/bfa/bfad_drv.h</td>\n",
       "      <td>Anil Gurumurthy</td>\n",
       "      <td>1448528085000000000</td>\n",
       "      <td>3</td>\n",
       "    </tr>\n",
       "    <tr>\n",
       "      <th>3</th>\n",
       "      <td>7725ccfda5971</td>\n",
       "      <td>drivers/scsi/bfa/bfad_drv.h</td>\n",
       "      <td>Jing Huang</td>\n",
       "      <td>1253753175000000000</td>\n",
       "      <td>4</td>\n",
       "    </tr>\n",
       "    <tr>\n",
       "      <th>4</th>\n",
       "      <td>889d0d42667c9</td>\n",
       "      <td>drivers/scsi/bfa/bfad_drv.h</td>\n",
       "      <td>Anil Gurumurthy</td>\n",
       "      <td>1448528085000000000</td>\n",
       "      <td>5</td>\n",
       "    </tr>\n",
       "  </tbody>\n",
       "</table>\n",
       "</div>"
      ],
      "text/plain": [
       "             sha                         path           author  \\\n",
       "0  889d0d42667c9  drivers/scsi/bfa/bfad_drv.h  Anil Gurumurthy   \n",
       "1  889d0d42667c9  drivers/scsi/bfa/bfad_drv.h  Anil Gurumurthy   \n",
       "2  889d0d42667c9  drivers/scsi/bfa/bfad_drv.h  Anil Gurumurthy   \n",
       "3  7725ccfda5971  drivers/scsi/bfa/bfad_drv.h       Jing Huang   \n",
       "4  889d0d42667c9  drivers/scsi/bfa/bfad_drv.h  Anil Gurumurthy   \n",
       "\n",
       "             timestamp  line  \n",
       "0  1448528085000000000     1  \n",
       "1  1448528085000000000     2  \n",
       "2  1448528085000000000     3  \n",
       "3  1253753175000000000     4  \n",
       "4  1448528085000000000     5  "
      ]
     },
     "execution_count": 16,
     "metadata": {},
     "output_type": "execute_result"
    }
   ],
   "source": [
    "git_blame = pd.read_csv(\"C:/Temp/linux_blame.gz\")\n",
    "git_blame.head()"
   ]
  },
  {
   "cell_type": "markdown",
   "metadata": {},
   "source": [
    "Let's first have a look at what we've got here now."
   ]
  },
  {
   "cell_type": "code",
   "execution_count": 17,
   "metadata": {},
   "outputs": [
    {
     "name": "stdout",
     "output_type": "stream",
     "text": [
      "<class 'pandas.core.frame.DataFrame'>\n",
      "RangeIndex: 5665947 entries, 0 to 5665946\n",
      "Data columns (total 5 columns):\n",
      "sha          object\n",
      "path         object\n",
      "author       object\n",
      "timestamp    int64\n",
      "line         int64\n",
      "dtypes: int64(2), object(3)\n",
      "memory usage: 1.3 GB\n"
     ]
    }
   ],
   "source": [
    "git_blame.info(memory_usage='deep')"
   ]
  },
  {
   "cell_type": "markdown",
   "metadata": {},
   "source": [
    "We have our 5.6 million Git blame log entries that are stored in memory with 1.3 GB. We need (as always) do some data wrangling by apply some data conversions. In this case, we convert the `sha`, `path`, and `author` columns to `Categorical` data (as mentioned, because of performance reasons)."
   ]
  },
  {
   "cell_type": "code",
   "execution_count": 18,
   "metadata": {},
   "outputs": [
    {
     "name": "stdout",
     "output_type": "stream",
     "text": [
      "<class 'pandas.core.frame.DataFrame'>\n",
      "RangeIndex: 5665947 entries, 0 to 5665946\n",
      "Data columns (total 5 columns):\n",
      "sha          category\n",
      "path         category\n",
      "author       category\n",
      "timestamp    int64\n",
      "line         int64\n",
      "dtypes: category(3), int64(2)\n",
      "memory usage: 140.3 MB\n"
     ]
    }
   ],
   "source": [
    "git_blame.sha = pd.Categorical(git_blame.sha)\n",
    "git_blame.path = pd.Categorical(git_blame.path)\n",
    "git_blame.author = pd.Categorical(git_blame.author)\n",
    "git_blame.info(memory_usage='deep')"
   ]
  },
  {
   "cell_type": "markdown",
   "metadata": {},
   "source": [
    "This bring down the data in memory down to 140 MB. Next, we convert the time stamp from nanoseconds to real `TimeStamp` data."
   ]
  },
  {
   "cell_type": "code",
   "execution_count": 19,
   "metadata": {},
   "outputs": [
    {
     "name": "stdout",
     "output_type": "stream",
     "text": [
      "<class 'pandas.core.frame.DataFrame'>\n",
      "RangeIndex: 5665947 entries, 0 to 5665946\n",
      "Data columns (total 5 columns):\n",
      "sha          category\n",
      "path         category\n",
      "author       category\n",
      "timestamp    datetime64[ns]\n",
      "line         int64\n",
      "dtypes: category(3), datetime64[ns](1), int64(1)\n",
      "memory usage: 140.3 MB\n"
     ]
    }
   ],
   "source": [
    "git_blame.timestamp = pd.to_datetime(git_blame.timestamp)\n",
    "git_blame.info(memory_usage='deep')"
   ]
  },
  {
   "cell_type": "markdown",
   "metadata": {},
   "source": [
    "This didn't improve the memory usage further, but we now have a nice `TimeStamp` data type in the `timestamp` column that makes working with date based data easy as pie."
   ]
  },
  {
   "cell_type": "markdown",
   "metadata": {},
   "source": [
    "## Key data\n",
    "Alright, time to get some overview over our data set.\n",
    "\n",
    "Let's first look about many files we are talking about here."
   ]
  },
  {
   "cell_type": "code",
   "execution_count": 20,
   "metadata": {},
   "outputs": [
    {
     "data": {
      "text/plain": [
       "10235"
      ]
     },
     "execution_count": 20,
     "metadata": {},
     "output_type": "execute_result"
    }
   ],
   "source": [
    "git_blame.path.nunique()"
   ]
  },
  {
   "cell_type": "markdown",
   "metadata": {},
   "source": [
    "What is the biggest file?"
   ]
  },
  {
   "cell_type": "code",
   "execution_count": 21,
   "metadata": {},
   "outputs": [
    {
     "data": {
      "text/html": [
       "<div>\n",
       "<style scoped>\n",
       "    .dataframe tbody tr th:only-of-type {\n",
       "        vertical-align: middle;\n",
       "    }\n",
       "\n",
       "    .dataframe tbody tr th {\n",
       "        vertical-align: top;\n",
       "    }\n",
       "\n",
       "    .dataframe thead th {\n",
       "        text-align: right;\n",
       "    }\n",
       "</style>\n",
       "<table border=\"1\" class=\"dataframe\">\n",
       "  <thead>\n",
       "    <tr style=\"text-align: right;\">\n",
       "      <th></th>\n",
       "      <th>sha</th>\n",
       "      <th>path</th>\n",
       "      <th>author</th>\n",
       "      <th>timestamp</th>\n",
       "      <th>line</th>\n",
       "    </tr>\n",
       "  </thead>\n",
       "  <tbody>\n",
       "    <tr>\n",
       "      <th>4401067</th>\n",
       "      <td>8dbb0dc2cb160</td>\n",
       "      <td>drivers/net/ethernet/broadcom/tg3.c</td>\n",
       "      <td>Peter HÃ¼we</td>\n",
       "      <td>2013-05-21 12:58:06</td>\n",
       "      <td>18336</td>\n",
       "    </tr>\n",
       "  </tbody>\n",
       "</table>\n",
       "</div>"
      ],
      "text/plain": [
       "                   sha                                 path       author  \\\n",
       "4401067  8dbb0dc2cb160  drivers/net/ethernet/broadcom/tg3.c  Peter HÃ¼we   \n",
       "\n",
       "                  timestamp   line  \n",
       "4401067 2013-05-21 12:58:06  18336  "
      ]
     },
     "execution_count": 21,
     "metadata": {},
     "output_type": "execute_result"
    }
   ],
   "source": [
    "git_blame[git_blame.line == git_blame.line.max()]"
   ]
  },
  {
   "cell_type": "markdown",
   "metadata": {},
   "source": [
    "For which source file do we have to asked most of the authors?"
   ]
  },
  {
   "cell_type": "code",
   "execution_count": 22,
   "metadata": {},
   "outputs": [
    {
     "data": {
      "text/plain": [
       "path\n",
       "drivers/pci/quirks.c    145\n",
       "Name: author, dtype: int64"
      ]
     },
     "execution_count": 22,
     "metadata": {},
     "output_type": "execute_result"
    }
   ],
   "source": [
    "authors_per_file = git_blame.groupby(['path']).author.nunique()\n",
    "authors_per_file[authors_per_file == authors_per_file.max()]"
   ]
  },
  {
   "cell_type": "markdown",
   "metadata": {},
   "source": [
    "And for how many source files is only one author coding?"
   ]
  },
  {
   "cell_type": "code",
   "execution_count": 23,
   "metadata": {},
   "outputs": [
    {
     "data": {
      "text/plain": [
       "1903"
      ]
     },
     "execution_count": 23,
     "metadata": {},
     "output_type": "execute_result"
    }
   ],
   "source": [
    "authors_per_file[authors_per_file == 1].count()"
   ]
  },
  {
   "cell_type": "markdown",
   "metadata": {},
   "source": [
    "Let's do some analysis regarding knowledge."
   ]
  },
  {
   "cell_type": "markdown",
   "metadata": {},
   "source": [
    "## Active knowledge carrier\n",
    "Let's see (after Eagleson's law) which developers changes most of the source code files in the last six months.\n",
    "\n",
    "We first create the timestamp six month ago"
   ]
  },
  {
   "cell_type": "code",
   "execution_count": 24,
   "metadata": {},
   "outputs": [
    {
     "data": {
      "text/plain": [
       "Timestamp('2017-10-23 15:19:17.994524')"
      ]
     },
     "execution_count": 24,
     "metadata": {},
     "output_type": "execute_result"
    }
   ],
   "source": [
    "six_months_ago = pd.Timestamp('now') - pd.DateOffset(months=6)\n",
    "six_months_ago"
   ]
  },
  {
   "cell_type": "markdown",
   "metadata": {},
   "source": [
    "and create a new column named `knowing` to get the information for the more recent changes."
   ]
  },
  {
   "cell_type": "code",
   "execution_count": 25,
   "metadata": {},
   "outputs": [
    {
     "data": {
      "text/html": [
       "<div>\n",
       "<style scoped>\n",
       "    .dataframe tbody tr th:only-of-type {\n",
       "        vertical-align: middle;\n",
       "    }\n",
       "\n",
       "    .dataframe tbody tr th {\n",
       "        vertical-align: top;\n",
       "    }\n",
       "\n",
       "    .dataframe thead th {\n",
       "        text-align: right;\n",
       "    }\n",
       "</style>\n",
       "<table border=\"1\" class=\"dataframe\">\n",
       "  <thead>\n",
       "    <tr style=\"text-align: right;\">\n",
       "      <th></th>\n",
       "      <th>sha</th>\n",
       "      <th>path</th>\n",
       "      <th>author</th>\n",
       "      <th>timestamp</th>\n",
       "      <th>line</th>\n",
       "      <th>knowing</th>\n",
       "    </tr>\n",
       "  </thead>\n",
       "  <tbody>\n",
       "    <tr>\n",
       "      <th>0</th>\n",
       "      <td>889d0d42667c9</td>\n",
       "      <td>drivers/scsi/bfa/bfad_drv.h</td>\n",
       "      <td>Anil Gurumurthy</td>\n",
       "      <td>2015-11-26 08:54:45</td>\n",
       "      <td>1</td>\n",
       "      <td>False</td>\n",
       "    </tr>\n",
       "    <tr>\n",
       "      <th>1</th>\n",
       "      <td>889d0d42667c9</td>\n",
       "      <td>drivers/scsi/bfa/bfad_drv.h</td>\n",
       "      <td>Anil Gurumurthy</td>\n",
       "      <td>2015-11-26 08:54:45</td>\n",
       "      <td>2</td>\n",
       "      <td>False</td>\n",
       "    </tr>\n",
       "    <tr>\n",
       "      <th>2</th>\n",
       "      <td>889d0d42667c9</td>\n",
       "      <td>drivers/scsi/bfa/bfad_drv.h</td>\n",
       "      <td>Anil Gurumurthy</td>\n",
       "      <td>2015-11-26 08:54:45</td>\n",
       "      <td>3</td>\n",
       "      <td>False</td>\n",
       "    </tr>\n",
       "    <tr>\n",
       "      <th>3</th>\n",
       "      <td>7725ccfda5971</td>\n",
       "      <td>drivers/scsi/bfa/bfad_drv.h</td>\n",
       "      <td>Jing Huang</td>\n",
       "      <td>2009-09-24 00:46:15</td>\n",
       "      <td>4</td>\n",
       "      <td>False</td>\n",
       "    </tr>\n",
       "    <tr>\n",
       "      <th>4</th>\n",
       "      <td>889d0d42667c9</td>\n",
       "      <td>drivers/scsi/bfa/bfad_drv.h</td>\n",
       "      <td>Anil Gurumurthy</td>\n",
       "      <td>2015-11-26 08:54:45</td>\n",
       "      <td>5</td>\n",
       "      <td>False</td>\n",
       "    </tr>\n",
       "  </tbody>\n",
       "</table>\n",
       "</div>"
      ],
      "text/plain": [
       "             sha                         path           author  \\\n",
       "0  889d0d42667c9  drivers/scsi/bfa/bfad_drv.h  Anil Gurumurthy   \n",
       "1  889d0d42667c9  drivers/scsi/bfa/bfad_drv.h  Anil Gurumurthy   \n",
       "2  889d0d42667c9  drivers/scsi/bfa/bfad_drv.h  Anil Gurumurthy   \n",
       "3  7725ccfda5971  drivers/scsi/bfa/bfad_drv.h       Jing Huang   \n",
       "4  889d0d42667c9  drivers/scsi/bfa/bfad_drv.h  Anil Gurumurthy   \n",
       "\n",
       "            timestamp  line  knowing  \n",
       "0 2015-11-26 08:54:45     1    False  \n",
       "1 2015-11-26 08:54:45     2    False  \n",
       "2 2015-11-26 08:54:45     3    False  \n",
       "3 2009-09-24 00:46:15     4    False  \n",
       "4 2015-11-26 08:54:45     5    False  "
      ]
     },
     "execution_count": 25,
     "metadata": {},
     "output_type": "execute_result"
    }
   ],
   "source": [
    "git_blame['knowing'] = git_blame.timestamp >= six_months_ago\n",
    "git_blame.head()"
   ]
  },
  {
   "cell_type": "markdown",
   "metadata": {},
   "source": [
    "Let's have look at the ratio between known code and unknown code (older than six months)."
   ]
  },
  {
   "cell_type": "code",
   "execution_count": 26,
   "metadata": {},
   "outputs": [
    {
     "name": "stdout",
     "output_type": "stream",
     "text": [
      "0.04005473401\n"
     ]
    },
    {
     "data": {
      "image/png": "[encoded data removed]",
      "text/plain": [
       "<matplotlib.figure.Figure at 0x1487b3426a0>"
      ]
     },
     "metadata": {},
     "output_type": "display_data"
    }
   ],
   "source": [
    "%matplotlib inline\n",
    "git_blame['knowing'].value_counts().plot.pie(label=\"\");\n",
    "print(git_blame['knowing'].mean())"
   ]
  },
  {
   "cell_type": "markdown",
   "metadata": {},
   "source": [
    "Phew...only 4% of the code changes occured in the last six months. This is what I would call \"challenging\".\n",
    "\n",
    "We need to take action! So let's find out which developers did the most changes (maybe sending them some presents can help here :-))."
   ]
  },
  {
   "cell_type": "code",
   "execution_count": 27,
   "metadata": {},
   "outputs": [
    {
     "data": {
      "text/plain": [
       "Anirudh Venkataramanan    18790\n",
       "Yasunari Takiguchi        12891\n",
       "Tomer Tayar                6458\n",
       "Jacopo Mondi               5260\n",
       "Mauro Carvalho Chehab      4643\n",
       "Edward Cree                4484\n",
       "Linus Walleij              3720\n",
       "Salil Mehta                3719\n",
       "Jakub Kicinski             3640\n",
       "Tim Harvey                 3460\n",
       "Name: author, dtype: int64"
      ]
     },
     "execution_count": 27,
     "metadata": {},
     "output_type": "execute_result"
    }
   ],
   "source": [
    "top10 = git_blame[git_blame.knowing].author.value_counts().head(10)\n",
    "top10"
   ]
  },
  {
   "cell_type": "markdown",
   "metadata": {},
   "source": [
    "## Active developed components\n",
    "\n",
    "We can also find out in which code areas is still knowledge available and which one are the \"no go areas\" in our code base. For this, we aggregate our data on a higher level by looking at the source code at the component level. In the Linux kernel, we can easily create this view because mostly, the first two parts of the source code path indicates the component."
   ]
  },
  {
   "cell_type": "code",
   "execution_count": 28,
   "metadata": {},
   "outputs": [
    {
     "data": {
      "text/plain": [
       "drivers/media/dvb-frontends/drx39xyj/drxj_map.h    15055\n",
       "drivers/isdn/hardware/eicon/message.c              14954\n",
       "drivers/net/ethernet/sfc/mcdi_pcol.h               14534\n",
       "drivers/net/ethernet/intel/i40e/i40e_main.c        14484\n",
       "drivers/staging/rdma/hfi1/chip.c                   13914\n",
       "Name: path, dtype: int64"
      ]
     },
     "execution_count": 28,
     "metadata": {},
     "output_type": "execute_result"
    }
   ],
   "source": [
    "git_blame.path.value_counts().head()"
   ]
  },
  {
   "cell_type": "markdown",
   "metadata": {},
   "source": [
    "We need to do some string magic to fetch only the first two parts."
   ]
  },
  {
   "cell_type": "code",
   "execution_count": 29,
   "metadata": {},
   "outputs": [
    {
     "data": {
      "text/html": [
       "<div>\n",
       "<style scoped>\n",
       "    .dataframe tbody tr th:only-of-type {\n",
       "        vertical-align: middle;\n",
       "    }\n",
       "\n",
       "    .dataframe tbody tr th {\n",
       "        vertical-align: top;\n",
       "    }\n",
       "\n",
       "    .dataframe thead th {\n",
       "        text-align: right;\n",
       "    }\n",
       "</style>\n",
       "<table border=\"1\" class=\"dataframe\">\n",
       "  <thead>\n",
       "    <tr style=\"text-align: right;\">\n",
       "      <th></th>\n",
       "      <th>sha</th>\n",
       "      <th>path</th>\n",
       "      <th>author</th>\n",
       "      <th>timestamp</th>\n",
       "      <th>line</th>\n",
       "      <th>knowing</th>\n",
       "      <th>component</th>\n",
       "    </tr>\n",
       "  </thead>\n",
       "  <tbody>\n",
       "    <tr>\n",
       "      <th>0</th>\n",
       "      <td>889d0d42667c9</td>\n",
       "      <td>drivers/scsi/bfa/bfad_drv.h</td>\n",
       "      <td>Anil Gurumurthy</td>\n",
       "      <td>2015-11-26 08:54:45</td>\n",
       "      <td>1</td>\n",
       "      <td>False</td>\n",
       "      <td>drivers:scsi</td>\n",
       "    </tr>\n",
       "    <tr>\n",
       "      <th>1</th>\n",
       "      <td>889d0d42667c9</td>\n",
       "      <td>drivers/scsi/bfa/bfad_drv.h</td>\n",
       "      <td>Anil Gurumurthy</td>\n",
       "      <td>2015-11-26 08:54:45</td>\n",
       "      <td>2</td>\n",
       "      <td>False</td>\n",
       "      <td>drivers:scsi</td>\n",
       "    </tr>\n",
       "    <tr>\n",
       "      <th>2</th>\n",
       "      <td>889d0d42667c9</td>\n",
       "      <td>drivers/scsi/bfa/bfad_drv.h</td>\n",
       "      <td>Anil Gurumurthy</td>\n",
       "      <td>2015-11-26 08:54:45</td>\n",
       "      <td>3</td>\n",
       "      <td>False</td>\n",
       "      <td>drivers:scsi</td>\n",
       "    </tr>\n",
       "    <tr>\n",
       "      <th>3</th>\n",
       "      <td>7725ccfda5971</td>\n",
       "      <td>drivers/scsi/bfa/bfad_drv.h</td>\n",
       "      <td>Jing Huang</td>\n",
       "      <td>2009-09-24 00:46:15</td>\n",
       "      <td>4</td>\n",
       "      <td>False</td>\n",
       "      <td>drivers:scsi</td>\n",
       "    </tr>\n",
       "    <tr>\n",
       "      <th>4</th>\n",
       "      <td>889d0d42667c9</td>\n",
       "      <td>drivers/scsi/bfa/bfad_drv.h</td>\n",
       "      <td>Anil Gurumurthy</td>\n",
       "      <td>2015-11-26 08:54:45</td>\n",
       "      <td>5</td>\n",
       "      <td>False</td>\n",
       "      <td>drivers:scsi</td>\n",
       "    </tr>\n",
       "  </tbody>\n",
       "</table>\n",
       "</div>"
      ],
      "text/plain": [
       "             sha                         path           author  \\\n",
       "0  889d0d42667c9  drivers/scsi/bfa/bfad_drv.h  Anil Gurumurthy   \n",
       "1  889d0d42667c9  drivers/scsi/bfa/bfad_drv.h  Anil Gurumurthy   \n",
       "2  889d0d42667c9  drivers/scsi/bfa/bfad_drv.h  Anil Gurumurthy   \n",
       "3  7725ccfda5971  drivers/scsi/bfa/bfad_drv.h       Jing Huang   \n",
       "4  889d0d42667c9  drivers/scsi/bfa/bfad_drv.h  Anil Gurumurthy   \n",
       "\n",
       "            timestamp  line  knowing     component  \n",
       "0 2015-11-26 08:54:45     1    False  drivers:scsi  \n",
       "1 2015-11-26 08:54:45     2    False  drivers:scsi  \n",
       "2 2015-11-26 08:54:45     3    False  drivers:scsi  \n",
       "3 2009-09-24 00:46:15     4    False  drivers:scsi  \n",
       "4 2015-11-26 08:54:45     5    False  drivers:scsi  "
      ]
     },
     "execution_count": 29,
     "metadata": {},
     "output_type": "execute_result"
    }
   ],
   "source": [
    "git_blame['component'] = git_blame.path.str.split(\"/\", n=2).str[:2].str.join(\":\")\n",
    "git_blame.head()"
   ]
  },
  {
   "cell_type": "markdown",
   "metadata": {},
   "source": [
    "After this, we can group our data by the new `component` column and calculate the ratio of known and not known code by using the `mean` method."
   ]
  },
  {
   "cell_type": "code",
   "execution_count": 30,
   "metadata": {},
   "outputs": [
    {
     "data": {
      "text/plain": [
       "component\n",
       "arch:arc     0.000000\n",
       "arch:arm     0.000118\n",
       "arch:i386    0.000000\n",
       "arch:ia64    0.000000\n",
       "arch:mips    0.000000\n",
       "Name: knowing, dtype: float64"
      ]
     },
     "execution_count": 30,
     "metadata": {},
     "output_type": "execute_result"
    }
   ],
   "source": [
    "knowledge_per_component = git_blame.groupby('component').knowing.mean()\n",
    "knowledge_per_component.head()"
   ]
  },
  {
   "cell_type": "markdown",
   "metadata": {},
   "source": [
    "We can create a little visualization of the top 10 known parts with a bar chart."
   ]
  },
  {
   "cell_type": "code",
   "execution_count": 31,
   "metadata": {},
   "outputs": [
    {
     "data": {
      "image/png": "[encoded data removed]",
      "text/plain": [
       "<matplotlib.figure.Figure at 0x1487b63c400>"
      ]
     },
     "metadata": {},
     "output_type": "display_data"
    }
   ],
   "source": [
    "knowledge_per_component.sort_values(ascending=False).head(10).plot.bar();"
   ]
  },
  {
   "cell_type": "markdown",
   "metadata": {},
   "source": [
    "And there might be still the chance to find some author how knows everything about the soundwire component."
   ]
  },
  {
   "cell_type": "markdown",
   "metadata": {},
   "source": [
    "## Top 10 No-Go Areas\n",
    "\n",
    "But where are the no-go areas in the Linux kernel project? That means which are the oldest part of the system (where it is also likely that nobody knows anything all all)? For this, we create a new column named age that calculated the difference between today and the `timestamp` column."
   ]
  },
  {
   "cell_type": "code",
   "execution_count": 32,
   "metadata": {},
   "outputs": [
    {
     "data": {
      "text/html": [
       "<div>\n",
       "<style scoped>\n",
       "    .dataframe tbody tr th:only-of-type {\n",
       "        vertical-align: middle;\n",
       "    }\n",
       "\n",
       "    .dataframe tbody tr th {\n",
       "        vertical-align: top;\n",
       "    }\n",
       "\n",
       "    .dataframe thead th {\n",
       "        text-align: right;\n",
       "    }\n",
       "</style>\n",
       "<table border=\"1\" class=\"dataframe\">\n",
       "  <thead>\n",
       "    <tr style=\"text-align: right;\">\n",
       "      <th></th>\n",
       "      <th>sha</th>\n",
       "      <th>path</th>\n",
       "      <th>author</th>\n",
       "      <th>timestamp</th>\n",
       "      <th>line</th>\n",
       "      <th>knowing</th>\n",
       "      <th>component</th>\n",
       "      <th>age</th>\n",
       "    </tr>\n",
       "  </thead>\n",
       "  <tbody>\n",
       "    <tr>\n",
       "      <th>0</th>\n",
       "      <td>889d0d42667c9</td>\n",
       "      <td>drivers/scsi/bfa/bfad_drv.h</td>\n",
       "      <td>Anil Gurumurthy</td>\n",
       "      <td>2015-11-26 08:54:45</td>\n",
       "      <td>1</td>\n",
       "      <td>False</td>\n",
       "      <td>drivers:scsi</td>\n",
       "      <td>-880 days +17:35:17.255774</td>\n",
       "    </tr>\n",
       "    <tr>\n",
       "      <th>1</th>\n",
       "      <td>889d0d42667c9</td>\n",
       "      <td>drivers/scsi/bfa/bfad_drv.h</td>\n",
       "      <td>Anil Gurumurthy</td>\n",
       "      <td>2015-11-26 08:54:45</td>\n",
       "      <td>2</td>\n",
       "      <td>False</td>\n",
       "      <td>drivers:scsi</td>\n",
       "      <td>-880 days +17:35:17.255774</td>\n",
       "    </tr>\n",
       "    <tr>\n",
       "      <th>2</th>\n",
       "      <td>889d0d42667c9</td>\n",
       "      <td>drivers/scsi/bfa/bfad_drv.h</td>\n",
       "      <td>Anil Gurumurthy</td>\n",
       "      <td>2015-11-26 08:54:45</td>\n",
       "      <td>3</td>\n",
       "      <td>False</td>\n",
       "      <td>drivers:scsi</td>\n",
       "      <td>-880 days +17:35:17.255774</td>\n",
       "    </tr>\n",
       "    <tr>\n",
       "      <th>3</th>\n",
       "      <td>7725ccfda5971</td>\n",
       "      <td>drivers/scsi/bfa/bfad_drv.h</td>\n",
       "      <td>Jing Huang</td>\n",
       "      <td>2009-09-24 00:46:15</td>\n",
       "      <td>4</td>\n",
       "      <td>False</td>\n",
       "      <td>drivers:scsi</td>\n",
       "      <td>-3134 days +09:26:47.255774</td>\n",
       "    </tr>\n",
       "    <tr>\n",
       "      <th>4</th>\n",
       "      <td>889d0d42667c9</td>\n",
       "      <td>drivers/scsi/bfa/bfad_drv.h</td>\n",
       "      <td>Anil Gurumurthy</td>\n",
       "      <td>2015-11-26 08:54:45</td>\n",
       "      <td>5</td>\n",
       "      <td>False</td>\n",
       "      <td>drivers:scsi</td>\n",
       "      <td>-880 days +17:35:17.255774</td>\n",
       "    </tr>\n",
       "  </tbody>\n",
       "</table>\n",
       "</div>"
      ],
      "text/plain": [
       "             sha                         path           author  \\\n",
       "0  889d0d42667c9  drivers/scsi/bfa/bfad_drv.h  Anil Gurumurthy   \n",
       "1  889d0d42667c9  drivers/scsi/bfa/bfad_drv.h  Anil Gurumurthy   \n",
       "2  889d0d42667c9  drivers/scsi/bfa/bfad_drv.h  Anil Gurumurthy   \n",
       "3  7725ccfda5971  drivers/scsi/bfa/bfad_drv.h       Jing Huang   \n",
       "4  889d0d42667c9  drivers/scsi/bfa/bfad_drv.h  Anil Gurumurthy   \n",
       "\n",
       "            timestamp  line  knowing     component                         age  \n",
       "0 2015-11-26 08:54:45     1    False  drivers:scsi  -880 days +17:35:17.255774  \n",
       "1 2015-11-26 08:54:45     2    False  drivers:scsi  -880 days +17:35:17.255774  \n",
       "2 2015-11-26 08:54:45     3    False  drivers:scsi  -880 days +17:35:17.255774  \n",
       "3 2009-09-24 00:46:15     4    False  drivers:scsi -3134 days +09:26:47.255774  \n",
       "4 2015-11-26 08:54:45     5    False  drivers:scsi  -880 days +17:35:17.255774  "
      ]
     },
     "execution_count": 32,
     "metadata": {},
     "output_type": "execute_result"
    }
   ],
   "source": [
    "git_blame['age'] = git_blame.timestamp - pd.Timestamp('now')\n",
    "git_blame.head()"
   ]
  },
  {
   "cell_type": "code",
   "execution_count": 50,
   "metadata": {},
   "outputs": [
    {
     "data": {
      "text/plain": [
       "Timedelta('-2817 days +19:11:23.715774')"
      ]
     },
     "execution_count": 50,
     "metadata": {},
     "output_type": "execute_result"
    }
   ],
   "source": [
    "delta = git_blame[0:100]\n",
    "delta.age.mean()"
   ]
  },
  {
   "cell_type": "markdown",
   "metadata": {},
   "source": [
    "We need a little helper method `mean` that calculated the mean time stamp delta for each component. "
   ]
  },
  {
   "cell_type": "code",
   "execution_count": 79,
   "metadata": {},
   "outputs": [
    {
     "data": {
      "text/html": [
       "<div>\n",
       "<style scoped>\n",
       "    .dataframe tbody tr th:only-of-type {\n",
       "        vertical-align: middle;\n",
       "    }\n",
       "\n",
       "    .dataframe tbody tr th {\n",
       "        vertical-align: top;\n",
       "    }\n",
       "\n",
       "    .dataframe thead th {\n",
       "        text-align: right;\n",
       "    }\n",
       "</style>\n",
       "<table border=\"1\" class=\"dataframe\">\n",
       "  <thead>\n",
       "    <tr style=\"text-align: right;\">\n",
       "      <th></th>\n",
       "      <th>mean</th>\n",
       "      <th>count</th>\n",
       "    </tr>\n",
       "    <tr>\n",
       "      <th>component</th>\n",
       "      <th></th>\n",
       "      <th></th>\n",
       "    </tr>\n",
       "  </thead>\n",
       "  <tbody>\n",
       "    <tr>\n",
       "      <th>arch:arc</th>\n",
       "      <td>-1143 days +06:07:21.329728</td>\n",
       "      <td>311</td>\n",
       "    </tr>\n",
       "    <tr>\n",
       "      <th>arch:arm</th>\n",
       "      <td>-2875 days +10:01:03.022084</td>\n",
       "      <td>8507</td>\n",
       "    </tr>\n",
       "    <tr>\n",
       "      <th>arch:i386</th>\n",
       "      <td>-4638 days +12:23:37.083849</td>\n",
       "      <td>6561</td>\n",
       "    </tr>\n",
       "    <tr>\n",
       "      <th>arch:ia64</th>\n",
       "      <td>-4508 days +13:41:04.262485</td>\n",
       "      <td>298</td>\n",
       "    </tr>\n",
       "    <tr>\n",
       "      <th>arch:mips</th>\n",
       "      <td>-2804 days +16:19:19.844315</td>\n",
       "      <td>192</td>\n",
       "    </tr>\n",
       "  </tbody>\n",
       "</table>\n",
       "</div>"
      ],
      "text/plain": [
       "                                 mean  count\n",
       "component                                   \n",
       "arch:arc  -1143 days +06:07:21.329728    311\n",
       "arch:arm  -2875 days +10:01:03.022084   8507\n",
       "arch:i386 -4638 days +12:23:37.083849   6561\n",
       "arch:ia64 -4508 days +13:41:04.262485    298\n",
       "arch:mips -2804 days +16:19:19.844315    192"
      ]
     },
     "execution_count": 79,
     "metadata": {},
     "output_type": "execute_result"
    }
   ],
   "source": [
    "def mean(x):\n",
    "    return x.mean()\n",
    "\n",
    "mean_age_per_component = git_blame.groupby('component').age.agg([mean, 'count'])\n",
    "mean_age_per_component.head()"
   ]
  },
  {
   "cell_type": "code",
   "execution_count": 85,
   "metadata": {},
   "outputs": [
    {
     "data": {
      "text/html": [
       "<div>\n",
       "<style scoped>\n",
       "    .dataframe tbody tr th:only-of-type {\n",
       "        vertical-align: middle;\n",
       "    }\n",
       "\n",
       "    .dataframe tbody tr th {\n",
       "        vertical-align: top;\n",
       "    }\n",
       "\n",
       "    .dataframe thead th {\n",
       "        text-align: right;\n",
       "    }\n",
       "</style>\n",
       "<table border=\"1\" class=\"dataframe\">\n",
       "  <thead>\n",
       "    <tr style=\"text-align: right;\">\n",
       "      <th></th>\n",
       "      <th>mean</th>\n",
       "      <th>count</th>\n",
       "    </tr>\n",
       "    <tr>\n",
       "      <th>component</th>\n",
       "      <th></th>\n",
       "      <th></th>\n",
       "    </tr>\n",
       "  </thead>\n",
       "  <tbody>\n",
       "    <tr>\n",
       "      <th>arch:sparc64</th>\n",
       "      <td>-4745 days +23:50:41.274642</td>\n",
       "      <td>530</td>\n",
       "    </tr>\n",
       "    <tr>\n",
       "      <th>arch:i386</th>\n",
       "      <td>-4638 days +12:23:37.083849</td>\n",
       "      <td>6561</td>\n",
       "    </tr>\n",
       "    <tr>\n",
       "      <th>drivers:usb</th>\n",
       "      <td>-4588 days +01:51:34.595291</td>\n",
       "      <td>9163</td>\n",
       "    </tr>\n",
       "    <tr>\n",
       "      <th>arch:ia64</th>\n",
       "      <td>-4508 days +13:41:04.262485</td>\n",
       "      <td>298</td>\n",
       "    </tr>\n",
       "    <tr>\n",
       "      <th>drivers:parisc</th>\n",
       "      <td>-4484 days +17:22:24.993651</td>\n",
       "      <td>12765</td>\n",
       "    </tr>\n",
       "    <tr>\n",
       "      <th>drivers:sn</th>\n",
       "      <td>-4439 days +14:23:49.617577</td>\n",
       "      <td>843</td>\n",
       "    </tr>\n",
       "    <tr>\n",
       "      <th>include:asm-arm</th>\n",
       "      <td>-4426 days +03:20:13.271277</td>\n",
       "      <td>129</td>\n",
       "    </tr>\n",
       "    <tr>\n",
       "      <th>drivers:isdn</th>\n",
       "      <td>-4325 days +13:04:03.079078</td>\n",
       "      <td>184917</td>\n",
       "    </tr>\n",
       "    <tr>\n",
       "      <th>arch:powerpc</th>\n",
       "      <td>-4313 days +16:24:55.770725</td>\n",
       "      <td>1973</td>\n",
       "    </tr>\n",
       "    <tr>\n",
       "      <th>drivers:message</th>\n",
       "      <td>-4286 days +05:07:37.494999</td>\n",
       "      <td>35594</td>\n",
       "    </tr>\n",
       "  </tbody>\n",
       "</table>\n",
       "</div>"
      ],
      "text/plain": [
       "                                       mean   count\n",
       "component                                          \n",
       "arch:sparc64    -4745 days +23:50:41.274642     530\n",
       "arch:i386       -4638 days +12:23:37.083849    6561\n",
       "drivers:usb     -4588 days +01:51:34.595291    9163\n",
       "arch:ia64       -4508 days +13:41:04.262485     298\n",
       "drivers:parisc  -4484 days +17:22:24.993651   12765\n",
       "drivers:sn      -4439 days +14:23:49.617577     843\n",
       "include:asm-arm -4426 days +03:20:13.271277     129\n",
       "drivers:isdn    -4325 days +13:04:03.079078  184917\n",
       "arch:powerpc    -4313 days +16:24:55.770725    1973\n",
       "drivers:message -4286 days +05:07:37.494999   35594"
      ]
     },
     "execution_count": 85,
     "metadata": {},
     "output_type": "execute_result"
    }
   ],
   "source": [
    "top10_no_go_areas = mean_age_per_component.sort_values('mean').head(10)\n",
    "top10_no_go_areas"
   ]
  },
  {
   "cell_type": "markdown",
   "metadata": {},
   "source": [
    "I personally think the result isn't as bad as it looks at the first glance.\n",
    "\n",
    "The oldest parts of the system are archaic computer architectures like Sparc64, i386 (`archaic`) \n",
    "\n",
    "We got also lucky with the component `drivers:isdn`, where we have around 184917 lines of rotted code. In the age of glass fiber, we surely don't need any improvements in the [ISDN](https://en.wikipedia.org/wiki/Integrated_Services_Digital_Network) features of Linux."
   ]
  },
  {
   "cell_type": "code",
   "execution_count": null,
   "metadata": {},
   "outputs": [],
   "source": [
    "git_blame.age.mean()"
   ]
  },
  {
   "cell_type": "markdown",
   "metadata": {},
   "source": [
    "# Conclusion\n",
    "\n",
    "One remark on the meta level:\n",
    "Did I exaggarate by taking the complete Git blame log from one of the biggest open-source projects out there? Absolutely! Couldn't I just exported the really needed sub data set for the analysis? For Sure!\n",
    "\n",
    "But beneath showing you what you can find out with the data set, I wanted to show that it's absolutely no problem when working with a 3 GB data set. You don't need any Big Data tools or set up a cluster for computations. With Pandas, r. g. I can execute these analysis on a six year old notebook."
   ]
  }
 ],
 "metadata": {
  "kernelspec": {
   "display_name": "Python 3",
   "language": "python",
   "name": "python3"
  },
  "language_info": {
   "codemirror_mode": {
    "name": "ipython",
    "version": 3
   },
   "file_extension": ".py",
   "mimetype": "text/x-python",
   "name": "python",
   "nbconvert_exporter": "python",
   "pygments_lexer": "ipython3",
   "version": "3.6.4"
  }
 },
 "nbformat": 4,
 "nbformat_minor": 2
}
