{
 "cells": [
  {
   "cell_type": "markdown",
   "metadata": {
    "nbpresent": {
     "id": "3ad97dc2-ed12-473b-afce-7e9d14cf6682"
    }
   },
   "source": [
    "# Eingabedaten\n",
    "Als Eingabedaten dient ein XML-Export aus der CPU HotSpots Ansicht eines JProfiler Snapshots für den Testlauf 245 des Performancetests.\n",
    "\n",
    "![](ressourcen/jprofiler_jpsnapshot_30-b245.png)\n",
    "\n",
    "Hierzu wurden die HotSpots selbst als auch die erste Ebene (die \"Verursacher\" der HotSpots) per \"Export View\" als XML exportiert.\n",
    "\n",
    "Anzeige der ersten 10 Zeilen:"
   ]
  },
  {
   "cell_type": "code",
   "execution_count": null,
   "metadata": {
    "collapsed": false,
    "nbpresent": {
     "id": "247f068c-d573-4ae5-a010-8010555cf9b1"
    },
    "scrolled": true
   },
   "outputs": [],
   "source": [
    "with open (r'input\\Hot_Spots_1st_level.xml') as log:\n",
    "    [print(line[:100] + \"...\") for line in log.readlines()[:10]]"
   ]
  },
  {
   "cell_type": "markdown",
   "metadata": {
    "nbpresent": {
     "id": "2b141353-e65b-48a6-9fcd-4a12d1c33c56"
    }
   },
   "source": [
    "Die XML-Datei teilt sich in Hotspots und Nodes auf. Beispiel:\n",
    "\n",
    "```\n",
    "<hotspot leaf=\"false\" class=\"javax.servlet.FilterChain\" methodName=\"doFilter\" methodSignature=\"(Ljavax/servlet/ServletRequest;Ljavax/servlet/ServletResponse;)V\" time=\"1574276845\" count=\"4472\" lineNumber=\"-1\" percent=\"29.5\">\n",
    "</pre>\n",
    "```\n",
    "\n",
    "Diese enthalten folgende Informationen:\n",
    "\n",
    "* leaf: Marker für Blatt-Knoten\n",
    "* class: Name der profilierten Klasse\n",
    "* methodName: Name der profilierten Methode\n",
    "* methodSignature: Signatur der profilierten Methode\n",
    "* time: Die gesamte CPU-Verweildauer als Zeitdauer vom Methodeneinstieg bis zum -ausstieg (\"self time\") in Mikrosekunden\n",
    "* count: Gesamtzahl der Methodenaufrufe\n",
    "* lineNumber: Zeilennummer im ByteCode\n",
    "* percent: Prozentualer Beitrag der Methode zur gesamten CPU-Verweildauer der Hot-Spot-Messung"
   ]
  },
  {
   "cell_type": "markdown",
   "metadata": {
    "nbpresent": {
     "id": "ef8961eb-2eda-45a1-8b16-bcaf10dca79c"
    }
   },
   "source": [
    "XML-Daten als Einzelzeilen einlesen"
   ]
  },
  {
   "cell_type": "code",
   "execution_count": null,
   "metadata": {
    "collapsed": false,
    "nbpresent": {
     "id": "f8a0d27d-962c-4dff-92af-9a7d9f46c1a3"
    }
   },
   "outputs": [],
   "source": [
    "import pandas as pd\n",
    "hotspots = pd.read_csv(\n",
    "    r'input\\Hot_Spots_1st_level.xml', \n",
    "    sep=\"\\u0012\",\n",
    "    header=None,\n",
    "    names=['raw'])\n",
    "hotspots.head()"
   ]
  },
  {
   "cell_type": "markdown",
   "metadata": {
    "nbpresent": {
     "id": "ad24db8a-557a-4676-b556-c3dc8ec0c412"
    }
   },
   "source": [
    "Nur die Hotspot- sowie die Node-XML-Elemente auf der ersten Ebene (= Verursacher) sind für die Auswertung interessant und werden folgend verarbeitet."
   ]
  },
  {
   "cell_type": "markdown",
   "metadata": {
    "nbpresent": {
     "id": "3166151e-de77-4498-991b-e1e201063ebc"
    }
   },
   "source": [
    "# Hotspots"
   ]
  },
  {
   "cell_type": "markdown",
   "metadata": {
    "nbpresent": {
     "id": "0f0c338d-860f-43bd-b88e-5c361aff2bea"
    }
   },
   "source": [
    "Extrahiere Hotspots. Diese sind die <tt>hotspot</tt>-XML-Elemente."
   ]
  },
  {
   "cell_type": "code",
   "execution_count": null,
   "metadata": {
    "collapsed": false,
    "nbpresent": {
     "id": "36d51dab-75b4-4576-9664-814e381bea54"
    }
   },
   "outputs": [],
   "source": [
    "MARKER_HOTSPOTS = \"  <hotspot\"\n",
    "hotspots_marker = hotspots[hotspots['raw'].str.startswith(\"  <hotspot\")]\n",
    "hotspots_marker.head()"
   ]
  },
  {
   "cell_type": "markdown",
   "metadata": {
    "nbpresent": {
     "id": "154fbf5c-a1bb-494c-a2b4-afdf49cde443"
    }
   },
   "source": [
    "Für diese Auswertung sind nur die Werte aus <tt>class</tt>, <tt>methodName</tt>, <tt>time</tt> und </tt>count</tt> relevant.  \n",
    "\n",
    "Extrahiere diese Werte und passe deren Datentypen entsprechend an."
   ]
  },
  {
   "cell_type": "code",
   "execution_count": null,
   "metadata": {
    "collapsed": false,
    "nbpresent": {
     "id": "d5ddba6e-2dad-42c2-a854-fea6dc929c5c"
    }
   },
   "outputs": [],
   "source": [
    "REGEX_XML_ELEMENT=r'^.* class=\"(?P<class>.*?)\" methodName=\"(?P<method>.*?)\".*time=\"(?P<time>.*?)\" count=\"(?P<count>.*?)\".*>$'\n",
    "hotspots_info = hotspots_marker['raw'].str.extract(REGEX_XML_ELEMENT, expand=True)\n",
    "hotspots_info['time'] = pd.to_numeric(hotspots_info['time'])\n",
    "hotspots_info['count'] = pd.to_numeric(hotspots_info['count'])\n",
    "hotspots_info.head()"
   ]
  },
  {
   "cell_type": "markdown",
   "metadata": {
    "nbpresent": {
     "id": "4c520469-f992-42a1-b866-30b4a082862f"
    }
   },
   "source": [
    "Kontrolliere Datentypen"
   ]
  },
  {
   "cell_type": "code",
   "execution_count": null,
   "metadata": {
    "collapsed": false,
    "nbpresent": {
     "id": "5fd260f8-61ea-4f77-a305-5a94daaba5e2"
    }
   },
   "outputs": [],
   "source": [
    "hotspots_info.info()"
   ]
  },
  {
   "cell_type": "markdown",
   "metadata": {
    "nbpresent": {
     "id": "58d759c3-d1b6-4887-8ded-d3302e2100c1"
    }
   },
   "source": [
    "# Verursacher (der Hotspots)"
   ]
  },
  {
   "cell_type": "markdown",
   "metadata": {
    "nbpresent": {
     "id": "0b0e4ef8-58a0-4075-9db8-ffba5c4dfb09"
    }
   },
   "source": [
    "Verursacher können über die Node-XML-Elemente der 1. Ebene identifiziert werden."
   ]
  },
  {
   "cell_type": "code",
   "execution_count": null,
   "metadata": {
    "collapsed": false,
    "nbpresent": {
     "id": "457ad3dd-0d48-43bd-9713-a5d0509850f7"
    }
   },
   "outputs": [],
   "source": [
    "MARKER_NODES_1ST_LEVEL = \"    <node\"\n",
    "verursacher_marker = hotspots[hotspots['raw'].str.startswith(MARKER_NODES_1ST_LEVEL)]\n",
    "verursacher_marker.head()"
   ]
  },
  {
   "cell_type": "code",
   "execution_count": null,
   "metadata": {
    "collapsed": false,
    "nbpresent": {
     "id": "1c9f62a3-56c1-4c65-a78a-65daeefdb4d5"
    }
   },
   "outputs": [],
   "source": [
    "verursacher_info = verursacher_marker['raw'].str.extract(REGEX_XML_ELEMENT, expand=True)\n",
    "verursacher_info['time'] = pd.to_numeric(verursacher_info['time'])\n",
    "verursacher_info['count'] = pd.to_numeric(verursacher_info['count'])\n",
    "verursacher_info.head()"
   ]
  },
  {
   "cell_type": "markdown",
   "metadata": {
    "nbpresent": {
     "id": "6ed9f9dc-9622-4897-894d-97deafcd8f94"
    }
   },
   "source": [
    "Kontrolliere Datentypen"
   ]
  },
  {
   "cell_type": "code",
   "execution_count": null,
   "metadata": {
    "collapsed": false,
    "nbpresent": {
     "id": "aa5ab4ea-6b28-427f-9ad1-effeaba80deb"
    }
   },
   "outputs": [],
   "source": [
    "verursacher_info.info()"
   ]
  },
  {
   "cell_type": "markdown",
   "metadata": {
    "nbpresent": {
     "id": "091dd7b5-341f-41c9-ba4f-1dff96fe5f06"
    }
   },
   "source": [
    "# Auswertungen\n"
   ]
  },
  {
   "cell_type": "markdown",
   "metadata": {
    "nbpresent": {
     "id": "92d55a15-5d91-44ae-ac7a-74f16979ecbe"
    }
   },
   "source": [
    "## Vorbereitung: Plot-Funktion"
   ]
  },
  {
   "cell_type": "markdown",
   "metadata": {
    "nbpresent": {
     "id": "1af2139b-6516-46c8-a6f3-058188f22f6a"
    }
   },
   "source": [
    "Konfiguriere Visualisierung und erstelle Plot-Funktion zur Wiederverwendung"
   ]
  },
  {
   "cell_type": "code",
   "execution_count": null,
   "metadata": {
    "collapsed": false,
    "nbpresent": {
     "id": "24e12d35-feda-40a3-9df6-759f26dae2d5"
    }
   },
   "outputs": [],
   "source": [
    "%matplotlib inline\n",
    "import matplotlib.pyplot as plt\n",
    "from matplotlib import cm\n",
    "import numpy as np\n",
    "\n",
    "def plotte_daten(series, titel):\n",
    "\n",
    "    # Styling\n",
    "    plt.style.use('fivethirtyeight')\n",
    "    plt.figure(facecolor='white')\n",
    "\n",
    "    ax = series.plot(\n",
    "        kind='pie', \n",
    "        colors=cm.Spectral(np.linspace(0, 1, len(series))), \n",
    "        figsize=(10,10), \n",
    "        legend=None, \n",
    "        autopct='%1.0f%%',\n",
    "        pctdistance=1.1, \n",
    "        labeldistance=1.2,\n",
    "        fontsize=10,\n",
    "        title=titel)\n",
    "    ax.set_ylabel(\"\")\n",
    "    fig = ax.get_figure()\n",
    "    plt.savefig(\"output/\" + titel + \".svg\", facecolor=fig.get_facecolor(), bbox_inches=\"tight\")"
   ]
  },
  {
   "cell_type": "markdown",
   "metadata": {
    "nbpresent": {
     "id": "bc3384b4-9f93-4748-9201-4feb8b217ba4"
    }
   },
   "source": [
    "## Auswertung: Top-10-HotSpots"
   ]
  },
  {
   "cell_type": "markdown",
   "metadata": {
    "nbpresent": {
     "id": "e3eaeb73-a050-4311-b0e2-abfd6f0f2fdf"
    }
   },
   "source": [
    "Summiere die Zeitanteile der Hotspots-Klassen, sortiere absteigend und zeige die TOP-10."
   ]
  },
  {
   "cell_type": "markdown",
   "metadata": {
    "nbpresent": {
     "id": "bdcd7c81-be01-4a22-91cc-a93785cdd171"
    }
   },
   "source": [
    "### Ergebnis: Top-10-Hotspots"
   ]
  },
  {
   "cell_type": "code",
   "execution_count": null,
   "metadata": {
    "collapsed": false,
    "nbpresent": {
     "id": "dc1404c3-3c6f-4836-961b-02f071b4d88b"
    }
   },
   "outputs": [],
   "source": [
    "top10_hotspots = hotspots_info.groupby(['class']).sum()[['time']].sort_values(by=['time'], ascending=False).head(10)\n",
    "top10_hotspots"
   ]
  },
  {
   "cell_type": "markdown",
   "metadata": {
    "nbpresent": {
     "id": "eff07057-7dae-4205-9cce-6ff2ba4d3e7a"
    }
   },
   "source": [
    "### Ergebnis: Top-10-Hotspot-Plot"
   ]
  },
  {
   "cell_type": "code",
   "execution_count": null,
   "metadata": {
    "collapsed": false,
    "nbpresent": {
     "id": "b2ac5479-b17e-46aa-b23c-5ddfe7453e27"
    }
   },
   "outputs": [],
   "source": [
    "plotte_daten(top10_hotspots['time'], u\"Top-10-Hotspot-CPU-Verweildauer in Minuten\")"
   ]
  },
  {
   "cell_type": "markdown",
   "metadata": {
    "nbpresent": {
     "id": "208387b9-fcc2-45b9-8d49-313cb3980529"
    }
   },
   "source": [
    "## Auswertung: Top-10-HotSpots relativ zu allen anderen HotSpots (\"Andere\")"
   ]
  },
  {
   "cell_type": "markdown",
   "metadata": {
    "nbpresent": {
     "id": "718b48f4-6aea-4532-9168-3f6abb4f0ff2"
    }
   },
   "source": [
    "Bestimme alle weiteren Hotspots, die nicht in den Top-10-Hotspots enthalten sind."
   ]
  },
  {
   "cell_type": "code",
   "execution_count": null,
   "metadata": {
    "collapsed": false,
    "nbpresent": {
     "id": "b0203034-3c4d-4be5-bafd-36f356130a60"
    }
   },
   "outputs": [],
   "source": [
    "andere_hotspots = hotspots_info[~hotspots_info['class'].isin(top10_hotspots.index)]\n",
    "andere_hotspots.head()"
   ]
  },
  {
   "cell_type": "markdown",
   "metadata": {
    "nbpresent": {
     "id": "f78a74c0-3b53-45c4-8378-cd70eecaa187"
    }
   },
   "source": [
    "Setze sprechende Bezeichnung für die anderen Hotspots."
   ]
  },
  {
   "cell_type": "code",
   "execution_count": null,
   "metadata": {
    "collapsed": false,
    "nbpresent": {
     "id": "d4e23842-c6e1-4ace-a00a-f29b8498844d"
    }
   },
   "outputs": [],
   "source": [
    "name_andere = \"Andere Hotspots (\" + str(len(andere_hotspots)) + \" weitere Klassen)\"\n",
    "andere_hotspots_summiert = pd.DataFrame(andere_hotspots.sum(), columns=[name_andere]).T\n",
    "andere_hotspots_summiert.head()"
   ]
  },
  {
   "cell_type": "markdown",
   "metadata": {
    "nbpresent": {
     "id": "834ddfe7-84c9-4b39-8ff1-ec5a90b46b90"
    }
   },
   "source": [
    "Füge die Anteile der anderen Hotspots mit den Top-10-Hotspots zusammen."
   ]
  },
  {
   "cell_type": "code",
   "execution_count": null,
   "metadata": {
    "collapsed": false,
    "nbpresent": {
     "id": "eaf561fb-8b32-4304-9ef6-1ac6c9081313"
    }
   },
   "outputs": [],
   "source": [
    "ergebnis_top10_hotspots_alle = top10_hotspots.append(andere_hotspots_summiert)\n",
    "ergebnis_top10_hotspots_alle[['time']]"
   ]
  },
  {
   "cell_type": "markdown",
   "metadata": {
    "nbpresent": {
     "id": "b4a6caac-fe10-4a35-85e8-a478a1339a74"
    }
   },
   "source": [
    "### Ergebnis: Top-10-Hotspot-Verursacher mit anderen"
   ]
  },
  {
   "cell_type": "markdown",
   "metadata": {
    "nbpresent": {
     "id": "9b288999-ab75-468c-95f0-02ce7179ec52"
    }
   },
   "source": [
    "Erstelle Spalte mit Verweildauer in Minuten und passe Bezeichnung an."
   ]
  },
  {
   "cell_type": "code",
   "execution_count": null,
   "metadata": {
    "collapsed": false,
    "nbpresent": {
     "id": "4320d9ca-5dd9-44f1-9b5b-dc94365bf0f8"
    }
   },
   "outputs": [],
   "source": [
    "ergebnis_top10_hotspots_alle['Verweildauer in Minuten'] = ergebnis_top10_hotspots_alle['time'].apply(\n",
    "    lambda p: '{:.2f}'.format(p/1000/1000/60))\n",
    "ergebnis_top10_hotspots_alle.index.name=\"Klassenname\"\n",
    "ergebnis_top10_hotspots_alle[['Verweildauer in Minuten']]"
   ]
  },
  {
   "cell_type": "markdown",
   "metadata": {
    "nbpresent": {
     "id": "b9b6ba6d-00af-48ff-b524-d593dc90b6fa"
    }
   },
   "source": [
    "### Ergebnis: Top-10-Hotspots-Plot mit andere"
   ]
  },
  {
   "cell_type": "code",
   "execution_count": null,
   "metadata": {
    "collapsed": false,
    "nbpresent": {
     "id": "e37623b0-ace8-4f36-b021-0930b573388f"
    }
   },
   "outputs": [],
   "source": [
    "plotte_daten(ergebnis_top10_hotspots_alle['time'], u'Top-10-Hotspot-CPU-Verweildauer mit Andere in Minuten')"
   ]
  },
  {
   "cell_type": "markdown",
   "metadata": {
    "nbpresent": {
     "id": "39cf90fa-7f42-4e05-8bb5-63bf04a9a400"
    }
   },
   "source": [
    "## Auswertung: Top-Verursacher"
   ]
  },
  {
   "cell_type": "markdown",
   "metadata": {
    "nbpresent": {
     "id": "43cbdc7c-5c11-4610-9d5d-fab1a0bd34bb"
    }
   },
   "source": [
    "### Auswertung: Top-10-Hotspot-Verursacher"
   ]
  },
  {
   "cell_type": "markdown",
   "metadata": {
    "nbpresent": {
     "id": "cae3877b-29f8-4221-9e61-61178b39a8b9"
    }
   },
   "source": [
    "Summiere die CPU-Verweildauer der Aufrufer-Klassen."
   ]
  },
  {
   "cell_type": "code",
   "execution_count": null,
   "metadata": {
    "collapsed": false,
    "nbpresent": {
     "id": "55e76339-10fe-4f9f-ab3c-f32df8d84eac"
    }
   },
   "outputs": [],
   "source": [
    "top10_hotspot_verursacher = verursacher_info.groupby(['class']).sum()[['time']].sort_values(by=['time'], ascending=False).head(10)\n",
    "top10_hotspot_verursacher"
   ]
  },
  {
   "cell_type": "markdown",
   "metadata": {
    "nbpresent": {
     "id": "c0e00d92-e3c8-4a93-856c-94afaf40c316"
    }
   },
   "source": [
    "### Ergebnis: Top-10-Verursacher"
   ]
  },
  {
   "cell_type": "code",
   "execution_count": null,
   "metadata": {
    "collapsed": false,
    "nbpresent": {
     "id": "c9804d17-a0fb-4f61-a1f4-0d3158fae04d"
    }
   },
   "outputs": [],
   "source": [
    "plotte_daten(top10_hotspot_verursacher['time'], u\"Top-10-Verursacher-CPU-Verweildauer in Minuten\")"
   ]
  },
  {
   "cell_type": "markdown",
   "metadata": {
    "nbpresent": {
     "id": "33b6db9e-822d-4bf4-9f9b-0718e5e7b347"
    }
   },
   "source": [
    "### Ergebnis: Top-9-Verursacher-Plot gefiltert\n",
    "Ohne <tt>GlazServletFilter</tt>, da dieser ein Sammelposten für alle anderen Aufrufer sind."
   ]
  },
  {
   "cell_type": "code",
   "execution_count": null,
   "metadata": {
    "collapsed": false,
    "nbpresent": {
     "id": "29121a49-caf4-437f-8c8a-3353e91c5cb2"
    }
   },
   "outputs": [],
   "source": [
    "ergebnis_top10_aufrufer_ohne_glazfilter = top10_hotspot_verursacher[top10_hotspot_verursacher.index != \"de.sdvrz.zap.prozesse.baufizap.util.GlazServletFilter\"]\n",
    "plotte_daten(ergebnis_top10_aufrufer_ohne_glazfilter.head(9)['time'], u\"TOP-9-Aufrufer-Verweildauer in Minuten (ohne GlazServletFilter)\")"
   ]
  },
  {
   "cell_type": "markdown",
   "metadata": {
    "nbpresent": {
     "id": "c4865331-0446-4b89-973e-beb7306f62db"
    }
   },
   "source": [
    "### Top-10-HotSpotVerursacher relativ zu allen anderen HotSpots (\"Andere\")"
   ]
  },
  {
   "cell_type": "code",
   "execution_count": null,
   "metadata": {
    "collapsed": false,
    "nbpresent": {
     "id": "442d2d8d-6f32-451e-899b-b868ddc876e1"
    }
   },
   "outputs": [],
   "source": [
    "andere_hotspot_verursacher = verursacher_info[~verursacher_info.index.isin(top10_hotspot_verursacher.index)]\n",
    "andere_hotspot_verursacher.head()"
   ]
  },
  {
   "cell_type": "markdown",
   "metadata": {
    "nbpresent": {
     "id": "4972bece-b6d7-4414-ba17-485c13cca536"
    }
   },
   "source": [
    "Summiere die anderen Aufrufer zusammen"
   ]
  },
  {
   "cell_type": "code",
   "execution_count": null,
   "metadata": {
    "collapsed": false,
    "nbpresent": {
     "id": "54369113-a98e-4c8a-809c-04c0a440e540"
    }
   },
   "outputs": [],
   "source": [
    "name_andere = \"Aufrufer (\" + str(len(andere_hotspot_verursacher)) + \" weitere Aufrufer-Klassen)\"\n",
    "andere_verursacher_summiert = pd.DataFrame(andere_hotspot_verursacher.sum(), columns=[name_andere]).T\n",
    "andere_verursacher_summiert.head()"
   ]
  },
  {
   "cell_type": "markdown",
   "metadata": {
    "nbpresent": {
     "id": "ea7523fc-1521-4e6e-a67a-d7d3e1dd2f89"
    }
   },
   "source": [
    "### Ergebnis: Top-10-Hotspot-Verursacher-Liste"
   ]
  },
  {
   "cell_type": "code",
   "execution_count": null,
   "metadata": {
    "collapsed": false,
    "nbpresent": {
     "id": "5356dd27-dbd1-4b70-86b4-048e898ebdb4"
    }
   },
   "outputs": [],
   "source": [
    "ergebnis_top10_verursacher_alle = top10_hotspot_verursacher.append(andere_verursacher_summiert)\n",
    "ergebnis_top10_verursacher_alle['Verweildauer in Minuten'] = ergebnis_top10_verursacher_alle['time'].apply(\n",
    "    lambda p: '{:.2f}'.format(p/1000/1000/60))\n",
    "ergebnis_top10_verursacher_alle.index.name=\"Klassenname\"\n",
    "ergebnis_top10_verursacher_alle[['time', 'Verweildauer in Minuten']]"
   ]
  },
  {
   "cell_type": "markdown",
   "metadata": {
    "nbpresent": {
     "id": "7c698223-a298-4d36-bb55-0a1804658638"
    }
   },
   "source": [
    "### Ergebnis: Top-10-Hotspot-Verursacher-Plot inkl. anderer Klassen"
   ]
  },
  {
   "cell_type": "code",
   "execution_count": null,
   "metadata": {
    "collapsed": false,
    "nbpresent": {
     "id": "d4941458-d892-4309-b114-3479d6dc23c3"
    }
   },
   "outputs": [],
   "source": [
    "plotte_daten(ergebnis_top10_verursacher_alle['time'], r\"Top-10-Hotspot-Verursacher in Minuten\")"
   ]
  },
  {
   "cell_type": "markdown",
   "metadata": {
    "nbpresent": {
     "id": "60f986c7-bd9d-4c45-a8a9-66ef3f884ea7"
    }
   },
   "source": [
    "## Aufschlüsselung der Verursacher nach HotSpots"
   ]
  },
  {
   "cell_type": "markdown",
   "metadata": {
    "nbpresent": {
     "id": "78931212-e5ca-4b3d-bb7b-87ddfba97aa3"
    }
   },
   "source": [
    "### Vorverarbeitung: Zusammenführung"
   ]
  },
  {
   "cell_type": "markdown",
   "metadata": {
    "nbpresent": {
     "id": "9072f54b-8d98-4d34-a03b-171f6d101fca"
    }
   },
   "source": [
    "Die beiden Daten werden über die Indizies zusammengeführt, wobei nur die relevanten Indizies verwendet werden. Fehlende Daten werden entsprechend aufgefüllt."
   ]
  },
  {
   "cell_type": "code",
   "execution_count": null,
   "metadata": {
    "collapsed": false,
    "nbpresent": {
     "id": "4a16ff91-b116-40b3-84f8-1eb68263f566"
    }
   },
   "outputs": [],
   "source": [
    "hotspots_analysis = hotspots_info.reindex(\n",
    "    hotspots_info.index | verursacher_info.index).fillna(method=\"ffill\")\n",
    "hotspots_analysis.head()"
   ]
  },
  {
   "cell_type": "markdown",
   "metadata": {
    "nbpresent": {
     "id": "da76088d-b778-4836-b180-2ee633a3874e"
    }
   },
   "source": [
    "Erstelle Liste mit Zuordnung von Hotspots zu Verursachern"
   ]
  },
  {
   "cell_type": "code",
   "execution_count": null,
   "metadata": {
    "collapsed": false,
    "nbpresent": {
     "id": "d8e727cf-c9ec-4f1f-a951-378bbff61f49"
    }
   },
   "outputs": [],
   "source": [
    "hotspots_analysis = hotspots_analysis.join(verursacher_info, lsuffix=\"_hotspot\", rsuffix=\"_aufrufer\").dropna()\n",
    "hotspots_analysis.head()"
   ]
  },
  {
   "cell_type": "markdown",
   "metadata": {
    "nbpresent": {
     "id": "23b89c66-c941-41c8-9655-2885e142c56d"
    }
   },
   "source": [
    "Erstelle Spalte mit zusammengeführte Klassen- und Methodennamen"
   ]
  },
  {
   "cell_type": "code",
   "execution_count": null,
   "metadata": {
    "collapsed": false,
    "nbpresent": {
     "id": "a1d920bc-a7aa-403f-af16-2cb587e4d5ff"
    }
   },
   "outputs": [],
   "source": [
    "hotspots_analysis['hotspot'] = hotspots_analysis['class_hotspot'] + \"#\" + hotspots_analysis['method_hotspot']\n",
    "hotspots_analysis['aufrufer'] = hotspots_analysis['class_aufrufer'] + \"#\" + hotspots_analysis['method_aufrufer']\n",
    "hotspots_analysis[['hotspot', 'aufrufer']].head()"
   ]
  },
  {
   "cell_type": "markdown",
   "metadata": {
    "nbpresent": {
     "id": "845d6cb5-e2cb-4a41-81b2-ddb83407d1b3"
    }
   },
   "source": [
    "Summiere Hotspots und Aufrufer"
   ]
  },
  {
   "cell_type": "code",
   "execution_count": null,
   "metadata": {
    "collapsed": false,
    "nbpresent": {
     "id": "fc964959-49c0-41e1-adfb-e8bc659b56af"
    }
   },
   "outputs": [],
   "source": [
    "group_by_aufrufer_hotspot = hotspots_analysis.groupby(['aufrufer', 'hotspot']).sum().reset_index()\n",
    "group_by_aufrufer_hotspot.head()"
   ]
  },
  {
   "cell_type": "markdown",
   "metadata": {
    "nbpresent": {
     "id": "f33d60f3-a4de-4923-9b95-8aa1704819e8"
    }
   },
   "source": [
    "Summiere Aufrufer"
   ]
  },
  {
   "cell_type": "code",
   "execution_count": null,
   "metadata": {
    "collapsed": false,
    "nbpresent": {
     "id": "b5ff36ef-06e3-404e-8b57-d1fdca1e504a"
    }
   },
   "outputs": [],
   "source": [
    "group_by_aufrufer = group_by_aufrufer_hotspot.groupby(['aufrufer']).sum().reset_index()\n",
    "group_by_aufrufer.head()"
   ]
  },
  {
   "cell_type": "markdown",
   "metadata": {
    "nbpresent": {
     "id": "c23b0de7-aefd-462f-862c-a072fd2ada16"
    }
   },
   "source": [
    "Füge Einzeldaten zusammen"
   ]
  },
  {
   "cell_type": "code",
   "execution_count": null,
   "metadata": {
    "collapsed": false,
    "nbpresent": {
     "id": "684e28b3-cce0-4d21-b98b-6cd1413995c6"
    }
   },
   "outputs": [],
   "source": [
    "summary_hotspots = pd.merge(group_by_aufrufer_hotspot, group_by_aufrufer, left_on='aufrufer', right_on='aufrufer', suffixes=[\"\", \"_gesamt\"])\n",
    "summary_hotspots.sort_values(by=['hotspot' , 'aufrufer', 'count_aufrufer', 'count_aufrufer_gesamt'])\n",
    "summary_hotspots.head()"
   ]
  },
  {
   "cell_type": "code",
   "execution_count": null,
   "metadata": {
    "collapsed": false,
    "nbpresent": {
     "id": "58e8553b-1cf1-494a-aee7-784ae01864ff"
    }
   },
   "outputs": [],
   "source": [
    "grouped_summary_verursacher = summary_hotspots.groupby(['aufrufer', 'hotspot', 'time_aufrufer_gesamt']).sum()\n",
    "grouped_summary_verursacher = grouped_summary_verursacher.sort_index(level=2, ascending=False)\n",
    "grouped_summary_verursacher.head()"
   ]
  },
  {
   "cell_type": "markdown",
   "metadata": {
    "nbpresent": {
     "id": "5ddb5374-3b62-4156-b59e-5747fd96dae3"
    }
   },
   "source": [
    "### Ergebnis: Aufschlüsselung nach Excel"
   ]
  },
  {
   "cell_type": "code",
   "execution_count": null,
   "metadata": {
    "collapsed": false,
    "nbpresent": {
     "id": "85b9b1fa-3e74-41d3-8c1c-0e984ddcbf50"
    }
   },
   "outputs": [],
   "source": [
    "grouped_summary_verursacher[['time_hotspot']].to_excel(\n",
    "    \"output/zusammenfassung_aufschluesselung_verursacher_hotspots_nach_verweildauer.xlsx\", \n",
    "    index_label = [\"Verursacher\", \"Hotspots\", \"Gesamt-Verweildauer\"],\n",
    "    header=[\"Verweildauer\"],\n",
    "    sheet_name='Verweildauer nach Zeit')"
   ]
  }
 ],
 "metadata": {
  "anaconda-cloud": {},
  "kernelspec": {
   "display_name": "Python [Root]",
   "language": "python",
   "name": "Python [Root]"
  },
  "language_info": {
   "codemirror_mode": {
    "name": "ipython",
    "version": 3
   },
   "file_extension": ".py",
   "mimetype": "text/x-python",
   "name": "python",
   "nbconvert_exporter": "python",
   "pygments_lexer": "ipython3",
   "version": "3.5.2"
  },
  "nbpresent": {
   "slides": {
    "31f713ea-7963-4ade-afd0-ea6e446469de": {
     "id": "31f713ea-7963-4ade-afd0-ea6e446469de",
     "prev": "5785a490-f713-4093-880a-8adb52c1b231",
     "regions": {
      "059190e7-a843-416d-a6d9-66e964dbf0ab": {
       "attrs": {
        "height": 1,
        "width": 1,
        "x": 0,
        "y": 0
       },
       "content": {
        "cell": "c9804d17-a0fb-4f61-a1f4-0d3158fae04d",
        "part": "whole"
       },
       "id": "059190e7-a843-416d-a6d9-66e964dbf0ab"
      }
     }
    },
    "3a4ca18a-6d5e-4b8e-9a91-2fb35c12a208": {
     "id": "3a4ca18a-6d5e-4b8e-9a91-2fb35c12a208",
     "prev": "7514bb85-62aa-4393-9d2e-311d857b9f21",
     "regions": {
      "57d2d300-936e-4210-a7b4-c56c41f0af6e": {
       "attrs": {
        "height": 1,
        "width": 1,
        "x": 0,
        "y": 0
       },
       "content": {
        "cell": "2b141353-e65b-48a6-9fcd-4a12d1c33c56",
        "part": "source"
       },
       "id": "57d2d300-936e-4210-a7b4-c56c41f0af6e"
      }
     }
    },
    "5785a490-f713-4093-880a-8adb52c1b231": {
     "id": "5785a490-f713-4093-880a-8adb52c1b231",
     "prev": "ee248ab4-6ec5-418f-9916-f37cce4e35ca",
     "regions": {
      "c055314c-b8cb-4922-a5f3-116a3900a3f7": {
       "attrs": {
        "height": 1,
        "width": 1,
        "x": 0,
        "y": 0
       },
       "content": {
        "cell": "b2ac5479-b17e-46aa-b23c-5ddfe7453e27",
        "part": "outputs"
       },
       "id": "c055314c-b8cb-4922-a5f3-116a3900a3f7"
      }
     }
    },
    "7514bb85-62aa-4393-9d2e-311d857b9f21": {
     "id": "7514bb85-62aa-4393-9d2e-311d857b9f21",
     "prev": "d5fc7a87-1b11-4bc8-be90-f3e320576090",
     "regions": {
      "ea676cd9-76a8-4a29-b80c-8b43e59a4cab": {
       "attrs": {
        "height": 1,
        "width": 1,
        "x": 0,
        "y": 0
       },
       "content": {
        "cell": "247f068c-d573-4ae5-a010-8010555cf9b1",
        "part": "whole"
       },
       "id": "ea676cd9-76a8-4a29-b80c-8b43e59a4cab"
      }
     }
    },
    "83ec8ca1-9d38-4383-ba02-426f407b4995": {
     "id": "83ec8ca1-9d38-4383-ba02-426f407b4995",
     "prev": "31f713ea-7963-4ade-afd0-ea6e446469de",
     "regions": {
      "e991c009-15c1-4fe4-b5a7-325eb7bed3a4": {
       "attrs": {
        "height": 1,
        "width": 1,
        "x": 0,
        "y": 0
       },
       "content": {
        "cell": "d4941458-d892-4309-b114-3479d6dc23c3",
        "part": "whole"
       },
       "id": "e991c009-15c1-4fe4-b5a7-325eb7bed3a4"
      }
     }
    },
    "8cceba16-b25e-432e-927c-a587fd70d2b2": {
     "id": "8cceba16-b25e-432e-927c-a587fd70d2b2",
     "prev": "83ec8ca1-9d38-4383-ba02-426f407b4995",
     "regions": {
      "62be04db-9623-4926-a8a9-b10661d4fb67": {
       "attrs": {
        "height": 1,
        "width": 1,
        "x": 0,
        "y": 0
       },
       "content": {
        "cell": "58e8553b-1cf1-494a-aee7-784ae01864ff",
        "part": "whole"
       },
       "id": "62be04db-9623-4926-a8a9-b10661d4fb67"
      }
     }
    },
    "8fc35a5c-0b79-4715-b853-44fb056d3ba3": {
     "id": "8fc35a5c-0b79-4715-b853-44fb056d3ba3",
     "prev": "ed8ec219-f905-4eb7-b93c-24de32d1feee",
     "regions": {
      "7fa51683-d3be-4b1e-92ac-c48d92166941": {
       "attrs": {
        "height": 1,
        "width": 1,
        "x": 0,
        "y": 0
       },
       "content": {
        "cell": "1c9f62a3-56c1-4c65-a78a-65daeefdb4d5",
        "part": "whole"
       },
       "id": "7fa51683-d3be-4b1e-92ac-c48d92166941"
      }
     }
    },
    "d5fc7a87-1b11-4bc8-be90-f3e320576090": {
     "id": "d5fc7a87-1b11-4bc8-be90-f3e320576090",
     "prev": null,
     "regions": {
      "5380055f-07cf-43dd-a6d7-2c46551d1c83": {
       "attrs": {
        "height": 1,
        "width": 1,
        "x": 0,
        "y": 0
       },
       "content": {
        "cell": "3ad97dc2-ed12-473b-afce-7e9d14cf6682",
        "part": "whole"
       },
       "id": "5380055f-07cf-43dd-a6d7-2c46551d1c83"
      }
     }
    },
    "ed8ec219-f905-4eb7-b93c-24de32d1feee": {
     "id": "ed8ec219-f905-4eb7-b93c-24de32d1feee",
     "prev": "3a4ca18a-6d5e-4b8e-9a91-2fb35c12a208",
     "regions": {
      "3b316acf-74a8-4336-9d75-6ca83085d1ff": {
       "attrs": {
        "height": 1,
        "width": 1,
        "x": 0,
        "y": 0
       },
       "content": {
        "cell": "d5ddba6e-2dad-42c2-a854-fea6dc929c5c",
        "part": "whole"
       },
       "id": "3b316acf-74a8-4336-9d75-6ca83085d1ff"
      }
     }
    },
    "ee248ab4-6ec5-418f-9916-f37cce4e35ca": {
     "id": "ee248ab4-6ec5-418f-9916-f37cce4e35ca",
     "prev": "8fc35a5c-0b79-4715-b853-44fb056d3ba3",
     "regions": {
      "83c1e629-7508-4b51-b6a5-f42d960b042e": {
       "attrs": {
        "height": 1,
        "width": 1,
        "x": 0,
        "y": 0
       },
       "content": {
        "cell": "dc1404c3-3c6f-4836-961b-02f071b4d88b",
        "part": "whole"
       },
       "id": "83c1e629-7508-4b51-b6a5-f42d960b042e"
      }
     }
    }
   },
   "themes": {
    "default": "7e32a340-d624-4979-b397-304d9955a233",
    "theme": {}
   }
  }
 },
 "nbformat": 4,
 "nbformat_minor": 0
}
