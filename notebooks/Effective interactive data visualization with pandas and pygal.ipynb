{
 "cells": [
  {
   "cell_type": "markdown",
   "metadata": {},
   "source": [
    "# Introduction\n",
    "I really like pandas &ndash; the powerful data analysis framework for Python. And I really like pygal &ndash; an interactive visualization library written in and for Python.\n",
    "\n",
    "**Why not put these two libraries together for effective data visualizations?**\n",
    "\n",
    "In this blog post, I want to show you some basic use cases and integration tips between pandas as pygal.\n",
    "\n"
   ]
  },
  {
   "cell_type": "markdown",
   "metadata": {},
   "source": [
    "# Data\n",
    "We need some kind of data. Which one doesn't really matter. Here I have a dataset that was produced to measure the utilization of source code during program execution. It shows the lines of source code that were executed (covered) or missed during a production coverage measurement.\n",
    "\n",
    "As usual, we load this data with pandas first."
   ]
  },
  {
   "cell_type": "code",
   "execution_count": 1,
   "metadata": {},
   "outputs": [
    {
     "data": {
      "text/html": [
       "<div>\n",
       "<style scoped>\n",
       "    .dataframe tbody tr th:only-of-type {\n",
       "        vertical-align: middle;\n",
       "    }\n",
       "\n",
       "    .dataframe tbody tr th {\n",
       "        vertical-align: top;\n",
       "    }\n",
       "\n",
       "    .dataframe thead th {\n",
       "        text-align: right;\n",
       "    }\n",
       "</style>\n",
       "<table border=\"1\" class=\"dataframe\">\n",
       "  <thead>\n",
       "    <tr style=\"text-align: right;\">\n",
       "      <th></th>\n",
       "      <th>PACKAGE</th>\n",
       "      <th>CLASS</th>\n",
       "      <th>LINE_MISSED</th>\n",
       "      <th>LINE_COVERED</th>\n",
       "    </tr>\n",
       "  </thead>\n",
       "  <tbody>\n",
       "    <tr>\n",
       "      <th>0</th>\n",
       "      <td>org.springframework.samples.petclinic</td>\n",
       "      <td>PetclinicInitializer</td>\n",
       "      <td>0</td>\n",
       "      <td>24</td>\n",
       "    </tr>\n",
       "    <tr>\n",
       "      <th>1</th>\n",
       "      <td>org.springframework.samples.petclinic.model</td>\n",
       "      <td>NamedEntity</td>\n",
       "      <td>1</td>\n",
       "      <td>4</td>\n",
       "    </tr>\n",
       "    <tr>\n",
       "      <th>2</th>\n",
       "      <td>org.springframework.samples.petclinic.model</td>\n",
       "      <td>Specialty</td>\n",
       "      <td>0</td>\n",
       "      <td>1</td>\n",
       "    </tr>\n",
       "    <tr>\n",
       "      <th>3</th>\n",
       "      <td>org.springframework.samples.petclinic.model</td>\n",
       "      <td>PetType</td>\n",
       "      <td>0</td>\n",
       "      <td>1</td>\n",
       "    </tr>\n",
       "    <tr>\n",
       "      <th>4</th>\n",
       "      <td>org.springframework.samples.petclinic.model</td>\n",
       "      <td>Vets</td>\n",
       "      <td>4</td>\n",
       "      <td>0</td>\n",
       "    </tr>\n",
       "  </tbody>\n",
       "</table>\n",
       "</div>"
      ],
      "text/plain": [
       "                                       PACKAGE                 CLASS  \\\n",
       "0        org.springframework.samples.petclinic  PetclinicInitializer   \n",
       "1  org.springframework.samples.petclinic.model           NamedEntity   \n",
       "2  org.springframework.samples.petclinic.model             Specialty   \n",
       "3  org.springframework.samples.petclinic.model               PetType   \n",
       "4  org.springframework.samples.petclinic.model                  Vets   \n",
       "\n",
       "   LINE_MISSED  LINE_COVERED  \n",
       "0            0            24  \n",
       "1            1             4  \n",
       "2            0             1  \n",
       "3            0             1  \n",
       "4            4             0  "
      ]
     },
     "execution_count": 1,
     "metadata": {},
     "output_type": "execute_result"
    }
   ],
   "source": [
    "import pandas as pd\n",
    "\n",
    "raw = pd.read_csv(\"datasets/jacoco_production_coverage_spring_petclinic.csv\")\n",
    "raw.head()"
   ]
  },
  {
   "cell_type": "markdown",
   "metadata": {},
   "source": [
    "Let's add some columns to make this data better consumable."
   ]
  },
  {
   "cell_type": "code",
   "execution_count": 2,
   "metadata": {},
   "outputs": [
    {
     "data": {
      "text/html": [
       "<div>\n",
       "<style scoped>\n",
       "    .dataframe tbody tr th:only-of-type {\n",
       "        vertical-align: middle;\n",
       "    }\n",
       "\n",
       "    .dataframe tbody tr th {\n",
       "        vertical-align: top;\n",
       "    }\n",
       "\n",
       "    .dataframe thead th {\n",
       "        text-align: right;\n",
       "    }\n",
       "</style>\n",
       "<table border=\"1\" class=\"dataframe\">\n",
       "  <thead>\n",
       "    <tr style=\"text-align: right;\">\n",
       "      <th></th>\n",
       "      <th>class</th>\n",
       "      <th>lines</th>\n",
       "      <th>coverage</th>\n",
       "    </tr>\n",
       "  </thead>\n",
       "  <tbody>\n",
       "    <tr>\n",
       "      <th>0</th>\n",
       "      <td>org.springframework.samples.petclinic.Petclini...</td>\n",
       "      <td>24</td>\n",
       "      <td>1.0</td>\n",
       "    </tr>\n",
       "    <tr>\n",
       "      <th>1</th>\n",
       "      <td>org.springframework.samples.petclinic.model.Na...</td>\n",
       "      <td>5</td>\n",
       "      <td>0.8</td>\n",
       "    </tr>\n",
       "    <tr>\n",
       "      <th>2</th>\n",
       "      <td>org.springframework.samples.petclinic.model.Sp...</td>\n",
       "      <td>1</td>\n",
       "      <td>1.0</td>\n",
       "    </tr>\n",
       "    <tr>\n",
       "      <th>3</th>\n",
       "      <td>org.springframework.samples.petclinic.model.Pe...</td>\n",
       "      <td>1</td>\n",
       "      <td>1.0</td>\n",
       "    </tr>\n",
       "    <tr>\n",
       "      <th>4</th>\n",
       "      <td>org.springframework.samples.petclinic.model.Vets</td>\n",
       "      <td>4</td>\n",
       "      <td>0.0</td>\n",
       "    </tr>\n",
       "  </tbody>\n",
       "</table>\n",
       "</div>"
      ],
      "text/plain": [
       "                                               class  lines  coverage\n",
       "0  org.springframework.samples.petclinic.Petclini...     24       1.0\n",
       "1  org.springframework.samples.petclinic.model.Na...      5       0.8\n",
       "2  org.springframework.samples.petclinic.model.Sp...      1       1.0\n",
       "3  org.springframework.samples.petclinic.model.Pe...      1       1.0\n",
       "4   org.springframework.samples.petclinic.model.Vets      4       0.0"
      ]
     },
     "execution_count": 2,
     "metadata": {},
     "output_type": "execute_result"
    }
   ],
   "source": [
    "df = pd.DataFrame(index=raw.index)\n",
    "df['class'] = raw['PACKAGE'] + \".\" + raw['CLASS']\n",
    "df['lines'] = raw['LINE_MISSED'] + raw['LINE_COVERED']\n",
    "df['coverage'] = raw['LINE_COVERED'] / df['lines']\n",
    "df.head()"
   ]
  },
  {
   "cell_type": "markdown",
   "metadata": {},
   "source": [
    "# Visualization\n",
    "## Setup\n",
    "The following cell has nothing to do with pandas and pygal per se, but it enables us to embed interactive visualizations directly into this notebook. This is pretty cool, so we use this here!"
   ]
  },
  {
   "cell_type": "code",
   "execution_count": 3,
   "metadata": {},
   "outputs": [],
   "source": [
    "from IPython.display import display, HTML\n",
    "\n",
    "base_html = \"\"\"\n",
    "<!DOCTYPE html>\n",
    "<html>\n",
    "  <head>\n",
    "  <script type=\"text/javascript\" src=\"http://kozea.github.com/pygal.js/javascripts/svg.jquery.js\"></script>\n",
    "  <script type=\"text/javascript\" src=\"https://kozea.github.io/pygal.js/2.0.x/pygal-tooltips.min.js\"\"></script>\n",
    "  </head>\n",
    "  <body>\n",
    "    <figure>\n",
    "      {rendered_chart}\n",
    "    </figure>\n",
    "  </body>\n",
    "</html>\n",
    "\"\"\""
   ]
  },
  {
   "cell_type": "markdown",
   "metadata": {},
   "source": [
    "## Basics\n",
    "\n",
    "The core idea is to let pandas create the data in a format that pygal's visualizations can consume easily. So let's have a look at what pygal expects as input data.\n",
    "\n",
    "Here is a basic example for a bar chart (adapted from [pygal's documentation](http://www.pygal.org/en/stable/documentation/types/line.html)) and take a look at the visualization."
   ]
  },
  {
   "cell_type": "code",
   "execution_count": 4,
   "metadata": {},
   "outputs": [
    {
     "data": {
      "text/html": [
       "\n",
       "<!DOCTYPE html>\n",
       "<html>\n",
       "  <head>\n",
       "  <script type=\"text/javascript\" src=\"http://kozea.github.com/pygal.js/javascripts/svg.jquery.js\"></script>\n",
       "  <script type=\"text/javascript\" src=\"https://kozea.github.io/pygal.js/2.0.x/pygal-tooltips.min.js\"\"></script>\n",
       "  </head>\n",
       "  <body>\n",
       "    <figure>\n",
       "      <?xml version='1.0' encoding='utf-8'?>\n",
       "<svg xmlns:xlink=\"http://www.w3.org/1999/xlink\" xmlns=\"http://www.w3.org/2000/svg\" id=\"chart-8e9f4ae7-77eb-4ce3-a3fb-3e809683b768\" class=\"pygal-chart\" viewBox=\"0 0 800 200\"><!--Generated with pygal 2.4.0 (lxml) ©Kozea 2012-2016 on 2019-03-14--><!--http://pygal.org--><!--http://github.com/Kozea/pygal--><defs><style type=\"text/css\">#chart-8e9f4ae7-77eb-4ce3-a3fb-3e809683b768{-webkit-user-select:none;-webkit-font-smoothing:antialiased;font-family:Consolas,\"Liberation Mono\",Menlo,Courier,monospace}#chart-8e9f4ae7-77eb-4ce3-a3fb-3e809683b768 .title{font-family:Consolas,\"Liberation Mono\",Menlo,Courier,monospace;font-size:16px}#chart-8e9f4ae7-77eb-4ce3-a3fb-3e809683b768 .legends .legend text{font-family:Consolas,\"Liberation Mono\",Menlo,Courier,monospace;font-size:14px}#chart-8e9f4ae7-77eb-4ce3-a3fb-3e809683b768 .axis text{font-family:Consolas,\"Liberation Mono\",Menlo,Courier,monospace;font-size:10px}#chart-8e9f4ae7-77eb-4ce3-a3fb-3e809683b768 .axis text.major{font-family:Consolas,\"Liberation Mono\",Menlo,Courier,monospace;font-size:10px}#chart-8e9f4ae7-77eb-4ce3-a3fb-3e809683b768 .text-overlay text.value{font-family:Consolas,\"Liberation Mono\",Menlo,Courier,monospace;font-size:16px}#chart-8e9f4ae7-77eb-4ce3-a3fb-3e809683b768 .text-overlay text.label{font-family:Consolas,\"Liberation Mono\",Menlo,Courier,monospace;font-size:10px}#chart-8e9f4ae7-77eb-4ce3-a3fb-3e809683b768 .tooltip{font-family:Consolas,\"Liberation Mono\",Menlo,Courier,monospace;font-size:14px}#chart-8e9f4ae7-77eb-4ce3-a3fb-3e809683b768 text.no_data{font-family:Consolas,\"Liberation Mono\",Menlo,Courier,monospace;font-size:64px}\n",
       "#chart-8e9f4ae7-77eb-4ce3-a3fb-3e809683b768{background-color:rgba(249,249,249,1)}#chart-8e9f4ae7-77eb-4ce3-a3fb-3e809683b768 path,#chart-8e9f4ae7-77eb-4ce3-a3fb-3e809683b768 line,#chart-8e9f4ae7-77eb-4ce3-a3fb-3e809683b768 rect,#chart-8e9f4ae7-77eb-4ce3-a3fb-3e809683b768 circle{-webkit-transition:150ms;-moz-transition:150ms;transition:150ms}#chart-8e9f4ae7-77eb-4ce3-a3fb-3e809683b768 .graph &gt; .background{fill:rgba(249,249,249,1)}#chart-8e9f4ae7-77eb-4ce3-a3fb-3e809683b768 .plot &gt; .background{fill:rgba(255,255,255,1)}#chart-8e9f4ae7-77eb-4ce3-a3fb-3e809683b768 .graph{fill:rgba(0,0,0,.87)}#chart-8e9f4ae7-77eb-4ce3-a3fb-3e809683b768 text.no_data{fill:rgba(0,0,0,1)}#chart-8e9f4ae7-77eb-4ce3-a3fb-3e809683b768 .title{fill:rgba(0,0,0,1)}#chart-8e9f4ae7-77eb-4ce3-a3fb-3e809683b768 .legends .legend text{fill:rgba(0,0,0,.87)}#chart-8e9f4ae7-77eb-4ce3-a3fb-3e809683b768 .legends .legend:hover text{fill:rgba(0,0,0,1)}#chart-8e9f4ae7-77eb-4ce3-a3fb-3e809683b768 .axis .line{stroke:rgba(0,0,0,1)}#chart-8e9f4ae7-77eb-4ce3-a3fb-3e809683b768 .axis .guide.line{stroke:rgba(0,0,0,.54)}#chart-8e9f4ae7-77eb-4ce3-a3fb-3e809683b768 .axis .major.line{stroke:rgba(0,0,0,.87)}#chart-8e9f4ae7-77eb-4ce3-a3fb-3e809683b768 .axis text.major{fill:rgba(0,0,0,1)}#chart-8e9f4ae7-77eb-4ce3-a3fb-3e809683b768 .axis.y .guides:hover .guide.line,#chart-8e9f4ae7-77eb-4ce3-a3fb-3e809683b768 .line-graph .axis.x .guides:hover .guide.line,#chart-8e9f4ae7-77eb-4ce3-a3fb-3e809683b768 .stackedline-graph .axis.x .guides:hover .guide.line,#chart-8e9f4ae7-77eb-4ce3-a3fb-3e809683b768 .xy-graph .axis.x .guides:hover .guide.line{stroke:rgba(0,0,0,1)}#chart-8e9f4ae7-77eb-4ce3-a3fb-3e809683b768 .axis .guides:hover text{fill:rgba(0,0,0,1)}#chart-8e9f4ae7-77eb-4ce3-a3fb-3e809683b768 .reactive{fill-opacity:.7;stroke-opacity:.8}#chart-8e9f4ae7-77eb-4ce3-a3fb-3e809683b768 .ci{stroke:rgba(0,0,0,.87)}#chart-8e9f4ae7-77eb-4ce3-a3fb-3e809683b768 .reactive.active,#chart-8e9f4ae7-77eb-4ce3-a3fb-3e809683b768 .active .reactive{fill-opacity:.8;stroke-opacity:.9;stroke-width:4}#chart-8e9f4ae7-77eb-4ce3-a3fb-3e809683b768 .ci .reactive.active{stroke-width:1.5}#chart-8e9f4ae7-77eb-4ce3-a3fb-3e809683b768 .series text{fill:rgba(0,0,0,1)}#chart-8e9f4ae7-77eb-4ce3-a3fb-3e809683b768 .tooltip rect{fill:rgba(255,255,255,1);stroke:rgba(0,0,0,1);-webkit-transition:opacity 150ms;-moz-transition:opacity 150ms;transition:opacity 150ms}#chart-8e9f4ae7-77eb-4ce3-a3fb-3e809683b768 .tooltip .label{fill:rgba(0,0,0,.87)}#chart-8e9f4ae7-77eb-4ce3-a3fb-3e809683b768 .tooltip .label{fill:rgba(0,0,0,.87)}#chart-8e9f4ae7-77eb-4ce3-a3fb-3e809683b768 .tooltip .legend{font-size:.8em;fill:rgba(0,0,0,.54)}#chart-8e9f4ae7-77eb-4ce3-a3fb-3e809683b768 .tooltip .x_label{font-size:.6em;fill:rgba(0,0,0,1)}#chart-8e9f4ae7-77eb-4ce3-a3fb-3e809683b768 .tooltip .xlink{font-size:.5em;text-decoration:underline}#chart-8e9f4ae7-77eb-4ce3-a3fb-3e809683b768 .tooltip .value{font-size:1.5em}#chart-8e9f4ae7-77eb-4ce3-a3fb-3e809683b768 .bound{font-size:.5em}#chart-8e9f4ae7-77eb-4ce3-a3fb-3e809683b768 .max-value{font-size:.75em;fill:rgba(0,0,0,.54)}#chart-8e9f4ae7-77eb-4ce3-a3fb-3e809683b768 .map-element{fill:rgba(255,255,255,1);stroke:rgba(0,0,0,.54) !important}#chart-8e9f4ae7-77eb-4ce3-a3fb-3e809683b768 .map-element .reactive{fill-opacity:inherit;stroke-opacity:inherit}#chart-8e9f4ae7-77eb-4ce3-a3fb-3e809683b768 .color-0,#chart-8e9f4ae7-77eb-4ce3-a3fb-3e809683b768 .color-0 a:visited{stroke:#F44336;fill:#F44336}#chart-8e9f4ae7-77eb-4ce3-a3fb-3e809683b768 .color-1,#chart-8e9f4ae7-77eb-4ce3-a3fb-3e809683b768 .color-1 a:visited{stroke:#3F51B5;fill:#3F51B5}#chart-8e9f4ae7-77eb-4ce3-a3fb-3e809683b768 .color-2,#chart-8e9f4ae7-77eb-4ce3-a3fb-3e809683b768 .color-2 a:visited{stroke:#009688;fill:#009688}#chart-8e9f4ae7-77eb-4ce3-a3fb-3e809683b768 .color-3,#chart-8e9f4ae7-77eb-4ce3-a3fb-3e809683b768 .color-3 a:visited{stroke:#FFC107;fill:#FFC107}#chart-8e9f4ae7-77eb-4ce3-a3fb-3e809683b768 .text-overlay .color-0 text{fill:black}#chart-8e9f4ae7-77eb-4ce3-a3fb-3e809683b768 .text-overlay .color-1 text{fill:black}#chart-8e9f4ae7-77eb-4ce3-a3fb-3e809683b768 .text-overlay .color-2 text{fill:black}#chart-8e9f4ae7-77eb-4ce3-a3fb-3e809683b768 .text-overlay .color-3 text{fill:black}\n",
       "#chart-8e9f4ae7-77eb-4ce3-a3fb-3e809683b768 text.no_data{text-anchor:middle}#chart-8e9f4ae7-77eb-4ce3-a3fb-3e809683b768 .guide.line{fill:none}#chart-8e9f4ae7-77eb-4ce3-a3fb-3e809683b768 .centered{text-anchor:middle}#chart-8e9f4ae7-77eb-4ce3-a3fb-3e809683b768 .title{text-anchor:middle}#chart-8e9f4ae7-77eb-4ce3-a3fb-3e809683b768 .legends .legend text{fill-opacity:1}#chart-8e9f4ae7-77eb-4ce3-a3fb-3e809683b768 .axis.x text{text-anchor:middle}#chart-8e9f4ae7-77eb-4ce3-a3fb-3e809683b768 .axis.x:not(.web) text[transform]{text-anchor:start}#chart-8e9f4ae7-77eb-4ce3-a3fb-3e809683b768 .axis.x:not(.web) text[transform].backwards{text-anchor:end}#chart-8e9f4ae7-77eb-4ce3-a3fb-3e809683b768 .axis.y text{text-anchor:end}#chart-8e9f4ae7-77eb-4ce3-a3fb-3e809683b768 .axis.y text[transform].backwards{text-anchor:start}#chart-8e9f4ae7-77eb-4ce3-a3fb-3e809683b768 .axis.y2 text{text-anchor:start}#chart-8e9f4ae7-77eb-4ce3-a3fb-3e809683b768 .axis.y2 text[transform].backwards{text-anchor:end}#chart-8e9f4ae7-77eb-4ce3-a3fb-3e809683b768 .axis .guide.line{stroke-dasharray:4,4}#chart-8e9f4ae7-77eb-4ce3-a3fb-3e809683b768 .axis .major.guide.line{stroke-dasharray:6,6}#chart-8e9f4ae7-77eb-4ce3-a3fb-3e809683b768 .horizontal .axis.y .guide.line,#chart-8e9f4ae7-77eb-4ce3-a3fb-3e809683b768 .horizontal .axis.y2 .guide.line,#chart-8e9f4ae7-77eb-4ce3-a3fb-3e809683b768 .vertical .axis.x .guide.line{opacity:0}#chart-8e9f4ae7-77eb-4ce3-a3fb-3e809683b768 .horizontal .axis.always_show .guide.line,#chart-8e9f4ae7-77eb-4ce3-a3fb-3e809683b768 .vertical .axis.always_show .guide.line{opacity:1 !important}#chart-8e9f4ae7-77eb-4ce3-a3fb-3e809683b768 .axis.y .guides:hover .guide.line,#chart-8e9f4ae7-77eb-4ce3-a3fb-3e809683b768 .axis.y2 .guides:hover .guide.line,#chart-8e9f4ae7-77eb-4ce3-a3fb-3e809683b768 .axis.x .guides:hover .guide.line{opacity:1}#chart-8e9f4ae7-77eb-4ce3-a3fb-3e809683b768 .axis .guides:hover text{opacity:1}#chart-8e9f4ae7-77eb-4ce3-a3fb-3e809683b768 .nofill{fill:none}#chart-8e9f4ae7-77eb-4ce3-a3fb-3e809683b768 .subtle-fill{fill-opacity:.2}#chart-8e9f4ae7-77eb-4ce3-a3fb-3e809683b768 .dot{stroke-width:1px;fill-opacity:1}#chart-8e9f4ae7-77eb-4ce3-a3fb-3e809683b768 .dot.active{stroke-width:5px}#chart-8e9f4ae7-77eb-4ce3-a3fb-3e809683b768 .dot.negative{fill:transparent}#chart-8e9f4ae7-77eb-4ce3-a3fb-3e809683b768 text,#chart-8e9f4ae7-77eb-4ce3-a3fb-3e809683b768 tspan{stroke:none !important}#chart-8e9f4ae7-77eb-4ce3-a3fb-3e809683b768 .series text.active{opacity:1}#chart-8e9f4ae7-77eb-4ce3-a3fb-3e809683b768 .tooltip rect{fill-opacity:.95;stroke-width:.5}#chart-8e9f4ae7-77eb-4ce3-a3fb-3e809683b768 .tooltip text{fill-opacity:1}#chart-8e9f4ae7-77eb-4ce3-a3fb-3e809683b768 .showable{visibility:hidden}#chart-8e9f4ae7-77eb-4ce3-a3fb-3e809683b768 .showable.shown{visibility:visible}#chart-8e9f4ae7-77eb-4ce3-a3fb-3e809683b768 .gauge-background{fill:rgba(229,229,229,1);stroke:none}#chart-8e9f4ae7-77eb-4ce3-a3fb-3e809683b768 .bg-lines{stroke:rgba(249,249,249,1);stroke-width:2px}</style><script type=\"text/javascript\">window.pygal = window.pygal || {};window.pygal.config = window.pygal.config || {};window.pygal.config['8e9f4ae7-77eb-4ce3-a3fb-3e809683b768'] = {\"allow_interruptions\": false, \"box_mode\": \"extremes\", \"classes\": [\"pygal-chart\"], \"css\": [\"file://style.css\", \"file://graph.css\"], \"defs\": [], \"disable_xml_declaration\": false, \"dots_size\": 2.5, \"dynamic_print_values\": false, \"explicit_size\": false, \"fill\": false, \"force_uri_protocol\": \"https\", \"formatter\": null, \"half_pie\": false, \"height\": 200, \"include_x_axis\": false, \"inner_radius\": 0, \"interpolate\": null, \"interpolation_parameters\": {}, \"interpolation_precision\": 250, \"inverse_y_axis\": false, \"js\": [\"//kozea.github.io/pygal.js/2.0.x/pygal-tooltips.min.js\"], \"legend_at_bottom\": false, \"legend_at_bottom_columns\": null, \"legend_box_size\": 12, \"logarithmic\": false, \"margin\": 20, \"margin_bottom\": null, \"margin_left\": null, \"margin_right\": null, \"margin_top\": null, \"max_scale\": 16, \"min_scale\": 4, \"missing_value_fill_truncation\": \"x\", \"no_data_text\": \"No data\", \"no_prefix\": false, \"order_min\": null, \"pretty_print\": false, \"print_labels\": false, \"print_values\": false, \"print_values_position\": \"center\", \"print_zeroes\": true, \"range\": null, \"rounded_bars\": null, \"secondary_range\": null, \"show_dots\": true, \"show_legend\": true, \"show_minor_x_labels\": true, \"show_minor_y_labels\": true, \"show_only_major_dots\": false, \"show_x_guides\": false, \"show_x_labels\": true, \"show_y_guides\": true, \"show_y_labels\": true, \"spacing\": 10, \"stack_from_top\": false, \"strict\": false, \"stroke\": true, \"stroke_style\": null, \"style\": {\"background\": \"rgba(249, 249, 249, 1)\", \"ci_colors\": [], \"colors\": [\"#F44336\", \"#3F51B5\", \"#009688\", \"#FFC107\", \"#FF5722\", \"#9C27B0\", \"#03A9F4\", \"#8BC34A\", \"#FF9800\", \"#E91E63\", \"#2196F3\", \"#4CAF50\", \"#FFEB3B\", \"#673AB7\", \"#00BCD4\", \"#CDDC39\", \"#9E9E9E\", \"#607D8B\"], \"font_family\": \"Consolas, \\\"Liberation Mono\\\", Menlo, Courier, monospace\", \"foreground\": \"rgba(0, 0, 0, .87)\", \"foreground_strong\": \"rgba(0, 0, 0, 1)\", \"foreground_subtle\": \"rgba(0, 0, 0, .54)\", \"guide_stroke_dasharray\": \"4,4\", \"label_font_family\": \"Consolas, \\\"Liberation Mono\\\", Menlo, Courier, monospace\", \"label_font_size\": 10, \"legend_font_family\": \"Consolas, \\\"Liberation Mono\\\", Menlo, Courier, monospace\", \"legend_font_size\": 14, \"major_guide_stroke_dasharray\": \"6,6\", \"major_label_font_family\": \"Consolas, \\\"Liberation Mono\\\", Menlo, Courier, monospace\", \"major_label_font_size\": 10, \"no_data_font_family\": \"Consolas, \\\"Liberation Mono\\\", Menlo, Courier, monospace\", \"no_data_font_size\": 64, \"opacity\": \".7\", \"opacity_hover\": \".8\", \"plot_background\": \"rgba(255, 255, 255, 1)\", \"stroke_opacity\": \".8\", \"stroke_opacity_hover\": \".9\", \"title_font_family\": \"Consolas, \\\"Liberation Mono\\\", Menlo, Courier, monospace\", \"title_font_size\": 16, \"tooltip_font_family\": \"Consolas, \\\"Liberation Mono\\\", Menlo, Courier, monospace\", \"tooltip_font_size\": 14, \"transition\": \"150ms\", \"value_background\": \"rgba(229, 229, 229, 1)\", \"value_colors\": [], \"value_font_family\": \"Consolas, \\\"Liberation Mono\\\", Menlo, Courier, monospace\", \"value_font_size\": 16, \"value_label_font_family\": \"Consolas, \\\"Liberation Mono\\\", Menlo, Courier, monospace\", \"value_label_font_size\": 10}, \"title\": \"Browser usage evolution (in %)\", \"tooltip_border_radius\": 0, \"tooltip_fancy_mode\": true, \"truncate_label\": null, \"truncate_legend\": null, \"width\": 800, \"x_label_rotation\": 0, \"x_labels\": [\"2002\", \"2003\", \"2004\", \"2005\", \"2006\", \"2007\", \"2008\", \"2009\", \"2010\", \"2011\", \"2012\"], \"x_labels_major\": null, \"x_labels_major_count\": null, \"x_labels_major_every\": null, \"x_title\": null, \"xrange\": null, \"y_label_rotation\": 0, \"y_labels\": null, \"y_labels_major\": null, \"y_labels_major_count\": null, \"y_labels_major_every\": null, \"y_title\": null, \"zero\": 0, \"legends\": [\"Firefox\", \"Chrome\", \"IE\", \"Others\"]}</script><script type=\"text/javascript\" xlink:href=\"https://kozea.github.io/pygal.js/2.0.x/pygal-tooltips.min.js\"/></defs><title>Browser usage evolution (in %)</title><g class=\"graph bar-graph vertical\"><rect class=\"background\" height=\"200\" width=\"800\" x=\"0\" y=\"0\"/><g class=\"plot\" transform=\"translate(122, 46)\"><rect class=\"background\" height=\"114\" width=\"657.2\" x=\"0\" y=\"0\"/><g class=\"axis y always_show\"><g class=\"guides\"><path class=\"axis major line\" d=\"M0.000000 111.807692 h657.200000\"/><text class=\"major\" x=\"-5\" y=\"115.3076923076923\">0</text><title>0</title></g><g class=\"guides\"><path class=\"guide line\" d=\"M0.000000 99.032006 h657.200000\"/><text class=\"\" x=\"-5\" y=\"102.53200645508338\">10</text><title>10</title></g><g class=\"guides\"><path class=\"guide line\" d=\"M0.000000 86.256321 h657.200000\"/><text class=\"\" x=\"-5\" y=\"89.75632060247445\">20</text><title>20</title></g><g class=\"guides\"><path class=\"guide line\" d=\"M0.000000 73.480635 h657.200000\"/><text class=\"\" x=\"-5\" y=\"76.98063474986552\">30</text><title>30</title></g><g class=\"guides\"><path class=\"guide line\" d=\"M0.000000 60.704949 h657.200000\"/><text class=\"\" x=\"-5\" y=\"64.20494889725659\">40</text><title>40</title></g><g class=\"guides\"><path class=\"major guide line\" d=\"M0.000000 47.929263 h657.200000\"/><text class=\"major\" x=\"-5\" y=\"51.429263044647655\">50</text><title>50</title></g><g class=\"guides\"><path class=\"guide line\" d=\"M0.000000 35.153577 h657.200000\"/><text class=\"\" x=\"-5\" y=\"38.653577192038725\">60</text><title>60</title></g><g class=\"guides\"><path class=\"guide line\" d=\"M0.000000 22.377891 h657.200000\"/><text class=\"\" x=\"-5\" y=\"25.877891339429794\">70</text><title>70</title></g><g class=\"guides\"><path class=\"guide line\" d=\"M0.000000 9.602205 h657.200000\"/><text class=\"\" x=\"-5\" y=\"13.10220548682085\">80</text><title>80</title></g></g><g class=\"axis x\"><path class=\"line\" d=\"M0.000000 0.000000 v114.000000\"/><g class=\"guides\"><path class=\"guide line\" d=\"M41.362238 0.000000 v114.000000\"/><text class=\"\" x=\"41.36223776223777\" y=\"129.0\">2002</text></g><g class=\"guides\"><path class=\"guide line\" d=\"M98.809790 0.000000 v114.000000\"/><text class=\"\" x=\"98.80979020979021\" y=\"129.0\">2003</text></g><g class=\"guides\"><path class=\"guide line\" d=\"M156.257343 0.000000 v114.000000\"/><text class=\"\" x=\"156.25734265734263\" y=\"129.0\">2004</text></g><g class=\"guides\"><path class=\"guide line\" d=\"M213.704895 0.000000 v114.000000\"/><text class=\"\" x=\"213.70489510489512\" y=\"129.0\">2005</text></g><g class=\"guides\"><path class=\"guide line\" d=\"M271.152448 0.000000 v114.000000\"/><text class=\"\" x=\"271.15244755244754\" y=\"129.0\">2006</text></g><g class=\"guides\"><path class=\"guide line\" d=\"M328.600000 0.000000 v114.000000\"/><text class=\"\" x=\"328.6\" y=\"129.0\">2007</text></g><g class=\"guides\"><path class=\"guide line\" d=\"M386.047552 0.000000 v114.000000\"/><text class=\"\" x=\"386.04755244755245\" y=\"129.0\">2008</text></g><g class=\"guides\"><path class=\"guide line\" d=\"M443.495105 0.000000 v114.000000\"/><text class=\"\" x=\"443.49510489510493\" y=\"129.0\">2009</text></g><g class=\"guides\"><path class=\"guide line\" d=\"M500.942657 0.000000 v114.000000\"/><text class=\"\" x=\"500.94265734265736\" y=\"129.0\">2010</text></g><g class=\"guides\"><path class=\"guide line\" d=\"M558.390210 0.000000 v114.000000\"/><text class=\"\" x=\"558.3902097902098\" y=\"129.0\">2011</text></g><g class=\"guides\"><path class=\"guide line\" d=\"M615.837762 0.000000 v114.000000\"/><text class=\"\" x=\"615.8377622377623\" y=\"129.0\">2012</text></g></g><g class=\"series serie-0 color-0\"><g class=\"bars\"><g class=\"bar\"><rect class=\"rect reactive tooltip-trigger\" height=\"0.0\" rx=\"0\" ry=\"0\" width=\"11.121846153846153\" x=\"131.7387272727273\" y=\"111.8076923076923\"/><desc class=\"value\">0</desc><desc class=\"x centered\">137.29965034965036</desc><desc class=\"y centered\">111.8076923076923</desc><desc class=\"x_label\">2004</desc></g><g class=\"bar\"><rect class=\"rect reactive tooltip-trigger\" height=\"21.207638515330828\" rx=\"0\" ry=\"0\" width=\"11.121846153846153\" x=\"189.18627972027974\" y=\"90.60005379236148\"/><desc class=\"value\">16.6</desc><desc class=\"x centered\">194.74720279720282</desc><desc class=\"y centered\">101.20387305002689</desc><desc class=\"x_label\">2005</desc></g><g class=\"bar\"><rect class=\"rect reactive tooltip-trigger\" height=\"31.939214631522333\" rx=\"0\" ry=\"0\" width=\"11.121846153846153\" x=\"246.63383216783217\" y=\"79.86847767616997\"/><desc class=\"value\">25</desc><desc class=\"x centered\">252.19475524475524</desc><desc class=\"y centered\">95.83808499193114</desc><desc class=\"x_label\">2006</desc></g><g class=\"bar\"><rect class=\"rect reactive tooltip-trigger\" height=\"39.604626143087685\" rx=\"0\" ry=\"0\" width=\"11.121846153846153\" x=\"304.08138461538465\" y=\"72.20306616460462\"/><desc class=\"value\">31</desc><desc class=\"x centered\">309.6423076923077</desc><desc class=\"y centered\">92.00537923614846</desc><desc class=\"x_label\">2007</desc></g><g class=\"bar\"><rect class=\"rect reactive tooltip-trigger\" height=\"46.50349650349652\" rx=\"0\" ry=\"0\" width=\"11.121846153846153\" x=\"361.5289370629371\" y=\"65.30419580419579\"/><desc class=\"value\">36.4</desc><desc class=\"x centered\">367.08986013986015</desc><desc class=\"y centered\">88.55594405594405</desc><desc class=\"x_label\">2008</desc></g><g class=\"bar\"><rect class=\"rect reactive tooltip-trigger\" height=\"58.129370629370634\" rx=\"0\" ry=\"0\" width=\"11.121846153846153\" x=\"418.97648951048956\" y=\"53.67832167832167\"/><desc class=\"value\">45.5</desc><desc class=\"x centered\">424.53741258741263</desc><desc class=\"y centered\">82.74300699300699</desc><desc class=\"x_label\">2009</desc></g><g class=\"bar\"><rect class=\"rect reactive tooltip-trigger\" height=\"59.151425497579346\" rx=\"0\" ry=\"0\" width=\"11.121846153846153\" x=\"476.424041958042\" y=\"52.65626681011296\"/><desc class=\"value\">46.3</desc><desc class=\"x centered\">481.98496503496506</desc><desc class=\"y centered\">82.23197955890264</desc><desc class=\"x_label\">2010</desc></g><g class=\"bar\"><rect class=\"rect reactive tooltip-trigger\" height=\"54.67993544916622\" rx=\"0\" ry=\"0\" width=\"11.121846153846153\" x=\"533.8715944055945\" y=\"57.127756858526084\"/><desc class=\"value\">42.8</desc><desc class=\"x centered\">539.4325174825176</desc><desc class=\"y centered\">84.4677245831092</desc><desc class=\"x_label\">2011</desc></g><g class=\"bar\"><rect class=\"rect reactive tooltip-trigger\" height=\"47.397794513179136\" rx=\"0\" ry=\"0\" width=\"11.121846153846153\" x=\"591.3191468531469\" y=\"64.40989779451317\"/><desc class=\"value\">37.1</desc><desc class=\"x centered\">596.88006993007</desc><desc class=\"y centered\">88.10879505110273</desc><desc class=\"x_label\">2012</desc></g></g></g><g class=\"series serie-1 color-1\"><g class=\"bars\"><g class=\"bar\"><rect class=\"rect reactive tooltip-trigger\" height=\"0.0\" rx=\"0\" ry=\"0\" width=\"11.121846153846153\" x=\"374.1673986013986\" y=\"111.8076923076923\"/><desc class=\"value\">0</desc><desc class=\"x centered\">379.72832167832166</desc><desc class=\"y centered\">111.8076923076923</desc><desc class=\"x_label\">2008</desc></g><g class=\"bar\"><rect class=\"rect reactive tooltip-trigger\" height=\"4.98251748251748\" rx=\"0\" ry=\"0\" width=\"11.121846153846153\" x=\"431.61495104895107\" y=\"106.82517482517483\"/><desc class=\"value\">3.9</desc><desc class=\"x centered\">437.17587412587415</desc><desc class=\"y centered\">109.31643356643357</desc><desc class=\"x_label\">2009</desc></g><g class=\"bar\"><rect class=\"rect reactive tooltip-trigger\" height=\"13.797740720817643\" rx=\"0\" ry=\"0\" width=\"11.121846153846153\" x=\"489.0625034965035\" y=\"98.00995158687466\"/><desc class=\"value\">10.8</desc><desc class=\"x centered\">494.62342657342657</desc><desc class=\"y centered\">104.90882194728349</desc><desc class=\"x_label\">2010</desc></g><g class=\"bar\"><rect class=\"rect reactive tooltip-trigger\" height=\"30.406132329209257\" rx=\"0\" ry=\"0\" width=\"11.121846153846153\" x=\"546.510055944056\" y=\"81.40155997848305\"/><desc class=\"value\">23.8</desc><desc class=\"x centered\">552.0709790209792</desc><desc class=\"y centered\">96.60462614308767</desc><desc class=\"x_label\">2011</desc></g><g class=\"bar\"><rect class=\"rect reactive tooltip-trigger\" height=\"45.098171059709514\" rx=\"0\" ry=\"0\" width=\"11.121846153846153\" x=\"603.9576083916085\" y=\"66.70952124798279\"/><desc class=\"value\">35.3</desc><desc class=\"x centered\">609.5185314685316</desc><desc class=\"y centered\">89.25860677783754</desc><desc class=\"x_label\">2012</desc></g></g></g><g class=\"series serie-2 color-2\"><g class=\"bars\"><g class=\"bar\"><rect class=\"rect reactive tooltip-trigger\" height=\"109.61538461538461\" rx=\"0\" ry=\"0\" width=\"11.121846153846153\" x=\"42.12054545454545\" y=\"2.1923076923076934\"/><desc class=\"value\">85.8</desc><desc class=\"x centered\">47.681468531468525</desc><desc class=\"y centered\">57.0</desc><desc class=\"x_label\">2002</desc></g><g class=\"bar\"><rect class=\"rect reactive tooltip-trigger\" height=\"108.08230231307155\" rx=\"0\" ry=\"0\" width=\"11.121846153846153\" x=\"99.5680979020979\" y=\"3.7253899946207554\"/><desc class=\"value\">84.6</desc><desc class=\"x centered\">105.12902097902098</desc><desc class=\"y centered\">57.76654115115653</desc><desc class=\"x_label\">2003</desc></g><g class=\"bar\"><rect class=\"rect reactive tooltip-trigger\" height=\"108.21005917159763\" rx=\"0\" ry=\"0\" width=\"11.121846153846153\" x=\"157.01565034965037\" y=\"3.5976331360946716\"/><desc class=\"value\">84.7</desc><desc class=\"x centered\">162.57657342657345</desc><desc class=\"y centered\">57.70266272189349</desc><desc class=\"x_label\">2004</desc></g><g class=\"bar\"><rect class=\"rect reactive tooltip-trigger\" height=\"95.17885960193654\" rx=\"0\" ry=\"0\" width=\"11.121846153846153\" x=\"214.46320279720283\" y=\"16.62883270575577\"/><desc class=\"value\">74.5</desc><desc class=\"x centered\">220.0241258741259</desc><desc class=\"y centered\">64.21826250672405</desc><desc class=\"x_label\">2005</desc></g><g class=\"bar\"><rect class=\"rect reactive tooltip-trigger\" height=\"84.31952662721893\" rx=\"0\" ry=\"0\" width=\"11.121846153846153\" x=\"271.91075524475525\" y=\"27.488165680473372\"/><desc class=\"value\">66</desc><desc class=\"x centered\">277.4716783216783</desc><desc class=\"y centered\">69.64792899408283</desc><desc class=\"x_label\">2006</desc></g><g class=\"bar\"><rect class=\"rect reactive tooltip-trigger\" height=\"74.86551909628834\" rx=\"0\" ry=\"0\" width=\"11.121846153846153\" x=\"329.35830769230773\" y=\"36.94217321140397\"/><desc class=\"value\">58.6</desc><desc class=\"x centered\">334.9192307692308</desc><desc class=\"y centered\">74.37493275954813</desc><desc class=\"x_label\">2007</desc></g><g class=\"bar\"><rect class=\"rect reactive tooltip-trigger\" height=\"69.88300161377087\" rx=\"0\" ry=\"0\" width=\"11.121846153846153\" x=\"386.80586013986016\" y=\"41.924690693921434\"/><desc class=\"value\">54.7</desc><desc class=\"x centered\">392.36678321678323</desc><desc class=\"y centered\">76.86619150080688</desc><desc class=\"x_label\">2008</desc></g><g class=\"bar\"><rect class=\"rect reactive tooltip-trigger\" height=\"57.23507261968801\" rx=\"0\" ry=\"0\" width=\"11.121846153846153\" x=\"444.25341258741264\" y=\"54.572619688004295\"/><desc class=\"value\">44.8</desc><desc class=\"x centered\">449.8143356643357</desc><desc class=\"y centered\">83.19015599784831</desc><desc class=\"x_label\">2009</desc></g><g class=\"bar\"><rect class=\"rect reactive tooltip-trigger\" height=\"46.24798278644434\" rx=\"0\" ry=\"0\" width=\"11.121846153846153\" x=\"501.70096503496507\" y=\"65.55970952124797\"/><desc class=\"value\">36.2</desc><desc class=\"x centered\">507.26188811188814</desc><desc class=\"y centered\">88.68370091447014</desc><desc class=\"x_label\">2010</desc></g><g class=\"bar\"><rect class=\"rect reactive tooltip-trigger\" height=\"33.98332436793976\" rx=\"0\" ry=\"0\" width=\"11.121846153846153\" x=\"559.1485174825175\" y=\"77.82436793975255\"/><desc class=\"value\">26.6</desc><desc class=\"x centered\">564.7094405594406</desc><desc class=\"y centered\">94.81603012372243</desc><desc class=\"x_label\">2011</desc></g><g class=\"bar\"><rect class=\"rect reactive tooltip-trigger\" height=\"25.67912856374396\" rx=\"0\" ry=\"0\" width=\"11.121846153846153\" x=\"616.5960699300699\" y=\"86.12856374394835\"/><desc class=\"value\">20.1</desc><desc class=\"x centered\">622.156993006993</desc><desc class=\"y centered\">98.96812802582033</desc><desc class=\"x_label\">2012</desc></g></g></g><g class=\"series serie-3 color-3\"><g class=\"bars\"><g class=\"bar\"><rect class=\"rect reactive tooltip-trigger\" height=\"18.141473910704676\" rx=\"0\" ry=\"0\" width=\"11.121846153846153\" x=\"54.759006993006984\" y=\"93.66621839698763\"/><desc class=\"value\">14.2</desc><desc class=\"x centered\">60.31993006993006</desc><desc class=\"y centered\">102.73695535233998</desc><desc class=\"x_label\">2002</desc></g><g class=\"bar\"><rect class=\"rect reactive tooltip-trigger\" height=\"19.674556213017752\" rx=\"0\" ry=\"0\" width=\"11.121846153846153\" x=\"112.20655944055945\" y=\"92.13313609467455\"/><desc class=\"value\">15.4</desc><desc class=\"x centered\">117.76748251748252</desc><desc class=\"y centered\">101.97041420118343</desc><desc class=\"x_label\">2003</desc></g><g class=\"bar\"><rect class=\"rect reactive tooltip-trigger\" height=\"19.546799354491668\" rx=\"0\" ry=\"0\" width=\"11.121846153846153\" x=\"169.65411188811188\" y=\"92.26089295320064\"/><desc class=\"value\">15.3</desc><desc class=\"x centered\">175.21503496503496</desc><desc class=\"y centered\">102.03429263044647</desc><desc class=\"x_label\">2004</desc></g><g class=\"bar\"><rect class=\"rect reactive tooltip-trigger\" height=\"11.370360408821952\" rx=\"0\" ry=\"0\" width=\"11.121846153846153\" x=\"227.10166433566437\" y=\"100.43733189887035\"/><desc class=\"value\">8.9</desc><desc class=\"x centered\">232.66258741258744</desc><desc class=\"y centered\">106.12251210328134</desc><desc class=\"x_label\">2005</desc></g><g class=\"bar\"><rect class=\"rect reactive tooltip-trigger\" height=\"11.498117267348036\" rx=\"0\" ry=\"0\" width=\"11.121846153846153\" x=\"284.5492167832168\" y=\"100.30957504034427\"/><desc class=\"value\">9</desc><desc class=\"x centered\">290.1101398601399</desc><desc class=\"y centered\">106.0586336740183</desc><desc class=\"x_label\">2006</desc></g><g class=\"bar\"><rect class=\"rect reactive tooltip-trigger\" height=\"13.286713286713294\" rx=\"0\" ry=\"0\" width=\"11.121846153846153\" x=\"341.99676923076925\" y=\"98.52097902097901\"/><desc class=\"value\">10.4</desc><desc class=\"x centered\">347.5576923076923</desc><desc class=\"y centered\">105.16433566433565</desc><desc class=\"x_label\">2007</desc></g><g class=\"bar\"><rect class=\"rect reactive tooltip-trigger\" height=\"11.370360408821952\" rx=\"0\" ry=\"0\" width=\"11.121846153846153\" x=\"399.44432167832167\" y=\"100.43733189887035\"/><desc class=\"value\">8.9</desc><desc class=\"x centered\">405.00524475524475</desc><desc class=\"y centered\">106.12251210328134</desc><desc class=\"x_label\">2008</desc></g><g class=\"bar\"><rect class=\"rect reactive tooltip-trigger\" height=\"7.409897794513185\" rx=\"0\" ry=\"0\" width=\"11.121846153846153\" x=\"456.89187412587415\" y=\"104.39779451317912\"/><desc class=\"value\">5.8</desc><desc class=\"x centered\">462.4527972027972</desc><desc class=\"y centered\">108.10274341043572</desc><desc class=\"x_label\">2009</desc></g><g class=\"bar\"><rect class=\"rect reactive tooltip-trigger\" height=\"8.559709521247981\" rx=\"0\" ry=\"0\" width=\"11.121846153846153\" x=\"514.3394265734265\" y=\"103.24798278644433\"/><desc class=\"value\">6.7</desc><desc class=\"x centered\">519.9003496503497</desc><desc class=\"y centered\">107.52783754706832</desc><desc class=\"x_label\">2010</desc></g><g class=\"bar\"><rect class=\"rect reactive tooltip-trigger\" height=\"8.68746637977408\" rx=\"0\" ry=\"0\" width=\"11.121846153846153\" x=\"571.7869790209791\" y=\"103.12022592791823\"/><desc class=\"value\">6.8</desc><desc class=\"x centered\">577.3479020979022</desc><desc class=\"y centered\">107.46395911780527</desc><desc class=\"x_label\">2011</desc></g><g class=\"bar\"><rect class=\"rect reactive tooltip-trigger\" height=\"9.581764389456694\" rx=\"0\" ry=\"0\" width=\"11.121846153846153\" x=\"629.2345314685315\" y=\"102.22592791823561\"/><desc class=\"value\">7.5</desc><desc class=\"x centered\">634.7954545454546</desc><desc class=\"y centered\">107.01681011296395</desc><desc class=\"x_label\">2012</desc></g></g></g></g><g class=\"titles\"><text class=\"title plot_title\" x=\"400.0\" y=\"26\">Browser usage evolution (in %)</text></g><g class=\"plot overlay\" transform=\"translate(122, 46)\"><g class=\"series serie-0 color-0\"/><g class=\"series serie-1 color-1\"/><g class=\"series serie-2 color-2\"/><g class=\"series serie-3 color-3\"/></g><g class=\"plot text-overlay\" transform=\"translate(122, 46)\"><g class=\"series serie-0 color-0\"/><g class=\"series serie-1 color-1\"/><g class=\"series serie-2 color-2\"/><g class=\"series serie-3 color-3\"/></g><g class=\"plot tooltip-overlay\" transform=\"translate(122, 46)\"><g class=\"tooltip\" style=\"opacity: 0\" transform=\"translate(0 0)\"><rect class=\"tooltip-box\" height=\"0\" rx=\"0\" ry=\"0\" width=\"0\"/><g class=\"text\"/></g></g><g class=\"legends\" transform=\"translate(10, 56)\"><g class=\"legend reactive activate-serie\" id=\"activate-serie-0\"><rect class=\"color-0 reactive\" height=\"12\" width=\"12\" x=\"0.0\" y=\"1.0\"/><text x=\"17.0\" y=\"11.2\">Firefox</text></g><g class=\"legend reactive activate-serie\" id=\"activate-serie-1\"><rect class=\"color-1 reactive\" height=\"12\" width=\"12\" x=\"0.0\" y=\"22.0\"/><text x=\"17.0\" y=\"32.2\">Chrome</text></g><g class=\"legend reactive activate-serie\" id=\"activate-serie-2\"><rect class=\"color-2 reactive\" height=\"12\" width=\"12\" x=\"0.0\" y=\"43.0\"/><text x=\"17.0\" y=\"53.2\">IE</text></g><g class=\"legend reactive activate-serie\" id=\"activate-serie-3\"><rect class=\"color-3 reactive\" height=\"12\" width=\"12\" x=\"0.0\" y=\"64.0\"/><text x=\"17.0\" y=\"74.2\">Others</text></g></g><g class=\"legends\" transform=\"translate(790, 56)\"/></g></svg>\n",
       "    </figure>\n",
       "  </body>\n",
       "</html>\n"
      ],
      "text/plain": [
       "<IPython.core.display.HTML object>"
      ]
     },
     "metadata": {},
     "output_type": "display_data"
    }
   ],
   "source": [
    "import pygal\n",
    "\n",
    "bar_chart = pygal.Bar(height=200)\n",
    "bar_chart.title = 'Browser usage evolution (in %)'\n",
    "bar_chart.x_labels = map(str, range(2002, 2013))\n",
    "bar_chart.add('Firefox', [None, None,    0, 16.6,   25,   31, 36.4, 45.5, 46.3, 42.8, 37.1])\n",
    "bar_chart.add('Chrome',  [None, None, None, None, None, None,    0,  3.9, 10.8, 23.8, 35.3])\n",
    "bar_chart.add('IE',      [85.8, 84.6, 84.7, 74.5,   66, 58.6, 54.7, 44.8, 36.2, 26.6, 20.1])\n",
    "bar_chart.add('Others',  [14.2, 15.4, 15.3,  8.9,    9, 10.4,  8.9,  5.8,  6.7,  6.8,  7.5])\n",
    "display(HTML(base_html.format(rendered_chart=bar_chart.render(is_unicode=True))))"
   ]
  },
  {
   "cell_type": "markdown",
   "metadata": {},
   "source": [
    "One of the important lines it this one:\n",
    "```python\n",
    "bar_chart.add('Firefox', [None, None,    0, 16.6,   25,   31, 36.4, 45.5, 46.3, 42.8, 37.1])\n",
    "\n",
    "```\n",
    "\n",
    "For each bar chart category (like \"Firefox\" or \"Chrome\"), we need to call the `add` function and provide the data.\n",
    "\n",
    "Let's go back to our own data data. First, we want to create a category that makes some kind of sense for our use case. Let's use the name of a technical aspect of a source code file as our category. We can find this information at a specific part in the `class` column (at least for most cases)."
   ]
  },
  {
   "cell_type": "code",
   "execution_count": 5,
   "metadata": {},
   "outputs": [
    {
     "data": {
      "text/html": [
       "<div>\n",
       "<style scoped>\n",
       "    .dataframe tbody tr th:only-of-type {\n",
       "        vertical-align: middle;\n",
       "    }\n",
       "\n",
       "    .dataframe tbody tr th {\n",
       "        vertical-align: top;\n",
       "    }\n",
       "\n",
       "    .dataframe thead th {\n",
       "        text-align: right;\n",
       "    }\n",
       "</style>\n",
       "<table border=\"1\" class=\"dataframe\">\n",
       "  <thead>\n",
       "    <tr style=\"text-align: right;\">\n",
       "      <th></th>\n",
       "      <th>class</th>\n",
       "      <th>lines</th>\n",
       "      <th>coverage</th>\n",
       "      <th>category</th>\n",
       "    </tr>\n",
       "  </thead>\n",
       "  <tbody>\n",
       "    <tr>\n",
       "      <th>0</th>\n",
       "      <td>org.springframework.samples.petclinic.Petclini...</td>\n",
       "      <td>24</td>\n",
       "      <td>1.0</td>\n",
       "      <td>petclinic</td>\n",
       "    </tr>\n",
       "    <tr>\n",
       "      <th>1</th>\n",
       "      <td>org.springframework.samples.petclinic.model.Na...</td>\n",
       "      <td>5</td>\n",
       "      <td>0.8</td>\n",
       "      <td>model</td>\n",
       "    </tr>\n",
       "    <tr>\n",
       "      <th>2</th>\n",
       "      <td>org.springframework.samples.petclinic.model.Sp...</td>\n",
       "      <td>1</td>\n",
       "      <td>1.0</td>\n",
       "      <td>model</td>\n",
       "    </tr>\n",
       "    <tr>\n",
       "      <th>3</th>\n",
       "      <td>org.springframework.samples.petclinic.model.Pe...</td>\n",
       "      <td>1</td>\n",
       "      <td>1.0</td>\n",
       "      <td>model</td>\n",
       "    </tr>\n",
       "    <tr>\n",
       "      <th>4</th>\n",
       "      <td>org.springframework.samples.petclinic.model.Vets</td>\n",
       "      <td>4</td>\n",
       "      <td>0.0</td>\n",
       "      <td>model</td>\n",
       "    </tr>\n",
       "  </tbody>\n",
       "</table>\n",
       "</div>"
      ],
      "text/plain": [
       "                                               class  lines  coverage  \\\n",
       "0  org.springframework.samples.petclinic.Petclini...     24       1.0   \n",
       "1  org.springframework.samples.petclinic.model.Na...      5       0.8   \n",
       "2  org.springframework.samples.petclinic.model.Sp...      1       1.0   \n",
       "3  org.springframework.samples.petclinic.model.Pe...      1       1.0   \n",
       "4   org.springframework.samples.petclinic.model.Vets      4       0.0   \n",
       "\n",
       "    category  \n",
       "0  petclinic  \n",
       "1      model  \n",
       "2      model  \n",
       "3      model  \n",
       "4      model  "
      ]
     },
     "execution_count": 5,
     "metadata": {},
     "output_type": "execute_result"
    }
   ],
   "source": [
    "df['category'] = df['class'].str.split(\".\").str[-2]\n",
    "df.head()"
   ]
  },
  {
   "cell_type": "markdown",
   "metadata": {},
   "source": [
    "## Bar chart\n",
    "OK, let's try to create a bar chart for the coverage for each file based on this data as a first step to get into the basic mechanics of the integration between pandas and pygal."
   ]
  },
  {
   "cell_type": "code",
   "execution_count": 6,
   "metadata": {},
   "outputs": [
    {
     "data": {
      "text/plain": [
       "category\n",
       "jdbc         0.000000\n",
       "jpa          0.691558\n",
       "model        0.739048\n",
       "petclinic    1.000000\n",
       "service      0.888889\n",
       "util         0.135417\n",
       "web          0.639809\n",
       "Name: coverage, dtype: float64"
      ]
     },
     "execution_count": 6,
     "metadata": {},
     "output_type": "execute_result"
    }
   ],
   "source": [
    "mean_by_category = df.groupby('category')['coverage'].mean()\n",
    "mean_by_category"
   ]
  },
  {
   "cell_type": "markdown",
   "metadata": {},
   "source": [
    "We just iterate over all entries and add these to the bar chart by using a list comprehension."
   ]
  },
  {
   "cell_type": "code",
   "execution_count": 7,
   "metadata": {},
   "outputs": [
    {
     "data": {
      "text/html": [
       "\n",
       "<!DOCTYPE html>\n",
       "<html>\n",
       "  <head>\n",
       "  <script type=\"text/javascript\" src=\"http://kozea.github.com/pygal.js/javascripts/svg.jquery.js\"></script>\n",
       "  <script type=\"text/javascript\" src=\"https://kozea.github.io/pygal.js/2.0.x/pygal-tooltips.min.js\"\"></script>\n",
       "  </head>\n",
       "  <body>\n",
       "    <figure>\n",
       "      <?xml version='1.0' encoding='utf-8'?>\n",
       "<svg xmlns:xlink=\"http://www.w3.org/1999/xlink\" xmlns=\"http://www.w3.org/2000/svg\" id=\"chart-9d7e73b8-cd6d-4d7d-81e6-d4de8c4ab81c\" class=\"pygal-chart\" viewBox=\"0 0 800 200\"><!--Generated with pygal 2.4.0 (lxml) ©Kozea 2012-2016 on 2019-03-14--><!--http://pygal.org--><!--http://github.com/Kozea/pygal--><defs><style type=\"text/css\">#chart-9d7e73b8-cd6d-4d7d-81e6-d4de8c4ab81c{-webkit-user-select:none;-webkit-font-smoothing:antialiased;font-family:Consolas,\"Liberation Mono\",Menlo,Courier,monospace}#chart-9d7e73b8-cd6d-4d7d-81e6-d4de8c4ab81c .title{font-family:Consolas,\"Liberation Mono\",Menlo,Courier,monospace;font-size:16px}#chart-9d7e73b8-cd6d-4d7d-81e6-d4de8c4ab81c .legends .legend text{font-family:Consolas,\"Liberation Mono\",Menlo,Courier,monospace;font-size:14px}#chart-9d7e73b8-cd6d-4d7d-81e6-d4de8c4ab81c .axis text{font-family:Consolas,\"Liberation Mono\",Menlo,Courier,monospace;font-size:10px}#chart-9d7e73b8-cd6d-4d7d-81e6-d4de8c4ab81c .axis text.major{font-family:Consolas,\"Liberation Mono\",Menlo,Courier,monospace;font-size:10px}#chart-9d7e73b8-cd6d-4d7d-81e6-d4de8c4ab81c .text-overlay text.value{font-family:Consolas,\"Liberation Mono\",Menlo,Courier,monospace;font-size:16px}#chart-9d7e73b8-cd6d-4d7d-81e6-d4de8c4ab81c .text-overlay text.label{font-family:Consolas,\"Liberation Mono\",Menlo,Courier,monospace;font-size:10px}#chart-9d7e73b8-cd6d-4d7d-81e6-d4de8c4ab81c .tooltip{font-family:Consolas,\"Liberation Mono\",Menlo,Courier,monospace;font-size:14px}#chart-9d7e73b8-cd6d-4d7d-81e6-d4de8c4ab81c text.no_data{font-family:Consolas,\"Liberation Mono\",Menlo,Courier,monospace;font-size:64px}\n",
       "#chart-9d7e73b8-cd6d-4d7d-81e6-d4de8c4ab81c{background-color:rgba(249,249,249,1)}#chart-9d7e73b8-cd6d-4d7d-81e6-d4de8c4ab81c path,#chart-9d7e73b8-cd6d-4d7d-81e6-d4de8c4ab81c line,#chart-9d7e73b8-cd6d-4d7d-81e6-d4de8c4ab81c rect,#chart-9d7e73b8-cd6d-4d7d-81e6-d4de8c4ab81c circle{-webkit-transition:150ms;-moz-transition:150ms;transition:150ms}#chart-9d7e73b8-cd6d-4d7d-81e6-d4de8c4ab81c .graph &gt; .background{fill:rgba(249,249,249,1)}#chart-9d7e73b8-cd6d-4d7d-81e6-d4de8c4ab81c .plot &gt; .background{fill:rgba(255,255,255,1)}#chart-9d7e73b8-cd6d-4d7d-81e6-d4de8c4ab81c .graph{fill:rgba(0,0,0,.87)}#chart-9d7e73b8-cd6d-4d7d-81e6-d4de8c4ab81c text.no_data{fill:rgba(0,0,0,1)}#chart-9d7e73b8-cd6d-4d7d-81e6-d4de8c4ab81c .title{fill:rgba(0,0,0,1)}#chart-9d7e73b8-cd6d-4d7d-81e6-d4de8c4ab81c .legends .legend text{fill:rgba(0,0,0,.87)}#chart-9d7e73b8-cd6d-4d7d-81e6-d4de8c4ab81c .legends .legend:hover text{fill:rgba(0,0,0,1)}#chart-9d7e73b8-cd6d-4d7d-81e6-d4de8c4ab81c .axis .line{stroke:rgba(0,0,0,1)}#chart-9d7e73b8-cd6d-4d7d-81e6-d4de8c4ab81c .axis .guide.line{stroke:rgba(0,0,0,.54)}#chart-9d7e73b8-cd6d-4d7d-81e6-d4de8c4ab81c .axis .major.line{stroke:rgba(0,0,0,.87)}#chart-9d7e73b8-cd6d-4d7d-81e6-d4de8c4ab81c .axis text.major{fill:rgba(0,0,0,1)}#chart-9d7e73b8-cd6d-4d7d-81e6-d4de8c4ab81c .axis.y .guides:hover .guide.line,#chart-9d7e73b8-cd6d-4d7d-81e6-d4de8c4ab81c .line-graph .axis.x .guides:hover .guide.line,#chart-9d7e73b8-cd6d-4d7d-81e6-d4de8c4ab81c .stackedline-graph .axis.x .guides:hover .guide.line,#chart-9d7e73b8-cd6d-4d7d-81e6-d4de8c4ab81c .xy-graph .axis.x .guides:hover .guide.line{stroke:rgba(0,0,0,1)}#chart-9d7e73b8-cd6d-4d7d-81e6-d4de8c4ab81c .axis .guides:hover text{fill:rgba(0,0,0,1)}#chart-9d7e73b8-cd6d-4d7d-81e6-d4de8c4ab81c .reactive{fill-opacity:.7;stroke-opacity:.8}#chart-9d7e73b8-cd6d-4d7d-81e6-d4de8c4ab81c .ci{stroke:rgba(0,0,0,.87)}#chart-9d7e73b8-cd6d-4d7d-81e6-d4de8c4ab81c .reactive.active,#chart-9d7e73b8-cd6d-4d7d-81e6-d4de8c4ab81c .active .reactive{fill-opacity:.8;stroke-opacity:.9;stroke-width:4}#chart-9d7e73b8-cd6d-4d7d-81e6-d4de8c4ab81c .ci .reactive.active{stroke-width:1.5}#chart-9d7e73b8-cd6d-4d7d-81e6-d4de8c4ab81c .series text{fill:rgba(0,0,0,1)}#chart-9d7e73b8-cd6d-4d7d-81e6-d4de8c4ab81c .tooltip rect{fill:rgba(255,255,255,1);stroke:rgba(0,0,0,1);-webkit-transition:opacity 150ms;-moz-transition:opacity 150ms;transition:opacity 150ms}#chart-9d7e73b8-cd6d-4d7d-81e6-d4de8c4ab81c .tooltip .label{fill:rgba(0,0,0,.87)}#chart-9d7e73b8-cd6d-4d7d-81e6-d4de8c4ab81c .tooltip .label{fill:rgba(0,0,0,.87)}#chart-9d7e73b8-cd6d-4d7d-81e6-d4de8c4ab81c .tooltip .legend{font-size:.8em;fill:rgba(0,0,0,.54)}#chart-9d7e73b8-cd6d-4d7d-81e6-d4de8c4ab81c .tooltip .x_label{font-size:.6em;fill:rgba(0,0,0,1)}#chart-9d7e73b8-cd6d-4d7d-81e6-d4de8c4ab81c .tooltip .xlink{font-size:.5em;text-decoration:underline}#chart-9d7e73b8-cd6d-4d7d-81e6-d4de8c4ab81c .tooltip .value{font-size:1.5em}#chart-9d7e73b8-cd6d-4d7d-81e6-d4de8c4ab81c .bound{font-size:.5em}#chart-9d7e73b8-cd6d-4d7d-81e6-d4de8c4ab81c .max-value{font-size:.75em;fill:rgba(0,0,0,.54)}#chart-9d7e73b8-cd6d-4d7d-81e6-d4de8c4ab81c .map-element{fill:rgba(255,255,255,1);stroke:rgba(0,0,0,.54) !important}#chart-9d7e73b8-cd6d-4d7d-81e6-d4de8c4ab81c .map-element .reactive{fill-opacity:inherit;stroke-opacity:inherit}#chart-9d7e73b8-cd6d-4d7d-81e6-d4de8c4ab81c .color-0,#chart-9d7e73b8-cd6d-4d7d-81e6-d4de8c4ab81c .color-0 a:visited{stroke:#F44336;fill:#F44336}#chart-9d7e73b8-cd6d-4d7d-81e6-d4de8c4ab81c .color-1,#chart-9d7e73b8-cd6d-4d7d-81e6-d4de8c4ab81c .color-1 a:visited{stroke:#3F51B5;fill:#3F51B5}#chart-9d7e73b8-cd6d-4d7d-81e6-d4de8c4ab81c .color-2,#chart-9d7e73b8-cd6d-4d7d-81e6-d4de8c4ab81c .color-2 a:visited{stroke:#009688;fill:#009688}#chart-9d7e73b8-cd6d-4d7d-81e6-d4de8c4ab81c .color-3,#chart-9d7e73b8-cd6d-4d7d-81e6-d4de8c4ab81c .color-3 a:visited{stroke:#FFC107;fill:#FFC107}#chart-9d7e73b8-cd6d-4d7d-81e6-d4de8c4ab81c .color-4,#chart-9d7e73b8-cd6d-4d7d-81e6-d4de8c4ab81c .color-4 a:visited{stroke:#FF5722;fill:#FF5722}#chart-9d7e73b8-cd6d-4d7d-81e6-d4de8c4ab81c .color-5,#chart-9d7e73b8-cd6d-4d7d-81e6-d4de8c4ab81c .color-5 a:visited{stroke:#9C27B0;fill:#9C27B0}#chart-9d7e73b8-cd6d-4d7d-81e6-d4de8c4ab81c .color-6,#chart-9d7e73b8-cd6d-4d7d-81e6-d4de8c4ab81c .color-6 a:visited{stroke:#03A9F4;fill:#03A9F4}#chart-9d7e73b8-cd6d-4d7d-81e6-d4de8c4ab81c .text-overlay .color-0 text{fill:black}#chart-9d7e73b8-cd6d-4d7d-81e6-d4de8c4ab81c .text-overlay .color-1 text{fill:black}#chart-9d7e73b8-cd6d-4d7d-81e6-d4de8c4ab81c .text-overlay .color-2 text{fill:black}#chart-9d7e73b8-cd6d-4d7d-81e6-d4de8c4ab81c .text-overlay .color-3 text{fill:black}#chart-9d7e73b8-cd6d-4d7d-81e6-d4de8c4ab81c .text-overlay .color-4 text{fill:black}#chart-9d7e73b8-cd6d-4d7d-81e6-d4de8c4ab81c .text-overlay .color-5 text{fill:black}#chart-9d7e73b8-cd6d-4d7d-81e6-d4de8c4ab81c .text-overlay .color-6 text{fill:black}\n",
       "#chart-9d7e73b8-cd6d-4d7d-81e6-d4de8c4ab81c text.no_data{text-anchor:middle}#chart-9d7e73b8-cd6d-4d7d-81e6-d4de8c4ab81c .guide.line{fill:none}#chart-9d7e73b8-cd6d-4d7d-81e6-d4de8c4ab81c .centered{text-anchor:middle}#chart-9d7e73b8-cd6d-4d7d-81e6-d4de8c4ab81c .title{text-anchor:middle}#chart-9d7e73b8-cd6d-4d7d-81e6-d4de8c4ab81c .legends .legend text{fill-opacity:1}#chart-9d7e73b8-cd6d-4d7d-81e6-d4de8c4ab81c .axis.x text{text-anchor:middle}#chart-9d7e73b8-cd6d-4d7d-81e6-d4de8c4ab81c .axis.x:not(.web) text[transform]{text-anchor:start}#chart-9d7e73b8-cd6d-4d7d-81e6-d4de8c4ab81c .axis.x:not(.web) text[transform].backwards{text-anchor:end}#chart-9d7e73b8-cd6d-4d7d-81e6-d4de8c4ab81c .axis.y text{text-anchor:end}#chart-9d7e73b8-cd6d-4d7d-81e6-d4de8c4ab81c .axis.y text[transform].backwards{text-anchor:start}#chart-9d7e73b8-cd6d-4d7d-81e6-d4de8c4ab81c .axis.y2 text{text-anchor:start}#chart-9d7e73b8-cd6d-4d7d-81e6-d4de8c4ab81c .axis.y2 text[transform].backwards{text-anchor:end}#chart-9d7e73b8-cd6d-4d7d-81e6-d4de8c4ab81c .axis .guide.line{stroke-dasharray:4,4}#chart-9d7e73b8-cd6d-4d7d-81e6-d4de8c4ab81c .axis .major.guide.line{stroke-dasharray:6,6}#chart-9d7e73b8-cd6d-4d7d-81e6-d4de8c4ab81c .horizontal .axis.y .guide.line,#chart-9d7e73b8-cd6d-4d7d-81e6-d4de8c4ab81c .horizontal .axis.y2 .guide.line,#chart-9d7e73b8-cd6d-4d7d-81e6-d4de8c4ab81c .vertical .axis.x .guide.line{opacity:0}#chart-9d7e73b8-cd6d-4d7d-81e6-d4de8c4ab81c .horizontal .axis.always_show .guide.line,#chart-9d7e73b8-cd6d-4d7d-81e6-d4de8c4ab81c .vertical .axis.always_show .guide.line{opacity:1 !important}#chart-9d7e73b8-cd6d-4d7d-81e6-d4de8c4ab81c .axis.y .guides:hover .guide.line,#chart-9d7e73b8-cd6d-4d7d-81e6-d4de8c4ab81c .axis.y2 .guides:hover .guide.line,#chart-9d7e73b8-cd6d-4d7d-81e6-d4de8c4ab81c .axis.x .guides:hover .guide.line{opacity:1}#chart-9d7e73b8-cd6d-4d7d-81e6-d4de8c4ab81c .axis .guides:hover text{opacity:1}#chart-9d7e73b8-cd6d-4d7d-81e6-d4de8c4ab81c .nofill{fill:none}#chart-9d7e73b8-cd6d-4d7d-81e6-d4de8c4ab81c .subtle-fill{fill-opacity:.2}#chart-9d7e73b8-cd6d-4d7d-81e6-d4de8c4ab81c .dot{stroke-width:1px;fill-opacity:1}#chart-9d7e73b8-cd6d-4d7d-81e6-d4de8c4ab81c .dot.active{stroke-width:5px}#chart-9d7e73b8-cd6d-4d7d-81e6-d4de8c4ab81c .dot.negative{fill:transparent}#chart-9d7e73b8-cd6d-4d7d-81e6-d4de8c4ab81c text,#chart-9d7e73b8-cd6d-4d7d-81e6-d4de8c4ab81c tspan{stroke:none !important}#chart-9d7e73b8-cd6d-4d7d-81e6-d4de8c4ab81c .series text.active{opacity:1}#chart-9d7e73b8-cd6d-4d7d-81e6-d4de8c4ab81c .tooltip rect{fill-opacity:.95;stroke-width:.5}#chart-9d7e73b8-cd6d-4d7d-81e6-d4de8c4ab81c .tooltip text{fill-opacity:1}#chart-9d7e73b8-cd6d-4d7d-81e6-d4de8c4ab81c .showable{visibility:hidden}#chart-9d7e73b8-cd6d-4d7d-81e6-d4de8c4ab81c .showable.shown{visibility:visible}#chart-9d7e73b8-cd6d-4d7d-81e6-d4de8c4ab81c .gauge-background{fill:rgba(229,229,229,1);stroke:none}#chart-9d7e73b8-cd6d-4d7d-81e6-d4de8c4ab81c .bg-lines{stroke:rgba(249,249,249,1);stroke-width:2px}</style><script type=\"text/javascript\">window.pygal = window.pygal || {};window.pygal.config = window.pygal.config || {};window.pygal.config['9d7e73b8-cd6d-4d7d-81e6-d4de8c4ab81c'] = {\"allow_interruptions\": false, \"box_mode\": \"extremes\", \"classes\": [\"pygal-chart\"], \"css\": [\"file://style.css\", \"file://graph.css\"], \"defs\": [], \"disable_xml_declaration\": false, \"dots_size\": 2.5, \"dynamic_print_values\": false, \"explicit_size\": false, \"fill\": false, \"force_uri_protocol\": \"https\", \"formatter\": null, \"half_pie\": false, \"height\": 200, \"include_x_axis\": false, \"inner_radius\": 0, \"interpolate\": null, \"interpolation_parameters\": {}, \"interpolation_precision\": 250, \"inverse_y_axis\": false, \"js\": [\"//kozea.github.io/pygal.js/2.0.x/pygal-tooltips.min.js\"], \"legend_at_bottom\": false, \"legend_at_bottom_columns\": null, \"legend_box_size\": 12, \"logarithmic\": false, \"margin\": 20, \"margin_bottom\": null, \"margin_left\": null, \"margin_right\": null, \"margin_top\": null, \"max_scale\": 16, \"min_scale\": 4, \"missing_value_fill_truncation\": \"x\", \"no_data_text\": \"No data\", \"no_prefix\": false, \"order_min\": null, \"pretty_print\": false, \"print_labels\": false, \"print_values\": false, \"print_values_position\": \"center\", \"print_zeroes\": true, \"range\": null, \"rounded_bars\": null, \"secondary_range\": null, \"show_dots\": true, \"show_legend\": true, \"show_minor_x_labels\": true, \"show_minor_y_labels\": true, \"show_only_major_dots\": false, \"show_x_guides\": false, \"show_x_labels\": true, \"show_y_guides\": true, \"show_y_labels\": true, \"spacing\": 10, \"stack_from_top\": false, \"strict\": false, \"stroke\": true, \"stroke_style\": null, \"style\": {\"background\": \"rgba(249, 249, 249, 1)\", \"ci_colors\": [], \"colors\": [\"#F44336\", \"#3F51B5\", \"#009688\", \"#FFC107\", \"#FF5722\", \"#9C27B0\", \"#03A9F4\", \"#8BC34A\", \"#FF9800\", \"#E91E63\", \"#2196F3\", \"#4CAF50\", \"#FFEB3B\", \"#673AB7\", \"#00BCD4\", \"#CDDC39\", \"#9E9E9E\", \"#607D8B\"], \"font_family\": \"Consolas, \\\"Liberation Mono\\\", Menlo, Courier, monospace\", \"foreground\": \"rgba(0, 0, 0, .87)\", \"foreground_strong\": \"rgba(0, 0, 0, 1)\", \"foreground_subtle\": \"rgba(0, 0, 0, .54)\", \"guide_stroke_dasharray\": \"4,4\", \"label_font_family\": \"Consolas, \\\"Liberation Mono\\\", Menlo, Courier, monospace\", \"label_font_size\": 10, \"legend_font_family\": \"Consolas, \\\"Liberation Mono\\\", Menlo, Courier, monospace\", \"legend_font_size\": 14, \"major_guide_stroke_dasharray\": \"6,6\", \"major_label_font_family\": \"Consolas, \\\"Liberation Mono\\\", Menlo, Courier, monospace\", \"major_label_font_size\": 10, \"no_data_font_family\": \"Consolas, \\\"Liberation Mono\\\", Menlo, Courier, monospace\", \"no_data_font_size\": 64, \"opacity\": \".7\", \"opacity_hover\": \".8\", \"plot_background\": \"rgba(255, 255, 255, 1)\", \"stroke_opacity\": \".8\", \"stroke_opacity_hover\": \".9\", \"title_font_family\": \"Consolas, \\\"Liberation Mono\\\", Menlo, Courier, monospace\", \"title_font_size\": 16, \"tooltip_font_family\": \"Consolas, \\\"Liberation Mono\\\", Menlo, Courier, monospace\", \"tooltip_font_size\": 14, \"transition\": \"150ms\", \"value_background\": \"rgba(229, 229, 229, 1)\", \"value_colors\": [], \"value_font_family\": \"Consolas, \\\"Liberation Mono\\\", Menlo, Courier, monospace\", \"value_font_size\": 16, \"value_label_font_family\": \"Consolas, \\\"Liberation Mono\\\", Menlo, Courier, monospace\", \"value_label_font_size\": 10}, \"title\": null, \"tooltip_border_radius\": 0, \"tooltip_fancy_mode\": true, \"truncate_label\": null, \"truncate_legend\": null, \"width\": 800, \"x_label_rotation\": 0, \"x_labels\": null, \"x_labels_major\": null, \"x_labels_major_count\": null, \"x_labels_major_every\": null, \"x_title\": null, \"xrange\": null, \"y_label_rotation\": 0, \"y_labels\": null, \"y_labels_major\": null, \"y_labels_major_count\": null, \"y_labels_major_every\": null, \"y_title\": null, \"zero\": 0, \"legends\": [\"jdbc\", \"jpa\", \"model\", \"petclinic\", \"service\", \"util\", \"web\"]}</script><script type=\"text/javascript\" xlink:href=\"https://kozea.github.io/pygal.js/2.0.x/pygal-tooltips.min.js\"/></defs><title>Pygal</title><g class=\"graph bar-graph vertical\"><rect class=\"background\" height=\"200\" width=\"800\" x=\"0\" y=\"0\"/><g class=\"plot\" transform=\"translate(145, 20)\"><rect class=\"background\" height=\"160\" width=\"634.4\" x=\"0\" y=\"0\"/><g class=\"axis y always_show\"><g class=\"guides\"><path class=\"axis major line\" d=\"M0.000000 156.923077 h634.400000\"/><text class=\"major\" x=\"-5\" y=\"160.42307692307693\">0</text><title>0</title></g><g class=\"guides\"><path class=\"guide line\" d=\"M0.000000 141.538462 h634.400000\"/><text class=\"\" x=\"-5\" y=\"145.03846153846155\">0.1</text><title>0.1</title></g><g class=\"guides\"><path class=\"guide line\" d=\"M0.000000 126.153846 h634.400000\"/><text class=\"\" x=\"-5\" y=\"129.65384615384616\">0.2</text><title>0.2</title></g><g class=\"guides\"><path class=\"guide line\" d=\"M0.000000 110.769231 h634.400000\"/><text class=\"\" x=\"-5\" y=\"114.26923076923077\">0.3</text><title>0.3</title></g><g class=\"guides\"><path class=\"guide line\" d=\"M0.000000 95.384615 h634.400000\"/><text class=\"\" x=\"-5\" y=\"98.88461538461539\">0.4</text><title>0.4</title></g><g class=\"guides\"><path class=\"major guide line\" d=\"M0.000000 80.000000 h634.400000\"/><text class=\"major\" x=\"-5\" y=\"83.5\">0.5</text><title>0.5</title></g><g class=\"guides\"><path class=\"guide line\" d=\"M0.000000 64.615385 h634.400000\"/><text class=\"\" x=\"-5\" y=\"68.11538461538461\">0.6</text><title>0.6</title></g><g class=\"guides\"><path class=\"guide line\" d=\"M0.000000 49.230769 h634.400000\"/><text class=\"\" x=\"-5\" y=\"52.73076923076924\">0.7</text><title>0.7</title></g><g class=\"guides\"><path class=\"guide line\" d=\"M0.000000 33.846154 h634.400000\"/><text class=\"\" x=\"-5\" y=\"37.34615384615384\">0.8</text><title>0.8</title></g><g class=\"guides\"><path class=\"guide line\" d=\"M0.000000 18.461538 h634.400000\"/><text class=\"\" x=\"-5\" y=\"21.961538461538453\">0.9</text><title>0.9</title></g><g class=\"guides\"><path class=\"major guide line\" d=\"M0.000000 3.076923 h634.400000\"/><text class=\"major\" x=\"-5\" y=\"6.576923076923094\">1</text><title>1</title></g></g><g class=\"series serie-0 color-0\"><g class=\"bars\"><g class=\"bar\"><rect class=\"rect reactive tooltip-trigger\" height=\"0.0\" rx=\"0\" ry=\"0\" width=\"67.48342857142858\" x=\"53.40114285714285\" y=\"156.92307692307693\"/><desc class=\"value\">0</desc><desc class=\"x centered\">87.14285714285714</desc><desc class=\"y centered\">156.92307692307693</desc></g></g></g><g class=\"series serie-1 color-1\"><g class=\"bars\"><g class=\"bar\"><rect class=\"rect reactive tooltip-trigger\" height=\"106.3936063936064\" rx=\"0\" ry=\"0\" width=\"67.48342857142858\" x=\"130.08685714285713\" y=\"50.52947052947053\"/><desc class=\"value\">0.6915584416</desc><desc class=\"x centered\">163.82857142857142</desc><desc class=\"y centered\">103.72627372627373</desc></g></g></g><g class=\"series serie-2 color-2\"><g class=\"bars\"><g class=\"bar\"><rect class=\"rect reactive tooltip-trigger\" height=\"113.69963369963371\" rx=\"0\" ry=\"0\" width=\"67.48342857142858\" x=\"206.77257142857144\" y=\"43.223443223443226\"/><desc class=\"value\">0.739047619</desc><desc class=\"x centered\">240.51428571428573</desc><desc class=\"y centered\">100.07326007326009</desc></g></g></g><g class=\"series serie-3 color-3\"><g class=\"bars\"><g class=\"bar\"><rect class=\"rect reactive tooltip-trigger\" height=\"153.84615384615384\" rx=\"0\" ry=\"0\" width=\"67.48342857142858\" x=\"283.4582857142857\" y=\"3.0769230769230944\"/><desc class=\"value\">1</desc><desc class=\"x centered\">317.2</desc><desc class=\"y centered\">80.00000000000001</desc></g></g></g><g class=\"series serie-4 color-4\"><g class=\"bars\"><g class=\"bar\"><rect class=\"rect reactive tooltip-trigger\" height=\"136.75213675213675\" rx=\"0\" ry=\"0\" width=\"67.48342857142858\" x=\"360.144\" y=\"20.170940170940185\"/><desc class=\"value\">0.8888888889</desc><desc class=\"x centered\">393.8857142857143</desc><desc class=\"y centered\">88.54700854700856</desc></g></g></g><g class=\"series serie-5 color-5\"><g class=\"bars\"><g class=\"bar\"><rect class=\"rect reactive tooltip-trigger\" height=\"20.833333333333343\" rx=\"0\" ry=\"0\" width=\"67.48342857142858\" x=\"436.8297142857143\" y=\"136.0897435897436\"/><desc class=\"value\">0.1354166667</desc><desc class=\"x centered\">470.5714285714286</desc><desc class=\"y centered\">146.50641025641028</desc></g></g></g><g class=\"series serie-6 color-6\"><g class=\"bars\"><g class=\"bar\"><rect class=\"rect reactive tooltip-trigger\" height=\"98.43212343212343\" rx=\"0\" ry=\"0\" width=\"67.48342857142858\" x=\"513.5154285714285\" y=\"58.4909534909535\"/><desc class=\"value\">0.6398088023</desc><desc class=\"x centered\">547.2571428571428</desc><desc class=\"y centered\">107.70701520701522</desc></g></g></g></g><g class=\"titles\"/><g class=\"plot overlay\" transform=\"translate(145, 20)\"><g class=\"series serie-0 color-0\"/><g class=\"series serie-1 color-1\"/><g class=\"series serie-2 color-2\"/><g class=\"series serie-3 color-3\"/><g class=\"series serie-4 color-4\"/><g class=\"series serie-5 color-5\"/><g class=\"series serie-6 color-6\"/></g><g class=\"plot text-overlay\" transform=\"translate(145, 20)\"><g class=\"series serie-0 color-0\"/><g class=\"series serie-1 color-1\"/><g class=\"series serie-2 color-2\"/><g class=\"series serie-3 color-3\"/><g class=\"series serie-4 color-4\"/><g class=\"series serie-5 color-5\"/><g class=\"series serie-6 color-6\"/></g><g class=\"plot tooltip-overlay\" transform=\"translate(145, 20)\"><g class=\"tooltip\" style=\"opacity: 0\" transform=\"translate(0 0)\"><rect class=\"tooltip-box\" height=\"0\" rx=\"0\" ry=\"0\" width=\"0\"/><g class=\"text\"/></g></g><g class=\"legends\" transform=\"translate(10, 30)\"><g class=\"legend reactive activate-serie\" id=\"activate-serie-0\"><rect class=\"color-0 reactive\" height=\"12\" width=\"12\" x=\"0.0\" y=\"1.0\"/><text x=\"17.0\" y=\"11.2\">jdbc</text></g><g class=\"legend reactive activate-serie\" id=\"activate-serie-1\"><rect class=\"color-1 reactive\" height=\"12\" width=\"12\" x=\"0.0\" y=\"22.0\"/><text x=\"17.0\" y=\"32.2\">jpa</text></g><g class=\"legend reactive activate-serie\" id=\"activate-serie-2\"><rect class=\"color-2 reactive\" height=\"12\" width=\"12\" x=\"0.0\" y=\"43.0\"/><text x=\"17.0\" y=\"53.2\">model</text></g><g class=\"legend reactive activate-serie\" id=\"activate-serie-3\"><rect class=\"color-3 reactive\" height=\"12\" width=\"12\" x=\"0.0\" y=\"64.0\"/><text x=\"17.0\" y=\"74.2\">petclinic</text></g><g class=\"legend reactive activate-serie\" id=\"activate-serie-4\"><rect class=\"color-4 reactive\" height=\"12\" width=\"12\" x=\"0.0\" y=\"85.0\"/><text x=\"17.0\" y=\"95.2\">service</text></g><g class=\"legend reactive activate-serie\" id=\"activate-serie-5\"><rect class=\"color-5 reactive\" height=\"12\" width=\"12\" x=\"0.0\" y=\"106.0\"/><text x=\"17.0\" y=\"116.2\">util</text></g><g class=\"legend reactive activate-serie\" id=\"activate-serie-6\"><rect class=\"color-6 reactive\" height=\"12\" width=\"12\" x=\"0.0\" y=\"127.0\"/><text x=\"17.0\" y=\"137.2\">web</text></g></g><g class=\"legends\" transform=\"translate(790, 30)\"/></g></svg>\n",
       "    </figure>\n",
       "  </body>\n",
       "</html>\n"
      ],
      "text/plain": [
       "<IPython.core.display.HTML object>"
      ]
     },
     "metadata": {},
     "output_type": "display_data"
    }
   ],
   "source": [
    "bar_chart = pygal.Bar(height=200)\n",
    "[bar_chart.add(x[0], x[1]) for x in mean_by_category.items()]\n",
    "display(HTML(base_html.format(rendered_chart=bar_chart.render(is_unicode=True))))"
   ]
  },
  {
   "cell_type": "markdown",
   "metadata": {},
   "source": [
    "So this is pretty standard and easy to do.\n",
    "\n",
    "Let's look at a slightly more sophisticated use case: showing coverage values for all classes and color the classes accordingly to the category they belong to. But for this, a bar chart doesn't make any sense. So let's look at another visualization type."
   ]
  },
  {
   "cell_type": "markdown",
   "metadata": {},
   "source": [
    "## Treemap\n",
    "The key idea is to use the pandas' `groupby`-function to get the data in a format that pygal can consume. The trick is to put all the `coverage`-values into a list for each category."
   ]
  },
  {
   "cell_type": "code",
   "execution_count": 8,
   "metadata": {},
   "outputs": [
    {
     "data": {
      "text/plain": [
       "category\n",
       "jdbc               [7, 33, 17, 9, 26, 7, 8, 43]\n",
       "jpa                               [8, 11, 2, 7]\n",
       "model        [5, 1, 1, 4, 12, 5, 7, 40, 21, 12]\n",
       "petclinic                                  [24]\n",
       "service                                    [18]\n",
       "util                              [5, 3, 6, 24]\n",
       "web                 [36, 10, 30, 11, 16, 10, 2]\n",
       "Name: lines, dtype: object"
      ]
     },
     "execution_count": 8,
     "metadata": {},
     "output_type": "execute_result"
    }
   ],
   "source": [
    "values_by_category = df.groupby(['category'])['lines'].apply(list)\n",
    "values_by_category"
   ]
  },
  {
   "cell_type": "markdown",
   "metadata": {},
   "source": [
    "This format is exactly what pygal needs. Let's create the treemap out of this data."
   ]
  },
  {
   "cell_type": "code",
   "execution_count": 9,
   "metadata": {},
   "outputs": [
    {
     "data": {
      "text/html": [
       "\n",
       "<!DOCTYPE html>\n",
       "<html>\n",
       "  <head>\n",
       "  <script type=\"text/javascript\" src=\"http://kozea.github.com/pygal.js/javascripts/svg.jquery.js\"></script>\n",
       "  <script type=\"text/javascript\" src=\"https://kozea.github.io/pygal.js/2.0.x/pygal-tooltips.min.js\"\"></script>\n",
       "  </head>\n",
       "  <body>\n",
       "    <figure>\n",
       "      <?xml version='1.0' encoding='utf-8'?>\n",
       "<svg xmlns:xlink=\"http://www.w3.org/1999/xlink\" xmlns=\"http://www.w3.org/2000/svg\" id=\"chart-7afc0e6a-c163-4bb5-9b10-9d47ca53aba1\" class=\"pygal-chart\" viewBox=\"0 0 800 200\"><!--Generated with pygal 2.4.0 (lxml) ©Kozea 2012-2016 on 2019-03-14--><!--http://pygal.org--><!--http://github.com/Kozea/pygal--><defs><style type=\"text/css\">#chart-7afc0e6a-c163-4bb5-9b10-9d47ca53aba1{-webkit-user-select:none;-webkit-font-smoothing:antialiased;font-family:Consolas,\"Liberation Mono\",Menlo,Courier,monospace}#chart-7afc0e6a-c163-4bb5-9b10-9d47ca53aba1 .title{font-family:Consolas,\"Liberation Mono\",Menlo,Courier,monospace;font-size:16px}#chart-7afc0e6a-c163-4bb5-9b10-9d47ca53aba1 .legends .legend text{font-family:Consolas,\"Liberation Mono\",Menlo,Courier,monospace;font-size:14px}#chart-7afc0e6a-c163-4bb5-9b10-9d47ca53aba1 .axis text{font-family:Consolas,\"Liberation Mono\",Menlo,Courier,monospace;font-size:10px}#chart-7afc0e6a-c163-4bb5-9b10-9d47ca53aba1 .axis text.major{font-family:Consolas,\"Liberation Mono\",Menlo,Courier,monospace;font-size:10px}#chart-7afc0e6a-c163-4bb5-9b10-9d47ca53aba1 .text-overlay text.value{font-family:Consolas,\"Liberation Mono\",Menlo,Courier,monospace;font-size:16px}#chart-7afc0e6a-c163-4bb5-9b10-9d47ca53aba1 .text-overlay text.label{font-family:Consolas,\"Liberation Mono\",Menlo,Courier,monospace;font-size:10px}#chart-7afc0e6a-c163-4bb5-9b10-9d47ca53aba1 .tooltip{font-family:Consolas,\"Liberation Mono\",Menlo,Courier,monospace;font-size:14px}#chart-7afc0e6a-c163-4bb5-9b10-9d47ca53aba1 text.no_data{font-family:Consolas,\"Liberation Mono\",Menlo,Courier,monospace;font-size:64px}\n",
       "#chart-7afc0e6a-c163-4bb5-9b10-9d47ca53aba1{background-color:rgba(249,249,249,1)}#chart-7afc0e6a-c163-4bb5-9b10-9d47ca53aba1 path,#chart-7afc0e6a-c163-4bb5-9b10-9d47ca53aba1 line,#chart-7afc0e6a-c163-4bb5-9b10-9d47ca53aba1 rect,#chart-7afc0e6a-c163-4bb5-9b10-9d47ca53aba1 circle{-webkit-transition:150ms;-moz-transition:150ms;transition:150ms}#chart-7afc0e6a-c163-4bb5-9b10-9d47ca53aba1 .graph &gt; .background{fill:rgba(249,249,249,1)}#chart-7afc0e6a-c163-4bb5-9b10-9d47ca53aba1 .plot &gt; .background{fill:rgba(255,255,255,1)}#chart-7afc0e6a-c163-4bb5-9b10-9d47ca53aba1 .graph{fill:rgba(0,0,0,.87)}#chart-7afc0e6a-c163-4bb5-9b10-9d47ca53aba1 text.no_data{fill:rgba(0,0,0,1)}#chart-7afc0e6a-c163-4bb5-9b10-9d47ca53aba1 .title{fill:rgba(0,0,0,1)}#chart-7afc0e6a-c163-4bb5-9b10-9d47ca53aba1 .legends .legend text{fill:rgba(0,0,0,.87)}#chart-7afc0e6a-c163-4bb5-9b10-9d47ca53aba1 .legends .legend:hover text{fill:rgba(0,0,0,1)}#chart-7afc0e6a-c163-4bb5-9b10-9d47ca53aba1 .axis .line{stroke:rgba(0,0,0,1)}#chart-7afc0e6a-c163-4bb5-9b10-9d47ca53aba1 .axis .guide.line{stroke:rgba(0,0,0,.54)}#chart-7afc0e6a-c163-4bb5-9b10-9d47ca53aba1 .axis .major.line{stroke:rgba(0,0,0,.87)}#chart-7afc0e6a-c163-4bb5-9b10-9d47ca53aba1 .axis text.major{fill:rgba(0,0,0,1)}#chart-7afc0e6a-c163-4bb5-9b10-9d47ca53aba1 .axis.y .guides:hover .guide.line,#chart-7afc0e6a-c163-4bb5-9b10-9d47ca53aba1 .line-graph .axis.x .guides:hover .guide.line,#chart-7afc0e6a-c163-4bb5-9b10-9d47ca53aba1 .stackedline-graph .axis.x .guides:hover .guide.line,#chart-7afc0e6a-c163-4bb5-9b10-9d47ca53aba1 .xy-graph .axis.x .guides:hover .guide.line{stroke:rgba(0,0,0,1)}#chart-7afc0e6a-c163-4bb5-9b10-9d47ca53aba1 .axis .guides:hover text{fill:rgba(0,0,0,1)}#chart-7afc0e6a-c163-4bb5-9b10-9d47ca53aba1 .reactive{fill-opacity:.7;stroke-opacity:.8}#chart-7afc0e6a-c163-4bb5-9b10-9d47ca53aba1 .ci{stroke:rgba(0,0,0,.87)}#chart-7afc0e6a-c163-4bb5-9b10-9d47ca53aba1 .reactive.active,#chart-7afc0e6a-c163-4bb5-9b10-9d47ca53aba1 .active .reactive{fill-opacity:.8;stroke-opacity:.9;stroke-width:4}#chart-7afc0e6a-c163-4bb5-9b10-9d47ca53aba1 .ci .reactive.active{stroke-width:1.5}#chart-7afc0e6a-c163-4bb5-9b10-9d47ca53aba1 .series text{fill:rgba(0,0,0,1)}#chart-7afc0e6a-c163-4bb5-9b10-9d47ca53aba1 .tooltip rect{fill:rgba(255,255,255,1);stroke:rgba(0,0,0,1);-webkit-transition:opacity 150ms;-moz-transition:opacity 150ms;transition:opacity 150ms}#chart-7afc0e6a-c163-4bb5-9b10-9d47ca53aba1 .tooltip .label{fill:rgba(0,0,0,.87)}#chart-7afc0e6a-c163-4bb5-9b10-9d47ca53aba1 .tooltip .label{fill:rgba(0,0,0,.87)}#chart-7afc0e6a-c163-4bb5-9b10-9d47ca53aba1 .tooltip .legend{font-size:.8em;fill:rgba(0,0,0,.54)}#chart-7afc0e6a-c163-4bb5-9b10-9d47ca53aba1 .tooltip .x_label{font-size:.6em;fill:rgba(0,0,0,1)}#chart-7afc0e6a-c163-4bb5-9b10-9d47ca53aba1 .tooltip .xlink{font-size:.5em;text-decoration:underline}#chart-7afc0e6a-c163-4bb5-9b10-9d47ca53aba1 .tooltip .value{font-size:1.5em}#chart-7afc0e6a-c163-4bb5-9b10-9d47ca53aba1 .bound{font-size:.5em}#chart-7afc0e6a-c163-4bb5-9b10-9d47ca53aba1 .max-value{font-size:.75em;fill:rgba(0,0,0,.54)}#chart-7afc0e6a-c163-4bb5-9b10-9d47ca53aba1 .map-element{fill:rgba(255,255,255,1);stroke:rgba(0,0,0,.54) !important}#chart-7afc0e6a-c163-4bb5-9b10-9d47ca53aba1 .map-element .reactive{fill-opacity:inherit;stroke-opacity:inherit}#chart-7afc0e6a-c163-4bb5-9b10-9d47ca53aba1 .color-0,#chart-7afc0e6a-c163-4bb5-9b10-9d47ca53aba1 .color-0 a:visited{stroke:#F44336;fill:#F44336}#chart-7afc0e6a-c163-4bb5-9b10-9d47ca53aba1 .color-1,#chart-7afc0e6a-c163-4bb5-9b10-9d47ca53aba1 .color-1 a:visited{stroke:#3F51B5;fill:#3F51B5}#chart-7afc0e6a-c163-4bb5-9b10-9d47ca53aba1 .color-2,#chart-7afc0e6a-c163-4bb5-9b10-9d47ca53aba1 .color-2 a:visited{stroke:#009688;fill:#009688}#chart-7afc0e6a-c163-4bb5-9b10-9d47ca53aba1 .color-3,#chart-7afc0e6a-c163-4bb5-9b10-9d47ca53aba1 .color-3 a:visited{stroke:#FFC107;fill:#FFC107}#chart-7afc0e6a-c163-4bb5-9b10-9d47ca53aba1 .color-4,#chart-7afc0e6a-c163-4bb5-9b10-9d47ca53aba1 .color-4 a:visited{stroke:#FF5722;fill:#FF5722}#chart-7afc0e6a-c163-4bb5-9b10-9d47ca53aba1 .color-5,#chart-7afc0e6a-c163-4bb5-9b10-9d47ca53aba1 .color-5 a:visited{stroke:#9C27B0;fill:#9C27B0}#chart-7afc0e6a-c163-4bb5-9b10-9d47ca53aba1 .color-6,#chart-7afc0e6a-c163-4bb5-9b10-9d47ca53aba1 .color-6 a:visited{stroke:#03A9F4;fill:#03A9F4}#chart-7afc0e6a-c163-4bb5-9b10-9d47ca53aba1 .text-overlay .color-0 text{fill:black}#chart-7afc0e6a-c163-4bb5-9b10-9d47ca53aba1 .text-overlay .color-1 text{fill:black}#chart-7afc0e6a-c163-4bb5-9b10-9d47ca53aba1 .text-overlay .color-2 text{fill:black}#chart-7afc0e6a-c163-4bb5-9b10-9d47ca53aba1 .text-overlay .color-3 text{fill:black}#chart-7afc0e6a-c163-4bb5-9b10-9d47ca53aba1 .text-overlay .color-4 text{fill:black}#chart-7afc0e6a-c163-4bb5-9b10-9d47ca53aba1 .text-overlay .color-5 text{fill:black}#chart-7afc0e6a-c163-4bb5-9b10-9d47ca53aba1 .text-overlay .color-6 text{fill:black}\n",
       "#chart-7afc0e6a-c163-4bb5-9b10-9d47ca53aba1 text.no_data{text-anchor:middle}#chart-7afc0e6a-c163-4bb5-9b10-9d47ca53aba1 .guide.line{fill:none}#chart-7afc0e6a-c163-4bb5-9b10-9d47ca53aba1 .centered{text-anchor:middle}#chart-7afc0e6a-c163-4bb5-9b10-9d47ca53aba1 .title{text-anchor:middle}#chart-7afc0e6a-c163-4bb5-9b10-9d47ca53aba1 .legends .legend text{fill-opacity:1}#chart-7afc0e6a-c163-4bb5-9b10-9d47ca53aba1 .axis.x text{text-anchor:middle}#chart-7afc0e6a-c163-4bb5-9b10-9d47ca53aba1 .axis.x:not(.web) text[transform]{text-anchor:start}#chart-7afc0e6a-c163-4bb5-9b10-9d47ca53aba1 .axis.x:not(.web) text[transform].backwards{text-anchor:end}#chart-7afc0e6a-c163-4bb5-9b10-9d47ca53aba1 .axis.y text{text-anchor:end}#chart-7afc0e6a-c163-4bb5-9b10-9d47ca53aba1 .axis.y text[transform].backwards{text-anchor:start}#chart-7afc0e6a-c163-4bb5-9b10-9d47ca53aba1 .axis.y2 text{text-anchor:start}#chart-7afc0e6a-c163-4bb5-9b10-9d47ca53aba1 .axis.y2 text[transform].backwards{text-anchor:end}#chart-7afc0e6a-c163-4bb5-9b10-9d47ca53aba1 .axis .guide.line{stroke-dasharray:4,4}#chart-7afc0e6a-c163-4bb5-9b10-9d47ca53aba1 .axis .major.guide.line{stroke-dasharray:6,6}#chart-7afc0e6a-c163-4bb5-9b10-9d47ca53aba1 .horizontal .axis.y .guide.line,#chart-7afc0e6a-c163-4bb5-9b10-9d47ca53aba1 .horizontal .axis.y2 .guide.line,#chart-7afc0e6a-c163-4bb5-9b10-9d47ca53aba1 .vertical .axis.x .guide.line{opacity:0}#chart-7afc0e6a-c163-4bb5-9b10-9d47ca53aba1 .horizontal .axis.always_show .guide.line,#chart-7afc0e6a-c163-4bb5-9b10-9d47ca53aba1 .vertical .axis.always_show .guide.line{opacity:1 !important}#chart-7afc0e6a-c163-4bb5-9b10-9d47ca53aba1 .axis.y .guides:hover .guide.line,#chart-7afc0e6a-c163-4bb5-9b10-9d47ca53aba1 .axis.y2 .guides:hover .guide.line,#chart-7afc0e6a-c163-4bb5-9b10-9d47ca53aba1 .axis.x .guides:hover .guide.line{opacity:1}#chart-7afc0e6a-c163-4bb5-9b10-9d47ca53aba1 .axis .guides:hover text{opacity:1}#chart-7afc0e6a-c163-4bb5-9b10-9d47ca53aba1 .nofill{fill:none}#chart-7afc0e6a-c163-4bb5-9b10-9d47ca53aba1 .subtle-fill{fill-opacity:.2}#chart-7afc0e6a-c163-4bb5-9b10-9d47ca53aba1 .dot{stroke-width:1px;fill-opacity:1}#chart-7afc0e6a-c163-4bb5-9b10-9d47ca53aba1 .dot.active{stroke-width:5px}#chart-7afc0e6a-c163-4bb5-9b10-9d47ca53aba1 .dot.negative{fill:transparent}#chart-7afc0e6a-c163-4bb5-9b10-9d47ca53aba1 text,#chart-7afc0e6a-c163-4bb5-9b10-9d47ca53aba1 tspan{stroke:none !important}#chart-7afc0e6a-c163-4bb5-9b10-9d47ca53aba1 .series text.active{opacity:1}#chart-7afc0e6a-c163-4bb5-9b10-9d47ca53aba1 .tooltip rect{fill-opacity:.95;stroke-width:.5}#chart-7afc0e6a-c163-4bb5-9b10-9d47ca53aba1 .tooltip text{fill-opacity:1}#chart-7afc0e6a-c163-4bb5-9b10-9d47ca53aba1 .showable{visibility:hidden}#chart-7afc0e6a-c163-4bb5-9b10-9d47ca53aba1 .showable.shown{visibility:visible}#chart-7afc0e6a-c163-4bb5-9b10-9d47ca53aba1 .gauge-background{fill:rgba(229,229,229,1);stroke:none}#chart-7afc0e6a-c163-4bb5-9b10-9d47ca53aba1 .bg-lines{stroke:rgba(249,249,249,1);stroke-width:2px}</style><script type=\"text/javascript\">window.pygal = window.pygal || {};window.pygal.config = window.pygal.config || {};window.pygal.config['7afc0e6a-c163-4bb5-9b10-9d47ca53aba1'] = {\"allow_interruptions\": false, \"box_mode\": \"extremes\", \"classes\": [\"pygal-chart\"], \"css\": [\"file://style.css\", \"file://graph.css\"], \"defs\": [], \"disable_xml_declaration\": false, \"dots_size\": 2.5, \"dynamic_print_values\": false, \"explicit_size\": false, \"fill\": false, \"force_uri_protocol\": \"https\", \"formatter\": null, \"half_pie\": false, \"height\": 200, \"include_x_axis\": false, \"inner_radius\": 0, \"interpolate\": null, \"interpolation_parameters\": {}, \"interpolation_precision\": 250, \"inverse_y_axis\": false, \"js\": [\"//kozea.github.io/pygal.js/2.0.x/pygal-tooltips.min.js\"], \"legend_at_bottom\": false, \"legend_at_bottom_columns\": null, \"legend_box_size\": 12, \"logarithmic\": false, \"margin\": 20, \"margin_bottom\": null, \"margin_left\": null, \"margin_right\": null, \"margin_top\": null, \"max_scale\": 16, \"min_scale\": 4, \"missing_value_fill_truncation\": \"x\", \"no_data_text\": \"No data\", \"no_prefix\": false, \"order_min\": null, \"pretty_print\": false, \"print_labels\": false, \"print_values\": false, \"print_values_position\": \"center\", \"print_zeroes\": true, \"range\": null, \"rounded_bars\": null, \"secondary_range\": null, \"show_dots\": true, \"show_legend\": true, \"show_minor_x_labels\": true, \"show_minor_y_labels\": true, \"show_only_major_dots\": false, \"show_x_guides\": false, \"show_x_labels\": true, \"show_y_guides\": true, \"show_y_labels\": true, \"spacing\": 10, \"stack_from_top\": false, \"strict\": false, \"stroke\": true, \"stroke_style\": null, \"style\": {\"background\": \"rgba(249, 249, 249, 1)\", \"ci_colors\": [], \"colors\": [\"#F44336\", \"#3F51B5\", \"#009688\", \"#FFC107\", \"#FF5722\", \"#9C27B0\", \"#03A9F4\", \"#8BC34A\", \"#FF9800\", \"#E91E63\", \"#2196F3\", \"#4CAF50\", \"#FFEB3B\", \"#673AB7\", \"#00BCD4\", \"#CDDC39\", \"#9E9E9E\", \"#607D8B\"], \"font_family\": \"Consolas, \\\"Liberation Mono\\\", Menlo, Courier, monospace\", \"foreground\": \"rgba(0, 0, 0, .87)\", \"foreground_strong\": \"rgba(0, 0, 0, 1)\", \"foreground_subtle\": \"rgba(0, 0, 0, .54)\", \"guide_stroke_dasharray\": \"4,4\", \"label_font_family\": \"Consolas, \\\"Liberation Mono\\\", Menlo, Courier, monospace\", \"label_font_size\": 10, \"legend_font_family\": \"Consolas, \\\"Liberation Mono\\\", Menlo, Courier, monospace\", \"legend_font_size\": 14, \"major_guide_stroke_dasharray\": \"6,6\", \"major_label_font_family\": \"Consolas, \\\"Liberation Mono\\\", Menlo, Courier, monospace\", \"major_label_font_size\": 10, \"no_data_font_family\": \"Consolas, \\\"Liberation Mono\\\", Menlo, Courier, monospace\", \"no_data_font_size\": 64, \"opacity\": \".7\", \"opacity_hover\": \".8\", \"plot_background\": \"rgba(255, 255, 255, 1)\", \"stroke_opacity\": \".8\", \"stroke_opacity_hover\": \".9\", \"title_font_family\": \"Consolas, \\\"Liberation Mono\\\", Menlo, Courier, monospace\", \"title_font_size\": 16, \"tooltip_font_family\": \"Consolas, \\\"Liberation Mono\\\", Menlo, Courier, monospace\", \"tooltip_font_size\": 14, \"transition\": \"150ms\", \"value_background\": \"rgba(229, 229, 229, 1)\", \"value_colors\": [], \"value_font_family\": \"Consolas, \\\"Liberation Mono\\\", Menlo, Courier, monospace\", \"value_font_size\": 16, \"value_label_font_family\": \"Consolas, \\\"Liberation Mono\\\", Menlo, Courier, monospace\", \"value_label_font_size\": 10}, \"title\": null, \"tooltip_border_radius\": 0, \"tooltip_fancy_mode\": true, \"truncate_label\": null, \"truncate_legend\": null, \"width\": 800, \"x_label_rotation\": 0, \"x_labels\": null, \"x_labels_major\": null, \"x_labels_major_count\": null, \"x_labels_major_every\": null, \"x_title\": null, \"xrange\": null, \"y_label_rotation\": 0, \"y_labels\": null, \"y_labels_major\": null, \"y_labels_major_count\": null, \"y_labels_major_every\": null, \"y_title\": null, \"zero\": 0, \"legends\": [\"jdbc\", \"jpa\", \"model\", \"petclinic\", \"service\", \"util\", \"web\"]}</script><script type=\"text/javascript\" xlink:href=\"https://kozea.github.io/pygal.js/2.0.x/pygal-tooltips.min.js\"/></defs><title>Pygal</title><g class=\"graph treemap-graph vertical\"><rect class=\"background\" height=\"200\" width=\"800\" x=\"0\" y=\"0\"/><g class=\"plot\" transform=\"translate(117, 20)\"><rect class=\"background\" height=\"160\" width=\"662.4\" x=\"0\" y=\"0\"/><g class=\"series serie-0 color-0\"><g class=\"rects\"><g class=\"rect\"><rect class=\"rect reactive tooltip-trigger\" height=\"16.680602006688986\" width=\"85.48991221056\" x=\"12.73846153846154\" y=\"140.24247491638795\"/><desc class=\"value\">7</desc><desc class=\"x centered\">55.48341764374153</desc><desc class=\"y centered\">148.58277591973246</desc></g><g class=\"rect\"><rect class=\"rect reactive tooltip-trigger\" height=\"78.63712374581938\" width=\"85.48991221056\" x=\"12.73846153846154\" y=\"61.60535117056857\"/><desc class=\"value\">33</desc><desc class=\"x centered\">55.48341764374153</desc><desc class=\"y centered\">100.92391304347825</desc></g><g class=\"rect\"><rect class=\"rect reactive tooltip-trigger\" height=\"95.31772575250837\" width=\"36.33321268948802\" x=\"98.22837374902153\" y=\"61.60535117056857\"/><desc class=\"value\">17</desc><desc class=\"x centered\">116.39498009376554</desc><desc class=\"y centered\">109.26421404682276</desc></g><g class=\"rect\"><rect class=\"rect reactive tooltip-trigger\" height=\"58.5284280936455\" width=\"31.32594640286948\" x=\"12.73846153846154\" y=\"3.076923076923066\"/><desc class=\"value\">9</desc><desc class=\"x centered\">28.40143473989628</desc><desc class=\"y centered\">32.34113712374582</desc></g><g class=\"rect\"><rect class=\"rect reactive tooltip-trigger\" height=\"58.5284280936455\" width=\"90.49717849717854\" x=\"44.06440794133102\" y=\"3.076923076923066\"/><desc class=\"value\">26</desc><desc class=\"x centered\">89.31299718992028</desc><desc class=\"y centered\">32.34113712374582</desc></g><g class=\"rect\"><rect class=\"rect reactive tooltip-trigger\" height=\"18.567639257294445\" width=\"76.80153526307373\" x=\"134.56158643850955\" y=\"138.3554376657825\"/><desc class=\"value\">7</desc><desc class=\"x centered\">172.96235407004642</desc><desc class=\"y centered\">147.6392572944297</desc></g><g class=\"rect\"><rect class=\"rect reactive tooltip-trigger\" height=\"21.220159151193627\" width=\"76.80153526307373\" x=\"134.56158643850955\" y=\"117.13527851458886\"/><desc class=\"value\">8</desc><desc class=\"x centered\">172.96235407004642</desc><desc class=\"y centered\">127.74535809018568</desc></g><g class=\"rect\"><rect class=\"rect reactive tooltip-trigger\" height=\"114.0583554376658\" width=\"76.80153526307373\" x=\"134.56158643850955\" y=\"3.076923076923066\"/><desc class=\"value\">43</desc><desc class=\"x centered\">172.96235407004642</desc><desc class=\"y centered\">60.106100795755964</desc></g></g></g><g class=\"series serie-1 color-1\"><g class=\"rects\"><g class=\"rect\"><rect class=\"rect reactive tooltip-trigger\" height=\"43.95604395604397\" width=\"37.07660323044942\" x=\"211.36312170158328\" y=\"112.96703296703296\"/><desc class=\"value\">8</desc><desc class=\"x centered\">229.901423316808</desc><desc class=\"y centered\">134.94505494505495</desc></g><g class=\"rect\"><rect class=\"rect reactive tooltip-trigger\" height=\"60.43956043956044\" width=\"37.07660323044942\" x=\"211.36312170158328\" y=\"52.527472527472526\"/><desc class=\"value\">11</desc><desc class=\"x centered\">229.901423316808</desc><desc class=\"y centered\">82.74725274725274</desc></g><g class=\"rect\"><rect class=\"rect reactive tooltip-trigger\" height=\"10.989010989010993\" width=\"37.07660323044942\" x=\"211.36312170158328\" y=\"41.53846153846153\"/><desc class=\"value\">2</desc><desc class=\"x centered\">229.901423316808</desc><desc class=\"y centered\">47.03296703296703</desc></g><g class=\"rect\"><rect class=\"rect reactive tooltip-trigger\" height=\"38.46153846153844\" width=\"37.07660323044942\" x=\"211.36312170158328\" y=\"3.0769230769230944\"/><desc class=\"value\">7</desc><desc class=\"x centered\">229.901423316808</desc><desc class=\"y centered\">22.307692307692314</desc></g></g></g><g class=\"series serie-2 color-2\"><g class=\"rects\"><g class=\"rect\"><rect class=\"rect reactive tooltip-trigger\" height=\"106.83760683760684\" width=\"9.53398368782976\" x=\"248.4397249320327\" y=\"50.08547008547009\"/><desc class=\"value\">5</desc><desc class=\"x centered\">253.2067167759476</desc><desc class=\"y centered\">103.50427350427351</desc></g><g class=\"rect\"><rect class=\"rect reactive tooltip-trigger\" height=\"106.83760683760684\" width=\"1.906796737566026\" x=\"257.97370861986246\" y=\"50.08547008547009\"/><desc class=\"value\">1</desc><desc class=\"x centered\">258.9271069886455</desc><desc class=\"y centered\">103.50427350427351</desc></g><g class=\"rect\"><rect class=\"rect reactive tooltip-trigger\" height=\"106.83760683760684\" width=\"1.9067967375659691\" x=\"259.8805053574285\" y=\"50.08547008547009\"/><desc class=\"value\">1</desc><desc class=\"x centered\">260.8339037262115</desc><desc class=\"y centered\">103.50427350427351</desc></g><g class=\"rect\"><rect class=\"rect reactive tooltip-trigger\" height=\"106.83760683760684\" width=\"7.62718695026382\" x=\"261.78730209499446\" y=\"50.08547008547009\"/><desc class=\"value\">4</desc><desc class=\"x centered\">265.60089557012634</desc><desc class=\"y centered\">103.50427350427351</desc></g><g class=\"rect\"><rect class=\"rect reactive tooltip-trigger\" height=\"106.83760683760684\" width=\"22.88156085079163\" x=\"269.4144890452583\" y=\"50.08547008547009\"/><desc class=\"value\">12</desc><desc class=\"x centered\">280.8552694706541</desc><desc class=\"y centered\">103.50427350427351</desc></g><g class=\"rect\"><rect class=\"rect reactive tooltip-trigger\" height=\"10.27284681130837\" width=\"99.1534303534304\" x=\"292.2960498960499\" y=\"146.65023011176856\"/><desc class=\"value\">5</desc><desc class=\"x centered\">341.8727650727651</desc><desc class=\"y centered\">151.78665351742274</desc></g><g class=\"rect\"><rect class=\"rect reactive tooltip-trigger\" height=\"96.56476002629847\" width=\"14.767532180298133\" x=\"292.2960498960499\" y=\"50.08547008547009\"/><desc class=\"value\">7</desc><desc class=\"x centered\">299.67981598619895</desc><desc class=\"y centered\">98.36785009861933</desc></g><g class=\"rect\"><rect class=\"rect reactive tooltip-trigger\" height=\"96.56476002629847\" width=\"84.38589817313226\" x=\"307.06358207634804\" y=\"50.08547008547009\"/><desc class=\"value\">40</desc><desc class=\"x centered\">349.25653116291414</desc><desc class=\"y centered\">98.36785009861933</desc></g><g class=\"rect\"><rect class=\"rect reactive tooltip-trigger\" height=\"47.008547008547026\" width=\"91.0062079292849\" x=\"248.4397249320327\" y=\"3.076923076923066\"/><desc class=\"value\">21</desc><desc class=\"x centered\">293.94282889667517</desc><desc class=\"y centered\">26.58119658119658</desc></g><g class=\"rect\"><rect class=\"rect reactive tooltip-trigger\" height=\"47.008547008547026\" width=\"52.0035473881627\" x=\"339.4459328613176\" y=\"3.076923076923066\"/><desc class=\"value\">12</desc><desc class=\"x centered\">365.44770655539895</desc><desc class=\"y centered\">26.58119658119658</desc></g></g></g><g class=\"series serie-3 color-3\"><g class=\"rects\"><g class=\"rect\"><rect class=\"rect reactive tooltip-trigger\" height=\"153.84615384615387\" width=\"31.779945626099504\" x=\"391.4494802494803\" y=\"3.076923076923066\"/><desc class=\"value\">24</desc><desc class=\"x centered\">407.3394530625301</desc><desc class=\"y centered\">80.0</desc></g></g></g><g class=\"series serie-4 color-4\"><g class=\"rects\"><g class=\"rect\"><rect class=\"rect reactive tooltip-trigger\" height=\"153.84615384615387\" width=\"23.834959219574614\" x=\"423.2294258755798\" y=\"3.076923076923066\"/><desc class=\"value\">18</desc><desc class=\"x centered\">435.14690548536714</desc><desc class=\"y centered\">80.0</desc></g></g></g><g class=\"series serie-5 color-5\"><g class=\"rects\"><g class=\"rect\"><rect class=\"rect reactive tooltip-trigger\" height=\"20.242914979757103\" width=\"50.31824724132406\" x=\"447.0643850951544\" y=\"136.68016194331983\"/><desc class=\"value\">5</desc><desc class=\"x centered\">472.2235087158165</desc><desc class=\"y centered\">146.80161943319837</desc></g><g class=\"rect\"><rect class=\"rect reactive tooltip-trigger\" height=\"12.145748987854248\" width=\"50.31824724132406\" x=\"447.0643850951544\" y=\"124.53441295546558\"/><desc class=\"value\">3</desc><desc class=\"x centered\">472.2235087158165</desc><desc class=\"y centered\">130.60728744939271</desc></g><g class=\"rect\"><rect class=\"rect reactive tooltip-trigger\" height=\"24.291497975708495\" width=\"50.31824724132406\" x=\"447.0643850951544\" y=\"100.24291497975709\"/><desc class=\"value\">6</desc><desc class=\"x centered\">472.2235087158165</desc><desc class=\"y centered\">112.38866396761134</desc></g><g class=\"rect\"><rect class=\"rect reactive tooltip-trigger\" height=\"97.16599190283402\" width=\"50.31824724132406\" x=\"447.0643850951544\" y=\"3.076923076923066\"/><desc class=\"value\">24</desc><desc class=\"x centered\">472.2235087158165</desc><desc class=\"y centered\">51.65991902834008</desc></g></g></g><g class=\"series serie-6 color-6\"><g class=\"rects\"><g class=\"rect\"><rect class=\"rect reactive tooltip-trigger\" height=\"79.56957975861569\" width=\"92.16881160200995\" x=\"497.3826323364785\" y=\"77.35349716446125\"/><desc class=\"value\">36</desc><desc class=\"x centered\">543.4670381374834</desc><desc class=\"y centered\">117.13828704376908</desc></g><g class=\"rect\"><rect class=\"rect reactive tooltip-trigger\" height=\"22.1026610440599\" width=\"92.16881160200995\" x=\"497.3826323364785\" y=\"55.250836120401345\"/><desc class=\"value\">10</desc><desc class=\"x centered\">543.4670381374834</desc><desc class=\"y centered\">66.3021666424313</desc></g><g class=\"rect\"><rect class=\"rect reactive tooltip-trigger\" height=\"101.67224080267559\" width=\"60.110094523050066\" x=\"589.5514439384884\" y=\"55.250836120401345\"/><desc class=\"value\">30</desc><desc class=\"x centered\">619.6064912000135</desc><desc class=\"y centered\">106.08695652173914</desc></g><g class=\"rect\"><rect class=\"rect reactive tooltip-trigger\" height=\"52.17391304347828\" width=\"42.95046070194002\" x=\"497.3826323364785\" y=\"3.076923076923066\"/><desc class=\"value\">11</desc><desc class=\"x centered\">518.8578626874485</desc><desc class=\"y centered\">29.163879598662206</desc></g><g class=\"rect\"><rect class=\"rect reactive tooltip-trigger\" height=\"52.17391304347828\" width=\"62.47339738463995\" x=\"540.3330930384185\" y=\"3.076923076923066\"/><desc class=\"value\">16</desc><desc class=\"x centered\">571.5697917307384</desc><desc class=\"y centered\">29.163879598662206</desc></g><g class=\"rect\"><rect class=\"rect reactive tooltip-trigger\" height=\"43.47826086956522\" width=\"46.85504803848005\" x=\"602.8064904230584\" y=\"11.772575250836127\"/><desc class=\"value\">10</desc><desc class=\"x centered\">626.2340144422985</desc><desc class=\"y centered\">33.511705685618736</desc></g><g class=\"rect\"><rect class=\"rect reactive tooltip-trigger\" height=\"8.69565217391306\" width=\"46.85504803848005\" x=\"602.8064904230584\" y=\"3.076923076923066\"/><desc class=\"value\">2</desc><desc class=\"x centered\">626.2340144422985</desc><desc class=\"y centered\">7.424749163879596</desc></g></g></g></g><g class=\"titles\"/><g class=\"plot overlay\" transform=\"translate(117, 20)\"><g class=\"series serie-0 color-0\"/><g class=\"series serie-1 color-1\"/><g class=\"series serie-2 color-2\"/><g class=\"series serie-3 color-3\"/><g class=\"series serie-4 color-4\"/><g class=\"series serie-5 color-5\"/><g class=\"series serie-6 color-6\"/></g><g class=\"plot text-overlay\" transform=\"translate(117, 20)\"><g class=\"series serie-0 color-0\"/><g class=\"series serie-1 color-1\"/><g class=\"series serie-2 color-2\"/><g class=\"series serie-3 color-3\"/><g class=\"series serie-4 color-4\"/><g class=\"series serie-5 color-5\"/><g class=\"series serie-6 color-6\"/></g><g class=\"plot tooltip-overlay\" transform=\"translate(117, 20)\"><g class=\"tooltip\" style=\"opacity: 0\" transform=\"translate(0 0)\"><rect class=\"tooltip-box\" height=\"0\" rx=\"0\" ry=\"0\" width=\"0\"/><g class=\"text\"/></g></g><g class=\"legends\" transform=\"translate(10, 30)\"><g class=\"legend reactive activate-serie\" id=\"activate-serie-0\"><rect class=\"color-0 reactive\" height=\"12\" width=\"12\" x=\"0.0\" y=\"1.0\"/><text x=\"17.0\" y=\"11.2\">jdbc</text></g><g class=\"legend reactive activate-serie\" id=\"activate-serie-1\"><rect class=\"color-1 reactive\" height=\"12\" width=\"12\" x=\"0.0\" y=\"22.0\"/><text x=\"17.0\" y=\"32.2\">jpa</text></g><g class=\"legend reactive activate-serie\" id=\"activate-serie-2\"><rect class=\"color-2 reactive\" height=\"12\" width=\"12\" x=\"0.0\" y=\"43.0\"/><text x=\"17.0\" y=\"53.2\">model</text></g><g class=\"legend reactive activate-serie\" id=\"activate-serie-3\"><rect class=\"color-3 reactive\" height=\"12\" width=\"12\" x=\"0.0\" y=\"64.0\"/><text x=\"17.0\" y=\"74.2\">petclinic</text></g><g class=\"legend reactive activate-serie\" id=\"activate-serie-4\"><rect class=\"color-4 reactive\" height=\"12\" width=\"12\" x=\"0.0\" y=\"85.0\"/><text x=\"17.0\" y=\"95.2\">service</text></g><g class=\"legend reactive activate-serie\" id=\"activate-serie-5\"><rect class=\"color-5 reactive\" height=\"12\" width=\"12\" x=\"0.0\" y=\"106.0\"/><text x=\"17.0\" y=\"116.2\">util</text></g><g class=\"legend reactive activate-serie\" id=\"activate-serie-6\"><rect class=\"color-6 reactive\" height=\"12\" width=\"12\" x=\"0.0\" y=\"127.0\"/><text x=\"17.0\" y=\"137.2\">web</text></g></g><g class=\"legends\" transform=\"translate(790, 30)\"/></g></svg>\n",
       "    </figure>\n",
       "  </body>\n",
       "</html>\n"
      ],
      "text/plain": [
       "<IPython.core.display.HTML object>"
      ]
     },
     "metadata": {},
     "output_type": "display_data"
    }
   ],
   "source": [
    "treemap = pygal.Treemap(height=200)\n",
    "[treemap.add(x[0], x[1]) for x in values_by_category.items()]\n",
    "display(HTML(base_html.format(rendered_chart=treemap.render(is_unicode=True))))"
   ]
  },
  {
   "cell_type": "markdown",
   "metadata": {},
   "source": [
    "BTW, we can easyly create an interactive HTML version by calling the `render_in_browser()`."
   ]
  },
  {
   "cell_type": "markdown",
   "metadata": {},
   "source": [
    "But what you might have been noticing is that the labels on a mousehover actions don't show the actual class name but rather the name of the category. Instead of passing a list of values, we need to differentiate between the actual value and the corresponding label for each value. We can do this by passing an appropriate dictionary.\n",
    "\n",
    "\n",
    "```python\n",
    "chart.add('category', [{'value' : 1, 'label': 'one'}, {'value': 2, 'label': 'two'}])\n",
    "```\n",
    "\n",
    "Let's fix this with another trick."
   ]
  },
  {
   "cell_type": "code",
   "execution_count": 10,
   "metadata": {},
   "outputs": [
    {
     "data": {
      "text/plain": [
       "category\n",
       "jdbc         [{'value': 7, 'label': 'org.springframework.sa...\n",
       "jpa          [{'value': 8, 'label': 'org.springframework.sa...\n",
       "model        [{'value': 5, 'label': 'org.springframework.sa...\n",
       "petclinic    [{'value': 24, 'label': 'org.springframework.s...\n",
       "service      [{'value': 18, 'label': 'org.springframework.s...\n",
       "util         [{'value': 5, 'label': 'org.springframework.sa...\n",
       "web          [{'value': 36, 'label': 'org.springframework.s...\n",
       "dtype: object"
      ]
     },
     "execution_count": 10,
     "metadata": {},
     "output_type": "execute_result"
    }
   ],
   "source": [
    "class_values_by_category = df.groupby(['category'], axis=0).apply(\n",
    "    lambda x : [{\"value\" : y, \"label\" : z } for y, z in zip(x['lines'], x['class'])])\n",
    "class_values_by_category"
   ]
  },
  {
   "cell_type": "markdown",
   "metadata": {},
   "source": [
    "If we generate the treemap once again, you can spot the difference in the visualization by hovering over the tiles with your pointing device."
   ]
  },
  {
   "cell_type": "code",
   "execution_count": 11,
   "metadata": {},
   "outputs": [
    {
     "data": {
      "text/html": [
       "\n",
       "<!DOCTYPE html>\n",
       "<html>\n",
       "  <head>\n",
       "  <script type=\"text/javascript\" src=\"http://kozea.github.com/pygal.js/javascripts/svg.jquery.js\"></script>\n",
       "  <script type=\"text/javascript\" src=\"https://kozea.github.io/pygal.js/2.0.x/pygal-tooltips.min.js\"\"></script>\n",
       "  </head>\n",
       "  <body>\n",
       "    <figure>\n",
       "      <?xml version='1.0' encoding='utf-8'?>\n",
       "<svg xmlns:xlink=\"http://www.w3.org/1999/xlink\" xmlns=\"http://www.w3.org/2000/svg\" id=\"chart-7f20bbd1-be2f-471d-8c57-b20b1c0f9d72\" class=\"pygal-chart\" viewBox=\"0 0 800 200\"><!--Generated with pygal 2.4.0 (lxml) ©Kozea 2012-2016 on 2019-03-14--><!--http://pygal.org--><!--http://github.com/Kozea/pygal--><defs><style type=\"text/css\">#chart-7f20bbd1-be2f-471d-8c57-b20b1c0f9d72{-webkit-user-select:none;-webkit-font-smoothing:antialiased;font-family:Consolas,\"Liberation Mono\",Menlo,Courier,monospace}#chart-7f20bbd1-be2f-471d-8c57-b20b1c0f9d72 .title{font-family:Consolas,\"Liberation Mono\",Menlo,Courier,monospace;font-size:16px}#chart-7f20bbd1-be2f-471d-8c57-b20b1c0f9d72 .legends .legend text{font-family:Consolas,\"Liberation Mono\",Menlo,Courier,monospace;font-size:14px}#chart-7f20bbd1-be2f-471d-8c57-b20b1c0f9d72 .axis text{font-family:Consolas,\"Liberation Mono\",Menlo,Courier,monospace;font-size:10px}#chart-7f20bbd1-be2f-471d-8c57-b20b1c0f9d72 .axis text.major{font-family:Consolas,\"Liberation Mono\",Menlo,Courier,monospace;font-size:10px}#chart-7f20bbd1-be2f-471d-8c57-b20b1c0f9d72 .text-overlay text.value{font-family:Consolas,\"Liberation Mono\",Menlo,Courier,monospace;font-size:16px}#chart-7f20bbd1-be2f-471d-8c57-b20b1c0f9d72 .text-overlay text.label{font-family:Consolas,\"Liberation Mono\",Menlo,Courier,monospace;font-size:10px}#chart-7f20bbd1-be2f-471d-8c57-b20b1c0f9d72 .tooltip{font-family:Consolas,\"Liberation Mono\",Menlo,Courier,monospace;font-size:14px}#chart-7f20bbd1-be2f-471d-8c57-b20b1c0f9d72 text.no_data{font-family:Consolas,\"Liberation Mono\",Menlo,Courier,monospace;font-size:64px}\n",
       "#chart-7f20bbd1-be2f-471d-8c57-b20b1c0f9d72{background-color:rgba(249,249,249,1)}#chart-7f20bbd1-be2f-471d-8c57-b20b1c0f9d72 path,#chart-7f20bbd1-be2f-471d-8c57-b20b1c0f9d72 line,#chart-7f20bbd1-be2f-471d-8c57-b20b1c0f9d72 rect,#chart-7f20bbd1-be2f-471d-8c57-b20b1c0f9d72 circle{-webkit-transition:150ms;-moz-transition:150ms;transition:150ms}#chart-7f20bbd1-be2f-471d-8c57-b20b1c0f9d72 .graph &gt; .background{fill:rgba(249,249,249,1)}#chart-7f20bbd1-be2f-471d-8c57-b20b1c0f9d72 .plot &gt; .background{fill:rgba(255,255,255,1)}#chart-7f20bbd1-be2f-471d-8c57-b20b1c0f9d72 .graph{fill:rgba(0,0,0,.87)}#chart-7f20bbd1-be2f-471d-8c57-b20b1c0f9d72 text.no_data{fill:rgba(0,0,0,1)}#chart-7f20bbd1-be2f-471d-8c57-b20b1c0f9d72 .title{fill:rgba(0,0,0,1)}#chart-7f20bbd1-be2f-471d-8c57-b20b1c0f9d72 .legends .legend text{fill:rgba(0,0,0,.87)}#chart-7f20bbd1-be2f-471d-8c57-b20b1c0f9d72 .legends .legend:hover text{fill:rgba(0,0,0,1)}#chart-7f20bbd1-be2f-471d-8c57-b20b1c0f9d72 .axis .line{stroke:rgba(0,0,0,1)}#chart-7f20bbd1-be2f-471d-8c57-b20b1c0f9d72 .axis .guide.line{stroke:rgba(0,0,0,.54)}#chart-7f20bbd1-be2f-471d-8c57-b20b1c0f9d72 .axis .major.line{stroke:rgba(0,0,0,.87)}#chart-7f20bbd1-be2f-471d-8c57-b20b1c0f9d72 .axis text.major{fill:rgba(0,0,0,1)}#chart-7f20bbd1-be2f-471d-8c57-b20b1c0f9d72 .axis.y .guides:hover .guide.line,#chart-7f20bbd1-be2f-471d-8c57-b20b1c0f9d72 .line-graph .axis.x .guides:hover .guide.line,#chart-7f20bbd1-be2f-471d-8c57-b20b1c0f9d72 .stackedline-graph .axis.x .guides:hover .guide.line,#chart-7f20bbd1-be2f-471d-8c57-b20b1c0f9d72 .xy-graph .axis.x .guides:hover .guide.line{stroke:rgba(0,0,0,1)}#chart-7f20bbd1-be2f-471d-8c57-b20b1c0f9d72 .axis .guides:hover text{fill:rgba(0,0,0,1)}#chart-7f20bbd1-be2f-471d-8c57-b20b1c0f9d72 .reactive{fill-opacity:.7;stroke-opacity:.8}#chart-7f20bbd1-be2f-471d-8c57-b20b1c0f9d72 .ci{stroke:rgba(0,0,0,.87)}#chart-7f20bbd1-be2f-471d-8c57-b20b1c0f9d72 .reactive.active,#chart-7f20bbd1-be2f-471d-8c57-b20b1c0f9d72 .active .reactive{fill-opacity:.8;stroke-opacity:.9;stroke-width:4}#chart-7f20bbd1-be2f-471d-8c57-b20b1c0f9d72 .ci .reactive.active{stroke-width:1.5}#chart-7f20bbd1-be2f-471d-8c57-b20b1c0f9d72 .series text{fill:rgba(0,0,0,1)}#chart-7f20bbd1-be2f-471d-8c57-b20b1c0f9d72 .tooltip rect{fill:rgba(255,255,255,1);stroke:rgba(0,0,0,1);-webkit-transition:opacity 150ms;-moz-transition:opacity 150ms;transition:opacity 150ms}#chart-7f20bbd1-be2f-471d-8c57-b20b1c0f9d72 .tooltip .label{fill:rgba(0,0,0,.87)}#chart-7f20bbd1-be2f-471d-8c57-b20b1c0f9d72 .tooltip .label{fill:rgba(0,0,0,.87)}#chart-7f20bbd1-be2f-471d-8c57-b20b1c0f9d72 .tooltip .legend{font-size:.8em;fill:rgba(0,0,0,.54)}#chart-7f20bbd1-be2f-471d-8c57-b20b1c0f9d72 .tooltip .x_label{font-size:.6em;fill:rgba(0,0,0,1)}#chart-7f20bbd1-be2f-471d-8c57-b20b1c0f9d72 .tooltip .xlink{font-size:.5em;text-decoration:underline}#chart-7f20bbd1-be2f-471d-8c57-b20b1c0f9d72 .tooltip .value{font-size:1.5em}#chart-7f20bbd1-be2f-471d-8c57-b20b1c0f9d72 .bound{font-size:.5em}#chart-7f20bbd1-be2f-471d-8c57-b20b1c0f9d72 .max-value{font-size:.75em;fill:rgba(0,0,0,.54)}#chart-7f20bbd1-be2f-471d-8c57-b20b1c0f9d72 .map-element{fill:rgba(255,255,255,1);stroke:rgba(0,0,0,.54) !important}#chart-7f20bbd1-be2f-471d-8c57-b20b1c0f9d72 .map-element .reactive{fill-opacity:inherit;stroke-opacity:inherit}#chart-7f20bbd1-be2f-471d-8c57-b20b1c0f9d72 .color-0,#chart-7f20bbd1-be2f-471d-8c57-b20b1c0f9d72 .color-0 a:visited{stroke:#F44336;fill:#F44336}#chart-7f20bbd1-be2f-471d-8c57-b20b1c0f9d72 .color-1,#chart-7f20bbd1-be2f-471d-8c57-b20b1c0f9d72 .color-1 a:visited{stroke:#3F51B5;fill:#3F51B5}#chart-7f20bbd1-be2f-471d-8c57-b20b1c0f9d72 .color-2,#chart-7f20bbd1-be2f-471d-8c57-b20b1c0f9d72 .color-2 a:visited{stroke:#009688;fill:#009688}#chart-7f20bbd1-be2f-471d-8c57-b20b1c0f9d72 .color-3,#chart-7f20bbd1-be2f-471d-8c57-b20b1c0f9d72 .color-3 a:visited{stroke:#FFC107;fill:#FFC107}#chart-7f20bbd1-be2f-471d-8c57-b20b1c0f9d72 .color-4,#chart-7f20bbd1-be2f-471d-8c57-b20b1c0f9d72 .color-4 a:visited{stroke:#FF5722;fill:#FF5722}#chart-7f20bbd1-be2f-471d-8c57-b20b1c0f9d72 .color-5,#chart-7f20bbd1-be2f-471d-8c57-b20b1c0f9d72 .color-5 a:visited{stroke:#9C27B0;fill:#9C27B0}#chart-7f20bbd1-be2f-471d-8c57-b20b1c0f9d72 .color-6,#chart-7f20bbd1-be2f-471d-8c57-b20b1c0f9d72 .color-6 a:visited{stroke:#03A9F4;fill:#03A9F4}#chart-7f20bbd1-be2f-471d-8c57-b20b1c0f9d72 .text-overlay .color-0 text{fill:black}#chart-7f20bbd1-be2f-471d-8c57-b20b1c0f9d72 .text-overlay .color-1 text{fill:black}#chart-7f20bbd1-be2f-471d-8c57-b20b1c0f9d72 .text-overlay .color-2 text{fill:black}#chart-7f20bbd1-be2f-471d-8c57-b20b1c0f9d72 .text-overlay .color-3 text{fill:black}#chart-7f20bbd1-be2f-471d-8c57-b20b1c0f9d72 .text-overlay .color-4 text{fill:black}#chart-7f20bbd1-be2f-471d-8c57-b20b1c0f9d72 .text-overlay .color-5 text{fill:black}#chart-7f20bbd1-be2f-471d-8c57-b20b1c0f9d72 .text-overlay .color-6 text{fill:black}\n",
       "#chart-7f20bbd1-be2f-471d-8c57-b20b1c0f9d72 text.no_data{text-anchor:middle}#chart-7f20bbd1-be2f-471d-8c57-b20b1c0f9d72 .guide.line{fill:none}#chart-7f20bbd1-be2f-471d-8c57-b20b1c0f9d72 .centered{text-anchor:middle}#chart-7f20bbd1-be2f-471d-8c57-b20b1c0f9d72 .title{text-anchor:middle}#chart-7f20bbd1-be2f-471d-8c57-b20b1c0f9d72 .legends .legend text{fill-opacity:1}#chart-7f20bbd1-be2f-471d-8c57-b20b1c0f9d72 .axis.x text{text-anchor:middle}#chart-7f20bbd1-be2f-471d-8c57-b20b1c0f9d72 .axis.x:not(.web) text[transform]{text-anchor:start}#chart-7f20bbd1-be2f-471d-8c57-b20b1c0f9d72 .axis.x:not(.web) text[transform].backwards{text-anchor:end}#chart-7f20bbd1-be2f-471d-8c57-b20b1c0f9d72 .axis.y text{text-anchor:end}#chart-7f20bbd1-be2f-471d-8c57-b20b1c0f9d72 .axis.y text[transform].backwards{text-anchor:start}#chart-7f20bbd1-be2f-471d-8c57-b20b1c0f9d72 .axis.y2 text{text-anchor:start}#chart-7f20bbd1-be2f-471d-8c57-b20b1c0f9d72 .axis.y2 text[transform].backwards{text-anchor:end}#chart-7f20bbd1-be2f-471d-8c57-b20b1c0f9d72 .axis .guide.line{stroke-dasharray:4,4}#chart-7f20bbd1-be2f-471d-8c57-b20b1c0f9d72 .axis .major.guide.line{stroke-dasharray:6,6}#chart-7f20bbd1-be2f-471d-8c57-b20b1c0f9d72 .horizontal .axis.y .guide.line,#chart-7f20bbd1-be2f-471d-8c57-b20b1c0f9d72 .horizontal .axis.y2 .guide.line,#chart-7f20bbd1-be2f-471d-8c57-b20b1c0f9d72 .vertical .axis.x .guide.line{opacity:0}#chart-7f20bbd1-be2f-471d-8c57-b20b1c0f9d72 .horizontal .axis.always_show .guide.line,#chart-7f20bbd1-be2f-471d-8c57-b20b1c0f9d72 .vertical .axis.always_show .guide.line{opacity:1 !important}#chart-7f20bbd1-be2f-471d-8c57-b20b1c0f9d72 .axis.y .guides:hover .guide.line,#chart-7f20bbd1-be2f-471d-8c57-b20b1c0f9d72 .axis.y2 .guides:hover .guide.line,#chart-7f20bbd1-be2f-471d-8c57-b20b1c0f9d72 .axis.x .guides:hover .guide.line{opacity:1}#chart-7f20bbd1-be2f-471d-8c57-b20b1c0f9d72 .axis .guides:hover text{opacity:1}#chart-7f20bbd1-be2f-471d-8c57-b20b1c0f9d72 .nofill{fill:none}#chart-7f20bbd1-be2f-471d-8c57-b20b1c0f9d72 .subtle-fill{fill-opacity:.2}#chart-7f20bbd1-be2f-471d-8c57-b20b1c0f9d72 .dot{stroke-width:1px;fill-opacity:1}#chart-7f20bbd1-be2f-471d-8c57-b20b1c0f9d72 .dot.active{stroke-width:5px}#chart-7f20bbd1-be2f-471d-8c57-b20b1c0f9d72 .dot.negative{fill:transparent}#chart-7f20bbd1-be2f-471d-8c57-b20b1c0f9d72 text,#chart-7f20bbd1-be2f-471d-8c57-b20b1c0f9d72 tspan{stroke:none !important}#chart-7f20bbd1-be2f-471d-8c57-b20b1c0f9d72 .series text.active{opacity:1}#chart-7f20bbd1-be2f-471d-8c57-b20b1c0f9d72 .tooltip rect{fill-opacity:.95;stroke-width:.5}#chart-7f20bbd1-be2f-471d-8c57-b20b1c0f9d72 .tooltip text{fill-opacity:1}#chart-7f20bbd1-be2f-471d-8c57-b20b1c0f9d72 .showable{visibility:hidden}#chart-7f20bbd1-be2f-471d-8c57-b20b1c0f9d72 .showable.shown{visibility:visible}#chart-7f20bbd1-be2f-471d-8c57-b20b1c0f9d72 .gauge-background{fill:rgba(229,229,229,1);stroke:none}#chart-7f20bbd1-be2f-471d-8c57-b20b1c0f9d72 .bg-lines{stroke:rgba(249,249,249,1);stroke-width:2px}</style><script type=\"text/javascript\">window.pygal = window.pygal || {};window.pygal.config = window.pygal.config || {};window.pygal.config['7f20bbd1-be2f-471d-8c57-b20b1c0f9d72'] = {\"allow_interruptions\": false, \"box_mode\": \"extremes\", \"classes\": [\"pygal-chart\"], \"css\": [\"file://style.css\", \"file://graph.css\"], \"defs\": [], \"disable_xml_declaration\": false, \"dots_size\": 2.5, \"dynamic_print_values\": false, \"explicit_size\": false, \"fill\": false, \"force_uri_protocol\": \"https\", \"formatter\": null, \"half_pie\": false, \"height\": 200, \"include_x_axis\": false, \"inner_radius\": 0, \"interpolate\": null, \"interpolation_parameters\": {}, \"interpolation_precision\": 250, \"inverse_y_axis\": false, \"js\": [\"//kozea.github.io/pygal.js/2.0.x/pygal-tooltips.min.js\"], \"legend_at_bottom\": false, \"legend_at_bottom_columns\": null, \"legend_box_size\": 12, \"logarithmic\": false, \"margin\": 20, \"margin_bottom\": null, \"margin_left\": null, \"margin_right\": null, \"margin_top\": null, \"max_scale\": 16, \"min_scale\": 4, \"missing_value_fill_truncation\": \"x\", \"no_data_text\": \"No data\", \"no_prefix\": false, \"order_min\": null, \"pretty_print\": false, \"print_labels\": false, \"print_values\": false, \"print_values_position\": \"center\", \"print_zeroes\": true, \"range\": null, \"rounded_bars\": null, \"secondary_range\": null, \"show_dots\": true, \"show_legend\": true, \"show_minor_x_labels\": true, \"show_minor_y_labels\": true, \"show_only_major_dots\": false, \"show_x_guides\": false, \"show_x_labels\": true, \"show_y_guides\": true, \"show_y_labels\": true, \"spacing\": 10, \"stack_from_top\": false, \"strict\": false, \"stroke\": true, \"stroke_style\": null, \"style\": {\"background\": \"rgba(249, 249, 249, 1)\", \"ci_colors\": [], \"colors\": [\"#F44336\", \"#3F51B5\", \"#009688\", \"#FFC107\", \"#FF5722\", \"#9C27B0\", \"#03A9F4\", \"#8BC34A\", \"#FF9800\", \"#E91E63\", \"#2196F3\", \"#4CAF50\", \"#FFEB3B\", \"#673AB7\", \"#00BCD4\", \"#CDDC39\", \"#9E9E9E\", \"#607D8B\"], \"font_family\": \"Consolas, \\\"Liberation Mono\\\", Menlo, Courier, monospace\", \"foreground\": \"rgba(0, 0, 0, .87)\", \"foreground_strong\": \"rgba(0, 0, 0, 1)\", \"foreground_subtle\": \"rgba(0, 0, 0, .54)\", \"guide_stroke_dasharray\": \"4,4\", \"label_font_family\": \"Consolas, \\\"Liberation Mono\\\", Menlo, Courier, monospace\", \"label_font_size\": 10, \"legend_font_family\": \"Consolas, \\\"Liberation Mono\\\", Menlo, Courier, monospace\", \"legend_font_size\": 14, \"major_guide_stroke_dasharray\": \"6,6\", \"major_label_font_family\": \"Consolas, \\\"Liberation Mono\\\", Menlo, Courier, monospace\", \"major_label_font_size\": 10, \"no_data_font_family\": \"Consolas, \\\"Liberation Mono\\\", Menlo, Courier, monospace\", \"no_data_font_size\": 64, \"opacity\": \".7\", \"opacity_hover\": \".8\", \"plot_background\": \"rgba(255, 255, 255, 1)\", \"stroke_opacity\": \".8\", \"stroke_opacity_hover\": \".9\", \"title_font_family\": \"Consolas, \\\"Liberation Mono\\\", Menlo, Courier, monospace\", \"title_font_size\": 16, \"tooltip_font_family\": \"Consolas, \\\"Liberation Mono\\\", Menlo, Courier, monospace\", \"tooltip_font_size\": 14, \"transition\": \"150ms\", \"value_background\": \"rgba(229, 229, 229, 1)\", \"value_colors\": [], \"value_font_family\": \"Consolas, \\\"Liberation Mono\\\", Menlo, Courier, monospace\", \"value_font_size\": 16, \"value_label_font_family\": \"Consolas, \\\"Liberation Mono\\\", Menlo, Courier, monospace\", \"value_label_font_size\": 10}, \"title\": null, \"tooltip_border_radius\": 0, \"tooltip_fancy_mode\": true, \"truncate_label\": null, \"truncate_legend\": null, \"width\": 800, \"x_label_rotation\": 0, \"x_labels\": null, \"x_labels_major\": null, \"x_labels_major_count\": null, \"x_labels_major_every\": null, \"x_title\": null, \"xrange\": null, \"y_label_rotation\": 0, \"y_labels\": null, \"y_labels_major\": null, \"y_labels_major_count\": null, \"y_labels_major_every\": null, \"y_title\": null, \"zero\": 0, \"legends\": [\"jdbc\", \"jpa\", \"model\", \"petclinic\", \"service\", \"util\", \"web\"]}</script><script type=\"text/javascript\" xlink:href=\"https://kozea.github.io/pygal.js/2.0.x/pygal-tooltips.min.js\"/></defs><title>Pygal</title><g class=\"graph treemap-graph vertical\"><rect class=\"background\" height=\"200\" width=\"800\" x=\"0\" y=\"0\"/><g class=\"plot\" transform=\"translate(117, 20)\"><rect class=\"background\" height=\"160\" width=\"662.4\" x=\"0\" y=\"0\"/><g class=\"series serie-0 color-0\"><g class=\"rects\"><g class=\"rect\"><desc class=\"label\">org.springframework.samples.petclinic.repository.jdbc.JdbcVisitRowMapper</desc><rect class=\"rect reactive tooltip-trigger\" height=\"16.680602006688986\" width=\"85.48991221056\" x=\"12.73846153846154\" y=\"140.24247491638795\"/><desc class=\"value\">7</desc><desc class=\"x centered\">55.48341764374153</desc><desc class=\"y centered\">148.58277591973246</desc></g><g class=\"rect\"><desc class=\"label\">org.springframework.samples.petclinic.repository.jdbc.JdbcPetRepositoryImpl</desc><rect class=\"rect reactive tooltip-trigger\" height=\"78.63712374581938\" width=\"85.48991221056\" x=\"12.73846153846154\" y=\"61.60535117056857\"/><desc class=\"value\">33</desc><desc class=\"x centered\">55.48341764374153</desc><desc class=\"y centered\">100.92391304347825</desc></g><g class=\"rect\"><desc class=\"label\">org.springframework.samples.petclinic.repository.jdbc.JdbcVetRepositoryImpl</desc><rect class=\"rect reactive tooltip-trigger\" height=\"95.31772575250837\" width=\"36.33321268948802\" x=\"98.22837374902153\" y=\"61.60535117056857\"/><desc class=\"value\">17</desc><desc class=\"x centered\">116.39498009376554</desc><desc class=\"y centered\">109.26421404682276</desc></g><g class=\"rect\"><desc class=\"label\">org.springframework.samples.petclinic.repository.jdbc.JdbcPetRowMapper</desc><rect class=\"rect reactive tooltip-trigger\" height=\"58.5284280936455\" width=\"31.32594640286948\" x=\"12.73846153846154\" y=\"3.076923076923066\"/><desc class=\"value\">9</desc><desc class=\"x centered\">28.40143473989628</desc><desc class=\"y centered\">32.34113712374582</desc></g><g class=\"rect\"><desc class=\"label\">org.springframework.samples.petclinic.repository.jdbc.JdbcVisitRepositoryImpl</desc><rect class=\"rect reactive tooltip-trigger\" height=\"58.5284280936455\" width=\"90.49717849717854\" x=\"44.06440794133102\" y=\"3.076923076923066\"/><desc class=\"value\">26</desc><desc class=\"x centered\">89.31299718992028</desc><desc class=\"y centered\">32.34113712374582</desc></g><g class=\"rect\"><desc class=\"label\">org.springframework.samples.petclinic.repository.jdbc.JdbcPet</desc><rect class=\"rect reactive tooltip-trigger\" height=\"18.567639257294445\" width=\"76.80153526307373\" x=\"134.56158643850955\" y=\"138.3554376657825\"/><desc class=\"value\">7</desc><desc class=\"x centered\">172.96235407004642</desc><desc class=\"y centered\">147.6392572944297</desc></g><g class=\"rect\"><desc class=\"label\">org.springframework.samples.petclinic.repository.jdbc.JdbcPetVisitExtractor</desc><rect class=\"rect reactive tooltip-trigger\" height=\"21.220159151193627\" width=\"76.80153526307373\" x=\"134.56158643850955\" y=\"117.13527851458886\"/><desc class=\"value\">8</desc><desc class=\"x centered\">172.96235407004642</desc><desc class=\"y centered\">127.74535809018568</desc></g><g class=\"rect\"><desc class=\"label\">org.springframework.samples.petclinic.repository.jdbc.JdbcOwnerRepositoryImpl</desc><rect class=\"rect reactive tooltip-trigger\" height=\"114.0583554376658\" width=\"76.80153526307373\" x=\"134.56158643850955\" y=\"3.076923076923066\"/><desc class=\"value\">43</desc><desc class=\"x centered\">172.96235407004642</desc><desc class=\"y centered\">60.106100795755964</desc></g></g></g><g class=\"series serie-1 color-1\"><g class=\"rects\"><g class=\"rect\"><desc class=\"label\">org.springframework.samples.petclinic.repository.jpa.JpaVisitRepositoryImpl</desc><rect class=\"rect reactive tooltip-trigger\" height=\"43.95604395604397\" width=\"37.07660323044942\" x=\"211.36312170158328\" y=\"112.96703296703296\"/><desc class=\"value\">8</desc><desc class=\"x centered\">229.901423316808</desc><desc class=\"y centered\">134.94505494505495</desc></g><g class=\"rect\"><desc class=\"label\">org.springframework.samples.petclinic.repository.jpa.JpaOwnerRepositoryImpl</desc><rect class=\"rect reactive tooltip-trigger\" height=\"60.43956043956044\" width=\"37.07660323044942\" x=\"211.36312170158328\" y=\"52.527472527472526\"/><desc class=\"value\">11</desc><desc class=\"x centered\">229.901423316808</desc><desc class=\"y centered\">82.74725274725274</desc></g><g class=\"rect\"><desc class=\"label\">org.springframework.samples.petclinic.repository.jpa.JpaVetRepositoryImpl</desc><rect class=\"rect reactive tooltip-trigger\" height=\"10.989010989010993\" width=\"37.07660323044942\" x=\"211.36312170158328\" y=\"41.53846153846153\"/><desc class=\"value\">2</desc><desc class=\"x centered\">229.901423316808</desc><desc class=\"y centered\">47.03296703296703</desc></g><g class=\"rect\"><desc class=\"label\">org.springframework.samples.petclinic.repository.jpa.JpaPetRepositoryImpl</desc><rect class=\"rect reactive tooltip-trigger\" height=\"38.46153846153844\" width=\"37.07660323044942\" x=\"211.36312170158328\" y=\"3.0769230769230944\"/><desc class=\"value\">7</desc><desc class=\"x centered\">229.901423316808</desc><desc class=\"y centered\">22.307692307692314</desc></g></g></g><g class=\"series serie-2 color-2\"><g class=\"rects\"><g class=\"rect\"><desc class=\"label\">org.springframework.samples.petclinic.model.NamedEntity</desc><rect class=\"rect reactive tooltip-trigger\" height=\"106.83760683760684\" width=\"9.53398368782976\" x=\"248.4397249320327\" y=\"50.08547008547009\"/><desc class=\"value\">5</desc><desc class=\"x centered\">253.2067167759476</desc><desc class=\"y centered\">103.50427350427351</desc></g><g class=\"rect\"><desc class=\"label\">org.springframework.samples.petclinic.model.Specialty</desc><rect class=\"rect reactive tooltip-trigger\" height=\"106.83760683760684\" width=\"1.906796737566026\" x=\"257.97370861986246\" y=\"50.08547008547009\"/><desc class=\"value\">1</desc><desc class=\"x centered\">258.9271069886455</desc><desc class=\"y centered\">103.50427350427351</desc></g><g class=\"rect\"><desc class=\"label\">org.springframework.samples.petclinic.model.PetType</desc><rect class=\"rect reactive tooltip-trigger\" height=\"106.83760683760684\" width=\"1.9067967375659691\" x=\"259.8805053574285\" y=\"50.08547008547009\"/><desc class=\"value\">1</desc><desc class=\"x centered\">260.8339037262115</desc><desc class=\"y centered\">103.50427350427351</desc></g><g class=\"rect\"><desc class=\"label\">org.springframework.samples.petclinic.model.Vets</desc><rect class=\"rect reactive tooltip-trigger\" height=\"106.83760683760684\" width=\"7.62718695026382\" x=\"261.78730209499446\" y=\"50.08547008547009\"/><desc class=\"value\">4</desc><desc class=\"x centered\">265.60089557012634</desc><desc class=\"y centered\">103.50427350427351</desc></g><g class=\"rect\"><desc class=\"label\">org.springframework.samples.petclinic.model.Visit</desc><rect class=\"rect reactive tooltip-trigger\" height=\"106.83760683760684\" width=\"22.88156085079163\" x=\"269.4144890452583\" y=\"50.08547008547009\"/><desc class=\"value\">12</desc><desc class=\"x centered\">280.8552694706541</desc><desc class=\"y centered\">103.50427350427351</desc></g><g class=\"rect\"><desc class=\"label\">org.springframework.samples.petclinic.model.BaseEntity</desc><rect class=\"rect reactive tooltip-trigger\" height=\"10.27284681130837\" width=\"99.1534303534304\" x=\"292.2960498960499\" y=\"146.65023011176856\"/><desc class=\"value\">5</desc><desc class=\"x centered\">341.8727650727651</desc><desc class=\"y centered\">151.78665351742274</desc></g><g class=\"rect\"><desc class=\"label\">org.springframework.samples.petclinic.model.Person</desc><rect class=\"rect reactive tooltip-trigger\" height=\"96.56476002629847\" width=\"14.767532180298133\" x=\"292.2960498960499\" y=\"50.08547008547009\"/><desc class=\"value\">7</desc><desc class=\"x centered\">299.67981598619895</desc><desc class=\"y centered\">98.36785009861933</desc></g><g class=\"rect\"><desc class=\"label\">org.springframework.samples.petclinic.model.Owner</desc><rect class=\"rect reactive tooltip-trigger\" height=\"96.56476002629847\" width=\"84.38589817313226\" x=\"307.06358207634804\" y=\"50.08547008547009\"/><desc class=\"value\">40</desc><desc class=\"x centered\">349.25653116291414</desc><desc class=\"y centered\">98.36785009861933</desc></g><g class=\"rect\"><desc class=\"label\">org.springframework.samples.petclinic.model.Pet</desc><rect class=\"rect reactive tooltip-trigger\" height=\"47.008547008547026\" width=\"91.0062079292849\" x=\"248.4397249320327\" y=\"3.076923076923066\"/><desc class=\"value\">21</desc><desc class=\"x centered\">293.94282889667517</desc><desc class=\"y centered\">26.58119658119658</desc></g><g class=\"rect\"><desc class=\"label\">org.springframework.samples.petclinic.model.Vet</desc><rect class=\"rect reactive tooltip-trigger\" height=\"47.008547008547026\" width=\"52.0035473881627\" x=\"339.4459328613176\" y=\"3.076923076923066\"/><desc class=\"value\">12</desc><desc class=\"x centered\">365.44770655539895</desc><desc class=\"y centered\">26.58119658119658</desc></g></g></g><g class=\"series serie-3 color-3\"><g class=\"rects\"><g class=\"rect\"><desc class=\"label\">org.springframework.samples.petclinic.PetclinicInitializer</desc><rect class=\"rect reactive tooltip-trigger\" height=\"153.84615384615387\" width=\"31.779945626099504\" x=\"391.4494802494803\" y=\"3.076923076923066\"/><desc class=\"value\">24</desc><desc class=\"x centered\">407.3394530625301</desc><desc class=\"y centered\">80.0</desc></g></g></g><g class=\"series serie-4 color-4\"><g class=\"rects\"><g class=\"rect\"><desc class=\"label\">org.springframework.samples.petclinic.service.ClinicServiceImpl</desc><rect class=\"rect reactive tooltip-trigger\" height=\"153.84615384615387\" width=\"23.834959219574614\" x=\"423.2294258755798\" y=\"3.076923076923066\"/><desc class=\"value\">18</desc><desc class=\"x centered\">435.14690548536714</desc><desc class=\"y centered\">80.0</desc></g></g></g><g class=\"series serie-5 color-5\"><g class=\"rects\"><g class=\"rect\"><desc class=\"label\">org.springframework.samples.petclinic.util.BrokenSingleton</desc><rect class=\"rect reactive tooltip-trigger\" height=\"20.242914979757103\" width=\"50.31824724132406\" x=\"447.0643850951544\" y=\"136.68016194331983\"/><desc class=\"value\">5</desc><desc class=\"x centered\">472.2235087158165</desc><desc class=\"y centered\">146.80161943319837</desc></g><g class=\"rect\"><desc class=\"label\">org.springframework.samples.petclinic.util.Database</desc><rect class=\"rect reactive tooltip-trigger\" height=\"12.145748987854248\" width=\"50.31824724132406\" x=\"447.0643850951544\" y=\"124.53441295546558\"/><desc class=\"value\">3</desc><desc class=\"x centered\">472.2235087158165</desc><desc class=\"y centered\">130.60728744939271</desc></g><g class=\"rect\"><desc class=\"label\">org.springframework.samples.petclinic.util.EntityUtils</desc><rect class=\"rect reactive tooltip-trigger\" height=\"24.291497975708495\" width=\"50.31824724132406\" x=\"447.0643850951544\" y=\"100.24291497975709\"/><desc class=\"value\">6</desc><desc class=\"x centered\">472.2235087158165</desc><desc class=\"y centered\">112.38866396761134</desc></g><g class=\"rect\"><desc class=\"label\">org.springframework.samples.petclinic.util.CallMonitoringAspect</desc><rect class=\"rect reactive tooltip-trigger\" height=\"97.16599190283402\" width=\"50.31824724132406\" x=\"447.0643850951544\" y=\"3.076923076923066\"/><desc class=\"value\">24</desc><desc class=\"x centered\">472.2235087158165</desc><desc class=\"y centered\">51.65991902834008</desc></g></g></g><g class=\"series serie-6 color-6\"><g class=\"rects\"><g class=\"rect\"><desc class=\"label\">org.springframework.samples.petclinic.web.OwnerController</desc><rect class=\"rect reactive tooltip-trigger\" height=\"79.56957975861569\" width=\"92.16881160200995\" x=\"497.3826323364785\" y=\"77.35349716446125\"/><desc class=\"value\">36</desc><desc class=\"x centered\">543.4670381374834</desc><desc class=\"y centered\">117.13828704376908</desc></g><g class=\"rect\"><desc class=\"label\">org.springframework.samples.petclinic.web.PetTypeFormatter</desc><rect class=\"rect reactive tooltip-trigger\" height=\"22.1026610440599\" width=\"92.16881160200995\" x=\"497.3826323364785\" y=\"55.250836120401345\"/><desc class=\"value\">10</desc><desc class=\"x centered\">543.4670381374834</desc><desc class=\"y centered\">66.3021666424313</desc></g><g class=\"rect\"><desc class=\"label\">org.springframework.samples.petclinic.web.PetController</desc><rect class=\"rect reactive tooltip-trigger\" height=\"101.67224080267559\" width=\"60.110094523050066\" x=\"589.5514439384884\" y=\"55.250836120401345\"/><desc class=\"value\">30</desc><desc class=\"x centered\">619.6064912000135</desc><desc class=\"y centered\">106.08695652173914</desc></g><g class=\"rect\"><desc class=\"label\">org.springframework.samples.petclinic.web.PetValidator</desc><rect class=\"rect reactive tooltip-trigger\" height=\"52.17391304347828\" width=\"42.95046070194002\" x=\"497.3826323364785\" y=\"3.076923076923066\"/><desc class=\"value\">11</desc><desc class=\"x centered\">518.8578626874485</desc><desc class=\"y centered\">29.163879598662206</desc></g><g class=\"rect\"><desc class=\"label\">org.springframework.samples.petclinic.web.VisitController</desc><rect class=\"rect reactive tooltip-trigger\" height=\"52.17391304347828\" width=\"62.47339738463995\" x=\"540.3330930384185\" y=\"3.076923076923066\"/><desc class=\"value\">16</desc><desc class=\"x centered\">571.5697917307384</desc><desc class=\"y centered\">29.163879598662206</desc></g><g class=\"rect\"><desc class=\"label\">org.springframework.samples.petclinic.web.VetController</desc><rect class=\"rect reactive tooltip-trigger\" height=\"43.47826086956522\" width=\"46.85504803848005\" x=\"602.8064904230584\" y=\"11.772575250836127\"/><desc class=\"value\">10</desc><desc class=\"x centered\">626.2340144422985</desc><desc class=\"y centered\">33.511705685618736</desc></g><g class=\"rect\"><desc class=\"label\">org.springframework.samples.petclinic.web.CrashController</desc><rect class=\"rect reactive tooltip-trigger\" height=\"8.69565217391306\" width=\"46.85504803848005\" x=\"602.8064904230584\" y=\"3.076923076923066\"/><desc class=\"value\">2</desc><desc class=\"x centered\">626.2340144422985</desc><desc class=\"y centered\">7.424749163879596</desc></g></g></g></g><g class=\"titles\"/><g class=\"plot overlay\" transform=\"translate(117, 20)\"><g class=\"series serie-0 color-0\"/><g class=\"series serie-1 color-1\"/><g class=\"series serie-2 color-2\"/><g class=\"series serie-3 color-3\"/><g class=\"series serie-4 color-4\"/><g class=\"series serie-5 color-5\"/><g class=\"series serie-6 color-6\"/></g><g class=\"plot text-overlay\" transform=\"translate(117, 20)\"><g class=\"series serie-0 color-0\"/><g class=\"series serie-1 color-1\"/><g class=\"series serie-2 color-2\"/><g class=\"series serie-3 color-3\"/><g class=\"series serie-4 color-4\"/><g class=\"series serie-5 color-5\"/><g class=\"series serie-6 color-6\"/></g><g class=\"plot tooltip-overlay\" transform=\"translate(117, 20)\"><g class=\"tooltip\" style=\"opacity: 0\" transform=\"translate(0 0)\"><rect class=\"tooltip-box\" height=\"0\" rx=\"0\" ry=\"0\" width=\"0\"/><g class=\"text\"/></g></g><g class=\"legends\" transform=\"translate(10, 30)\"><g class=\"legend reactive activate-serie\" id=\"activate-serie-0\"><rect class=\"color-0 reactive\" height=\"12\" width=\"12\" x=\"0.0\" y=\"1.0\"/><text x=\"17.0\" y=\"11.2\">jdbc</text></g><g class=\"legend reactive activate-serie\" id=\"activate-serie-1\"><rect class=\"color-1 reactive\" height=\"12\" width=\"12\" x=\"0.0\" y=\"22.0\"/><text x=\"17.0\" y=\"32.2\">jpa</text></g><g class=\"legend reactive activate-serie\" id=\"activate-serie-2\"><rect class=\"color-2 reactive\" height=\"12\" width=\"12\" x=\"0.0\" y=\"43.0\"/><text x=\"17.0\" y=\"53.2\">model</text></g><g class=\"legend reactive activate-serie\" id=\"activate-serie-3\"><rect class=\"color-3 reactive\" height=\"12\" width=\"12\" x=\"0.0\" y=\"64.0\"/><text x=\"17.0\" y=\"74.2\">petclinic</text></g><g class=\"legend reactive activate-serie\" id=\"activate-serie-4\"><rect class=\"color-4 reactive\" height=\"12\" width=\"12\" x=\"0.0\" y=\"85.0\"/><text x=\"17.0\" y=\"95.2\">service</text></g><g class=\"legend reactive activate-serie\" id=\"activate-serie-5\"><rect class=\"color-5 reactive\" height=\"12\" width=\"12\" x=\"0.0\" y=\"106.0\"/><text x=\"17.0\" y=\"116.2\">util</text></g><g class=\"legend reactive activate-serie\" id=\"activate-serie-6\"><rect class=\"color-6 reactive\" height=\"12\" width=\"12\" x=\"0.0\" y=\"127.0\"/><text x=\"17.0\" y=\"137.2\">web</text></g></g><g class=\"legends\" transform=\"translate(790, 30)\"/></g></svg>\n",
       "    </figure>\n",
       "  </body>\n",
       "</html>\n"
      ],
      "text/plain": [
       "<IPython.core.display.HTML object>"
      ]
     },
     "metadata": {},
     "output_type": "display_data"
    }
   ],
   "source": [
    "treemap = pygal.Treemap(height=200)\n",
    "[treemap.add(x[0], x[1]) for x in class_values_by_category.iteritems()]\n",
    "display(HTML(base_html.format(rendered_chart=treemap.render(is_unicode=True))))"
   ]
  },
  {
   "cell_type": "markdown",
   "metadata": {},
   "source": [
    "But here you can find the interactive version of this treemap. Note that if you hover over the tiles, you can now see the values and labels of the coverage or class respectively."
   ]
  },
  {
   "cell_type": "markdown",
   "metadata": {},
   "source": [
    "In the final step, I want to show you how you can colorize the tiles as needed. In our case, the column `coverage` is a perfect candidate for this, because it shows the ratio of executed code lines. A value near 1 means that almost all code lines were executed. A value near 0 means that the code line didn't ran.\n",
    "\n",
    "Let's see if we can visualize this in the treemap, too. For this, we need two things:\n",
    "- an indicator, that shows how much a class is covered (we have this information in the `coverage` column)\n",
    "- a spectrum of colors that we want to use to show how strong the indicator per entry is (we could use the metapher of hot and cold for values near 1 and 0 respecively)\n",
    "\n",
    "There are many ways to do it, but the most basic way is so assign every indicator value a corresponding color. For this, we'll us a red to blue colormap from matplot lib an draw colors appropriately."
   ]
  },
  {
   "cell_type": "code",
   "execution_count": 12,
   "metadata": {},
   "outputs": [
    {
     "data": {
      "text/html": [
       "<div>\n",
       "<style scoped>\n",
       "    .dataframe tbody tr th:only-of-type {\n",
       "        vertical-align: middle;\n",
       "    }\n",
       "\n",
       "    .dataframe tbody tr th {\n",
       "        vertical-align: top;\n",
       "    }\n",
       "\n",
       "    .dataframe thead th {\n",
       "        text-align: right;\n",
       "    }\n",
       "</style>\n",
       "<table border=\"1\" class=\"dataframe\">\n",
       "  <thead>\n",
       "    <tr style=\"text-align: right;\">\n",
       "      <th></th>\n",
       "      <th>class</th>\n",
       "      <th>lines</th>\n",
       "      <th>coverage</th>\n",
       "      <th>category</th>\n",
       "      <th>color</th>\n",
       "    </tr>\n",
       "  </thead>\n",
       "  <tbody>\n",
       "    <tr>\n",
       "      <th>0</th>\n",
       "      <td>org.springframework.samples.petclinic.Petclini...</td>\n",
       "      <td>24</td>\n",
       "      <td>1.0</td>\n",
       "      <td>petclinic</td>\n",
       "      <td>#b40426</td>\n",
       "    </tr>\n",
       "    <tr>\n",
       "      <th>1</th>\n",
       "      <td>org.springframework.samples.petclinic.model.Na...</td>\n",
       "      <td>5</td>\n",
       "      <td>0.8</td>\n",
       "      <td>model</td>\n",
       "      <td>#ee8468</td>\n",
       "    </tr>\n",
       "    <tr>\n",
       "      <th>2</th>\n",
       "      <td>org.springframework.samples.petclinic.model.Sp...</td>\n",
       "      <td>1</td>\n",
       "      <td>1.0</td>\n",
       "      <td>model</td>\n",
       "      <td>#b40426</td>\n",
       "    </tr>\n",
       "    <tr>\n",
       "      <th>3</th>\n",
       "      <td>org.springframework.samples.petclinic.model.Pe...</td>\n",
       "      <td>1</td>\n",
       "      <td>1.0</td>\n",
       "      <td>model</td>\n",
       "      <td>#b40426</td>\n",
       "    </tr>\n",
       "    <tr>\n",
       "      <th>4</th>\n",
       "      <td>org.springframework.samples.petclinic.model.Vets</td>\n",
       "      <td>4</td>\n",
       "      <td>0.0</td>\n",
       "      <td>model</td>\n",
       "      <td>#3b4cc0</td>\n",
       "    </tr>\n",
       "  </tbody>\n",
       "</table>\n",
       "</div>"
      ],
      "text/plain": [
       "                                               class  lines  coverage  \\\n",
       "0  org.springframework.samples.petclinic.Petclini...     24       1.0   \n",
       "1  org.springframework.samples.petclinic.model.Na...      5       0.8   \n",
       "2  org.springframework.samples.petclinic.model.Sp...      1       1.0   \n",
       "3  org.springframework.samples.petclinic.model.Pe...      1       1.0   \n",
       "4   org.springframework.samples.petclinic.model.Vets      4       0.0   \n",
       "\n",
       "    category    color  \n",
       "0  petclinic  #b40426  \n",
       "1      model  #ee8468  \n",
       "2      model  #b40426  \n",
       "3      model  #b40426  \n",
       "4      model  #3b4cc0  "
      ]
     },
     "execution_count": 12,
     "metadata": {},
     "output_type": "execute_result"
    }
   ],
   "source": [
    "from matplotlib.cm import coolwarm\n",
    "from matplotlib.colors import rgb2hex\n",
    "\n",
    "df['color'] = df['coverage'].apply(lambda x : rgb2hex(coolwarm(x)))\n",
    "df.head()"
   ]
  },
  {
   "cell_type": "code",
   "execution_count": 13,
   "metadata": {},
   "outputs": [
    {
     "data": {
      "text/plain": [
       "category\n",
       "jdbc         [{'value': 7, 'label': 'org.springframework.sa...\n",
       "jpa          [{'value': 8, 'label': 'org.springframework.sa...\n",
       "model        [{'value': 5, 'label': 'org.springframework.sa...\n",
       "petclinic    [{'value': 24, 'label': 'org.springframework.s...\n",
       "service      [{'value': 18, 'label': 'org.springframework.s...\n",
       "util         [{'value': 5, 'label': 'org.springframework.sa...\n",
       "web          [{'value': 36, 'label': 'org.springframework.s...\n",
       "dtype: object"
      ]
     },
     "execution_count": 13,
     "metadata": {},
     "output_type": "execute_result"
    }
   ],
   "source": [
    "class_ratios_by_category = df.groupby(['category'], axis=0).apply(\n",
    "    lambda x : [\n",
    "        {\"value\" : y,\n",
    "         \"label\" : z,\n",
    "         \"color\" : c} for y, z, c in zip(\n",
    "            x['lines'],\n",
    "            x['class'],\n",
    "            x['color'])])\n",
    "class_ratios_by_category"
   ]
  },
  {
   "cell_type": "markdown",
   "metadata": {},
   "source": [
    "Let's plot this treemap. We disable the legend, because it doesn't make sense anymore (the colors of the legend doesn't represent the colors in the treemap anymore)."
   ]
  },
  {
   "cell_type": "code",
   "execution_count": 14,
   "metadata": {},
   "outputs": [
    {
     "data": {
      "text/html": [
       "\n",
       "<!DOCTYPE html>\n",
       "<html>\n",
       "  <head>\n",
       "  <script type=\"text/javascript\" src=\"http://kozea.github.com/pygal.js/javascripts/svg.jquery.js\"></script>\n",
       "  <script type=\"text/javascript\" src=\"https://kozea.github.io/pygal.js/2.0.x/pygal-tooltips.min.js\"\"></script>\n",
       "  </head>\n",
       "  <body>\n",
       "    <figure>\n",
       "      <?xml version='1.0' encoding='utf-8'?>\n",
       "<svg xmlns:xlink=\"http://www.w3.org/1999/xlink\" xmlns=\"http://www.w3.org/2000/svg\" id=\"chart-189c52d4-9dea-403b-81cd-1847d8b49e1d\" class=\"pygal-chart\" viewBox=\"0 0 800 200\"><!--Generated with pygal 2.4.0 (lxml) ©Kozea 2012-2016 on 2019-03-14--><!--http://pygal.org--><!--http://github.com/Kozea/pygal--><defs><style type=\"text/css\">#chart-189c52d4-9dea-403b-81cd-1847d8b49e1d{-webkit-user-select:none;-webkit-font-smoothing:antialiased;font-family:Consolas,\"Liberation Mono\",Menlo,Courier,monospace}#chart-189c52d4-9dea-403b-81cd-1847d8b49e1d .title{font-family:Consolas,\"Liberation Mono\",Menlo,Courier,monospace;font-size:16px}#chart-189c52d4-9dea-403b-81cd-1847d8b49e1d .legends .legend text{font-family:Consolas,\"Liberation Mono\",Menlo,Courier,monospace;font-size:14px}#chart-189c52d4-9dea-403b-81cd-1847d8b49e1d .axis text{font-family:Consolas,\"Liberation Mono\",Menlo,Courier,monospace;font-size:10px}#chart-189c52d4-9dea-403b-81cd-1847d8b49e1d .axis text.major{font-family:Consolas,\"Liberation Mono\",Menlo,Courier,monospace;font-size:10px}#chart-189c52d4-9dea-403b-81cd-1847d8b49e1d .text-overlay text.value{font-family:Consolas,\"Liberation Mono\",Menlo,Courier,monospace;font-size:16px}#chart-189c52d4-9dea-403b-81cd-1847d8b49e1d .text-overlay text.label{font-family:Consolas,\"Liberation Mono\",Menlo,Courier,monospace;font-size:10px}#chart-189c52d4-9dea-403b-81cd-1847d8b49e1d .tooltip{font-family:Consolas,\"Liberation Mono\",Menlo,Courier,monospace;font-size:14px}#chart-189c52d4-9dea-403b-81cd-1847d8b49e1d text.no_data{font-family:Consolas,\"Liberation Mono\",Menlo,Courier,monospace;font-size:64px}\n",
       "#chart-189c52d4-9dea-403b-81cd-1847d8b49e1d{background-color:rgba(249,249,249,1)}#chart-189c52d4-9dea-403b-81cd-1847d8b49e1d path,#chart-189c52d4-9dea-403b-81cd-1847d8b49e1d line,#chart-189c52d4-9dea-403b-81cd-1847d8b49e1d rect,#chart-189c52d4-9dea-403b-81cd-1847d8b49e1d circle{-webkit-transition:150ms;-moz-transition:150ms;transition:150ms}#chart-189c52d4-9dea-403b-81cd-1847d8b49e1d .graph &gt; .background{fill:rgba(249,249,249,1)}#chart-189c52d4-9dea-403b-81cd-1847d8b49e1d .plot &gt; .background{fill:rgba(255,255,255,1)}#chart-189c52d4-9dea-403b-81cd-1847d8b49e1d .graph{fill:rgba(0,0,0,.87)}#chart-189c52d4-9dea-403b-81cd-1847d8b49e1d text.no_data{fill:rgba(0,0,0,1)}#chart-189c52d4-9dea-403b-81cd-1847d8b49e1d .title{fill:rgba(0,0,0,1)}#chart-189c52d4-9dea-403b-81cd-1847d8b49e1d .legends .legend text{fill:rgba(0,0,0,.87)}#chart-189c52d4-9dea-403b-81cd-1847d8b49e1d .legends .legend:hover text{fill:rgba(0,0,0,1)}#chart-189c52d4-9dea-403b-81cd-1847d8b49e1d .axis .line{stroke:rgba(0,0,0,1)}#chart-189c52d4-9dea-403b-81cd-1847d8b49e1d .axis .guide.line{stroke:rgba(0,0,0,.54)}#chart-189c52d4-9dea-403b-81cd-1847d8b49e1d .axis .major.line{stroke:rgba(0,0,0,.87)}#chart-189c52d4-9dea-403b-81cd-1847d8b49e1d .axis text.major{fill:rgba(0,0,0,1)}#chart-189c52d4-9dea-403b-81cd-1847d8b49e1d .axis.y .guides:hover .guide.line,#chart-189c52d4-9dea-403b-81cd-1847d8b49e1d .line-graph .axis.x .guides:hover .guide.line,#chart-189c52d4-9dea-403b-81cd-1847d8b49e1d .stackedline-graph .axis.x .guides:hover .guide.line,#chart-189c52d4-9dea-403b-81cd-1847d8b49e1d .xy-graph .axis.x .guides:hover .guide.line{stroke:rgba(0,0,0,1)}#chart-189c52d4-9dea-403b-81cd-1847d8b49e1d .axis .guides:hover text{fill:rgba(0,0,0,1)}#chart-189c52d4-9dea-403b-81cd-1847d8b49e1d .reactive{fill-opacity:.7;stroke-opacity:.8}#chart-189c52d4-9dea-403b-81cd-1847d8b49e1d .ci{stroke:rgba(0,0,0,.87)}#chart-189c52d4-9dea-403b-81cd-1847d8b49e1d .reactive.active,#chart-189c52d4-9dea-403b-81cd-1847d8b49e1d .active .reactive{fill-opacity:.8;stroke-opacity:.9;stroke-width:4}#chart-189c52d4-9dea-403b-81cd-1847d8b49e1d .ci .reactive.active{stroke-width:1.5}#chart-189c52d4-9dea-403b-81cd-1847d8b49e1d .series text{fill:rgba(0,0,0,1)}#chart-189c52d4-9dea-403b-81cd-1847d8b49e1d .tooltip rect{fill:rgba(255,255,255,1);stroke:rgba(0,0,0,1);-webkit-transition:opacity 150ms;-moz-transition:opacity 150ms;transition:opacity 150ms}#chart-189c52d4-9dea-403b-81cd-1847d8b49e1d .tooltip .label{fill:rgba(0,0,0,.87)}#chart-189c52d4-9dea-403b-81cd-1847d8b49e1d .tooltip .label{fill:rgba(0,0,0,.87)}#chart-189c52d4-9dea-403b-81cd-1847d8b49e1d .tooltip .legend{font-size:.8em;fill:rgba(0,0,0,.54)}#chart-189c52d4-9dea-403b-81cd-1847d8b49e1d .tooltip .x_label{font-size:.6em;fill:rgba(0,0,0,1)}#chart-189c52d4-9dea-403b-81cd-1847d8b49e1d .tooltip .xlink{font-size:.5em;text-decoration:underline}#chart-189c52d4-9dea-403b-81cd-1847d8b49e1d .tooltip .value{font-size:1.5em}#chart-189c52d4-9dea-403b-81cd-1847d8b49e1d .bound{font-size:.5em}#chart-189c52d4-9dea-403b-81cd-1847d8b49e1d .max-value{font-size:.75em;fill:rgba(0,0,0,.54)}#chart-189c52d4-9dea-403b-81cd-1847d8b49e1d .map-element{fill:rgba(255,255,255,1);stroke:rgba(0,0,0,.54) !important}#chart-189c52d4-9dea-403b-81cd-1847d8b49e1d .map-element .reactive{fill-opacity:inherit;stroke-opacity:inherit}#chart-189c52d4-9dea-403b-81cd-1847d8b49e1d .color-0,#chart-189c52d4-9dea-403b-81cd-1847d8b49e1d .color-0 a:visited{stroke:#F44336;fill:#F44336}#chart-189c52d4-9dea-403b-81cd-1847d8b49e1d .color-1,#chart-189c52d4-9dea-403b-81cd-1847d8b49e1d .color-1 a:visited{stroke:#3F51B5;fill:#3F51B5}#chart-189c52d4-9dea-403b-81cd-1847d8b49e1d .color-2,#chart-189c52d4-9dea-403b-81cd-1847d8b49e1d .color-2 a:visited{stroke:#009688;fill:#009688}#chart-189c52d4-9dea-403b-81cd-1847d8b49e1d .color-3,#chart-189c52d4-9dea-403b-81cd-1847d8b49e1d .color-3 a:visited{stroke:#FFC107;fill:#FFC107}#chart-189c52d4-9dea-403b-81cd-1847d8b49e1d .color-4,#chart-189c52d4-9dea-403b-81cd-1847d8b49e1d .color-4 a:visited{stroke:#FF5722;fill:#FF5722}#chart-189c52d4-9dea-403b-81cd-1847d8b49e1d .color-5,#chart-189c52d4-9dea-403b-81cd-1847d8b49e1d .color-5 a:visited{stroke:#9C27B0;fill:#9C27B0}#chart-189c52d4-9dea-403b-81cd-1847d8b49e1d .color-6,#chart-189c52d4-9dea-403b-81cd-1847d8b49e1d .color-6 a:visited{stroke:#03A9F4;fill:#03A9F4}#chart-189c52d4-9dea-403b-81cd-1847d8b49e1d .text-overlay .color-0 text{fill:black}#chart-189c52d4-9dea-403b-81cd-1847d8b49e1d .text-overlay .color-1 text{fill:black}#chart-189c52d4-9dea-403b-81cd-1847d8b49e1d .text-overlay .color-2 text{fill:black}#chart-189c52d4-9dea-403b-81cd-1847d8b49e1d .text-overlay .color-3 text{fill:black}#chart-189c52d4-9dea-403b-81cd-1847d8b49e1d .text-overlay .color-4 text{fill:black}#chart-189c52d4-9dea-403b-81cd-1847d8b49e1d .text-overlay .color-5 text{fill:black}#chart-189c52d4-9dea-403b-81cd-1847d8b49e1d .text-overlay .color-6 text{fill:black}\n",
       "#chart-189c52d4-9dea-403b-81cd-1847d8b49e1d text.no_data{text-anchor:middle}#chart-189c52d4-9dea-403b-81cd-1847d8b49e1d .guide.line{fill:none}#chart-189c52d4-9dea-403b-81cd-1847d8b49e1d .centered{text-anchor:middle}#chart-189c52d4-9dea-403b-81cd-1847d8b49e1d .title{text-anchor:middle}#chart-189c52d4-9dea-403b-81cd-1847d8b49e1d .legends .legend text{fill-opacity:1}#chart-189c52d4-9dea-403b-81cd-1847d8b49e1d .axis.x text{text-anchor:middle}#chart-189c52d4-9dea-403b-81cd-1847d8b49e1d .axis.x:not(.web) text[transform]{text-anchor:start}#chart-189c52d4-9dea-403b-81cd-1847d8b49e1d .axis.x:not(.web) text[transform].backwards{text-anchor:end}#chart-189c52d4-9dea-403b-81cd-1847d8b49e1d .axis.y text{text-anchor:end}#chart-189c52d4-9dea-403b-81cd-1847d8b49e1d .axis.y text[transform].backwards{text-anchor:start}#chart-189c52d4-9dea-403b-81cd-1847d8b49e1d .axis.y2 text{text-anchor:start}#chart-189c52d4-9dea-403b-81cd-1847d8b49e1d .axis.y2 text[transform].backwards{text-anchor:end}#chart-189c52d4-9dea-403b-81cd-1847d8b49e1d .axis .guide.line{stroke-dasharray:4,4}#chart-189c52d4-9dea-403b-81cd-1847d8b49e1d .axis .major.guide.line{stroke-dasharray:6,6}#chart-189c52d4-9dea-403b-81cd-1847d8b49e1d .horizontal .axis.y .guide.line,#chart-189c52d4-9dea-403b-81cd-1847d8b49e1d .horizontal .axis.y2 .guide.line,#chart-189c52d4-9dea-403b-81cd-1847d8b49e1d .vertical .axis.x .guide.line{opacity:0}#chart-189c52d4-9dea-403b-81cd-1847d8b49e1d .horizontal .axis.always_show .guide.line,#chart-189c52d4-9dea-403b-81cd-1847d8b49e1d .vertical .axis.always_show .guide.line{opacity:1 !important}#chart-189c52d4-9dea-403b-81cd-1847d8b49e1d .axis.y .guides:hover .guide.line,#chart-189c52d4-9dea-403b-81cd-1847d8b49e1d .axis.y2 .guides:hover .guide.line,#chart-189c52d4-9dea-403b-81cd-1847d8b49e1d .axis.x .guides:hover .guide.line{opacity:1}#chart-189c52d4-9dea-403b-81cd-1847d8b49e1d .axis .guides:hover text{opacity:1}#chart-189c52d4-9dea-403b-81cd-1847d8b49e1d .nofill{fill:none}#chart-189c52d4-9dea-403b-81cd-1847d8b49e1d .subtle-fill{fill-opacity:.2}#chart-189c52d4-9dea-403b-81cd-1847d8b49e1d .dot{stroke-width:1px;fill-opacity:1}#chart-189c52d4-9dea-403b-81cd-1847d8b49e1d .dot.active{stroke-width:5px}#chart-189c52d4-9dea-403b-81cd-1847d8b49e1d .dot.negative{fill:transparent}#chart-189c52d4-9dea-403b-81cd-1847d8b49e1d text,#chart-189c52d4-9dea-403b-81cd-1847d8b49e1d tspan{stroke:none !important}#chart-189c52d4-9dea-403b-81cd-1847d8b49e1d .series text.active{opacity:1}#chart-189c52d4-9dea-403b-81cd-1847d8b49e1d .tooltip rect{fill-opacity:.95;stroke-width:.5}#chart-189c52d4-9dea-403b-81cd-1847d8b49e1d .tooltip text{fill-opacity:1}#chart-189c52d4-9dea-403b-81cd-1847d8b49e1d .showable{visibility:hidden}#chart-189c52d4-9dea-403b-81cd-1847d8b49e1d .showable.shown{visibility:visible}#chart-189c52d4-9dea-403b-81cd-1847d8b49e1d .gauge-background{fill:rgba(229,229,229,1);stroke:none}#chart-189c52d4-9dea-403b-81cd-1847d8b49e1d .bg-lines{stroke:rgba(249,249,249,1);stroke-width:2px}</style><script type=\"text/javascript\">window.pygal = window.pygal || {};window.pygal.config = window.pygal.config || {};window.pygal.config['189c52d4-9dea-403b-81cd-1847d8b49e1d'] = {\"allow_interruptions\": false, \"box_mode\": \"extremes\", \"classes\": [\"pygal-chart\"], \"css\": [\"file://style.css\", \"file://graph.css\"], \"defs\": [], \"disable_xml_declaration\": false, \"dots_size\": 2.5, \"dynamic_print_values\": false, \"explicit_size\": false, \"fill\": false, \"force_uri_protocol\": \"https\", \"formatter\": null, \"half_pie\": false, \"height\": 200, \"include_x_axis\": false, \"inner_radius\": 0, \"interpolate\": null, \"interpolation_parameters\": {}, \"interpolation_precision\": 250, \"inverse_y_axis\": false, \"js\": [\"//kozea.github.io/pygal.js/2.0.x/pygal-tooltips.min.js\"], \"legend_at_bottom\": false, \"legend_at_bottom_columns\": null, \"legend_box_size\": 12, \"logarithmic\": false, \"margin\": 20, \"margin_bottom\": null, \"margin_left\": null, \"margin_right\": null, \"margin_top\": null, \"max_scale\": 16, \"min_scale\": 4, \"missing_value_fill_truncation\": \"x\", \"no_data_text\": \"No data\", \"no_prefix\": false, \"order_min\": null, \"pretty_print\": false, \"print_labels\": false, \"print_values\": false, \"print_values_position\": \"center\", \"print_zeroes\": true, \"range\": null, \"rounded_bars\": null, \"secondary_range\": null, \"show_dots\": true, \"show_legend\": false, \"show_minor_x_labels\": true, \"show_minor_y_labels\": true, \"show_only_major_dots\": false, \"show_x_guides\": false, \"show_x_labels\": true, \"show_y_guides\": true, \"show_y_labels\": true, \"spacing\": 10, \"stack_from_top\": false, \"strict\": false, \"stroke\": true, \"stroke_style\": null, \"style\": {\"background\": \"rgba(249, 249, 249, 1)\", \"ci_colors\": [], \"colors\": [\"#F44336\", \"#3F51B5\", \"#009688\", \"#FFC107\", \"#FF5722\", \"#9C27B0\", \"#03A9F4\", \"#8BC34A\", \"#FF9800\", \"#E91E63\", \"#2196F3\", \"#4CAF50\", \"#FFEB3B\", \"#673AB7\", \"#00BCD4\", \"#CDDC39\", \"#9E9E9E\", \"#607D8B\"], \"font_family\": \"Consolas, \\\"Liberation Mono\\\", Menlo, Courier, monospace\", \"foreground\": \"rgba(0, 0, 0, .87)\", \"foreground_strong\": \"rgba(0, 0, 0, 1)\", \"foreground_subtle\": \"rgba(0, 0, 0, .54)\", \"guide_stroke_dasharray\": \"4,4\", \"label_font_family\": \"Consolas, \\\"Liberation Mono\\\", Menlo, Courier, monospace\", \"label_font_size\": 10, \"legend_font_family\": \"Consolas, \\\"Liberation Mono\\\", Menlo, Courier, monospace\", \"legend_font_size\": 14, \"major_guide_stroke_dasharray\": \"6,6\", \"major_label_font_family\": \"Consolas, \\\"Liberation Mono\\\", Menlo, Courier, monospace\", \"major_label_font_size\": 10, \"no_data_font_family\": \"Consolas, \\\"Liberation Mono\\\", Menlo, Courier, monospace\", \"no_data_font_size\": 64, \"opacity\": \".7\", \"opacity_hover\": \".8\", \"plot_background\": \"rgba(255, 255, 255, 1)\", \"stroke_opacity\": \".8\", \"stroke_opacity_hover\": \".9\", \"title_font_family\": \"Consolas, \\\"Liberation Mono\\\", Menlo, Courier, monospace\", \"title_font_size\": 16, \"tooltip_font_family\": \"Consolas, \\\"Liberation Mono\\\", Menlo, Courier, monospace\", \"tooltip_font_size\": 14, \"transition\": \"150ms\", \"value_background\": \"rgba(229, 229, 229, 1)\", \"value_colors\": [], \"value_font_family\": \"Consolas, \\\"Liberation Mono\\\", Menlo, Courier, monospace\", \"value_font_size\": 16, \"value_label_font_family\": \"Consolas, \\\"Liberation Mono\\\", Menlo, Courier, monospace\", \"value_label_font_size\": 10}, \"title\": null, \"tooltip_border_radius\": 0, \"tooltip_fancy_mode\": true, \"truncate_label\": null, \"truncate_legend\": null, \"width\": 800, \"x_label_rotation\": 0, \"x_labels\": null, \"x_labels_major\": null, \"x_labels_major_count\": null, \"x_labels_major_every\": null, \"x_title\": null, \"xrange\": null, \"y_label_rotation\": 0, \"y_labels\": null, \"y_labels_major\": null, \"y_labels_major_count\": null, \"y_labels_major_every\": null, \"y_title\": null, \"zero\": 0, \"legends\": [\"jdbc\", \"jpa\", \"model\", \"petclinic\", \"service\", \"util\", \"web\"]}</script><script type=\"text/javascript\" xlink:href=\"https://kozea.github.io/pygal.js/2.0.x/pygal-tooltips.min.js\"/></defs><title>Pygal</title><g class=\"graph treemap-graph vertical\"><rect class=\"background\" height=\"200\" width=\"800\" x=\"0\" y=\"0\"/><g class=\"plot\" transform=\"translate(20, 20)\"><rect class=\"background\" height=\"160\" width=\"760\" x=\"0\" y=\"0\"/><g class=\"series serie-0 color-0\"><g class=\"rects\"><g class=\"rect\" style=\"fill: #3b4cc0; stroke: #3b4cc0\"><desc class=\"label\">org.springframework.samples.petclinic.repository.jdbc.JdbcVisitRowMapper</desc><rect class=\"rect reactive tooltip-trigger\" height=\"95.31772575250835\" width=\"17.16509408817101\" x=\"14.615384615384615\" y=\"61.60535117056858\"/><desc class=\"value\">7</desc><desc class=\"x centered\">23.19793165947012</desc><desc class=\"y centered\">109.26421404682276</desc></g><g class=\"rect\" style=\"fill: #3b4cc0; stroke: #3b4cc0\"><desc class=\"label\">org.springframework.samples.petclinic.repository.jdbc.JdbcPetRepositoryImpl</desc><rect class=\"rect reactive tooltip-trigger\" height=\"95.31772575250835\" width=\"80.92115784423478\" x=\"31.780478703555623\" y=\"61.60535117056858\"/><desc class=\"value\">33</desc><desc class=\"x centered\">72.24105762567302</desc><desc class=\"y centered\">109.26421404682276</desc></g><g class=\"rect\" style=\"fill: #3b4cc0; stroke: #3b4cc0\"><desc class=\"label\">org.springframework.samples.petclinic.repository.jdbc.JdbcVetRepositoryImpl</desc><rect class=\"rect reactive tooltip-trigger\" height=\"95.31772575250835\" width=\"41.68665707127245\" x=\"112.70163654779039\" y=\"61.60535117056858\"/><desc class=\"value\">17</desc><desc class=\"x centered\">133.5449650834266</desc><desc class=\"y centered\">109.26421404682276</desc></g><g class=\"rect\" style=\"fill: #3b4cc0; stroke: #3b4cc0\"><desc class=\"label\">org.springframework.samples.petclinic.repository.jdbc.JdbcPetRowMapper</desc><rect class=\"rect reactive tooltip-trigger\" height=\"58.52842809364549\" width=\"35.941605172374395\" x=\"14.615384615384615\" y=\"3.0769230769230944\"/><desc class=\"value\">9</desc><desc class=\"x centered\">32.58618720157181</desc><desc class=\"y centered\">32.34113712374584</desc></g><g class=\"rect\" style=\"fill: #3b4cc0; stroke: #3b4cc0\"><desc class=\"label\">org.springframework.samples.petclinic.repository.jdbc.JdbcVisitRepositoryImpl</desc><rect class=\"rect reactive tooltip-trigger\" height=\"58.52842809364549\" width=\"103.83130383130383\" x=\"50.55698978775901\" y=\"3.0769230769230944\"/><desc class=\"value\">26</desc><desc class=\"x centered\">102.47264170341091</desc><desc class=\"y centered\">32.34113712374584</desc></g><g class=\"rect\" style=\"fill: #3b4cc0; stroke: #3b4cc0\"><desc class=\"label\">org.springframework.samples.petclinic.repository.jdbc.JdbcPet</desc><rect class=\"rect reactive tooltip-trigger\" height=\"18.567639257294445\" width=\"88.1177035023189\" x=\"154.38829361906284\" y=\"138.3554376657825\"/><desc class=\"value\">7</desc><desc class=\"x centered\">198.4471453702223</desc><desc class=\"y centered\">147.6392572944297</desc></g><g class=\"rect\" style=\"fill: #3b4cc0; stroke: #3b4cc0\"><desc class=\"label\">org.springframework.samples.petclinic.repository.jdbc.JdbcPetVisitExtractor</desc><rect class=\"rect reactive tooltip-trigger\" height=\"21.220159151193627\" width=\"88.1177035023189\" x=\"154.38829361906284\" y=\"117.13527851458886\"/><desc class=\"value\">8</desc><desc class=\"x centered\">198.4471453702223</desc><desc class=\"y centered\">127.74535809018568</desc></g><g class=\"rect\" style=\"fill: #3b4cc0; stroke: #3b4cc0\"><desc class=\"label\">org.springframework.samples.petclinic.repository.jdbc.JdbcOwnerRepositoryImpl</desc><rect class=\"rect reactive tooltip-trigger\" height=\"114.05835543766577\" width=\"88.1177035023189\" x=\"154.38829361906284\" y=\"3.0769230769230944\"/><desc class=\"value\">43</desc><desc class=\"x centered\">198.4471453702223</desc><desc class=\"y centered\">60.10610079575598</desc></g></g></g><g class=\"series serie-1 color-1\"><g class=\"rects\"><g class=\"rect\" style=\"fill: #dddcdc; stroke: #dddcdc\"><desc class=\"label\">org.springframework.samples.petclinic.repository.jpa.JpaVisitRepositoryImpl</desc><rect class=\"rect reactive tooltip-trigger\" height=\"43.95604395604397\" width=\"42.5395810011195\" x=\"242.50599712138174\" y=\"112.96703296703296\"/><desc class=\"value\">8</desc><desc class=\"x centered\">263.7757876219415</desc><desc class=\"y centered\">134.94505494505495</desc></g><g class=\"rect\" style=\"fill: #d44e41; stroke: #d44e41\"><desc class=\"label\">org.springframework.samples.petclinic.repository.jpa.JpaOwnerRepositoryImpl</desc><rect class=\"rect reactive tooltip-trigger\" height=\"60.439560439560424\" width=\"42.5395810011195\" x=\"242.50599712138174\" y=\"52.52747252747254\"/><desc class=\"value\">11</desc><desc class=\"x centered\">263.7757876219415</desc><desc class=\"y centered\">82.74725274725276</desc></g><g class=\"rect\" style=\"fill: #dddcdc; stroke: #dddcdc\"><desc class=\"label\">org.springframework.samples.petclinic.repository.jpa.JpaVetRepositoryImpl</desc><rect class=\"rect reactive tooltip-trigger\" height=\"10.989010989010993\" width=\"42.5395810011195\" x=\"242.50599712138174\" y=\"41.53846153846155\"/><desc class=\"value\">2</desc><desc class=\"x centered\">263.7757876219415</desc><desc class=\"y centered\">47.03296703296704</desc></g><g class=\"rect\" style=\"fill: #e26952; stroke: #e26952\"><desc class=\"label\">org.springframework.samples.petclinic.repository.jpa.JpaPetRepositoryImpl</desc><rect class=\"rect reactive tooltip-trigger\" height=\"38.46153846153845\" width=\"42.5395810011195\" x=\"242.50599712138174\" y=\"3.0769230769230944\"/><desc class=\"value\">7</desc><desc class=\"x centered\">263.7757876219415</desc><desc class=\"y centered\">22.30769230769232</desc></g></g></g><g class=\"series serie-2 color-2\"><g class=\"rects\"><g class=\"rect\" style=\"fill: #ee8468; stroke: #ee8468\"><desc class=\"label\">org.springframework.samples.petclinic.model.NamedEntity</desc><rect class=\"rect reactive tooltip-trigger\" height=\"10.256410256410277\" width=\"113.94530625299859\" x=\"285.04557812250124\" y=\"146.66666666666666\"/><desc class=\"value\">5</desc><desc class=\"x centered\">342.01823124900056</desc><desc class=\"y centered\">151.7948717948718</desc></g><g class=\"rect\" style=\"fill: #b40426; stroke: #b40426\"><desc class=\"label\">org.springframework.samples.petclinic.model.Specialty</desc><rect class=\"rect reactive tooltip-trigger\" height=\"2.051282051282044\" width=\"113.94530625299859\" x=\"285.04557812250124\" y=\"144.6153846153846\"/><desc class=\"value\">1</desc><desc class=\"x centered\">342.01823124900056</desc><desc class=\"y centered\">145.64102564102564</desc></g><g class=\"rect\" style=\"fill: #b40426; stroke: #b40426\"><desc class=\"label\">org.springframework.samples.petclinic.model.PetType</desc><rect class=\"rect reactive tooltip-trigger\" height=\"2.051282051282044\" width=\"113.94530625299859\" x=\"285.04557812250124\" y=\"142.56410256410257\"/><desc class=\"value\">1</desc><desc class=\"x centered\">342.01823124900056</desc><desc class=\"y centered\">143.5897435897436</desc></g><g class=\"rect\" style=\"fill: #3b4cc0; stroke: #3b4cc0\"><desc class=\"label\">org.springframework.samples.petclinic.model.Vets</desc><rect class=\"rect reactive tooltip-trigger\" height=\"8.205128205128204\" width=\"113.94530625299859\" x=\"285.04557812250124\" y=\"134.35897435897436\"/><desc class=\"value\">4</desc><desc class=\"x centered\">342.01823124900056</desc><desc class=\"y centered\">138.46153846153845</desc></g><g class=\"rect\" style=\"fill: #b40426; stroke: #b40426\"><desc class=\"label\">org.springframework.samples.petclinic.model.Visit</desc><rect class=\"rect reactive tooltip-trigger\" height=\"24.615384615384613\" width=\"113.94530625299859\" x=\"285.04557812250124\" y=\"109.74358974358975\"/><desc class=\"value\">12</desc><desc class=\"x centered\">342.01823124900056</desc><desc class=\"y centered\">122.05128205128206</desc></g><g class=\"rect\" style=\"fill: #b40426; stroke: #b40426\"><desc class=\"label\">org.springframework.samples.petclinic.model.BaseEntity</desc><rect class=\"rect reactive tooltip-trigger\" height=\"106.66666666666669\" width=\"10.956279447403745\" x=\"285.04557812250124\" y=\"3.076923076923066\"/><desc class=\"value\">5</desc><desc class=\"x centered\">290.5237178462031</desc><desc class=\"y centered\">56.41025641025641</desc></g><g class=\"rect\" style=\"fill: #b40426; stroke: #b40426\"><desc class=\"label\">org.springframework.samples.petclinic.model.Person</desc><rect class=\"rect reactive tooltip-trigger\" height=\"15.886524822695051\" width=\"102.98902680559479\" x=\"296.001857569905\" y=\"93.8570649208947\"/><desc class=\"value\">7</desc><desc class=\"x centered\">347.4963709727024</desc><desc class=\"y centered\">101.80032733224223</desc></g><g class=\"rect\" style=\"fill: #f6bda2; stroke: #f6bda2\"><desc class=\"label\">org.springframework.samples.petclinic.model.Owner</desc><rect class=\"rect reactive tooltip-trigger\" height=\"90.78014184397163\" width=\"102.98902680559479\" x=\"296.001857569905\" y=\"3.076923076923066\"/><desc class=\"value\">40</desc><desc class=\"x centered\">347.4963709727024</desc><desc class=\"y centered\">48.46699399890888</desc></g><g class=\"rect\" style=\"fill: #e26952; stroke: #e26952\"><desc class=\"label\">org.springframework.samples.petclinic.model.Pet</desc><rect class=\"rect reactive tooltip-trigger\" height=\"97.9020979020979\" width=\"50.13593475131938\" x=\"398.99088437549983\" y=\"59.02097902097903\"/><desc class=\"value\">21</desc><desc class=\"x centered\">424.0588517511595</desc><desc class=\"y centered\">107.97202797202797</desc></g><g class=\"rect\" style=\"fill: #5470de; stroke: #5470de\"><desc class=\"label\">org.springframework.samples.petclinic.model.Vet</desc><rect class=\"rect reactive tooltip-trigger\" height=\"55.94405594405593\" width=\"50.13593475131938\" x=\"398.99088437549983\" y=\"3.0769230769230944\"/><desc class=\"value\">12</desc><desc class=\"x centered\">424.0588517511595</desc><desc class=\"y centered\">31.04895104895106</desc></g></g></g><g class=\"series serie-3 color-3\"><g class=\"rects\"><g class=\"rect\" style=\"fill: #b40426; stroke: #b40426\"><desc class=\"label\">org.springframework.samples.petclinic.PetclinicInitializer</desc><rect class=\"rect reactive tooltip-trigger\" height=\"153.84615384615384\" width=\"36.4624980009595\" x=\"449.1268191268192\" y=\"3.0769230769230944\"/><desc class=\"value\">24</desc><desc class=\"x centered\">467.35806812729896</desc><desc class=\"y centered\">80.00000000000001</desc></g></g></g><g class=\"series serie-4 color-4\"><g class=\"rects\"><g class=\"rect\" style=\"fill: #d95847; stroke: #d95847\"><desc class=\"label\">org.springframework.samples.petclinic.service.ClinicServiceImpl</desc><rect class=\"rect reactive tooltip-trigger\" height=\"153.84615384615384\" width=\"27.346873500719653\" x=\"485.5893171277787\" y=\"3.0769230769230944\"/><desc class=\"value\">18</desc><desc class=\"x centered\">499.26275387813854</desc><desc class=\"y centered\">80.00000000000001</desc></g></g></g><g class=\"series serie-5 color-5\"><g class=\"rects\"><g class=\"rect\" style=\"fill: #3b4cc0; stroke: #3b4cc0\"><desc class=\"label\">org.springframework.samples.petclinic.util.BrokenSingleton</desc><rect class=\"rect reactive tooltip-trigger\" height=\"20.242914979757103\" width=\"57.73228850151929\" x=\"512.9361906284984\" y=\"136.68016194331983\"/><desc class=\"value\">5</desc><desc class=\"x centered\">541.8023348792581</desc><desc class=\"y centered\">146.80161943319837</desc></g><g class=\"rect\" style=\"fill: #3b4cc0; stroke: #3b4cc0\"><desc class=\"label\">org.springframework.samples.petclinic.util.Database</desc><rect class=\"rect reactive tooltip-trigger\" height=\"12.145748987854233\" width=\"57.73228850151929\" x=\"512.9361906284984\" y=\"124.5344129554656\"/><desc class=\"value\">3</desc><desc class=\"x centered\">541.8023348792581</desc><desc class=\"y centered\">130.60728744939271</desc></g><g class=\"rect\" style=\"fill: #3b4cc0; stroke: #3b4cc0\"><desc class=\"label\">org.springframework.samples.petclinic.util.EntityUtils</desc><rect class=\"rect reactive tooltip-trigger\" height=\"24.291497975708495\" width=\"57.73228850151929\" x=\"512.9361906284984\" y=\"100.2429149797571\"/><desc class=\"value\">6</desc><desc class=\"x centered\">541.8023348792581</desc><desc class=\"y centered\">112.38866396761135</desc></g><g class=\"rect\" style=\"fill: #e7d7ce; stroke: #e7d7ce\"><desc class=\"label\">org.springframework.samples.petclinic.util.CallMonitoringAspect</desc><rect class=\"rect reactive tooltip-trigger\" height=\"97.16599190283401\" width=\"57.73228850151929\" x=\"512.9361906284984\" y=\"3.0769230769230944\"/><desc class=\"value\">24</desc><desc class=\"x centered\">541.8023348792581</desc><desc class=\"y centered\">51.6599190283401</desc></g></g></g><g class=\"series serie-6 color-6\"><g class=\"rects\"><g class=\"rect\" style=\"fill: #f5c0a7; stroke: #f5c0a7\"><desc class=\"label\">org.springframework.samples.petclinic.web.OwnerController</desc><rect class=\"rect reactive tooltip-trigger\" height=\"93.11740890688259\" width=\"90.36358200237794\" x=\"570.6684791300177\" y=\"63.805668016194346\"/><desc class=\"value\">36</desc><desc class=\"x centered\">615.8502701312066</desc><desc class=\"y centered\">110.36437246963564</desc></g><g class=\"rect\" style=\"fill: #d65244; stroke: #d65244\"><desc class=\"label\">org.springframework.samples.petclinic.web.PetTypeFormatter</desc><rect class=\"rect reactive tooltip-trigger\" height=\"93.11740890688259\" width=\"25.100995000660532\" x=\"661.0320611323956\" y=\"63.805668016194346\"/><desc class=\"value\">10</desc><desc class=\"x centered\">673.5825586327259</desc><desc class=\"y centered\">110.36437246963564</desc></g><g class=\"rect\" style=\"fill: #f2cbb7; stroke: #f2cbb7\"><desc class=\"label\">org.springframework.samples.petclinic.web.PetController</desc><rect class=\"rect reactive tooltip-trigger\" height=\"60.72874493927125\" width=\"115.46457700303847\" x=\"570.6684791300177\" y=\"3.0769230769230944\"/><desc class=\"value\">30</desc><desc class=\"x centered\">628.4007676315368</desc><desc class=\"y centered\">33.44129554655872</desc></g><g class=\"rect\" style=\"fill: #f6a283; stroke: #f6a283\"><desc class=\"label\">org.springframework.samples.petclinic.web.PetValidator</desc><rect class=\"rect reactive tooltip-trigger\" height=\"43.39250493096647\" width=\"59.25155925155923\" x=\"686.1330561330561\" y=\"113.53057199211047\"/><desc class=\"value\">11</desc><desc class=\"x centered\">715.7588357588357</desc><desc class=\"y centered\">135.2268244575937</desc></g><g class=\"rect\" style=\"fill: #eb7d62; stroke: #eb7d62\"><desc class=\"label\">org.springframework.samples.petclinic.web.VisitController</desc><rect class=\"rect reactive tooltip-trigger\" height=\"63.11637080867848\" width=\"59.25155925155923\" x=\"686.1330561330561\" y=\"50.414201183431985\"/><desc class=\"value\">16</desc><desc class=\"x centered\">715.7588357588357</desc><desc class=\"y centered\">81.97238658777123</desc></g><g class=\"rect\" style=\"fill: #9ebeff; stroke: #9ebeff\"><desc class=\"label\">org.springframework.samples.petclinic.web.VetController</desc><rect class=\"rect reactive tooltip-trigger\" height=\"47.33727810650889\" width=\"49.37629937629947\" x=\"686.1330561330561\" y=\"3.0769230769230944\"/><desc class=\"value\">10</desc><desc class=\"x centered\">710.8212058212059</desc><desc class=\"y centered\">26.74556213017754</desc></g><g class=\"rect\" style=\"fill: #dddcdc; stroke: #dddcdc\"><desc class=\"label\">org.springframework.samples.petclinic.web.CrashController</desc><rect class=\"rect reactive tooltip-trigger\" height=\"47.33727810650889\" width=\"9.875259875259758\" x=\"735.5093555093556\" y=\"3.0769230769230944\"/><desc class=\"value\">2</desc><desc class=\"x centered\">740.4469854469855</desc><desc class=\"y centered\">26.74556213017754</desc></g></g></g></g><g class=\"titles\"/><g class=\"plot overlay\" transform=\"translate(20, 20)\"><g class=\"series serie-0 color-0\"/><g class=\"series serie-1 color-1\"/><g class=\"series serie-2 color-2\"/><g class=\"series serie-3 color-3\"/><g class=\"series serie-4 color-4\"/><g class=\"series serie-5 color-5\"/><g class=\"series serie-6 color-6\"/></g><g class=\"plot text-overlay\" transform=\"translate(20, 20)\"><g class=\"series serie-0 color-0\"/><g class=\"series serie-1 color-1\"/><g class=\"series serie-2 color-2\"/><g class=\"series serie-3 color-3\"/><g class=\"series serie-4 color-4\"/><g class=\"series serie-5 color-5\"/><g class=\"series serie-6 color-6\"/></g><g class=\"plot tooltip-overlay\" transform=\"translate(20, 20)\"><g class=\"tooltip\" style=\"opacity: 0\" transform=\"translate(0 0)\"><rect class=\"tooltip-box\" height=\"0\" rx=\"0\" ry=\"0\" width=\"0\"/><g class=\"text\"/></g></g></g></svg>\n",
       "    </figure>\n",
       "  </body>\n",
       "</html>\n"
      ],
      "text/plain": [
       "<IPython.core.display.HTML object>"
      ]
     },
     "metadata": {},
     "output_type": "display_data"
    }
   ],
   "source": [
    "treemap = pygal.Treemap(height=200, show_legend=False)\n",
    "[treemap.add(x[0], x[1]) for x in class_ratios_by_category.iteritems()]\n",
    "display(HTML(base_html.format(rendered_chart=treemap.render(is_unicode=True))))"
   ]
  },
  {
   "cell_type": "markdown",
   "metadata": {},
   "source": [
    "# Conclusion\n",
    "\n",
    "Alright, that's it for this blog post! I hope you have seen that (if you know some tricks), you can easily integrate pandas with pygal!\n",
    "\n",
    "I find this combination a nice tradeoff between complexity and interactivity. Let me now if I can simplyfy or explain one or two things more deeply.\n",
    "\n",
    "Maybe next time, we can take a look at some tricks regarding [D3](https://d3js.org/), can't we?\n"
   ]
  }
 ],
 "metadata": {
  "kernelspec": {
   "display_name": "Python 3",
   "language": "python",
   "name": "python3"
  },
  "language_info": {
   "codemirror_mode": {
    "name": "ipython",
    "version": 3
   },
   "file_extension": ".py",
   "mimetype": "text/x-python",
   "name": "python",
   "nbconvert_exporter": "python",
   "pygments_lexer": "ipython3",
   "version": "3.6.0"
  }
 },
 "nbformat": 4,
 "nbformat_minor": 2
}
