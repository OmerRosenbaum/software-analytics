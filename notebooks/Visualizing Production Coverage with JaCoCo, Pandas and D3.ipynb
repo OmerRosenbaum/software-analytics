{
 "cells": [
  {
   "cell_type": "markdown",
   "metadata": {},
   "source": [
    "# Introduction\n",
    "I recently watched Michael Feather's talk about [Strategic Code Deletion](https://www.feststelltaste.de/video-michael-feathers-strategic-code-deletion/). Michael said that if we want to delete code, we have to know the actual usage of our code.\n",
    "\n",
    "In this post, I want you to show you how you can very easily get to some data and insights about what unused code to delete."
   ]
  },
  {
   "cell_type": "markdown",
   "metadata": {},
   "source": [
    "# Gathering production coverage data\n",
    "There are many ways to collect some data that fits our needs. You could use some kind of logging or performance profiling. But the easiest way is to use a code coverage tool like [JaCoCo](http://www.jacoco.org) or [Cobertura](http://cobertura.github.io/cobertura/) (for more, have a look at [this comparison](https://confluence.atlassian.com/clover/comparison-of-code-coverage-tools-681706101.html)) for measuring the coverage in production. The common use of those tools is measuring the coverage of the execution paths through tests. But they can also be used to measure the execution paths through the user's usage."
   ]
  },
  {
   "cell_type": "markdown",
   "metadata": {},
   "source": [
    "## Using JaCoCo for measuring code coverage in production\n",
    "In this post, we'll use the coverage tool JaCoCo. It's easy to integrate into test execution as well as production systems. You don't have to instrument your code and create a special artifact, but simply add it as Java agent to your servlet container or application server. \n",
    "\n",
    "As application example, we use a Spring Petclinic fork that runs on a Tomcat servlet container. We simply build the project and put the WAR file into Tomcat's <tt>webapps</tt> directory. Then we have to add JaCoCo as a Java agent by setting the <tt>JAVA_OPTS</tt> variable in <tt>conf/catalina.bat</tt>:\n",
    "\n",
    "```\n",
    "set \"JAVA_OPTS=%JAVA_OPTS% -javaagent:<path_to_lib>\\jacocoagent.jar=destfile=C:\\Temp\\jacoco.exec\"\n",
    "```\n",
    "\n",
    "After this, we fire up Tomcat and click around in the application, simulating \"production usage\" (in my case I booked a visit for an owner's pet). After shutting down Tomcat, we get a <tt>jacoco.exec</tt> file with the information needed.\n",
    "\n",
    "JaCoCo is usually integrated in the build itself via Maven or Ant to create the report. But there is a nice little lib that allows you to do this at the command line. You can download it via the snapshot all in one zip package. There is also a great [documentation site](http://www.jacoco.org/jacoco/trunk/doc/cli.html) available that leaves no question unanswered.\n",
    "\n",
    "In the end, the command is long, but not very special:\n",
    "\n",
    "```\n",
    "java -jar jacococli.jar report <path_to_jacoco.exec> --classfiles <path_to_classfiles_dir> --csv jacoco.csv\n",
    "```\n",
    "\n",
    "This will give you a nice little CSV file with all the coverage information at class level."
   ]
  },
  {
   "cell_type": "markdown",
   "metadata": {},
   "source": [
    "# Analyzing the coverage report\n",
    "OK, let's read in the produced CSV file."
   ]
  },
  {
   "cell_type": "code",
   "execution_count": 17,
   "metadata": {
    "collapsed": false
   },
   "outputs": [
    {
     "name": "stdout",
     "output_type": "stream",
     "text": [
      "GROUP,PACKAGE,CLASS,INSTRUCTION_MISSED,INSTRUCTION_COVERED,BRANCH_MISSED,BRANCH_COVERED,LINE_MISSED,LINE_COVERED,COMPLEXITY_MISSED,COMPLEXITY_COVERED,METHOD_MISSED,METHOD_COVERED\n",
      "JaCoCo Coverage Report,org.springframework.samples.petclinic,PetclinicInitializer,0,124,0,0,0,24,0,8,0,8\n",
      "JaCoCo Coverage Report,org.springframework.samples.petclinic.model,NamedEntity,3,10,0,0,1,4,1,3,1,3\n",
      "JaCoCo Coverage Report,org.springframework.samples.petclinic.model,Specialty,0,3,0,0,0,1,0,1,0,1\n"
     ]
    }
   ],
   "source": [
    "JACOCO_CSV_FILE = r'data/spring-petclinic/jacoco.csv'\n",
    "with open (JACOCO_CSV_FILE) as log:\n",
    "    [print(line, end='') for line in log.readlines()[:4]]"
   ]
  },
  {
   "cell_type": "markdown",
   "metadata": {},
   "source": [
    "We fire up our favorite data analysis framework Pandas and read in the file."
   ]
  },
  {
   "cell_type": "code",
   "execution_count": 18,
   "metadata": {
    "collapsed": false
   },
   "outputs": [
    {
     "data": {
      "text/html": [
       "<div>\n",
       "<table border=\"1\" class=\"dataframe\">\n",
       "  <thead>\n",
       "    <tr style=\"text-align: right;\">\n",
       "      <th></th>\n",
       "      <th>GROUP</th>\n",
       "      <th>PACKAGE</th>\n",
       "      <th>CLASS</th>\n",
       "      <th>INSTRUCTION_MISSED</th>\n",
       "      <th>INSTRUCTION_COVERED</th>\n",
       "      <th>BRANCH_MISSED</th>\n",
       "      <th>BRANCH_COVERED</th>\n",
       "      <th>LINE_MISSED</th>\n",
       "      <th>LINE_COVERED</th>\n",
       "      <th>COMPLEXITY_MISSED</th>\n",
       "      <th>COMPLEXITY_COVERED</th>\n",
       "      <th>METHOD_MISSED</th>\n",
       "      <th>METHOD_COVERED</th>\n",
       "    </tr>\n",
       "  </thead>\n",
       "  <tbody>\n",
       "    <tr>\n",
       "      <th>0</th>\n",
       "      <td>JaCoCo Coverage Report</td>\n",
       "      <td>org.springframework.samples.petclinic</td>\n",
       "      <td>PetclinicInitializer</td>\n",
       "      <td>0</td>\n",
       "      <td>124</td>\n",
       "      <td>0</td>\n",
       "      <td>0</td>\n",
       "      <td>0</td>\n",
       "      <td>24</td>\n",
       "      <td>0</td>\n",
       "      <td>8</td>\n",
       "      <td>0</td>\n",
       "      <td>8</td>\n",
       "    </tr>\n",
       "    <tr>\n",
       "      <th>1</th>\n",
       "      <td>JaCoCo Coverage Report</td>\n",
       "      <td>org.springframework.samples.petclinic.model</td>\n",
       "      <td>NamedEntity</td>\n",
       "      <td>3</td>\n",
       "      <td>10</td>\n",
       "      <td>0</td>\n",
       "      <td>0</td>\n",
       "      <td>1</td>\n",
       "      <td>4</td>\n",
       "      <td>1</td>\n",
       "      <td>3</td>\n",
       "      <td>1</td>\n",
       "      <td>3</td>\n",
       "    </tr>\n",
       "    <tr>\n",
       "      <th>2</th>\n",
       "      <td>JaCoCo Coverage Report</td>\n",
       "      <td>org.springframework.samples.petclinic.model</td>\n",
       "      <td>Specialty</td>\n",
       "      <td>0</td>\n",
       "      <td>3</td>\n",
       "      <td>0</td>\n",
       "      <td>0</td>\n",
       "      <td>0</td>\n",
       "      <td>1</td>\n",
       "      <td>0</td>\n",
       "      <td>1</td>\n",
       "      <td>0</td>\n",
       "      <td>1</td>\n",
       "    </tr>\n",
       "  </tbody>\n",
       "</table>\n",
       "</div>"
      ],
      "text/plain": [
       "                    GROUP                                      PACKAGE  \\\n",
       "0  JaCoCo Coverage Report        org.springframework.samples.petclinic   \n",
       "1  JaCoCo Coverage Report  org.springframework.samples.petclinic.model   \n",
       "2  JaCoCo Coverage Report  org.springframework.samples.petclinic.model   \n",
       "\n",
       "                  CLASS  INSTRUCTION_MISSED  INSTRUCTION_COVERED  \\\n",
       "0  PetclinicInitializer                   0                  124   \n",
       "1           NamedEntity                   3                   10   \n",
       "2             Specialty                   0                    3   \n",
       "\n",
       "   BRANCH_MISSED  BRANCH_COVERED  LINE_MISSED  LINE_COVERED  \\\n",
       "0              0               0            0            24   \n",
       "1              0               0            1             4   \n",
       "2              0               0            0             1   \n",
       "\n",
       "   COMPLEXITY_MISSED  COMPLEXITY_COVERED  METHOD_MISSED  METHOD_COVERED  \n",
       "0                  0                   8              0               8  \n",
       "1                  1                   3              1               3  \n",
       "2                  0                   1              0               1  "
      ]
     },
     "execution_count": 18,
     "metadata": {},
     "output_type": "execute_result"
    }
   ],
   "source": [
    "import pandas as pd\n",
    "coverage= pd.read_csv(JACOCO_CSV_FILE)\n",
    "coverage.head(3)"
   ]
  },
  {
   "cell_type": "markdown",
   "metadata": {},
   "source": [
    "Nice, Pandas recognizes the format of the CSV file automagically! \n",
    "\n",
    "We don't need all the information in the CSV file for our purpose, so we just get the relevant columns."
   ]
  },
  {
   "cell_type": "code",
   "execution_count": 19,
   "metadata": {
    "collapsed": false
   },
   "outputs": [
    {
     "data": {
      "text/html": [
       "<div>\n",
       "<table border=\"1\" class=\"dataframe\">\n",
       "  <thead>\n",
       "    <tr style=\"text-align: right;\">\n",
       "      <th></th>\n",
       "      <th>PACKAGE</th>\n",
       "      <th>CLASS</th>\n",
       "      <th>LINE_MISSED</th>\n",
       "      <th>LINE_COVERED</th>\n",
       "    </tr>\n",
       "  </thead>\n",
       "  <tbody>\n",
       "    <tr>\n",
       "      <th>0</th>\n",
       "      <td>org.springframework.samples.petclinic</td>\n",
       "      <td>PetclinicInitializer</td>\n",
       "      <td>0</td>\n",
       "      <td>24</td>\n",
       "    </tr>\n",
       "    <tr>\n",
       "      <th>1</th>\n",
       "      <td>org.springframework.samples.petclinic.model</td>\n",
       "      <td>NamedEntity</td>\n",
       "      <td>1</td>\n",
       "      <td>4</td>\n",
       "    </tr>\n",
       "    <tr>\n",
       "      <th>2</th>\n",
       "      <td>org.springframework.samples.petclinic.model</td>\n",
       "      <td>Specialty</td>\n",
       "      <td>0</td>\n",
       "      <td>1</td>\n",
       "    </tr>\n",
       "    <tr>\n",
       "      <th>3</th>\n",
       "      <td>org.springframework.samples.petclinic.model</td>\n",
       "      <td>PetType</td>\n",
       "      <td>0</td>\n",
       "      <td>1</td>\n",
       "    </tr>\n",
       "    <tr>\n",
       "      <th>4</th>\n",
       "      <td>org.springframework.samples.petclinic.model</td>\n",
       "      <td>Vets</td>\n",
       "      <td>4</td>\n",
       "      <td>0</td>\n",
       "    </tr>\n",
       "  </tbody>\n",
       "</table>\n",
       "</div>"
      ],
      "text/plain": [
       "                                       PACKAGE                 CLASS  \\\n",
       "0        org.springframework.samples.petclinic  PetclinicInitializer   \n",
       "1  org.springframework.samples.petclinic.model           NamedEntity   \n",
       "2  org.springframework.samples.petclinic.model             Specialty   \n",
       "3  org.springframework.samples.petclinic.model               PetType   \n",
       "4  org.springframework.samples.petclinic.model                  Vets   \n",
       "\n",
       "   LINE_MISSED  LINE_COVERED  \n",
       "0            0            24  \n",
       "1            1             4  \n",
       "2            0             1  \n",
       "3            0             1  \n",
       "4            4             0  "
      ]
     },
     "execution_count": 19,
     "metadata": {},
     "output_type": "execute_result"
    }
   ],
   "source": [
    "coverage = coverage[['PACKAGE', 'CLASS', 'LINE_MISSED', 'LINE_COVERED']]\n",
    "coverage.head()"
   ]
  },
  {
   "cell_type": "markdown",
   "metadata": {},
   "source": [
    "Let's add some custom measures. For the size of class, we simply add the line information together. Based upon this, we can also calculate the ratio between covered lines and all lines in our code.\n",
    "\n",
    "We use lowercase names for our own columns to be able to tell them apart."
   ]
  },
  {
   "cell_type": "code",
   "execution_count": 20,
   "metadata": {
    "collapsed": false
   },
   "outputs": [
    {
     "data": {
      "text/html": [
       "<div>\n",
       "<table border=\"1\" class=\"dataframe\">\n",
       "  <thead>\n",
       "    <tr style=\"text-align: right;\">\n",
       "      <th></th>\n",
       "      <th>PACKAGE</th>\n",
       "      <th>CLASS</th>\n",
       "      <th>LINE_MISSED</th>\n",
       "      <th>LINE_COVERED</th>\n",
       "      <th>line_size</th>\n",
       "      <th>line_covered_ratio</th>\n",
       "    </tr>\n",
       "  </thead>\n",
       "  <tbody>\n",
       "    <tr>\n",
       "      <th>0</th>\n",
       "      <td>org.springframework.samples.petclinic</td>\n",
       "      <td>PetclinicInitializer</td>\n",
       "      <td>0</td>\n",
       "      <td>24</td>\n",
       "      <td>24</td>\n",
       "      <td>1.0</td>\n",
       "    </tr>\n",
       "    <tr>\n",
       "      <th>1</th>\n",
       "      <td>org.springframework.samples.petclinic.model</td>\n",
       "      <td>NamedEntity</td>\n",
       "      <td>1</td>\n",
       "      <td>4</td>\n",
       "      <td>5</td>\n",
       "      <td>0.8</td>\n",
       "    </tr>\n",
       "    <tr>\n",
       "      <th>2</th>\n",
       "      <td>org.springframework.samples.petclinic.model</td>\n",
       "      <td>Specialty</td>\n",
       "      <td>0</td>\n",
       "      <td>1</td>\n",
       "      <td>1</td>\n",
       "      <td>1.0</td>\n",
       "    </tr>\n",
       "    <tr>\n",
       "      <th>3</th>\n",
       "      <td>org.springframework.samples.petclinic.model</td>\n",
       "      <td>PetType</td>\n",
       "      <td>0</td>\n",
       "      <td>1</td>\n",
       "      <td>1</td>\n",
       "      <td>1.0</td>\n",
       "    </tr>\n",
       "    <tr>\n",
       "      <th>4</th>\n",
       "      <td>org.springframework.samples.petclinic.model</td>\n",
       "      <td>Vets</td>\n",
       "      <td>4</td>\n",
       "      <td>0</td>\n",
       "      <td>4</td>\n",
       "      <td>0.0</td>\n",
       "    </tr>\n",
       "  </tbody>\n",
       "</table>\n",
       "</div>"
      ],
      "text/plain": [
       "                                       PACKAGE                 CLASS  \\\n",
       "0        org.springframework.samples.petclinic  PetclinicInitializer   \n",
       "1  org.springframework.samples.petclinic.model           NamedEntity   \n",
       "2  org.springframework.samples.petclinic.model             Specialty   \n",
       "3  org.springframework.samples.petclinic.model               PetType   \n",
       "4  org.springframework.samples.petclinic.model                  Vets   \n",
       "\n",
       "   LINE_MISSED  LINE_COVERED  line_size  line_covered_ratio  \n",
       "0            0            24         24                 1.0  \n",
       "1            1             4          5                 0.8  \n",
       "2            0             1          1                 1.0  \n",
       "3            0             1          1                 1.0  \n",
       "4            4             0          4                 0.0  "
      ]
     },
     "execution_count": 20,
     "metadata": {},
     "output_type": "execute_result"
    }
   ],
   "source": [
    "coverage['line_size'] = coverage['LINE_MISSED'] + coverage['LINE_COVERED']\n",
    "coverage['line_covered_ratio'] =  coverage['LINE_COVERED'] / coverage['line_size']\n",
    "coverage.head()"
   ]
  },
  {
   "cell_type": "markdown",
   "metadata": {},
   "source": [
    "That's all we need! Let's get to the interesting stuff!"
   ]
  },
  {
   "cell_type": "markdown",
   "metadata": {},
   "source": [
    "# Examing feature usages\n",
    "In reality, it's not so easy to derive from the pure naming schema, because you will simply hava a mess. But there are sophisticated ways to do this e. g. with jQAssistant, which I will cover in another post."
   ]
  },
  {
   "cell_type": "code",
   "execution_count": 21,
   "metadata": {
    "collapsed": false
   },
   "outputs": [
    {
     "data": {
      "text/html": [
       "<div>\n",
       "<table border=\"1\" class=\"dataframe\">\n",
       "  <thead>\n",
       "    <tr style=\"text-align: right;\">\n",
       "      <th></th>\n",
       "      <th>CLASS</th>\n",
       "      <th>feature</th>\n",
       "    </tr>\n",
       "  </thead>\n",
       "  <tbody>\n",
       "    <tr>\n",
       "      <th>0</th>\n",
       "      <td>PetclinicInitializer</td>\n",
       "      <td>Pet</td>\n",
       "    </tr>\n",
       "    <tr>\n",
       "      <th>1</th>\n",
       "      <td>NamedEntity</td>\n",
       "      <td>Framework</td>\n",
       "    </tr>\n",
       "    <tr>\n",
       "      <th>2</th>\n",
       "      <td>Specialty</td>\n",
       "      <td>Specialty</td>\n",
       "    </tr>\n",
       "    <tr>\n",
       "      <th>3</th>\n",
       "      <td>PetType</td>\n",
       "      <td>Pet</td>\n",
       "    </tr>\n",
       "    <tr>\n",
       "      <th>4</th>\n",
       "      <td>Vets</td>\n",
       "      <td>Vet</td>\n",
       "    </tr>\n",
       "  </tbody>\n",
       "</table>\n",
       "</div>"
      ],
      "text/plain": [
       "                  CLASS    feature\n",
       "0  PetclinicInitializer        Pet\n",
       "1           NamedEntity  Framework\n",
       "2             Specialty  Specialty\n",
       "3               PetType        Pet\n",
       "4                  Vets        Vet"
      ]
     },
     "execution_count": 21,
     "metadata": {},
     "output_type": "execute_result"
    }
   ],
   "source": [
    "features = ['Owner', 'Pet', 'Visit', 'Vet', 'Specialty', 'Clinic']\n",
    "for feature in features:\n",
    "    coverage.ix[coverage['CLASS'].str.contains(feature), 'feature'] = feature\n",
    "\n",
    "coverage.ix[coverage['feature'].isnull(), 'feature'] = \"Framework\"\n",
    "\n",
    "coverage[['CLASS', 'feature']].head()"
   ]
  },
  {
   "cell_type": "code",
   "execution_count": 22,
   "metadata": {
    "collapsed": false
   },
   "outputs": [
    {
     "data": {
      "text/html": [
       "<div>\n",
       "<table border=\"1\" class=\"dataframe\">\n",
       "  <thead>\n",
       "    <tr style=\"text-align: right;\">\n",
       "      <th></th>\n",
       "      <th>line_covered_ratio</th>\n",
       "    </tr>\n",
       "    <tr>\n",
       "      <th>feature</th>\n",
       "      <th></th>\n",
       "    </tr>\n",
       "  </thead>\n",
       "  <tbody>\n",
       "    <tr>\n",
       "      <th>Vet</th>\n",
       "      <td>0.147222</td>\n",
       "    </tr>\n",
       "    <tr>\n",
       "      <th>Visit</th>\n",
       "      <td>0.385417</td>\n",
       "    </tr>\n",
       "    <tr>\n",
       "      <th>Owner</th>\n",
       "      <td>0.549495</td>\n",
       "    </tr>\n",
       "    <tr>\n",
       "      <th>Pet</th>\n",
       "      <td>0.594156</td>\n",
       "    </tr>\n",
       "    <tr>\n",
       "      <th>Framework</th>\n",
       "      <td>0.640278</td>\n",
       "    </tr>\n",
       "    <tr>\n",
       "      <th>Clinic</th>\n",
       "      <td>0.888889</td>\n",
       "    </tr>\n",
       "    <tr>\n",
       "      <th>Specialty</th>\n",
       "      <td>1.000000</td>\n",
       "    </tr>\n",
       "  </tbody>\n",
       "</table>\n",
       "</div>"
      ],
      "text/plain": [
       "           line_covered_ratio\n",
       "feature                      \n",
       "Vet                  0.147222\n",
       "Visit                0.385417\n",
       "Owner                0.549495\n",
       "Pet                  0.594156\n",
       "Framework            0.640278\n",
       "Clinic               0.888889\n",
       "Specialty            1.000000"
      ]
     },
     "execution_count": 22,
     "metadata": {},
     "output_type": "execute_result"
    }
   ],
   "source": [
    "feature_usage = coverage.groupby('feature').mean().sort_values(by='line_covered_ratio')[['line_covered_ratio']]\n",
    "feature_usage"
   ]
  },
  {
   "cell_type": "code",
   "execution_count": 23,
   "metadata": {
    "collapsed": false
   },
   "outputs": [
    {
     "data": {
      "text/html": [
       "<div>\n",
       "<table border=\"1\" class=\"dataframe\">\n",
       "  <thead>\n",
       "    <tr style=\"text-align: right;\">\n",
       "      <th></th>\n",
       "      <th>PACKAGE</th>\n",
       "      <th>CLASS</th>\n",
       "      <th>line_covered_ratio</th>\n",
       "      <th>line_size</th>\n",
       "    </tr>\n",
       "  </thead>\n",
       "  <tbody>\n",
       "    <tr>\n",
       "      <th>4</th>\n",
       "      <td>org.springframework.samples.petclinic.model</td>\n",
       "      <td>Vets</td>\n",
       "      <td>0.000000</td>\n",
       "      <td>4</td>\n",
       "    </tr>\n",
       "    <tr>\n",
       "      <th>10</th>\n",
       "      <td>org.springframework.samples.petclinic.model</td>\n",
       "      <td>Vet</td>\n",
       "      <td>0.083333</td>\n",
       "      <td>12</td>\n",
       "    </tr>\n",
       "    <tr>\n",
       "      <th>17</th>\n",
       "      <td>org.springframework.samples.petclinic.web</td>\n",
       "      <td>VetController</td>\n",
       "      <td>0.300000</td>\n",
       "      <td>10</td>\n",
       "    </tr>\n",
       "    <tr>\n",
       "      <th>23</th>\n",
       "      <td>org.springframework.samples.petclinic.reposito...</td>\n",
       "      <td>JdbcVetRepositoryImpl</td>\n",
       "      <td>0.000000</td>\n",
       "      <td>17</td>\n",
       "    </tr>\n",
       "    <tr>\n",
       "      <th>25</th>\n",
       "      <td>org.springframework.samples.petclinic.reposito...</td>\n",
       "      <td>JdbcVetRepositoryImpl.new BeanPropertyRowMappe...</td>\n",
       "      <td>0.000000</td>\n",
       "      <td>2</td>\n",
       "    </tr>\n",
       "    <tr>\n",
       "      <th>32</th>\n",
       "      <td>org.springframework.samples.petclinic.reposito...</td>\n",
       "      <td>JpaVetRepositoryImpl</td>\n",
       "      <td>0.500000</td>\n",
       "      <td>2</td>\n",
       "    </tr>\n",
       "  </tbody>\n",
       "</table>\n",
       "</div>"
      ],
      "text/plain": [
       "                                              PACKAGE  \\\n",
       "4         org.springframework.samples.petclinic.model   \n",
       "10        org.springframework.samples.petclinic.model   \n",
       "17          org.springframework.samples.petclinic.web   \n",
       "23  org.springframework.samples.petclinic.reposito...   \n",
       "25  org.springframework.samples.petclinic.reposito...   \n",
       "32  org.springframework.samples.petclinic.reposito...   \n",
       "\n",
       "                                                CLASS  line_covered_ratio  \\\n",
       "4                                                Vets            0.000000   \n",
       "10                                                Vet            0.083333   \n",
       "17                                      VetController            0.300000   \n",
       "23                              JdbcVetRepositoryImpl            0.000000   \n",
       "25  JdbcVetRepositoryImpl.new BeanPropertyRowMappe...            0.000000   \n",
       "32                               JpaVetRepositoryImpl            0.500000   \n",
       "\n",
       "    line_size  \n",
       "4           4  \n",
       "10         12  \n",
       "17         10  \n",
       "23         17  \n",
       "25          2  \n",
       "32          2  "
      ]
     },
     "execution_count": 23,
     "metadata": {},
     "output_type": "execute_result"
    }
   ],
   "source": [
    "classes_to_delete_by_feature = coverage[coverage['feature'] == feature_usage.index[0]][['PACKAGE', 'CLASS', 'line_covered_ratio', 'line_size']]\n",
    "classes_to_delete_by_feature"
   ]
  },
  {
   "cell_type": "markdown",
   "metadata": {},
   "source": [
    "# Examing technology usage\n",
    "The next question is: Are there technological parts in my software that aren't used in production at all?\n",
    "    \n",
    "This time, we use the information that is implicit encoded in the package names. Our heuristic simply takes the last package name as technology related information."
   ]
  },
  {
   "cell_type": "code",
   "execution_count": 24,
   "metadata": {
    "collapsed": false
   },
   "outputs": [
    {
     "data": {
      "text/html": [
       "<div>\n",
       "<table border=\"1\" class=\"dataframe\">\n",
       "  <thead>\n",
       "    <tr style=\"text-align: right;\">\n",
       "      <th></th>\n",
       "      <th>PACKAGE</th>\n",
       "      <th>technology</th>\n",
       "    </tr>\n",
       "  </thead>\n",
       "  <tbody>\n",
       "    <tr>\n",
       "      <th>0</th>\n",
       "      <td>org.springframework.samples.petclinic</td>\n",
       "      <td>petclinic</td>\n",
       "    </tr>\n",
       "    <tr>\n",
       "      <th>1</th>\n",
       "      <td>org.springframework.samples.petclinic.model</td>\n",
       "      <td>model</td>\n",
       "    </tr>\n",
       "    <tr>\n",
       "      <th>2</th>\n",
       "      <td>org.springframework.samples.petclinic.model</td>\n",
       "      <td>model</td>\n",
       "    </tr>\n",
       "    <tr>\n",
       "      <th>3</th>\n",
       "      <td>org.springframework.samples.petclinic.model</td>\n",
       "      <td>model</td>\n",
       "    </tr>\n",
       "    <tr>\n",
       "      <th>4</th>\n",
       "      <td>org.springframework.samples.petclinic.model</td>\n",
       "      <td>model</td>\n",
       "    </tr>\n",
       "  </tbody>\n",
       "</table>\n",
       "</div>"
      ],
      "text/plain": [
       "                                       PACKAGE technology\n",
       "0        org.springframework.samples.petclinic  petclinic\n",
       "1  org.springframework.samples.petclinic.model      model\n",
       "2  org.springframework.samples.petclinic.model      model\n",
       "3  org.springframework.samples.petclinic.model      model\n",
       "4  org.springframework.samples.petclinic.model      model"
      ]
     },
     "execution_count": 24,
     "metadata": {},
     "output_type": "execute_result"
    }
   ],
   "source": [
    "coverage['technology'] = coverage['PACKAGE'].str.split(\".\").str.get(-1)\n",
    "coverage[['PACKAGE', 'technology']].head()"
   ]
  },
  {
   "cell_type": "markdown",
   "metadata": {},
   "source": [
    "Looks good! Them, same game as before, we simply group by the new information:"
   ]
  },
  {
   "cell_type": "code",
   "execution_count": 25,
   "metadata": {
    "collapsed": false
   },
   "outputs": [
    {
     "data": {
      "text/html": [
       "<div>\n",
       "<table border=\"1\" class=\"dataframe\">\n",
       "  <thead>\n",
       "    <tr style=\"text-align: right;\">\n",
       "      <th></th>\n",
       "      <th>line_covered_ratio</th>\n",
       "    </tr>\n",
       "    <tr>\n",
       "      <th>technology</th>\n",
       "      <th></th>\n",
       "    </tr>\n",
       "  </thead>\n",
       "  <tbody>\n",
       "    <tr>\n",
       "      <th>jdbc</th>\n",
       "      <td>0.000000</td>\n",
       "    </tr>\n",
       "    <tr>\n",
       "      <th>util</th>\n",
       "      <td>0.270833</td>\n",
       "    </tr>\n",
       "    <tr>\n",
       "      <th>web</th>\n",
       "      <td>0.639809</td>\n",
       "    </tr>\n",
       "    <tr>\n",
       "      <th>jpa</th>\n",
       "      <td>0.691558</td>\n",
       "    </tr>\n",
       "    <tr>\n",
       "      <th>model</th>\n",
       "      <td>0.739048</td>\n",
       "    </tr>\n",
       "    <tr>\n",
       "      <th>service</th>\n",
       "      <td>0.888889</td>\n",
       "    </tr>\n",
       "    <tr>\n",
       "      <th>petclinic</th>\n",
       "      <td>1.000000</td>\n",
       "    </tr>\n",
       "  </tbody>\n",
       "</table>\n",
       "</div>"
      ],
      "text/plain": [
       "            line_covered_ratio\n",
       "technology                    \n",
       "jdbc                  0.000000\n",
       "util                  0.270833\n",
       "web                   0.639809\n",
       "jpa                   0.691558\n",
       "model                 0.739048\n",
       "service               0.888889\n",
       "petclinic             1.000000"
      ]
     },
     "execution_count": 25,
     "metadata": {},
     "output_type": "execute_result"
    }
   ],
   "source": [
    "technology_usage = coverage.groupby('technology').mean().sort_values(by='line_covered_ratio')[['line_covered_ratio']]\n",
    "technology_usage"
   ]
  },
  {
   "cell_type": "code",
   "execution_count": 26,
   "metadata": {
    "collapsed": true
   },
   "outputs": [],
   "source": [
    "feature_to_delete = technology_usage.index[0]"
   ]
  },
  {
   "cell_type": "markdown",
   "metadata": {},
   "source": [
    "There is one part that isn't used at all: \"jdbc\". There is a great chance that in the long term we don't need that technology at all. Let's see how many classes we could probably delete here:"
   ]
  },
  {
   "cell_type": "code",
   "execution_count": 27,
   "metadata": {
    "collapsed": false
   },
   "outputs": [
    {
     "data": {
      "text/html": [
       "<div>\n",
       "<table border=\"1\" class=\"dataframe\">\n",
       "  <thead>\n",
       "    <tr style=\"text-align: right;\">\n",
       "      <th></th>\n",
       "      <th>PACKAGE</th>\n",
       "      <th>CLASS</th>\n",
       "      <th>line_covered_ratio</th>\n",
       "      <th>line_size</th>\n",
       "    </tr>\n",
       "  </thead>\n",
       "  <tbody>\n",
       "    <tr>\n",
       "      <th>21</th>\n",
       "      <td>org.springframework.samples.petclinic.reposito...</td>\n",
       "      <td>JdbcVisitRowMapper</td>\n",
       "      <td>0.0</td>\n",
       "      <td>7</td>\n",
       "    </tr>\n",
       "    <tr>\n",
       "      <th>22</th>\n",
       "      <td>org.springframework.samples.petclinic.reposito...</td>\n",
       "      <td>JdbcPetRepositoryImpl</td>\n",
       "      <td>0.0</td>\n",
       "      <td>33</td>\n",
       "    </tr>\n",
       "    <tr>\n",
       "      <th>23</th>\n",
       "      <td>org.springframework.samples.petclinic.reposito...</td>\n",
       "      <td>JdbcVetRepositoryImpl</td>\n",
       "      <td>0.0</td>\n",
       "      <td>17</td>\n",
       "    </tr>\n",
       "    <tr>\n",
       "      <th>24</th>\n",
       "      <td>org.springframework.samples.petclinic.reposito...</td>\n",
       "      <td>JdbcPetRowMapper</td>\n",
       "      <td>0.0</td>\n",
       "      <td>9</td>\n",
       "    </tr>\n",
       "    <tr>\n",
       "      <th>25</th>\n",
       "      <td>org.springframework.samples.petclinic.reposito...</td>\n",
       "      <td>JdbcVetRepositoryImpl.new BeanPropertyRowMappe...</td>\n",
       "      <td>0.0</td>\n",
       "      <td>2</td>\n",
       "    </tr>\n",
       "    <tr>\n",
       "      <th>26</th>\n",
       "      <td>org.springframework.samples.petclinic.reposito...</td>\n",
       "      <td>JdbcVisitRepositoryImpl</td>\n",
       "      <td>0.0</td>\n",
       "      <td>26</td>\n",
       "    </tr>\n",
       "    <tr>\n",
       "      <th>27</th>\n",
       "      <td>org.springframework.samples.petclinic.reposito...</td>\n",
       "      <td>JdbcPet</td>\n",
       "      <td>0.0</td>\n",
       "      <td>7</td>\n",
       "    </tr>\n",
       "    <tr>\n",
       "      <th>28</th>\n",
       "      <td>org.springframework.samples.petclinic.reposito...</td>\n",
       "      <td>JdbcPetVisitExtractor</td>\n",
       "      <td>0.0</td>\n",
       "      <td>8</td>\n",
       "    </tr>\n",
       "    <tr>\n",
       "      <th>29</th>\n",
       "      <td>org.springframework.samples.petclinic.reposito...</td>\n",
       "      <td>JdbcOwnerRepositoryImpl</td>\n",
       "      <td>0.0</td>\n",
       "      <td>43</td>\n",
       "    </tr>\n",
       "  </tbody>\n",
       "</table>\n",
       "</div>"
      ],
      "text/plain": [
       "                                              PACKAGE  \\\n",
       "21  org.springframework.samples.petclinic.reposito...   \n",
       "22  org.springframework.samples.petclinic.reposito...   \n",
       "23  org.springframework.samples.petclinic.reposito...   \n",
       "24  org.springframework.samples.petclinic.reposito...   \n",
       "25  org.springframework.samples.petclinic.reposito...   \n",
       "26  org.springframework.samples.petclinic.reposito...   \n",
       "27  org.springframework.samples.petclinic.reposito...   \n",
       "28  org.springframework.samples.petclinic.reposito...   \n",
       "29  org.springframework.samples.petclinic.reposito...   \n",
       "\n",
       "                                                CLASS  line_covered_ratio  \\\n",
       "21                                 JdbcVisitRowMapper                 0.0   \n",
       "22                              JdbcPetRepositoryImpl                 0.0   \n",
       "23                              JdbcVetRepositoryImpl                 0.0   \n",
       "24                                   JdbcPetRowMapper                 0.0   \n",
       "25  JdbcVetRepositoryImpl.new BeanPropertyRowMappe...                 0.0   \n",
       "26                            JdbcVisitRepositoryImpl                 0.0   \n",
       "27                                            JdbcPet                 0.0   \n",
       "28                              JdbcPetVisitExtractor                 0.0   \n",
       "29                            JdbcOwnerRepositoryImpl                 0.0   \n",
       "\n",
       "    line_size  \n",
       "21          7  \n",
       "22         33  \n",
       "23         17  \n",
       "24          9  \n",
       "25          2  \n",
       "26         26  \n",
       "27          7  \n",
       "28          8  \n",
       "29         43  "
      ]
     },
     "execution_count": 27,
     "metadata": {},
     "output_type": "execute_result"
    }
   ],
   "source": [
    "classes_to_delete_by_technology = coverage[coverage['technology'] == technology_usage.index[0]][['PACKAGE', 'CLASS', 'line_covered_ratio', 'line_size']]\n",
    "classes_to_delete_by_technology"
   ]
  },
  {
   "cell_type": "markdown",
   "metadata": {},
   "source": [
    "The proportion of the whole code base is 32%!"
   ]
  },
  {
   "cell_type": "code",
   "execution_count": 28,
   "metadata": {
    "collapsed": false
   },
   "outputs": [
    {
     "name": "stdout",
     "output_type": "stream",
     "text": [
      "32%\n"
     ]
    }
   ],
   "source": [
    "print(\"{:.0%}\".format(classes_to_delete_by_technology['line_size'].sum() / coverage['line_size'].sum()))"
   ]
  },
  {
   "cell_type": "markdown",
   "metadata": {},
   "source": [
    "In summary, we can fairly say that we can delete this amount of code:"
   ]
  },
  {
   "cell_type": "code",
   "execution_count": 29,
   "metadata": {
    "collapsed": false
   },
   "outputs": [
    {
     "name": "stdout",
     "output_type": "stream",
     "text": [
      "42%\n"
     ]
    }
   ],
   "source": [
    "print(\"{:.0%}\".format(\n",
    "    (classes_to_delete_by_feature['line_size'].sum() + \n",
    "     classes_to_delete_by_technology['line_size'].sum()) / \n",
    "     coverage['line_size'].sum()))"
   ]
  },
  {
   "cell_type": "markdown",
   "metadata": {},
   "source": [
    "**42**! I mean, this is the answer! The answer to (keeping legacy systems a-) life :-D !"
   ]
  },
  {
   "cell_type": "markdown",
   "metadata": {},
   "source": [
    "# Visualizing the results\n",
    "But there is one more thing!\n",
    "\n",
    "We can easily visualize the whole code base including the production coverage measures in a nice [hierarchical bubble chart](https://bl.ocks.org/mbostock/7607535) with the [JavaScript visualization library D3](https://d3js.org/). At this point, kudos to [Mike Bostock](https://bost.ocks.org/mike/) and [Adam Thornhill](https://pragprog.com/book/atcrime/your-code-as-a-crime-scene) for their excellent examples!\n",
    "\n",
    "For the visualization, we need something hierarchical to display. We use the information of the <tt>PACKAGE</tt> column that contains the Java package name with dots as separator, which fits just perfect as hierachical data. We also need a size measure for the size of the bubbles. We can use the <tt>line_size</tt> information here that we've calculated before. Additionally, we use the colors of the bubbles as identifier for \"how much is something covered\". For this, we use matplotlib's color brewer to assign colors from blue (=cold) to red (=hot) depending of the <tt>line_covered_ratio</tt> (including the conversion to CSS colors because this is what D3 needs).\n",
    "\n",
    "So let's get a new <tt>color</tt> column first:"
   ]
  },
  {
   "cell_type": "code",
   "execution_count": 30,
   "metadata": {
    "collapsed": false
   },
   "outputs": [
    {
     "data": {
      "text/html": [
       "<div>\n",
       "<table border=\"1\" class=\"dataframe\">\n",
       "  <thead>\n",
       "    <tr style=\"text-align: right;\">\n",
       "      <th></th>\n",
       "      <th>line_covered_ratio</th>\n",
       "      <th>color</th>\n",
       "    </tr>\n",
       "  </thead>\n",
       "  <tbody>\n",
       "    <tr>\n",
       "      <th>0</th>\n",
       "      <td>1.0</td>\n",
       "      <td>#b40426</td>\n",
       "    </tr>\n",
       "    <tr>\n",
       "      <th>1</th>\n",
       "      <td>0.8</td>\n",
       "      <td>#ee8468</td>\n",
       "    </tr>\n",
       "    <tr>\n",
       "      <th>2</th>\n",
       "      <td>1.0</td>\n",
       "      <td>#b40426</td>\n",
       "    </tr>\n",
       "    <tr>\n",
       "      <th>3</th>\n",
       "      <td>1.0</td>\n",
       "      <td>#b40426</td>\n",
       "    </tr>\n",
       "    <tr>\n",
       "      <th>4</th>\n",
       "      <td>0.0</td>\n",
       "      <td>#3b4cc0</td>\n",
       "    </tr>\n",
       "  </tbody>\n",
       "</table>\n",
       "</div>"
      ],
      "text/plain": [
       "   line_covered_ratio    color\n",
       "0                 1.0  #b40426\n",
       "1                 0.8  #ee8468\n",
       "2                 1.0  #b40426\n",
       "3                 1.0  #b40426\n",
       "4                 0.0  #3b4cc0"
      ]
     },
     "execution_count": 30,
     "metadata": {},
     "output_type": "execute_result"
    }
   ],
   "source": [
    "import matplotlib.cm as cm\n",
    "import matplotlib.colors\n",
    "\n",
    "def assign_rgb_color(value):\n",
    "    color_code = cm.coolwarm(value)\n",
    "    return matplotlib.colors.rgb2hex(color_code) \n",
    "\n",
    "plot_data = coverage.copy()\n",
    "plot_data['color'] = plot_data['line_covered_ratio'].apply(assign_rgb_color)\n",
    "plot_data[['line_covered_ratio', 'color']].head(5)"
   ]
  },
  {
   "cell_type": "markdown",
   "metadata": {},
   "source": [
    "OK, let's transform our data frame into the [hierarchical JSON format \"flare\"](http://matthewfieger.com/posts/me/2014/06/27/nesting_data_for_d3.html) that is needed by D3 to visualize the bubble chart. We just match our columns to more generic names that are used by D3 later on for displaying the various measures:"
   ]
  },
  {
   "cell_type": "code",
   "execution_count": 31,
   "metadata": {
    "collapsed": false
   },
   "outputs": [
    {
     "name": "stdout",
     "output_type": "stream",
     "text": [
      "{\n",
      "   \"name\": \"flare\",\n",
      "   \"children\": [\n",
      "      {\n",
      "         \"name\": \"org\",\n",
      "         \"children\": [\n",
      "            {\n",
      "               \"name\": \"springframework\",\n",
      "               \"children\": [\n",
      "                  {\n",
      "                     \"name\": \"samples\",\n",
      "                     \"children\": [\n",
      "                        {\n",
      "                           \"name\": \"petclinic\",\n",
      "                           \"children\": [\n",
      "                              {\n",
      "                                 \"name\": \"PetclinicInitializer\",\n",
      "                                 \"size\": 24,\n",
      "                                 \"color\": \"#b40426\"\n",
      "                              },\n",
      "                              {\n",
      "                                 \"name\": \"model\",\n",
      "                                 \"children\": [\n",
      "                                    {\n",
      "                                       \"name\": \"NamedEntity\",\n",
      "                                       \"size\": 5,\n",
      "                                       \"color\": \"#ee8468\"\n",
      "                                    },\n",
      "        \n"
     ]
    }
   ],
   "source": [
    "import json\n",
    "\n",
    "def create_flare_json(data, \n",
    "                      column_name_with_hierarchical_data, \n",
    "                      separator=\".\", \n",
    "                      name_column=\"name\", \n",
    "                      size_column=\"size\",\n",
    "                      color_column=\"color\"):\n",
    "    \n",
    "    json_data = {}\n",
    "    json_data['name'] = 'flare'\n",
    "    json_data['children'] = []\n",
    "\n",
    "    for row in data.iterrows():\n",
    "        series = row[1]\n",
    "        hierarchical_data = series[column_name_with_hierarchical_data]\n",
    "\n",
    "        last_children = None\n",
    "        children = json_data['children']\n",
    "\n",
    "        for part in hierarchical_data.split(separator):\n",
    "            entry = None\n",
    "\n",
    "            # build up the tree\n",
    "            for child in children:\n",
    "                if \"name\" in child and child[\"name\"] == part:\n",
    "                    entry = child\n",
    "            if not entry:\n",
    "                entry = {}\n",
    "                children.append(entry)\n",
    "            \n",
    "            # create a new entry section\n",
    "            entry['name'] = part\n",
    "            if not 'children' in entry: \n",
    "                entry['children'] = []\n",
    "            children = entry['children']\n",
    "        \n",
    "            last_children = children\n",
    "\n",
    "        # add data to leaf node\n",
    "        last_children.append({ \n",
    "            'name' : series[name_column], \n",
    "            'size' : series[size_column],\n",
    "            'color' : series[color_column]\n",
    "        })\n",
    "        \n",
    "    return json_data\n",
    "    \n",
    "json_data = create_flare_json(plot_data, \"PACKAGE\", \".\", \"CLASS\", \"line_size\")\n",
    "\n",
    "print(json.dumps(json_data, indent=3)[0:1000])"
   ]
  },
  {
   "cell_type": "markdown",
   "metadata": {},
   "source": [
    "Finally, we save the produced JSON data into a file for later displaying."
   ]
  },
  {
   "cell_type": "code",
   "execution_count": 32,
   "metadata": {
    "collapsed": false
   },
   "outputs": [],
   "source": [
    "FLARE_JSON_FILE = r'vis/flare.json'\n",
    "\n",
    "with open (FLARE_JSON_FILE, mode='w', encoding='utf-8') as json_file:\n",
    "    json_file.write(json.dumps(json_data, indent=3))"
   ]
  },
  {
   "cell_type": "markdown",
   "metadata": {},
   "source": [
    "This gives us a nice visualization of the production coverage in our code.\n",
    "\n",
    "In the overview, you can quickly get to the interesting part of the software...  \n",
    "\n",
    "![](resources/production_coverage_overview.jpg)\n",
    "\n",
    "...for example a view on all models...  \n",
    "\n",
    "![](resources/production_coverage_details_model.jpg)\n",
    "\n",
    "...as well as the unused code of the JDBC part.\n",
    "\n",
    "![](resources/production_coverage_repository.jpg)\n",
    "\n",
    "\n",
    "You can even have a look at the live example."
   ]
  },
  {
   "cell_type": "markdown",
   "metadata": {},
   "source": [
    "# Summary\n",
    "I don't know what you think (but I would love to hear it!), but I think, it's not much work to do such kind of analysis. For the first proof of concept, I needed around an hour from gathering the coverage data to the first bubble chart."
   ]
  }
 ],
 "metadata": {
  "kernelspec": {
   "display_name": "Python 3",
   "language": "python",
   "name": "python3"
  },
  "language_info": {
   "codemirror_mode": {
    "name": "ipython",
    "version": 3
   },
   "file_extension": ".py",
   "mimetype": "text/x-python",
   "name": "python",
   "nbconvert_exporter": "python",
   "pygments_lexer": "ipython3",
   "version": "3.6.0"
  }
 },
 "nbformat": 4,
 "nbformat_minor": 2
}
