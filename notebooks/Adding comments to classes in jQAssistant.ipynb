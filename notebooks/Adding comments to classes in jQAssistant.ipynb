{
 "cells": [
  {
   "cell_type": "markdown",
   "metadata": {
    "collapsed": true
   },
   "source": [
    "In a recent [blog post](https://www.feststelltaste.de/my-experiences-with-jqassistant-so-far/), [Yoann Buch got me to think about](https://www.feststelltaste.de/my-experiences-with-jqassistant-so-far/#comment-6) a how to add comments to the already existing class nodes in Neo4J (scanned by jQAssistant). I meant it would be possible to do it with the Python library Pygments. I experimented with it a little bit, but it seems that it isn't going well. The main problem is the lack of structural information.\n",
    "\n",
    "I thought \"wait a minute, what about the JavaDoc that's getting generated in HTML\" and took one step further: \"If there are generators for HTML, is there a generator for XML, too?\". I just googled \"javadoc xml\" and found it: https://github.com/MarkusBernhardt/xml-doclet, \"A doclet to output javadoc as XML\" as Maven plugin.\n",
    "\n",
    "I've integrated the JavaDoc with jQAssistant and this is the result:"
   ]
  },
  {
   "cell_type": "markdown",
   "metadata": {},
   "source": [
    "![](resources/jqassistant_javadoc.jpg)"
   ]
  },
  {
   "cell_type": "markdown",
   "metadata": {},
   "source": [
    " Here is how I did it:"
   ]
  },
  {
   "cell_type": "markdown",
   "metadata": {},
   "source": [
    "# Prerequisites"
   ]
  },
  {
   "cell_type": "markdown",
   "metadata": {},
   "source": [
    "## Preparing the code\n",
    "In this prototype, I work with an old jQAssistant version 1.1.3 (because I haven't figured out how to read XML with the new version yet). I use an corresponding, old version of jQAssistant's [Spring Petclinic demo repo](https://github.com/buschmais/spring-petclinic/):  \n",
    "<br/>  \n",
    "<tt>git checkout f5811bf2ed9c5369a749cb90ef9e7a261de03760 .</tt>\n",
    "  "
   ]
  },
  {
   "cell_type": "markdown",
   "metadata": {},
   "source": [
    "## Getting JavaDoc as XML\n",
    "For getting all the JavaDoc from the source code, I just add the Maven plugin mentioned above additionally to the already existing ones:\n",
    "```xml\n",
    "<plugin>\n",
    "    <groupId>org.apache.maven.plugins</groupId>\n",
    "    <artifactId>maven-javadoc-plugin</artifactId>\n",
    "    <version>2.10.4</version>\n",
    "    <executions>\n",
    "        <execution>\n",
    "            <id>xml-doclet</id>\n",
    "            <phase>process-resources</phase>\n",
    "            <goals>\n",
    "                <goal>javadoc</goal>\n",
    "            </goals>\n",
    "            <configuration>\n",
    "                <doclet>com.github.markusbernhardt.xmldoclet.XmlDoclet</doclet>\n",
    "                <additionalparam>-d ${project.build.directory} -filename javadoc.xml</additionalparam>\n",
    "                <useStandardDocletOptions>false</useStandardDocletOptions>\n",
    "                <docletArtifact>\n",
    "                    <groupId>com.github.markusbernhardt</groupId>\n",
    "                    <artifactId>xml-doclet</artifactId>\n",
    "                    <version>1.0.5</version>\n",
    "                </docletArtifact>\n",
    "            </configuration>\n",
    "        </execution>\n",
    "    </executions>\n",
    "</plugin>\n",
    "```"
   ]
  },
  {
   "cell_type": "markdown",
   "metadata": {},
   "source": [
    "## Scanning the JavaDoc XML\n",
    "In theory, I now have just to add this file to jQAssistant's scan configuration as <tt>&lt;scanInclude&gt;</tt>:\n",
    "```xml\n",
    "<scanInclude>\n",
    "    <path>${project.build.directory}/javadoc.xml</path>\n",
    "    <scope>xml:document</scope>\n",
    "</scanInclude>\n",
    "```\n",
    "I've added the <tt>&lt;scope&gt;</tt> to adivse jQAssistant to scan the whole XML content (according to this [StackOverflow answer](http://stackoverflow.com/questions/31425610/error-when-scanning-xml-file-with-jqassistant)).\n",
    "\n",
    "\n",
    "Note: Unfortunately I haven't got this working as of today, i.e. the <tt>javadoc.xml</tt> isn't appearing in the database. So I've scanned the XML file in the <tt>target</tt> folder with an \n",
    "<br/>\n",
    "<tt>jqassistant.sh scan -f xml:document::javadoc.xml</tt>   \n",
    "<br/>\n",
    "manually after scanning the project. This approach won't work with jQAssistant version 1.1.4+, so that's why I'm using an old version. I'll update this notebook when I've got this working with the newest version. "
   ]
  },
  {
   "cell_type": "markdown",
   "metadata": {},
   "source": [
    "## First build\n",
    "I just built the complete project:  \n",
    "<br/>\n",
    "<tt>mvn clean install</tt>  \n",
    "\n",
    "jQAssistant places some nice graphs into the Neo4j database:"
   ]
  },
  {
   "cell_type": "code",
   "execution_count": 34,
   "metadata": {
    "collapsed": false
   },
   "outputs": [
    {
     "data": {
      "application/javascript": [
       "$(\"head\").append($(\"<link/>\").attr({\n",
       "  rel:  \"stylesheet\",\n",
       "  type: \"text/css\",\n",
       "  href: \"https://cdnjs.cloudflare.com/ajax/libs/vis/4.8.2/vis.css\"\n",
       "}));\n",
       "require.config({     paths: {         vis: '//cdnjs.cloudflare.com/ajax/libs/vis/4.8.2/vis.min'     } }); require(['vis'], function(vis) {  window.vis = vis;  window.vis = vis; }); "
      ],
      "text/plain": [
       "<IPython.core.display.Javascript object>"
      ]
     },
     "metadata": {},
     "output_type": "display_data"
    },
    {
     "data": {
      "text/html": [
       "<div id=\"266f80cf-e85e-4f8e-90a7-b36d2fbd8b1c\" style=\"height: 400px;\"></div>\n",
       "\n",
       "<script type=\"text/javascript\">\n",
       "\n",
       "    var nodes = [{\"label\": \"\", \"id\": 1127, \"title\": \"{'name': 'Pet', 'byteCodeVersion': 51, 'fqn': 'org.springframework.samples.petclinic.model.Pet', 'sourceFileName': 'Pet.java', 'fileName': '/org/springframework/samples/petclinic/model/Pet.class', 'md5': '9E23DAE6101B391D2D40DD2F4E97EB40', 'valid': True, 'visibility': 'public'}\", \"group\": \"Entity\"}, {\"label\": \"\", \"id\": 1089, \"title\": \"{'name': 'NamedEntity', 'byteCodeVersion': 51, 'fqn': 'org.springframework.samples.petclinic.model.NamedEntity', 'sourceFileName': 'NamedEntity.java', 'fileName': '/org/springframework/samples/petclinic/model/NamedEntity.class', 'md5': '841E418DC9B975BF2DF88C7DF3636FDA', 'valid': True, 'visibility': 'public'}\", \"group\": \"Type\"}, {\"label\": \"\", \"id\": 1217, \"title\": \"{'name': 'PetType', 'byteCodeVersion': 51, 'fqn': 'org.springframework.samples.petclinic.model.PetType', 'sourceFileName': 'PetType.java', 'fileName': '/org/springframework/samples/petclinic/model/PetType.class', 'md5': '20460AB91EEED2A04CC5B1AA5C3B9D0E', 'valid': True, 'visibility': 'public'}\", \"group\": \"Entity\"}, {\"label\": \"\", \"id\": 1101, \"title\": \"{'name': 'Owner', 'byteCodeVersion': 51, 'fqn': 'org.springframework.samples.petclinic.model.Owner', 'sourceFileName': 'Owner.java', 'fileName': '/org/springframework/samples/petclinic/model/Owner.class', 'md5': '6B5D6C40E443FCC273B2892F7754D450', 'valid': True, 'visibility': 'public'}\", \"group\": \"Entity\"}, {\"label\": \"\", \"id\": 1228, \"title\": \"{'name': 'Visit', 'byteCodeVersion': 51, 'fqn': 'org.springframework.samples.petclinic.model.Visit', 'sourceFileName': 'Visit.java', 'fileName': '/org/springframework/samples/petclinic/model/Visit.class', 'md5': '22328719D43CE8DA8CBBFC33B3482217', 'valid': True, 'visibility': 'public'}\", \"group\": \"Entity\"}, {\"label\": \"\", \"id\": 2402, \"title\": \"{'name': 'VisitControllerTests', 'byteCodeVersion': 51, 'fqn': 'org.springframework.samples.petclinic.web.VisitControllerTests', 'sourceFileName': 'VisitControllerTests.java', 'fileName': '/org/springframework/samples/petclinic/web/VisitControllerTests.class', 'md5': '5BC8CF2FD245B109DFE07E6C8A0A34C8', 'valid': True, 'visibility': 'public'}\", \"group\": \"Type\"}];\n",
       "    var edges = [{\"to\": 1089, \"from\": 1127, \"font\": {\"size\": 10}, \"label\": \"DEPENDS_ON\"}, {\"to\": 1217, \"from\": 1127, \"font\": {\"size\": 10}, \"label\": \"DEPENDS_ON\"}, {\"to\": 1101, \"from\": 1127, \"font\": {\"size\": 10}, \"label\": \"DEPENDS_ON\"}, {\"to\": 1228, \"from\": 1127, \"font\": {\"size\": 10}, \"label\": \"DEPENDS_ON\"}, {\"to\": 2402, \"from\": 1127, \"font\": {\"size\": 10}, \"label\": \"DEPENDS_ON\"}];\n",
       "\n",
       "    var container = document.getElementById(\"266f80cf-e85e-4f8e-90a7-b36d2fbd8b1c\");\n",
       "\n",
       "    var data = {\n",
       "        nodes: nodes,\n",
       "        edges: edges\n",
       "    };\n",
       "\n",
       "    var options = {\n",
       "    nodes: {\n",
       "        shape: 'dot',\n",
       "        size: 25,\n",
       "        font: {\n",
       "            size: 14\n",
       "        }\n",
       "    },\n",
       "    edges: {\n",
       "        font: {\n",
       "            size: 14,\n",
       "            align: 'middle'\n",
       "        },\n",
       "        color: 'gray',\n",
       "        arrows: {\n",
       "            to: {\n",
       "                enabled: true,\n",
       "                scaleFactor: 0.5\n",
       "            }\n",
       "        },\n",
       "        smooth: {\n",
       "            enabled: false\n",
       "        }\n",
       "    },\n",
       "    physics: {\n",
       "        enabled: true\n",
       "        }\n",
       "    };\n",
       "\n",
       "    var network = new vis.Network(container, data, options);\n",
       "\n",
       "</script>\n"
      ],
      "text/plain": [
       "<IPython.core.display.HTML object>"
      ]
     },
     "execution_count": 34,
     "metadata": {},
     "output_type": "execute_result"
    }
   ],
   "source": [
    "import lib.neo4jupyter_mod as n4j\n",
    "import py2neo\n",
    "graph = py2neo.Graph()\n",
    "\n",
    "n4j.init_notebook_mode()\n",
    "n4j.draw(graph, \n",
    "         n='n:Class { name: \"Pet\"}',\n",
    "         r=\"r:DEPENDS_ON\", \n",
    "         m=\"m:Class\", \n",
    "         options={\"Class\": \"name\"}, \n",
    "         limit=5)"
   ]
  },
  {
   "cell_type": "markdown",
   "metadata": {},
   "source": [
    "Additionaly, the build outputs a nice XML file named <tt>javadoc.xml</tt> with all the existing comments into the <tt>target</tt> folder\n",
    "```xml\n",
    "<?xml version=\"1.0\" encoding=\"UTF-8\" standalone=\"yes\"?>\n",
    "<root>\n",
    "    <package name=\"org.springframework.samples.petclinic\">\n",
    "        <class name=\"PetclinicInitializer\"\n",
    "               qualified=\"org.springframework.samples.petclinic.PetclinicInitializer\"\n",
    "               scope=\"public\"\n",
    "               abstract=\"false\"\n",
    "               error=\"false\"\n",
    "               exception=\"false\"\n",
    "               externalizable=\"false\"\n",
    "               included=\"true\"\n",
    "               serializable=\"false\">\n",
    "            <comment>In Servlet 3.0+ [..]</comment>\n",
    "            <tag name=\"@author\"\n",
    "                 text=\"Antoine Rey\"/>\n",
    "            <class qualified=\"org.springframework.web.servlet.support.AbstractDispatcherServletInitializer\"/>\n",
    "            <constructor name=\"PetclinicInitializer\"\n",
    "                         signature=\"()\"\n",
    "                         qualified=\"org.springframework.samples.petclinic.PetclinicInitializer\"\n",
    "                         scope=\"public\"\n",
    "                         final=\"false\"\n",
    "                         included=\"true\"\n",
    "                         native=\"false\"\n",
    "                         synchronized=\"false\"\n",
    "                         static=\"false\"\n",
    "                         varArgs=\"false\"/>\n",
    "            <method name=\"onStartup\"\n",
    "                    signature=\"(javax.servlet.ServletContext)\"\n",
    "                    qualified=\"org.springframework.samples.petclinic.PetclinicInitializer.onStartup\"\n",
    "                    scope=\"public\"\n",
    "                    abstract=\"false\"\n",
    "                    final=\"false\"\n",
    "                    included=\"true\"\n",
    "                    native=\"false\"\n",
    "                    synchronized=\"false\"\n",
    "                    static=\"false\"\n",
    "                    varArgs=\"false\">\n",
    "                <parameter name=\"servletContext\">\n",
    "                    <type qualified=\"javax.servlet.ServletContext\"/>\n",
    "                </parameter>\n",
    "                <return qualified=\"void\"/>\n",
    "                <exception qualified=\"javax.servlet.ServletException\"/>\n",
    "                <annotation name=\"Override\"\n",
    "                            qualified=\"java.lang.Override\"/>\n",
    "            </method>\n",
    "...\n",
    "```"
   ]
  },
  {
   "cell_type": "markdown",
   "metadata": {},
   "source": [
    "I scanned this file already, i. e. it's also contained in the database. Let's have a look at it!  \n",
    "  \n",
    "![](resources/neo4j_comments.png)\n",
    "\n",
    "The corresponding texts for the comments are in the children of the <tt>&lt;comment&gt;</tt> elements:"
   ]
  },
  {
   "cell_type": "code",
   "execution_count": 35,
   "metadata": {
    "collapsed": false,
    "scrolled": true
   },
   "outputs": [
    {
     "data": {
      "text/html": [
       "<div id=\"89935f37-35d2-4791-af40-5f8a79ee7026\" style=\"height: 400px;\"></div>\n",
       "\n",
       "<script type=\"text/javascript\">\n",
       "\n",
       "    var nodes = [{\"label\": \"comment\", \"id\": 4087, \"title\": \"{'name': 'comment'}\", \"group\": \"Element\"}, {\"label\": \"The classes in this package represent PetClinic's business layer.\", \"id\": 4088, \"title\": \"{'value': \\\"The classes in this package represent PetClinic's business layer.\\\"}\", \"group\": \"Text\"}, {\"label\": \"comment\", \"id\": 4099, \"title\": \"{'name': 'comment'}\", \"group\": \"Element\"}, {\"label\": \"Simple JavaBean domain object representing a visit.\", \"id\": 4100, \"title\": \"{'value': 'Simple JavaBean domain object representing a visit.'}\", \"group\": \"Text\"}, {\"label\": \"comment\", \"id\": 4117, \"title\": \"{'name': 'comment'}\", \"group\": \"Element\"}, {\"label\": \"Creates a new instance of Visit for the current date\", \"id\": 4118, \"title\": \"{'value': 'Creates a new instance of Visit for the current date'}\", \"group\": \"Text\"}, {\"label\": \"comment\", \"id\": 4131, \"title\": \"{'name': 'comment'}\", \"group\": \"Element\"}, {\"label\": \"Getter for property date.\", \"id\": 4132, \"title\": \"{'value': 'Getter for property date.'}\", \"group\": \"Text\"}];\n",
       "    var edges = [{\"to\": 4088, \"from\": 4087, \"font\": {\"size\": 10}, \"label\": \"HAS_FIRST_CHILD\"}, {\"to\": 4088, \"from\": 4087, \"font\": {\"size\": 10}, \"label\": \"HAS_TEXT\"}, {\"to\": 4088, \"from\": 4087, \"font\": {\"size\": 10}, \"label\": \"HAS_LAST_CHILD\"}, {\"to\": 4100, \"from\": 4099, \"font\": {\"size\": 10}, \"label\": \"HAS_LAST_CHILD\"}, {\"to\": 4100, \"from\": 4099, \"font\": {\"size\": 10}, \"label\": \"HAS_TEXT\"}, {\"to\": 4100, \"from\": 4099, \"font\": {\"size\": 10}, \"label\": \"HAS_FIRST_CHILD\"}, {\"to\": 4118, \"from\": 4117, \"font\": {\"size\": 10}, \"label\": \"HAS_LAST_CHILD\"}, {\"to\": 4118, \"from\": 4117, \"font\": {\"size\": 10}, \"label\": \"HAS_TEXT\"}, {\"to\": 4118, \"from\": 4117, \"font\": {\"size\": 10}, \"label\": \"HAS_FIRST_CHILD\"}, {\"to\": 4132, \"from\": 4131, \"font\": {\"size\": 10}, \"label\": \"HAS_TEXT\"}];\n",
       "\n",
       "    var container = document.getElementById(\"89935f37-35d2-4791-af40-5f8a79ee7026\");\n",
       "\n",
       "    var data = {\n",
       "        nodes: nodes,\n",
       "        edges: edges\n",
       "    };\n",
       "\n",
       "    var options = {\n",
       "    nodes: {\n",
       "        shape: 'dot',\n",
       "        size: 25,\n",
       "        font: {\n",
       "            size: 14\n",
       "        }\n",
       "    },\n",
       "    edges: {\n",
       "        font: {\n",
       "            size: 14,\n",
       "            align: 'middle'\n",
       "        },\n",
       "        color: 'gray',\n",
       "        arrows: {\n",
       "            to: {\n",
       "                enabled: true,\n",
       "                scaleFactor: 0.5\n",
       "            }\n",
       "        },\n",
       "        smooth: {\n",
       "            enabled: false\n",
       "        }\n",
       "    },\n",
       "    physics: {\n",
       "        enabled: true\n",
       "        }\n",
       "    };\n",
       "\n",
       "    var network = new vis.Network(container, data, options);\n",
       "\n",
       "</script>\n"
      ],
      "text/plain": [
       "<IPython.core.display.HTML object>"
      ]
     },
     "execution_count": 35,
     "metadata": {},
     "output_type": "execute_result"
    }
   ],
   "source": [
    "n4j.draw(graph, \n",
    "         n='n:Element { name: \"comment\"}',\n",
    "         m='m:Text',\n",
    "         options={\"Element\": \"name\", \"Text\": \"value\"}, \n",
    "         limit=10)"
   ]
  },
  {
   "cell_type": "markdown",
   "metadata": {},
   "source": [
    "But there is one problem left: The XML scanner scans **all** elements and places each element into a separate node. So if we have some HTML formatting in the JavaDoc like:\n",
    "\n",
    "```xml\n",
    "<comment>\n",
    "    &lt;code&gt;Validator&lt;/code&gt; for &lt;code&gt;Pet&lt;/code&gt; forms.\n",
    "    &lt;p&gt;\n",
    "    We're not using Bean Validation annotations here because it is easier to define such validation rule in Java.\n",
    "    &lt;/p&gt;\n",
    "</comment>\n",
    "```"
   ]
  },
  {
   "cell_type": "markdown",
   "metadata": {},
   "source": [
    "This leads to an \"interesting\" looking graph:\n",
    "\n",
    "![](resources/neo4j_interesting_comments_graph.png)"
   ]
  },
  {
   "cell_type": "markdown",
   "metadata": {},
   "source": [
    "There's an easy solution for this, but let's first start with graph database action and solve that problem later."
   ]
  },
  {
   "cell_type": "markdown",
   "metadata": {
    "collapsed": false
   },
   "source": [
    "# Data Wrangling with Neo4j"
   ]
  },
  {
   "cell_type": "code",
   "execution_count": 31,
   "metadata": {
    "collapsed": false
   },
   "outputs": [
    {
     "data": {
      "text/plain": [
       "[{'COUNT(javadoc)': 24}]"
      ]
     },
     "execution_count": 31,
     "metadata": {},
     "output_type": "execute_result"
    }
   ],
   "source": [
    "create_comments_query=\"\"\"\n",
    "MATCH \n",
    "(package:Element { name : \"package\"})-[:HAS_ELEMENT]->(class:Element {name : \"class\"})-[:HAS_ATTRIBUTE]->(class_fqn:Attribute{name: \"qualified\"}),\n",
    "(class_comment:Element { name : \"comment\"})-[:HAS_TEXT]->(text:Text), class-[:HAS_ELEMENT]->(class_comment)\n",
    "WITH DISTINCT class.name as type_value, class_fqn.value as fqn_value, reduce(s = \"\", x IN collect(text) | s + x.value) as text_value\n",
    "CREATE (javadoc:JavaDoc { comment: text_value, type: type_value, fqn: fqn_value })\n",
    "RETURN COUNT(javadoc)\n",
    "\"\"\"\n",
    "graph.data(create_comments_query)"
   ]
  },
  {
   "cell_type": "code",
   "execution_count": 32,
   "metadata": {
    "collapsed": false
   },
   "outputs": [
    {
     "data": {
      "text/plain": [
       "[{'rels': 48}]"
      ]
     },
     "execution_count": 32,
     "metadata": {},
     "output_type": "execute_result"
    }
   ],
   "source": [
    "create_relationship_query=\"\"\"\n",
    "MATCH (type:Type), (javadoc:JavaDoc)\n",
    "WHERE type.fqn = javadoc.fqn\n",
    "MERGE (javadoc)-[r:COMMENTS]->(type)\n",
    "RETURN COUNT(r) as rels\n",
    "\"\"\"\n",
    "graph.data(create_relationship_query)"
   ]
  },
  {
   "cell_type": "code",
   "execution_count": 33,
   "metadata": {
    "collapsed": false
   },
   "outputs": [
    {
     "data": {
      "text/plain": [
       "[{'COUNT(javadoc)': 48, 'COUNT(r)': 48}]"
      ]
     },
     "execution_count": 33,
     "metadata": {},
     "output_type": "execute_result"
    }
   ],
   "source": [
    "delete_comments_query=\"\"\"\n",
    "MATCH (javadoc:JavaDoc)-[r:COMMENTS]->()\n",
    "DELETE r, javadoc\n",
    "RETURN COUNT(r), COUNT(javadoc)\n",
    "\"\"\"\n",
    "graph.data(delete_comments_query)"
   ]
  }
 ],
 "metadata": {
  "anaconda-cloud": {},
  "kernelspec": {
   "display_name": "Python [Root]",
   "language": "python",
   "name": "Python [Root]"
  },
  "language_info": {
   "codemirror_mode": {
    "name": "ipython",
    "version": 3
   },
   "file_extension": ".py",
   "mimetype": "text/x-python",
   "name": "python",
   "nbconvert_exporter": "python",
   "pygments_lexer": "ipython3",
   "version": "3.5.2"
  }
 },
 "nbformat": 4,
 "nbformat_minor": 0
}
