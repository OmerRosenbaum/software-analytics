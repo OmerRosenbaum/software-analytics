{
 "cells": [
  {
   "cell_type": "markdown",
   "metadata": {},
   "source": [
    "# Mining performance HotSpots with JProfiler, jQAssistant, Neo4j and Pandas"
   ]
  },
  {
   "cell_type": "markdown",
   "metadata": {},
   "source": [
    "# Claim\n",
    "\n",
    "We don't need more tools that show use more problems in our software. We need ways to determine the right problem to solve. But often we just fix the symptoms on the surface rather then the underlying problems. I find that approach non-professional and want to do my part to improve this situation by delivering root cause analysis of symptoms to get to the real problem."
   ]
  },
  {
   "cell_type": "markdown",
   "metadata": {},
   "source": [
    "# Introduction\n",
    "In this notebook, I'll show you one of my approaches of mining performance problems based on application runtime performance analysis. One could use such an analysis to make the point that there are severe design errors that have negative influence on the application's overall performance.\n",
    "\n",
    "The key idea is to use graph analysis to analyze call stacks that were created by a performance profiling tool. With this approach I not only want to show **\"the fact\"** that is causing a performance issue (because this fact shows that something takes long to execute or is executed too many times), but also the reasons behing that fact. I try to do this by extracting various additional information like the application's **entry points**, the **trigger** within the application causing the fact and the **immediate reason** that calls the fact. This is a very powerful approach to determine the most critical parts in the application and gives you a point where you could start improving."
   ]
  },
  {
   "cell_type": "markdown",
   "metadata": {},
   "source": [
    "# Relevance\n",
    "I use this analysis at work to determine the biggest performance bottleneck in a big application (> 500k LOCs). We then work out possible improvements for that specific hotspot, create a prototypical fix for it, measure the fix's impact and convince with these numbers that we need some money to fix the problem appication wide (and work on the next performance bottleneck and so on). Apart from that, this graph analysis approach where you pick out only the interesting parts it in general very useful.\n",
    "\n",
    "I hope you'll see that this is a very reasonable approach albeit the simplified use case that I show in this notebook."
   ]
  },
  {
   "cell_type": "markdown",
   "metadata": {},
   "source": [
    "# Profiling with JProfiler\n",
    "As a prerequisit for this analysis, we need performance profiling data gathered by a profiler or an Application Performance Management tool. In my case, I run a performance test with JMeter for a [fork of the Spring sample project PetClinic](https://buschmais.github.io/spring-petclinic/) and use [JProfiler](http://www.ej-technologies.com/products/jprofiler/overview.html) to record some performance measures while the test was running.  \n",
    "\n",
    "<p><tt>&lt;advertisment&gt;</tt><br />\n",
    "JProfiler is a great commercial tool and costs around 400 €. It really worth the money because it gives you deep insights how your application performs under the hood. At this point, I want to thank ej-technologies for giving me with a [free open-source license](https://www.ej-technologies.com/buy/jprofiler/openSource) for JProfiler that enables this blog post in exchange of mentioning their product:\n",
    "\n",
    "<a href=\"http://www.ej-technologies.com/products/jprofiler/overview.html\">\n",
    "![](https://www.ej-technologies.com/images/product_banners/jprofiler_large.png)</a>\n",
    "<tt>&lt;/advertisment&gt;</tt>\n",
    "</p>\n",
    "\n",
    "Also outside the advertisement block, I personally like JProfiler a lot because it does what it does very very good.\n",
    "\n",
    "So, what we need for this analysis is a recorded runtime stack of all method calls as a call tree. A call tree shows you a tree of the called methods. Some tools do this on a pre-requeset basis (like XRebel, StageMonitor, InspectIT or DynaTrace) or for the time of the recording (like JProfiler or YourKit). So below, you can see the call tree for the called methods with their measured CPU wall clock time (aka the real time that is spent in that method) for a complete test run:\n",
    "\n",
    "![](resources/jprofiler_cpu_call_tree.png)\n",
    "\n",
    "It shows you the call hierarchy from entry point into an application to the last called method (the \"leafs\") as well as the time in that method (\"self-time\") and the number of invocations:\n",
    "\n",
    "![](resources/jprofiler_cpu_call_tree_leaf.png)\n",
    "\n",
    "With such a view, you see which parts of your application call which classes and methods by drilling down the hierarchy. But there is more: You can also \"turn around\" the call tree and listen all the so called \"HotSpots\". Technically, e. g. for CPU HotSpots, JProfiler sums up all the measurements for the method call leafs that take longer than 0.1% of all method calls:\n",
    "\n",
    "![](resources/jprofiler_cpu_hot_spots.png)\n",
    "\n",
    "These views are also available for other measures like web service calls, file accesses or DB calls, that is shown below:\n",
    "\n",
    "![](resources/jprofiler_jdbc_hot_spots.png)\n",
    "\n",
    "In the JProfiler GUI (or the command line tool jpexport), you can export such a call tree into a XML file. And this is were our journey begins."
   ]
  },
  {
   "cell_type": "markdown",
   "metadata": {},
   "source": [
    "# Reading XML into Neo4j"
   ]
  },
  {
   "cell_type": "markdown",
   "metadata": {
    "collapsed": true
   },
   "source": [
    "If you export the HotSpots of some measures (incl. the complete call tree) with JProfiler, you'll get a XML file like the following:"
   ]
  },
  {
   "cell_type": "code",
   "execution_count": 32,
   "metadata": {
    "collapsed": false,
    "scrolled": true
   },
   "outputs": [],
   "source": [
    "#with open (r'input/spring-petclinic/JDBC_Probe_Hot_Spots_jmeter_test.xml') as log:\n",
    "#    [print(line[:70] + \"...\") for line in log.readlines()[:10]]"
   ]
  },
  {
   "cell_type": "markdown",
   "metadata": {},
   "source": [
    "This file was scanned with the versatile tool jQAssistant (http://jqassistant.org/). I just downloaded the version 1.1.3, added the binary to my <tt>PATH</tt> and executed the following command (works for jQAssistant verisons prior to 1.2.0, I haven't figured it out how to do it with newer versions yet):\n",
    "\n",
    "<pre>\n",
    "jqassistant scan -f xml:document::JDBC_Probe_Hot_Spots.xml\n",
    "</pre>\n",
    "\n",
    "This will import the XML structure as a graph into the Neo4j graph database that jQAssistant uses under the hood.\n",
    "\n",
    "So, if we want to have a quick look at it, you can start jQAssistant's Neo4j embedded instance via \n",
    "\n",
    "<pre>\n",
    "jqassistant server\n",
    "</pre>\n",
    "\n",
    "open <tt>http://localhost:7474</tt>, click in the overview menu at the label <tt>File</tt> and you will see something like this:\n",
    "\n",
    "![](resources/jprofiler_xml_as_neo4j_graph.png)\n",
    "\n",
    "It shows the content of the XML file as a graph in Neo4j. The pink node is the entry point &ndash; the XML file. To the right, there is the first XML element <tt>&lt;tree&gt;</tt> in that file, connected by the <tt>HAS_ROOT_ELEMENT</tt> relationship. The <tt>&lt;tree&gt;</tt> element has some attributes, connected by <tt>HAS_ATTRIBUTE</tt>. From the <tt>&lt;tree&gt;</tt> element there are multiple outgoing relationships with by various <tt>&lt;hotspot&gt;</tt> nodes, containing some information about the executed SQL in the referenced attributes in our case. The attributes that are connected to these elements contain the values that we need for our purpose later on. For example, the attribute with the name <tt>value</tt> contains the executed SQL statement:\n",
    "\n",
    "![](resources/jprofiler_xml_as_neo4j_graph_value_sql.png)\n",
    "\n",
    "The attribute with the name <tt>count</tt> contains the number of executions of a SQL statement:\n",
    "\n",
    "![](resources/jprofiler_xml_as_neo4j_graph_count_value.png)"
   ]
  },
  {
   "cell_type": "markdown",
   "metadata": {},
   "source": [
    "I want to show you the data from the database in a more nicer way. So, we load our main libraries and initialize the conntection to Neo4j database with the default connection properties by creating a <tt>Graph</tt> object. We execute a simple query for one XML element and it's relationships to it's attributes.\n",
    "\n",
    "In practice, we display the data of this <tt>&lt;hotspot</tt> element\n",
    "\n",
    "```\n",
    "<hotspot \n",
    "    leaf=\"false\" \n",
    "    value=\"ALTER TABLE visits ADD CONSTRAINT fk_visits_pets FOREIGN KEY (pet_id) REFERENCES pets (id)\" \n",
    "    time=\"3792\" \n",
    "    count=\"1\">\n",
    "```\n",
    "\n",
    "as graph:"
   ]
  },
  {
   "cell_type": "code",
   "execution_count": 33,
   "metadata": {
    "collapsed": false
   },
   "outputs": [
    {
     "data": {
      "text/html": [
       "<div>\n",
       "<table border=\"1\" class=\"dataframe\">\n",
       "  <thead>\n",
       "    <tr style=\"text-align: right;\">\n",
       "      <th></th>\n",
       "    </tr>\n",
       "  </thead>\n",
       "  <tbody>\n",
       "  </tbody>\n",
       "</table>\n",
       "</div>"
      ],
      "text/plain": [
       "Empty DataFrame\n",
       "Columns: []\n",
       "Index: []"
      ]
     },
     "execution_count": 33,
     "metadata": {},
     "output_type": "execute_result"
    }
   ],
   "source": [
    "import pandas as pd\n",
    "from py2neo import Graph\n",
    "from py2neo.packages.httpstream import http\n",
    "http.socket_timeout = 360\n",
    "\n",
    "graph = Graph()\n",
    "\n",
    "query=\"\"\"\n",
    "MATCH (x:Element)-[:HAS_ATTRIBUTE]->(a:Attribute)\n",
    "// select just an arbitrary node\n",
    "WHERE id(x) = 211566\n",
    "RETURN a.name, a.value\n",
    "\"\"\"\n",
    "pd.DataFrame(graph.run(query).data())"
   ]
  },
  {
   "cell_type": "markdown",
   "metadata": {},
   "source": [
    "As seen in the picture with the huge graph above, each <tt>&lt;hotspot&gt;</tt> node refers to the further <tt>&lt;node&gt;</tt>s, that call the hotspots. In our case, these nodes are the methods in our application that trigger the execution of an SQL statement. They also have additional information like the method name or number of executions in the attributes:\n",
    "\n",
    "![](resources/jprofiler_xml_as_neo4j_graph_class_value.png)\n",
    "\n",
    "If we list all those attributes for a specific node, we've got plenty of information of the callee of our hotspot:"
   ]
  },
  {
   "cell_type": "code",
   "execution_count": 34,
   "metadata": {
    "collapsed": false
   },
   "outputs": [
    {
     "data": {
      "text/html": [
       "<div>\n",
       "<table border=\"1\" class=\"dataframe\">\n",
       "  <thead>\n",
       "    <tr style=\"text-align: right;\">\n",
       "      <th></th>\n",
       "    </tr>\n",
       "  </thead>\n",
       "  <tbody>\n",
       "  </tbody>\n",
       "</table>\n",
       "</div>"
      ],
      "text/plain": [
       "Empty DataFrame\n",
       "Columns: []\n",
       "Index: []"
      ]
     },
     "execution_count": 34,
     "metadata": {},
     "output_type": "execute_result"
    }
   ],
   "source": [
    "query=\"\"\"\n",
    "MATCH (x:Element)-[:HAS_ATTRIBUTE]->(a:Attribute)\n",
    "// select just an arbitrary node\n",
    "WHERE id(x) = 9623\n",
    "RETURN a.name, a.value\n",
    "\"\"\"\n",
    "pd.DataFrame(graph.run(query).data())"
   ]
  },
  {
   "cell_type": "markdown",
   "metadata": {},
   "source": [
    "Because it's a bit cumbersome to work at the abstraction level of the XML file, let's enrich this graph with a few better concepts for mining performance problems first."
   ]
  },
  {
   "cell_type": "markdown",
   "metadata": {},
   "source": [
    "# Create nodes for performance analysis"
   ]
  },
  {
   "cell_type": "markdown",
   "metadata": {},
   "source": [
    "## Clean up\n",
    "Before executing the first statements, we clean up any preexisting data from previous queries. This is only necessary when you execute this notebook several times (like me)."
   ]
  },
  {
   "cell_type": "code",
   "execution_count": 35,
   "metadata": {
    "collapsed": false
   },
   "outputs": [
    {
     "data": {
      "text/plain": [
       "[{'COUNT(n)': 4914, 'COUNT(r)': 4914}]"
      ]
     },
     "execution_count": 35,
     "metadata": {},
     "output_type": "execute_result"
    }
   ],
   "source": [
    "query=\"\"\"\n",
    "MATCH (n:Node)-[r:CALLS|CREATED_FROM|LEADS_TO]->()\n",
    "DELETE r, n\n",
    "RETURN COUNT(r), COUNT(n)\"\"\"\n",
    "graph.run(query).data()"
   ]
  },
  {
   "cell_type": "markdown",
   "metadata": {},
   "source": [
    "We create some new nodes that contain all the information from the XML part of the graph that we need. We simply copy the values of some attributes to the new **call nodes**.\n",
    "\n",
    "In our Cypher query, we first retrieve all <tt>&lt;node&gt;</tt> elements (identified by their \"name\" property) and some attributes that we need for our analysis. For each relevant information item, we create a variable to retrieve the information later on:\n",
    "\n",
    "```cypher\n",
    "MATCH (n:Element {name: \"node\"}),\n",
    "    (n)-[:HAS_ATTRIBUTE]->(classAttribut:Attribute {name : \"class\"}),\n",
    "    (n)-[:HAS_ATTRIBUTE]->(methodAttribut:Attribute {name : \"methodName\"}),\n",
    "    (n)-[:HAS_ATTRIBUTE]->(countAttribut:Attribute {name : \"count\"}),\n",
    "    (n)-[:HAS_ATTRIBUTE]->(timeAttribut:Attribute {name : \"time\"})\n",
    "```\n",
    "\n",
    "For each <tt>&lt;node&gt;</tt> element we've found, we tag the nodes with the label <tt>Node</tt> to have a general marker for the JProfiler measurements and mark all nodes that containing information about the calling class and method with the label <tt>Call</tt>:\n",
    "\n",
    "```cypher\n",
    "CREATE \n",
    "   (x:Node:Call {\n",
    "```\n",
    "\n",
    "We also copy the relevant information from the <tt>&lt;node&gt;</tt> element's attributes into the new nodes:\n",
    "\n",
    "```cypher\n",
    "        class: classAttribut.value, \n",
    "        method: methodAttribut.value,\n",
    "        count: toFloat(countAttribut.value), \n",
    "        time: toFloat(timeAttribut.value)\n",
    "        })\n",
    "```\n",
    "\n",
    "And track the origin of the information by a <tt>CREATED_FROM</tt> relationship to connect the new nodes later on:\n",
    "\n",
    "```cypher\n",
    "     -[r:CREATED_FROM]->(n)\n",
    "```\n",
    "\n",
    "So, the complety query looks like the following and will be executed directly from our notebook:"
   ]
  },
  {
   "cell_type": "code",
   "execution_count": 36,
   "metadata": {
    "collapsed": false
   },
   "outputs": [
    {
     "data": {
      "text/plain": [
       "[{'COUNT(r)': 2358, 'COUNT(x)': 2358}]"
      ]
     },
     "execution_count": 36,
     "metadata": {},
     "output_type": "execute_result"
    }
   ],
   "source": [
    "query = \"\"\"\n",
    "MATCH (n:Element {name: \"node\"}),\n",
    "    (n)-[:HAS_ATTRIBUTE]->(classAttribut:Attribute {name : \"class\"}),\n",
    "    (n)-[:HAS_ATTRIBUTE]->(methodAttribut:Attribute {name : \"methodName\"}),\n",
    "    (n)-[:HAS_ATTRIBUTE]->(countAttribut:Attribute {name : \"count\"}),\n",
    "    (n)-[:HAS_ATTRIBUTE]->(timeAttribut:Attribute {name : \"time\"})\n",
    "CREATE \n",
    "   (x:Node:Call {\n",
    "        fqn: classAttribut.value,\n",
    "        class: SPLIT(classAttribut.value,\".\")[-1], \n",
    "        method: methodAttribut.value,\n",
    "        count: toFloat(countAttribut.value), \n",
    "        time: toFloat(timeAttribut.value)\n",
    "        })-[r:CREATED_FROM]->(n)\n",
    "RETURN COUNT(x), COUNT(r)\n",
    "\"\"\"\n",
    "graph.run(query).data()"
   ]
  },
  {
   "cell_type": "markdown",
   "metadata": {},
   "source": [
    "We do the same for the <tt>&lt;hotspot&gt;</tt> elements. Here, the attributes are a little bit different, because we are gathering data from the SQL hotspots:"
   ]
  },
  {
   "cell_type": "code",
   "execution_count": 37,
   "metadata": {
    "collapsed": false
   },
   "outputs": [
    {
     "data": {
      "text/plain": [
       "[{'COUNT(r)': 73, 'COUNT(x)': 73}]"
      ]
     },
     "execution_count": 37,
     "metadata": {},
     "output_type": "execute_result"
    }
   ],
   "source": [
    "query = \"\"\"\n",
    "MATCH (n:Element { name: \"hotspot\"}),\n",
    "    (n)-[:HAS_ATTRIBUTE]->(valueAttribut:Attribute {name : \"value\"}),\n",
    "    (n)-[:HAS_ATTRIBUTE]->(countAttribut:Attribute {name : \"count\"}),\n",
    "    (n)-[:HAS_ATTRIBUTE]->(timeAttribut:Attribute {name : \"time\"})\n",
    "    \n",
    "WHERE n.name = \"hotspot\"\n",
    "CREATE \n",
    "   (x:Node:HotSpot {\n",
    "        value: valueAttribut.value,\n",
    "        count: toFloat(countAttribut.value), \n",
    "        time: toFloat(timeAttribut.value)\n",
    "        })-[r:CREATED_FROM]->(n)\n",
    "RETURN COUNT(x), COUNT(r)\n",
    "\"\"\"\n",
    "graph.run(query).data()"
   ]
  },
  {
   "cell_type": "markdown",
   "metadata": {},
   "source": [
    "Now, we have many new nodes in our database that are aren't directly connected. E. g. a <tt>Call</tt> node looks like this:\n",
    "\n",
    "![](resources/jprofiler_xml_as_neo4j_graph_call_nodes.png)\n",
    "\n",
    "So, let's connect them. How? We've saved that information with our <tt>CREATED_FROM</tt> relationship:\n",
    "\n",
    "![](resources/jprofiler_xml_as_neo4j_graph_calls_not_connected.png)\n",
    "\n",
    "This information can be used to connect the <tt>Call</tt> nodes as well as the <tt>HotSpot</tt> nodes."
   ]
  },
  {
   "cell_type": "code",
   "execution_count": 38,
   "metadata": {
    "collapsed": false
   },
   "outputs": [
    {
     "data": {
      "text/plain": [
       "[{'COUNT(r)': 2358}]"
      ]
     },
     "execution_count": 38,
     "metadata": {},
     "output_type": "execute_result"
    }
   ],
   "source": [
    "query=\"\"\"\n",
    "MATCH (outerNode:Node)-[:CREATED_FROM]->\n",
    "      (outerElement:Element)-[:HAS_ELEMENT]->\n",
    "      (innerElement:Element)<-[:CREATED_FROM]-(innerNode:Node)\n",
    "CREATE (outerNode)<-[r:CALLS]-(innerNode)\n",
    "RETURN COUNT(r)\n",
    "\"\"\"\n",
    "graph.run(query).data()"
   ]
  },
  {
   "cell_type": "markdown",
   "metadata": {},
   "source": [
    "And there we have it: Our call tree from JProfiler as call graph in Neo4j, ready for root cause analysis.\n",
    "\n",
    "![](resources/jprofiler_xml_as_neo4j_graph_calls_connected.png)"
   ]
  },
  {
   "cell_type": "markdown",
   "metadata": {},
   "source": [
    "# Analysis\n",
    "All the work before was just there to get a nice graph model that feels natural. Now comes the analysis part: As mentioned in the introduction, we don't only want the **fact** that something happend, but also \n",
    "* the **trigger** in our application of the fact combined with \n",
    "* the information about the **entry** point (e. g. where in our application does the problem happen) and\n",
    "* (optionally) the **request** that causes the problem (to be able to localize the problem)\n",
    "\n",
    "Speaking in graph terms, we need some specific nodes of our call tree graph with the following information:\n",
    "* <tt>fact</tt>: The executed SQL statement aka the <tt>HotSpot</tt> node\n",
    "* <tt>trigger</tt>: The executor of the SQL statement in our application aka the <tt>Call</tt> node with the last class / method call that starts with our application's package name\n",
    "* <tt>entry</tt>: The first call of our own application code aka the <tt>Call</tt> node that starts also with our application's package name\n",
    "* <tt>request</tt>: The <tt>Call</tt> node that JProfiler added to track the HTTP request\n",
    "\n",
    "This is a little bit tricky, because we need to say to Neo4j, what we see as \"last\" and \"first\". Because we are using the package name of a class to identify our own application, there are many <tt>Call</tt> nodes in one call graph, that have that package name. Neo4j would (rightly) return too many results, because it would deliver one result for each match. And a match is also given when a <tt>Call</tt> node within our application matches the package name.\n",
    "\n",
    "So, how do we mark the first and last nodes of our application code? The most robustest method I found so far (and I hope that there is still a more elegant way to do it) was to label specific points in the call graph with separate labels and then use these labels to retrieve the information I want. Generally speaking, we are trying to store all the information that we need into the graph before executing our analysis. I always favor this approach to trying to find a solution with complicated cypher queries, where you'll probably mix up things easily.\n",
    "\n",
    "First, we can identify the **request**, that triggers the SQL statement, because we configured JProfiler to include that information in our call tree. We simply label them with the label <tt>Request</tt>."
   ]
  },
  {
   "cell_type": "code",
   "execution_count": 39,
   "metadata": {
    "collapsed": false
   },
   "outputs": [
    {
     "data": {
      "text/plain": [
       "[{'COUNT(x)': 38}]"
      ]
     },
     "execution_count": 39,
     "metadata": {},
     "output_type": "execute_result"
    }
   ],
   "source": [
    "query=\"\"\"\n",
    "MATCH (x)\n",
    "WHERE x.fqn = \"_jprofiler_annotation_class\" AND x.method STARTS WITH \"HTTP\"\n",
    "SET x:Request\n",
    "RETURN COUNT(x)\n",
    "\"\"\"\n",
    "graph.run(query).data()"
   ]
  },
  {
   "cell_type": "markdown",
   "metadata": {},
   "source": [
    "Next, we mark our own application code (identified by the package name) with the label <tt>Application</tt>."
   ]
  },
  {
   "cell_type": "markdown",
   "metadata": {},
   "source": [
    "Just a side note for clarification: Our application itself calls to libraries or uses frameworks that aren't marked with the label <tt>Application</tt>. So, we don't mark the complete subpart of the call graph from the entry to the exit of our application, but just our own code. For our analysis, this isn't a problem but maybe it's relevant for your own analysis to mark all the other nodes, too.\n"
   ]
  },
  {
   "cell_type": "code",
   "execution_count": 40,
   "metadata": {
    "collapsed": false
   },
   "outputs": [
    {
     "data": {
      "text/plain": [
       "[{'COUNT(entry)': 38, 'COUNT(leads)': 38, 'COUNT(request)': 38}]"
      ]
     },
     "execution_count": 40,
     "metadata": {},
     "output_type": "execute_result"
    }
   ],
   "source": [
    "query=\"\"\"\n",
    "MATCH \n",
    "    request_to_entry=shortestPath((request:Call)-[:CALLS*]->(entry:Call))\n",
    "WHERE \n",
    "    request.fqn = \"_jprofiler_annotation_class\" AND request.method STARTS WITH \"HTTP\"\n",
    "AND\n",
    "    entry.fqn STARTS WITH \"org.springframework.samples.petclinic\"\n",
    "AND \n",
    "    SINGLE(n IN NODES(request_to_entry) \n",
    "        WHERE exists(n.fqn) AND n.fqn STARTS WITH \"org.springframework.samples.petclinic\")\n",
    "SET \n",
    "    request:Request,\n",
    "    entry:Entry\n",
    "CREATE \n",
    "    (request)-[leads:LEADS_TO]->(entry)\n",
    "RETURN COUNT(request), COUNT(leads), COUNT(entry)\n",
    "\"\"\"\n",
    "graph.run(query).data()"
   ]
  },
  {
   "cell_type": "code",
   "execution_count": 41,
   "metadata": {
    "collapsed": false
   },
   "outputs": [
    {
     "data": {
      "text/plain": [
       "[{'count(trigger)': 21}]"
      ]
     },
     "execution_count": 41,
     "metadata": {},
     "output_type": "execute_result"
    }
   ],
   "source": [
    "query=\"\"\"\n",
    "MATCH\n",
    "    trigger_to_hotspot=shortestPath((trigger:Call)-[:CALLS*]->(hotspot:HotSpot))\n",
    "WHERE \n",
    "    trigger.fqn STARTS WITH \"org.springframework.samples.petclinic\"\n",
    "AND \n",
    "    SINGLE(n IN NODES(trigger_to_hotspot) \n",
    "        WHERE exists(n.fqn) AND n.fqn STARTS WITH \"org.springframework.samples.petclinic\")\n",
    "SET \n",
    "    trigger:Trigger\n",
    "RETURN count(trigger)\n",
    "\"\"\"\n",
    "graph.run(query).data()"
   ]
  },
  {
   "cell_type": "code",
   "execution_count": 42,
   "metadata": {
    "collapsed": false
   },
   "outputs": [
    {
     "data": {
      "text/plain": [
       "[{'count(leads1)': 29, 'count(leads2)': 29, 'count(leads3)': 29}]"
      ]
     },
     "execution_count": 42,
     "metadata": {},
     "output_type": "execute_result"
    }
   ],
   "source": [
    "query=\"\"\"\n",
    "MATCH\n",
    "   (request:Request)-[:CALLS*]->\n",
    "       (entry:Entry)-[:CALLS*]->\n",
    "           (trigger:Trigger)-[:CALLS*]->\n",
    "               (hotspot:HotSpot)\n",
    "CREATE UNIQUE\n",
    "    (request)-[leads1:LEADS_TO]->(entry)-[leads2:LEADS_TO]->(trigger)-[leads3:LEADS_TO]->(hotspot)\n",
    "RETURN count(leads1), count(leads2), count(leads3)\n",
    "\"\"\"\n",
    "graph.run(query).data()\n"
   ]
  },
  {
   "cell_type": "code",
   "execution_count": 43,
   "metadata": {
    "collapsed": false
   },
   "outputs": [
    {
     "data": {
      "text/html": [
       "<div>\n",
       "<table border=\"1\" class=\"dataframe\">\n",
       "  <thead>\n",
       "    <tr style=\"text-align: right;\">\n",
       "      <th></th>\n",
       "      <th>entry_class</th>\n",
       "      <th>entry_method</th>\n",
       "      <th>request</th>\n",
       "      <th>sql</th>\n",
       "      <th>sql_count</th>\n",
       "      <th>sql_count_sum</th>\n",
       "      <th>trigger_class</th>\n",
       "      <th>trigger_method</th>\n",
       "    </tr>\n",
       "  </thead>\n",
       "  <tbody>\n",
       "    <tr>\n",
       "      <th>0</th>\n",
       "      <td>OwnerController</td>\n",
       "      <td>showOwner</td>\n",
       "      <td>HTTP: /petclinic/owners/1.html</td>\n",
       "      <td>SELECT pets.id, name, birth_date, type_id, own...</td>\n",
       "      <td>2.0</td>\n",
       "      <td>107.0</td>\n",
       "      <td>JdbcOwnerRepositoryImpl</td>\n",
       "      <td>loadPetsAndVisits</td>\n",
       "    </tr>\n",
       "    <tr>\n",
       "      <th>1</th>\n",
       "      <td>OwnerController</td>\n",
       "      <td>showOwner</td>\n",
       "      <td>HTTP: /petclinic/owners/1</td>\n",
       "      <td>SELECT pets.id, name, birth_date, type_id, own...</td>\n",
       "      <td>2.0</td>\n",
       "      <td>107.0</td>\n",
       "      <td>JdbcOwnerRepositoryImpl</td>\n",
       "      <td>loadPetsAndVisits</td>\n",
       "    </tr>\n",
       "    <tr>\n",
       "      <th>2</th>\n",
       "      <td>OwnerController</td>\n",
       "      <td>initUpdateOwnerForm</td>\n",
       "      <td>HTTP: /petclinic/owners/1/edit.html</td>\n",
       "      <td>SELECT pets.id, name, birth_date, type_id, own...</td>\n",
       "      <td>1.0</td>\n",
       "      <td>107.0</td>\n",
       "      <td>JdbcOwnerRepositoryImpl</td>\n",
       "      <td>loadPetsAndVisits</td>\n",
       "    </tr>\n",
       "    <tr>\n",
       "      <th>3</th>\n",
       "      <td>VisitController</td>\n",
       "      <td>loadPetWithVisit</td>\n",
       "      <td>HTTP: /petclinic/owners/1/pets/1/visits/new</td>\n",
       "      <td>SELECT pets.id, name, birth_date, type_id, own...</td>\n",
       "      <td>1.0</td>\n",
       "      <td>107.0</td>\n",
       "      <td>JdbcOwnerRepositoryImpl</td>\n",
       "      <td>loadPetsAndVisits</td>\n",
       "    </tr>\n",
       "    <tr>\n",
       "      <th>4</th>\n",
       "      <td>VisitController</td>\n",
       "      <td>loadPetWithVisit</td>\n",
       "      <td>HTTP: /petclinic/owners/1/pets/1/visits/new</td>\n",
       "      <td>SELECT pets.id, name, birth_date, type_id, own...</td>\n",
       "      <td>1.0</td>\n",
       "      <td>107.0</td>\n",
       "      <td>JdbcOwnerRepositoryImpl</td>\n",
       "      <td>loadPetsAndVisits</td>\n",
       "    </tr>\n",
       "    <tr>\n",
       "      <th>5</th>\n",
       "      <td>OwnerController</td>\n",
       "      <td>processFindForm</td>\n",
       "      <td>HTTP: /petclinic/owners.html</td>\n",
       "      <td>SELECT pets.id, name, birth_date, type_id, own...</td>\n",
       "      <td>100.0</td>\n",
       "      <td>107.0</td>\n",
       "      <td>JdbcOwnerRepositoryImpl</td>\n",
       "      <td>loadPetsAndVisits</td>\n",
       "    </tr>\n",
       "    <tr>\n",
       "      <th>6</th>\n",
       "      <td>OwnerController</td>\n",
       "      <td>showOwner</td>\n",
       "      <td>HTTP: /petclinic/owners/1.html</td>\n",
       "      <td>SELECT id, name FROM types ORDER BY name</td>\n",
       "      <td>2.0</td>\n",
       "      <td>107.0</td>\n",
       "      <td>JdbcOwnerRepositoryImpl</td>\n",
       "      <td>getPetTypes</td>\n",
       "    </tr>\n",
       "    <tr>\n",
       "      <th>7</th>\n",
       "      <td>OwnerController</td>\n",
       "      <td>showOwner</td>\n",
       "      <td>HTTP: /petclinic/owners/1</td>\n",
       "      <td>SELECT id, name FROM types ORDER BY name</td>\n",
       "      <td>2.0</td>\n",
       "      <td>107.0</td>\n",
       "      <td>JdbcOwnerRepositoryImpl</td>\n",
       "      <td>getPetTypes</td>\n",
       "    </tr>\n",
       "    <tr>\n",
       "      <th>8</th>\n",
       "      <td>OwnerController</td>\n",
       "      <td>initUpdateOwnerForm</td>\n",
       "      <td>HTTP: /petclinic/owners/1/edit.html</td>\n",
       "      <td>SELECT id, name FROM types ORDER BY name</td>\n",
       "      <td>1.0</td>\n",
       "      <td>107.0</td>\n",
       "      <td>JdbcOwnerRepositoryImpl</td>\n",
       "      <td>getPetTypes</td>\n",
       "    </tr>\n",
       "    <tr>\n",
       "      <th>9</th>\n",
       "      <td>VisitController</td>\n",
       "      <td>loadPetWithVisit</td>\n",
       "      <td>HTTP: /petclinic/owners/1/pets/1/visits/new</td>\n",
       "      <td>SELECT id, name FROM types ORDER BY name</td>\n",
       "      <td>1.0</td>\n",
       "      <td>107.0</td>\n",
       "      <td>JdbcOwnerRepositoryImpl</td>\n",
       "      <td>getPetTypes</td>\n",
       "    </tr>\n",
       "    <tr>\n",
       "      <th>10</th>\n",
       "      <td>VisitController</td>\n",
       "      <td>loadPetWithVisit</td>\n",
       "      <td>HTTP: /petclinic/owners/1/pets/1/visits/new</td>\n",
       "      <td>SELECT id, name FROM types ORDER BY name</td>\n",
       "      <td>1.0</td>\n",
       "      <td>107.0</td>\n",
       "      <td>JdbcOwnerRepositoryImpl</td>\n",
       "      <td>getPetTypes</td>\n",
       "    </tr>\n",
       "    <tr>\n",
       "      <th>11</th>\n",
       "      <td>OwnerController</td>\n",
       "      <td>processFindForm</td>\n",
       "      <td>HTTP: /petclinic/owners.html</td>\n",
       "      <td>SELECT id, name FROM types ORDER BY name</td>\n",
       "      <td>100.0</td>\n",
       "      <td>107.0</td>\n",
       "      <td>JdbcOwnerRepositoryImpl</td>\n",
       "      <td>getPetTypes</td>\n",
       "    </tr>\n",
       "    <tr>\n",
       "      <th>12</th>\n",
       "      <td>VetController</td>\n",
       "      <td>showVetList</td>\n",
       "      <td>HTTP: /petclinic/vets.html</td>\n",
       "      <td>SELECT specialty_id FROM vet_specialties WHERE...</td>\n",
       "      <td>10.0</td>\n",
       "      <td>10.0</td>\n",
       "      <td>JdbcVetRepositoryImpl</td>\n",
       "      <td>findAll</td>\n",
       "    </tr>\n",
       "    <tr>\n",
       "      <th>13</th>\n",
       "      <td>VisitController</td>\n",
       "      <td>processNewVisitForm</td>\n",
       "      <td>HTTP: /petclinic/owners/1/pets/1/visits/new</td>\n",
       "      <td>SHOW FULL COLUMNS FROM `visits` FROM `petclini...</td>\n",
       "      <td>1.0</td>\n",
       "      <td>1.0</td>\n",
       "      <td>JdbcVisitRepositoryImpl</td>\n",
       "      <td>save</td>\n",
       "    </tr>\n",
       "    <tr>\n",
       "      <th>14</th>\n",
       "      <td>VisitController</td>\n",
       "      <td>loadPetWithVisit</td>\n",
       "      <td>HTTP: /petclinic/owners/1/pets/1/visits/new</td>\n",
       "      <td>SELECT id, first_name, last_name, address, cit...</td>\n",
       "      <td>1.0</td>\n",
       "      <td>7.0</td>\n",
       "      <td>JdbcOwnerRepositoryImpl</td>\n",
       "      <td>findById</td>\n",
       "    </tr>\n",
       "    <tr>\n",
       "      <th>15</th>\n",
       "      <td>VisitController</td>\n",
       "      <td>loadPetWithVisit</td>\n",
       "      <td>HTTP: /petclinic/owners/1/pets/1/visits/new</td>\n",
       "      <td>SELECT id, first_name, last_name, address, cit...</td>\n",
       "      <td>1.0</td>\n",
       "      <td>7.0</td>\n",
       "      <td>JdbcOwnerRepositoryImpl</td>\n",
       "      <td>findById</td>\n",
       "    </tr>\n",
       "    <tr>\n",
       "      <th>16</th>\n",
       "      <td>OwnerController</td>\n",
       "      <td>showOwner</td>\n",
       "      <td>HTTP: /petclinic/owners/1</td>\n",
       "      <td>SELECT id, first_name, last_name, address, cit...</td>\n",
       "      <td>2.0</td>\n",
       "      <td>7.0</td>\n",
       "      <td>JdbcOwnerRepositoryImpl</td>\n",
       "      <td>findById</td>\n",
       "    </tr>\n",
       "    <tr>\n",
       "      <th>17</th>\n",
       "      <td>OwnerController</td>\n",
       "      <td>showOwner</td>\n",
       "      <td>HTTP: /petclinic/owners/1.html</td>\n",
       "      <td>SELECT id, first_name, last_name, address, cit...</td>\n",
       "      <td>2.0</td>\n",
       "      <td>7.0</td>\n",
       "      <td>JdbcOwnerRepositoryImpl</td>\n",
       "      <td>findById</td>\n",
       "    </tr>\n",
       "    <tr>\n",
       "      <th>18</th>\n",
       "      <td>OwnerController</td>\n",
       "      <td>initUpdateOwnerForm</td>\n",
       "      <td>HTTP: /petclinic/owners/1/edit.html</td>\n",
       "      <td>SELECT id, first_name, last_name, address, cit...</td>\n",
       "      <td>1.0</td>\n",
       "      <td>7.0</td>\n",
       "      <td>JdbcOwnerRepositoryImpl</td>\n",
       "      <td>findById</td>\n",
       "    </tr>\n",
       "    <tr>\n",
       "      <th>19</th>\n",
       "      <td>VisitController</td>\n",
       "      <td>processNewVisitForm</td>\n",
       "      <td>HTTP: /petclinic/owners/1/pets/1/visits/new</td>\n",
       "      <td>INSERT INTO visits (pet_id, visit_date, descri...</td>\n",
       "      <td>1.0</td>\n",
       "      <td>1.0</td>\n",
       "      <td>JdbcVisitRepositoryImpl</td>\n",
       "      <td>save</td>\n",
       "    </tr>\n",
       "    <tr>\n",
       "      <th>20</th>\n",
       "      <td>VisitController</td>\n",
       "      <td>processNewVisitForm</td>\n",
       "      <td>HTTP: /petclinic/owners/1/pets/1/visits/new</td>\n",
       "      <td>SHOW FULL TABLES FROM `petclinic` LIKE 'visits'</td>\n",
       "      <td>1.0</td>\n",
       "      <td>2.0</td>\n",
       "      <td>JdbcVisitRepositoryImpl</td>\n",
       "      <td>save</td>\n",
       "    </tr>\n",
       "    <tr>\n",
       "      <th>21</th>\n",
       "      <td>VisitController</td>\n",
       "      <td>processNewVisitForm</td>\n",
       "      <td>HTTP: /petclinic/owners/1/pets/1/visits/new</td>\n",
       "      <td>SHOW FULL TABLES FROM `petclinic` LIKE 'visits'</td>\n",
       "      <td>1.0</td>\n",
       "      <td>2.0</td>\n",
       "      <td>JdbcVisitRepositoryImpl</td>\n",
       "      <td>save</td>\n",
       "    </tr>\n",
       "    <tr>\n",
       "      <th>22</th>\n",
       "      <td>OwnerController</td>\n",
       "      <td>processFindForm</td>\n",
       "      <td>HTTP: /petclinic/owners.html</td>\n",
       "      <td>SELECT id, first_name, last_name, address, cit...</td>\n",
       "      <td>1.0</td>\n",
       "      <td>1.0</td>\n",
       "      <td>JdbcOwnerRepositoryImpl</td>\n",
       "      <td>findByLastName</td>\n",
       "    </tr>\n",
       "    <tr>\n",
       "      <th>23</th>\n",
       "      <td>VisitController</td>\n",
       "      <td>loadPetWithVisit</td>\n",
       "      <td>HTTP: /petclinic/owners/1/pets/1/visits/new</td>\n",
       "      <td>SELECT owner_id FROM pets WHERE id=?</td>\n",
       "      <td>1.0</td>\n",
       "      <td>2.0</td>\n",
       "      <td>JdbcPetRepositoryImpl</td>\n",
       "      <td>findById</td>\n",
       "    </tr>\n",
       "    <tr>\n",
       "      <th>24</th>\n",
       "      <td>VisitController</td>\n",
       "      <td>loadPetWithVisit</td>\n",
       "      <td>HTTP: /petclinic/owners/1/pets/1/visits/new</td>\n",
       "      <td>SELECT owner_id FROM pets WHERE id=?</td>\n",
       "      <td>1.0</td>\n",
       "      <td>2.0</td>\n",
       "      <td>JdbcPetRepositoryImpl</td>\n",
       "      <td>findById</td>\n",
       "    </tr>\n",
       "    <tr>\n",
       "      <th>25</th>\n",
       "      <td>OwnerController</td>\n",
       "      <td>processUpdateOwnerForm</td>\n",
       "      <td>HTTP: /petclinic/owners/1/edit.html</td>\n",
       "      <td>UPDATE owners SET first_name=?, last_name=?, a...</td>\n",
       "      <td>1.0</td>\n",
       "      <td>1.0</td>\n",
       "      <td>JdbcOwnerRepositoryImpl</td>\n",
       "      <td>save</td>\n",
       "    </tr>\n",
       "    <tr>\n",
       "      <th>26</th>\n",
       "      <td>VetController</td>\n",
       "      <td>showVetList</td>\n",
       "      <td>HTTP: /petclinic/vets.html</td>\n",
       "      <td>SELECT id, name FROM specialties</td>\n",
       "      <td>1.0</td>\n",
       "      <td>1.0</td>\n",
       "      <td>JdbcVetRepositoryImpl</td>\n",
       "      <td>findAll</td>\n",
       "    </tr>\n",
       "    <tr>\n",
       "      <th>27</th>\n",
       "      <td>VetController</td>\n",
       "      <td>showVetList</td>\n",
       "      <td>HTTP: /petclinic/vets.html</td>\n",
       "      <td>SELECT id, first_name, last_name FROM vets ORD...</td>\n",
       "      <td>1.0</td>\n",
       "      <td>1.0</td>\n",
       "      <td>JdbcVetRepositoryImpl</td>\n",
       "      <td>findAll</td>\n",
       "    </tr>\n",
       "    <tr>\n",
       "      <th>28</th>\n",
       "      <td>VisitController</td>\n",
       "      <td>processNewVisitForm</td>\n",
       "      <td>HTTP: /petclinic/owners/1/pets/1/visits/new</td>\n",
       "      <td>SELECT USER()</td>\n",
       "      <td>1.0</td>\n",
       "      <td>1.0</td>\n",
       "      <td>JdbcVisitRepositoryImpl</td>\n",
       "      <td>save</td>\n",
       "    </tr>\n",
       "  </tbody>\n",
       "</table>\n",
       "</div>"
      ],
      "text/plain": [
       "        entry_class            entry_method  \\\n",
       "0   OwnerController               showOwner   \n",
       "1   OwnerController               showOwner   \n",
       "2   OwnerController     initUpdateOwnerForm   \n",
       "3   VisitController        loadPetWithVisit   \n",
       "4   VisitController        loadPetWithVisit   \n",
       "5   OwnerController         processFindForm   \n",
       "6   OwnerController               showOwner   \n",
       "7   OwnerController               showOwner   \n",
       "8   OwnerController     initUpdateOwnerForm   \n",
       "9   VisitController        loadPetWithVisit   \n",
       "10  VisitController        loadPetWithVisit   \n",
       "11  OwnerController         processFindForm   \n",
       "12    VetController             showVetList   \n",
       "13  VisitController     processNewVisitForm   \n",
       "14  VisitController        loadPetWithVisit   \n",
       "15  VisitController        loadPetWithVisit   \n",
       "16  OwnerController               showOwner   \n",
       "17  OwnerController               showOwner   \n",
       "18  OwnerController     initUpdateOwnerForm   \n",
       "19  VisitController     processNewVisitForm   \n",
       "20  VisitController     processNewVisitForm   \n",
       "21  VisitController     processNewVisitForm   \n",
       "22  OwnerController         processFindForm   \n",
       "23  VisitController        loadPetWithVisit   \n",
       "24  VisitController        loadPetWithVisit   \n",
       "25  OwnerController  processUpdateOwnerForm   \n",
       "26    VetController             showVetList   \n",
       "27    VetController             showVetList   \n",
       "28  VisitController     processNewVisitForm   \n",
       "\n",
       "                                        request  \\\n",
       "0                HTTP: /petclinic/owners/1.html   \n",
       "1                     HTTP: /petclinic/owners/1   \n",
       "2           HTTP: /petclinic/owners/1/edit.html   \n",
       "3   HTTP: /petclinic/owners/1/pets/1/visits/new   \n",
       "4   HTTP: /petclinic/owners/1/pets/1/visits/new   \n",
       "5                  HTTP: /petclinic/owners.html   \n",
       "6                HTTP: /petclinic/owners/1.html   \n",
       "7                     HTTP: /petclinic/owners/1   \n",
       "8           HTTP: /petclinic/owners/1/edit.html   \n",
       "9   HTTP: /petclinic/owners/1/pets/1/visits/new   \n",
       "10  HTTP: /petclinic/owners/1/pets/1/visits/new   \n",
       "11                 HTTP: /petclinic/owners.html   \n",
       "12                   HTTP: /petclinic/vets.html   \n",
       "13  HTTP: /petclinic/owners/1/pets/1/visits/new   \n",
       "14  HTTP: /petclinic/owners/1/pets/1/visits/new   \n",
       "15  HTTP: /petclinic/owners/1/pets/1/visits/new   \n",
       "16                    HTTP: /petclinic/owners/1   \n",
       "17               HTTP: /petclinic/owners/1.html   \n",
       "18          HTTP: /petclinic/owners/1/edit.html   \n",
       "19  HTTP: /petclinic/owners/1/pets/1/visits/new   \n",
       "20  HTTP: /petclinic/owners/1/pets/1/visits/new   \n",
       "21  HTTP: /petclinic/owners/1/pets/1/visits/new   \n",
       "22                 HTTP: /petclinic/owners.html   \n",
       "23  HTTP: /petclinic/owners/1/pets/1/visits/new   \n",
       "24  HTTP: /petclinic/owners/1/pets/1/visits/new   \n",
       "25          HTTP: /petclinic/owners/1/edit.html   \n",
       "26                   HTTP: /petclinic/vets.html   \n",
       "27                   HTTP: /petclinic/vets.html   \n",
       "28  HTTP: /petclinic/owners/1/pets/1/visits/new   \n",
       "\n",
       "                                                  sql  sql_count  \\\n",
       "0   SELECT pets.id, name, birth_date, type_id, own...        2.0   \n",
       "1   SELECT pets.id, name, birth_date, type_id, own...        2.0   \n",
       "2   SELECT pets.id, name, birth_date, type_id, own...        1.0   \n",
       "3   SELECT pets.id, name, birth_date, type_id, own...        1.0   \n",
       "4   SELECT pets.id, name, birth_date, type_id, own...        1.0   \n",
       "5   SELECT pets.id, name, birth_date, type_id, own...      100.0   \n",
       "6            SELECT id, name FROM types ORDER BY name        2.0   \n",
       "7            SELECT id, name FROM types ORDER BY name        2.0   \n",
       "8            SELECT id, name FROM types ORDER BY name        1.0   \n",
       "9            SELECT id, name FROM types ORDER BY name        1.0   \n",
       "10           SELECT id, name FROM types ORDER BY name        1.0   \n",
       "11           SELECT id, name FROM types ORDER BY name      100.0   \n",
       "12  SELECT specialty_id FROM vet_specialties WHERE...       10.0   \n",
       "13  SHOW FULL COLUMNS FROM `visits` FROM `petclini...        1.0   \n",
       "14  SELECT id, first_name, last_name, address, cit...        1.0   \n",
       "15  SELECT id, first_name, last_name, address, cit...        1.0   \n",
       "16  SELECT id, first_name, last_name, address, cit...        2.0   \n",
       "17  SELECT id, first_name, last_name, address, cit...        2.0   \n",
       "18  SELECT id, first_name, last_name, address, cit...        1.0   \n",
       "19  INSERT INTO visits (pet_id, visit_date, descri...        1.0   \n",
       "20    SHOW FULL TABLES FROM `petclinic` LIKE 'visits'        1.0   \n",
       "21    SHOW FULL TABLES FROM `petclinic` LIKE 'visits'        1.0   \n",
       "22  SELECT id, first_name, last_name, address, cit...        1.0   \n",
       "23               SELECT owner_id FROM pets WHERE id=?        1.0   \n",
       "24               SELECT owner_id FROM pets WHERE id=?        1.0   \n",
       "25  UPDATE owners SET first_name=?, last_name=?, a...        1.0   \n",
       "26                   SELECT id, name FROM specialties        1.0   \n",
       "27  SELECT id, first_name, last_name FROM vets ORD...        1.0   \n",
       "28                                      SELECT USER()        1.0   \n",
       "\n",
       "    sql_count_sum            trigger_class     trigger_method  \n",
       "0           107.0  JdbcOwnerRepositoryImpl  loadPetsAndVisits  \n",
       "1           107.0  JdbcOwnerRepositoryImpl  loadPetsAndVisits  \n",
       "2           107.0  JdbcOwnerRepositoryImpl  loadPetsAndVisits  \n",
       "3           107.0  JdbcOwnerRepositoryImpl  loadPetsAndVisits  \n",
       "4           107.0  JdbcOwnerRepositoryImpl  loadPetsAndVisits  \n",
       "5           107.0  JdbcOwnerRepositoryImpl  loadPetsAndVisits  \n",
       "6           107.0  JdbcOwnerRepositoryImpl        getPetTypes  \n",
       "7           107.0  JdbcOwnerRepositoryImpl        getPetTypes  \n",
       "8           107.0  JdbcOwnerRepositoryImpl        getPetTypes  \n",
       "9           107.0  JdbcOwnerRepositoryImpl        getPetTypes  \n",
       "10          107.0  JdbcOwnerRepositoryImpl        getPetTypes  \n",
       "11          107.0  JdbcOwnerRepositoryImpl        getPetTypes  \n",
       "12           10.0    JdbcVetRepositoryImpl            findAll  \n",
       "13            1.0  JdbcVisitRepositoryImpl               save  \n",
       "14            7.0  JdbcOwnerRepositoryImpl           findById  \n",
       "15            7.0  JdbcOwnerRepositoryImpl           findById  \n",
       "16            7.0  JdbcOwnerRepositoryImpl           findById  \n",
       "17            7.0  JdbcOwnerRepositoryImpl           findById  \n",
       "18            7.0  JdbcOwnerRepositoryImpl           findById  \n",
       "19            1.0  JdbcVisitRepositoryImpl               save  \n",
       "20            2.0  JdbcVisitRepositoryImpl               save  \n",
       "21            2.0  JdbcVisitRepositoryImpl               save  \n",
       "22            1.0  JdbcOwnerRepositoryImpl     findByLastName  \n",
       "23            2.0    JdbcPetRepositoryImpl           findById  \n",
       "24            2.0    JdbcPetRepositoryImpl           findById  \n",
       "25            1.0  JdbcOwnerRepositoryImpl               save  \n",
       "26            1.0    JdbcVetRepositoryImpl            findAll  \n",
       "27            1.0    JdbcVetRepositoryImpl            findAll  \n",
       "28            1.0  JdbcVisitRepositoryImpl               save  "
      ]
     },
     "execution_count": 43,
     "metadata": {},
     "output_type": "execute_result"
    }
   ],
   "source": [
    "query=\"\"\"\n",
    "MATCH \n",
    "   (request:Request)-[:LEADS_TO]->\n",
    "       (entry:Entry)-[:LEADS_TO]->\n",
    "           (trigger:Trigger)-[:LEADS_TO]->\n",
    "               (hotspot:HotSpot)\n",
    "RETURN  \n",
    "    request.method as request, \n",
    "    request.count as sql_count, \n",
    "    entry.class as entry_class,\n",
    "    entry.method as entry_method,    \n",
    "    trigger.class as trigger_class,    \n",
    "    trigger.method as trigger_method,\n",
    "    hotspot.value as sql, \n",
    "    hotspot.count as sql_count_sum\n",
    "\"\"\"\n",
    "hotspots = pd.DataFrame(graph.run(query).data())\n",
    "hotspots"
   ]
  },
  {
   "cell_type": "markdown",
   "metadata": {},
   "source": [
    "Spealing in Cypher code, this looks like that:\n",
    "\n",
    "```\n",
    "MATCH (request:Call)-[:CALLS*]->(entry:Call)-[:CALLS*0..99]->(trigger:Call)-[:CALLS*]->(fact:HotSpot)\n",
    "WHERE \n",
    "    request.class = \"_jprofiler_annotation_class\" AND\n",
    "    entry.class STARTS WITH \"org.springframework.samples.petclinic.\" AND\n",
    "    trigger.class STARTS WITH \"org.springframework.samples.petclinic.\"\n",
    "\n",
    "```\n",
    "\n",
    "We then return all the information that we need:\n",
    "\n",
    "```\n",
    "RETURN\n",
    "    request.method as request, \n",
    "    request.count as count, \n",
    "    SPLIT(entry.class, \".\")[-1] as entry_class,\n",
    "    SPLIT(entry.method, \".\")[-1] as entry_method,    \n",
    "    SPLIT(trigger.class, \".\")[-1] as trigger_class,    \n",
    "    SPLIT(trigger.method, \".\")[-1] as trigger_method,    \n",
    "    hotspot.value as sql, \n",
    "    hotspot.count as count_sum\n",
    "ORDER BY count DESC\n",
    "```\n",
    "Note: Don't let you discourage of all the <tt>SPLIT</tt> method calls. It's just there to get a nicer output.\n",
    "\n",
    "Executed, we get some nice results:"
   ]
  },
  {
   "cell_type": "code",
   "execution_count": 44,
   "metadata": {
    "collapsed": false
   },
   "outputs": [
    {
     "data": {
      "text/html": [
       "<div>\n",
       "<table border=\"1\" class=\"dataframe\">\n",
       "  <thead>\n",
       "    <tr style=\"text-align: right;\">\n",
       "      <th></th>\n",
       "      <th></th>\n",
       "      <th>request</th>\n",
       "      <th>sql_count</th>\n",
       "    </tr>\n",
       "    <tr>\n",
       "      <th>entry_class</th>\n",
       "      <th>entry_method</th>\n",
       "      <th></th>\n",
       "      <th></th>\n",
       "    </tr>\n",
       "  </thead>\n",
       "  <tbody>\n",
       "    <tr>\n",
       "      <th rowspan=\"4\" valign=\"top\">OwnerController</th>\n",
       "      <th>initUpdateOwnerForm</th>\n",
       "      <td>3</td>\n",
       "      <td>3.0</td>\n",
       "    </tr>\n",
       "    <tr>\n",
       "      <th>processFindForm</th>\n",
       "      <td>3</td>\n",
       "      <td>201.0</td>\n",
       "    </tr>\n",
       "    <tr>\n",
       "      <th>processUpdateOwnerForm</th>\n",
       "      <td>1</td>\n",
       "      <td>1.0</td>\n",
       "    </tr>\n",
       "    <tr>\n",
       "      <th>showOwner</th>\n",
       "      <td>6</td>\n",
       "      <td>12.0</td>\n",
       "    </tr>\n",
       "    <tr>\n",
       "      <th>VetController</th>\n",
       "      <th>showVetList</th>\n",
       "      <td>3</td>\n",
       "      <td>12.0</td>\n",
       "    </tr>\n",
       "    <tr>\n",
       "      <th rowspan=\"2\" valign=\"top\">VisitController</th>\n",
       "      <th>loadPetWithVisit</th>\n",
       "      <td>8</td>\n",
       "      <td>8.0</td>\n",
       "    </tr>\n",
       "    <tr>\n",
       "      <th>processNewVisitForm</th>\n",
       "      <td>5</td>\n",
       "      <td>5.0</td>\n",
       "    </tr>\n",
       "  </tbody>\n",
       "</table>\n",
       "</div>"
      ],
      "text/plain": [
       "                                        request  sql_count\n",
       "entry_class     entry_method                              \n",
       "OwnerController initUpdateOwnerForm           3        3.0\n",
       "                processFindForm               3      201.0\n",
       "                processUpdateOwnerForm        1        1.0\n",
       "                showOwner                     6       12.0\n",
       "VetController   showVetList                   3       12.0\n",
       "VisitController loadPetWithVisit              8        8.0\n",
       "                processNewVisitForm           5        5.0"
      ]
     },
     "execution_count": 44,
     "metadata": {},
     "output_type": "execute_result"
    }
   ],
   "source": [
    "sqls_per_method = hotspots.groupby(['entry_class', 'entry_method']).agg({'sql_count' : 'sum', 'request' : 'count'})\n",
    "sqls_per_method"
   ]
  },
  {
   "cell_type": "markdown",
   "metadata": {},
   "source": [
    "The following processing is very use case specific. In our case, we just want to know, which entry_class (=Controller) accesses which table.\n",
    "\n",
    "Note: The <tt>entry_class</tt> and the <tt>trigger_class</tt> classes are the same because the DB is accessed directly from the Controller."
   ]
  },
  {
   "cell_type": "code",
   "execution_count": 48,
   "metadata": {
    "collapsed": false
   },
   "outputs": [
    {
     "data": {
      "text/plain": [
       "PETS               8\n",
       "OWNERS             7\n",
       "TYPES              6\n",
       "                   3\n",
       "VETS               1\n",
       "SPECIALTIES        1\n",
       "VISITS             1\n",
       "VET_SPECIALTIES    1\n",
       "Name: table, dtype: int64"
      ]
     },
     "execution_count": 48,
     "metadata": {},
     "output_type": "execute_result"
    }
   ],
   "source": [
    "hotspots['table'] = hotspots['sql'].\\\n",
    "    str.upper().str.extract(\n",
    "        r\".*(FROM|INTO|UPDATE) ([\\w\\.]*)\",\n",
    "        expand=True)[1]\n",
    "hotspots['table'].value_counts()"
   ]
  },
  {
   "cell_type": "code",
   "execution_count": 49,
   "metadata": {
    "collapsed": false
   },
   "outputs": [
    {
     "data": {
      "text/html": [
       "<div>\n",
       "<table border=\"1\" class=\"dataframe\">\n",
       "  <thead>\n",
       "    <tr style=\"text-align: right;\">\n",
       "      <th></th>\n",
       "      <th></th>\n",
       "      <th>sql_count</th>\n",
       "    </tr>\n",
       "    <tr>\n",
       "      <th>entry_class</th>\n",
       "      <th>table</th>\n",
       "      <th></th>\n",
       "    </tr>\n",
       "  </thead>\n",
       "  <tbody>\n",
       "    <tr>\n",
       "      <th rowspan=\"3\" valign=\"top\">OwnerController</th>\n",
       "      <th>OWNERS</th>\n",
       "      <td>7.0</td>\n",
       "    </tr>\n",
       "    <tr>\n",
       "      <th>PETS</th>\n",
       "      <td>105.0</td>\n",
       "    </tr>\n",
       "    <tr>\n",
       "      <th>TYPES</th>\n",
       "      <td>105.0</td>\n",
       "    </tr>\n",
       "    <tr>\n",
       "      <th rowspan=\"3\" valign=\"top\">VetController</th>\n",
       "      <th>SPECIALTIES</th>\n",
       "      <td>1.0</td>\n",
       "    </tr>\n",
       "    <tr>\n",
       "      <th>VETS</th>\n",
       "      <td>1.0</td>\n",
       "    </tr>\n",
       "    <tr>\n",
       "      <th>VET_SPECIALTIES</th>\n",
       "      <td>10.0</td>\n",
       "    </tr>\n",
       "    <tr>\n",
       "      <th rowspan=\"5\" valign=\"top\">VisitController</th>\n",
       "      <th></th>\n",
       "      <td>3.0</td>\n",
       "    </tr>\n",
       "    <tr>\n",
       "      <th>OWNERS</th>\n",
       "      <td>2.0</td>\n",
       "    </tr>\n",
       "    <tr>\n",
       "      <th>PETS</th>\n",
       "      <td>4.0</td>\n",
       "    </tr>\n",
       "    <tr>\n",
       "      <th>TYPES</th>\n",
       "      <td>2.0</td>\n",
       "    </tr>\n",
       "    <tr>\n",
       "      <th>VISITS</th>\n",
       "      <td>1.0</td>\n",
       "    </tr>\n",
       "  </tbody>\n",
       "</table>\n",
       "</div>"
      ],
      "text/plain": [
       "                                 sql_count\n",
       "entry_class     table                     \n",
       "OwnerController OWNERS                 7.0\n",
       "                PETS                 105.0\n",
       "                TYPES                105.0\n",
       "VetController   SPECIALTIES            1.0\n",
       "                VETS                   1.0\n",
       "                VET_SPECIALTIES       10.0\n",
       "VisitController                        3.0\n",
       "                OWNERS                 2.0\n",
       "                PETS                   4.0\n",
       "                TYPES                  2.0\n",
       "                VISITS                 1.0"
      ]
     },
     "execution_count": 49,
     "metadata": {},
     "output_type": "execute_result"
    }
   ],
   "source": [
    "grouped_by_entry_class_and_table = hotspots.groupby(['entry_class', 'table'])[['sql_count']].sum()\n",
    "grouped_by_entry_class_and_table"
   ]
  },
  {
   "cell_type": "code",
   "execution_count": 47,
   "metadata": {
    "collapsed": false
   },
   "outputs": [
    {
     "data": {
      "text/html": [
       "\n",
       "    <div class=\"bk-root\">\n",
       "        <a href=\"http://bokeh.pydata.org\" target=\"_blank\" class=\"bk-logo bk-logo-small bk-logo-notebook\"></a>\n",
       "        <span id=\"e0285acc-e966-4fd5-b393-613090cecece\">Loading BokehJS ...</span>\n",
       "    </div>"
      ]
     },
     "metadata": {},
     "output_type": "display_data"
    },
    {
     "data": {
      "application/javascript": [
       "\n",
       "(function(global) {\n",
       "  function now() {\n",
       "    return new Date();\n",
       "  }\n",
       "\n",
       "  if (typeof (window._bokeh_onload_callbacks) === \"undefined\") {\n",
       "    window._bokeh_onload_callbacks = [];\n",
       "  }\n",
       "\n",
       "  function run_callbacks() {\n",
       "    window._bokeh_onload_callbacks.forEach(function(callback) { callback() });\n",
       "    delete window._bokeh_onload_callbacks\n",
       "    console.info(\"Bokeh: all callbacks have finished\");\n",
       "  }\n",
       "\n",
       "  function load_libs(js_urls, callback) {\n",
       "    window._bokeh_onload_callbacks.push(callback);\n",
       "    if (window._bokeh_is_loading > 0) {\n",
       "      console.log(\"Bokeh: BokehJS is being loaded, scheduling callback at\", now());\n",
       "      return null;\n",
       "    }\n",
       "    if (js_urls == null || js_urls.length === 0) {\n",
       "      run_callbacks();\n",
       "      return null;\n",
       "    }\n",
       "    console.log(\"Bokeh: BokehJS not loaded, scheduling load and callback at\", now());\n",
       "    window._bokeh_is_loading = js_urls.length;\n",
       "    for (var i = 0; i < js_urls.length; i++) {\n",
       "      var url = js_urls[i];\n",
       "      var s = document.createElement('script');\n",
       "      s.src = url;\n",
       "      s.async = false;\n",
       "      s.onreadystatechange = s.onload = function() {\n",
       "        window._bokeh_is_loading--;\n",
       "        if (window._bokeh_is_loading === 0) {\n",
       "          console.log(\"Bokeh: all BokehJS libraries loaded\");\n",
       "          run_callbacks()\n",
       "        }\n",
       "      };\n",
       "      s.onerror = function() {\n",
       "        console.warn(\"failed to load library \" + url);\n",
       "      };\n",
       "      console.log(\"Bokeh: injecting script tag for BokehJS library: \", url);\n",
       "      document.getElementsByTagName(\"head\")[0].appendChild(s);\n",
       "    }\n",
       "  };\n",
       "\n",
       "  var js_urls = ['https://cdn.pydata.org/bokeh/release/bokeh-0.12.0.min.js', 'https://cdn.pydata.org/bokeh/release/bokeh-widgets-0.12.0.min.js', 'https://cdn.pydata.org/bokeh/release/bokeh-compiler-0.12.0.min.js'];\n",
       "\n",
       "  var inline_js = [\n",
       "    function(Bokeh) {\n",
       "      Bokeh.set_log_level(\"info\");\n",
       "    },\n",
       "    \n",
       "    function(Bokeh) {\n",
       "      Bokeh.$(\"#e0285acc-e966-4fd5-b393-613090cecece\").text(\"BokehJS successfully loaded\");\n",
       "    },\n",
       "    function(Bokeh) {\n",
       "      console.log(\"Bokeh: injecting CSS: https://cdn.pydata.org/bokeh/release/bokeh-0.12.0.min.css\");\n",
       "      Bokeh.embed.inject_css(\"https://cdn.pydata.org/bokeh/release/bokeh-0.12.0.min.css\");\n",
       "      console.log(\"Bokeh: injecting CSS: https://cdn.pydata.org/bokeh/release/bokeh-widgets-0.12.0.min.css\");\n",
       "      Bokeh.embed.inject_css(\"https://cdn.pydata.org/bokeh/release/bokeh-widgets-0.12.0.min.css\");\n",
       "    }\n",
       "  ];\n",
       "\n",
       "  function run_inline_js() {\n",
       "    for (var i = 0; i < inline_js.length; i++) {\n",
       "      inline_js[i](window.Bokeh);\n",
       "    }\n",
       "  }\n",
       "\n",
       "  if (window._bokeh_is_loading === 0) {\n",
       "    console.log(\"Bokeh: BokehJS loaded, going straight to plotting\");\n",
       "    run_inline_js();\n",
       "  } else {\n",
       "    load_libs(js_urls, function() {\n",
       "      console.log(\"Bokeh: BokehJS plotting callback run at\", now());\n",
       "      run_inline_js();\n",
       "    });\n",
       "  }\n",
       "}(this));"
      ]
     },
     "metadata": {},
     "output_type": "display_data"
    },
    {
     "data": {
      "text/html": [
       "\n",
       "\n",
       "    <div class=\"bk-root\">\n",
       "        <div class=\"plotdiv\" id=\"bb901593-8c11-47e4-b832-cfdfacd09e5e\"></div>\n",
       "    </div>\n",
       "<script type=\"text/javascript\">\n",
       "  \n",
       "  (function(global) {\n",
       "    function now() {\n",
       "      return new Date();\n",
       "    }\n",
       "  \n",
       "    if (typeof (window._bokeh_onload_callbacks) === \"undefined\") {\n",
       "      window._bokeh_onload_callbacks = [];\n",
       "    }\n",
       "  \n",
       "    function run_callbacks() {\n",
       "      window._bokeh_onload_callbacks.forEach(function(callback) { callback() });\n",
       "      delete window._bokeh_onload_callbacks\n",
       "      console.info(\"Bokeh: all callbacks have finished\");\n",
       "    }\n",
       "  \n",
       "    function load_libs(js_urls, callback) {\n",
       "      window._bokeh_onload_callbacks.push(callback);\n",
       "      if (window._bokeh_is_loading > 0) {\n",
       "        console.log(\"Bokeh: BokehJS is being loaded, scheduling callback at\", now());\n",
       "        return null;\n",
       "      }\n",
       "      if (js_urls == null || js_urls.length === 0) {\n",
       "        run_callbacks();\n",
       "        return null;\n",
       "      }\n",
       "      console.log(\"Bokeh: BokehJS not loaded, scheduling load and callback at\", now());\n",
       "      window._bokeh_is_loading = js_urls.length;\n",
       "      for (var i = 0; i < js_urls.length; i++) {\n",
       "        var url = js_urls[i];\n",
       "        var s = document.createElement('script');\n",
       "        s.src = url;\n",
       "        s.async = false;\n",
       "        s.onreadystatechange = s.onload = function() {\n",
       "          window._bokeh_is_loading--;\n",
       "          if (window._bokeh_is_loading === 0) {\n",
       "            console.log(\"Bokeh: all BokehJS libraries loaded\");\n",
       "            run_callbacks()\n",
       "          }\n",
       "        };\n",
       "        s.onerror = function() {\n",
       "          console.warn(\"failed to load library \" + url);\n",
       "        };\n",
       "        console.log(\"Bokeh: injecting script tag for BokehJS library: \", url);\n",
       "        document.getElementsByTagName(\"head\")[0].appendChild(s);\n",
       "      }\n",
       "    };var element = document.getElementById(\"bb901593-8c11-47e4-b832-cfdfacd09e5e\");\n",
       "    if (element == null) {\n",
       "      console.log(\"Bokeh: ERROR: autoload.js configured with elementid 'bb901593-8c11-47e4-b832-cfdfacd09e5e' but no matching script tag was found. \")\n",
       "      return false;\n",
       "    }\n",
       "  \n",
       "    var js_urls = [];\n",
       "  \n",
       "    var inline_js = [\n",
       "      function(Bokeh) {\n",
       "        Bokeh.$(function() {\n",
       "            var docs_json = {\"45a7f0a0-3774-48c9-adab-e93d355a78a8\":{\"roots\":{\"references\":[{\"attributes\":{\"overlay\":{\"id\":\"861c1569-8c79-47aa-8dc0-e982dd37f771\",\"type\":\"BoxAnnotation\"},\"plot\":{\"id\":\"9f7cb1c8-0e88-4693-9420-841a351aeac9\",\"subtype\":\"Chart\",\"type\":\"Plot\"}},\"id\":\"07c8799d-c4dc-49ee-b793-1dd29a14645e\",\"type\":\"BoxZoomTool\"},{\"attributes\":{\"plot\":{\"id\":\"9f7cb1c8-0e88-4693-9420-841a351aeac9\",\"subtype\":\"Chart\",\"type\":\"Plot\"}},\"id\":\"0da4b1a6-205f-4c49-9667-667f326b542f\",\"type\":\"HelpTool\"},{\"attributes\":{\"below\":[{\"id\":\"58c94c68-5348-4a32-8a05-b200b636aaba\",\"type\":\"LinearAxis\"}],\"left\":[{\"id\":\"90524590-051b-40af-9aaf-b8f2819dcabb\",\"type\":\"LinearAxis\"}],\"plot_height\":400,\"plot_width\":400,\"renderers\":[{\"id\":\"861c1569-8c79-47aa-8dc0-e982dd37f771\",\"type\":\"BoxAnnotation\"},{\"id\":\"7b0eb873-a331-4905-affd-08ef0dea769b\",\"type\":\"GlyphRenderer\"},{\"id\":\"9fc78946-a89a-4b7f-a36b-db495672d9ba\",\"type\":\"GlyphRenderer\"},{\"id\":\"1c09dfc1-4b51-43cd-afd1-e0f5568413ca\",\"type\":\"Legend\"},{\"id\":\"58c94c68-5348-4a32-8a05-b200b636aaba\",\"type\":\"LinearAxis\"},{\"id\":\"90524590-051b-40af-9aaf-b8f2819dcabb\",\"type\":\"LinearAxis\"}],\"title\":{\"id\":\"78a6ffdd-3059-4859-99cb-36c6f64b0f31\",\"type\":\"Title\"},\"tool_events\":{\"id\":\"c5c63b5b-4890-4956-8f1e-b6412cadfb3a\",\"type\":\"ToolEvents\"},\"toolbar\":{\"id\":\"08f0fdde-44b9-4d2a-969f-7a0521e919c8\",\"type\":\"Toolbar\"},\"x_mapper_type\":\"auto\",\"x_range\":{\"id\":\"5958127b-101a-41f9-b05d-b21321c94dcb\",\"type\":\"Range1d\"},\"y_mapper_type\":\"auto\",\"y_range\":{\"id\":\"4180147c-be8b-4bb3-a65d-8b002d0a950c\",\"type\":\"Range1d\"}},\"id\":\"9f7cb1c8-0e88-4693-9420-841a351aeac9\",\"subtype\":\"Chart\",\"type\":\"Plot\"},{\"attributes\":{\"active_drag\":\"auto\",\"active_scroll\":\"auto\",\"active_tap\":\"auto\",\"tools\":[{\"id\":\"df5e27ca-1c7b-47ce-ab7a-2733f500ad2a\",\"type\":\"PanTool\"},{\"id\":\"8e74969b-b98b-4fe8-8f82-aea970f5f495\",\"type\":\"WheelZoomTool\"},{\"id\":\"07c8799d-c4dc-49ee-b793-1dd29a14645e\",\"type\":\"BoxZoomTool\"},{\"id\":\"e2d0fb22-c0c2-4104-b1ab-8338b630efd9\",\"type\":\"SaveTool\"},{\"id\":\"2427bdd4-5da3-446f-b300-01c94b1e6170\",\"type\":\"ResetTool\"},{\"id\":\"0da4b1a6-205f-4c49-9667-667f326b542f\",\"type\":\"HelpTool\"}]},\"id\":\"08f0fdde-44b9-4d2a-969f-7a0521e919c8\",\"type\":\"Toolbar\"},{\"attributes\":{\"axis_label\":null,\"formatter\":{\"id\":\"22c65de2-a638-4ef1-8869-a2dab5cd499f\",\"type\":\"BasicTickFormatter\"},\"plot\":{\"id\":\"9f7cb1c8-0e88-4693-9420-841a351aeac9\",\"subtype\":\"Chart\",\"type\":\"Plot\"},\"ticker\":{\"id\":\"5d813446-0d0c-4d40-9abb-453403e3a24e\",\"type\":\"BasicTicker\"},\"visible\":false},\"id\":\"58c94c68-5348-4a32-8a05-b200b636aaba\",\"type\":\"LinearAxis\"},{\"attributes\":{\"plot\":{\"id\":\"9f7cb1c8-0e88-4693-9420-841a351aeac9\",\"subtype\":\"Chart\",\"type\":\"Plot\"}},\"id\":\"8e74969b-b98b-4fe8-8f82-aea970f5f495\",\"type\":\"WheelZoomTool\"},{\"attributes\":{\"callback\":null,\"column_names\":[\"color\",\"inners\",\"centers\",\"start\",\"outers\",\"level\",\"end\",\"values\",\"entry_class_table\"],\"data\":{\"centers\":[1.125,2.25,2.25,2.25,1.125,2.25,2.25,2.25,1.125,2.25,2.25,2.25,2.25,2.25],\"color\":[\"#f22c40\",\"#f22c40\",\"#f22c40\",\"#f22c40\",\"#5ab738\",\"#5ab738\",\"#5ab738\",\"#5ab738\",\"#407ee7\",\"#407ee7\",\"#407ee7\",\"#407ee7\",\"#407ee7\",\"#407ee7\"],\"end\":[5.657473907294483,0.18249915829982202,2.9199865327971524,5.657473907294483,5.970329607237034,5.683545215623028,5.709616523951574,5.970329607237034,6.283185307179586,6.048543532222673,6.100686148879765,6.204971382193949,6.257113998851041,6.283185307179587],\"entry_class_table\":[[\"OwnerController\",\"\"],[\"OwnerController\",\"OWNERS\"],[\"OwnerController\",\"PETS\"],[\"OwnerController\",\"TYPES\"],[\"VetController\",\"\"],[\"VetController\",\"SPECIALTIES\"],[\"VetController\",\"VETS\"],[\"VetController\",\"VET_SPECIALTIES\"],[\"VisitController\",\"\"],[\"VisitController\",\"\"],[\"VisitController\",\"OWNERS\"],[\"VisitController\",\"PETS\"],[\"VisitController\",\"TYPES\"],[\"VisitController\",\"VISITS\"]],\"inners\":[0.0,1.5,1.5,1.5,0.0,1.5,1.5,1.5,0.0,1.5,1.5,1.5,1.5,1.5],\"level\":[0.0,1.0,1.0,1.0,0.0,1.0,1.0,1.0,0.0,1.0,1.0,1.0,1.0,1.0],\"outers\":[1.5,3.0,3.0,3.0,1.5,3.0,3.0,3.0,1.5,3.0,3.0,3.0,3.0,3.0],\"start\":[0.0,0.0,0.18249915829982202,2.9199865327971524,5.657473907294483,5.657473907294483,5.683545215623028,5.709616523951574,5.970329607237034,5.970329607237034,6.048543532222673,6.100686148879765,6.204971382193949,6.257113998851041],\"values\":[217.0,7.0,105.0,105.0,12.0,1.0,1.0,10.0,12.0,3.0,2.0,4.0,2.0,1.0]}},\"id\":\"0d3f32dc-a4a2-46e4-8131-1020b8fd2837\",\"type\":\"ColumnDataSource\"},{\"attributes\":{\"angle\":{\"field\":\"text_angle\",\"units\":\"rad\"},\"text_align\":\"center\",\"text_baseline\":\"middle\",\"text_font_size\":{\"value\":\"8pt\"},\"x\":{\"field\":\"x\"},\"y\":{\"field\":\"y\"}},\"id\":\"971780b6-df4d-40d6-a1d1-0a47fb7f3b7d\",\"type\":\"Text\"},{\"attributes\":{\"callback\":null,\"column_names\":[\"y\",\"text\",\"text_angle\",\"x\"],\"data\":{\"text\":[\"OwnerController\",\"OWNERS\",\"PETS\",\"TYPES\",\"VetController\",\"SPECIALTIES\",\"VETS\",\"VET_SPECIALTIES\",\"VisitController\",\"VisitController\",\"OWNERS\",\"PETS\",\"TYPES\",\"VISITS\"],\"text_angle\":[0.0,0.09124957914991101,1.5512428455484872,7.43032287363561,0.0,5.670509561458756,5.696580869787301,5.839973065594304,0.0,6.0094365697298535,6.074614840551218,6.1528287655368565,6.231042690522495,6.270149653015315],\"x\":[-1.0703908484900446,2.240639201510986,0.04399252933881191,-0.9249716024134575,1.0033790959849969,1.840752535138142,1.873856348665837,2.0326022488715942,1.11126385358098,2.1662194964359194,2.20123781025998,2.2309101241221763,2.2469419839212508,2.249808833392647],\"y\":[0.34624908876235694,0.20502675106485768,2.249569882747005,-2.051079602240898,-0.5087783306513068,-1.29388179691288,-1.2454566971857097,-0.9648979727837224,-0.17526450788551057,-0.6082705756987689,-0.46588850885362015,-0.2924722518277187,-0.1172677316742905,-0.02932939120431268]}},\"id\":\"5167e88e-f8c6-4381-a6c2-e7b7971a4e37\",\"type\":\"ColumnDataSource\"},{\"attributes\":{\"callback\":null,\"end\":3.1500000000000004,\"start\":-3.1500000000000004},\"id\":\"4180147c-be8b-4bb3-a65d-8b002d0a950c\",\"type\":\"Range1d\"},{\"attributes\":{},\"id\":\"c5c63b5b-4890-4956-8f1e-b6412cadfb3a\",\"type\":\"ToolEvents\"},{\"attributes\":{\"callback\":null,\"end\":3.1500000000000004,\"start\":-3.1500000000000004},\"id\":\"5958127b-101a-41f9-b05d-b21321c94dcb\",\"type\":\"Range1d\"},{\"attributes\":{},\"id\":\"22c65de2-a638-4ef1-8869-a2dab5cd499f\",\"type\":\"BasicTickFormatter\"},{\"attributes\":{\"data_source\":{\"id\":\"0d3f32dc-a4a2-46e4-8131-1020b8fd2837\",\"type\":\"ColumnDataSource\"},\"glyph\":{\"id\":\"01cc7972-b14e-458d-bafe-68c7db1a90d4\",\"type\":\"AnnularWedge\"},\"hover_glyph\":null,\"nonselection_glyph\":null,\"selection_glyph\":null},\"id\":\"7b0eb873-a331-4905-affd-08ef0dea769b\",\"type\":\"GlyphRenderer\"},{\"attributes\":{\"plot\":{\"id\":\"9f7cb1c8-0e88-4693-9420-841a351aeac9\",\"subtype\":\"Chart\",\"type\":\"Plot\"}},\"id\":\"df5e27ca-1c7b-47ce-ab7a-2733f500ad2a\",\"type\":\"PanTool\"},{\"attributes\":{\"bottom_units\":\"screen\",\"fill_alpha\":{\"value\":0.5},\"fill_color\":{\"value\":\"lightgrey\"},\"left_units\":\"screen\",\"level\":\"overlay\",\"line_alpha\":{\"value\":1.0},\"line_color\":{\"value\":\"black\"},\"line_dash\":[4,4],\"line_width\":{\"value\":2},\"plot\":null,\"render_mode\":\"css\",\"right_units\":\"screen\",\"top_units\":\"screen\"},\"id\":\"861c1569-8c79-47aa-8dc0-e982dd37f771\",\"type\":\"BoxAnnotation\"},{\"attributes\":{},\"id\":\"5d813446-0d0c-4d40-9abb-453403e3a24e\",\"type\":\"BasicTicker\"},{\"attributes\":{\"location\":\"top_left\",\"plot\":{\"id\":\"9f7cb1c8-0e88-4693-9420-841a351aeac9\",\"subtype\":\"Chart\",\"type\":\"Plot\"}},\"id\":\"1c09dfc1-4b51-43cd-afd1-e0f5568413ca\",\"type\":\"Legend\"},{\"attributes\":{},\"id\":\"1aaa5430-abec-4d85-9384-f0106b770d19\",\"type\":\"BasicTickFormatter\"},{\"attributes\":{\"data_source\":{\"id\":\"5167e88e-f8c6-4381-a6c2-e7b7971a4e37\",\"type\":\"ColumnDataSource\"},\"glyph\":{\"id\":\"971780b6-df4d-40d6-a1d1-0a47fb7f3b7d\",\"type\":\"Text\"},\"hover_glyph\":null,\"nonselection_glyph\":null,\"selection_glyph\":null},\"id\":\"9fc78946-a89a-4b7f-a36b-db495672d9ba\",\"type\":\"GlyphRenderer\"},{\"attributes\":{\"end_angle\":{\"field\":\"end\",\"units\":\"rad\"},\"fill_alpha\":{\"value\":0.8},\"fill_color\":{\"field\":\"color\"},\"inner_radius\":{\"field\":\"inners\",\"units\":\"data\"},\"line_color\":{\"value\":\"White\"},\"outer_radius\":{\"field\":\"outers\",\"units\":\"data\"},\"start_angle\":{\"field\":\"start\",\"units\":\"rad\"},\"x\":{\"value\":0},\"y\":{\"value\":0}},\"id\":\"01cc7972-b14e-458d-bafe-68c7db1a90d4\",\"type\":\"AnnularWedge\"},{\"attributes\":{\"plot\":{\"id\":\"9f7cb1c8-0e88-4693-9420-841a351aeac9\",\"subtype\":\"Chart\",\"type\":\"Plot\"}},\"id\":\"e2d0fb22-c0c2-4104-b1ab-8338b630efd9\",\"type\":\"SaveTool\"},{\"attributes\":{\"plot\":null,\"text\":null},\"id\":\"78a6ffdd-3059-4859-99cb-36c6f64b0f31\",\"type\":\"Title\"},{\"attributes\":{\"axis_label\":null,\"formatter\":{\"id\":\"1aaa5430-abec-4d85-9384-f0106b770d19\",\"type\":\"BasicTickFormatter\"},\"plot\":{\"id\":\"9f7cb1c8-0e88-4693-9420-841a351aeac9\",\"subtype\":\"Chart\",\"type\":\"Plot\"},\"ticker\":{\"id\":\"d93e9f59-f043-4fcd-af8c-f7b647895f8f\",\"type\":\"BasicTicker\"},\"visible\":false},\"id\":\"90524590-051b-40af-9aaf-b8f2819dcabb\",\"type\":\"LinearAxis\"},{\"attributes\":{\"plot\":{\"id\":\"9f7cb1c8-0e88-4693-9420-841a351aeac9\",\"subtype\":\"Chart\",\"type\":\"Plot\"}},\"id\":\"2427bdd4-5da3-446f-b300-01c94b1e6170\",\"type\":\"ResetTool\"},{\"attributes\":{},\"id\":\"d93e9f59-f043-4fcd-af8c-f7b647895f8f\",\"type\":\"BasicTicker\"}],\"root_ids\":[\"9f7cb1c8-0e88-4693-9420-841a351aeac9\"]},\"title\":\"Bokeh Application\",\"version\":\"0.12.0\"}};\n",
       "            var render_items = [{\"docid\":\"45a7f0a0-3774-48c9-adab-e93d355a78a8\",\"elementid\":\"bb901593-8c11-47e4-b832-cfdfacd09e5e\",\"modelid\":\"9f7cb1c8-0e88-4693-9420-841a351aeac9\",\"notebook_comms_target\":\"20622d4d-515c-4d2d-8616-5e42f8bf86cc\"}];\n",
       "            \n",
       "            Bokeh.embed.embed_items(docs_json, render_items);\n",
       "        });\n",
       "      },\n",
       "      function(Bokeh) {\n",
       "      }\n",
       "    ];\n",
       "  \n",
       "    function run_inline_js() {\n",
       "      for (var i = 0; i < inline_js.length; i++) {\n",
       "        inline_js[i](window.Bokeh);\n",
       "      }\n",
       "    }\n",
       "  \n",
       "    if (window._bokeh_is_loading === 0) {\n",
       "      console.log(\"Bokeh: BokehJS loaded, going straight to plotting\");\n",
       "      run_inline_js();\n",
       "    } else {\n",
       "      load_libs(js_urls, function() {\n",
       "        console.log(\"Bokeh: BokehJS plotting callback run at\", now());\n",
       "        run_inline_js();\n",
       "      });\n",
       "    }\n",
       "  }(this));\n",
       "</script>"
      ]
     },
     "metadata": {},
     "output_type": "display_data"
    },
    {
     "data": {
      "text/html": [
       "<p><code>&lt;Bokeh Notebook handle for <strong>In[47]</strong>&gt;</code></p>"
      ],
      "text/plain": [
       "<bokeh.io._CommsHandle at 0xc43da58>"
      ]
     },
     "execution_count": 47,
     "metadata": {},
     "output_type": "execute_result"
    }
   ],
   "source": [
    "from bokeh.charts import Donut, show, output_notebook\n",
    "\n",
    "plot_data = grouped_by_entry_class_and_table.reset_index()\n",
    "d = Donut(plot_data, label=['entry_class', 'table'], \n",
    "          values='sql_count',\n",
    "          text_font_size='8pt',\n",
    "          hover_text='sql_count'\n",
    "         )\n",
    "output_notebook()\n",
    "show(d)"
   ]
  },
  {
   "cell_type": "markdown",
   "metadata": {},
   "source": [
    "# Result\n",
    "OK, that's really weird. The <tt>OwnerController</tt> reads not only the owners, but mainly their pets and pet's types. This is clearly an application problem and a sign of the famous N+1 query problem that's almost typical for any application that uses a database.\n",
    "\n",
    "```java\n",
    "    @Override\n",
    "    public Collection<Owner> findByLastName(String lastName) throws DataAccessException {\n",
    "        Map<String, Object> params = new HashMap<>();\n",
    "        params.put(\"lastName\", lastName + \"%\");\n",
    "        List<Owner> owners = this.namedParameterJdbcTemplate.query(\n",
    "            \"SELECT id, first_name, last_name, address, city, telephone FROM owners WHERE last_name like :lastName\",\n",
    "            params,\n",
    "            BeanPropertyRowMapper.newInstance(Owner.class)\n",
    "        );\n",
    "        loadOwnersPetsAndVisits(owners);\n",
    "        return owners;\n",
    "    }\n",
    "```\n",
    "\n"
   ]
  },
  {
   "cell_type": "markdown",
   "metadata": {
    "collapsed": true
   },
   "source": [
    "# Limitations\n",
    "\n",
    "* There is one big problem with this approach if you use want to export big hotspot call trees in JProfiler. It simply doesn't work because the XML data is getting to big. \n",
    "  * One approach would be the get direct access to the HotSpot data in JProfiler. I still have to ask the developers of JProfiler if this would be possible.\n",
    "  * The other approach that we're trying to do is to export just the Call Tree (because it's not so much data) as XML file, import it into Neo4j (by using jQAssistant, too) and calculate the HotSpots ourself.\n",
    "* Additionally, jQAssistant / Neo4j wouldn't be able to read hugh (> 2 GB) XML data (with the means we use today)\n",
    "* Working with huge graphs is a little bit tricky with the embedded Neo4j database that jQAssistant brings \n",
    "\n",
    "# Acknoledgements\n",
    "Many thanks to my student Andreas, who had to prototype some of my crazy graph query ideas :-) ."
   ]
  },
  {
   "cell_type": "markdown",
   "metadata": {
    "collapsed": true
   },
   "source": [
    "# Summary\n",
    "With this approach, you can mine your way through any graph based data format like XML files or other software structures.\n",
    "\n",
    "The key idea is to load a hugh graph with all the information and just use specific nodes of such a graph for extracting the information needed."
   ]
  },
  {
   "cell_type": "code",
   "execution_count": null,
   "metadata": {
    "collapsed": true
   },
   "outputs": [],
   "source": []
  },
  {
   "cell_type": "code",
   "execution_count": null,
   "metadata": {
    "collapsed": true
   },
   "outputs": [],
   "source": []
  }
 ],
 "metadata": {
  "anaconda-cloud": {},
  "kernelspec": {
   "display_name": "Python [Root]",
   "language": "python",
   "name": "Python [Root]"
  },
  "language_info": {
   "codemirror_mode": {
    "name": "ipython",
    "version": 3
   },
   "file_extension": ".py",
   "mimetype": "text/x-python",
   "name": "python",
   "nbconvert_exporter": "python",
   "pygments_lexer": "ipython3",
   "version": "3.5.2"
  }
 },
 "nbformat": 4,
 "nbformat_minor": 1
}
