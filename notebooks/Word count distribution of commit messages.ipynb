{
 "cells": [
  {
   "cell_type": "code",
   "execution_count": 1,
   "metadata": {},
   "outputs": [
    {
     "data": {
      "text/html": [
       "<div>\n",
       "<style>\n",
       "    .dataframe thead tr:only-child th {\n",
       "        text-align: right;\n",
       "    }\n",
       "\n",
       "    .dataframe thead th {\n",
       "        text-align: left;\n",
       "    }\n",
       "\n",
       "    .dataframe tbody tr th {\n",
       "        vertical-align: top;\n",
       "    }\n",
       "</style>\n",
       "<table border=\"1\" class=\"dataframe\">\n",
       "  <thead>\n",
       "    <tr style=\"text-align: right;\">\n",
       "      <th></th>\n",
       "      <th>sha</th>\n",
       "      <th>timestamp</th>\n",
       "      <th>author</th>\n",
       "      <th>message</th>\n",
       "      <th>word_count</th>\n",
       "    </tr>\n",
       "  </thead>\n",
       "  <tbody>\n",
       "    <tr>\n",
       "      <th>0</th>\n",
       "      <td>101c9dc</td>\n",
       "      <td>1498817227</td>\n",
       "      <td>Dave Syer</td>\n",
       "      <td>Update Spring Boot and Thymeleaf versions</td>\n",
       "      <td>6</td>\n",
       "    </tr>\n",
       "    <tr>\n",
       "      <th>1</th>\n",
       "      <td>ffa967c</td>\n",
       "      <td>1492026060</td>\n",
       "      <td>Antoine Rey</td>\n",
       "      <td>spring-petclinic-angular1 repo renamed to spri...</td>\n",
       "      <td>5</td>\n",
       "    </tr>\n",
       "    <tr>\n",
       "      <th>2</th>\n",
       "      <td>fd1c742</td>\n",
       "      <td>1488784768</td>\n",
       "      <td>Antoine Rey</td>\n",
       "      <td>Do not fail maven build when git directing is ...</td>\n",
       "      <td>10</td>\n",
       "    </tr>\n",
       "    <tr>\n",
       "      <th>3</th>\n",
       "      <td>f792522</td>\n",
       "      <td>1487331121</td>\n",
       "      <td>Stephane Nicoll</td>\n",
       "      <td>Merge pull request #229 from henri-tremblay:eh...</td>\n",
       "      <td>6</td>\n",
       "    </tr>\n",
       "    <tr>\n",
       "      <th>4</th>\n",
       "      <td>75912a0</td>\n",
       "      <td>1487331057</td>\n",
       "      <td>Stephane Nicoll</td>\n",
       "      <td>Polish contribution</td>\n",
       "      <td>2</td>\n",
       "    </tr>\n",
       "  </tbody>\n",
       "</table>\n",
       "</div>"
      ],
      "text/plain": [
       "       sha   timestamp           author  \\\n",
       "0  101c9dc  1498817227        Dave Syer   \n",
       "1  ffa967c  1492026060      Antoine Rey   \n",
       "2  fd1c742  1488784768      Antoine Rey   \n",
       "3  f792522  1487331121  Stephane Nicoll   \n",
       "4  75912a0  1487331057  Stephane Nicoll   \n",
       "\n",
       "                                             message  word_count  \n",
       "0          Update Spring Boot and Thymeleaf versions           6  \n",
       "1  spring-petclinic-angular1 repo renamed to spri...           5  \n",
       "2  Do not fail maven build when git directing is ...          10  \n",
       "3  Merge pull request #229 from henri-tremblay:eh...           6  \n",
       "4                                Polish contribution           2  "
      ]
     },
     "execution_count": 1,
     "metadata": {},
     "output_type": "execute_result"
    }
   ],
   "source": [
    "import git \n",
    "import pandas as pd\n",
    "from io import StringIO\n",
    "\n",
    "GIT_REPO_PATH = r'../../spring-petclinic/'\n",
    "repo = git.Repo(GIT_REPO_PATH)\n",
    "git_bin = repo.git\n",
    "git_log = git_bin.execute('git log --pretty=format:\"%h\\t%at\\t%aN\\t%s\"')\n",
    "commits = pd.read_csv(StringIO(git_log), \n",
    "    sep=\"\\t\",\n",
    "    header=None,              \n",
    "    names=['sha', 'timestamp', 'author', 'message']\n",
    "    )\n",
    "commits['word_count'] = commits['message'].str.count(\" \")+1\n",
    "commits.head()"
   ]
  },
  {
   "cell_type": "code",
   "execution_count": 2,
   "metadata": {},
   "outputs": [
    {
     "data": {
      "text/plain": [
       "<matplotlib.text.Text at 0x22eb96bb4e0>"
      ]
     },
     "execution_count": 2,
     "metadata": {},
     "output_type": "execute_result"
    },
    {
     "data": {
      "image/png": "[encoded data removed]",
      "text/plain": [
       "<matplotlib.figure.Figure at 0x22ebc6f9438>"
      ]
     },
     "metadata": {},
     "output_type": "display_data"
    }
   ],
   "source": [
    "%matplotlib inline\n",
    "import matplotlib.pyplot as plt\n",
    "\n",
    "commits['word_count'].hist()\n",
    "plt.suptitle(\"Word count distribution of commit messages\")"
   ]
  }
 ],
 "metadata": {
  "kernelspec": {
   "display_name": "Python 3",
   "language": "python",
   "name": "python3"
  },
  "language_info": {
   "codemirror_mode": {
    "name": "ipython",
    "version": 3
   },
   "file_extension": ".py",
   "mimetype": "text/x-python",
   "name": "python",
   "nbconvert_exporter": "python",
   "pygments_lexer": "ipython3",
   "version": "3.6.1"
  }
 },
 "nbformat": 4,
 "nbformat_minor": 2
}
