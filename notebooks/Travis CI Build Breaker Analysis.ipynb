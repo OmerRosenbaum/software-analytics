{
 "cells": [
  {
   "cell_type": "markdown",
   "metadata": {},
   "source": [
    "# Travis CI Build Breaker Analysis"
   ]
  },
  {
   "cell_type": "markdown",
   "metadata": {},
   "source": [
    "# Context\n",
    "\n",
    "In the age of agile software development, continous integration became an integral part of every development team. With the time, there may be so many test jobs and nightly builds running, that many teams are wasting much time in fixing the test instead of creating new features for their customers. On top of that, in the age of distributed systems, many build jobs might simply break because an external system isn't available or is behaving erroneous. These errors are very annoying because they occur sporadic and are very hard to trace back.\n",
    "\n",
    "In this blog post, I want to present you some options to find weird behaving build jobs. For this, I've downloaded some build log dumps from Travis Torrent, unpacked them and read them into Pandas to get some insight about breaking build jobs."
   ]
  },
  {
   "cell_type": "markdown",
   "metadata": {},
   "source": [
    "# Idea\n",
    "\n",
    "As complex as build logs might look like, they are semi-structured texts that contain recurring information in each job run.\n",
    "\n",
    "This means we can read a build log by a data analysis framework that can read in kind of structured data. Of course, we use Pandas for this to get our effective analysis of build logs started. In this example, I choose one of the biggest Travis CI build log archive for an Java application that I could find (I used a Google BigQuery to find the biggest ones). It's SonarQube &ndash; a static quality assurance tools for use in continuous integration (what a nice coincidence).\n",
    "\n",
    "The idea of this notebook is to show you what kind of information you can extract from a build log file to get more insight on how your build is working or failing. I won't show you every information detail that you can extract from a build log file, because they tend to get very specific and highly dependent on your own situation. But with the \"mechanics\" I'll show, you can adopt some analysis to your specific needs as well."
   ]
  },
  {
   "cell_type": "markdown",
   "metadata": {},
   "source": [
    "We read in the all the files in from the build log dump with `glob`. This allows us to quickly get the relevant files.\n",
    "\n",
    "Note: Because our log files are all in the same directory, we don't need to use the `recursive` feature that `glob` provides to get files from subdirectories as well."
   ]
  },
  {
   "cell_type": "code",
   "execution_count": 143,
   "metadata": {},
   "outputs": [
    {
     "data": {
      "text/plain": [
       "['C:/dev/data/build_logs/SonarSource@sonar-java\\\\1000_75925122_19fed6256b9dfdb91e2c0149e898aacbcf9357d7_75925123.log',\n",
       " 'C:/dev/data/build_logs/SonarSource@sonar-java\\\\1000_75925122_19fed6256b9dfdb91e2c0149e898aacbcf9357d7_75925124.log',\n",
       " 'C:/dev/data/build_logs/SonarSource@sonar-java\\\\1000_75925122_19fed6256b9dfdb91e2c0149e898aacbcf9357d7_75925125.log',\n",
       " 'C:/dev/data/build_logs/SonarSource@sonar-java\\\\1000_75925122_19fed6256b9dfdb91e2c0149e898aacbcf9357d7_75925126.log',\n",
       " 'C:/dev/data/build_logs/SonarSource@sonar-java\\\\1001_75929201_759f1ead70a1a8a8e889a5afc7f73787bb251fc3_75929202.log']"
      ]
     },
     "execution_count": 143,
     "metadata": {},
     "output_type": "execute_result"
    }
   ],
   "source": [
    "import glob\n",
    "import os\n",
    "ROOT_DIR = \"C:/dev/data/build_logs/SonarSource@sonar-java-light\"\n",
    "ROOT_DIR = \"C:/dev/data/build_logs/SonarSource@sonar-java\"\n",
    "\n",
    "GLOB_PATTERN = \"*.log\"\n",
    "log_file_paths = glob.glob(os.path.join(ROOT_DIR, GLOB_PATTERN))\n",
    "log_file_paths[:5]"
   ]
  },
  {
   "cell_type": "markdown",
   "metadata": {},
   "source": [
    "We import the raw data as soon as possible into a Pandas DataFrame to avoid custom Python glue code and to be able to use the \"standardized\" methods for data wrangling of the Pandas framework."
   ]
  },
  {
   "cell_type": "code",
   "execution_count": 144,
   "metadata": {},
   "outputs": [
    {
     "data": {
      "text/html": [
       "<div>\n",
       "<style>\n",
       "    .dataframe thead tr:only-child th {\n",
       "        text-align: right;\n",
       "    }\n",
       "\n",
       "    .dataframe thead th {\n",
       "        text-align: left;\n",
       "    }\n",
       "\n",
       "    .dataframe tbody tr th {\n",
       "        vertical-align: top;\n",
       "    }\n",
       "</style>\n",
       "<table border=\"1\" class=\"dataframe\">\n",
       "  <thead>\n",
       "    <tr style=\"text-align: right;\">\n",
       "      <th></th>\n",
       "      <th>path</th>\n",
       "    </tr>\n",
       "  </thead>\n",
       "  <tbody>\n",
       "    <tr>\n",
       "      <th>0</th>\n",
       "      <td>C:/dev/data/build_logs/SonarSource@sonar-java\\1000_75925122_19fed6256b9dfdb91e2c0149e898aacbcf9357d7_75925123.log</td>\n",
       "    </tr>\n",
       "    <tr>\n",
       "      <th>1</th>\n",
       "      <td>C:/dev/data/build_logs/SonarSource@sonar-java\\1000_75925122_19fed6256b9dfdb91e2c0149e898aacbcf9357d7_75925124.log</td>\n",
       "    </tr>\n",
       "    <tr>\n",
       "      <th>2</th>\n",
       "      <td>C:/dev/data/build_logs/SonarSource@sonar-java\\1000_75925122_19fed6256b9dfdb91e2c0149e898aacbcf9357d7_75925125.log</td>\n",
       "    </tr>\n",
       "    <tr>\n",
       "      <th>3</th>\n",
       "      <td>C:/dev/data/build_logs/SonarSource@sonar-java\\1000_75925122_19fed6256b9dfdb91e2c0149e898aacbcf9357d7_75925126.log</td>\n",
       "    </tr>\n",
       "    <tr>\n",
       "      <th>4</th>\n",
       "      <td>C:/dev/data/build_logs/SonarSource@sonar-java\\1001_75929201_759f1ead70a1a8a8e889a5afc7f73787bb251fc3_75929202.log</td>\n",
       "    </tr>\n",
       "  </tbody>\n",
       "</table>\n",
       "</div>"
      ],
      "text/plain": [
       "                                                                                                                path\n",
       "0  C:/dev/data/build_logs/SonarSource@sonar-java\\1000_75925122_19fed6256b9dfdb91e2c0149e898aacbcf9357d7_75925123.log\n",
       "1  C:/dev/data/build_logs/SonarSource@sonar-java\\1000_75925122_19fed6256b9dfdb91e2c0149e898aacbcf9357d7_75925124.log\n",
       "2  C:/dev/data/build_logs/SonarSource@sonar-java\\1000_75925122_19fed6256b9dfdb91e2c0149e898aacbcf9357d7_75925125.log\n",
       "3  C:/dev/data/build_logs/SonarSource@sonar-java\\1000_75925122_19fed6256b9dfdb91e2c0149e898aacbcf9357d7_75925126.log\n",
       "4  C:/dev/data/build_logs/SonarSource@sonar-java\\1001_75929201_759f1ead70a1a8a8e889a5afc7f73787bb251fc3_75929202.log"
      ]
     },
     "execution_count": 144,
     "metadata": {},
     "output_type": "execute_result"
    }
   ],
   "source": [
    "import pandas as pd\n",
    "# set width of column for nicer output\n",
    "pd.set_option('max_colwidth', 130)\n",
    "\n",
    "raw_logs = pd.DataFrame(log_file_paths, columns=['path'])\n",
    "raw_logs.head()"
   ]
  },
  {
   "cell_type": "markdown",
   "metadata": {},
   "source": [
    "We clean up these ugly, different, OS-specific file separators by using a common one. \n",
    "\n",
    "Note: We could have also used `os.sep` that gives us the OS-specific separator. In Windows, this would be `\\`. But if you plan to extract data later e. g. by regular expressions, this is getting really unreadable, because `\\` is also the character to escape certain other characters."
   ]
  },
  {
   "cell_type": "code",
   "execution_count": 145,
   "metadata": {},
   "outputs": [
    {
     "data": {
      "text/html": [
       "<div>\n",
       "<style>\n",
       "    .dataframe thead tr:only-child th {\n",
       "        text-align: right;\n",
       "    }\n",
       "\n",
       "    .dataframe thead th {\n",
       "        text-align: left;\n",
       "    }\n",
       "\n",
       "    .dataframe tbody tr th {\n",
       "        vertical-align: top;\n",
       "    }\n",
       "</style>\n",
       "<table border=\"1\" class=\"dataframe\">\n",
       "  <thead>\n",
       "    <tr style=\"text-align: right;\">\n",
       "      <th></th>\n",
       "      <th>path</th>\n",
       "    </tr>\n",
       "  </thead>\n",
       "  <tbody>\n",
       "    <tr>\n",
       "      <th>0</th>\n",
       "      <td>C:/dev/data/build_logs/SonarSource@sonar-java/1000_75925122_19fed6256b9dfdb91e2c0149e898aacbcf9357d7_75925123.log</td>\n",
       "    </tr>\n",
       "    <tr>\n",
       "      <th>1</th>\n",
       "      <td>C:/dev/data/build_logs/SonarSource@sonar-java/1000_75925122_19fed6256b9dfdb91e2c0149e898aacbcf9357d7_75925124.log</td>\n",
       "    </tr>\n",
       "    <tr>\n",
       "      <th>2</th>\n",
       "      <td>C:/dev/data/build_logs/SonarSource@sonar-java/1000_75925122_19fed6256b9dfdb91e2c0149e898aacbcf9357d7_75925125.log</td>\n",
       "    </tr>\n",
       "    <tr>\n",
       "      <th>3</th>\n",
       "      <td>C:/dev/data/build_logs/SonarSource@sonar-java/1000_75925122_19fed6256b9dfdb91e2c0149e898aacbcf9357d7_75925126.log</td>\n",
       "    </tr>\n",
       "    <tr>\n",
       "      <th>4</th>\n",
       "      <td>C:/dev/data/build_logs/SonarSource@sonar-java/1001_75929201_759f1ead70a1a8a8e889a5afc7f73787bb251fc3_75929202.log</td>\n",
       "    </tr>\n",
       "  </tbody>\n",
       "</table>\n",
       "</div>"
      ],
      "text/plain": [
       "                                                                                                                path\n",
       "0  C:/dev/data/build_logs/SonarSource@sonar-java/1000_75925122_19fed6256b9dfdb91e2c0149e898aacbcf9357d7_75925123.log\n",
       "1  C:/dev/data/build_logs/SonarSource@sonar-java/1000_75925122_19fed6256b9dfdb91e2c0149e898aacbcf9357d7_75925124.log\n",
       "2  C:/dev/data/build_logs/SonarSource@sonar-java/1000_75925122_19fed6256b9dfdb91e2c0149e898aacbcf9357d7_75925125.log\n",
       "3  C:/dev/data/build_logs/SonarSource@sonar-java/1000_75925122_19fed6256b9dfdb91e2c0149e898aacbcf9357d7_75925126.log\n",
       "4  C:/dev/data/build_logs/SonarSource@sonar-java/1001_75929201_759f1ead70a1a8a8e889a5afc7f73787bb251fc3_75929202.log"
      ]
     },
     "execution_count": 145,
     "metadata": {},
     "output_type": "execute_result"
    }
   ],
   "source": [
    "raw_logs['path'] = raw_logs['path'].str.replace(\"\\\\\", \"/\")\n",
    "raw_logs.head()"
   ]
  },
  {
   "cell_type": "markdown",
   "metadata": {},
   "source": [
    "The are many information in the file path alone:\n",
    "\n",
    "* The last directory in the path contains the name of the build job\n",
    "* The first part of the file name is the build number\n",
    "* The second part of the file name is the build id\n",
    "\n",
    "Let's say we need that information later on, so we extract it with a nice regular expression with named groups."
   ]
  },
  {
   "cell_type": "code",
   "execution_count": 146,
   "metadata": {},
   "outputs": [
    {
     "data": {
      "text/html": [
       "<div>\n",
       "<style>\n",
       "    .dataframe thead tr:only-child th {\n",
       "        text-align: right;\n",
       "    }\n",
       "\n",
       "    .dataframe thead th {\n",
       "        text-align: left;\n",
       "    }\n",
       "\n",
       "    .dataframe tbody tr th {\n",
       "        vertical-align: top;\n",
       "    }\n",
       "</style>\n",
       "<table border=\"1\" class=\"dataframe\">\n",
       "  <thead>\n",
       "    <tr style=\"text-align: right;\">\n",
       "      <th></th>\n",
       "      <th>path</th>\n",
       "      <th>jobname</th>\n",
       "      <th>build_number</th>\n",
       "      <th>build_id</th>\n",
       "    </tr>\n",
       "  </thead>\n",
       "  <tbody>\n",
       "    <tr>\n",
       "      <th>0</th>\n",
       "      <td>C:/dev/data/build_logs/SonarSource@sonar-java/1000_75925122_19fed6256b9dfdb91e2c0149e898aacbcf9357d7_75925123.log</td>\n",
       "      <td>SonarSource@sonar-java</td>\n",
       "      <td>1000</td>\n",
       "      <td>75925122</td>\n",
       "    </tr>\n",
       "    <tr>\n",
       "      <th>1</th>\n",
       "      <td>C:/dev/data/build_logs/SonarSource@sonar-java/1000_75925122_19fed6256b9dfdb91e2c0149e898aacbcf9357d7_75925124.log</td>\n",
       "      <td>SonarSource@sonar-java</td>\n",
       "      <td>1000</td>\n",
       "      <td>75925122</td>\n",
       "    </tr>\n",
       "    <tr>\n",
       "      <th>2</th>\n",
       "      <td>C:/dev/data/build_logs/SonarSource@sonar-java/1000_75925122_19fed6256b9dfdb91e2c0149e898aacbcf9357d7_75925125.log</td>\n",
       "      <td>SonarSource@sonar-java</td>\n",
       "      <td>1000</td>\n",
       "      <td>75925122</td>\n",
       "    </tr>\n",
       "    <tr>\n",
       "      <th>3</th>\n",
       "      <td>C:/dev/data/build_logs/SonarSource@sonar-java/1000_75925122_19fed6256b9dfdb91e2c0149e898aacbcf9357d7_75925126.log</td>\n",
       "      <td>SonarSource@sonar-java</td>\n",
       "      <td>1000</td>\n",
       "      <td>75925122</td>\n",
       "    </tr>\n",
       "    <tr>\n",
       "      <th>4</th>\n",
       "      <td>C:/dev/data/build_logs/SonarSource@sonar-java/1001_75929201_759f1ead70a1a8a8e889a5afc7f73787bb251fc3_75929202.log</td>\n",
       "      <td>SonarSource@sonar-java</td>\n",
       "      <td>1001</td>\n",
       "      <td>75929201</td>\n",
       "    </tr>\n",
       "  </tbody>\n",
       "</table>\n",
       "</div>"
      ],
      "text/plain": [
       "                                                                                                                path  \\\n",
       "0  C:/dev/data/build_logs/SonarSource@sonar-java/1000_75925122_19fed6256b9dfdb91e2c0149e898aacbcf9357d7_75925123.log   \n",
       "1  C:/dev/data/build_logs/SonarSource@sonar-java/1000_75925122_19fed6256b9dfdb91e2c0149e898aacbcf9357d7_75925124.log   \n",
       "2  C:/dev/data/build_logs/SonarSource@sonar-java/1000_75925122_19fed6256b9dfdb91e2c0149e898aacbcf9357d7_75925125.log   \n",
       "3  C:/dev/data/build_logs/SonarSource@sonar-java/1000_75925122_19fed6256b9dfdb91e2c0149e898aacbcf9357d7_75925126.log   \n",
       "4  C:/dev/data/build_logs/SonarSource@sonar-java/1001_75929201_759f1ead70a1a8a8e889a5afc7f73787bb251fc3_75929202.log   \n",
       "\n",
       "                  jobname build_number  build_id  \n",
       "0  SonarSource@sonar-java         1000  75925122  \n",
       "1  SonarSource@sonar-java         1000  75925122  \n",
       "2  SonarSource@sonar-java         1000  75925122  \n",
       "3  SonarSource@sonar-java         1000  75925122  \n",
       "4  SonarSource@sonar-java         1001  75929201  "
      ]
     },
     "execution_count": 146,
     "metadata": {},
     "output_type": "execute_result"
    }
   ],
   "source": [
    "# TODO: uses still regex, too slow? Consider \"split\"?\n",
    "logs = raw_logs.join(raw_logs['path'].str.extract(\n",
    "        r\"^.*\" + \\\n",
    "        \"/(?P<jobname>.*)/\" + \\\n",
    "        \"(?P<build_number>.*?)_\" + \\\n",
    "        \"(?P<build_id>.*?)_.*\\.log$\", expand=True))\n",
    "logs.head()"
   ]
  },
  {
   "cell_type": "markdown",
   "metadata": {},
   "source": [
    "In the case of the Travis build log dumps, we got multiple files for each build run. We just need the first ones, that's why we throw away all the other build logs with the same build number."
   ]
  },
  {
   "cell_type": "code",
   "execution_count": 147,
   "metadata": {},
   "outputs": [
    {
     "data": {
      "text/html": [
       "<div>\n",
       "<style>\n",
       "    .dataframe thead tr:only-child th {\n",
       "        text-align: right;\n",
       "    }\n",
       "\n",
       "    .dataframe thead th {\n",
       "        text-align: left;\n",
       "    }\n",
       "\n",
       "    .dataframe tbody tr th {\n",
       "        vertical-align: top;\n",
       "    }\n",
       "</style>\n",
       "<table border=\"1\" class=\"dataframe\">\n",
       "  <thead>\n",
       "    <tr style=\"text-align: right;\">\n",
       "      <th></th>\n",
       "      <th>path</th>\n",
       "      <th>jobname</th>\n",
       "      <th>build_number</th>\n",
       "      <th>build_id</th>\n",
       "    </tr>\n",
       "  </thead>\n",
       "  <tbody>\n",
       "    <tr>\n",
       "      <th>0</th>\n",
       "      <td>C:/dev/data/build_logs/SonarSource@sonar-java/1000_75925122_19fed6256b9dfdb91e2c0149e898aacbcf9357d7_75925123.log</td>\n",
       "      <td>SonarSource@sonar-java</td>\n",
       "      <td>1000</td>\n",
       "      <td>75925122</td>\n",
       "    </tr>\n",
       "    <tr>\n",
       "      <th>4</th>\n",
       "      <td>C:/dev/data/build_logs/SonarSource@sonar-java/1001_75929201_759f1ead70a1a8a8e889a5afc7f73787bb251fc3_75929202.log</td>\n",
       "      <td>SonarSource@sonar-java</td>\n",
       "      <td>1001</td>\n",
       "      <td>75929201</td>\n",
       "    </tr>\n",
       "    <tr>\n",
       "      <th>8</th>\n",
       "      <td>C:/dev/data/build_logs/SonarSource@sonar-java/1002_75932199_c8c445f3fc062057c8c8b85fa29cae2e3197589d_75932200.log</td>\n",
       "      <td>SonarSource@sonar-java</td>\n",
       "      <td>1002</td>\n",
       "      <td>75932199</td>\n",
       "    </tr>\n",
       "    <tr>\n",
       "      <th>12</th>\n",
       "      <td>C:/dev/data/build_logs/SonarSource@sonar-java/1003_75934919_d92aca4576d30ff97fcb7ed2302f5bd0f56d6438_75934920.log</td>\n",
       "      <td>SonarSource@sonar-java</td>\n",
       "      <td>1003</td>\n",
       "      <td>75934919</td>\n",
       "    </tr>\n",
       "    <tr>\n",
       "      <th>16</th>\n",
       "      <td>C:/dev/data/build_logs/SonarSource@sonar-java/1004_75940558_b4a51d318eb3286cc6c8f41ba54fb221573aca31_75940561.log</td>\n",
       "      <td>SonarSource@sonar-java</td>\n",
       "      <td>1004</td>\n",
       "      <td>75940558</td>\n",
       "    </tr>\n",
       "  </tbody>\n",
       "</table>\n",
       "</div>"
      ],
      "text/plain": [
       "                                                                                                                 path  \\\n",
       "0   C:/dev/data/build_logs/SonarSource@sonar-java/1000_75925122_19fed6256b9dfdb91e2c0149e898aacbcf9357d7_75925123.log   \n",
       "4   C:/dev/data/build_logs/SonarSource@sonar-java/1001_75929201_759f1ead70a1a8a8e889a5afc7f73787bb251fc3_75929202.log   \n",
       "8   C:/dev/data/build_logs/SonarSource@sonar-java/1002_75932199_c8c445f3fc062057c8c8b85fa29cae2e3197589d_75932200.log   \n",
       "12  C:/dev/data/build_logs/SonarSource@sonar-java/1003_75934919_d92aca4576d30ff97fcb7ed2302f5bd0f56d6438_75934920.log   \n",
       "16  C:/dev/data/build_logs/SonarSource@sonar-java/1004_75940558_b4a51d318eb3286cc6c8f41ba54fb221573aca31_75940561.log   \n",
       "\n",
       "                   jobname build_number  build_id  \n",
       "0   SonarSource@sonar-java         1000  75925122  \n",
       "4   SonarSource@sonar-java         1001  75929201  \n",
       "8   SonarSource@sonar-java         1002  75932199  \n",
       "12  SonarSource@sonar-java         1003  75934919  \n",
       "16  SonarSource@sonar-java         1004  75940558  "
      ]
     },
     "execution_count": 147,
     "metadata": {},
     "output_type": "execute_result"
    }
   ],
   "source": [
    "logs = logs.drop_duplicates(subset=['build_number'], keep='first')\n",
    "logs.head()"
   ]
  },
  {
   "cell_type": "markdown",
   "metadata": {},
   "source": [
    "After dropping possible multiple build log files, we can use the build number as new index (aka key) for our DataFrame."
   ]
  },
  {
   "cell_type": "code",
   "execution_count": 148,
   "metadata": {},
   "outputs": [
    {
     "data": {
      "text/html": [
       "<div>\n",
       "<style>\n",
       "    .dataframe thead tr:only-child th {\n",
       "        text-align: right;\n",
       "    }\n",
       "\n",
       "    .dataframe thead th {\n",
       "        text-align: left;\n",
       "    }\n",
       "\n",
       "    .dataframe tbody tr th {\n",
       "        vertical-align: top;\n",
       "    }\n",
       "</style>\n",
       "<table border=\"1\" class=\"dataframe\">\n",
       "  <thead>\n",
       "    <tr style=\"text-align: right;\">\n",
       "      <th></th>\n",
       "      <th>path</th>\n",
       "      <th>jobname</th>\n",
       "      <th>build_id</th>\n",
       "    </tr>\n",
       "    <tr>\n",
       "      <th>build_number</th>\n",
       "      <th></th>\n",
       "      <th></th>\n",
       "      <th></th>\n",
       "    </tr>\n",
       "  </thead>\n",
       "  <tbody>\n",
       "    <tr>\n",
       "      <th>1000</th>\n",
       "      <td>C:/dev/data/build_logs/SonarSource@sonar-java/1000_75925122_19fed6256b9dfdb91e2c0149e898aacbcf9357d7_75925123.log</td>\n",
       "      <td>SonarSource@sonar-java</td>\n",
       "      <td>75925122</td>\n",
       "    </tr>\n",
       "    <tr>\n",
       "      <th>1001</th>\n",
       "      <td>C:/dev/data/build_logs/SonarSource@sonar-java/1001_75929201_759f1ead70a1a8a8e889a5afc7f73787bb251fc3_75929202.log</td>\n",
       "      <td>SonarSource@sonar-java</td>\n",
       "      <td>75929201</td>\n",
       "    </tr>\n",
       "    <tr>\n",
       "      <th>1002</th>\n",
       "      <td>C:/dev/data/build_logs/SonarSource@sonar-java/1002_75932199_c8c445f3fc062057c8c8b85fa29cae2e3197589d_75932200.log</td>\n",
       "      <td>SonarSource@sonar-java</td>\n",
       "      <td>75932199</td>\n",
       "    </tr>\n",
       "    <tr>\n",
       "      <th>1003</th>\n",
       "      <td>C:/dev/data/build_logs/SonarSource@sonar-java/1003_75934919_d92aca4576d30ff97fcb7ed2302f5bd0f56d6438_75934920.log</td>\n",
       "      <td>SonarSource@sonar-java</td>\n",
       "      <td>75934919</td>\n",
       "    </tr>\n",
       "    <tr>\n",
       "      <th>1004</th>\n",
       "      <td>C:/dev/data/build_logs/SonarSource@sonar-java/1004_75940558_b4a51d318eb3286cc6c8f41ba54fb221573aca31_75940561.log</td>\n",
       "      <td>SonarSource@sonar-java</td>\n",
       "      <td>75940558</td>\n",
       "    </tr>\n",
       "  </tbody>\n",
       "</table>\n",
       "</div>"
      ],
      "text/plain": [
       "                                                                                                                           path  \\\n",
       "build_number                                                                                                                      \n",
       "1000          C:/dev/data/build_logs/SonarSource@sonar-java/1000_75925122_19fed6256b9dfdb91e2c0149e898aacbcf9357d7_75925123.log   \n",
       "1001          C:/dev/data/build_logs/SonarSource@sonar-java/1001_75929201_759f1ead70a1a8a8e889a5afc7f73787bb251fc3_75929202.log   \n",
       "1002          C:/dev/data/build_logs/SonarSource@sonar-java/1002_75932199_c8c445f3fc062057c8c8b85fa29cae2e3197589d_75932200.log   \n",
       "1003          C:/dev/data/build_logs/SonarSource@sonar-java/1003_75934919_d92aca4576d30ff97fcb7ed2302f5bd0f56d6438_75934920.log   \n",
       "1004          C:/dev/data/build_logs/SonarSource@sonar-java/1004_75940558_b4a51d318eb3286cc6c8f41ba54fb221573aca31_75940561.log   \n",
       "\n",
       "                             jobname  build_id  \n",
       "build_number                                    \n",
       "1000          SonarSource@sonar-java  75925122  \n",
       "1001          SonarSource@sonar-java  75929201  \n",
       "1002          SonarSource@sonar-java  75932199  \n",
       "1003          SonarSource@sonar-java  75934919  \n",
       "1004          SonarSource@sonar-java  75940558  "
      ]
     },
     "execution_count": 148,
     "metadata": {},
     "output_type": "execute_result"
    }
   ],
   "source": [
    "logs = logs.set_index(['build_number'], drop=True)\n",
    "logs.head()"
   ]
  },
  {
   "cell_type": "markdown",
   "metadata": {},
   "source": [
    "So far, we've just extracted metadata from the file path of the build log files. Now we are getting to the interesting parts: Extracting information from the content of the bulid log files. For this, we need to load the content of the log files into our DataFrame.\n",
    "\n",
    "We do this with a little helper method that simply returns the contents of a file who's file_path was given:"
   ]
  },
  {
   "cell_type": "code",
   "execution_count": 149,
   "metadata": {
    "collapsed": true
   },
   "outputs": [],
   "source": [
    "def load_file_content(file_path):\n",
    "    with open(file_path, mode='r', encoding=\"utf-8\") as f:\n",
    "        return f.read()"
   ]
  },
  {
   "cell_type": "markdown",
   "metadata": {},
   "source": [
    "We use the function above in the `apply` call upon the `path` Series.\n",
    "\n",
    "Note: For many big files, this could take some time to finish."
   ]
  },
  {
   "cell_type": "code",
   "execution_count": 150,
   "metadata": {
    "scrolled": true
   },
   "outputs": [
    {
     "data": {
      "text/html": [
       "<div>\n",
       "<style>\n",
       "    .dataframe thead tr:only-child th {\n",
       "        text-align: right;\n",
       "    }\n",
       "\n",
       "    .dataframe thead th {\n",
       "        text-align: left;\n",
       "    }\n",
       "\n",
       "    .dataframe tbody tr th {\n",
       "        vertical-align: top;\n",
       "    }\n",
       "</style>\n",
       "<table border=\"1\" class=\"dataframe\">\n",
       "  <thead>\n",
       "    <tr style=\"text-align: right;\">\n",
       "      <th></th>\n",
       "      <th>path</th>\n",
       "      <th>jobname</th>\n",
       "      <th>build_id</th>\n",
       "      <th>content</th>\n",
       "    </tr>\n",
       "    <tr>\n",
       "      <th>build_number</th>\n",
       "      <th></th>\n",
       "      <th></th>\n",
       "      <th></th>\n",
       "      <th></th>\n",
       "    </tr>\n",
       "  </thead>\n",
       "  <tbody>\n",
       "    <tr>\n",
       "      <th>1000</th>\n",
       "      <td>C:/dev/data/build_logs/SonarSource@sonar-java/1000_75925122_19fed6256b9dfdb91e2c0149e898aacbcf9357d7_75925123.log</td>\n",
       "      <td>SonarSource@sonar-java</td>\n",
       "      <td>75925122</td>\n",
       "      <td>Using worker: worker-linux-docker-041074ed.prod.travis-ci.org:travis-linux-7\\n\\ntravis_fold:start:system_info\\n\u001b[0K\u001b[33;1mBuil...</td>\n",
       "    </tr>\n",
       "    <tr>\n",
       "      <th>1001</th>\n",
       "      <td>C:/dev/data/build_logs/SonarSource@sonar-java/1001_75929201_759f1ead70a1a8a8e889a5afc7f73787bb251fc3_75929202.log</td>\n",
       "      <td>SonarSource@sonar-java</td>\n",
       "      <td>75929201</td>\n",
       "      <td>Using worker: worker-linux-docker-dc056135.prod.travis-ci.org:travis-linux-7\\n\\ntravis_fold:start:system_info\\n\u001b[0K\u001b[33;1mBuil...</td>\n",
       "    </tr>\n",
       "    <tr>\n",
       "      <th>1002</th>\n",
       "      <td>C:/dev/data/build_logs/SonarSource@sonar-java/1002_75932199_c8c445f3fc062057c8c8b85fa29cae2e3197589d_75932200.log</td>\n",
       "      <td>SonarSource@sonar-java</td>\n",
       "      <td>75932199</td>\n",
       "      <td>Using worker: worker-linux-docker-064e2aef.prod.travis-ci.org:travis-linux-1\\n\\ntravis_fold:start:system_info\\n\u001b[0K\u001b[33;1mBuil...</td>\n",
       "    </tr>\n",
       "    <tr>\n",
       "      <th>1003</th>\n",
       "      <td>C:/dev/data/build_logs/SonarSource@sonar-java/1003_75934919_d92aca4576d30ff97fcb7ed2302f5bd0f56d6438_75934920.log</td>\n",
       "      <td>SonarSource@sonar-java</td>\n",
       "      <td>75934919</td>\n",
       "      <td>Using worker: worker-linux-docker-ed1a7e04.prod.travis-ci.org:travis-linux-1\\n\\ntravis_fold:start:system_info\\n\u001b[0K\u001b[33;1mBuil...</td>\n",
       "    </tr>\n",
       "    <tr>\n",
       "      <th>1004</th>\n",
       "      <td>C:/dev/data/build_logs/SonarSource@sonar-java/1004_75940558_b4a51d318eb3286cc6c8f41ba54fb221573aca31_75940561.log</td>\n",
       "      <td>SonarSource@sonar-java</td>\n",
       "      <td>75940558</td>\n",
       "      <td>Using worker: worker-linux-docker-8f1d7966.prod.travis-ci.org:travis-linux-3\\n\\ntravis_fold:start:system_info\\n\u001b[0K\u001b[33;1mBuil...</td>\n",
       "    </tr>\n",
       "  </tbody>\n",
       "</table>\n",
       "</div>"
      ],
      "text/plain": [
       "                                                                                                                           path  \\\n",
       "build_number                                                                                                                      \n",
       "1000          C:/dev/data/build_logs/SonarSource@sonar-java/1000_75925122_19fed6256b9dfdb91e2c0149e898aacbcf9357d7_75925123.log   \n",
       "1001          C:/dev/data/build_logs/SonarSource@sonar-java/1001_75929201_759f1ead70a1a8a8e889a5afc7f73787bb251fc3_75929202.log   \n",
       "1002          C:/dev/data/build_logs/SonarSource@sonar-java/1002_75932199_c8c445f3fc062057c8c8b85fa29cae2e3197589d_75932200.log   \n",
       "1003          C:/dev/data/build_logs/SonarSource@sonar-java/1003_75934919_d92aca4576d30ff97fcb7ed2302f5bd0f56d6438_75934920.log   \n",
       "1004          C:/dev/data/build_logs/SonarSource@sonar-java/1004_75940558_b4a51d318eb3286cc6c8f41ba54fb221573aca31_75940561.log   \n",
       "\n",
       "                             jobname  build_id  \\\n",
       "build_number                                     \n",
       "1000          SonarSource@sonar-java  75925122   \n",
       "1001          SonarSource@sonar-java  75929201   \n",
       "1002          SonarSource@sonar-java  75932199   \n",
       "1003          SonarSource@sonar-java  75934919   \n",
       "1004          SonarSource@sonar-java  75940558   \n",
       "\n",
       "                                                                                                                                        content  \n",
       "build_number                                                                                                                                     \n",
       "1000          Using worker: worker-linux-docker-041074ed.prod.travis-ci.org:travis-linux-7\\n\\ntravis_fold:start:system_info\\n\u001b[0K\u001b[33;1mBuil...  \n",
       "1001          Using worker: worker-linux-docker-dc056135.prod.travis-ci.org:travis-linux-7\\n\\ntravis_fold:start:system_info\\n\u001b[0K\u001b[33;1mBuil...  \n",
       "1002          Using worker: worker-linux-docker-064e2aef.prod.travis-ci.org:travis-linux-1\\n\\ntravis_fold:start:system_info\\n\u001b[0K\u001b[33;1mBuil...  \n",
       "1003          Using worker: worker-linux-docker-ed1a7e04.prod.travis-ci.org:travis-linux-1\\n\\ntravis_fold:start:system_info\\n\u001b[0K\u001b[33;1mBuil...  \n",
       "1004          Using worker: worker-linux-docker-8f1d7966.prod.travis-ci.org:travis-linux-3\\n\\ntravis_fold:start:system_info\\n\u001b[0K\u001b[33;1mBuil...  "
      ]
     },
     "execution_count": 150,
     "metadata": {},
     "output_type": "execute_result"
    }
   ],
   "source": [
    "logs['content'] = logs['path'].apply(load_file_content)\n",
    "logs.head()"
   ]
  },
  {
   "cell_type": "markdown",
   "metadata": {},
   "source": [
    "Because it could get a little bit confusing with so much columns in a single DataFrame, we delete the `path` columns because it's not needed anymore."
   ]
  },
  {
   "cell_type": "code",
   "execution_count": 151,
   "metadata": {},
   "outputs": [
    {
     "data": {
      "text/html": [
       "<div>\n",
       "<style>\n",
       "    .dataframe thead tr:only-child th {\n",
       "        text-align: right;\n",
       "    }\n",
       "\n",
       "    .dataframe thead th {\n",
       "        text-align: left;\n",
       "    }\n",
       "\n",
       "    .dataframe tbody tr th {\n",
       "        vertical-align: top;\n",
       "    }\n",
       "</style>\n",
       "<table border=\"1\" class=\"dataframe\">\n",
       "  <thead>\n",
       "    <tr style=\"text-align: right;\">\n",
       "      <th></th>\n",
       "      <th>jobname</th>\n",
       "      <th>build_id</th>\n",
       "      <th>content</th>\n",
       "    </tr>\n",
       "    <tr>\n",
       "      <th>build_number</th>\n",
       "      <th></th>\n",
       "      <th></th>\n",
       "      <th></th>\n",
       "    </tr>\n",
       "  </thead>\n",
       "  <tbody>\n",
       "    <tr>\n",
       "      <th>1000</th>\n",
       "      <td>SonarSource@sonar-java</td>\n",
       "      <td>75925122</td>\n",
       "      <td>Using worker: worker-linux-docker-041074ed.prod.travis-ci.org:travis-linux-7\\n\\ntravis_fold:start:system_info\\n\u001b[0K\u001b[33;1mBuil...</td>\n",
       "    </tr>\n",
       "    <tr>\n",
       "      <th>1001</th>\n",
       "      <td>SonarSource@sonar-java</td>\n",
       "      <td>75929201</td>\n",
       "      <td>Using worker: worker-linux-docker-dc056135.prod.travis-ci.org:travis-linux-7\\n\\ntravis_fold:start:system_info\\n\u001b[0K\u001b[33;1mBuil...</td>\n",
       "    </tr>\n",
       "    <tr>\n",
       "      <th>1002</th>\n",
       "      <td>SonarSource@sonar-java</td>\n",
       "      <td>75932199</td>\n",
       "      <td>Using worker: worker-linux-docker-064e2aef.prod.travis-ci.org:travis-linux-1\\n\\ntravis_fold:start:system_info\\n\u001b[0K\u001b[33;1mBuil...</td>\n",
       "    </tr>\n",
       "    <tr>\n",
       "      <th>1003</th>\n",
       "      <td>SonarSource@sonar-java</td>\n",
       "      <td>75934919</td>\n",
       "      <td>Using worker: worker-linux-docker-ed1a7e04.prod.travis-ci.org:travis-linux-1\\n\\ntravis_fold:start:system_info\\n\u001b[0K\u001b[33;1mBuil...</td>\n",
       "    </tr>\n",
       "    <tr>\n",
       "      <th>1004</th>\n",
       "      <td>SonarSource@sonar-java</td>\n",
       "      <td>75940558</td>\n",
       "      <td>Using worker: worker-linux-docker-8f1d7966.prod.travis-ci.org:travis-linux-3\\n\\ntravis_fold:start:system_info\\n\u001b[0K\u001b[33;1mBuil...</td>\n",
       "    </tr>\n",
       "  </tbody>\n",
       "</table>\n",
       "</div>"
      ],
      "text/plain": [
       "                             jobname  build_id  \\\n",
       "build_number                                     \n",
       "1000          SonarSource@sonar-java  75925122   \n",
       "1001          SonarSource@sonar-java  75929201   \n",
       "1002          SonarSource@sonar-java  75932199   \n",
       "1003          SonarSource@sonar-java  75934919   \n",
       "1004          SonarSource@sonar-java  75940558   \n",
       "\n",
       "                                                                                                                                        content  \n",
       "build_number                                                                                                                                     \n",
       "1000          Using worker: worker-linux-docker-041074ed.prod.travis-ci.org:travis-linux-7\\n\\ntravis_fold:start:system_info\\n\u001b[0K\u001b[33;1mBuil...  \n",
       "1001          Using worker: worker-linux-docker-dc056135.prod.travis-ci.org:travis-linux-7\\n\\ntravis_fold:start:system_info\\n\u001b[0K\u001b[33;1mBuil...  \n",
       "1002          Using worker: worker-linux-docker-064e2aef.prod.travis-ci.org:travis-linux-1\\n\\ntravis_fold:start:system_info\\n\u001b[0K\u001b[33;1mBuil...  \n",
       "1003          Using worker: worker-linux-docker-ed1a7e04.prod.travis-ci.org:travis-linux-1\\n\\ntravis_fold:start:system_info\\n\u001b[0K\u001b[33;1mBuil...  \n",
       "1004          Using worker: worker-linux-docker-8f1d7966.prod.travis-ci.org:travis-linux-3\\n\\ntravis_fold:start:system_info\\n\u001b[0K\u001b[33;1mBuil...  "
      ]
     },
     "execution_count": 151,
     "metadata": {},
     "output_type": "execute_result"
    }
   ],
   "source": [
    "log_data = logs.copy()\n",
    "del(log_data['path'])\n",
    "log_data.head()"
   ]
  },
  {
   "cell_type": "markdown",
   "metadata": {},
   "source": [
    "Let's have a look at some of the contents of a build log file. This is where the analysis gets very specific depending on the used contiuous integration server, the build system, the programming language etc. . But the main idea is the same: Extract some interesing features that show what's going on in your build!\n",
    "\n",
    "Let's take a look at our scenario: A Travis CI job of a Java application that's build with Maven.\n",
    "\n",
    "Here are the first lines of one build log."
   ]
  },
  {
   "cell_type": "code",
   "execution_count": 152,
   "metadata": {
    "collapsed": true
   },
   "outputs": [],
   "source": [
    "# TODO put every line in a new row"
   ]
  },
  {
   "cell_type": "markdown",
   "metadata": {},
   "source": [
    "This could also take a while because we are doing a string operation which is slow.  "
   ]
  },
  {
   "cell_type": "code",
   "execution_count": 166,
   "metadata": {},
   "outputs": [
    {
     "data": {
      "text/html": [
       "<div>\n",
       "<style>\n",
       "    .dataframe thead tr:only-child th {\n",
       "        text-align: right;\n",
       "    }\n",
       "\n",
       "    .dataframe thead th {\n",
       "        text-align: left;\n",
       "    }\n",
       "\n",
       "    .dataframe tbody tr th {\n",
       "        vertical-align: top;\n",
       "    }\n",
       "</style>\n",
       "<table border=\"1\" class=\"dataframe\">\n",
       "  <thead>\n",
       "    <tr style=\"text-align: right;\">\n",
       "      <th></th>\n",
       "      <th></th>\n",
       "      <th>data</th>\n",
       "    </tr>\n",
       "    <tr>\n",
       "      <th>build_number</th>\n",
       "      <th></th>\n",
       "      <th></th>\n",
       "    </tr>\n",
       "  </thead>\n",
       "  <tbody>\n",
       "    <tr>\n",
       "      <th rowspan=\"30\" valign=\"top\">1000</th>\n",
       "      <th>0</th>\n",
       "      <td>Using worker: worker-linux-docker-041074ed.prod.travis-ci.org:travis-linux-7</td>\n",
       "    </tr>\n",
       "    <tr>\n",
       "      <th>1</th>\n",
       "      <td></td>\n",
       "    </tr>\n",
       "    <tr>\n",
       "      <th>2</th>\n",
       "      <td>travis_fold:start:system_info</td>\n",
       "    </tr>\n",
       "    <tr>\n",
       "      <th>3</th>\n",
       "      <td>\u001b[0K\u001b[33;1mBuild system information\u001b[0m</td>\n",
       "    </tr>\n",
       "    <tr>\n",
       "      <th>4</th>\n",
       "      <td>Build language: java</td>\n",
       "    </tr>\n",
       "    <tr>\n",
       "      <th>5</th>\n",
       "      <td>\u001b[34m\u001b[1mBuild image provisioning date and time\u001b[0m</td>\n",
       "    </tr>\n",
       "    <tr>\n",
       "      <th>6</th>\n",
       "      <td>Thu Feb  5 15:09:33 UTC 2015</td>\n",
       "    </tr>\n",
       "    <tr>\n",
       "      <th>7</th>\n",
       "      <td>\u001b[34m\u001b[1mOperating System Details\u001b[0m</td>\n",
       "    </tr>\n",
       "    <tr>\n",
       "      <th>8</th>\n",
       "      <td>Distributor ID:\\tUbuntu</td>\n",
       "    </tr>\n",
       "    <tr>\n",
       "      <th>9</th>\n",
       "      <td>Description:\\tUbuntu 12.04.5 LTS</td>\n",
       "    </tr>\n",
       "    <tr>\n",
       "      <th>10</th>\n",
       "      <td>Release:\\t12.04</td>\n",
       "    </tr>\n",
       "    <tr>\n",
       "      <th>11</th>\n",
       "      <td>Codename:\\tprecise</td>\n",
       "    </tr>\n",
       "    <tr>\n",
       "      <th>12</th>\n",
       "      <td>\u001b[34m\u001b[1mLinux Version\u001b[0m</td>\n",
       "    </tr>\n",
       "    <tr>\n",
       "      <th>13</th>\n",
       "      <td>3.13.0-29-generic</td>\n",
       "    </tr>\n",
       "    <tr>\n",
       "      <th>14</th>\n",
       "      <td>\u001b[34m\u001b[1mCookbooks Version\u001b[0m</td>\n",
       "    </tr>\n",
       "    <tr>\n",
       "      <th>15</th>\n",
       "      <td>a68419e https://github.com/travis-ci/travis-cookbooks/tree/a68419e</td>\n",
       "    </tr>\n",
       "    <tr>\n",
       "      <th>16</th>\n",
       "      <td>\u001b[34m\u001b[1mGCC version\u001b[0m</td>\n",
       "    </tr>\n",
       "    <tr>\n",
       "      <th>17</th>\n",
       "      <td>gcc (Ubuntu/Linaro 4.6.3-1ubuntu5) 4.6.3</td>\n",
       "    </tr>\n",
       "    <tr>\n",
       "      <th>18</th>\n",
       "      <td>Copyright (C) 2011 Free Software Foundation, Inc.</td>\n",
       "    </tr>\n",
       "    <tr>\n",
       "      <th>19</th>\n",
       "      <td>This is free software; see the source for copying conditions.  There is NO</td>\n",
       "    </tr>\n",
       "    <tr>\n",
       "      <th>20</th>\n",
       "      <td>warranty; not even for MERCHANTABILITY or FITNESS FOR A PARTICULAR PURPOSE.</td>\n",
       "    </tr>\n",
       "    <tr>\n",
       "      <th>21</th>\n",
       "      <td></td>\n",
       "    </tr>\n",
       "    <tr>\n",
       "      <th>22</th>\n",
       "      <td>\u001b[34m\u001b[1mLLVM version\u001b[0m</td>\n",
       "    </tr>\n",
       "    <tr>\n",
       "      <th>23</th>\n",
       "      <td>clang version 3.4 (tags/RELEASE_34/final)</td>\n",
       "    </tr>\n",
       "    <tr>\n",
       "      <th>24</th>\n",
       "      <td>Target: x86_64-unknown-linux-gnu</td>\n",
       "    </tr>\n",
       "    <tr>\n",
       "      <th>25</th>\n",
       "      <td>Thread model: posix</td>\n",
       "    </tr>\n",
       "    <tr>\n",
       "      <th>26</th>\n",
       "      <td>\u001b[34m\u001b[1mPre-installed Ruby versions\u001b[0m</td>\n",
       "    </tr>\n",
       "    <tr>\n",
       "      <th>27</th>\n",
       "      <td>ruby-1.9.3-p551</td>\n",
       "    </tr>\n",
       "    <tr>\n",
       "      <th>28</th>\n",
       "      <td>\u001b[34m\u001b[1mPre-installed Node.js versions\u001b[0m</td>\n",
       "    </tr>\n",
       "    <tr>\n",
       "      <th>29</th>\n",
       "      <td>v0.10.36</td>\n",
       "    </tr>\n",
       "    <tr>\n",
       "      <th>...</th>\n",
       "      <th>...</th>\n",
       "      <td>...</td>\n",
       "    </tr>\n",
       "    <tr>\n",
       "      <th rowspan=\"30\" valign=\"top\">1003</th>\n",
       "      <th>2118</th>\n",
       "      <td>[INFO] ------------------------------------------------------------------------</td>\n",
       "    </tr>\n",
       "    <tr>\n",
       "      <th>2119</th>\n",
       "      <td>[INFO] Reactor Summary:</td>\n",
       "    </tr>\n",
       "    <tr>\n",
       "      <th>2120</th>\n",
       "      <td>[INFO]</td>\n",
       "    </tr>\n",
       "    <tr>\n",
       "      <th>2121</th>\n",
       "      <td>[INFO] SonarQube Java ..................................... SUCCESS [  3.155 s]</td>\n",
       "    </tr>\n",
       "    <tr>\n",
       "      <th>2122</th>\n",
       "      <td>[INFO] SonarQube Java :: Squid ............................ SUCCESS [01:23 min]</td>\n",
       "    </tr>\n",
       "    <tr>\n",
       "      <th>2123</th>\n",
       "      <td>[INFO] SonarQube Java :: Checks ........................... SUCCESS [ 20.978 s]</td>\n",
       "    </tr>\n",
       "    <tr>\n",
       "      <th>2124</th>\n",
       "      <td>[INFO] SonarQube Java :: Surefire ......................... SUCCESS [  2.376 s]</td>\n",
       "    </tr>\n",
       "    <tr>\n",
       "      <th>2125</th>\n",
       "      <td>[INFO] java-jacoco-previous ............................... SUCCESS [  1.264 s]</td>\n",
       "    </tr>\n",
       "    <tr>\n",
       "      <th>2126</th>\n",
       "      <td>[INFO] SonarQube Java :: JaCoCo ........................... SUCCESS [  2.517 s]</td>\n",
       "    </tr>\n",
       "    <tr>\n",
       "      <th>2127</th>\n",
       "      <td>[INFO] SonarQube Java :: Plugin ........................... SUCCESS [  6.782 s]</td>\n",
       "    </tr>\n",
       "    <tr>\n",
       "      <th>2128</th>\n",
       "      <td>[INFO] SonarQube Java :: JaCoCo Listeners ................. SUCCESS [  1.747 s]</td>\n",
       "    </tr>\n",
       "    <tr>\n",
       "      <th>2129</th>\n",
       "      <td>[INFO] ------------------------------------------------------------------------</td>\n",
       "    </tr>\n",
       "    <tr>\n",
       "      <th>2130</th>\n",
       "      <td>[INFO] BUILD SUCCESS</td>\n",
       "    </tr>\n",
       "    <tr>\n",
       "      <th>2131</th>\n",
       "      <td>[INFO] ------------------------------------------------------------------------</td>\n",
       "    </tr>\n",
       "    <tr>\n",
       "      <th>2132</th>\n",
       "      <td>[INFO] Total time: 02:04 min</td>\n",
       "    </tr>\n",
       "    <tr>\n",
       "      <th>2133</th>\n",
       "      <td>[INFO] Finished at: 2015-08-17T13:32:11+00:00</td>\n",
       "    </tr>\n",
       "    <tr>\n",
       "      <th>2134</th>\n",
       "      <td>[INFO] Final Memory: 43M/442M</td>\n",
       "    </tr>\n",
       "    <tr>\n",
       "      <th>2135</th>\n",
       "      <td>[INFO] ------------------------------------------------------------------------</td>\n",
       "    </tr>\n",
       "    <tr>\n",
       "      <th>2136</th>\n",
       "      <td>travis_time:end:03b18d57:start=1439818205169948860,finish=1439818331864482248,duration=126694533388</td>\n",
       "    </tr>\n",
       "    <tr>\n",
       "      <th>2137</th>\n",
       "      <td>\u001b[0K</td>\n",
       "    </tr>\n",
       "    <tr>\n",
       "      <th>2138</th>\n",
       "      <td>\u001b[32;1mThe command \"./travis.sh\" exited with 0.\u001b[0m</td>\n",
       "    </tr>\n",
       "    <tr>\n",
       "      <th>2139</th>\n",
       "      <td>travis_fold:start:cache.2</td>\n",
       "    </tr>\n",
       "    <tr>\n",
       "      <th>2140</th>\n",
       "      <td>\u001b[0Kstore build cache</td>\n",
       "    </tr>\n",
       "    <tr>\n",
       "      <th>2141</th>\n",
       "      <td>travis_time:start:1ce3b95e</td>\n",
       "    </tr>\n",
       "    <tr>\n",
       "      <th>2142</th>\n",
       "      <td>\u001b[0Knothing changed, not updating cache</td>\n",
       "    </tr>\n",
       "    <tr>\n",
       "      <th>2143</th>\n",
       "      <td>travis_time:end:1ce3b95e:start=1439818331874615496,finish=1439818340058873971,duration=8184258475</td>\n",
       "    </tr>\n",
       "    <tr>\n",
       "      <th>2144</th>\n",
       "      <td>\u001b[0Ktravis_fold:end:cache.2</td>\n",
       "    </tr>\n",
       "    <tr>\n",
       "      <th>2145</th>\n",
       "      <td>\u001b[0K</td>\n",
       "    </tr>\n",
       "    <tr>\n",
       "      <th>2146</th>\n",
       "      <td>Done. Your build exited with 0.</td>\n",
       "    </tr>\n",
       "    <tr>\n",
       "      <th>2147</th>\n",
       "      <td></td>\n",
       "    </tr>\n",
       "  </tbody>\n",
       "</table>\n",
       "<p>8684 rows × 1 columns</p>\n",
       "</div>"
      ],
      "text/plain": [
       "                                                                                                                  data\n",
       "build_number                                                                                                          \n",
       "1000         0                            Using worker: worker-linux-docker-041074ed.prod.travis-ci.org:travis-linux-7\n",
       "             1                                                                                                        \n",
       "             2                                                                           travis_fold:start:system_info\n",
       "             3                                                                 \u001b[0K\u001b[33;1mBuild system information\u001b[0m\n",
       "             4                                                                                    Build language: java\n",
       "             5                                                     \u001b[34m\u001b[1mBuild image provisioning date and time\u001b[0m\n",
       "             6                                                                            Thu Feb  5 15:09:33 UTC 2015\n",
       "             7                                                                   \u001b[34m\u001b[1mOperating System Details\u001b[0m\n",
       "             8                                                                                 Distributor ID:\\tUbuntu\n",
       "             9                                                                        Description:\\tUbuntu 12.04.5 LTS\n",
       "             10                                                                                        Release:\\t12.04\n",
       "             11                                                                                     Codename:\\tprecise\n",
       "             12                                                                             \u001b[34m\u001b[1mLinux Version\u001b[0m\n",
       "             13                                                                                      3.13.0-29-generic\n",
       "             14                                                                         \u001b[34m\u001b[1mCookbooks Version\u001b[0m\n",
       "             15                                     a68419e https://github.com/travis-ci/travis-cookbooks/tree/a68419e\n",
       "             16                                                                               \u001b[34m\u001b[1mGCC version\u001b[0m\n",
       "             17                                                               gcc (Ubuntu/Linaro 4.6.3-1ubuntu5) 4.6.3\n",
       "             18                                                      Copyright (C) 2011 Free Software Foundation, Inc.\n",
       "             19                             This is free software; see the source for copying conditions.  There is NO\n",
       "             20                            warranty; not even for MERCHANTABILITY or FITNESS FOR A PARTICULAR PURPOSE.\n",
       "             21                                                                                                       \n",
       "             22                                                                              \u001b[34m\u001b[1mLLVM version\u001b[0m\n",
       "             23                                                              clang version 3.4 (tags/RELEASE_34/final)\n",
       "             24                                                                       Target: x86_64-unknown-linux-gnu\n",
       "             25                                                                                    Thread model: posix\n",
       "             26                                                               \u001b[34m\u001b[1mPre-installed Ruby versions\u001b[0m\n",
       "             27                                                                                        ruby-1.9.3-p551\n",
       "             28                                                            \u001b[34m\u001b[1mPre-installed Node.js versions\u001b[0m\n",
       "             29                                                                                               v0.10.36\n",
       "...                                                                                                                ...\n",
       "1003         2118                      [INFO] ------------------------------------------------------------------------\n",
       "             2119                                                                              [INFO] Reactor Summary:\n",
       "             2120                                                                                              [INFO] \n",
       "             2121                      [INFO] SonarQube Java ..................................... SUCCESS [  3.155 s]\n",
       "             2122                      [INFO] SonarQube Java :: Squid ............................ SUCCESS [01:23 min]\n",
       "             2123                      [INFO] SonarQube Java :: Checks ........................... SUCCESS [ 20.978 s]\n",
       "             2124                      [INFO] SonarQube Java :: Surefire ......................... SUCCESS [  2.376 s]\n",
       "             2125                      [INFO] java-jacoco-previous ............................... SUCCESS [  1.264 s]\n",
       "             2126                      [INFO] SonarQube Java :: JaCoCo ........................... SUCCESS [  2.517 s]\n",
       "             2127                      [INFO] SonarQube Java :: Plugin ........................... SUCCESS [  6.782 s]\n",
       "             2128                      [INFO] SonarQube Java :: JaCoCo Listeners ................. SUCCESS [  1.747 s]\n",
       "             2129                      [INFO] ------------------------------------------------------------------------\n",
       "             2130                                                                                 [INFO] BUILD SUCCESS\n",
       "             2131                      [INFO] ------------------------------------------------------------------------\n",
       "             2132                                                                         [INFO] Total time: 02:04 min\n",
       "             2133                                                        [INFO] Finished at: 2015-08-17T13:32:11+00:00\n",
       "             2134                                                                        [INFO] Final Memory: 43M/442M\n",
       "             2135                      [INFO] ------------------------------------------------------------------------\n",
       "             2136  travis_time:end:03b18d57:start=1439818205169948860,finish=1439818331864482248,duration=126694533388\n",
       "             2137                                                                                                 \u001b[0K\n",
       "             2138                                                  \u001b[32;1mThe command \"./travis.sh\" exited with 0.\u001b[0m\n",
       "             2139                                                                            travis_fold:start:cache.2\n",
       "             2140                                                                                \u001b[0Kstore build cache\n",
       "             2141                                                                           travis_time:start:1ce3b95e\n",
       "             2142                                                              \u001b[0Knothing changed, not updating cache\n",
       "             2143    travis_time:end:1ce3b95e:start=1439818331874615496,finish=1439818340058873971,duration=8184258475\n",
       "             2144                                                                          \u001b[0Ktravis_fold:end:cache.2\n",
       "             2145                                                                                                 \u001b[0K\n",
       "             2146                                                                      Done. Your build exited with 0.\n",
       "             2147                                                                                                     \n",
       "\n",
       "[8684 rows x 1 columns]"
      ]
     },
     "execution_count": 166,
     "metadata": {},
     "output_type": "execute_result"
    }
   ],
   "source": [
    "entries_per_row = log_data[0:4].content.str.split(\"\\n\",expand=True)\n",
    "log_rows = pd.DataFrame(entries_per_row.stack(), columns=[\"data\"])\n",
    "log_rows"
   ]
  },
  {
   "cell_type": "code",
   "execution_count": 159,
   "metadata": {},
   "outputs": [
    {
     "data": {
      "text/html": [
       "<div>\n",
       "<style>\n",
       "    .dataframe thead tr:only-child th {\n",
       "        text-align: right;\n",
       "    }\n",
       "\n",
       "    .dataframe thead th {\n",
       "        text-align: left;\n",
       "    }\n",
       "\n",
       "    .dataframe tbody tr th {\n",
       "        vertical-align: top;\n",
       "    }\n",
       "</style>\n",
       "<table border=\"1\" class=\"dataframe\">\n",
       "  <thead>\n",
       "    <tr style=\"text-align: right;\">\n",
       "      <th></th>\n",
       "      <th></th>\n",
       "      <th>0</th>\n",
       "    </tr>\n",
       "    <tr>\n",
       "      <th>build_number</th>\n",
       "      <th></th>\n",
       "      <th></th>\n",
       "    </tr>\n",
       "  </thead>\n",
       "  <tbody>\n",
       "    <tr>\n",
       "      <th>1000</th>\n",
       "      <th>2240</th>\n",
       "      <td>Done. Your build exited with 0.</td>\n",
       "    </tr>\n",
       "    <tr>\n",
       "      <th>1001</th>\n",
       "      <th>2142</th>\n",
       "      <td>Done. Your build exited with 0.</td>\n",
       "    </tr>\n",
       "    <tr>\n",
       "      <th>1002</th>\n",
       "      <th>2148</th>\n",
       "      <td>Done. Your build exited with 0.</td>\n",
       "    </tr>\n",
       "    <tr>\n",
       "      <th>1003</th>\n",
       "      <th>2146</th>\n",
       "      <td>Done. Your build exited with 0.</td>\n",
       "    </tr>\n",
       "    <tr>\n",
       "      <th>1004</th>\n",
       "      <th>2149</th>\n",
       "      <td>Done. Your build exited with 0.</td>\n",
       "    </tr>\n",
       "  </tbody>\n",
       "</table>\n",
       "</div>"
      ],
      "text/plain": [
       "                                                 0\n",
       "build_number                                      \n",
       "1000         2240  Done. Your build exited with 0.\n",
       "1001         2142  Done. Your build exited with 0.\n",
       "1002         2148  Done. Your build exited with 0.\n",
       "1003         2146  Done. Your build exited with 0.\n",
       "1004         2149  Done. Your build exited with 0."
      ]
     },
     "execution_count": 159,
     "metadata": {},
     "output_type": "execute_result"
    }
   ],
   "source": [
    "log_status = log_rows[log_rows[0].str.contains(\"Done.\")]\n",
    "log_status.head()"
   ]
  },
  {
   "cell_type": "code",
   "execution_count": null,
   "metadata": {},
   "outputs": [],
   "source": [
    "%matplotlib inline\n",
    "log_status[0].value_counts().plot(kind='pie')"
   ]
  },
  {
   "cell_type": "markdown",
   "metadata": {},
   "source": [
    "# Halde"
   ]
  },
  {
   "cell_type": "markdown",
   "metadata": {},
   "source": [
    "Browsing manually through the log, there are some interesting features. E. g. the start time of the build."
   ]
  },
  {
   "cell_type": "code",
   "execution_count": 102,
   "metadata": {},
   "outputs": [
    {
     "name": "stdout",
     "output_type": "stream",
     "text": [
      "m\n",
      "3.4.3\n",
      "\u001b[34m\u001b[1mElasticSearch version\u001b[0m\n",
      "1.4.0\n",
      "\u001b[34m\u001b[1mInstalled Sphinx versions\u001b[0m\n",
      "2.0.10\n",
      "2.1.9\n",
      "2.2.6\n",
      "\u001b[34m\u001b[1mDefault Sphinx version\u001b[0m\n",
      "2.2.6\n",
      "\u001b[34m\u001b[1mInstalled Firefox version\u001b[0m\n",
      "firefox 31.0esr\n",
      "\u001b[34m\u001b[1mPhantomJS version\u001b[0m\n",
      "1.9.8\n",
      "\u001b[34m\u001b[1mant -version\u001b[0m\n",
      "Apache Ant(TM) version 1.8.2 compiled on December 3 2011\n",
      "\u001b[34m\u001b[1mmvn -version\u001b[0m\n",
      "Apache Maven 3.2.5 (12a6b3acb947671f09b81f49094c53\n"
     ]
    }
   ],
   "source": [
    "print(log_data.iloc[0]['content'][1400:1800])"
   ]
  },
  {
   "cell_type": "markdown",
   "metadata": {},
   "source": [
    "So let's check for some errors and warnings. For this, we create a new DataFrame because it's another kind of information."
   ]
  },
  {
   "cell_type": "code",
   "execution_count": 66,
   "metadata": {},
   "outputs": [
    {
     "data": {
      "text/html": [
       "<div>\n",
       "<style>\n",
       "    .dataframe thead tr:only-child th {\n",
       "        text-align: right;\n",
       "    }\n",
       "\n",
       "    .dataframe thead th {\n",
       "        text-align: left;\n",
       "    }\n",
       "\n",
       "    .dataframe tbody tr th {\n",
       "        vertical-align: top;\n",
       "    }\n",
       "</style>\n",
       "<table border=\"1\" class=\"dataframe\">\n",
       "  <thead>\n",
       "    <tr style=\"text-align: right;\">\n",
       "      <th></th>\n",
       "      <th>finished</th>\n",
       "    </tr>\n",
       "  </thead>\n",
       "  <tbody>\n",
       "    <tr>\n",
       "      <th>Done. Your build exited with 0.</th>\n",
       "      <td>13</td>\n",
       "    </tr>\n",
       "  </tbody>\n",
       "</table>\n",
       "</div>"
      ],
      "text/plain": [
       "                                 finished\n",
       "Done. Your build exited with 0.        13"
      ]
     },
     "execution_count": 66,
     "metadata": {},
     "output_type": "execute_result"
    }
   ],
   "source": [
    "logs['finished'] = logs.content.str[-100:].str.extract(\"(.*)\\n*$\", expand=False)\n",
    "pd.DataFrame(logs['finished'].value_counts().head(10))"
   ]
  },
  {
   "cell_type": "code",
   "execution_count": 67,
   "metadata": {},
   "outputs": [
    {
     "data": {
      "text/plain": [
       "SUCCESS    13\n",
       "Name: finished_state, dtype: int64"
      ]
     },
     "execution_count": 67,
     "metadata": {},
     "output_type": "execute_result"
    }
   ],
   "source": [
    "mapping = {\n",
    "    \"Done. Your build exited with 0.\" : \"SUCCESS\",\n",
    "    \"Done. Build script exited with: 0\" : \"SUCCESS\",\n",
    "    \"Done. Build script exited with 0\" : \"SUCCUESS\",\n",
    "    \"Your build has been stopped.\" : \"STOPPED\",\n",
    "    \"The build has been terminated.\" : \"TERMINATED\",\n",
    "    \"The build has been terminated\" : \"TERMINATED\",\n",
    "    \"Done. Your build exited with 1.\" : \"ERROR\",\n",
    "    \"Done. Build script exited with: 1\" : \"ERROR\",\n",
    "    \"Your test run exceeded \" : \"ABORTED\"\n",
    "}\n",
    "logs['finished_state'] = logs['finished'].map(mapping)\n",
    "logs.loc[logs['finished_state'].isnull(), \"finished_state\"] = \"UNKNOWN\"\n",
    "logs['finished_state'].value_counts()"
   ]
  },
  {
   "cell_type": "code",
   "execution_count": 68,
   "metadata": {},
   "outputs": [
    {
     "data": {
      "text/plain": [
       "build_number\n",
       "6610    1472567319865893268\n",
       "6611    1472570558350928150\n",
       "6612    1472628804165373512\n",
       "6613    1472629132020359360\n",
       "6614    1472629125819446553\n",
       "Name: start_time, dtype: object"
      ]
     },
     "execution_count": 68,
     "metadata": {},
     "output_type": "execute_result"
    }
   ],
   "source": [
    "logs['start_time'] = logs['content'].str.extract(\n",
    "    r\"travis_time:end:.*:start=([0-9]*),\", expand=False)\n",
    "logs['start_time'].head()"
   ]
  },
  {
   "cell_type": "code",
   "execution_count": 69,
   "metadata": {},
   "outputs": [
    {
     "data": {
      "text/plain": [
       "build_number\n",
       "6610   2016-08-30 14:28:39.865893500\n",
       "6611   2016-08-30 15:22:38.350928250\n",
       "6612   2016-08-31 07:33:24.165373500\n",
       "6613   2016-08-31 07:38:52.020359500\n",
       "6614   2016-08-31 07:38:45.819446500\n",
       "Name: start_time, dtype: datetime64[ns]"
      ]
     },
     "execution_count": 69,
     "metadata": {},
     "output_type": "execute_result"
    }
   ],
   "source": [
    "logs['start_time'] = pd.to_datetime(\n",
    "    pd.to_numeric(\n",
    "        logs['start_time'])/1000, unit='us')\n",
    "logs['start_time'].head()"
   ]
  },
  {
   "cell_type": "code",
   "execution_count": 70,
   "metadata": {},
   "outputs": [
    {
     "data": {
      "text/plain": [
       "build_number\n",
       "6610   2016-08-30 14:36:03.042701500\n",
       "6611   2016-08-30 15:26:39.847178500\n",
       "6612   2016-08-31 07:43:35.264666000\n",
       "6613   2016-08-31 07:44:51.646482250\n",
       "6614   2016-08-31 07:45:01.246372750\n",
       "Name: end_time, dtype: datetime64[ns]"
      ]
     },
     "execution_count": 70,
     "metadata": {},
     "output_type": "execute_result"
    }
   ],
   "source": [
    "logs['end_time'] = logs['content'].str[-500:].str.extract(\n",
    "    r\"travis_time:end:.*:start=[0-9]*,finish=([0-9]*)\",expand=True)\n",
    "logs['end_time'] = pd.to_datetime(pd.to_numeric(logs['end_time'])/1000, unit='us')\n",
    "logs['end_time'].head()"
   ]
  },
  {
   "cell_type": "code",
   "execution_count": 71,
   "metadata": {
    "collapsed": true
   },
   "outputs": [],
   "source": [
    "logs['duration'] = logs['end_time'] - logs['start_time']"
   ]
  },
  {
   "cell_type": "code",
   "execution_count": 72,
   "metadata": {},
   "outputs": [
    {
     "data": {
      "text/plain": [
       "Timedelta('0 days 00:08:02.750802')"
      ]
     },
     "execution_count": 72,
     "metadata": {},
     "output_type": "execute_result"
    }
   ],
   "source": [
    "successful_builds = logs[logs['finished_state'] == \"SUCCESS\"].dropna()\n",
    "successful_builds['duration'].mean()"
   ]
  },
  {
   "cell_type": "code",
   "execution_count": 73,
   "metadata": {},
   "outputs": [
    {
     "data": {
      "text/plain": [
       "13"
      ]
     },
     "execution_count": 73,
     "metadata": {},
     "output_type": "execute_result"
    }
   ],
   "source": [
    "len(logs)"
   ]
  },
  {
   "cell_type": "code",
   "execution_count": 74,
   "metadata": {},
   "outputs": [
    {
     "data": {
      "text/plain": [
       "208"
      ]
     },
     "execution_count": 74,
     "metadata": {},
     "output_type": "execute_result"
    }
   ],
   "source": [
    "t = successful_builds['duration']\n",
    "t.memory_usage()"
   ]
  },
  {
   "cell_type": "code",
   "execution_count": 75,
   "metadata": {},
   "outputs": [
    {
     "data": {
      "text/plain": [
       "build_number\n",
       "6610     7.0\n",
       "6611     4.0\n",
       "6612    10.0\n",
       "6613     5.0\n",
       "6614     6.0\n",
       "Name: duration_in_min, dtype: float64"
      ]
     },
     "execution_count": 75,
     "metadata": {},
     "output_type": "execute_result"
    }
   ],
   "source": [
    "successful_builds['duration_in_min'] = successful_builds['duration'].astype('timedelta64[m]')\n",
    "successful_builds['duration_in_min'].head()"
   ]
  },
  {
   "cell_type": "code",
   "execution_count": 76,
   "metadata": {},
   "outputs": [
    {
     "data": {
      "text/html": [
       "<div>\n",
       "<style>\n",
       "    .dataframe thead tr:only-child th {\n",
       "        text-align: right;\n",
       "    }\n",
       "\n",
       "    .dataframe thead th {\n",
       "        text-align: left;\n",
       "    }\n",
       "\n",
       "    .dataframe tbody tr th {\n",
       "        vertical-align: top;\n",
       "    }\n",
       "</style>\n",
       "<table border=\"1\" class=\"dataframe\">\n",
       "  <thead>\n",
       "    <tr style=\"text-align: right;\">\n",
       "      <th></th>\n",
       "      <th>duration_in_min</th>\n",
       "    </tr>\n",
       "    <tr>\n",
       "      <th>start_time</th>\n",
       "      <th></th>\n",
       "    </tr>\n",
       "  </thead>\n",
       "  <tbody>\n",
       "    <tr>\n",
       "      <th>2016-09-04</th>\n",
       "      <td>7.538462</td>\n",
       "    </tr>\n",
       "  </tbody>\n",
       "</table>\n",
       "</div>"
      ],
      "text/plain": [
       "            duration_in_min\n",
       "start_time                 \n",
       "2016-09-04         7.538462"
      ]
     },
     "execution_count": 76,
     "metadata": {},
     "output_type": "execute_result"
    }
   ],
   "source": [
    "successful_builds_over_time = successful_builds.reset_index().set_index(pd.DatetimeIndex(successful_builds['start_time'])).resample('1W').mean()\n",
    "successful_builds_over_time.head()"
   ]
  },
  {
   "cell_type": "markdown",
   "metadata": {},
   "source": [
    "# Visualisierung"
   ]
  },
  {
   "cell_type": "code",
   "execution_count": 77,
   "metadata": {},
   "outputs": [
    {
     "name": "stderr",
     "output_type": "stream",
     "text": [
      "C:\\dev\\apps\\Anaconda3\\lib\\site-packages\\matplotlib\\axes\\_base.py:2917: UserWarning: Attempting to set identical left==right results\n",
      "in singular transformations; automatically expanding.\n",
      "left=2436.0, right=2436.0\n",
      "  'left=%s, right=%s') % (left, right))\n"
     ]
    },
    {
     "data": {
      "text/plain": [
       "<matplotlib.axes._subplots.AxesSubplot at 0x1aee379bcf8>"
      ]
     },
     "execution_count": 77,
     "metadata": {},
     "output_type": "execute_result"
    },
    {
     "data": {
      "image/png": "[encoded data removed]",
      "text/plain": [
       "<matplotlib.figure.Figure at 0x1aee386e668>"
      ]
     },
     "metadata": {},
     "output_type": "display_data"
    }
   ],
   "source": [
    "%matplotlib inline\n",
    "import matplotlib\n",
    "matplotlib.style.use('ggplot')\n",
    "successful_builds_over_time['duration_in_min'].plot(\n",
    "    title=\"Build time in minutes\")"
   ]
  }
 ],
 "metadata": {
  "anaconda-cloud": {},
  "kernelspec": {
   "display_name": "Python 3",
   "language": "python",
   "name": "python3"
  },
  "language_info": {
   "codemirror_mode": {
    "name": "ipython",
    "version": 3
   },
   "file_extension": ".py",
   "mimetype": "text/x-python",
   "name": "python",
   "nbconvert_exporter": "python",
   "pygments_lexer": "ipython3",
   "version": "3.6.1"
  }
 },
 "nbformat": 4,
 "nbformat_minor": 1
}
