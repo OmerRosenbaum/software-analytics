{
 "cells": [
  {
   "cell_type": "markdown",
   "metadata": {},
   "source": [
    "# Travis CI Build Breaker Analysis"
   ]
  },
  {
   "cell_type": "markdown",
   "metadata": {},
   "source": [
    "We just need the <tt>log</tt> files of the first level:"
   ]
  },
  {
   "cell_type": "code",
   "execution_count": 1,
   "metadata": {},
   "outputs": [
    {
     "data": {
      "text/plain": [
       "['C:\\\\Data\\\\SonarSource@sonar-java\\\\1000_75925122_19fed6256b9dfdb91e2c0149e898aacbcf9357d7_75925123.log',\n",
       " 'C:\\\\Data\\\\SonarSource@sonar-java\\\\1000_75925122_19fed6256b9dfdb91e2c0149e898aacbcf9357d7_75925124.log',\n",
       " 'C:\\\\Data\\\\SonarSource@sonar-java\\\\1000_75925122_19fed6256b9dfdb91e2c0149e898aacbcf9357d7_75925125.log',\n",
       " 'C:\\\\Data\\\\SonarSource@sonar-java\\\\1000_75925122_19fed6256b9dfdb91e2c0149e898aacbcf9357d7_75925126.log',\n",
       " 'C:\\\\Data\\\\SonarSource@sonar-java\\\\1001_75929201_759f1ead70a1a8a8e889a5afc7f73787bb251fc3_75929202.log']"
      ]
     },
     "execution_count": 1,
     "metadata": {},
     "output_type": "execute_result"
    }
   ],
   "source": [
    "import glob\n",
    "import os\n",
    "ROOT_DIR = r\"C:\\Data\\SonarSource@sonar-java\"\n",
    "GLOB_PATTERN = \"*.log\"\n",
    "log_file_paths = glob.glob(os.path.join(ROOT_DIR, GLOB_PATTERN))\n",
    "log_file_paths[:5]"
   ]
  },
  {
   "cell_type": "code",
   "execution_count": 2,
   "metadata": {},
   "outputs": [
    {
     "data": {
      "text/html": [
       "<div>\n",
       "<table border=\"1\" class=\"dataframe\">\n",
       "  <thead>\n",
       "    <tr style=\"text-align: right;\">\n",
       "      <th></th>\n",
       "      <th>path</th>\n",
       "    </tr>\n",
       "  </thead>\n",
       "  <tbody>\n",
       "    <tr>\n",
       "      <th>0</th>\n",
       "      <td>C:\\Data\\SonarSource@sonar-java\\1000_75925122_19fed6256b9dfdb91e2c0149e898aacbcf9357d7_75925123.log</td>\n",
       "    </tr>\n",
       "    <tr>\n",
       "      <th>1</th>\n",
       "      <td>C:\\Data\\SonarSource@sonar-java\\1000_75925122_19fed6256b9dfdb91e2c0149e898aacbcf9357d7_75925124.log</td>\n",
       "    </tr>\n",
       "    <tr>\n",
       "      <th>2</th>\n",
       "      <td>C:\\Data\\SonarSource@sonar-java\\1000_75925122_19fed6256b9dfdb91e2c0149e898aacbcf9357d7_75925125.log</td>\n",
       "    </tr>\n",
       "    <tr>\n",
       "      <th>3</th>\n",
       "      <td>C:\\Data\\SonarSource@sonar-java\\1000_75925122_19fed6256b9dfdb91e2c0149e898aacbcf9357d7_75925126.log</td>\n",
       "    </tr>\n",
       "    <tr>\n",
       "      <th>4</th>\n",
       "      <td>C:\\Data\\SonarSource@sonar-java\\1001_75929201_759f1ead70a1a8a8e889a5afc7f73787bb251fc3_75929202.log</td>\n",
       "    </tr>\n",
       "  </tbody>\n",
       "</table>\n",
       "</div>"
      ],
      "text/plain": [
       "                                                                                                 path\n",
       "0  C:\\Data\\SonarSource@sonar-java\\1000_75925122_19fed6256b9dfdb91e2c0149e898aacbcf9357d7_75925123.log\n",
       "1  C:\\Data\\SonarSource@sonar-java\\1000_75925122_19fed6256b9dfdb91e2c0149e898aacbcf9357d7_75925124.log\n",
       "2  C:\\Data\\SonarSource@sonar-java\\1000_75925122_19fed6256b9dfdb91e2c0149e898aacbcf9357d7_75925125.log\n",
       "3  C:\\Data\\SonarSource@sonar-java\\1000_75925122_19fed6256b9dfdb91e2c0149e898aacbcf9357d7_75925126.log\n",
       "4  C:\\Data\\SonarSource@sonar-java\\1001_75929201_759f1ead70a1a8a8e889a5afc7f73787bb251fc3_75929202.log"
      ]
     },
     "execution_count": 2,
     "metadata": {},
     "output_type": "execute_result"
    }
   ],
   "source": [
    "import pandas as pd\n",
    "# just for nicer output\n",
    "pd.set_option('max_colwidth', 150)\n",
    "logs = pd.DataFrame(log_file_paths, columns=['path'])\n",
    "logs.head()"
   ]
  },
  {
   "cell_type": "markdown",
   "metadata": {},
   "source": [
    "We clean up these ugly, different, OS specific file separators by using the common one. (Note: We could have also used <tt>os.sep</tt>, but if you extract e. g. by a regex, it's getting unreadable.)"
   ]
  },
  {
   "cell_type": "code",
   "execution_count": 3,
   "metadata": {},
   "outputs": [
    {
     "data": {
      "text/html": [
       "<div>\n",
       "<table border=\"1\" class=\"dataframe\">\n",
       "  <thead>\n",
       "    <tr style=\"text-align: right;\">\n",
       "      <th></th>\n",
       "      <th>path</th>\n",
       "    </tr>\n",
       "  </thead>\n",
       "  <tbody>\n",
       "    <tr>\n",
       "      <th>0</th>\n",
       "      <td>C:/Data/SonarSource@sonar-java/1000_75925122_19fed6256b9dfdb91e2c0149e898aacbcf9357d7_75925123.log</td>\n",
       "    </tr>\n",
       "    <tr>\n",
       "      <th>1</th>\n",
       "      <td>C:/Data/SonarSource@sonar-java/1000_75925122_19fed6256b9dfdb91e2c0149e898aacbcf9357d7_75925124.log</td>\n",
       "    </tr>\n",
       "    <tr>\n",
       "      <th>2</th>\n",
       "      <td>C:/Data/SonarSource@sonar-java/1000_75925122_19fed6256b9dfdb91e2c0149e898aacbcf9357d7_75925125.log</td>\n",
       "    </tr>\n",
       "    <tr>\n",
       "      <th>3</th>\n",
       "      <td>C:/Data/SonarSource@sonar-java/1000_75925122_19fed6256b9dfdb91e2c0149e898aacbcf9357d7_75925126.log</td>\n",
       "    </tr>\n",
       "    <tr>\n",
       "      <th>4</th>\n",
       "      <td>C:/Data/SonarSource@sonar-java/1001_75929201_759f1ead70a1a8a8e889a5afc7f73787bb251fc3_75929202.log</td>\n",
       "    </tr>\n",
       "  </tbody>\n",
       "</table>\n",
       "</div>"
      ],
      "text/plain": [
       "                                                                                                 path\n",
       "0  C:/Data/SonarSource@sonar-java/1000_75925122_19fed6256b9dfdb91e2c0149e898aacbcf9357d7_75925123.log\n",
       "1  C:/Data/SonarSource@sonar-java/1000_75925122_19fed6256b9dfdb91e2c0149e898aacbcf9357d7_75925124.log\n",
       "2  C:/Data/SonarSource@sonar-java/1000_75925122_19fed6256b9dfdb91e2c0149e898aacbcf9357d7_75925125.log\n",
       "3  C:/Data/SonarSource@sonar-java/1000_75925122_19fed6256b9dfdb91e2c0149e898aacbcf9357d7_75925126.log\n",
       "4  C:/Data/SonarSource@sonar-java/1001_75929201_759f1ead70a1a8a8e889a5afc7f73787bb251fc3_75929202.log"
      ]
     },
     "execution_count": 3,
     "metadata": {},
     "output_type": "execute_result"
    }
   ],
   "source": [
    "path = logs['path']\n",
    "path = path.str.replace(\"\\\\\", \"/\")\n",
    "logs['path'] = path\n",
    "logs.head()"
   ]
  },
  {
   "cell_type": "code",
   "execution_count": 4,
   "metadata": {},
   "outputs": [
    {
     "name": "stdout",
     "output_type": "stream",
     "text": [
      "<class 'pandas.core.frame.DataFrame'>\n",
      "RangeIndex: 47084 entries, 0 to 47083\n",
      "Data columns (total 1 columns):\n",
      "path    47084 non-null object\n",
      "dtypes: object(1)\n",
      "memory usage: 367.9+ KB\n"
     ]
    }
   ],
   "source": [
    "logs.info()"
   ]
  },
  {
   "cell_type": "markdown",
   "metadata": {},
   "source": [
    "From the path, we can extract the name of t he Jenkins job as well as the build number of the executed job."
   ]
  },
  {
   "cell_type": "code",
   "execution_count": 5,
   "metadata": {},
   "outputs": [
    {
     "data": {
      "text/html": [
       "<div>\n",
       "<table border=\"1\" class=\"dataframe\">\n",
       "  <thead>\n",
       "    <tr style=\"text-align: right;\">\n",
       "      <th></th>\n",
       "      <th>path</th>\n",
       "      <th>jobname</th>\n",
       "      <th>buildnumber</th>\n",
       "      <th>build_id</th>\n",
       "      <th>commit_sha</th>\n",
       "    </tr>\n",
       "  </thead>\n",
       "  <tbody>\n",
       "    <tr>\n",
       "      <th>0</th>\n",
       "      <td>C:/Data/SonarSource@sonar-java/1000_75925122_19fed6256b9dfdb91e2c0149e898aacbcf9357d7_75925123.log</td>\n",
       "      <td>SonarSource@sonar-java</td>\n",
       "      <td>1000</td>\n",
       "      <td>75925122</td>\n",
       "      <td>19fed6256b9dfdb91e2c0149e898aacbcf9357d7</td>\n",
       "    </tr>\n",
       "    <tr>\n",
       "      <th>1</th>\n",
       "      <td>C:/Data/SonarSource@sonar-java/1000_75925122_19fed6256b9dfdb91e2c0149e898aacbcf9357d7_75925124.log</td>\n",
       "      <td>SonarSource@sonar-java</td>\n",
       "      <td>1000</td>\n",
       "      <td>75925122</td>\n",
       "      <td>19fed6256b9dfdb91e2c0149e898aacbcf9357d7</td>\n",
       "    </tr>\n",
       "    <tr>\n",
       "      <th>2</th>\n",
       "      <td>C:/Data/SonarSource@sonar-java/1000_75925122_19fed6256b9dfdb91e2c0149e898aacbcf9357d7_75925125.log</td>\n",
       "      <td>SonarSource@sonar-java</td>\n",
       "      <td>1000</td>\n",
       "      <td>75925122</td>\n",
       "      <td>19fed6256b9dfdb91e2c0149e898aacbcf9357d7</td>\n",
       "    </tr>\n",
       "    <tr>\n",
       "      <th>3</th>\n",
       "      <td>C:/Data/SonarSource@sonar-java/1000_75925122_19fed6256b9dfdb91e2c0149e898aacbcf9357d7_75925126.log</td>\n",
       "      <td>SonarSource@sonar-java</td>\n",
       "      <td>1000</td>\n",
       "      <td>75925122</td>\n",
       "      <td>19fed6256b9dfdb91e2c0149e898aacbcf9357d7</td>\n",
       "    </tr>\n",
       "    <tr>\n",
       "      <th>4</th>\n",
       "      <td>C:/Data/SonarSource@sonar-java/1001_75929201_759f1ead70a1a8a8e889a5afc7f73787bb251fc3_75929202.log</td>\n",
       "      <td>SonarSource@sonar-java</td>\n",
       "      <td>1001</td>\n",
       "      <td>75929201</td>\n",
       "      <td>759f1ead70a1a8a8e889a5afc7f73787bb251fc3</td>\n",
       "    </tr>\n",
       "  </tbody>\n",
       "</table>\n",
       "</div>"
      ],
      "text/plain": [
       "                                                                                                 path  \\\n",
       "0  C:/Data/SonarSource@sonar-java/1000_75925122_19fed6256b9dfdb91e2c0149e898aacbcf9357d7_75925123.log   \n",
       "1  C:/Data/SonarSource@sonar-java/1000_75925122_19fed6256b9dfdb91e2c0149e898aacbcf9357d7_75925124.log   \n",
       "2  C:/Data/SonarSource@sonar-java/1000_75925122_19fed6256b9dfdb91e2c0149e898aacbcf9357d7_75925125.log   \n",
       "3  C:/Data/SonarSource@sonar-java/1000_75925122_19fed6256b9dfdb91e2c0149e898aacbcf9357d7_75925126.log   \n",
       "4  C:/Data/SonarSource@sonar-java/1001_75929201_759f1ead70a1a8a8e889a5afc7f73787bb251fc3_75929202.log   \n",
       "\n",
       "                  jobname buildnumber  build_id  \\\n",
       "0  SonarSource@sonar-java        1000  75925122   \n",
       "1  SonarSource@sonar-java        1000  75925122   \n",
       "2  SonarSource@sonar-java        1000  75925122   \n",
       "3  SonarSource@sonar-java        1000  75925122   \n",
       "4  SonarSource@sonar-java        1001  75929201   \n",
       "\n",
       "                                 commit_sha  \n",
       "0  19fed6256b9dfdb91e2c0149e898aacbcf9357d7  \n",
       "1  19fed6256b9dfdb91e2c0149e898aacbcf9357d7  \n",
       "2  19fed6256b9dfdb91e2c0149e898aacbcf9357d7  \n",
       "3  19fed6256b9dfdb91e2c0149e898aacbcf9357d7  \n",
       "4  759f1ead70a1a8a8e889a5afc7f73787bb251fc3  "
      ]
     },
     "execution_count": 5,
     "metadata": {},
     "output_type": "execute_result"
    }
   ],
   "source": [
    "logs = logs.join(logs['path'].str.extract(\n",
    "        r\"^.*/(?P<jobname>.*)/(?P<buildnumber>.*?)_(?P<build_id>.*?)_(?P<commit_sha>.*?)_.*\\.log$\", expand=True))\n",
    "logs.head()"
   ]
  },
  {
   "cell_type": "code",
   "execution_count": 6,
   "metadata": {},
   "outputs": [
    {
     "name": "stdout",
     "output_type": "stream",
     "text": [
      "<class 'pandas.core.frame.DataFrame'>\n",
      "RangeIndex: 47084 entries, 0 to 47083\n",
      "Data columns (total 5 columns):\n",
      "path           47084 non-null object\n",
      "jobname        47084 non-null object\n",
      "buildnumber    47084 non-null object\n",
      "build_id       47084 non-null object\n",
      "commit_sha     47084 non-null object\n",
      "dtypes: object(5)\n",
      "memory usage: 1.8+ MB\n"
     ]
    }
   ],
   "source": [
    "logs.info()"
   ]
  },
  {
   "cell_type": "code",
   "execution_count": 7,
   "metadata": {},
   "outputs": [
    {
     "name": "stdout",
     "output_type": "stream",
     "text": [
      "<class 'pandas.core.frame.DataFrame'>\n",
      "RangeIndex: 47084 entries, 0 to 47083\n",
      "Data columns (total 5 columns):\n",
      "path           47084 non-null object\n",
      "jobname        47084 non-null object\n",
      "buildnumber    47084 non-null int64\n",
      "build_id       47084 non-null object\n",
      "commit_sha     47084 non-null object\n",
      "dtypes: int64(1), object(4)\n",
      "memory usage: 1.8+ MB\n"
     ]
    }
   ],
   "source": [
    "logs['buildnumber'] = logs['buildnumber'].apply(pd.to_numeric)\n",
    "logs.info()"
   ]
  },
  {
   "cell_type": "code",
   "execution_count": 8,
   "metadata": {},
   "outputs": [
    {
     "data": {
      "text/html": [
       "<div>\n",
       "<table border=\"1\" class=\"dataframe\">\n",
       "  <thead>\n",
       "    <tr style=\"text-align: right;\">\n",
       "      <th></th>\n",
       "      <th>path</th>\n",
       "      <th>jobname</th>\n",
       "      <th>buildnumber</th>\n",
       "      <th>build_id</th>\n",
       "      <th>commit_sha</th>\n",
       "    </tr>\n",
       "  </thead>\n",
       "  <tbody>\n",
       "    <tr>\n",
       "      <th>0</th>\n",
       "      <td>C:/Data/SonarSource@sonar-java/1000_75925122_19fed6256b9dfdb91e2c0149e898aacbcf9357d7_75925123.log</td>\n",
       "      <td>SonarSource@sonar-java</td>\n",
       "      <td>1000</td>\n",
       "      <td>75925122</td>\n",
       "      <td>19fed6256b9dfdb91e2c0149e898aacbcf9357d7</td>\n",
       "    </tr>\n",
       "    <tr>\n",
       "      <th>4</th>\n",
       "      <td>C:/Data/SonarSource@sonar-java/1001_75929201_759f1ead70a1a8a8e889a5afc7f73787bb251fc3_75929202.log</td>\n",
       "      <td>SonarSource@sonar-java</td>\n",
       "      <td>1001</td>\n",
       "      <td>75929201</td>\n",
       "      <td>759f1ead70a1a8a8e889a5afc7f73787bb251fc3</td>\n",
       "    </tr>\n",
       "    <tr>\n",
       "      <th>8</th>\n",
       "      <td>C:/Data/SonarSource@sonar-java/1002_75932199_c8c445f3fc062057c8c8b85fa29cae2e3197589d_75932200.log</td>\n",
       "      <td>SonarSource@sonar-java</td>\n",
       "      <td>1002</td>\n",
       "      <td>75932199</td>\n",
       "      <td>c8c445f3fc062057c8c8b85fa29cae2e3197589d</td>\n",
       "    </tr>\n",
       "    <tr>\n",
       "      <th>12</th>\n",
       "      <td>C:/Data/SonarSource@sonar-java/1003_75934919_d92aca4576d30ff97fcb7ed2302f5bd0f56d6438_75934920.log</td>\n",
       "      <td>SonarSource@sonar-java</td>\n",
       "      <td>1003</td>\n",
       "      <td>75934919</td>\n",
       "      <td>d92aca4576d30ff97fcb7ed2302f5bd0f56d6438</td>\n",
       "    </tr>\n",
       "    <tr>\n",
       "      <th>16</th>\n",
       "      <td>C:/Data/SonarSource@sonar-java/1004_75940558_b4a51d318eb3286cc6c8f41ba54fb221573aca31_75940561.log</td>\n",
       "      <td>SonarSource@sonar-java</td>\n",
       "      <td>1004</td>\n",
       "      <td>75940558</td>\n",
       "      <td>b4a51d318eb3286cc6c8f41ba54fb221573aca31</td>\n",
       "    </tr>\n",
       "  </tbody>\n",
       "</table>\n",
       "</div>"
      ],
      "text/plain": [
       "                                                                                                  path  \\\n",
       "0   C:/Data/SonarSource@sonar-java/1000_75925122_19fed6256b9dfdb91e2c0149e898aacbcf9357d7_75925123.log   \n",
       "4   C:/Data/SonarSource@sonar-java/1001_75929201_759f1ead70a1a8a8e889a5afc7f73787bb251fc3_75929202.log   \n",
       "8   C:/Data/SonarSource@sonar-java/1002_75932199_c8c445f3fc062057c8c8b85fa29cae2e3197589d_75932200.log   \n",
       "12  C:/Data/SonarSource@sonar-java/1003_75934919_d92aca4576d30ff97fcb7ed2302f5bd0f56d6438_75934920.log   \n",
       "16  C:/Data/SonarSource@sonar-java/1004_75940558_b4a51d318eb3286cc6c8f41ba54fb221573aca31_75940561.log   \n",
       "\n",
       "                   jobname  buildnumber  build_id  \\\n",
       "0   SonarSource@sonar-java         1000  75925122   \n",
       "4   SonarSource@sonar-java         1001  75929201   \n",
       "8   SonarSource@sonar-java         1002  75932199   \n",
       "12  SonarSource@sonar-java         1003  75934919   \n",
       "16  SonarSource@sonar-java         1004  75940558   \n",
       "\n",
       "                                  commit_sha  \n",
       "0   19fed6256b9dfdb91e2c0149e898aacbcf9357d7  \n",
       "4   759f1ead70a1a8a8e889a5afc7f73787bb251fc3  \n",
       "8   c8c445f3fc062057c8c8b85fa29cae2e3197589d  \n",
       "12  d92aca4576d30ff97fcb7ed2302f5bd0f56d6438  \n",
       "16  b4a51d318eb3286cc6c8f41ba54fb221573aca31  "
      ]
     },
     "execution_count": 8,
     "metadata": {},
     "output_type": "execute_result"
    }
   ],
   "source": [
    "logs = logs.drop_duplicates(subset=['buildnumber'], keep='first')\n",
    "logs.head()"
   ]
  },
  {
   "cell_type": "code",
   "execution_count": 9,
   "metadata": {},
   "outputs": [
    {
     "data": {
      "text/html": [
       "<div>\n",
       "<table border=\"1\" class=\"dataframe\">\n",
       "  <thead>\n",
       "    <tr style=\"text-align: right;\">\n",
       "      <th></th>\n",
       "      <th>path</th>\n",
       "      <th>jobname</th>\n",
       "      <th>build_id</th>\n",
       "      <th>commit_sha</th>\n",
       "    </tr>\n",
       "    <tr>\n",
       "      <th>buildnumber</th>\n",
       "      <th></th>\n",
       "      <th></th>\n",
       "      <th></th>\n",
       "      <th></th>\n",
       "    </tr>\n",
       "  </thead>\n",
       "  <tbody>\n",
       "    <tr>\n",
       "      <th>1000</th>\n",
       "      <td>C:/Data/SonarSource@sonar-java/1000_75925122_19fed6256b9dfdb91e2c0149e898aacbcf9357d7_75925123.log</td>\n",
       "      <td>SonarSource@sonar-java</td>\n",
       "      <td>75925122</td>\n",
       "      <td>19fed6256b9dfdb91e2c0149e898aacbcf9357d7</td>\n",
       "    </tr>\n",
       "    <tr>\n",
       "      <th>1001</th>\n",
       "      <td>C:/Data/SonarSource@sonar-java/1001_75929201_759f1ead70a1a8a8e889a5afc7f73787bb251fc3_75929202.log</td>\n",
       "      <td>SonarSource@sonar-java</td>\n",
       "      <td>75929201</td>\n",
       "      <td>759f1ead70a1a8a8e889a5afc7f73787bb251fc3</td>\n",
       "    </tr>\n",
       "    <tr>\n",
       "      <th>1002</th>\n",
       "      <td>C:/Data/SonarSource@sonar-java/1002_75932199_c8c445f3fc062057c8c8b85fa29cae2e3197589d_75932200.log</td>\n",
       "      <td>SonarSource@sonar-java</td>\n",
       "      <td>75932199</td>\n",
       "      <td>c8c445f3fc062057c8c8b85fa29cae2e3197589d</td>\n",
       "    </tr>\n",
       "    <tr>\n",
       "      <th>1003</th>\n",
       "      <td>C:/Data/SonarSource@sonar-java/1003_75934919_d92aca4576d30ff97fcb7ed2302f5bd0f56d6438_75934920.log</td>\n",
       "      <td>SonarSource@sonar-java</td>\n",
       "      <td>75934919</td>\n",
       "      <td>d92aca4576d30ff97fcb7ed2302f5bd0f56d6438</td>\n",
       "    </tr>\n",
       "    <tr>\n",
       "      <th>1004</th>\n",
       "      <td>C:/Data/SonarSource@sonar-java/1004_75940558_b4a51d318eb3286cc6c8f41ba54fb221573aca31_75940561.log</td>\n",
       "      <td>SonarSource@sonar-java</td>\n",
       "      <td>75940558</td>\n",
       "      <td>b4a51d318eb3286cc6c8f41ba54fb221573aca31</td>\n",
       "    </tr>\n",
       "  </tbody>\n",
       "</table>\n",
       "</div>"
      ],
      "text/plain": [
       "                                                                                                           path  \\\n",
       "buildnumber                                                                                                       \n",
       "1000         C:/Data/SonarSource@sonar-java/1000_75925122_19fed6256b9dfdb91e2c0149e898aacbcf9357d7_75925123.log   \n",
       "1001         C:/Data/SonarSource@sonar-java/1001_75929201_759f1ead70a1a8a8e889a5afc7f73787bb251fc3_75929202.log   \n",
       "1002         C:/Data/SonarSource@sonar-java/1002_75932199_c8c445f3fc062057c8c8b85fa29cae2e3197589d_75932200.log   \n",
       "1003         C:/Data/SonarSource@sonar-java/1003_75934919_d92aca4576d30ff97fcb7ed2302f5bd0f56d6438_75934920.log   \n",
       "1004         C:/Data/SonarSource@sonar-java/1004_75940558_b4a51d318eb3286cc6c8f41ba54fb221573aca31_75940561.log   \n",
       "\n",
       "                            jobname  build_id  \\\n",
       "buildnumber                                     \n",
       "1000         SonarSource@sonar-java  75925122   \n",
       "1001         SonarSource@sonar-java  75929201   \n",
       "1002         SonarSource@sonar-java  75932199   \n",
       "1003         SonarSource@sonar-java  75934919   \n",
       "1004         SonarSource@sonar-java  75940558   \n",
       "\n",
       "                                           commit_sha  \n",
       "buildnumber                                            \n",
       "1000         19fed6256b9dfdb91e2c0149e898aacbcf9357d7  \n",
       "1001         759f1ead70a1a8a8e889a5afc7f73787bb251fc3  \n",
       "1002         c8c445f3fc062057c8c8b85fa29cae2e3197589d  \n",
       "1003         d92aca4576d30ff97fcb7ed2302f5bd0f56d6438  \n",
       "1004         b4a51d318eb3286cc6c8f41ba54fb221573aca31  "
      ]
     },
     "execution_count": 9,
     "metadata": {},
     "output_type": "execute_result"
    }
   ],
   "source": [
    "logs = logs.set_index(['buildnumber'], drop=True)\n",
    "logs.head()"
   ]
  },
  {
   "cell_type": "markdown",
   "metadata": {},
   "source": [
    "Dateien aus Ordner in Liste"
   ]
  },
  {
   "cell_type": "code",
   "execution_count": 10,
   "metadata": {
    "collapsed": true
   },
   "outputs": [],
   "source": [
    "def load_all_content(file_path):\n",
    "    with open(file_path, mode='r', encoding=\"utf-8\") as f:\n",
    "        return f.read()"
   ]
  },
  {
   "cell_type": "markdown",
   "metadata": {},
   "source": [
    "This could take some time to execute."
   ]
  },
  {
   "cell_type": "code",
   "execution_count": 11,
   "metadata": {
    "scrolled": true
   },
   "outputs": [
    {
     "name": "stdout",
     "output_type": "stream",
     "text": [
      "Wall time: 12.3 s\n"
     ]
    }
   ],
   "source": [
    "%%time\n",
    "logs['content'] = logs['path'].apply(load_all_content)\n",
    "logs.head()"
   ]
  },
  {
   "cell_type": "code",
   "execution_count": 12,
   "metadata": {},
   "outputs": [
    {
     "data": {
      "text/plain": [
       "1328533776"
      ]
     },
     "execution_count": 12,
     "metadata": {},
     "output_type": "execute_result"
    }
   ],
   "source": [
    "logs['content'].apply(len).sum()"
   ]
  },
  {
   "cell_type": "code",
   "execution_count": 13,
   "metadata": {},
   "outputs": [
    {
     "data": {
      "text/html": [
       "<div>\n",
       "<table border=\"1\" class=\"dataframe\">\n",
       "  <thead>\n",
       "    <tr style=\"text-align: right;\">\n",
       "      <th></th>\n",
       "      <th>finished</th>\n",
       "    </tr>\n",
       "  </thead>\n",
       "  <tbody>\n",
       "    <tr>\n",
       "      <th>Done. Your build exited with 0.</th>\n",
       "      <td>5543</td>\n",
       "    </tr>\n",
       "    <tr>\n",
       "      <th>Your build has been stopped.</th>\n",
       "      <td>572</td>\n",
       "    </tr>\n",
       "    <tr>\n",
       "      <th>Done. Your build exited with 1.</th>\n",
       "      <td>230</td>\n",
       "    </tr>\n",
       "    <tr>\n",
       "      <th>Done: Job Cancelled</th>\n",
       "      <td>36</td>\n",
       "    </tr>\n",
       "    <tr>\n",
       "      <th>The build has been terminated</th>\n",
       "      <td>22</td>\n",
       "    </tr>\n",
       "    <tr>\n",
       "      <th>\u001b[33;1mSee https://docs.travis-ci.com/user/workers/container-based-infrastructure/ for details.\u001b[0m</th>\n",
       "      <td>2</td>\n",
       "    </tr>\n",
       "    <tr>\n",
       "      <th>ostId&gt;g73pt/Fpys9vNcdaAqNoq6FZs/gm9uzV82bQEBC4pTWHmVud/ar8Or4WEq1FLfWs6O97Rmhcd/w=&lt;/HostId&gt;&lt;/Error&gt;</th>\n",
       "      <td>1</td>\n",
       "    </tr>\n",
       "    <tr>\n",
       "      <th>ostId&gt;7S4Hmdaf5UUwBc00qyA9Hsaa8zrnkry/lCAutafFyKxy6dVLH2AmWydy1tx6BxdNyHgdz3GOsnw=&lt;/HostId&gt;&lt;/Error&gt;</th>\n",
       "      <td>1</td>\n",
       "    </tr>\n",
       "    <tr>\n",
       "      <th>ostId&gt;V/dK0Pq5THwC2Hgm4FG4ORllDieEY7dfm7ROQqRX+u40AL3g13PnF4C4XhgbGLB525qabqr7Jms=&lt;/HostId&gt;&lt;/Error&gt;</th>\n",
       "      <td>1</td>\n",
       "    </tr>\n",
       "    <tr>\n",
       "      <th>ostId&gt;7SQJebqZqnVYqCyWg2fhu+OGlQssTWXnHDkh6SkbNOfixcWU5184n/3lB5Fq8+Jqm+wndPLFfEw=&lt;/HostId&gt;&lt;/Error&gt;</th>\n",
       "      <td>1</td>\n",
       "    </tr>\n",
       "  </tbody>\n",
       "</table>\n",
       "</div>"
      ],
      "text/plain": [
       "                                                                                                     finished\n",
       "Done. Your build exited with 0.                                                                          5543\n",
       "Your build has been stopped.                                                                              572\n",
       "Done. Your build exited with 1.                                                                           230\n",
       "Done: Job Cancelled                                                                                        36\n",
       "The build has been terminated                                                                              22\n",
       "\u001b[33;1mSee https://docs.travis-ci.com/user/workers/container-based-infrastructure/ for details.\u001b[0m         2\n",
       "ostId>g73pt/Fpys9vNcdaAqNoq6FZs/gm9uzV82bQEBC4pTWHmVud/ar8Or4WEq1FLfWs6O97Rmhcd/w=</HostId></Error>         1\n",
       "ostId>7S4Hmdaf5UUwBc00qyA9Hsaa8zrnkry/lCAutafFyKxy6dVLH2AmWydy1tx6BxdNyHgdz3GOsnw=</HostId></Error>         1\n",
       "ostId>V/dK0Pq5THwC2Hgm4FG4ORllDieEY7dfm7ROQqRX+u40AL3g13PnF4C4XhgbGLB525qabqr7Jms=</HostId></Error>         1\n",
       "ostId>7SQJebqZqnVYqCyWg2fhu+OGlQssTWXnHDkh6SkbNOfixcWU5184n/3lB5Fq8+Jqm+wndPLFfEw=</HostId></Error>         1"
      ]
     },
     "execution_count": 13,
     "metadata": {},
     "output_type": "execute_result"
    }
   ],
   "source": [
    "logs['finished'] = logs.content.str[-100:].str.extract(\"(.*)\\n*$\", expand=False)\n",
    "pd.DataFrame(logs['finished'].value_counts().head(10))"
   ]
  },
  {
   "cell_type": "code",
   "execution_count": 14,
   "metadata": {},
   "outputs": [
    {
     "data": {
      "text/plain": [
       "SUCCESS       5543\n",
       "STOPPED        572\n",
       "UNKNOWN        236\n",
       "ERROR          230\n",
       "TERMINATED      23\n",
       "Name: finished_state, dtype: int64"
      ]
     },
     "execution_count": 14,
     "metadata": {},
     "output_type": "execute_result"
    }
   ],
   "source": [
    "mapping = {\n",
    "    \"Done. Your build exited with 0.\" : \"SUCCESS\",\n",
    "    \"Done. Build script exited with: 0\" : \"SUCCESS\",\n",
    "    \"Done. Build script exited with 0\" : \"SUCCUESS\",\n",
    "    \"Your build has been stopped.\" : \"STOPPED\",\n",
    "    \"The build has been terminated.\" : \"TERMINATED\",\n",
    "    \"The build has been terminated\" : \"TERMINATED\",\n",
    "    \"Done. Your build exited with 1.\" : \"ERROR\",\n",
    "    \"Done. Build script exited with: 1\" : \"ERROR\",\n",
    "    \"Your test run exceeded \" : \"ABORTED\"\n",
    "}\n",
    "logs['finished_state'] = logs['finished'].map(mapping)\n",
    "logs.ix[logs['finished_state'].isnull(), \"finished_state\"] = \"UNKNOWN\"\n",
    "logs['finished_state'].value_counts()"
   ]
  },
  {
   "cell_type": "code",
   "execution_count": 15,
   "metadata": {},
   "outputs": [
    {
     "data": {
      "text/plain": [
       "buildnumber\n",
       "1000    1439813594146357590\n",
       "1001    1439815630121194902\n",
       "1002    1439816788716087665\n",
       "1003    1439818175259340688\n",
       "1004    1439820108000646961\n",
       "Name: start_time, dtype: object"
      ]
     },
     "execution_count": 15,
     "metadata": {},
     "output_type": "execute_result"
    }
   ],
   "source": [
    "logs['start_time'] = logs['content'].str.extract(\n",
    "    r\"travis_time:end:.*:start=([0-9]*),\", expand=False)\n",
    "logs['start_time'].head()"
   ]
  },
  {
   "cell_type": "code",
   "execution_count": 16,
   "metadata": {},
   "outputs": [
    {
     "data": {
      "text/plain": [
       "buildnumber\n",
       "1000   2015-08-17 12:13:14.146357\n",
       "1001   2015-08-17 12:47:10.121195\n",
       "1002   2015-08-17 13:06:28.716087\n",
       "1003   2015-08-17 13:29:35.259340\n",
       "1004   2015-08-17 14:01:48.000646\n",
       "Name: start_time, dtype: datetime64[ns]"
      ]
     },
     "execution_count": 16,
     "metadata": {},
     "output_type": "execute_result"
    }
   ],
   "source": [
    "logs['start_time'] = pd.to_datetime(\n",
    "    pd.to_numeric(\n",
    "        logs['start_time'])/1000, unit='us')\n",
    "logs['start_time'].head()"
   ]
  },
  {
   "cell_type": "code",
   "execution_count": 17,
   "metadata": {},
   "outputs": [
    {
     "data": {
      "text/plain": [
       "buildnumber\n",
       "1000   2015-08-17 12:15:22.697075\n",
       "1001   2015-08-17 12:49:50.116804\n",
       "1002   2015-08-17 13:09:11.630699\n",
       "1003   2015-08-17 13:32:11.864482\n",
       "1004   2015-08-17 14:04:28.823432\n",
       "Name: end_time, dtype: datetime64[ns]"
      ]
     },
     "execution_count": 17,
     "metadata": {},
     "output_type": "execute_result"
    }
   ],
   "source": [
    "logs['end_time'] = logs['content'].str[-500:].str.extract(\n",
    "    r\"travis_time:end:.*:start=[0-9]*,finish=([0-9]*)\",expand=True)\n",
    "logs['end_time'] = pd.to_datetime(pd.to_numeric(logs['end_time'])/1000, unit='us')\n",
    "logs['end_time'].head()"
   ]
  },
  {
   "cell_type": "code",
   "execution_count": 18,
   "metadata": {
    "collapsed": true
   },
   "outputs": [],
   "source": [
    "logs['duration'] = logs['end_time'] - logs['start_time']"
   ]
  },
  {
   "cell_type": "code",
   "execution_count": 19,
   "metadata": {},
   "outputs": [
    {
     "data": {
      "text/plain": [
       "Timedelta('0 days 00:04:58.772930')"
      ]
     },
     "execution_count": 19,
     "metadata": {},
     "output_type": "execute_result"
    }
   ],
   "source": [
    "successful_builds = logs[logs['finished_state'] == \"SUCCESS\"].dropna()\n",
    "successful_builds['duration'].mean()"
   ]
  },
  {
   "cell_type": "code",
   "execution_count": 20,
   "metadata": {},
   "outputs": [
    {
     "data": {
      "text/plain": [
       "6604"
      ]
     },
     "execution_count": 20,
     "metadata": {},
     "output_type": "execute_result"
    }
   ],
   "source": [
    "len(logs)"
   ]
  },
  {
   "cell_type": "code",
   "execution_count": 21,
   "metadata": {},
   "outputs": [
    {
     "data": {
      "text/plain": [
       "88688"
      ]
     },
     "execution_count": 21,
     "metadata": {},
     "output_type": "execute_result"
    }
   ],
   "source": [
    "t = successful_builds['duration']\n",
    "t.memory_usage()"
   ]
  },
  {
   "cell_type": "code",
   "execution_count": 22,
   "metadata": {},
   "outputs": [
    {
     "data": {
      "text/plain": [
       "buildnumber\n",
       "1000    2.0\n",
       "1001    2.0\n",
       "1002    2.0\n",
       "1003    2.0\n",
       "1004    2.0\n",
       "Name: duration_in_min, dtype: float64"
      ]
     },
     "execution_count": 22,
     "metadata": {},
     "output_type": "execute_result"
    }
   ],
   "source": [
    "successful_builds['duration_in_min'] = successful_builds['duration'].astype('timedelta64[m]')\n",
    "successful_builds['duration_in_min'].head()"
   ]
  },
  {
   "cell_type": "code",
   "execution_count": 23,
   "metadata": {},
   "outputs": [
    {
     "data": {
      "text/html": [
       "<div>\n",
       "<table border=\"1\" class=\"dataframe\">\n",
       "  <thead>\n",
       "    <tr style=\"text-align: right;\">\n",
       "      <th></th>\n",
       "      <th>buildnumber</th>\n",
       "      <th>duration_in_min</th>\n",
       "    </tr>\n",
       "  </thead>\n",
       "  <tbody>\n",
       "    <tr>\n",
       "      <th>2015-05-17</th>\n",
       "      <td>12.000000</td>\n",
       "      <td>1.347826</td>\n",
       "    </tr>\n",
       "    <tr>\n",
       "      <th>2015-05-24</th>\n",
       "      <td>68.500000</td>\n",
       "      <td>1.511111</td>\n",
       "    </tr>\n",
       "    <tr>\n",
       "      <th>2015-05-31</th>\n",
       "      <td>141.132075</td>\n",
       "      <td>1.641509</td>\n",
       "    </tr>\n",
       "    <tr>\n",
       "      <th>2015-06-07</th>\n",
       "      <td>221.561224</td>\n",
       "      <td>1.663265</td>\n",
       "    </tr>\n",
       "    <tr>\n",
       "      <th>2015-06-14</th>\n",
       "      <td>317.875000</td>\n",
       "      <td>2.087500</td>\n",
       "    </tr>\n",
       "  </tbody>\n",
       "</table>\n",
       "</div>"
      ],
      "text/plain": [
       "            buildnumber  duration_in_min\n",
       "2015-05-17    12.000000         1.347826\n",
       "2015-05-24    68.500000         1.511111\n",
       "2015-05-31   141.132075         1.641509\n",
       "2015-06-07   221.561224         1.663265\n",
       "2015-06-14   317.875000         2.087500"
      ]
     },
     "execution_count": 23,
     "metadata": {},
     "output_type": "execute_result"
    }
   ],
   "source": [
    "successful_builds_over_time = successful_builds.reset_index().set_index(pd.DatetimeIndex(successful_builds['start_time'])).resample('1W').mean()\n",
    "successful_builds_over_time.head()"
   ]
  },
  {
   "cell_type": "markdown",
   "metadata": {},
   "source": [
    "# Visualisierung"
   ]
  },
  {
   "cell_type": "code",
   "execution_count": 24,
   "metadata": {},
   "outputs": [
    {
     "data": {
      "text/plain": [
       "<matplotlib.axes._subplots.AxesSubplot at 0x230574ddeb8>"
      ]
     },
     "execution_count": 24,
     "metadata": {},
     "output_type": "execute_result"
    },
    {
     "data": {
      "image/png": "[encoded data removed]",
      "text/plain": [
       "<matplotlib.figure.Figure at 0x230574dd400>"
      ]
     },
     "metadata": {},
     "output_type": "display_data"
    }
   ],
   "source": [
    "%matplotlib inline\n",
    "import matplotlib\n",
    "matplotlib.style.use('ggplot')\n",
    "successful_builds_over_time['duration_in_min'].plot(\n",
    "    title=\"Build time in minutes\")"
   ]
  }
 ],
 "metadata": {
  "anaconda-cloud": {},
  "kernelspec": {
   "display_name": "Python [Root]",
   "language": "python",
   "name": "Python [Root]"
  },
  "language_info": {
   "codemirror_mode": {
    "name": "ipython",
    "version": 3
   },
   "file_extension": ".py",
   "mimetype": "text/x-python",
   "name": "python",
   "nbconvert_exporter": "python",
   "pygments_lexer": "ipython3",
   "version": "3.5.2"
  }
 },
 "nbformat": 4,
 "nbformat_minor": 1
}
