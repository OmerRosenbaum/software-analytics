{
 "cells": [
  {
   "cell_type": "markdown",
   "metadata": {},
   "source": [
    "Software version repositories contain a huge amount of evolutionary data. It's very common to mine these repositories to gain some insight about how the development of a software product works. But there is the need for some preprocessing of that data to avoid false analysis.\n",
    "\n",
    "In this notebook, I show you how to read a Git repository into Pandas' DataFrame."
   ]
  },
  {
   "cell_type": "markdown",
   "metadata": {},
   "source": [
    "# Idea\n",
    "The main idea is to use an existing Git library that provides the necessary (and hopefully efficient) access to a Git repository in Python."
   ]
  },
  {
   "cell_type": "code",
   "execution_count": 1,
   "metadata": {
    "collapsed": false
   },
   "outputs": [
    {
     "data": {
      "text/html": [
       "<div>\n",
       "<table border=\"1\" class=\"dataframe\">\n",
       "  <thead>\n",
       "    <tr style=\"text-align: right;\">\n",
       "      <th></th>\n",
       "      <th>data</th>\n",
       "    </tr>\n",
       "  </thead>\n",
       "  <tbody>\n",
       "    <tr>\n",
       "      <th>0</th>\n",
       "      <td>410923f52a18ec2452b0a5ac47c7974f0f1d96ab</td>\n",
       "    </tr>\n",
       "    <tr>\n",
       "      <th>1</th>\n",
       "      <td>eddc72cfa8ec1f010b3b21e80e661d8d8ba33cf1</td>\n",
       "    </tr>\n",
       "    <tr>\n",
       "      <th>2</th>\n",
       "      <td>d77f31c96e9e82d6245d1e244dd5a91b444295a0</td>\n",
       "    </tr>\n",
       "    <tr>\n",
       "      <th>3</th>\n",
       "      <td>2f3e035c60551cb5caf2005b9caea8126a59a52e</td>\n",
       "    </tr>\n",
       "    <tr>\n",
       "      <th>4</th>\n",
       "      <td>1a6572d1ac0c7659d9243405074f3f19f9a93328</td>\n",
       "    </tr>\n",
       "  </tbody>\n",
       "</table>\n",
       "</div>"
      ],
      "text/plain": [
       "                                       data\n",
       "0  410923f52a18ec2452b0a5ac47c7974f0f1d96ab\n",
       "1  eddc72cfa8ec1f010b3b21e80e661d8d8ba33cf1\n",
       "2  d77f31c96e9e82d6245d1e244dd5a91b444295a0\n",
       "3  2f3e035c60551cb5caf2005b9caea8126a59a52e\n",
       "4  1a6572d1ac0c7659d9243405074f3f19f9a93328"
      ]
     },
     "execution_count": 1,
     "metadata": {},
     "output_type": "execute_result"
    }
   ],
   "source": [
    "import pandas as pd\n",
    "import git\n",
    "\n",
    "repo = git.Repo(r'C:\\dev\\repos\\spring-petclinic', odbt=git.GitCmdObjectDB)\n",
    "commits = pd.DataFrame(repo.iter_commits('master'), columns=['data'])\n",
    "commits.head()"
   ]
  },
  {
   "cell_type": "markdown",
   "metadata": {},
   "source": [
    "Our <tt>commit</tt> column now contains all the commits as PythonGit's <tt>Commit</tt> Objects:"
   ]
  },
  {
   "cell_type": "code",
   "execution_count": 2,
   "metadata": {
    "collapsed": false
   },
   "outputs": [
    {
     "data": {
      "text/plain": [
       "git.objects.commit.Commit"
      ]
     },
     "execution_count": 2,
     "metadata": {},
     "output_type": "execute_result"
    }
   ],
   "source": [
    "last_commit = commits.ix[0, 'data']\n",
    "type(last_commit)"
   ]
  },
  {
   "cell_type": "markdown",
   "metadata": {},
   "source": [
    "The <tt>Commit</tt> objects are now our entry point for retrieving further data:"
   ]
  },
  {
   "cell_type": "code",
   "execution_count": 3,
   "metadata": {
    "collapsed": false
   },
   "outputs": [
    {
     "name": "stdout",
     "output_type": "stream",
     "text": [
      "Wraps a git Commit object.\n",
      "\n",
      "    This class will act lazily on some of its attributes and will query the\n",
      "    value on demand only if it involves calling the git binary.\n"
     ]
    }
   ],
   "source": [
    "print(last_commit.__doc__)"
   ]
  },
  {
   "cell_type": "markdown",
   "metadata": {},
   "source": [
    "It provides a huge variety of data on demand:"
   ]
  },
  {
   "cell_type": "code",
   "execution_count": 4,
   "metadata": {
    "collapsed": false
   },
   "outputs": [
    {
     "data": {
      "text/plain": [
       "('tree',\n",
       " 'author',\n",
       " 'authored_date',\n",
       " 'author_tz_offset',\n",
       " 'committer',\n",
       " 'committed_date',\n",
       " 'committer_tz_offset',\n",
       " 'message',\n",
       " 'parents',\n",
       " 'encoding',\n",
       " 'gpgsig')"
      ]
     },
     "execution_count": 4,
     "metadata": {},
     "output_type": "execute_result"
    }
   ],
   "source": [
    "last_commit.__slots__"
   ]
  },
  {
   "cell_type": "markdown",
   "metadata": {},
   "source": [
    "E. g. basic data like the commit messageh"
   ]
  },
  {
   "cell_type": "code",
   "execution_count": 5,
   "metadata": {
    "collapsed": false
   },
   "outputs": [
    {
     "data": {
      "text/plain": [
       "\"Downgrade Cobertura to enable 'mvn site'\\n\""
      ]
     },
     "execution_count": 5,
     "metadata": {},
     "output_type": "execute_result"
    }
   ],
   "source": [
    "last_commit.message"
   ]
  },
  {
   "cell_type": "markdown",
   "metadata": {},
   "source": [
    "Or the date of the commit"
   ]
  },
  {
   "cell_type": "code",
   "execution_count": 6,
   "metadata": {
    "collapsed": false
   },
   "outputs": [
    {
     "data": {
      "text/plain": [
       "datetime.datetime(2016, 7, 28, 21, 3, 3, tzinfo=<git.objects.util.tzoffset object at 0x0000023C07A7E710>)"
      ]
     },
     "execution_count": 6,
     "metadata": {},
     "output_type": "execute_result"
    }
   ],
   "source": [
    "last_commit.committed_datetime"
   ]
  },
  {
   "cell_type": "code",
   "execution_count": 7,
   "metadata": {
    "collapsed": false
   },
   "outputs": [
    {
     "data": {
      "text/plain": [
       "'feststelltaste'"
      ]
     },
     "execution_count": 7,
     "metadata": {},
     "output_type": "execute_result"
    }
   ],
   "source": [
    "last_commit.author.name"
   ]
  },
  {
   "cell_type": "code",
   "execution_count": 8,
   "metadata": {
    "collapsed": false
   },
   "outputs": [
    {
     "data": {
      "text/plain": [
       "'feststelltaste@googlemail.com'"
      ]
     },
     "execution_count": 8,
     "metadata": {},
     "output_type": "execute_result"
    }
   ],
   "source": [
    "last_commit.author.email"
   ]
  },
  {
   "cell_type": "markdown",
   "metadata": {},
   "source": [
    "Or file statistics about the commit:"
   ]
  },
  {
   "cell_type": "code",
   "execution_count": 9,
   "metadata": {
    "collapsed": false
   },
   "outputs": [
    {
     "data": {
      "text/plain": [
       "{'pom.xml': {'deletions': 2, 'insertions': 4, 'lines': 6}}"
      ]
     },
     "execution_count": 9,
     "metadata": {},
     "output_type": "execute_result"
    }
   ],
   "source": [
    "last_commit.stats.files"
   ]
  },
  {
   "cell_type": "markdown",
   "metadata": {},
   "source": [
    "Let's check how far this is by retrieving all the authors from the commit's data:"
   ]
  },
  {
   "cell_type": "code",
   "execution_count": 10,
   "metadata": {
    "collapsed": false
   },
   "outputs": [
    {
     "name": "stdout",
     "output_type": "stream",
     "text": [
      "Wall time: 0 ns\n",
      "477\n"
     ]
    },
    {
     "data": {
      "text/html": [
       "<div>\n",
       "<table border=\"1\" class=\"dataframe\">\n",
       "  <thead>\n",
       "    <tr style=\"text-align: right;\">\n",
       "      <th></th>\n",
       "      <th>data</th>\n",
       "      <th>author</th>\n",
       "    </tr>\n",
       "  </thead>\n",
       "  <tbody>\n",
       "    <tr>\n",
       "      <th>0</th>\n",
       "      <td>410923f52a18ec2452b0a5ac47c7974f0f1d96ab</td>\n",
       "      <td>feststelltaste</td>\n",
       "    </tr>\n",
       "    <tr>\n",
       "      <th>1</th>\n",
       "      <td>eddc72cfa8ec1f010b3b21e80e661d8d8ba33cf1</td>\n",
       "      <td>Antoine Rey</td>\n",
       "    </tr>\n",
       "    <tr>\n",
       "      <th>2</th>\n",
       "      <td>d77f31c96e9e82d6245d1e244dd5a91b444295a0</td>\n",
       "      <td>Antoine Rey</td>\n",
       "    </tr>\n",
       "    <tr>\n",
       "      <th>3</th>\n",
       "      <td>2f3e035c60551cb5caf2005b9caea8126a59a52e</td>\n",
       "      <td>Antoine Rey</td>\n",
       "    </tr>\n",
       "    <tr>\n",
       "      <th>4</th>\n",
       "      <td>1a6572d1ac0c7659d9243405074f3f19f9a93328</td>\n",
       "      <td>Antoine Rey</td>\n",
       "    </tr>\n",
       "  </tbody>\n",
       "</table>\n",
       "</div>"
      ],
      "text/plain": [
       "                                       data          author\n",
       "0  410923f52a18ec2452b0a5ac47c7974f0f1d96ab  feststelltaste\n",
       "1  eddc72cfa8ec1f010b3b21e80e661d8d8ba33cf1     Antoine Rey\n",
       "2  d77f31c96e9e82d6245d1e244dd5a91b444295a0     Antoine Rey\n",
       "3  2f3e035c60551cb5caf2005b9caea8126a59a52e     Antoine Rey\n",
       "4  1a6572d1ac0c7659d9243405074f3f19f9a93328     Antoine Rey"
      ]
     },
     "execution_count": 10,
     "metadata": {},
     "output_type": "execute_result"
    }
   ],
   "source": [
    "%%time\n",
    "commits['author'] = commits['data'].apply(lambda x: x.author.name)\n",
    "print(len(commits))\n",
    "commits.head()"
   ]
  },
  {
   "cell_type": "markdown",
   "metadata": {},
   "source": [
    "OK, it seems that this isn't measurable (but we only have 447 entries). Let's got further and retrieve some more data."
   ]
  },
  {
   "cell_type": "code",
   "execution_count": 11,
   "metadata": {
    "collapsed": false
   },
   "outputs": [
    {
     "name": "stdout",
     "output_type": "stream",
     "text": [
      "Wall time: 0 ns\n"
     ]
    },
    {
     "data": {
      "text/html": [
       "<div>\n",
       "<table border=\"1\" class=\"dataframe\">\n",
       "  <thead>\n",
       "    <tr style=\"text-align: right;\">\n",
       "      <th></th>\n",
       "      <th>data</th>\n",
       "      <th>author</th>\n",
       "      <th>email</th>\n",
       "      <th>committed_date</th>\n",
       "      <th>message</th>\n",
       "      <th>sha</th>\n",
       "    </tr>\n",
       "  </thead>\n",
       "  <tbody>\n",
       "    <tr>\n",
       "      <th>0</th>\n",
       "      <td>410923f52a18ec2452b0a5ac47c7974f0f1d96ab</td>\n",
       "      <td>feststelltaste</td>\n",
       "      <td>feststelltaste@googlemail.com</td>\n",
       "      <td>2016-07-28 21:03:03+02:00</td>\n",
       "      <td>Downgrade Cobertura to enable 'mvn site'\\n</td>\n",
       "      <td>410923f52a18ec2452b0a5ac47c7974f0f1d96ab</td>\n",
       "    </tr>\n",
       "    <tr>\n",
       "      <th>1</th>\n",
       "      <td>eddc72cfa8ec1f010b3b21e80e661d8d8ba33cf1</td>\n",
       "      <td>Antoine Rey</td>\n",
       "      <td>antoine.rey@gmail.com</td>\n",
       "      <td>2016-07-09 12:06:26+02:00</td>\n",
       "      <td>Upgrade Spring IO Platform to 2.0.6\\n</td>\n",
       "      <td>eddc72cfa8ec1f010b3b21e80e661d8d8ba33cf1</td>\n",
       "    </tr>\n",
       "    <tr>\n",
       "      <th>2</th>\n",
       "      <td>d77f31c96e9e82d6245d1e244dd5a91b444295a0</td>\n",
       "      <td>Antoine Rey</td>\n",
       "      <td>antoine.rey@gmail.com</td>\n",
       "      <td>2016-07-06 19:00:32+02:00</td>\n",
       "      <td>Fix Jetty 9 startup\\n</td>\n",
       "      <td>d77f31c96e9e82d6245d1e244dd5a91b444295a0</td>\n",
       "    </tr>\n",
       "    <tr>\n",
       "      <th>3</th>\n",
       "      <td>2f3e035c60551cb5caf2005b9caea8126a59a52e</td>\n",
       "      <td>Antoine Rey</td>\n",
       "      <td>antoine.rey@gmail.com</td>\n",
       "      <td>2016-07-06 18:18:40+02:00</td>\n",
       "      <td>The maven-war-plugin does not failed on missin...</td>\n",
       "      <td>2f3e035c60551cb5caf2005b9caea8126a59a52e</td>\n",
       "    </tr>\n",
       "    <tr>\n",
       "      <th>4</th>\n",
       "      <td>1a6572d1ac0c7659d9243405074f3f19f9a93328</td>\n",
       "      <td>Antoine Rey</td>\n",
       "      <td>antoine.rey@gmail.com</td>\n",
       "      <td>2016-07-06 18:04:23+02:00</td>\n",
       "      <td>Replace web.xml by PetclinicInitializer\\n</td>\n",
       "      <td>1a6572d1ac0c7659d9243405074f3f19f9a93328</td>\n",
       "    </tr>\n",
       "  </tbody>\n",
       "</table>\n",
       "</div>"
      ],
      "text/plain": [
       "                                       data          author  \\\n",
       "0  410923f52a18ec2452b0a5ac47c7974f0f1d96ab  feststelltaste   \n",
       "1  eddc72cfa8ec1f010b3b21e80e661d8d8ba33cf1     Antoine Rey   \n",
       "2  d77f31c96e9e82d6245d1e244dd5a91b444295a0     Antoine Rey   \n",
       "3  2f3e035c60551cb5caf2005b9caea8126a59a52e     Antoine Rey   \n",
       "4  1a6572d1ac0c7659d9243405074f3f19f9a93328     Antoine Rey   \n",
       "\n",
       "                           email             committed_date  \\\n",
       "0  feststelltaste@googlemail.com  2016-07-28 21:03:03+02:00   \n",
       "1          antoine.rey@gmail.com  2016-07-09 12:06:26+02:00   \n",
       "2          antoine.rey@gmail.com  2016-07-06 19:00:32+02:00   \n",
       "3          antoine.rey@gmail.com  2016-07-06 18:18:40+02:00   \n",
       "4          antoine.rey@gmail.com  2016-07-06 18:04:23+02:00   \n",
       "\n",
       "                                             message  \\\n",
       "0         Downgrade Cobertura to enable 'mvn site'\\n   \n",
       "1              Upgrade Spring IO Platform to 2.0.6\\n   \n",
       "2                              Fix Jetty 9 startup\\n   \n",
       "3  The maven-war-plugin does not failed on missin...   \n",
       "4          Replace web.xml by PetclinicInitializer\\n   \n",
       "\n",
       "                                        sha  \n",
       "0  410923f52a18ec2452b0a5ac47c7974f0f1d96ab  \n",
       "1  eddc72cfa8ec1f010b3b21e80e661d8d8ba33cf1  \n",
       "2  d77f31c96e9e82d6245d1e244dd5a91b444295a0  \n",
       "3  2f3e035c60551cb5caf2005b9caea8126a59a52e  \n",
       "4  1a6572d1ac0c7659d9243405074f3f19f9a93328  "
      ]
     },
     "execution_count": 11,
     "metadata": {},
     "output_type": "execute_result"
    }
   ],
   "source": [
    "%%time\n",
    "commits['email'] = commits['data'].apply(lambda x: x.author.email)\n",
    "commits['committed_date'] = commits['data'].apply(lambda x: x.committed_datetime)\n",
    "commits['message'] = commits['data'].apply(lambda x: x.message)\n",
    "commits['sha'] = commits['data'].apply(lambda x: str(x))\n",
    "commits.head()"
   ]
  },
  {
   "cell_type": "markdown",
   "metadata": {},
   "source": [
    "Dead easy and fast, but what about the modified files in the <tt>commit.stats</tt> object?"
   ]
  },
  {
   "cell_type": "code",
   "execution_count": 12,
   "metadata": {
    "collapsed": false
   },
   "outputs": [
    {
     "name": "stdout",
     "output_type": "stream",
     "text": [
      "Wall time: 20.7 s\n"
     ]
    }
   ],
   "source": [
    "%%time\n",
    "stats = pd.DataFrame(commits['data'].apply(\n",
    "    lambda x: pd.Series(x.stats.files)).stack()).reset_index(level=1)\n",
    "stats = stats.rename(columns={ 'level_1' : 'filename', 0 : 'stats_modifications'})\n",
    "stats.head()"
   ]
  },
  {
   "cell_type": "code",
   "execution_count": 13,
   "metadata": {
    "collapsed": false
   },
   "outputs": [
    {
     "data": {
      "text/html": [
       "<div>\n",
       "<table border=\"1\" class=\"dataframe\">\n",
       "  <thead>\n",
       "    <tr style=\"text-align: right;\">\n",
       "      <th></th>\n",
       "      <th>data</th>\n",
       "      <th>author</th>\n",
       "      <th>email</th>\n",
       "      <th>committed_date</th>\n",
       "      <th>message</th>\n",
       "      <th>sha</th>\n",
       "      <th>filename</th>\n",
       "      <th>stats_modifications</th>\n",
       "    </tr>\n",
       "  </thead>\n",
       "  <tbody>\n",
       "    <tr>\n",
       "      <th>0</th>\n",
       "      <td>410923f52a18ec2452b0a5ac47c7974f0f1d96ab</td>\n",
       "      <td>feststelltaste</td>\n",
       "      <td>feststelltaste@googlemail.com</td>\n",
       "      <td>2016-07-28 21:03:03+02:00</td>\n",
       "      <td>Downgrade Cobertura to enable 'mvn site'\\n</td>\n",
       "      <td>410923f52a18ec2452b0a5ac47c7974f0f1d96ab</td>\n",
       "      <td>pom.xml</td>\n",
       "      <td>{'deletions': 2, 'lines': 6, 'insertions': 4}</td>\n",
       "    </tr>\n",
       "    <tr>\n",
       "      <th>1</th>\n",
       "      <td>eddc72cfa8ec1f010b3b21e80e661d8d8ba33cf1</td>\n",
       "      <td>Antoine Rey</td>\n",
       "      <td>antoine.rey@gmail.com</td>\n",
       "      <td>2016-07-09 12:06:26+02:00</td>\n",
       "      <td>Upgrade Spring IO Platform to 2.0.6\\n</td>\n",
       "      <td>eddc72cfa8ec1f010b3b21e80e661d8d8ba33cf1</td>\n",
       "      <td>pom.xml</td>\n",
       "      <td>{'deletions': 2, 'lines': 4, 'insertions': 2}</td>\n",
       "    </tr>\n",
       "    <tr>\n",
       "      <th>2</th>\n",
       "      <td>d77f31c96e9e82d6245d1e244dd5a91b444295a0</td>\n",
       "      <td>Antoine Rey</td>\n",
       "      <td>antoine.rey@gmail.com</td>\n",
       "      <td>2016-07-06 19:00:32+02:00</td>\n",
       "      <td>Fix Jetty 9 startup\\n</td>\n",
       "      <td>d77f31c96e9e82d6245d1e244dd5a91b444295a0</td>\n",
       "      <td>src/main/webapp/WEB-INF/jetty-web.xml</td>\n",
       "      <td>{'deletions': 0, 'lines': 7, 'insertions': 7}</td>\n",
       "    </tr>\n",
       "    <tr>\n",
       "      <th>3</th>\n",
       "      <td>2f3e035c60551cb5caf2005b9caea8126a59a52e</td>\n",
       "      <td>Antoine Rey</td>\n",
       "      <td>antoine.rey@gmail.com</td>\n",
       "      <td>2016-07-06 18:18:40+02:00</td>\n",
       "      <td>The maven-war-plugin does not failed on missin...</td>\n",
       "      <td>2f3e035c60551cb5caf2005b9caea8126a59a52e</td>\n",
       "      <td>pom.xml</td>\n",
       "      <td>{'deletions': 0, 'lines': 1, 'insertions': 1}</td>\n",
       "    </tr>\n",
       "    <tr>\n",
       "      <th>4</th>\n",
       "      <td>1a6572d1ac0c7659d9243405074f3f19f9a93328</td>\n",
       "      <td>Antoine Rey</td>\n",
       "      <td>antoine.rey@gmail.com</td>\n",
       "      <td>2016-07-06 18:04:23+02:00</td>\n",
       "      <td>Replace web.xml by PetclinicInitializer\\n</td>\n",
       "      <td>1a6572d1ac0c7659d9243405074f3f19f9a93328</td>\n",
       "      <td>readme.md</td>\n",
       "      <td>{'deletions': 2, 'lines': 4, 'insertions': 2}</td>\n",
       "    </tr>\n",
       "  </tbody>\n",
       "</table>\n",
       "</div>"
      ],
      "text/plain": [
       "                                       data          author  \\\n",
       "0  410923f52a18ec2452b0a5ac47c7974f0f1d96ab  feststelltaste   \n",
       "1  eddc72cfa8ec1f010b3b21e80e661d8d8ba33cf1     Antoine Rey   \n",
       "2  d77f31c96e9e82d6245d1e244dd5a91b444295a0     Antoine Rey   \n",
       "3  2f3e035c60551cb5caf2005b9caea8126a59a52e     Antoine Rey   \n",
       "4  1a6572d1ac0c7659d9243405074f3f19f9a93328     Antoine Rey   \n",
       "\n",
       "                           email             committed_date  \\\n",
       "0  feststelltaste@googlemail.com  2016-07-28 21:03:03+02:00   \n",
       "1          antoine.rey@gmail.com  2016-07-09 12:06:26+02:00   \n",
       "2          antoine.rey@gmail.com  2016-07-06 19:00:32+02:00   \n",
       "3          antoine.rey@gmail.com  2016-07-06 18:18:40+02:00   \n",
       "4          antoine.rey@gmail.com  2016-07-06 18:04:23+02:00   \n",
       "\n",
       "                                             message  \\\n",
       "0         Downgrade Cobertura to enable 'mvn site'\\n   \n",
       "1              Upgrade Spring IO Platform to 2.0.6\\n   \n",
       "2                              Fix Jetty 9 startup\\n   \n",
       "3  The maven-war-plugin does not failed on missin...   \n",
       "4          Replace web.xml by PetclinicInitializer\\n   \n",
       "\n",
       "                                        sha  \\\n",
       "0  410923f52a18ec2452b0a5ac47c7974f0f1d96ab   \n",
       "1  eddc72cfa8ec1f010b3b21e80e661d8d8ba33cf1   \n",
       "2  d77f31c96e9e82d6245d1e244dd5a91b444295a0   \n",
       "3  2f3e035c60551cb5caf2005b9caea8126a59a52e   \n",
       "4  1a6572d1ac0c7659d9243405074f3f19f9a93328   \n",
       "\n",
       "                                filename  \\\n",
       "0                                pom.xml   \n",
       "1                                pom.xml   \n",
       "2  src/main/webapp/WEB-INF/jetty-web.xml   \n",
       "3                                pom.xml   \n",
       "4                              readme.md   \n",
       "\n",
       "                             stats_modifications  \n",
       "0  {'deletions': 2, 'lines': 6, 'insertions': 4}  \n",
       "1  {'deletions': 2, 'lines': 4, 'insertions': 2}  \n",
       "2  {'deletions': 0, 'lines': 7, 'insertions': 7}  \n",
       "3  {'deletions': 0, 'lines': 1, 'insertions': 1}  \n",
       "4  {'deletions': 2, 'lines': 4, 'insertions': 2}  "
      ]
     },
     "execution_count": 13,
     "metadata": {},
     "output_type": "execute_result"
    }
   ],
   "source": [
    "commits = commits.join(stats)\n",
    "commits.head()"
   ]
  },
  {
   "cell_type": "code",
   "execution_count": 14,
   "metadata": {
    "collapsed": false
   },
   "outputs": [
    {
     "name": "stderr",
     "output_type": "stream",
     "text": [
      "C:\\dev\\Anaconda3\\lib\\site-packages\\pandas\\indexes\\api.py:37: RuntimeWarning: unorderable types: int() > str(), sort order is undefined for incomparable objects\n",
      "  union = _union_indexes(indexes)\n"
     ]
    },
    {
     "data": {
      "text/html": [
       "<div>\n",
       "<table border=\"1\" class=\"dataframe\">\n",
       "  <thead>\n",
       "    <tr style=\"text-align: right;\">\n",
       "      <th></th>\n",
       "      <th>change_type</th>\n",
       "      <th>lines</th>\n",
       "    </tr>\n",
       "  </thead>\n",
       "  <tbody>\n",
       "    <tr>\n",
       "      <th>0</th>\n",
       "      <td>deletions</td>\n",
       "      <td>2.0</td>\n",
       "    </tr>\n",
       "    <tr>\n",
       "      <th>0</th>\n",
       "      <td>insertions</td>\n",
       "      <td>4.0</td>\n",
       "    </tr>\n",
       "    <tr>\n",
       "      <th>0</th>\n",
       "      <td>lines</td>\n",
       "      <td>6.0</td>\n",
       "    </tr>\n",
       "    <tr>\n",
       "      <th>1</th>\n",
       "      <td>deletions</td>\n",
       "      <td>2.0</td>\n",
       "    </tr>\n",
       "    <tr>\n",
       "      <th>1</th>\n",
       "      <td>insertions</td>\n",
       "      <td>2.0</td>\n",
       "    </tr>\n",
       "  </tbody>\n",
       "</table>\n",
       "</div>"
      ],
      "text/plain": [
       "  change_type  lines\n",
       "0   deletions    2.0\n",
       "0  insertions    4.0\n",
       "0       lines    6.0\n",
       "1   deletions    2.0\n",
       "1  insertions    2.0"
      ]
     },
     "execution_count": 14,
     "metadata": {},
     "output_type": "execute_result"
    }
   ],
   "source": [
    "stats_modifications = pd.DataFrame(commits['stats_modifications'].apply(\n",
    "    lambda x: pd.Series(x)).stack()).reset_index(level=1)\n",
    "stats_modifications = stats_modifications.rename(columns={ 'level_1' : 'change_type', 0 : 'lines'})\n",
    "stats_modifications.head()"
   ]
  },
  {
   "cell_type": "code",
   "execution_count": 15,
   "metadata": {
    "collapsed": false
   },
   "outputs": [
    {
     "data": {
      "text/html": [
       "<div>\n",
       "<table border=\"1\" class=\"dataframe\">\n",
       "  <thead>\n",
       "    <tr style=\"text-align: right;\">\n",
       "      <th></th>\n",
       "      <th>data</th>\n",
       "      <th>author</th>\n",
       "      <th>email</th>\n",
       "      <th>committed_date</th>\n",
       "      <th>message</th>\n",
       "      <th>sha</th>\n",
       "      <th>filename</th>\n",
       "      <th>stats_modifications</th>\n",
       "      <th>change_type</th>\n",
       "      <th>lines</th>\n",
       "    </tr>\n",
       "  </thead>\n",
       "  <tbody>\n",
       "    <tr>\n",
       "      <th>0</th>\n",
       "      <td>410923f52a18ec2452b0a5ac47c7974f0f1d96ab</td>\n",
       "      <td>feststelltaste</td>\n",
       "      <td>feststelltaste@googlemail.com</td>\n",
       "      <td>2016-07-28 21:03:03+02:00</td>\n",
       "      <td>Downgrade Cobertura to enable 'mvn site'\\n</td>\n",
       "      <td>410923f52a18ec2452b0a5ac47c7974f0f1d96ab</td>\n",
       "      <td>pom.xml</td>\n",
       "      <td>{'deletions': 2, 'lines': 6, 'insertions': 4}</td>\n",
       "      <td>deletions</td>\n",
       "      <td>2.0</td>\n",
       "    </tr>\n",
       "    <tr>\n",
       "      <th>0</th>\n",
       "      <td>410923f52a18ec2452b0a5ac47c7974f0f1d96ab</td>\n",
       "      <td>feststelltaste</td>\n",
       "      <td>feststelltaste@googlemail.com</td>\n",
       "      <td>2016-07-28 21:03:03+02:00</td>\n",
       "      <td>Downgrade Cobertura to enable 'mvn site'\\n</td>\n",
       "      <td>410923f52a18ec2452b0a5ac47c7974f0f1d96ab</td>\n",
       "      <td>pom.xml</td>\n",
       "      <td>{'deletions': 2, 'lines': 6, 'insertions': 4}</td>\n",
       "      <td>insertions</td>\n",
       "      <td>4.0</td>\n",
       "    </tr>\n",
       "    <tr>\n",
       "      <th>0</th>\n",
       "      <td>410923f52a18ec2452b0a5ac47c7974f0f1d96ab</td>\n",
       "      <td>feststelltaste</td>\n",
       "      <td>feststelltaste@googlemail.com</td>\n",
       "      <td>2016-07-28 21:03:03+02:00</td>\n",
       "      <td>Downgrade Cobertura to enable 'mvn site'\\n</td>\n",
       "      <td>410923f52a18ec2452b0a5ac47c7974f0f1d96ab</td>\n",
       "      <td>pom.xml</td>\n",
       "      <td>{'deletions': 2, 'lines': 6, 'insertions': 4}</td>\n",
       "      <td>lines</td>\n",
       "      <td>6.0</td>\n",
       "    </tr>\n",
       "    <tr>\n",
       "      <th>1</th>\n",
       "      <td>eddc72cfa8ec1f010b3b21e80e661d8d8ba33cf1</td>\n",
       "      <td>Antoine Rey</td>\n",
       "      <td>antoine.rey@gmail.com</td>\n",
       "      <td>2016-07-09 12:06:26+02:00</td>\n",
       "      <td>Upgrade Spring IO Platform to 2.0.6\\n</td>\n",
       "      <td>eddc72cfa8ec1f010b3b21e80e661d8d8ba33cf1</td>\n",
       "      <td>pom.xml</td>\n",
       "      <td>{'deletions': 2, 'lines': 4, 'insertions': 2}</td>\n",
       "      <td>deletions</td>\n",
       "      <td>2.0</td>\n",
       "    </tr>\n",
       "    <tr>\n",
       "      <th>1</th>\n",
       "      <td>eddc72cfa8ec1f010b3b21e80e661d8d8ba33cf1</td>\n",
       "      <td>Antoine Rey</td>\n",
       "      <td>antoine.rey@gmail.com</td>\n",
       "      <td>2016-07-09 12:06:26+02:00</td>\n",
       "      <td>Upgrade Spring IO Platform to 2.0.6\\n</td>\n",
       "      <td>eddc72cfa8ec1f010b3b21e80e661d8d8ba33cf1</td>\n",
       "      <td>pom.xml</td>\n",
       "      <td>{'deletions': 2, 'lines': 4, 'insertions': 2}</td>\n",
       "      <td>insertions</td>\n",
       "      <td>2.0</td>\n",
       "    </tr>\n",
       "  </tbody>\n",
       "</table>\n",
       "</div>"
      ],
      "text/plain": [
       "                                       data          author  \\\n",
       "0  410923f52a18ec2452b0a5ac47c7974f0f1d96ab  feststelltaste   \n",
       "0  410923f52a18ec2452b0a5ac47c7974f0f1d96ab  feststelltaste   \n",
       "0  410923f52a18ec2452b0a5ac47c7974f0f1d96ab  feststelltaste   \n",
       "1  eddc72cfa8ec1f010b3b21e80e661d8d8ba33cf1     Antoine Rey   \n",
       "1  eddc72cfa8ec1f010b3b21e80e661d8d8ba33cf1     Antoine Rey   \n",
       "\n",
       "                           email             committed_date  \\\n",
       "0  feststelltaste@googlemail.com  2016-07-28 21:03:03+02:00   \n",
       "0  feststelltaste@googlemail.com  2016-07-28 21:03:03+02:00   \n",
       "0  feststelltaste@googlemail.com  2016-07-28 21:03:03+02:00   \n",
       "1          antoine.rey@gmail.com  2016-07-09 12:06:26+02:00   \n",
       "1          antoine.rey@gmail.com  2016-07-09 12:06:26+02:00   \n",
       "\n",
       "                                      message  \\\n",
       "0  Downgrade Cobertura to enable 'mvn site'\\n   \n",
       "0  Downgrade Cobertura to enable 'mvn site'\\n   \n",
       "0  Downgrade Cobertura to enable 'mvn site'\\n   \n",
       "1       Upgrade Spring IO Platform to 2.0.6\\n   \n",
       "1       Upgrade Spring IO Platform to 2.0.6\\n   \n",
       "\n",
       "                                        sha filename  \\\n",
       "0  410923f52a18ec2452b0a5ac47c7974f0f1d96ab  pom.xml   \n",
       "0  410923f52a18ec2452b0a5ac47c7974f0f1d96ab  pom.xml   \n",
       "0  410923f52a18ec2452b0a5ac47c7974f0f1d96ab  pom.xml   \n",
       "1  eddc72cfa8ec1f010b3b21e80e661d8d8ba33cf1  pom.xml   \n",
       "1  eddc72cfa8ec1f010b3b21e80e661d8d8ba33cf1  pom.xml   \n",
       "\n",
       "                             stats_modifications change_type  lines  \n",
       "0  {'deletions': 2, 'lines': 6, 'insertions': 4}   deletions    2.0  \n",
       "0  {'deletions': 2, 'lines': 6, 'insertions': 4}  insertions    4.0  \n",
       "0  {'deletions': 2, 'lines': 6, 'insertions': 4}       lines    6.0  \n",
       "1  {'deletions': 2, 'lines': 4, 'insertions': 2}   deletions    2.0  \n",
       "1  {'deletions': 2, 'lines': 4, 'insertions': 2}  insertions    2.0  "
      ]
     },
     "execution_count": 15,
     "metadata": {},
     "output_type": "execute_result"
    }
   ],
   "source": [
    "commits = commits.join(stats_modifications)\n",
    "commits.head()"
   ]
  },
  {
   "cell_type": "code",
   "execution_count": 16,
   "metadata": {
    "collapsed": false
   },
   "outputs": [
    {
     "name": "stdout",
     "output_type": "stream",
     "text": [
      "<class 'pandas.core.frame.DataFrame'>\n",
      "Int64Index: 5800291 entries, 0 to 476\n",
      "Data columns (total 10 columns):\n",
      "data                   object\n",
      "author                 object\n",
      "email                  object\n",
      "committed_date         object\n",
      "message                object\n",
      "sha                    object\n",
      "filename               object\n",
      "stats_modifications    object\n",
      "change_type            object\n",
      "lines                  float64\n",
      "dtypes: float64(1), object(9)\n",
      "memory usage: 486.8+ MB\n"
     ]
    }
   ],
   "source": [
    "commits.info()"
   ]
  },
  {
   "cell_type": "code",
   "execution_count": 19,
   "metadata": {
    "collapsed": false
   },
   "outputs": [
    {
     "data": {
      "text/plain": [
       "data                   5800291\n",
       "author                 5800291\n",
       "email                  5800291\n",
       "committed_date         5800291\n",
       "message                5800291\n",
       "filename               5800290\n",
       "stats_modifications    5800290\n",
       "change_type            5800290\n",
       "lines                  5800290\n",
       "dtype: int64"
      ]
     },
     "execution_count": 19,
     "metadata": {},
     "output_type": "execute_result"
    }
   ],
   "source": [
    "commits.groupby('sha').count().sum()"
   ]
  }
 ],
 "metadata": {
  "anaconda-cloud": {},
  "kernelspec": {
   "display_name": "Python [Root]",
   "language": "python",
   "name": "Python [Root]"
  },
  "language_info": {
   "codemirror_mode": {
    "name": "ipython",
    "version": 3
   },
   "file_extension": ".py",
   "mimetype": "text/x-python",
   "name": "python",
   "nbconvert_exporter": "python",
   "pygments_lexer": "ipython3",
   "version": "3.5.2"
  }
 },
 "nbformat": 4,
 "nbformat_minor": 0
}
