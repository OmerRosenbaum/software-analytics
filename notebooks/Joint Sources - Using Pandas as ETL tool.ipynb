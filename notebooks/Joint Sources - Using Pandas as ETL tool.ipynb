{
 "cells": [
  {
   "cell_type": "markdown",
   "metadata": {},
   "source": [
    "# Introduction\n",
    "Data sources for analysis in software development are very diverse and each data source is valuable on its own. But it's really powerful if we combine different source to get deep insights into problems we are trying to solve.\n",
    "\n",
    "So in this blog post, I want to guide you through a case study that has the goal to find long running, duplicated test executions in a Continuous Integration environment.\n",
    "\n",
    "*Note: We will work with synthetic data"
   ]
  }
 ],
 "metadata": {
  "kernelspec": {
   "display_name": "Python 3",
   "language": "python",
   "name": "python3"
  },
  "language_info": {
   "codemirror_mode": {
    "name": "ipython",
    "version": 3
   },
   "file_extension": ".py",
   "mimetype": "text/x-python",
   "name": "python",
   "nbconvert_exporter": "python",
   "pygments_lexer": "ipython3",
   "version": "3.6.4"
  }
 },
 "nbformat": 4,
 "nbformat_minor": 2
}
