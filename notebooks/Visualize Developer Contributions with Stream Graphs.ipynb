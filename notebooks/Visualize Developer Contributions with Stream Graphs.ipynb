{
 "cells": [
  {
   "cell_type": "markdown",
   "metadata": {},
   "source": [
    "# Introduction\n",
    "In this blog post, I want to show you how you can visualize the contributions of developers to your code base over time. I came across the [Stream Graph visualization](http://leebyron.com/streamgraph/) and it looks like it would fit quite nicely for this purpose. Fortunately, there is already a [D3 template by William Turman](http://bl.ocks.org/WillTurman/4631136) for this that I use in this blog post:\n",
    "\n",
    "![](resources/steamgraph_example.png)\n",
    "\n",
    "So let's prototype some visualizations!"
   ]
  },
  {
   "cell_type": "markdown",
   "metadata": {},
   "source": [
    "# Getting the data\n",
    "At the beginning, we declare some general variables for easy access and to reuse them for other repositories easily."
   ]
  },
  {
   "cell_type": "code",
   "execution_count": 1,
   "metadata": {
    "collapsed": true
   },
   "outputs": [],
   "source": [
    "PROJECT = \"intellij-community\"\n",
    "SOURCE_CODE_FILE_EXTENSION = \".java\"\n",
    "TIME_FREQUENCY = \"Q\" # how should data be grouped? 'Q' means quarterly\n",
    "\n",
    "FILENAME_PREFIX = \"vis/interactive_streamgraph/\"\n",
    "FILENAME_SUFFIX = \"_\" + PROJECT + \"_\" + TIME_FREQUENCY"
   ]
  },
  {
   "cell_type": "markdown",
   "metadata": {},
   "source": [
    "In this example, I'm using the rather big repository of [IntelliJ](https://github.com/JetBrains/intellij-community) which is written in Java.\n",
    "\n",
    "We import the existing Git log file with file statistics that was generated using\n",
    "```bash\n",
    "git log --numstat --pretty=format:\"%x09%x09%x09%h%x09%at%x09%aN\" > git_numstat.log\n",
    "```"
   ]
  },
  {
   "cell_type": "code",
   "execution_count": 2,
   "metadata": {},
   "outputs": [
    {
     "data": {
      "text/html": [
       "<div>\n",
       "<style>\n",
       "    .dataframe thead tr:only-child th {\n",
       "        text-align: right;\n",
       "    }\n",
       "\n",
       "    .dataframe thead th {\n",
       "        text-align: left;\n",
       "    }\n",
       "\n",
       "    .dataframe tbody tr th {\n",
       "        vertical-align: top;\n",
       "    }\n",
       "</style>\n",
       "<table border=\"1\" class=\"dataframe\">\n",
       "  <thead>\n",
       "    <tr style=\"text-align: right;\">\n",
       "      <th></th>\n",
       "      <th>additions</th>\n",
       "      <th>deletions</th>\n",
       "      <th>filename</th>\n",
       "      <th>sha</th>\n",
       "      <th>timestamp</th>\n",
       "      <th>author</th>\n",
       "    </tr>\n",
       "  </thead>\n",
       "  <tbody>\n",
       "    <tr>\n",
       "      <th>0</th>\n",
       "      <td>NaN</td>\n",
       "      <td>NaN</td>\n",
       "      <td>NaN</td>\n",
       "      <td>db2987a9533</td>\n",
       "      <td>1.507984e+09</td>\n",
       "      <td>Sergey Simonchik</td>\n",
       "    </tr>\n",
       "    <tr>\n",
       "      <th>1</th>\n",
       "      <td>12</td>\n",
       "      <td>3</td>\n",
       "      <td>platform/smRunner/src/com/intellij/execution/t...</td>\n",
       "      <td>NaN</td>\n",
       "      <td>NaN</td>\n",
       "      <td>NaN</td>\n",
       "    </tr>\n",
       "    <tr>\n",
       "      <th>2</th>\n",
       "      <td>45</td>\n",
       "      <td>0</td>\n",
       "      <td>platform/smRunner/testSrc/com/intellij/executi...</td>\n",
       "      <td>NaN</td>\n",
       "      <td>NaN</td>\n",
       "      <td>NaN</td>\n",
       "    </tr>\n",
       "    <tr>\n",
       "      <th>3</th>\n",
       "      <td>7</td>\n",
       "      <td>6</td>\n",
       "      <td>platform/testRunner/src/com/intellij/execution...</td>\n",
       "      <td>NaN</td>\n",
       "      <td>NaN</td>\n",
       "      <td>NaN</td>\n",
       "    </tr>\n",
       "    <tr>\n",
       "      <th>4</th>\n",
       "      <td>9</td>\n",
       "      <td>0</td>\n",
       "      <td>platform/testRunner/src/com/intellij/execution...</td>\n",
       "      <td>NaN</td>\n",
       "      <td>NaN</td>\n",
       "      <td>NaN</td>\n",
       "    </tr>\n",
       "  </tbody>\n",
       "</table>\n",
       "</div>"
      ],
      "text/plain": [
       "  additions deletions                                           filename  \\\n",
       "0       NaN       NaN                                                NaN   \n",
       "1        12         3  platform/smRunner/src/com/intellij/execution/t...   \n",
       "2        45         0  platform/smRunner/testSrc/com/intellij/executi...   \n",
       "3         7         6  platform/testRunner/src/com/intellij/execution...   \n",
       "4         9         0  platform/testRunner/src/com/intellij/execution...   \n",
       "\n",
       "           sha     timestamp            author  \n",
       "0  db2987a9533  1.507984e+09  Sergey Simonchik  \n",
       "1          NaN           NaN               NaN  \n",
       "2          NaN           NaN               NaN  \n",
       "3          NaN           NaN               NaN  \n",
       "4          NaN           NaN               NaN  "
      ]
     },
     "execution_count": 2,
     "metadata": {},
     "output_type": "execute_result"
    }
   ],
   "source": [
    "import pandas as pd\n",
    "\n",
    "logfile = \"../../{}/git_numstat.log\".format(PROJECT)\n",
    "git_log = pd.read_csv(\n",
    "    logfile,\n",
    "    sep=\"\\t\", \n",
    "    header=None,\n",
    "    names=[\n",
    "        'additions', \n",
    "        'deletions', \n",
    "        'filename', \n",
    "        'sha', \n",
    "        'timestamp', \n",
    "        'author'])\n",
    "git_log.head()"
   ]
  },
  {
   "cell_type": "markdown",
   "metadata": {},
   "source": [
    "The logfile contains the added and deleted lines of code for each file in each commit of an author. \n",
    "\n",
    "This file has over 1M entries."
   ]
  },
  {
   "cell_type": "code",
   "execution_count": 3,
   "metadata": {},
   "outputs": [
    {
     "data": {
      "text/plain": [
       "1025412"
      ]
     },
     "execution_count": 3,
     "metadata": {},
     "output_type": "execute_result"
    }
   ],
   "source": [
    "len(git_log)"
   ]
  },
  {
   "cell_type": "markdown",
   "metadata": {},
   "source": [
    "The repository itself has over 200k individual commits"
   ]
  },
  {
   "cell_type": "code",
   "execution_count": 4,
   "metadata": {},
   "outputs": [
    {
     "data": {
      "text/plain": [
       "205799"
      ]
     },
     "execution_count": 4,
     "metadata": {},
     "output_type": "execute_result"
    }
   ],
   "source": [
    "git_log['sha'].count()"
   ]
  },
  {
   "cell_type": "markdown",
   "metadata": {},
   "source": [
    "and almost 400 different contributors (Note: I created a separate `.mailmap` file locally to avoid multiple author names for the same person)"
   ]
  },
  {
   "cell_type": "code",
   "execution_count": 5,
   "metadata": {},
   "outputs": [
    {
     "data": {
      "text/plain": [
       "371"
      ]
     },
     "execution_count": 5,
     "metadata": {},
     "output_type": "execute_result"
    }
   ],
   "source": [
    "git_log['author'].value_counts().size"
   ]
  },
  {
   "cell_type": "markdown",
   "metadata": {},
   "source": [
    "We mold the raw data to get a nice list of all committed files including additions and deletions by each author. You can find details about this approach in [Reading a Git repo's commit history with Pandas efficiently](https://www.feststelltaste.de/reading-a-git-repos-commit-history-with-pandas-efficiently/)."
   ]
  },
  {
   "cell_type": "code",
   "execution_count": 6,
   "metadata": {},
   "outputs": [
    {
     "data": {
      "text/html": [
       "<div>\n",
       "<style>\n",
       "    .dataframe thead tr:only-child th {\n",
       "        text-align: right;\n",
       "    }\n",
       "\n",
       "    .dataframe thead th {\n",
       "        text-align: left;\n",
       "    }\n",
       "\n",
       "    .dataframe tbody tr th {\n",
       "        vertical-align: top;\n",
       "    }\n",
       "</style>\n",
       "<table border=\"1\" class=\"dataframe\">\n",
       "  <thead>\n",
       "    <tr style=\"text-align: right;\">\n",
       "      <th></th>\n",
       "      <th>additions</th>\n",
       "      <th>deletions</th>\n",
       "      <th>filename</th>\n",
       "      <th>sha</th>\n",
       "      <th>timestamp</th>\n",
       "      <th>author</th>\n",
       "    </tr>\n",
       "  </thead>\n",
       "  <tbody>\n",
       "    <tr>\n",
       "      <th>1</th>\n",
       "      <td>12</td>\n",
       "      <td>3</td>\n",
       "      <td>platform/smRunner/src/com/intellij/execution/t...</td>\n",
       "      <td>db2987a9533</td>\n",
       "      <td>1.507984e+09</td>\n",
       "      <td>Sergey Simonchik</td>\n",
       "    </tr>\n",
       "    <tr>\n",
       "      <th>2</th>\n",
       "      <td>45</td>\n",
       "      <td>0</td>\n",
       "      <td>platform/smRunner/testSrc/com/intellij/executi...</td>\n",
       "      <td>db2987a9533</td>\n",
       "      <td>1.507984e+09</td>\n",
       "      <td>Sergey Simonchik</td>\n",
       "    </tr>\n",
       "    <tr>\n",
       "      <th>3</th>\n",
       "      <td>7</td>\n",
       "      <td>6</td>\n",
       "      <td>platform/testRunner/src/com/intellij/execution...</td>\n",
       "      <td>db2987a9533</td>\n",
       "      <td>1.507984e+09</td>\n",
       "      <td>Sergey Simonchik</td>\n",
       "    </tr>\n",
       "    <tr>\n",
       "      <th>4</th>\n",
       "      <td>9</td>\n",
       "      <td>0</td>\n",
       "      <td>platform/testRunner/src/com/intellij/execution...</td>\n",
       "      <td>db2987a9533</td>\n",
       "      <td>1.507984e+09</td>\n",
       "      <td>Sergey Simonchik</td>\n",
       "    </tr>\n",
       "    <tr>\n",
       "      <th>5</th>\n",
       "      <td>16</td>\n",
       "      <td>3</td>\n",
       "      <td>platform/testRunner/src/com/intellij/execution...</td>\n",
       "      <td>db2987a9533</td>\n",
       "      <td>1.507984e+09</td>\n",
       "      <td>Sergey Simonchik</td>\n",
       "    </tr>\n",
       "  </tbody>\n",
       "</table>\n",
       "</div>"
      ],
      "text/plain": [
       "  additions deletions                                           filename  \\\n",
       "1        12         3  platform/smRunner/src/com/intellij/execution/t...   \n",
       "2        45         0  platform/smRunner/testSrc/com/intellij/executi...   \n",
       "3         7         6  platform/testRunner/src/com/intellij/execution...   \n",
       "4         9         0  platform/testRunner/src/com/intellij/execution...   \n",
       "5        16         3  platform/testRunner/src/com/intellij/execution...   \n",
       "\n",
       "           sha     timestamp            author  \n",
       "1  db2987a9533  1.507984e+09  Sergey Simonchik  \n",
       "2  db2987a9533  1.507984e+09  Sergey Simonchik  \n",
       "3  db2987a9533  1.507984e+09  Sergey Simonchik  \n",
       "4  db2987a9533  1.507984e+09  Sergey Simonchik  \n",
       "5  db2987a9533  1.507984e+09  Sergey Simonchik  "
      ]
     },
     "execution_count": 6,
     "metadata": {},
     "output_type": "execute_result"
    }
   ],
   "source": [
    "commits = git_log[['additions', 'deletions', 'filename']]\\\n",
    "    .join(git_log[['sha', 'timestamp', 'author']]\\\n",
    "    .fillna(method='ffill'))\\\n",
    "    .dropna()\n",
    "commits.head()"
   ]
  },
  {
   "cell_type": "markdown",
   "metadata": {},
   "source": [
    "We further do some basic filtering (because we only want the Java source code) and some data type conversions. Additionally, we calculate a new column that holds the number of `modifications` (added and deleted lines of source code)."
   ]
  },
  {
   "cell_type": "code",
   "execution_count": 7,
   "metadata": {},
   "outputs": [
    {
     "data": {
      "text/html": [
       "<div>\n",
       "<style>\n",
       "    .dataframe thead tr:only-child th {\n",
       "        text-align: right;\n",
       "    }\n",
       "\n",
       "    .dataframe thead th {\n",
       "        text-align: left;\n",
       "    }\n",
       "\n",
       "    .dataframe tbody tr th {\n",
       "        vertical-align: top;\n",
       "    }\n",
       "</style>\n",
       "<table border=\"1\" class=\"dataframe\">\n",
       "  <thead>\n",
       "    <tr style=\"text-align: right;\">\n",
       "      <th></th>\n",
       "      <th>additions</th>\n",
       "      <th>deletions</th>\n",
       "      <th>filename</th>\n",
       "      <th>sha</th>\n",
       "      <th>timestamp</th>\n",
       "      <th>author</th>\n",
       "      <th>modifications</th>\n",
       "    </tr>\n",
       "    <tr>\n",
       "      <th>timestamp</th>\n",
       "      <th></th>\n",
       "      <th></th>\n",
       "      <th></th>\n",
       "      <th></th>\n",
       "      <th></th>\n",
       "      <th></th>\n",
       "      <th></th>\n",
       "    </tr>\n",
       "  </thead>\n",
       "  <tbody>\n",
       "    <tr>\n",
       "      <th>2017-10-14 12:26:59</th>\n",
       "      <td>12.0</td>\n",
       "      <td>3.0</td>\n",
       "      <td>platform/smRunner/src/com/intellij/execution/t...</td>\n",
       "      <td>db2987a9533</td>\n",
       "      <td>2017-10-14 12:26:59</td>\n",
       "      <td>Sergey Simonchik</td>\n",
       "      <td>15.0</td>\n",
       "    </tr>\n",
       "    <tr>\n",
       "      <th>2017-10-14 12:26:59</th>\n",
       "      <td>45.0</td>\n",
       "      <td>0.0</td>\n",
       "      <td>platform/smRunner/testSrc/com/intellij/executi...</td>\n",
       "      <td>db2987a9533</td>\n",
       "      <td>2017-10-14 12:26:59</td>\n",
       "      <td>Sergey Simonchik</td>\n",
       "      <td>45.0</td>\n",
       "    </tr>\n",
       "    <tr>\n",
       "      <th>2017-10-14 12:26:59</th>\n",
       "      <td>7.0</td>\n",
       "      <td>6.0</td>\n",
       "      <td>platform/testRunner/src/com/intellij/execution...</td>\n",
       "      <td>db2987a9533</td>\n",
       "      <td>2017-10-14 12:26:59</td>\n",
       "      <td>Sergey Simonchik</td>\n",
       "      <td>13.0</td>\n",
       "    </tr>\n",
       "    <tr>\n",
       "      <th>2017-10-14 12:26:59</th>\n",
       "      <td>9.0</td>\n",
       "      <td>0.0</td>\n",
       "      <td>platform/testRunner/src/com/intellij/execution...</td>\n",
       "      <td>db2987a9533</td>\n",
       "      <td>2017-10-14 12:26:59</td>\n",
       "      <td>Sergey Simonchik</td>\n",
       "      <td>9.0</td>\n",
       "    </tr>\n",
       "    <tr>\n",
       "      <th>2017-10-14 12:26:59</th>\n",
       "      <td>16.0</td>\n",
       "      <td>3.0</td>\n",
       "      <td>platform/testRunner/src/com/intellij/execution...</td>\n",
       "      <td>db2987a9533</td>\n",
       "      <td>2017-10-14 12:26:59</td>\n",
       "      <td>Sergey Simonchik</td>\n",
       "      <td>19.0</td>\n",
       "    </tr>\n",
       "  </tbody>\n",
       "</table>\n",
       "</div>"
      ],
      "text/plain": [
       "                     additions  deletions  \\\n",
       "timestamp                                   \n",
       "2017-10-14 12:26:59       12.0        3.0   \n",
       "2017-10-14 12:26:59       45.0        0.0   \n",
       "2017-10-14 12:26:59        7.0        6.0   \n",
       "2017-10-14 12:26:59        9.0        0.0   \n",
       "2017-10-14 12:26:59       16.0        3.0   \n",
       "\n",
       "                                                              filename  \\\n",
       "timestamp                                                                \n",
       "2017-10-14 12:26:59  platform/smRunner/src/com/intellij/execution/t...   \n",
       "2017-10-14 12:26:59  platform/smRunner/testSrc/com/intellij/executi...   \n",
       "2017-10-14 12:26:59  platform/testRunner/src/com/intellij/execution...   \n",
       "2017-10-14 12:26:59  platform/testRunner/src/com/intellij/execution...   \n",
       "2017-10-14 12:26:59  platform/testRunner/src/com/intellij/execution...   \n",
       "\n",
       "                             sha           timestamp            author  \\\n",
       "timestamp                                                                \n",
       "2017-10-14 12:26:59  db2987a9533 2017-10-14 12:26:59  Sergey Simonchik   \n",
       "2017-10-14 12:26:59  db2987a9533 2017-10-14 12:26:59  Sergey Simonchik   \n",
       "2017-10-14 12:26:59  db2987a9533 2017-10-14 12:26:59  Sergey Simonchik   \n",
       "2017-10-14 12:26:59  db2987a9533 2017-10-14 12:26:59  Sergey Simonchik   \n",
       "2017-10-14 12:26:59  db2987a9533 2017-10-14 12:26:59  Sergey Simonchik   \n",
       "\n",
       "                     modifications  \n",
       "timestamp                           \n",
       "2017-10-14 12:26:59           15.0  \n",
       "2017-10-14 12:26:59           45.0  \n",
       "2017-10-14 12:26:59           13.0  \n",
       "2017-10-14 12:26:59            9.0  \n",
       "2017-10-14 12:26:59           19.0  "
      ]
     },
     "execution_count": 7,
     "metadata": {},
     "output_type": "execute_result"
    }
   ],
   "source": [
    "commits = commits[commits['filename'].str.endswith(SOURCE_CODE_FILE_EXTENSION)]\n",
    "commits['additions'] = pd.to_numeric(commits['additions'], errors='coerce').dropna()\n",
    "commits['deletions'] = pd.to_numeric(commits['deletions'], errors='coerce').dropna()\n",
    "commits['timestamp'] = pd.to_datetime(commits['timestamp'], unit=\"s\")\n",
    "commits = commits.set_index(commits['timestamp'])\n",
    "commits['modifications'] = commits['additions'] + commits['deletions']\n",
    "commits.head()"
   ]
  },
  {
   "cell_type": "markdown",
   "metadata": {},
   "source": [
    "The next step is optional and some basic data cleaning. It just filters out any nonsense commits that were cause by wrong timestamp configuration of some committers."
   ]
  },
  {
   "cell_type": "code",
   "execution_count": 8,
   "metadata": {},
   "outputs": [
    {
     "data": {
      "text/html": [
       "<div>\n",
       "<style>\n",
       "    .dataframe thead tr:only-child th {\n",
       "        text-align: right;\n",
       "    }\n",
       "\n",
       "    .dataframe thead th {\n",
       "        text-align: left;\n",
       "    }\n",
       "\n",
       "    .dataframe tbody tr th {\n",
       "        vertical-align: top;\n",
       "    }\n",
       "</style>\n",
       "<table border=\"1\" class=\"dataframe\">\n",
       "  <thead>\n",
       "    <tr style=\"text-align: right;\">\n",
       "      <th></th>\n",
       "      <th>additions</th>\n",
       "      <th>deletions</th>\n",
       "      <th>filename</th>\n",
       "      <th>sha</th>\n",
       "      <th>timestamp</th>\n",
       "      <th>author</th>\n",
       "      <th>modifications</th>\n",
       "    </tr>\n",
       "    <tr>\n",
       "      <th>timestamp</th>\n",
       "      <th></th>\n",
       "      <th></th>\n",
       "      <th></th>\n",
       "      <th></th>\n",
       "      <th></th>\n",
       "      <th></th>\n",
       "      <th></th>\n",
       "    </tr>\n",
       "  </thead>\n",
       "  <tbody>\n",
       "    <tr>\n",
       "      <th>2017-10-14 12:26:59</th>\n",
       "      <td>12.0</td>\n",
       "      <td>3.0</td>\n",
       "      <td>platform/smRunner/src/com/intellij/execution/t...</td>\n",
       "      <td>db2987a9533</td>\n",
       "      <td>2017-10-14 12:26:59</td>\n",
       "      <td>Sergey Simonchik</td>\n",
       "      <td>15.0</td>\n",
       "    </tr>\n",
       "    <tr>\n",
       "      <th>2017-10-14 12:26:59</th>\n",
       "      <td>45.0</td>\n",
       "      <td>0.0</td>\n",
       "      <td>platform/smRunner/testSrc/com/intellij/executi...</td>\n",
       "      <td>db2987a9533</td>\n",
       "      <td>2017-10-14 12:26:59</td>\n",
       "      <td>Sergey Simonchik</td>\n",
       "      <td>45.0</td>\n",
       "    </tr>\n",
       "    <tr>\n",
       "      <th>2017-10-14 12:26:59</th>\n",
       "      <td>7.0</td>\n",
       "      <td>6.0</td>\n",
       "      <td>platform/testRunner/src/com/intellij/execution...</td>\n",
       "      <td>db2987a9533</td>\n",
       "      <td>2017-10-14 12:26:59</td>\n",
       "      <td>Sergey Simonchik</td>\n",
       "      <td>13.0</td>\n",
       "    </tr>\n",
       "    <tr>\n",
       "      <th>2017-10-14 12:26:59</th>\n",
       "      <td>9.0</td>\n",
       "      <td>0.0</td>\n",
       "      <td>platform/testRunner/src/com/intellij/execution...</td>\n",
       "      <td>db2987a9533</td>\n",
       "      <td>2017-10-14 12:26:59</td>\n",
       "      <td>Sergey Simonchik</td>\n",
       "      <td>9.0</td>\n",
       "    </tr>\n",
       "    <tr>\n",
       "      <th>2017-10-14 12:26:59</th>\n",
       "      <td>16.0</td>\n",
       "      <td>3.0</td>\n",
       "      <td>platform/testRunner/src/com/intellij/execution...</td>\n",
       "      <td>db2987a9533</td>\n",
       "      <td>2017-10-14 12:26:59</td>\n",
       "      <td>Sergey Simonchik</td>\n",
       "      <td>19.0</td>\n",
       "    </tr>\n",
       "  </tbody>\n",
       "</table>\n",
       "</div>"
      ],
      "text/plain": [
       "                     additions  deletions  \\\n",
       "timestamp                                   \n",
       "2017-10-14 12:26:59       12.0        3.0   \n",
       "2017-10-14 12:26:59       45.0        0.0   \n",
       "2017-10-14 12:26:59        7.0        6.0   \n",
       "2017-10-14 12:26:59        9.0        0.0   \n",
       "2017-10-14 12:26:59       16.0        3.0   \n",
       "\n",
       "                                                              filename  \\\n",
       "timestamp                                                                \n",
       "2017-10-14 12:26:59  platform/smRunner/src/com/intellij/execution/t...   \n",
       "2017-10-14 12:26:59  platform/smRunner/testSrc/com/intellij/executi...   \n",
       "2017-10-14 12:26:59  platform/testRunner/src/com/intellij/execution...   \n",
       "2017-10-14 12:26:59  platform/testRunner/src/com/intellij/execution...   \n",
       "2017-10-14 12:26:59  platform/testRunner/src/com/intellij/execution...   \n",
       "\n",
       "                             sha           timestamp            author  \\\n",
       "timestamp                                                                \n",
       "2017-10-14 12:26:59  db2987a9533 2017-10-14 12:26:59  Sergey Simonchik   \n",
       "2017-10-14 12:26:59  db2987a9533 2017-10-14 12:26:59  Sergey Simonchik   \n",
       "2017-10-14 12:26:59  db2987a9533 2017-10-14 12:26:59  Sergey Simonchik   \n",
       "2017-10-14 12:26:59  db2987a9533 2017-10-14 12:26:59  Sergey Simonchik   \n",
       "2017-10-14 12:26:59  db2987a9533 2017-10-14 12:26:59  Sergey Simonchik   \n",
       "\n",
       "                     modifications  \n",
       "timestamp                           \n",
       "2017-10-14 12:26:59           15.0  \n",
       "2017-10-14 12:26:59           45.0  \n",
       "2017-10-14 12:26:59           13.0  \n",
       "2017-10-14 12:26:59            9.0  \n",
       "2017-10-14 12:26:59           19.0  "
      ]
     },
     "execution_count": 8,
     "metadata": {},
     "output_type": "execute_result"
    }
   ],
   "source": [
    "commits = commits[commits['timestamp'] <= 'today']\n",
    "initial_commit_date = commits[-1:]['timestamp'].values[0]\n",
    "commits = commits[commits['timestamp'] >= initial_commit_date]\n",
    "commits.head()"
   ]
  },
  {
   "cell_type": "markdown",
   "metadata": {},
   "source": [
    "# Summarizing the data\n",
    "In this section, we group the data to achieve a meaningful visualization with Stream Graphs. We do this by grouping all relevant data of the commits by author and quarters (`TIME_FREQUENCY` is set to `Q` = quarterly). We reset the index because we don't need it in the following."
   ]
  },
  {
   "cell_type": "code",
   "execution_count": 9,
   "metadata": {},
   "outputs": [
    {
     "data": {
      "text/html": [
       "<div>\n",
       "<style>\n",
       "    .dataframe thead tr:only-child th {\n",
       "        text-align: right;\n",
       "    }\n",
       "\n",
       "    .dataframe thead th {\n",
       "        text-align: left;\n",
       "    }\n",
       "\n",
       "    .dataframe tbody tr th {\n",
       "        vertical-align: top;\n",
       "    }\n",
       "</style>\n",
       "<table border=\"1\" class=\"dataframe\">\n",
       "  <thead>\n",
       "    <tr style=\"text-align: right;\">\n",
       "      <th></th>\n",
       "      <th>author</th>\n",
       "      <th>timestamp</th>\n",
       "      <th>modifications</th>\n",
       "    </tr>\n",
       "  </thead>\n",
       "  <tbody>\n",
       "    <tr>\n",
       "      <th>0</th>\n",
       "      <td>(dboulytchev@gmail.com)</td>\n",
       "      <td>2012-03-31</td>\n",
       "      <td>126.0</td>\n",
       "    </tr>\n",
       "    <tr>\n",
       "      <th>1</th>\n",
       "      <td>Adam Batkin</td>\n",
       "      <td>2015-12-31</td>\n",
       "      <td>2.0</td>\n",
       "    </tr>\n",
       "    <tr>\n",
       "      <th>2</th>\n",
       "      <td>Adrian Teng</td>\n",
       "      <td>2014-12-31</td>\n",
       "      <td>10.0</td>\n",
       "    </tr>\n",
       "    <tr>\n",
       "      <th>3</th>\n",
       "      <td>Aleksandr Samofalov</td>\n",
       "      <td>2016-03-31</td>\n",
       "      <td>29.0</td>\n",
       "    </tr>\n",
       "    <tr>\n",
       "      <th>4</th>\n",
       "      <td>Aleksandr Samofalov</td>\n",
       "      <td>2016-06-30</td>\n",
       "      <td>26.0</td>\n",
       "    </tr>\n",
       "  </tbody>\n",
       "</table>\n",
       "</div>"
      ],
      "text/plain": [
       "                    author  timestamp  modifications\n",
       "0  (dboulytchev@gmail.com) 2012-03-31          126.0\n",
       "1              Adam Batkin 2015-12-31            2.0\n",
       "2              Adrian Teng 2014-12-31           10.0\n",
       "3      Aleksandr Samofalov 2016-03-31           29.0\n",
       "4      Aleksandr Samofalov 2016-06-30           26.0"
      ]
     },
     "execution_count": 9,
     "metadata": {},
     "output_type": "execute_result"
    }
   ],
   "source": [
    "modifications_over_time = commits[['author', 'timestamp', 'modifications']].groupby(\n",
    "    [commits['author'], \n",
    "     pd.Grouper(freq=TIME_FREQUENCY)]).sum().reset_index()\n",
    "modifications_over_time.head()"
   ]
  },
  {
   "cell_type": "markdown",
   "metadata": {},
   "source": [
    "We also do some primitive outlier treatment by limiting the number of modifications to lower than the 99% quantile of the whole data."
   ]
  },
  {
   "cell_type": "code",
   "execution_count": 10,
   "metadata": {},
   "outputs": [
    {
     "data": {
      "text/plain": [
       "modifications         697744.00\n",
       "modifications_norm     51262.46\n",
       "dtype: float64"
      ]
     },
     "execution_count": 10,
     "metadata": {},
     "output_type": "execute_result"
    }
   ],
   "source": [
    "modifications_over_time['modifications_norm'] = modifications_over_time['modifications'].clip_upper(\n",
    "    modifications_over_time['modifications'].quantile(0.99))\n",
    "modifications_over_time[['modifications', 'modifications_norm']].max()"
   ]
  },
  {
   "cell_type": "markdown",
   "metadata": {},
   "source": [
    "Next, we pivot the DataFrame to get the modifications for each author over time."
   ]
  },
  {
   "cell_type": "code",
   "execution_count": 11,
   "metadata": {},
   "outputs": [
    {
     "data": {
      "text/html": [
       "<div>\n",
       "<style>\n",
       "    .dataframe thead tr:only-child th {\n",
       "        text-align: right;\n",
       "    }\n",
       "\n",
       "    .dataframe thead th {\n",
       "        text-align: left;\n",
       "    }\n",
       "\n",
       "    .dataframe tbody tr th {\n",
       "        vertical-align: top;\n",
       "    }\n",
       "</style>\n",
       "<table border=\"1\" class=\"dataframe\">\n",
       "  <thead>\n",
       "    <tr style=\"text-align: right;\">\n",
       "      <th>author</th>\n",
       "      <th>(dboulytchev@gmail.com)</th>\n",
       "      <th>Adam Batkin</th>\n",
       "      <th>Adrian Teng</th>\n",
       "      <th>Aleksandr Samofalov</th>\n",
       "      <th>Aleksey Pivovarov</th>\n",
       "      <th>Aleksey Rostovskiy</th>\n",
       "      <th>Aleksey Zezukin</th>\n",
       "      <th>Alex Ruiz</th>\n",
       "      <th>Alexander Chernikov</th>\n",
       "      <th>Alexander Doroshko</th>\n",
       "      <th>...</th>\n",
       "      <th>shanavas</th>\n",
       "      <th>shkate</th>\n",
       "      <th>siosio</th>\n",
       "      <th>spLeaner</th>\n",
       "      <th>stsypanov</th>\n",
       "      <th>svloyso</th>\n",
       "      <th>sweinreuter</th>\n",
       "      <th>unknown</th>\n",
       "      <th>vadim.lomshakov</th>\n",
       "      <th>yole</th>\n",
       "    </tr>\n",
       "    <tr>\n",
       "      <th>timestamp</th>\n",
       "      <th></th>\n",
       "      <th></th>\n",
       "      <th></th>\n",
       "      <th></th>\n",
       "      <th></th>\n",
       "      <th></th>\n",
       "      <th></th>\n",
       "      <th></th>\n",
       "      <th></th>\n",
       "      <th></th>\n",
       "      <th></th>\n",
       "      <th></th>\n",
       "      <th></th>\n",
       "      <th></th>\n",
       "      <th></th>\n",
       "      <th></th>\n",
       "      <th></th>\n",
       "      <th></th>\n",
       "      <th></th>\n",
       "      <th></th>\n",
       "      <th></th>\n",
       "    </tr>\n",
       "  </thead>\n",
       "  <tbody>\n",
       "    <tr>\n",
       "      <th>2004-12-31</th>\n",
       "      <td>NaN</td>\n",
       "      <td>NaN</td>\n",
       "      <td>NaN</td>\n",
       "      <td>NaN</td>\n",
       "      <td>NaN</td>\n",
       "      <td>NaN</td>\n",
       "      <td>NaN</td>\n",
       "      <td>NaN</td>\n",
       "      <td>NaN</td>\n",
       "      <td>NaN</td>\n",
       "      <td>...</td>\n",
       "      <td>NaN</td>\n",
       "      <td>NaN</td>\n",
       "      <td>NaN</td>\n",
       "      <td>NaN</td>\n",
       "      <td>NaN</td>\n",
       "      <td>NaN</td>\n",
       "      <td>NaN</td>\n",
       "      <td>NaN</td>\n",
       "      <td>NaN</td>\n",
       "      <td>NaN</td>\n",
       "    </tr>\n",
       "    <tr>\n",
       "      <th>2005-03-31</th>\n",
       "      <td>NaN</td>\n",
       "      <td>NaN</td>\n",
       "      <td>NaN</td>\n",
       "      <td>NaN</td>\n",
       "      <td>NaN</td>\n",
       "      <td>NaN</td>\n",
       "      <td>NaN</td>\n",
       "      <td>NaN</td>\n",
       "      <td>NaN</td>\n",
       "      <td>NaN</td>\n",
       "      <td>...</td>\n",
       "      <td>NaN</td>\n",
       "      <td>NaN</td>\n",
       "      <td>NaN</td>\n",
       "      <td>NaN</td>\n",
       "      <td>NaN</td>\n",
       "      <td>NaN</td>\n",
       "      <td>NaN</td>\n",
       "      <td>NaN</td>\n",
       "      <td>NaN</td>\n",
       "      <td>NaN</td>\n",
       "    </tr>\n",
       "    <tr>\n",
       "      <th>2005-06-30</th>\n",
       "      <td>NaN</td>\n",
       "      <td>NaN</td>\n",
       "      <td>NaN</td>\n",
       "      <td>NaN</td>\n",
       "      <td>NaN</td>\n",
       "      <td>NaN</td>\n",
       "      <td>NaN</td>\n",
       "      <td>NaN</td>\n",
       "      <td>NaN</td>\n",
       "      <td>NaN</td>\n",
       "      <td>...</td>\n",
       "      <td>NaN</td>\n",
       "      <td>NaN</td>\n",
       "      <td>NaN</td>\n",
       "      <td>NaN</td>\n",
       "      <td>NaN</td>\n",
       "      <td>NaN</td>\n",
       "      <td>NaN</td>\n",
       "      <td>NaN</td>\n",
       "      <td>NaN</td>\n",
       "      <td>NaN</td>\n",
       "    </tr>\n",
       "    <tr>\n",
       "      <th>2005-09-30</th>\n",
       "      <td>NaN</td>\n",
       "      <td>NaN</td>\n",
       "      <td>NaN</td>\n",
       "      <td>NaN</td>\n",
       "      <td>NaN</td>\n",
       "      <td>NaN</td>\n",
       "      <td>NaN</td>\n",
       "      <td>NaN</td>\n",
       "      <td>NaN</td>\n",
       "      <td>NaN</td>\n",
       "      <td>...</td>\n",
       "      <td>NaN</td>\n",
       "      <td>NaN</td>\n",
       "      <td>NaN</td>\n",
       "      <td>NaN</td>\n",
       "      <td>NaN</td>\n",
       "      <td>NaN</td>\n",
       "      <td>NaN</td>\n",
       "      <td>NaN</td>\n",
       "      <td>NaN</td>\n",
       "      <td>NaN</td>\n",
       "    </tr>\n",
       "    <tr>\n",
       "      <th>2005-12-31</th>\n",
       "      <td>NaN</td>\n",
       "      <td>NaN</td>\n",
       "      <td>NaN</td>\n",
       "      <td>NaN</td>\n",
       "      <td>NaN</td>\n",
       "      <td>NaN</td>\n",
       "      <td>NaN</td>\n",
       "      <td>NaN</td>\n",
       "      <td>NaN</td>\n",
       "      <td>NaN</td>\n",
       "      <td>...</td>\n",
       "      <td>NaN</td>\n",
       "      <td>NaN</td>\n",
       "      <td>NaN</td>\n",
       "      <td>NaN</td>\n",
       "      <td>NaN</td>\n",
       "      <td>NaN</td>\n",
       "      <td>NaN</td>\n",
       "      <td>NaN</td>\n",
       "      <td>NaN</td>\n",
       "      <td>NaN</td>\n",
       "    </tr>\n",
       "  </tbody>\n",
       "</table>\n",
       "<p>5 rows × 344 columns</p>\n",
       "</div>"
      ],
      "text/plain": [
       "author      (dboulytchev@gmail.com)  Adam Batkin  Adrian Teng  \\\n",
       "timestamp                                                       \n",
       "2004-12-31                      NaN          NaN          NaN   \n",
       "2005-03-31                      NaN          NaN          NaN   \n",
       "2005-06-30                      NaN          NaN          NaN   \n",
       "2005-09-30                      NaN          NaN          NaN   \n",
       "2005-12-31                      NaN          NaN          NaN   \n",
       "\n",
       "author      Aleksandr Samofalov  Aleksey Pivovarov  Aleksey Rostovskiy  \\\n",
       "timestamp                                                                \n",
       "2004-12-31                  NaN                NaN                 NaN   \n",
       "2005-03-31                  NaN                NaN                 NaN   \n",
       "2005-06-30                  NaN                NaN                 NaN   \n",
       "2005-09-30                  NaN                NaN                 NaN   \n",
       "2005-12-31                  NaN                NaN                 NaN   \n",
       "\n",
       "author      Aleksey Zezukin  Alex Ruiz  Alexander Chernikov  \\\n",
       "timestamp                                                     \n",
       "2004-12-31              NaN        NaN                  NaN   \n",
       "2005-03-31              NaN        NaN                  NaN   \n",
       "2005-06-30              NaN        NaN                  NaN   \n",
       "2005-09-30              NaN        NaN                  NaN   \n",
       "2005-12-31              NaN        NaN                  NaN   \n",
       "\n",
       "author      Alexander Doroshko  ...   shanavas  shkate  siosio  spLeaner  \\\n",
       "timestamp                       ...                                        \n",
       "2004-12-31                 NaN  ...        NaN     NaN     NaN       NaN   \n",
       "2005-03-31                 NaN  ...        NaN     NaN     NaN       NaN   \n",
       "2005-06-30                 NaN  ...        NaN     NaN     NaN       NaN   \n",
       "2005-09-30                 NaN  ...        NaN     NaN     NaN       NaN   \n",
       "2005-12-31                 NaN  ...        NaN     NaN     NaN       NaN   \n",
       "\n",
       "author      stsypanov  svloyso  sweinreuter  unknown  vadim.lomshakov  yole  \n",
       "timestamp                                                                    \n",
       "2004-12-31        NaN      NaN          NaN      NaN              NaN   NaN  \n",
       "2005-03-31        NaN      NaN          NaN      NaN              NaN   NaN  \n",
       "2005-06-30        NaN      NaN          NaN      NaN              NaN   NaN  \n",
       "2005-09-30        NaN      NaN          NaN      NaN              NaN   NaN  \n",
       "2005-12-31        NaN      NaN          NaN      NaN              NaN   NaN  \n",
       "\n",
       "[5 rows x 344 columns]"
      ]
     },
     "execution_count": 11,
     "metadata": {},
     "output_type": "execute_result"
    }
   ],
   "source": [
    "modifications_per_authors_over_time = modifications_over_time.reset_index().pivot_table(\n",
    "    index=modifications_over_time['timestamp'], \n",
    "    columns=modifications_over_time['author'], \n",
    "    values='modifications_norm')\n",
    "modifications_per_authors_over_time.head()"
   ]
  },
  {
   "cell_type": "markdown",
   "metadata": {},
   "source": [
    "# Ugly visualization\n",
    "At this point, we could already plot the data with the built-in `plot` function of Pandas."
   ]
  },
  {
   "cell_type": "code",
   "execution_count": 12,
   "metadata": {},
   "outputs": [
    {
     "data": {
      "text/plain": [
       "<matplotlib.axes._subplots.AxesSubplot at 0x1e3297a5898>"
      ]
     },
     "execution_count": 12,
     "metadata": {},
     "output_type": "execute_result"
    },
    {
     "data": {
      "image/png": "[encoded data removed]",
      "text/plain": [
       "<matplotlib.figure.Figure at 0x1e327d549b0>"
      ]
     },
     "metadata": {},
     "output_type": "display_data"
    }
   ],
   "source": [
    "%matplotlib inline\n",
    "modifications_per_authors_over_time.plot(kind='area', legend=None, figsize=(12,4))"
   ]
  },
  {
   "cell_type": "markdown",
   "metadata": {},
   "source": [
    "But it doesn't look good at all :-/\n",
    "\n",
    "Let's bend the data in a way so that it fits into the Stream Graph D3 template!\n"
   ]
  },
  {
   "cell_type": "markdown",
   "metadata": {},
   "source": [
    "# Treat missing data\n",
    "The D3.js template that we are using needs a continuous series of timestamp data for each author. We are filling the existing `modifications_per_authors_over_time` DataFrame with the missing values. That means to add all quarters for all authors by introducing a new `time_range` index."
   ]
  },
  {
   "cell_type": "code",
   "execution_count": 13,
   "metadata": {},
   "outputs": [
    {
     "data": {
      "text/plain": [
       "DatetimeIndex(['2004-12-31', '2005-03-31', '2005-06-30', '2005-09-30',\n",
       "               '2005-12-31', '2006-03-31', '2006-06-30', '2006-09-30',\n",
       "               '2006-12-31', '2007-03-31', '2007-06-30', '2007-09-30',\n",
       "               '2007-12-31', '2008-03-31', '2008-06-30', '2008-09-30',\n",
       "               '2008-12-31', '2009-03-31', '2009-06-30', '2009-09-30',\n",
       "               '2009-12-31', '2010-03-31', '2010-06-30', '2010-09-30',\n",
       "               '2010-12-31', '2011-03-31', '2011-06-30', '2011-09-30',\n",
       "               '2011-12-31', '2012-03-31', '2012-06-30', '2012-09-30',\n",
       "               '2012-12-31', '2013-03-31', '2013-06-30', '2013-09-30',\n",
       "               '2013-12-31', '2014-03-31', '2014-06-30', '2014-09-30',\n",
       "               '2014-12-31', '2015-03-31', '2015-06-30', '2015-09-30',\n",
       "               '2015-12-31', '2016-03-31', '2016-06-30', '2016-09-30',\n",
       "               '2016-12-31', '2017-03-31', '2017-06-30', '2017-09-30',\n",
       "               '2017-12-31'],\n",
       "              dtype='datetime64[ns]', freq='Q-DEC')"
      ]
     },
     "execution_count": 13,
     "metadata": {},
     "output_type": "execute_result"
    }
   ],
   "source": [
    "time_range = pd.DatetimeIndex(\n",
    "    start=modifications_per_authors_over_time.index.min(),\n",
    "    end=modifications_per_authors_over_time.index.max(), \n",
    "    freq=TIME_FREQUENCY)\n",
    "time_range"
   ]
  },
  {
   "cell_type": "markdown",
   "metadata": {},
   "source": [
    "To combine the new index with our existing DataFrame, we have to reindex the existing DataFrame and transform the data format."
   ]
  },
  {
   "cell_type": "code",
   "execution_count": 14,
   "metadata": {},
   "outputs": [
    {
     "data": {
      "text/html": [
       "<div>\n",
       "<style>\n",
       "    .dataframe thead tr:only-child th {\n",
       "        text-align: right;\n",
       "    }\n",
       "\n",
       "    .dataframe thead th {\n",
       "        text-align: left;\n",
       "    }\n",
       "\n",
       "    .dataframe tbody tr th {\n",
       "        vertical-align: top;\n",
       "    }\n",
       "</style>\n",
       "<table border=\"1\" class=\"dataframe\">\n",
       "  <thead>\n",
       "    <tr style=\"text-align: right;\">\n",
       "      <th></th>\n",
       "      <th>author</th>\n",
       "      <th>level_1</th>\n",
       "      <th>0</th>\n",
       "    </tr>\n",
       "  </thead>\n",
       "  <tbody>\n",
       "    <tr>\n",
       "      <th>0</th>\n",
       "      <td>(dboulytchev@gmail.com)</td>\n",
       "      <td>2004-12-31</td>\n",
       "      <td>0.0</td>\n",
       "    </tr>\n",
       "    <tr>\n",
       "      <th>1</th>\n",
       "      <td>(dboulytchev@gmail.com)</td>\n",
       "      <td>2005-03-31</td>\n",
       "      <td>0.0</td>\n",
       "    </tr>\n",
       "    <tr>\n",
       "      <th>2</th>\n",
       "      <td>(dboulytchev@gmail.com)</td>\n",
       "      <td>2005-06-30</td>\n",
       "      <td>0.0</td>\n",
       "    </tr>\n",
       "    <tr>\n",
       "      <th>3</th>\n",
       "      <td>(dboulytchev@gmail.com)</td>\n",
       "      <td>2005-09-30</td>\n",
       "      <td>0.0</td>\n",
       "    </tr>\n",
       "    <tr>\n",
       "      <th>4</th>\n",
       "      <td>(dboulytchev@gmail.com)</td>\n",
       "      <td>2005-12-31</td>\n",
       "      <td>0.0</td>\n",
       "    </tr>\n",
       "  </tbody>\n",
       "</table>\n",
       "</div>"
      ],
      "text/plain": [
       "                    author    level_1    0\n",
       "0  (dboulytchev@gmail.com) 2004-12-31  0.0\n",
       "1  (dboulytchev@gmail.com) 2005-03-31  0.0\n",
       "2  (dboulytchev@gmail.com) 2005-06-30  0.0\n",
       "3  (dboulytchev@gmail.com) 2005-09-30  0.0\n",
       "4  (dboulytchev@gmail.com) 2005-12-31  0.0"
      ]
     },
     "execution_count": 14,
     "metadata": {},
     "output_type": "execute_result"
    }
   ],
   "source": [
    "full_history = pd.DataFrame(\n",
    "    modifications_per_authors_over_time.reindex(time_range).fillna(0).unstack().reset_index()\n",
    ")\n",
    "full_history.head()"
   ]
  },
  {
   "cell_type": "markdown",
   "metadata": {},
   "source": [
    "Then we adjust the column names and ordering to the given CSV format for the D3 template and export the data into a CSV file."
   ]
  },
  {
   "cell_type": "code",
   "execution_count": 15,
   "metadata": {},
   "outputs": [
    {
     "data": {
      "text/html": [
       "<div>\n",
       "<style>\n",
       "    .dataframe thead tr:only-child th {\n",
       "        text-align: right;\n",
       "    }\n",
       "\n",
       "    .dataframe thead th {\n",
       "        text-align: left;\n",
       "    }\n",
       "\n",
       "    .dataframe tbody tr th {\n",
       "        vertical-align: top;\n",
       "    }\n",
       "</style>\n",
       "<table border=\"1\" class=\"dataframe\">\n",
       "  <thead>\n",
       "    <tr style=\"text-align: right;\">\n",
       "      <th></th>\n",
       "      <th>key</th>\n",
       "      <th>value</th>\n",
       "      <th>date</th>\n",
       "    </tr>\n",
       "  </thead>\n",
       "  <tbody>\n",
       "    <tr>\n",
       "      <th>0</th>\n",
       "      <td>(dboulytchev@gmail.com)</td>\n",
       "      <td>0.0</td>\n",
       "      <td>2004-12-31</td>\n",
       "    </tr>\n",
       "    <tr>\n",
       "      <th>1</th>\n",
       "      <td>(dboulytchev@gmail.com)</td>\n",
       "      <td>0.0</td>\n",
       "      <td>2005-03-31</td>\n",
       "    </tr>\n",
       "    <tr>\n",
       "      <th>2</th>\n",
       "      <td>(dboulytchev@gmail.com)</td>\n",
       "      <td>0.0</td>\n",
       "      <td>2005-06-30</td>\n",
       "    </tr>\n",
       "    <tr>\n",
       "      <th>3</th>\n",
       "      <td>(dboulytchev@gmail.com)</td>\n",
       "      <td>0.0</td>\n",
       "      <td>2005-09-30</td>\n",
       "    </tr>\n",
       "    <tr>\n",
       "      <th>4</th>\n",
       "      <td>(dboulytchev@gmail.com)</td>\n",
       "      <td>0.0</td>\n",
       "      <td>2005-12-31</td>\n",
       "    </tr>\n",
       "  </tbody>\n",
       "</table>\n",
       "</div>"
      ],
      "text/plain": [
       "                       key  value       date\n",
       "0  (dboulytchev@gmail.com)    0.0 2004-12-31\n",
       "1  (dboulytchev@gmail.com)    0.0 2005-03-31\n",
       "2  (dboulytchev@gmail.com)    0.0 2005-06-30\n",
       "3  (dboulytchev@gmail.com)    0.0 2005-09-30\n",
       "4  (dboulytchev@gmail.com)    0.0 2005-12-31"
      ]
     },
     "execution_count": 15,
     "metadata": {},
     "output_type": "execute_result"
    }
   ],
   "source": [
    "full_history.columns = [\"key\", \"date\", \"value\"]\n",
    "full_history = full_history.reindex(columns=[\"key\", \"value\", \"date\"])\n",
    "full_history.to_csv(FILENAME_PREFIX + \"modifications\" + FILENAME_SUFFIX + \".csv\", index=False)\n",
    "full_history.head()"
   ]
  },
  {
   "cell_type": "markdown",
   "metadata": {},
   "source": [
    "Because we use a template in this example, we simply copy it and replace the CSV filename variable with the filename from above."
   ]
  },
  {
   "cell_type": "code",
   "execution_count": 16,
   "metadata": {},
   "outputs": [],
   "source": [
    "with open(\"vis/interactive_streamgraph_template.html\", \"r\") as template:\n",
    "    content = template.read()\n",
    "    content = content.replace(\"${FILENAME}\", \"modifications\" + FILENAME_SUFFIX + \".csv\")\n",
    "    with open(FILENAME_PREFIX + \"modifications\" + FILENAME_SUFFIX + \".html\", \"w\") as output_file:\n",
    "        output_file.write(content)"
   ]
  },
  {
   "cell_type": "markdown",
   "metadata": {},
   "source": [
    "And that's it!"
   ]
  },
  {
   "cell_type": "markdown",
   "metadata": {},
   "source": [
    "# Result 1: Modifications over time\n",
    "\n",
    "Here is the Stream Graph for the IntelliJ Community GitHub Project:\n",
    "\n",
    "![](https://feststelltaste.github.io/software-analytics/notebooks/resources/streamgraph_modifications.jpg)\n",
    "\n",
    "The visualization is also interactive. You can hover over one color to see a committer's \"modifications trail\".\n",
    "\n",
    "![](https://feststelltaste.github.io/software-analytics/notebooks/resources/streamgraph_modifications_highlighted.jpg)\n",
    "\n",
    "You can find the interactive Stream Graph [here](https://feststelltaste.github.io/software-analytics/notebooks/vis/interactive_streamgraph/modifications_intellij-community_Q.html) (but beware, it loads 0.5 MB of data. This has to be improved in the future)."
   ]
  },
  {
   "cell_type": "markdown",
   "metadata": {
    "collapsed": true
   },
   "source": [
    "# Result 2: Committers over time\n",
    "Another interesting visualization with Stream Graphs is the number of committers over time. With this, you can see how the developer fluctuation in your project was.\n",
    "\n",
    "To achieve this, we set the number 1 for each committer that has contributed code in a quarter. Because we are <strike>lazy</strike> efficient, we reuse the `value` column for that."
   ]
  },
  {
   "cell_type": "code",
   "execution_count": 17,
   "metadata": {},
   "outputs": [
    {
     "data": {
      "text/html": [
       "<div>\n",
       "<style>\n",
       "    .dataframe thead tr:only-child th {\n",
       "        text-align: right;\n",
       "    }\n",
       "\n",
       "    .dataframe thead th {\n",
       "        text-align: left;\n",
       "    }\n",
       "\n",
       "    .dataframe tbody tr th {\n",
       "        vertical-align: top;\n",
       "    }\n",
       "</style>\n",
       "<table border=\"1\" class=\"dataframe\">\n",
       "  <thead>\n",
       "    <tr style=\"text-align: right;\">\n",
       "      <th></th>\n",
       "      <th>key</th>\n",
       "      <th>value</th>\n",
       "      <th>date</th>\n",
       "    </tr>\n",
       "  </thead>\n",
       "  <tbody>\n",
       "    <tr>\n",
       "      <th>0</th>\n",
       "      <td>(dboulytchev@gmail.com)</td>\n",
       "      <td>0.0</td>\n",
       "      <td>2004-12-31</td>\n",
       "    </tr>\n",
       "    <tr>\n",
       "      <th>1</th>\n",
       "      <td>(dboulytchev@gmail.com)</td>\n",
       "      <td>0.0</td>\n",
       "      <td>2005-03-31</td>\n",
       "    </tr>\n",
       "    <tr>\n",
       "      <th>2</th>\n",
       "      <td>(dboulytchev@gmail.com)</td>\n",
       "      <td>0.0</td>\n",
       "      <td>2005-06-30</td>\n",
       "    </tr>\n",
       "    <tr>\n",
       "      <th>3</th>\n",
       "      <td>(dboulytchev@gmail.com)</td>\n",
       "      <td>0.0</td>\n",
       "      <td>2005-09-30</td>\n",
       "    </tr>\n",
       "    <tr>\n",
       "      <th>4</th>\n",
       "      <td>(dboulytchev@gmail.com)</td>\n",
       "      <td>0.0</td>\n",
       "      <td>2005-12-31</td>\n",
       "    </tr>\n",
       "  </tbody>\n",
       "</table>\n",
       "</div>"
      ],
      "text/plain": [
       "                       key  value       date\n",
       "0  (dboulytchev@gmail.com)    0.0 2004-12-31\n",
       "1  (dboulytchev@gmail.com)    0.0 2005-03-31\n",
       "2  (dboulytchev@gmail.com)    0.0 2005-06-30\n",
       "3  (dboulytchev@gmail.com)    0.0 2005-09-30\n",
       "4  (dboulytchev@gmail.com)    0.0 2005-12-31"
      ]
     },
     "execution_count": 17,
     "metadata": {},
     "output_type": "execute_result"
    }
   ],
   "source": [
    "full_history_committers = full_history.copy()\n",
    "full_history_committers['value'] = full_history_committers['value'].apply(lambda x: min(x,1))\n",
    "full_history_committers.to_csv(FILENAME_PREFIX + \"committer\" + FILENAME_SUFFIX + \".csv\", index=False)\n",
    "\n",
    "with open(\"vis/interactive_streamgraph_template.html\", \"r\") as template:\n",
    "    content = template.read()\n",
    "    content = content.replace(\"${FILENAME}\", \"committer\" + FILENAME_SUFFIX + \".csv\")\n",
    "    with open(FILENAME_PREFIX + \"committer\" + FILENAME_SUFFIX + \".html\", \"w\") as output_file:\n",
    "        output_file.write(content)\n",
    "        \n",
    "full_history_committers.head()"
   ]
  },
  {
   "cell_type": "markdown",
   "metadata": {},
   "source": [
    "Here you can see the results &ndash; the number of active committers over time:\n",
    "\n",
    "![](https://feststelltaste.github.io/software-analytics/notebooks/resources/streamgraph_committer.jpg)\n",
    "\n",
    "Again, you can have a look at one committer by hovering over the Stream Graph:\n",
    "\n",
    "![](https://feststelltaste.github.io/software-analytics/notebooks/resources/streamgraph_committer_highlighted.jpg)\n",
    "\n",
    "You can find the interactive version of it [here](https://feststelltaste.github.io/software-analytics/notebooks/vis/interactive_streamgraph/committer_intellij-community_Q.html) (again beware, loads 0.5 MB currently)."
   ]
  },
  {
   "cell_type": "markdown",
   "metadata": {},
   "source": [
    "# Conclusion\n",
    "Stream Graphs are a good visualization technique for chronological data. The interactive feature of highlighting individual is a nice bonus that enables a more detailed view of the data.\n",
    "\n",
    "Further optimizations should be made regarding the used template: The data format needs a continuous stream of data that leads to huge data files. Additionally, the color schema is hard-coded but should also be dynamically generated.\n",
    "\n",
    "Overall, Pandas and the Stream Graph D3 template give you a quick way for visualizing Git repository contributions :-)"
   ]
  }
 ],
 "metadata": {
  "kernelspec": {
   "display_name": "Python 3",
   "language": "python",
   "name": "python3"
  },
  "language_info": {
   "codemirror_mode": {
    "name": "ipython",
    "version": 3
   },
   "file_extension": ".py",
   "mimetype": "text/x-python",
   "name": "python",
   "nbconvert_exporter": "python",
   "pygments_lexer": "ipython3",
   "version": "3.6.1"
  }
 },
 "nbformat": 4,
 "nbformat_minor": 2
}
