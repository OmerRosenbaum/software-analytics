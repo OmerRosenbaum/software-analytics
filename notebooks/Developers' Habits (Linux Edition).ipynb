{
 "cells": [
  {
   "cell_type": "markdown",
   "metadata": {},
   "source": [
    "# Introduction\n",
    "The nice thing about reproducible data analysis (like I'm trying to do here on my blog) is, well, that you can quickly reproduce or even replicated an analysis.\n",
    "\n",
    "So, in this blog post / notebook, I transfer the analysis of [\"Developers' Habits (IntelliJ Edition)\"](https://www.feststelltaste.de/developers-habits-intellij-edition/) to another project: The famous open-source operating system Linux. Again, we want to take a look at how much information you can extract from a simple [Git log](https://git-scm.com/docs/git-log) output. This time we want to know\n",
    "\n",
    "* where the developers come from\n",
    "* on which weekdays the developers work\n",
    "* what the normal working hours are and\n",
    "* if there is any sight of overtime periods.\n",
    "\n",
    "Because we use an open approach for our analysis, we are able to respond to newly created insights. Again, we use [Pandas](https://pandas.pydata.org/) as data analysis toolkit to accomplish these tasks and execute our code in a [Jypter notebook](http://jupyter.org/) (find the [original on GitHub](https://github.com/feststelltaste/software-analytics/blob/master/notebooks/Developers'%20Habits%20(Linux%20Edition).ipynb)). We also see some refactorings by leveraging more Pandas date functionality as well."
   ]
  },
  {
   "cell_type": "markdown",
   "metadata": {},
   "source": [
    "# Gaining the data\n",
    "\n",
    "I've already described the details on how to get the necessary data in the [https://www.feststelltaste.de/developers-habits-intellij-edition/](previous blog post). What we have at hand is a nice file with the following content:\n",
    "\n",
    "```\n",
    "1514531161 -0800\tLinus Torvalds\ttorvalds@linux-foundation.org\n",
    "1514489303 -0500\tDavid S. Miller\tdavem@davemloft.net\n",
    "1514487644 -0800\tTom Herbert\ttom@quantonium.net\n",
    "1514487643 -0800\tTom Herbert\ttom@quantonium.net\n",
    "1514482693 -0500\tWillem de Bruijn\twillemb@google.com\n",
    "...\n",
    "```\n",
    "\n",
    "It includes the UNIX timestamp (in seconds since epoch), a whitespace, the time zone (where the authors live in), a tab separator, the name of the author, a tab and the email address of the author. The whole log shows 13 years of Linux development that is available on [GitHub repository mirror](https://github.com/torvalds/linux)."
   ]
  },
  {
   "cell_type": "markdown",
   "metadata": {},
   "source": [
    "# Wrangling the raw data"
   ]
  },
  {
   "cell_type": "markdown",
   "metadata": {},
   "source": [
    "We import the data by using Pandas' `read_csv` function and the appropriate parameters. We copy only the needed data from the `raw` dataset into the new DataFrame `git_authors`."
   ]
  },
  {
   "cell_type": "code",
   "execution_count": 1,
   "metadata": {},
   "outputs": [
    {
     "data": {
      "text/html": [
       "<div>\n",
       "<style>\n",
       "    .dataframe thead tr:only-child th {\n",
       "        text-align: right;\n",
       "    }\n",
       "\n",
       "    .dataframe thead th {\n",
       "        text-align: left;\n",
       "    }\n",
       "\n",
       "    .dataframe tbody tr th {\n",
       "        vertical-align: top;\n",
       "    }\n",
       "</style>\n",
       "<table border=\"1\" class=\"dataframe\">\n",
       "  <thead>\n",
       "    <tr style=\"text-align: right;\">\n",
       "      <th></th>\n",
       "      <th>timestamp_local</th>\n",
       "      <th>timezone</th>\n",
       "      <th>author</th>\n",
       "      <th>email</th>\n",
       "    </tr>\n",
       "  </thead>\n",
       "  <tbody>\n",
       "    <tr>\n",
       "      <th>0</th>\n",
       "      <td>2017-12-31 14:47:43</td>\n",
       "      <td>-0800</td>\n",
       "      <td>Linus Torvalds</td>\n",
       "      <td>torvalds@linux-foundation.org</td>\n",
       "    </tr>\n",
       "    <tr>\n",
       "      <th>1</th>\n",
       "      <td>2017-12-31 13:13:56</td>\n",
       "      <td>-0800</td>\n",
       "      <td>Linus Torvalds</td>\n",
       "      <td>torvalds@linux-foundation.org</td>\n",
       "    </tr>\n",
       "    <tr>\n",
       "      <th>2</th>\n",
       "      <td>2017-12-31 13:03:05</td>\n",
       "      <td>-0800</td>\n",
       "      <td>Linus Torvalds</td>\n",
       "      <td>torvalds@linux-foundation.org</td>\n",
       "    </tr>\n",
       "    <tr>\n",
       "      <th>3</th>\n",
       "      <td>2017-12-31 12:30:34</td>\n",
       "      <td>-0800</td>\n",
       "      <td>Linus Torvalds</td>\n",
       "      <td>torvalds@linux-foundation.org</td>\n",
       "    </tr>\n",
       "    <tr>\n",
       "      <th>4</th>\n",
       "      <td>2017-12-31 12:29:02</td>\n",
       "      <td>-0800</td>\n",
       "      <td>Linus Torvalds</td>\n",
       "      <td>torvalds@linux-foundation.org</td>\n",
       "    </tr>\n",
       "  </tbody>\n",
       "</table>\n",
       "</div>"
      ],
      "text/plain": [
       "      timestamp_local timezone          author                          email\n",
       "0 2017-12-31 14:47:43    -0800  Linus Torvalds  torvalds@linux-foundation.org\n",
       "1 2017-12-31 13:13:56    -0800  Linus Torvalds  torvalds@linux-foundation.org\n",
       "2 2017-12-31 13:03:05    -0800  Linus Torvalds  torvalds@linux-foundation.org\n",
       "3 2017-12-31 12:30:34    -0800  Linus Torvalds  torvalds@linux-foundation.org\n",
       "4 2017-12-31 12:29:02    -0800  Linus Torvalds  torvalds@linux-foundation.org"
      ]
     },
     "execution_count": 1,
     "metadata": {},
     "output_type": "execute_result"
    }
   ],
   "source": [
    "import pandas as pd\n",
    "\n",
    "raw = pd.read_csv(\n",
    "    r'../../linux/git_timestamp_author_email.log',\n",
    "    sep=\"\\t\",\n",
    "    encoding=\"latin-1\",\n",
    "    header=None,\n",
    "    names=['unix_timestamp', 'author', 'email'])\n",
    "\n",
    "# create separate columns for time data\n",
    "raw[['timestamp', 'timezone']] = raw['unix_timestamp'].str.split(\" \", expand=True)\n",
    "# convert timestamp data\n",
    "raw['timestamp'] = pd.to_datetime(raw['timestamp'], unit=\"s\")\n",
    "# add hourly offset data\n",
    "raw['timezone_offset'] = pd.to_numeric(raw['timezone']) / 100.0\n",
    "# calculate the local time\n",
    "raw[\"timestamp_local\"] = raw['timestamp'] + pd.to_timedelta(raw['timezone_offset'], unit='h')\n",
    "\n",
    "# filter out wrong timestamps\n",
    "raw = raw[\n",
    "    (raw['timestamp'] >= raw.iloc[-1]['timestamp']) &\n",
    "    (raw['timestamp'] <= pd.to_datetime('today'))]\n",
    "\n",
    "git_authors = raw[['timestamp_local', 'timezone', 'author', 'email']].copy()\n",
    "git_authors.head()"
   ]
  },
  {
   "cell_type": "markdown",
   "metadata": {},
   "source": [
    "# Refining the dataset\n",
    "In this section, we add some additional time-based information to the `DataFrame` to accomplish our tasks."
   ]
  },
  {
   "cell_type": "markdown",
   "metadata": {},
   "source": [
    "## Adding weekdays\n",
    "First, we add the information about the weekdays based on the `dayofweek` information of the `timestamp_local` column. Because we want to preserve the order of the weekdays, we convert the `weekday` entries to a `Categorial` data type, too.\n",
    "\n",
    "Note: We can do this so easily because we have such a large amount of data so that every weekday will occur. If we can't be sure to have a continuous sequence of weekdays, we have to use something like the `pd.Grouper` method to fill in missing weekdays."
   ]
  },
  {
   "cell_type": "code",
   "execution_count": 2,
   "metadata": {},
   "outputs": [
    {
     "data": {
      "text/html": [
       "<div>\n",
       "<style>\n",
       "    .dataframe thead tr:only-child th {\n",
       "        text-align: right;\n",
       "    }\n",
       "\n",
       "    .dataframe thead th {\n",
       "        text-align: left;\n",
       "    }\n",
       "\n",
       "    .dataframe tbody tr th {\n",
       "        vertical-align: top;\n",
       "    }\n",
       "</style>\n",
       "<table border=\"1\" class=\"dataframe\">\n",
       "  <thead>\n",
       "    <tr style=\"text-align: right;\">\n",
       "      <th></th>\n",
       "      <th>timestamp_local</th>\n",
       "      <th>timezone</th>\n",
       "      <th>author</th>\n",
       "      <th>email</th>\n",
       "      <th>weekday</th>\n",
       "    </tr>\n",
       "  </thead>\n",
       "  <tbody>\n",
       "    <tr>\n",
       "      <th>0</th>\n",
       "      <td>2017-12-31 14:47:43</td>\n",
       "      <td>-0800</td>\n",
       "      <td>Linus Torvalds</td>\n",
       "      <td>torvalds@linux-foundation.org</td>\n",
       "      <td>Sunday</td>\n",
       "    </tr>\n",
       "    <tr>\n",
       "      <th>1</th>\n",
       "      <td>2017-12-31 13:13:56</td>\n",
       "      <td>-0800</td>\n",
       "      <td>Linus Torvalds</td>\n",
       "      <td>torvalds@linux-foundation.org</td>\n",
       "      <td>Sunday</td>\n",
       "    </tr>\n",
       "    <tr>\n",
       "      <th>2</th>\n",
       "      <td>2017-12-31 13:03:05</td>\n",
       "      <td>-0800</td>\n",
       "      <td>Linus Torvalds</td>\n",
       "      <td>torvalds@linux-foundation.org</td>\n",
       "      <td>Sunday</td>\n",
       "    </tr>\n",
       "    <tr>\n",
       "      <th>3</th>\n",
       "      <td>2017-12-31 12:30:34</td>\n",
       "      <td>-0800</td>\n",
       "      <td>Linus Torvalds</td>\n",
       "      <td>torvalds@linux-foundation.org</td>\n",
       "      <td>Sunday</td>\n",
       "    </tr>\n",
       "    <tr>\n",
       "      <th>4</th>\n",
       "      <td>2017-12-31 12:29:02</td>\n",
       "      <td>-0800</td>\n",
       "      <td>Linus Torvalds</td>\n",
       "      <td>torvalds@linux-foundation.org</td>\n",
       "      <td>Sunday</td>\n",
       "    </tr>\n",
       "  </tbody>\n",
       "</table>\n",
       "</div>"
      ],
      "text/plain": [
       "      timestamp_local timezone          author                          email  \\\n",
       "0 2017-12-31 14:47:43    -0800  Linus Torvalds  torvalds@linux-foundation.org   \n",
       "1 2017-12-31 13:13:56    -0800  Linus Torvalds  torvalds@linux-foundation.org   \n",
       "2 2017-12-31 13:03:05    -0800  Linus Torvalds  torvalds@linux-foundation.org   \n",
       "3 2017-12-31 12:30:34    -0800  Linus Torvalds  torvalds@linux-foundation.org   \n",
       "4 2017-12-31 12:29:02    -0800  Linus Torvalds  torvalds@linux-foundation.org   \n",
       "\n",
       "  weekday  \n",
       "0  Sunday  \n",
       "1  Sunday  \n",
       "2  Sunday  \n",
       "3  Sunday  \n",
       "4  Sunday  "
      ]
     },
     "execution_count": 2,
     "metadata": {},
     "output_type": "execute_result"
    }
   ],
   "source": [
    "import calendar\n",
    "\n",
    "git_authors['weekday'] = git_authors[\"timestamp_local\"].dt.weekday_name\n",
    "git_authors['weekday'] = pd.Categorical(git_authors['weekday'], categories=calendar.day_name, ordered=True)\n",
    "git_authors.head()"
   ]
  },
  {
   "cell_type": "markdown",
   "metadata": {},
   "source": [
    "## Adding working hours\n",
    "For the working hour analysis, we extract the hour information from the `timestamp_local` columns. Note: Again, we assume that every hour is in the dataset."
   ]
  },
  {
   "cell_type": "code",
   "execution_count": 3,
   "metadata": {},
   "outputs": [
    {
     "data": {
      "text/html": [
       "<div>\n",
       "<style>\n",
       "    .dataframe thead tr:only-child th {\n",
       "        text-align: right;\n",
       "    }\n",
       "\n",
       "    .dataframe thead th {\n",
       "        text-align: left;\n",
       "    }\n",
       "\n",
       "    .dataframe tbody tr th {\n",
       "        vertical-align: top;\n",
       "    }\n",
       "</style>\n",
       "<table border=\"1\" class=\"dataframe\">\n",
       "  <thead>\n",
       "    <tr style=\"text-align: right;\">\n",
       "      <th></th>\n",
       "      <th>timestamp_local</th>\n",
       "      <th>timezone</th>\n",
       "      <th>author</th>\n",
       "      <th>email</th>\n",
       "      <th>weekday</th>\n",
       "      <th>hour</th>\n",
       "    </tr>\n",
       "  </thead>\n",
       "  <tbody>\n",
       "    <tr>\n",
       "      <th>0</th>\n",
       "      <td>2017-12-31 14:47:43</td>\n",
       "      <td>-0800</td>\n",
       "      <td>Linus Torvalds</td>\n",
       "      <td>torvalds@linux-foundation.org</td>\n",
       "      <td>Sunday</td>\n",
       "      <td>14</td>\n",
       "    </tr>\n",
       "    <tr>\n",
       "      <th>1</th>\n",
       "      <td>2017-12-31 13:13:56</td>\n",
       "      <td>-0800</td>\n",
       "      <td>Linus Torvalds</td>\n",
       "      <td>torvalds@linux-foundation.org</td>\n",
       "      <td>Sunday</td>\n",
       "      <td>13</td>\n",
       "    </tr>\n",
       "    <tr>\n",
       "      <th>2</th>\n",
       "      <td>2017-12-31 13:03:05</td>\n",
       "      <td>-0800</td>\n",
       "      <td>Linus Torvalds</td>\n",
       "      <td>torvalds@linux-foundation.org</td>\n",
       "      <td>Sunday</td>\n",
       "      <td>13</td>\n",
       "    </tr>\n",
       "    <tr>\n",
       "      <th>3</th>\n",
       "      <td>2017-12-31 12:30:34</td>\n",
       "      <td>-0800</td>\n",
       "      <td>Linus Torvalds</td>\n",
       "      <td>torvalds@linux-foundation.org</td>\n",
       "      <td>Sunday</td>\n",
       "      <td>12</td>\n",
       "    </tr>\n",
       "    <tr>\n",
       "      <th>4</th>\n",
       "      <td>2017-12-31 12:29:02</td>\n",
       "      <td>-0800</td>\n",
       "      <td>Linus Torvalds</td>\n",
       "      <td>torvalds@linux-foundation.org</td>\n",
       "      <td>Sunday</td>\n",
       "      <td>12</td>\n",
       "    </tr>\n",
       "  </tbody>\n",
       "</table>\n",
       "</div>"
      ],
      "text/plain": [
       "      timestamp_local timezone          author                          email  \\\n",
       "0 2017-12-31 14:47:43    -0800  Linus Torvalds  torvalds@linux-foundation.org   \n",
       "1 2017-12-31 13:13:56    -0800  Linus Torvalds  torvalds@linux-foundation.org   \n",
       "2 2017-12-31 13:03:05    -0800  Linus Torvalds  torvalds@linux-foundation.org   \n",
       "3 2017-12-31 12:30:34    -0800  Linus Torvalds  torvalds@linux-foundation.org   \n",
       "4 2017-12-31 12:29:02    -0800  Linus Torvalds  torvalds@linux-foundation.org   \n",
       "\n",
       "  weekday  hour  \n",
       "0  Sunday    14  \n",
       "1  Sunday    13  \n",
       "2  Sunday    13  \n",
       "3  Sunday    12  \n",
       "4  Sunday    12  "
      ]
     },
     "execution_count": 3,
     "metadata": {},
     "output_type": "execute_result"
    }
   ],
   "source": [
    "git_authors['hour'] = git_authors['timestamp_local'].dt.hour\n",
    "git_authors.head()"
   ]
  },
  {
   "cell_type": "markdown",
   "metadata": {},
   "source": [
    "# Analyzing the data\n",
    "With the prepared `git_authors` DataFrame, we are now able to deliver insights into the past years of development."
   ]
  },
  {
   "cell_type": "markdown",
   "metadata": {},
   "source": [
    "## Developers' timezones\n",
    "First, we want to know where the developers roughly live. For this, we plot the values of the `timezone` columns as a pie chart."
   ]
  },
  {
   "cell_type": "code",
   "execution_count": 4,
   "metadata": {},
   "outputs": [
    {
     "data": {
      "text/plain": [
       "<matplotlib.axes._subplots.AxesSubplot at 0x1d59d9ec5f8>"
      ]
     },
     "execution_count": 4,
     "metadata": {},
     "output_type": "execute_result"
    },
    {
     "data": {
      "image/png": "[encoded data removed]",
      "text/plain": [
       "<matplotlib.figure.Figure at 0x1d59d9e4c18>"
      ]
     },
     "metadata": {},
     "output_type": "display_data"
    }
   ],
   "source": [
    "%matplotlib inline\n",
    "timezones = git_authors['timezone'].value_counts()\n",
    "timezones.plot(kind='pie', figsize=(7,7), title=\"Developer's timezones\", label=\"\")"
   ]
  },
  {
   "cell_type": "markdown",
   "metadata": {},
   "source": [
    "**Result**\n",
    "\n",
    "The majority of the developers' commit from the time zones +0100, +0200 and -0700. With most commits coming probably from the West Coast of the USA, this might just be an indicator that [Linus Torvalds](https://en.wikipedia.org/wiki/Linus_Torvalds) lives there ;-) . But there are also many commits from developers within Western Europe."
   ]
  },
  {
   "cell_type": "markdown",
   "metadata": {},
   "source": [
    "## Weekdays with the most commits\n",
    "\n",
    "Next, we want to know on which days the developers are working during the week. We count by the weekdays but avoid sorting the results to keep the order along our categories."
   ]
  },
  {
   "cell_type": "code",
   "execution_count": 5,
   "metadata": {},
   "outputs": [
    {
     "data": {
      "text/plain": [
       "Monday       124296\n",
       "Tuesday      131690\n",
       "Wednesday    131019\n",
       "Thursday     127097\n",
       "Friday       117635\n",
       "Saturday      44877\n",
       "Sunday        46600\n",
       "Name: weekday, dtype: int64"
      ]
     },
     "execution_count": 5,
     "metadata": {},
     "output_type": "execute_result"
    }
   ],
   "source": [
    "commits_per_weekday = git_authors['weekday'].value_counts(sort=False)\n",
    "commits_per_weekday"
   ]
  },
  {
   "cell_type": "markdown",
   "metadata": {},
   "source": [
    "We plot the result as a standard bar chart."
   ]
  },
  {
   "cell_type": "code",
   "execution_count": 6,
   "metadata": {},
   "outputs": [
    {
     "data": {
      "text/plain": [
       "<matplotlib.text.Text at 0x1d59dcc0f98>"
      ]
     },
     "execution_count": 6,
     "metadata": {},
     "output_type": "execute_result"
    },
    {
     "data": {
      "image/png": "[encoded data removed]",
      "text/plain": [
       "<matplotlib.figure.Figure at 0x1d59dc98160>"
      ]
     },
     "metadata": {},
     "output_type": "display_data"
    }
   ],
   "source": [
    "ax = commits_per_weekday.plot(kind='bar', title=\"Commits per weekday\")\n",
    "ax.set_xlabel('weekday')\n",
    "ax.set_ylabel('# commits')"
   ]
  },
  {
   "cell_type": "markdown",
   "metadata": {},
   "source": [
    "**Result:** \n",
    "\n",
    "Most of the commits occur during normal working days with a slight peak on Wednesday. There are relative few commits happening on weekends."
   ]
  },
  {
   "cell_type": "markdown",
   "metadata": {},
   "source": [
    "## Working behavior of the main contributor\n",
    "It would be very interesting and easy to see when Linus Torvalds (the main contributor to Linux) is working. But we won't do that because the yet unwritten codex of Software Analytics does tell us that it's not OK to analyze the behaviour of a single person's based on such uncleaned data as we have it here."
   ]
  },
  {
   "cell_type": "markdown",
   "metadata": {},
   "source": [
    "## Usual working hours\n",
    "To find out about the working habits of the contributors, we group the commits by `hour` and count the entries (in this case we choose `author`) to see if there are any irregularities."
   ]
  },
  {
   "cell_type": "code",
   "execution_count": 7,
   "metadata": {},
   "outputs": [
    {
     "data": {
      "text/plain": [
       "hour\n",
       "0    19533\n",
       "1    15044\n",
       "2    10420\n",
       "3     7000\n",
       "4     6068\n",
       "Name: author, dtype: int64"
      ]
     },
     "execution_count": 7,
     "metadata": {},
     "output_type": "execute_result"
    }
   ],
   "source": [
    "working_hours = git_authors.groupby(['hour'])['author'].count()\n",
    "working_hours.head()"
   ]
  },
  {
   "cell_type": "markdown",
   "metadata": {},
   "source": [
    "Again, we plot the results with a standard bar chart."
   ]
  },
  {
   "cell_type": "code",
   "execution_count": 8,
   "metadata": {},
   "outputs": [
    {
     "data": {
      "text/plain": [
       "<matplotlib.text.Text at 0x1d59dc76b38>"
      ]
     },
     "execution_count": 8,
     "metadata": {},
     "output_type": "execute_result"
    },
    {
     "data": {
      "image/png": "[encoded data removed]",
      "text/plain": [
       "<matplotlib.figure.Figure at 0x1d59ddd96a0>"
      ]
     },
     "metadata": {},
     "output_type": "display_data"
    }
   ],
   "source": [
    "ax = working_hours.plot(kind='bar')\n",
    "ax.set_title(\"Distribution of working hours\")\n",
    "ax.yaxis.set_label_text(\"# commits\")\n",
    "ax.xaxis.set_label_text(\"hour\")"
   ]
  },
  {
   "cell_type": "markdown",
   "metadata": {},
   "source": [
    "**Result**\n",
    "\n",
    "The distribution of the working hours is really interesting one. First, you can clearly see that there is a dent around 12:00. So this might be an indicator that developers have lunch at regular times (which is a good thing IMHO). Another not so typical result is the slight rise after 20:00. This could be interpreted as the development activity of free-time developers that code for Linux after their day-time job. Nevertheless, most of the developers seem to get a decent amount of sleep indicated by low commit activity from 1:00 to 7:00 :-D"
   ]
  },
  {
   "cell_type": "markdown",
   "metadata": {},
   "source": [
    "## Signs of overtime \n",
    "\n",
    "At last, we have a look at possible overtime periods by creating a little model. We first group all commits on a weekly basis per authors. As grouping function, we choose `max()` to get the hour where each author committed at latest per week."
   ]
  },
  {
   "cell_type": "code",
   "execution_count": 9,
   "metadata": {},
   "outputs": [
    {
     "data": {
      "text/html": [
       "<div>\n",
       "<style>\n",
       "    .dataframe thead tr:only-child th {\n",
       "        text-align: right;\n",
       "    }\n",
       "\n",
       "    .dataframe thead th {\n",
       "        text-align: left;\n",
       "    }\n",
       "\n",
       "    .dataframe tbody tr th {\n",
       "        vertical-align: top;\n",
       "    }\n",
       "</style>\n",
       "<table border=\"1\" class=\"dataframe\">\n",
       "  <thead>\n",
       "    <tr style=\"text-align: right;\">\n",
       "      <th></th>\n",
       "      <th></th>\n",
       "      <th>hour</th>\n",
       "    </tr>\n",
       "    <tr>\n",
       "      <th>timestamp_local</th>\n",
       "      <th>author</th>\n",
       "      <th></th>\n",
       "    </tr>\n",
       "  </thead>\n",
       "  <tbody>\n",
       "    <tr>\n",
       "      <th rowspan=\"5\" valign=\"top\">2005-04-17</th>\n",
       "      <th>Adrian Bunk</th>\n",
       "      <td>15</td>\n",
       "    </tr>\n",
       "    <tr>\n",
       "      <th>Alexander Nyberg</th>\n",
       "      <td>15</td>\n",
       "    </tr>\n",
       "    <tr>\n",
       "      <th>Andi Kleen</th>\n",
       "      <td>15</td>\n",
       "    </tr>\n",
       "    <tr>\n",
       "      <th>Andrea Arcangeli</th>\n",
       "      <td>15</td>\n",
       "    </tr>\n",
       "    <tr>\n",
       "      <th>Andrew Vasquez</th>\n",
       "      <td>15</td>\n",
       "    </tr>\n",
       "  </tbody>\n",
       "</table>\n",
       "</div>"
      ],
      "text/plain": [
       "                                  hour\n",
       "timestamp_local author                \n",
       "2005-04-17      Adrian Bunk         15\n",
       "                Alexander Nyberg    15\n",
       "                Andi Kleen          15\n",
       "                Andrea Arcangeli    15\n",
       "                Andrew Vasquez      15"
      ]
     },
     "execution_count": 9,
     "metadata": {},
     "output_type": "execute_result"
    }
   ],
   "source": [
    "latest_hour_per_week  = git_authors.groupby(\n",
    "    [\n",
    "        pd.Grouper(key='timestamp_local', freq='1w'), \n",
    "        'author']\n",
    ")[['hour']].max()\n",
    "\n",
    "latest_hour_per_week.head()"
   ]
  },
  {
   "cell_type": "markdown",
   "metadata": {},
   "source": [
    "Next, we want to know if there were any stressful time periods that forced the developers to work overtime over a longer period of time. We calculate the mean of all late stays of all authors for each week."
   ]
  },
  {
   "cell_type": "code",
   "execution_count": 10,
   "metadata": {},
   "outputs": [
    {
     "data": {
      "text/html": [
       "<div>\n",
       "<style>\n",
       "    .dataframe thead tr:only-child th {\n",
       "        text-align: right;\n",
       "    }\n",
       "\n",
       "    .dataframe thead th {\n",
       "        text-align: left;\n",
       "    }\n",
       "\n",
       "    .dataframe tbody tr th {\n",
       "        vertical-align: top;\n",
       "    }\n",
       "</style>\n",
       "<table border=\"1\" class=\"dataframe\">\n",
       "  <thead>\n",
       "    <tr style=\"text-align: right;\">\n",
       "      <th></th>\n",
       "      <th>hour</th>\n",
       "    </tr>\n",
       "    <tr>\n",
       "      <th>timestamp_local</th>\n",
       "      <th></th>\n",
       "    </tr>\n",
       "  </thead>\n",
       "  <tbody>\n",
       "    <tr>\n",
       "      <th>2005-04-17</th>\n",
       "      <td>14.956522</td>\n",
       "    </tr>\n",
       "    <tr>\n",
       "      <th>2005-04-24</th>\n",
       "      <td>16.494382</td>\n",
       "    </tr>\n",
       "    <tr>\n",
       "      <th>2005-05-01</th>\n",
       "      <td>12.349398</td>\n",
       "    </tr>\n",
       "    <tr>\n",
       "      <th>2005-05-08</th>\n",
       "      <td>15.979798</td>\n",
       "    </tr>\n",
       "    <tr>\n",
       "      <th>2005-05-15</th>\n",
       "      <td>15.984127</td>\n",
       "    </tr>\n",
       "  </tbody>\n",
       "</table>\n",
       "</div>"
      ],
      "text/plain": [
       "                      hour\n",
       "timestamp_local           \n",
       "2005-04-17       14.956522\n",
       "2005-04-24       16.494382\n",
       "2005-05-01       12.349398\n",
       "2005-05-08       15.979798\n",
       "2005-05-15       15.984127"
      ]
     },
     "execution_count": 10,
     "metadata": {},
     "output_type": "execute_result"
    }
   ],
   "source": [
    "mean_latest_hours_per_week = \\\n",
    "    latest_hour_per_week \\\n",
    "    .reset_index().groupby('timestamp_local').mean()\n",
    "mean_latest_hours_per_week.head()"
   ]
  },
  {
   "cell_type": "markdown",
   "metadata": {},
   "source": [
    "We also create a trend line that shows how the contributors are working over the span of the past years. We use the `polyfit` function from `numpy` for this which needs a numeric index to calculate the polynomial coefficients later on. \n",
    "\n",
    "We then calculate the coeffiecients with a three-dimensional polynomial based on the hours of the `mean_latest_hours_per_week` DataFrame. For visualization, we decrease the number of degrees and calculate the y-coordinates for all weeks that are encoded in `numeric_index`."
   ]
  },
  {
   "cell_type": "code",
   "execution_count": 11,
   "metadata": {},
   "outputs": [
    {
     "data": {
      "text/plain": [
       "array([ 14.74298901,  14.74384165,  14.74469374,  14.74554526,  14.74639619])"
      ]
     },
     "execution_count": 11,
     "metadata": {},
     "output_type": "execute_result"
    }
   ],
   "source": [
    "import numpy as np\n",
    "\n",
    "numeric_index = range(0, len(mean_latest_hours_per_week))\n",
    "coefficients = np.polyfit(numeric_index, mean_latest_hours_per_week.hour, 3)\n",
    "polynomial = np.poly1d(coefficients)\n",
    "ys = polynomial(numeric_index)\n",
    "ys[:5]"
   ]
  },
  {
   "cell_type": "markdown",
   "metadata": {},
   "source": [
    "At last, we plot the results of the `mean_latest_hours_per_week` DataFrame as well as the trend line in one line plot."
   ]
  },
  {
   "cell_type": "code",
   "execution_count": 12,
   "metadata": {},
   "outputs": [
    {
     "data": {
      "text/plain": [
       "<matplotlib.text.Text at 0x1d59df68ba8>"
      ]
     },
     "execution_count": 12,
     "metadata": {},
     "output_type": "execute_result"
    },
    {
     "data": {
      "image/png": "[encoded data removed]",
      "text/plain": [
       "<matplotlib.figure.Figure at 0x1d58c4b59e8>"
      ]
     },
     "metadata": {},
     "output_type": "display_data"
    }
   ],
   "source": [
    "mean_latest_hours_per_week['trend'] = ys\n",
    "mean_latest_hours_per_week\n",
    "ax = mean_latest_hours_per_week[['hour', 'trend']].plot(\n",
    "    figsize=(10, 6), color=['grey','blue'], title=\"Late hours per weeks\")\n",
    "ax.set_xlabel(\"time\")\n",
    "ax.set_ylabel(\"hour\")"
   ]
  },
  {
   "cell_type": "markdown",
   "metadata": {},
   "source": [
    "**Result**\n",
    "\n",
    "We see no sign of significant over time periods over 13 years of Linux development. After the migration to the Git repository, there might have been a time with some irregularities. But overall, there are no signs of death marches. It seems that the Linux development team has a stable development process."
   ]
  },
  {
   "cell_type": "markdown",
   "metadata": {},
   "source": [
    "# Closing remarks\n",
    "\n",
    "Again, we've seen that various metrics and results can be easily created from a simple Git log output file. With Pandas, it's possible to get to know the habits of the developers of software projects. Thanks to Jupyter's open notebook approach, we can easily adapt existing analysis and add situation specific information to it as we go."
   ]
  }
 ],
 "metadata": {
  "hide_input": false,
  "kernelspec": {
   "display_name": "Python 3",
   "language": "python",
   "name": "python3"
  },
  "language_info": {
   "codemirror_mode": {
    "name": "ipython",
    "version": 3
   },
   "file_extension": ".py",
   "mimetype": "text/x-python",
   "name": "python",
   "nbconvert_exporter": "python",
   "pygments_lexer": "ipython3",
   "version": "3.6.2"
  },
  "toc": {
   "nav_menu": {},
   "number_sections": true,
   "sideBar": true,
   "skip_h1_title": false,
   "toc_cell": true,
   "toc_position": {
    "height": "441px",
    "left": "0px",
    "right": "1040.17px",
    "top": "107px",
    "width": "212px"
   },
   "toc_section_display": "block",
   "toc_window_display": false
  }
 },
 "nbformat": 4,
 "nbformat_minor": 2
}
