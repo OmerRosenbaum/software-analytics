{
 "cells": [
  {
   "cell_type": "markdown",
   "metadata": {},
   "source": [
    "# Introduction"
   ]
  },
  {
   "cell_type": "markdown",
   "metadata": {},
   "source": [
    "You all know word clouds:\n",
    "    \n",
    "They give you a quick overview about the top topics of your blog, book, source code &ndash; or presentation. The latter was the one that got me thinking: How cool would it be if you start your presentation with a word cloud of the main topics of your talk? And: How easy is it to do that completely automated with Python?!\n",
    "\n",
    "So let's go crazy this time with word cloud computing for different data sources like texts, source code, websites and PowerPoint presentations!"
   ]
  },
  {
   "cell_type": "markdown",
   "metadata": {},
   "source": [
    "# The Idea\n",
    "The main idea is to read any text in any format, preprocess it and throw it against a word cloud producting library. For this, we need some main libraries that do all the work for us:\n",
    "\n",
    "* <tt>wordcloud</tt> for producing, well, a word cloud\n",
    "* <tt>nltk</tt> for cleaning up our input text\n",
    "<!--* <tt>matplotlib</tt> for visualizing the word cloud-->\n",
    "\n",
    "\\+ I'll introduce some other libraries as needed.\n",
    "\n",
    "\n",
    "So let's get started!"
   ]
  },
  {
   "cell_type": "markdown",
   "metadata": {},
   "source": [
    "# Basics\n",
    "In this section, I demonstrate how easy it is to produce a word cloud out of some given text with <tt>wordcloud</tt>.\n",
    "\n",
    "The following code is almost identical to the example of the libaries' website:\n",
    "\n",
    "We import the <tt>WordCloud</tt> class, enable the <tt>matplotlib</tt> output in our notebook and import the plot library itself.\n",
    "\n",
    "Then we get an instance of <tt>WordCloud</tt> and use it directly to generate a wordcloud"
   ]
  },
  {
   "cell_type": "code",
   "execution_count": 12,
   "metadata": {
    "collapsed": false,
    "scrolled": true
   },
   "outputs": [
    {
     "data": {
      "image/png": "[encoded data removed]",
      "text/plain": [
       "<PIL.Image.Image image mode=RGB size=400x200 at 0x1FF4C3A8BA8>"
      ]
     },
     "execution_count": 12,
     "metadata": {},
     "output_type": "execute_result"
    }
   ],
   "source": [
    "from wordcloud import WordCloud\n",
    "\n",
    "WordCloud().generate(\"Hello reader!\").to_image()"
   ]
  },
  {
   "cell_type": "code",
   "execution_count": null,
   "metadata": {
    "collapsed": true
   },
   "outputs": [],
   "source": [
    "That's it!"
   ]
  },
  {
   "cell_type": "code",
   "execution_count": 7,
   "metadata": {
    "collapsed": true
   },
   "outputs": [],
   "source": [
    "def produce_wordcloud(text):\n",
    "    wordcloud = WordCloud(max_font_size=40).generate(text)\n",
    "    wordcloud.to_image()\n",
    "    #plt.figure()\n",
    "    #plt.imshow(wordcloud, interpolation=\"bilinear\")\n",
    "    #plt.axis(\"off\")\n",
    "    #plt.show()"
   ]
  },
  {
   "cell_type": "markdown",
   "metadata": {},
   "source": [
    "# Advanced\n",
    "The example above wasn't very impressive and expressive. So we use <tt>nltk</tt> for getting some texts from a corpus. We want to display the main topics of move reviews. For this, we need some basic text preprocessing: removing the language's common words via a stoplist for that language. The stoplist is just a corpus, too, and is just a list of text tokens."
   ]
  },
  {
   "cell_type": "code",
   "execution_count": 8,
   "metadata": {
    "collapsed": false
   },
   "outputs": [
    {
     "data": {
      "text/plain": [
       "['i', 'me', 'my', 'myself', 'we', 'our', 'ours', 'ourselves', 'you', 'your']"
      ]
     },
     "execution_count": 8,
     "metadata": {},
     "output_type": "execute_result"
    }
   ],
   "source": [
    "from nltk.corpus import stopwords\n",
    "english_stopword_tokens = stopwords.words('english')\n",
    "english_stopword_tokens[:10]"
   ]
  },
  {
   "cell_type": "markdown",
   "metadata": {},
   "source": [
    "OK, let's get some big texts."
   ]
  },
  {
   "cell_type": "code",
   "execution_count": null,
   "metadata": {
    "collapsed": false
   },
   "outputs": [],
   "source": [
    "from nltk.corpus import movie_reviews\n",
    "movie_reviews.words()[:10]"
   ]
  },
  {
   "cell_type": "markdown",
   "metadata": {},
   "source": [
    "Let's do some basic text preprocessing by only keeping alphanumeric characters and removing the stopwords."
   ]
  },
  {
   "cell_type": "code",
   "execution_count": null,
   "metadata": {
    "collapsed": false
   },
   "outputs": [],
   "source": [
    "movie_reviews_tokens = [s for s in movie_reviews.words() \n",
    "                        if s.isalnum() and \n",
    "                        not s in english_stopword_tokens]\n",
    "movie_reviews_tokens[:10]"
   ]
  },
  {
   "cell_type": "markdown",
   "metadata": {},
   "source": [
    "We join the text together to get a long string and display it as word cloud."
   ]
  },
  {
   "cell_type": "code",
   "execution_count": null,
   "metadata": {
    "collapsed": false
   },
   "outputs": [],
   "source": [
    "movie_reviews_text = \" \".join(movie_reviews_tokens)\n",
    "WordCloud(max_font_size=40).generate(movie_reviews_text).to_image()\n",
    "#produce_wordcloud(movie_reviews_text)"
   ]
  },
  {
   "cell_type": "code",
   "execution_count": null,
   "metadata": {
    "collapsed": true
   },
   "outputs": [],
   "source": [
    "WordCloud(max_font_size=40).generate(movie_reviews_text).to_image"
   ]
  },
  {
   "cell_type": "markdown",
   "metadata": {},
   "source": [
    "Let's move on to some more interesting visualizations."
   ]
  },
  {
   "cell_type": "markdown",
   "metadata": {},
   "source": [
    "# Some real project"
   ]
  },
  {
   "cell_type": "markdown",
   "metadata": {},
   "source": [
    "We can read arbitrary files with <tt>glob</tt>"
   ]
  },
  {
   "cell_type": "code",
   "execution_count": null,
   "metadata": {
    "collapsed": false
   },
   "outputs": [],
   "source": [
    "import os\n",
    "from glob import glob\n",
    "\n",
    "def read_file_paths(directory, filename_extensions, non_relevant_paths=[]):\n",
    "    \n",
    "    source_code_filenames =[]\n",
    "    \n",
    "    for root, directories, filenames in os.walk(directory):\n",
    "        for filename in filenames:\n",
    "            if os.path.splitext(filename)[1].lower() in filename_extensions:\n",
    "                path = os.path.join(root,filename).replace(\"\\\\\", \"/\")\n",
    "                if not any(non_dir in path for non_dir in non_relevant_paths):\n",
    "                    source_code_filenames.append(path)\n",
    "                    \n",
    "    return source_code_filenames\n",
    "\n",
    "file_paths = read_file_paths(\n",
    "                            r'../../aim42/', \n",
    "                            [\".adoc\"], \n",
    "                            [\".git\"])\n",
    "file_paths[:5]"
   ]
  },
  {
   "cell_type": "code",
   "execution_count": null,
   "metadata": {
    "collapsed": false
   },
   "outputs": [],
   "source": [
    "import pandas as pd\n",
    "docs_corpus = []\n",
    "\n",
    "for file_path in file_paths:\n",
    "    with open(file_path, mode='r', encoding=\"utf-8\") as file:\n",
    "        docs_corpus.append(file.read())\n",
    "docs_corpus[0][:100]"
   ]
  },
  {
   "cell_type": "code",
   "execution_count": null,
   "metadata": {
    "collapsed": false
   },
   "outputs": [],
   "source": [
    "docs_tokens = docs_corpus\n",
    "docs_tokens[:100]"
   ]
  },
  {
   "cell_type": "code",
   "execution_count": null,
   "metadata": {
    "collapsed": false
   },
   "outputs": [],
   "source": [
    "docs_tokens = [s for s in docs_corpus.split[\" \"] \n",
    "                if s.isalnum() and \n",
    "                not s in english_stopword_tokens]\n",
    "docs_tokens[:100]"
   ]
  },
  {
   "cell_type": "markdown",
   "metadata": {},
   "source": [
    "# Source Code identifier"
   ]
  },
  {
   "cell_type": "markdown",
   "metadata": {},
   "source": [
    "It's nice to get a quick gimplse what your software is about. For this, we need to read all the source code files, extract the identifiers, handle some programming language specific cases and remove common words via the stop list."
   ]
  },
  {
   "cell_type": "markdown",
   "metadata": {},
   "source": [
    "## Reading all the source code files"
   ]
  },
  {
   "cell_type": "markdown",
   "metadata": {},
   "source": [
    "I wrote a small library to handle all the repeating tasks called OZAPFT (**O**pen **z**appy **a**nalysis **p**latform **f**or **t**echies)"
   ]
  },
  {
   "cell_type": "code",
   "execution_count": 24,
   "metadata": {
    "collapsed": false
   },
   "outputs": [
    {
     "ename": "TypeError",
     "evalue": "'module' object is not callable",
     "output_type": "error",
     "traceback": [
      "\u001b[1;31m---------------------------------------------------------------------------\u001b[0m",
      "\u001b[1;31mTypeError\u001b[0m                                 Traceback (most recent call last)",
      "\u001b[1;32m<ipython-input-24-3efa647e4a60>\u001b[0m in \u001b[0;36m<module>\u001b[1;34m()\u001b[0m\n\u001b[0;32m      1\u001b[0m \u001b[1;32mfrom\u001b[0m \u001b[0mozapft\u001b[0m \u001b[1;32mimport\u001b[0m \u001b[0mFileReader\u001b[0m\u001b[1;33m\u001b[0m\u001b[0m\n\u001b[1;32m----> 2\u001b[1;33m \u001b[0mfilereader\u001b[0m \u001b[1;33m=\u001b[0m \u001b[0mFileReader\u001b[0m\u001b[1;33m(\u001b[0m\u001b[1;33m)\u001b[0m\u001b[1;33m\u001b[0m\u001b[0m\n\u001b[0m",
      "\u001b[1;31mTypeError\u001b[0m: 'module' object is not callable"
     ]
    }
   ],
   "source": [
    "from ozapft import FileReader\n",
    "filereader = FileReader()\n"
   ]
  },
  {
   "cell_type": "code",
   "execution_count": 15,
   "metadata": {
    "collapsed": false
   },
   "outputs": [
    {
     "ename": "ImportError",
     "evalue": "cannot import name 'Filereader'",
     "output_type": "error",
     "traceback": [
      "\u001b[1;31m---------------------------------------------------------------------------\u001b[0m",
      "\u001b[1;31mImportError\u001b[0m                               Traceback (most recent call last)",
      "\u001b[1;32m<ipython-input-15-c084e9aadc7d>\u001b[0m in \u001b[0;36m<module>\u001b[1;34m()\u001b[0m\n\u001b[1;32m----> 1\u001b[1;33m \u001b[1;32mfrom\u001b[0m \u001b[0mozapft\u001b[0m \u001b[1;32mimport\u001b[0m \u001b[0mFilereader\u001b[0m\u001b[1;33m\u001b[0m\u001b[0m\n\u001b[0m\u001b[0;32m      2\u001b[0m \u001b[1;33m\u001b[0m\u001b[0m\n\u001b[0;32m      3\u001b[0m \u001b[1;32mimport\u001b[0m \u001b[0mos\u001b[0m\u001b[1;33m\u001b[0m\u001b[0m\n\u001b[0;32m      4\u001b[0m \u001b[1;32mfrom\u001b[0m \u001b[0mglob\u001b[0m \u001b[1;32mimport\u001b[0m \u001b[0mglob\u001b[0m\u001b[1;33m\u001b[0m\u001b[0m\n\u001b[0;32m      5\u001b[0m \u001b[1;33m\u001b[0m\u001b[0m\n",
      "\u001b[1;31mImportError\u001b[0m: cannot import name 'Filereader'"
     ]
    }
   ],
   "source": [
    "import os\n",
    "from glob import glob\n",
    " \n",
    "SOURCE_CODE_DIRECTORY = r'../../spring-petclinic/'\n",
    "source_code_filenames =[]\n"
   ]
  },
  {
   "cell_type": "markdown",
   "metadata": {},
   "source": [
    "# PowerPoint Presentation"
   ]
  },
  {
   "cell_type": "code",
   "execution_count": null,
   "metadata": {
    "collapsed": false
   },
   "outputs": [],
   "source": [
    "from pptx import Presentation\n",
    "PPTX = r'C:\\Users\\Markus\\OneDrive\\Vorträge\\Software Analytics\\talk.pptx'\n",
    "prs = Presentation(PPTX)\n",
    "\n",
    "text_fragments = []\n",
    "for slide in prs.slides:\n",
    "    \n",
    "    title = \"\"\n",
    "    if slide.shapes.title and slide.shapes.title.text:\n",
    "        title = slide.shapes.title.text\n",
    "     \n",
    "    if slide.has_notes_slide:\n",
    "        notes = slide.notes_slide.notes_text_frame.text\n",
    "        text_fragments.extend(s for s in notes.split(\" \") if s.isalnum())\n",
    "    for shape in slide.shapes:\n",
    "        if not shape.has_text_frame:\n",
    "            continue\n",
    "        \n",
    "        text_frame_text = shape.text_frame.text.replace(title, \"\")\n",
    "        text_frame_tokens = text_frame_text.split(\" \")\n",
    "        text_fragments.extend(s for s in text_frame_tokens if s.isalnum())\n",
    "        \n",
    "text_fragments[:10]"
   ]
  },
  {
   "cell_type": "code",
   "execution_count": null,
   "metadata": {
    "collapsed": false
   },
   "outputs": [],
   "source": [
    "from nltk.corpus import stopwords\n",
    "german_stopword_tokens = stopwords.words('german')\n",
    "german_stopword_tokens.append(\"Nichts\")\n",
    "stop_word_tokens = set(german_stopword_tokens) | set(english_stopword_tokens)\n",
    "text_tokens = [token for token in text_fragments if token not in stop_word_tokens]\n",
    "text_tokens[:10]"
   ]
  },
  {
   "cell_type": "code",
   "execution_count": null,
   "metadata": {
    "collapsed": false
   },
   "outputs": [],
   "source": [
    "text = \" \".join(text_tokens)\n",
    "wordcloud = WordCloud(max_font_size=40).generate(text)\n",
    "plt.figure()\n",
    "plt.imshow(wordcloud, interpolation=\"bilinear\")\n",
    "plt.axis(\"off\")\n",
    "plt.show()"
   ]
  }
 ],
 "metadata": {
  "anaconda-cloud": {},
  "kernelspec": {
   "display_name": "Python [Root]",
   "language": "python",
   "name": "Python [Root]"
  },
  "language_info": {
   "codemirror_mode": {
    "name": "ipython",
    "version": 3
   },
   "file_extension": ".py",
   "mimetype": "text/x-python",
   "name": "python",
   "nbconvert_exporter": "python",
   "pygments_lexer": "ipython3",
   "version": "3.5.2"
  }
 },
 "nbformat": 4,
 "nbformat_minor": 0
}
