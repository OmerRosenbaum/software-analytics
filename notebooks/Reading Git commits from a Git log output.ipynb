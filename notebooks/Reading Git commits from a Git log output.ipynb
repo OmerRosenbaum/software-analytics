{
 "cells": [
  {
   "cell_type": "markdown",
   "metadata": {},
   "source": [
    "# Context\n",
    "In my previous notebook, I showed you how to read a Git repository directly in Python with GitPython. As much as I like that approach (because everything is in one place and therefore reproducible), it's (currently) very slow while reading all the statistics information."
   ]
  },
  {
   "cell_type": "markdown",
   "metadata": {},
   "source": [
    "# The idea\n",
    "What I want to have now is a really fast method to read in a complete Git repository. So we are taking a shortcut for retrieving the commit history by exporting it into a log file (which itself is pretty fast). You can use e. g.\n",
    "<pre>\n",
    "git log --all --numstat --pretty=format:'--%h--%ad--%aN' --no-renames > git.log \n",
    "</pre>\n",
    "to do this. This will output a file with all the log information of a repository. In this example, we analyse the Git repository of [aim42](https://github.com/aim42/aim42) (an open book project about how to improve legacy systems). \n",
    "\n",
    "The first entries of that file look something like this:"
   ]
  },
  {
   "cell_type": "code",
   "execution_count": 1,
   "metadata": {
    "collapsed": false
   },
   "outputs": [
    {
     "name": "stdout",
     "output_type": "stream",
     "text": [
      "--ea7e08b--Tue Nov 29 21:42:16 2016 +0100--feststelltaste\n",
      "2\t0\tsrc/main/asciidoc/appendices/bibliography.adoc\n",
      "1\t7\tsrc/main/asciidoc/pattern-index.adoc\n",
      "12\t1\tsrc/main/asciidoc/patterns/improve/anticorruption-layer.adoc\n",
      "\n",
      "--fa1ca6f--Thu Dec 22 08:04:18 2016 +0100--feststelltaste\n",
      "2\t0\tsrc/main/asciidoc/appendices/bibliography.adoc\n",
      "2\t2\tsrc/main/asciidoc/patterns/analyze/busfactor.adoc\n"
     ]
    }
   ],
   "source": [
    "with open (r'C:\\dev\\repos\\aim42\\git.log') as log:\n",
    "    [print(line, end='') for line in log.readlines()[:8]]"
   ]
  },
  {
   "cell_type": "markdown",
   "metadata": {},
   "source": [
    "For each commit, there is a header line with the commit info. It contains the SHA key, the timestamp of the commit as well as the author's name. For each other row, we print some statitics about the modified files like the number of lines inserted, the number of lines deleted and the file path.\n",
    "\n",
    "With a little trick and a little bit of data wrangling we can read that information into a nicely structured DataFrame. Let's get started!"
   ]
  },
  {
   "cell_type": "markdown",
   "metadata": {},
   "source": [
    "# Import the data"
   ]
  },
  {
   "cell_type": "markdown",
   "metadata": {},
   "source": [
    "First, I'll show you my approach on how to read nearly everything into a DataFrame. The key is to use Pandas' <tt>read_csv</tt> for reading non-character separated values. How to do that? We simply choose a separator that doesn't occur in the file that we want to read. My favorite character for this is the \"DEVICE CONTROL TWO\" character U+0012. I haven't encountered a situation yet where this character was included in a data set.\n",
    "\n",
    "We just read our <tt>git.log</tt> file without any headers (because there are none) and give the only column a nice name."
   ]
  },
  {
   "cell_type": "code",
   "execution_count": 2,
   "metadata": {
    "collapsed": false
   },
   "outputs": [
    {
     "data": {
      "text/html": [
       "<div>\n",
       "<table border=\"1\" class=\"dataframe\">\n",
       "  <thead>\n",
       "    <tr style=\"text-align: right;\">\n",
       "      <th></th>\n",
       "      <th>raw</th>\n",
       "    </tr>\n",
       "  </thead>\n",
       "  <tbody>\n",
       "    <tr>\n",
       "      <th>0</th>\n",
       "      <td>--ea7e08b--Tue Nov 29 21:42:16 2016 +0100--fes...</td>\n",
       "    </tr>\n",
       "    <tr>\n",
       "      <th>1</th>\n",
       "      <td>2\\t0\\tsrc/main/asciidoc/appendices/bibliograph...</td>\n",
       "    </tr>\n",
       "    <tr>\n",
       "      <th>2</th>\n",
       "      <td>1\\t7\\tsrc/main/asciidoc/pattern-index.adoc</td>\n",
       "    </tr>\n",
       "    <tr>\n",
       "      <th>3</th>\n",
       "      <td>12\\t1\\tsrc/main/asciidoc/patterns/improve/anti...</td>\n",
       "    </tr>\n",
       "    <tr>\n",
       "      <th>4</th>\n",
       "      <td>--fa1ca6f--Thu Dec 22 08:04:18 2016 +0100--fes...</td>\n",
       "    </tr>\n",
       "  </tbody>\n",
       "</table>\n",
       "</div>"
      ],
      "text/plain": [
       "                                                 raw\n",
       "0  --ea7e08b--Tue Nov 29 21:42:16 2016 +0100--fes...\n",
       "1  2\\t0\\tsrc/main/asciidoc/appendices/bibliograph...\n",
       "2         1\\t7\\tsrc/main/asciidoc/pattern-index.adoc\n",
       "3  12\\t1\\tsrc/main/asciidoc/patterns/improve/anti...\n",
       "4  --fa1ca6f--Thu Dec 22 08:04:18 2016 +0100--fes..."
      ]
     },
     "execution_count": 2,
     "metadata": {},
     "output_type": "execute_result"
    }
   ],
   "source": [
    "import pandas as pd\n",
    "\n",
    "commits = pd.read_csv(r'C:\\dev\\repos\\aim42\\git.log', sep=\"\\u0012\", header=None, names=['raw'])\n",
    "commits.head()"
   ]
  },
  {
   "cell_type": "markdown",
   "metadata": {},
   "source": [
    "# Data Wrangling"
   ]
  },
  {
   "cell_type": "markdown",
   "metadata": {},
   "source": [
    "OK, but now we have a <strike>problem</strike> data wrangling challenge. We have the commit info as well as the statistic for the modified file in one column, but the don't belong together. What we want is to have the commit info along with the file statistics in separate columns to get some serious analysis started."
   ]
  },
  {
   "cell_type": "markdown",
   "metadata": {},
   "source": [
    "# Commit info\n",
    "Ok, let's treat the commit info first. Luckily, we set in our git log export command some kind of anchor or marker to identify the commit info: Each commit info starts with an <tt>--</tt>. So let's extract all the commit infos from the original <tt>commits</tt> <tt>DataFrame</tt>."
   ]
  },
  {
   "cell_type": "code",
   "execution_count": 3,
   "metadata": {
    "collapsed": false
   },
   "outputs": [
    {
     "data": {
      "text/html": [
       "<div>\n",
       "<table border=\"1\" class=\"dataframe\">\n",
       "  <thead>\n",
       "    <tr style=\"text-align: right;\">\n",
       "      <th></th>\n",
       "      <th>raw</th>\n",
       "    </tr>\n",
       "  </thead>\n",
       "  <tbody>\n",
       "    <tr>\n",
       "      <th>0</th>\n",
       "      <td>--ea7e08b--Tue Nov 29 21:42:16 2016 +0100--fes...</td>\n",
       "    </tr>\n",
       "    <tr>\n",
       "      <th>4</th>\n",
       "      <td>--fa1ca6f--Thu Dec 22 08:04:18 2016 +0100--fes...</td>\n",
       "    </tr>\n",
       "    <tr>\n",
       "      <th>7</th>\n",
       "      <td>--c3d4e2d--Thu Dec 22 05:47:32 2016 +0100--Dr....</td>\n",
       "    </tr>\n",
       "    <tr>\n",
       "      <th>8</th>\n",
       "      <td>--3f793e8--Tue Nov 29 21:42:16 2016 +0100--fes...</td>\n",
       "    </tr>\n",
       "    <tr>\n",
       "      <th>12</th>\n",
       "      <td>--5d297c9--Wed Dec 21 20:49:33 2016 +0100--fes...</td>\n",
       "    </tr>\n",
       "  </tbody>\n",
       "</table>\n",
       "</div>"
      ],
      "text/plain": [
       "                                                  raw\n",
       "0   --ea7e08b--Tue Nov 29 21:42:16 2016 +0100--fes...\n",
       "4   --fa1ca6f--Thu Dec 22 08:04:18 2016 +0100--fes...\n",
       "7   --c3d4e2d--Thu Dec 22 05:47:32 2016 +0100--Dr....\n",
       "8   --3f793e8--Tue Nov 29 21:42:16 2016 +0100--fes...\n",
       "12  --5d297c9--Wed Dec 21 20:49:33 2016 +0100--fes..."
      ]
     },
     "execution_count": 3,
     "metadata": {},
     "output_type": "execute_result"
    }
   ],
   "source": [
    "commit_marker = commits[commits['raw'].str.startswith(\"--\",na=False)]\n",
    "commit_marker.head()"
   ]
  },
  {
   "cell_type": "markdown",
   "metadata": {},
   "source": [
    "With this, we can focus on extracting the information that is within a commit info row. The next command could be looking a little frightening, but don't worry. We want to extract some data from the <tt>raw</tt> column. For this, we use the <tt>extract</tt> method on the string representation (note the<tt> str</tt>) of the row. This method expects a regular expression. We gladly provide our own regex that works as follows:\n",
    "\n",
    "* <tt>^</tt>: the beginning of the row\n",
    "* <tt>--</tt>: the two dashes that are used in the git log file as separator between the entries\n",
    "* <tt>(?P&lt;sha&gt;.*?)--</tt>: a named match group (marked by the <tt>(</tt> and <tt>)</tt> ) with the name <tt>sha</tt> for all characters (<tt>.&#42;</tt>) until the next occurrence (<tt>?</tt>) of the <tt>--</tt> separators.\n",
    "* and so on until <tt>\\$</tt> as the marker for the end of the row (actually, <tt>^</tt> and <tt>$</tt> aren't needed, but it looks nicer from a regex string's perspective in my eyes ;-) )\n",
    "\n",
    "I use these ugly looking, named regex groups because then the name of such a group will be used by Pandas for the name of the column (therefore we save renaming the columns later on).\n",
    "\n",
    "The <tt>expand=True</tt> keyword delivers a <tt>DataFrame</tt> with columns for each detected regex group.\n",
    "\n",
    "We simply store the result into a new <tt>DataFrame</tt> variable."
   ]
  },
  {
   "cell_type": "code",
   "execution_count": 4,
   "metadata": {
    "collapsed": false
   },
   "outputs": [
    {
     "data": {
      "text/html": [
       "<div>\n",
       "<table border=\"1\" class=\"dataframe\">\n",
       "  <thead>\n",
       "    <tr style=\"text-align: right;\">\n",
       "      <th></th>\n",
       "      <th>sha</th>\n",
       "      <th>date</th>\n",
       "      <th>author</th>\n",
       "    </tr>\n",
       "  </thead>\n",
       "  <tbody>\n",
       "    <tr>\n",
       "      <th>0</th>\n",
       "      <td>ea7e08b</td>\n",
       "      <td>2016-11-29 20:42:16</td>\n",
       "      <td>feststelltaste</td>\n",
       "    </tr>\n",
       "    <tr>\n",
       "      <th>4</th>\n",
       "      <td>fa1ca6f</td>\n",
       "      <td>2016-12-22 07:04:18</td>\n",
       "      <td>feststelltaste</td>\n",
       "    </tr>\n",
       "    <tr>\n",
       "      <th>7</th>\n",
       "      <td>c3d4e2d</td>\n",
       "      <td>2016-12-22 04:47:32</td>\n",
       "      <td>Dr. Gernot Starke</td>\n",
       "    </tr>\n",
       "    <tr>\n",
       "      <th>8</th>\n",
       "      <td>3f793e8</td>\n",
       "      <td>2016-11-29 20:42:16</td>\n",
       "      <td>feststelltaste</td>\n",
       "    </tr>\n",
       "    <tr>\n",
       "      <th>12</th>\n",
       "      <td>5d297c9</td>\n",
       "      <td>2016-12-21 19:49:33</td>\n",
       "      <td>feststelltaste</td>\n",
       "    </tr>\n",
       "  </tbody>\n",
       "</table>\n",
       "</div>"
      ],
      "text/plain": [
       "        sha                date             author\n",
       "0   ea7e08b 2016-11-29 20:42:16     feststelltaste\n",
       "4   fa1ca6f 2016-12-22 07:04:18     feststelltaste\n",
       "7   c3d4e2d 2016-12-22 04:47:32  Dr. Gernot Starke\n",
       "8   3f793e8 2016-11-29 20:42:16     feststelltaste\n",
       "12  5d297c9 2016-12-21 19:49:33     feststelltaste"
      ]
     },
     "execution_count": 4,
     "metadata": {},
     "output_type": "execute_result"
    }
   ],
   "source": [
    "commit_info = commit_marker['raw'].str.extract(\n",
    "        r\"^--(?P<sha>.*?)--(?P<date>.*?)--(?P<author>.*?)$\", \n",
    "        expand=True)\n",
    "commit_info['date'] = pd.to_datetime(commit_info['date'])\n",
    "commit_info.head()"
   ]
  },
  {
   "cell_type": "markdown",
   "metadata": {},
   "source": [
    "OK, this part is ready, let's have a look at the file statistics!"
   ]
  },
  {
   "cell_type": "markdown",
   "metadata": {},
   "source": [
    "# File statistics"
   ]
  },
  {
   "cell_type": "markdown",
   "metadata": {},
   "source": [
    "Every row that is not a commit info row is a file statistics row. So we just use the index from our already prepared commit info <tt>DataFrame</tt> to get the other data."
   ]
  },
  {
   "cell_type": "code",
   "execution_count": 5,
   "metadata": {
    "collapsed": false
   },
   "outputs": [
    {
     "data": {
      "text/html": [
       "<div>\n",
       "<table border=\"1\" class=\"dataframe\">\n",
       "  <thead>\n",
       "    <tr style=\"text-align: right;\">\n",
       "      <th></th>\n",
       "      <th>raw</th>\n",
       "    </tr>\n",
       "  </thead>\n",
       "  <tbody>\n",
       "    <tr>\n",
       "      <th>1</th>\n",
       "      <td>2\\t0\\tsrc/main/asciidoc/appendices/bibliograph...</td>\n",
       "    </tr>\n",
       "    <tr>\n",
       "      <th>2</th>\n",
       "      <td>1\\t7\\tsrc/main/asciidoc/pattern-index.adoc</td>\n",
       "    </tr>\n",
       "    <tr>\n",
       "      <th>3</th>\n",
       "      <td>12\\t1\\tsrc/main/asciidoc/patterns/improve/anti...</td>\n",
       "    </tr>\n",
       "    <tr>\n",
       "      <th>5</th>\n",
       "      <td>2\\t0\\tsrc/main/asciidoc/appendices/bibliograph...</td>\n",
       "    </tr>\n",
       "    <tr>\n",
       "      <th>6</th>\n",
       "      <td>2\\t2\\tsrc/main/asciidoc/patterns/analyze/busfa...</td>\n",
       "    </tr>\n",
       "  </tbody>\n",
       "</table>\n",
       "</div>"
      ],
      "text/plain": [
       "                                                 raw\n",
       "1  2\\t0\\tsrc/main/asciidoc/appendices/bibliograph...\n",
       "2         1\\t7\\tsrc/main/asciidoc/pattern-index.adoc\n",
       "3  12\\t1\\tsrc/main/asciidoc/patterns/improve/anti...\n",
       "5  2\\t0\\tsrc/main/asciidoc/appendices/bibliograph...\n",
       "6  2\\t2\\tsrc/main/asciidoc/patterns/analyze/busfa..."
      ]
     },
     "execution_count": 5,
     "metadata": {},
     "output_type": "execute_result"
    }
   ],
   "source": [
    "file_stats_marker = commits[~commits.index.isin(commit_info.index)]\n",
    "file_stats_marker.head()"
   ]
  },
  {
   "cell_type": "markdown",
   "metadata": {},
   "source": [
    "Luckily, the row's data is just a tab separated string that we can easily split with the <tt>split</tt> method. We expand the result to get a <tt>DataFrame</tt> and rename the default columns to something that make more sense."
   ]
  },
  {
   "cell_type": "code",
   "execution_count": 6,
   "metadata": {
    "collapsed": false
   },
   "outputs": [
    {
     "data": {
      "text/html": [
       "<div>\n",
       "<table border=\"1\" class=\"dataframe\">\n",
       "  <thead>\n",
       "    <tr style=\"text-align: right;\">\n",
       "      <th></th>\n",
       "      <th>insertions</th>\n",
       "      <th>deletions</th>\n",
       "      <th>filename</th>\n",
       "    </tr>\n",
       "  </thead>\n",
       "  <tbody>\n",
       "    <tr>\n",
       "      <th>1</th>\n",
       "      <td>2.0</td>\n",
       "      <td>0.0</td>\n",
       "      <td>src/main/asciidoc/appendices/bibliography.adoc</td>\n",
       "    </tr>\n",
       "    <tr>\n",
       "      <th>2</th>\n",
       "      <td>1.0</td>\n",
       "      <td>7.0</td>\n",
       "      <td>src/main/asciidoc/pattern-index.adoc</td>\n",
       "    </tr>\n",
       "    <tr>\n",
       "      <th>3</th>\n",
       "      <td>12.0</td>\n",
       "      <td>1.0</td>\n",
       "      <td>src/main/asciidoc/patterns/improve/anticorrupt...</td>\n",
       "    </tr>\n",
       "    <tr>\n",
       "      <th>5</th>\n",
       "      <td>2.0</td>\n",
       "      <td>0.0</td>\n",
       "      <td>src/main/asciidoc/appendices/bibliography.adoc</td>\n",
       "    </tr>\n",
       "    <tr>\n",
       "      <th>6</th>\n",
       "      <td>2.0</td>\n",
       "      <td>2.0</td>\n",
       "      <td>src/main/asciidoc/patterns/analyze/busfactor.adoc</td>\n",
       "    </tr>\n",
       "  </tbody>\n",
       "</table>\n",
       "</div>"
      ],
      "text/plain": [
       "   insertions  deletions                                           filename\n",
       "1         2.0        0.0     src/main/asciidoc/appendices/bibliography.adoc\n",
       "2         1.0        7.0               src/main/asciidoc/pattern-index.adoc\n",
       "3        12.0        1.0  src/main/asciidoc/patterns/improve/anticorrupt...\n",
       "5         2.0        0.0     src/main/asciidoc/appendices/bibliography.adoc\n",
       "6         2.0        2.0  src/main/asciidoc/patterns/analyze/busfactor.adoc"
      ]
     },
     "execution_count": 6,
     "metadata": {},
     "output_type": "execute_result"
    }
   ],
   "source": [
    "file_stats = file_stats_marker['raw'].str.split(\"\\t\", expand=True)\n",
    "file_stats = file_stats.rename(columns={0: \"insertions\", 1: \"deletions\", 2: \"filename\"})\n",
    "file_stats['insertions'] = pd.to_numeric(file_stats['insertions'], errors='coerce')\n",
    "file_stats['deletions'] = pd.to_numeric(file_stats['deletions'], errors='coerce')\n",
    "file_stats.head()"
   ]
  },
  {
   "cell_type": "markdown",
   "metadata": {},
   "source": [
    "# Putting it all together\n",
    "Now we have three parts: all commits, the separated commit info and the file statitics.\n",
    "\n",
    "For glueing it all together into a normalized <tt>DataFrame</tt>, we have to make some adjustments to the indexes."
   ]
  },
  {
   "cell_type": "markdown",
   "metadata": {
    "collapsed": true
   },
   "source": [
    "For the commit info, we want to have each info for each file statitics row. That means, we reindex the commit info that it fits by using the index of the file statistics <tt>DataFrame</tt>. But if we would just do that, we don't get any data, because both <tt>DataFrame</tt>'s indexes overlap at all."
   ]
  },
  {
   "cell_type": "code",
   "execution_count": 7,
   "metadata": {
    "collapsed": false
   },
   "outputs": [
    {
     "data": {
      "text/html": [
       "<div>\n",
       "<table border=\"1\" class=\"dataframe\">\n",
       "  <thead>\n",
       "    <tr style=\"text-align: right;\">\n",
       "      <th></th>\n",
       "      <th>sha</th>\n",
       "      <th>date</th>\n",
       "      <th>author</th>\n",
       "    </tr>\n",
       "  </thead>\n",
       "  <tbody>\n",
       "    <tr>\n",
       "      <th>1</th>\n",
       "      <td>NaN</td>\n",
       "      <td>NaT</td>\n",
       "      <td>NaN</td>\n",
       "    </tr>\n",
       "    <tr>\n",
       "      <th>2</th>\n",
       "      <td>NaN</td>\n",
       "      <td>NaT</td>\n",
       "      <td>NaN</td>\n",
       "    </tr>\n",
       "    <tr>\n",
       "      <th>3</th>\n",
       "      <td>NaN</td>\n",
       "      <td>NaT</td>\n",
       "      <td>NaN</td>\n",
       "    </tr>\n",
       "    <tr>\n",
       "      <th>5</th>\n",
       "      <td>NaN</td>\n",
       "      <td>NaT</td>\n",
       "      <td>NaN</td>\n",
       "    </tr>\n",
       "    <tr>\n",
       "      <th>6</th>\n",
       "      <td>NaN</td>\n",
       "      <td>NaT</td>\n",
       "      <td>NaN</td>\n",
       "    </tr>\n",
       "  </tbody>\n",
       "</table>\n",
       "</div>"
      ],
      "text/plain": [
       "   sha date author\n",
       "1  NaN  NaT    NaN\n",
       "2  NaN  NaT    NaN\n",
       "3  NaN  NaT    NaN\n",
       "5  NaN  NaT    NaN\n",
       "6  NaN  NaT    NaN"
      ]
     },
     "execution_count": 7,
     "metadata": {},
     "output_type": "execute_result"
    }
   ],
   "source": [
    "commit_info.reindex(file_stats.index).head()"
   ]
  },
  {
   "cell_type": "markdown",
   "metadata": {},
   "source": [
    "Thus we need to reindex over the <tt>commits</tt>' index:"
   ]
  },
  {
   "cell_type": "code",
   "execution_count": 8,
   "metadata": {
    "collapsed": false
   },
   "outputs": [
    {
     "data": {
      "text/html": [
       "<div>\n",
       "<table border=\"1\" class=\"dataframe\">\n",
       "  <thead>\n",
       "    <tr style=\"text-align: right;\">\n",
       "      <th></th>\n",
       "      <th>sha</th>\n",
       "      <th>date</th>\n",
       "      <th>author</th>\n",
       "    </tr>\n",
       "  </thead>\n",
       "  <tbody>\n",
       "    <tr>\n",
       "      <th>0</th>\n",
       "      <td>ea7e08b</td>\n",
       "      <td>2016-11-29 20:42:16</td>\n",
       "      <td>feststelltaste</td>\n",
       "    </tr>\n",
       "    <tr>\n",
       "      <th>1</th>\n",
       "      <td>NaN</td>\n",
       "      <td>NaT</td>\n",
       "      <td>NaN</td>\n",
       "    </tr>\n",
       "    <tr>\n",
       "      <th>2</th>\n",
       "      <td>NaN</td>\n",
       "      <td>NaT</td>\n",
       "      <td>NaN</td>\n",
       "    </tr>\n",
       "  </tbody>\n",
       "</table>\n",
       "</div>"
      ],
      "text/plain": [
       "       sha                date          author\n",
       "0  ea7e08b 2016-11-29 20:42:16  feststelltaste\n",
       "1      NaN                 NaT             NaN\n",
       "2      NaN                 NaT             NaN"
      ]
     },
     "execution_count": 8,
     "metadata": {},
     "output_type": "execute_result"
    }
   ],
   "source": [
    "commit_info.reindex(commits.index).head(3)"
   ]
  },
  {
   "cell_type": "markdown",
   "metadata": {},
   "source": [
    "And fill the missing values for the file statistics' rows to get the needed structure. Together, this is done like the following:"
   ]
  },
  {
   "cell_type": "code",
   "execution_count": 9,
   "metadata": {
    "collapsed": false
   },
   "outputs": [
    {
     "data": {
      "text/html": [
       "<div>\n",
       "<table border=\"1\" class=\"dataframe\">\n",
       "  <thead>\n",
       "    <tr style=\"text-align: right;\">\n",
       "      <th></th>\n",
       "      <th>sha</th>\n",
       "      <th>date</th>\n",
       "      <th>author</th>\n",
       "    </tr>\n",
       "  </thead>\n",
       "  <tbody>\n",
       "    <tr>\n",
       "      <th>0</th>\n",
       "      <td>ea7e08b</td>\n",
       "      <td>2016-11-29 20:42:16</td>\n",
       "      <td>feststelltaste</td>\n",
       "    </tr>\n",
       "    <tr>\n",
       "      <th>1</th>\n",
       "      <td>ea7e08b</td>\n",
       "      <td>2016-11-29 20:42:16</td>\n",
       "      <td>feststelltaste</td>\n",
       "    </tr>\n",
       "    <tr>\n",
       "      <th>2</th>\n",
       "      <td>ea7e08b</td>\n",
       "      <td>2016-11-29 20:42:16</td>\n",
       "      <td>feststelltaste</td>\n",
       "    </tr>\n",
       "    <tr>\n",
       "      <th>3</th>\n",
       "      <td>ea7e08b</td>\n",
       "      <td>2016-11-29 20:42:16</td>\n",
       "      <td>feststelltaste</td>\n",
       "    </tr>\n",
       "    <tr>\n",
       "      <th>4</th>\n",
       "      <td>fa1ca6f</td>\n",
       "      <td>2016-12-22 07:04:18</td>\n",
       "      <td>feststelltaste</td>\n",
       "    </tr>\n",
       "  </tbody>\n",
       "</table>\n",
       "</div>"
      ],
      "text/plain": [
       "       sha                date          author\n",
       "0  ea7e08b 2016-11-29 20:42:16  feststelltaste\n",
       "1  ea7e08b 2016-11-29 20:42:16  feststelltaste\n",
       "2  ea7e08b 2016-11-29 20:42:16  feststelltaste\n",
       "3  ea7e08b 2016-11-29 20:42:16  feststelltaste\n",
       "4  fa1ca6f 2016-12-22 07:04:18  feststelltaste"
      ]
     },
     "execution_count": 9,
     "metadata": {},
     "output_type": "execute_result"
    }
   ],
   "source": [
    "commit_data = commit_info.reindex(commits.index).fillna(method=\"ffill\")\n",
    "commit_data.head()"
   ]
  },
  {
   "cell_type": "markdown",
   "metadata": {},
   "source": [
    "After filling the file statitics rows, we can throw away the dedicated commit info rows by reusing the index from above."
   ]
  },
  {
   "cell_type": "code",
   "execution_count": 10,
   "metadata": {
    "collapsed": false
   },
   "outputs": [
    {
     "data": {
      "text/html": [
       "<div>\n",
       "<table border=\"1\" class=\"dataframe\">\n",
       "  <thead>\n",
       "    <tr style=\"text-align: right;\">\n",
       "      <th></th>\n",
       "      <th>sha</th>\n",
       "      <th>date</th>\n",
       "      <th>author</th>\n",
       "    </tr>\n",
       "  </thead>\n",
       "  <tbody>\n",
       "    <tr>\n",
       "      <th>1</th>\n",
       "      <td>ea7e08b</td>\n",
       "      <td>2016-11-29 20:42:16</td>\n",
       "      <td>feststelltaste</td>\n",
       "    </tr>\n",
       "    <tr>\n",
       "      <th>2</th>\n",
       "      <td>ea7e08b</td>\n",
       "      <td>2016-11-29 20:42:16</td>\n",
       "      <td>feststelltaste</td>\n",
       "    </tr>\n",
       "    <tr>\n",
       "      <th>3</th>\n",
       "      <td>ea7e08b</td>\n",
       "      <td>2016-11-29 20:42:16</td>\n",
       "      <td>feststelltaste</td>\n",
       "    </tr>\n",
       "    <tr>\n",
       "      <th>5</th>\n",
       "      <td>fa1ca6f</td>\n",
       "      <td>2016-12-22 07:04:18</td>\n",
       "      <td>feststelltaste</td>\n",
       "    </tr>\n",
       "    <tr>\n",
       "      <th>6</th>\n",
       "      <td>fa1ca6f</td>\n",
       "      <td>2016-12-22 07:04:18</td>\n",
       "      <td>feststelltaste</td>\n",
       "    </tr>\n",
       "  </tbody>\n",
       "</table>\n",
       "</div>"
      ],
      "text/plain": [
       "       sha                date          author\n",
       "1  ea7e08b 2016-11-29 20:42:16  feststelltaste\n",
       "2  ea7e08b 2016-11-29 20:42:16  feststelltaste\n",
       "3  ea7e08b 2016-11-29 20:42:16  feststelltaste\n",
       "5  fa1ca6f 2016-12-22 07:04:18  feststelltaste\n",
       "6  fa1ca6f 2016-12-22 07:04:18  feststelltaste"
      ]
     },
     "execution_count": 10,
     "metadata": {},
     "output_type": "execute_result"
    }
   ],
   "source": [
    "commit_data = commit_data[~commit_data.index.isin(commit_info.index)]\n",
    "commit_data.head()"
   ]
  },
  {
   "cell_type": "markdown",
   "metadata": {},
   "source": [
    "The easy step afterwards is to join the file statitics <tt>DataFrame</tt> with the <tt>commit_data</tt>."
   ]
  },
  {
   "cell_type": "code",
   "execution_count": 11,
   "metadata": {
    "collapsed": false
   },
   "outputs": [
    {
     "data": {
      "text/html": [
       "<div>\n",
       "<table border=\"1\" class=\"dataframe\">\n",
       "  <thead>\n",
       "    <tr style=\"text-align: right;\">\n",
       "      <th></th>\n",
       "      <th>sha</th>\n",
       "      <th>date</th>\n",
       "      <th>author</th>\n",
       "      <th>insertions</th>\n",
       "      <th>deletions</th>\n",
       "      <th>filename</th>\n",
       "    </tr>\n",
       "  </thead>\n",
       "  <tbody>\n",
       "    <tr>\n",
       "      <th>1</th>\n",
       "      <td>ea7e08b</td>\n",
       "      <td>2016-11-29 20:42:16</td>\n",
       "      <td>feststelltaste</td>\n",
       "      <td>2.0</td>\n",
       "      <td>0.0</td>\n",
       "      <td>src/main/asciidoc/appendices/bibliography.adoc</td>\n",
       "    </tr>\n",
       "    <tr>\n",
       "      <th>2</th>\n",
       "      <td>ea7e08b</td>\n",
       "      <td>2016-11-29 20:42:16</td>\n",
       "      <td>feststelltaste</td>\n",
       "      <td>1.0</td>\n",
       "      <td>7.0</td>\n",
       "      <td>src/main/asciidoc/pattern-index.adoc</td>\n",
       "    </tr>\n",
       "    <tr>\n",
       "      <th>3</th>\n",
       "      <td>ea7e08b</td>\n",
       "      <td>2016-11-29 20:42:16</td>\n",
       "      <td>feststelltaste</td>\n",
       "      <td>12.0</td>\n",
       "      <td>1.0</td>\n",
       "      <td>src/main/asciidoc/patterns/improve/anticorrupt...</td>\n",
       "    </tr>\n",
       "    <tr>\n",
       "      <th>5</th>\n",
       "      <td>fa1ca6f</td>\n",
       "      <td>2016-12-22 07:04:18</td>\n",
       "      <td>feststelltaste</td>\n",
       "      <td>2.0</td>\n",
       "      <td>0.0</td>\n",
       "      <td>src/main/asciidoc/appendices/bibliography.adoc</td>\n",
       "    </tr>\n",
       "    <tr>\n",
       "      <th>6</th>\n",
       "      <td>fa1ca6f</td>\n",
       "      <td>2016-12-22 07:04:18</td>\n",
       "      <td>feststelltaste</td>\n",
       "      <td>2.0</td>\n",
       "      <td>2.0</td>\n",
       "      <td>src/main/asciidoc/patterns/analyze/busfactor.adoc</td>\n",
       "    </tr>\n",
       "  </tbody>\n",
       "</table>\n",
       "</div>"
      ],
      "text/plain": [
       "       sha                date          author  insertions  deletions  \\\n",
       "1  ea7e08b 2016-11-29 20:42:16  feststelltaste         2.0        0.0   \n",
       "2  ea7e08b 2016-11-29 20:42:16  feststelltaste         1.0        7.0   \n",
       "3  ea7e08b 2016-11-29 20:42:16  feststelltaste        12.0        1.0   \n",
       "5  fa1ca6f 2016-12-22 07:04:18  feststelltaste         2.0        0.0   \n",
       "6  fa1ca6f 2016-12-22 07:04:18  feststelltaste         2.0        2.0   \n",
       "\n",
       "                                            filename  \n",
       "1     src/main/asciidoc/appendices/bibliography.adoc  \n",
       "2               src/main/asciidoc/pattern-index.adoc  \n",
       "3  src/main/asciidoc/patterns/improve/anticorrupt...  \n",
       "5     src/main/asciidoc/appendices/bibliography.adoc  \n",
       "6  src/main/asciidoc/patterns/analyze/busfactor.adoc  "
      ]
     },
     "execution_count": 11,
     "metadata": {},
     "output_type": "execute_result"
    }
   ],
   "source": [
    "commit_data = commit_data.join(file_stats)\n",
    "commit_data.head()"
   ]
  },
  {
   "cell_type": "markdown",
   "metadata": {},
   "source": [
    "We're done!"
   ]
  },
  {
   "cell_type": "markdown",
   "metadata": {},
   "source": [
    "# Complete code block\n",
    "To much code to look through? Here is everything from above in a condensed format."
   ]
  },
  {
   "cell_type": "code",
   "execution_count": 12,
   "metadata": {
    "collapsed": false
   },
   "outputs": [
    {
     "name": "stdout",
     "output_type": "stream",
     "text": [
      "Wall time: 220 ms\n"
     ]
    }
   ],
   "source": [
    "%%time\n",
    "import pandas as pd\n",
    "\n",
    "commits = pd.read_csv(r'C:\\dev\\repos\\aim42\\git.log', sep=\"\\u0012\", header=None, names=['raw'])\n",
    "\n",
    "commit_marker = commits[commits['raw'].str.startswith(\"--\",na=False)]\n",
    "commit_info = commit_marker['raw'].str.extract(\n",
    "        r\"^--(?P<sha>.*?)--(?P<date>.*?)--(?P<author>.*?)$\", \n",
    "        expand=True)\n",
    "commit_info['date'] = pd.to_datetime(commit_info['date'])\n",
    "\n",
    "file_stats_marker = commits[~commits.index.isin(commit_info.index)]\n",
    "file_stats = file_stats_marker['raw'].str.split(\"\\t\", expand=True)\n",
    "file_stats = file_stats.rename(columns={0: \"insertions\", 1: \"deletions\", 2: \"filename\"})\n",
    "file_stats['insertions'] = pd.to_numeric(file_stats['insertions'], errors='coerce')\n",
    "file_stats['deletions'] = pd.to_numeric(file_stats['deletions'], errors='coerce')\n",
    "\n",
    "commit_data = commit_info.reindex(commits.index).fillna(method=\"ffill\")\n",
    "commit_data = commit_data[~commit_data.index.isin(commit_info.index)]\n",
    "commit_data = commit_data.dropna()\n",
    "commit_data = commit_data.join(file_stats)"
   ]
  },
  {
   "cell_type": "markdown",
   "metadata": {},
   "source": [
    "Just some milliseconds to run through, not bad!"
   ]
  },
  {
   "cell_type": "markdown",
   "metadata": {
    "collapsed": true
   },
   "source": [
    "# Summary\n",
    "In this notebook, I showed you how to read some non-perfect structure data via the non-character separator trick. I also showed you how to tranform the rows that contain multiple kinds of data into one nicely structured <tt>DataFrame</tt>.\n",
    "\n",
    "Now that we have the Git repository <tt>DataFrame</tt>, we can do some nice things with it e. g. visualizing the code churn of a project, but that's a story for another notebook! But to give you a glimpse:"
   ]
  },
  {
   "cell_type": "code",
   "execution_count": 13,
   "metadata": {
    "collapsed": false
   },
   "outputs": [
    {
     "data": {
      "text/plain": [
       "<matplotlib.axes._subplots.AxesSubplot at 0x27c04c1d198>"
      ]
     },
     "execution_count": 13,
     "metadata": {},
     "output_type": "execute_result"
    },
    {
     "data": {
      "image/png": "[encoded data removed]",
      "text/plain": [
       "<matplotlib.figure.Figure at 0x27c04bedc88>"
      ]
     },
     "metadata": {},
     "output_type": "display_data"
    }
   ],
   "source": [
    "%matplotlib inline\n",
    "import matplotlib.pyplot as plt\n",
    "plt.style.use('seaborn-white')\n",
    "plot_data = commit_data.set_index(pd.DatetimeIndex(commit_data['date']))[['insertions', 'deletions']].resample('1D').sum()\n",
    "plot_data = plot_data\n",
    "plot_data['delta'] = plot_data['insertions'] - plot_data['deletions']\n",
    "plot_data['churn'] = plot_data['delta'].cumsum().fillna(method='ffill')\n",
    "plot_data['churn'].plot()"
   ]
  },
  {
   "cell_type": "markdown",
   "metadata": {},
   "source": [
    "Stay tuned!"
   ]
  }
 ],
 "metadata": {
  "anaconda-cloud": {},
  "kernelspec": {
   "display_name": "Python [Root]",
   "language": "python",
   "name": "Python [Root]"
  },
  "language_info": {
   "codemirror_mode": {
    "name": "ipython",
    "version": 3
   },
   "file_extension": ".py",
   "mimetype": "text/x-python",
   "name": "python",
   "nbconvert_exporter": "python",
   "pygments_lexer": "ipython3",
   "version": "3.5.2"
  }
 },
 "nbformat": 4,
 "nbformat_minor": 0
}
