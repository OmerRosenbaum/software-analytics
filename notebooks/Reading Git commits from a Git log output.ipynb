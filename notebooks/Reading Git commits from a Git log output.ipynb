{
 "cells": [
  {
   "cell_type": "markdown",
   "metadata": {
    "nbpresent": {
     "id": "4e3ff556-2ed1-4264-9e5d-c34080b5ef43"
    }
   },
   "source": [
    "# Context\n",
    "Reading data from a software version control system can be pretty useful if you want to answer some evolutionary questions like\n",
    "* Who are our main committers to the software?\n",
    "* Are there any areas in the code where only one developer knows of?\n",
    "* Where were we working on the last months?"
   ]
  },
  {
   "cell_type": "markdown",
   "metadata": {
    "nbpresent": {
     "id": "d090f3d2-84d9-4133-b461-3cd1584af048"
    }
   },
   "source": [
    "In my previous notebook, I showed you how to read a Git repository directly in Python with [Pandas](http://pandas.pydata.org/) and [GitPython](https://gitpython.readthedocs.io/en/stable/). As much as I like that approach (because everything is in one place and therefore reproducible), it's (currently) very slow while reading all the statistics information (but I'll work on that!). What I want to have now is a really fast method to read in a complete Git repository. \n",
    "\n",
    "I take this opportunity to show you how to read any kind of structure, linear data into Pandas' <tt>DataFrame</tt>. The general rule of thumb is: As long as you see a pattern in the raw data, Pandas can read and tame it, too!"
   ]
  },
  {
   "cell_type": "markdown",
   "metadata": {
    "nbpresent": {
     "id": "f1852e51-8531-4ccc-af20-8348509cfc9c"
    }
   },
   "source": [
    "# The idea\n",
    "We are taking a shortcut for retrieving the commit history by exporting it into a log file. You can use e. g.\n",
    "<pre>\n",
    "git log --all --numstat --pretty=format:'--%h--%ad--%aN' --no-renames > git.log \n",
    "</pre>\n",
    "to do this. This will output a file with all the log information of a repository."
   ]
  },
  {
   "cell_type": "markdown",
   "metadata": {
    "nbpresent": {
     "id": "0bd50158-8902-4051-ac36-6e5f4e708b83"
    }
   },
   "source": [
    "In this notebook, we analyze the Git repository of [aim42](https://github.com/aim42/aim42) (an open book project about how to improve legacy systems). \n",
    "\n",
    "The first entries of that file look something like this:"
   ]
  },
  {
   "cell_type": "code",
   "execution_count": 1,
   "metadata": {
    "collapsed": false,
    "nbpresent": {
     "id": "86a45314-4211-4cd1-93fb-9c156534a2e0"
    }
   },
   "outputs": [
    {
     "name": "stdout",
     "output_type": "stream",
     "text": [
      "--ea7e08b--Tue Nov 29 21:42:16 2016 +0100--feststelltaste\n",
      "2\t0\tsrc/main/asciidoc/appendices/bibliography.adoc\n",
      "1\t7\tsrc/main/asciidoc/pattern-index.adoc\n",
      "12\t1\tsrc/main/asciidoc/patterns/improve/anticorruption-layer.adoc\n",
      "\n",
      "--fa1ca6f--Thu Dec 22 08:04:18 2016 +0100--feststelltaste\n",
      "2\t0\tsrc/main/asciidoc/appendices/bibliography.adoc\n",
      "2\t2\tsrc/main/asciidoc/patterns/analyze/busfactor.adoc\n"
     ]
    }
   ],
   "source": [
    "with open (r'data/gitlog_aim42.log') as log:\n",
    "    [print(line, end='') for line in log.readlines()[:8]]"
   ]
  },
  {
   "cell_type": "markdown",
   "metadata": {
    "nbpresent": {
     "id": "5aee8b0f-d3e8-46d7-a680-0d6ff1966976"
    }
   },
   "source": [
    "For each commit, we choose to create a header line with the following commit info (by using <tt>--pretty=format:'--%h--%ad--%aN'</tt>):\n",
    "<pre>\n",
    "--fa1ca6f--Thu Dec 22 08:04:18 2016 +0100--feststelltaste\n",
    "</pre>\n",
    "It contains the SHA key, the timestamp as well as the author's name of the commit, separated by <tt>--</tt>. \n",
    "\n",
    "For each other row, we got some statistics about the modified files:\n",
    "<pre>\n",
    "2\t0\tsrc/main/asciidoc/appendices/bibliography.adoc\n",
    "</pre>\n",
    "\n",
    "It contains the number of lines inserted, the number of lines deleted and the relative path of the file. With a little trick and a little bit of data wrangling, we can read that information into a nicely structured DataFrame.\n",
    "\n",
    "Let's get started!"
   ]
  },
  {
   "cell_type": "markdown",
   "metadata": {
    "nbpresent": {
     "id": "3976cf03-5f93-4093-8ca4-fabaf7a85a83"
    }
   },
   "source": [
    "# Import the data"
   ]
  },
  {
   "cell_type": "markdown",
   "metadata": {
    "nbpresent": {
     "id": "5614c8bf-36b0-4371-bf78-b362561cfba3"
    }
   },
   "source": [
    "First, I'll show you my approach on how to read nearly everything into a <tt>DataFrame</tt>. The key is to use Pandas' <tt>read_csv</tt> for reading \"non-character separated values\". How to do that? We simply choose a separator that doesn't occur in the file that we want to read. My favorite character for this is the \"DEVICE CONTROL TWO\" character U+0012. I haven't encountered a situation yet where this character was included in a data set.\n",
    "\n",
    "We just read our <tt>git.log</tt> file without any headers (because there are none) and give the only column a nice name."
   ]
  },
  {
   "cell_type": "code",
   "execution_count": 2,
   "metadata": {
    "collapsed": false,
    "nbpresent": {
     "id": "b38ec597-d6b6-4b10-ba27-709b9415b124"
    }
   },
   "outputs": [
    {
     "data": {
      "text/html": [
       "<div>\n",
       "<table border=\"1\" class=\"dataframe\">\n",
       "  <thead>\n",
       "    <tr style=\"text-align: right;\">\n",
       "      <th></th>\n",
       "      <th>raw</th>\n",
       "    </tr>\n",
       "  </thead>\n",
       "  <tbody>\n",
       "    <tr>\n",
       "      <th>0</th>\n",
       "      <td>--ea7e08b--Tue Nov 29 21:42:16 2016 +0100--fes...</td>\n",
       "    </tr>\n",
       "    <tr>\n",
       "      <th>1</th>\n",
       "      <td>2\\t0\\tsrc/main/asciidoc/appendices/bibliograph...</td>\n",
       "    </tr>\n",
       "    <tr>\n",
       "      <th>2</th>\n",
       "      <td>1\\t7\\tsrc/main/asciidoc/pattern-index.adoc</td>\n",
       "    </tr>\n",
       "    <tr>\n",
       "      <th>3</th>\n",
       "      <td>12\\t1\\tsrc/main/asciidoc/patterns/improve/anti...</td>\n",
       "    </tr>\n",
       "    <tr>\n",
       "      <th>4</th>\n",
       "      <td>--fa1ca6f--Thu Dec 22 08:04:18 2016 +0100--fes...</td>\n",
       "    </tr>\n",
       "  </tbody>\n",
       "</table>\n",
       "</div>"
      ],
      "text/plain": [
       "                                                 raw\n",
       "0  --ea7e08b--Tue Nov 29 21:42:16 2016 +0100--fes...\n",
       "1  2\\t0\\tsrc/main/asciidoc/appendices/bibliograph...\n",
       "2         1\\t7\\tsrc/main/asciidoc/pattern-index.adoc\n",
       "3  12\\t1\\tsrc/main/asciidoc/patterns/improve/anti...\n",
       "4  --fa1ca6f--Thu Dec 22 08:04:18 2016 +0100--fes..."
      ]
     },
     "execution_count": 2,
     "metadata": {},
     "output_type": "execute_result"
    }
   ],
   "source": [
    "import pandas as pd\n",
    "\n",
    "commits = pd.read_csv(\"data\\gitlog_aim42.log\", \n",
    "                      sep=\"\\u0012\", \n",
    "                      header=None, \n",
    "                      names=['raw'])\n",
    "commits.head()"
   ]
  },
  {
   "cell_type": "markdown",
   "metadata": {
    "nbpresent": {
     "id": "0d4414c2-99ba-42b6-9968-8d9f30c260af"
    }
   },
   "source": [
    "# Data Wrangling"
   ]
  },
  {
   "cell_type": "markdown",
   "metadata": {
    "nbpresent": {
     "id": "ad927882-c62b-4461-991c-0cb43c38c09b"
    }
   },
   "source": [
    "OK, but now we have a <strike>problem</strike> data wrangling challenge. We have the commit info as well as the statistic for the modified file in one column, but they don't belong together. What we want is to have the commit info along with the file statistics in separate columns to get some serious analysis started."
   ]
  },
  {
   "cell_type": "markdown",
   "metadata": {
    "nbpresent": {
     "id": "9a844847-3efc-4812-aabc-7c0867c25321"
    }
   },
   "source": [
    "# Commit info\n",
    "Let's treat the commit info first. Luckily, we set some kind of anchor or marker to identify the commit info: Each commit info starts with a <tt>--</tt>. So let's extract all the commit info from the original <tt>commits</tt> <tt>DataFrame</tt>."
   ]
  },
  {
   "cell_type": "code",
   "execution_count": 3,
   "metadata": {
    "collapsed": false,
    "nbpresent": {
     "id": "e34097f6-1626-49ba-bb93-b5b2dfb20d8c"
    }
   },
   "outputs": [
    {
     "data": {
      "text/html": [
       "<div>\n",
       "<table border=\"1\" class=\"dataframe\">\n",
       "  <thead>\n",
       "    <tr style=\"text-align: right;\">\n",
       "      <th></th>\n",
       "      <th>raw</th>\n",
       "    </tr>\n",
       "  </thead>\n",
       "  <tbody>\n",
       "    <tr>\n",
       "      <th>0</th>\n",
       "      <td>--ea7e08b--Tue Nov 29 21:42:16 2016 +0100--fes...</td>\n",
       "    </tr>\n",
       "    <tr>\n",
       "      <th>4</th>\n",
       "      <td>--fa1ca6f--Thu Dec 22 08:04:18 2016 +0100--fes...</td>\n",
       "    </tr>\n",
       "    <tr>\n",
       "      <th>7</th>\n",
       "      <td>--c3d4e2d--Thu Dec 22 05:47:32 2016 +0100--Dr....</td>\n",
       "    </tr>\n",
       "    <tr>\n",
       "      <th>8</th>\n",
       "      <td>--3f793e8--Tue Nov 29 21:42:16 2016 +0100--fes...</td>\n",
       "    </tr>\n",
       "    <tr>\n",
       "      <th>12</th>\n",
       "      <td>--5d297c9--Wed Dec 21 20:49:33 2016 +0100--fes...</td>\n",
       "    </tr>\n",
       "  </tbody>\n",
       "</table>\n",
       "</div>"
      ],
      "text/plain": [
       "                                                  raw\n",
       "0   --ea7e08b--Tue Nov 29 21:42:16 2016 +0100--fes...\n",
       "4   --fa1ca6f--Thu Dec 22 08:04:18 2016 +0100--fes...\n",
       "7   --c3d4e2d--Thu Dec 22 05:47:32 2016 +0100--Dr....\n",
       "8   --3f793e8--Tue Nov 29 21:42:16 2016 +0100--fes...\n",
       "12  --5d297c9--Wed Dec 21 20:49:33 2016 +0100--fes..."
      ]
     },
     "execution_count": 3,
     "metadata": {},
     "output_type": "execute_result"
    }
   ],
   "source": [
    "commit_marker = commits[\n",
    "    commits['raw'].str.startswith(\"--\")]\n",
    "commit_marker.head()"
   ]
  },
  {
   "cell_type": "markdown",
   "metadata": {
    "nbpresent": {
     "id": "3363bbf6-f66e-4b19-a1e0-8b35404eead4"
    }
   },
   "source": [
    "With this, we can focus on extracting the information of a commit info row. The next command could be looking a little frightening, but don't worry. We go through it step by step."
   ]
  },
  {
   "cell_type": "code",
   "execution_count": 4,
   "metadata": {
    "collapsed": false,
    "nbpresent": {
     "id": "577cb8ae-fdd7-4835-93c0-3d52c7e7fa6d"
    }
   },
   "outputs": [
    {
     "data": {
      "text/html": [
       "<div>\n",
       "<table border=\"1\" class=\"dataframe\">\n",
       "  <thead>\n",
       "    <tr style=\"text-align: right;\">\n",
       "      <th></th>\n",
       "      <th>sha</th>\n",
       "      <th>date</th>\n",
       "      <th>author</th>\n",
       "    </tr>\n",
       "  </thead>\n",
       "  <tbody>\n",
       "    <tr>\n",
       "      <th>0</th>\n",
       "      <td>ea7e08b</td>\n",
       "      <td>2016-11-29 20:42:16</td>\n",
       "      <td>feststelltaste</td>\n",
       "    </tr>\n",
       "    <tr>\n",
       "      <th>4</th>\n",
       "      <td>fa1ca6f</td>\n",
       "      <td>2016-12-22 07:04:18</td>\n",
       "      <td>feststelltaste</td>\n",
       "    </tr>\n",
       "    <tr>\n",
       "      <th>7</th>\n",
       "      <td>c3d4e2d</td>\n",
       "      <td>2016-12-22 04:47:32</td>\n",
       "      <td>Dr. Gernot Starke</td>\n",
       "    </tr>\n",
       "    <tr>\n",
       "      <th>8</th>\n",
       "      <td>3f793e8</td>\n",
       "      <td>2016-11-29 20:42:16</td>\n",
       "      <td>feststelltaste</td>\n",
       "    </tr>\n",
       "    <tr>\n",
       "      <th>12</th>\n",
       "      <td>5d297c9</td>\n",
       "      <td>2016-12-21 19:49:33</td>\n",
       "      <td>feststelltaste</td>\n",
       "    </tr>\n",
       "  </tbody>\n",
       "</table>\n",
       "</div>"
      ],
      "text/plain": [
       "        sha                date             author\n",
       "0   ea7e08b 2016-11-29 20:42:16     feststelltaste\n",
       "4   fa1ca6f 2016-12-22 07:04:18     feststelltaste\n",
       "7   c3d4e2d 2016-12-22 04:47:32  Dr. Gernot Starke\n",
       "8   3f793e8 2016-11-29 20:42:16     feststelltaste\n",
       "12  5d297c9 2016-12-21 19:49:33     feststelltaste"
      ]
     },
     "execution_count": 4,
     "metadata": {},
     "output_type": "execute_result"
    }
   ],
   "source": [
    "commit_info = commit_marker['raw'].str.extract(\n",
    "        r\"^--(?P<sha>.*?)--(?P<date>.*?)--(?P<author>.*?)$\", \n",
    "        expand=True)   \n",
    "commit_info['date'] = pd.to_datetime(commit_info['date'])\n",
    "commit_info.head()"
   ]
  },
  {
   "cell_type": "markdown",
   "metadata": {
    "nbpresent": {
     "id": "4f628303-6f28-4d73-9213-189c2c8fe2fd"
    }
   },
   "source": [
    "We want to extract some data from the <tt>raw</tt> column. For this, we use the <tt>extract</tt> method on the string representation (note the<tt> str</tt>) of all the rows. This method expects a regular expression. We provide our own regex \n",
    "<pre>\n",
    "^--(?P&lt;sha&gt;.\\*?)--(?P&lt;date&gt;.\\*?)--(?P&lt;author&gt;.\\*?)$\n",
    "</pre>\n",
    "that works as follows:\n",
    "\n",
    "* <tt>^</tt>: the beginning of the row\n",
    "* <tt>--</tt>: the two dashes that we choose and are used in the git log file as separator between the entries\n",
    "* <tt>(?P&lt;sha&gt;.*?)--</tt>: a named match group (marked by the <tt>(</tt> and <tt>)</tt> ) with the name <tt>sha</tt> for all characters (<tt>.&#42;</tt>) until the next occurrence (<tt>?</tt>) of the <tt>--</tt> separators.\n",
    "* and so on until \n",
    "* <tt>\\$</tt>: the marker for the end of the row (actually, <tt>^</tt> and <tt>$</tt> aren't needed, but it looks nicer from a regex string's perspective in my eyes ;-) )\n",
    "\n",
    "I use these ugly looking, named match groups because then the name of such a group will be used by Pandas for the name of the column (therefore we avoid renaming the columns later on).\n",
    "\n",
    "The <tt>expand=True</tt> keyword delivers a <tt>DataFrame</tt> with columns for each detected regex group.\n",
    "\n",
    "We simply store the result into a new <tt>DataFrame</tt> variable <tt>commit_info</tt>.\n",
    "\n",
    "Because we've worked with the string representation of the row, Pandas didn't recognize the right data types for our newly created columns. That's why we need to cast the <tt>date</tt> column to the right type.\n",
    "\n"
   ]
  },
  {
   "cell_type": "markdown",
   "metadata": {
    "nbpresent": {
     "id": "995385e3-6483-4915-9714-c3146674dbae"
    }
   },
   "source": [
    "OK, this part is ready, let's have a look at the file statistics!"
   ]
  },
  {
   "cell_type": "markdown",
   "metadata": {
    "nbpresent": {
     "id": "c1baff0f-da59-418c-8ac5-172ecc162a90"
    }
   },
   "source": [
    "# File statistics"
   ]
  },
  {
   "cell_type": "markdown",
   "metadata": {
    "nbpresent": {
     "id": "491233b3-f1cf-4270-85ca-b7982a4c842d"
    }
   },
   "source": [
    "Every row that is not a commit info row is a file statistics row. So we just reuse the index of our already prepared <tt>commit_info</tt> <tt>DataFrame</tt> to get all the other data by saying \"give me all commits that are not in the index of the <tt>commit_info</tt>'s <tt>DataFrame</tt>\"."
   ]
  },
  {
   "cell_type": "code",
   "execution_count": 5,
   "metadata": {
    "collapsed": false,
    "nbpresent": {
     "id": "0a9c1f53-c819-4fad-abf6-fa6ddcc6e53e"
    }
   },
   "outputs": [
    {
     "data": {
      "text/html": [
       "<div>\n",
       "<table border=\"1\" class=\"dataframe\">\n",
       "  <thead>\n",
       "    <tr style=\"text-align: right;\">\n",
       "      <th></th>\n",
       "      <th>raw</th>\n",
       "    </tr>\n",
       "  </thead>\n",
       "  <tbody>\n",
       "    <tr>\n",
       "      <th>1</th>\n",
       "      <td>2\\t0\\tsrc/main/asciidoc/appendices/bibliograph...</td>\n",
       "    </tr>\n",
       "    <tr>\n",
       "      <th>2</th>\n",
       "      <td>1\\t7\\tsrc/main/asciidoc/pattern-index.adoc</td>\n",
       "    </tr>\n",
       "    <tr>\n",
       "      <th>3</th>\n",
       "      <td>12\\t1\\tsrc/main/asciidoc/patterns/improve/anti...</td>\n",
       "    </tr>\n",
       "    <tr>\n",
       "      <th>5</th>\n",
       "      <td>2\\t0\\tsrc/main/asciidoc/appendices/bibliograph...</td>\n",
       "    </tr>\n",
       "    <tr>\n",
       "      <th>6</th>\n",
       "      <td>2\\t2\\tsrc/main/asciidoc/patterns/analyze/busfa...</td>\n",
       "    </tr>\n",
       "  </tbody>\n",
       "</table>\n",
       "</div>"
      ],
      "text/plain": [
       "                                                 raw\n",
       "1  2\\t0\\tsrc/main/asciidoc/appendices/bibliograph...\n",
       "2         1\\t7\\tsrc/main/asciidoc/pattern-index.adoc\n",
       "3  12\\t1\\tsrc/main/asciidoc/patterns/improve/anti...\n",
       "5  2\\t0\\tsrc/main/asciidoc/appendices/bibliograph...\n",
       "6  2\\t2\\tsrc/main/asciidoc/patterns/analyze/busfa..."
      ]
     },
     "execution_count": 5,
     "metadata": {},
     "output_type": "execute_result"
    }
   ],
   "source": [
    "file_stats_marker = commits[\n",
    "    ~commits.index.isin(commit_info.index)]\n",
    "file_stats_marker.head()"
   ]
  },
  {
   "cell_type": "markdown",
   "metadata": {
    "nbpresent": {
     "id": "60078fab-210d-4b85-a688-4820de6d98a9"
    }
   },
   "source": [
    "Luckily, the row's data is just a tab-separated string that we can easily split with the <tt>split</tt> method. We expand the result to get a <tt>DataFrame</tt> , rename the default columns to something that make more sense and adjust some data types. For the later, we use the keyword <tt>coerce</tt> that will let <tt>to_numeric</tt> return <tt>Nan</tt>'s for all entries that are not a number."
   ]
  },
  {
   "cell_type": "code",
   "execution_count": 6,
   "metadata": {
    "collapsed": false,
    "nbpresent": {
     "id": "0a64edd8-1d4e-4456-8d54-db30f82da038"
    }
   },
   "outputs": [
    {
     "data": {
      "text/html": [
       "<div>\n",
       "<table border=\"1\" class=\"dataframe\">\n",
       "  <thead>\n",
       "    <tr style=\"text-align: right;\">\n",
       "      <th></th>\n",
       "      <th>insertions</th>\n",
       "      <th>deletions</th>\n",
       "      <th>filename</th>\n",
       "    </tr>\n",
       "  </thead>\n",
       "  <tbody>\n",
       "    <tr>\n",
       "      <th>1</th>\n",
       "      <td>2.0</td>\n",
       "      <td>0.0</td>\n",
       "      <td>src/main/asciidoc/appendices/bibliography.adoc</td>\n",
       "    </tr>\n",
       "    <tr>\n",
       "      <th>2</th>\n",
       "      <td>1.0</td>\n",
       "      <td>7.0</td>\n",
       "      <td>src/main/asciidoc/pattern-index.adoc</td>\n",
       "    </tr>\n",
       "    <tr>\n",
       "      <th>3</th>\n",
       "      <td>12.0</td>\n",
       "      <td>1.0</td>\n",
       "      <td>src/main/asciidoc/patterns/improve/anticorrupt...</td>\n",
       "    </tr>\n",
       "    <tr>\n",
       "      <th>5</th>\n",
       "      <td>2.0</td>\n",
       "      <td>0.0</td>\n",
       "      <td>src/main/asciidoc/appendices/bibliography.adoc</td>\n",
       "    </tr>\n",
       "    <tr>\n",
       "      <th>6</th>\n",
       "      <td>2.0</td>\n",
       "      <td>2.0</td>\n",
       "      <td>src/main/asciidoc/patterns/analyze/busfactor.adoc</td>\n",
       "    </tr>\n",
       "  </tbody>\n",
       "</table>\n",
       "</div>"
      ],
      "text/plain": [
       "   insertions  deletions                                           filename\n",
       "1         2.0        0.0     src/main/asciidoc/appendices/bibliography.adoc\n",
       "2         1.0        7.0               src/main/asciidoc/pattern-index.adoc\n",
       "3        12.0        1.0  src/main/asciidoc/patterns/improve/anticorrupt...\n",
       "5         2.0        0.0     src/main/asciidoc/appendices/bibliography.adoc\n",
       "6         2.0        2.0  src/main/asciidoc/patterns/analyze/busfactor.adoc"
      ]
     },
     "execution_count": 6,
     "metadata": {},
     "output_type": "execute_result"
    }
   ],
   "source": [
    "file_stats = file_stats_marker['raw'].str.split(\n",
    "    \"\\t\", expand=True)\n",
    "file_stats = file_stats.rename(\n",
    "    columns={ 0: \"insertions\", 1: \"deletions\", 2: \"filename\"})\n",
    "file_stats['insertions'] = pd.to_numeric(\n",
    "    file_stats['insertions'], errors='coerce')\n",
    "file_stats['deletions'] = pd.to_numeric(\n",
    "    file_stats['deletions'], errors='coerce')\n",
    "file_stats.head()"
   ]
  },
  {
   "cell_type": "markdown",
   "metadata": {
    "nbpresent": {
     "id": "bdb87d56-b9e9-44d4-91b0-37d6c00c1d42"
    }
   },
   "source": [
    "# Putting it all together\n",
    "Now we have three parts: all commits, the separated commit info and the file statistics.\n",
    "\n",
    "We only need to glue the commit info and the file statistics together into a normalized <tt>DataFrame</tt>. For this, we have to make some adjustments to the indexes.\n",
    "\n",
    "For the commit info, we want to have each info for each file statistics row. That means we reindex the commit info by using the index of the <tt>commits</tt> <tt>DataFrame</tt>..."
   ]
  },
  {
   "cell_type": "code",
   "execution_count": 7,
   "metadata": {
    "collapsed": false,
    "nbpresent": {
     "id": "81cdfe40-3a5d-44cf-9b55-eaf0a635761f"
    }
   },
   "outputs": [
    {
     "data": {
      "text/html": [
       "<div>\n",
       "<table border=\"1\" class=\"dataframe\">\n",
       "  <thead>\n",
       "    <tr style=\"text-align: right;\">\n",
       "      <th></th>\n",
       "      <th>sha</th>\n",
       "      <th>date</th>\n",
       "      <th>author</th>\n",
       "    </tr>\n",
       "  </thead>\n",
       "  <tbody>\n",
       "    <tr>\n",
       "      <th>0</th>\n",
       "      <td>ea7e08b</td>\n",
       "      <td>2016-11-29 20:42:16</td>\n",
       "      <td>feststelltaste</td>\n",
       "    </tr>\n",
       "    <tr>\n",
       "      <th>1</th>\n",
       "      <td>NaN</td>\n",
       "      <td>NaT</td>\n",
       "      <td>NaN</td>\n",
       "    </tr>\n",
       "    <tr>\n",
       "      <th>2</th>\n",
       "      <td>NaN</td>\n",
       "      <td>NaT</td>\n",
       "      <td>NaN</td>\n",
       "    </tr>\n",
       "  </tbody>\n",
       "</table>\n",
       "</div>"
      ],
      "text/plain": [
       "       sha                date          author\n",
       "0  ea7e08b 2016-11-29 20:42:16  feststelltaste\n",
       "1      NaN                 NaT             NaN\n",
       "2      NaN                 NaT             NaN"
      ]
     },
     "execution_count": 7,
     "metadata": {},
     "output_type": "execute_result"
    }
   ],
   "source": [
    "commit_info.reindex(commits.index).head(3)"
   ]
  },
  {
   "cell_type": "markdown",
   "metadata": {
    "nbpresent": {
     "id": "179fb755-5d48-421f-9f14-245aa203c5d1"
    }
   },
   "source": [
    "...and fill the missing values for the file statistics' rows to get the needed structure. Together, this is done like the following:"
   ]
  },
  {
   "cell_type": "code",
   "execution_count": 8,
   "metadata": {
    "collapsed": false,
    "nbpresent": {
     "id": "022f08fe-2746-4631-b0e2-1df34c154675"
    }
   },
   "outputs": [
    {
     "data": {
      "text/html": [
       "<div>\n",
       "<table border=\"1\" class=\"dataframe\">\n",
       "  <thead>\n",
       "    <tr style=\"text-align: right;\">\n",
       "      <th></th>\n",
       "      <th>sha</th>\n",
       "      <th>date</th>\n",
       "      <th>author</th>\n",
       "    </tr>\n",
       "  </thead>\n",
       "  <tbody>\n",
       "    <tr>\n",
       "      <th>0</th>\n",
       "      <td>ea7e08b</td>\n",
       "      <td>2016-11-29 20:42:16</td>\n",
       "      <td>feststelltaste</td>\n",
       "    </tr>\n",
       "    <tr>\n",
       "      <th>1</th>\n",
       "      <td>ea7e08b</td>\n",
       "      <td>2016-11-29 20:42:16</td>\n",
       "      <td>feststelltaste</td>\n",
       "    </tr>\n",
       "    <tr>\n",
       "      <th>2</th>\n",
       "      <td>ea7e08b</td>\n",
       "      <td>2016-11-29 20:42:16</td>\n",
       "      <td>feststelltaste</td>\n",
       "    </tr>\n",
       "    <tr>\n",
       "      <th>3</th>\n",
       "      <td>ea7e08b</td>\n",
       "      <td>2016-11-29 20:42:16</td>\n",
       "      <td>feststelltaste</td>\n",
       "    </tr>\n",
       "    <tr>\n",
       "      <th>4</th>\n",
       "      <td>fa1ca6f</td>\n",
       "      <td>2016-12-22 07:04:18</td>\n",
       "      <td>feststelltaste</td>\n",
       "    </tr>\n",
       "  </tbody>\n",
       "</table>\n",
       "</div>"
      ],
      "text/plain": [
       "       sha                date          author\n",
       "0  ea7e08b 2016-11-29 20:42:16  feststelltaste\n",
       "1  ea7e08b 2016-11-29 20:42:16  feststelltaste\n",
       "2  ea7e08b 2016-11-29 20:42:16  feststelltaste\n",
       "3  ea7e08b 2016-11-29 20:42:16  feststelltaste\n",
       "4  fa1ca6f 2016-12-22 07:04:18  feststelltaste"
      ]
     },
     "execution_count": 8,
     "metadata": {},
     "output_type": "execute_result"
    }
   ],
   "source": [
    "commit_data = commit_info.reindex(\n",
    "    commits.index).fillna(method=\"ffill\")\n",
    "commit_data.head()"
   ]
  },
  {
   "cell_type": "markdown",
   "metadata": {
    "nbpresent": {
     "id": "d9667ccd-8a26-4cb3-8d63-11ed06ef8f3d"
    }
   },
   "source": [
    "After filling the file statistics rows, we can throw away the dedicated commit info rows by reusing the index from above (look at the index for seeing this clearly)."
   ]
  },
  {
   "cell_type": "code",
   "execution_count": 9,
   "metadata": {
    "collapsed": false,
    "nbpresent": {
     "id": "60bbce75-8da3-443d-8b38-9a2609cc2e8d"
    }
   },
   "outputs": [
    {
     "data": {
      "text/html": [
       "<div>\n",
       "<table border=\"1\" class=\"dataframe\">\n",
       "  <thead>\n",
       "    <tr style=\"text-align: right;\">\n",
       "      <th></th>\n",
       "      <th>sha</th>\n",
       "      <th>date</th>\n",
       "      <th>author</th>\n",
       "    </tr>\n",
       "  </thead>\n",
       "  <tbody>\n",
       "    <tr>\n",
       "      <th>1</th>\n",
       "      <td>ea7e08b</td>\n",
       "      <td>2016-11-29 20:42:16</td>\n",
       "      <td>feststelltaste</td>\n",
       "    </tr>\n",
       "    <tr>\n",
       "      <th>2</th>\n",
       "      <td>ea7e08b</td>\n",
       "      <td>2016-11-29 20:42:16</td>\n",
       "      <td>feststelltaste</td>\n",
       "    </tr>\n",
       "    <tr>\n",
       "      <th>3</th>\n",
       "      <td>ea7e08b</td>\n",
       "      <td>2016-11-29 20:42:16</td>\n",
       "      <td>feststelltaste</td>\n",
       "    </tr>\n",
       "    <tr>\n",
       "      <th>5</th>\n",
       "      <td>fa1ca6f</td>\n",
       "      <td>2016-12-22 07:04:18</td>\n",
       "      <td>feststelltaste</td>\n",
       "    </tr>\n",
       "    <tr>\n",
       "      <th>6</th>\n",
       "      <td>fa1ca6f</td>\n",
       "      <td>2016-12-22 07:04:18</td>\n",
       "      <td>feststelltaste</td>\n",
       "    </tr>\n",
       "  </tbody>\n",
       "</table>\n",
       "</div>"
      ],
      "text/plain": [
       "       sha                date          author\n",
       "1  ea7e08b 2016-11-29 20:42:16  feststelltaste\n",
       "2  ea7e08b 2016-11-29 20:42:16  feststelltaste\n",
       "3  ea7e08b 2016-11-29 20:42:16  feststelltaste\n",
       "5  fa1ca6f 2016-12-22 07:04:18  feststelltaste\n",
       "6  fa1ca6f 2016-12-22 07:04:18  feststelltaste"
      ]
     },
     "execution_count": 9,
     "metadata": {},
     "output_type": "execute_result"
    }
   ],
   "source": [
    "commit_data = commit_data[~commit_data.index.isin(commit_info.index)]\n",
    "commit_data.head()"
   ]
  },
  {
   "cell_type": "markdown",
   "metadata": {
    "nbpresent": {
     "id": "43c8d1f2-07cb-4135-a562-fbe14674f767"
    }
   },
   "source": [
    "The easy step afterward is to join the <tt>file_stats</tt> <tt>DataFrame</tt> with the <tt>commit_data</tt>."
   ]
  },
  {
   "cell_type": "code",
   "execution_count": 10,
   "metadata": {
    "collapsed": false,
    "nbpresent": {
     "id": "cffa207d-719c-4ea3-ae5c-556ca5ee692e"
    }
   },
   "outputs": [
    {
     "data": {
      "text/html": [
       "<div>\n",
       "<table border=\"1\" class=\"dataframe\">\n",
       "  <thead>\n",
       "    <tr style=\"text-align: right;\">\n",
       "      <th></th>\n",
       "      <th>sha</th>\n",
       "      <th>date</th>\n",
       "      <th>author</th>\n",
       "      <th>insertions</th>\n",
       "      <th>deletions</th>\n",
       "      <th>filename</th>\n",
       "    </tr>\n",
       "  </thead>\n",
       "  <tbody>\n",
       "    <tr>\n",
       "      <th>1</th>\n",
       "      <td>ea7e08b</td>\n",
       "      <td>2016-11-29 20:42:16</td>\n",
       "      <td>feststelltaste</td>\n",
       "      <td>2.0</td>\n",
       "      <td>0.0</td>\n",
       "      <td>src/main/asciidoc/appendices/bibliography.adoc</td>\n",
       "    </tr>\n",
       "    <tr>\n",
       "      <th>2</th>\n",
       "      <td>ea7e08b</td>\n",
       "      <td>2016-11-29 20:42:16</td>\n",
       "      <td>feststelltaste</td>\n",
       "      <td>1.0</td>\n",
       "      <td>7.0</td>\n",
       "      <td>src/main/asciidoc/pattern-index.adoc</td>\n",
       "    </tr>\n",
       "    <tr>\n",
       "      <th>3</th>\n",
       "      <td>ea7e08b</td>\n",
       "      <td>2016-11-29 20:42:16</td>\n",
       "      <td>feststelltaste</td>\n",
       "      <td>12.0</td>\n",
       "      <td>1.0</td>\n",
       "      <td>src/main/asciidoc/patterns/improve/anticorrupt...</td>\n",
       "    </tr>\n",
       "    <tr>\n",
       "      <th>5</th>\n",
       "      <td>fa1ca6f</td>\n",
       "      <td>2016-12-22 07:04:18</td>\n",
       "      <td>feststelltaste</td>\n",
       "      <td>2.0</td>\n",
       "      <td>0.0</td>\n",
       "      <td>src/main/asciidoc/appendices/bibliography.adoc</td>\n",
       "    </tr>\n",
       "    <tr>\n",
       "      <th>6</th>\n",
       "      <td>fa1ca6f</td>\n",
       "      <td>2016-12-22 07:04:18</td>\n",
       "      <td>feststelltaste</td>\n",
       "      <td>2.0</td>\n",
       "      <td>2.0</td>\n",
       "      <td>src/main/asciidoc/patterns/analyze/busfactor.adoc</td>\n",
       "    </tr>\n",
       "  </tbody>\n",
       "</table>\n",
       "</div>"
      ],
      "text/plain": [
       "       sha                date          author  insertions  deletions  \\\n",
       "1  ea7e08b 2016-11-29 20:42:16  feststelltaste         2.0        0.0   \n",
       "2  ea7e08b 2016-11-29 20:42:16  feststelltaste         1.0        7.0   \n",
       "3  ea7e08b 2016-11-29 20:42:16  feststelltaste        12.0        1.0   \n",
       "5  fa1ca6f 2016-12-22 07:04:18  feststelltaste         2.0        0.0   \n",
       "6  fa1ca6f 2016-12-22 07:04:18  feststelltaste         2.0        2.0   \n",
       "\n",
       "                                            filename  \n",
       "1     src/main/asciidoc/appendices/bibliography.adoc  \n",
       "2               src/main/asciidoc/pattern-index.adoc  \n",
       "3  src/main/asciidoc/patterns/improve/anticorrupt...  \n",
       "5     src/main/asciidoc/appendices/bibliography.adoc  \n",
       "6  src/main/asciidoc/patterns/analyze/busfactor.adoc  "
      ]
     },
     "execution_count": 10,
     "metadata": {},
     "output_type": "execute_result"
    }
   ],
   "source": [
    "commit_data = commit_data.join(file_stats)\n",
    "commit_data.head()"
   ]
  },
  {
   "cell_type": "markdown",
   "metadata": {
    "nbpresent": {
     "id": "002860f4-1961-4409-8b2b-20835285ff24"
    }
   },
   "source": [
    "We're done!"
   ]
  },
  {
   "cell_type": "markdown",
   "metadata": {
    "nbpresent": {
     "id": "56ee3c98-8b97-41bf-938d-108f98a4606b"
    }
   },
   "source": [
    "# Complete code block\n",
    "To much code to look through? Here is everything from above in a condensed format."
   ]
  },
  {
   "cell_type": "code",
   "execution_count": 11,
   "metadata": {
    "collapsed": false,
    "nbpresent": {
     "id": "6eb87420-81da-4191-9758-f404134a26ce"
    }
   },
   "outputs": [
    {
     "name": "stdout",
     "output_type": "stream",
     "text": [
      "Wall time: 219 ms\n"
     ]
    }
   ],
   "source": [
    "%%time\n",
    "import pandas as pd\n",
    "\n",
    "commits = pd.read_csv(r'C:\\dev\\repos\\aim42\\git.log', sep=\"\\u0012\", header=None, names=['raw'])\n",
    "\n",
    "commit_marker = commits[commits['raw'].str.startswith(\"--\",na=False)]\n",
    "commit_info = commit_marker['raw'].str.extract(r\"^--(?P<sha>.*?)--(?P<date>.*?)--(?P<author>.*?)$\", expand=True)\n",
    "commit_info['date'] = pd.to_datetime(commit_info['date'])\n",
    "\n",
    "file_stats_marker = commits[~commits.index.isin(commit_info.index)]\n",
    "file_stats = file_stats_marker['raw'].str.split(\"\\t\", expand=True)\n",
    "file_stats = file_stats.rename(columns={0: \"insertions\", 1: \"deletions\", 2: \"filename\"})\n",
    "file_stats['insertions'] = pd.to_numeric(file_stats['insertions'], errors='coerce')\n",
    "file_stats['deletions'] = pd.to_numeric(file_stats['deletions'], errors='coerce')\n",
    "\n",
    "commit_data = commit_info.reindex(commits.index).fillna(method=\"ffill\")\n",
    "commit_data = commit_data[~commit_data.index.isin(commit_info.index)]\n",
    "commit_data = commit_data.join(file_stats)"
   ]
  },
  {
   "cell_type": "markdown",
   "metadata": {
    "nbpresent": {
     "id": "e9d7a22e-fec0-4b9a-801d-923e8b4ab42e"
    }
   },
   "source": [
    "Just some milliseconds to run through, not bad!"
   ]
  },
  {
   "cell_type": "markdown",
   "metadata": {
    "collapsed": true,
    "nbpresent": {
     "id": "417386b7-669e-4c2e-93bc-2abae6b03699"
    }
   },
   "source": [
    "# Summary\n",
    "In this notebook, I showed you how to read some non-perfect structured data via the non-character separator trick. I also showed you how to transform the rows that contain multiple kinds of data into one nicely structured <tt>DataFrame</tt>.\n",
    "\n",
    "Now that we have the Git repository <tt>DataFrame</tt>, we can do some nice things with it e. g. visualizing the code churn of a project, but that's a story for another notebook! But to give you a short preview:"
   ]
  },
  {
   "cell_type": "code",
   "execution_count": 12,
   "metadata": {
    "collapsed": false,
    "nbpresent": {
     "id": "edfb29bb-0a19-4835-be91-60f8ae4941ca"
    }
   },
   "outputs": [
    {
     "data": {
      "text/plain": [
       "<matplotlib.axes._subplots.AxesSubplot at 0x27a49010978>"
      ]
     },
     "execution_count": 12,
     "metadata": {},
     "output_type": "execute_result"
    },
    {
     "data": {
      "image/png": "[encoded data removed]",
      "text/plain": [
       "<matplotlib.figure.Figure at 0x27a490102e8>"
      ]
     },
     "metadata": {},
     "output_type": "display_data"
    }
   ],
   "source": [
    "%matplotlib inline\n",
    "timed_commits = commit_data.set_index(pd.DatetimeIndex(commit_data['date']))[['insertions', 'deletions']].resample('1D').sum()\n",
    "(timed_commits['insertions'] - timed_commits['deletions']).cumsum().fillna(method='ffill').plot()"
   ]
  },
  {
   "cell_type": "markdown",
   "metadata": {
    "nbpresent": {
     "id": "b9045217-458c-49e7-ab17-b873047bc10e"
    }
   },
   "source": [
    "Stay tuned!"
   ]
  }
 ],
 "metadata": {
  "anaconda-cloud": {},
  "kernelspec": {
   "display_name": "Python [Root]",
   "language": "python",
   "name": "Python [Root]"
  },
  "language_info": {
   "codemirror_mode": {
    "name": "ipython",
    "version": 3
   },
   "file_extension": ".py",
   "mimetype": "text/x-python",
   "name": "python",
   "nbconvert_exporter": "python",
   "pygments_lexer": "ipython3",
   "version": "3.5.2"
  },
  "nbpresent": {
   "slides": {
    "1c3bf261-5fad-42f1-be29-bc970f66b78f": {
     "id": "1c3bf261-5fad-42f1-be29-bc970f66b78f",
     "prev": "2f379bd9-addb-4c73-aff7-0effc56da804",
     "regions": {
      "05f3625e-4608-4f56-b0c8-42757d38085e": {
       "attrs": {
        "height": 1,
        "width": 1,
        "x": 0,
        "y": 0
       },
       "content": {
        "cell": "cffa207d-719c-4ea3-ae5c-556ca5ee692e",
        "part": "whole"
       },
       "id": "05f3625e-4608-4f56-b0c8-42757d38085e"
      }
     }
    },
    "2f379bd9-addb-4c73-aff7-0effc56da804": {
     "id": "2f379bd9-addb-4c73-aff7-0effc56da804",
     "prev": "fa62ca0d-9305-405d-a301-04fab08ee8f3",
     "regions": {
      "ac003123-264d-4b81-95cd-d79b47595f27": {
       "attrs": {
        "height": 1,
        "width": 1,
        "x": 0,
        "y": 0
       },
       "content": {
        "cell": "022f08fe-2746-4631-b0e2-1df34c154675",
        "part": "whole"
       },
       "id": "ac003123-264d-4b81-95cd-d79b47595f27"
      }
     }
    },
    "3935cf8e-ea1d-4e1d-ad46-fcb10946cd1d": {
     "id": "3935cf8e-ea1d-4e1d-ad46-fcb10946cd1d",
     "prev": "88ab58e4-fc80-487b-83b5-687302c35522",
     "regions": {
      "a666344f-e0ba-42c7-9f85-12abfa643611": {
       "attrs": {
        "height": 1,
        "width": 1,
        "x": 0,
        "y": 0
       },
       "content": {
        "cell": "b38ec597-d6b6-4b10-ba27-709b9415b124",
        "part": "whole"
       },
       "id": "a666344f-e0ba-42c7-9f85-12abfa643611"
      }
     }
    },
    "46431dec-27a6-40c6-af95-5fb2f230ebd4": {
     "id": "46431dec-27a6-40c6-af95-5fb2f230ebd4",
     "prev": "90fbdba6-3c4e-436f-b4a1-a4a469dde026",
     "regions": {
      "ee88eafd-7388-4463-9651-9e672e3cf093": {
       "attrs": {
        "height": 1,
        "width": 1,
        "x": 0,
        "y": 0
       },
       "content": {
        "cell": "577cb8ae-fdd7-4835-93c0-3d52c7e7fa6d",
        "part": "whole"
       },
       "id": "ee88eafd-7388-4463-9651-9e672e3cf093"
      }
     }
    },
    "467b68fa-ba68-43f0-be64-972fa50485c2": {
     "id": "467b68fa-ba68-43f0-be64-972fa50485c2",
     "prev": "46431dec-27a6-40c6-af95-5fb2f230ebd4",
     "regions": {
      "06523258-1daa-4bbe-9b61-1af7bac105f8": {
       "attrs": {
        "height": 1,
        "width": 1,
        "x": 0,
        "y": 0
       },
       "content": {
        "cell": "0a9c1f53-c819-4fad-abf6-fa6ddcc6e53e",
        "part": "whole"
       },
       "id": "06523258-1daa-4bbe-9b61-1af7bac105f8"
      }
     }
    },
    "5ce0a5c0-69e6-403c-8b9e-e91a4f6d2084": {
     "id": "5ce0a5c0-69e6-403c-8b9e-e91a4f6d2084",
     "prev": "467b68fa-ba68-43f0-be64-972fa50485c2",
     "regions": {
      "447d5ea1-72a7-484d-b127-7c87b2fb17a5": {
       "attrs": {
        "height": 1,
        "width": 1,
        "x": 0,
        "y": 0
       },
       "content": {
        "cell": "0a64edd8-1d4e-4456-8d54-db30f82da038",
        "part": "whole"
       },
       "id": "447d5ea1-72a7-484d-b127-7c87b2fb17a5"
      }
     }
    },
    "69bc04e6-b390-4c39-8cfc-e901363073db": {
     "id": "69bc04e6-b390-4c39-8cfc-e901363073db",
     "prev": "b7d251b4-9300-4d87-a4c2-ce9e82cceaf1",
     "regions": {
      "d71fa94c-1908-4c10-8468-35ec4c0d0b60": {
       "attrs": {
        "height": 1,
        "width": 1,
        "x": 0,
        "y": 0
       },
       "content": {
        "cell": "f1852e51-8531-4ccc-af20-8348509cfc9c",
        "part": "whole"
       },
       "id": "d71fa94c-1908-4c10-8468-35ec4c0d0b60"
      }
     }
    },
    "88ab58e4-fc80-487b-83b5-687302c35522": {
     "id": "88ab58e4-fc80-487b-83b5-687302c35522",
     "prev": "69bc04e6-b390-4c39-8cfc-e901363073db",
     "regions": {
      "08604d82-a07c-41b3-ad38-e27b39ee83a2": {
       "attrs": {
        "height": 1,
        "width": 1,
        "x": 0,
        "y": 0
       },
       "content": {
        "cell": "86a45314-4211-4cd1-93fb-9c156534a2e0",
        "part": "whole"
       },
       "id": "08604d82-a07c-41b3-ad38-e27b39ee83a2"
      }
     }
    },
    "90fbdba6-3c4e-436f-b4a1-a4a469dde026": {
     "id": "90fbdba6-3c4e-436f-b4a1-a4a469dde026",
     "prev": "3935cf8e-ea1d-4e1d-ad46-fcb10946cd1d",
     "regions": {
      "66d3717e-256a-4063-96cf-415ced19032d": {
       "attrs": {
        "height": 1,
        "width": 1,
        "x": 0,
        "y": 0
       },
       "content": {
        "cell": "e34097f6-1626-49ba-bb93-b5b2dfb20d8c",
        "part": "whole"
       },
       "id": "66d3717e-256a-4063-96cf-415ced19032d"
      }
     }
    },
    "b7d251b4-9300-4d87-a4c2-ce9e82cceaf1": {
     "id": "b7d251b4-9300-4d87-a4c2-ce9e82cceaf1",
     "prev": null,
     "regions": {
      "0e54fbca-ee14-4d41-8134-a7e4848c8244": {
       "attrs": {
        "height": 1,
        "width": 1,
        "x": 0,
        "y": 0
       },
       "content": {
        "cell": "4e3ff556-2ed1-4264-9e5d-c34080b5ef43",
        "part": "whole"
       },
       "id": "0e54fbca-ee14-4d41-8134-a7e4848c8244"
      }
     }
    },
    "ce90176b-054d-44da-82e5-24e00f159d44": {
     "id": "ce90176b-054d-44da-82e5-24e00f159d44",
     "prev": "1c3bf261-5fad-42f1-be29-bc970f66b78f",
     "regions": {
      "a049b370-d20d-4b31-b12d-d1e98cf186a5": {
       "attrs": {
        "height": 1,
        "width": 1,
        "x": 0,
        "y": 0
       },
       "content": {
        "cell": "edfb29bb-0a19-4835-be91-60f8ae4941ca",
        "part": "whole"
       },
       "id": "a049b370-d20d-4b31-b12d-d1e98cf186a5"
      }
     }
    },
    "fa62ca0d-9305-405d-a301-04fab08ee8f3": {
     "id": "fa62ca0d-9305-405d-a301-04fab08ee8f3",
     "prev": "5ce0a5c0-69e6-403c-8b9e-e91a4f6d2084",
     "regions": {
      "e33a8ad9-898a-435b-9cd8-a0a9e971b7c0": {
       "attrs": {
        "height": 1,
        "width": 1,
        "x": 0,
        "y": 0
       },
       "content": {
        "cell": "81cdfe40-3a5d-44cf-9b55-eaf0a635761f",
        "part": "whole"
       },
       "id": "e33a8ad9-898a-435b-9cd8-a0a9e971b7c0"
      }
     }
    }
   },
   "themes": {
    "default": "66eaa5a2-7a73-471f-ab56-5b57ef30cb08",
    "theme": {
     "66eaa5a2-7a73-471f-ab56-5b57ef30cb08": {
      "id": "66eaa5a2-7a73-471f-ab56-5b57ef30cb08",
      "palette": {
       "19cc588f-0593-49c9-9f4b-e4d7cc113b1c": {
        "id": "19cc588f-0593-49c9-9f4b-e4d7cc113b1c",
        "rgb": [
         252,
         252,
         252
        ]
       },
       "31af15d2-7e15-44c5-ab5e-e04b16a89eff": {
        "id": "31af15d2-7e15-44c5-ab5e-e04b16a89eff",
        "rgb": [
         68,
         68,
         68
        ]
       },
       "50f92c45-a630-455b-aec3-788680ec7410": {
        "id": "50f92c45-a630-455b-aec3-788680ec7410",
        "rgb": [
         155,
         177,
         192
        ]
       },
       "c5cc3653-2ee1-402a-aba2-7caae1da4f6c": {
        "id": "c5cc3653-2ee1-402a-aba2-7caae1da4f6c",
        "rgb": [
         43,
         126,
         184
        ]
       },
       "efa7f048-9acb-414c-8b04-a26811511a21": {
        "id": "efa7f048-9acb-414c-8b04-a26811511a21",
        "rgb": [
         25.118061674008803,
         73.60176211453744,
         107.4819383259912
        ]
       }
      },
      "rules": {
       "blockquote": {
        "color": "50f92c45-a630-455b-aec3-788680ec7410"
       },
       "code": {
        "font-family": "Anonymous Pro"
       },
       "h1": {
        "color": "c5cc3653-2ee1-402a-aba2-7caae1da4f6c",
        "font-family": "Lato",
        "font-size": 8
       },
       "h2": {
        "color": "c5cc3653-2ee1-402a-aba2-7caae1da4f6c",
        "font-family": "Lato",
        "font-size": 6
       },
       "h3": {
        "color": "50f92c45-a630-455b-aec3-788680ec7410",
        "font-family": "Lato",
        "font-size": 5.5
       },
       "h4": {
        "color": "c5cc3653-2ee1-402a-aba2-7caae1da4f6c",
        "font-family": "Lato",
        "font-size": 5
       },
       "h5": {
        "font-family": "Lato"
       },
       "h6": {
        "font-family": "Lato"
       },
       "h7": {
        "font-family": "Lato"
       },
       "pre": {
        "font-family": "Anonymous Pro",
        "font-size": 4
       }
      },
      "text-base": {
       "font-family": "Merriweather",
       "font-size": 4
      }
     },
     "ecdad483-e20b-4d01-87c5-efd37e40b00e": {
      "backgrounds": {
       "backgroundColor": {
        "background-color": "backgroundColor",
        "id": "backgroundColor"
       }
      },
      "id": "ecdad483-e20b-4d01-87c5-efd37e40b00e",
      "palette": {
       "backgroundColor": {
        "id": "backgroundColor",
        "rgb": [
         256,
         256,
         256
        ]
       },
       "headingColor": {
        "id": "headingColor",
        "rgb": [
         34,
         34,
         34
        ]
       },
       "linkColor": {
        "id": "linkColor",
        "rgb": [
         42,
         118,
         221
        ]
       },
       "mainColor": {
        "id": "mainColor",
        "rgb": [
         34,
         34,
         34
        ]
       }
      },
      "rules": {
       "a": {
        "color": "linkColor"
       },
       "h1": {
        "color": "headingColor",
        "font-family": "Source Sans Pro",
        "font-size": 5.25
       },
       "h2": {
        "color": "headingColor",
        "font-family": "Source Sans Pro",
        "font-size": 4
       },
       "h3": {
        "color": "headingColor",
        "font-family": "Source Sans Pro",
        "font-size": 3.5
       },
       "h4": {
        "color": "headingColor",
        "font-family": "Source Sans Pro",
        "font-size": 3
       },
       "h5": {
        "color": "headingColor",
        "font-family": "Source Sans Pro"
       },
       "h6": {
        "color": "headingColor",
        "font-family": "Source Sans Pro"
       },
       "h7": {
        "color": "headingColor",
        "font-family": "Source Sans Pro"
       },
       "li": {
        "color": "mainColor",
        "font-family": "Source Sans Pro",
        "font-size": 6
       },
       "p": {
        "color": "mainColor",
        "font-family": "Source Sans Pro",
        "font-size": 6
       }
      },
      "text-base": {
       "color": "mainColor",
       "font-family": "Source Sans Pro",
       "font-size": 6
      }
     }
    }
   }
  }
 },
 "nbformat": 4,
 "nbformat_minor": 0
}
