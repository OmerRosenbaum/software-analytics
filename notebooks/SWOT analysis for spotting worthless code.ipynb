{
 "cells": [
  {
   "cell_type": "markdown",
   "metadata": {
    "slideshow": {
     "slide_type": "slide"
    }
   },
   "source": [
    "# Introduction\n",
    "In this short blog post, I want to show you an idea where you take some very detailed datasets from a software project and transform it into a representation where management can reason about. For this,\n",
    "\n",
    "* we take the utilization of a web application measured by the code coverage during user interactions\n",
    "* we estimate the investments in the software by the number of changes\n",
    "* we aggregate the data to something management can understand\n",
    "* we visualize the results in a [SWOT (Strengths, Weaknesses, Opportunities, Threats) matrix](https://en.wikipedia.org/wiki/SWOT_analysis)\n",
    "\n",
    "This little picture summarizes the main ideas where the data comes from:\n",
    "\n",
    "![](resources/worthless_code.png)\n",
    "\n",
    "\n",
    "Let's get some insights!"
   ]
  },
  {
   "cell_type": "markdown",
   "metadata": {
    "slideshow": {
     "slide_type": "skip"
    }
   },
   "source": [
    "## Utilization of a production system\n",
    "A proxy for utilization, we've taken the code coverage of a web application during the live operation with the user. We've collected that data by attaching the JaCoCo agent to the Java process (for details on how to do that see my blog post [\"Visualizing Production Coverage with JaCoCo, Pandas and D3\"](https://www.feststelltaste.de/visualizing-production-coverage-with-jacoco-pandas-and-d3/)).\n",
    "\n",
    "The result is a dataset with covered lines per class. We read that into a Pandas DataFrame."
   ]
  },
  {
   "cell_type": "code",
   "execution_count": 1,
   "metadata": {
    "slideshow": {
     "slide_type": "skip"
    }
   },
   "outputs": [
    {
     "data": {
      "text/html": [
       "<div>\n",
       "<style scoped>\n",
       "    .dataframe tbody tr th:only-of-type {\n",
       "        vertical-align: middle;\n",
       "    }\n",
       "\n",
       "    .dataframe tbody tr th {\n",
       "        vertical-align: top;\n",
       "    }\n",
       "\n",
       "    .dataframe thead th {\n",
       "        text-align: right;\n",
       "    }\n",
       "</style>\n",
       "<table border=\"1\" class=\"dataframe\">\n",
       "  <thead>\n",
       "    <tr style=\"text-align: right;\">\n",
       "      <th></th>\n",
       "      <th>PACKAGE</th>\n",
       "      <th>CLASS</th>\n",
       "      <th>LINE_MISSED</th>\n",
       "      <th>LINE_COVERED</th>\n",
       "    </tr>\n",
       "  </thead>\n",
       "  <tbody>\n",
       "    <tr>\n",
       "      <th>0</th>\n",
       "      <td>org.springframework.samples.petclinic</td>\n",
       "      <td>PetclinicInitializer</td>\n",
       "      <td>0</td>\n",
       "      <td>24</td>\n",
       "    </tr>\n",
       "    <tr>\n",
       "      <th>1</th>\n",
       "      <td>org.springframework.samples.petclinic.model</td>\n",
       "      <td>NamedEntity</td>\n",
       "      <td>1</td>\n",
       "      <td>4</td>\n",
       "    </tr>\n",
       "    <tr>\n",
       "      <th>2</th>\n",
       "      <td>org.springframework.samples.petclinic.model</td>\n",
       "      <td>Specialty</td>\n",
       "      <td>0</td>\n",
       "      <td>1</td>\n",
       "    </tr>\n",
       "    <tr>\n",
       "      <th>3</th>\n",
       "      <td>org.springframework.samples.petclinic.model</td>\n",
       "      <td>PetType</td>\n",
       "      <td>0</td>\n",
       "      <td>1</td>\n",
       "    </tr>\n",
       "    <tr>\n",
       "      <th>4</th>\n",
       "      <td>org.springframework.samples.petclinic.model</td>\n",
       "      <td>Vets</td>\n",
       "      <td>4</td>\n",
       "      <td>0</td>\n",
       "    </tr>\n",
       "  </tbody>\n",
       "</table>\n",
       "</div>"
      ],
      "text/plain": [
       "                                       PACKAGE                 CLASS  \\\n",
       "0        org.springframework.samples.petclinic  PetclinicInitializer   \n",
       "1  org.springframework.samples.petclinic.model           NamedEntity   \n",
       "2  org.springframework.samples.petclinic.model             Specialty   \n",
       "3  org.springframework.samples.petclinic.model               PetType   \n",
       "4  org.springframework.samples.petclinic.model                  Vets   \n",
       "\n",
       "   LINE_MISSED  LINE_COVERED  \n",
       "0            0            24  \n",
       "1            1             4  \n",
       "2            0             1  \n",
       "3            0             1  \n",
       "4            4             0  "
      ]
     },
     "execution_count": 1,
     "metadata": {},
     "output_type": "execute_result"
    }
   ],
   "source": [
    "import pandas as pd\n",
    "\n",
    "coverage = pd.read_csv(\"datasets/jacoco_production_coverage_spring_petclinic.csv\")\n",
    "coverage.head()"
   ]
  },
  {
   "cell_type": "markdown",
   "metadata": {
    "slideshow": {
     "slide_type": "skip"
    }
   },
   "source": [
    "We need to calculate some additional variables for our analysis later on: The lines of code per class and the ratio of the covered lines of code to all lines of code per class."
   ]
  },
  {
   "cell_type": "code",
   "execution_count": 2,
   "metadata": {
    "slideshow": {
     "slide_type": "skip"
    }
   },
   "outputs": [
    {
     "data": {
      "text/html": [
       "<div>\n",
       "<style scoped>\n",
       "    .dataframe tbody tr th:only-of-type {\n",
       "        vertical-align: middle;\n",
       "    }\n",
       "\n",
       "    .dataframe tbody tr th {\n",
       "        vertical-align: top;\n",
       "    }\n",
       "\n",
       "    .dataframe thead th {\n",
       "        text-align: right;\n",
       "    }\n",
       "</style>\n",
       "<table border=\"1\" class=\"dataframe\">\n",
       "  <thead>\n",
       "    <tr style=\"text-align: right;\">\n",
       "      <th></th>\n",
       "      <th>PACKAGE</th>\n",
       "      <th>CLASS</th>\n",
       "      <th>LINE_MISSED</th>\n",
       "      <th>LINE_COVERED</th>\n",
       "      <th>lines</th>\n",
       "      <th>covered</th>\n",
       "    </tr>\n",
       "  </thead>\n",
       "  <tbody>\n",
       "    <tr>\n",
       "      <th>0</th>\n",
       "      <td>org.springframework.samples.petclinic</td>\n",
       "      <td>PetclinicInitializer</td>\n",
       "      <td>0</td>\n",
       "      <td>24</td>\n",
       "      <td>24</td>\n",
       "      <td>1.0</td>\n",
       "    </tr>\n",
       "    <tr>\n",
       "      <th>1</th>\n",
       "      <td>org.springframework.samples.petclinic.model</td>\n",
       "      <td>NamedEntity</td>\n",
       "      <td>1</td>\n",
       "      <td>4</td>\n",
       "      <td>5</td>\n",
       "      <td>0.8</td>\n",
       "    </tr>\n",
       "    <tr>\n",
       "      <th>2</th>\n",
       "      <td>org.springframework.samples.petclinic.model</td>\n",
       "      <td>Specialty</td>\n",
       "      <td>0</td>\n",
       "      <td>1</td>\n",
       "      <td>1</td>\n",
       "      <td>1.0</td>\n",
       "    </tr>\n",
       "    <tr>\n",
       "      <th>3</th>\n",
       "      <td>org.springframework.samples.petclinic.model</td>\n",
       "      <td>PetType</td>\n",
       "      <td>0</td>\n",
       "      <td>1</td>\n",
       "      <td>1</td>\n",
       "      <td>1.0</td>\n",
       "    </tr>\n",
       "    <tr>\n",
       "      <th>4</th>\n",
       "      <td>org.springframework.samples.petclinic.model</td>\n",
       "      <td>Vets</td>\n",
       "      <td>4</td>\n",
       "      <td>0</td>\n",
       "      <td>4</td>\n",
       "      <td>0.0</td>\n",
       "    </tr>\n",
       "  </tbody>\n",
       "</table>\n",
       "</div>"
      ],
      "text/plain": [
       "                                       PACKAGE                 CLASS  \\\n",
       "0        org.springframework.samples.petclinic  PetclinicInitializer   \n",
       "1  org.springframework.samples.petclinic.model           NamedEntity   \n",
       "2  org.springframework.samples.petclinic.model             Specialty   \n",
       "3  org.springframework.samples.petclinic.model               PetType   \n",
       "4  org.springframework.samples.petclinic.model                  Vets   \n",
       "\n",
       "   LINE_MISSED  LINE_COVERED  lines  covered  \n",
       "0            0            24     24      1.0  \n",
       "1            1             4      5      0.8  \n",
       "2            0             1      1      1.0  \n",
       "3            0             1      1      1.0  \n",
       "4            4             0      4      0.0  "
      ]
     },
     "execution_count": 2,
     "metadata": {},
     "output_type": "execute_result"
    }
   ],
   "source": [
    "coverage['lines'] = coverage.LINE_MISSED + coverage.LINE_COVERED\n",
    "coverage['covered'] = coverage.LINE_COVERED / coverage.lines\n",
    "coverage.head()"
   ]
  },
  {
   "cell_type": "markdown",
   "metadata": {
    "slideshow": {
     "slide_type": "skip"
    }
   },
   "source": [
    "Next, we create a unique identifier for connecting the coverage data to the number of changes per class. We choose the fully qualified name (\"fqn\") of a class as key for this, set this variable as an index and only take the columns that we need later."
   ]
  },
  {
   "cell_type": "code",
   "execution_count": 3,
   "metadata": {
    "slideshow": {
     "slide_type": "skip"
    }
   },
   "outputs": [
    {
     "data": {
      "text/html": [
       "<div>\n",
       "<style scoped>\n",
       "    .dataframe tbody tr th:only-of-type {\n",
       "        vertical-align: middle;\n",
       "    }\n",
       "\n",
       "    .dataframe tbody tr th {\n",
       "        vertical-align: top;\n",
       "    }\n",
       "\n",
       "    .dataframe thead th {\n",
       "        text-align: right;\n",
       "    }\n",
       "</style>\n",
       "<table border=\"1\" class=\"dataframe\">\n",
       "  <thead>\n",
       "    <tr style=\"text-align: right;\">\n",
       "      <th></th>\n",
       "      <th>lines</th>\n",
       "      <th>covered</th>\n",
       "    </tr>\n",
       "    <tr>\n",
       "      <th>fqn</th>\n",
       "      <th></th>\n",
       "      <th></th>\n",
       "    </tr>\n",
       "  </thead>\n",
       "  <tbody>\n",
       "    <tr>\n",
       "      <th>org.springframework.samples.petclinic.PetclinicInitializer</th>\n",
       "      <td>24</td>\n",
       "      <td>1.0</td>\n",
       "    </tr>\n",
       "    <tr>\n",
       "      <th>org.springframework.samples.petclinic.model.NamedEntity</th>\n",
       "      <td>5</td>\n",
       "      <td>0.8</td>\n",
       "    </tr>\n",
       "    <tr>\n",
       "      <th>org.springframework.samples.petclinic.model.Specialty</th>\n",
       "      <td>1</td>\n",
       "      <td>1.0</td>\n",
       "    </tr>\n",
       "    <tr>\n",
       "      <th>org.springframework.samples.petclinic.model.PetType</th>\n",
       "      <td>1</td>\n",
       "      <td>1.0</td>\n",
       "    </tr>\n",
       "    <tr>\n",
       "      <th>org.springframework.samples.petclinic.model.Vets</th>\n",
       "      <td>4</td>\n",
       "      <td>0.0</td>\n",
       "    </tr>\n",
       "  </tbody>\n",
       "</table>\n",
       "</div>"
      ],
      "text/plain": [
       "                                                    lines  covered\n",
       "fqn                                                               \n",
       "org.springframework.samples.petclinic.Petclinic...     24      1.0\n",
       "org.springframework.samples.petclinic.model.Nam...      5      0.8\n",
       "org.springframework.samples.petclinic.model.Spe...      1      1.0\n",
       "org.springframework.samples.petclinic.model.Pet...      1      1.0\n",
       "org.springframework.samples.petclinic.model.Vets        4      0.0"
      ]
     },
     "execution_count": 3,
     "metadata": {},
     "output_type": "execute_result"
    }
   ],
   "source": [
    "coverage['fqn'] = coverage.PACKAGE + \".\" + coverage.CLASS\n",
    "coverage_per_class = coverage.set_index('fqn')[['lines', 'covered']]\n",
    "coverage_per_class.head()"
   ]
  },
  {
   "cell_type": "markdown",
   "metadata": {
    "slideshow": {
     "slide_type": "skip"
    }
   },
   "source": [
    "# Investments in code\n",
    "As a proxy for the investments we took into our software, we choose the number of changes per file. For this, we need a log of our version control system. With Git, a simple numstat log does the job. We can get a list for each change of a file including the added and deleted lines with the command\n",
    "```\n",
    "git log --no-merges --no-renames --numstat --pretty=format:\"\"\n",
    "```\n",
    "We kind of hacked the git log pretty format option, but it does the job. We read that dataset into a DataFrame as well, using the tabular as a separator and specifying some column names manually."
   ]
  },
  {
   "cell_type": "code",
   "execution_count": 4,
   "metadata": {
    "slideshow": {
     "slide_type": "skip"
    }
   },
   "outputs": [
    {
     "data": {
      "text/html": [
       "<div>\n",
       "<style scoped>\n",
       "    .dataframe tbody tr th:only-of-type {\n",
       "        vertical-align: middle;\n",
       "    }\n",
       "\n",
       "    .dataframe tbody tr th {\n",
       "        vertical-align: top;\n",
       "    }\n",
       "\n",
       "    .dataframe thead th {\n",
       "        text-align: right;\n",
       "    }\n",
       "</style>\n",
       "<table border=\"1\" class=\"dataframe\">\n",
       "  <thead>\n",
       "    <tr style=\"text-align: right;\">\n",
       "      <th></th>\n",
       "      <th>additions</th>\n",
       "      <th>deletions</th>\n",
       "      <th>path</th>\n",
       "    </tr>\n",
       "  </thead>\n",
       "  <tbody>\n",
       "    <tr>\n",
       "      <th>0</th>\n",
       "      <td>4</td>\n",
       "      <td>5</td>\n",
       "      <td>src/test/java/org/springframework/samples/petc...</td>\n",
       "    </tr>\n",
       "    <tr>\n",
       "      <th>1</th>\n",
       "      <td>25</td>\n",
       "      <td>7</td>\n",
       "      <td>src/test/java/org/springframework/samples/petc...</td>\n",
       "    </tr>\n",
       "    <tr>\n",
       "      <th>2</th>\n",
       "      <td>21</td>\n",
       "      <td>9</td>\n",
       "      <td>src/test/java/org/springframework/samples/petc...</td>\n",
       "    </tr>\n",
       "    <tr>\n",
       "      <th>3</th>\n",
       "      <td>23</td>\n",
       "      <td>3</td>\n",
       "      <td>src/test/java/org/springframework/samples/petc...</td>\n",
       "    </tr>\n",
       "    <tr>\n",
       "      <th>4</th>\n",
       "      <td>10</td>\n",
       "      <td>6</td>\n",
       "      <td>src/test/java/org/springframework/samples/petc...</td>\n",
       "    </tr>\n",
       "  </tbody>\n",
       "</table>\n",
       "</div>"
      ],
      "text/plain": [
       "   additions  deletions                                               path\n",
       "0          4          5  src/test/java/org/springframework/samples/petc...\n",
       "1         25          7  src/test/java/org/springframework/samples/petc...\n",
       "2         21          9  src/test/java/org/springframework/samples/petc...\n",
       "3         23          3  src/test/java/org/springframework/samples/petc...\n",
       "4         10          6  src/test/java/org/springframework/samples/petc..."
      ]
     },
     "execution_count": 4,
     "metadata": {},
     "output_type": "execute_result"
    }
   ],
   "source": [
    "changes = pd.read_csv(\n",
    "    \"datasets/git_log_numstat_spring_petclinic.log\",\n",
    "    sep=\"\\t\",\n",
    "    names=['additions', 'deletions', 'path'])\n",
    "changes.head()"
   ]
  },
  {
   "cell_type": "markdown",
   "metadata": {},
   "source": [
    "As with the coverage data, we need a unique identifier per class. We can create that based on the path of each file."
   ]
  },
  {
   "cell_type": "code",
   "execution_count": 5,
   "metadata": {
    "slideshow": {
     "slide_type": "skip"
    }
   },
   "outputs": [
    {
     "data": {
      "text/plain": [
       "'org.springframework.samples.petclinic.web.CrashControllerTests'"
      ]
     },
     "execution_count": 5,
     "metadata": {},
     "output_type": "execute_result"
    }
   ],
   "source": [
    "changes['fqn'] = changes.path.str.extract(\n",
    "    \"/java/(.*)\\.java\",\n",
    "    expand=True)[0]\n",
    "changes['fqn'] = changes.fqn.str.replace(\"/\", \".\")\n",
    "changes['fqn'][0]"
   ]
  },
  {
   "cell_type": "markdown",
   "metadata": {
    "slideshow": {
     "slide_type": "skip"
    }
   },
   "source": [
    "Different to the coverage dataset, we have multiple entries per file (for each change of that file). We need to group the changes by the `fqn` of each file or class respectively. We just take the path column that holds the number of changes for each class and renames that column to `changes`. The result is a Series of the number of changes per file."
   ]
  },
  {
   "cell_type": "code",
   "execution_count": 6,
   "metadata": {
    "slideshow": {
     "slide_type": "skip"
    }
   },
   "outputs": [
    {
     "data": {
      "text/plain": [
       "fqn\n",
       "org.springframework.samples.petclinic.AbstractClinicTests             5\n",
       "org.springframework.samples.petclinic.AbstractOwnerRepositoryTests    6\n",
       "org.springframework.samples.petclinic.AbstractPetRepositoryTests      6\n",
       "org.springframework.samples.petclinic.AbstractVetRepositoryTests      4\n",
       "org.springframework.samples.petclinic.AbstractVisitRepositoryTests    5\n",
       "Name: changes, dtype: int64"
      ]
     },
     "execution_count": 6,
     "metadata": {},
     "output_type": "execute_result"
    }
   ],
   "source": [
    "changes_per_file = changes.groupby('fqn').path.count()\n",
    "changes_per_file.name = \"changes\"\n",
    "changes_per_file.head()"
   ]
  },
  {
   "cell_type": "markdown",
   "metadata": {},
   "source": [
    "# Joining of the datasets\n",
    "Next, we can join the two different datasets with the DataFrames' `join` method."
   ]
  },
  {
   "cell_type": "code",
   "execution_count": 7,
   "metadata": {},
   "outputs": [
    {
     "data": {
      "text/html": [
       "<div>\n",
       "<style scoped>\n",
       "    .dataframe tbody tr th:only-of-type {\n",
       "        vertical-align: middle;\n",
       "    }\n",
       "\n",
       "    .dataframe tbody tr th {\n",
       "        vertical-align: top;\n",
       "    }\n",
       "\n",
       "    .dataframe thead th {\n",
       "        text-align: right;\n",
       "    }\n",
       "</style>\n",
       "<table border=\"1\" class=\"dataframe\">\n",
       "  <thead>\n",
       "    <tr style=\"text-align: right;\">\n",
       "      <th></th>\n",
       "      <th>lines</th>\n",
       "      <th>covered</th>\n",
       "      <th>changes</th>\n",
       "    </tr>\n",
       "    <tr>\n",
       "      <th>fqn</th>\n",
       "      <th></th>\n",
       "      <th></th>\n",
       "      <th></th>\n",
       "    </tr>\n",
       "  </thead>\n",
       "  <tbody>\n",
       "    <tr>\n",
       "      <th>org.springframework.samples.petclinic.PetclinicInitializer</th>\n",
       "      <td>24</td>\n",
       "      <td>1.0</td>\n",
       "      <td>1.0</td>\n",
       "    </tr>\n",
       "    <tr>\n",
       "      <th>org.springframework.samples.petclinic.model.NamedEntity</th>\n",
       "      <td>5</td>\n",
       "      <td>0.8</td>\n",
       "      <td>3.0</td>\n",
       "    </tr>\n",
       "    <tr>\n",
       "      <th>org.springframework.samples.petclinic.model.Specialty</th>\n",
       "      <td>1</td>\n",
       "      <td>1.0</td>\n",
       "      <td>2.0</td>\n",
       "    </tr>\n",
       "    <tr>\n",
       "      <th>org.springframework.samples.petclinic.model.PetType</th>\n",
       "      <td>1</td>\n",
       "      <td>1.0</td>\n",
       "      <td>4.0</td>\n",
       "    </tr>\n",
       "    <tr>\n",
       "      <th>org.springframework.samples.petclinic.model.Vets</th>\n",
       "      <td>4</td>\n",
       "      <td>0.0</td>\n",
       "      <td>5.0</td>\n",
       "    </tr>\n",
       "  </tbody>\n",
       "</table>\n",
       "</div>"
      ],
      "text/plain": [
       "                                                    lines  covered  changes\n",
       "fqn                                                                        \n",
       "org.springframework.samples.petclinic.Petclinic...     24      1.0      1.0\n",
       "org.springframework.samples.petclinic.model.Nam...      5      0.8      3.0\n",
       "org.springframework.samples.petclinic.model.Spe...      1      1.0      2.0\n",
       "org.springframework.samples.petclinic.model.Pet...      1      1.0      4.0\n",
       "org.springframework.samples.petclinic.model.Vets        4      0.0      5.0"
      ]
     },
     "execution_count": 7,
     "metadata": {},
     "output_type": "execute_result"
    }
   ],
   "source": [
    "analysis = coverage_per_class.join(changes_per_file)\n",
    "analysis.head()"
   ]
  },
  {
   "cell_type": "markdown",
   "metadata": {},
   "source": [
    "# Creating a higher technical view\n",
    "OK, now to the key idea of this analysis. We need to raise the very fine-granular data on class level to a more higher-level where we can reason about in a better way. For this, we derive higher-level perspectives based on the `fqn` of the classes. For technical components, we can do this in our case based on the package name  because the last part of the package name contains the name of the technical component. "
   ]
  },
  {
   "cell_type": "code",
   "execution_count": 8,
   "metadata": {
    "slideshow": {
     "slide_type": "-"
    }
   },
   "outputs": [
    {
     "data": {
      "text/html": [
       "<div>\n",
       "<style scoped>\n",
       "    .dataframe tbody tr th:only-of-type {\n",
       "        vertical-align: middle;\n",
       "    }\n",
       "\n",
       "    .dataframe tbody tr th {\n",
       "        vertical-align: top;\n",
       "    }\n",
       "\n",
       "    .dataframe thead th {\n",
       "        text-align: right;\n",
       "    }\n",
       "</style>\n",
       "<table border=\"1\" class=\"dataframe\">\n",
       "  <thead>\n",
       "    <tr style=\"text-align: right;\">\n",
       "      <th></th>\n",
       "      <th>lines</th>\n",
       "      <th>covered</th>\n",
       "      <th>changes</th>\n",
       "      <th>tech</th>\n",
       "    </tr>\n",
       "    <tr>\n",
       "      <th>fqn</th>\n",
       "      <th></th>\n",
       "      <th></th>\n",
       "      <th></th>\n",
       "      <th></th>\n",
       "    </tr>\n",
       "  </thead>\n",
       "  <tbody>\n",
       "    <tr>\n",
       "      <th>org.springframework.samples.petclinic.PetclinicInitializer</th>\n",
       "      <td>24</td>\n",
       "      <td>1.0</td>\n",
       "      <td>1.0</td>\n",
       "      <td>petclinic</td>\n",
       "    </tr>\n",
       "    <tr>\n",
       "      <th>org.springframework.samples.petclinic.model.NamedEntity</th>\n",
       "      <td>5</td>\n",
       "      <td>0.8</td>\n",
       "      <td>3.0</td>\n",
       "      <td>model</td>\n",
       "    </tr>\n",
       "    <tr>\n",
       "      <th>org.springframework.samples.petclinic.model.Specialty</th>\n",
       "      <td>1</td>\n",
       "      <td>1.0</td>\n",
       "      <td>2.0</td>\n",
       "      <td>model</td>\n",
       "    </tr>\n",
       "    <tr>\n",
       "      <th>org.springframework.samples.petclinic.model.PetType</th>\n",
       "      <td>1</td>\n",
       "      <td>1.0</td>\n",
       "      <td>4.0</td>\n",
       "      <td>model</td>\n",
       "    </tr>\n",
       "    <tr>\n",
       "      <th>org.springframework.samples.petclinic.model.Vets</th>\n",
       "      <td>4</td>\n",
       "      <td>0.0</td>\n",
       "      <td>5.0</td>\n",
       "      <td>model</td>\n",
       "    </tr>\n",
       "  </tbody>\n",
       "</table>\n",
       "</div>"
      ],
      "text/plain": [
       "                                                    lines  covered  changes  \\\n",
       "fqn                                                                           \n",
       "org.springframework.samples.petclinic.Petclinic...     24      1.0      1.0   \n",
       "org.springframework.samples.petclinic.model.Nam...      5      0.8      3.0   \n",
       "org.springframework.samples.petclinic.model.Spe...      1      1.0      2.0   \n",
       "org.springframework.samples.petclinic.model.Pet...      1      1.0      4.0   \n",
       "org.springframework.samples.petclinic.model.Vets        4      0.0      5.0   \n",
       "\n",
       "                                                         tech  \n",
       "fqn                                                            \n",
       "org.springframework.samples.petclinic.Petclinic...  petclinic  \n",
       "org.springframework.samples.petclinic.model.Nam...      model  \n",
       "org.springframework.samples.petclinic.model.Spe...      model  \n",
       "org.springframework.samples.petclinic.model.Pet...      model  \n",
       "org.springframework.samples.petclinic.model.Vets        model  "
      ]
     },
     "execution_count": 8,
     "metadata": {},
     "output_type": "execute_result"
    }
   ],
   "source": [
    "analysis['tech'] = analysis.index.str.split(\".\").str[-2]\n",
    "analysis.head()"
   ]
  },
  {
   "cell_type": "markdown",
   "metadata": {},
   "source": [
    "We can now aggregate our fine-granular data to a higher-level representation by grouping the data accordingly to the technical components. For the `agg` function, we provide a dictionary with the aggregation methods for each column."
   ]
  },
  {
   "cell_type": "code",
   "execution_count": 9,
   "metadata": {
    "slideshow": {
     "slide_type": "-"
    }
   },
   "outputs": [
    {
     "data": {
      "text/html": [
       "<div>\n",
       "<style scoped>\n",
       "    .dataframe tbody tr th:only-of-type {\n",
       "        vertical-align: middle;\n",
       "    }\n",
       "\n",
       "    .dataframe tbody tr th {\n",
       "        vertical-align: top;\n",
       "    }\n",
       "\n",
       "    .dataframe thead th {\n",
       "        text-align: right;\n",
       "    }\n",
       "</style>\n",
       "<table border=\"1\" class=\"dataframe\">\n",
       "  <thead>\n",
       "    <tr style=\"text-align: right;\">\n",
       "      <th></th>\n",
       "      <th>lines</th>\n",
       "      <th>covered</th>\n",
       "      <th>changes</th>\n",
       "    </tr>\n",
       "    <tr>\n",
       "      <th>tech</th>\n",
       "      <th></th>\n",
       "      <th></th>\n",
       "      <th></th>\n",
       "    </tr>\n",
       "  </thead>\n",
       "  <tbody>\n",
       "    <tr>\n",
       "      <th>jdbc</th>\n",
       "      <td>150</td>\n",
       "      <td>0.000000</td>\n",
       "      <td>93.0</td>\n",
       "    </tr>\n",
       "    <tr>\n",
       "      <th>jpa</th>\n",
       "      <td>28</td>\n",
       "      <td>0.691558</td>\n",
       "      <td>39.0</td>\n",
       "    </tr>\n",
       "    <tr>\n",
       "      <th>model</th>\n",
       "      <td>108</td>\n",
       "      <td>0.739048</td>\n",
       "      <td>44.0</td>\n",
       "    </tr>\n",
       "    <tr>\n",
       "      <th>petclinic</th>\n",
       "      <td>24</td>\n",
       "      <td>1.000000</td>\n",
       "      <td>1.0</td>\n",
       "    </tr>\n",
       "    <tr>\n",
       "      <th>service</th>\n",
       "      <td>18</td>\n",
       "      <td>0.888889</td>\n",
       "      <td>12.0</td>\n",
       "    </tr>\n",
       "  </tbody>\n",
       "</table>\n",
       "</div>"
      ],
      "text/plain": [
       "           lines   covered  changes\n",
       "tech                               \n",
       "jdbc         150  0.000000     93.0\n",
       "jpa           28  0.691558     39.0\n",
       "model        108  0.739048     44.0\n",
       "petclinic     24  1.000000      1.0\n",
       "service       18  0.888889     12.0"
      ]
     },
     "execution_count": 9,
     "metadata": {},
     "output_type": "execute_result"
    }
   ],
   "source": [
    "tech_insights = analysis.groupby('tech').agg({\n",
    "    \"lines\" : \"sum\",\n",
    "    \"covered\": \"mean\",\n",
    "    \"changes\" : \"sum\"\n",
    "    })\n",
    "tech_insights.head()"
   ]
  },
  {
   "cell_type": "markdown",
   "metadata": {},
   "source": [
    "With the help of a (self-written) little visualization, we can now create a SWOT matrix from our data."
   ]
  },
  {
   "cell_type": "code",
   "execution_count": 10,
   "metadata": {
    "slideshow": {
     "slide_type": "subslide"
    }
   },
   "outputs": [
    {
     "data": {
      "image/png": "[encoded data removed]",
      "text/plain": [
       "<matplotlib.figure.Figure at 0x22af527bda0>"
      ]
     },
     "metadata": {},
     "output_type": "display_data"
    }
   ],
   "source": [
    "%matplotlib inline\n",
    "from lib.ausi import portfolio\n",
    "portfolio.plot_diagram(tech_insights, \"changes\", \"covered\", \"lines\");"
   ]
  },
  {
   "cell_type": "markdown",
   "metadata": {},
   "source": [
    "**Discussion**  \n",
    "* In the lower right, we can see that we changed the `jdbc` component very often (aka invested much money) but the component isn't used at all. A clear failure of investments (OK, in this case, it's an alternative implementation of the database access, but we could also delete this code completely without any side effects).\n",
    "* Above, we see that we also invested heavily in the `web` component, but this isn't used as much as it should be (in relation to the changes). Maybe we can find code in this component that isn't needed anymore.\n",
    "* The `petclinic` (a base component), `service`, `jpa` and `model` components in the upper left are used very often with low changes (aka investments). This is good!"
   ]
  },
  {
   "cell_type": "markdown",
   "metadata": {
    "slideshow": {
     "slide_type": "subslide"
    }
   },
   "source": [
    "# Creating a domain  view\n",
    "Next, we want to create a view that non-technical people can understand. For this, we use the naming schema of the classes to identify which business domain each class belongs to."
   ]
  },
  {
   "cell_type": "code",
   "execution_count": 11,
   "metadata": {
    "slideshow": {
     "slide_type": "-"
    }
   },
   "outputs": [
    {
     "data": {
      "text/html": [
       "<div>\n",
       "<style scoped>\n",
       "    .dataframe tbody tr th:only-of-type {\n",
       "        vertical-align: middle;\n",
       "    }\n",
       "\n",
       "    .dataframe tbody tr th {\n",
       "        vertical-align: top;\n",
       "    }\n",
       "\n",
       "    .dataframe thead th {\n",
       "        text-align: right;\n",
       "    }\n",
       "</style>\n",
       "<table border=\"1\" class=\"dataframe\">\n",
       "  <thead>\n",
       "    <tr style=\"text-align: right;\">\n",
       "      <th></th>\n",
       "      <th>lines</th>\n",
       "      <th>covered</th>\n",
       "      <th>changes</th>\n",
       "      <th>tech</th>\n",
       "      <th>domain</th>\n",
       "    </tr>\n",
       "    <tr>\n",
       "      <th>fqn</th>\n",
       "      <th></th>\n",
       "      <th></th>\n",
       "      <th></th>\n",
       "      <th></th>\n",
       "      <th></th>\n",
       "    </tr>\n",
       "  </thead>\n",
       "  <tbody>\n",
       "    <tr>\n",
       "      <th>org.springframework.samples.petclinic.PetclinicInitializer</th>\n",
       "      <td>24</td>\n",
       "      <td>1.0</td>\n",
       "      <td>1.0</td>\n",
       "      <td>petclinic</td>\n",
       "      <td>Pet</td>\n",
       "    </tr>\n",
       "    <tr>\n",
       "      <th>org.springframework.samples.petclinic.model.NamedEntity</th>\n",
       "      <td>5</td>\n",
       "      <td>0.8</td>\n",
       "      <td>3.0</td>\n",
       "      <td>model</td>\n",
       "      <td>Other</td>\n",
       "    </tr>\n",
       "    <tr>\n",
       "      <th>org.springframework.samples.petclinic.model.Specialty</th>\n",
       "      <td>1</td>\n",
       "      <td>1.0</td>\n",
       "      <td>2.0</td>\n",
       "      <td>model</td>\n",
       "      <td>Specialty</td>\n",
       "    </tr>\n",
       "    <tr>\n",
       "      <th>org.springframework.samples.petclinic.model.PetType</th>\n",
       "      <td>1</td>\n",
       "      <td>1.0</td>\n",
       "      <td>4.0</td>\n",
       "      <td>model</td>\n",
       "      <td>Pet</td>\n",
       "    </tr>\n",
       "    <tr>\n",
       "      <th>org.springframework.samples.petclinic.model.Vets</th>\n",
       "      <td>4</td>\n",
       "      <td>0.0</td>\n",
       "      <td>5.0</td>\n",
       "      <td>model</td>\n",
       "      <td>Vet</td>\n",
       "    </tr>\n",
       "  </tbody>\n",
       "</table>\n",
       "</div>"
      ],
      "text/plain": [
       "                                                    lines  covered  changes  \\\n",
       "fqn                                                                           \n",
       "org.springframework.samples.petclinic.Petclinic...     24      1.0      1.0   \n",
       "org.springframework.samples.petclinic.model.Nam...      5      0.8      3.0   \n",
       "org.springframework.samples.petclinic.model.Spe...      1      1.0      2.0   \n",
       "org.springframework.samples.petclinic.model.Pet...      1      1.0      4.0   \n",
       "org.springframework.samples.petclinic.model.Vets        4      0.0      5.0   \n",
       "\n",
       "                                                         tech     domain  \n",
       "fqn                                                                       \n",
       "org.springframework.samples.petclinic.Petclinic...  petclinic        Pet  \n",
       "org.springframework.samples.petclinic.model.Nam...      model      Other  \n",
       "org.springframework.samples.petclinic.model.Spe...      model  Specialty  \n",
       "org.springframework.samples.petclinic.model.Pet...      model        Pet  \n",
       "org.springframework.samples.petclinic.model.Vets        model        Vet  "
      ]
     },
     "execution_count": 11,
     "metadata": {},
     "output_type": "execute_result"
    }
   ],
   "source": [
    "analysis['domain'] = \"Other\"\n",
    "\n",
    "domains = [\"Owner\", \"Pet\", \"Visit\", \"Vet\", \"Specialty\", \"Clinic\"]\n",
    "for domain in domains:\n",
    "    analysis.loc[analysis.index.str.contains(domain), 'domain'] = domain\n",
    "\n",
    "analysis.head()"
   ]
  },
  {
   "cell_type": "markdown",
   "metadata": {
    "slideshow": {
     "slide_type": "subslide"
    }
   },
   "source": [
    "Like with the technical components, we group the business aspects accordingly but also translate the technical terms into non-technical ones."
   ]
  },
  {
   "cell_type": "code",
   "execution_count": 12,
   "metadata": {
    "scrolled": true,
    "slideshow": {
     "slide_type": "-"
    }
   },
   "outputs": [
    {
     "data": {
      "text/html": [
       "<div>\n",
       "<style scoped>\n",
       "    .dataframe tbody tr th:only-of-type {\n",
       "        vertical-align: middle;\n",
       "    }\n",
       "\n",
       "    .dataframe tbody tr th {\n",
       "        vertical-align: top;\n",
       "    }\n",
       "\n",
       "    .dataframe thead th {\n",
       "        text-align: right;\n",
       "    }\n",
       "</style>\n",
       "<table border=\"1\" class=\"dataframe\">\n",
       "  <thead>\n",
       "    <tr style=\"text-align: right;\">\n",
       "      <th></th>\n",
       "      <th>Size</th>\n",
       "      <th>Utilization</th>\n",
       "      <th>Investment</th>\n",
       "    </tr>\n",
       "    <tr>\n",
       "      <th>domain</th>\n",
       "      <th></th>\n",
       "      <th></th>\n",
       "      <th></th>\n",
       "    </tr>\n",
       "  </thead>\n",
       "  <tbody>\n",
       "    <tr>\n",
       "      <th>Clinic</th>\n",
       "      <td>18</td>\n",
       "      <td>0.888889</td>\n",
       "      <td>12.0</td>\n",
       "    </tr>\n",
       "    <tr>\n",
       "      <th>Other</th>\n",
       "      <td>57</td>\n",
       "      <td>0.480208</td>\n",
       "      <td>32.0</td>\n",
       "    </tr>\n",
       "    <tr>\n",
       "      <th>Owner</th>\n",
       "      <td>130</td>\n",
       "      <td>0.549495</td>\n",
       "      <td>59.0</td>\n",
       "    </tr>\n",
       "    <tr>\n",
       "      <th>Pet</th>\n",
       "      <td>153</td>\n",
       "      <td>0.594156</td>\n",
       "      <td>81.0</td>\n",
       "    </tr>\n",
       "    <tr>\n",
       "      <th>Specialty</th>\n",
       "      <td>1</td>\n",
       "      <td>1.000000</td>\n",
       "      <td>2.0</td>\n",
       "    </tr>\n",
       "  </tbody>\n",
       "</table>\n",
       "</div>"
      ],
      "text/plain": [
       "           Size  Utilization  Investment\n",
       "domain                                  \n",
       "Clinic       18     0.888889        12.0\n",
       "Other        57     0.480208        32.0\n",
       "Owner       130     0.549495        59.0\n",
       "Pet         153     0.594156        81.0\n",
       "Specialty     1     1.000000         2.0"
      ]
     },
     "execution_count": 12,
     "metadata": {},
     "output_type": "execute_result"
    }
   ],
   "source": [
    "domain_insights = analysis.groupby('domain').agg({\n",
    "    \"lines\" : \"sum\",\n",
    "    \"covered\": \"mean\",\n",
    "    \"changes\" : \"sum\" \n",
    "    })\n",
    "domain_insights = domain_insights.rename(columns=\n",
    "   {\"lines\": \"Size\", \"covered\" : \"Utilization\", \"changes\" : \"Investment\"})\n",
    "domain_insights.head()"
   ]
  },
  {
   "cell_type": "markdown",
   "metadata": {
    "slideshow": {
     "slide_type": "subslide"
    }
   },
   "source": [
    "Again, we plot a SWOT matrix with the data in the DataFrame."
   ]
  },
  {
   "cell_type": "code",
   "execution_count": 13,
   "metadata": {
    "slideshow": {
     "slide_type": "-"
    }
   },
   "outputs": [
    {
     "data": {
      "image/png": "[encoded data removed]",
      "text/plain": [
       "<matplotlib.figure.Figure at 0x22af4b7fcf8>"
      ]
     },
     "metadata": {},
     "output_type": "display_data"
    }
   ],
   "source": [
    "portfolio.plot_diagram(domain_insights, \"Investment\", \"Utilization\", \"Size\");"
   ]
  },
  {
   "cell_type": "markdown",
   "metadata": {
    "slideshow": {
     "slide_type": "subslide"
    }
   },
   "source": [
    "**Discussion**\n",
    "* The investments into the classes around `Clinic` in the upper left of the matrix were worthwhile.\n",
    "* We have to have a look at the trend of `Pet` and `Owner` related classes because albeit we've invested heavily in this parts, they aren't used so much.\n",
    "* For the `Visit` and `Vet` components in the lower right, we should take a look at if those components are worthwhile further improvements or candidates for removal.\n",
    "* The `Other` component has good chances to be improved the right way in the near future by only developing the parts further that are really needed."
   ]
  },
  {
   "cell_type": "markdown",
   "metadata": {
    "slideshow": {
     "slide_type": "slide"
    }
   },
   "source": [
    "# Conclusion\n",
    "OK, we've seen how we can take some very fine-granular dataset, combine them and bring them to a higher-level perspective. We've also visualized the results of our analysis with a SWOT matrix to quickly spot parts of our software system that are good or bad investments.\n",
    "\n",
    "\n",
    "What do you think about this approach? Do you like the idea? Or is this complete nonsense? Please leave me a comment!"
   ]
  }
 ],
 "metadata": {
  "kernelspec": {
   "display_name": "Python 3",
   "language": "python",
   "name": "python3"
  },
  "language_info": {
   "codemirror_mode": {
    "name": "ipython",
    "version": 3
   },
   "file_extension": ".py",
   "mimetype": "text/x-python",
   "name": "python",
   "nbconvert_exporter": "python",
   "pygments_lexer": "ipython3",
   "version": "3.6.4"
  }
 },
 "nbformat": 4,
 "nbformat_minor": 2
}
