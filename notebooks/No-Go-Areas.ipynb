{
 "cells": [
  {
   "cell_type": "markdown",
   "metadata": {},
   "source": [
    "# Data\n",
    "\n",
    "We have the CSV file output of a `git blame` result."
   ]
  },
  {
   "cell_type": "code",
   "execution_count": 1,
   "metadata": {},
   "outputs": [
    {
     "data": {
      "text/html": [
       "<div>\n",
       "<style scoped>\n",
       "    .dataframe tbody tr th:only-of-type {\n",
       "        vertical-align: middle;\n",
       "    }\n",
       "\n",
       "    .dataframe tbody tr th {\n",
       "        vertical-align: top;\n",
       "    }\n",
       "\n",
       "    .dataframe thead th {\n",
       "        text-align: right;\n",
       "    }\n",
       "</style>\n",
       "<table border=\"1\" class=\"dataframe\">\n",
       "  <thead>\n",
       "    <tr style=\"text-align: right;\">\n",
       "      <th></th>\n",
       "      <th>path</th>\n",
       "      <th>author</th>\n",
       "      <th>timestamp</th>\n",
       "      <th>line</th>\n",
       "    </tr>\n",
       "  </thead>\n",
       "  <tbody>\n",
       "    <tr>\n",
       "      <th>0</th>\n",
       "      <td>drivers/scsi/bfa/bfad_drv.h</td>\n",
       "      <td>Anil Gurumurthy</td>\n",
       "      <td>1448528085000000000</td>\n",
       "      <td>1</td>\n",
       "    </tr>\n",
       "    <tr>\n",
       "      <th>1</th>\n",
       "      <td>drivers/scsi/bfa/bfad_drv.h</td>\n",
       "      <td>Anil Gurumurthy</td>\n",
       "      <td>1448528085000000000</td>\n",
       "      <td>2</td>\n",
       "    </tr>\n",
       "    <tr>\n",
       "      <th>2</th>\n",
       "      <td>drivers/scsi/bfa/bfad_drv.h</td>\n",
       "      <td>Anil Gurumurthy</td>\n",
       "      <td>1448528085000000000</td>\n",
       "      <td>3</td>\n",
       "    </tr>\n",
       "    <tr>\n",
       "      <th>3</th>\n",
       "      <td>drivers/scsi/bfa/bfad_drv.h</td>\n",
       "      <td>Jing Huang</td>\n",
       "      <td>1253753175000000000</td>\n",
       "      <td>4</td>\n",
       "    </tr>\n",
       "    <tr>\n",
       "      <th>4</th>\n",
       "      <td>drivers/scsi/bfa/bfad_drv.h</td>\n",
       "      <td>Anil Gurumurthy</td>\n",
       "      <td>1448528085000000000</td>\n",
       "      <td>5</td>\n",
       "    </tr>\n",
       "  </tbody>\n",
       "</table>\n",
       "</div>"
      ],
      "text/plain": [
       "                          path           author            timestamp  line\n",
       "0  drivers/scsi/bfa/bfad_drv.h  Anil Gurumurthy  1448528085000000000     1\n",
       "1  drivers/scsi/bfa/bfad_drv.h  Anil Gurumurthy  1448528085000000000     2\n",
       "2  drivers/scsi/bfa/bfad_drv.h  Anil Gurumurthy  1448528085000000000     3\n",
       "3  drivers/scsi/bfa/bfad_drv.h       Jing Huang  1253753175000000000     4\n",
       "4  drivers/scsi/bfa/bfad_drv.h  Anil Gurumurthy  1448528085000000000     5"
      ]
     },
     "execution_count": 1,
     "metadata": {},
     "output_type": "execute_result"
    }
   ],
   "source": [
    "import pandas as pd\n",
    "\n",
    "blame_log = pd.read_csv(\"../demos/dataset/linux_blame_log.csv\")\n",
    "blame_log.head()"
   ]
  },
  {
   "cell_type": "code",
   "execution_count": 2,
   "metadata": {},
   "outputs": [
    {
     "name": "stdout",
     "output_type": "stream",
     "text": [
      "<class 'pandas.core.frame.DataFrame'>\n",
      "RangeIndex: 5665947 entries, 0 to 5665946\n",
      "Data columns (total 4 columns):\n",
      "path         object\n",
      "author       object\n",
      "timestamp    int64\n",
      "line         int64\n",
      "dtypes: int64(2), object(2)\n",
      "memory usage: 172.9+ MB\n"
     ]
    }
   ],
   "source": [
    "blame_log.info()"
   ]
  },
  {
   "cell_type": "markdown",
   "metadata": {},
   "source": [
    "# Main Contributors\n",
    "The blame file incorporates every single line of code with the author that changed that line at last."
   ]
  },
  {
   "cell_type": "code",
   "execution_count": 5,
   "metadata": {},
   "outputs": [
    {
     "data": {
      "text/plain": [
       "Linus Torvalds           838200\n",
       "Hans Verkuil             118432\n",
       "Mauro Carvalho Chehab    102107\n",
       "Michael Chan              53945\n",
       "Mike Marciniszyn          44843\n",
       "Ralph Campbell            42453\n",
       "Nicholas Bellinger        41823\n",
       "Laurent Pinchart          40438\n",
       "Antti Palosaari           40390\n",
       "Alexander Duyck           39307\n",
       "Name: author, dtype: int64"
      ]
     },
     "execution_count": 5,
     "metadata": {},
     "output_type": "execute_result"
    }
   ],
   "source": [
    "top10 = blame_log.author.value_counts().head(10)\n",
    "top10"
   ]
  },
  {
   "cell_type": "code",
   "execution_count": 14,
   "metadata": {},
   "outputs": [
    {
     "data": {
      "image/png": "[encoded data removed]",
      "text/plain": [
       "<matplotlib.figure.Figure at 0x259bc697d68>"
      ]
     },
     "metadata": {},
     "output_type": "display_data"
    }
   ],
   "source": [
    "%matplotlib inline\n",
    "top10_authors.plot.pie();"
   ]
  },
  {
   "cell_type": "markdown",
   "metadata": {},
   "source": [
    "# No-Go Areas\n",
    "We want to find the components, where knowledge is probably outdated."
   ]
  },
  {
   "cell_type": "code",
   "execution_count": 7,
   "metadata": {},
   "outputs": [
    {
     "data": {
      "text/html": [
       "<div>\n",
       "<style scoped>\n",
       "    .dataframe tbody tr th:only-of-type {\n",
       "        vertical-align: middle;\n",
       "    }\n",
       "\n",
       "    .dataframe tbody tr th {\n",
       "        vertical-align: top;\n",
       "    }\n",
       "\n",
       "    .dataframe thead th {\n",
       "        text-align: right;\n",
       "    }\n",
       "</style>\n",
       "<table border=\"1\" class=\"dataframe\">\n",
       "  <thead>\n",
       "    <tr style=\"text-align: right;\">\n",
       "      <th></th>\n",
       "      <th>path</th>\n",
       "      <th>author</th>\n",
       "      <th>timestamp</th>\n",
       "      <th>line</th>\n",
       "    </tr>\n",
       "  </thead>\n",
       "  <tbody>\n",
       "    <tr>\n",
       "      <th>0</th>\n",
       "      <td>drivers/scsi/bfa/bfad_drv.h</td>\n",
       "      <td>Anil Gurumurthy</td>\n",
       "      <td>2015-11-26 08:54:45</td>\n",
       "      <td>1</td>\n",
       "    </tr>\n",
       "    <tr>\n",
       "      <th>1</th>\n",
       "      <td>drivers/scsi/bfa/bfad_drv.h</td>\n",
       "      <td>Anil Gurumurthy</td>\n",
       "      <td>2015-11-26 08:54:45</td>\n",
       "      <td>2</td>\n",
       "    </tr>\n",
       "    <tr>\n",
       "      <th>2</th>\n",
       "      <td>drivers/scsi/bfa/bfad_drv.h</td>\n",
       "      <td>Anil Gurumurthy</td>\n",
       "      <td>2015-11-26 08:54:45</td>\n",
       "      <td>3</td>\n",
       "    </tr>\n",
       "    <tr>\n",
       "      <th>3</th>\n",
       "      <td>drivers/scsi/bfa/bfad_drv.h</td>\n",
       "      <td>Jing Huang</td>\n",
       "      <td>2009-09-24 00:46:15</td>\n",
       "      <td>4</td>\n",
       "    </tr>\n",
       "    <tr>\n",
       "      <th>4</th>\n",
       "      <td>drivers/scsi/bfa/bfad_drv.h</td>\n",
       "      <td>Anil Gurumurthy</td>\n",
       "      <td>2015-11-26 08:54:45</td>\n",
       "      <td>5</td>\n",
       "    </tr>\n",
       "  </tbody>\n",
       "</table>\n",
       "</div>"
      ],
      "text/plain": [
       "                          path           author           timestamp  line\n",
       "0  drivers/scsi/bfa/bfad_drv.h  Anil Gurumurthy 2015-11-26 08:54:45     1\n",
       "1  drivers/scsi/bfa/bfad_drv.h  Anil Gurumurthy 2015-11-26 08:54:45     2\n",
       "2  drivers/scsi/bfa/bfad_drv.h  Anil Gurumurthy 2015-11-26 08:54:45     3\n",
       "3  drivers/scsi/bfa/bfad_drv.h       Jing Huang 2009-09-24 00:46:15     4\n",
       "4  drivers/scsi/bfa/bfad_drv.h  Anil Gurumurthy 2015-11-26 08:54:45     5"
      ]
     },
     "execution_count": 7,
     "metadata": {},
     "output_type": "execute_result"
    }
   ],
   "source": [
    "blame_log.timestamp = pd.to_datetime(blame_log.timestamp)\n",
    "blame_log.head()"
   ]
  },
  {
   "cell_type": "code",
   "execution_count": 8,
   "metadata": {},
   "outputs": [
    {
     "data": {
      "text/html": [
       "<div>\n",
       "<style scoped>\n",
       "    .dataframe tbody tr th:only-of-type {\n",
       "        vertical-align: middle;\n",
       "    }\n",
       "\n",
       "    .dataframe tbody tr th {\n",
       "        vertical-align: top;\n",
       "    }\n",
       "\n",
       "    .dataframe thead th {\n",
       "        text-align: right;\n",
       "    }\n",
       "</style>\n",
       "<table border=\"1\" class=\"dataframe\">\n",
       "  <thead>\n",
       "    <tr style=\"text-align: right;\">\n",
       "      <th></th>\n",
       "      <th>path</th>\n",
       "      <th>author</th>\n",
       "      <th>timestamp</th>\n",
       "      <th>line</th>\n",
       "      <th>age</th>\n",
       "    </tr>\n",
       "  </thead>\n",
       "  <tbody>\n",
       "    <tr>\n",
       "      <th>0</th>\n",
       "      <td>drivers/scsi/bfa/bfad_drv.h</td>\n",
       "      <td>Anil Gurumurthy</td>\n",
       "      <td>2015-11-26 08:54:45</td>\n",
       "      <td>1</td>\n",
       "      <td>1070 days 03:42:41.883875</td>\n",
       "    </tr>\n",
       "    <tr>\n",
       "      <th>1</th>\n",
       "      <td>drivers/scsi/bfa/bfad_drv.h</td>\n",
       "      <td>Anil Gurumurthy</td>\n",
       "      <td>2015-11-26 08:54:45</td>\n",
       "      <td>2</td>\n",
       "      <td>1070 days 03:42:41.883875</td>\n",
       "    </tr>\n",
       "    <tr>\n",
       "      <th>2</th>\n",
       "      <td>drivers/scsi/bfa/bfad_drv.h</td>\n",
       "      <td>Anil Gurumurthy</td>\n",
       "      <td>2015-11-26 08:54:45</td>\n",
       "      <td>3</td>\n",
       "      <td>1070 days 03:42:41.883875</td>\n",
       "    </tr>\n",
       "    <tr>\n",
       "      <th>3</th>\n",
       "      <td>drivers/scsi/bfa/bfad_drv.h</td>\n",
       "      <td>Jing Huang</td>\n",
       "      <td>2009-09-24 00:46:15</td>\n",
       "      <td>4</td>\n",
       "      <td>3324 days 11:51:11.883875</td>\n",
       "    </tr>\n",
       "    <tr>\n",
       "      <th>4</th>\n",
       "      <td>drivers/scsi/bfa/bfad_drv.h</td>\n",
       "      <td>Anil Gurumurthy</td>\n",
       "      <td>2015-11-26 08:54:45</td>\n",
       "      <td>5</td>\n",
       "      <td>1070 days 03:42:41.883875</td>\n",
       "    </tr>\n",
       "  </tbody>\n",
       "</table>\n",
       "</div>"
      ],
      "text/plain": [
       "                          path           author           timestamp  line  \\\n",
       "0  drivers/scsi/bfa/bfad_drv.h  Anil Gurumurthy 2015-11-26 08:54:45     1   \n",
       "1  drivers/scsi/bfa/bfad_drv.h  Anil Gurumurthy 2015-11-26 08:54:45     2   \n",
       "2  drivers/scsi/bfa/bfad_drv.h  Anil Gurumurthy 2015-11-26 08:54:45     3   \n",
       "3  drivers/scsi/bfa/bfad_drv.h       Jing Huang 2009-09-24 00:46:15     4   \n",
       "4  drivers/scsi/bfa/bfad_drv.h  Anil Gurumurthy 2015-11-26 08:54:45     5   \n",
       "\n",
       "                        age  \n",
       "0 1070 days 03:42:41.883875  \n",
       "1 1070 days 03:42:41.883875  \n",
       "2 1070 days 03:42:41.883875  \n",
       "3 3324 days 11:51:11.883875  \n",
       "4 1070 days 03:42:41.883875  "
      ]
     },
     "execution_count": 8,
     "metadata": {},
     "output_type": "execute_result"
    }
   ],
   "source": [
    "blame_log['age'] = pd.Timestamp('today') - blame_log.timestamp\n",
    "blame_log.head()"
   ]
  },
  {
   "cell_type": "code",
   "execution_count": 9,
   "metadata": {},
   "outputs": [
    {
     "data": {
      "text/html": [
       "<div>\n",
       "<style scoped>\n",
       "    .dataframe tbody tr th:only-of-type {\n",
       "        vertical-align: middle;\n",
       "    }\n",
       "\n",
       "    .dataframe tbody tr th {\n",
       "        vertical-align: top;\n",
       "    }\n",
       "\n",
       "    .dataframe thead th {\n",
       "        text-align: right;\n",
       "    }\n",
       "</style>\n",
       "<table border=\"1\" class=\"dataframe\">\n",
       "  <thead>\n",
       "    <tr style=\"text-align: right;\">\n",
       "      <th></th>\n",
       "      <th>path</th>\n",
       "      <th>author</th>\n",
       "      <th>timestamp</th>\n",
       "      <th>line</th>\n",
       "      <th>age</th>\n",
       "      <th>component</th>\n",
       "    </tr>\n",
       "  </thead>\n",
       "  <tbody>\n",
       "    <tr>\n",
       "      <th>0</th>\n",
       "      <td>drivers/scsi/bfa/bfad_drv.h</td>\n",
       "      <td>Anil Gurumurthy</td>\n",
       "      <td>2015-11-26 08:54:45</td>\n",
       "      <td>1</td>\n",
       "      <td>1070 days 03:42:41.883875</td>\n",
       "      <td>drivers:scsi</td>\n",
       "    </tr>\n",
       "    <tr>\n",
       "      <th>1</th>\n",
       "      <td>drivers/scsi/bfa/bfad_drv.h</td>\n",
       "      <td>Anil Gurumurthy</td>\n",
       "      <td>2015-11-26 08:54:45</td>\n",
       "      <td>2</td>\n",
       "      <td>1070 days 03:42:41.883875</td>\n",
       "      <td>drivers:scsi</td>\n",
       "    </tr>\n",
       "    <tr>\n",
       "      <th>2</th>\n",
       "      <td>drivers/scsi/bfa/bfad_drv.h</td>\n",
       "      <td>Anil Gurumurthy</td>\n",
       "      <td>2015-11-26 08:54:45</td>\n",
       "      <td>3</td>\n",
       "      <td>1070 days 03:42:41.883875</td>\n",
       "      <td>drivers:scsi</td>\n",
       "    </tr>\n",
       "    <tr>\n",
       "      <th>3</th>\n",
       "      <td>drivers/scsi/bfa/bfad_drv.h</td>\n",
       "      <td>Jing Huang</td>\n",
       "      <td>2009-09-24 00:46:15</td>\n",
       "      <td>4</td>\n",
       "      <td>3324 days 11:51:11.883875</td>\n",
       "      <td>drivers:scsi</td>\n",
       "    </tr>\n",
       "    <tr>\n",
       "      <th>4</th>\n",
       "      <td>drivers/scsi/bfa/bfad_drv.h</td>\n",
       "      <td>Anil Gurumurthy</td>\n",
       "      <td>2015-11-26 08:54:45</td>\n",
       "      <td>5</td>\n",
       "      <td>1070 days 03:42:41.883875</td>\n",
       "      <td>drivers:scsi</td>\n",
       "    </tr>\n",
       "  </tbody>\n",
       "</table>\n",
       "</div>"
      ],
      "text/plain": [
       "                          path           author           timestamp  line  \\\n",
       "0  drivers/scsi/bfa/bfad_drv.h  Anil Gurumurthy 2015-11-26 08:54:45     1   \n",
       "1  drivers/scsi/bfa/bfad_drv.h  Anil Gurumurthy 2015-11-26 08:54:45     2   \n",
       "2  drivers/scsi/bfa/bfad_drv.h  Anil Gurumurthy 2015-11-26 08:54:45     3   \n",
       "3  drivers/scsi/bfa/bfad_drv.h       Jing Huang 2009-09-24 00:46:15     4   \n",
       "4  drivers/scsi/bfa/bfad_drv.h  Anil Gurumurthy 2015-11-26 08:54:45     5   \n",
       "\n",
       "                        age     component  \n",
       "0 1070 days 03:42:41.883875  drivers:scsi  \n",
       "1 1070 days 03:42:41.883875  drivers:scsi  \n",
       "2 1070 days 03:42:41.883875  drivers:scsi  \n",
       "3 3324 days 11:51:11.883875  drivers:scsi  \n",
       "4 1070 days 03:42:41.883875  drivers:scsi  "
      ]
     },
     "execution_count": 9,
     "metadata": {},
     "output_type": "execute_result"
    }
   ],
   "source": [
    "blame_log['component'] = blame_log.path.str.split(\"/\").str[:2].str.join(\":\")\n",
    "blame_log.head()"
   ]
  },
  {
   "cell_type": "code",
   "execution_count": 10,
   "metadata": {},
   "outputs": [
    {
     "data": {
      "text/plain": [
       "component\n",
       "drivers:scsi   202 days 19:11:17.883875\n",
       "drivers:i2c    202 days 20:31:52.883875\n",
       "drivers:net    202 days 20:47:08.883875\n",
       "drivers:of     203 days 13:06:10.883875\n",
       "drivers:pci    203 days 16:53:05.883875\n",
       "Name: age, dtype: timedelta64[ns]"
      ]
     },
     "execution_count": 10,
     "metadata": {},
     "output_type": "execute_result"
    }
   ],
   "source": [
    "age_per_component = blame_log.groupby('component') \\\n",
    "    .age.min().sort_values()\n",
    "age_per_component.head()"
   ]
  },
  {
   "cell_type": "markdown",
   "metadata": {},
   "source": [
    "These are the oldest 10 components"
   ]
  },
  {
   "cell_type": "code",
   "execution_count": 11,
   "metadata": {},
   "outputs": [
    {
     "data": {
      "text/plain": [
       "component\n",
       "arch:ia64         2774 days 23:32:40.883875\n",
       "arch:unicore32    2803 days 23:16:08.883875\n",
       "drivers:char      2815 days 20:10:04.883875\n",
       "drivers:serial    2840 days 05:17:33.883875\n",
       "drivers:mfd       2863 days 14:14:54.883875\n",
       "include:scsi      3904 days 13:23:50.883875\n",
       "arch:i386         4042 days 05:12:54.883875\n",
       "drivers:usb       4199 days 07:39:57.883875\n",
       "include:asm-arm   4352 days 23:02:33.883875\n",
       "arch:sparc64      4647 days 01:44:42.883875\n",
       "Name: age, dtype: timedelta64[ns]"
      ]
     },
     "execution_count": 11,
     "metadata": {},
     "output_type": "execute_result"
    }
   ],
   "source": [
    "age_per_component.tail(10)"
   ]
  },
  {
   "cell_type": "markdown",
   "metadata": {},
   "source": [
    "For all components, we create an overview with a bar chart."
   ]
  },
  {
   "cell_type": "code",
   "execution_count": 13,
   "metadata": {},
   "outputs": [
    {
     "data": {
      "text/plain": [
       "<matplotlib.axes._subplots.AxesSubplot at 0x2593114db38>"
      ]
     },
     "execution_count": 13,
     "metadata": {},
     "output_type": "execute_result"
    },
    {
     "data": {
      "image/png": "[encoded data removed]",
      "text/plain": [
       "<matplotlib.figure.Figure at 0x2597fd69358>"
      ]
     },
     "metadata": {},
     "output_type": "display_data"
    }
   ],
   "source": [
    "age_per_component.plot.bar(figsize=[15,5])"
   ]
  },
  {
   "cell_type": "markdown",
   "metadata": {},
   "source": [
    "# Conclusion\n",
    "The components around old computer architectures are those with the oldest code parts and therefore our main no-go areas!"
   ]
  },
  {
   "cell_type": "markdown",
   "metadata": {},
   "source": [
    "# Next steps\n",
    "Find out in the next architecture circle if we still need those old code bases."
   ]
  }
 ],
 "metadata": {
  "kernelspec": {
   "display_name": "Python 3",
   "language": "python",
   "name": "python3"
  },
  "language_info": {
   "codemirror_mode": {
    "name": "ipython",
    "version": 3
   },
   "file_extension": ".py",
   "mimetype": "text/x-python",
   "name": "python",
   "nbconvert_exporter": "python",
   "pygments_lexer": "ipython3",
   "version": "3.6.4"
  }
 },
 "nbformat": 4,
 "nbformat_minor": 2
}
